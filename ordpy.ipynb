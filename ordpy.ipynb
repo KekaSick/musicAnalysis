{
 "cells": [
  {
   "cell_type": "markdown",
   "metadata": {},
   "source": [
    "# Imports"
   ]
  },
  {
   "cell_type": "code",
   "execution_count": 46,
   "metadata": {},
   "outputs": [],
   "source": [
    "import os\n",
    "import glob\n",
    "import math\n",
    "import numpy as np\n",
    "import pandas as pd\n",
    "import ordpy\n",
    "from scipy.io import wavfile\n",
    "from tqdm import tqdm\n",
    "import librosa\n",
    "import matplotlib.pyplot as plt\n",
    "import plotly.express as px\n",
    "import plotly.graph_objects as go\n",
    "from plotly.subplots import make_subplots\n",
    "import logging\n",
    "import warnings\n",
    "from scipy.io.wavfile import WavFileWarning\n",
    "from scipy.spatial import ConvexHull\n",
    "from scipy.spatial import Delaunay\n",
    "# Import shapely modules for geometry operations\n",
    "import shapely.geometry as geometry\n",
    "from shapely.ops import polygonize, unary_union\n",
    "\n"
   ]
  },
  {
   "cell_type": "markdown",
   "metadata": {},
   "source": [
    "# Logger\n"
   ]
  },
  {
   "cell_type": "code",
   "execution_count": 47,
   "metadata": {},
   "outputs": [],
   "source": [
    "logger = logging.getLogger(\"audio_process\")\n",
    "logger.setLevel(logging.DEBUG)\n",
    "\n",
    "# Clear existing handlers to avoid duplicates\n",
    "if logger.hasHandlers():\n",
    "    logger.handlers.clear()\n",
    "\n",
    "# File Handler: Write all messages (DEBUG and above) to a log file.\n",
    "fh = logging.FileHandler(\"process.log\", mode='w')\n",
    "fh.setLevel(logging.DEBUG)\n",
    "fh_formatter = logging.Formatter('%(asctime)s - %(levelname)s - %(message)s')\n",
    "fh.setFormatter(fh_formatter)\n",
    "logger.addHandler(fh)\n",
    "\n",
    "# Console Handler: Only show INFO and above on the console.\n",
    "ch = logging.StreamHandler()\n",
    "ch.setLevel(logging.WARNING)\n",
    "ch_formatter = logging.Formatter('%(message)s')\n",
    "ch.setFormatter(ch_formatter)\n",
    "logger.addHandler(ch)\n",
    "\n",
    "# Ignore metadata from scipy.wavfile\n",
    "warnings.filterwarnings(\"ignore\", category=WavFileWarning)"
   ]
  },
  {
   "cell_type": "markdown",
   "metadata": {},
   "source": [
    "# Create entropy complexity with ordpy\n"
   ]
  },
  {
   "cell_type": "code",
   "execution_count": 48,
   "metadata": {},
   "outputs": [],
   "source": [
    "def ordpy_process_file(file_path, dim_size, hop_size):\n",
    "    ext = os.path.splitext(file_path)[1].lower()\n",
    "    if ext == '.mp3':\n",
    "        # Load mp3 using librosa.\n",
    "        # sr=None preserves the native sampling rate.\n",
    "        data, sr = librosa.load(file_path, sr=None, mono=True)\n",
    "        logger.info(f\"Processing MP3 '{file_path}' with sample rate: {sr}\")\n",
    "    elif ext == '.wav':\n",
    "        sr, data = wavfile.read(file_path)\n",
    "        logger.info(f\"Processing WAV '{file_path}' with sample rate: {sr}\")\n",
    "        # If stereo, convert to mono by averaging channels.\n",
    "        if data.ndim == 2:\n",
    "            data = data.mean(axis=1)\n",
    "    else:\n",
    "        logger.error(f\"Unsupported file extension: {ext}\")\n",
    "        raise ValueError(f\"Unsupported file extension: {ext}\")\n",
    "    \n",
    "    \n",
    "    HC = ordpy.complexity_entropy(data, dim_size, hop_size)\n",
    "    return HC\n",
    "\n",
    "\n",
    "def ordpy_process_folder(folder_path, dim_size=6, hop_size=1):\n",
    "    wav_files = glob.glob(os.path.join(folder_path, \"*.wav\"))\n",
    "    mp3_files = glob.glob(os.path.join(folder_path, \"*.mp3\"))\n",
    "    all_files = wav_files + mp3_files\n",
    "    \n",
    "    if not all_files:\n",
    "        logger.info(f\"No audio files found in {folder_path}\")\n",
    "        return [], [], []\n",
    "    \n",
    "    all_H = []\n",
    "    all_comp = []\n",
    "    file_labels = []\n",
    "    \n",
    "    # Use tqdm to add a progress bar over the file list.\n",
    "    for file_path in tqdm(all_files, desc=f\"Processing audio files in {folder_path} with dim {dim_size} and hop {hop_size}\"):\n",
    "        try:\n",
    "            H_norm, comp = ordpy_process_file(file_path, dim_size, hop_size)\n",
    "            all_H.append(H_norm)\n",
    "            all_comp.append(comp)\n",
    "            file_labels.append(os.path.basename(file_path))\n",
    "        except Exception as e:\n",
    "            logger.exception(f\"Error processing file {file_path}: {e}\")\n",
    "    \n",
    "    return all_H, all_comp, file_labels"
   ]
  },
  {
   "cell_type": "markdown",
   "metadata": {},
   "source": [
    "# Scatter with Entropy Complexity for one folder"
   ]
  },
  {
   "cell_type": "code",
   "execution_count": 49,
   "metadata": {},
   "outputs": [],
   "source": [
    "\n",
    "def plot_graph_ordpy(folder_path, dim, hop, folder=\"plots\"):\n",
    "    logger.info(f\"Processing folder {folder_path}\")\n",
    "    \n",
    "    # Process the folder to get entropy, complexity, and file labels.\n",
    "    all_H, all_comp, file_labels = ordpy_process_folder(folder_path, dim, hop)\n",
    "    df = pd.DataFrame({\n",
    "        \"Normalized Permutation Entropy\": all_H,\n",
    "        \"Normalized Complexity\": all_comp,\n",
    "        \"File\": file_labels\n",
    "    })\n",
    "\n",
    "    # Get the maximum and minimum complexity-entropy boundaries as numpy arrays\n",
    "    max_HC = ordpy.maximum_complexity_entropy(dim, hop)\n",
    "    min_HC = ordpy.minimum_complexity_entropy(dim, hop)\n",
    "\n",
    "    # -------------------------\n",
    "    # Matplotlib Plot Section\n",
    "    # -------------------------\n",
    "    plt.figure(figsize=(8, 6))\n",
    "    # Plot the data points without text labels.\n",
    "    plt.scatter(df[\"Normalized Permutation Entropy\"],\n",
    "                df[\"Normalized Complexity\"],\n",
    "                s=70,\n",
    "                c='blue',\n",
    "                edgecolors='black')\n",
    "\n",
    "    # Plot the maximum and minimum complexity boundaries if available.\n",
    "    if isinstance(max_HC, np.ndarray) and max_HC.ndim == 2 and max_HC.shape[1] == 2:\n",
    "        plt.plot(max_HC[:, 0], max_HC[:, 1], 'r--', label='Maximum Complexity Boundary')\n",
    "    else:\n",
    "        logger.warning(\"max_HC is not in the expected numpy array format.\")\n",
    "\n",
    "    if isinstance(min_HC, np.ndarray) and min_HC.ndim == 2 and min_HC.shape[1] == 2:\n",
    "        plt.plot(min_HC[:, 0], min_HC[:, 1], 'g--', label='Minimum Complexity Boundary')\n",
    "    else:\n",
    "        logger.warning(\"min_HC is not in the expected numpy array format.\")\n",
    "\n",
    "    plt.xlabel(\"Normalized Permutation Entropy\")\n",
    "    plt.ylabel(\"Normalized Complexity\")\n",
    "    plt.title(f\"Entropy–Complexity for {folder_path}\\nDim = '{dim}', Hop = '{hop}'\")\n",
    "    plt.xlim(0, 1)\n",
    "    plt.ylim(0, 1)\n",
    "    plt.grid(True, alpha=0.3)\n",
    "    plt.gca().set_aspect('equal', adjustable='box')\n",
    "    plt.legend()\n",
    "    plt.tight_layout()\n",
    "\n",
    "    output_dir = os.path.join(folder, os.path.basename(folder_path))\n",
    "    os.makedirs(output_dir, exist_ok=True)\n",
    "    output_file = os.path.join(output_dir, f\"entropy_complexity_{os.path.basename(folder_path)}_dim_{dim}_hop_{hop}.png\")\n",
    "    plt.savefig(output_file)\n",
    "    plt.close()\n",
    "    logger.info(f\"Saved Matplotlib plot to {output_file}\")\n",
    "\n",
    "    # -------------------------\n",
    "    # Plotly Plot Section\n",
    "    # -------------------------\n",
    "    fig = go.Figure()\n",
    "\n",
    "    # Add the data points as markers only. The file labels will appear when hovering.\n",
    "    fig.add_trace(go.Scatter(\n",
    "        x=df[\"Normalized Permutation Entropy\"],\n",
    "        y=df[\"Normalized Complexity\"],\n",
    "        mode='markers',  # Only markers, no text labels on the plot.\n",
    "        marker=dict(size=10, color='blue', line=dict(width=1, color='black')),\n",
    "        name='Data Points',\n",
    "        hovertext=df[\"File\"],\n",
    "        hovertemplate=(\n",
    "            \"<b>File:</b> %{hovertext}<br>\" +\n",
    "            \"<b>Entropy:</b> %{x}<br>\" +\n",
    "            \"<b>Complexity:</b> %{y}<extra></extra>\"\n",
    "        )\n",
    "    ))\n",
    "\n",
    "    # Add the maximum complexity boundary line if available.\n",
    "    if isinstance(max_HC, np.ndarray) and max_HC.ndim == 2 and max_HC.shape[1] == 2:\n",
    "        fig.add_trace(go.Scatter(\n",
    "            x=max_HC[:, 0],\n",
    "            y=max_HC[:, 1],\n",
    "            mode='lines',\n",
    "            line=dict(color='red', dash='dash'),\n",
    "            name='Maximum Complexity Boundary'\n",
    "        ))\n",
    "    else:\n",
    "        logger.warning(\"max_HC is not in the expected numpy array format.\")\n",
    "\n",
    "    # Add the minimum complexity boundary line if available.\n",
    "    if isinstance(min_HC, np.ndarray) and min_HC.ndim == 2 and min_HC.shape[1] == 2:\n",
    "        fig.add_trace(go.Scatter(\n",
    "            x=min_HC[:, 0],\n",
    "            y=min_HC[:, 1],\n",
    "            mode='lines',\n",
    "            line=dict(color='green', dash='dash'),\n",
    "            name='Minimum Complexity Boundary'\n",
    "        ))\n",
    "    else:\n",
    "        logger.warning(\"min_HC is not in the expected numpy array format.\")\n",
    "\n",
    "    # Update layout settings for the Plotly figure.\n",
    "    fig.update_layout(\n",
    "        title=f\"Entropy–Complexity for {folder_path} (Plotly)\\nDim = '{dim}', Hop = '{hop}'\",\n",
    "        xaxis_title=\"Normalized Permutation Entropy\",\n",
    "        yaxis_title=\"Normalized Complexity\",\n",
    "        xaxis=dict(range=[0, 1]),\n",
    "        yaxis=dict(range=[0, 1]),\n",
    "        width=800,\n",
    "        height=600,\n",
    "        template=\"plotly_white\"\n",
    "    )\n",
    "\n",
    "\n",
    "    fig.show()"
   ]
  },
  {
   "cell_type": "markdown",
   "metadata": {},
   "source": [
    "# Centroids"
   ]
  },
  {
   "cell_type": "code",
   "execution_count": 50,
   "metadata": {},
   "outputs": [],
   "source": [
    "def plot_graph_ordpy_centroids(main_folder_path, dim, hop):\n",
    "    centroids = []\n",
    "\n",
    "    # Iterate over all items in the main folder\n",
    "    for item in os.listdir(main_folder_path):\n",
    "        subfolder_path = os.path.join(main_folder_path, item)\n",
    "        if os.path.isdir(subfolder_path):\n",
    "            logger.info(f\"Processing folder: {subfolder_path}\")\n",
    "            try:\n",
    "                # Process the folder and obtain entropy, complexity, and file labels.\n",
    "                all_H, all_comp, file_labels = ordpy_process_folder(subfolder_path, dim, hop)\n",
    "                \n",
    "                # Skip folders with no valid data\n",
    "                if len(all_H) == 0 or len(all_comp) == 0:\n",
    "                    logger.warning(f\"No data found in {subfolder_path}. Skipping.\")\n",
    "                    continue\n",
    "\n",
    "                # Compute centroid (mean entropy and complexity)\n",
    "                centroid_H = np.mean(all_H)\n",
    "                centroid_comp = np.mean(all_comp)\n",
    "\n",
    "                centroids.append({\n",
    "                    \"Folder\": item,  # use subfolder name as identifier\n",
    "                    \"Normalized Permutation Entropy\": centroid_H,\n",
    "                    \"Normalized Complexity\": centroid_comp\n",
    "                })\n",
    "            except Exception as e:\n",
    "                logger.error(f\"Error processing {subfolder_path}: {e}\")\n",
    "                continue\n",
    "\n",
    "    # If no centroids were computed, log an error and exit.\n",
    "    if not centroids:\n",
    "        logger.error(\"No centroids were computed. Please check your data and folder structure.\")\n",
    "        return\n",
    "\n",
    "    # Create a DataFrame from the centroids list\n",
    "    df_centroids = pd.DataFrame(centroids)\n",
    "    logger.info(f\"Centroids DataFrame:\\n{df_centroids}\")\n",
    "\n",
    "    # Retrieve the maximum and minimum complexity–entropy boundaries.\n",
    "    # They are expected to be NumPy arrays with shape (n_points, 2)\n",
    "    max_HC = ordpy.maximum_complexity_entropy(dim, hop)\n",
    "    min_HC = ordpy.minimum_complexity_entropy(dim, hop)\n",
    "\n",
    "    # Create a Plotly figure\n",
    "    fig = go.Figure()\n",
    "\n",
    "    # Add the centroid points.\n",
    "    # If you expect only one centroid per folder, grouping by \"Folder\" is acceptable.\n",
    "    # Each folder will be assigned a unique color.\n",
    "    for folder, df_group in df_centroids.groupby(\"Folder\"):\n",
    "        fig.add_trace(go.Scatter(\n",
    "            x=df_group[\"Normalized Permutation Entropy\"],\n",
    "            y=df_group[\"Normalized Complexity\"],\n",
    "            mode='markers',\n",
    "            marker=dict(size=12, line=dict(width=1, color='black')),\n",
    "            name=folder,\n",
    "            hovertemplate=(\n",
    "                \"<b>Folder:</b> \" + folder + \"<br>\" +\n",
    "                \"<b>Entropy:</b> %{x}<br>\" +\n",
    "                \"<b>Complexity:</b> %{y}<extra></extra>\"\n",
    "            )\n",
    "        ))\n",
    "\n",
    "    # Add the maximum complexity boundary as a red dashed line if available.\n",
    "    if isinstance(max_HC, np.ndarray) and max_HC.ndim == 2 and max_HC.shape[1] == 2:\n",
    "        fig.add_trace(go.Scatter(\n",
    "            x=max_HC[:, 0],\n",
    "            y=max_HC[:, 1],\n",
    "            mode='lines',\n",
    "            line=dict(color='red', dash='dash'),\n",
    "            name='Maximum Complexity Boundary'\n",
    "        ))\n",
    "    else:\n",
    "        logger.warning(\"max_HC is not in the expected numpy array format.\")\n",
    "\n",
    "    # Add the minimum complexity boundary as a green dashed line if available.\n",
    "    if isinstance(min_HC, np.ndarray) and min_HC.ndim == 2 and min_HC.shape[1] == 2:\n",
    "        fig.add_trace(go.Scatter(\n",
    "            x=min_HC[:, 0],\n",
    "            y=min_HC[:, 1],\n",
    "            mode='lines',\n",
    "            line=dict(color='green', dash='dash'),\n",
    "            name='Minimum Complexity Boundary'\n",
    "        ))\n",
    "    else:\n",
    "        logger.warning(\"min_HC is not in the expected numpy array format.\")\n",
    "\n",
    "    # Update layout settings for the figure\n",
    "    fig.update_layout(\n",
    "        title=f\"Centroids of Entropy–Complexity for Folders in '{os.path.basename(main_folder_path)}' (Dim={dim}, Hop={hop})\",\n",
    "        xaxis_title=\"Normalized Permutation Entropy\",\n",
    "        yaxis_title=\"Normalized Complexity\",\n",
    "        xaxis=dict(range=[0, 1]),\n",
    "        yaxis=dict(range=[0, 1]),\n",
    "        template=\"plotly_white\",\n",
    "        width=800,\n",
    "        height=600\n",
    "    )\n",
    "\n",
    "    # Show the Plotly figure\n",
    "    fig.show()\n",
    "\n",
    "\n",
    "    "
   ]
  },
  {
   "cell_type": "markdown",
   "metadata": {},
   "source": [
    "# Centroids with regions"
   ]
  },
  {
   "cell_type": "code",
   "execution_count": 51,
   "metadata": {},
   "outputs": [],
   "source": [
    "def add_opacity_to_color(color_string, opacity):\n",
    "    \"\"\"\n",
    "    Converts a color string from hex (e.g. \"#1f77b4\") or rgb(...) format to an RGBA string with given opacity.\n",
    "    \"\"\"\n",
    "    # If color is in hex format, convert it to RGB first.\n",
    "    if color_string.startswith(\"#\"):\n",
    "        color_string = color_string.lstrip(\"#\")\n",
    "        lv = len(color_string)\n",
    "        r, g, b = tuple(int(color_string[i:i + lv // 3], 16) for i in range(0, lv, lv // 3))\n",
    "        return f\"rgba({r}, {g}, {b}, {opacity})\"\n",
    "    # If color is in rgb(...) format, just adjust the opacity.\n",
    "    if color_string.startswith(\"rgb(\"):\n",
    "        rgb_vals = color_string[4:-1]\n",
    "        r, g, b = [int(v.strip()) for v in rgb_vals.split(\",\")]\n",
    "        return f\"rgba({r}, {g}, {b}, {opacity})\"\n",
    "    return color_string\n",
    "\n",
    "def alpha_shape(points, alpha=1.0):\n",
    "    \"\"\"\n",
    "    Compute the alpha shape (concave hull) of a set of points.\n",
    "    \n",
    "    Parameters:\n",
    "        points (np.ndarray): An array of shape (n_points, 2).\n",
    "        alpha (float): Alpha value to influence the concavity. Smaller values result in a more detailed (less smooth)\n",
    "                       shape. Adjust this parameter to suit your data.\n",
    "    \n",
    "    Returns:\n",
    "        shapely.geometry.Polygon: The resulting concave hull as a shapely Polygon.\n",
    "                                  If not enough points are provided, returns the convex hull.\n",
    "    \"\"\"\n",
    "    if len(points) < 4:\n",
    "        return geometry.MultiPoint(list(points)).convex_hull\n",
    "\n",
    "    # Perform Delaunay triangulation on the point set.\n",
    "    tri = Delaunay(points)\n",
    "    edges = []\n",
    "    for ia, ib, ic in tri.simplices:\n",
    "        pa = points[ia]\n",
    "        pb = points[ib]\n",
    "        pc = points[ic]\n",
    "        # Compute lengths of triangle sides.\n",
    "        a = np.linalg.norm(pa - pb)\n",
    "        b = np.linalg.norm(pb - pc)\n",
    "        c = np.linalg.norm(pc - pa)\n",
    "        s = (a + b + c) / 2.0\n",
    "        # Compute triangle area via Heron’s formula.\n",
    "        area = math.sqrt(s * (s - a) * (s - b) * (s - c))\n",
    "        # Avoid division by zero.\n",
    "        if area == 0:\n",
    "            circum_r = np.inf\n",
    "        else:\n",
    "            circum_r = a * b * c / (4.0 * area)\n",
    "        # If the circumradius is below a threshold, include the triangle’s edges.\n",
    "        if circum_r < 1.0 / alpha:\n",
    "            edges.append((ia, ib))\n",
    "            edges.append((ib, ic))\n",
    "            edges.append((ic, ia))\n",
    "    \n",
    "    # Build a set of line segments from the edges.\n",
    "    edge_segments = [ (points[i], points[j]) for i, j in edges ]\n",
    "    m = geometry.MultiLineString(edge_segments)\n",
    "    # Polygonize the edge segments to form candidate polygons.\n",
    "    triangles = list(polygonize(m))\n",
    "    # Merge the triangles into a single (possibly concave) polygon.\n",
    "    concave_hull = unary_union(triangles)\n",
    "    return concave_hull\n",
    "\n",
    "def plot_graph_ordpy_centroids_with_region(main_folder_path, dim, hop):\n",
    "    \"\"\"\n",
    "    Process each subfolder in the main folder, compute the centroid (mean) of \n",
    "    normalized permutation entropy and complexity for each folder, and plot them \n",
    "    as a filled region (using an alpha shape / concave hull that follows the data more closely)\n",
    "    along with the centroid marker. Different folders are assigned different colors.\n",
    "    The maximum and minimum complexity–entropy boundaries are also plotted.\n",
    "    \n",
    "    Parameters:\n",
    "        main_folder_path (str): Path to the folder containing subfolders.\n",
    "        dim (int): Embedding dimension for ordpy.\n",
    "        hop (int): Delay (or hop) parameter for ordpy.\n",
    "    \"\"\"\n",
    "    # Dictionary to store per-folder data.\n",
    "    folder_data = {}\n",
    "\n",
    "    # Iterate over all items (subfolders) in the main folder.\n",
    "    for item in os.listdir(main_folder_path):\n",
    "        subfolder_path = os.path.join(main_folder_path, item)\n",
    "        if os.path.isdir(subfolder_path):\n",
    "            logger.info(f\"Processing folder: {subfolder_path}\")\n",
    "            try:\n",
    "                # Process the folder and obtain entropy, complexity, and file labels.\n",
    "                all_H, all_comp, file_labels = ordpy_process_folder(subfolder_path, dim, hop)\n",
    "                \n",
    "                # Skip folders with no valid data.\n",
    "                if len(all_H) == 0 or len(all_comp) == 0:\n",
    "                    logger.warning(f\"No data found in {subfolder_path}. Skipping.\")\n",
    "                    continue\n",
    "\n",
    "                # Compute centroid (mean entropy and complexity).\n",
    "                centroid_H = np.mean(all_H)\n",
    "                centroid_comp = np.mean(all_comp)\n",
    "\n",
    "                # Save data points and the centroid.\n",
    "                folder_data[item] = {\n",
    "                    \"H\": np.array(all_H),\n",
    "                    \"comp\": np.array(all_comp),\n",
    "                    \"centroid_H\": centroid_H,\n",
    "                    \"centroid_comp\": centroid_comp\n",
    "                }\n",
    "            except Exception as e:\n",
    "                logger.error(f\"Error processing {subfolder_path}: {e}\")\n",
    "                continue\n",
    "\n",
    "    # If no data was collected, exit.\n",
    "    if not folder_data:\n",
    "        logger.error(\"No centroids were computed. Please check your data and folder structure.\")\n",
    "        return\n",
    "\n",
    "    # Retrieve the maximum and minimum complexity–entropy boundaries.\n",
    "    # They are expected to be NumPy arrays with shape (n_points, 2)\n",
    "    max_HC = ordpy.maximum_complexity_entropy(dim, hop)\n",
    "    min_HC = ordpy.minimum_complexity_entropy(dim, hop)\n",
    "\n",
    "    # Get a color palette (using Plotly's qualitative palette).\n",
    "    colors = px.colors.qualitative.Plotly\n",
    "    color_map = {}\n",
    "    folder_list = sorted(list(folder_data.keys()))\n",
    "    for i, folder in enumerate(folder_list):\n",
    "        color_map[folder] = colors[i % len(colors)]\n",
    "\n",
    "    # Create a Plotly figure.\n",
    "    fig = go.Figure()\n",
    "\n",
    "    # Define an alpha parameter for the alpha shape.\n",
    "    alpha_param = 1.0  # Adjust this value as needed for more or less detail\n",
    "\n",
    "    # For each folder, add a filled region (using the alpha shape) and the centroid marker.\n",
    "    for folder, data in folder_data.items():\n",
    "        points = np.column_stack((data[\"H\"], data[\"comp\"]))\n",
    "        color = color_map[folder]\n",
    "        # Create a low-opacity fill color.\n",
    "        fill_color = add_opacity_to_color(color, 0.1)\n",
    "        \n",
    "        try:\n",
    "            # Compute the alpha shape (concave hull) for the points.\n",
    "            concave_hull = alpha_shape(points, alpha=alpha_param)\n",
    "            # If a valid polygon is returned, extract its exterior coordinates.\n",
    "            if concave_hull.geom_type == 'Polygon':\n",
    "                hull_coords = np.array(concave_hull.exterior.coords)\n",
    "                fig.add_trace(go.Scatter(\n",
    "                    x=hull_coords[:, 0],\n",
    "                    y=hull_coords[:, 1],\n",
    "                    mode='lines',\n",
    "                    fill='toself',\n",
    "                    fillcolor=fill_color,\n",
    "                    line=dict(color=add_opacity_to_color(color, 0.1), width=2),\n",
    "                    name=f\"{folder} region\",\n",
    "                    showlegend=False,\n",
    "                    hoverinfo='skip'\n",
    "                ))\n",
    "            else:\n",
    "                # Fallback: if not a polygon, plot the points as low-opacity markers.\n",
    "                fig.add_trace(go.Scatter(\n",
    "                    x=data[\"H\"],\n",
    "                    y=data[\"comp\"],\n",
    "                    mode='markers',\n",
    "                    marker=dict(color=color, opacity=0.1),\n",
    "                    name=f\"{folder} region\",\n",
    "                    showlegend=False,\n",
    "                    hoverinfo='skip'\n",
    "                ))\n",
    "        except Exception as e:\n",
    "            logger.error(f\"Could not compute alpha shape for folder {folder}: {e}\")\n",
    "            # Fallback: simply scatter the points with low opacity.\n",
    "            fig.add_trace(go.Scatter(\n",
    "                x=data[\"H\"],\n",
    "                y=data[\"comp\"],\n",
    "                mode='markers',\n",
    "                marker=dict(color=color, opacity=0.1),\n",
    "                name=f\"{folder} region\",\n",
    "                showlegend=False,\n",
    "                hoverinfo='skip'\n",
    "            ))\n",
    "            \n",
    "        # Add the centroid as a marker (using the same color).\n",
    "        fig.add_trace(go.Scatter(\n",
    "            x=[data[\"centroid_H\"]],\n",
    "            y=[data[\"centroid_comp\"]],\n",
    "            mode='markers',\n",
    "            marker=dict(color=color, size=12, symbol='circle'),\n",
    "            name=folder,\n",
    "            hovertemplate=(\n",
    "                f\"<b>Folder:</b> {folder}<br>\" +\n",
    "                \"<b>Centroid Entropy:</b> %{x}<br>\" +\n",
    "                \"<b>Centroid Complexity:</b> %{y}<extra></extra>\"\n",
    "            )\n",
    "        ))\n",
    "\n",
    "    # Add the maximum complexity boundary as a red dashed line if available.\n",
    "    if isinstance(max_HC, np.ndarray) and max_HC.ndim == 2 and max_HC.shape[1] == 2:\n",
    "        fig.add_trace(go.Scatter(\n",
    "            x=max_HC[:, 0],\n",
    "            y=max_HC[:, 1],\n",
    "            mode='lines',\n",
    "            line=dict(color='red', dash='dash'),\n",
    "            name='Maximum Complexity Boundary'\n",
    "        ))\n",
    "    else:\n",
    "        logger.warning(\"max_HC is not in the expected numpy array format.\")\n",
    "\n",
    "    # Add the minimum complexity boundary as a green dashed line if available.\n",
    "    if isinstance(min_HC, np.ndarray) and min_HC.ndim == 2 and min_HC.shape[1] == 2:\n",
    "        fig.add_trace(go.Scatter(\n",
    "            x=min_HC[:, 0],\n",
    "            y=min_HC[:, 1],\n",
    "            mode='lines',\n",
    "            line=dict(color='green', dash='dash'),\n",
    "            name='Minimum Complexity Boundary'\n",
    "        ))\n",
    "    else:\n",
    "        logger.warning(\"min_HC is not in the expected numpy array format.\")\n",
    "\n",
    "    # Update layout settings for the figure.\n",
    "    fig.update_layout(\n",
    "        title=f\"Entropy–Complexity Regions for Folders in '{os.path.basename(main_folder_path)}' (Dim={dim}, Hop={hop})\",\n",
    "        xaxis_title=\"Normalized Permutation Entropy\",\n",
    "        yaxis_title=\"Normalized Complexity\",\n",
    "        xaxis=dict(range=[0, 1]),\n",
    "        yaxis=dict(range=[0, 1]),\n",
    "        template=\"plotly_white\",\n",
    "        width=800,\n",
    "        height=600\n",
    "    )\n",
    "\n",
    "    # Show the Plotly figure.\n",
    "    fig.show()"
   ]
  },
  {
   "cell_type": "markdown",
   "metadata": {},
   "source": [
    "# Plots"
   ]
  },
  {
   "cell_type": "code",
   "execution_count": 52,
   "metadata": {},
   "outputs": [
    {
     "name": "stderr",
     "output_type": "stream",
     "text": [
      "Processing audio files in data/SinAndNoise with dim 6 and hop 1: 100%|██████████| 18/18 [00:07<00:00,  2.37it/s]\n"
     ]
    },
    {
     "data": {
      "application/vnd.plotly.v1+json": {
       "config": {
        "plotlyServerURL": "https://plot.ly"
       },
       "data": [
        {
         "hovertemplate": "<b>File:</b> %{hovertext}<br><b>Entropy:</b> %{x}<br><b>Complexity:</b> %{y}<extra></extra>",
         "hovertext": [
          "sin_20Hz_-3dBFS_3s.wav",
          "violetnoise.wav",
          "sin_20000Hz_-3dBFS_3s.wav",
          "sin_880Hz_-3dBFS_3s.wav",
          "brownnoise.wav",
          "sin_16000Hz_-3dBFS_3s.wav",
          "bluenoise.wav",
          "sin_2000Hz_-3dBFS_3s.wav",
          "sin_440Hz_-3dBFS_3s.wav",
          "sin_1000Hz_-3dBFS_3s.wav",
          "sin_100Hz_-3dBFS_3s.wav",
          "sin_220Hz_-3dBFS_3s.wav",
          "sin_8000Hz_-3dBFS_3s.wav",
          "sin_1Hz_-3dBFS_3s.wav",
          "sin_10Hz_-3dBFS_3s.wav",
          "whitenoisegaussian.wav",
          "sin_22000Hz_-3dBFS_3s.wav",
          "pinknoise.wav"
         ],
         "marker": {
          "color": "blue",
          "line": {
           "color": "black",
           "width": 1
          },
          "size": 10
         },
         "mode": "markers",
         "name": "Data Points",
         "type": "scatter",
         "x": {
          "bdata": "F3eaPDqqvD8kIoLVV9XuP05Gjkpztts/5in4pWZ8zD8qhpPpvHTrP5tn/6HAkts/erRj48e47z+/sBrjb3TUP+75CQgjIcY/5XJ/LK4Kzj8sylNBjny/P4EY2QXFW8I/IGYab7Sh2z/NDqnOsTTGPxbLrtnM0r0/noncNB//7z+2VTQZaLrMP1/hfGst3+4/",
          "dtype": "f8"
         },
         "y": {
          "bdata": "XNMw+Zk6vD/pwIz7r961P+XXC8qgkdk/GFh/gHPryj9dSob6lrjNPzuWhRErbtk/OuVMjBi6lT/8WpIevxTTPx4ck5NxIsU/ViL6fkhUzD/dKj9WoNe+P9ARhGeQtME/B/SJLVl92T9Wo8rY6RHFP1tgywFWN70/P1615dbLMD/UGTIg69/LP8sqHcdyZbM/",
          "dtype": "f8"
         }
        },
        {
         "line": {
          "color": "red",
          "dash": "dash"
         },
         "mode": "lines",
         "name": "Maximum Complexity Boundary",
         "type": "scatter",
         "x": {
          "bdata": "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",
          "dtype": "f8"
         },
         "y": {
          "bdata": "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",
          "dtype": "f8"
         }
        },
        {
         "line": {
          "color": "green",
          "dash": "dash"
         },
         "mode": "lines",
         "name": "Minimum Complexity Boundary",
         "type": "scatter",
         "x": {
          "bdata": "AAAAAAAAAICaxf+16xqTP+jVhP1KAqI/vUTdi+gLqj/86nM1k+ewP8K3yY7ArrQ/p554aKFguD/uL+sCmwC8PzAUmEQWkb8/OC9Izu+JwT9fJ6LWLUXDP9zCdlXT+sQ/w/gEHFSrxj8NvFFLEFfIP6qV/uFY/sk/NbM6+3Khyz8sJAsvmkDNP7DF0VkC3M4/1TEXfOw50D9Eo50aIwTRP2yQ0d+2zNE/cXTxubeT0j+olffyM1nTP1t01Gg4HdQ/9H3Ou9Df1D86qBR1B6HVP9wYEyfmYNY/6J68iHUf1z8jY7eMvdzXP+DxJ3XFmNg/K+Ku5JNT2T+Dkg/tLg3aP45i3xucxdo/e8qKheB82z/HfO/OADPcP7hzvzUB6Nw/PsHXl+Wb3T86q655sU7eP6iv9gtoAN8/nDCPMAyx3z9Pw2s/UDDgP4fyuqOTh+A/ylnQS1He4D+2U/sdijThPz/0d+E+iuE/Qmx4P3Df4T8RywLEHjTiP6MEpt5KiOI/1I4I4/Tb4j9mYlIJHS/jP3Kyc27DgeM/hzlJFOjT4z/jjp7hiiXkP/qKDqKrduQ/+FfBBUrH5D/zXQehZRflP7HIz+v9ZuU/h+v4QBK25T8VRHjdoQTmP8xKV9+rUuY/IZyBRC+g5j94S2DpKu3mP6RZPYedOec/N09psoWF5z+X1RvY4dDnP/fNBjywG+g/48WR9e5l6D84trHsm6/oP9ubTta0+Og/1pYlMDdB6T+zsRI8IInpP7wOqfps0Ok//L/6JBoX6j81rmolJF3qP6I6Wg+Houo/yCN5lT7n6j+L1W/+RSvrP0CTiReYbus/5ELrJC+x6z99ysLOBPPrP0yqrgoSNOw/q/lgAE907D/z+SzosrPsPzkUuOEz8uw/IStdwMYv7T9YSNjJXmztPxjoW2Ltp+0/YoL0nmHi7T99rZWzpxvuP30tZSyoU+4/3roJ2EaK7j+hR1o3Yb/uPwiMLibM8u4/5bjgL1Ak7z8p/rF0o1PvP1Omz7BegO8/zKz4ROep7z8Ha0uLO8/vP00Cx0hS7u8/AAAAAAAA8D8=",
          "dtype": "f8"
         },
         "y": {
          "bdata": "AAAAAAAAAIDM4Y+YJlKSP3cLBINQtqA/J6zO+G52pz/N5dV3Gp6tP32fvDSTpLE/ZaqxOrdEtD8TBRfs0bW2Pz4In7ex/Lg/GLkl5iMduz9xvMwPQxq9Pxsj/6un9r4/5RS4+ENawD9oIqDe5irBPyRePBgT7sE/wQS/lIakwj+vc/D06k7DPw+0hN/Y7cM/pSqkndqBxD8oUsMvbgvFP5alVvwGi8U/hbZQMA8Bxj8sB9Pi6G3GP/hm9Qjv0cY/xNtVQ3Ytxz+YwtaMzYDHP9+iQtA+zMc/fgROaQ8QyD/crH+UgEzIP5sM0dDPgcg/ni5MNTewyD9iM3+87dfIP0a3R4cn+cg/fpI0GBYUyT+FPYaI6CjJP5yFqrfLN8k/4/HsdepAyT91afiqbUTJPygQr3h8Qsk/y77JWjw7yT/8YqBD0S7JPxf1brZdHck/SXpf3wIHyT/Z8pep4OvIP2cIg9MVzMg/PX2DAcCnyD9qhzzP+37IPyJNlN/kUcg/7m6R65UgyD8B7jDQKOvHP3iHTpu2scc/0wG3l1d0xz8XdnlYIzPHPym7isMw7sY/u1HMG5alxj+AsYYKaVnGP2W5Zai+CcY/itMEhqu2xT/kqBe0Q2DFP1J8O8uaBsU/k9Z888OpxD9Y05zr0UnEPyY2IRDX5sM/ToM6YuWAwz/Sh4uODhjDP9tB3vNjrMI/8cnSqfY9wj9N75WH18zBPxqprioXWcE/kEzz/cXiwD9sFbpA9GnAP14jtxxk3b8/msZDzB7ivj+pCIpnOOK9P53wNrHQ3bw/2BdgawfVuz8HP/Nt/Me6P/0JBcDPtrk/A3bGtKGhuD/EsyUNk4i3P1sKdB/Fa7Y/353hBlpLtT8Cb0vddCe0P1Lq0QI6ALM/PSYjeM/VsT+5+pxSXaiwP9pCy6kc8K4/hmBseCGKrD+oqte3Lh+qP+ZMTGK2r6c/w7ANazs8pT8z3wTgWMWiPzQr8GfNS6A/peLq2R2hmz/cun3T3amWP55cgtvItZE/L6gfV+WWiT8G9z+G6d9/P9Qznsa2+Wo/3KtzhX9C17w=",
          "dtype": "f8"
         }
        }
       ],
       "layout": {
        "height": 600,
        "template": {
         "data": {
          "bar": [
           {
            "error_x": {
             "color": "#2a3f5f"
            },
            "error_y": {
             "color": "#2a3f5f"
            },
            "marker": {
             "line": {
              "color": "white",
              "width": 0.5
             },
             "pattern": {
              "fillmode": "overlay",
              "size": 10,
              "solidity": 0.2
             }
            },
            "type": "bar"
           }
          ],
          "barpolar": [
           {
            "marker": {
             "line": {
              "color": "white",
              "width": 0.5
             },
             "pattern": {
              "fillmode": "overlay",
              "size": 10,
              "solidity": 0.2
             }
            },
            "type": "barpolar"
           }
          ],
          "carpet": [
           {
            "aaxis": {
             "endlinecolor": "#2a3f5f",
             "gridcolor": "#C8D4E3",
             "linecolor": "#C8D4E3",
             "minorgridcolor": "#C8D4E3",
             "startlinecolor": "#2a3f5f"
            },
            "baxis": {
             "endlinecolor": "#2a3f5f",
             "gridcolor": "#C8D4E3",
             "linecolor": "#C8D4E3",
             "minorgridcolor": "#C8D4E3",
             "startlinecolor": "#2a3f5f"
            },
            "type": "carpet"
           }
          ],
          "choropleth": [
           {
            "colorbar": {
             "outlinewidth": 0,
             "ticks": ""
            },
            "type": "choropleth"
           }
          ],
          "contour": [
           {
            "colorbar": {
             "outlinewidth": 0,
             "ticks": ""
            },
            "colorscale": [
             [
              0,
              "#0d0887"
             ],
             [
              0.1111111111111111,
              "#46039f"
             ],
             [
              0.2222222222222222,
              "#7201a8"
             ],
             [
              0.3333333333333333,
              "#9c179e"
             ],
             [
              0.4444444444444444,
              "#bd3786"
             ],
             [
              0.5555555555555556,
              "#d8576b"
             ],
             [
              0.6666666666666666,
              "#ed7953"
             ],
             [
              0.7777777777777778,
              "#fb9f3a"
             ],
             [
              0.8888888888888888,
              "#fdca26"
             ],
             [
              1,
              "#f0f921"
             ]
            ],
            "type": "contour"
           }
          ],
          "contourcarpet": [
           {
            "colorbar": {
             "outlinewidth": 0,
             "ticks": ""
            },
            "type": "contourcarpet"
           }
          ],
          "heatmap": [
           {
            "colorbar": {
             "outlinewidth": 0,
             "ticks": ""
            },
            "colorscale": [
             [
              0,
              "#0d0887"
             ],
             [
              0.1111111111111111,
              "#46039f"
             ],
             [
              0.2222222222222222,
              "#7201a8"
             ],
             [
              0.3333333333333333,
              "#9c179e"
             ],
             [
              0.4444444444444444,
              "#bd3786"
             ],
             [
              0.5555555555555556,
              "#d8576b"
             ],
             [
              0.6666666666666666,
              "#ed7953"
             ],
             [
              0.7777777777777778,
              "#fb9f3a"
             ],
             [
              0.8888888888888888,
              "#fdca26"
             ],
             [
              1,
              "#f0f921"
             ]
            ],
            "type": "heatmap"
           }
          ],
          "histogram": [
           {
            "marker": {
             "pattern": {
              "fillmode": "overlay",
              "size": 10,
              "solidity": 0.2
             }
            },
            "type": "histogram"
           }
          ],
          "histogram2d": [
           {
            "colorbar": {
             "outlinewidth": 0,
             "ticks": ""
            },
            "colorscale": [
             [
              0,
              "#0d0887"
             ],
             [
              0.1111111111111111,
              "#46039f"
             ],
             [
              0.2222222222222222,
              "#7201a8"
             ],
             [
              0.3333333333333333,
              "#9c179e"
             ],
             [
              0.4444444444444444,
              "#bd3786"
             ],
             [
              0.5555555555555556,
              "#d8576b"
             ],
             [
              0.6666666666666666,
              "#ed7953"
             ],
             [
              0.7777777777777778,
              "#fb9f3a"
             ],
             [
              0.8888888888888888,
              "#fdca26"
             ],
             [
              1,
              "#f0f921"
             ]
            ],
            "type": "histogram2d"
           }
          ],
          "histogram2dcontour": [
           {
            "colorbar": {
             "outlinewidth": 0,
             "ticks": ""
            },
            "colorscale": [
             [
              0,
              "#0d0887"
             ],
             [
              0.1111111111111111,
              "#46039f"
             ],
             [
              0.2222222222222222,
              "#7201a8"
             ],
             [
              0.3333333333333333,
              "#9c179e"
             ],
             [
              0.4444444444444444,
              "#bd3786"
             ],
             [
              0.5555555555555556,
              "#d8576b"
             ],
             [
              0.6666666666666666,
              "#ed7953"
             ],
             [
              0.7777777777777778,
              "#fb9f3a"
             ],
             [
              0.8888888888888888,
              "#fdca26"
             ],
             [
              1,
              "#f0f921"
             ]
            ],
            "type": "histogram2dcontour"
           }
          ],
          "mesh3d": [
           {
            "colorbar": {
             "outlinewidth": 0,
             "ticks": ""
            },
            "type": "mesh3d"
           }
          ],
          "parcoords": [
           {
            "line": {
             "colorbar": {
              "outlinewidth": 0,
              "ticks": ""
             }
            },
            "type": "parcoords"
           }
          ],
          "pie": [
           {
            "automargin": true,
            "type": "pie"
           }
          ],
          "scatter": [
           {
            "fillpattern": {
             "fillmode": "overlay",
             "size": 10,
             "solidity": 0.2
            },
            "type": "scatter"
           }
          ],
          "scatter3d": [
           {
            "line": {
             "colorbar": {
              "outlinewidth": 0,
              "ticks": ""
             }
            },
            "marker": {
             "colorbar": {
              "outlinewidth": 0,
              "ticks": ""
             }
            },
            "type": "scatter3d"
           }
          ],
          "scattercarpet": [
           {
            "marker": {
             "colorbar": {
              "outlinewidth": 0,
              "ticks": ""
             }
            },
            "type": "scattercarpet"
           }
          ],
          "scattergeo": [
           {
            "marker": {
             "colorbar": {
              "outlinewidth": 0,
              "ticks": ""
             }
            },
            "type": "scattergeo"
           }
          ],
          "scattergl": [
           {
            "marker": {
             "colorbar": {
              "outlinewidth": 0,
              "ticks": ""
             }
            },
            "type": "scattergl"
           }
          ],
          "scattermap": [
           {
            "marker": {
             "colorbar": {
              "outlinewidth": 0,
              "ticks": ""
             }
            },
            "type": "scattermap"
           }
          ],
          "scattermapbox": [
           {
            "marker": {
             "colorbar": {
              "outlinewidth": 0,
              "ticks": ""
             }
            },
            "type": "scattermapbox"
           }
          ],
          "scatterpolar": [
           {
            "marker": {
             "colorbar": {
              "outlinewidth": 0,
              "ticks": ""
             }
            },
            "type": "scatterpolar"
           }
          ],
          "scatterpolargl": [
           {
            "marker": {
             "colorbar": {
              "outlinewidth": 0,
              "ticks": ""
             }
            },
            "type": "scatterpolargl"
           }
          ],
          "scatterternary": [
           {
            "marker": {
             "colorbar": {
              "outlinewidth": 0,
              "ticks": ""
             }
            },
            "type": "scatterternary"
           }
          ],
          "surface": [
           {
            "colorbar": {
             "outlinewidth": 0,
             "ticks": ""
            },
            "colorscale": [
             [
              0,
              "#0d0887"
             ],
             [
              0.1111111111111111,
              "#46039f"
             ],
             [
              0.2222222222222222,
              "#7201a8"
             ],
             [
              0.3333333333333333,
              "#9c179e"
             ],
             [
              0.4444444444444444,
              "#bd3786"
             ],
             [
              0.5555555555555556,
              "#d8576b"
             ],
             [
              0.6666666666666666,
              "#ed7953"
             ],
             [
              0.7777777777777778,
              "#fb9f3a"
             ],
             [
              0.8888888888888888,
              "#fdca26"
             ],
             [
              1,
              "#f0f921"
             ]
            ],
            "type": "surface"
           }
          ],
          "table": [
           {
            "cells": {
             "fill": {
              "color": "#EBF0F8"
             },
             "line": {
              "color": "white"
             }
            },
            "header": {
             "fill": {
              "color": "#C8D4E3"
             },
             "line": {
              "color": "white"
             }
            },
            "type": "table"
           }
          ]
         },
         "layout": {
          "annotationdefaults": {
           "arrowcolor": "#2a3f5f",
           "arrowhead": 0,
           "arrowwidth": 1
          },
          "autotypenumbers": "strict",
          "coloraxis": {
           "colorbar": {
            "outlinewidth": 0,
            "ticks": ""
           }
          },
          "colorscale": {
           "diverging": [
            [
             0,
             "#8e0152"
            ],
            [
             0.1,
             "#c51b7d"
            ],
            [
             0.2,
             "#de77ae"
            ],
            [
             0.3,
             "#f1b6da"
            ],
            [
             0.4,
             "#fde0ef"
            ],
            [
             0.5,
             "#f7f7f7"
            ],
            [
             0.6,
             "#e6f5d0"
            ],
            [
             0.7,
             "#b8e186"
            ],
            [
             0.8,
             "#7fbc41"
            ],
            [
             0.9,
             "#4d9221"
            ],
            [
             1,
             "#276419"
            ]
           ],
           "sequential": [
            [
             0,
             "#0d0887"
            ],
            [
             0.1111111111111111,
             "#46039f"
            ],
            [
             0.2222222222222222,
             "#7201a8"
            ],
            [
             0.3333333333333333,
             "#9c179e"
            ],
            [
             0.4444444444444444,
             "#bd3786"
            ],
            [
             0.5555555555555556,
             "#d8576b"
            ],
            [
             0.6666666666666666,
             "#ed7953"
            ],
            [
             0.7777777777777778,
             "#fb9f3a"
            ],
            [
             0.8888888888888888,
             "#fdca26"
            ],
            [
             1,
             "#f0f921"
            ]
           ],
           "sequentialminus": [
            [
             0,
             "#0d0887"
            ],
            [
             0.1111111111111111,
             "#46039f"
            ],
            [
             0.2222222222222222,
             "#7201a8"
            ],
            [
             0.3333333333333333,
             "#9c179e"
            ],
            [
             0.4444444444444444,
             "#bd3786"
            ],
            [
             0.5555555555555556,
             "#d8576b"
            ],
            [
             0.6666666666666666,
             "#ed7953"
            ],
            [
             0.7777777777777778,
             "#fb9f3a"
            ],
            [
             0.8888888888888888,
             "#fdca26"
            ],
            [
             1,
             "#f0f921"
            ]
           ]
          },
          "colorway": [
           "#636efa",
           "#EF553B",
           "#00cc96",
           "#ab63fa",
           "#FFA15A",
           "#19d3f3",
           "#FF6692",
           "#B6E880",
           "#FF97FF",
           "#FECB52"
          ],
          "font": {
           "color": "#2a3f5f"
          },
          "geo": {
           "bgcolor": "white",
           "lakecolor": "white",
           "landcolor": "white",
           "showlakes": true,
           "showland": true,
           "subunitcolor": "#C8D4E3"
          },
          "hoverlabel": {
           "align": "left"
          },
          "hovermode": "closest",
          "mapbox": {
           "style": "light"
          },
          "paper_bgcolor": "white",
          "plot_bgcolor": "white",
          "polar": {
           "angularaxis": {
            "gridcolor": "#EBF0F8",
            "linecolor": "#EBF0F8",
            "ticks": ""
           },
           "bgcolor": "white",
           "radialaxis": {
            "gridcolor": "#EBF0F8",
            "linecolor": "#EBF0F8",
            "ticks": ""
           }
          },
          "scene": {
           "xaxis": {
            "backgroundcolor": "white",
            "gridcolor": "#DFE8F3",
            "gridwidth": 2,
            "linecolor": "#EBF0F8",
            "showbackground": true,
            "ticks": "",
            "zerolinecolor": "#EBF0F8"
           },
           "yaxis": {
            "backgroundcolor": "white",
            "gridcolor": "#DFE8F3",
            "gridwidth": 2,
            "linecolor": "#EBF0F8",
            "showbackground": true,
            "ticks": "",
            "zerolinecolor": "#EBF0F8"
           },
           "zaxis": {
            "backgroundcolor": "white",
            "gridcolor": "#DFE8F3",
            "gridwidth": 2,
            "linecolor": "#EBF0F8",
            "showbackground": true,
            "ticks": "",
            "zerolinecolor": "#EBF0F8"
           }
          },
          "shapedefaults": {
           "line": {
            "color": "#2a3f5f"
           }
          },
          "ternary": {
           "aaxis": {
            "gridcolor": "#DFE8F3",
            "linecolor": "#A2B1C6",
            "ticks": ""
           },
           "baxis": {
            "gridcolor": "#DFE8F3",
            "linecolor": "#A2B1C6",
            "ticks": ""
           },
           "bgcolor": "white",
           "caxis": {
            "gridcolor": "#DFE8F3",
            "linecolor": "#A2B1C6",
            "ticks": ""
           }
          },
          "title": {
           "x": 0.05
          },
          "xaxis": {
           "automargin": true,
           "gridcolor": "#EBF0F8",
           "linecolor": "#EBF0F8",
           "ticks": "",
           "title": {
            "standoff": 15
           },
           "zerolinecolor": "#EBF0F8",
           "zerolinewidth": 2
          },
          "yaxis": {
           "automargin": true,
           "gridcolor": "#EBF0F8",
           "linecolor": "#EBF0F8",
           "ticks": "",
           "title": {
            "standoff": 15
           },
           "zerolinecolor": "#EBF0F8",
           "zerolinewidth": 2
          }
         }
        },
        "title": {
         "text": "Entropy–Complexity for data/SinAndNoise (Plotly)\nDim = '6', Hop = '1'"
        },
        "width": 800,
        "xaxis": {
         "range": [
          0,
          1
         ],
         "title": {
          "text": "Normalized Permutation Entropy"
         }
        },
        "yaxis": {
         "range": [
          0,
          1
         ],
         "title": {
          "text": "Normalized Complexity"
         }
        }
       }
      }
     },
     "metadata": {},
     "output_type": "display_data"
    }
   ],
   "source": [
    "folder_path = \"data/SinAndNoise\"\n",
    "dim = 6\n",
    "hop = 1\n",
    "plot_graph_ordpy(folder_path, dim, hop)"
   ]
  },
  {
   "cell_type": "code",
   "execution_count": null,
   "metadata": {},
   "outputs": [
    {
     "name": "stderr",
     "output_type": "stream",
     "text": [
      "Processing audio files in data/testforfolders/blues with dim 6 and hop 1:  29%|██▉       | 29/100 [00:39<01:35,  1.34s/it]"
     ]
    }
   ],
   "source": [
    "folder_path = \"data/testforfolders\"\n",
    "dim = 6\n",
    "hop = 1\n",
    "plot_graph_ordpy_centroids_with_region(folder_path, dim, hop)"
   ]
  }
 ],
 "metadata": {
  "kernelspec": {
   "display_name": "venv",
   "language": "python",
   "name": "python3"
  },
  "language_info": {
   "codemirror_mode": {
    "name": "ipython",
    "version": 3
   },
   "file_extension": ".py",
   "mimetype": "text/x-python",
   "name": "python",
   "nbconvert_exporter": "python",
   "pygments_lexer": "ipython3",
   "version": "3.11.4"
  }
 },
 "nbformat": 4,
 "nbformat_minor": 2
}
