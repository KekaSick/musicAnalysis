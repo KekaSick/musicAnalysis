{
 "cells": [
  {
   "cell_type": "markdown",
   "metadata": {},
   "source": [
    "# Imports"
   ]
  },
  {
   "cell_type": "code",
   "execution_count": 4,
   "metadata": {},
   "outputs": [],
   "source": [
    "import os\n",
    "import glob\n",
    "import math\n",
    "import numpy as np\n",
    "import pandas as pd\n",
    "import ordpy\n",
    "from scipy.io import wavfile\n",
    "from tqdm import tqdm\n",
    "import librosa\n",
    "import matplotlib.pyplot as plt\n",
    "import plotly.express as px\n",
    "import plotly.graph_objects as go\n",
    "from plotly.subplots import make_subplots\n",
    "import logging\n",
    "import warnings\n",
    "from scipy.io.wavfile import WavFileWarning\n",
    "from scipy.spatial import ConvexHull\n",
    "from scipy.spatial import Delaunay\n",
    "# Import shapely modules for geometry operations\n",
    "import shapely.geometry as geometry\n",
    "from shapely.ops import polygonize, unary_union\n",
    "\n"
   ]
  },
  {
   "cell_type": "markdown",
   "metadata": {},
   "source": [
    "# Logger\n"
   ]
  },
  {
   "cell_type": "code",
   "execution_count": 5,
   "metadata": {},
   "outputs": [],
   "source": [
    "logger = logging.getLogger(\"audio_process\")\n",
    "logger.setLevel(logging.DEBUG)\n",
    "\n",
    "# Clear existing handlers to avoid duplicates\n",
    "if logger.hasHandlers():\n",
    "    logger.handlers.clear()\n",
    "\n",
    "# File Handler: Write all messages (DEBUG and above) to a log file.\n",
    "fh = logging.FileHandler(\"process.log\", mode='w')\n",
    "fh.setLevel(logging.DEBUG)\n",
    "fh_formatter = logging.Formatter('%(asctime)s - %(levelname)s - %(message)s')\n",
    "fh.setFormatter(fh_formatter)\n",
    "logger.addHandler(fh)\n",
    "\n",
    "# Console Handler: Only show INFO and above on the console.\n",
    "ch = logging.StreamHandler()\n",
    "ch.setLevel(logging.WARNING)\n",
    "ch_formatter = logging.Formatter('%(message)s')\n",
    "ch.setFormatter(ch_formatter)\n",
    "logger.addHandler(ch)\n",
    "\n",
    "# Ignore metadata from scipy.wavfile\n",
    "warnings.filterwarnings(\"ignore\", category=WavFileWarning)"
   ]
  },
  {
   "cell_type": "markdown",
   "metadata": {},
   "source": [
    "# Fractal dimension coutning "
   ]
  },
  {
   "cell_type": "code",
   "execution_count": 9,
   "metadata": {},
   "outputs": [],
   "source": [
    "# 1. Create overlapping windows (z-vectors)\n",
    "def create_z_vectors(file_path, window_size, hop_size):\n",
    "    \"\"\"\n",
    "    Reads an audio file (WAV or MP3), converts it to mono if needed, and creates\n",
    "    overlapping windows (each of length window_size) using the given hop_size.\n",
    "    For MP3 files, librosa is used; for WAV files, scipy.io.wavfile is used.\n",
    "    \"\"\"\n",
    "    ext = os.path.splitext(file_path)[1].lower()\n",
    "    if ext == '.mp3':\n",
    "        # Load mp3 using librosa.\n",
    "        # sr=None preserves the native sampling rate.\n",
    "        data, sr = librosa.load(file_path, sr=None, mono=True)\n",
    "        logger.info(f\"Processing MP3 '{file_path}' with sample rate: {sr}\")\n",
    "    elif ext == '.wav':\n",
    "        sr, data = wavfile.read(file_path)\n",
    "        logger.info(f\"Processing WAV '{file_path}' with sample rate: {sr}\")\n",
    "        # If stereo, convert to mono by averaging channels.\n",
    "        if data.ndim == 2:\n",
    "            data = data.mean(axis=1)\n",
    "    else:\n",
    "        logger.error(f\"Unsupported file extension: {ext}\")\n",
    "        raise ValueError(f\"Unsupported file extension: {ext}\")\n",
    "\n",
    "    num_samples = len(data)\n",
    "    vectors = []\n",
    "    if hop_size > 0:\n",
    "        num_windows = (num_samples - window_size) // hop_size\n",
    "        for i in range(num_windows):\n",
    "            start = i * hop_size\n",
    "            end = start + window_size\n",
    "            vectors.append(data[start:end])\n",
    "    else:\n",
    "        num_windows = num_samples // window_size\n",
    "        for i in range(num_windows):\n",
    "            start = i * window_size\n",
    "            end = start + window_size\n",
    "            vectors.append(data[start:end])\n",
    "    if num_windows < 1:\n",
    "        logger.error(\"Audio too short for the given window/hop parameters.\")\n",
    "        raise ValueError(\"Audio too short for the given window/hop parameters.\")\n",
    "    return np.array(vectors)\n",
    "\n",
    "\n",
    "# 2. Compute ordinal patterns (ranking)\n",
    "def rank_vector(z):\n",
    "    \"\"\"\n",
    "    Returns the ordinal ranking of the values in vector z.\n",
    "    (Smallest value gets rank 1, next smallest 2, etc.)\n",
    "    \"\"\"\n",
    "    return np.argsort(z).argsort() + 1\n",
    "\n",
    "# 3. Box counting \n",
    "def box_count_6d(data, subdivisions):\n",
    "    \"\"\"\n",
    "    Traditional box-counting in 6D.\n",
    "    \n",
    "    Parameters:\n",
    "      - data: a NumPy array of shape (n_points, 6)\n",
    "      - subdivisions: an integer; each dimension will be divided into this many equal parts.\n",
    "    \n",
    "    Returns:\n",
    "      - N: the number of non-empty boxes for the given subdivision.\n",
    "    \"\"\"\n",
    "    # Determine min and max along each dimension\n",
    "    mins = np.min(data, axis=0)\n",
    "    maxs = np.max(data, axis=0)\n",
    "    \n",
    "    # Compute the range (length) in each dimension\n",
    "    ranges = maxs - mins\n",
    "    \n",
    "    # Compute the box size for each dimension (note: each dimension may have a different box size,\n",
    "    # but when we plot using epsilon we will use the largest range (scale) for consistency).\n",
    "    box_sizes = ranges / subdivisions\n",
    "    \n",
    "    # For each dimension, assign points to a box index:\n",
    "    indices = []\n",
    "    for d in range(6):\n",
    "        # Compute the index along dimension d.\n",
    "        idx_d = np.floor((data[:, d] - mins[d]) / box_sizes[d]).astype(int)\n",
    "        # Handle edge cases: ensure that a point at the maximum falls into the last box.\n",
    "        idx_d = np.clip(idx_d, 0, subdivisions - 1)\n",
    "        indices.append(idx_d)\n",
    "    \n",
    "    # Combine indices from all dimensions into one array of shape (n_points, 6)\n",
    "    indices = np.stack(indices, axis=-1)\n",
    "    \n",
    "    # Count the number of unique boxes that are occupied\n",
    "    unique_boxes = np.unique(indices, axis=0)\n",
    "    return len(unique_boxes)\n",
    "\n",
    "def estimate_boxcount_dimension(data, subdivisions_list):\n",
    "    \"\"\"\n",
    "    Estimates the fractal (box-counting) dimension using the traditional method.\n",
    "    \n",
    "    Parameters:\n",
    "      - data: (n_points, 6) array representing your 6D dataset.\n",
    "      - subdivisions_list: a list of integers, each representing how many divisions per dimension.\n",
    "    \n",
    "    Returns:\n",
    "      - fractal_dim: The estimated box-counting dimension (D)\n",
    "      - (logs_eps, logs_counts): The (x, y) arrays for plotting, where:\n",
    "            logs_eps   = log2(epsilon)  with epsilon = scale/subdivisions,\n",
    "            logs_counts = log2(N), with N the number of occupied boxes.\n",
    "    \"\"\"\n",
    "    counts = []\n",
    "    # Compute overall scale (we use the maximum range across dimensions)\n",
    "    mins = np.min(data, axis=0)\n",
    "    maxs = np.max(data, axis=0)\n",
    "    ranges = maxs - mins\n",
    "    scale = np.max(ranges)\n",
    "    \n",
    "    epsilons = []\n",
    "    for s in subdivisions_list:\n",
    "        N = box_count_6d(data, s)\n",
    "        counts.append(N)\n",
    "        # Define epsilon as the box size along the dimension with maximum spread\n",
    "        eps = scale / s\n",
    "        epsilons.append(eps)\n",
    "    \n",
    "    counts = np.array(counts)\n",
    "    epsilons = np.array(epsilons)\n",
    "    \n",
    "    # Compute logarithms (base 2)\n",
    "    logs_eps = np.log2(epsilons)\n",
    "    logs_counts = np.log2(counts)\n",
    "    \n",
    "    # Perform linear regression using least squares:\n",
    "    # log2(N) = -D * log2(epsilon) + constant\n",
    "    slope, intercept = np.polyfit(logs_eps, logs_counts, 1)\n",
    "    fractal_dim = -slope  # because slope = -D\n",
    "    return fractal_dim, (logs_eps, logs_counts)\n",
    "\n",
    "\n"
   ]
  },
  {
   "cell_type": "markdown",
   "metadata": {},
   "source": [
    "# Fractal dim estimation via code stolen from google"
   ]
  },
  {
   "cell_type": "code",
   "execution_count": 75,
   "metadata": {},
   "outputs": [],
   "source": [
    "def fractal_dim_estim(file_path):    \n",
    "# -------------------------------\n",
    "    # 1. Load your time series data.\n",
    "    #    Here we assume the time series is stored in a file \"timeseries.txt\"\n",
    "    #    with one data point per row.\n",
    "    #    Replace this with however you load your data.\n",
    "    ext = os.path.splitext(file_path)[1].lower()\n",
    "    if ext == '.mp3':\n",
    "        # Load mp3 using librosa.\n",
    "        # sr=None preserves the native sampling rate.\n",
    "        data, sr = librosa.load(file_path, sr=None, mono=True)\n",
    "        logger.info(f\"Processing MP3 '{file_path}' with sample rate: {sr}\")\n",
    "    elif ext == '.wav':\n",
    "        sr, data = wavfile.read(file_path)\n",
    "        logger.info(f\"Processing WAV '{file_path}' with sample rate: {sr}\")\n",
    "        # If stereo, convert to mono by averaging channels.\n",
    "        if data.ndim == 2:\n",
    "            data = data.mean(axis=1)\n",
    "    else:\n",
    "        logger.error(f\"Unsupported file extension: {ext}\")\n",
    "        raise ValueError(f\"Unsupported file extension: {ext}\")\n",
    "\n",
    "    # -------------------------------\n",
    "    # 2. Time-delay embedding to form a 6-dimensional dataset.\n",
    "    #    - 'dim' is the embedding dimension (here 6)\n",
    "    #    - 'gap' is the delay between successive components (here 5)\n",
    "    dim = 6\n",
    "    gap = 5\n",
    "\n",
    "    # Compute the number of valid 6D vectors (we lose (dim-1)*gap points at the end)\n",
    "    N = len(data) - (dim - 1) * gap\n",
    "\n",
    "    # Create an array to hold the embedded data.\n",
    "    embedded_data = np.empty((N, dim))\n",
    "    for i in range(dim):\n",
    "        embedded_data[:, i] = data[i * gap : i * gap + N]\n",
    "\n",
    "    # -------------------------------\n",
    "    # 3. Prepare for box-counting in 6D.\n",
    "    #    We need to create a grid that covers the range of our data in each dimension.\n",
    "    mins = np.min(embedded_data, axis=0)\n",
    "    maxs = np.max(embedded_data, axis=0)\n",
    "\n",
    "    # We choose a set of box sizes (scales) in a logarithmic range.\n",
    "    # For a good range, we base the limits on the overall data range.\n",
    "    # (Adjust these limits if necessary for your data.)\n",
    "    range_per_dim = maxs - mins\n",
    "    range_min = range_per_dim.min()\n",
    "    range_max = range_per_dim.max()\n",
    "    scales = np.logspace(np.log10(range_min/10), np.log10(range_max), num=50)\n",
    "\n",
    "    # -------------------------------\n",
    "    # 4. Compute the box count (number of non-empty boxes) for each scale.\n",
    "    Ns = []\n",
    "    for scale in scales:\n",
    "        # For each dimension, create bins from the minimum value up to (max+scale)\n",
    "        bins = [np.arange(mins[d], maxs[d] + scale, scale) for d in range(dim)]\n",
    "        # Use np.histogramdd to count points in each box (hypercube)\n",
    "        H, _ = np.histogramdd(embedded_data, bins=bins)\n",
    "        # Count only boxes that contain at least one point\n",
    "        Ns.append(np.sum(H > 0))\n",
    "\n",
    "    # -------------------------------\n",
    "    # 5. Fit a line to the log-log plot to estimate the fractal (Hausdorff) dimension.\n",
    "    #    The slope (with a negative sign) gives the estimated dimension.\n",
    "    coeffs = np.polyfit(np.log(scales), np.log(Ns), 1)\n",
    "    estimated_dimension = -coeffs[0]\n",
    "\n",
    "    # -------------------------------\n",
    "    # 6. Plot and save the results.\n",
    "    # plt.figure()\n",
    "    # plt.plot(np.log(scales), np.log(Ns), 'o', mfc='none', label='Data')\n",
    "    # plt.plot(np.log(scales), np.polyval(coeffs, np.log(scales)), label='Fit')\n",
    "    # plt.xlabel('log(epsilon)')\n",
    "    # plt.ylabel('log N')\n",
    "    # plt.title('Fractal Dimension Estimation (6D)')\n",
    "    # plt.legend()\n",
    "    # plt.savefig('fractal_dimension_6d.pdf')\n",
    "\n",
    "    # print(\"Estimated fractal (Hausdorff) dimension:\", estimated_dimension)\n",
    "    # Save the scaling data (scale and number of non-empty boxes)\n",
    "    np.savetxt(\"scaling_6d.txt\", np.column_stack((scales, Ns)))\n",
    "    return estimated_dimension\n"
   ]
  },
  {
   "cell_type": "code",
   "execution_count": 79,
   "metadata": {},
   "outputs": [
    {
     "name": "stdout",
     "output_type": "stream",
     "text": [
      "\n",
      "Processing folder: data/genres_30sec/pop\n"
     ]
    },
    {
     "name": "stderr",
     "output_type": "stream",
     "text": [
      "Processing files in pop: 100%|██████████| 100/100 [06:54<00:00,  4.14s/file]\n"
     ]
    },
    {
     "name": "stdout",
     "output_type": "stream",
     "text": [
      "Folder: data/genres_30sec/pop\n",
      "min:  2.4582380274790774\n",
      "max:  4.049414634424502\n",
      "avg:  3.3379400598742377\n",
      "std:  0.30080756440995476\n",
      "\n",
      "Processing folder: data/genres_30sec/metal\n"
     ]
    },
    {
     "name": "stderr",
     "output_type": "stream",
     "text": [
      "Processing files in metal: 100%|██████████| 100/100 [06:54<00:00,  4.15s/file]\n"
     ]
    },
    {
     "name": "stdout",
     "output_type": "stream",
     "text": [
      "Folder: data/genres_30sec/metal\n",
      "min:  2.3927371136537148\n",
      "max:  4.049414634424502\n",
      "avg:  3.2860366126986413\n",
      "std:  0.28511830116573644\n",
      "\n",
      "Processing folder: data/genres_30sec/disco\n"
     ]
    },
    {
     "name": "stderr",
     "output_type": "stream",
     "text": [
      "Processing files in disco: 100%|██████████| 100/100 [06:50<00:00,  4.10s/file]\n"
     ]
    },
    {
     "name": "stdout",
     "output_type": "stream",
     "text": [
      "Folder: data/genres_30sec/disco\n",
      "min:  2.373433533166584\n",
      "max:  4.049414634424502\n",
      "avg:  3.252237216543888\n",
      "std:  0.2935950601342884\n",
      "\n",
      "Processing folder: data/genres_30sec/blues\n"
     ]
    },
    {
     "name": "stderr",
     "output_type": "stream",
     "text": [
      "Processing files in blues: 100%|██████████| 100/100 [06:48<00:00,  4.08s/file]\n"
     ]
    },
    {
     "name": "stdout",
     "output_type": "stream",
     "text": [
      "Folder: data/genres_30sec/blues\n",
      "min:  1.8729840718765782\n",
      "max:  4.049414634424502\n",
      "avg:  3.2298953865509583\n",
      "std:  0.34876006784294916\n",
      "\n",
      "Processing folder: data/genres_30sec/reggae\n"
     ]
    },
    {
     "name": "stderr",
     "output_type": "stream",
     "text": [
      "Processing files in reggae: 100%|██████████| 100/100 [06:46<00:00,  4.06s/file]\n"
     ]
    },
    {
     "name": "stdout",
     "output_type": "stream",
     "text": [
      "Folder: data/genres_30sec/reggae\n",
      "min:  1.8729840718765782\n",
      "max:  4.049414634424502\n",
      "avg:  3.179769932451691\n",
      "std:  0.3664805830759922\n",
      "\n",
      "Processing folder: data/genres_30sec/classical\n"
     ]
    },
    {
     "name": "stderr",
     "output_type": "stream",
     "text": [
      "Processing files in classical: 100%|██████████| 100/100 [06:44<00:00,  4.05s/file]\n"
     ]
    },
    {
     "name": "stdout",
     "output_type": "stream",
     "text": [
      "Folder: data/genres_30sec/classical\n",
      "min:  1.8729840718765782\n",
      "max:  4.049414634424502\n",
      "avg:  3.1636761060942833\n",
      "std:  0.36147629926838937\n",
      "\n",
      "Processing folder: data/genres_30sec/rock\n"
     ]
    },
    {
     "name": "stderr",
     "output_type": "stream",
     "text": [
      "Processing files in rock: 100%|██████████| 100/100 [06:55<00:00,  4.16s/file]\n"
     ]
    },
    {
     "name": "stdout",
     "output_type": "stream",
     "text": [
      "Folder: data/genres_30sec/rock\n",
      "min:  1.8729840718765782\n",
      "max:  4.0831228709252505\n",
      "avg:  3.166760863943895\n",
      "std:  0.35771608275421685\n",
      "\n",
      "Processing folder: data/genres_30sec/hiphop\n"
     ]
    },
    {
     "name": "stderr",
     "output_type": "stream",
     "text": [
      "Processing files in hiphop: 100%|██████████| 100/100 [06:53<00:00,  4.14s/file]\n"
     ]
    },
    {
     "name": "stdout",
     "output_type": "stream",
     "text": [
      "Folder: data/genres_30sec/hiphop\n",
      "min:  1.7940188357565476\n",
      "max:  4.0831228709252505\n",
      "avg:  3.1572033803766213\n",
      "std:  0.35909546105860596\n",
      "\n",
      "Processing folder: data/genres_30sec/country\n"
     ]
    },
    {
     "name": "stderr",
     "output_type": "stream",
     "text": [
      "Processing files in country: 100%|██████████| 100/100 [06:46<00:00,  4.07s/file]\n"
     ]
    },
    {
     "name": "stdout",
     "output_type": "stream",
     "text": [
      "Folder: data/genres_30sec/country\n",
      "min:  1.7940188357565476\n",
      "max:  4.0831228709252505\n",
      "avg:  3.1657610769983386\n",
      "std:  0.3511872431729461\n",
      "\n",
      "Processing folder: data/genres_30sec/jazz\n"
     ]
    },
    {
     "name": "stderr",
     "output_type": "stream",
     "text": [
      "Processing files in jazz:  44%|████▍     | 44/100 [02:58<03:47,  4.06s/file]\n"
     ]
    },
    {
     "ename": "ValueError",
     "evalue": "File format b'\\xcb\\x15\\x1e\\x16' not understood. Only 'RIFF', 'RIFX', and 'RF64' supported.",
     "output_type": "error",
     "traceback": [
      "\u001b[0;31m---------------------------------------------------------------------------\u001b[0m",
      "\u001b[0;31mValueError\u001b[0m                                Traceback (most recent call last)",
      "Cell \u001b[0;32mIn[79], line 19\u001b[0m\n\u001b[1;32m     17\u001b[0m file_path \u001b[38;5;241m=\u001b[39m os\u001b[38;5;241m.\u001b[39mpath\u001b[38;5;241m.\u001b[39mjoin(subfolder_path, filename)\n\u001b[1;32m     18\u001b[0m \u001b[38;5;66;03m# Calculate the fractal dimension for the file\u001b[39;00m\n\u001b[0;32m---> 19\u001b[0m dim \u001b[38;5;241m=\u001b[39m \u001b[43mfractal_dim_estim\u001b[49m\u001b[43m(\u001b[49m\u001b[43mfile_path\u001b[49m\u001b[43m)\u001b[49m\n\u001b[1;32m     20\u001b[0m \u001b[38;5;66;03m# Append the result to the array\u001b[39;00m\n\u001b[1;32m     21\u001b[0m fractal_dim_array\u001b[38;5;241m.\u001b[39mappend(dim)\n",
      "Cell \u001b[0;32mIn[75], line 14\u001b[0m, in \u001b[0;36mfractal_dim_estim\u001b[0;34m(file_path)\u001b[0m\n\u001b[1;32m     12\u001b[0m     logger\u001b[38;5;241m.\u001b[39minfo(\u001b[38;5;124mf\u001b[39m\u001b[38;5;124m\"\u001b[39m\u001b[38;5;124mProcessing MP3 \u001b[39m\u001b[38;5;124m'\u001b[39m\u001b[38;5;132;01m{\u001b[39;00mfile_path\u001b[38;5;132;01m}\u001b[39;00m\u001b[38;5;124m'\u001b[39m\u001b[38;5;124m with sample rate: \u001b[39m\u001b[38;5;132;01m{\u001b[39;00msr\u001b[38;5;132;01m}\u001b[39;00m\u001b[38;5;124m\"\u001b[39m)\n\u001b[1;32m     13\u001b[0m \u001b[38;5;28;01melif\u001b[39;00m ext \u001b[38;5;241m==\u001b[39m \u001b[38;5;124m'\u001b[39m\u001b[38;5;124m.wav\u001b[39m\u001b[38;5;124m'\u001b[39m:\n\u001b[0;32m---> 14\u001b[0m     sr, data \u001b[38;5;241m=\u001b[39m \u001b[43mwavfile\u001b[49m\u001b[38;5;241;43m.\u001b[39;49m\u001b[43mread\u001b[49m\u001b[43m(\u001b[49m\u001b[43mfile_path\u001b[49m\u001b[43m)\u001b[49m\n\u001b[1;32m     15\u001b[0m     logger\u001b[38;5;241m.\u001b[39minfo(\u001b[38;5;124mf\u001b[39m\u001b[38;5;124m\"\u001b[39m\u001b[38;5;124mProcessing WAV \u001b[39m\u001b[38;5;124m'\u001b[39m\u001b[38;5;132;01m{\u001b[39;00mfile_path\u001b[38;5;132;01m}\u001b[39;00m\u001b[38;5;124m'\u001b[39m\u001b[38;5;124m with sample rate: \u001b[39m\u001b[38;5;132;01m{\u001b[39;00msr\u001b[38;5;132;01m}\u001b[39;00m\u001b[38;5;124m\"\u001b[39m)\n\u001b[1;32m     16\u001b[0m     \u001b[38;5;66;03m# If stereo, convert to mono by averaging channels.\u001b[39;00m\n",
      "File \u001b[0;32m~/Documents/GitHub/musicAnalysis/venv/lib/python3.11/site-packages/scipy/io/wavfile.py:677\u001b[0m, in \u001b[0;36mread\u001b[0;34m(filename, mmap)\u001b[0m\n\u001b[1;32m    674\u001b[0m     fid \u001b[38;5;241m=\u001b[39m \u001b[38;5;28mopen\u001b[39m(filename, \u001b[38;5;124m'\u001b[39m\u001b[38;5;124mrb\u001b[39m\u001b[38;5;124m'\u001b[39m)\n\u001b[1;32m    676\u001b[0m \u001b[38;5;28;01mtry\u001b[39;00m:\n\u001b[0;32m--> 677\u001b[0m     file_size, is_big_endian, is_rf64 \u001b[38;5;241m=\u001b[39m \u001b[43m_read_riff_chunk\u001b[49m\u001b[43m(\u001b[49m\u001b[43mfid\u001b[49m\u001b[43m)\u001b[49m\n\u001b[1;32m    678\u001b[0m     fmt_chunk_received \u001b[38;5;241m=\u001b[39m \u001b[38;5;28;01mFalse\u001b[39;00m\n\u001b[1;32m    679\u001b[0m     data_chunk_received \u001b[38;5;241m=\u001b[39m \u001b[38;5;28;01mFalse\u001b[39;00m\n",
      "File \u001b[0;32m~/Documents/GitHub/musicAnalysis/venv/lib/python3.11/site-packages/scipy/io/wavfile.py:536\u001b[0m, in \u001b[0;36m_read_riff_chunk\u001b[0;34m(fid)\u001b[0m\n\u001b[1;32m    533\u001b[0m     fmt \u001b[38;5;241m=\u001b[39m \u001b[38;5;124m'\u001b[39m\u001b[38;5;124m<Q\u001b[39m\u001b[38;5;124m'\u001b[39m\n\u001b[1;32m    534\u001b[0m \u001b[38;5;28;01melse\u001b[39;00m:\n\u001b[1;32m    535\u001b[0m     \u001b[38;5;66;03m# There are also .wav files with \"FFIR\" or \"XFIR\" signatures?\u001b[39;00m\n\u001b[0;32m--> 536\u001b[0m     \u001b[38;5;28;01mraise\u001b[39;00m \u001b[38;5;167;01mValueError\u001b[39;00m(\u001b[38;5;124mf\u001b[39m\u001b[38;5;124m\"\u001b[39m\u001b[38;5;124mFile format \u001b[39m\u001b[38;5;132;01m{\u001b[39;00m\u001b[38;5;28mrepr\u001b[39m(str1)\u001b[38;5;132;01m}\u001b[39;00m\u001b[38;5;124m not understood. Only \u001b[39m\u001b[38;5;124m\"\u001b[39m\n\u001b[1;32m    537\u001b[0m                      \u001b[38;5;124m\"\u001b[39m\u001b[38;5;124m'\u001b[39m\u001b[38;5;124mRIFF\u001b[39m\u001b[38;5;124m'\u001b[39m\u001b[38;5;124m, \u001b[39m\u001b[38;5;124m'\u001b[39m\u001b[38;5;124mRIFX\u001b[39m\u001b[38;5;124m'\u001b[39m\u001b[38;5;124m, and \u001b[39m\u001b[38;5;124m'\u001b[39m\u001b[38;5;124mRF64\u001b[39m\u001b[38;5;124m'\u001b[39m\u001b[38;5;124m supported.\u001b[39m\u001b[38;5;124m\"\u001b[39m)\n\u001b[1;32m    538\u001b[0m \u001b[38;5;66;03m# Size of entire file\u001b[39;00m\n\u001b[1;32m    539\u001b[0m \u001b[38;5;28;01mif\u001b[39;00m \u001b[38;5;129;01mnot\u001b[39;00m is_rf64:\n",
      "\u001b[0;31mValueError\u001b[0m: File format b'\\xcb\\x15\\x1e\\x16' not understood. Only 'RIFF', 'RIFX', and 'RF64' supported."
     ]
    }
   ],
   "source": [
    "mother_folder_path = \"data/genres_30sec\"\n",
    "fractal_dim_array = list()\n",
    "\n",
    "# Loop over each item in the mother folder\n",
    "for subfolder in os.listdir(mother_folder_path):\n",
    "    subfolder_path = os.path.join(mother_folder_path, subfolder)\n",
    "    print(f\"\\nProcessing folder: {subfolder_path}\")\n",
    "    \n",
    "    # Check if the item is a directory (subfolder)\n",
    "    if os.path.isdir(subfolder_path):\n",
    "        # Get all files ending with '.wav' or '.mp3' (case insensitive)\n",
    "        files = [filename for filename in os.listdir(subfolder_path) \n",
    "                 if filename.lower().endswith('.wav') or filename.lower().endswith('.mp3')]\n",
    "        \n",
    "        # Process files with a progress bar\n",
    "        for filename in tqdm(files, desc=f\"Processing files in {subfolder}\", unit=\"file\"):\n",
    "            file_path = os.path.join(subfolder_path, filename)\n",
    "            # Calculate the fractal dimension for the file\n",
    "            dim = fractal_dim_estim(file_path)\n",
    "            # Append the result to the array\n",
    "            fractal_dim_array.append(dim)\n",
    "    \n",
    "        # Convert the list to a numpy array and print statistics for this subfolder\n",
    "        fractal_dim_array_np = np.array(fractal_dim_array)\n",
    "        print(\"Folder:\", subfolder_path)\n",
    "        print(\"min: \", np.min(fractal_dim_array_np))\n",
    "        print(\"max: \", np.max(fractal_dim_array_np))\n",
    "        print(\"avg: \", np.mean(fractal_dim_array))\n",
    "        print(\"std: \", np.std(fractal_dim_array))"
   ]
  },
  {
   "cell_type": "markdown",
   "metadata": {},
   "source": [
    "# Create entropy complexity with ordpy\n"
   ]
  },
  {
   "cell_type": "code",
   "execution_count": 120,
   "metadata": {},
   "outputs": [],
   "source": [
    "def ordpy_process_file(file_path, dim_size, hop_size):\n",
    "    ext = os.path.splitext(file_path)[1].lower()\n",
    "    if ext == '.mp3':\n",
    "        # Load mp3 using librosa.\n",
    "        # sr=None preserves the native sampling rate.\n",
    "        data, sr = librosa.load(file_path, sr=None, mono=True)\n",
    "        logger.info(f\"Processing MP3 '{file_path}' with sample rate: {sr}\")\n",
    "    elif ext == '.wav':\n",
    "        sr, data = wavfile.read(file_path)\n",
    "        logger.info(f\"Processing WAV '{file_path}' with sample rate: {sr}\")\n",
    "        # If stereo, convert to mono by averaging channels.\n",
    "        if data.ndim == 2:\n",
    "            data = data.mean(axis=1)\n",
    "    else:\n",
    "        logger.error(f\"Unsupported file extension: {ext}\")\n",
    "        raise ValueError(f\"Unsupported file extension: {ext}\")\n",
    "    \n",
    "    \n",
    "    HC = ordpy.complexity_entropy(data, dim_size, hop_size)\n",
    "    return HC\n",
    "\n",
    "\n",
    "def ordpy_process_folder(folder_path, dim_size=6, hop_size=1):\n",
    "    wav_files = glob.glob(os.path.join(folder_path, \"*.wav\"))\n",
    "    mp3_files = glob.glob(os.path.join(folder_path, \"*.mp3\"))\n",
    "    all_files = wav_files + mp3_files\n",
    "    \n",
    "    if not all_files:\n",
    "        logger.info(f\"No audio files found in {folder_path}\")\n",
    "        return [], [], []\n",
    "    \n",
    "    all_H = []\n",
    "    all_comp = []\n",
    "    file_labels = []\n",
    "    \n",
    "    # Use tqdm to add a progress bar over the file list.\n",
    "    for file_path in tqdm(all_files, desc=f\"Processing audio files in {folder_path} with dim {dim_size} and hop {hop_size}\"):\n",
    "        try:\n",
    "            H_norm, comp = ordpy_process_file(file_path, dim_size, hop_size)\n",
    "            all_H.append(H_norm)\n",
    "            all_comp.append(comp)\n",
    "            file_labels.append(os.path.basename(file_path))\n",
    "        except Exception as e:\n",
    "            logger.exception(f\"Error processing file {file_path}: {e}\")\n",
    "    \n",
    "    return all_H, all_comp, file_labels"
   ]
  },
  {
   "cell_type": "markdown",
   "metadata": {},
   "source": [
    "# Scatter with Entropy Complexity for one folder"
   ]
  },
  {
   "cell_type": "code",
   "execution_count": 121,
   "metadata": {},
   "outputs": [],
   "source": [
    "\n",
    "def plot_graph_ordpy(folder_path, dim, hop, folder=\"plots\"):\n",
    "    logger.info(f\"Processing folder {folder_path}\")\n",
    "    \n",
    "    # Process the folder to get entropy, complexity, and file labels.\n",
    "    all_H, all_comp, file_labels = ordpy_process_folder(folder_path, dim, hop)\n",
    "    df = pd.DataFrame({\n",
    "        \"Normalized Permutation Entropy\": all_H,\n",
    "        \"Normalized Complexity\": all_comp,\n",
    "        \"File\": file_labels\n",
    "    })\n",
    "\n",
    "    # Get the maximum and minimum complexity-entropy boundaries as numpy arrays\n",
    "    max_HC = ordpy.maximum_complexity_entropy(dim, hop)\n",
    "    min_HC = ordpy.minimum_complexity_entropy(dim, hop)\n",
    "\n",
    "    # -------------------------\n",
    "    # Matplotlib Plot Section\n",
    "    # -------------------------\n",
    "    plt.figure(figsize=(8, 6))\n",
    "    # Plot the data points without text labels.\n",
    "    plt.scatter(df[\"Normalized Permutation Entropy\"],\n",
    "                df[\"Normalized Complexity\"],\n",
    "                s=70,\n",
    "                c='blue',\n",
    "                edgecolors='black')\n",
    "\n",
    "    # Plot the maximum and minimum complexity boundaries if available.\n",
    "    if isinstance(max_HC, np.ndarray) and max_HC.ndim == 2 and max_HC.shape[1] == 2:\n",
    "        plt.plot(max_HC[:, 0], max_HC[:, 1], 'r--', label='Maximum Complexity Boundary')\n",
    "    else:\n",
    "        logger.warning(\"max_HC is not in the expected numpy array format.\")\n",
    "\n",
    "    if isinstance(min_HC, np.ndarray) and min_HC.ndim == 2 and min_HC.shape[1] == 2:\n",
    "        plt.plot(min_HC[:, 0], min_HC[:, 1], 'g--', label='Minimum Complexity Boundary')\n",
    "    else:\n",
    "        logger.warning(\"min_HC is not in the expected numpy array format.\")\n",
    "\n",
    "    plt.xlabel(\"Normalized Permutation Entropy\")\n",
    "    plt.ylabel(\"Normalized Complexity\")\n",
    "    plt.title(f\"Entropy–Complexity for {folder_path}\\nDim = '{dim}', Hop = '{hop}'\")\n",
    "    plt.xlim(0, 1)\n",
    "    plt.ylim(0, 1)\n",
    "    plt.grid(True, alpha=0.3)\n",
    "    plt.gca().set_aspect('equal', adjustable='box')\n",
    "    plt.legend()\n",
    "    plt.tight_layout()\n",
    "\n",
    "    output_dir = os.path.join(folder, os.path.basename(folder_path))\n",
    "    os.makedirs(output_dir, exist_ok=True)\n",
    "    output_file = os.path.join(output_dir, f\"entropy_complexity_{os.path.basename(folder_path)}_dim_{dim}_hop_{hop}.png\")\n",
    "    plt.savefig(output_file)\n",
    "    plt.close()\n",
    "    logger.info(f\"Saved Matplotlib plot to {output_file}\")\n",
    "\n",
    "    # -------------------------\n",
    "    # Plotly Plot Section\n",
    "    # -------------------------\n",
    "    fig = go.Figure()\n",
    "\n",
    "    # Add the data points as markers only. The file labels will appear when hovering.\n",
    "    fig.add_trace(go.Scatter(\n",
    "        x=df[\"Normalized Permutation Entropy\"],\n",
    "        y=df[\"Normalized Complexity\"],\n",
    "        mode='markers',  # Only markers, no text labels on the plot.\n",
    "        marker=dict(size=10, color='blue', line=dict(width=1, color='black')),\n",
    "        name='Data Points',\n",
    "        hovertext=df[\"File\"],\n",
    "        hovertemplate=(\n",
    "            \"<b>File:</b> %{hovertext}<br>\" +\n",
    "            \"<b>Entropy:</b> %{x}<br>\" +\n",
    "            \"<b>Complexity:</b> %{y}<extra></extra>\"\n",
    "        )\n",
    "    ))\n",
    "\n",
    "    # Add the maximum complexity boundary line if available.\n",
    "    if isinstance(max_HC, np.ndarray) and max_HC.ndim == 2 and max_HC.shape[1] == 2:\n",
    "        fig.add_trace(go.Scatter(\n",
    "            x=max_HC[:, 0],\n",
    "            y=max_HC[:, 1],\n",
    "            mode='lines',\n",
    "            line=dict(color='red', dash='dash'),\n",
    "            name='Maximum Complexity Boundary'\n",
    "        ))\n",
    "    else:\n",
    "        logger.warning(\"max_HC is not in the expected numpy array format.\")\n",
    "\n",
    "    # Add the minimum complexity boundary line if available.\n",
    "    if isinstance(min_HC, np.ndarray) and min_HC.ndim == 2 and min_HC.shape[1] == 2:\n",
    "        fig.add_trace(go.Scatter(\n",
    "            x=min_HC[:, 0],\n",
    "            y=min_HC[:, 1],\n",
    "            mode='lines',\n",
    "            line=dict(color='green', dash='dash'),\n",
    "            name='Minimum Complexity Boundary'\n",
    "        ))\n",
    "    else:\n",
    "        logger.warning(\"min_HC is not in the expected numpy array format.\")\n",
    "\n",
    "    # Update layout settings for the Plotly figure.\n",
    "    fig.update_layout(\n",
    "        title=f\"Entropy–Complexity for {folder_path} (Plotly)\\nDim = '{dim}', Hop = '{hop}'\",\n",
    "        xaxis_title=\"Normalized Permutation Entropy\",\n",
    "        yaxis_title=\"Normalized Complexity\",\n",
    "        xaxis=dict(range=[0, 1]),\n",
    "        yaxis=dict(range=[0, 1]),\n",
    "        width=800,\n",
    "        height=600,\n",
    "        template=\"plotly_white\"\n",
    "    )\n",
    "\n",
    "\n",
    "    fig.show()"
   ]
  },
  {
   "cell_type": "markdown",
   "metadata": {},
   "source": [
    "# Centroids for multiple folders"
   ]
  },
  {
   "cell_type": "code",
   "execution_count": 122,
   "metadata": {},
   "outputs": [],
   "source": [
    "def plot_graph_ordpy_centroids(main_folder_path, dim, hop):\n",
    "    centroids = []\n",
    "\n",
    "    # Iterate over all items in the main folder\n",
    "    for item in os.listdir(main_folder_path):\n",
    "        subfolder_path = os.path.join(main_folder_path, item)\n",
    "        if os.path.isdir(subfolder_path):\n",
    "            logger.info(f\"Processing folder: {subfolder_path}\")\n",
    "            try:\n",
    "                # Process the folder and obtain entropy, complexity, and file labels.\n",
    "                all_H, all_comp, file_labels = ordpy_process_folder(subfolder_path, dim, hop)\n",
    "                \n",
    "                # Skip folders with no valid data\n",
    "                if len(all_H) == 0 or len(all_comp) == 0:\n",
    "                    logger.warning(f\"No data found in {subfolder_path}. Skipping.\")\n",
    "                    continue\n",
    "\n",
    "                # Compute centroid (mean entropy and complexity)\n",
    "                centroid_H = np.mean(all_H)\n",
    "                centroid_comp = np.mean(all_comp)\n",
    "\n",
    "                centroids.append({\n",
    "                    \"Folder\": item,  # use subfolder name as identifier\n",
    "                    \"Normalized Permutation Entropy\": centroid_H,\n",
    "                    \"Normalized Complexity\": centroid_comp\n",
    "                })\n",
    "            except Exception as e:\n",
    "                logger.error(f\"Error processing {subfolder_path}: {e}\")\n",
    "                continue\n",
    "\n",
    "    # If no centroids were computed, log an error and exit.\n",
    "    if not centroids:\n",
    "        logger.error(\"No centroids were computed. Please check your data and folder structure.\")\n",
    "        return\n",
    "\n",
    "    # Create a DataFrame from the centroids list\n",
    "    df_centroids = pd.DataFrame(centroids)\n",
    "    logger.info(f\"Centroids DataFrame:\\n{df_centroids}\")\n",
    "\n",
    "    # Retrieve the maximum and minimum complexity–entropy boundaries.\n",
    "    # They are expected to be NumPy arrays with shape (n_points, 2)\n",
    "    max_HC = ordpy.maximum_complexity_entropy(dim, hop)\n",
    "    min_HC = ordpy.minimum_complexity_entropy(dim, hop)\n",
    "\n",
    "    # Create a Plotly figure\n",
    "    fig = go.Figure()\n",
    "\n",
    "    # Add the centroid points.\n",
    "    # If you expect only one centroid per folder, grouping by \"Folder\" is acceptable.\n",
    "    # Each folder will be assigned a unique color.\n",
    "    for folder, df_group in df_centroids.groupby(\"Folder\"):\n",
    "        fig.add_trace(go.Scatter(\n",
    "            x=df_group[\"Normalized Permutation Entropy\"],\n",
    "            y=df_group[\"Normalized Complexity\"],\n",
    "            mode='markers',\n",
    "            marker=dict(size=12, line=dict(width=1, color='black')),\n",
    "            name=folder,\n",
    "            hovertemplate=(\n",
    "                \"<b>Folder:</b> \" + folder + \"<br>\" +\n",
    "                \"<b>Entropy:</b> %{x}<br>\" +\n",
    "                \"<b>Complexity:</b> %{y}<extra></extra>\"\n",
    "            )\n",
    "        ))\n",
    "\n",
    "    # Add the maximum complexity boundary as a red dashed line if available.\n",
    "    if isinstance(max_HC, np.ndarray) and max_HC.ndim == 2 and max_HC.shape[1] == 2:\n",
    "        fig.add_trace(go.Scatter(\n",
    "            x=max_HC[:, 0],\n",
    "            y=max_HC[:, 1],\n",
    "            mode='lines',\n",
    "            line=dict(color='red', dash='dash'),\n",
    "            name='Maximum Complexity Boundary'\n",
    "        ))\n",
    "    else:\n",
    "        logger.warning(\"max_HC is not in the expected numpy array format.\")\n",
    "\n",
    "    # Add the minimum complexity boundary as a green dashed line if available.\n",
    "    if isinstance(min_HC, np.ndarray) and min_HC.ndim == 2 and min_HC.shape[1] == 2:\n",
    "        fig.add_trace(go.Scatter(\n",
    "            x=min_HC[:, 0],\n",
    "            y=min_HC[:, 1],\n",
    "            mode='lines',\n",
    "            line=dict(color='green', dash='dash'),\n",
    "            name='Minimum Complexity Boundary'\n",
    "        ))\n",
    "    else:\n",
    "        logger.warning(\"min_HC is not in the expected numpy array format.\")\n",
    "\n",
    "    # Update layout settings for the figure\n",
    "    fig.update_layout(\n",
    "        title=f\"Centroids of Entropy–Complexity for Folders in '{os.path.basename(main_folder_path)}' (Dim={dim}, Hop={hop})\",\n",
    "        xaxis_title=\"Normalized Permutation Entropy\",\n",
    "        yaxis_title=\"Normalized Complexity\",\n",
    "        xaxis=dict(range=[0, 1]),\n",
    "        yaxis=dict(range=[0, 1]),\n",
    "        template=\"plotly_white\",\n",
    "        width=800,\n",
    "        height=600\n",
    "    )\n",
    "\n",
    "    # Show the Plotly figure\n",
    "    fig.show()\n",
    "\n",
    "\n",
    "    "
   ]
  },
  {
   "cell_type": "markdown",
   "metadata": {},
   "source": [
    "# Centroids with regions for multiple folders"
   ]
  },
  {
   "cell_type": "code",
   "execution_count": null,
   "metadata": {},
   "outputs": [],
   "source": [
    "\n",
    "def add_opacity_to_color(color_string, opacity):\n",
    "    \"\"\"\n",
    "    Converts a color string from hex (e.g. \"#1f77b4\") or rgb(...) format to an RGBA string with given opacity.\n",
    "    \"\"\"\n",
    "    # If color is in hex format, convert it to RGB first.\n",
    "    if color_string.startswith(\"#\"):\n",
    "        color_string = color_string.lstrip(\"#\")\n",
    "        lv = len(color_string)\n",
    "        r, g, b = tuple(int(color_string[i:i + lv // 3], 16) for i in range(0, lv, lv // 3))\n",
    "        return f\"rgba({r}, {g}, {b}, {opacity})\"\n",
    "    # If color is in rgb(...) format, just adjust the opacity.\n",
    "    if color_string.startswith(\"rgb(\"):\n",
    "        rgb_vals = color_string[4:-1]\n",
    "        r, g, b = [int(v.strip()) for v in rgb_vals.split(\",\")]\n",
    "        return f\"rgba({r}, {g}, {b}, {opacity})\"\n",
    "    return color_string\n",
    "\n",
    "def alpha_shape(points, alpha=0.1):\n",
    "    \"\"\"\n",
    "    Compute the alpha shape (concave hull) of a set of points.\n",
    "    \n",
    "    Parameters:\n",
    "        points (np.ndarray): An array of shape (n_points, 2).\n",
    "        alpha (float): Alpha value to influence the concavity. Smaller values result in a more detailed (less smooth)\n",
    "                       shape. Adjust this parameter to suit your data.\n",
    "    \n",
    "    Returns:\n",
    "        shapely.geometry.Polygon: The resulting concave hull as a shapely Polygon.\n",
    "                                  If not enough points are provided, returns the convex hull.\n",
    "    \"\"\"\n",
    "    if len(points) < 4:\n",
    "        return geometry.MultiPoint(list(points)).convex_hull\n",
    "\n",
    "    # Perform Delaunay triangulation on the point set.\n",
    "    tri = Delaunay(points)\n",
    "    edges = []\n",
    "    for ia, ib, ic in tri.simplices:\n",
    "        pa = points[ia]\n",
    "        pb = points[ib]\n",
    "        pc = points[ic]\n",
    "        # Compute lengths of triangle sides.\n",
    "        a = np.linalg.norm(pa - pb)\n",
    "        b = np.linalg.norm(pb - pc)\n",
    "        c = np.linalg.norm(pc - pa)\n",
    "        s = (a + b + c) / 2.0\n",
    "        # Compute triangle area via Heron’s formula.\n",
    "        area = math.sqrt(s * (s - a) * (s - b) * (s - c))\n",
    "        # Avoid division by zero.\n",
    "        if area == 0:\n",
    "            circum_r = np.inf\n",
    "        else:\n",
    "            circum_r = a * b * c / (4.0 * area)\n",
    "        # If the circumradius is below a threshold, include the triangle’s edges.\n",
    "        if circum_r < 1.0 / alpha:\n",
    "            edges.append((ia, ib))\n",
    "            edges.append((ib, ic))\n",
    "            edges.append((ic, ia))\n",
    "    \n",
    "    # Build a set of line segments from the edges.\n",
    "    edge_segments = [(points[i], points[j]) for i, j in edges]\n",
    "    m = geometry.MultiLineString(edge_segments)\n",
    "    # Polygonize the edge segments to form candidate polygons.\n",
    "    triangles = list(polygonize(m))\n",
    "    # Merge the triangles into a single (possibly concave) polygon.\n",
    "    concave_hull = unary_union(triangles)\n",
    "    return concave_hull\n",
    "\n",
    "def plot_graph_ordpy_centroids_with_region(main_folder_path: str, dim: int, hop: int, alpha_param: float) -> None:\n",
    "    \"\"\"\n",
    "    Process each subfolder in the main folder, compute the centroid (mean) of \n",
    "    normalized permutation entropy and complexity for each folder, and plot them \n",
    "    as a filled region (using an alpha shape / concave hull that follows the data more closely)\n",
    "    along with the centroid marker. Different folders are assigned different colors.\n",
    "    The maximum and minimum complexity–entropy boundaries are also plotted.\n",
    "    \n",
    "    Parameters:\n",
    "        main_folder_path (str): Path to the folder containing subfolders.\n",
    "        dim (int): Embedding dimension for ordpy.\n",
    "        hop (int): Delay (or hop) parameter for ordpy.\n",
    "        alpha_param (float): Alpha parameter to influence the concavity. Smaller values result in a more detailed (less smooth)\n",
    "                             shape. Adjust this parameter to suit your data.\n",
    "    \"\"\"\n",
    "    # Dictionary to store per-folder data.\n",
    "    folder_data = {}\n",
    "\n",
    "    # Iterate over all items (subfolders) in the main folder.\n",
    "    for item in os.listdir(main_folder_path):\n",
    "        subfolder_path = os.path.join(main_folder_path, item)\n",
    "        if os.path.isdir(subfolder_path):\n",
    "            logger.info(f\"Processing folder: {subfolder_path}\")\n",
    "            try:\n",
    "                # Process the folder and obtain entropy, complexity, and file labels.\n",
    "                all_H, all_comp, file_labels = ordpy_process_folder(subfolder_path, dim, hop)\n",
    "                \n",
    "                # Skip folders with no valid data.\n",
    "                if len(all_H) == 0 or len(all_comp) == 0:\n",
    "                    logger.warning(f\"No data found in {subfolder_path}. Skipping.\")\n",
    "                    continue\n",
    "\n",
    "                # Compute centroid (mean entropy and complexity).\n",
    "                centroid_H = np.mean(all_H)\n",
    "                centroid_comp = np.mean(all_comp)\n",
    "\n",
    "                # Save data points and the centroid.\n",
    "                folder_data[item] = {\n",
    "                    \"H\": np.array(all_H),\n",
    "                    \"comp\": np.array(all_comp),\n",
    "                    \"centroid_H\": centroid_H,\n",
    "                    \"centroid_comp\": centroid_comp\n",
    "                }\n",
    "            except Exception as e:\n",
    "                logger.error(f\"Error processing {subfolder_path}: {e}\")\n",
    "                continue\n",
    "\n",
    "    # If no data was collected, exit.\n",
    "    if not folder_data:\n",
    "        logger.error(\"No centroids were computed. Please check your data and folder structure.\")\n",
    "        return\n",
    "\n",
    "    # Retrieve the maximum and minimum complexity–entropy boundaries.\n",
    "    # They are expected to be NumPy arrays with shape (n_points, 2)\n",
    "    max_HC = ordpy.maximum_complexity_entropy(dim, hop)\n",
    "    min_HC = ordpy.minimum_complexity_entropy(dim, hop)\n",
    "\n",
    "    # Get a color palette (using Plotly's qualitative palette).\n",
    "    colors = px.colors.qualitative.Plotly\n",
    "    color_map = {}\n",
    "    folder_list = sorted(list(folder_data.keys()))\n",
    "    for i, folder in enumerate(folder_list):\n",
    "        color_map[folder] = colors[i % len(colors)]\n",
    "\n",
    "    # Create a Plotly figure.\n",
    "    fig = go.Figure()\n",
    "\n",
    "    # For each folder, add a filled region (using the alpha shape) and the centroid marker.\n",
    "    for folder, data in folder_data.items():\n",
    "        points = np.column_stack((data[\"H\"], data[\"comp\"]))\n",
    "        color = color_map[folder]\n",
    "        # Create a low-opacity fill color.\n",
    "        fill_color = add_opacity_to_color(color, 0.3)\n",
    "        \n",
    "        try:\n",
    "            # Compute the alpha shape (concave hull) for the points.\n",
    "            concave_hull = alpha_shape(points, alpha_param)\n",
    "            # If a valid polygon is returned, extract its exterior coordinates.\n",
    "            if concave_hull.geom_type == 'Polygon':\n",
    "                hull_coords = np.array(concave_hull.exterior.coords)\n",
    "                fig.add_trace(go.Scatter(\n",
    "                    x=hull_coords[:, 0],\n",
    "                    y=hull_coords[:, 1],\n",
    "                    mode='lines',\n",
    "                    fill='toself',\n",
    "                    fillcolor=fill_color,\n",
    "                    line=dict(color=add_opacity_to_color(color, 0.3), width=2),\n",
    "                    name=f\"{folder} region\",\n",
    "                    showlegend=True,\n",
    "                    hoverinfo='skip'\n",
    "                ))\n",
    "            else:\n",
    "                # Fallback: if not a polygon, plot the points as low-opacity markers.\n",
    "                fig.add_trace(go.Scatter(\n",
    "                    x=data[\"H\"],\n",
    "                    y=data[\"comp\"],\n",
    "                    mode='markers',\n",
    "                    marker=dict(color=color, opacity=0.3),\n",
    "                    name=f\"{folder} region\",\n",
    "                    showlegend=True,\n",
    "                    hoverinfo='skip'\n",
    "                ))\n",
    "        except Exception as e:\n",
    "            logger.error(f\"Could not compute alpha shape for folder {folder}: {e}\")\n",
    "            # Fallback: simply scatter the points with low opacity.\n",
    "            fig.add_trace(go.Scatter(\n",
    "                x=data[\"H\"],\n",
    "                y=data[\"comp\"],\n",
    "                mode='markers',\n",
    "                marker=dict(color=color, opacity=0.3),\n",
    "                name=f\"{folder} region\",\n",
    "                showlegend=True,\n",
    "                hoverinfo='skip'\n",
    "            ))\n",
    "            \n",
    "        # Add the centroid as a marker (using the same color).\n",
    "        fig.add_trace(go.Scatter(\n",
    "            x=[data[\"centroid_H\"]],\n",
    "            y=[data[\"centroid_comp\"]],\n",
    "            mode='markers',\n",
    "            marker=dict(color=color, size=12, symbol='circle'),\n",
    "            name=f\"{folder} centroid\",\n",
    "            hovertemplate=(\n",
    "                f\"<b>Folder:</b> {folder}<br>\" +\n",
    "                \"<b>Centroid Entropy:</b> %{x}<br>\" +\n",
    "                \"<b>Centroid Complexity:</b> %{y}<extra></extra>\"\n",
    "            )\n",
    "        ))\n",
    "\n",
    "    # Add the maximum complexity boundary as a red dashed line if available.\n",
    "    if isinstance(max_HC, np.ndarray) and max_HC.ndim == 2 and max_HC.shape[1] == 2:\n",
    "        fig.add_trace(go.Scatter(\n",
    "            x=max_HC[:, 0],\n",
    "            y=max_HC[:, 1],\n",
    "            mode='lines',\n",
    "            line=dict(color='red', dash='dash'),\n",
    "            name='Maximum Complexity Boundary'\n",
    "        ))\n",
    "    else:\n",
    "        logger.warning(\"max_HC is not in the expected numpy array format.\")\n",
    "\n",
    "    # Add the minimum complexity boundary as a green dashed line if available.\n",
    "    if isinstance(min_HC, np.ndarray) and min_HC.ndim == 2 and min_HC.shape[1] == 2:\n",
    "        fig.add_trace(go.Scatter(\n",
    "            x=min_HC[:, 0],\n",
    "            y=min_HC[:, 1],\n",
    "            mode='lines',\n",
    "            line=dict(color='green', dash='dash'),\n",
    "            name='Minimum Complexity Boundary'\n",
    "        ))\n",
    "    else:\n",
    "        logger.warning(\"min_HC is not in the expected numpy array format.\")\n",
    "\n",
    "    # Update layout settings for the figure.\n",
    "    fig.update_layout(\n",
    "        title=f\"Entropy–Complexity Regions for Folders in '{os.path.basename(main_folder_path)}' (Dim={dim}, Hop={hop})\",\n",
    "        xaxis_title=\"Normalized Permutation Entropy\",\n",
    "        yaxis_title=\"Normalized Complexity\",\n",
    "        xaxis=dict(range=[0, 1]),\n",
    "        yaxis=dict(range=[0, 1]),\n",
    "        template=\"plotly_white\",\n",
    "        width=800,\n",
    "        height=600\n",
    "    )\n",
    "\n",
    "    # Show the Plotly figure.\n",
    "    fig.show()"
   ]
  },
  {
   "cell_type": "markdown",
   "metadata": {},
   "source": [
    "# Plots"
   ]
  },
  {
   "cell_type": "markdown",
   "metadata": {},
   "source": [
    "# Genres"
   ]
  },
  {
   "cell_type": "code",
   "execution_count": 124,
   "metadata": {},
   "outputs": [
    {
     "name": "stderr",
     "output_type": "stream",
     "text": [
      "Processing audio files in data/genres_30sec/blues with dim 6 and hop 1: 100%|██████████| 100/100 [02:13<00:00,  1.34s/it]\n"
     ]
    },
    {
     "data": {
      "application/vnd.plotly.v1+json": {
       "config": {
        "plotlyServerURL": "https://plot.ly"
       },
       "data": [
        {
         "hovertemplate": "<b>File:</b> %{hovertext}<br><b>Entropy:</b> %{x}<br><b>Complexity:</b> %{y}<extra></extra>",
         "hovertext": [
          "blues.00093.wav",
          "blues.00087.wav",
          "blues.00050.wav",
          "blues.00044.wav",
          "blues.00078.wav",
          "blues.00079.wav",
          "blues.00045.wav",
          "blues.00051.wav",
          "blues.00086.wav",
          "blues.00092.wav",
          "blues.00084.wav",
          "blues.00090.wav",
          "blues.00047.wav",
          "blues.00053.wav",
          "blues.00052.wav",
          "blues.00046.wav",
          "blues.00091.wav",
          "blues.00085.wav",
          "blues.00081.wav",
          "blues.00095.wav",
          "blues.00042.wav",
          "blues.00056.wav",
          "blues.00057.wav",
          "blues.00043.wav",
          "blues.00094.wav",
          "blues.00080.wav",
          "blues.00096.wav",
          "blues.00082.wav",
          "blues.00069.wav",
          "blues.00055.wav",
          "blues.00041.wav",
          "blues.00040.wav",
          "blues.00054.wav",
          "blues.00068.wav",
          "blues.00083.wav",
          "blues.00097.wav",
          "blues.00033.wav",
          "blues.00027.wav",
          "blues.00026.wav",
          "blues.00032.wav",
          "blues.00024.wav",
          "blues.00030.wav",
          "blues.00018.wav",
          "blues.00019.wav",
          "blues.00031.wav",
          "blues.00025.wav",
          "blues.00009.wav",
          "blues.00021.wav",
          "blues.00035.wav",
          "blues.00034.wav",
          "blues.00020.wav",
          "blues.00008.wav",
          "blues.00036.wav",
          "blues.00022.wav",
          "blues.00023.wav",
          "blues.00037.wav",
          "blues.00012.wav",
          "blues.00006.wav",
          "blues.00007.wav",
          "blues.00013.wav",
          "blues.00005.wav",
          "blues.00011.wav",
          "blues.00039.wav",
          "blues.00038.wav",
          "blues.00010.wav",
          "blues.00004.wav",
          "blues.00028.wav",
          "blues.00000.wav",
          "blues.00014.wav",
          "blues.00015.wav",
          "blues.00001.wav",
          "blues.00029.wav",
          "blues.00017.wav",
          "blues.00003.wav",
          "blues.00002.wav",
          "blues.00016.wav",
          "blues.00071.wav",
          "blues.00065.wav",
          "blues.00059.wav",
          "blues.00058.wav",
          "blues.00064.wav",
          "blues.00070.wav",
          "blues.00099.wav",
          "blues.00066.wav",
          "blues.00072.wav",
          "blues.00073.wav",
          "blues.00067.wav",
          "blues.00098.wav",
          "blues.00088.wav",
          "blues.00063.wav",
          "blues.00077.wav",
          "blues.00076.wav",
          "blues.00062.wav",
          "blues.00089.wav",
          "blues.00048.wav",
          "blues.00074.wav",
          "blues.00060.wav",
          "blues.00061.wav",
          "blues.00075.wav",
          "blues.00049.wav"
         ],
         "marker": {
          "color": "blue",
          "line": {
           "color": "black",
           "width": 1
          },
          "size": 10
         },
         "mode": "markers",
         "name": "Data Points",
         "type": "scatter",
         "x": {
          "bdata": "e/ivoTaj2D+V3D1hPATlP/e9NrqrPOg/LsMjTJd56j92Xg/Dow3pP16sjp5I+uk/b2ZH2vP76T+a6u5Fz8vmP9zAUc8OPuM/V0mjvTDk4D/HZ2lxGCvnP6wXj/4HWOY/LcOGKBpW6j/toiyWhUHnPwPA6YFRGOU/PjVWMtrA6j8oFAIVJtrgP4R6SIz4TuM/MbZbi3zk5j+PzV6HvhnkP1zXY4iwFOo/NtxwoY/m5z/79OEdHvPmPxKjA/1foOo/trxsY4un4z9Egn7iYQPmP8mmnZqdpOE/aSnRQ/zb5z86jkcVOo3pPyfYBByfauc/zrskhTlO6z9zSD9SXXHqP+kHfbH0Yec/M2iUu68n6j9fB3RpbR7pPy50U0Tkl+M/wXpdEaWT5T9UlGKe85bjP4M6wSiwA+Q/np2/k5OS5D/Re9inT8HiP7cASgdwieQ/NCbOwIxO5j8qn6AXdUvhP98ImFtq7+Q/b/WdiaJC4z/BRnMD6sfmP7mZlmS+POI/FoRksYP+5T+LAl97r57mP9pzVClV6+Q/A7qlQXXI5z9RRhO/MqDjPzxul4ftv+I/mJcybGkJ4z+dC4mjDEriP2Bd/b53duM/cdG03wTj4T97v7GcDmHjP1bImzIDeeQ/R+PI3JHt5D9WE6neaDnkP3J0Lqcg9eE/JUXig7dS5j8fZSzfRxjhP/OjbtVeFOQ/c0XmLCkh4j/rF0GPzZ7mPxmNvR1jD+U/1MIJhZ5S5D+m3Zo6CRjnP1CIP/KZwuY/v1xb1n1Q4T95WQWSq7LiP7w2oacj2OM/xFqtrv1P5T8PI71SyZnpP3hNKQU5Y+o/0maWRu8s6D/WZ6PF+v7nPxPqgC7h1+k/LDz46oyb5z9IVziba87kPwjKpqoetOk/BYyhYXA56z/5fHnpmoPoPxRsTPl6cOg/fRfupv2t6T83n1zZ+F/iP4j47adzTes/AY/64zBu6D9wfuaffmXqP8FmkAmNsOg/yvS5tzvp3j+C+2HdkI/pP2YH6Mo1DOs/g595IXU55z9poJK8WXrpP2fqSDV6sOk/7miWYQnZ5T8=",
          "dtype": "f8"
         },
         "y": {
          "bdata": "LIAPmzDP0j8mA3jRBsfVP7IVifJe4tU/Dl6URynt0j8DmJxO18bUP8phzMKrWNM/CitHYCDR0z8s8OZeiRDYP+x03K9l7dQ/IHbGSLCl1D+VnyREPyTWP2rGbael4dQ/QhByTHmD0z/i+fv+VObXP+Ytl4MF79c/Gb9pSJaF0T/U4/q+C1nVP53Uin9Pk9Y/TMpKur3l1z9rBjv692zVP7h05bCQp9M/8UjRcPsI1j9udQKrFzLXP3XtvF2+t9E/aqvAA6A71j9+k9WFMYfXPwEX1ZT9+9Q/aFcJ1+KU1T9QPAhTtUjVPxy0WkO4itc/Xb+EJGBj0D9+Y1KnK2LTP5nSZ9cUG9c/yY0/M9rn0z/+StL+eD3VP2wHGAMcXdY/WPg4K1NA0z+KiyEulWbZP3+UBa5lcdc/UHDYL6q20z8G7yKFTMPXP/hSVoj8ldM/SMHxaDAG1D+azATEQN/WP2ameeZzt9M/M6pR9UYb2D82G4fCt9vVP3P7Z/TBJtY/j5CCEh660z8+L6sVjqbTP+t/fUsx29Q/IzNQOzzt1D+u3gFtZTzUP644zIPlAtc/3MlADtLu1z/aaoBzcunUP+xhWhgNqdg/03c8WnDG1z+l2mEzbGnXP3wO/ZrurdU/prQ+NGk41j/CCrs/pjPVPyxkAWnqyNM/r2uypQoJ0z8a0US7NIXWP3EqAWIJrNc/HEDAzS2K1z88LNZb2zzWPxWDkeRlM9U/wY5fJjq/1j9uocV7LvvTP27euCDu7tI/ZO9QoEXF1z+FOWz+65jVP3/ow/ryE9c/ahAIDsJt1T8bHzI69GnVPwXBCRAYgNM/3MgqUBw41z+tAiIB8X3WPy5NM/1gQNU/TUmJsmwA1j+wfEjlR0nXP7WQLbqdUNQ/8xPXRho20j/zJ2BfhgnWP529hxFBQtY/sQFjtgaz1D81wGp7qCDWP5uzwyysytE/+2Ya3pnc1D8wLn9qUOPSP6LK70AktNY/yxI9DGmr1D+Kn62ugz/UP/q4tTVdztA/PqFgKk+M1z+hAVM/j1zWP9gN15jfUtM/PKbfVr1n1T8=",
          "dtype": "f8"
         }
        },
        {
         "line": {
          "color": "red",
          "dash": "dash"
         },
         "mode": "lines",
         "name": "Maximum Complexity Boundary",
         "type": "scatter",
         "x": {
          "bdata": "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",
          "dtype": "f8"
         },
         "y": {
          "bdata": "AAAAAAAAAIAmJsccRM26PwV2uEcWHsU/tfS7lImAyj8OFYObd5vOP2BjCC+M89A/sousj9BR0j80VQ3Ht3vTP1EcbCWkfdQ/wNsV4gtg1T/Gn7P5+CjWPz1c2njh3NY/1jJ//Sh/1z+7SPojchLYPx/K39LTmNg/GitqT/0T2T+OTgFgT4XZP7O83z7u7dk/cpM4ss5O2j/CHYLIv6jaP5R4ujRy/No/ey9q9H1K2z/Lzk20ZpPbP5Aot0Wf19s/KNBBX4wX3D/aU17ThlPcP8gk/Fvdi9w/JnCjEtbA3D+065Wmr/LcP/8UYV6iId0/Hyk47+BN3T/3HCAymXfdP5yZPL30nt0/mJU7ZhnE3T+X+9mxKefdPxYFszNFCN4/iS3v4Ign3j9RRuxXD0XeP5KIlh7xYN4/AInc2ER73j95cWl4H5TeP1xknmaUq94/ePKaqbXB3j8uGgMFlNbePzjWFRc/6t4/bKWQcsX83j9fu8m1NA7fPyD3Wp+ZHt8/Zb6qIAAu3z+b75RuczzfP5/1bBD+Sd8/IUWK7alW3z8I+IlZgGLfP0Goah+Kbd8/8eSii8933z+thk51WIHfPymqi0Ysit8/ahEdBFKS3z9LFGVU0JnfPwYEyoWtoN8/sPSSlO+m3z9CK0ownKzfP87wsMC4sd8/okFPakq23z9GragSVrrfPwy5HmTgvd8/3DuI0e3A3z8pXoSZgsPfP6U/j8mixd8/4KTdQFLH3z+jiQSzlMjfP1P4cKptyd8/yhu0iuDJ3z+tIKeS8MnfP2Ijat6gyd8/QR1BafTI3z9ee1EP7sffP8jQQo+Qxt8/ZdbEi97E3z+ewPyM2sLfP+HD2wGHwN8/NnJgQea93z+9gcSL+rrfP+ZimAvGt98/ivLN1kq03z/VeLPvirDfPzAM4EWIrN8/jlgSt0So3z+pugIQwqPfP+2FKQ0Cn98/xEF6Wwaa3z+6lhSZ0JTfP1GX61Vij98/bgJkFL2J3z+sF+pJ4oPfP799f1/Tfd8/FsBBspF33z821+mTHnHfP9UmRUt7at8/tlqoFKlj3z8afFwiqVzfPwGcBp18Vd8/qV8KpCRO3z9WwOdNokbfP/w/lKj2Pt8/59nPuSI33z9n6nV/Jy/fPzJIyu8FJ98/j8bC+b4e3z/1UU2FUxbfPwjWknPEDd8//xw3nxIF3z/iypXcPvzePz+l/PlJ894/cUPjvzTq3j9rUCDx/+DePy15HEus194/2yoDhjrO3j/iOvFUq8TeP9OSIWb/ut4/SP0XYzex3j+tJ8rwU6fePzTyxq9Vnd4/6iFcPD2T3j/sibouC4nePyW9GBvAft4/zlzUkVx03j8FEpIf4WneP1hEXE1OX94/v5zAoKRU3j+NYOyb5EneP460x70OP94/AtUPgiM03j+cTHBhIyneP784m9EOHt4/UaJgReYS3j/4+cQsqgfeP0u+FvVa/N0/klUDCfnw3T86JavQhOXdP0vvtLH+2d0/uXtgD2fO3T/RmJhKvsLdPwV2BMIEt90/jWMY0jqr3T8p+iXVYJ/dP6mzayN3k90/lfkjE36H3T+3rpP4dXvdP0Y5GCZfb90/sRM17Dlj3T+y6KCZBlfdP009UnvFSt0/2q+L3HY+3T8L0OcGGzLdP3WRZEKyJd0/7V9u1TwZ3T9x1uoEuwzdPykeQxQtAN0/W/htRZPz3D9DdfnY7ebcP6xdFA492tw/+06XIoHN3D/kjg1TusDcPw6Zvdros9w/4Wax8wyn3D8Ser7WJprcPxCijbs2jdw/SYui2DyA3D8tD2NjOXPcP2VNHpAsZtw/XY8TkhZZ3D/i9Xib90vcP2X0gd3PPtw/2ZxliJ8x3D8ZuWTLZiTcP7K6z9QlF9w/2HsM0twJ3D9r1pvvi/zbP2ASH1kz79s/2CxdOdPh2z8J+Ee6a9TbP0oVAQX9xts/I87eQYe52z8HyHCYCqzbPzmXhC+Hnts/ETIqLf2Q2z/9Q7i2bIPbP35i0PDVdds/uSVj/zho2z/nIbQFllrbPwzJXSbtTNs/by5Vgz4/2z8Bs+09ijHbPyOX3HbQI9s/tnQ8ThEW2z9YopDjTAjbP+B9yFWD+to/XqRCw7Ts2j+tENBJ4d7aPzYotwYJ0do/6bK2FizD2j/YvgiWSrXaP2ByZaBkp9o/UsoFUXqZ2j+cSKbCi4vaP/mOiQ+Zfdo/n+t6UaJv2j8109Chp2HaPyBNbxmpU9o/9U7K0KZF2j/3CejfoDfaP/0pY16XKdo/MgZtY4ob2j9Nw88Feg3aP51r8Ftm/9k/E/XQe0/x2T/BQBJ7NePZP7wJ9m4Y1dk/+clgbPjG2T93k9uH1bjZP4XeldWvqtk/l0xnaYec2T8PYdFWXI7ZP2IvAbEugNk/oADRiv5x2T8N7Mn2y2PZP0xqJQeXVdk/IdzOzV9H2T+pCmVcJjnZP4ucO8TqKtk/f4RcFq0c2T/dZ4ljbQ7ZP576PLwrANk/3VWsMOjx2D/KRsjQouPYP4iUPqxb1dg/oz970hLH2D/ou6lSyLjYPzQgtjt8qtg/KFNOnC6c2D9+LuOC343YP+ydqf2Of9g/PLabGj1x2D+WyHnn6WLYP8Fsy3GVVNg/z4ngxj9G2D/6U9Lz6DfYP1xKhAWRKdg/RCylCDgb2D/06K8J3gzYP/yM7BSD/tc/zydxNifw1z87riJ6yuHXP0XYtets09c/+fivlg7F1z/K0meGr7bXP51oBsZPqNc/vceHYO+Z1z/U0LtgjovXP6L6RtEsfdc/4RGjvMpu1z8J9B8taGDXPxFI5CwFUtc/hTLuxaFD1z9rBRQCPjXXP5HuBOvZJtc/DJ9JinUY1z/780TpEArXP12XNBGs+9Y/jKExC0ft1j8mNDHg4d7WP5AVBZl80NY/6kVcPhfC1j9Yk8PYsbPWP2srpnBMpdY/uCdODueW1j8jG+W5gYjWPxaYdHscetY/wrjmWrdr1j9eoQZgUl3WP+UAgZLtTtY/3pDk+YhA1j9VkKKdJDLWP5M+D4XAI9Y/2lBit1wV1j8Ua7c7+QbWP/aODhmW+NU/5o9MVjPq1T/egDv60NvVP4ggiwtvzdU/q0XRkA2/1T/CRoqQrLDVP0thGRFMotU/Oh/JGOyT1T+fucutjIXVP+16O9Ytd9U/Gh0bmM9o1T/ZKVb5cVrVP8hUwf8UTNU/jNcasbg91T9yyQoTXS/VP1h4IysCIdU/Xb3h/qcS1T/qUa2TTgTVP54h2e719dQ/gZ2jFZ7n1D+xCTcNR9nUP5nNqdrwytQ/B8H+gpu81D+sdiULR67UP1WI+nfzn9Q/W99HzqCR1D8C/MQST4PUP1I9F0r+dNQ/pibSeK5m1D+QonejX1jUP1ZHeM4RStQ/xZgz/sQ71D9mSPg2eS3UPxh2BH0uH9Q/iO6F1OQQ1D+xaJpBnALUPxnCT8hU9NM/HjukbA7m0z8VsoYyydfTP7Pa1h2FydM/1nllMkK70z8umvRzAK3TPwXFN+a/ntM/uDfUjICQ0z8sGGFrQoLTPz+qZ4UFdNM//4Bj3sll0z/1ssJ5j1fTPzwL5lpWSdM/pjkhhR470z8eBLv75yzTP0V07cGyHtM/RQfm2n4Q0z/q2sVJTALTP+HaoREb9NI/ruyCNevl0j+xG2a4vNfSP3jDPJ2PydI/7rrs5mO70j85fFCYOa3SP2ZPN7QQn9I/bHFlPemQ0j9HPJQ2w4LSPxBOcqKedNI/mq6jg3tm0j8s9sHcWVjSP9JxXLA5StI/Okj4ABs80j/VnhDR/S3SP+y6FiPiH9I/dSZy+ccR0j8H0oBWrwPSP5Q2lzyY9dE/BnYAroLn0T8xfv6sbtnRP5Mlyjtcy9E/LU+TXEu90T8BB4ERPK/RP9GhsVwuodE/1ts6QCKT0T/q9Sm+F4XRP/LTg9gOd9E/5BhFkQdp0T9URGLqAVvRPzHOx+X9TNE/70Fahfs+0T8IW/bK+jDRPyYfcbj7ItE/5fiXT/4U0T+q0DCSAgfRP98p+oEI+dA/STirIBDr0D/Y+vNvGd3QP0tVfXEkz9A/viXpJjHB0D+PX9KRP7PQP2YgzbNPpdA/yslmjmGX0D+GFSYjdYnQP/sti3OKe9A/HcQPgaFt0D/SIydNul/QPzJMPtnUUdA/7wG8JvFD0D+p5gA3DzbQPweMZwsvKNA/2YhEpVAa0D9vjOYFdAzQP6/nLF0y/c8/HrcuQYDhzz/xZk260cXPP8ql+Momqs8/8hKVdX+Ozz9eZHy823LPP1ON/aE7V88/Vd5cKJ87zz8kK9RRBiDPP1TtkiBxBM8/S2W+lt/ozj/vvHG2Uc3OP8QpvoHHsc4/iAyr+kCWzj8cETYjvnrOPzlSU/0+X84/RXLtisNDzj/gweXNSyjOP09aFMjXDM4/UTxIe2fxzT+rbEfp+tXNPx8WzxOSus0/HKGT/CyfzT8j1ECly4PNPwfueQ9uaM0/UcLZPBRNzT9v1PIuvjHNP810T+drFs0/XNdxZx37zD/CMtSw0t/MP1DY6MSLxMw/NEoapUipzD/zW8tSCY7MP3tFV8/Ncsw/A74RHJZXzD/jFEc6YjzMP9lIPCsyIcw/hh4v8AUGzD87OVaK3erLP+0z4fq4z8s/orL4Qpi0yz8Mfr5je5nLP3mXTV5ifss/UU26M01jyz/JVBLlO0jLP7DZXHMuLcs/GJma3yQSyz8l8MUqH/fKP4f20lUd3Mo/zI6vYR/Byj/QeUNPJabKP4FtcB8vi8o/TCUS0zxwyj9veP5qTlXKPxhoBehjOso/eTjxSn0fyj+we4aUmgTKPxUrhMW76ck/wrSj3uDOyT+LDZngCbTJP2/FEsw2mck/TBW6oWd+yT9g8TJinGPJPyocHA7VSMk/1jEPphEuyT9Uv6AqUhPJP35LYJyW+Mg/Z23Y+97dyD+f145JK8PIP01qBIZ7qMg/4kC1sc+NyD9qwhjNJ3PIPwCxodiDWMg/Nja+1OM9yD9W9NfBRyPIP3oUVKCvCMg/BlKTcBvuxz87DPIyi9PHPz9RyOf+uMc/BfBpj3aexz8HfyYq8oPHP4hxSbhxacc/AR0aOvVOxz+JztuvfDTHP3zOzRkIGsc/EXYreJf/xj++NCzLKuXGP7+gAxPCysY/pYLhT12wxj8K4fGB/JXGP30MXamfe8Y/86lHxkZhxj9JwdLY8UbGP23HG+GgLMY/G6k831MSxj931kvTCvjFP0ROXL3F3cU/Wqh9nYTDxT9cI7xzR6nFP5KqIEAOj8U/meSwAtl0xT8SOm+7p1rFPwjkWmp6QMU/NfNvD1EmxT90XKeqKwzFPzn/9jsK8sQ/HLJRw+zXxD8wTKdA073EP7at5LO9o8Q/68rzHKyJxD93tLt7nm/EP2qeINCUVcQ/efADGo87xD/0RERZjSHEP0l7vY2PB8Q/KrlIt5Xtwz/geLzVn9PDP0SP7OitucM/PDOq8L+fwz/3CMTs1YXDP0woBt3va8M/6CQ6wQ1Swz/bFyeZLzjDP+GkkWRVHsM/3wQ8I38Ewz90DubUrOrCP2w4TXne0MI/BKgsEBS3wj+lND2ZTZ3CP09vNRSLg8I/AazJgMxpwj/CBqzeEVDCPzdrjC1bNsI/hJ8Ybagcwj8aQ/yc+QLCPwrg4LxO6cE/eOhtzKfPwT/Gw0jLBLbBP7XRFLllnME/WHJzlcqCwT8RDQRgM2nBPy8VZBigT8E/hxQvvhA2wT/Sq/5QhRzBP3GdatD9AsE/U9EIPHrpwD9yXG2T+s/AP3mGKtZ+tsA/Xs7QAwedwD+J8u4bk4PAP5f0ER4jasA/KCHFCbdQwD/AEpLeTjfAP727AJzqHcA/XGWXQYoEwD8DebWdW9a/P8mkm4aqo78/tEXkPAFxvz83No+/Xz6/P3w5mQ3GC78/xQr8JTTZvj+HYq4Hqqa+PwsFpLEndL4/NsjNIq1Bvj++oxlaOg++P6CxclbP3L0/a0DBFmyqvT8n3OqZEHi9P/BM0t68Rb0/yrFX5HATvT9GelipLOG8P495ryzwrrw/qeY0bbt8vD8Acr5pjkq8PzRBHyFpGLw/JP8nkkvmuz+C5Ka7NbS7P9C6Z5wngrs/WuwzMyFQuz/Sh9J+Ih67P5xJCH4r7Lo/66GXLzy6uj+AwUCSVIi6P0OewaR0Vro/rf3VZZwkuj8wdjfUy/K5Pyp/ne4Cwbk/ZHS9s0GPuT/AnUoiiF25Pyc29jjWK7k/InVv9iv6uD/okmNZici4P13WfWDulrg/d49nCltluD+vK8hVzzO4P9g1RUFLArg/JWCCy87Qtz+GhCHzWZ+3PyG1wrbsbbc/+DsEFYc8tz+DpIIMKQu3Pw2/2JvS2bY/5KqfwYOotj/63G58PHe2P/4g3Mr8RbY/6KR7q8QUtj/K+t8clOO1P4Immh1rsrU/uZg5rEmBtT/zPkzHL1C1P9WAXm0dH7U/ak77nBLutD93IKxUD720P6r8+JITjLQ/AYNoVh9btD/m53+dMiq0P1wIw2ZN+bM/U1+0sG/Isz/hF9V5mZezP7sLpcDKZrM/j8qigwM2sz9on0vBQwWzPy+VG3iL1LI/mXuNptqjsj837hpLMXOyP/lVPGSPQrI/Fu9o8PQRsj951RbuYeGxP4D4ulvWsLE//DHJN1KAsT+9P7SA1U+xPz/O7TRgH7E/lHbmUvLusD+gyg3Zi76wP3hT0sUsjrA/6pqhF9VdsD9dK+jMhC2wP54rI8h3+q8/aOsQt/SZrz9W8mxjgDmvPxO9CMoa2a4/IwK058N4rj+Hojy5exiuP7PFbjtCuK0/vd8UaxdYrT+BsPdE+/esP5NI3sXtl6w/zCiO6u43rD8xLMuv/terP4GhVxIdeKs/b0z0DkoYqz95dWCihbiqP0LkWcnPWKo/xeqcgCj5qT+Kd+TEj5mpP2MP6pIFOqk/ctll54naqD9mpQ6/HHuoPyL3mRa+G6g/wwS86m28pz9fyCc4LF2nPxX8jvv4/aY/MCWiMdSepj9VmBDXvT+mPyWMiOi14KU/sQe3YryBpT/ABEhC0SKlPwFe5oP0w6Q/8+c7JCZlpD/cZPEfZgakP0icrnO0p6M/RlcaHBFJoz8EZtoVfOqiP+etk131i6I/4B/q73wtoj+o0YDJEs+hP+Hx+ea2cKE/aNf2RGkSoT8jCBjgKbSgP3E3/bT4VaA/taWKgKvvnz+cBB39gTOfP9VU7Nh0d54/L+8xDYS7nT+H0yWTr/+cP3iS/mP3Q5w/AGzxeFuImz/qXjLL28yaP9cd9FN4EZo/liZoDDFWmT841L7tBZuYPwhHJ/H235c/9K7PDwQllz+bCuVCLWqWP1FHk4Nyr5U/kH4Fy9P0lD/Kr2USUTqUPyQF3VLqf5M/4bCThZ/Fkj+8HLGjcAuSP6zgW6ZdUZE/6b+5hmaXkD90jN97FruPP8SLRIqXR44/ULPpKlDUjD9cDhVQQGGLP08+C+xn7ok/q+IP8cZ7iD+xQmVRXQmHP2HeTP8ql4U/P+oG7S8lhD927NIMbLOCPy5g71DfQYE/XPszVxOhfz/RmB8e1r58Py7SGdsG3Xk/oxuacqX7dj+uURbJsRp0P+J+A8MrOnE//UKriSa0bD/Pmf9l0PRmP2f36ONUNmE/GWGVmGfxVj9NIxygs+9GPw==",
          "dtype": "f8"
         }
        },
        {
         "line": {
          "color": "green",
          "dash": "dash"
         },
         "mode": "lines",
         "name": "Minimum Complexity Boundary",
         "type": "scatter",
         "x": {
          "bdata": "AAAAAAAAAICaxf+16xqTP+jVhP1KAqI/vUTdi+gLqj/86nM1k+ewP8K3yY7ArrQ/p554aKFguD/uL+sCmwC8PzAUmEQWkb8/OC9Izu+JwT9fJ6LWLUXDP9zCdlXT+sQ/w/gEHFSrxj8NvFFLEFfIP6qV/uFY/sk/NbM6+3Khyz8sJAsvmkDNP7DF0VkC3M4/1TEXfOw50D9Eo50aIwTRP2yQ0d+2zNE/cXTxubeT0j+olffyM1nTP1t01Gg4HdQ/9H3Ou9Df1D86qBR1B6HVP9wYEyfmYNY/6J68iHUf1z8jY7eMvdzXP+DxJ3XFmNg/K+Ku5JNT2T+Dkg/tLg3aP45i3xucxdo/e8qKheB82z/HfO/OADPcP7hzvzUB6Nw/PsHXl+Wb3T86q655sU7eP6iv9gtoAN8/nDCPMAyx3z9Pw2s/UDDgP4fyuqOTh+A/ylnQS1He4D+2U/sdijThPz/0d+E+iuE/Qmx4P3Df4T8RywLEHjTiP6MEpt5KiOI/1I4I4/Tb4j9mYlIJHS/jP3Kyc27DgeM/hzlJFOjT4z/jjp7hiiXkP/qKDqKrduQ/+FfBBUrH5D/zXQehZRflP7HIz+v9ZuU/h+v4QBK25T8VRHjdoQTmP8xKV9+rUuY/IZyBRC+g5j94S2DpKu3mP6RZPYedOec/N09psoWF5z+X1RvY4dDnP/fNBjywG+g/48WR9e5l6D84trHsm6/oP9ubTta0+Og/1pYlMDdB6T+zsRI8IInpP7wOqfps0Ok//L/6JBoX6j81rmolJF3qP6I6Wg+Houo/yCN5lT7n6j+L1W/+RSvrP0CTiReYbus/5ELrJC+x6z99ysLOBPPrP0yqrgoSNOw/q/lgAE907D/z+SzosrPsPzkUuOEz8uw/IStdwMYv7T9YSNjJXmztPxjoW2Ltp+0/YoL0nmHi7T99rZWzpxvuP30tZSyoU+4/3roJ2EaK7j+hR1o3Yb/uPwiMLibM8u4/5bjgL1Ak7z8p/rF0o1PvP1Omz7BegO8/zKz4ROep7z8Ha0uLO8/vP00Cx0hS7u8/AAAAAAAA8D8=",
          "dtype": "f8"
         },
         "y": {
          "bdata": "AAAAAAAAAIDM4Y+YJlKSP3cLBINQtqA/J6zO+G52pz/N5dV3Gp6tP32fvDSTpLE/ZaqxOrdEtD8TBRfs0bW2Pz4In7ex/Lg/GLkl5iMduz9xvMwPQxq9Pxsj/6un9r4/5RS4+ENawD9oIqDe5irBPyRePBgT7sE/wQS/lIakwj+vc/D06k7DPw+0hN/Y7cM/pSqkndqBxD8oUsMvbgvFP5alVvwGi8U/hbZQMA8Bxj8sB9Pi6G3GP/hm9Qjv0cY/xNtVQ3Ytxz+YwtaMzYDHP9+iQtA+zMc/fgROaQ8QyD/crH+UgEzIP5sM0dDPgcg/ni5MNTewyD9iM3+87dfIP0a3R4cn+cg/fpI0GBYUyT+FPYaI6CjJP5yFqrfLN8k/4/HsdepAyT91afiqbUTJPygQr3h8Qsk/y77JWjw7yT/8YqBD0S7JPxf1brZdHck/SXpf3wIHyT/Z8pep4OvIP2cIg9MVzMg/PX2DAcCnyD9qhzzP+37IPyJNlN/kUcg/7m6R65UgyD8B7jDQKOvHP3iHTpu2scc/0wG3l1d0xz8XdnlYIzPHPym7isMw7sY/u1HMG5alxj+AsYYKaVnGP2W5Zai+CcY/itMEhqu2xT/kqBe0Q2DFP1J8O8uaBsU/k9Z888OpxD9Y05zr0UnEPyY2IRDX5sM/ToM6YuWAwz/Sh4uODhjDP9tB3vNjrMI/8cnSqfY9wj9N75WH18zBPxqprioXWcE/kEzz/cXiwD9sFbpA9GnAP14jtxxk3b8/msZDzB7ivj+pCIpnOOK9P53wNrHQ3bw/2BdgawfVuz8HP/Nt/Me6P/0JBcDPtrk/A3bGtKGhuD/EsyUNk4i3P1sKdB/Fa7Y/353hBlpLtT8Cb0vddCe0P1Lq0QI6ALM/PSYjeM/VsT+5+pxSXaiwP9pCy6kc8K4/hmBseCGKrD+oqte3Lh+qP+ZMTGK2r6c/w7ANazs8pT8z3wTgWMWiPzQr8GfNS6A/peLq2R2hmz/cun3T3amWP55cgtvItZE/L6gfV+WWiT8G9z+G6d9/P9Qznsa2+Wo/3KtzhX9C17w=",
          "dtype": "f8"
         }
        }
       ],
       "layout": {
        "height": 600,
        "template": {
         "data": {
          "bar": [
           {
            "error_x": {
             "color": "#2a3f5f"
            },
            "error_y": {
             "color": "#2a3f5f"
            },
            "marker": {
             "line": {
              "color": "white",
              "width": 0.5
             },
             "pattern": {
              "fillmode": "overlay",
              "size": 10,
              "solidity": 0.2
             }
            },
            "type": "bar"
           }
          ],
          "barpolar": [
           {
            "marker": {
             "line": {
              "color": "white",
              "width": 0.5
             },
             "pattern": {
              "fillmode": "overlay",
              "size": 10,
              "solidity": 0.2
             }
            },
            "type": "barpolar"
           }
          ],
          "carpet": [
           {
            "aaxis": {
             "endlinecolor": "#2a3f5f",
             "gridcolor": "#C8D4E3",
             "linecolor": "#C8D4E3",
             "minorgridcolor": "#C8D4E3",
             "startlinecolor": "#2a3f5f"
            },
            "baxis": {
             "endlinecolor": "#2a3f5f",
             "gridcolor": "#C8D4E3",
             "linecolor": "#C8D4E3",
             "minorgridcolor": "#C8D4E3",
             "startlinecolor": "#2a3f5f"
            },
            "type": "carpet"
           }
          ],
          "choropleth": [
           {
            "colorbar": {
             "outlinewidth": 0,
             "ticks": ""
            },
            "type": "choropleth"
           }
          ],
          "contour": [
           {
            "colorbar": {
             "outlinewidth": 0,
             "ticks": ""
            },
            "colorscale": [
             [
              0,
              "#0d0887"
             ],
             [
              0.1111111111111111,
              "#46039f"
             ],
             [
              0.2222222222222222,
              "#7201a8"
             ],
             [
              0.3333333333333333,
              "#9c179e"
             ],
             [
              0.4444444444444444,
              "#bd3786"
             ],
             [
              0.5555555555555556,
              "#d8576b"
             ],
             [
              0.6666666666666666,
              "#ed7953"
             ],
             [
              0.7777777777777778,
              "#fb9f3a"
             ],
             [
              0.8888888888888888,
              "#fdca26"
             ],
             [
              1,
              "#f0f921"
             ]
            ],
            "type": "contour"
           }
          ],
          "contourcarpet": [
           {
            "colorbar": {
             "outlinewidth": 0,
             "ticks": ""
            },
            "type": "contourcarpet"
           }
          ],
          "heatmap": [
           {
            "colorbar": {
             "outlinewidth": 0,
             "ticks": ""
            },
            "colorscale": [
             [
              0,
              "#0d0887"
             ],
             [
              0.1111111111111111,
              "#46039f"
             ],
             [
              0.2222222222222222,
              "#7201a8"
             ],
             [
              0.3333333333333333,
              "#9c179e"
             ],
             [
              0.4444444444444444,
              "#bd3786"
             ],
             [
              0.5555555555555556,
              "#d8576b"
             ],
             [
              0.6666666666666666,
              "#ed7953"
             ],
             [
              0.7777777777777778,
              "#fb9f3a"
             ],
             [
              0.8888888888888888,
              "#fdca26"
             ],
             [
              1,
              "#f0f921"
             ]
            ],
            "type": "heatmap"
           }
          ],
          "histogram": [
           {
            "marker": {
             "pattern": {
              "fillmode": "overlay",
              "size": 10,
              "solidity": 0.2
             }
            },
            "type": "histogram"
           }
          ],
          "histogram2d": [
           {
            "colorbar": {
             "outlinewidth": 0,
             "ticks": ""
            },
            "colorscale": [
             [
              0,
              "#0d0887"
             ],
             [
              0.1111111111111111,
              "#46039f"
             ],
             [
              0.2222222222222222,
              "#7201a8"
             ],
             [
              0.3333333333333333,
              "#9c179e"
             ],
             [
              0.4444444444444444,
              "#bd3786"
             ],
             [
              0.5555555555555556,
              "#d8576b"
             ],
             [
              0.6666666666666666,
              "#ed7953"
             ],
             [
              0.7777777777777778,
              "#fb9f3a"
             ],
             [
              0.8888888888888888,
              "#fdca26"
             ],
             [
              1,
              "#f0f921"
             ]
            ],
            "type": "histogram2d"
           }
          ],
          "histogram2dcontour": [
           {
            "colorbar": {
             "outlinewidth": 0,
             "ticks": ""
            },
            "colorscale": [
             [
              0,
              "#0d0887"
             ],
             [
              0.1111111111111111,
              "#46039f"
             ],
             [
              0.2222222222222222,
              "#7201a8"
             ],
             [
              0.3333333333333333,
              "#9c179e"
             ],
             [
              0.4444444444444444,
              "#bd3786"
             ],
             [
              0.5555555555555556,
              "#d8576b"
             ],
             [
              0.6666666666666666,
              "#ed7953"
             ],
             [
              0.7777777777777778,
              "#fb9f3a"
             ],
             [
              0.8888888888888888,
              "#fdca26"
             ],
             [
              1,
              "#f0f921"
             ]
            ],
            "type": "histogram2dcontour"
           }
          ],
          "mesh3d": [
           {
            "colorbar": {
             "outlinewidth": 0,
             "ticks": ""
            },
            "type": "mesh3d"
           }
          ],
          "parcoords": [
           {
            "line": {
             "colorbar": {
              "outlinewidth": 0,
              "ticks": ""
             }
            },
            "type": "parcoords"
           }
          ],
          "pie": [
           {
            "automargin": true,
            "type": "pie"
           }
          ],
          "scatter": [
           {
            "fillpattern": {
             "fillmode": "overlay",
             "size": 10,
             "solidity": 0.2
            },
            "type": "scatter"
           }
          ],
          "scatter3d": [
           {
            "line": {
             "colorbar": {
              "outlinewidth": 0,
              "ticks": ""
             }
            },
            "marker": {
             "colorbar": {
              "outlinewidth": 0,
              "ticks": ""
             }
            },
            "type": "scatter3d"
           }
          ],
          "scattercarpet": [
           {
            "marker": {
             "colorbar": {
              "outlinewidth": 0,
              "ticks": ""
             }
            },
            "type": "scattercarpet"
           }
          ],
          "scattergeo": [
           {
            "marker": {
             "colorbar": {
              "outlinewidth": 0,
              "ticks": ""
             }
            },
            "type": "scattergeo"
           }
          ],
          "scattergl": [
           {
            "marker": {
             "colorbar": {
              "outlinewidth": 0,
              "ticks": ""
             }
            },
            "type": "scattergl"
           }
          ],
          "scattermap": [
           {
            "marker": {
             "colorbar": {
              "outlinewidth": 0,
              "ticks": ""
             }
            },
            "type": "scattermap"
           }
          ],
          "scattermapbox": [
           {
            "marker": {
             "colorbar": {
              "outlinewidth": 0,
              "ticks": ""
             }
            },
            "type": "scattermapbox"
           }
          ],
          "scatterpolar": [
           {
            "marker": {
             "colorbar": {
              "outlinewidth": 0,
              "ticks": ""
             }
            },
            "type": "scatterpolar"
           }
          ],
          "scatterpolargl": [
           {
            "marker": {
             "colorbar": {
              "outlinewidth": 0,
              "ticks": ""
             }
            },
            "type": "scatterpolargl"
           }
          ],
          "scatterternary": [
           {
            "marker": {
             "colorbar": {
              "outlinewidth": 0,
              "ticks": ""
             }
            },
            "type": "scatterternary"
           }
          ],
          "surface": [
           {
            "colorbar": {
             "outlinewidth": 0,
             "ticks": ""
            },
            "colorscale": [
             [
              0,
              "#0d0887"
             ],
             [
              0.1111111111111111,
              "#46039f"
             ],
             [
              0.2222222222222222,
              "#7201a8"
             ],
             [
              0.3333333333333333,
              "#9c179e"
             ],
             [
              0.4444444444444444,
              "#bd3786"
             ],
             [
              0.5555555555555556,
              "#d8576b"
             ],
             [
              0.6666666666666666,
              "#ed7953"
             ],
             [
              0.7777777777777778,
              "#fb9f3a"
             ],
             [
              0.8888888888888888,
              "#fdca26"
             ],
             [
              1,
              "#f0f921"
             ]
            ],
            "type": "surface"
           }
          ],
          "table": [
           {
            "cells": {
             "fill": {
              "color": "#EBF0F8"
             },
             "line": {
              "color": "white"
             }
            },
            "header": {
             "fill": {
              "color": "#C8D4E3"
             },
             "line": {
              "color": "white"
             }
            },
            "type": "table"
           }
          ]
         },
         "layout": {
          "annotationdefaults": {
           "arrowcolor": "#2a3f5f",
           "arrowhead": 0,
           "arrowwidth": 1
          },
          "autotypenumbers": "strict",
          "coloraxis": {
           "colorbar": {
            "outlinewidth": 0,
            "ticks": ""
           }
          },
          "colorscale": {
           "diverging": [
            [
             0,
             "#8e0152"
            ],
            [
             0.1,
             "#c51b7d"
            ],
            [
             0.2,
             "#de77ae"
            ],
            [
             0.3,
             "#f1b6da"
            ],
            [
             0.4,
             "#fde0ef"
            ],
            [
             0.5,
             "#f7f7f7"
            ],
            [
             0.6,
             "#e6f5d0"
            ],
            [
             0.7,
             "#b8e186"
            ],
            [
             0.8,
             "#7fbc41"
            ],
            [
             0.9,
             "#4d9221"
            ],
            [
             1,
             "#276419"
            ]
           ],
           "sequential": [
            [
             0,
             "#0d0887"
            ],
            [
             0.1111111111111111,
             "#46039f"
            ],
            [
             0.2222222222222222,
             "#7201a8"
            ],
            [
             0.3333333333333333,
             "#9c179e"
            ],
            [
             0.4444444444444444,
             "#bd3786"
            ],
            [
             0.5555555555555556,
             "#d8576b"
            ],
            [
             0.6666666666666666,
             "#ed7953"
            ],
            [
             0.7777777777777778,
             "#fb9f3a"
            ],
            [
             0.8888888888888888,
             "#fdca26"
            ],
            [
             1,
             "#f0f921"
            ]
           ],
           "sequentialminus": [
            [
             0,
             "#0d0887"
            ],
            [
             0.1111111111111111,
             "#46039f"
            ],
            [
             0.2222222222222222,
             "#7201a8"
            ],
            [
             0.3333333333333333,
             "#9c179e"
            ],
            [
             0.4444444444444444,
             "#bd3786"
            ],
            [
             0.5555555555555556,
             "#d8576b"
            ],
            [
             0.6666666666666666,
             "#ed7953"
            ],
            [
             0.7777777777777778,
             "#fb9f3a"
            ],
            [
             0.8888888888888888,
             "#fdca26"
            ],
            [
             1,
             "#f0f921"
            ]
           ]
          },
          "colorway": [
           "#636efa",
           "#EF553B",
           "#00cc96",
           "#ab63fa",
           "#FFA15A",
           "#19d3f3",
           "#FF6692",
           "#B6E880",
           "#FF97FF",
           "#FECB52"
          ],
          "font": {
           "color": "#2a3f5f"
          },
          "geo": {
           "bgcolor": "white",
           "lakecolor": "white",
           "landcolor": "white",
           "showlakes": true,
           "showland": true,
           "subunitcolor": "#C8D4E3"
          },
          "hoverlabel": {
           "align": "left"
          },
          "hovermode": "closest",
          "mapbox": {
           "style": "light"
          },
          "paper_bgcolor": "white",
          "plot_bgcolor": "white",
          "polar": {
           "angularaxis": {
            "gridcolor": "#EBF0F8",
            "linecolor": "#EBF0F8",
            "ticks": ""
           },
           "bgcolor": "white",
           "radialaxis": {
            "gridcolor": "#EBF0F8",
            "linecolor": "#EBF0F8",
            "ticks": ""
           }
          },
          "scene": {
           "xaxis": {
            "backgroundcolor": "white",
            "gridcolor": "#DFE8F3",
            "gridwidth": 2,
            "linecolor": "#EBF0F8",
            "showbackground": true,
            "ticks": "",
            "zerolinecolor": "#EBF0F8"
           },
           "yaxis": {
            "backgroundcolor": "white",
            "gridcolor": "#DFE8F3",
            "gridwidth": 2,
            "linecolor": "#EBF0F8",
            "showbackground": true,
            "ticks": "",
            "zerolinecolor": "#EBF0F8"
           },
           "zaxis": {
            "backgroundcolor": "white",
            "gridcolor": "#DFE8F3",
            "gridwidth": 2,
            "linecolor": "#EBF0F8",
            "showbackground": true,
            "ticks": "",
            "zerolinecolor": "#EBF0F8"
           }
          },
          "shapedefaults": {
           "line": {
            "color": "#2a3f5f"
           }
          },
          "ternary": {
           "aaxis": {
            "gridcolor": "#DFE8F3",
            "linecolor": "#A2B1C6",
            "ticks": ""
           },
           "baxis": {
            "gridcolor": "#DFE8F3",
            "linecolor": "#A2B1C6",
            "ticks": ""
           },
           "bgcolor": "white",
           "caxis": {
            "gridcolor": "#DFE8F3",
            "linecolor": "#A2B1C6",
            "ticks": ""
           }
          },
          "title": {
           "x": 0.05
          },
          "xaxis": {
           "automargin": true,
           "gridcolor": "#EBF0F8",
           "linecolor": "#EBF0F8",
           "ticks": "",
           "title": {
            "standoff": 15
           },
           "zerolinecolor": "#EBF0F8",
           "zerolinewidth": 2
          },
          "yaxis": {
           "automargin": true,
           "gridcolor": "#EBF0F8",
           "linecolor": "#EBF0F8",
           "ticks": "",
           "title": {
            "standoff": 15
           },
           "zerolinecolor": "#EBF0F8",
           "zerolinewidth": 2
          }
         }
        },
        "title": {
         "text": "Entropy–Complexity for data/genres_30sec/blues (Plotly)\nDim = '6', Hop = '1'"
        },
        "width": 800,
        "xaxis": {
         "range": [
          0,
          1
         ],
         "title": {
          "text": "Normalized Permutation Entropy"
         }
        },
        "yaxis": {
         "range": [
          0,
          1
         ],
         "title": {
          "text": "Normalized Complexity"
         }
        }
       }
      }
     },
     "metadata": {},
     "output_type": "display_data"
    }
   ],
   "source": [
    "folder_path = \"data/genres_30sec/blues\"\n",
    "dim = 6\n",
    "hop = 1\n",
    "plot_graph_ordpy(folder_path, dim, hop)"
   ]
  },
  {
   "cell_type": "code",
   "execution_count": 125,
   "metadata": {},
   "outputs": [
    {
     "name": "stderr",
     "output_type": "stream",
     "text": [
      "Processing audio files in data/genres_30sec/pop with dim 6 and hop 1: 100%|██████████| 100/100 [02:11<00:00,  1.31s/it]\n",
      "Processing audio files in data/genres_30sec/metal with dim 6 and hop 1: 100%|██████████| 100/100 [02:12<00:00,  1.32s/it]\n",
      "Processing audio files in data/genres_30sec/disco with dim 6 and hop 1: 100%|██████████| 100/100 [02:11<00:00,  1.32s/it]\n",
      "Processing audio files in data/genres_30sec/blues with dim 6 and hop 1: 100%|██████████| 100/100 [02:12<00:00,  1.32s/it]\n",
      "Processing audio files in data/genres_30sec/reggae with dim 6 and hop 1: 100%|██████████| 100/100 [17:51<00:00, 10.71s/it]  \n",
      "Processing audio files in data/genres_30sec/classical with dim 6 and hop 1: 100%|██████████| 100/100 [18:18<00:00, 10.99s/it]  \n",
      "Processing audio files in data/genres_30sec/rock with dim 6 and hop 1: 100%|██████████| 100/100 [18:59<00:00, 11.40s/it]  \n",
      "Processing audio files in data/genres_30sec/hiphop with dim 6 and hop 1: 100%|██████████| 100/100 [02:08<00:00,  1.28s/it]\n",
      "Processing audio files in data/genres_30sec/country with dim 6 and hop 1: 100%|██████████| 100/100 [17:52<00:00, 10.72s/it]  \n",
      "Processing audio files in data/genres_30sec/jazz with dim 6 and hop 1:  44%|████▍     | 44/100 [00:56<01:13,  1.31s/it]Error processing file data/genres_30sec/jazz/jazz.00054.wav: File format b'\\xcb\\x15\\x1e\\x16' not understood. Only 'RIFF', 'RIFX', and 'RF64' supported.\n",
      "Traceback (most recent call last):\n",
      "  File \"/var/folders/ww/ltx99cqx36v87nl20lt5x_zc0000gn/T/ipykernel_72312/397049542.py\", line 39, in ordpy_process_folder\n",
      "    H_norm, comp = ordpy_process_file(file_path, dim_size, hop_size)\n",
      "                   ^^^^^^^^^^^^^^^^^^^^^^^^^^^^^^^^^^^^^^^^^^^^^^^^^\n",
      "  File \"/var/folders/ww/ltx99cqx36v87nl20lt5x_zc0000gn/T/ipykernel_72312/397049542.py\", line 9, in ordpy_process_file\n",
      "    sr, data = wavfile.read(file_path)\n",
      "               ^^^^^^^^^^^^^^^^^^^^^^^\n",
      "  File \"/Users/mverzhbitskiy/Documents/GitHub/musicAnalysis/venv/lib/python3.11/site-packages/scipy/io/wavfile.py\", line 677, in read\n",
      "    file_size, is_big_endian, is_rf64 = _read_riff_chunk(fid)\n",
      "                                        ^^^^^^^^^^^^^^^^^^^^^\n",
      "  File \"/Users/mverzhbitskiy/Documents/GitHub/musicAnalysis/venv/lib/python3.11/site-packages/scipy/io/wavfile.py\", line 536, in _read_riff_chunk\n",
      "    raise ValueError(f\"File format {repr(str1)} not understood. Only \"\n",
      "ValueError: File format b'\\xcb\\x15\\x1e\\x16' not understood. Only 'RIFF', 'RIFX', and 'RF64' supported.\n",
      "Processing audio files in data/genres_30sec/jazz with dim 6 and hop 1: 100%|██████████| 100/100 [17:36<00:00, 10.57s/it]  \n"
     ]
    },
    {
     "data": {
      "application/vnd.plotly.v1+json": {
       "config": {
        "plotlyServerURL": "https://plot.ly"
       },
       "data": [
        {
         "fill": "toself",
         "fillcolor": "rgba(182, 232, 128, 0.3)",
         "hoverinfo": "skip",
         "line": {
          "color": "rgba(182, 232, 128, 0.3)",
          "width": 2
         },
         "mode": "lines",
         "name": "pop region",
         "showlegend": true,
         "type": "scatter",
         "x": {
          "bdata": "FwgQrkrb5D87PS9a45rlP+B40pHI3uU/Lts63j0w5z8i0NMJuhHoP224RGmQNuo/AN2TeIr56j9qLySw3qzrPx6REl4YPuw/vuuU7/SB7D8wHhBNsCztP895LweEpe0/+69YaKD77T/OOUxiiRTuP6Y36EEct+4/dndjYKG+7j+I1FmUTLruP1H7FVkFo+4/ymbbJT1o7j+m666olNXtPzb06nBX7us/RGJFY8BB6z/fGSaVXfXoP6wfz04Khuc/FwgQrkrb5D8=",
          "dtype": "f8"
         },
         "y": {
          "bdata": "x5w6G4SY1D/NzawfV0fWP/WTxADBEtY/co5QnK+i1D+/gVmMfYXTP4R+50WP3NE/m9E2ZYe3zT/jcK3rPUvKP3/UHZyGLsg/IHQtG5Zkxz/Ic4HUTAXEPyqMDBIS18A/2TgWtSjBvT+Yr4+IOaq8P+SBR3tQLbQ/l0PrNAKosj9MgQW7IFCyP3IfuqTu37I/7hP34O+1tD+ZZnhX2Qm6P9yH/bE0CsQ/TXT+llD0xz9bOpIuli/PPyzeYl8b89A/x5w6G4SY1D8=",
          "dtype": "f8"
         }
        },
        {
         "hovertemplate": "<b>Folder:</b> pop<br><b>Centroid Entropy:</b> %{x}<br><b>Centroid Complexity:</b> %{y}<extra></extra>",
         "marker": {
          "color": "#B6E880",
          "size": 12,
          "symbol": "circle"
         },
         "mode": "markers",
         "name": "pop centroid",
         "type": "scatter",
         "x": [
          0.8756134496425844
         ],
         "y": [
          0.17144993412163692
         ]
        },
        {
         "fill": "toself",
         "fillcolor": "rgba(255, 102, 146, 0.3)",
         "hoverinfo": "skip",
         "line": {
          "color": "rgba(255, 102, 146, 0.3)",
          "width": 2
         },
         "mode": "lines",
         "name": "metal region",
         "showlegend": true,
         "type": "scatter",
         "x": {
          "bdata": "rQrz1yoo7T/reg3ognnsPwjFGIVkPOs/Ds4vjCQQ6T+A6c59sErmP6cSOP6JUOU/XigVXHl15T8pUJZVMvznP5O0l4Hkdek/xOxwdKcc6j8t1nDvTKjqPxkqhGf88uo/OSisUqkE6z+o8RSH6X3rPy20rNp72Os/VIKg3J7w6z/Nj2LhtzrtP60K89cqKO0/",
          "dtype": "f8"
         },
         "y": {
          "bdata": "hsiiVouTxT8aOJPG3h/HP/7W5JUTQNA/FEuVIi8y1D+T0OoTcbTXP6abLCgI4Ng/2rWVFcOX2j8QbGjnKkzYPztINC2Vx9Y/o4ixCg0E1T+3aDnntbjTP5xk8BkKCdM/3R1p5wPX0j8Wr6PJDaXRP6giRG7nwdA/rKeyOAY90D981szdkOLIP4bIolaLk8U/",
          "dtype": "f8"
         }
        },
        {
         "hovertemplate": "<b>Folder:</b> metal<br><b>Centroid Entropy:</b> %{x}<br><b>Centroid Complexity:</b> %{y}<extra></extra>",
         "marker": {
          "color": "#FF6692",
          "size": 12,
          "symbol": "circle"
         },
         "mode": "markers",
         "name": "metal centroid",
         "type": "scatter",
         "x": [
          0.8075280983600226
         ],
         "y": [
          0.3114187527369529
         ]
        },
        {
         "fill": "toself",
         "fillcolor": "rgba(171, 99, 250, 0.3)",
         "hoverinfo": "skip",
         "line": {
          "color": "rgba(171, 99, 250, 0.3)",
          "width": 2
         },
         "mode": "lines",
         "name": "disco region",
         "showlegend": true,
         "type": "scatter",
         "x": {
          "bdata": "l8/6Gwa15j/gpAq5fgnjP9w9oWyjfeY/k52Ienp15z/Tuhrk74DpPzY40Kip9+o/AhBZnCp36z+JvPLmJzfsP5X1OgF+y+w/jC7cChjF7T+PcFHcCnjuPwRCrz8Em+4/CQavzd6c7T9cexPKH2rsPwXJBrbhZus//D7kV0OK6T+Xz/obBrXmPw==",
          "dtype": "f8"
         },
         "y": {
          "bdata": "7iKKG6X10T/uGUu3uinXP83hmRS0wdY/Anb0hAiJ1z/uho0SyiLVP54i9cENLNI/nNH1ec5t0D8q1uimrj/NP+34O0+u48k/VolV5qBPwz8iYiFtAQe3P9lAL45QfLQ/6s/2Xj/muz8SoCyei7XEPyWTY5OF4ck/M7srOR27zj/uIoobpfXRPw==",
          "dtype": "f8"
         }
        },
        {
         "hovertemplate": "<b>Folder:</b> disco<br><b>Centroid Entropy:</b> %{x}<br><b>Centroid Complexity:</b> %{y}<extra></extra>",
         "marker": {
          "color": "#AB63FA",
          "size": 12,
          "symbol": "circle"
         },
         "mode": "markers",
         "name": "disco centroid",
         "type": "scatter",
         "x": [
          0.8202121308386693
         ],
         "y": [
          0.25818236819417606
         ]
        },
        {
         "fill": "toself",
         "fillcolor": "rgba(99, 110, 250, 0.3)",
         "hoverinfo": "skip",
         "line": {
          "color": "rgba(99, 110, 250, 0.3)",
          "width": 2
         },
         "mode": "lines",
         "name": "blues region",
         "showlegend": true,
         "type": "scatter",
         "x": {
          "bdata": "VJRinvOW4z+a6u5Fz8vmP+2iLJaFQec/0maWRu8s6D9poJK8WXrpPxPqgC7h1+k/BYyhYXA56z+I+O2nc03rP867JIU5Tus/ZgfoyjUM6z9QiD/ymcLmPyVF4oO3UuY/wXpdEaWT5T+3AEoHcInkP3J0Lqcg9eE/yvS5tzvp3j+/XFvWfVDhP1SUYp7zluM/",
          "dtype": "f8"
         },
         "y": {
          "bdata": "ioshLpVm2T8s8OZeiRDYP+L5+/5U5tc/3MgqUBw41z+hAVM/j1zWPy5NM/1gQNU/8xPXRho20j+bs8MsrMrRP12/hCRgY9A/+ri1NV3O0D9u3rgg7u7SP69rsqUKCdM/WPg4K1NA0z/4UlaI/JXTPyxkAWnqyNM/yxI9DGmr1D9k71CgRcXXP4qLIS6VZtk/",
          "dtype": "f8"
         }
        },
        {
         "hovertemplate": "<b>Folder:</b> blues<br><b>Centroid Entropy:</b> %{x}<br><b>Centroid Complexity:</b> %{y}<extra></extra>",
         "marker": {
          "color": "#636EFA",
          "size": 12,
          "symbol": "circle"
         },
         "mode": "markers",
         "name": "blues centroid",
         "type": "scatter",
         "x": [
          0.6915974099224642
         ],
         "y": [
          0.33395212479547776
         ]
        },
        {
         "fill": "toself",
         "fillcolor": "rgba(255, 151, 255, 0.3)",
         "hoverinfo": "skip",
         "line": {
          "color": "rgba(255, 151, 255, 0.3)",
          "width": 2
         },
         "mode": "lines",
         "name": "reggae region",
         "showlegend": true,
         "type": "scatter",
         "x": {
          "bdata": "zvWU0TLp7j/7RCbwWi7uP6i5Pe08bew/3JxBOKFE6j/MquEwYyXpP+0COYkJW+Y/HQZ1ejz55D9qUFXyA07iP2bGd85HgOE/JAp4aUux4j/dX+Fc0tjkP8/nMKDjwec/x7XIlWSV6T+MmKvYs+DqP4B2QqyEd+w/2YV99Hck7T/ZpFdPcyzuP7Atzplc1u4/zvWU0TLp7j8=",
          "dtype": "f8"
         },
         "y": {
          "bdata": "s2QBKR3SsT85aHkNoQS3P76udi6jSMM/ySB+qhE/yz9sTIxJUgLQPx9u+VifBtI/jTNLDUzY0z8JMX96dwjWPxtZU1rRn9Y/QZxtzSpa2T84mI/7/6HaPzKO3CjqH9g/04ZbFLZg1T8N+OlosJ7QPyisdrRYu8c/sILO/kmiwT/Z2k6Btsy4P9qEBAfD57M/s2QBKR3SsT8=",
          "dtype": "f8"
         }
        },
        {
         "hovertemplate": "<b>Folder:</b> reggae<br><b>Centroid Entropy:</b> %{x}<br><b>Centroid Complexity:</b> %{y}<extra></extra>",
         "marker": {
          "color": "#FF97FF",
          "size": 12,
          "symbol": "circle"
         },
         "mode": "markers",
         "name": "reggae centroid",
         "type": "scatter",
         "x": [
          0.761748459030789
         ],
         "y": [
          0.28583706607679277
         ]
        },
        {
         "fill": "toself",
         "fillcolor": "rgba(239, 85, 59, 0.3)",
         "hoverinfo": "skip",
         "line": {
          "color": "rgba(239, 85, 59, 0.3)",
          "width": 2
         },
         "mode": "lines",
         "name": "classical region",
         "showlegend": true,
         "type": "scatter",
         "x": {
          "bdata": "b+HV59G05T/H06bvHFvgP6M+uLpkG9s/9PFwVenj1T9Ryto6ZanVP0VBP1eGQtY/JdIqEVoE2T8hxpu48iPcP9LTFzdIUNw/xSxrsmJs3z/te4VjXQziP3GA3K88d+I/yXjarLu44z9l0BIR5ZjkP1HwFThR/eQ/Rf98XbsL5j8jP1oWNBfmP4pYJI1CduY/qUpHd/+Z6T9v4dXn0bTlPw==",
          "dtype": "f8"
         },
         "y": {
          "bdata": "ZdJ3V2Oa1D/iyR4iPJ7SP/bdUU8pStM/z7Pa157R0D9X7RV0razRP9K8K7gRjdI/tRzr2rM71D/Jv1Vk5uvVPxkhdHRYANY/sR1jinDq1z/Y4trUCGPZPzQA9uKpktk/LsgxcZZU2T/OmgSiMYjZP9lyRsKtZ9k/EyKy8GsX2T9V5Qb2DxDZP6JxRjRhe9c/RRyeJF2z0T9l0ndXY5rUPw==",
          "dtype": "f8"
         }
        },
        {
         "hovertemplate": "<b>Folder:</b> classical<br><b>Centroid Entropy:</b> %{x}<br><b>Centroid Complexity:</b> %{y}<extra></extra>",
         "marker": {
          "color": "#EF553B",
          "size": 12,
          "symbol": "circle"
         },
         "mode": "markers",
         "name": "classical centroid",
         "type": "scatter",
         "x": [
          0.5424594563434184
         ],
         "y": [
          0.3588367293547634
         ]
        },
        {
         "fill": "toself",
         "fillcolor": "rgba(254, 203, 82, 0.3)",
         "hoverinfo": "skip",
         "line": {
          "color": "rgba(254, 203, 82, 0.3)",
          "width": 2
         },
         "mode": "lines",
         "name": "rock region",
         "showlegend": true,
         "type": "scatter",
         "x": {
          "bdata": "GFfDoa4m4z/79mlGKSTkPyPLAB8E9uY/A3OnAm4Z6D/sHFB0AhXpP9i8syA2+ek/+0paqwyg6j8JGGJP93DrP/i9y2PLa+w/as6tdwsq7T+hn36/4WLtP+txQiiqte0/uxln7qzd7D+eeXYh0RHqP4WM/rhvReg/nQ9efOf65D+jIBwrBgTiPxhXw6GuJuM/",
          "dtype": "f8"
         },
         "y": {
          "bdata": "7S0fCf7Y1z8hslE+F9faP9GZtPsTyNc/SStT3tQ21z8UUPFRL6bVPyQZO7uOP9Q/+dD3jRxa0j8ujI758rfQP3l4lqMWtMk/tRwVCzZlxT+LmYr50O7BP0t6NjlMf70/2t/8YpcOwT8svZ5F7I3KP6G6IAsQFM8/KI53Ww6h0T9CS8geSZTVP+0tHwn+2Nc/",
          "dtype": "f8"
         }
        },
        {
         "hovertemplate": "<b>Folder:</b> rock<br><b>Centroid Entropy:</b> %{x}<br><b>Centroid Complexity:</b> %{y}<extra></extra>",
         "marker": {
          "color": "#FECB52",
          "size": 12,
          "symbol": "circle"
         },
         "mode": "markers",
         "name": "rock centroid",
         "type": "scatter",
         "x": [
          0.7656906251762272
         ],
         "y": [
          0.30439844193273574
         ]
        },
        {
         "fill": "toself",
         "fillcolor": "rgba(255, 161, 90, 0.3)",
         "hoverinfo": "skip",
         "line": {
          "color": "rgba(255, 161, 90, 0.3)",
          "width": 2
         },
         "mode": "lines",
         "name": "hiphop region",
         "showlegend": true,
         "type": "scatter",
         "x": {
          "bdata": "z4O9vBxS6j+fZNg1IzPpP5fETuxeG+c/LCWK4iCi5T+/s5MtscDkP1LIX2LJlOU/tMtceeb45j/skTaxO/boP6xR/l3H1Ok/XkGX9R6K6j/oWTWu6s3rP+gWEWzhY+w/DM2belW17D9Eu+y1fbLtP+J4SE+j9u0/kw961+mC7j9FeEwzPk3vP3+7GGzrxu4/kQ6IGC5/7j+8nxX+2AnuP6E0XGHSw+0/eYw1b01y7D++acsFMzfrP8+DvbwcUuo/",
          "dtype": "f8"
         },
         "y": {
          "bdata": "B92V2Kc7yT9sV35x5qvLP8TBl4ErHtI/2mDhlBnh0z90y3zRWgbWP1pvAnpbh9c/O1CXVGoD1z/vVOCAsCLWP+8Sc4nOYtQ/B8kvA2xj0z/v9C7QbIrQP/+7c0BVB88/48b+/AMNyT8YXPBY7WHBP+kHHmkWLcA/NaPmj22TuD9m3T6v92yqPzEBgr3n4LA/UIBW1hEHtD9WzwIehyG4Pw8dL+cOW7o/7xsIolhAwj99+bdNyePGPwfdldinO8k/",
          "dtype": "f8"
         }
        },
        {
         "hovertemplate": "<b>Folder:</b> hiphop<br><b>Centroid Entropy:</b> %{x}<br><b>Centroid Complexity:</b> %{y}<extra></extra>",
         "marker": {
          "color": "#FFA15A",
          "size": 12,
          "symbol": "circle"
         },
         "mode": "markers",
         "name": "hiphop centroid",
         "type": "scatter",
         "x": [
          0.8253431181996471
         ],
         "y": [
          0.2480143412651646
         ]
        },
        {
         "fill": "toself",
         "fillcolor": "rgba(0, 204, 150, 0.3)",
         "hoverinfo": "skip",
         "line": {
          "color": "rgba(0, 204, 150, 0.3)",
          "width": 2
         },
         "mode": "lines",
         "name": "country region",
         "showlegend": true,
         "type": "scatter",
         "x": {
          "bdata": "MVCnBOgt3T9dMmxfXqXcPxXtQpwjhN8/mlqG2Jes4D9X4XWlQGriP7yUGUMAN+Q/cVC2lr/o5T8HRj3CM5LoPyeb5rkS3Ok/rpWf+U6F6j8UzP3QPq3rP7dvobxDQuw/prtnbGT87D/jf3Nxk4XtP3PaD8zY1+s/FlAKaHSr6j+jaSgBeu/pP34uOujLT+k/Y2iU8SQ65T/9KAon+6rhPzFQpwToLd0/",
          "dtype": "f8"
         },
         "y": {
          "bdata": "BwhtPUvN0z8ZBsrc+djUP4fbh67TWdY/GXS0zwIP1z8wIcHcdSTYPz5HexOq/Ng/ncu4Lhcf2T+sGyUkI9rWP/X2X644etM/f17e5g6B0T/9aUe6ohXOP0u7YqIFaso/htsjys1Fxj/p2EApiy7CPzQpq/UMFcg/fp4IDJFFzj9hr0IAsTLQP0dzR2nc89A/sPzsO69z0j+nTo61b0HTPwcIbT1LzdM/",
          "dtype": "f8"
         }
        },
        {
         "hovertemplate": "<b>Folder:</b> country<br><b>Centroid Entropy:</b> %{x}<br><b>Centroid Complexity:</b> %{y}<extra></extra>",
         "marker": {
          "color": "#00CC96",
          "size": 12,
          "symbol": "circle"
         },
         "mode": "markers",
         "name": "country centroid",
         "type": "scatter",
         "x": [
          0.7027737671496428
         ],
         "y": [
          0.3195940514175562
         ]
        },
        {
         "fill": "toself",
         "fillcolor": "rgba(25, 211, 243, 0.3)",
         "hoverinfo": "skip",
         "line": {
          "color": "rgba(25, 211, 243, 0.3)",
          "width": 2
         },
         "mode": "lines",
         "name": "jazz region",
         "showlegend": true,
         "type": "scatter",
         "x": {
          "bdata": "JfHQxekH7z9dkpMGUQPuP5ZZ6jo8uOs/49guQTY/6T9Pw4UgvnnlP0geBukn3OQ/ME6s0EVP4T8hBHRm4WjfP9D9qOk8n9k/zTu/kBCH2z8hDka0Af7cPxkHgkFsy+E/gZ98auJS4z9kG5iXKdPlP0WntBCh6uU/rmHNfSFG6D++0vs8bvfoP8AS49Gx3ek/8rltQArk6z/3HmvFH0jtPy1vySgFku4/JfHQxekH7z8=",
          "dtype": "f8"
         },
         "y": {
          "bdata": "roZtv5PArD/g8ipyfhm5P6REPNiIscg/k3EqPHMNzD+44Z55DyrTP4C3KqLSNtM/yJWDkk0t1D+jmT955nLUP2AaNdInDNM/NFvDBuD+1D90RbWS3kbWP9E7UAui5dg/Yd+OUSDI2T+wSgky9ETYPyaRlK0rGtg/WJCx5SEO1T+DqYonONrTPxRTjOiL1dI/GOOo+3Yl0D+EN9RYsEzDP0uSGOuzHrg/roZtv5PArD8=",
          "dtype": "f8"
         }
        },
        {
         "hovertemplate": "<b>Folder:</b> jazz<br><b>Centroid Entropy:</b> %{x}<br><b>Centroid Complexity:</b> %{y}<extra></extra>",
         "marker": {
          "color": "#19D3F3",
          "size": 12,
          "symbol": "circle"
         },
         "mode": "markers",
         "name": "jazz centroid",
         "type": "scatter",
         "x": [
          0.6681280379510904
         ],
         "y": [
          0.30964895123762526
         ]
        },
        {
         "line": {
          "color": "red",
          "dash": "dash"
         },
         "mode": "lines",
         "name": "Maximum Complexity Boundary",
         "type": "scatter",
         "x": {
          "bdata": "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",
          "dtype": "f8"
         },
         "y": {
          "bdata": "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",
          "dtype": "f8"
         }
        },
        {
         "line": {
          "color": "green",
          "dash": "dash"
         },
         "mode": "lines",
         "name": "Minimum Complexity Boundary",
         "type": "scatter",
         "x": {
          "bdata": "AAAAAAAAAICaxf+16xqTP+jVhP1KAqI/vUTdi+gLqj/86nM1k+ewP8K3yY7ArrQ/p554aKFguD/uL+sCmwC8PzAUmEQWkb8/OC9Izu+JwT9fJ6LWLUXDP9zCdlXT+sQ/w/gEHFSrxj8NvFFLEFfIP6qV/uFY/sk/NbM6+3Khyz8sJAsvmkDNP7DF0VkC3M4/1TEXfOw50D9Eo50aIwTRP2yQ0d+2zNE/cXTxubeT0j+olffyM1nTP1t01Gg4HdQ/9H3Ou9Df1D86qBR1B6HVP9wYEyfmYNY/6J68iHUf1z8jY7eMvdzXP+DxJ3XFmNg/K+Ku5JNT2T+Dkg/tLg3aP45i3xucxdo/e8qKheB82z/HfO/OADPcP7hzvzUB6Nw/PsHXl+Wb3T86q655sU7eP6iv9gtoAN8/nDCPMAyx3z9Pw2s/UDDgP4fyuqOTh+A/ylnQS1He4D+2U/sdijThPz/0d+E+iuE/Qmx4P3Df4T8RywLEHjTiP6MEpt5KiOI/1I4I4/Tb4j9mYlIJHS/jP3Kyc27DgeM/hzlJFOjT4z/jjp7hiiXkP/qKDqKrduQ/+FfBBUrH5D/zXQehZRflP7HIz+v9ZuU/h+v4QBK25T8VRHjdoQTmP8xKV9+rUuY/IZyBRC+g5j94S2DpKu3mP6RZPYedOec/N09psoWF5z+X1RvY4dDnP/fNBjywG+g/48WR9e5l6D84trHsm6/oP9ubTta0+Og/1pYlMDdB6T+zsRI8IInpP7wOqfps0Ok//L/6JBoX6j81rmolJF3qP6I6Wg+Houo/yCN5lT7n6j+L1W/+RSvrP0CTiReYbus/5ELrJC+x6z99ysLOBPPrP0yqrgoSNOw/q/lgAE907D/z+SzosrPsPzkUuOEz8uw/IStdwMYv7T9YSNjJXmztPxjoW2Ltp+0/YoL0nmHi7T99rZWzpxvuP30tZSyoU+4/3roJ2EaK7j+hR1o3Yb/uPwiMLibM8u4/5bjgL1Ak7z8p/rF0o1PvP1Omz7BegO8/zKz4ROep7z8Ha0uLO8/vP00Cx0hS7u8/AAAAAAAA8D8=",
          "dtype": "f8"
         },
         "y": {
          "bdata": "AAAAAAAAAIDM4Y+YJlKSP3cLBINQtqA/J6zO+G52pz/N5dV3Gp6tP32fvDSTpLE/ZaqxOrdEtD8TBRfs0bW2Pz4In7ex/Lg/GLkl5iMduz9xvMwPQxq9Pxsj/6un9r4/5RS4+ENawD9oIqDe5irBPyRePBgT7sE/wQS/lIakwj+vc/D06k7DPw+0hN/Y7cM/pSqkndqBxD8oUsMvbgvFP5alVvwGi8U/hbZQMA8Bxj8sB9Pi6G3GP/hm9Qjv0cY/xNtVQ3Ytxz+YwtaMzYDHP9+iQtA+zMc/fgROaQ8QyD/crH+UgEzIP5sM0dDPgcg/ni5MNTewyD9iM3+87dfIP0a3R4cn+cg/fpI0GBYUyT+FPYaI6CjJP5yFqrfLN8k/4/HsdepAyT91afiqbUTJPygQr3h8Qsk/y77JWjw7yT/8YqBD0S7JPxf1brZdHck/SXpf3wIHyT/Z8pep4OvIP2cIg9MVzMg/PX2DAcCnyD9qhzzP+37IPyJNlN/kUcg/7m6R65UgyD8B7jDQKOvHP3iHTpu2scc/0wG3l1d0xz8XdnlYIzPHPym7isMw7sY/u1HMG5alxj+AsYYKaVnGP2W5Zai+CcY/itMEhqu2xT/kqBe0Q2DFP1J8O8uaBsU/k9Z888OpxD9Y05zr0UnEPyY2IRDX5sM/ToM6YuWAwz/Sh4uODhjDP9tB3vNjrMI/8cnSqfY9wj9N75WH18zBPxqprioXWcE/kEzz/cXiwD9sFbpA9GnAP14jtxxk3b8/msZDzB7ivj+pCIpnOOK9P53wNrHQ3bw/2BdgawfVuz8HP/Nt/Me6P/0JBcDPtrk/A3bGtKGhuD/EsyUNk4i3P1sKdB/Fa7Y/353hBlpLtT8Cb0vddCe0P1Lq0QI6ALM/PSYjeM/VsT+5+pxSXaiwP9pCy6kc8K4/hmBseCGKrD+oqte3Lh+qP+ZMTGK2r6c/w7ANazs8pT8z3wTgWMWiPzQr8GfNS6A/peLq2R2hmz/cun3T3amWP55cgtvItZE/L6gfV+WWiT8G9z+G6d9/P9Qznsa2+Wo/3KtzhX9C17w=",
          "dtype": "f8"
         }
        }
       ],
       "layout": {
        "height": 600,
        "template": {
         "data": {
          "bar": [
           {
            "error_x": {
             "color": "#2a3f5f"
            },
            "error_y": {
             "color": "#2a3f5f"
            },
            "marker": {
             "line": {
              "color": "white",
              "width": 0.5
             },
             "pattern": {
              "fillmode": "overlay",
              "size": 10,
              "solidity": 0.2
             }
            },
            "type": "bar"
           }
          ],
          "barpolar": [
           {
            "marker": {
             "line": {
              "color": "white",
              "width": 0.5
             },
             "pattern": {
              "fillmode": "overlay",
              "size": 10,
              "solidity": 0.2
             }
            },
            "type": "barpolar"
           }
          ],
          "carpet": [
           {
            "aaxis": {
             "endlinecolor": "#2a3f5f",
             "gridcolor": "#C8D4E3",
             "linecolor": "#C8D4E3",
             "minorgridcolor": "#C8D4E3",
             "startlinecolor": "#2a3f5f"
            },
            "baxis": {
             "endlinecolor": "#2a3f5f",
             "gridcolor": "#C8D4E3",
             "linecolor": "#C8D4E3",
             "minorgridcolor": "#C8D4E3",
             "startlinecolor": "#2a3f5f"
            },
            "type": "carpet"
           }
          ],
          "choropleth": [
           {
            "colorbar": {
             "outlinewidth": 0,
             "ticks": ""
            },
            "type": "choropleth"
           }
          ],
          "contour": [
           {
            "colorbar": {
             "outlinewidth": 0,
             "ticks": ""
            },
            "colorscale": [
             [
              0,
              "#0d0887"
             ],
             [
              0.1111111111111111,
              "#46039f"
             ],
             [
              0.2222222222222222,
              "#7201a8"
             ],
             [
              0.3333333333333333,
              "#9c179e"
             ],
             [
              0.4444444444444444,
              "#bd3786"
             ],
             [
              0.5555555555555556,
              "#d8576b"
             ],
             [
              0.6666666666666666,
              "#ed7953"
             ],
             [
              0.7777777777777778,
              "#fb9f3a"
             ],
             [
              0.8888888888888888,
              "#fdca26"
             ],
             [
              1,
              "#f0f921"
             ]
            ],
            "type": "contour"
           }
          ],
          "contourcarpet": [
           {
            "colorbar": {
             "outlinewidth": 0,
             "ticks": ""
            },
            "type": "contourcarpet"
           }
          ],
          "heatmap": [
           {
            "colorbar": {
             "outlinewidth": 0,
             "ticks": ""
            },
            "colorscale": [
             [
              0,
              "#0d0887"
             ],
             [
              0.1111111111111111,
              "#46039f"
             ],
             [
              0.2222222222222222,
              "#7201a8"
             ],
             [
              0.3333333333333333,
              "#9c179e"
             ],
             [
              0.4444444444444444,
              "#bd3786"
             ],
             [
              0.5555555555555556,
              "#d8576b"
             ],
             [
              0.6666666666666666,
              "#ed7953"
             ],
             [
              0.7777777777777778,
              "#fb9f3a"
             ],
             [
              0.8888888888888888,
              "#fdca26"
             ],
             [
              1,
              "#f0f921"
             ]
            ],
            "type": "heatmap"
           }
          ],
          "histogram": [
           {
            "marker": {
             "pattern": {
              "fillmode": "overlay",
              "size": 10,
              "solidity": 0.2
             }
            },
            "type": "histogram"
           }
          ],
          "histogram2d": [
           {
            "colorbar": {
             "outlinewidth": 0,
             "ticks": ""
            },
            "colorscale": [
             [
              0,
              "#0d0887"
             ],
             [
              0.1111111111111111,
              "#46039f"
             ],
             [
              0.2222222222222222,
              "#7201a8"
             ],
             [
              0.3333333333333333,
              "#9c179e"
             ],
             [
              0.4444444444444444,
              "#bd3786"
             ],
             [
              0.5555555555555556,
              "#d8576b"
             ],
             [
              0.6666666666666666,
              "#ed7953"
             ],
             [
              0.7777777777777778,
              "#fb9f3a"
             ],
             [
              0.8888888888888888,
              "#fdca26"
             ],
             [
              1,
              "#f0f921"
             ]
            ],
            "type": "histogram2d"
           }
          ],
          "histogram2dcontour": [
           {
            "colorbar": {
             "outlinewidth": 0,
             "ticks": ""
            },
            "colorscale": [
             [
              0,
              "#0d0887"
             ],
             [
              0.1111111111111111,
              "#46039f"
             ],
             [
              0.2222222222222222,
              "#7201a8"
             ],
             [
              0.3333333333333333,
              "#9c179e"
             ],
             [
              0.4444444444444444,
              "#bd3786"
             ],
             [
              0.5555555555555556,
              "#d8576b"
             ],
             [
              0.6666666666666666,
              "#ed7953"
             ],
             [
              0.7777777777777778,
              "#fb9f3a"
             ],
             [
              0.8888888888888888,
              "#fdca26"
             ],
             [
              1,
              "#f0f921"
             ]
            ],
            "type": "histogram2dcontour"
           }
          ],
          "mesh3d": [
           {
            "colorbar": {
             "outlinewidth": 0,
             "ticks": ""
            },
            "type": "mesh3d"
           }
          ],
          "parcoords": [
           {
            "line": {
             "colorbar": {
              "outlinewidth": 0,
              "ticks": ""
             }
            },
            "type": "parcoords"
           }
          ],
          "pie": [
           {
            "automargin": true,
            "type": "pie"
           }
          ],
          "scatter": [
           {
            "fillpattern": {
             "fillmode": "overlay",
             "size": 10,
             "solidity": 0.2
            },
            "type": "scatter"
           }
          ],
          "scatter3d": [
           {
            "line": {
             "colorbar": {
              "outlinewidth": 0,
              "ticks": ""
             }
            },
            "marker": {
             "colorbar": {
              "outlinewidth": 0,
              "ticks": ""
             }
            },
            "type": "scatter3d"
           }
          ],
          "scattercarpet": [
           {
            "marker": {
             "colorbar": {
              "outlinewidth": 0,
              "ticks": ""
             }
            },
            "type": "scattercarpet"
           }
          ],
          "scattergeo": [
           {
            "marker": {
             "colorbar": {
              "outlinewidth": 0,
              "ticks": ""
             }
            },
            "type": "scattergeo"
           }
          ],
          "scattergl": [
           {
            "marker": {
             "colorbar": {
              "outlinewidth": 0,
              "ticks": ""
             }
            },
            "type": "scattergl"
           }
          ],
          "scattermap": [
           {
            "marker": {
             "colorbar": {
              "outlinewidth": 0,
              "ticks": ""
             }
            },
            "type": "scattermap"
           }
          ],
          "scattermapbox": [
           {
            "marker": {
             "colorbar": {
              "outlinewidth": 0,
              "ticks": ""
             }
            },
            "type": "scattermapbox"
           }
          ],
          "scatterpolar": [
           {
            "marker": {
             "colorbar": {
              "outlinewidth": 0,
              "ticks": ""
             }
            },
            "type": "scatterpolar"
           }
          ],
          "scatterpolargl": [
           {
            "marker": {
             "colorbar": {
              "outlinewidth": 0,
              "ticks": ""
             }
            },
            "type": "scatterpolargl"
           }
          ],
          "scatterternary": [
           {
            "marker": {
             "colorbar": {
              "outlinewidth": 0,
              "ticks": ""
             }
            },
            "type": "scatterternary"
           }
          ],
          "surface": [
           {
            "colorbar": {
             "outlinewidth": 0,
             "ticks": ""
            },
            "colorscale": [
             [
              0,
              "#0d0887"
             ],
             [
              0.1111111111111111,
              "#46039f"
             ],
             [
              0.2222222222222222,
              "#7201a8"
             ],
             [
              0.3333333333333333,
              "#9c179e"
             ],
             [
              0.4444444444444444,
              "#bd3786"
             ],
             [
              0.5555555555555556,
              "#d8576b"
             ],
             [
              0.6666666666666666,
              "#ed7953"
             ],
             [
              0.7777777777777778,
              "#fb9f3a"
             ],
             [
              0.8888888888888888,
              "#fdca26"
             ],
             [
              1,
              "#f0f921"
             ]
            ],
            "type": "surface"
           }
          ],
          "table": [
           {
            "cells": {
             "fill": {
              "color": "#EBF0F8"
             },
             "line": {
              "color": "white"
             }
            },
            "header": {
             "fill": {
              "color": "#C8D4E3"
             },
             "line": {
              "color": "white"
             }
            },
            "type": "table"
           }
          ]
         },
         "layout": {
          "annotationdefaults": {
           "arrowcolor": "#2a3f5f",
           "arrowhead": 0,
           "arrowwidth": 1
          },
          "autotypenumbers": "strict",
          "coloraxis": {
           "colorbar": {
            "outlinewidth": 0,
            "ticks": ""
           }
          },
          "colorscale": {
           "diverging": [
            [
             0,
             "#8e0152"
            ],
            [
             0.1,
             "#c51b7d"
            ],
            [
             0.2,
             "#de77ae"
            ],
            [
             0.3,
             "#f1b6da"
            ],
            [
             0.4,
             "#fde0ef"
            ],
            [
             0.5,
             "#f7f7f7"
            ],
            [
             0.6,
             "#e6f5d0"
            ],
            [
             0.7,
             "#b8e186"
            ],
            [
             0.8,
             "#7fbc41"
            ],
            [
             0.9,
             "#4d9221"
            ],
            [
             1,
             "#276419"
            ]
           ],
           "sequential": [
            [
             0,
             "#0d0887"
            ],
            [
             0.1111111111111111,
             "#46039f"
            ],
            [
             0.2222222222222222,
             "#7201a8"
            ],
            [
             0.3333333333333333,
             "#9c179e"
            ],
            [
             0.4444444444444444,
             "#bd3786"
            ],
            [
             0.5555555555555556,
             "#d8576b"
            ],
            [
             0.6666666666666666,
             "#ed7953"
            ],
            [
             0.7777777777777778,
             "#fb9f3a"
            ],
            [
             0.8888888888888888,
             "#fdca26"
            ],
            [
             1,
             "#f0f921"
            ]
           ],
           "sequentialminus": [
            [
             0,
             "#0d0887"
            ],
            [
             0.1111111111111111,
             "#46039f"
            ],
            [
             0.2222222222222222,
             "#7201a8"
            ],
            [
             0.3333333333333333,
             "#9c179e"
            ],
            [
             0.4444444444444444,
             "#bd3786"
            ],
            [
             0.5555555555555556,
             "#d8576b"
            ],
            [
             0.6666666666666666,
             "#ed7953"
            ],
            [
             0.7777777777777778,
             "#fb9f3a"
            ],
            [
             0.8888888888888888,
             "#fdca26"
            ],
            [
             1,
             "#f0f921"
            ]
           ]
          },
          "colorway": [
           "#636efa",
           "#EF553B",
           "#00cc96",
           "#ab63fa",
           "#FFA15A",
           "#19d3f3",
           "#FF6692",
           "#B6E880",
           "#FF97FF",
           "#FECB52"
          ],
          "font": {
           "color": "#2a3f5f"
          },
          "geo": {
           "bgcolor": "white",
           "lakecolor": "white",
           "landcolor": "white",
           "showlakes": true,
           "showland": true,
           "subunitcolor": "#C8D4E3"
          },
          "hoverlabel": {
           "align": "left"
          },
          "hovermode": "closest",
          "mapbox": {
           "style": "light"
          },
          "paper_bgcolor": "white",
          "plot_bgcolor": "white",
          "polar": {
           "angularaxis": {
            "gridcolor": "#EBF0F8",
            "linecolor": "#EBF0F8",
            "ticks": ""
           },
           "bgcolor": "white",
           "radialaxis": {
            "gridcolor": "#EBF0F8",
            "linecolor": "#EBF0F8",
            "ticks": ""
           }
          },
          "scene": {
           "xaxis": {
            "backgroundcolor": "white",
            "gridcolor": "#DFE8F3",
            "gridwidth": 2,
            "linecolor": "#EBF0F8",
            "showbackground": true,
            "ticks": "",
            "zerolinecolor": "#EBF0F8"
           },
           "yaxis": {
            "backgroundcolor": "white",
            "gridcolor": "#DFE8F3",
            "gridwidth": 2,
            "linecolor": "#EBF0F8",
            "showbackground": true,
            "ticks": "",
            "zerolinecolor": "#EBF0F8"
           },
           "zaxis": {
            "backgroundcolor": "white",
            "gridcolor": "#DFE8F3",
            "gridwidth": 2,
            "linecolor": "#EBF0F8",
            "showbackground": true,
            "ticks": "",
            "zerolinecolor": "#EBF0F8"
           }
          },
          "shapedefaults": {
           "line": {
            "color": "#2a3f5f"
           }
          },
          "ternary": {
           "aaxis": {
            "gridcolor": "#DFE8F3",
            "linecolor": "#A2B1C6",
            "ticks": ""
           },
           "baxis": {
            "gridcolor": "#DFE8F3",
            "linecolor": "#A2B1C6",
            "ticks": ""
           },
           "bgcolor": "white",
           "caxis": {
            "gridcolor": "#DFE8F3",
            "linecolor": "#A2B1C6",
            "ticks": ""
           }
          },
          "title": {
           "x": 0.05
          },
          "xaxis": {
           "automargin": true,
           "gridcolor": "#EBF0F8",
           "linecolor": "#EBF0F8",
           "ticks": "",
           "title": {
            "standoff": 15
           },
           "zerolinecolor": "#EBF0F8",
           "zerolinewidth": 2
          },
          "yaxis": {
           "automargin": true,
           "gridcolor": "#EBF0F8",
           "linecolor": "#EBF0F8",
           "ticks": "",
           "title": {
            "standoff": 15
           },
           "zerolinecolor": "#EBF0F8",
           "zerolinewidth": 2
          }
         }
        },
        "title": {
         "text": "Entropy–Complexity Regions for Folders in 'genres_30sec' (Dim=6, Hop=1)"
        },
        "width": 800,
        "xaxis": {
         "range": [
          0,
          1
         ],
         "title": {
          "text": "Normalized Permutation Entropy"
         }
        },
        "yaxis": {
         "range": [
          0,
          1
         ],
         "title": {
          "text": "Normalized Complexity"
         }
        }
       }
      }
     },
     "metadata": {},
     "output_type": "display_data"
    }
   ],
   "source": [
    "folder_path = \"data/genres_30sec\"\n",
    "dim = 6\n",
    "hop = 1\n",
    "alpha_val = 7\n",
    "plot_graph_ordpy_centroids_with_region(folder_path, dim, hop, alpha_val)"
   ]
  },
  {
   "cell_type": "markdown",
   "metadata": {},
   "source": [
    "# Guitar chords"
   ]
  },
  {
   "cell_type": "code",
   "execution_count": 126,
   "metadata": {},
   "outputs": [
    {
     "name": "stderr",
     "output_type": "stream",
     "text": [
      "Processing audio files in data/guitar_chords/Am with dim 6 and hop 1: 100%|██████████| 40/40 [00:08<00:00,  4.91it/s]\n",
      "Processing audio files in data/guitar_chords/Bb with dim 6 and hop 1: 100%|██████████| 40/40 [00:07<00:00,  5.17it/s]\n",
      "Processing audio files in data/guitar_chords/Em with dim 6 and hop 1: 100%|██████████| 40/40 [00:08<00:00,  4.62it/s]\n",
      "Processing audio files in data/guitar_chords/G with dim 6 and hop 1: 100%|██████████| 40/40 [00:09<00:00,  4.38it/s]\n",
      "Processing audio files in data/guitar_chords/F with dim 6 and hop 1: 100%|██████████| 40/40 [00:08<00:00,  4.81it/s]\n",
      "Processing audio files in data/guitar_chords/Dm with dim 6 and hop 1: 100%|██████████| 40/40 [00:08<00:00,  4.76it/s]\n",
      "Processing audio files in data/guitar_chords/C with dim 6 and hop 1: 100%|██████████| 40/40 [00:08<00:00,  4.85it/s]\n",
      "Processing audio files in data/guitar_chords/Bdim with dim 6 and hop 1: 100%|██████████| 40/40 [00:07<00:00,  5.11it/s]\n"
     ]
    },
    {
     "data": {
      "application/vnd.plotly.v1+json": {
       "config": {
        "plotlyServerURL": "https://plot.ly"
       },
       "data": [
        {
         "fill": "toself",
         "fillcolor": "rgba(99, 110, 250, 0.3)",
         "hoverinfo": "skip",
         "line": {
          "color": "rgba(99, 110, 250, 0.3)",
          "width": 2
         },
         "mode": "lines",
         "name": "Am region",
         "showlegend": true,
         "type": "scatter",
         "x": {
          "bdata": "vFw57+Oi5D+oueQ+nYviP+hYLRy4LeE/sNwUFmXw3z+dsxDNb0bdP8YftT9BIts/bW2JdyWk1D8yWJvgCuPSP3pi9RNfB9I/9sDh+I8j0D/6DVzBTUDSP2qhbd7xgNM//uJB02ZN1j/0vrcBf2XYP7vPyVit298/rAieoP6c4T93T3H69AjkP105KGBzfeY/OrUpUOTP5z+RiyG3MhnpP5TYqBfPhOk/NPtncVNN6D+8XDnv46LkPw==",
          "dtype": "f8"
         },
         "y": {
          "bdata": "KagYadzK0T+gnjstD+LQP15Svb2jSNE/O2gsvsqR0T/4jPoslo3RP7njGLMnOtE/fXGi88Vpzz+V+TjJRv3NPwADeMTOK80/ct829GKPyz97nrH8mczOP57w2498ctA/q+Y+xX5F0j+emj+ieZjTP7ULISSIjNQ/8Jvhvql71T9p778jaS7WP1lfucS2u9U/dgnJ+bea1T8OKqSCcPbSPxOHU5msMNE/nIvlf5o20j8pqBhp3MrRPw==",
          "dtype": "f8"
         }
        },
        {
         "hovertemplate": "<b>Folder:</b> Am<br><b>Centroid Entropy:</b> %{x}<br><b>Centroid Complexity:</b> %{y}<extra></extra>",
         "marker": {
          "color": "#636EFA",
          "size": 12,
          "symbol": "circle"
         },
         "mode": "markers",
         "name": "Am centroid",
         "type": "scatter",
         "x": [
          0.49890387228138977
         ],
         "y": [
          0.28553135981991673
         ]
        },
        {
         "fill": "toself",
         "fillcolor": "rgba(239, 85, 59, 0.3)",
         "hoverinfo": "skip",
         "line": {
          "color": "rgba(239, 85, 59, 0.3)",
          "width": 2
         },
         "mode": "lines",
         "name": "Bb region",
         "showlegend": true,
         "type": "scatter",
         "x": {
          "bdata": "sOju7GZf4z9siyhSx1DkP9R6tpY4LOU/XgVuxoXG6D+SkeV8fTnqPwMoSHfdLus/yaYDYOd+6z+ByfPqLs7qP/GpYvPHeuo/nJ0LXn7l6D9K16VUJU7jP40trbNhP+I/O27c4FRp4D8KyQA6BhLfP4AccR9BSdw/YYtmXLq72j/l4EFRoUnUP1FWv8JB69E/QABE/fnb0D+Kl4d4x9zPP7w2ZTKUQ9I/dW+ydNTr0j8zFNwSc8PWP9e/B+qEAdc//0W63wN92D+ZKUz5RWfbP/mr8UZ1bd8/sOju7GZf4z8=",
          "dtype": "f8"
         },
         "y": {
          "bdata": "4Qt63QFQ1T8mk8BuSyfVP54aSnu41dM/9+dtAnzm0j8Q5NJ5aFjRP/2WcNDVTc4/sOdEbHKVyz9eCzNW5TDNP8c9CPCbbs8/aQ2/zgOo0j+m7QY78F/RP1JDpQtyvtE/OpJePdht0j8p6e4SdDnSPznql1MSS9I/GXgHQIg50j/FDrcKUpnQPzy0dowJpMw/YjKLqdiOyz+yAWWQkcrKP9Te0UQaxs4/2CUFe8Ub0D83oYa7kpfSP5nXuCNYrNI/vVuSNcm30j/jN74nqv3SP1vpvcXnMtQ/4Qt63QFQ1T8=",
          "dtype": "f8"
         }
        },
        {
         "hovertemplate": "<b>Folder:</b> Bb<br><b>Centroid Entropy:</b> %{x}<br><b>Centroid Complexity:</b> %{y}<extra></extra>",
         "marker": {
          "color": "#EF553B",
          "size": 12,
          "symbol": "circle"
         },
         "mode": "markers",
         "name": "Bb centroid",
         "type": "scatter",
         "x": [
          0.5150522614869886
         ],
         "y": [
          0.27241820089416946
         ]
        },
        {
         "fill": "toself",
         "fillcolor": "rgba(25, 211, 243, 0.3)",
         "hoverinfo": "skip",
         "line": {
          "color": "rgba(25, 211, 243, 0.3)",
          "width": 2
         },
         "mode": "lines",
         "name": "Em region",
         "showlegend": true,
         "type": "scatter",
         "x": {
          "bdata": "vbHVX9XG5D+dgoAQZOnlP0luF8igkeY/v8CIqqxD4z+QacE7As7hP9bsWttFBd8/IoasjDp32j84lZzUZCHYP5jVcWzLVNU/NEHW3iJuzj/4PZ9RUR3TP7m3RY8LN9Q/Bj+XoJ0o1z8U3smGP7bZP1ttrh/mm+A/OXtjUiun4z9lzu/RgCXkP72x1V/VxuQ/",
          "dtype": "f8"
         },
         "y": {
          "bdata": "qazB7aBL2D9l4Hnkq9jWPw2hCELgu80/X7uzAq8H0T8Dw4AZLQjSPwyHuMDHpdE/ZqZr9DfK0D9II0Clt4/QP2bgSPsZec8/PHAK4G08yj/j7u3CYxnQP+VkZ5Yu0dA/No5eL01r0j+ANjjO7R7UP6qBU0nCrtU/5X9VFN0e2T8j5xYE5xPZP6mswe2gS9g/",
          "dtype": "f8"
         }
        },
        {
         "hovertemplate": "<b>Folder:</b> Em<br><b>Centroid Entropy:</b> %{x}<br><b>Centroid Complexity:</b> %{y}<extra></extra>",
         "marker": {
          "color": "#19D3F3",
          "size": 12,
          "symbol": "circle"
         },
         "mode": "markers",
         "name": "Em centroid",
         "type": "scatter",
         "x": [
          0.4789328821080856
         ],
         "y": [
          0.2965563983155791
         ]
        },
        {
         "fill": "toself",
         "fillcolor": "rgba(182, 232, 128, 0.3)",
         "hoverinfo": "skip",
         "line": {
          "color": "rgba(182, 232, 128, 0.3)",
          "width": 2
         },
         "mode": "lines",
         "name": "G region",
         "showlegend": true,
         "type": "scatter",
         "x": {
          "bdata": "tgxuCIgj6j+6KYTGMI7nP5zQ5V0zK+Q/vqpM+EJj4z8MKOhXnlLgP06e4xuQLd8/rH+B/rBS2D+NMfYJEorVP8CxKC4ZmNQ/W5x65xZIzz/ZGPYex9PVP6mBtxuY7NY/ftUGf9/A1z//IvuB4MnaP2x2DdVre+A/VNDU7h6/4T9BSX58XtrjP6K7NqtwAec/NQ1v32Oh5z/OFMTkFCroP6vM6zjm7+g/tgxuCIgj6j8=",
          "dtype": "f8"
         },
         "y": {
          "bdata": "Q7rX5NsN0T+qyEnSQzvTP2AFlWlgtNE/RT9bv+9T0D/BwPFqZEHSP2Jxh1hkIdI/GfN7ALQJ0T9k4uN20VXPP2+gINvzrc4/M5g7Cxmyyj9SSLIG8dXRP+pxb1rxetI/w+gzNLb+0j+rxr1fI8/UP8ScQCrNPNU/iMqA6sNz1T9hTHRZaH7VP4x/+icgj9U/o4wnuhD01D+67RwNXd3TPzGQ2zdAodI/Q7rX5NsN0T8=",
          "dtype": "f8"
         }
        },
        {
         "hovertemplate": "<b>Folder:</b> G<br><b>Centroid Entropy:</b> %{x}<br><b>Centroid Complexity:</b> %{y}<extra></extra>",
         "marker": {
          "color": "#B6E880",
          "size": 12,
          "symbol": "circle"
         },
         "mode": "markers",
         "name": "G centroid",
         "type": "scatter",
         "x": [
          0.5089574530538871
         ],
         "y": [
          0.29086022772823894
         ]
        },
        {
         "fill": "toself",
         "fillcolor": "rgba(255, 102, 146, 0.3)",
         "hoverinfo": "skip",
         "line": {
          "color": "rgba(255, 102, 146, 0.3)",
          "width": 2
         },
         "mode": "lines",
         "name": "F region",
         "showlegend": true,
         "type": "scatter",
         "x": {
          "bdata": "r44JKWji6D9jJ73LTaTjPxONdHw82OA/fnKiNVek3T8rfKTFavvaP/fcmbNqGNk/MN7ir9Vt1D8n+dLhS+/TP4M+ji4yE84/0tf0S09MzD/ZKZHAWYfOP5jhc0Rz1dE/vsPJYVbG0j8K/ulWFo/UP+4TNTUWctY/LDZ8p3oD2z8Bll0LWkvePzy8MAoDZeM/EuM9RiK65D8FVYfmYL3mPxtJIpY5NOc/RwOOKePM6T9AlXH6ljjqP6+OCSlo4ug/",
          "dtype": "f8"
         },
         "y": {
          "bdata": "DJuq7ZYt0T+ZdxkgH6XRP4tjDhM2XtE/p/B2ofry0T+lbTsSFcXRP80HMw7haNE/0vOLYp+Tzj9aTmVAmzjOPyQwAq/d6ck/McTLwrvuyD8MScxFD1XKPxlqSQkQ180/Ujc2vERlzz9VqIIys+rQP6iroqpOatI/+JgVhS9j0z87PEZ/GsTTP173oTS8HNY/Vb7n2xhv1j95ro3gf8DWP6b04bYIEdY/RwuZw0b30D9d8wErUJnPPwybqu2WLdE/",
          "dtype": "f8"
         }
        },
        {
         "hovertemplate": "<b>Folder:</b> F<br><b>Centroid Entropy:</b> %{x}<br><b>Centroid Complexity:</b> %{y}<extra></extra>",
         "marker": {
          "color": "#FF6692",
          "size": 12,
          "symbol": "circle"
         },
         "mode": "markers",
         "name": "F centroid",
         "type": "scatter",
         "x": [
          0.4884478210255292
         ],
         "y": [
          0.27969930700982104
         ]
        },
        {
         "fill": "toself",
         "fillcolor": "rgba(255, 161, 90, 0.3)",
         "hoverinfo": "skip",
         "line": {
          "color": "rgba(255, 161, 90, 0.3)",
          "width": 2
         },
         "mode": "lines",
         "name": "Dm region",
         "showlegend": true,
         "type": "scatter",
         "x": {
          "bdata": "NOppprHe6D9NfuycO4XpP2Q0Qx93Yuk/NuY+ubi56D9keD+vGwHmPwdt7rgZlOM/aduhKhfV4j/FYSDVsr7ePyO9TN5gndo/EcdX25I42D+PU2i8pJrUP/nTvcjzY9I/e2SoH3Q40D8gRQG67dfQP1dE+IKjsNI/NiUgCXjG0z+urrC9XCbWP1sj2CAZqdg/WyxntzS53T+vJQ3XN1niP0+EJnXQcOU/7q/NtbLB5T806mmmsd7oPw==",
          "dtype": "f8"
         },
         "y": {
          "bdata": "Zk9kC85q0z+paacrFR3SP3fupZ+XuNE/amaYtJTv0D+JowDw/BzRPxYlzetdb9E/Z6QTlAb+0T/LlVQZld/SP81wNZ2I0dE/bcqveyA50T+KQyyag6bOP08xa/oxI80/WBsLhr0Zyz9BYZ5aPgnNP1TkvUGEEtA/MSXir0eZ0D/jV3xiKvvRPzmohq0iUdI/FxSdbREe1D+qt9S4ysfVP3m/W1qEidc/YhHiYF0t1z9mT2QLzmrTPw==",
          "dtype": "f8"
         }
        },
        {
         "hovertemplate": "<b>Folder:</b> Dm<br><b>Centroid Entropy:</b> %{x}<br><b>Centroid Complexity:</b> %{y}<extra></extra>",
         "marker": {
          "color": "#FFA15A",
          "size": 12,
          "symbol": "circle"
         },
         "mode": "markers",
         "name": "Dm centroid",
         "type": "scatter",
         "x": [
          0.5177055187070537
         ],
         "y": [
          0.28291954392760443
         ]
        },
        {
         "fill": "toself",
         "fillcolor": "rgba(171, 99, 250, 0.3)",
         "hoverinfo": "skip",
         "line": {
          "color": "rgba(171, 99, 250, 0.3)",
          "width": 2
         },
         "mode": "lines",
         "name": "C region",
         "showlegend": true,
         "type": "scatter",
         "x": {
          "bdata": "qitlWoa65j+MyETsQRjoP+xHojIg7+g/lWm5xd6T6T+0OJhP5zLpP88EZIwGNOM/cSR5RYqo4j/hFyX7tZnhP6zU7trildw/W3PO2yMD2z+wu0ZodFDYP+6ElFthPNQ/pNHsh/aT0j/li2O8wzPQP1kNW6qnvs4/b+Vef4/v0j+QedDBLt3UP+jOXuBGZdY/rWv7NE3l2T9WEX9KJ+HgP9KsvM1L6eE/uoqdms3o4j9n79SUqufjP5euCsqyq+Y/qitlWoa65j8=",
          "dtype": "f8"
         },
         "y": {
          "bdata": "xvfBZhiE1j8o0C5GSHXUP71UQvvog9I/sP9c6YsG0T+Xq1tIAbnRP1PDF057+NE/00AYSfWg0T9zM5rfYnDRP3CgAuX5yNE/9ZW7B2mr0T+TgPFsRvPQP/uFbozXjM4/g3S6SBZ+zT95LVkMeBXLP7Lqdt3w1Mo/4aButo1jzz/4sIw/yIXRPzZJQVUwfNI/90WBSQ/Q1D8nHtnUNtLUP0f4XUdzTNU/SUELO1SU1T9hK3EAfBXWP71tKK5whdY/xvfBZhiE1j8=",
          "dtype": "f8"
         }
        },
        {
         "hovertemplate": "<b>Folder:</b> C<br><b>Centroid Entropy:</b> %{x}<br><b>Centroid Complexity:</b> %{y}<extra></extra>",
         "marker": {
          "color": "#AB63FA",
          "size": 12,
          "symbol": "circle"
         },
         "mode": "markers",
         "name": "C centroid",
         "type": "scatter",
         "x": [
          0.5027052286520028
         ],
         "y": [
          0.2841577778257157
         ]
        },
        {
         "fill": "toself",
         "fillcolor": "rgba(0, 204, 150, 0.3)",
         "hoverinfo": "skip",
         "line": {
          "color": "rgba(0, 204, 150, 0.3)",
          "width": 2
         },
         "mode": "lines",
         "name": "Bdim region",
         "showlegend": true,
         "type": "scatter",
         "x": {
          "bdata": "dwjxxWCz4z+mkUSlOmXoP0C8VgY/g+o/+uaRGoxX6z/OsdlDuK/qP7YmDi1sr+U/IMyvkAiE4j+Hs2sYFc/eP8boym2259w/nWeJiSMI2j/TV4qnHybVPwmco2tGE9M/IfEMoNgc0D+xAv7HzZvQP7wHl9I769A/uLpURY9J1T+Bt6uxihfYP60OseKut9g/zlRfen1K3D+dLM2YRmLhPxlfAhHbuuI/dwjxxWCz4z8=",
          "dtype": "f8"
         },
         "y": {
          "bdata": "mCu1rYcy1T9gRCJQd5PUP68uxaegTtA/dbzJpe3Kyz8HyXIPRgfNP2AyU+y5gdA/+KtywXFc0T+AhEi7KdzRP2m4uXN/tNE/qkJWxYys0T8Gk8E0aFHPP7pVpHHwPM0/GEeS60Layj9rDCanOIzMP5yEbcHS7sw/tX7/peFL0T8/LTOTfTbTP+kpgl3n3tM/ZwhmGMC+1T8Xofcb2NHUPw1GKfdaTdU/mCu1rYcy1T8=",
          "dtype": "f8"
         }
        },
        {
         "hovertemplate": "<b>Folder:</b> Bdim<br><b>Centroid Entropy:</b> %{x}<br><b>Centroid Complexity:</b> %{y}<extra></extra>",
         "marker": {
          "color": "#00CC96",
          "size": 12,
          "symbol": "circle"
         },
         "mode": "markers",
         "name": "Bdim centroid",
         "type": "scatter",
         "x": [
          0.5229515956787703
         ],
         "y": [
          0.28036153681378817
         ]
        },
        {
         "line": {
          "color": "red",
          "dash": "dash"
         },
         "mode": "lines",
         "name": "Maximum Complexity Boundary",
         "type": "scatter",
         "x": {
          "bdata": "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",
          "dtype": "f8"
         },
         "y": {
          "bdata": "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",
          "dtype": "f8"
         }
        },
        {
         "line": {
          "color": "green",
          "dash": "dash"
         },
         "mode": "lines",
         "name": "Minimum Complexity Boundary",
         "type": "scatter",
         "x": {
          "bdata": "AAAAAAAAAICaxf+16xqTP+jVhP1KAqI/vUTdi+gLqj/86nM1k+ewP8K3yY7ArrQ/p554aKFguD/uL+sCmwC8PzAUmEQWkb8/OC9Izu+JwT9fJ6LWLUXDP9zCdlXT+sQ/w/gEHFSrxj8NvFFLEFfIP6qV/uFY/sk/NbM6+3Khyz8sJAsvmkDNP7DF0VkC3M4/1TEXfOw50D9Eo50aIwTRP2yQ0d+2zNE/cXTxubeT0j+olffyM1nTP1t01Gg4HdQ/9H3Ou9Df1D86qBR1B6HVP9wYEyfmYNY/6J68iHUf1z8jY7eMvdzXP+DxJ3XFmNg/K+Ku5JNT2T+Dkg/tLg3aP45i3xucxdo/e8qKheB82z/HfO/OADPcP7hzvzUB6Nw/PsHXl+Wb3T86q655sU7eP6iv9gtoAN8/nDCPMAyx3z9Pw2s/UDDgP4fyuqOTh+A/ylnQS1He4D+2U/sdijThPz/0d+E+iuE/Qmx4P3Df4T8RywLEHjTiP6MEpt5KiOI/1I4I4/Tb4j9mYlIJHS/jP3Kyc27DgeM/hzlJFOjT4z/jjp7hiiXkP/qKDqKrduQ/+FfBBUrH5D/zXQehZRflP7HIz+v9ZuU/h+v4QBK25T8VRHjdoQTmP8xKV9+rUuY/IZyBRC+g5j94S2DpKu3mP6RZPYedOec/N09psoWF5z+X1RvY4dDnP/fNBjywG+g/48WR9e5l6D84trHsm6/oP9ubTta0+Og/1pYlMDdB6T+zsRI8IInpP7wOqfps0Ok//L/6JBoX6j81rmolJF3qP6I6Wg+Houo/yCN5lT7n6j+L1W/+RSvrP0CTiReYbus/5ELrJC+x6z99ysLOBPPrP0yqrgoSNOw/q/lgAE907D/z+SzosrPsPzkUuOEz8uw/IStdwMYv7T9YSNjJXmztPxjoW2Ltp+0/YoL0nmHi7T99rZWzpxvuP30tZSyoU+4/3roJ2EaK7j+hR1o3Yb/uPwiMLibM8u4/5bjgL1Ak7z8p/rF0o1PvP1Omz7BegO8/zKz4ROep7z8Ha0uLO8/vP00Cx0hS7u8/AAAAAAAA8D8=",
          "dtype": "f8"
         },
         "y": {
          "bdata": "AAAAAAAAAIDM4Y+YJlKSP3cLBINQtqA/J6zO+G52pz/N5dV3Gp6tP32fvDSTpLE/ZaqxOrdEtD8TBRfs0bW2Pz4In7ex/Lg/GLkl5iMduz9xvMwPQxq9Pxsj/6un9r4/5RS4+ENawD9oIqDe5irBPyRePBgT7sE/wQS/lIakwj+vc/D06k7DPw+0hN/Y7cM/pSqkndqBxD8oUsMvbgvFP5alVvwGi8U/hbZQMA8Bxj8sB9Pi6G3GP/hm9Qjv0cY/xNtVQ3Ytxz+YwtaMzYDHP9+iQtA+zMc/fgROaQ8QyD/crH+UgEzIP5sM0dDPgcg/ni5MNTewyD9iM3+87dfIP0a3R4cn+cg/fpI0GBYUyT+FPYaI6CjJP5yFqrfLN8k/4/HsdepAyT91afiqbUTJPygQr3h8Qsk/y77JWjw7yT/8YqBD0S7JPxf1brZdHck/SXpf3wIHyT/Z8pep4OvIP2cIg9MVzMg/PX2DAcCnyD9qhzzP+37IPyJNlN/kUcg/7m6R65UgyD8B7jDQKOvHP3iHTpu2scc/0wG3l1d0xz8XdnlYIzPHPym7isMw7sY/u1HMG5alxj+AsYYKaVnGP2W5Zai+CcY/itMEhqu2xT/kqBe0Q2DFP1J8O8uaBsU/k9Z888OpxD9Y05zr0UnEPyY2IRDX5sM/ToM6YuWAwz/Sh4uODhjDP9tB3vNjrMI/8cnSqfY9wj9N75WH18zBPxqprioXWcE/kEzz/cXiwD9sFbpA9GnAP14jtxxk3b8/msZDzB7ivj+pCIpnOOK9P53wNrHQ3bw/2BdgawfVuz8HP/Nt/Me6P/0JBcDPtrk/A3bGtKGhuD/EsyUNk4i3P1sKdB/Fa7Y/353hBlpLtT8Cb0vddCe0P1Lq0QI6ALM/PSYjeM/VsT+5+pxSXaiwP9pCy6kc8K4/hmBseCGKrD+oqte3Lh+qP+ZMTGK2r6c/w7ANazs8pT8z3wTgWMWiPzQr8GfNS6A/peLq2R2hmz/cun3T3amWP55cgtvItZE/L6gfV+WWiT8G9z+G6d9/P9Qznsa2+Wo/3KtzhX9C17w=",
          "dtype": "f8"
         }
        }
       ],
       "layout": {
        "height": 600,
        "template": {
         "data": {
          "bar": [
           {
            "error_x": {
             "color": "#2a3f5f"
            },
            "error_y": {
             "color": "#2a3f5f"
            },
            "marker": {
             "line": {
              "color": "white",
              "width": 0.5
             },
             "pattern": {
              "fillmode": "overlay",
              "size": 10,
              "solidity": 0.2
             }
            },
            "type": "bar"
           }
          ],
          "barpolar": [
           {
            "marker": {
             "line": {
              "color": "white",
              "width": 0.5
             },
             "pattern": {
              "fillmode": "overlay",
              "size": 10,
              "solidity": 0.2
             }
            },
            "type": "barpolar"
           }
          ],
          "carpet": [
           {
            "aaxis": {
             "endlinecolor": "#2a3f5f",
             "gridcolor": "#C8D4E3",
             "linecolor": "#C8D4E3",
             "minorgridcolor": "#C8D4E3",
             "startlinecolor": "#2a3f5f"
            },
            "baxis": {
             "endlinecolor": "#2a3f5f",
             "gridcolor": "#C8D4E3",
             "linecolor": "#C8D4E3",
             "minorgridcolor": "#C8D4E3",
             "startlinecolor": "#2a3f5f"
            },
            "type": "carpet"
           }
          ],
          "choropleth": [
           {
            "colorbar": {
             "outlinewidth": 0,
             "ticks": ""
            },
            "type": "choropleth"
           }
          ],
          "contour": [
           {
            "colorbar": {
             "outlinewidth": 0,
             "ticks": ""
            },
            "colorscale": [
             [
              0,
              "#0d0887"
             ],
             [
              0.1111111111111111,
              "#46039f"
             ],
             [
              0.2222222222222222,
              "#7201a8"
             ],
             [
              0.3333333333333333,
              "#9c179e"
             ],
             [
              0.4444444444444444,
              "#bd3786"
             ],
             [
              0.5555555555555556,
              "#d8576b"
             ],
             [
              0.6666666666666666,
              "#ed7953"
             ],
             [
              0.7777777777777778,
              "#fb9f3a"
             ],
             [
              0.8888888888888888,
              "#fdca26"
             ],
             [
              1,
              "#f0f921"
             ]
            ],
            "type": "contour"
           }
          ],
          "contourcarpet": [
           {
            "colorbar": {
             "outlinewidth": 0,
             "ticks": ""
            },
            "type": "contourcarpet"
           }
          ],
          "heatmap": [
           {
            "colorbar": {
             "outlinewidth": 0,
             "ticks": ""
            },
            "colorscale": [
             [
              0,
              "#0d0887"
             ],
             [
              0.1111111111111111,
              "#46039f"
             ],
             [
              0.2222222222222222,
              "#7201a8"
             ],
             [
              0.3333333333333333,
              "#9c179e"
             ],
             [
              0.4444444444444444,
              "#bd3786"
             ],
             [
              0.5555555555555556,
              "#d8576b"
             ],
             [
              0.6666666666666666,
              "#ed7953"
             ],
             [
              0.7777777777777778,
              "#fb9f3a"
             ],
             [
              0.8888888888888888,
              "#fdca26"
             ],
             [
              1,
              "#f0f921"
             ]
            ],
            "type": "heatmap"
           }
          ],
          "histogram": [
           {
            "marker": {
             "pattern": {
              "fillmode": "overlay",
              "size": 10,
              "solidity": 0.2
             }
            },
            "type": "histogram"
           }
          ],
          "histogram2d": [
           {
            "colorbar": {
             "outlinewidth": 0,
             "ticks": ""
            },
            "colorscale": [
             [
              0,
              "#0d0887"
             ],
             [
              0.1111111111111111,
              "#46039f"
             ],
             [
              0.2222222222222222,
              "#7201a8"
             ],
             [
              0.3333333333333333,
              "#9c179e"
             ],
             [
              0.4444444444444444,
              "#bd3786"
             ],
             [
              0.5555555555555556,
              "#d8576b"
             ],
             [
              0.6666666666666666,
              "#ed7953"
             ],
             [
              0.7777777777777778,
              "#fb9f3a"
             ],
             [
              0.8888888888888888,
              "#fdca26"
             ],
             [
              1,
              "#f0f921"
             ]
            ],
            "type": "histogram2d"
           }
          ],
          "histogram2dcontour": [
           {
            "colorbar": {
             "outlinewidth": 0,
             "ticks": ""
            },
            "colorscale": [
             [
              0,
              "#0d0887"
             ],
             [
              0.1111111111111111,
              "#46039f"
             ],
             [
              0.2222222222222222,
              "#7201a8"
             ],
             [
              0.3333333333333333,
              "#9c179e"
             ],
             [
              0.4444444444444444,
              "#bd3786"
             ],
             [
              0.5555555555555556,
              "#d8576b"
             ],
             [
              0.6666666666666666,
              "#ed7953"
             ],
             [
              0.7777777777777778,
              "#fb9f3a"
             ],
             [
              0.8888888888888888,
              "#fdca26"
             ],
             [
              1,
              "#f0f921"
             ]
            ],
            "type": "histogram2dcontour"
           }
          ],
          "mesh3d": [
           {
            "colorbar": {
             "outlinewidth": 0,
             "ticks": ""
            },
            "type": "mesh3d"
           }
          ],
          "parcoords": [
           {
            "line": {
             "colorbar": {
              "outlinewidth": 0,
              "ticks": ""
             }
            },
            "type": "parcoords"
           }
          ],
          "pie": [
           {
            "automargin": true,
            "type": "pie"
           }
          ],
          "scatter": [
           {
            "fillpattern": {
             "fillmode": "overlay",
             "size": 10,
             "solidity": 0.2
            },
            "type": "scatter"
           }
          ],
          "scatter3d": [
           {
            "line": {
             "colorbar": {
              "outlinewidth": 0,
              "ticks": ""
             }
            },
            "marker": {
             "colorbar": {
              "outlinewidth": 0,
              "ticks": ""
             }
            },
            "type": "scatter3d"
           }
          ],
          "scattercarpet": [
           {
            "marker": {
             "colorbar": {
              "outlinewidth": 0,
              "ticks": ""
             }
            },
            "type": "scattercarpet"
           }
          ],
          "scattergeo": [
           {
            "marker": {
             "colorbar": {
              "outlinewidth": 0,
              "ticks": ""
             }
            },
            "type": "scattergeo"
           }
          ],
          "scattergl": [
           {
            "marker": {
             "colorbar": {
              "outlinewidth": 0,
              "ticks": ""
             }
            },
            "type": "scattergl"
           }
          ],
          "scattermap": [
           {
            "marker": {
             "colorbar": {
              "outlinewidth": 0,
              "ticks": ""
             }
            },
            "type": "scattermap"
           }
          ],
          "scattermapbox": [
           {
            "marker": {
             "colorbar": {
              "outlinewidth": 0,
              "ticks": ""
             }
            },
            "type": "scattermapbox"
           }
          ],
          "scatterpolar": [
           {
            "marker": {
             "colorbar": {
              "outlinewidth": 0,
              "ticks": ""
             }
            },
            "type": "scatterpolar"
           }
          ],
          "scatterpolargl": [
           {
            "marker": {
             "colorbar": {
              "outlinewidth": 0,
              "ticks": ""
             }
            },
            "type": "scatterpolargl"
           }
          ],
          "scatterternary": [
           {
            "marker": {
             "colorbar": {
              "outlinewidth": 0,
              "ticks": ""
             }
            },
            "type": "scatterternary"
           }
          ],
          "surface": [
           {
            "colorbar": {
             "outlinewidth": 0,
             "ticks": ""
            },
            "colorscale": [
             [
              0,
              "#0d0887"
             ],
             [
              0.1111111111111111,
              "#46039f"
             ],
             [
              0.2222222222222222,
              "#7201a8"
             ],
             [
              0.3333333333333333,
              "#9c179e"
             ],
             [
              0.4444444444444444,
              "#bd3786"
             ],
             [
              0.5555555555555556,
              "#d8576b"
             ],
             [
              0.6666666666666666,
              "#ed7953"
             ],
             [
              0.7777777777777778,
              "#fb9f3a"
             ],
             [
              0.8888888888888888,
              "#fdca26"
             ],
             [
              1,
              "#f0f921"
             ]
            ],
            "type": "surface"
           }
          ],
          "table": [
           {
            "cells": {
             "fill": {
              "color": "#EBF0F8"
             },
             "line": {
              "color": "white"
             }
            },
            "header": {
             "fill": {
              "color": "#C8D4E3"
             },
             "line": {
              "color": "white"
             }
            },
            "type": "table"
           }
          ]
         },
         "layout": {
          "annotationdefaults": {
           "arrowcolor": "#2a3f5f",
           "arrowhead": 0,
           "arrowwidth": 1
          },
          "autotypenumbers": "strict",
          "coloraxis": {
           "colorbar": {
            "outlinewidth": 0,
            "ticks": ""
           }
          },
          "colorscale": {
           "diverging": [
            [
             0,
             "#8e0152"
            ],
            [
             0.1,
             "#c51b7d"
            ],
            [
             0.2,
             "#de77ae"
            ],
            [
             0.3,
             "#f1b6da"
            ],
            [
             0.4,
             "#fde0ef"
            ],
            [
             0.5,
             "#f7f7f7"
            ],
            [
             0.6,
             "#e6f5d0"
            ],
            [
             0.7,
             "#b8e186"
            ],
            [
             0.8,
             "#7fbc41"
            ],
            [
             0.9,
             "#4d9221"
            ],
            [
             1,
             "#276419"
            ]
           ],
           "sequential": [
            [
             0,
             "#0d0887"
            ],
            [
             0.1111111111111111,
             "#46039f"
            ],
            [
             0.2222222222222222,
             "#7201a8"
            ],
            [
             0.3333333333333333,
             "#9c179e"
            ],
            [
             0.4444444444444444,
             "#bd3786"
            ],
            [
             0.5555555555555556,
             "#d8576b"
            ],
            [
             0.6666666666666666,
             "#ed7953"
            ],
            [
             0.7777777777777778,
             "#fb9f3a"
            ],
            [
             0.8888888888888888,
             "#fdca26"
            ],
            [
             1,
             "#f0f921"
            ]
           ],
           "sequentialminus": [
            [
             0,
             "#0d0887"
            ],
            [
             0.1111111111111111,
             "#46039f"
            ],
            [
             0.2222222222222222,
             "#7201a8"
            ],
            [
             0.3333333333333333,
             "#9c179e"
            ],
            [
             0.4444444444444444,
             "#bd3786"
            ],
            [
             0.5555555555555556,
             "#d8576b"
            ],
            [
             0.6666666666666666,
             "#ed7953"
            ],
            [
             0.7777777777777778,
             "#fb9f3a"
            ],
            [
             0.8888888888888888,
             "#fdca26"
            ],
            [
             1,
             "#f0f921"
            ]
           ]
          },
          "colorway": [
           "#636efa",
           "#EF553B",
           "#00cc96",
           "#ab63fa",
           "#FFA15A",
           "#19d3f3",
           "#FF6692",
           "#B6E880",
           "#FF97FF",
           "#FECB52"
          ],
          "font": {
           "color": "#2a3f5f"
          },
          "geo": {
           "bgcolor": "white",
           "lakecolor": "white",
           "landcolor": "white",
           "showlakes": true,
           "showland": true,
           "subunitcolor": "#C8D4E3"
          },
          "hoverlabel": {
           "align": "left"
          },
          "hovermode": "closest",
          "mapbox": {
           "style": "light"
          },
          "paper_bgcolor": "white",
          "plot_bgcolor": "white",
          "polar": {
           "angularaxis": {
            "gridcolor": "#EBF0F8",
            "linecolor": "#EBF0F8",
            "ticks": ""
           },
           "bgcolor": "white",
           "radialaxis": {
            "gridcolor": "#EBF0F8",
            "linecolor": "#EBF0F8",
            "ticks": ""
           }
          },
          "scene": {
           "xaxis": {
            "backgroundcolor": "white",
            "gridcolor": "#DFE8F3",
            "gridwidth": 2,
            "linecolor": "#EBF0F8",
            "showbackground": true,
            "ticks": "",
            "zerolinecolor": "#EBF0F8"
           },
           "yaxis": {
            "backgroundcolor": "white",
            "gridcolor": "#DFE8F3",
            "gridwidth": 2,
            "linecolor": "#EBF0F8",
            "showbackground": true,
            "ticks": "",
            "zerolinecolor": "#EBF0F8"
           },
           "zaxis": {
            "backgroundcolor": "white",
            "gridcolor": "#DFE8F3",
            "gridwidth": 2,
            "linecolor": "#EBF0F8",
            "showbackground": true,
            "ticks": "",
            "zerolinecolor": "#EBF0F8"
           }
          },
          "shapedefaults": {
           "line": {
            "color": "#2a3f5f"
           }
          },
          "ternary": {
           "aaxis": {
            "gridcolor": "#DFE8F3",
            "linecolor": "#A2B1C6",
            "ticks": ""
           },
           "baxis": {
            "gridcolor": "#DFE8F3",
            "linecolor": "#A2B1C6",
            "ticks": ""
           },
           "bgcolor": "white",
           "caxis": {
            "gridcolor": "#DFE8F3",
            "linecolor": "#A2B1C6",
            "ticks": ""
           }
          },
          "title": {
           "x": 0.05
          },
          "xaxis": {
           "automargin": true,
           "gridcolor": "#EBF0F8",
           "linecolor": "#EBF0F8",
           "ticks": "",
           "title": {
            "standoff": 15
           },
           "zerolinecolor": "#EBF0F8",
           "zerolinewidth": 2
          },
          "yaxis": {
           "automargin": true,
           "gridcolor": "#EBF0F8",
           "linecolor": "#EBF0F8",
           "ticks": "",
           "title": {
            "standoff": 15
           },
           "zerolinecolor": "#EBF0F8",
           "zerolinewidth": 2
          }
         }
        },
        "title": {
         "text": "Entropy–Complexity Regions for Folders in 'guitar_chords' (Dim=6, Hop=1)"
        },
        "width": 800,
        "xaxis": {
         "range": [
          0,
          1
         ],
         "title": {
          "text": "Normalized Permutation Entropy"
         }
        },
        "yaxis": {
         "range": [
          0,
          1
         ],
         "title": {
          "text": "Normalized Complexity"
         }
        }
       }
      }
     },
     "metadata": {},
     "output_type": "display_data"
    }
   ],
   "source": [
    "folder_path = \"data/guitar_chords\"\n",
    "dim = 6\n",
    "hop = 1\n",
    "alpha_val = 7\n",
    "plot_graph_ordpy_centroids_with_region(folder_path, dim, hop, alpha_val)"
   ]
  },
  {
   "cell_type": "code",
   "execution_count": 129,
   "metadata": {},
   "outputs": [
    {
     "name": "stderr",
     "output_type": "stream",
     "text": [
      "Processing audio files in data/guitar_chords/Am with dim 6 and hop 1: 100%|██████████| 40/40 [00:08<00:00,  4.77it/s]\n"
     ]
    },
    {
     "data": {
      "application/vnd.plotly.v1+json": {
       "config": {
        "plotlyServerURL": "https://plot.ly"
       },
       "data": [
        {
         "hovertemplate": "<b>File:</b> %{hovertext}<br><b>Entropy:</b> %{x}<br><b>Complexity:</b> %{y}<extra></extra>",
         "hovertext": [
          "Am_AcusticVince_JO_2.wav",
          "Am_AcusticVince_JO_3.wav",
          "Am_AcusticVince_JO_1.wav",
          "Am_AcusticVince_JO_4.wav",
          "Am_Classic3_Carolina_4.wav",
          "Am_ClassicVince_JO_4.wav",
          "Am_electric_Isabel_1.wav",
          "Am_Classic_Jo_4.wav",
          "Am_Classic2_Carolina_1.wav",
          "Am_electric_Isabel_2.wav",
          "Am_Classic2_Carolina_3.wav",
          "Am_Classic2_Carolina_2.wav",
          "Am_electric_Isabel_3.wav",
          "Am_Classic3_Carolina_2.wav",
          "Am_ClassicVince_JO_2.wav",
          "Am_Classic_Jo_3.wav",
          "Am_Classic_Jo_2.wav",
          "Am_ClassicVince_JO_3.wav",
          "Am_Classic3_Carolina_3.wav",
          "Am_Classic3_Carolina_1.wav",
          "Am_electric_Isabel_4.wav",
          "Am_ClassicVince_JO_1.wav",
          "Am_Classic_Jo_1.wav",
          "Am_Classic2_Carolina_4.wav",
          "Am_Electric1_LInda_1.wav",
          "Am_Electric1_LInda_3.wav",
          "Am_Electric1_LInda_2.wav",
          "Am_Electric1_LInda_4.wav",
          "Am_Electric2_LInda_4.wav",
          "Am_classical_AfonsoLemos_-01.wav",
          "Am_AcousticGuitar_RodrigoMercador_4.wav",
          "Am_classical_AfonsoLemos_-02.wav",
          "Am_classical_AfonsoLemos_-03.wav",
          "Am_Electric2_LInda_2.wav",
          "Am_AcousticGuitar_RodrigoMercador_1.wav",
          "Am_Electric2_LInda_3.wav",
          "Am_Electric2_LInda_1.wav",
          "Am_AcousticGuitar_RodrigoMercador_2.wav",
          "Am_classical_AfonsoLemos_-04.wav",
          "Am_AcousticGuitar_RodrigoMercador_3.wav"
         ],
         "marker": {
          "color": "blue",
          "line": {
           "color": "black",
           "width": 1
          },
          "size": 10
         },
         "mode": "markers",
         "name": "Data Points",
         "type": "scatter",
         "x": {
          "bdata": "/uJB02ZN1j+LvFGlYzLVP2qhbd7xgNM/p2mGL0SX0z+7z8lYrdvfP/oNXMFNQNI/bW2JdyWk1D+8XDnv46LkPypjtkrbH94/Mlib4Arj0j/iEhDARD/bPzD43qZW9d0/emL1E18H0j9j+aXe9YzcP/S+twF/Zdg/Uf/PirD04T+oueQ+nYviP8NaVt6/btI/SofjjrPw2T9/Uc4szuHeP/bA4fiPI9A/zu1ucUJk1D/oWC0cuC3hP6xy7721i+E/oavCCB2o5z/YHY4wnz3nPzT7Z3FTTeg/ie+u+vLO5j9dOShgc33mP52zEM1vRt0/d09x+vQI5D/GH7U/QSLbPzESbe2n690/kYshtzIZ6T+sCJ6g/pzhPzq1KVDkz+c/lNioF8+E6T/WtLPLHnLhP7DcFBZl8N8/YppzrB9r5D8=",
          "dtype": "f8"
         },
         "y": {
          "bdata": "q+Y+xX5F0j+hod89AVjRP57w2498ctA/5QZymBs50D+1CyEkiIzUP3uesfyZzM4/fXGi88Vpzz8pqBhp3MrRP3fO8IoG99E/lfk4yUb9zT/nTXqjDLzRPwaRY/w/H9I/AAN4xM4rzT/ebtP7IEzSP56aP6J5mNM/k1/LksOL0j+gnjstD+LQP+eEltzH4M4/3QgFkgUj0j8wdytnMo7TP3LfNvRij8s/O9CxjK7R0D9eUr29o0jRP2j6JSXXndM/SQOXhrP90z8/7fDa+d7UP5yL5X+aNtI/77PrmTgp1T9ZX7nEtrvVP/iM+iyWjdE/ae+/I2ku1j+54xizJzrRPxgzYg2e5tE/DiqkgnD20j/wm+G+qXvVP3YJyfm3mtU/E4dTmaww0T+mnW1QgSvVPztoLL7KkdE/uazU9Z4P1T8=",
          "dtype": "f8"
         }
        },
        {
         "line": {
          "color": "red",
          "dash": "dash"
         },
         "mode": "lines",
         "name": "Maximum Complexity Boundary",
         "type": "scatter",
         "x": {
          "bdata": "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",
          "dtype": "f8"
         },
         "y": {
          "bdata": "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",
          "dtype": "f8"
         }
        },
        {
         "line": {
          "color": "green",
          "dash": "dash"
         },
         "mode": "lines",
         "name": "Minimum Complexity Boundary",
         "type": "scatter",
         "x": {
          "bdata": "AAAAAAAAAICaxf+16xqTP+jVhP1KAqI/vUTdi+gLqj/86nM1k+ewP8K3yY7ArrQ/p554aKFguD/uL+sCmwC8PzAUmEQWkb8/OC9Izu+JwT9fJ6LWLUXDP9zCdlXT+sQ/w/gEHFSrxj8NvFFLEFfIP6qV/uFY/sk/NbM6+3Khyz8sJAsvmkDNP7DF0VkC3M4/1TEXfOw50D9Eo50aIwTRP2yQ0d+2zNE/cXTxubeT0j+olffyM1nTP1t01Gg4HdQ/9H3Ou9Df1D86qBR1B6HVP9wYEyfmYNY/6J68iHUf1z8jY7eMvdzXP+DxJ3XFmNg/K+Ku5JNT2T+Dkg/tLg3aP45i3xucxdo/e8qKheB82z/HfO/OADPcP7hzvzUB6Nw/PsHXl+Wb3T86q655sU7eP6iv9gtoAN8/nDCPMAyx3z9Pw2s/UDDgP4fyuqOTh+A/ylnQS1He4D+2U/sdijThPz/0d+E+iuE/Qmx4P3Df4T8RywLEHjTiP6MEpt5KiOI/1I4I4/Tb4j9mYlIJHS/jP3Kyc27DgeM/hzlJFOjT4z/jjp7hiiXkP/qKDqKrduQ/+FfBBUrH5D/zXQehZRflP7HIz+v9ZuU/h+v4QBK25T8VRHjdoQTmP8xKV9+rUuY/IZyBRC+g5j94S2DpKu3mP6RZPYedOec/N09psoWF5z+X1RvY4dDnP/fNBjywG+g/48WR9e5l6D84trHsm6/oP9ubTta0+Og/1pYlMDdB6T+zsRI8IInpP7wOqfps0Ok//L/6JBoX6j81rmolJF3qP6I6Wg+Houo/yCN5lT7n6j+L1W/+RSvrP0CTiReYbus/5ELrJC+x6z99ysLOBPPrP0yqrgoSNOw/q/lgAE907D/z+SzosrPsPzkUuOEz8uw/IStdwMYv7T9YSNjJXmztPxjoW2Ltp+0/YoL0nmHi7T99rZWzpxvuP30tZSyoU+4/3roJ2EaK7j+hR1o3Yb/uPwiMLibM8u4/5bjgL1Ak7z8p/rF0o1PvP1Omz7BegO8/zKz4ROep7z8Ha0uLO8/vP00Cx0hS7u8/AAAAAAAA8D8=",
          "dtype": "f8"
         },
         "y": {
          "bdata": "AAAAAAAAAIDM4Y+YJlKSP3cLBINQtqA/J6zO+G52pz/N5dV3Gp6tP32fvDSTpLE/ZaqxOrdEtD8TBRfs0bW2Pz4In7ex/Lg/GLkl5iMduz9xvMwPQxq9Pxsj/6un9r4/5RS4+ENawD9oIqDe5irBPyRePBgT7sE/wQS/lIakwj+vc/D06k7DPw+0hN/Y7cM/pSqkndqBxD8oUsMvbgvFP5alVvwGi8U/hbZQMA8Bxj8sB9Pi6G3GP/hm9Qjv0cY/xNtVQ3Ytxz+YwtaMzYDHP9+iQtA+zMc/fgROaQ8QyD/crH+UgEzIP5sM0dDPgcg/ni5MNTewyD9iM3+87dfIP0a3R4cn+cg/fpI0GBYUyT+FPYaI6CjJP5yFqrfLN8k/4/HsdepAyT91afiqbUTJPygQr3h8Qsk/y77JWjw7yT/8YqBD0S7JPxf1brZdHck/SXpf3wIHyT/Z8pep4OvIP2cIg9MVzMg/PX2DAcCnyD9qhzzP+37IPyJNlN/kUcg/7m6R65UgyD8B7jDQKOvHP3iHTpu2scc/0wG3l1d0xz8XdnlYIzPHPym7isMw7sY/u1HMG5alxj+AsYYKaVnGP2W5Zai+CcY/itMEhqu2xT/kqBe0Q2DFP1J8O8uaBsU/k9Z888OpxD9Y05zr0UnEPyY2IRDX5sM/ToM6YuWAwz/Sh4uODhjDP9tB3vNjrMI/8cnSqfY9wj9N75WH18zBPxqprioXWcE/kEzz/cXiwD9sFbpA9GnAP14jtxxk3b8/msZDzB7ivj+pCIpnOOK9P53wNrHQ3bw/2BdgawfVuz8HP/Nt/Me6P/0JBcDPtrk/A3bGtKGhuD/EsyUNk4i3P1sKdB/Fa7Y/353hBlpLtT8Cb0vddCe0P1Lq0QI6ALM/PSYjeM/VsT+5+pxSXaiwP9pCy6kc8K4/hmBseCGKrD+oqte3Lh+qP+ZMTGK2r6c/w7ANazs8pT8z3wTgWMWiPzQr8GfNS6A/peLq2R2hmz/cun3T3amWP55cgtvItZE/L6gfV+WWiT8G9z+G6d9/P9Qznsa2+Wo/3KtzhX9C17w=",
          "dtype": "f8"
         }
        }
       ],
       "layout": {
        "height": 600,
        "template": {
         "data": {
          "bar": [
           {
            "error_x": {
             "color": "#2a3f5f"
            },
            "error_y": {
             "color": "#2a3f5f"
            },
            "marker": {
             "line": {
              "color": "white",
              "width": 0.5
             },
             "pattern": {
              "fillmode": "overlay",
              "size": 10,
              "solidity": 0.2
             }
            },
            "type": "bar"
           }
          ],
          "barpolar": [
           {
            "marker": {
             "line": {
              "color": "white",
              "width": 0.5
             },
             "pattern": {
              "fillmode": "overlay",
              "size": 10,
              "solidity": 0.2
             }
            },
            "type": "barpolar"
           }
          ],
          "carpet": [
           {
            "aaxis": {
             "endlinecolor": "#2a3f5f",
             "gridcolor": "#C8D4E3",
             "linecolor": "#C8D4E3",
             "minorgridcolor": "#C8D4E3",
             "startlinecolor": "#2a3f5f"
            },
            "baxis": {
             "endlinecolor": "#2a3f5f",
             "gridcolor": "#C8D4E3",
             "linecolor": "#C8D4E3",
             "minorgridcolor": "#C8D4E3",
             "startlinecolor": "#2a3f5f"
            },
            "type": "carpet"
           }
          ],
          "choropleth": [
           {
            "colorbar": {
             "outlinewidth": 0,
             "ticks": ""
            },
            "type": "choropleth"
           }
          ],
          "contour": [
           {
            "colorbar": {
             "outlinewidth": 0,
             "ticks": ""
            },
            "colorscale": [
             [
              0,
              "#0d0887"
             ],
             [
              0.1111111111111111,
              "#46039f"
             ],
             [
              0.2222222222222222,
              "#7201a8"
             ],
             [
              0.3333333333333333,
              "#9c179e"
             ],
             [
              0.4444444444444444,
              "#bd3786"
             ],
             [
              0.5555555555555556,
              "#d8576b"
             ],
             [
              0.6666666666666666,
              "#ed7953"
             ],
             [
              0.7777777777777778,
              "#fb9f3a"
             ],
             [
              0.8888888888888888,
              "#fdca26"
             ],
             [
              1,
              "#f0f921"
             ]
            ],
            "type": "contour"
           }
          ],
          "contourcarpet": [
           {
            "colorbar": {
             "outlinewidth": 0,
             "ticks": ""
            },
            "type": "contourcarpet"
           }
          ],
          "heatmap": [
           {
            "colorbar": {
             "outlinewidth": 0,
             "ticks": ""
            },
            "colorscale": [
             [
              0,
              "#0d0887"
             ],
             [
              0.1111111111111111,
              "#46039f"
             ],
             [
              0.2222222222222222,
              "#7201a8"
             ],
             [
              0.3333333333333333,
              "#9c179e"
             ],
             [
              0.4444444444444444,
              "#bd3786"
             ],
             [
              0.5555555555555556,
              "#d8576b"
             ],
             [
              0.6666666666666666,
              "#ed7953"
             ],
             [
              0.7777777777777778,
              "#fb9f3a"
             ],
             [
              0.8888888888888888,
              "#fdca26"
             ],
             [
              1,
              "#f0f921"
             ]
            ],
            "type": "heatmap"
           }
          ],
          "histogram": [
           {
            "marker": {
             "pattern": {
              "fillmode": "overlay",
              "size": 10,
              "solidity": 0.2
             }
            },
            "type": "histogram"
           }
          ],
          "histogram2d": [
           {
            "colorbar": {
             "outlinewidth": 0,
             "ticks": ""
            },
            "colorscale": [
             [
              0,
              "#0d0887"
             ],
             [
              0.1111111111111111,
              "#46039f"
             ],
             [
              0.2222222222222222,
              "#7201a8"
             ],
             [
              0.3333333333333333,
              "#9c179e"
             ],
             [
              0.4444444444444444,
              "#bd3786"
             ],
             [
              0.5555555555555556,
              "#d8576b"
             ],
             [
              0.6666666666666666,
              "#ed7953"
             ],
             [
              0.7777777777777778,
              "#fb9f3a"
             ],
             [
              0.8888888888888888,
              "#fdca26"
             ],
             [
              1,
              "#f0f921"
             ]
            ],
            "type": "histogram2d"
           }
          ],
          "histogram2dcontour": [
           {
            "colorbar": {
             "outlinewidth": 0,
             "ticks": ""
            },
            "colorscale": [
             [
              0,
              "#0d0887"
             ],
             [
              0.1111111111111111,
              "#46039f"
             ],
             [
              0.2222222222222222,
              "#7201a8"
             ],
             [
              0.3333333333333333,
              "#9c179e"
             ],
             [
              0.4444444444444444,
              "#bd3786"
             ],
             [
              0.5555555555555556,
              "#d8576b"
             ],
             [
              0.6666666666666666,
              "#ed7953"
             ],
             [
              0.7777777777777778,
              "#fb9f3a"
             ],
             [
              0.8888888888888888,
              "#fdca26"
             ],
             [
              1,
              "#f0f921"
             ]
            ],
            "type": "histogram2dcontour"
           }
          ],
          "mesh3d": [
           {
            "colorbar": {
             "outlinewidth": 0,
             "ticks": ""
            },
            "type": "mesh3d"
           }
          ],
          "parcoords": [
           {
            "line": {
             "colorbar": {
              "outlinewidth": 0,
              "ticks": ""
             }
            },
            "type": "parcoords"
           }
          ],
          "pie": [
           {
            "automargin": true,
            "type": "pie"
           }
          ],
          "scatter": [
           {
            "fillpattern": {
             "fillmode": "overlay",
             "size": 10,
             "solidity": 0.2
            },
            "type": "scatter"
           }
          ],
          "scatter3d": [
           {
            "line": {
             "colorbar": {
              "outlinewidth": 0,
              "ticks": ""
             }
            },
            "marker": {
             "colorbar": {
              "outlinewidth": 0,
              "ticks": ""
             }
            },
            "type": "scatter3d"
           }
          ],
          "scattercarpet": [
           {
            "marker": {
             "colorbar": {
              "outlinewidth": 0,
              "ticks": ""
             }
            },
            "type": "scattercarpet"
           }
          ],
          "scattergeo": [
           {
            "marker": {
             "colorbar": {
              "outlinewidth": 0,
              "ticks": ""
             }
            },
            "type": "scattergeo"
           }
          ],
          "scattergl": [
           {
            "marker": {
             "colorbar": {
              "outlinewidth": 0,
              "ticks": ""
             }
            },
            "type": "scattergl"
           }
          ],
          "scattermap": [
           {
            "marker": {
             "colorbar": {
              "outlinewidth": 0,
              "ticks": ""
             }
            },
            "type": "scattermap"
           }
          ],
          "scattermapbox": [
           {
            "marker": {
             "colorbar": {
              "outlinewidth": 0,
              "ticks": ""
             }
            },
            "type": "scattermapbox"
           }
          ],
          "scatterpolar": [
           {
            "marker": {
             "colorbar": {
              "outlinewidth": 0,
              "ticks": ""
             }
            },
            "type": "scatterpolar"
           }
          ],
          "scatterpolargl": [
           {
            "marker": {
             "colorbar": {
              "outlinewidth": 0,
              "ticks": ""
             }
            },
            "type": "scatterpolargl"
           }
          ],
          "scatterternary": [
           {
            "marker": {
             "colorbar": {
              "outlinewidth": 0,
              "ticks": ""
             }
            },
            "type": "scatterternary"
           }
          ],
          "surface": [
           {
            "colorbar": {
             "outlinewidth": 0,
             "ticks": ""
            },
            "colorscale": [
             [
              0,
              "#0d0887"
             ],
             [
              0.1111111111111111,
              "#46039f"
             ],
             [
              0.2222222222222222,
              "#7201a8"
             ],
             [
              0.3333333333333333,
              "#9c179e"
             ],
             [
              0.4444444444444444,
              "#bd3786"
             ],
             [
              0.5555555555555556,
              "#d8576b"
             ],
             [
              0.6666666666666666,
              "#ed7953"
             ],
             [
              0.7777777777777778,
              "#fb9f3a"
             ],
             [
              0.8888888888888888,
              "#fdca26"
             ],
             [
              1,
              "#f0f921"
             ]
            ],
            "type": "surface"
           }
          ],
          "table": [
           {
            "cells": {
             "fill": {
              "color": "#EBF0F8"
             },
             "line": {
              "color": "white"
             }
            },
            "header": {
             "fill": {
              "color": "#C8D4E3"
             },
             "line": {
              "color": "white"
             }
            },
            "type": "table"
           }
          ]
         },
         "layout": {
          "annotationdefaults": {
           "arrowcolor": "#2a3f5f",
           "arrowhead": 0,
           "arrowwidth": 1
          },
          "autotypenumbers": "strict",
          "coloraxis": {
           "colorbar": {
            "outlinewidth": 0,
            "ticks": ""
           }
          },
          "colorscale": {
           "diverging": [
            [
             0,
             "#8e0152"
            ],
            [
             0.1,
             "#c51b7d"
            ],
            [
             0.2,
             "#de77ae"
            ],
            [
             0.3,
             "#f1b6da"
            ],
            [
             0.4,
             "#fde0ef"
            ],
            [
             0.5,
             "#f7f7f7"
            ],
            [
             0.6,
             "#e6f5d0"
            ],
            [
             0.7,
             "#b8e186"
            ],
            [
             0.8,
             "#7fbc41"
            ],
            [
             0.9,
             "#4d9221"
            ],
            [
             1,
             "#276419"
            ]
           ],
           "sequential": [
            [
             0,
             "#0d0887"
            ],
            [
             0.1111111111111111,
             "#46039f"
            ],
            [
             0.2222222222222222,
             "#7201a8"
            ],
            [
             0.3333333333333333,
             "#9c179e"
            ],
            [
             0.4444444444444444,
             "#bd3786"
            ],
            [
             0.5555555555555556,
             "#d8576b"
            ],
            [
             0.6666666666666666,
             "#ed7953"
            ],
            [
             0.7777777777777778,
             "#fb9f3a"
            ],
            [
             0.8888888888888888,
             "#fdca26"
            ],
            [
             1,
             "#f0f921"
            ]
           ],
           "sequentialminus": [
            [
             0,
             "#0d0887"
            ],
            [
             0.1111111111111111,
             "#46039f"
            ],
            [
             0.2222222222222222,
             "#7201a8"
            ],
            [
             0.3333333333333333,
             "#9c179e"
            ],
            [
             0.4444444444444444,
             "#bd3786"
            ],
            [
             0.5555555555555556,
             "#d8576b"
            ],
            [
             0.6666666666666666,
             "#ed7953"
            ],
            [
             0.7777777777777778,
             "#fb9f3a"
            ],
            [
             0.8888888888888888,
             "#fdca26"
            ],
            [
             1,
             "#f0f921"
            ]
           ]
          },
          "colorway": [
           "#636efa",
           "#EF553B",
           "#00cc96",
           "#ab63fa",
           "#FFA15A",
           "#19d3f3",
           "#FF6692",
           "#B6E880",
           "#FF97FF",
           "#FECB52"
          ],
          "font": {
           "color": "#2a3f5f"
          },
          "geo": {
           "bgcolor": "white",
           "lakecolor": "white",
           "landcolor": "white",
           "showlakes": true,
           "showland": true,
           "subunitcolor": "#C8D4E3"
          },
          "hoverlabel": {
           "align": "left"
          },
          "hovermode": "closest",
          "mapbox": {
           "style": "light"
          },
          "paper_bgcolor": "white",
          "plot_bgcolor": "white",
          "polar": {
           "angularaxis": {
            "gridcolor": "#EBF0F8",
            "linecolor": "#EBF0F8",
            "ticks": ""
           },
           "bgcolor": "white",
           "radialaxis": {
            "gridcolor": "#EBF0F8",
            "linecolor": "#EBF0F8",
            "ticks": ""
           }
          },
          "scene": {
           "xaxis": {
            "backgroundcolor": "white",
            "gridcolor": "#DFE8F3",
            "gridwidth": 2,
            "linecolor": "#EBF0F8",
            "showbackground": true,
            "ticks": "",
            "zerolinecolor": "#EBF0F8"
           },
           "yaxis": {
            "backgroundcolor": "white",
            "gridcolor": "#DFE8F3",
            "gridwidth": 2,
            "linecolor": "#EBF0F8",
            "showbackground": true,
            "ticks": "",
            "zerolinecolor": "#EBF0F8"
           },
           "zaxis": {
            "backgroundcolor": "white",
            "gridcolor": "#DFE8F3",
            "gridwidth": 2,
            "linecolor": "#EBF0F8",
            "showbackground": true,
            "ticks": "",
            "zerolinecolor": "#EBF0F8"
           }
          },
          "shapedefaults": {
           "line": {
            "color": "#2a3f5f"
           }
          },
          "ternary": {
           "aaxis": {
            "gridcolor": "#DFE8F3",
            "linecolor": "#A2B1C6",
            "ticks": ""
           },
           "baxis": {
            "gridcolor": "#DFE8F3",
            "linecolor": "#A2B1C6",
            "ticks": ""
           },
           "bgcolor": "white",
           "caxis": {
            "gridcolor": "#DFE8F3",
            "linecolor": "#A2B1C6",
            "ticks": ""
           }
          },
          "title": {
           "x": 0.05
          },
          "xaxis": {
           "automargin": true,
           "gridcolor": "#EBF0F8",
           "linecolor": "#EBF0F8",
           "ticks": "",
           "title": {
            "standoff": 15
           },
           "zerolinecolor": "#EBF0F8",
           "zerolinewidth": 2
          },
          "yaxis": {
           "automargin": true,
           "gridcolor": "#EBF0F8",
           "linecolor": "#EBF0F8",
           "ticks": "",
           "title": {
            "standoff": 15
           },
           "zerolinecolor": "#EBF0F8",
           "zerolinewidth": 2
          }
         }
        },
        "title": {
         "text": "Entropy–Complexity for data/guitar_chords/Am (Plotly)\nDim = '6', Hop = '1'"
        },
        "width": 800,
        "xaxis": {
         "range": [
          0,
          1
         ],
         "title": {
          "text": "Normalized Permutation Entropy"
         }
        },
        "yaxis": {
         "range": [
          0,
          1
         ],
         "title": {
          "text": "Normalized Complexity"
         }
        }
       }
      }
     },
     "metadata": {},
     "output_type": "display_data"
    }
   ],
   "source": [
    "folder_path = \"data/guitar_chords/Am\"\n",
    "dim = 6\n",
    "hop = 1\n",
    "plot_graph_ordpy(folder_path, dim, hop)"
   ]
  },
  {
   "cell_type": "code",
   "execution_count": 130,
   "metadata": {},
   "outputs": [
    {
     "name": "stderr",
     "output_type": "stream",
     "text": [
      "Processing audio files in data/guitar_chords/Bb with dim 6 and hop 1: 100%|██████████| 40/40 [00:08<00:00,  4.93it/s]\n"
     ]
    },
    {
     "data": {
      "application/vnd.plotly.v1+json": {
       "config": {
        "plotlyServerURL": "https://plot.ly"
       },
       "data": [
        {
         "hovertemplate": "<b>File:</b> %{hovertext}<br><b>Entropy:</b> %{x}<br><b>Complexity:</b> %{y}<extra></extra>",
         "hovertext": [
          "Bb_Classic_Jo_4.wav",
          "Bb_classical_AfonsoLemos_-01.wav",
          "Bb_Electric2_LInda_4.wav",
          "Bb_classical_AfonsoLemos_-03.wav",
          "Bb_classical_AfonsoLemos_-02.wav",
          "Bb_Electric2_LInda_3.wav",
          "Bb_Classic_Jo_2.wav",
          "Bb_Classic_Jo_3.wav",
          "Bb_Electric2_LInda_2.wav",
          "Bb_Classic_Jo_1.wav",
          "Bb_classical_AfonsoLemos_-04.wav",
          "Bb_Electric2_LInda_1.wav",
          "Bb_Electric1_LInda_1.wav",
          "Bb_AcousticGuitar_RodrigoMercador_4.wav",
          "Bb_Electric1_LInda_2.wav",
          "Bb_Electric1_LInda_3.wav",
          "Bb_AcousticGuitar_RodrigoMercador_3.wav",
          "Bb_AcousticGuitar_RodrigoMercador_2.wav",
          "Bb_Electric1_LInda_4.wav",
          "Bb_AcousticGuitar_RodrigoMercador_1.wav",
          "Bb_electric_Isabel_1.wav",
          "Bb_ClassicVince_JO_4.wav",
          "Bb_electric_Isabel_3.wav",
          "Bb_electric_Isabel_2.wav",
          "Bb_ClassicVince_JO_3.wav",
          "Bb_ClassicVince_JO_2.wav",
          "Bb_ClassicVince_JO_1.wav",
          "Bb_electric_Isabel_4.wav",
          "Bb_AcusticVince_JO_3.wav",
          "Bb_Classic2_Carolina_4.wav",
          "Bb_Classic3_Carolina_1.wav",
          "Bb_AcusticVince_JO_2.wav",
          "Bb_Classic3_Carolina_3.wav",
          "Bb_Classic3_Carolina_2.wav",
          "Bb_AcusticVince_JO_1.wav",
          "Bb_Classic2_Carolina_2.wav",
          "Bb_Classic2_Carolina_3.wav",
          "Bb_AcusticVince_JO_4.wav",
          "Bb_Classic2_Carolina_1.wav",
          "Bb_Classic3_Carolina_4.wav"
         ],
         "marker": {
          "color": "blue",
          "line": {
           "color": "black",
           "width": 1
          },
          "size": 10
         },
         "mode": "markers",
         "name": "Data Points",
         "type": "scatter",
         "x": {
          "bdata": "jS2ts2E/4j+b7aUL1QbiPwMoSHfdLus/O27c4FRp4D9wIIiOBrvfP8mmA2Dnfus/StelVCVO4z/DRV8lr6feP3n3CFDmIOs/jp3vOdMU4j+AHHEfQUncP/GpYvPHeuo/kpHlfH056j+w6O7sZl/jP4HJ8+ouzuo/XgVuxoXG6D/UeraWOCzlP/bWZbUIG+Q/nJ0LXn7l6D9siyhSx1DkP1FWv8JB69E/5eBBUaFJ1D+DnKDt/sPLP4qXh3jH3M8/MxTcEnPD1j+8NmUylEPSP12EL30j7tI/QABE/fnb0D91b7J01OvSP8GZskOHt+M//0W63wN92D/5v5sVxRbTP35LsZ/P09s/YYtmXLq72j/MgF4rc97SPwrJADoGEt8/mSlM+UVn2z/XvwfqhAHXP9hI2VIms94/+avxRnVt3z8=",
          "dtype": "f8"
         },
         "y": {
          "bdata": "UkOlC3K+0T9IWC8PJMXTP/2WcNDVTc4/OpJePdht0j9WNHwIKGDSP7DnRGxylcs/pu0GO/Bf0T/3KynUt4rSP1DtVG2L28w/119z5jlt0j856pdTEkvSP8c9CPCbbs8/EOTSeWhY0T/hC3rdAVDVP14LM1blMM0/9+dtAnzm0j+eGkp7uNXTP8bsy8QQE9Q/aQ2/zgOo0j8mk8BuSyfVPzy0dowJpMw/xQ63ClKZ0D8u8Hspne7IP7IBZZCRyso/N6GGu5KX0j/U3tFEGsbOP7N0ivGYc88/YjKLqdiOyz/YJQV7xRvQP/7+p9n6wtQ/vVuSNcm30j9M+WG3ag/QP/6Gsf6JjtI/GXgHQIg50j/G3aOv137PPynp7hJ0OdI/4ze+J6r90j+Z17gjWKzSP33jta2y8dI/W+m9xecy1D8=",
          "dtype": "f8"
         }
        },
        {
         "line": {
          "color": "red",
          "dash": "dash"
         },
         "mode": "lines",
         "name": "Maximum Complexity Boundary",
         "type": "scatter",
         "x": {
          "bdata": "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",
          "dtype": "f8"
         },
         "y": {
          "bdata": "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",
          "dtype": "f8"
         }
        },
        {
         "line": {
          "color": "green",
          "dash": "dash"
         },
         "mode": "lines",
         "name": "Minimum Complexity Boundary",
         "type": "scatter",
         "x": {
          "bdata": "AAAAAAAAAICaxf+16xqTP+jVhP1KAqI/vUTdi+gLqj/86nM1k+ewP8K3yY7ArrQ/p554aKFguD/uL+sCmwC8PzAUmEQWkb8/OC9Izu+JwT9fJ6LWLUXDP9zCdlXT+sQ/w/gEHFSrxj8NvFFLEFfIP6qV/uFY/sk/NbM6+3Khyz8sJAsvmkDNP7DF0VkC3M4/1TEXfOw50D9Eo50aIwTRP2yQ0d+2zNE/cXTxubeT0j+olffyM1nTP1t01Gg4HdQ/9H3Ou9Df1D86qBR1B6HVP9wYEyfmYNY/6J68iHUf1z8jY7eMvdzXP+DxJ3XFmNg/K+Ku5JNT2T+Dkg/tLg3aP45i3xucxdo/e8qKheB82z/HfO/OADPcP7hzvzUB6Nw/PsHXl+Wb3T86q655sU7eP6iv9gtoAN8/nDCPMAyx3z9Pw2s/UDDgP4fyuqOTh+A/ylnQS1He4D+2U/sdijThPz/0d+E+iuE/Qmx4P3Df4T8RywLEHjTiP6MEpt5KiOI/1I4I4/Tb4j9mYlIJHS/jP3Kyc27DgeM/hzlJFOjT4z/jjp7hiiXkP/qKDqKrduQ/+FfBBUrH5D/zXQehZRflP7HIz+v9ZuU/h+v4QBK25T8VRHjdoQTmP8xKV9+rUuY/IZyBRC+g5j94S2DpKu3mP6RZPYedOec/N09psoWF5z+X1RvY4dDnP/fNBjywG+g/48WR9e5l6D84trHsm6/oP9ubTta0+Og/1pYlMDdB6T+zsRI8IInpP7wOqfps0Ok//L/6JBoX6j81rmolJF3qP6I6Wg+Houo/yCN5lT7n6j+L1W/+RSvrP0CTiReYbus/5ELrJC+x6z99ysLOBPPrP0yqrgoSNOw/q/lgAE907D/z+SzosrPsPzkUuOEz8uw/IStdwMYv7T9YSNjJXmztPxjoW2Ltp+0/YoL0nmHi7T99rZWzpxvuP30tZSyoU+4/3roJ2EaK7j+hR1o3Yb/uPwiMLibM8u4/5bjgL1Ak7z8p/rF0o1PvP1Omz7BegO8/zKz4ROep7z8Ha0uLO8/vP00Cx0hS7u8/AAAAAAAA8D8=",
          "dtype": "f8"
         },
         "y": {
          "bdata": "AAAAAAAAAIDM4Y+YJlKSP3cLBINQtqA/J6zO+G52pz/N5dV3Gp6tP32fvDSTpLE/ZaqxOrdEtD8TBRfs0bW2Pz4In7ex/Lg/GLkl5iMduz9xvMwPQxq9Pxsj/6un9r4/5RS4+ENawD9oIqDe5irBPyRePBgT7sE/wQS/lIakwj+vc/D06k7DPw+0hN/Y7cM/pSqkndqBxD8oUsMvbgvFP5alVvwGi8U/hbZQMA8Bxj8sB9Pi6G3GP/hm9Qjv0cY/xNtVQ3Ytxz+YwtaMzYDHP9+iQtA+zMc/fgROaQ8QyD/crH+UgEzIP5sM0dDPgcg/ni5MNTewyD9iM3+87dfIP0a3R4cn+cg/fpI0GBYUyT+FPYaI6CjJP5yFqrfLN8k/4/HsdepAyT91afiqbUTJPygQr3h8Qsk/y77JWjw7yT/8YqBD0S7JPxf1brZdHck/SXpf3wIHyT/Z8pep4OvIP2cIg9MVzMg/PX2DAcCnyD9qhzzP+37IPyJNlN/kUcg/7m6R65UgyD8B7jDQKOvHP3iHTpu2scc/0wG3l1d0xz8XdnlYIzPHPym7isMw7sY/u1HMG5alxj+AsYYKaVnGP2W5Zai+CcY/itMEhqu2xT/kqBe0Q2DFP1J8O8uaBsU/k9Z888OpxD9Y05zr0UnEPyY2IRDX5sM/ToM6YuWAwz/Sh4uODhjDP9tB3vNjrMI/8cnSqfY9wj9N75WH18zBPxqprioXWcE/kEzz/cXiwD9sFbpA9GnAP14jtxxk3b8/msZDzB7ivj+pCIpnOOK9P53wNrHQ3bw/2BdgawfVuz8HP/Nt/Me6P/0JBcDPtrk/A3bGtKGhuD/EsyUNk4i3P1sKdB/Fa7Y/353hBlpLtT8Cb0vddCe0P1Lq0QI6ALM/PSYjeM/VsT+5+pxSXaiwP9pCy6kc8K4/hmBseCGKrD+oqte3Lh+qP+ZMTGK2r6c/w7ANazs8pT8z3wTgWMWiPzQr8GfNS6A/peLq2R2hmz/cun3T3amWP55cgtvItZE/L6gfV+WWiT8G9z+G6d9/P9Qznsa2+Wo/3KtzhX9C17w=",
          "dtype": "f8"
         }
        }
       ],
       "layout": {
        "height": 600,
        "template": {
         "data": {
          "bar": [
           {
            "error_x": {
             "color": "#2a3f5f"
            },
            "error_y": {
             "color": "#2a3f5f"
            },
            "marker": {
             "line": {
              "color": "white",
              "width": 0.5
             },
             "pattern": {
              "fillmode": "overlay",
              "size": 10,
              "solidity": 0.2
             }
            },
            "type": "bar"
           }
          ],
          "barpolar": [
           {
            "marker": {
             "line": {
              "color": "white",
              "width": 0.5
             },
             "pattern": {
              "fillmode": "overlay",
              "size": 10,
              "solidity": 0.2
             }
            },
            "type": "barpolar"
           }
          ],
          "carpet": [
           {
            "aaxis": {
             "endlinecolor": "#2a3f5f",
             "gridcolor": "#C8D4E3",
             "linecolor": "#C8D4E3",
             "minorgridcolor": "#C8D4E3",
             "startlinecolor": "#2a3f5f"
            },
            "baxis": {
             "endlinecolor": "#2a3f5f",
             "gridcolor": "#C8D4E3",
             "linecolor": "#C8D4E3",
             "minorgridcolor": "#C8D4E3",
             "startlinecolor": "#2a3f5f"
            },
            "type": "carpet"
           }
          ],
          "choropleth": [
           {
            "colorbar": {
             "outlinewidth": 0,
             "ticks": ""
            },
            "type": "choropleth"
           }
          ],
          "contour": [
           {
            "colorbar": {
             "outlinewidth": 0,
             "ticks": ""
            },
            "colorscale": [
             [
              0,
              "#0d0887"
             ],
             [
              0.1111111111111111,
              "#46039f"
             ],
             [
              0.2222222222222222,
              "#7201a8"
             ],
             [
              0.3333333333333333,
              "#9c179e"
             ],
             [
              0.4444444444444444,
              "#bd3786"
             ],
             [
              0.5555555555555556,
              "#d8576b"
             ],
             [
              0.6666666666666666,
              "#ed7953"
             ],
             [
              0.7777777777777778,
              "#fb9f3a"
             ],
             [
              0.8888888888888888,
              "#fdca26"
             ],
             [
              1,
              "#f0f921"
             ]
            ],
            "type": "contour"
           }
          ],
          "contourcarpet": [
           {
            "colorbar": {
             "outlinewidth": 0,
             "ticks": ""
            },
            "type": "contourcarpet"
           }
          ],
          "heatmap": [
           {
            "colorbar": {
             "outlinewidth": 0,
             "ticks": ""
            },
            "colorscale": [
             [
              0,
              "#0d0887"
             ],
             [
              0.1111111111111111,
              "#46039f"
             ],
             [
              0.2222222222222222,
              "#7201a8"
             ],
             [
              0.3333333333333333,
              "#9c179e"
             ],
             [
              0.4444444444444444,
              "#bd3786"
             ],
             [
              0.5555555555555556,
              "#d8576b"
             ],
             [
              0.6666666666666666,
              "#ed7953"
             ],
             [
              0.7777777777777778,
              "#fb9f3a"
             ],
             [
              0.8888888888888888,
              "#fdca26"
             ],
             [
              1,
              "#f0f921"
             ]
            ],
            "type": "heatmap"
           }
          ],
          "histogram": [
           {
            "marker": {
             "pattern": {
              "fillmode": "overlay",
              "size": 10,
              "solidity": 0.2
             }
            },
            "type": "histogram"
           }
          ],
          "histogram2d": [
           {
            "colorbar": {
             "outlinewidth": 0,
             "ticks": ""
            },
            "colorscale": [
             [
              0,
              "#0d0887"
             ],
             [
              0.1111111111111111,
              "#46039f"
             ],
             [
              0.2222222222222222,
              "#7201a8"
             ],
             [
              0.3333333333333333,
              "#9c179e"
             ],
             [
              0.4444444444444444,
              "#bd3786"
             ],
             [
              0.5555555555555556,
              "#d8576b"
             ],
             [
              0.6666666666666666,
              "#ed7953"
             ],
             [
              0.7777777777777778,
              "#fb9f3a"
             ],
             [
              0.8888888888888888,
              "#fdca26"
             ],
             [
              1,
              "#f0f921"
             ]
            ],
            "type": "histogram2d"
           }
          ],
          "histogram2dcontour": [
           {
            "colorbar": {
             "outlinewidth": 0,
             "ticks": ""
            },
            "colorscale": [
             [
              0,
              "#0d0887"
             ],
             [
              0.1111111111111111,
              "#46039f"
             ],
             [
              0.2222222222222222,
              "#7201a8"
             ],
             [
              0.3333333333333333,
              "#9c179e"
             ],
             [
              0.4444444444444444,
              "#bd3786"
             ],
             [
              0.5555555555555556,
              "#d8576b"
             ],
             [
              0.6666666666666666,
              "#ed7953"
             ],
             [
              0.7777777777777778,
              "#fb9f3a"
             ],
             [
              0.8888888888888888,
              "#fdca26"
             ],
             [
              1,
              "#f0f921"
             ]
            ],
            "type": "histogram2dcontour"
           }
          ],
          "mesh3d": [
           {
            "colorbar": {
             "outlinewidth": 0,
             "ticks": ""
            },
            "type": "mesh3d"
           }
          ],
          "parcoords": [
           {
            "line": {
             "colorbar": {
              "outlinewidth": 0,
              "ticks": ""
             }
            },
            "type": "parcoords"
           }
          ],
          "pie": [
           {
            "automargin": true,
            "type": "pie"
           }
          ],
          "scatter": [
           {
            "fillpattern": {
             "fillmode": "overlay",
             "size": 10,
             "solidity": 0.2
            },
            "type": "scatter"
           }
          ],
          "scatter3d": [
           {
            "line": {
             "colorbar": {
              "outlinewidth": 0,
              "ticks": ""
             }
            },
            "marker": {
             "colorbar": {
              "outlinewidth": 0,
              "ticks": ""
             }
            },
            "type": "scatter3d"
           }
          ],
          "scattercarpet": [
           {
            "marker": {
             "colorbar": {
              "outlinewidth": 0,
              "ticks": ""
             }
            },
            "type": "scattercarpet"
           }
          ],
          "scattergeo": [
           {
            "marker": {
             "colorbar": {
              "outlinewidth": 0,
              "ticks": ""
             }
            },
            "type": "scattergeo"
           }
          ],
          "scattergl": [
           {
            "marker": {
             "colorbar": {
              "outlinewidth": 0,
              "ticks": ""
             }
            },
            "type": "scattergl"
           }
          ],
          "scattermap": [
           {
            "marker": {
             "colorbar": {
              "outlinewidth": 0,
              "ticks": ""
             }
            },
            "type": "scattermap"
           }
          ],
          "scattermapbox": [
           {
            "marker": {
             "colorbar": {
              "outlinewidth": 0,
              "ticks": ""
             }
            },
            "type": "scattermapbox"
           }
          ],
          "scatterpolar": [
           {
            "marker": {
             "colorbar": {
              "outlinewidth": 0,
              "ticks": ""
             }
            },
            "type": "scatterpolar"
           }
          ],
          "scatterpolargl": [
           {
            "marker": {
             "colorbar": {
              "outlinewidth": 0,
              "ticks": ""
             }
            },
            "type": "scatterpolargl"
           }
          ],
          "scatterternary": [
           {
            "marker": {
             "colorbar": {
              "outlinewidth": 0,
              "ticks": ""
             }
            },
            "type": "scatterternary"
           }
          ],
          "surface": [
           {
            "colorbar": {
             "outlinewidth": 0,
             "ticks": ""
            },
            "colorscale": [
             [
              0,
              "#0d0887"
             ],
             [
              0.1111111111111111,
              "#46039f"
             ],
             [
              0.2222222222222222,
              "#7201a8"
             ],
             [
              0.3333333333333333,
              "#9c179e"
             ],
             [
              0.4444444444444444,
              "#bd3786"
             ],
             [
              0.5555555555555556,
              "#d8576b"
             ],
             [
              0.6666666666666666,
              "#ed7953"
             ],
             [
              0.7777777777777778,
              "#fb9f3a"
             ],
             [
              0.8888888888888888,
              "#fdca26"
             ],
             [
              1,
              "#f0f921"
             ]
            ],
            "type": "surface"
           }
          ],
          "table": [
           {
            "cells": {
             "fill": {
              "color": "#EBF0F8"
             },
             "line": {
              "color": "white"
             }
            },
            "header": {
             "fill": {
              "color": "#C8D4E3"
             },
             "line": {
              "color": "white"
             }
            },
            "type": "table"
           }
          ]
         },
         "layout": {
          "annotationdefaults": {
           "arrowcolor": "#2a3f5f",
           "arrowhead": 0,
           "arrowwidth": 1
          },
          "autotypenumbers": "strict",
          "coloraxis": {
           "colorbar": {
            "outlinewidth": 0,
            "ticks": ""
           }
          },
          "colorscale": {
           "diverging": [
            [
             0,
             "#8e0152"
            ],
            [
             0.1,
             "#c51b7d"
            ],
            [
             0.2,
             "#de77ae"
            ],
            [
             0.3,
             "#f1b6da"
            ],
            [
             0.4,
             "#fde0ef"
            ],
            [
             0.5,
             "#f7f7f7"
            ],
            [
             0.6,
             "#e6f5d0"
            ],
            [
             0.7,
             "#b8e186"
            ],
            [
             0.8,
             "#7fbc41"
            ],
            [
             0.9,
             "#4d9221"
            ],
            [
             1,
             "#276419"
            ]
           ],
           "sequential": [
            [
             0,
             "#0d0887"
            ],
            [
             0.1111111111111111,
             "#46039f"
            ],
            [
             0.2222222222222222,
             "#7201a8"
            ],
            [
             0.3333333333333333,
             "#9c179e"
            ],
            [
             0.4444444444444444,
             "#bd3786"
            ],
            [
             0.5555555555555556,
             "#d8576b"
            ],
            [
             0.6666666666666666,
             "#ed7953"
            ],
            [
             0.7777777777777778,
             "#fb9f3a"
            ],
            [
             0.8888888888888888,
             "#fdca26"
            ],
            [
             1,
             "#f0f921"
            ]
           ],
           "sequentialminus": [
            [
             0,
             "#0d0887"
            ],
            [
             0.1111111111111111,
             "#46039f"
            ],
            [
             0.2222222222222222,
             "#7201a8"
            ],
            [
             0.3333333333333333,
             "#9c179e"
            ],
            [
             0.4444444444444444,
             "#bd3786"
            ],
            [
             0.5555555555555556,
             "#d8576b"
            ],
            [
             0.6666666666666666,
             "#ed7953"
            ],
            [
             0.7777777777777778,
             "#fb9f3a"
            ],
            [
             0.8888888888888888,
             "#fdca26"
            ],
            [
             1,
             "#f0f921"
            ]
           ]
          },
          "colorway": [
           "#636efa",
           "#EF553B",
           "#00cc96",
           "#ab63fa",
           "#FFA15A",
           "#19d3f3",
           "#FF6692",
           "#B6E880",
           "#FF97FF",
           "#FECB52"
          ],
          "font": {
           "color": "#2a3f5f"
          },
          "geo": {
           "bgcolor": "white",
           "lakecolor": "white",
           "landcolor": "white",
           "showlakes": true,
           "showland": true,
           "subunitcolor": "#C8D4E3"
          },
          "hoverlabel": {
           "align": "left"
          },
          "hovermode": "closest",
          "mapbox": {
           "style": "light"
          },
          "paper_bgcolor": "white",
          "plot_bgcolor": "white",
          "polar": {
           "angularaxis": {
            "gridcolor": "#EBF0F8",
            "linecolor": "#EBF0F8",
            "ticks": ""
           },
           "bgcolor": "white",
           "radialaxis": {
            "gridcolor": "#EBF0F8",
            "linecolor": "#EBF0F8",
            "ticks": ""
           }
          },
          "scene": {
           "xaxis": {
            "backgroundcolor": "white",
            "gridcolor": "#DFE8F3",
            "gridwidth": 2,
            "linecolor": "#EBF0F8",
            "showbackground": true,
            "ticks": "",
            "zerolinecolor": "#EBF0F8"
           },
           "yaxis": {
            "backgroundcolor": "white",
            "gridcolor": "#DFE8F3",
            "gridwidth": 2,
            "linecolor": "#EBF0F8",
            "showbackground": true,
            "ticks": "",
            "zerolinecolor": "#EBF0F8"
           },
           "zaxis": {
            "backgroundcolor": "white",
            "gridcolor": "#DFE8F3",
            "gridwidth": 2,
            "linecolor": "#EBF0F8",
            "showbackground": true,
            "ticks": "",
            "zerolinecolor": "#EBF0F8"
           }
          },
          "shapedefaults": {
           "line": {
            "color": "#2a3f5f"
           }
          },
          "ternary": {
           "aaxis": {
            "gridcolor": "#DFE8F3",
            "linecolor": "#A2B1C6",
            "ticks": ""
           },
           "baxis": {
            "gridcolor": "#DFE8F3",
            "linecolor": "#A2B1C6",
            "ticks": ""
           },
           "bgcolor": "white",
           "caxis": {
            "gridcolor": "#DFE8F3",
            "linecolor": "#A2B1C6",
            "ticks": ""
           }
          },
          "title": {
           "x": 0.05
          },
          "xaxis": {
           "automargin": true,
           "gridcolor": "#EBF0F8",
           "linecolor": "#EBF0F8",
           "ticks": "",
           "title": {
            "standoff": 15
           },
           "zerolinecolor": "#EBF0F8",
           "zerolinewidth": 2
          },
          "yaxis": {
           "automargin": true,
           "gridcolor": "#EBF0F8",
           "linecolor": "#EBF0F8",
           "ticks": "",
           "title": {
            "standoff": 15
           },
           "zerolinecolor": "#EBF0F8",
           "zerolinewidth": 2
          }
         }
        },
        "title": {
         "text": "Entropy–Complexity for data/guitar_chords/Bb (Plotly)\nDim = '6', Hop = '1'"
        },
        "width": 800,
        "xaxis": {
         "range": [
          0,
          1
         ],
         "title": {
          "text": "Normalized Permutation Entropy"
         }
        },
        "yaxis": {
         "range": [
          0,
          1
         ],
         "title": {
          "text": "Normalized Complexity"
         }
        }
       }
      }
     },
     "metadata": {},
     "output_type": "display_data"
    }
   ],
   "source": [
    "folder_path = \"data/guitar_chords/Bb\"\n",
    "dim = 6\n",
    "hop = 1\n",
    "plot_graph_ordpy(folder_path, dim, hop)"
   ]
  },
  {
   "cell_type": "code",
   "execution_count": 131,
   "metadata": {},
   "outputs": [
    {
     "name": "stderr",
     "output_type": "stream",
     "text": [
      "Processing audio files in data/guitar_chords/Bdim with dim 6 and hop 1: 100%|██████████| 40/40 [00:07<00:00,  5.05it/s]\n"
     ]
    },
    {
     "data": {
      "application/vnd.plotly.v1+json": {
       "config": {
        "plotlyServerURL": "https://plot.ly"
       },
       "data": [
        {
         "hovertemplate": "<b>File:</b> %{hovertext}<br><b>Entropy:</b> %{x}<br><b>Complexity:</b> %{y}<extra></extra>",
         "hovertext": [
          "Bdim_Classic3_Carolina_2.wav",
          "Bdim_Electric1_LInda_3.wav",
          "Bdim_Electric1_LInda_2.wav",
          "Bdim_Classic3_Carolina_3.wav",
          "Bdim_Classic3_Carolina_1.wav",
          "Bdim_Classic2_Carolina_4.wav",
          "Bdim_Electric1_LInda_1.wav",
          "Bdim_Classic3_Carolina_4.wav",
          "Bdim_Classic2_Carolina_1.wav",
          "Bdim_Electric1_LInda_4.wav",
          "Bdim_Classic2_Carolina_3.wav",
          "Bdim_Classic2_Carolina_2.wav",
          "Bdim_Electric2_LInda_4.wav",
          "Bdim_Classic_Jo_4.wav",
          "Bdim_Electric2_LInda_1.wav",
          "Bdim_Classic_Jo_1.wav",
          "Bdim_Electric2_LInda_2.wav",
          "Bdim_Classic_Jo_2.wav",
          "Bdim_Classic_Jo_3.wav",
          "Bdim_Electric2_LInda_3.wav",
          "Bdim_AcusticVince_JO_1.wav",
          "Bdim_AcusticVince_JO_2.wav",
          "Bdim_AcusticVince_JO_3.wav",
          "Bdim_AcusticVince_JO_4.wav",
          "Bdim_classical_AfonsoLemos_-04.wav",
          "Bdim_electric_Isabel_2.wav",
          "Bdim_AcousticGuitar_RodrigoMercador_4.wav",
          "Bdim_electric_Isabel_3.wav",
          "Bdim_ClassicVince_JO_4.wav",
          "Bdim_electric_Isabel_1.wav",
          "Bdim_classical_AfonsoLemos_-02.wav",
          "Bdim_electric_Isabel_4.wav",
          "Bdim_ClassicVince_JO_1.wav",
          "Bdim_AcousticGuitar_RodrigoMercador_2.wav",
          "Bdim_AcousticGuitar_RodrigoMercador_3.wav",
          "Bdim_classical_AfonsoLemos_-03.wav",
          "Bdim_classical_AfonsoLemos_-01.wav",
          "Bdim_ClassicVince_JO_2.wav",
          "Bdim_AcousticGuitar_RodrigoMercador_1.wav",
          "Bdim_ClassicVince_JO_3.wav"
         ],
         "marker": {
          "color": "blue",
          "line": {
           "color": "black",
           "width": 1
          },
          "size": 10
         },
         "mode": "markers",
         "name": "Data Points",
         "type": "scatter",
         "x": {
          "bdata": "nWeJiSMI2j/65pEajFfrP6KiFqxjh+o/4LQHRR/j3D93ya7ySC/hP3polu91vOA/msYny9Ti6D8ZXwIR27riP1adH0xTkt8/QLxWBj+D6j9HXI5yUSzeP+GZTmPflt0/ppFEpTpl6D8irMXhDUfiP4C0UZLhl+o/IMyvkAiE4j+UGn1723LoP7YmDi1sr+U/h7NrGBXP3j/OsdlDuK/qPx/rz7Suktg/zlRfen1K3D+tDrHirrfYP7i6VEWPSdU//l7ve1sM3D/TV4qnHybVP3cI8cVgs+M//J/nZWvG0z9zv/EEOXPXPwmco2tGE9M/xujKbbbn3D8h8Qyg2BzQP7wHl9I769A/OKPL7Wst4z+dLM2YRmLhP8szCWxYn94/Zu4ITlje3z+xAv7HzZvQP3AFl76jUOI/gbersYoX2D8=",
          "dtype": "f8"
         },
         "y": {
          "bdata": "qkJWxYys0T91vMml7crLPwzbCGsSWs4/G16/uq030j95NrTXnZvUPwCV2IEoTdQ/lX1OSJCG0T8NRin3Wk3VP0333nzvi9M/ry7Fp6BO0D+HgK1BcP/SP0Kmbz+gDdM/YEQiUHeT1D+yoKaAbxzSP2SrfROKKM8/+KtywXFc0T+jygAWUIDTP2AyU+y5gdA/gIRIuync0T8HyXIPRgfNPwg9gSvlY9M/ZwhmGMC+1T/pKYJd597TP7V+/6XhS9E/fiGgfbN90j8Gk8E0aFHPP5grta2HMtU/NULE0jofzj+HNepAvZbSP7pVpHHwPM0/abi5c3+00T8YR5LrQtrKP5yEbcHS7sw/0Twiw/dE1D8Xofcb2NHUP6/X8nYHENI/r0q6Ot0f0j9rDCanOIzMPy+qHUKy1NQ/Py0zk3020z8=",
          "dtype": "f8"
         }
        },
        {
         "line": {
          "color": "red",
          "dash": "dash"
         },
         "mode": "lines",
         "name": "Maximum Complexity Boundary",
         "type": "scatter",
         "x": {
          "bdata": "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",
          "dtype": "f8"
         },
         "y": {
          "bdata": "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",
          "dtype": "f8"
         }
        },
        {
         "line": {
          "color": "green",
          "dash": "dash"
         },
         "mode": "lines",
         "name": "Minimum Complexity Boundary",
         "type": "scatter",
         "x": {
          "bdata": "AAAAAAAAAICaxf+16xqTP+jVhP1KAqI/vUTdi+gLqj/86nM1k+ewP8K3yY7ArrQ/p554aKFguD/uL+sCmwC8PzAUmEQWkb8/OC9Izu+JwT9fJ6LWLUXDP9zCdlXT+sQ/w/gEHFSrxj8NvFFLEFfIP6qV/uFY/sk/NbM6+3Khyz8sJAsvmkDNP7DF0VkC3M4/1TEXfOw50D9Eo50aIwTRP2yQ0d+2zNE/cXTxubeT0j+olffyM1nTP1t01Gg4HdQ/9H3Ou9Df1D86qBR1B6HVP9wYEyfmYNY/6J68iHUf1z8jY7eMvdzXP+DxJ3XFmNg/K+Ku5JNT2T+Dkg/tLg3aP45i3xucxdo/e8qKheB82z/HfO/OADPcP7hzvzUB6Nw/PsHXl+Wb3T86q655sU7eP6iv9gtoAN8/nDCPMAyx3z9Pw2s/UDDgP4fyuqOTh+A/ylnQS1He4D+2U/sdijThPz/0d+E+iuE/Qmx4P3Df4T8RywLEHjTiP6MEpt5KiOI/1I4I4/Tb4j9mYlIJHS/jP3Kyc27DgeM/hzlJFOjT4z/jjp7hiiXkP/qKDqKrduQ/+FfBBUrH5D/zXQehZRflP7HIz+v9ZuU/h+v4QBK25T8VRHjdoQTmP8xKV9+rUuY/IZyBRC+g5j94S2DpKu3mP6RZPYedOec/N09psoWF5z+X1RvY4dDnP/fNBjywG+g/48WR9e5l6D84trHsm6/oP9ubTta0+Og/1pYlMDdB6T+zsRI8IInpP7wOqfps0Ok//L/6JBoX6j81rmolJF3qP6I6Wg+Houo/yCN5lT7n6j+L1W/+RSvrP0CTiReYbus/5ELrJC+x6z99ysLOBPPrP0yqrgoSNOw/q/lgAE907D/z+SzosrPsPzkUuOEz8uw/IStdwMYv7T9YSNjJXmztPxjoW2Ltp+0/YoL0nmHi7T99rZWzpxvuP30tZSyoU+4/3roJ2EaK7j+hR1o3Yb/uPwiMLibM8u4/5bjgL1Ak7z8p/rF0o1PvP1Omz7BegO8/zKz4ROep7z8Ha0uLO8/vP00Cx0hS7u8/AAAAAAAA8D8=",
          "dtype": "f8"
         },
         "y": {
          "bdata": "AAAAAAAAAIDM4Y+YJlKSP3cLBINQtqA/J6zO+G52pz/N5dV3Gp6tP32fvDSTpLE/ZaqxOrdEtD8TBRfs0bW2Pz4In7ex/Lg/GLkl5iMduz9xvMwPQxq9Pxsj/6un9r4/5RS4+ENawD9oIqDe5irBPyRePBgT7sE/wQS/lIakwj+vc/D06k7DPw+0hN/Y7cM/pSqkndqBxD8oUsMvbgvFP5alVvwGi8U/hbZQMA8Bxj8sB9Pi6G3GP/hm9Qjv0cY/xNtVQ3Ytxz+YwtaMzYDHP9+iQtA+zMc/fgROaQ8QyD/crH+UgEzIP5sM0dDPgcg/ni5MNTewyD9iM3+87dfIP0a3R4cn+cg/fpI0GBYUyT+FPYaI6CjJP5yFqrfLN8k/4/HsdepAyT91afiqbUTJPygQr3h8Qsk/y77JWjw7yT/8YqBD0S7JPxf1brZdHck/SXpf3wIHyT/Z8pep4OvIP2cIg9MVzMg/PX2DAcCnyD9qhzzP+37IPyJNlN/kUcg/7m6R65UgyD8B7jDQKOvHP3iHTpu2scc/0wG3l1d0xz8XdnlYIzPHPym7isMw7sY/u1HMG5alxj+AsYYKaVnGP2W5Zai+CcY/itMEhqu2xT/kqBe0Q2DFP1J8O8uaBsU/k9Z888OpxD9Y05zr0UnEPyY2IRDX5sM/ToM6YuWAwz/Sh4uODhjDP9tB3vNjrMI/8cnSqfY9wj9N75WH18zBPxqprioXWcE/kEzz/cXiwD9sFbpA9GnAP14jtxxk3b8/msZDzB7ivj+pCIpnOOK9P53wNrHQ3bw/2BdgawfVuz8HP/Nt/Me6P/0JBcDPtrk/A3bGtKGhuD/EsyUNk4i3P1sKdB/Fa7Y/353hBlpLtT8Cb0vddCe0P1Lq0QI6ALM/PSYjeM/VsT+5+pxSXaiwP9pCy6kc8K4/hmBseCGKrD+oqte3Lh+qP+ZMTGK2r6c/w7ANazs8pT8z3wTgWMWiPzQr8GfNS6A/peLq2R2hmz/cun3T3amWP55cgtvItZE/L6gfV+WWiT8G9z+G6d9/P9Qznsa2+Wo/3KtzhX9C17w=",
          "dtype": "f8"
         }
        }
       ],
       "layout": {
        "height": 600,
        "template": {
         "data": {
          "bar": [
           {
            "error_x": {
             "color": "#2a3f5f"
            },
            "error_y": {
             "color": "#2a3f5f"
            },
            "marker": {
             "line": {
              "color": "white",
              "width": 0.5
             },
             "pattern": {
              "fillmode": "overlay",
              "size": 10,
              "solidity": 0.2
             }
            },
            "type": "bar"
           }
          ],
          "barpolar": [
           {
            "marker": {
             "line": {
              "color": "white",
              "width": 0.5
             },
             "pattern": {
              "fillmode": "overlay",
              "size": 10,
              "solidity": 0.2
             }
            },
            "type": "barpolar"
           }
          ],
          "carpet": [
           {
            "aaxis": {
             "endlinecolor": "#2a3f5f",
             "gridcolor": "#C8D4E3",
             "linecolor": "#C8D4E3",
             "minorgridcolor": "#C8D4E3",
             "startlinecolor": "#2a3f5f"
            },
            "baxis": {
             "endlinecolor": "#2a3f5f",
             "gridcolor": "#C8D4E3",
             "linecolor": "#C8D4E3",
             "minorgridcolor": "#C8D4E3",
             "startlinecolor": "#2a3f5f"
            },
            "type": "carpet"
           }
          ],
          "choropleth": [
           {
            "colorbar": {
             "outlinewidth": 0,
             "ticks": ""
            },
            "type": "choropleth"
           }
          ],
          "contour": [
           {
            "colorbar": {
             "outlinewidth": 0,
             "ticks": ""
            },
            "colorscale": [
             [
              0,
              "#0d0887"
             ],
             [
              0.1111111111111111,
              "#46039f"
             ],
             [
              0.2222222222222222,
              "#7201a8"
             ],
             [
              0.3333333333333333,
              "#9c179e"
             ],
             [
              0.4444444444444444,
              "#bd3786"
             ],
             [
              0.5555555555555556,
              "#d8576b"
             ],
             [
              0.6666666666666666,
              "#ed7953"
             ],
             [
              0.7777777777777778,
              "#fb9f3a"
             ],
             [
              0.8888888888888888,
              "#fdca26"
             ],
             [
              1,
              "#f0f921"
             ]
            ],
            "type": "contour"
           }
          ],
          "contourcarpet": [
           {
            "colorbar": {
             "outlinewidth": 0,
             "ticks": ""
            },
            "type": "contourcarpet"
           }
          ],
          "heatmap": [
           {
            "colorbar": {
             "outlinewidth": 0,
             "ticks": ""
            },
            "colorscale": [
             [
              0,
              "#0d0887"
             ],
             [
              0.1111111111111111,
              "#46039f"
             ],
             [
              0.2222222222222222,
              "#7201a8"
             ],
             [
              0.3333333333333333,
              "#9c179e"
             ],
             [
              0.4444444444444444,
              "#bd3786"
             ],
             [
              0.5555555555555556,
              "#d8576b"
             ],
             [
              0.6666666666666666,
              "#ed7953"
             ],
             [
              0.7777777777777778,
              "#fb9f3a"
             ],
             [
              0.8888888888888888,
              "#fdca26"
             ],
             [
              1,
              "#f0f921"
             ]
            ],
            "type": "heatmap"
           }
          ],
          "histogram": [
           {
            "marker": {
             "pattern": {
              "fillmode": "overlay",
              "size": 10,
              "solidity": 0.2
             }
            },
            "type": "histogram"
           }
          ],
          "histogram2d": [
           {
            "colorbar": {
             "outlinewidth": 0,
             "ticks": ""
            },
            "colorscale": [
             [
              0,
              "#0d0887"
             ],
             [
              0.1111111111111111,
              "#46039f"
             ],
             [
              0.2222222222222222,
              "#7201a8"
             ],
             [
              0.3333333333333333,
              "#9c179e"
             ],
             [
              0.4444444444444444,
              "#bd3786"
             ],
             [
              0.5555555555555556,
              "#d8576b"
             ],
             [
              0.6666666666666666,
              "#ed7953"
             ],
             [
              0.7777777777777778,
              "#fb9f3a"
             ],
             [
              0.8888888888888888,
              "#fdca26"
             ],
             [
              1,
              "#f0f921"
             ]
            ],
            "type": "histogram2d"
           }
          ],
          "histogram2dcontour": [
           {
            "colorbar": {
             "outlinewidth": 0,
             "ticks": ""
            },
            "colorscale": [
             [
              0,
              "#0d0887"
             ],
             [
              0.1111111111111111,
              "#46039f"
             ],
             [
              0.2222222222222222,
              "#7201a8"
             ],
             [
              0.3333333333333333,
              "#9c179e"
             ],
             [
              0.4444444444444444,
              "#bd3786"
             ],
             [
              0.5555555555555556,
              "#d8576b"
             ],
             [
              0.6666666666666666,
              "#ed7953"
             ],
             [
              0.7777777777777778,
              "#fb9f3a"
             ],
             [
              0.8888888888888888,
              "#fdca26"
             ],
             [
              1,
              "#f0f921"
             ]
            ],
            "type": "histogram2dcontour"
           }
          ],
          "mesh3d": [
           {
            "colorbar": {
             "outlinewidth": 0,
             "ticks": ""
            },
            "type": "mesh3d"
           }
          ],
          "parcoords": [
           {
            "line": {
             "colorbar": {
              "outlinewidth": 0,
              "ticks": ""
             }
            },
            "type": "parcoords"
           }
          ],
          "pie": [
           {
            "automargin": true,
            "type": "pie"
           }
          ],
          "scatter": [
           {
            "fillpattern": {
             "fillmode": "overlay",
             "size": 10,
             "solidity": 0.2
            },
            "type": "scatter"
           }
          ],
          "scatter3d": [
           {
            "line": {
             "colorbar": {
              "outlinewidth": 0,
              "ticks": ""
             }
            },
            "marker": {
             "colorbar": {
              "outlinewidth": 0,
              "ticks": ""
             }
            },
            "type": "scatter3d"
           }
          ],
          "scattercarpet": [
           {
            "marker": {
             "colorbar": {
              "outlinewidth": 0,
              "ticks": ""
             }
            },
            "type": "scattercarpet"
           }
          ],
          "scattergeo": [
           {
            "marker": {
             "colorbar": {
              "outlinewidth": 0,
              "ticks": ""
             }
            },
            "type": "scattergeo"
           }
          ],
          "scattergl": [
           {
            "marker": {
             "colorbar": {
              "outlinewidth": 0,
              "ticks": ""
             }
            },
            "type": "scattergl"
           }
          ],
          "scattermap": [
           {
            "marker": {
             "colorbar": {
              "outlinewidth": 0,
              "ticks": ""
             }
            },
            "type": "scattermap"
           }
          ],
          "scattermapbox": [
           {
            "marker": {
             "colorbar": {
              "outlinewidth": 0,
              "ticks": ""
             }
            },
            "type": "scattermapbox"
           }
          ],
          "scatterpolar": [
           {
            "marker": {
             "colorbar": {
              "outlinewidth": 0,
              "ticks": ""
             }
            },
            "type": "scatterpolar"
           }
          ],
          "scatterpolargl": [
           {
            "marker": {
             "colorbar": {
              "outlinewidth": 0,
              "ticks": ""
             }
            },
            "type": "scatterpolargl"
           }
          ],
          "scatterternary": [
           {
            "marker": {
             "colorbar": {
              "outlinewidth": 0,
              "ticks": ""
             }
            },
            "type": "scatterternary"
           }
          ],
          "surface": [
           {
            "colorbar": {
             "outlinewidth": 0,
             "ticks": ""
            },
            "colorscale": [
             [
              0,
              "#0d0887"
             ],
             [
              0.1111111111111111,
              "#46039f"
             ],
             [
              0.2222222222222222,
              "#7201a8"
             ],
             [
              0.3333333333333333,
              "#9c179e"
             ],
             [
              0.4444444444444444,
              "#bd3786"
             ],
             [
              0.5555555555555556,
              "#d8576b"
             ],
             [
              0.6666666666666666,
              "#ed7953"
             ],
             [
              0.7777777777777778,
              "#fb9f3a"
             ],
             [
              0.8888888888888888,
              "#fdca26"
             ],
             [
              1,
              "#f0f921"
             ]
            ],
            "type": "surface"
           }
          ],
          "table": [
           {
            "cells": {
             "fill": {
              "color": "#EBF0F8"
             },
             "line": {
              "color": "white"
             }
            },
            "header": {
             "fill": {
              "color": "#C8D4E3"
             },
             "line": {
              "color": "white"
             }
            },
            "type": "table"
           }
          ]
         },
         "layout": {
          "annotationdefaults": {
           "arrowcolor": "#2a3f5f",
           "arrowhead": 0,
           "arrowwidth": 1
          },
          "autotypenumbers": "strict",
          "coloraxis": {
           "colorbar": {
            "outlinewidth": 0,
            "ticks": ""
           }
          },
          "colorscale": {
           "diverging": [
            [
             0,
             "#8e0152"
            ],
            [
             0.1,
             "#c51b7d"
            ],
            [
             0.2,
             "#de77ae"
            ],
            [
             0.3,
             "#f1b6da"
            ],
            [
             0.4,
             "#fde0ef"
            ],
            [
             0.5,
             "#f7f7f7"
            ],
            [
             0.6,
             "#e6f5d0"
            ],
            [
             0.7,
             "#b8e186"
            ],
            [
             0.8,
             "#7fbc41"
            ],
            [
             0.9,
             "#4d9221"
            ],
            [
             1,
             "#276419"
            ]
           ],
           "sequential": [
            [
             0,
             "#0d0887"
            ],
            [
             0.1111111111111111,
             "#46039f"
            ],
            [
             0.2222222222222222,
             "#7201a8"
            ],
            [
             0.3333333333333333,
             "#9c179e"
            ],
            [
             0.4444444444444444,
             "#bd3786"
            ],
            [
             0.5555555555555556,
             "#d8576b"
            ],
            [
             0.6666666666666666,
             "#ed7953"
            ],
            [
             0.7777777777777778,
             "#fb9f3a"
            ],
            [
             0.8888888888888888,
             "#fdca26"
            ],
            [
             1,
             "#f0f921"
            ]
           ],
           "sequentialminus": [
            [
             0,
             "#0d0887"
            ],
            [
             0.1111111111111111,
             "#46039f"
            ],
            [
             0.2222222222222222,
             "#7201a8"
            ],
            [
             0.3333333333333333,
             "#9c179e"
            ],
            [
             0.4444444444444444,
             "#bd3786"
            ],
            [
             0.5555555555555556,
             "#d8576b"
            ],
            [
             0.6666666666666666,
             "#ed7953"
            ],
            [
             0.7777777777777778,
             "#fb9f3a"
            ],
            [
             0.8888888888888888,
             "#fdca26"
            ],
            [
             1,
             "#f0f921"
            ]
           ]
          },
          "colorway": [
           "#636efa",
           "#EF553B",
           "#00cc96",
           "#ab63fa",
           "#FFA15A",
           "#19d3f3",
           "#FF6692",
           "#B6E880",
           "#FF97FF",
           "#FECB52"
          ],
          "font": {
           "color": "#2a3f5f"
          },
          "geo": {
           "bgcolor": "white",
           "lakecolor": "white",
           "landcolor": "white",
           "showlakes": true,
           "showland": true,
           "subunitcolor": "#C8D4E3"
          },
          "hoverlabel": {
           "align": "left"
          },
          "hovermode": "closest",
          "mapbox": {
           "style": "light"
          },
          "paper_bgcolor": "white",
          "plot_bgcolor": "white",
          "polar": {
           "angularaxis": {
            "gridcolor": "#EBF0F8",
            "linecolor": "#EBF0F8",
            "ticks": ""
           },
           "bgcolor": "white",
           "radialaxis": {
            "gridcolor": "#EBF0F8",
            "linecolor": "#EBF0F8",
            "ticks": ""
           }
          },
          "scene": {
           "xaxis": {
            "backgroundcolor": "white",
            "gridcolor": "#DFE8F3",
            "gridwidth": 2,
            "linecolor": "#EBF0F8",
            "showbackground": true,
            "ticks": "",
            "zerolinecolor": "#EBF0F8"
           },
           "yaxis": {
            "backgroundcolor": "white",
            "gridcolor": "#DFE8F3",
            "gridwidth": 2,
            "linecolor": "#EBF0F8",
            "showbackground": true,
            "ticks": "",
            "zerolinecolor": "#EBF0F8"
           },
           "zaxis": {
            "backgroundcolor": "white",
            "gridcolor": "#DFE8F3",
            "gridwidth": 2,
            "linecolor": "#EBF0F8",
            "showbackground": true,
            "ticks": "",
            "zerolinecolor": "#EBF0F8"
           }
          },
          "shapedefaults": {
           "line": {
            "color": "#2a3f5f"
           }
          },
          "ternary": {
           "aaxis": {
            "gridcolor": "#DFE8F3",
            "linecolor": "#A2B1C6",
            "ticks": ""
           },
           "baxis": {
            "gridcolor": "#DFE8F3",
            "linecolor": "#A2B1C6",
            "ticks": ""
           },
           "bgcolor": "white",
           "caxis": {
            "gridcolor": "#DFE8F3",
            "linecolor": "#A2B1C6",
            "ticks": ""
           }
          },
          "title": {
           "x": 0.05
          },
          "xaxis": {
           "automargin": true,
           "gridcolor": "#EBF0F8",
           "linecolor": "#EBF0F8",
           "ticks": "",
           "title": {
            "standoff": 15
           },
           "zerolinecolor": "#EBF0F8",
           "zerolinewidth": 2
          },
          "yaxis": {
           "automargin": true,
           "gridcolor": "#EBF0F8",
           "linecolor": "#EBF0F8",
           "ticks": "",
           "title": {
            "standoff": 15
           },
           "zerolinecolor": "#EBF0F8",
           "zerolinewidth": 2
          }
         }
        },
        "title": {
         "text": "Entropy–Complexity for data/guitar_chords/Bdim (Plotly)\nDim = '6', Hop = '1'"
        },
        "width": 800,
        "xaxis": {
         "range": [
          0,
          1
         ],
         "title": {
          "text": "Normalized Permutation Entropy"
         }
        },
        "yaxis": {
         "range": [
          0,
          1
         ],
         "title": {
          "text": "Normalized Complexity"
         }
        }
       }
      }
     },
     "metadata": {},
     "output_type": "display_data"
    }
   ],
   "source": [
    "folder_path = \"data/guitar_chords/Bdim\"\n",
    "dim = 6\n",
    "hop = 1\n",
    "plot_graph_ordpy(folder_path, dim, hop)"
   ]
  },
  {
   "cell_type": "code",
   "execution_count": 132,
   "metadata": {},
   "outputs": [
    {
     "name": "stderr",
     "output_type": "stream",
     "text": [
      "Processing audio files in data/guitar_chords/C with dim 6 and hop 1: 100%|██████████| 40/40 [00:08<00:00,  4.65it/s]\n"
     ]
    },
    {
     "data": {
      "application/vnd.plotly.v1+json": {
       "config": {
        "plotlyServerURL": "https://plot.ly"
       },
       "data": [
        {
         "hovertemplate": "<b>File:</b> %{hovertext}<br><b>Entropy:</b> %{x}<br><b>Complexity:</b> %{y}<extra></extra>",
         "hovertext": [
          "C_Electric1_LInda_1.wav",
          "C_Electric1_LInda_2.wav",
          "C_Electric1_LInda_3.wav",
          "C_Electric1_LInda_4.wav",
          "C_Classic3_Carolina_2.wav",
          "C_AcousticGuitar_RodrigoMercador_4.wav",
          "C_Electric2_LInda_4.wav",
          "C_Classic3_Carolina_3.wav",
          "C_Classic3_Carolina_1.wav",
          "C_Classic2_Carolina_4.wav",
          "C_Classic3_Carolina_4.wav",
          "C_Electric2_LInda_3.wav",
          "C_AcousticGuitar_RodrigoMercador_2.wav",
          "C_AcousticGuitar_RodrigoMercador_3.wav",
          "C_Electric2_LInda_2.wav",
          "C_Classic2_Carolina_1.wav",
          "C_Classic2_Carolina_3.wav",
          "C_AcousticGuitar_RodrigoMercador_1.wav",
          "C_Electric2_LInda_1.wav",
          "C_Classic2_Carolina_2.wav",
          "C_classical_AfonsoLemos_-02.wav",
          "C_AcusticVince_JO_3.wav",
          "C_AcusticVince_JO_2.wav",
          "C_classical_AfonsoLemos_-03.wav",
          "C_classical_AfonsoLemos_-01.wav",
          "C_AcusticVince_JO_1.wav",
          "C_classical_AfonsoLemos_-04.wav",
          "C_AcusticVince_JO_4.wav",
          "C_Classic_Jo_4.wav",
          "C_electric_Isabel_1.wav",
          "C_ClassicVince_JO_4.wav",
          "C_electric_Isabel_3.wav",
          "C_electric_Isabel_2.wav",
          "C_Classic_Jo_2.wav",
          "C_ClassicVince_JO_3.wav",
          "C_ClassicVince_JO_2.wav",
          "C_Classic_Jo_3.wav",
          "C_Classic_Jo_1.wav",
          "C_ClassicVince_JO_1.wav",
          "C_electric_Isabel_4.wav"
         ],
         "marker": {
          "color": "blue",
          "line": {
           "color": "black",
           "width": 1
          },
          "size": 10
         },
         "mode": "markers",
         "name": "Data Points",
         "type": "scatter",
         "x": {
          "bdata": "JT/v8G996j+VabnF3pPpP10QvjNwc+g/tDiYT+cy6T9bc87bIwPbP2fv1JSq5+M/jMhE7EEY6D9yFF0CyvPYP1uR6UI28Nw/zwRkjAY04z/E41nmY5jgP6orZVqGuuY/VhF/Sifh4D/SrLzNS+nhP5euCsqyq+Y/2RSILD1d3D+wu0ZodFDYP7qKnZrN6OI/7EeiMiDv6D+s1O7a4pXcP1uYqWhiceE/kHnQwS7d1D+ta/s0TeXZPzKt8EBQs+A/xz37WTrR4D/PJpAVapTVP3oS0GcaF+A/6M5e4EZl1j/hFyX7tZnhP6TR7If2k9I/4/oZ/T4q1T9izUcOzS3RP+6ElFthPNQ/W8yQ9TXD4T9ZDVuqp77OP+H8DghdM9Q/Gefiard04D9xJHlFiqjiP2/lXn+P79I/5YtjvMMz0D8=",
          "dtype": "f8"
         },
         "y": {
          "bdata": "0atDk6tMzz+w/1zpiwbRP2kp3d292dI/l6tbSAG50T/1lbsHaavRP2ErcQB8FdY/KNAuRkh11D+u+9iRorXRP/sEcEceztI/U8MXTnv40T//sC7KOD7UP8b3wWYYhNY/Jx7Z1DbS1D9H+F1Hc0zVP71tKK5whdY/ZZpBKmXm0T+TgPFsRvPQP0lBCztUlNU/vVRC++iD0j9woALl+cjRPxM1WSEXTNM/+LCMP8iF0T/3RYFJD9DUP5ciMIFfxdI/fduzXbtK0z8xumuCacDRPx+D4Hr+EtM/NklBVTB80j9zM5rfYnDRP4N0ukgWfs0/RUyGnGUm0T8A/JIueFDMP/uFbozXjM4/86jprnMa0j+y6nbd8NTKP/gn4vXPk9A/vYoFlvmh0j/TQBhJ9aDRP+GgbraNY88/eS1ZDHgVyz8=",
          "dtype": "f8"
         }
        },
        {
         "line": {
          "color": "red",
          "dash": "dash"
         },
         "mode": "lines",
         "name": "Maximum Complexity Boundary",
         "type": "scatter",
         "x": {
          "bdata": "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",
          "dtype": "f8"
         },
         "y": {
          "bdata": "AAAAAAAAAIAmJsccRM26PwV2uEcWHsU/tfS7lImAyj8OFYObd5vOP2BjCC+M89A/sousj9BR0j80VQ3Ht3vTP1EcbCWkfdQ/wNsV4gtg1T/Gn7P5+CjWPz1c2njh3NY/1jJ//Sh/1z+7SPojchLYPx/K39LTmNg/GitqT/0T2T+OTgFgT4XZP7O83z7u7dk/cpM4ss5O2j/CHYLIv6jaP5R4ujRy/No/ey9q9H1K2z/Lzk20ZpPbP5Aot0Wf19s/KNBBX4wX3D/aU17ThlPcP8gk/Fvdi9w/JnCjEtbA3D+065Wmr/LcP/8UYV6iId0/Hyk47+BN3T/3HCAymXfdP5yZPL30nt0/mJU7ZhnE3T+X+9mxKefdPxYFszNFCN4/iS3v4Ign3j9RRuxXD0XeP5KIlh7xYN4/AInc2ER73j95cWl4H5TeP1xknmaUq94/ePKaqbXB3j8uGgMFlNbePzjWFRc/6t4/bKWQcsX83j9fu8m1NA7fPyD3Wp+ZHt8/Zb6qIAAu3z+b75RuczzfP5/1bBD+Sd8/IUWK7alW3z8I+IlZgGLfP0Goah+Kbd8/8eSii8933z+thk51WIHfPymqi0Ysit8/ahEdBFKS3z9LFGVU0JnfPwYEyoWtoN8/sPSSlO+m3z9CK0ownKzfP87wsMC4sd8/okFPakq23z9GragSVrrfPwy5HmTgvd8/3DuI0e3A3z8pXoSZgsPfP6U/j8mixd8/4KTdQFLH3z+jiQSzlMjfP1P4cKptyd8/yhu0iuDJ3z+tIKeS8MnfP2Ijat6gyd8/QR1BafTI3z9ee1EP7sffP8jQQo+Qxt8/ZdbEi97E3z+ewPyM2sLfP+HD2wGHwN8/NnJgQea93z+9gcSL+rrfP+ZimAvGt98/ivLN1kq03z/VeLPvirDfPzAM4EWIrN8/jlgSt0So3z+pugIQwqPfP+2FKQ0Cn98/xEF6Wwaa3z+6lhSZ0JTfP1GX61Vij98/bgJkFL2J3z+sF+pJ4oPfP799f1/Tfd8/FsBBspF33z821+mTHnHfP9UmRUt7at8/tlqoFKlj3z8afFwiqVzfPwGcBp18Vd8/qV8KpCRO3z9WwOdNokbfP/w/lKj2Pt8/59nPuSI33z9n6nV/Jy/fPzJIyu8FJ98/j8bC+b4e3z/1UU2FUxbfPwjWknPEDd8//xw3nxIF3z/iypXcPvzePz+l/PlJ894/cUPjvzTq3j9rUCDx/+DePy15HEus194/2yoDhjrO3j/iOvFUq8TeP9OSIWb/ut4/SP0XYzex3j+tJ8rwU6fePzTyxq9Vnd4/6iFcPD2T3j/sibouC4nePyW9GBvAft4/zlzUkVx03j8FEpIf4WneP1hEXE1OX94/v5zAoKRU3j+NYOyb5EneP460x70OP94/AtUPgiM03j+cTHBhIyneP784m9EOHt4/UaJgReYS3j/4+cQsqgfeP0u+FvVa/N0/klUDCfnw3T86JavQhOXdP0vvtLH+2d0/uXtgD2fO3T/RmJhKvsLdPwV2BMIEt90/jWMY0jqr3T8p+iXVYJ/dP6mzayN3k90/lfkjE36H3T+3rpP4dXvdP0Y5GCZfb90/sRM17Dlj3T+y6KCZBlfdP009UnvFSt0/2q+L3HY+3T8L0OcGGzLdP3WRZEKyJd0/7V9u1TwZ3T9x1uoEuwzdPykeQxQtAN0/W/htRZPz3D9DdfnY7ebcP6xdFA492tw/+06XIoHN3D/kjg1TusDcPw6Zvdros9w/4Wax8wyn3D8Ser7WJprcPxCijbs2jdw/SYui2DyA3D8tD2NjOXPcP2VNHpAsZtw/XY8TkhZZ3D/i9Xib90vcP2X0gd3PPtw/2ZxliJ8x3D8ZuWTLZiTcP7K6z9QlF9w/2HsM0twJ3D9r1pvvi/zbP2ASH1kz79s/2CxdOdPh2z8J+Ee6a9TbP0oVAQX9xts/I87eQYe52z8HyHCYCqzbPzmXhC+Hnts/ETIqLf2Q2z/9Q7i2bIPbP35i0PDVdds/uSVj/zho2z/nIbQFllrbPwzJXSbtTNs/by5Vgz4/2z8Bs+09ijHbPyOX3HbQI9s/tnQ8ThEW2z9YopDjTAjbP+B9yFWD+to/XqRCw7Ts2j+tENBJ4d7aPzYotwYJ0do/6bK2FizD2j/YvgiWSrXaP2ByZaBkp9o/UsoFUXqZ2j+cSKbCi4vaP/mOiQ+Zfdo/n+t6UaJv2j8109Chp2HaPyBNbxmpU9o/9U7K0KZF2j/3CejfoDfaP/0pY16XKdo/MgZtY4ob2j9Nw88Feg3aP51r8Ftm/9k/E/XQe0/x2T/BQBJ7NePZP7wJ9m4Y1dk/+clgbPjG2T93k9uH1bjZP4XeldWvqtk/l0xnaYec2T8PYdFWXI7ZP2IvAbEugNk/oADRiv5x2T8N7Mn2y2PZP0xqJQeXVdk/IdzOzV9H2T+pCmVcJjnZP4ucO8TqKtk/f4RcFq0c2T/dZ4ljbQ7ZP576PLwrANk/3VWsMOjx2D/KRsjQouPYP4iUPqxb1dg/oz970hLH2D/ou6lSyLjYPzQgtjt8qtg/KFNOnC6c2D9+LuOC343YP+ydqf2Of9g/PLabGj1x2D+WyHnn6WLYP8Fsy3GVVNg/z4ngxj9G2D/6U9Lz6DfYP1xKhAWRKdg/RCylCDgb2D/06K8J3gzYP/yM7BSD/tc/zydxNifw1z87riJ6yuHXP0XYtets09c/+fivlg7F1z/K0meGr7bXP51oBsZPqNc/vceHYO+Z1z/U0LtgjovXP6L6RtEsfdc/4RGjvMpu1z8J9B8taGDXPxFI5CwFUtc/hTLuxaFD1z9rBRQCPjXXP5HuBOvZJtc/DJ9JinUY1z/780TpEArXP12XNBGs+9Y/jKExC0ft1j8mNDHg4d7WP5AVBZl80NY/6kVcPhfC1j9Yk8PYsbPWP2srpnBMpdY/uCdODueW1j8jG+W5gYjWPxaYdHscetY/wrjmWrdr1j9eoQZgUl3WP+UAgZLtTtY/3pDk+YhA1j9VkKKdJDLWP5M+D4XAI9Y/2lBit1wV1j8Ua7c7+QbWP/aODhmW+NU/5o9MVjPq1T/egDv60NvVP4ggiwtvzdU/q0XRkA2/1T/CRoqQrLDVP0thGRFMotU/Oh/JGOyT1T+fucutjIXVP+16O9Ytd9U/Gh0bmM9o1T/ZKVb5cVrVP8hUwf8UTNU/jNcasbg91T9yyQoTXS/VP1h4IysCIdU/Xb3h/qcS1T/qUa2TTgTVP54h2e719dQ/gZ2jFZ7n1D+xCTcNR9nUP5nNqdrwytQ/B8H+gpu81D+sdiULR67UP1WI+nfzn9Q/W99HzqCR1D8C/MQST4PUP1I9F0r+dNQ/pibSeK5m1D+QonejX1jUP1ZHeM4RStQ/xZgz/sQ71D9mSPg2eS3UPxh2BH0uH9Q/iO6F1OQQ1D+xaJpBnALUPxnCT8hU9NM/HjukbA7m0z8VsoYyydfTP7Pa1h2FydM/1nllMkK70z8umvRzAK3TPwXFN+a/ntM/uDfUjICQ0z8sGGFrQoLTPz+qZ4UFdNM//4Bj3sll0z/1ssJ5j1fTPzwL5lpWSdM/pjkhhR470z8eBLv75yzTP0V07cGyHtM/RQfm2n4Q0z/q2sVJTALTP+HaoREb9NI/ruyCNevl0j+xG2a4vNfSP3jDPJ2PydI/7rrs5mO70j85fFCYOa3SP2ZPN7QQn9I/bHFlPemQ0j9HPJQ2w4LSPxBOcqKedNI/mq6jg3tm0j8s9sHcWVjSP9JxXLA5StI/Okj4ABs80j/VnhDR/S3SP+y6FiPiH9I/dSZy+ccR0j8H0oBWrwPSP5Q2lzyY9dE/BnYAroLn0T8xfv6sbtnRP5Mlyjtcy9E/LU+TXEu90T8BB4ERPK/RP9GhsVwuodE/1ts6QCKT0T/q9Sm+F4XRP/LTg9gOd9E/5BhFkQdp0T9URGLqAVvRPzHOx+X9TNE/70Fahfs+0T8IW/bK+jDRPyYfcbj7ItE/5fiXT/4U0T+q0DCSAgfRP98p+oEI+dA/STirIBDr0D/Y+vNvGd3QP0tVfXEkz9A/viXpJjHB0D+PX9KRP7PQP2YgzbNPpdA/yslmjmGX0D+GFSYjdYnQP/sti3OKe9A/HcQPgaFt0D/SIydNul/QPzJMPtnUUdA/7wG8JvFD0D+p5gA3DzbQPweMZwsvKNA/2YhEpVAa0D9vjOYFdAzQP6/nLF0y/c8/HrcuQYDhzz/xZk260cXPP8ql+Momqs8/8hKVdX+Ozz9eZHy823LPP1ON/aE7V88/Vd5cKJ87zz8kK9RRBiDPP1TtkiBxBM8/S2W+lt/ozj/vvHG2Uc3OP8QpvoHHsc4/iAyr+kCWzj8cETYjvnrOPzlSU/0+X84/RXLtisNDzj/gweXNSyjOP09aFMjXDM4/UTxIe2fxzT+rbEfp+tXNPx8WzxOSus0/HKGT/CyfzT8j1ECly4PNPwfueQ9uaM0/UcLZPBRNzT9v1PIuvjHNP810T+drFs0/XNdxZx37zD/CMtSw0t/MP1DY6MSLxMw/NEoapUipzD/zW8tSCY7MP3tFV8/Ncsw/A74RHJZXzD/jFEc6YjzMP9lIPCsyIcw/hh4v8AUGzD87OVaK3erLP+0z4fq4z8s/orL4Qpi0yz8Mfr5je5nLP3mXTV5ifss/UU26M01jyz/JVBLlO0jLP7DZXHMuLcs/GJma3yQSyz8l8MUqH/fKP4f20lUd3Mo/zI6vYR/Byj/QeUNPJabKP4FtcB8vi8o/TCUS0zxwyj9veP5qTlXKPxhoBehjOso/eTjxSn0fyj+we4aUmgTKPxUrhMW76ck/wrSj3uDOyT+LDZngCbTJP2/FEsw2mck/TBW6oWd+yT9g8TJinGPJPyocHA7VSMk/1jEPphEuyT9Uv6AqUhPJP35LYJyW+Mg/Z23Y+97dyD+f145JK8PIP01qBIZ7qMg/4kC1sc+NyD9qwhjNJ3PIPwCxodiDWMg/Nja+1OM9yD9W9NfBRyPIP3oUVKCvCMg/BlKTcBvuxz87DPIyi9PHPz9RyOf+uMc/BfBpj3aexz8HfyYq8oPHP4hxSbhxacc/AR0aOvVOxz+JztuvfDTHP3zOzRkIGsc/EXYreJf/xj++NCzLKuXGP7+gAxPCysY/pYLhT12wxj8K4fGB/JXGP30MXamfe8Y/86lHxkZhxj9JwdLY8UbGP23HG+GgLMY/G6k831MSxj931kvTCvjFP0ROXL3F3cU/Wqh9nYTDxT9cI7xzR6nFP5KqIEAOj8U/meSwAtl0xT8SOm+7p1rFPwjkWmp6QMU/NfNvD1EmxT90XKeqKwzFPzn/9jsK8sQ/HLJRw+zXxD8wTKdA073EP7at5LO9o8Q/68rzHKyJxD93tLt7nm/EP2qeINCUVcQ/efADGo87xD/0RERZjSHEP0l7vY2PB8Q/KrlIt5Xtwz/geLzVn9PDP0SP7OitucM/PDOq8L+fwz/3CMTs1YXDP0woBt3va8M/6CQ6wQ1Swz/bFyeZLzjDP+GkkWRVHsM/3wQ8I38Ewz90DubUrOrCP2w4TXne0MI/BKgsEBS3wj+lND2ZTZ3CP09vNRSLg8I/AazJgMxpwj/CBqzeEVDCPzdrjC1bNsI/hJ8Ybagcwj8aQ/yc+QLCPwrg4LxO6cE/eOhtzKfPwT/Gw0jLBLbBP7XRFLllnME/WHJzlcqCwT8RDQRgM2nBPy8VZBigT8E/hxQvvhA2wT/Sq/5QhRzBP3GdatD9AsE/U9EIPHrpwD9yXG2T+s/AP3mGKtZ+tsA/Xs7QAwedwD+J8u4bk4PAP5f0ER4jasA/KCHFCbdQwD/AEpLeTjfAP727AJzqHcA/XGWXQYoEwD8DebWdW9a/P8mkm4aqo78/tEXkPAFxvz83No+/Xz6/P3w5mQ3GC78/xQr8JTTZvj+HYq4Hqqa+PwsFpLEndL4/NsjNIq1Bvj++oxlaOg++P6CxclbP3L0/a0DBFmyqvT8n3OqZEHi9P/BM0t68Rb0/yrFX5HATvT9GelipLOG8P495ryzwrrw/qeY0bbt8vD8Acr5pjkq8PzRBHyFpGLw/JP8nkkvmuz+C5Ka7NbS7P9C6Z5wngrs/WuwzMyFQuz/Sh9J+Ih67P5xJCH4r7Lo/66GXLzy6uj+AwUCSVIi6P0OewaR0Vro/rf3VZZwkuj8wdjfUy/K5Pyp/ne4Cwbk/ZHS9s0GPuT/AnUoiiF25Pyc29jjWK7k/InVv9iv6uD/okmNZici4P13WfWDulrg/d49nCltluD+vK8hVzzO4P9g1RUFLArg/JWCCy87Qtz+GhCHzWZ+3PyG1wrbsbbc/+DsEFYc8tz+DpIIMKQu3Pw2/2JvS2bY/5KqfwYOotj/63G58PHe2P/4g3Mr8RbY/6KR7q8QUtj/K+t8clOO1P4Immh1rsrU/uZg5rEmBtT/zPkzHL1C1P9WAXm0dH7U/ak77nBLutD93IKxUD720P6r8+JITjLQ/AYNoVh9btD/m53+dMiq0P1wIw2ZN+bM/U1+0sG/Isz/hF9V5mZezP7sLpcDKZrM/j8qigwM2sz9on0vBQwWzPy+VG3iL1LI/mXuNptqjsj837hpLMXOyP/lVPGSPQrI/Fu9o8PQRsj951RbuYeGxP4D4ulvWsLE//DHJN1KAsT+9P7SA1U+xPz/O7TRgH7E/lHbmUvLusD+gyg3Zi76wP3hT0sUsjrA/6pqhF9VdsD9dK+jMhC2wP54rI8h3+q8/aOsQt/SZrz9W8mxjgDmvPxO9CMoa2a4/IwK058N4rj+Hojy5exiuP7PFbjtCuK0/vd8UaxdYrT+BsPdE+/esP5NI3sXtl6w/zCiO6u43rD8xLMuv/terP4GhVxIdeKs/b0z0DkoYqz95dWCihbiqP0LkWcnPWKo/xeqcgCj5qT+Kd+TEj5mpP2MP6pIFOqk/ctll54naqD9mpQ6/HHuoPyL3mRa+G6g/wwS86m28pz9fyCc4LF2nPxX8jvv4/aY/MCWiMdSepj9VmBDXvT+mPyWMiOi14KU/sQe3YryBpT/ABEhC0SKlPwFe5oP0w6Q/8+c7JCZlpD/cZPEfZgakP0icrnO0p6M/RlcaHBFJoz8EZtoVfOqiP+etk131i6I/4B/q73wtoj+o0YDJEs+hP+Hx+ea2cKE/aNf2RGkSoT8jCBjgKbSgP3E3/bT4VaA/taWKgKvvnz+cBB39gTOfP9VU7Nh0d54/L+8xDYS7nT+H0yWTr/+cP3iS/mP3Q5w/AGzxeFuImz/qXjLL28yaP9cd9FN4EZo/liZoDDFWmT841L7tBZuYPwhHJ/H235c/9K7PDwQllz+bCuVCLWqWP1FHk4Nyr5U/kH4Fy9P0lD/Kr2USUTqUPyQF3VLqf5M/4bCThZ/Fkj+8HLGjcAuSP6zgW6ZdUZE/6b+5hmaXkD90jN97FruPP8SLRIqXR44/ULPpKlDUjD9cDhVQQGGLP08+C+xn7ok/q+IP8cZ7iD+xQmVRXQmHP2HeTP8ql4U/P+oG7S8lhD927NIMbLOCPy5g71DfQYE/XPszVxOhfz/RmB8e1r58Py7SGdsG3Xk/oxuacqX7dj+uURbJsRp0P+J+A8MrOnE//UKriSa0bD/Pmf9l0PRmP2f36ONUNmE/GWGVmGfxVj9NIxygs+9GPw==",
          "dtype": "f8"
         }
        },
        {
         "line": {
          "color": "green",
          "dash": "dash"
         },
         "mode": "lines",
         "name": "Minimum Complexity Boundary",
         "type": "scatter",
         "x": {
          "bdata": "AAAAAAAAAICaxf+16xqTP+jVhP1KAqI/vUTdi+gLqj/86nM1k+ewP8K3yY7ArrQ/p554aKFguD/uL+sCmwC8PzAUmEQWkb8/OC9Izu+JwT9fJ6LWLUXDP9zCdlXT+sQ/w/gEHFSrxj8NvFFLEFfIP6qV/uFY/sk/NbM6+3Khyz8sJAsvmkDNP7DF0VkC3M4/1TEXfOw50D9Eo50aIwTRP2yQ0d+2zNE/cXTxubeT0j+olffyM1nTP1t01Gg4HdQ/9H3Ou9Df1D86qBR1B6HVP9wYEyfmYNY/6J68iHUf1z8jY7eMvdzXP+DxJ3XFmNg/K+Ku5JNT2T+Dkg/tLg3aP45i3xucxdo/e8qKheB82z/HfO/OADPcP7hzvzUB6Nw/PsHXl+Wb3T86q655sU7eP6iv9gtoAN8/nDCPMAyx3z9Pw2s/UDDgP4fyuqOTh+A/ylnQS1He4D+2U/sdijThPz/0d+E+iuE/Qmx4P3Df4T8RywLEHjTiP6MEpt5KiOI/1I4I4/Tb4j9mYlIJHS/jP3Kyc27DgeM/hzlJFOjT4z/jjp7hiiXkP/qKDqKrduQ/+FfBBUrH5D/zXQehZRflP7HIz+v9ZuU/h+v4QBK25T8VRHjdoQTmP8xKV9+rUuY/IZyBRC+g5j94S2DpKu3mP6RZPYedOec/N09psoWF5z+X1RvY4dDnP/fNBjywG+g/48WR9e5l6D84trHsm6/oP9ubTta0+Og/1pYlMDdB6T+zsRI8IInpP7wOqfps0Ok//L/6JBoX6j81rmolJF3qP6I6Wg+Houo/yCN5lT7n6j+L1W/+RSvrP0CTiReYbus/5ELrJC+x6z99ysLOBPPrP0yqrgoSNOw/q/lgAE907D/z+SzosrPsPzkUuOEz8uw/IStdwMYv7T9YSNjJXmztPxjoW2Ltp+0/YoL0nmHi7T99rZWzpxvuP30tZSyoU+4/3roJ2EaK7j+hR1o3Yb/uPwiMLibM8u4/5bjgL1Ak7z8p/rF0o1PvP1Omz7BegO8/zKz4ROep7z8Ha0uLO8/vP00Cx0hS7u8/AAAAAAAA8D8=",
          "dtype": "f8"
         },
         "y": {
          "bdata": "AAAAAAAAAIDM4Y+YJlKSP3cLBINQtqA/J6zO+G52pz/N5dV3Gp6tP32fvDSTpLE/ZaqxOrdEtD8TBRfs0bW2Pz4In7ex/Lg/GLkl5iMduz9xvMwPQxq9Pxsj/6un9r4/5RS4+ENawD9oIqDe5irBPyRePBgT7sE/wQS/lIakwj+vc/D06k7DPw+0hN/Y7cM/pSqkndqBxD8oUsMvbgvFP5alVvwGi8U/hbZQMA8Bxj8sB9Pi6G3GP/hm9Qjv0cY/xNtVQ3Ytxz+YwtaMzYDHP9+iQtA+zMc/fgROaQ8QyD/crH+UgEzIP5sM0dDPgcg/ni5MNTewyD9iM3+87dfIP0a3R4cn+cg/fpI0GBYUyT+FPYaI6CjJP5yFqrfLN8k/4/HsdepAyT91afiqbUTJPygQr3h8Qsk/y77JWjw7yT/8YqBD0S7JPxf1brZdHck/SXpf3wIHyT/Z8pep4OvIP2cIg9MVzMg/PX2DAcCnyD9qhzzP+37IPyJNlN/kUcg/7m6R65UgyD8B7jDQKOvHP3iHTpu2scc/0wG3l1d0xz8XdnlYIzPHPym7isMw7sY/u1HMG5alxj+AsYYKaVnGP2W5Zai+CcY/itMEhqu2xT/kqBe0Q2DFP1J8O8uaBsU/k9Z888OpxD9Y05zr0UnEPyY2IRDX5sM/ToM6YuWAwz/Sh4uODhjDP9tB3vNjrMI/8cnSqfY9wj9N75WH18zBPxqprioXWcE/kEzz/cXiwD9sFbpA9GnAP14jtxxk3b8/msZDzB7ivj+pCIpnOOK9P53wNrHQ3bw/2BdgawfVuz8HP/Nt/Me6P/0JBcDPtrk/A3bGtKGhuD/EsyUNk4i3P1sKdB/Fa7Y/353hBlpLtT8Cb0vddCe0P1Lq0QI6ALM/PSYjeM/VsT+5+pxSXaiwP9pCy6kc8K4/hmBseCGKrD+oqte3Lh+qP+ZMTGK2r6c/w7ANazs8pT8z3wTgWMWiPzQr8GfNS6A/peLq2R2hmz/cun3T3amWP55cgtvItZE/L6gfV+WWiT8G9z+G6d9/P9Qznsa2+Wo/3KtzhX9C17w=",
          "dtype": "f8"
         }
        }
       ],
       "layout": {
        "height": 600,
        "template": {
         "data": {
          "bar": [
           {
            "error_x": {
             "color": "#2a3f5f"
            },
            "error_y": {
             "color": "#2a3f5f"
            },
            "marker": {
             "line": {
              "color": "white",
              "width": 0.5
             },
             "pattern": {
              "fillmode": "overlay",
              "size": 10,
              "solidity": 0.2
             }
            },
            "type": "bar"
           }
          ],
          "barpolar": [
           {
            "marker": {
             "line": {
              "color": "white",
              "width": 0.5
             },
             "pattern": {
              "fillmode": "overlay",
              "size": 10,
              "solidity": 0.2
             }
            },
            "type": "barpolar"
           }
          ],
          "carpet": [
           {
            "aaxis": {
             "endlinecolor": "#2a3f5f",
             "gridcolor": "#C8D4E3",
             "linecolor": "#C8D4E3",
             "minorgridcolor": "#C8D4E3",
             "startlinecolor": "#2a3f5f"
            },
            "baxis": {
             "endlinecolor": "#2a3f5f",
             "gridcolor": "#C8D4E3",
             "linecolor": "#C8D4E3",
             "minorgridcolor": "#C8D4E3",
             "startlinecolor": "#2a3f5f"
            },
            "type": "carpet"
           }
          ],
          "choropleth": [
           {
            "colorbar": {
             "outlinewidth": 0,
             "ticks": ""
            },
            "type": "choropleth"
           }
          ],
          "contour": [
           {
            "colorbar": {
             "outlinewidth": 0,
             "ticks": ""
            },
            "colorscale": [
             [
              0,
              "#0d0887"
             ],
             [
              0.1111111111111111,
              "#46039f"
             ],
             [
              0.2222222222222222,
              "#7201a8"
             ],
             [
              0.3333333333333333,
              "#9c179e"
             ],
             [
              0.4444444444444444,
              "#bd3786"
             ],
             [
              0.5555555555555556,
              "#d8576b"
             ],
             [
              0.6666666666666666,
              "#ed7953"
             ],
             [
              0.7777777777777778,
              "#fb9f3a"
             ],
             [
              0.8888888888888888,
              "#fdca26"
             ],
             [
              1,
              "#f0f921"
             ]
            ],
            "type": "contour"
           }
          ],
          "contourcarpet": [
           {
            "colorbar": {
             "outlinewidth": 0,
             "ticks": ""
            },
            "type": "contourcarpet"
           }
          ],
          "heatmap": [
           {
            "colorbar": {
             "outlinewidth": 0,
             "ticks": ""
            },
            "colorscale": [
             [
              0,
              "#0d0887"
             ],
             [
              0.1111111111111111,
              "#46039f"
             ],
             [
              0.2222222222222222,
              "#7201a8"
             ],
             [
              0.3333333333333333,
              "#9c179e"
             ],
             [
              0.4444444444444444,
              "#bd3786"
             ],
             [
              0.5555555555555556,
              "#d8576b"
             ],
             [
              0.6666666666666666,
              "#ed7953"
             ],
             [
              0.7777777777777778,
              "#fb9f3a"
             ],
             [
              0.8888888888888888,
              "#fdca26"
             ],
             [
              1,
              "#f0f921"
             ]
            ],
            "type": "heatmap"
           }
          ],
          "histogram": [
           {
            "marker": {
             "pattern": {
              "fillmode": "overlay",
              "size": 10,
              "solidity": 0.2
             }
            },
            "type": "histogram"
           }
          ],
          "histogram2d": [
           {
            "colorbar": {
             "outlinewidth": 0,
             "ticks": ""
            },
            "colorscale": [
             [
              0,
              "#0d0887"
             ],
             [
              0.1111111111111111,
              "#46039f"
             ],
             [
              0.2222222222222222,
              "#7201a8"
             ],
             [
              0.3333333333333333,
              "#9c179e"
             ],
             [
              0.4444444444444444,
              "#bd3786"
             ],
             [
              0.5555555555555556,
              "#d8576b"
             ],
             [
              0.6666666666666666,
              "#ed7953"
             ],
             [
              0.7777777777777778,
              "#fb9f3a"
             ],
             [
              0.8888888888888888,
              "#fdca26"
             ],
             [
              1,
              "#f0f921"
             ]
            ],
            "type": "histogram2d"
           }
          ],
          "histogram2dcontour": [
           {
            "colorbar": {
             "outlinewidth": 0,
             "ticks": ""
            },
            "colorscale": [
             [
              0,
              "#0d0887"
             ],
             [
              0.1111111111111111,
              "#46039f"
             ],
             [
              0.2222222222222222,
              "#7201a8"
             ],
             [
              0.3333333333333333,
              "#9c179e"
             ],
             [
              0.4444444444444444,
              "#bd3786"
             ],
             [
              0.5555555555555556,
              "#d8576b"
             ],
             [
              0.6666666666666666,
              "#ed7953"
             ],
             [
              0.7777777777777778,
              "#fb9f3a"
             ],
             [
              0.8888888888888888,
              "#fdca26"
             ],
             [
              1,
              "#f0f921"
             ]
            ],
            "type": "histogram2dcontour"
           }
          ],
          "mesh3d": [
           {
            "colorbar": {
             "outlinewidth": 0,
             "ticks": ""
            },
            "type": "mesh3d"
           }
          ],
          "parcoords": [
           {
            "line": {
             "colorbar": {
              "outlinewidth": 0,
              "ticks": ""
             }
            },
            "type": "parcoords"
           }
          ],
          "pie": [
           {
            "automargin": true,
            "type": "pie"
           }
          ],
          "scatter": [
           {
            "fillpattern": {
             "fillmode": "overlay",
             "size": 10,
             "solidity": 0.2
            },
            "type": "scatter"
           }
          ],
          "scatter3d": [
           {
            "line": {
             "colorbar": {
              "outlinewidth": 0,
              "ticks": ""
             }
            },
            "marker": {
             "colorbar": {
              "outlinewidth": 0,
              "ticks": ""
             }
            },
            "type": "scatter3d"
           }
          ],
          "scattercarpet": [
           {
            "marker": {
             "colorbar": {
              "outlinewidth": 0,
              "ticks": ""
             }
            },
            "type": "scattercarpet"
           }
          ],
          "scattergeo": [
           {
            "marker": {
             "colorbar": {
              "outlinewidth": 0,
              "ticks": ""
             }
            },
            "type": "scattergeo"
           }
          ],
          "scattergl": [
           {
            "marker": {
             "colorbar": {
              "outlinewidth": 0,
              "ticks": ""
             }
            },
            "type": "scattergl"
           }
          ],
          "scattermap": [
           {
            "marker": {
             "colorbar": {
              "outlinewidth": 0,
              "ticks": ""
             }
            },
            "type": "scattermap"
           }
          ],
          "scattermapbox": [
           {
            "marker": {
             "colorbar": {
              "outlinewidth": 0,
              "ticks": ""
             }
            },
            "type": "scattermapbox"
           }
          ],
          "scatterpolar": [
           {
            "marker": {
             "colorbar": {
              "outlinewidth": 0,
              "ticks": ""
             }
            },
            "type": "scatterpolar"
           }
          ],
          "scatterpolargl": [
           {
            "marker": {
             "colorbar": {
              "outlinewidth": 0,
              "ticks": ""
             }
            },
            "type": "scatterpolargl"
           }
          ],
          "scatterternary": [
           {
            "marker": {
             "colorbar": {
              "outlinewidth": 0,
              "ticks": ""
             }
            },
            "type": "scatterternary"
           }
          ],
          "surface": [
           {
            "colorbar": {
             "outlinewidth": 0,
             "ticks": ""
            },
            "colorscale": [
             [
              0,
              "#0d0887"
             ],
             [
              0.1111111111111111,
              "#46039f"
             ],
             [
              0.2222222222222222,
              "#7201a8"
             ],
             [
              0.3333333333333333,
              "#9c179e"
             ],
             [
              0.4444444444444444,
              "#bd3786"
             ],
             [
              0.5555555555555556,
              "#d8576b"
             ],
             [
              0.6666666666666666,
              "#ed7953"
             ],
             [
              0.7777777777777778,
              "#fb9f3a"
             ],
             [
              0.8888888888888888,
              "#fdca26"
             ],
             [
              1,
              "#f0f921"
             ]
            ],
            "type": "surface"
           }
          ],
          "table": [
           {
            "cells": {
             "fill": {
              "color": "#EBF0F8"
             },
             "line": {
              "color": "white"
             }
            },
            "header": {
             "fill": {
              "color": "#C8D4E3"
             },
             "line": {
              "color": "white"
             }
            },
            "type": "table"
           }
          ]
         },
         "layout": {
          "annotationdefaults": {
           "arrowcolor": "#2a3f5f",
           "arrowhead": 0,
           "arrowwidth": 1
          },
          "autotypenumbers": "strict",
          "coloraxis": {
           "colorbar": {
            "outlinewidth": 0,
            "ticks": ""
           }
          },
          "colorscale": {
           "diverging": [
            [
             0,
             "#8e0152"
            ],
            [
             0.1,
             "#c51b7d"
            ],
            [
             0.2,
             "#de77ae"
            ],
            [
             0.3,
             "#f1b6da"
            ],
            [
             0.4,
             "#fde0ef"
            ],
            [
             0.5,
             "#f7f7f7"
            ],
            [
             0.6,
             "#e6f5d0"
            ],
            [
             0.7,
             "#b8e186"
            ],
            [
             0.8,
             "#7fbc41"
            ],
            [
             0.9,
             "#4d9221"
            ],
            [
             1,
             "#276419"
            ]
           ],
           "sequential": [
            [
             0,
             "#0d0887"
            ],
            [
             0.1111111111111111,
             "#46039f"
            ],
            [
             0.2222222222222222,
             "#7201a8"
            ],
            [
             0.3333333333333333,
             "#9c179e"
            ],
            [
             0.4444444444444444,
             "#bd3786"
            ],
            [
             0.5555555555555556,
             "#d8576b"
            ],
            [
             0.6666666666666666,
             "#ed7953"
            ],
            [
             0.7777777777777778,
             "#fb9f3a"
            ],
            [
             0.8888888888888888,
             "#fdca26"
            ],
            [
             1,
             "#f0f921"
            ]
           ],
           "sequentialminus": [
            [
             0,
             "#0d0887"
            ],
            [
             0.1111111111111111,
             "#46039f"
            ],
            [
             0.2222222222222222,
             "#7201a8"
            ],
            [
             0.3333333333333333,
             "#9c179e"
            ],
            [
             0.4444444444444444,
             "#bd3786"
            ],
            [
             0.5555555555555556,
             "#d8576b"
            ],
            [
             0.6666666666666666,
             "#ed7953"
            ],
            [
             0.7777777777777778,
             "#fb9f3a"
            ],
            [
             0.8888888888888888,
             "#fdca26"
            ],
            [
             1,
             "#f0f921"
            ]
           ]
          },
          "colorway": [
           "#636efa",
           "#EF553B",
           "#00cc96",
           "#ab63fa",
           "#FFA15A",
           "#19d3f3",
           "#FF6692",
           "#B6E880",
           "#FF97FF",
           "#FECB52"
          ],
          "font": {
           "color": "#2a3f5f"
          },
          "geo": {
           "bgcolor": "white",
           "lakecolor": "white",
           "landcolor": "white",
           "showlakes": true,
           "showland": true,
           "subunitcolor": "#C8D4E3"
          },
          "hoverlabel": {
           "align": "left"
          },
          "hovermode": "closest",
          "mapbox": {
           "style": "light"
          },
          "paper_bgcolor": "white",
          "plot_bgcolor": "white",
          "polar": {
           "angularaxis": {
            "gridcolor": "#EBF0F8",
            "linecolor": "#EBF0F8",
            "ticks": ""
           },
           "bgcolor": "white",
           "radialaxis": {
            "gridcolor": "#EBF0F8",
            "linecolor": "#EBF0F8",
            "ticks": ""
           }
          },
          "scene": {
           "xaxis": {
            "backgroundcolor": "white",
            "gridcolor": "#DFE8F3",
            "gridwidth": 2,
            "linecolor": "#EBF0F8",
            "showbackground": true,
            "ticks": "",
            "zerolinecolor": "#EBF0F8"
           },
           "yaxis": {
            "backgroundcolor": "white",
            "gridcolor": "#DFE8F3",
            "gridwidth": 2,
            "linecolor": "#EBF0F8",
            "showbackground": true,
            "ticks": "",
            "zerolinecolor": "#EBF0F8"
           },
           "zaxis": {
            "backgroundcolor": "white",
            "gridcolor": "#DFE8F3",
            "gridwidth": 2,
            "linecolor": "#EBF0F8",
            "showbackground": true,
            "ticks": "",
            "zerolinecolor": "#EBF0F8"
           }
          },
          "shapedefaults": {
           "line": {
            "color": "#2a3f5f"
           }
          },
          "ternary": {
           "aaxis": {
            "gridcolor": "#DFE8F3",
            "linecolor": "#A2B1C6",
            "ticks": ""
           },
           "baxis": {
            "gridcolor": "#DFE8F3",
            "linecolor": "#A2B1C6",
            "ticks": ""
           },
           "bgcolor": "white",
           "caxis": {
            "gridcolor": "#DFE8F3",
            "linecolor": "#A2B1C6",
            "ticks": ""
           }
          },
          "title": {
           "x": 0.05
          },
          "xaxis": {
           "automargin": true,
           "gridcolor": "#EBF0F8",
           "linecolor": "#EBF0F8",
           "ticks": "",
           "title": {
            "standoff": 15
           },
           "zerolinecolor": "#EBF0F8",
           "zerolinewidth": 2
          },
          "yaxis": {
           "automargin": true,
           "gridcolor": "#EBF0F8",
           "linecolor": "#EBF0F8",
           "ticks": "",
           "title": {
            "standoff": 15
           },
           "zerolinecolor": "#EBF0F8",
           "zerolinewidth": 2
          }
         }
        },
        "title": {
         "text": "Entropy–Complexity for data/guitar_chords/C (Plotly)\nDim = '6', Hop = '1'"
        },
        "width": 800,
        "xaxis": {
         "range": [
          0,
          1
         ],
         "title": {
          "text": "Normalized Permutation Entropy"
         }
        },
        "yaxis": {
         "range": [
          0,
          1
         ],
         "title": {
          "text": "Normalized Complexity"
         }
        }
       }
      }
     },
     "metadata": {},
     "output_type": "display_data"
    }
   ],
   "source": [
    "folder_path = \"data/guitar_chords/C\"\n",
    "dim = 6\n",
    "hop = 1\n",
    "plot_graph_ordpy(folder_path, dim, hop)"
   ]
  },
  {
   "cell_type": "code",
   "execution_count": 133,
   "metadata": {},
   "outputs": [
    {
     "name": "stderr",
     "output_type": "stream",
     "text": [
      "Processing audio files in data/guitar_chords/Dm with dim 6 and hop 1: 100%|██████████| 40/40 [00:08<00:00,  4.67it/s]\n"
     ]
    },
    {
     "data": {
      "application/vnd.plotly.v1+json": {
       "config": {
        "plotlyServerURL": "https://plot.ly"
       },
       "data": [
        {
         "hovertemplate": "<b>File:</b> %{hovertext}<br><b>Entropy:</b> %{x}<br><b>Complexity:</b> %{y}<extra></extra>",
         "hovertext": [
          "Dm_classical_AfonsoLemos_-02.wav",
          "Dm_Classic3_Carolina_2.wav",
          "Dm_electric_Isabel_3.wav",
          "Dm_electric_Isabel_2.wav",
          "Dm_Classic3_Carolina_3.wav",
          "Dm_classical_AfonsoLemos_-03.wav",
          "Dm_classical_AfonsoLemos_-01.wav",
          "Dm_Classic3_Carolina_1.wav",
          "Dm_electric_Isabel_1.wav",
          "Dm_ClassicVince_JO_4.wav",
          "Dm_Classic2_Carolina_4.wav",
          "Dm_classical_AfonsoLemos_-04.wav",
          "Dm_Classic3_Carolina_4.wav",
          "Dm_ClassicVince_JO_1.wav",
          "Dm_electric_Isabel_4.wav",
          "Dm_Classic2_Carolina_1.wav",
          "Dm_Classic2_Carolina_3.wav",
          "Dm_ClassicVince_JO_3.wav",
          "Dm_ClassicVince_JO_2.wav",
          "Dm_Classic2_Carolina_2.wav",
          "Dm_AcusticVince_JO_1.wav",
          "Dm_AcusticVince_JO_3.wav",
          "Dm_AcusticVince_JO_2.wav",
          "Dm_Classic_Jo_4.wav",
          "Dm_Classic_Jo_1.wav",
          "Dm_Classic_Jo_3.wav",
          "Dm_AcusticVince_JO_4.wav",
          "Dm_Classic_Jo_2.wav",
          "Dm_Electric2_LInda_4.wav",
          "Dm_Electric2_LInda_1.wav",
          "Dm_Electric2_LInda_3.wav",
          "Dm_Electric2_LInda_2.wav",
          "Dm_AcousticGuitar_RodrigoMercador_4.wav",
          "Dm_Electric1_LInda_2.wav",
          "Dm_Electric1_LInda_3.wav",
          "Dm_Electric1_LInda_1.wav",
          "Dm_AcousticGuitar_RodrigoMercador_2.wav",
          "Dm_Electric1_LInda_4.wav",
          "Dm_AcousticGuitar_RodrigoMercador_3.wav",
          "Dm_AcousticGuitar_RodrigoMercador_1.wav"
         ],
         "marker": {
          "color": "blue",
          "line": {
           "color": "black",
           "width": 1
          },
          "size": 10
         },
         "mode": "markers",
         "name": "Data Points",
         "type": "scatter",
         "x": {
          "bdata": "tkQM0pOf4z8jvUzeYJ3aP/nTvcjzY9I/j1NovKSa1D/FYSDVsr7eP8FSc+ezT+M/W2kuzKSK5D9bI9ggGanYP4XyExBDfNM/onbbJYAV1T9bLGe3NLndP2R4P68bAeY/ryUN1zdZ4j88IGVki+PUP3tkqB90ONA/IJkAsiQi2z8Rx1fbkjjYPzVQmmIl3tI/836Dkeg20T/Y6tDv66vaPyBFAbrt19A/V0T4gqOw0j+urrC9XCbWPzLdyixjmuM/hDrzPRVN4z8Hbe64GZTjPzYlIAl4xtM/aduhKhfV4j/JgCUzbjHpP2Q0Qx93Yuk/NOppprHe6D9NfuycO4XpP2dh6B4gsOU/NuY+ubi56D/ur821ssHlPxUm76fJgec/W2qam+O/5D9PhCZ10HDlP2FLiGv/AuQ/7RvhzA+u5D8=",
          "dtype": "f8"
         },
         "y": {
          "bdata": "kz4XJdJO0z/NcDWdiNHRP08xa/oxI80/ikMsmoOmzj/LlVQZld/SP6v+ZmjnzdI/KZgMUcTp0T85qIatIlHSP/uDAhN0Lc4/vMmhNhMX0T8XFJ1tER7UP4mjAPD8HNE/qrfUuMrH1T+pNq6nrw/RP1gbC4a9Gcs/u2BEk91o0j9tyq97IDnRP990uXHUjs8/E2pZ2n8CzT9cDPCATt/RP0Fhnlo+Cc0/VOS9QYQS0D/jV3xiKvvRP8R5H9YfCNI/5MSTJO+30T8WJc3rXW/RPzEl4q9HmdA/Z6QTlAb+0T+PIyd7BrzRP3fupZ+XuNE/Zk9kC85q0z+paacrFR3SPyIpZvuVCtU/amaYtJTv0D9iEeJgXS3XP8XF//WpsNM/RiYs0lBU1T95v1tahInXP2oCeT/cstU/pP3WuPQC1T8=",
          "dtype": "f8"
         }
        },
        {
         "line": {
          "color": "red",
          "dash": "dash"
         },
         "mode": "lines",
         "name": "Maximum Complexity Boundary",
         "type": "scatter",
         "x": {
          "bdata": "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",
          "dtype": "f8"
         },
         "y": {
          "bdata": "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",
          "dtype": "f8"
         }
        },
        {
         "line": {
          "color": "green",
          "dash": "dash"
         },
         "mode": "lines",
         "name": "Minimum Complexity Boundary",
         "type": "scatter",
         "x": {
          "bdata": "AAAAAAAAAICaxf+16xqTP+jVhP1KAqI/vUTdi+gLqj/86nM1k+ewP8K3yY7ArrQ/p554aKFguD/uL+sCmwC8PzAUmEQWkb8/OC9Izu+JwT9fJ6LWLUXDP9zCdlXT+sQ/w/gEHFSrxj8NvFFLEFfIP6qV/uFY/sk/NbM6+3Khyz8sJAsvmkDNP7DF0VkC3M4/1TEXfOw50D9Eo50aIwTRP2yQ0d+2zNE/cXTxubeT0j+olffyM1nTP1t01Gg4HdQ/9H3Ou9Df1D86qBR1B6HVP9wYEyfmYNY/6J68iHUf1z8jY7eMvdzXP+DxJ3XFmNg/K+Ku5JNT2T+Dkg/tLg3aP45i3xucxdo/e8qKheB82z/HfO/OADPcP7hzvzUB6Nw/PsHXl+Wb3T86q655sU7eP6iv9gtoAN8/nDCPMAyx3z9Pw2s/UDDgP4fyuqOTh+A/ylnQS1He4D+2U/sdijThPz/0d+E+iuE/Qmx4P3Df4T8RywLEHjTiP6MEpt5KiOI/1I4I4/Tb4j9mYlIJHS/jP3Kyc27DgeM/hzlJFOjT4z/jjp7hiiXkP/qKDqKrduQ/+FfBBUrH5D/zXQehZRflP7HIz+v9ZuU/h+v4QBK25T8VRHjdoQTmP8xKV9+rUuY/IZyBRC+g5j94S2DpKu3mP6RZPYedOec/N09psoWF5z+X1RvY4dDnP/fNBjywG+g/48WR9e5l6D84trHsm6/oP9ubTta0+Og/1pYlMDdB6T+zsRI8IInpP7wOqfps0Ok//L/6JBoX6j81rmolJF3qP6I6Wg+Houo/yCN5lT7n6j+L1W/+RSvrP0CTiReYbus/5ELrJC+x6z99ysLOBPPrP0yqrgoSNOw/q/lgAE907D/z+SzosrPsPzkUuOEz8uw/IStdwMYv7T9YSNjJXmztPxjoW2Ltp+0/YoL0nmHi7T99rZWzpxvuP30tZSyoU+4/3roJ2EaK7j+hR1o3Yb/uPwiMLibM8u4/5bjgL1Ak7z8p/rF0o1PvP1Omz7BegO8/zKz4ROep7z8Ha0uLO8/vP00Cx0hS7u8/AAAAAAAA8D8=",
          "dtype": "f8"
         },
         "y": {
          "bdata": "AAAAAAAAAIDM4Y+YJlKSP3cLBINQtqA/J6zO+G52pz/N5dV3Gp6tP32fvDSTpLE/ZaqxOrdEtD8TBRfs0bW2Pz4In7ex/Lg/GLkl5iMduz9xvMwPQxq9Pxsj/6un9r4/5RS4+ENawD9oIqDe5irBPyRePBgT7sE/wQS/lIakwj+vc/D06k7DPw+0hN/Y7cM/pSqkndqBxD8oUsMvbgvFP5alVvwGi8U/hbZQMA8Bxj8sB9Pi6G3GP/hm9Qjv0cY/xNtVQ3Ytxz+YwtaMzYDHP9+iQtA+zMc/fgROaQ8QyD/crH+UgEzIP5sM0dDPgcg/ni5MNTewyD9iM3+87dfIP0a3R4cn+cg/fpI0GBYUyT+FPYaI6CjJP5yFqrfLN8k/4/HsdepAyT91afiqbUTJPygQr3h8Qsk/y77JWjw7yT/8YqBD0S7JPxf1brZdHck/SXpf3wIHyT/Z8pep4OvIP2cIg9MVzMg/PX2DAcCnyD9qhzzP+37IPyJNlN/kUcg/7m6R65UgyD8B7jDQKOvHP3iHTpu2scc/0wG3l1d0xz8XdnlYIzPHPym7isMw7sY/u1HMG5alxj+AsYYKaVnGP2W5Zai+CcY/itMEhqu2xT/kqBe0Q2DFP1J8O8uaBsU/k9Z888OpxD9Y05zr0UnEPyY2IRDX5sM/ToM6YuWAwz/Sh4uODhjDP9tB3vNjrMI/8cnSqfY9wj9N75WH18zBPxqprioXWcE/kEzz/cXiwD9sFbpA9GnAP14jtxxk3b8/msZDzB7ivj+pCIpnOOK9P53wNrHQ3bw/2BdgawfVuz8HP/Nt/Me6P/0JBcDPtrk/A3bGtKGhuD/EsyUNk4i3P1sKdB/Fa7Y/353hBlpLtT8Cb0vddCe0P1Lq0QI6ALM/PSYjeM/VsT+5+pxSXaiwP9pCy6kc8K4/hmBseCGKrD+oqte3Lh+qP+ZMTGK2r6c/w7ANazs8pT8z3wTgWMWiPzQr8GfNS6A/peLq2R2hmz/cun3T3amWP55cgtvItZE/L6gfV+WWiT8G9z+G6d9/P9Qznsa2+Wo/3KtzhX9C17w=",
          "dtype": "f8"
         }
        }
       ],
       "layout": {
        "height": 600,
        "template": {
         "data": {
          "bar": [
           {
            "error_x": {
             "color": "#2a3f5f"
            },
            "error_y": {
             "color": "#2a3f5f"
            },
            "marker": {
             "line": {
              "color": "white",
              "width": 0.5
             },
             "pattern": {
              "fillmode": "overlay",
              "size": 10,
              "solidity": 0.2
             }
            },
            "type": "bar"
           }
          ],
          "barpolar": [
           {
            "marker": {
             "line": {
              "color": "white",
              "width": 0.5
             },
             "pattern": {
              "fillmode": "overlay",
              "size": 10,
              "solidity": 0.2
             }
            },
            "type": "barpolar"
           }
          ],
          "carpet": [
           {
            "aaxis": {
             "endlinecolor": "#2a3f5f",
             "gridcolor": "#C8D4E3",
             "linecolor": "#C8D4E3",
             "minorgridcolor": "#C8D4E3",
             "startlinecolor": "#2a3f5f"
            },
            "baxis": {
             "endlinecolor": "#2a3f5f",
             "gridcolor": "#C8D4E3",
             "linecolor": "#C8D4E3",
             "minorgridcolor": "#C8D4E3",
             "startlinecolor": "#2a3f5f"
            },
            "type": "carpet"
           }
          ],
          "choropleth": [
           {
            "colorbar": {
             "outlinewidth": 0,
             "ticks": ""
            },
            "type": "choropleth"
           }
          ],
          "contour": [
           {
            "colorbar": {
             "outlinewidth": 0,
             "ticks": ""
            },
            "colorscale": [
             [
              0,
              "#0d0887"
             ],
             [
              0.1111111111111111,
              "#46039f"
             ],
             [
              0.2222222222222222,
              "#7201a8"
             ],
             [
              0.3333333333333333,
              "#9c179e"
             ],
             [
              0.4444444444444444,
              "#bd3786"
             ],
             [
              0.5555555555555556,
              "#d8576b"
             ],
             [
              0.6666666666666666,
              "#ed7953"
             ],
             [
              0.7777777777777778,
              "#fb9f3a"
             ],
             [
              0.8888888888888888,
              "#fdca26"
             ],
             [
              1,
              "#f0f921"
             ]
            ],
            "type": "contour"
           }
          ],
          "contourcarpet": [
           {
            "colorbar": {
             "outlinewidth": 0,
             "ticks": ""
            },
            "type": "contourcarpet"
           }
          ],
          "heatmap": [
           {
            "colorbar": {
             "outlinewidth": 0,
             "ticks": ""
            },
            "colorscale": [
             [
              0,
              "#0d0887"
             ],
             [
              0.1111111111111111,
              "#46039f"
             ],
             [
              0.2222222222222222,
              "#7201a8"
             ],
             [
              0.3333333333333333,
              "#9c179e"
             ],
             [
              0.4444444444444444,
              "#bd3786"
             ],
             [
              0.5555555555555556,
              "#d8576b"
             ],
             [
              0.6666666666666666,
              "#ed7953"
             ],
             [
              0.7777777777777778,
              "#fb9f3a"
             ],
             [
              0.8888888888888888,
              "#fdca26"
             ],
             [
              1,
              "#f0f921"
             ]
            ],
            "type": "heatmap"
           }
          ],
          "histogram": [
           {
            "marker": {
             "pattern": {
              "fillmode": "overlay",
              "size": 10,
              "solidity": 0.2
             }
            },
            "type": "histogram"
           }
          ],
          "histogram2d": [
           {
            "colorbar": {
             "outlinewidth": 0,
             "ticks": ""
            },
            "colorscale": [
             [
              0,
              "#0d0887"
             ],
             [
              0.1111111111111111,
              "#46039f"
             ],
             [
              0.2222222222222222,
              "#7201a8"
             ],
             [
              0.3333333333333333,
              "#9c179e"
             ],
             [
              0.4444444444444444,
              "#bd3786"
             ],
             [
              0.5555555555555556,
              "#d8576b"
             ],
             [
              0.6666666666666666,
              "#ed7953"
             ],
             [
              0.7777777777777778,
              "#fb9f3a"
             ],
             [
              0.8888888888888888,
              "#fdca26"
             ],
             [
              1,
              "#f0f921"
             ]
            ],
            "type": "histogram2d"
           }
          ],
          "histogram2dcontour": [
           {
            "colorbar": {
             "outlinewidth": 0,
             "ticks": ""
            },
            "colorscale": [
             [
              0,
              "#0d0887"
             ],
             [
              0.1111111111111111,
              "#46039f"
             ],
             [
              0.2222222222222222,
              "#7201a8"
             ],
             [
              0.3333333333333333,
              "#9c179e"
             ],
             [
              0.4444444444444444,
              "#bd3786"
             ],
             [
              0.5555555555555556,
              "#d8576b"
             ],
             [
              0.6666666666666666,
              "#ed7953"
             ],
             [
              0.7777777777777778,
              "#fb9f3a"
             ],
             [
              0.8888888888888888,
              "#fdca26"
             ],
             [
              1,
              "#f0f921"
             ]
            ],
            "type": "histogram2dcontour"
           }
          ],
          "mesh3d": [
           {
            "colorbar": {
             "outlinewidth": 0,
             "ticks": ""
            },
            "type": "mesh3d"
           }
          ],
          "parcoords": [
           {
            "line": {
             "colorbar": {
              "outlinewidth": 0,
              "ticks": ""
             }
            },
            "type": "parcoords"
           }
          ],
          "pie": [
           {
            "automargin": true,
            "type": "pie"
           }
          ],
          "scatter": [
           {
            "fillpattern": {
             "fillmode": "overlay",
             "size": 10,
             "solidity": 0.2
            },
            "type": "scatter"
           }
          ],
          "scatter3d": [
           {
            "line": {
             "colorbar": {
              "outlinewidth": 0,
              "ticks": ""
             }
            },
            "marker": {
             "colorbar": {
              "outlinewidth": 0,
              "ticks": ""
             }
            },
            "type": "scatter3d"
           }
          ],
          "scattercarpet": [
           {
            "marker": {
             "colorbar": {
              "outlinewidth": 0,
              "ticks": ""
             }
            },
            "type": "scattercarpet"
           }
          ],
          "scattergeo": [
           {
            "marker": {
             "colorbar": {
              "outlinewidth": 0,
              "ticks": ""
             }
            },
            "type": "scattergeo"
           }
          ],
          "scattergl": [
           {
            "marker": {
             "colorbar": {
              "outlinewidth": 0,
              "ticks": ""
             }
            },
            "type": "scattergl"
           }
          ],
          "scattermap": [
           {
            "marker": {
             "colorbar": {
              "outlinewidth": 0,
              "ticks": ""
             }
            },
            "type": "scattermap"
           }
          ],
          "scattermapbox": [
           {
            "marker": {
             "colorbar": {
              "outlinewidth": 0,
              "ticks": ""
             }
            },
            "type": "scattermapbox"
           }
          ],
          "scatterpolar": [
           {
            "marker": {
             "colorbar": {
              "outlinewidth": 0,
              "ticks": ""
             }
            },
            "type": "scatterpolar"
           }
          ],
          "scatterpolargl": [
           {
            "marker": {
             "colorbar": {
              "outlinewidth": 0,
              "ticks": ""
             }
            },
            "type": "scatterpolargl"
           }
          ],
          "scatterternary": [
           {
            "marker": {
             "colorbar": {
              "outlinewidth": 0,
              "ticks": ""
             }
            },
            "type": "scatterternary"
           }
          ],
          "surface": [
           {
            "colorbar": {
             "outlinewidth": 0,
             "ticks": ""
            },
            "colorscale": [
             [
              0,
              "#0d0887"
             ],
             [
              0.1111111111111111,
              "#46039f"
             ],
             [
              0.2222222222222222,
              "#7201a8"
             ],
             [
              0.3333333333333333,
              "#9c179e"
             ],
             [
              0.4444444444444444,
              "#bd3786"
             ],
             [
              0.5555555555555556,
              "#d8576b"
             ],
             [
              0.6666666666666666,
              "#ed7953"
             ],
             [
              0.7777777777777778,
              "#fb9f3a"
             ],
             [
              0.8888888888888888,
              "#fdca26"
             ],
             [
              1,
              "#f0f921"
             ]
            ],
            "type": "surface"
           }
          ],
          "table": [
           {
            "cells": {
             "fill": {
              "color": "#EBF0F8"
             },
             "line": {
              "color": "white"
             }
            },
            "header": {
             "fill": {
              "color": "#C8D4E3"
             },
             "line": {
              "color": "white"
             }
            },
            "type": "table"
           }
          ]
         },
         "layout": {
          "annotationdefaults": {
           "arrowcolor": "#2a3f5f",
           "arrowhead": 0,
           "arrowwidth": 1
          },
          "autotypenumbers": "strict",
          "coloraxis": {
           "colorbar": {
            "outlinewidth": 0,
            "ticks": ""
           }
          },
          "colorscale": {
           "diverging": [
            [
             0,
             "#8e0152"
            ],
            [
             0.1,
             "#c51b7d"
            ],
            [
             0.2,
             "#de77ae"
            ],
            [
             0.3,
             "#f1b6da"
            ],
            [
             0.4,
             "#fde0ef"
            ],
            [
             0.5,
             "#f7f7f7"
            ],
            [
             0.6,
             "#e6f5d0"
            ],
            [
             0.7,
             "#b8e186"
            ],
            [
             0.8,
             "#7fbc41"
            ],
            [
             0.9,
             "#4d9221"
            ],
            [
             1,
             "#276419"
            ]
           ],
           "sequential": [
            [
             0,
             "#0d0887"
            ],
            [
             0.1111111111111111,
             "#46039f"
            ],
            [
             0.2222222222222222,
             "#7201a8"
            ],
            [
             0.3333333333333333,
             "#9c179e"
            ],
            [
             0.4444444444444444,
             "#bd3786"
            ],
            [
             0.5555555555555556,
             "#d8576b"
            ],
            [
             0.6666666666666666,
             "#ed7953"
            ],
            [
             0.7777777777777778,
             "#fb9f3a"
            ],
            [
             0.8888888888888888,
             "#fdca26"
            ],
            [
             1,
             "#f0f921"
            ]
           ],
           "sequentialminus": [
            [
             0,
             "#0d0887"
            ],
            [
             0.1111111111111111,
             "#46039f"
            ],
            [
             0.2222222222222222,
             "#7201a8"
            ],
            [
             0.3333333333333333,
             "#9c179e"
            ],
            [
             0.4444444444444444,
             "#bd3786"
            ],
            [
             0.5555555555555556,
             "#d8576b"
            ],
            [
             0.6666666666666666,
             "#ed7953"
            ],
            [
             0.7777777777777778,
             "#fb9f3a"
            ],
            [
             0.8888888888888888,
             "#fdca26"
            ],
            [
             1,
             "#f0f921"
            ]
           ]
          },
          "colorway": [
           "#636efa",
           "#EF553B",
           "#00cc96",
           "#ab63fa",
           "#FFA15A",
           "#19d3f3",
           "#FF6692",
           "#B6E880",
           "#FF97FF",
           "#FECB52"
          ],
          "font": {
           "color": "#2a3f5f"
          },
          "geo": {
           "bgcolor": "white",
           "lakecolor": "white",
           "landcolor": "white",
           "showlakes": true,
           "showland": true,
           "subunitcolor": "#C8D4E3"
          },
          "hoverlabel": {
           "align": "left"
          },
          "hovermode": "closest",
          "mapbox": {
           "style": "light"
          },
          "paper_bgcolor": "white",
          "plot_bgcolor": "white",
          "polar": {
           "angularaxis": {
            "gridcolor": "#EBF0F8",
            "linecolor": "#EBF0F8",
            "ticks": ""
           },
           "bgcolor": "white",
           "radialaxis": {
            "gridcolor": "#EBF0F8",
            "linecolor": "#EBF0F8",
            "ticks": ""
           }
          },
          "scene": {
           "xaxis": {
            "backgroundcolor": "white",
            "gridcolor": "#DFE8F3",
            "gridwidth": 2,
            "linecolor": "#EBF0F8",
            "showbackground": true,
            "ticks": "",
            "zerolinecolor": "#EBF0F8"
           },
           "yaxis": {
            "backgroundcolor": "white",
            "gridcolor": "#DFE8F3",
            "gridwidth": 2,
            "linecolor": "#EBF0F8",
            "showbackground": true,
            "ticks": "",
            "zerolinecolor": "#EBF0F8"
           },
           "zaxis": {
            "backgroundcolor": "white",
            "gridcolor": "#DFE8F3",
            "gridwidth": 2,
            "linecolor": "#EBF0F8",
            "showbackground": true,
            "ticks": "",
            "zerolinecolor": "#EBF0F8"
           }
          },
          "shapedefaults": {
           "line": {
            "color": "#2a3f5f"
           }
          },
          "ternary": {
           "aaxis": {
            "gridcolor": "#DFE8F3",
            "linecolor": "#A2B1C6",
            "ticks": ""
           },
           "baxis": {
            "gridcolor": "#DFE8F3",
            "linecolor": "#A2B1C6",
            "ticks": ""
           },
           "bgcolor": "white",
           "caxis": {
            "gridcolor": "#DFE8F3",
            "linecolor": "#A2B1C6",
            "ticks": ""
           }
          },
          "title": {
           "x": 0.05
          },
          "xaxis": {
           "automargin": true,
           "gridcolor": "#EBF0F8",
           "linecolor": "#EBF0F8",
           "ticks": "",
           "title": {
            "standoff": 15
           },
           "zerolinecolor": "#EBF0F8",
           "zerolinewidth": 2
          },
          "yaxis": {
           "automargin": true,
           "gridcolor": "#EBF0F8",
           "linecolor": "#EBF0F8",
           "ticks": "",
           "title": {
            "standoff": 15
           },
           "zerolinecolor": "#EBF0F8",
           "zerolinewidth": 2
          }
         }
        },
        "title": {
         "text": "Entropy–Complexity for data/guitar_chords/Dm (Plotly)\nDim = '6', Hop = '1'"
        },
        "width": 800,
        "xaxis": {
         "range": [
          0,
          1
         ],
         "title": {
          "text": "Normalized Permutation Entropy"
         }
        },
        "yaxis": {
         "range": [
          0,
          1
         ],
         "title": {
          "text": "Normalized Complexity"
         }
        }
       }
      }
     },
     "metadata": {},
     "output_type": "display_data"
    }
   ],
   "source": [
    "folder_path = \"data/guitar_chords/Dm\"\n",
    "dim = 6\n",
    "hop = 1\n",
    "plot_graph_ordpy(folder_path, dim, hop)"
   ]
  },
  {
   "cell_type": "code",
   "execution_count": 134,
   "metadata": {},
   "outputs": [
    {
     "name": "stderr",
     "output_type": "stream",
     "text": [
      "Processing audio files in data/guitar_chords/Em with dim 6 and hop 1: 100%|██████████| 40/40 [00:08<00:00,  4.53it/s]\n"
     ]
    },
    {
     "data": {
      "application/vnd.plotly.v1+json": {
       "config": {
        "plotlyServerURL": "https://plot.ly"
       },
       "data": [
        {
         "hovertemplate": "<b>File:</b> %{hovertext}<br><b>Entropy:</b> %{x}<br><b>Complexity:</b> %{y}<extra></extra>",
         "hovertext": [
          "Em_AcusticVince_JO_4.wav",
          "Em_AcusticVince_JO_2.wav",
          "Em_AcusticVince_JO_3.wav",
          "Em_AcusticVince_JO_1.wav",
          "Em_Classic2_Carolina_1.wav",
          "Em_ClassicVince_JO_2.wav",
          "Em_Classic3_Carolina_4.wav",
          "Em_ClassicVince_JO_3.wav",
          "Em_Classic_Jo_1.wav",
          "Em_Classic2_Carolina_2.wav",
          "Em_ClassicVince_JO_1.wav",
          "Em_Classic_Jo_3.wav",
          "Em_electric_Isabel_4.wav",
          "Em_Classic_Jo_2.wav",
          "Em_Classic2_Carolina_3.wav",
          "Em_Electric2_LInda_4..wav",
          "Em_electric_Isabel_1.wav",
          "Em_ClassicVince_JO_4.wav",
          "Em_Classic3_Carolina_3.wav",
          "Em_Classic3_Carolina_2.wav",
          "Em_Classic2_Carolina_4.wav",
          "Em_electric_Isabel_2.wav",
          "Em_Classic3_Carolina_1.wav",
          "Em_Classic_Jo_4.wav",
          "Em_electric_Isabel_3.wav",
          "Em_Electric1_LInda_4.wav",
          "Em_Electric1_LInda_1.wav",
          "Em_Electric1_LInda_3.wav",
          "Em_Electric1_LInda_2.wav",
          "Em_classical_AfonsoLemos_03.wav",
          "Em_AcousticGuitar_RodrigoMercador_4.wav",
          "Em_Electric2_LInda_2.wav",
          "Em_Electric2_LInda_3.wav",
          "Em_classical_AfonsoLemos_02.wav",
          "Em_classical_AfonsoLemos_01.wav",
          "Em_AcousticGuitar_RodrigoMercador_2.wav",
          "Em_AcousticGuitar_RodrigoMercador_3.wav",
          "Em_classical_AfonsoLemos_04.wav",
          "Em_AcousticGuitar_RodrigoMercador_1.wav",
          "Em_Electric2_LInda_1..wav"
         ],
         "marker": {
          "color": "blue",
          "line": {
           "color": "black",
           "width": 1
          },
          "size": 10
         },
         "mode": "markers",
         "name": "Data Points",
         "type": "scatter",
         "x": {
          "bdata": "hgPGAUVW0z8zxvJWwQvUP/g9n1FRHdM/ubdFjws31D8l6GLMmV7ZPxTeyYY/ttk/W22uH+ab4D+VBITDOCXTP7/AiKqsQ+M/QrcHPA033D8GP5egnSjXP9bsWttFBd8/NEHW3iJuzj+QacE7As7hP8EB712mndw/FjFacIFY5D+l+YHMjgzXP2cq2Ft9J9Q/i5z8SRCl3D90oKwkGLDdPwfJsibBMt8/OJWc1GQh2D8Bj+5V/wjYP0luF8igkeY/mNVxbMtU1T8TD7yGgADlP72x1V/VxuQ/9xEWCl0P5D9kLEhM+cDkP6ohDVp5tts/19EIaHt75D+dgoAQZOnlPzl7Y1Irp+M/IoasjDp32j963xHBmmzgP85W5B8KaeA/5KbZ9+5p4z/WeoAjPKveP1Hz24QdSeI/Zc7v0YAl5D8=",
          "dtype": "f8"
         },
         "y": {
          "bdata": "dkNIqw030D9pWQxrHIbQP+Pu7cJjGdA/5WRnli7R0D9PS/3oTU3RP4A2OM7tHtQ/qoFTScKu1T+0ym/u9wjQP1+7swKvB9E/nkHsqa960T82jl4vTWvSPwyHuMDHpdE/PHAK4G08yj8Dw4AZLQjSP3qCaWbsqNE/JxRqV+H61j9moLpyiFzQP/AjFE4qptA/iafFUvOT0j+++6nVzDvSP3ahZVt/E9Q/SCNApbeP0D/eWcIkuUHRPw2hCELgu80/ZuBI+xl5zz/LQFQJtaDUP6mswe2gS9g/HujDsRRz2D8Bnkex8DbXP5tV3HhUedE/Vt9FSjBn1T9l4Hnkq9jWP+V/VRTdHtk/ZqZr9DfK0D+EQP5dGl3SP84+nuLbydQ/40Gx8rwu1T9cIHXvxH/SP9NefmD7kdU/I+cWBOcT2T8=",
          "dtype": "f8"
         }
        },
        {
         "line": {
          "color": "red",
          "dash": "dash"
         },
         "mode": "lines",
         "name": "Maximum Complexity Boundary",
         "type": "scatter",
         "x": {
          "bdata": "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",
          "dtype": "f8"
         },
         "y": {
          "bdata": "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",
          "dtype": "f8"
         }
        },
        {
         "line": {
          "color": "green",
          "dash": "dash"
         },
         "mode": "lines",
         "name": "Minimum Complexity Boundary",
         "type": "scatter",
         "x": {
          "bdata": "AAAAAAAAAICaxf+16xqTP+jVhP1KAqI/vUTdi+gLqj/86nM1k+ewP8K3yY7ArrQ/p554aKFguD/uL+sCmwC8PzAUmEQWkb8/OC9Izu+JwT9fJ6LWLUXDP9zCdlXT+sQ/w/gEHFSrxj8NvFFLEFfIP6qV/uFY/sk/NbM6+3Khyz8sJAsvmkDNP7DF0VkC3M4/1TEXfOw50D9Eo50aIwTRP2yQ0d+2zNE/cXTxubeT0j+olffyM1nTP1t01Gg4HdQ/9H3Ou9Df1D86qBR1B6HVP9wYEyfmYNY/6J68iHUf1z8jY7eMvdzXP+DxJ3XFmNg/K+Ku5JNT2T+Dkg/tLg3aP45i3xucxdo/e8qKheB82z/HfO/OADPcP7hzvzUB6Nw/PsHXl+Wb3T86q655sU7eP6iv9gtoAN8/nDCPMAyx3z9Pw2s/UDDgP4fyuqOTh+A/ylnQS1He4D+2U/sdijThPz/0d+E+iuE/Qmx4P3Df4T8RywLEHjTiP6MEpt5KiOI/1I4I4/Tb4j9mYlIJHS/jP3Kyc27DgeM/hzlJFOjT4z/jjp7hiiXkP/qKDqKrduQ/+FfBBUrH5D/zXQehZRflP7HIz+v9ZuU/h+v4QBK25T8VRHjdoQTmP8xKV9+rUuY/IZyBRC+g5j94S2DpKu3mP6RZPYedOec/N09psoWF5z+X1RvY4dDnP/fNBjywG+g/48WR9e5l6D84trHsm6/oP9ubTta0+Og/1pYlMDdB6T+zsRI8IInpP7wOqfps0Ok//L/6JBoX6j81rmolJF3qP6I6Wg+Houo/yCN5lT7n6j+L1W/+RSvrP0CTiReYbus/5ELrJC+x6z99ysLOBPPrP0yqrgoSNOw/q/lgAE907D/z+SzosrPsPzkUuOEz8uw/IStdwMYv7T9YSNjJXmztPxjoW2Ltp+0/YoL0nmHi7T99rZWzpxvuP30tZSyoU+4/3roJ2EaK7j+hR1o3Yb/uPwiMLibM8u4/5bjgL1Ak7z8p/rF0o1PvP1Omz7BegO8/zKz4ROep7z8Ha0uLO8/vP00Cx0hS7u8/AAAAAAAA8D8=",
          "dtype": "f8"
         },
         "y": {
          "bdata": "AAAAAAAAAIDM4Y+YJlKSP3cLBINQtqA/J6zO+G52pz/N5dV3Gp6tP32fvDSTpLE/ZaqxOrdEtD8TBRfs0bW2Pz4In7ex/Lg/GLkl5iMduz9xvMwPQxq9Pxsj/6un9r4/5RS4+ENawD9oIqDe5irBPyRePBgT7sE/wQS/lIakwj+vc/D06k7DPw+0hN/Y7cM/pSqkndqBxD8oUsMvbgvFP5alVvwGi8U/hbZQMA8Bxj8sB9Pi6G3GP/hm9Qjv0cY/xNtVQ3Ytxz+YwtaMzYDHP9+iQtA+zMc/fgROaQ8QyD/crH+UgEzIP5sM0dDPgcg/ni5MNTewyD9iM3+87dfIP0a3R4cn+cg/fpI0GBYUyT+FPYaI6CjJP5yFqrfLN8k/4/HsdepAyT91afiqbUTJPygQr3h8Qsk/y77JWjw7yT/8YqBD0S7JPxf1brZdHck/SXpf3wIHyT/Z8pep4OvIP2cIg9MVzMg/PX2DAcCnyD9qhzzP+37IPyJNlN/kUcg/7m6R65UgyD8B7jDQKOvHP3iHTpu2scc/0wG3l1d0xz8XdnlYIzPHPym7isMw7sY/u1HMG5alxj+AsYYKaVnGP2W5Zai+CcY/itMEhqu2xT/kqBe0Q2DFP1J8O8uaBsU/k9Z888OpxD9Y05zr0UnEPyY2IRDX5sM/ToM6YuWAwz/Sh4uODhjDP9tB3vNjrMI/8cnSqfY9wj9N75WH18zBPxqprioXWcE/kEzz/cXiwD9sFbpA9GnAP14jtxxk3b8/msZDzB7ivj+pCIpnOOK9P53wNrHQ3bw/2BdgawfVuz8HP/Nt/Me6P/0JBcDPtrk/A3bGtKGhuD/EsyUNk4i3P1sKdB/Fa7Y/353hBlpLtT8Cb0vddCe0P1Lq0QI6ALM/PSYjeM/VsT+5+pxSXaiwP9pCy6kc8K4/hmBseCGKrD+oqte3Lh+qP+ZMTGK2r6c/w7ANazs8pT8z3wTgWMWiPzQr8GfNS6A/peLq2R2hmz/cun3T3amWP55cgtvItZE/L6gfV+WWiT8G9z+G6d9/P9Qznsa2+Wo/3KtzhX9C17w=",
          "dtype": "f8"
         }
        }
       ],
       "layout": {
        "height": 600,
        "template": {
         "data": {
          "bar": [
           {
            "error_x": {
             "color": "#2a3f5f"
            },
            "error_y": {
             "color": "#2a3f5f"
            },
            "marker": {
             "line": {
              "color": "white",
              "width": 0.5
             },
             "pattern": {
              "fillmode": "overlay",
              "size": 10,
              "solidity": 0.2
             }
            },
            "type": "bar"
           }
          ],
          "barpolar": [
           {
            "marker": {
             "line": {
              "color": "white",
              "width": 0.5
             },
             "pattern": {
              "fillmode": "overlay",
              "size": 10,
              "solidity": 0.2
             }
            },
            "type": "barpolar"
           }
          ],
          "carpet": [
           {
            "aaxis": {
             "endlinecolor": "#2a3f5f",
             "gridcolor": "#C8D4E3",
             "linecolor": "#C8D4E3",
             "minorgridcolor": "#C8D4E3",
             "startlinecolor": "#2a3f5f"
            },
            "baxis": {
             "endlinecolor": "#2a3f5f",
             "gridcolor": "#C8D4E3",
             "linecolor": "#C8D4E3",
             "minorgridcolor": "#C8D4E3",
             "startlinecolor": "#2a3f5f"
            },
            "type": "carpet"
           }
          ],
          "choropleth": [
           {
            "colorbar": {
             "outlinewidth": 0,
             "ticks": ""
            },
            "type": "choropleth"
           }
          ],
          "contour": [
           {
            "colorbar": {
             "outlinewidth": 0,
             "ticks": ""
            },
            "colorscale": [
             [
              0,
              "#0d0887"
             ],
             [
              0.1111111111111111,
              "#46039f"
             ],
             [
              0.2222222222222222,
              "#7201a8"
             ],
             [
              0.3333333333333333,
              "#9c179e"
             ],
             [
              0.4444444444444444,
              "#bd3786"
             ],
             [
              0.5555555555555556,
              "#d8576b"
             ],
             [
              0.6666666666666666,
              "#ed7953"
             ],
             [
              0.7777777777777778,
              "#fb9f3a"
             ],
             [
              0.8888888888888888,
              "#fdca26"
             ],
             [
              1,
              "#f0f921"
             ]
            ],
            "type": "contour"
           }
          ],
          "contourcarpet": [
           {
            "colorbar": {
             "outlinewidth": 0,
             "ticks": ""
            },
            "type": "contourcarpet"
           }
          ],
          "heatmap": [
           {
            "colorbar": {
             "outlinewidth": 0,
             "ticks": ""
            },
            "colorscale": [
             [
              0,
              "#0d0887"
             ],
             [
              0.1111111111111111,
              "#46039f"
             ],
             [
              0.2222222222222222,
              "#7201a8"
             ],
             [
              0.3333333333333333,
              "#9c179e"
             ],
             [
              0.4444444444444444,
              "#bd3786"
             ],
             [
              0.5555555555555556,
              "#d8576b"
             ],
             [
              0.6666666666666666,
              "#ed7953"
             ],
             [
              0.7777777777777778,
              "#fb9f3a"
             ],
             [
              0.8888888888888888,
              "#fdca26"
             ],
             [
              1,
              "#f0f921"
             ]
            ],
            "type": "heatmap"
           }
          ],
          "histogram": [
           {
            "marker": {
             "pattern": {
              "fillmode": "overlay",
              "size": 10,
              "solidity": 0.2
             }
            },
            "type": "histogram"
           }
          ],
          "histogram2d": [
           {
            "colorbar": {
             "outlinewidth": 0,
             "ticks": ""
            },
            "colorscale": [
             [
              0,
              "#0d0887"
             ],
             [
              0.1111111111111111,
              "#46039f"
             ],
             [
              0.2222222222222222,
              "#7201a8"
             ],
             [
              0.3333333333333333,
              "#9c179e"
             ],
             [
              0.4444444444444444,
              "#bd3786"
             ],
             [
              0.5555555555555556,
              "#d8576b"
             ],
             [
              0.6666666666666666,
              "#ed7953"
             ],
             [
              0.7777777777777778,
              "#fb9f3a"
             ],
             [
              0.8888888888888888,
              "#fdca26"
             ],
             [
              1,
              "#f0f921"
             ]
            ],
            "type": "histogram2d"
           }
          ],
          "histogram2dcontour": [
           {
            "colorbar": {
             "outlinewidth": 0,
             "ticks": ""
            },
            "colorscale": [
             [
              0,
              "#0d0887"
             ],
             [
              0.1111111111111111,
              "#46039f"
             ],
             [
              0.2222222222222222,
              "#7201a8"
             ],
             [
              0.3333333333333333,
              "#9c179e"
             ],
             [
              0.4444444444444444,
              "#bd3786"
             ],
             [
              0.5555555555555556,
              "#d8576b"
             ],
             [
              0.6666666666666666,
              "#ed7953"
             ],
             [
              0.7777777777777778,
              "#fb9f3a"
             ],
             [
              0.8888888888888888,
              "#fdca26"
             ],
             [
              1,
              "#f0f921"
             ]
            ],
            "type": "histogram2dcontour"
           }
          ],
          "mesh3d": [
           {
            "colorbar": {
             "outlinewidth": 0,
             "ticks": ""
            },
            "type": "mesh3d"
           }
          ],
          "parcoords": [
           {
            "line": {
             "colorbar": {
              "outlinewidth": 0,
              "ticks": ""
             }
            },
            "type": "parcoords"
           }
          ],
          "pie": [
           {
            "automargin": true,
            "type": "pie"
           }
          ],
          "scatter": [
           {
            "fillpattern": {
             "fillmode": "overlay",
             "size": 10,
             "solidity": 0.2
            },
            "type": "scatter"
           }
          ],
          "scatter3d": [
           {
            "line": {
             "colorbar": {
              "outlinewidth": 0,
              "ticks": ""
             }
            },
            "marker": {
             "colorbar": {
              "outlinewidth": 0,
              "ticks": ""
             }
            },
            "type": "scatter3d"
           }
          ],
          "scattercarpet": [
           {
            "marker": {
             "colorbar": {
              "outlinewidth": 0,
              "ticks": ""
             }
            },
            "type": "scattercarpet"
           }
          ],
          "scattergeo": [
           {
            "marker": {
             "colorbar": {
              "outlinewidth": 0,
              "ticks": ""
             }
            },
            "type": "scattergeo"
           }
          ],
          "scattergl": [
           {
            "marker": {
             "colorbar": {
              "outlinewidth": 0,
              "ticks": ""
             }
            },
            "type": "scattergl"
           }
          ],
          "scattermap": [
           {
            "marker": {
             "colorbar": {
              "outlinewidth": 0,
              "ticks": ""
             }
            },
            "type": "scattermap"
           }
          ],
          "scattermapbox": [
           {
            "marker": {
             "colorbar": {
              "outlinewidth": 0,
              "ticks": ""
             }
            },
            "type": "scattermapbox"
           }
          ],
          "scatterpolar": [
           {
            "marker": {
             "colorbar": {
              "outlinewidth": 0,
              "ticks": ""
             }
            },
            "type": "scatterpolar"
           }
          ],
          "scatterpolargl": [
           {
            "marker": {
             "colorbar": {
              "outlinewidth": 0,
              "ticks": ""
             }
            },
            "type": "scatterpolargl"
           }
          ],
          "scatterternary": [
           {
            "marker": {
             "colorbar": {
              "outlinewidth": 0,
              "ticks": ""
             }
            },
            "type": "scatterternary"
           }
          ],
          "surface": [
           {
            "colorbar": {
             "outlinewidth": 0,
             "ticks": ""
            },
            "colorscale": [
             [
              0,
              "#0d0887"
             ],
             [
              0.1111111111111111,
              "#46039f"
             ],
             [
              0.2222222222222222,
              "#7201a8"
             ],
             [
              0.3333333333333333,
              "#9c179e"
             ],
             [
              0.4444444444444444,
              "#bd3786"
             ],
             [
              0.5555555555555556,
              "#d8576b"
             ],
             [
              0.6666666666666666,
              "#ed7953"
             ],
             [
              0.7777777777777778,
              "#fb9f3a"
             ],
             [
              0.8888888888888888,
              "#fdca26"
             ],
             [
              1,
              "#f0f921"
             ]
            ],
            "type": "surface"
           }
          ],
          "table": [
           {
            "cells": {
             "fill": {
              "color": "#EBF0F8"
             },
             "line": {
              "color": "white"
             }
            },
            "header": {
             "fill": {
              "color": "#C8D4E3"
             },
             "line": {
              "color": "white"
             }
            },
            "type": "table"
           }
          ]
         },
         "layout": {
          "annotationdefaults": {
           "arrowcolor": "#2a3f5f",
           "arrowhead": 0,
           "arrowwidth": 1
          },
          "autotypenumbers": "strict",
          "coloraxis": {
           "colorbar": {
            "outlinewidth": 0,
            "ticks": ""
           }
          },
          "colorscale": {
           "diverging": [
            [
             0,
             "#8e0152"
            ],
            [
             0.1,
             "#c51b7d"
            ],
            [
             0.2,
             "#de77ae"
            ],
            [
             0.3,
             "#f1b6da"
            ],
            [
             0.4,
             "#fde0ef"
            ],
            [
             0.5,
             "#f7f7f7"
            ],
            [
             0.6,
             "#e6f5d0"
            ],
            [
             0.7,
             "#b8e186"
            ],
            [
             0.8,
             "#7fbc41"
            ],
            [
             0.9,
             "#4d9221"
            ],
            [
             1,
             "#276419"
            ]
           ],
           "sequential": [
            [
             0,
             "#0d0887"
            ],
            [
             0.1111111111111111,
             "#46039f"
            ],
            [
             0.2222222222222222,
             "#7201a8"
            ],
            [
             0.3333333333333333,
             "#9c179e"
            ],
            [
             0.4444444444444444,
             "#bd3786"
            ],
            [
             0.5555555555555556,
             "#d8576b"
            ],
            [
             0.6666666666666666,
             "#ed7953"
            ],
            [
             0.7777777777777778,
             "#fb9f3a"
            ],
            [
             0.8888888888888888,
             "#fdca26"
            ],
            [
             1,
             "#f0f921"
            ]
           ],
           "sequentialminus": [
            [
             0,
             "#0d0887"
            ],
            [
             0.1111111111111111,
             "#46039f"
            ],
            [
             0.2222222222222222,
             "#7201a8"
            ],
            [
             0.3333333333333333,
             "#9c179e"
            ],
            [
             0.4444444444444444,
             "#bd3786"
            ],
            [
             0.5555555555555556,
             "#d8576b"
            ],
            [
             0.6666666666666666,
             "#ed7953"
            ],
            [
             0.7777777777777778,
             "#fb9f3a"
            ],
            [
             0.8888888888888888,
             "#fdca26"
            ],
            [
             1,
             "#f0f921"
            ]
           ]
          },
          "colorway": [
           "#636efa",
           "#EF553B",
           "#00cc96",
           "#ab63fa",
           "#FFA15A",
           "#19d3f3",
           "#FF6692",
           "#B6E880",
           "#FF97FF",
           "#FECB52"
          ],
          "font": {
           "color": "#2a3f5f"
          },
          "geo": {
           "bgcolor": "white",
           "lakecolor": "white",
           "landcolor": "white",
           "showlakes": true,
           "showland": true,
           "subunitcolor": "#C8D4E3"
          },
          "hoverlabel": {
           "align": "left"
          },
          "hovermode": "closest",
          "mapbox": {
           "style": "light"
          },
          "paper_bgcolor": "white",
          "plot_bgcolor": "white",
          "polar": {
           "angularaxis": {
            "gridcolor": "#EBF0F8",
            "linecolor": "#EBF0F8",
            "ticks": ""
           },
           "bgcolor": "white",
           "radialaxis": {
            "gridcolor": "#EBF0F8",
            "linecolor": "#EBF0F8",
            "ticks": ""
           }
          },
          "scene": {
           "xaxis": {
            "backgroundcolor": "white",
            "gridcolor": "#DFE8F3",
            "gridwidth": 2,
            "linecolor": "#EBF0F8",
            "showbackground": true,
            "ticks": "",
            "zerolinecolor": "#EBF0F8"
           },
           "yaxis": {
            "backgroundcolor": "white",
            "gridcolor": "#DFE8F3",
            "gridwidth": 2,
            "linecolor": "#EBF0F8",
            "showbackground": true,
            "ticks": "",
            "zerolinecolor": "#EBF0F8"
           },
           "zaxis": {
            "backgroundcolor": "white",
            "gridcolor": "#DFE8F3",
            "gridwidth": 2,
            "linecolor": "#EBF0F8",
            "showbackground": true,
            "ticks": "",
            "zerolinecolor": "#EBF0F8"
           }
          },
          "shapedefaults": {
           "line": {
            "color": "#2a3f5f"
           }
          },
          "ternary": {
           "aaxis": {
            "gridcolor": "#DFE8F3",
            "linecolor": "#A2B1C6",
            "ticks": ""
           },
           "baxis": {
            "gridcolor": "#DFE8F3",
            "linecolor": "#A2B1C6",
            "ticks": ""
           },
           "bgcolor": "white",
           "caxis": {
            "gridcolor": "#DFE8F3",
            "linecolor": "#A2B1C6",
            "ticks": ""
           }
          },
          "title": {
           "x": 0.05
          },
          "xaxis": {
           "automargin": true,
           "gridcolor": "#EBF0F8",
           "linecolor": "#EBF0F8",
           "ticks": "",
           "title": {
            "standoff": 15
           },
           "zerolinecolor": "#EBF0F8",
           "zerolinewidth": 2
          },
          "yaxis": {
           "automargin": true,
           "gridcolor": "#EBF0F8",
           "linecolor": "#EBF0F8",
           "ticks": "",
           "title": {
            "standoff": 15
           },
           "zerolinecolor": "#EBF0F8",
           "zerolinewidth": 2
          }
         }
        },
        "title": {
         "text": "Entropy–Complexity for data/guitar_chords/Em (Plotly)\nDim = '6', Hop = '1'"
        },
        "width": 800,
        "xaxis": {
         "range": [
          0,
          1
         ],
         "title": {
          "text": "Normalized Permutation Entropy"
         }
        },
        "yaxis": {
         "range": [
          0,
          1
         ],
         "title": {
          "text": "Normalized Complexity"
         }
        }
       }
      }
     },
     "metadata": {},
     "output_type": "display_data"
    }
   ],
   "source": [
    "folder_path = \"data/guitar_chords/Em\"\n",
    "dim = 6\n",
    "hop = 1\n",
    "plot_graph_ordpy(folder_path, dim, hop)"
   ]
  },
  {
   "cell_type": "code",
   "execution_count": 135,
   "metadata": {},
   "outputs": [
    {
     "name": "stderr",
     "output_type": "stream",
     "text": [
      "Processing audio files in data/guitar_chords/F with dim 6 and hop 1: 100%|██████████| 40/40 [00:08<00:00,  4.77it/s]\n"
     ]
    },
    {
     "data": {
      "application/vnd.plotly.v1+json": {
       "config": {
        "plotlyServerURL": "https://plot.ly"
       },
       "data": [
        {
         "hovertemplate": "<b>File:</b> %{hovertext}<br><b>Entropy:</b> %{x}<br><b>Complexity:</b> %{y}<extra></extra>",
         "hovertext": [
          "F_classical_AfonsoLemos_-01.wav",
          "F_ClassicVince_JO_4.wav",
          "F_electric_Isabel_1.wav",
          "F_electric_Isabel_3.wav",
          "F_classical_AfonsoLemos_-03.wav",
          "F_classical_AfonsoLemos_-02.wav",
          "F_electric_Isabel_2.wav",
          "F_ClassicVince_JO_3.wav",
          "F_ClassicVince_JO_2.wav",
          "F_classical_AfonsoLemos_-04.wav",
          "F_electric_Isabel_4.wav",
          "F_ClassicVince_JO_1.wav",
          "F_AcusticVince_JO_3.wav",
          "F_AcusticVince_JO_2.wav",
          "F_AcusticVince_JO_1.wav",
          "F_AcusticVince_JO_4.wav",
          "F_AcousticGuitar_RodrigoMercador_2.wav",
          "F_AcousticGuitar_RodrigoMercador_3.wav",
          "F_Electric2_LInda_4.wav",
          "F_AcousticGuitar_RodrigoMercador_1.wav",
          "F_Classic_Jo_2.wav",
          "F_Classic_Jo_3.wav",
          "F_Electric2_LInda_3.wav",
          "F_AcousticGuitar_RodrigoMercador_4.wav",
          "F_Electric2_LInda_2.wav",
          "F_Classic_Jo_4.wav",
          "F_Electric2_LInda_1.wav",
          "F_Electric1_LInda_1.wav",
          "F_Classic3_Carolina_1.wav",
          "F_Classic2_Carolina_4.wav",
          "F_Electric1_LInda_2.wav",
          "F_Classic3_Carolina_2.wav",
          "F_Classic3_Carolina_3.wav",
          "F_Electric1_LInda_3.wav",
          "F_Classic2_Carolina_3.wav",
          "F_Classic_Jo_1..wav",
          "F_Classic2_Carolina_2.wav",
          "F_Electric1_LInda_4.wav",
          "F_Classic3_Carolina_4.wav",
          "F_Classic2_Carolina_1.wav"
         ],
         "marker": {
          "color": "blue",
          "line": {
           "color": "black",
           "width": 1
          },
          "size": 10
         },
         "mode": "markers",
         "name": "Data Points",
         "type": "scatter",
         "x": {
          "bdata": "nbYKVPI44T++w8lhVsbSPzDe4q/VbdQ/0tf0S09MzD+M2k3Qe/XgP9EXdHVd3OA/J/nS4Uvv0z8XWmA0mYPTP5jhc0Rz1dE/Yye9y02k4z+DPo4uMhPOP5GOnul82NI/Cv7pVhaP1D9wq+K8J3LVP+4TNTUWctY/2SmRwFmHzj+bk936SIzkP5d3wX5vcOU/RwOOKePM6T88vDAKA2XjP/47TFUKZ+A/fnKiNVek3T8FVYfmYL3mPxLjPUYiuuQ/QJVx+pY46j9qoF1Q0xjhPxtJIpY5NOc/31ndF8gS6D+ko2xi2RTVPwGWXQtaS94/ytUOrOE36D9zy3Q37AfaPz9G+LaZ6tU/yo6aIyZM5j+10iAGSvzYPxONdHw82OA/K3ykxWr72j+vjgkpaOLoPyw2fKd6A9s/99yZs2oY2T8=",
          "dtype": "f8"
         },
         "y": {
          "bdata": "zC4LAfrf0j9SNza8RGXPP9Lzi2Kfk84/McTLwrvuyD8rT/g0qhnTP47k/3WO/dI/Wk5lQJs4zj+GCi90GB/QPxlqSQkQ180/mXcZIB+l0T8kMAKv3enJP0R2coW+Qc8/VaiCMrPq0D9DeZEHVoTRP6iroqpOatI/DEnMRQ9Vyj/K3AAIi/vUP4rrgr6fGtU/RwuZw0b30D9e96E0vBzWPzZ9AcA5NNI/p/B2ofry0T95ro3gf8DWP1W+59sYb9Y/XfMBK1CZzz/olWvCFvrSP6b04bYIEdY/g9nQ9IDx0j9JaFPxTKjQPzs8Rn8axNM/fn1H/K//0j/bT6PJuMPRP6nNGzcW/dA/K5Wxn78m1j+GfZlXI3zRP4tjDhM2XtE/pW07EhXF0T8Mm6rtli3RP/iYFYUvY9M/zQczDuFo0T8=",
          "dtype": "f8"
         }
        },
        {
         "line": {
          "color": "red",
          "dash": "dash"
         },
         "mode": "lines",
         "name": "Maximum Complexity Boundary",
         "type": "scatter",
         "x": {
          "bdata": "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",
          "dtype": "f8"
         },
         "y": {
          "bdata": "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",
          "dtype": "f8"
         }
        },
        {
         "line": {
          "color": "green",
          "dash": "dash"
         },
         "mode": "lines",
         "name": "Minimum Complexity Boundary",
         "type": "scatter",
         "x": {
          "bdata": "AAAAAAAAAICaxf+16xqTP+jVhP1KAqI/vUTdi+gLqj/86nM1k+ewP8K3yY7ArrQ/p554aKFguD/uL+sCmwC8PzAUmEQWkb8/OC9Izu+JwT9fJ6LWLUXDP9zCdlXT+sQ/w/gEHFSrxj8NvFFLEFfIP6qV/uFY/sk/NbM6+3Khyz8sJAsvmkDNP7DF0VkC3M4/1TEXfOw50D9Eo50aIwTRP2yQ0d+2zNE/cXTxubeT0j+olffyM1nTP1t01Gg4HdQ/9H3Ou9Df1D86qBR1B6HVP9wYEyfmYNY/6J68iHUf1z8jY7eMvdzXP+DxJ3XFmNg/K+Ku5JNT2T+Dkg/tLg3aP45i3xucxdo/e8qKheB82z/HfO/OADPcP7hzvzUB6Nw/PsHXl+Wb3T86q655sU7eP6iv9gtoAN8/nDCPMAyx3z9Pw2s/UDDgP4fyuqOTh+A/ylnQS1He4D+2U/sdijThPz/0d+E+iuE/Qmx4P3Df4T8RywLEHjTiP6MEpt5KiOI/1I4I4/Tb4j9mYlIJHS/jP3Kyc27DgeM/hzlJFOjT4z/jjp7hiiXkP/qKDqKrduQ/+FfBBUrH5D/zXQehZRflP7HIz+v9ZuU/h+v4QBK25T8VRHjdoQTmP8xKV9+rUuY/IZyBRC+g5j94S2DpKu3mP6RZPYedOec/N09psoWF5z+X1RvY4dDnP/fNBjywG+g/48WR9e5l6D84trHsm6/oP9ubTta0+Og/1pYlMDdB6T+zsRI8IInpP7wOqfps0Ok//L/6JBoX6j81rmolJF3qP6I6Wg+Houo/yCN5lT7n6j+L1W/+RSvrP0CTiReYbus/5ELrJC+x6z99ysLOBPPrP0yqrgoSNOw/q/lgAE907D/z+SzosrPsPzkUuOEz8uw/IStdwMYv7T9YSNjJXmztPxjoW2Ltp+0/YoL0nmHi7T99rZWzpxvuP30tZSyoU+4/3roJ2EaK7j+hR1o3Yb/uPwiMLibM8u4/5bjgL1Ak7z8p/rF0o1PvP1Omz7BegO8/zKz4ROep7z8Ha0uLO8/vP00Cx0hS7u8/AAAAAAAA8D8=",
          "dtype": "f8"
         },
         "y": {
          "bdata": "AAAAAAAAAIDM4Y+YJlKSP3cLBINQtqA/J6zO+G52pz/N5dV3Gp6tP32fvDSTpLE/ZaqxOrdEtD8TBRfs0bW2Pz4In7ex/Lg/GLkl5iMduz9xvMwPQxq9Pxsj/6un9r4/5RS4+ENawD9oIqDe5irBPyRePBgT7sE/wQS/lIakwj+vc/D06k7DPw+0hN/Y7cM/pSqkndqBxD8oUsMvbgvFP5alVvwGi8U/hbZQMA8Bxj8sB9Pi6G3GP/hm9Qjv0cY/xNtVQ3Ytxz+YwtaMzYDHP9+iQtA+zMc/fgROaQ8QyD/crH+UgEzIP5sM0dDPgcg/ni5MNTewyD9iM3+87dfIP0a3R4cn+cg/fpI0GBYUyT+FPYaI6CjJP5yFqrfLN8k/4/HsdepAyT91afiqbUTJPygQr3h8Qsk/y77JWjw7yT/8YqBD0S7JPxf1brZdHck/SXpf3wIHyT/Z8pep4OvIP2cIg9MVzMg/PX2DAcCnyD9qhzzP+37IPyJNlN/kUcg/7m6R65UgyD8B7jDQKOvHP3iHTpu2scc/0wG3l1d0xz8XdnlYIzPHPym7isMw7sY/u1HMG5alxj+AsYYKaVnGP2W5Zai+CcY/itMEhqu2xT/kqBe0Q2DFP1J8O8uaBsU/k9Z888OpxD9Y05zr0UnEPyY2IRDX5sM/ToM6YuWAwz/Sh4uODhjDP9tB3vNjrMI/8cnSqfY9wj9N75WH18zBPxqprioXWcE/kEzz/cXiwD9sFbpA9GnAP14jtxxk3b8/msZDzB7ivj+pCIpnOOK9P53wNrHQ3bw/2BdgawfVuz8HP/Nt/Me6P/0JBcDPtrk/A3bGtKGhuD/EsyUNk4i3P1sKdB/Fa7Y/353hBlpLtT8Cb0vddCe0P1Lq0QI6ALM/PSYjeM/VsT+5+pxSXaiwP9pCy6kc8K4/hmBseCGKrD+oqte3Lh+qP+ZMTGK2r6c/w7ANazs8pT8z3wTgWMWiPzQr8GfNS6A/peLq2R2hmz/cun3T3amWP55cgtvItZE/L6gfV+WWiT8G9z+G6d9/P9Qznsa2+Wo/3KtzhX9C17w=",
          "dtype": "f8"
         }
        }
       ],
       "layout": {
        "height": 600,
        "template": {
         "data": {
          "bar": [
           {
            "error_x": {
             "color": "#2a3f5f"
            },
            "error_y": {
             "color": "#2a3f5f"
            },
            "marker": {
             "line": {
              "color": "white",
              "width": 0.5
             },
             "pattern": {
              "fillmode": "overlay",
              "size": 10,
              "solidity": 0.2
             }
            },
            "type": "bar"
           }
          ],
          "barpolar": [
           {
            "marker": {
             "line": {
              "color": "white",
              "width": 0.5
             },
             "pattern": {
              "fillmode": "overlay",
              "size": 10,
              "solidity": 0.2
             }
            },
            "type": "barpolar"
           }
          ],
          "carpet": [
           {
            "aaxis": {
             "endlinecolor": "#2a3f5f",
             "gridcolor": "#C8D4E3",
             "linecolor": "#C8D4E3",
             "minorgridcolor": "#C8D4E3",
             "startlinecolor": "#2a3f5f"
            },
            "baxis": {
             "endlinecolor": "#2a3f5f",
             "gridcolor": "#C8D4E3",
             "linecolor": "#C8D4E3",
             "minorgridcolor": "#C8D4E3",
             "startlinecolor": "#2a3f5f"
            },
            "type": "carpet"
           }
          ],
          "choropleth": [
           {
            "colorbar": {
             "outlinewidth": 0,
             "ticks": ""
            },
            "type": "choropleth"
           }
          ],
          "contour": [
           {
            "colorbar": {
             "outlinewidth": 0,
             "ticks": ""
            },
            "colorscale": [
             [
              0,
              "#0d0887"
             ],
             [
              0.1111111111111111,
              "#46039f"
             ],
             [
              0.2222222222222222,
              "#7201a8"
             ],
             [
              0.3333333333333333,
              "#9c179e"
             ],
             [
              0.4444444444444444,
              "#bd3786"
             ],
             [
              0.5555555555555556,
              "#d8576b"
             ],
             [
              0.6666666666666666,
              "#ed7953"
             ],
             [
              0.7777777777777778,
              "#fb9f3a"
             ],
             [
              0.8888888888888888,
              "#fdca26"
             ],
             [
              1,
              "#f0f921"
             ]
            ],
            "type": "contour"
           }
          ],
          "contourcarpet": [
           {
            "colorbar": {
             "outlinewidth": 0,
             "ticks": ""
            },
            "type": "contourcarpet"
           }
          ],
          "heatmap": [
           {
            "colorbar": {
             "outlinewidth": 0,
             "ticks": ""
            },
            "colorscale": [
             [
              0,
              "#0d0887"
             ],
             [
              0.1111111111111111,
              "#46039f"
             ],
             [
              0.2222222222222222,
              "#7201a8"
             ],
             [
              0.3333333333333333,
              "#9c179e"
             ],
             [
              0.4444444444444444,
              "#bd3786"
             ],
             [
              0.5555555555555556,
              "#d8576b"
             ],
             [
              0.6666666666666666,
              "#ed7953"
             ],
             [
              0.7777777777777778,
              "#fb9f3a"
             ],
             [
              0.8888888888888888,
              "#fdca26"
             ],
             [
              1,
              "#f0f921"
             ]
            ],
            "type": "heatmap"
           }
          ],
          "histogram": [
           {
            "marker": {
             "pattern": {
              "fillmode": "overlay",
              "size": 10,
              "solidity": 0.2
             }
            },
            "type": "histogram"
           }
          ],
          "histogram2d": [
           {
            "colorbar": {
             "outlinewidth": 0,
             "ticks": ""
            },
            "colorscale": [
             [
              0,
              "#0d0887"
             ],
             [
              0.1111111111111111,
              "#46039f"
             ],
             [
              0.2222222222222222,
              "#7201a8"
             ],
             [
              0.3333333333333333,
              "#9c179e"
             ],
             [
              0.4444444444444444,
              "#bd3786"
             ],
             [
              0.5555555555555556,
              "#d8576b"
             ],
             [
              0.6666666666666666,
              "#ed7953"
             ],
             [
              0.7777777777777778,
              "#fb9f3a"
             ],
             [
              0.8888888888888888,
              "#fdca26"
             ],
             [
              1,
              "#f0f921"
             ]
            ],
            "type": "histogram2d"
           }
          ],
          "histogram2dcontour": [
           {
            "colorbar": {
             "outlinewidth": 0,
             "ticks": ""
            },
            "colorscale": [
             [
              0,
              "#0d0887"
             ],
             [
              0.1111111111111111,
              "#46039f"
             ],
             [
              0.2222222222222222,
              "#7201a8"
             ],
             [
              0.3333333333333333,
              "#9c179e"
             ],
             [
              0.4444444444444444,
              "#bd3786"
             ],
             [
              0.5555555555555556,
              "#d8576b"
             ],
             [
              0.6666666666666666,
              "#ed7953"
             ],
             [
              0.7777777777777778,
              "#fb9f3a"
             ],
             [
              0.8888888888888888,
              "#fdca26"
             ],
             [
              1,
              "#f0f921"
             ]
            ],
            "type": "histogram2dcontour"
           }
          ],
          "mesh3d": [
           {
            "colorbar": {
             "outlinewidth": 0,
             "ticks": ""
            },
            "type": "mesh3d"
           }
          ],
          "parcoords": [
           {
            "line": {
             "colorbar": {
              "outlinewidth": 0,
              "ticks": ""
             }
            },
            "type": "parcoords"
           }
          ],
          "pie": [
           {
            "automargin": true,
            "type": "pie"
           }
          ],
          "scatter": [
           {
            "fillpattern": {
             "fillmode": "overlay",
             "size": 10,
             "solidity": 0.2
            },
            "type": "scatter"
           }
          ],
          "scatter3d": [
           {
            "line": {
             "colorbar": {
              "outlinewidth": 0,
              "ticks": ""
             }
            },
            "marker": {
             "colorbar": {
              "outlinewidth": 0,
              "ticks": ""
             }
            },
            "type": "scatter3d"
           }
          ],
          "scattercarpet": [
           {
            "marker": {
             "colorbar": {
              "outlinewidth": 0,
              "ticks": ""
             }
            },
            "type": "scattercarpet"
           }
          ],
          "scattergeo": [
           {
            "marker": {
             "colorbar": {
              "outlinewidth": 0,
              "ticks": ""
             }
            },
            "type": "scattergeo"
           }
          ],
          "scattergl": [
           {
            "marker": {
             "colorbar": {
              "outlinewidth": 0,
              "ticks": ""
             }
            },
            "type": "scattergl"
           }
          ],
          "scattermap": [
           {
            "marker": {
             "colorbar": {
              "outlinewidth": 0,
              "ticks": ""
             }
            },
            "type": "scattermap"
           }
          ],
          "scattermapbox": [
           {
            "marker": {
             "colorbar": {
              "outlinewidth": 0,
              "ticks": ""
             }
            },
            "type": "scattermapbox"
           }
          ],
          "scatterpolar": [
           {
            "marker": {
             "colorbar": {
              "outlinewidth": 0,
              "ticks": ""
             }
            },
            "type": "scatterpolar"
           }
          ],
          "scatterpolargl": [
           {
            "marker": {
             "colorbar": {
              "outlinewidth": 0,
              "ticks": ""
             }
            },
            "type": "scatterpolargl"
           }
          ],
          "scatterternary": [
           {
            "marker": {
             "colorbar": {
              "outlinewidth": 0,
              "ticks": ""
             }
            },
            "type": "scatterternary"
           }
          ],
          "surface": [
           {
            "colorbar": {
             "outlinewidth": 0,
             "ticks": ""
            },
            "colorscale": [
             [
              0,
              "#0d0887"
             ],
             [
              0.1111111111111111,
              "#46039f"
             ],
             [
              0.2222222222222222,
              "#7201a8"
             ],
             [
              0.3333333333333333,
              "#9c179e"
             ],
             [
              0.4444444444444444,
              "#bd3786"
             ],
             [
              0.5555555555555556,
              "#d8576b"
             ],
             [
              0.6666666666666666,
              "#ed7953"
             ],
             [
              0.7777777777777778,
              "#fb9f3a"
             ],
             [
              0.8888888888888888,
              "#fdca26"
             ],
             [
              1,
              "#f0f921"
             ]
            ],
            "type": "surface"
           }
          ],
          "table": [
           {
            "cells": {
             "fill": {
              "color": "#EBF0F8"
             },
             "line": {
              "color": "white"
             }
            },
            "header": {
             "fill": {
              "color": "#C8D4E3"
             },
             "line": {
              "color": "white"
             }
            },
            "type": "table"
           }
          ]
         },
         "layout": {
          "annotationdefaults": {
           "arrowcolor": "#2a3f5f",
           "arrowhead": 0,
           "arrowwidth": 1
          },
          "autotypenumbers": "strict",
          "coloraxis": {
           "colorbar": {
            "outlinewidth": 0,
            "ticks": ""
           }
          },
          "colorscale": {
           "diverging": [
            [
             0,
             "#8e0152"
            ],
            [
             0.1,
             "#c51b7d"
            ],
            [
             0.2,
             "#de77ae"
            ],
            [
             0.3,
             "#f1b6da"
            ],
            [
             0.4,
             "#fde0ef"
            ],
            [
             0.5,
             "#f7f7f7"
            ],
            [
             0.6,
             "#e6f5d0"
            ],
            [
             0.7,
             "#b8e186"
            ],
            [
             0.8,
             "#7fbc41"
            ],
            [
             0.9,
             "#4d9221"
            ],
            [
             1,
             "#276419"
            ]
           ],
           "sequential": [
            [
             0,
             "#0d0887"
            ],
            [
             0.1111111111111111,
             "#46039f"
            ],
            [
             0.2222222222222222,
             "#7201a8"
            ],
            [
             0.3333333333333333,
             "#9c179e"
            ],
            [
             0.4444444444444444,
             "#bd3786"
            ],
            [
             0.5555555555555556,
             "#d8576b"
            ],
            [
             0.6666666666666666,
             "#ed7953"
            ],
            [
             0.7777777777777778,
             "#fb9f3a"
            ],
            [
             0.8888888888888888,
             "#fdca26"
            ],
            [
             1,
             "#f0f921"
            ]
           ],
           "sequentialminus": [
            [
             0,
             "#0d0887"
            ],
            [
             0.1111111111111111,
             "#46039f"
            ],
            [
             0.2222222222222222,
             "#7201a8"
            ],
            [
             0.3333333333333333,
             "#9c179e"
            ],
            [
             0.4444444444444444,
             "#bd3786"
            ],
            [
             0.5555555555555556,
             "#d8576b"
            ],
            [
             0.6666666666666666,
             "#ed7953"
            ],
            [
             0.7777777777777778,
             "#fb9f3a"
            ],
            [
             0.8888888888888888,
             "#fdca26"
            ],
            [
             1,
             "#f0f921"
            ]
           ]
          },
          "colorway": [
           "#636efa",
           "#EF553B",
           "#00cc96",
           "#ab63fa",
           "#FFA15A",
           "#19d3f3",
           "#FF6692",
           "#B6E880",
           "#FF97FF",
           "#FECB52"
          ],
          "font": {
           "color": "#2a3f5f"
          },
          "geo": {
           "bgcolor": "white",
           "lakecolor": "white",
           "landcolor": "white",
           "showlakes": true,
           "showland": true,
           "subunitcolor": "#C8D4E3"
          },
          "hoverlabel": {
           "align": "left"
          },
          "hovermode": "closest",
          "mapbox": {
           "style": "light"
          },
          "paper_bgcolor": "white",
          "plot_bgcolor": "white",
          "polar": {
           "angularaxis": {
            "gridcolor": "#EBF0F8",
            "linecolor": "#EBF0F8",
            "ticks": ""
           },
           "bgcolor": "white",
           "radialaxis": {
            "gridcolor": "#EBF0F8",
            "linecolor": "#EBF0F8",
            "ticks": ""
           }
          },
          "scene": {
           "xaxis": {
            "backgroundcolor": "white",
            "gridcolor": "#DFE8F3",
            "gridwidth": 2,
            "linecolor": "#EBF0F8",
            "showbackground": true,
            "ticks": "",
            "zerolinecolor": "#EBF0F8"
           },
           "yaxis": {
            "backgroundcolor": "white",
            "gridcolor": "#DFE8F3",
            "gridwidth": 2,
            "linecolor": "#EBF0F8",
            "showbackground": true,
            "ticks": "",
            "zerolinecolor": "#EBF0F8"
           },
           "zaxis": {
            "backgroundcolor": "white",
            "gridcolor": "#DFE8F3",
            "gridwidth": 2,
            "linecolor": "#EBF0F8",
            "showbackground": true,
            "ticks": "",
            "zerolinecolor": "#EBF0F8"
           }
          },
          "shapedefaults": {
           "line": {
            "color": "#2a3f5f"
           }
          },
          "ternary": {
           "aaxis": {
            "gridcolor": "#DFE8F3",
            "linecolor": "#A2B1C6",
            "ticks": ""
           },
           "baxis": {
            "gridcolor": "#DFE8F3",
            "linecolor": "#A2B1C6",
            "ticks": ""
           },
           "bgcolor": "white",
           "caxis": {
            "gridcolor": "#DFE8F3",
            "linecolor": "#A2B1C6",
            "ticks": ""
           }
          },
          "title": {
           "x": 0.05
          },
          "xaxis": {
           "automargin": true,
           "gridcolor": "#EBF0F8",
           "linecolor": "#EBF0F8",
           "ticks": "",
           "title": {
            "standoff": 15
           },
           "zerolinecolor": "#EBF0F8",
           "zerolinewidth": 2
          },
          "yaxis": {
           "automargin": true,
           "gridcolor": "#EBF0F8",
           "linecolor": "#EBF0F8",
           "ticks": "",
           "title": {
            "standoff": 15
           },
           "zerolinecolor": "#EBF0F8",
           "zerolinewidth": 2
          }
         }
        },
        "title": {
         "text": "Entropy–Complexity for data/guitar_chords/F (Plotly)\nDim = '6', Hop = '1'"
        },
        "width": 800,
        "xaxis": {
         "range": [
          0,
          1
         ],
         "title": {
          "text": "Normalized Permutation Entropy"
         }
        },
        "yaxis": {
         "range": [
          0,
          1
         ],
         "title": {
          "text": "Normalized Complexity"
         }
        }
       }
      }
     },
     "metadata": {},
     "output_type": "display_data"
    }
   ],
   "source": [
    "folder_path = \"data/guitar_chords/F\"\n",
    "dim = 6\n",
    "hop = 1\n",
    "plot_graph_ordpy(folder_path, dim, hop)"
   ]
  },
  {
   "cell_type": "code",
   "execution_count": 136,
   "metadata": {},
   "outputs": [
    {
     "name": "stderr",
     "output_type": "stream",
     "text": [
      "Processing audio files in data/guitar_chords/G with dim 6 and hop 1: 100%|██████████| 40/40 [00:09<00:00,  4.41it/s]\n"
     ]
    },
    {
     "data": {
      "application/vnd.plotly.v1+json": {
       "config": {
        "plotlyServerURL": "https://plot.ly"
       },
       "data": [
        {
         "hovertemplate": "<b>File:</b> %{hovertext}<br><b>Entropy:</b> %{x}<br><b>Complexity:</b> %{y}<extra></extra>",
         "hovertext": [
          "G_Electric2_LInda_4.wav",
          "G_Electric2_LInda_1.wav",
          "G_Electric2_LInda_3.wav",
          "G_Electric2_LInda_2.wav",
          "G_Classic2_Carolina_1.wav",
          "G_Electric1_LInda_2.wav",
          "G_classical_AfonsoLemos_-02.wav",
          "G_classical_AfonsoLemos_-03.wav",
          "G_Classic3_Carolina_4.wav",
          "G_Electric1_LInda_3.wav",
          "G_Classic2_Carolina_2.wav",
          "G_Electric1_LInda_1.wav",
          "G_classical_AfonsoLemos_-01.wav",
          "G_Classic2_Carolina_3.wav",
          "G_classical_AfonsoLemos_-04.wav",
          "G_Classic3_Carolina_3.wav",
          "G_Electric1_LInda_4.wav",
          "G_Classic3_Carolina_2.wav",
          "G_Classic2_Carolina_4.wav",
          "G_Classic3_Carolina_1.wav",
          "G_electric_Isabel_3.wav",
          "G_electric_Isabel_2.wav",
          "G_AcousticGuitar_RodrigoMercador_4.wav",
          "G_electric_Isabel_1.wav",
          "G_ClassicVince_JO_4.wav",
          "G_AcousticGuitar_RodrigoMercador_3.wav",
          "G_ClassicVince_JO_1.wav",
          "G_electric_Isabel_4.wav",
          "G_AcousticGuitar_RodrigoMercador_2.wav",
          "G_ClassicVince_JO_3.wav",
          "G_ClassicVince_JO_2.wav",
          "G_AcousticGuitar_RodrigoMercador_1.wav",
          "G_Classic_Jo_1.wav",
          "G_AcusticVince_JO_1.wav",
          "G_AcusticVince_JO_3.wav",
          "G_Classic_Jo_3.wav",
          "G_Classic_Jo_2.wav",
          "G_AcusticVince_JO_2.wav",
          "G_Classic_Jo_4.wav",
          "G_AcusticVince_JO_4.wav"
         ],
         "marker": {
          "color": "blue",
          "line": {
           "color": "black",
           "width": 1
          },
          "size": 10
         },
         "mode": "markers",
         "name": "Data Points",
         "type": "scatter",
         "x": {
          "bdata": "hA5jRrP25j+iuzarcAHnPzUNb99joec/tgxuCIgj6j/y1BBq7RngP6vM6zjm7+g/iWspaojS3j+AS6Uj/kDdP2x2DdVre+A/hRUXnp1U5z84+eMl9bjeP7ophMYwjuc/Sd2PA47V4D8eAdPAquHeP+ikq/EaS+M/uBLn2teQ2D/OFMTkFCroP3XYEvb8R9c/9RQnorLV4j+sf4H+sFLYP1uceucWSM8/wLEoLhmY1D9U0NTuHr/hP40x9gkSitU/ftUGf9/A1z9N5ZltW+bhP/1rvkA4ptY/5yTvJjcyzT8AbKZXsDfiP9kY9h7H09U/iPgtY6Y82D9BSX58XtrjPwwo6FeeUuA/KPZ9z2wn1j+pgbcbmOzWP06e4xuQLd8/vqpM+EJj4z8FuQPPCXbXP5zQ5V0zK+Q//yL7geDJ2j8=",
          "dtype": "f8"
         },
         "y": {
          "bdata": "gTlRfFhc1T+Mf/onII/VP6OMJ7oQ9NQ/Q7rX5NsN0T8YRdvjauLSPzGQ2zdAodI/0sa0arp80j9U4JcT8HHSP8ScQCrNPNU/y/YNWYCO1D84zhVZKMXSP6rISdJDO9M/gpGWsPff0j+Xaecpm2/SP02wIaoIhNE/DhMyGbrE0T+67RwNXd3TPyPV0Eza0NA/eZobBuGn1D8Z83sAtAnRPzOYOwsZsso/b6Ag2/Otzj+IyoDqw3PVP2Ti43bRVc8/w+gzNLb+0j9c+PBt/knVP7kyGDupDNI/cLVtVACNyT+N3408GO/UP1JIsgbx1dE/iWVqzqAn0z9hTHRZaH7VP8HA8WpkQdI/r2VQub/V0T/qcW9a8XrSP2Jxh1hkIdI/RT9bv+9T0D9bUhE0AZbSP2AFlWlgtNE/q8a9XyPP1D8=",
          "dtype": "f8"
         }
        },
        {
         "line": {
          "color": "red",
          "dash": "dash"
         },
         "mode": "lines",
         "name": "Maximum Complexity Boundary",
         "type": "scatter",
         "x": {
          "bdata": "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",
          "dtype": "f8"
         },
         "y": {
          "bdata": "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",
          "dtype": "f8"
         }
        },
        {
         "line": {
          "color": "green",
          "dash": "dash"
         },
         "mode": "lines",
         "name": "Minimum Complexity Boundary",
         "type": "scatter",
         "x": {
          "bdata": "AAAAAAAAAICaxf+16xqTP+jVhP1KAqI/vUTdi+gLqj/86nM1k+ewP8K3yY7ArrQ/p554aKFguD/uL+sCmwC8PzAUmEQWkb8/OC9Izu+JwT9fJ6LWLUXDP9zCdlXT+sQ/w/gEHFSrxj8NvFFLEFfIP6qV/uFY/sk/NbM6+3Khyz8sJAsvmkDNP7DF0VkC3M4/1TEXfOw50D9Eo50aIwTRP2yQ0d+2zNE/cXTxubeT0j+olffyM1nTP1t01Gg4HdQ/9H3Ou9Df1D86qBR1B6HVP9wYEyfmYNY/6J68iHUf1z8jY7eMvdzXP+DxJ3XFmNg/K+Ku5JNT2T+Dkg/tLg3aP45i3xucxdo/e8qKheB82z/HfO/OADPcP7hzvzUB6Nw/PsHXl+Wb3T86q655sU7eP6iv9gtoAN8/nDCPMAyx3z9Pw2s/UDDgP4fyuqOTh+A/ylnQS1He4D+2U/sdijThPz/0d+E+iuE/Qmx4P3Df4T8RywLEHjTiP6MEpt5KiOI/1I4I4/Tb4j9mYlIJHS/jP3Kyc27DgeM/hzlJFOjT4z/jjp7hiiXkP/qKDqKrduQ/+FfBBUrH5D/zXQehZRflP7HIz+v9ZuU/h+v4QBK25T8VRHjdoQTmP8xKV9+rUuY/IZyBRC+g5j94S2DpKu3mP6RZPYedOec/N09psoWF5z+X1RvY4dDnP/fNBjywG+g/48WR9e5l6D84trHsm6/oP9ubTta0+Og/1pYlMDdB6T+zsRI8IInpP7wOqfps0Ok//L/6JBoX6j81rmolJF3qP6I6Wg+Houo/yCN5lT7n6j+L1W/+RSvrP0CTiReYbus/5ELrJC+x6z99ysLOBPPrP0yqrgoSNOw/q/lgAE907D/z+SzosrPsPzkUuOEz8uw/IStdwMYv7T9YSNjJXmztPxjoW2Ltp+0/YoL0nmHi7T99rZWzpxvuP30tZSyoU+4/3roJ2EaK7j+hR1o3Yb/uPwiMLibM8u4/5bjgL1Ak7z8p/rF0o1PvP1Omz7BegO8/zKz4ROep7z8Ha0uLO8/vP00Cx0hS7u8/AAAAAAAA8D8=",
          "dtype": "f8"
         },
         "y": {
          "bdata": "AAAAAAAAAIDM4Y+YJlKSP3cLBINQtqA/J6zO+G52pz/N5dV3Gp6tP32fvDSTpLE/ZaqxOrdEtD8TBRfs0bW2Pz4In7ex/Lg/GLkl5iMduz9xvMwPQxq9Pxsj/6un9r4/5RS4+ENawD9oIqDe5irBPyRePBgT7sE/wQS/lIakwj+vc/D06k7DPw+0hN/Y7cM/pSqkndqBxD8oUsMvbgvFP5alVvwGi8U/hbZQMA8Bxj8sB9Pi6G3GP/hm9Qjv0cY/xNtVQ3Ytxz+YwtaMzYDHP9+iQtA+zMc/fgROaQ8QyD/crH+UgEzIP5sM0dDPgcg/ni5MNTewyD9iM3+87dfIP0a3R4cn+cg/fpI0GBYUyT+FPYaI6CjJP5yFqrfLN8k/4/HsdepAyT91afiqbUTJPygQr3h8Qsk/y77JWjw7yT/8YqBD0S7JPxf1brZdHck/SXpf3wIHyT/Z8pep4OvIP2cIg9MVzMg/PX2DAcCnyD9qhzzP+37IPyJNlN/kUcg/7m6R65UgyD8B7jDQKOvHP3iHTpu2scc/0wG3l1d0xz8XdnlYIzPHPym7isMw7sY/u1HMG5alxj+AsYYKaVnGP2W5Zai+CcY/itMEhqu2xT/kqBe0Q2DFP1J8O8uaBsU/k9Z888OpxD9Y05zr0UnEPyY2IRDX5sM/ToM6YuWAwz/Sh4uODhjDP9tB3vNjrMI/8cnSqfY9wj9N75WH18zBPxqprioXWcE/kEzz/cXiwD9sFbpA9GnAP14jtxxk3b8/msZDzB7ivj+pCIpnOOK9P53wNrHQ3bw/2BdgawfVuz8HP/Nt/Me6P/0JBcDPtrk/A3bGtKGhuD/EsyUNk4i3P1sKdB/Fa7Y/353hBlpLtT8Cb0vddCe0P1Lq0QI6ALM/PSYjeM/VsT+5+pxSXaiwP9pCy6kc8K4/hmBseCGKrD+oqte3Lh+qP+ZMTGK2r6c/w7ANazs8pT8z3wTgWMWiPzQr8GfNS6A/peLq2R2hmz/cun3T3amWP55cgtvItZE/L6gfV+WWiT8G9z+G6d9/P9Qznsa2+Wo/3KtzhX9C17w=",
          "dtype": "f8"
         }
        }
       ],
       "layout": {
        "height": 600,
        "template": {
         "data": {
          "bar": [
           {
            "error_x": {
             "color": "#2a3f5f"
            },
            "error_y": {
             "color": "#2a3f5f"
            },
            "marker": {
             "line": {
              "color": "white",
              "width": 0.5
             },
             "pattern": {
              "fillmode": "overlay",
              "size": 10,
              "solidity": 0.2
             }
            },
            "type": "bar"
           }
          ],
          "barpolar": [
           {
            "marker": {
             "line": {
              "color": "white",
              "width": 0.5
             },
             "pattern": {
              "fillmode": "overlay",
              "size": 10,
              "solidity": 0.2
             }
            },
            "type": "barpolar"
           }
          ],
          "carpet": [
           {
            "aaxis": {
             "endlinecolor": "#2a3f5f",
             "gridcolor": "#C8D4E3",
             "linecolor": "#C8D4E3",
             "minorgridcolor": "#C8D4E3",
             "startlinecolor": "#2a3f5f"
            },
            "baxis": {
             "endlinecolor": "#2a3f5f",
             "gridcolor": "#C8D4E3",
             "linecolor": "#C8D4E3",
             "minorgridcolor": "#C8D4E3",
             "startlinecolor": "#2a3f5f"
            },
            "type": "carpet"
           }
          ],
          "choropleth": [
           {
            "colorbar": {
             "outlinewidth": 0,
             "ticks": ""
            },
            "type": "choropleth"
           }
          ],
          "contour": [
           {
            "colorbar": {
             "outlinewidth": 0,
             "ticks": ""
            },
            "colorscale": [
             [
              0,
              "#0d0887"
             ],
             [
              0.1111111111111111,
              "#46039f"
             ],
             [
              0.2222222222222222,
              "#7201a8"
             ],
             [
              0.3333333333333333,
              "#9c179e"
             ],
             [
              0.4444444444444444,
              "#bd3786"
             ],
             [
              0.5555555555555556,
              "#d8576b"
             ],
             [
              0.6666666666666666,
              "#ed7953"
             ],
             [
              0.7777777777777778,
              "#fb9f3a"
             ],
             [
              0.8888888888888888,
              "#fdca26"
             ],
             [
              1,
              "#f0f921"
             ]
            ],
            "type": "contour"
           }
          ],
          "contourcarpet": [
           {
            "colorbar": {
             "outlinewidth": 0,
             "ticks": ""
            },
            "type": "contourcarpet"
           }
          ],
          "heatmap": [
           {
            "colorbar": {
             "outlinewidth": 0,
             "ticks": ""
            },
            "colorscale": [
             [
              0,
              "#0d0887"
             ],
             [
              0.1111111111111111,
              "#46039f"
             ],
             [
              0.2222222222222222,
              "#7201a8"
             ],
             [
              0.3333333333333333,
              "#9c179e"
             ],
             [
              0.4444444444444444,
              "#bd3786"
             ],
             [
              0.5555555555555556,
              "#d8576b"
             ],
             [
              0.6666666666666666,
              "#ed7953"
             ],
             [
              0.7777777777777778,
              "#fb9f3a"
             ],
             [
              0.8888888888888888,
              "#fdca26"
             ],
             [
              1,
              "#f0f921"
             ]
            ],
            "type": "heatmap"
           }
          ],
          "histogram": [
           {
            "marker": {
             "pattern": {
              "fillmode": "overlay",
              "size": 10,
              "solidity": 0.2
             }
            },
            "type": "histogram"
           }
          ],
          "histogram2d": [
           {
            "colorbar": {
             "outlinewidth": 0,
             "ticks": ""
            },
            "colorscale": [
             [
              0,
              "#0d0887"
             ],
             [
              0.1111111111111111,
              "#46039f"
             ],
             [
              0.2222222222222222,
              "#7201a8"
             ],
             [
              0.3333333333333333,
              "#9c179e"
             ],
             [
              0.4444444444444444,
              "#bd3786"
             ],
             [
              0.5555555555555556,
              "#d8576b"
             ],
             [
              0.6666666666666666,
              "#ed7953"
             ],
             [
              0.7777777777777778,
              "#fb9f3a"
             ],
             [
              0.8888888888888888,
              "#fdca26"
             ],
             [
              1,
              "#f0f921"
             ]
            ],
            "type": "histogram2d"
           }
          ],
          "histogram2dcontour": [
           {
            "colorbar": {
             "outlinewidth": 0,
             "ticks": ""
            },
            "colorscale": [
             [
              0,
              "#0d0887"
             ],
             [
              0.1111111111111111,
              "#46039f"
             ],
             [
              0.2222222222222222,
              "#7201a8"
             ],
             [
              0.3333333333333333,
              "#9c179e"
             ],
             [
              0.4444444444444444,
              "#bd3786"
             ],
             [
              0.5555555555555556,
              "#d8576b"
             ],
             [
              0.6666666666666666,
              "#ed7953"
             ],
             [
              0.7777777777777778,
              "#fb9f3a"
             ],
             [
              0.8888888888888888,
              "#fdca26"
             ],
             [
              1,
              "#f0f921"
             ]
            ],
            "type": "histogram2dcontour"
           }
          ],
          "mesh3d": [
           {
            "colorbar": {
             "outlinewidth": 0,
             "ticks": ""
            },
            "type": "mesh3d"
           }
          ],
          "parcoords": [
           {
            "line": {
             "colorbar": {
              "outlinewidth": 0,
              "ticks": ""
             }
            },
            "type": "parcoords"
           }
          ],
          "pie": [
           {
            "automargin": true,
            "type": "pie"
           }
          ],
          "scatter": [
           {
            "fillpattern": {
             "fillmode": "overlay",
             "size": 10,
             "solidity": 0.2
            },
            "type": "scatter"
           }
          ],
          "scatter3d": [
           {
            "line": {
             "colorbar": {
              "outlinewidth": 0,
              "ticks": ""
             }
            },
            "marker": {
             "colorbar": {
              "outlinewidth": 0,
              "ticks": ""
             }
            },
            "type": "scatter3d"
           }
          ],
          "scattercarpet": [
           {
            "marker": {
             "colorbar": {
              "outlinewidth": 0,
              "ticks": ""
             }
            },
            "type": "scattercarpet"
           }
          ],
          "scattergeo": [
           {
            "marker": {
             "colorbar": {
              "outlinewidth": 0,
              "ticks": ""
             }
            },
            "type": "scattergeo"
           }
          ],
          "scattergl": [
           {
            "marker": {
             "colorbar": {
              "outlinewidth": 0,
              "ticks": ""
             }
            },
            "type": "scattergl"
           }
          ],
          "scattermap": [
           {
            "marker": {
             "colorbar": {
              "outlinewidth": 0,
              "ticks": ""
             }
            },
            "type": "scattermap"
           }
          ],
          "scattermapbox": [
           {
            "marker": {
             "colorbar": {
              "outlinewidth": 0,
              "ticks": ""
             }
            },
            "type": "scattermapbox"
           }
          ],
          "scatterpolar": [
           {
            "marker": {
             "colorbar": {
              "outlinewidth": 0,
              "ticks": ""
             }
            },
            "type": "scatterpolar"
           }
          ],
          "scatterpolargl": [
           {
            "marker": {
             "colorbar": {
              "outlinewidth": 0,
              "ticks": ""
             }
            },
            "type": "scatterpolargl"
           }
          ],
          "scatterternary": [
           {
            "marker": {
             "colorbar": {
              "outlinewidth": 0,
              "ticks": ""
             }
            },
            "type": "scatterternary"
           }
          ],
          "surface": [
           {
            "colorbar": {
             "outlinewidth": 0,
             "ticks": ""
            },
            "colorscale": [
             [
              0,
              "#0d0887"
             ],
             [
              0.1111111111111111,
              "#46039f"
             ],
             [
              0.2222222222222222,
              "#7201a8"
             ],
             [
              0.3333333333333333,
              "#9c179e"
             ],
             [
              0.4444444444444444,
              "#bd3786"
             ],
             [
              0.5555555555555556,
              "#d8576b"
             ],
             [
              0.6666666666666666,
              "#ed7953"
             ],
             [
              0.7777777777777778,
              "#fb9f3a"
             ],
             [
              0.8888888888888888,
              "#fdca26"
             ],
             [
              1,
              "#f0f921"
             ]
            ],
            "type": "surface"
           }
          ],
          "table": [
           {
            "cells": {
             "fill": {
              "color": "#EBF0F8"
             },
             "line": {
              "color": "white"
             }
            },
            "header": {
             "fill": {
              "color": "#C8D4E3"
             },
             "line": {
              "color": "white"
             }
            },
            "type": "table"
           }
          ]
         },
         "layout": {
          "annotationdefaults": {
           "arrowcolor": "#2a3f5f",
           "arrowhead": 0,
           "arrowwidth": 1
          },
          "autotypenumbers": "strict",
          "coloraxis": {
           "colorbar": {
            "outlinewidth": 0,
            "ticks": ""
           }
          },
          "colorscale": {
           "diverging": [
            [
             0,
             "#8e0152"
            ],
            [
             0.1,
             "#c51b7d"
            ],
            [
             0.2,
             "#de77ae"
            ],
            [
             0.3,
             "#f1b6da"
            ],
            [
             0.4,
             "#fde0ef"
            ],
            [
             0.5,
             "#f7f7f7"
            ],
            [
             0.6,
             "#e6f5d0"
            ],
            [
             0.7,
             "#b8e186"
            ],
            [
             0.8,
             "#7fbc41"
            ],
            [
             0.9,
             "#4d9221"
            ],
            [
             1,
             "#276419"
            ]
           ],
           "sequential": [
            [
             0,
             "#0d0887"
            ],
            [
             0.1111111111111111,
             "#46039f"
            ],
            [
             0.2222222222222222,
             "#7201a8"
            ],
            [
             0.3333333333333333,
             "#9c179e"
            ],
            [
             0.4444444444444444,
             "#bd3786"
            ],
            [
             0.5555555555555556,
             "#d8576b"
            ],
            [
             0.6666666666666666,
             "#ed7953"
            ],
            [
             0.7777777777777778,
             "#fb9f3a"
            ],
            [
             0.8888888888888888,
             "#fdca26"
            ],
            [
             1,
             "#f0f921"
            ]
           ],
           "sequentialminus": [
            [
             0,
             "#0d0887"
            ],
            [
             0.1111111111111111,
             "#46039f"
            ],
            [
             0.2222222222222222,
             "#7201a8"
            ],
            [
             0.3333333333333333,
             "#9c179e"
            ],
            [
             0.4444444444444444,
             "#bd3786"
            ],
            [
             0.5555555555555556,
             "#d8576b"
            ],
            [
             0.6666666666666666,
             "#ed7953"
            ],
            [
             0.7777777777777778,
             "#fb9f3a"
            ],
            [
             0.8888888888888888,
             "#fdca26"
            ],
            [
             1,
             "#f0f921"
            ]
           ]
          },
          "colorway": [
           "#636efa",
           "#EF553B",
           "#00cc96",
           "#ab63fa",
           "#FFA15A",
           "#19d3f3",
           "#FF6692",
           "#B6E880",
           "#FF97FF",
           "#FECB52"
          ],
          "font": {
           "color": "#2a3f5f"
          },
          "geo": {
           "bgcolor": "white",
           "lakecolor": "white",
           "landcolor": "white",
           "showlakes": true,
           "showland": true,
           "subunitcolor": "#C8D4E3"
          },
          "hoverlabel": {
           "align": "left"
          },
          "hovermode": "closest",
          "mapbox": {
           "style": "light"
          },
          "paper_bgcolor": "white",
          "plot_bgcolor": "white",
          "polar": {
           "angularaxis": {
            "gridcolor": "#EBF0F8",
            "linecolor": "#EBF0F8",
            "ticks": ""
           },
           "bgcolor": "white",
           "radialaxis": {
            "gridcolor": "#EBF0F8",
            "linecolor": "#EBF0F8",
            "ticks": ""
           }
          },
          "scene": {
           "xaxis": {
            "backgroundcolor": "white",
            "gridcolor": "#DFE8F3",
            "gridwidth": 2,
            "linecolor": "#EBF0F8",
            "showbackground": true,
            "ticks": "",
            "zerolinecolor": "#EBF0F8"
           },
           "yaxis": {
            "backgroundcolor": "white",
            "gridcolor": "#DFE8F3",
            "gridwidth": 2,
            "linecolor": "#EBF0F8",
            "showbackground": true,
            "ticks": "",
            "zerolinecolor": "#EBF0F8"
           },
           "zaxis": {
            "backgroundcolor": "white",
            "gridcolor": "#DFE8F3",
            "gridwidth": 2,
            "linecolor": "#EBF0F8",
            "showbackground": true,
            "ticks": "",
            "zerolinecolor": "#EBF0F8"
           }
          },
          "shapedefaults": {
           "line": {
            "color": "#2a3f5f"
           }
          },
          "ternary": {
           "aaxis": {
            "gridcolor": "#DFE8F3",
            "linecolor": "#A2B1C6",
            "ticks": ""
           },
           "baxis": {
            "gridcolor": "#DFE8F3",
            "linecolor": "#A2B1C6",
            "ticks": ""
           },
           "bgcolor": "white",
           "caxis": {
            "gridcolor": "#DFE8F3",
            "linecolor": "#A2B1C6",
            "ticks": ""
           }
          },
          "title": {
           "x": 0.05
          },
          "xaxis": {
           "automargin": true,
           "gridcolor": "#EBF0F8",
           "linecolor": "#EBF0F8",
           "ticks": "",
           "title": {
            "standoff": 15
           },
           "zerolinecolor": "#EBF0F8",
           "zerolinewidth": 2
          },
          "yaxis": {
           "automargin": true,
           "gridcolor": "#EBF0F8",
           "linecolor": "#EBF0F8",
           "ticks": "",
           "title": {
            "standoff": 15
           },
           "zerolinecolor": "#EBF0F8",
           "zerolinewidth": 2
          }
         }
        },
        "title": {
         "text": "Entropy–Complexity for data/guitar_chords/G (Plotly)\nDim = '6', Hop = '1'"
        },
        "width": 800,
        "xaxis": {
         "range": [
          0,
          1
         ],
         "title": {
          "text": "Normalized Permutation Entropy"
         }
        },
        "yaxis": {
         "range": [
          0,
          1
         ],
         "title": {
          "text": "Normalized Complexity"
         }
        }
       }
      }
     },
     "metadata": {},
     "output_type": "display_data"
    }
   ],
   "source": [
    "folder_path = \"data/guitar_chords/G\"\n",
    "dim = 6\n",
    "hop = 1\n",
    "plot_graph_ordpy(folder_path, dim, hop)"
   ]
  },
  {
   "cell_type": "markdown",
   "metadata": {},
   "source": [
    "# Piano sound analysis chords"
   ]
  },
  {
   "cell_type": "code",
   "execution_count": 127,
   "metadata": {},
   "outputs": [
    {
     "name": "stderr",
     "output_type": "stream",
     "text": [
      "Processing audio files in data/chords/perf4 with dim 6 and hop 1: 100%|██████████| 170/170 [00:14<00:00, 11.85it/s]\n",
      "Processing audio files in data/chords/perf5 with dim 6 and hop 1: 100%|██████████| 170/170 [00:14<00:00, 11.74it/s]\n",
      "Processing audio files in data/chords/min6 with dim 6 and hop 1: 100%|██████████| 170/170 [00:14<00:00, 11.72it/s]\n",
      "Processing audio files in data/chords/dim with dim 6 and hop 1: 100%|██████████| 255/255 [00:21<00:00, 11.68it/s]\n",
      "Processing audio files in data/chords/min7 with dim 6 and hop 1: 100%|██████████| 340/340 [00:29<00:00, 11.67it/s]\n",
      "Processing audio files in data/chords/maj7_2 with dim 6 and hop 1: 100%|██████████| 170/170 [00:14<00:00, 11.74it/s]\n",
      "Processing audio files in data/chords/aug with dim 6 and hop 1: 100%|██████████| 255/255 [00:21<00:00, 11.70it/s]\n",
      "Processing audio files in data/chords/sixth with dim 6 and hop 1: 100%|██████████| 340/340 [00:29<00:00, 11.69it/s]\n",
      "Processing audio files in data/chords/maj3 with dim 6 and hop 1: 100%|██████████| 170/170 [00:14<00:00, 11.64it/s]\n",
      "Processing audio files in data/chords/min7b5 with dim 6 and hop 1: 100%|██████████| 340/340 [00:29<00:00, 11.69it/s]\n",
      "Processing audio files in data/chords/maj2 with dim 6 and hop 1: 100%|██████████| 170/170 [00:14<00:00, 11.68it/s]\n",
      "Processing audio files in data/chords/aug6 with dim 6 and hop 1: 100%|██████████| 170/170 [00:14<00:00, 11.67it/s]\n",
      "Processing audio files in data/chords/maj with dim 6 and hop 1: 100%|██████████| 255/255 [00:21<00:00, 11.71it/s]\n",
      "Processing audio files in data/chords/dim7 with dim 6 and hop 1: 100%|██████████| 340/340 [00:28<00:00, 11.75it/s]\n",
      "Processing audio files in data/chords/octave with dim 6 and hop 1: 100%|██████████| 85/85 [00:07<00:00, 11.69it/s]\n",
      "Processing audio files in data/chords/min2 with dim 6 and hop 1: 100%|██████████| 170/170 [00:14<00:00, 11.64it/s]\n",
      "Processing audio files in data/chords/min3 with dim 6 and hop 1: 100%|██████████| 170/170 [00:14<00:00, 11.63it/s]\n",
      "Processing audio files in data/chords/tritone with dim 6 and hop 1: 100%|██████████| 170/170 [00:14<00:00, 11.66it/s]\n",
      "Processing audio files in data/chords/maj7 with dim 6 and hop 1: 100%|██████████| 340/340 [00:29<00:00, 11.58it/s]\n",
      "Processing audio files in data/chords/maj6 with dim 6 and hop 1: 100%|██████████| 170/170 [00:14<00:00, 11.53it/s]\n",
      "Processing audio files in data/chords/min with dim 6 and hop 1: 100%|██████████| 255/255 [00:22<00:00, 11.57it/s]\n",
      "Processing audio files in data/chords/sus2 with dim 6 and hop 1: 100%|██████████| 255/255 [00:22<00:00, 11.51it/s]\n",
      "Processing audio files in data/chords/seventh with dim 6 and hop 1: 100%|██████████| 340/340 [00:29<00:00, 11.51it/s]\n",
      "Processing audio files in data/chords/sus4 with dim 6 and hop 1: 100%|██████████| 255/255 [00:22<00:00, 11.50it/s]\n"
     ]
    },
    {
     "data": {
      "application/vnd.plotly.v1+json": {
       "config": {
        "plotlyServerURL": "https://plot.ly"
       },
       "data": [
        {
         "fill": "toself",
         "fillcolor": "rgba(182, 232, 128, 0.3)",
         "hoverinfo": "skip",
         "line": {
          "color": "rgba(182, 232, 128, 0.3)",
          "width": 2
         },
         "mode": "lines",
         "name": "perf4 region",
         "showlegend": true,
         "type": "scatter",
         "x": {
          "bdata": "V20kGIRD5z+DUU7WaPrkPxsetOs5I+Y/NCU2Loio5j9eLSO5cG/oP2NWR46+4Og/12iBOLmw6T9vriDTWz7qP5oQAy59O+o/TtGy2SgW6j9u5y7IXKzpPxQmO3TAIek/Gcll+ey16D+p3hRd4oLnP1dtJBiEQ+c/",
          "dtype": "f8"
         },
         "y": {
          "bdata": "DobxPOTM0z9TaB26N5/WP2nyQ0yEltk/VA8czfJH2T9QfJkDOuPWP/KYCslC+NU/WGLxWpNh1D8u+6rWfa/SP+j89vXxhNI/m9bjJ16m0D81hIcf9MLQPxxYc4CchtE/xVAlczw00j/MdeUIC3PTPw6G8TzkzNM/",
          "dtype": "f8"
         }
        },
        {
         "hovertemplate": "<b>Folder:</b> perf4<br><b>Centroid Entropy:</b> %{x}<br><b>Centroid Complexity:</b> %{y}<extra></extra>",
         "marker": {
          "color": "#B6E880",
          "size": 12,
          "symbol": "circle"
         },
         "mode": "markers",
         "name": "perf4 centroid",
         "type": "scatter",
         "x": [
          0.7540768732067222
         ],
         "y": [
          0.3266511194729297
         ]
        },
        {
         "fill": "toself",
         "fillcolor": "rgba(255, 151, 255, 0.3)",
         "hoverinfo": "skip",
         "line": {
          "color": "rgba(255, 151, 255, 0.3)",
          "width": 2
         },
         "mode": "lines",
         "name": "perf5 region",
         "showlegend": true,
         "type": "scatter",
         "x": {
          "bdata": "jqMWROCS5T9VIWH/7+3nP14tI7lwb+g/Y1ZHjr7g6D/XaIE4ubDpP2+uINNbPuo/mhADLn076j9O0bLZKBbqP27nLshcrOk/FCY7dMAh6T8ZyWX57LXoP6neFF3iguc/V20kGIRD5z+DUU7WaPrkP3am7i/mC+U/jqMWROCS5T8=",
          "dtype": "f8"
         },
         "y": {
          "bdata": "8wvI5rfF2j9CtIOY9CzXP1B8mQM649Y/8pgKyUL41T9YYvFak2HUPy77qtZ9r9I/6Pz29fGE0j+b1uMnXqbQPzWEhx/0wtA/HFhzgJyG0T/FUCVzPDTSP8x15QgLc9M/DobxPOTM0z9TaB26N5/WP3M8rGpdtNo/8wvI5rfF2j8=",
          "dtype": "f8"
         }
        },
        {
         "hovertemplate": "<b>Folder:</b> perf5<br><b>Centroid Entropy:</b> %{x}<br><b>Centroid Complexity:</b> %{y}<extra></extra>",
         "marker": {
          "color": "#FF97FF",
          "size": 12,
          "symbol": "circle"
         },
         "mode": "markers",
         "name": "perf5 centroid",
         "type": "scatter",
         "x": [
          0.7531652699730453
         ],
         "y": [
          0.3275502043017331
         ]
        },
        {
         "fill": "toself",
         "fillcolor": "rgba(171, 99, 250, 0.3)",
         "hoverinfo": "skip",
         "line": {
          "color": "rgba(171, 99, 250, 0.3)",
          "width": 2
         },
         "mode": "lines",
         "name": "min6 region",
         "showlegend": true,
         "type": "scatter",
         "x": {
          "bdata": "Hg3AmZOw5D8hrZ9fYfPkP4fmhoS4ceU/8hnniIRc5z/Lmge70xDoPygxBaXZpOg/b3QktE+H6T++5s+Qna3pP2zw5djzJuo/drQG7ddV6j+mUKv4MlvqP6wVgLnt/ek/iC+shNCE6T90ahDbhT/pP3HtbpM9Oug/m9UQG/rj5j8vaFKh84DmPx4NwJmTsOQ/",
          "dtype": "f8"
         },
         "y": {
          "bdata": "X0V+guE41j+YvNE/CT3aP2TyL//kyNo/iMXes48m2D/U6SEz9SXXP5IQUvMTb9Y/eZMXWPHV1D8jTZU65XXUP9ZifmH8AtM/2xLq2h+Q0j/MaxkDb9zRP+hI8QGWxNA/U/gCNwHC0D+4M965hw7RP13kIHGdOtI/vwOTSj0P1D8IX6YFG4nUP19FfoLhONY/",
          "dtype": "f8"
         }
        },
        {
         "hovertemplate": "<b>Folder:</b> min6<br><b>Centroid Entropy:</b> %{x}<br><b>Centroid Complexity:</b> %{y}<extra></extra>",
         "marker": {
          "color": "#AB63FA",
          "size": 12,
          "symbol": "circle"
         },
         "mode": "markers",
         "name": "min6 centroid",
         "type": "scatter",
         "x": [
          0.7474996790104184
         ],
         "y": [
          0.3281738071588337
         ]
        },
        {
         "fill": "toself",
         "fillcolor": "rgba(0, 204, 150, 0.3)",
         "hoverinfo": "skip",
         "line": {
          "color": "rgba(0, 204, 150, 0.3)",
          "width": 2
         },
         "mode": "lines",
         "name": "dim region",
         "showlegend": true,
         "type": "scatter",
         "x": {
          "bdata": "DsVuxFmC6j+mBfuAW4bpP+ujjkn80ug/n5QpJwSj6D83NwEKDMnnP2zgO0ZRduc/cbvhVuDx5T/IR8L3AZblPzDtCihiaOU/lb0JTCZS5T9nCTgZBQnlP8iqRCgsI+Y/YWCE6Qv05j/1FWw+953oPxWp3i5T2ug///gwDVKQ6T+GPNzyM5fqPw7FbsRZguo/",
          "dtype": "f8"
         },
         "y": {
          "bdata": "sRPcTS66zz8CEimF47bQP7+twdpzO9E/v/POxyWJ0T8bAjoC8CbTP0C4eDEuq9M/ABxcK0pG1T8VCKxD+srVPzEfAi65Q9Y/wz0kK45/1j9wDbDejCzaP9LAuD47Zto/35bvJ5/Y2D97ziUoH2TWP2GKjmsD8tU/uvb/sTKj1D+d1I6gIe7RP7ET3E0uus8/",
          "dtype": "f8"
         }
        },
        {
         "hovertemplate": "<b>Folder:</b> dim<br><b>Centroid Entropy:</b> %{x}<br><b>Centroid Complexity:</b> %{y}<extra></extra>",
         "marker": {
          "color": "#00CC96",
          "size": 12,
          "symbol": "circle"
         },
         "mode": "markers",
         "name": "dim centroid",
         "type": "scatter",
         "x": [
          0.7531981848197445
         ],
         "y": [
          0.3281578588125795
         ]
        },
        {
         "fill": "toself",
         "fillcolor": "rgba(255, 161, 90, 0.3)",
         "hoverinfo": "skip",
         "line": {
          "color": "rgba(255, 161, 90, 0.3)",
          "width": 2
         },
         "mode": "lines",
         "name": "min7 region",
         "showlegend": true,
         "type": "scatter",
         "x": {
          "bdata": "yl/6iAbN5D+dRb5ig7blPxpugtfT6eU/f5pD8Wk55j8NindLzFDmPxTI8IT9UOg/fYg5pkrG6D9s6tJQ3lzpP8o5hnSCpuk/bf10LPdf6j+YLW1wjJLqP1U1U2bAX+o/Z/orlcAt6j88KWgflNXoPzAVU2ggYeg/6tYJCYwZ5z/led6k2+/kP8pf+ogGzeQ/",
          "dtype": "f8"
         },
         "y": {
          "bdata": "GZYou5oO1j82NtOOpeDZP5Py5Mlgd9o/auM0e0s52j9o0Oet5/zZP8SrmwtGwtY/tT96xpkc1j+9o0l22ULVP+TijHcio9Q/x2epRGeT0j8r9PUkPpXPP3qPqrR1l88/nSzmYIvwzz8GbRNncc7QP9QVAiKgXdE/6epdqm7U0z870qaaJOTVPxmWKLuaDtY/",
          "dtype": "f8"
         }
        },
        {
         "hovertemplate": "<b>Folder:</b> min7<br><b>Centroid Entropy:</b> %{x}<br><b>Centroid Complexity:</b> %{y}<extra></extra>",
         "marker": {
          "color": "#FFA15A",
          "size": 12,
          "symbol": "circle"
         },
         "mode": "markers",
         "name": "min7 centroid",
         "type": "scatter",
         "x": [
          0.7478910904931811
         ],
         "y": [
          0.3304184208806352
         ]
        },
        {
         "fill": "toself",
         "fillcolor": "rgba(254, 203, 82, 0.3)",
         "hoverinfo": "skip",
         "line": {
          "color": "rgba(254, 203, 82, 0.3)",
          "width": 2
         },
         "mode": "lines",
         "name": "maj7_2 region",
         "showlegend": true,
         "type": "scatter",
         "x": {
          "bdata": "LDHrVnmq5j+BQtUDRxrpP1e2M8ybz+k/NbFzv32M6j/Kz3DwCfrqP8LalC0mJuo/I9laYx4A6T8XSDsJ78PoP1kQ4Qbg5ec/oXAZy/J65z/xDlsvGXrmP72atjE+nOQ/gfgajhAf5D/Zc+QhGvzjP3ZVrPQ7luQ/RwXn1a7W5T8sMetWearmPw==",
          "dtype": "f8"
         },
         "y": {
          "bdata": "MChEmwR/2T9BytltW2PWP5HzP7kg4NM/tRaAgfM30j+N9gGxItbQP+n5MmH9K9A/3Z0YqPza0D+oKnu/gBLRP6eRg/9LpNI/jfCxVClA0z+aI8UvrfDUPxpEJXLDStY/dN+LuAHb1j8yI/dPckfZPyOPa879xdo/5s59OF/d2T8wKESbBH/ZPw==",
          "dtype": "f8"
         }
        },
        {
         "hovertemplate": "<b>Folder:</b> maj7_2<br><b>Centroid Entropy:</b> %{x}<br><b>Centroid Complexity:</b> %{y}<extra></extra>",
         "marker": {
          "color": "#FECB52",
          "size": 12,
          "symbol": "circle"
         },
         "mode": "markers",
         "name": "maj7_2 centroid",
         "type": "scatter",
         "x": [
          0.7508770648200881
         ],
         "y": [
          0.3281239121590631
         ]
        },
        {
         "fill": "toself",
         "fillcolor": "rgba(99, 110, 250, 0.3)",
         "hoverinfo": "skip",
         "line": {
          "color": "rgba(99, 110, 250, 0.3)",
          "width": 2
         },
         "mode": "lines",
         "name": "aug region",
         "showlegend": true,
         "type": "scatter",
         "x": {
          "bdata": "DMWxbhxB5z84ZwebLeblP1Pvb9MD2eQ/jg/AUb+N5D+DVYfZQuHlP8/5zwBOK+c/miCW2nKj6D8aVwsIqIfpP1DXZvnp1uo/I6K7amw76j/OLJycOTzpP+suDuzFWOg/DMWxbhxB5z8=",
          "dtype": "f8"
         },
         "y": {
          "bdata": "zTfg6UcD0z8X+OJmpXXVPxH19WWSHNk/BiDhMkJB2j9shdKp0YDaP/HhZqagpNg/bTEtmGld1j+VjDYKOrzUP9KR3hI8u9E/UVeu/bdf0D+KthN7vULRP4vlj/5CzdE/zTfg6UcD0z8=",
          "dtype": "f8"
         }
        },
        {
         "hovertemplate": "<b>Folder:</b> aug<br><b>Centroid Entropy:</b> %{x}<br><b>Centroid Complexity:</b> %{y}<extra></extra>",
         "marker": {
          "color": "#636EFA",
          "size": 12,
          "symbol": "circle"
         },
         "mode": "markers",
         "name": "aug centroid",
         "type": "scatter",
         "x": [
          0.7481273042116879
         ],
         "y": [
          0.3295321048886696
         ]
        },
        {
         "fill": "toself",
         "fillcolor": "rgba(99, 110, 250, 0.3)",
         "hoverinfo": "skip",
         "line": {
          "color": "rgba(99, 110, 250, 0.3)",
          "width": 2
         },
         "mode": "lines",
         "name": "sixth region",
         "showlegend": true,
         "type": "scatter",
         "x": {
          "bdata": "yl/6iAbN5D8aboLX0+nlPw2Kd0vMUOY/AhM0QG215j8UyPCE/VDoP32IOaZKxug/bOrSUN5c6T+3kBxX5Q3qP239dCz3X+o/mC1tcIyS6j9VNVNmwF/qP2f6K5XALeo/PCloH5TV6D8wFVNoIGHoP+rWCQmMGec/5XnepNvv5D/KX/qIBs3kPw==",
          "dtype": "f8"
         },
         "y": {
          "bdata": "GZYou5oO1j+T8uTJYHfaP2jQ563n/Nk/H2jR1cto2T/Eq5sLRsLWP7U/esaZHNY/vaNJdtlC1T8rtWOY/kvTP8dnqURnk9I/K/T1JD6Vzz96j6q0dZfPP50s5mCL8M8/Bm0TZ3HO0D/UFQIioF3RP+nqXapu1NM/O9KmmiTk1T8Zlii7mg7WPw==",
          "dtype": "f8"
         }
        },
        {
         "hovertemplate": "<b>Folder:</b> sixth<br><b>Centroid Entropy:</b> %{x}<br><b>Centroid Complexity:</b> %{y}<extra></extra>",
         "marker": {
          "color": "#636EFA",
          "size": 12,
          "symbol": "circle"
         },
         "mode": "markers",
         "name": "sixth centroid",
         "type": "scatter",
         "x": [
          0.7484167148208193
         ],
         "y": [
          0.3303469260536355
         ]
        },
        {
         "fill": "toself",
         "fillcolor": "rgba(255, 102, 146, 0.3)",
         "hoverinfo": "skip",
         "line": {
          "color": "rgba(255, 102, 146, 0.3)",
          "width": 2
         },
         "mode": "lines",
         "name": "maj3 region",
         "showlegend": true,
         "type": "scatter",
         "x": {
          "bdata": "Hg3AmZOw5D8jVS4IBczlP5KzDC075eY/y5oHu9MQ6D8oMQWl2aToP290JLRPh+k/vubPkJ2t6T9s8OXY8ybqP3a0Bu3XVeo/plCr+DJb6j+sFYC57f3pP4gvrITQhOk/dGoQ24U/6T9x7W6TPTroP5vVEBv64+Y/L2hSofOA5j8eDcCZk7DkPw==",
          "dtype": "f8"
         },
         "y": {
          "bdata": "X0V+guE41j+XgnQb9RvZP8Q4HHay8dg/1OkhM/Ul1z+SEFLzE2/WP3mTF1jx1dQ/I02VOuV11D/WYn5h/ALTP9sS6tofkNI/zGsZA2/c0T/oSPEBlsTQP1P4AjcBwtA/uDPeuYcO0T9d5CBxnTrSP78Dk0o9D9Q/CF+mBRuJ1D9fRX6C4TjWPw==",
          "dtype": "f8"
         }
        },
        {
         "hovertemplate": "<b>Folder:</b> maj3<br><b>Centroid Entropy:</b> %{x}<br><b>Centroid Complexity:</b> %{y}<extra></extra>",
         "marker": {
          "color": "#FF6692",
          "size": 12,
          "symbol": "circle"
         },
         "mode": "markers",
         "name": "maj3 centroid",
         "type": "scatter",
         "x": [
          0.7494072797124947
         ],
         "y": [
          0.3270499191266377
         ]
        },
        {
         "fill": "toself",
         "fillcolor": "rgba(25, 211, 243, 0.3)",
         "hoverinfo": "skip",
         "line": {
          "color": "rgba(25, 211, 243, 0.3)",
          "width": 2
         },
         "mode": "lines",
         "name": "min7b5 region",
         "showlegend": true,
         "type": "scatter",
         "x": {
          "bdata": "JuMVjJ5U6j/7VLoHbvPoP6gwso46J+g/96EOfGC05T/VIfLBeP/kP3NlyOLh+OQ/HLZ+2Nlh5T/BDOZ42KvlP++9o1SkFOY//zhF3wIy5j9CMRQ2BODmP1IPDDA7hOg/xLN1h8FJ6T+/mWsflenpP7eYN6OZfOo/8KLYA9Fk6j8m4xWMnlTqPw==",
          "dtype": "f8"
         },
         "y": {
          "bdata": "LFX0jUUC0D9ovuuH3mXQP98jzNZ5PdE/k9e+4zaD1T+OsVjV2O7VP16d+ESpq9g/kUl2lqki2j8R9tFgGw/aP40Eeeet+9k/K2et29Xz2T8ynSAsyLXYPz9kGC5Yn9Y/Q2IxGuo91T9WivGLhFvUP6NoH4HMSNI/SLVz4Xf/zz8sVfSNRQLQPw==",
          "dtype": "f8"
         }
        },
        {
         "hovertemplate": "<b>Folder:</b> min7b5<br><b>Centroid Entropy:</b> %{x}<br><b>Centroid Complexity:</b> %{y}<extra></extra>",
         "marker": {
          "color": "#19D3F3",
          "size": 12,
          "symbol": "circle"
         },
         "mode": "markers",
         "name": "min7b5 centroid",
         "type": "scatter",
         "x": [
          0.7476640261541176
         ],
         "y": [
          0.3302269604769499
         ]
        },
        {
         "fill": "toself",
         "fillcolor": "rgba(25, 211, 243, 0.3)",
         "hoverinfo": "skip",
         "line": {
          "color": "rgba(25, 211, 243, 0.3)",
          "width": 2
         },
         "mode": "lines",
         "name": "maj2 region",
         "showlegend": true,
         "type": "scatter",
         "x": {
          "bdata": "CiOqNcdz6j/aNXHInAXqP/lEPlsoPek/lM5nqiGi5z8kyiL4w4rmPyEPHLkYZuU/3Ix/KEG45D/pU0qfzj3mPxKAfY2xd+Y/RmMPVH/25j9zsEVvEL3nP+kYcJ4Dfug/ZBM4wvon6T8oLfVC7D/qPwojqjXHc+o/",
          "dtype": "f8"
         },
         "y": {
          "bdata": "MqRJxhwN0j8kqhQTBl3QP7sfVefZOdA/welob3gQ0z+QFyZLu/TUP8iOKmN3ZNY/b7FaaQVh1z86cqxvsj/XP7N9wBtiRNc/swotpHk+1z8XalON1O7WP6HEOHSNztY/+gl0fydd1T/5h5GJArTTPzKkScYcDdI/",
          "dtype": "f8"
         }
        },
        {
         "hovertemplate": "<b>Folder:</b> maj2<br><b>Centroid Entropy:</b> %{x}<br><b>Centroid Complexity:</b> %{y}<extra></extra>",
         "marker": {
          "color": "#19D3F3",
          "size": 12,
          "symbol": "circle"
         },
         "mode": "markers",
         "name": "maj2 centroid",
         "type": "scatter",
         "x": [
          0.7565157590375557
         ],
         "y": [
          0.32619933070012064
         ]
        },
        {
         "fill": "toself",
         "fillcolor": "rgba(239, 85, 59, 0.3)",
         "hoverinfo": "skip",
         "line": {
          "color": "rgba(239, 85, 59, 0.3)",
          "width": 2
         },
         "mode": "lines",
         "name": "aug6 region",
         "showlegend": true,
         "type": "scatter",
         "x": {
          "bdata": "CiOqNcdz6j/aNXHInAXqP/lEPlsoPek/lM5nqiGi5z8kyiL4w4rmP9yMfyhBuOQ/RMJ9D2lq5D9h4YfMELbkP3/SlMIFh+U/Z2bXxNB65z/pGHCeA37oP2QTOML6J+k/KC31Quw/6j8KI6o1x3PqPw==",
          "dtype": "f8"
         },
         "y": {
          "bdata": "MqRJxhwN0j8kqhQTBl3QP7sfVefZOdA/welob3gQ0z+QFyZLu/TUP2+xWmkFYdc/XHZQDXuD2j8XDF+OynHaPylBPHsBP9o/gO3G14582D+hxDh0jc7WP/oJdH8nXdU/+YeRiQK00z8ypEnGHA3SPw==",
          "dtype": "f8"
         }
        },
        {
         "hovertemplate": "<b>Folder:</b> aug6<br><b>Centroid Entropy:</b> %{x}<br><b>Centroid Complexity:</b> %{y}<extra></extra>",
         "marker": {
          "color": "#EF553B",
          "size": 12,
          "symbol": "circle"
         },
         "mode": "markers",
         "name": "aug6 centroid",
         "type": "scatter",
         "x": [
          0.7538776420517129
         ],
         "y": [
          0.328434625100776
         ]
        },
        {
         "fill": "toself",
         "fillcolor": "rgba(255, 161, 90, 0.3)",
         "hoverinfo": "skip",
         "line": {
          "color": "rgba(255, 161, 90, 0.3)",
          "width": 2
         },
         "mode": "lines",
         "name": "maj region",
         "showlegend": true,
         "type": "scatter",
         "x": {
          "bdata": "GHS6A38f5T+UFUMaAIHkP2zYDnpbtOU/fsdMDtbs5j8MM1lF+MToPyNfsT+jsuk/3XBTElU/6j+AdGmPSbzqP+8Qv4jiZuo/JCAJH4bm6T+rqO0dUaHpP4tVR1P3k+g/6WXhRmDj5j8YdLoDfx/lPw==",
          "dtype": "f8"
         },
         "y": {
          "bdata": "DzjMS1rq1T+SyGmSNkLWP+E7/Io1vto/k+WLnMcX2T+SHDipI13WP9fADJTth9Q/nGnDXHnJ0j/l2Y59fJXRP4+6fI2tRtA/9VtZiXyP0D/C0gpR6NvQP6FEIk6FptE/QKhKWPoZ1D8POMxLWurVPw==",
          "dtype": "f8"
         }
        },
        {
         "hovertemplate": "<b>Folder:</b> maj<br><b>Centroid Entropy:</b> %{x}<br><b>Centroid Complexity:</b> %{y}<extra></extra>",
         "marker": {
          "color": "#FFA15A",
          "size": 12,
          "symbol": "circle"
         },
         "mode": "markers",
         "name": "maj centroid",
         "type": "scatter",
         "x": [
          0.7508041309031934
         ],
         "y": [
          0.32910933173533585
         ]
        },
        {
         "fill": "toself",
         "fillcolor": "rgba(171, 99, 250, 0.3)",
         "hoverinfo": "skip",
         "line": {
          "color": "rgba(171, 99, 250, 0.3)",
          "width": 2
         },
         "mode": "lines",
         "name": "dim7 region",
         "showlegend": true,
         "type": "scatter",
         "x": {
          "bdata": "cCxXwWDW5T8khxk0L9vlP68Ofwi5C+Y/HsYE5Gc16D+F7zB1Ad/oP7h3RDRqFOk/0moxBN5g6T9Ilkv7kmzqP+5pK36reOo/QB675U1t6j/dWvirArjpP7+KmusZL+k/oosFGrru6D9XllUnBqHoP5dh7cw+wOU/f+s5mn1k5T9wLFfBYNblPw==",
          "dtype": "f8"
         },
         "y": {
          "bdata": "p+sx13Sv2T/hOgt96cHZPxeGXP44DNo/1gX5j3iP1j9uJxo+PfLVP720r7kFiNU/0wNOk/Sy1D/PXUhDXkXSP7oTtUmEI9I/HvIPkhy9zz/+gQF0JsfQP12+1sD0UdE/MIV6hSWz0T+LCNpdqWLSP9B5b5UJiNU/xQn5HXkp1j+n6zHXdK/ZPw==",
          "dtype": "f8"
         }
        },
        {
         "hovertemplate": "<b>Folder:</b> dim7<br><b>Centroid Entropy:</b> %{x}<br><b>Centroid Complexity:</b> %{y}<extra></extra>",
         "marker": {
          "color": "#AB63FA",
          "size": 12,
          "symbol": "circle"
         },
         "mode": "markers",
         "name": "dim7 centroid",
         "type": "scatter",
         "x": [
          0.7513598247903905
         ],
         "y": [
          0.32980989222588103
         ]
        },
        {
         "fill": "toself",
         "fillcolor": "rgba(255, 102, 146, 0.3)",
         "hoverinfo": "skip",
         "line": {
          "color": "rgba(255, 102, 146, 0.3)",
          "width": 2
         },
         "mode": "lines",
         "name": "octave region",
         "showlegend": true,
         "type": "scatter",
         "x": {
          "bdata": "ficL3OX96j/Jj6Ws69npP5qicsszlOg/JB/qknd46D9R+MGjCWjmP3z5Z7SJx+U/Xa2wxMpP5T8/uWlfPMjkPyNwmKU18uU/SM5xQOGp5j9N0NHbjQDoP2f3VqQMkOg/Mp/UKPNR6j9+Jwvc5f3qPw==",
          "dtype": "f8"
         },
         "y": {
          "bdata": "QytHSN3e0D/AvHpWmKPQP5eOL7ElRNE/tX0uiyFc0T+Tnz90YP7UP1jfv1yPytU/CSek/rZd1j/Yhq/sqwzXP/f7SEZALNc/5ztUfNN81z9XwFavD7vWP8CPWUNY9dU/KyHjRD660z9DK0dI3d7QPw==",
          "dtype": "f8"
         }
        },
        {
         "hovertemplate": "<b>Folder:</b> octave<br><b>Centroid Entropy:</b> %{x}<br><b>Centroid Complexity:</b> %{y}<extra></extra>",
         "marker": {
          "color": "#FF6692",
          "size": 12,
          "symbol": "circle"
         },
         "mode": "markers",
         "name": "octave centroid",
         "type": "scatter",
         "x": [
          0.7516584242941338
         ],
         "y": [
          0.32493164012083503
         ]
        },
        {
         "fill": "toself",
         "fillcolor": "rgba(239, 85, 59, 0.3)",
         "hoverinfo": "skip",
         "line": {
          "color": "rgba(239, 85, 59, 0.3)",
          "width": 2
         },
         "mode": "lines",
         "name": "min2 region",
         "showlegend": true,
         "type": "scatter",
         "x": {
          "bdata": "8Q5bLxl65j+9mrYxPpzkP4H4Go4QH+Q/p/ErNfPa5T+/V0VMeSXnP8dbXSuxq+c/gULVA0ca6T9XtjPMm8/pPzWxc799jOo/ys9w8An66j/C2pQtJibqPyPZWmMeAOk/F0g7Ce/D6D9ZEOEG4OXnP6FwGcvyeuc/8Q5bLxl65j8=",
          "dtype": "f8"
         },
         "y": {
          "bdata": "miPFL63w1D8aRCVyw0rWP3Tfi7gB29Y/aQFy7n+D1z8jqmc8ElHXP9PLC6fJBNc/QcrZbVtj1j+R8z+5IODTP7UWgIHzN9I/jfYBsSLW0D/p+TJh/SvQP92dGKj82tA/qCp7v4AS0T+nkYP/S6TSP43wsVQpQNM/miPFL63w1D8=",
          "dtype": "f8"
         }
        },
        {
         "hovertemplate": "<b>Folder:</b> min2<br><b>Centroid Entropy:</b> %{x}<br><b>Centroid Complexity:</b> %{y}<extra></extra>",
         "marker": {
          "color": "#EF553B",
          "size": 12,
          "symbol": "circle"
         },
         "mode": "markers",
         "name": "min2 centroid",
         "type": "scatter",
         "x": [
          0.7539668323194576
         ],
         "y": [
          0.32537659820336023
         ]
        },
        {
         "fill": "toself",
         "fillcolor": "rgba(0, 204, 150, 0.3)",
         "hoverinfo": "skip",
         "line": {
          "color": "rgba(0, 204, 150, 0.3)",
          "width": 2
         },
         "mode": "lines",
         "name": "min3 region",
         "showlegend": true,
         "type": "scatter",
         "x": {
          "bdata": "D9u96Wu35D8PzyZgynnlPwAyo9aF7+Y/xV53l0w86D+tuHEK17foP6cNJ06sWuk/I1P/nJi+6T+duSQWVOfpP/rRylmK5+o/UjfBkYrT6j+Ljkzli5TpPwfLsjPT7ug/EdrN83rC5z+mdJbbGRPnP0O5OajY4eY/pokA6S4G5T8P273pa7fkPw==",
          "dtype": "f8"
         },
         "y": {
          "bdata": "keU3HMsb1j/5N7m0dP3XP1vpYI48xNc/sVJ47mET1z8rWqUMETTWP1Mj45UJB9U/jRfzZgE61D+bEqyx0MzTP1piJUVGxtE/gtPtaJxx0T/pcjW7hODQP9zui1TdpdA/JvtzWiwI0z95i4Hq9kDUP0El/ZlbhdQ/KzFswAr81T+R5TccyxvWPw==",
          "dtype": "f8"
         }
        },
        {
         "hovertemplate": "<b>Folder:</b> min3<br><b>Centroid Entropy:</b> %{x}<br><b>Centroid Complexity:</b> %{y}<extra></extra>",
         "marker": {
          "color": "#00CC96",
          "size": 12,
          "symbol": "circle"
         },
         "mode": "markers",
         "name": "min3 centroid",
         "type": "scatter",
         "x": [
          0.7552811062856477
         ],
         "y": [
          0.32583906467405915
         ]
        },
        {
         "fill": "toself",
         "fillcolor": "rgba(171, 99, 250, 0.3)",
         "hoverinfo": "skip",
         "line": {
          "color": "rgba(171, 99, 250, 0.3)",
          "width": 2
         },
         "mode": "lines",
         "name": "tritone region",
         "showlegend": true,
         "type": "scatter",
         "x": {
          "bdata": "EgKm+rUd5T8kM/l+3bHlP2qz3Lxn3eY/prMrLatm6D+5zFNoxG3pP+aXIbpDq+k/3yIA8vng6T/PB5OVlSPqP5QgUmA6Cuo/dudJTHuY6T8ts49fionoPyfXlNv22uc/VmHCvVId5z9Onn0or47mP1QzJtqlyuQ/EgKm+rUd5T8=",
          "dtype": "f8"
         },
         "y": {
          "bdata": "vwFrypTB2T8+7LC5eTnaPyTKc3x0Adk/TcYAUfa61j9/zI6RciHVP3IBiS9YadQ/Sr+ojVyO0z8MwM22SJzSP07PdNAXCdE/wW4w2LxY0T/soZjm8ITSP0d6IdjF9tI/JnwIzr5c1D8tU9M2nTbVPztHs4M8z9Y/vwFrypTB2T8=",
          "dtype": "f8"
         }
        },
        {
         "hovertemplate": "<b>Folder:</b> tritone<br><b>Centroid Entropy:</b> %{x}<br><b>Centroid Complexity:</b> %{y}<extra></extra>",
         "marker": {
          "color": "#AB63FA",
          "size": 12,
          "symbol": "circle"
         },
         "mode": "markers",
         "name": "tritone centroid",
         "type": "scatter",
         "x": [
          0.7530457564842488
         ],
         "y": [
          0.3269941088866423
         ]
        },
        {
         "fill": "toself",
         "fillcolor": "rgba(255, 151, 255, 0.3)",
         "hoverinfo": "skip",
         "line": {
          "color": "rgba(255, 151, 255, 0.3)",
          "width": 2
         },
         "mode": "lines",
         "name": "maj7 region",
         "showlegend": true,
         "type": "scatter",
         "x": {
          "bdata": "byspdJ4K5T+BA9M3DQLlPz7CuV/3cuU/tnPrHNXL5T/S0pDcu8rmP5FxaLOc1ug/CQ2fqMhK6T/lsRpMBI7pP7fKSTGhZeo/fP8UMoBp6j//pAIlqVTqPzyoObAUCeo/KnH7cLAP6T+k6idqmYHoPwdPX/EQlec/D90Fah5V5T8GLsBO/AblP28rKXSeCuU/",
          "dtype": "f8"
         },
         "y": {
          "bdata": "ZrBk6B8l1j9EV+KRmTbZP0MsCTALYNo/HKpAR/gg2j9fNvv4id3YP6Zp+7FSK9Y/Xayw/+U11T94RZvfK5rUP8DWDCmuktI/Xxa5W7p+0D91GpYfx1bQP4FstHF+HdA/qB1Nx7Mv0D+4carOxuvQP421ygzhKdM/rYBng3SD1T8WauHsB/DVP2awZOgfJdY/",
          "dtype": "f8"
         }
        },
        {
         "hovertemplate": "<b>Folder:</b> maj7<br><b>Centroid Entropy:</b> %{x}<br><b>Centroid Complexity:</b> %{y}<extra></extra>",
         "marker": {
          "color": "#FF97FF",
          "size": 12,
          "symbol": "circle"
         },
         "mode": "markers",
         "name": "maj7 centroid",
         "type": "scatter",
         "x": [
          0.7461031523003729
         ],
         "y": [
          0.33072456642805426
         ]
        },
        {
         "fill": "toself",
         "fillcolor": "rgba(182, 232, 128, 0.3)",
         "hoverinfo": "skip",
         "line": {
          "color": "rgba(182, 232, 128, 0.3)",
          "width": 2
         },
         "mode": "lines",
         "name": "maj6 region",
         "showlegend": true,
         "type": "scatter",
         "x": {
          "bdata": "ZniMOiw15T+hThr4w47mP8Ved5dMPOg/rbhxCte36D+nDSdOrFrpPyNT/5yYvuk/nbkkFlTn6T/60cpZiufqP1I3wZGK0+o/i45M5YuU6T8Hy7Iz0+7oPxHazfN6wuc/pnSW2xkT5z9DuTmo2OHmP6aJAOkuBuU/D9u96Wu35D9Hw+AvOuDkP7+ATscY9OQ/ZniMOiw15T8=",
          "dtype": "f8"
         },
         "y": {
          "bdata": "uhOumcxs2j/Ifc3Wa5LYP7FSeO5hE9c/K1qlDBE01j9TI+OVCQfVP40X82YBOtQ/mxKssdDM0z9aYiVFRsbRP4LT7WiccdE/6XI1u4Tg0D/c7otU3aXQPyb7c1osCNM/eYuB6vZA1D9BJf2ZW4XUPysxbMAK/NU/keU3HMsb1j+Vd6yvJT/aP/qb9carodo/uhOumcxs2j8=",
          "dtype": "f8"
         }
        },
        {
         "hovertemplate": "<b>Folder:</b> maj6<br><b>Centroid Entropy:</b> %{x}<br><b>Centroid Complexity:</b> %{y}<extra></extra>",
         "marker": {
          "color": "#B6E880",
          "size": 12,
          "symbol": "circle"
         },
         "mode": "markers",
         "name": "maj6 centroid",
         "type": "scatter",
         "x": [
          0.7540844674364029
         ],
         "y": [
          0.327252900934448
         ]
        },
        {
         "fill": "toself",
         "fillcolor": "rgba(99, 110, 250, 0.3)",
         "hoverinfo": "skip",
         "line": {
          "color": "rgba(99, 110, 250, 0.3)",
          "width": 2
         },
         "mode": "lines",
         "name": "min region",
         "showlegend": true,
         "type": "scatter",
         "x": {
          "bdata": "jNDGPtNA5T8gc8cPf0/lP6nYDpAjL+c/vNMx6FLO5z81gqb8T0HoP4xO0nQxiOg/MfuxGOFe6T/rqQ0BHG/pPzYOE3mMs+k/w8/JvPg56j/eMplkIXPqP9zTIyycHeo/MC4WuaDx6T9LtP5ps73pPxKo1rb6DOk/rQvGn5l86D/X43DG6HnnP2R7yHUxMuY/1YlOFFKr5T8R1PAKKpfkP4zQxj7TQOU/",
          "dtype": "f8"
         },
         "y": {
          "bdata": "sRxKFOKn2j+MZ8jajIbaP7Y0Rb99ldc/Rla50PEn1z9vknIqHNjWP11Dy1kTstY/sVvs89AC1T+tApm9XuLUP7r4mwFrPNQ/LboIsMe50j/tfmDezTTSP2bajGsn7dA/qGLEoYZ90D88JAuxlTLQP/nJqPG+F9E/0XBOnEnH0T8ZSuQXJXDTP6YhoBd+N9U/iXkBY/701T8un2nEIy7ZP7EcShTip9o/",
          "dtype": "f8"
         }
        },
        {
         "hovertemplate": "<b>Folder:</b> min<br><b>Centroid Entropy:</b> %{x}<br><b>Centroid Complexity:</b> %{y}<extra></extra>",
         "marker": {
          "color": "#636EFA",
          "size": 12,
          "symbol": "circle"
         },
         "mode": "markers",
         "name": "min centroid",
         "type": "scatter",
         "x": [
          0.7507461502210837
         ],
         "y": [
          0.32864352731143653
         ]
        },
        {
         "fill": "toself",
         "fillcolor": "rgba(239, 85, 59, 0.3)",
         "hoverinfo": "skip",
         "line": {
          "color": "rgba(239, 85, 59, 0.3)",
          "width": 2
         },
         "mode": "lines",
         "name": "sus2 region",
         "showlegend": true,
         "type": "scatter",
         "x": {
          "bdata": "EoQxfjQ55T8XB6HkWK7lPzEFcPjgn+c/buqNs74p6D9etvXQ17roPwGDDHn3Fek/QAq4g31+6T+OsrP6n6HpP6ge08YJ4ek/6fWLKTOT6j8ujq+k4RHqP790/fSC3+k/lKLm06lf6D9PYDbVm7DlP4Qy/0ncdeU/Ztred8tt5T/UQoVJIFDlPxKEMX40OeU/",
          "dtype": "f8"
         },
         "y": {
          "bdata": "x5BD8i7k2j8e5jflyGvaPwi2eXdLXtc/Vz0fL0D01j+DloAHcDLWPyw7w62fq9U/eMjGxaz71D+lqrtM0I/UPz0Idpv03dM/p9wJ5YH00T9XR1tGzqPQP3Dygq7iYNA/MoJDJGel0T8eEI9p0GfVP01DXtJcktU/3WUTwJy71T+h5PXqAfjWP8eQQ/Iu5No/",
          "dtype": "f8"
         }
        },
        {
         "hovertemplate": "<b>Folder:</b> sus2<br><b>Centroid Entropy:</b> %{x}<br><b>Centroid Complexity:</b> %{y}<extra></extra>",
         "marker": {
          "color": "#EF553B",
          "size": 12,
          "symbol": "circle"
         },
         "mode": "markers",
         "name": "sus2 centroid",
         "type": "scatter",
         "x": [
          0.7484630916390927
         ],
         "y": [
          0.32867900638343783
         ]
        },
        {
         "fill": "toself",
         "fillcolor": "rgba(254, 203, 82, 0.3)",
         "hoverinfo": "skip",
         "line": {
          "color": "rgba(254, 203, 82, 0.3)",
          "width": 2
         },
         "mode": "lines",
         "name": "seventh region",
         "showlegend": true,
         "type": "scatter",
         "x": {
          "bdata": "7Jyf56Fq5T8MuYwlc7/lP0k3XtWCYOY/nqo1EPwu5z8aCAGWitbnP28KHSjyueg/FGdyXddJ6T9RG7nwf27pPxu4gCsybuo/yGHNEi1o6j9MKQS2K8HpP7vZN7OhBek/7WIb80Z+6D8NfGEK70jmPzuKES52p+U/obWtfo995T8j25eSpU7lP+ycn+ehauU/",
          "dtype": "f8"
         },
         "y": {
          "bdata": "O+E1TII02j/L0NUxBhXaP1qudSgc+tk/wHeitfxL2D8XJCG1AVbXP/IGqKipPNY/KRff+lpP1T8FoEUQwRbVP4W1NNTtaNI/KpJiINAFzz81ipFKIw/QP2FssS5V59A/MNgfR+po0T84MIl05ADVP3H2M26xftU/BQSxGc8B1j8ZiEIuHrfXPzvhNUyCNNo/",
          "dtype": "f8"
         }
        },
        {
         "hovertemplate": "<b>Folder:</b> seventh<br><b>Centroid Entropy:</b> %{x}<br><b>Centroid Complexity:</b> %{y}<extra></extra>",
         "marker": {
          "color": "#FECB52",
          "size": 12,
          "symbol": "circle"
         },
         "mode": "markers",
         "name": "seventh centroid",
         "type": "scatter",
         "x": [
          0.7485251142348106
         ],
         "y": [
          0.33065328710229724
         ]
        },
        {
         "fill": "toself",
         "fillcolor": "rgba(0, 204, 150, 0.3)",
         "hoverinfo": "skip",
         "line": {
          "color": "rgba(0, 204, 150, 0.3)",
          "width": 2
         },
         "mode": "lines",
         "name": "sus4 region",
         "showlegend": true,
         "type": "scatter",
         "x": {
          "bdata": "rzrAT9wS5j9jNcSYQTbmP98p9/7jzOY/buqNs74p6D9etvXQ17roPwGDDHn3Fek/jrKz+p+h6T+oHtPGCeHpP+n1iykzk+o/Lo6vpOER6j+/dP30gt/pP5Si5tOpX+g/T2A21Zuw5T+EMv9J3HXlP2ba3nfLbeU/1EKFSSBQ5T+vOsBP3BLmPw==",
          "dtype": "f8"
         },
         "y": {
          "bdata": "dvtraRXw2T8gbmageAraP7RCv/oI/9g/Vz0fL0D01j+DloAHcDLWPyw7w62fq9U/paq7TNCP1D89CHab9N3TP6fcCeWB9NE/V0dbRs6j0D9w8oKu4mDQPzKCQyRnpdE/HhCPadBn1T9NQ17SXJLVP91lE8Ccu9U/oeT16gH41j92+2tpFfDZPw==",
          "dtype": "f8"
         }
        },
        {
         "hovertemplate": "<b>Folder:</b> sus4<br><b>Centroid Entropy:</b> %{x}<br><b>Centroid Complexity:</b> %{y}<extra></extra>",
         "marker": {
          "color": "#00CC96",
          "size": 12,
          "symbol": "circle"
         },
         "mode": "markers",
         "name": "sus4 centroid",
         "type": "scatter",
         "x": [
          0.7483205285468949
         ],
         "y": [
          0.3290637276043774
         ]
        },
        {
         "line": {
          "color": "red",
          "dash": "dash"
         },
         "mode": "lines",
         "name": "Maximum Complexity Boundary",
         "type": "scatter",
         "x": {
          "bdata": "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",
          "dtype": "f8"
         },
         "y": {
          "bdata": "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",
          "dtype": "f8"
         }
        },
        {
         "line": {
          "color": "green",
          "dash": "dash"
         },
         "mode": "lines",
         "name": "Minimum Complexity Boundary",
         "type": "scatter",
         "x": {
          "bdata": "AAAAAAAAAICaxf+16xqTP+jVhP1KAqI/vUTdi+gLqj/86nM1k+ewP8K3yY7ArrQ/p554aKFguD/uL+sCmwC8PzAUmEQWkb8/OC9Izu+JwT9fJ6LWLUXDP9zCdlXT+sQ/w/gEHFSrxj8NvFFLEFfIP6qV/uFY/sk/NbM6+3Khyz8sJAsvmkDNP7DF0VkC3M4/1TEXfOw50D9Eo50aIwTRP2yQ0d+2zNE/cXTxubeT0j+olffyM1nTP1t01Gg4HdQ/9H3Ou9Df1D86qBR1B6HVP9wYEyfmYNY/6J68iHUf1z8jY7eMvdzXP+DxJ3XFmNg/K+Ku5JNT2T+Dkg/tLg3aP45i3xucxdo/e8qKheB82z/HfO/OADPcP7hzvzUB6Nw/PsHXl+Wb3T86q655sU7eP6iv9gtoAN8/nDCPMAyx3z9Pw2s/UDDgP4fyuqOTh+A/ylnQS1He4D+2U/sdijThPz/0d+E+iuE/Qmx4P3Df4T8RywLEHjTiP6MEpt5KiOI/1I4I4/Tb4j9mYlIJHS/jP3Kyc27DgeM/hzlJFOjT4z/jjp7hiiXkP/qKDqKrduQ/+FfBBUrH5D/zXQehZRflP7HIz+v9ZuU/h+v4QBK25T8VRHjdoQTmP8xKV9+rUuY/IZyBRC+g5j94S2DpKu3mP6RZPYedOec/N09psoWF5z+X1RvY4dDnP/fNBjywG+g/48WR9e5l6D84trHsm6/oP9ubTta0+Og/1pYlMDdB6T+zsRI8IInpP7wOqfps0Ok//L/6JBoX6j81rmolJF3qP6I6Wg+Houo/yCN5lT7n6j+L1W/+RSvrP0CTiReYbus/5ELrJC+x6z99ysLOBPPrP0yqrgoSNOw/q/lgAE907D/z+SzosrPsPzkUuOEz8uw/IStdwMYv7T9YSNjJXmztPxjoW2Ltp+0/YoL0nmHi7T99rZWzpxvuP30tZSyoU+4/3roJ2EaK7j+hR1o3Yb/uPwiMLibM8u4/5bjgL1Ak7z8p/rF0o1PvP1Omz7BegO8/zKz4ROep7z8Ha0uLO8/vP00Cx0hS7u8/AAAAAAAA8D8=",
          "dtype": "f8"
         },
         "y": {
          "bdata": "AAAAAAAAAIDM4Y+YJlKSP3cLBINQtqA/J6zO+G52pz/N5dV3Gp6tP32fvDSTpLE/ZaqxOrdEtD8TBRfs0bW2Pz4In7ex/Lg/GLkl5iMduz9xvMwPQxq9Pxsj/6un9r4/5RS4+ENawD9oIqDe5irBPyRePBgT7sE/wQS/lIakwj+vc/D06k7DPw+0hN/Y7cM/pSqkndqBxD8oUsMvbgvFP5alVvwGi8U/hbZQMA8Bxj8sB9Pi6G3GP/hm9Qjv0cY/xNtVQ3Ytxz+YwtaMzYDHP9+iQtA+zMc/fgROaQ8QyD/crH+UgEzIP5sM0dDPgcg/ni5MNTewyD9iM3+87dfIP0a3R4cn+cg/fpI0GBYUyT+FPYaI6CjJP5yFqrfLN8k/4/HsdepAyT91afiqbUTJPygQr3h8Qsk/y77JWjw7yT/8YqBD0S7JPxf1brZdHck/SXpf3wIHyT/Z8pep4OvIP2cIg9MVzMg/PX2DAcCnyD9qhzzP+37IPyJNlN/kUcg/7m6R65UgyD8B7jDQKOvHP3iHTpu2scc/0wG3l1d0xz8XdnlYIzPHPym7isMw7sY/u1HMG5alxj+AsYYKaVnGP2W5Zai+CcY/itMEhqu2xT/kqBe0Q2DFP1J8O8uaBsU/k9Z888OpxD9Y05zr0UnEPyY2IRDX5sM/ToM6YuWAwz/Sh4uODhjDP9tB3vNjrMI/8cnSqfY9wj9N75WH18zBPxqprioXWcE/kEzz/cXiwD9sFbpA9GnAP14jtxxk3b8/msZDzB7ivj+pCIpnOOK9P53wNrHQ3bw/2BdgawfVuz8HP/Nt/Me6P/0JBcDPtrk/A3bGtKGhuD/EsyUNk4i3P1sKdB/Fa7Y/353hBlpLtT8Cb0vddCe0P1Lq0QI6ALM/PSYjeM/VsT+5+pxSXaiwP9pCy6kc8K4/hmBseCGKrD+oqte3Lh+qP+ZMTGK2r6c/w7ANazs8pT8z3wTgWMWiPzQr8GfNS6A/peLq2R2hmz/cun3T3amWP55cgtvItZE/L6gfV+WWiT8G9z+G6d9/P9Qznsa2+Wo/3KtzhX9C17w=",
          "dtype": "f8"
         }
        }
       ],
       "layout": {
        "height": 600,
        "template": {
         "data": {
          "bar": [
           {
            "error_x": {
             "color": "#2a3f5f"
            },
            "error_y": {
             "color": "#2a3f5f"
            },
            "marker": {
             "line": {
              "color": "white",
              "width": 0.5
             },
             "pattern": {
              "fillmode": "overlay",
              "size": 10,
              "solidity": 0.2
             }
            },
            "type": "bar"
           }
          ],
          "barpolar": [
           {
            "marker": {
             "line": {
              "color": "white",
              "width": 0.5
             },
             "pattern": {
              "fillmode": "overlay",
              "size": 10,
              "solidity": 0.2
             }
            },
            "type": "barpolar"
           }
          ],
          "carpet": [
           {
            "aaxis": {
             "endlinecolor": "#2a3f5f",
             "gridcolor": "#C8D4E3",
             "linecolor": "#C8D4E3",
             "minorgridcolor": "#C8D4E3",
             "startlinecolor": "#2a3f5f"
            },
            "baxis": {
             "endlinecolor": "#2a3f5f",
             "gridcolor": "#C8D4E3",
             "linecolor": "#C8D4E3",
             "minorgridcolor": "#C8D4E3",
             "startlinecolor": "#2a3f5f"
            },
            "type": "carpet"
           }
          ],
          "choropleth": [
           {
            "colorbar": {
             "outlinewidth": 0,
             "ticks": ""
            },
            "type": "choropleth"
           }
          ],
          "contour": [
           {
            "colorbar": {
             "outlinewidth": 0,
             "ticks": ""
            },
            "colorscale": [
             [
              0,
              "#0d0887"
             ],
             [
              0.1111111111111111,
              "#46039f"
             ],
             [
              0.2222222222222222,
              "#7201a8"
             ],
             [
              0.3333333333333333,
              "#9c179e"
             ],
             [
              0.4444444444444444,
              "#bd3786"
             ],
             [
              0.5555555555555556,
              "#d8576b"
             ],
             [
              0.6666666666666666,
              "#ed7953"
             ],
             [
              0.7777777777777778,
              "#fb9f3a"
             ],
             [
              0.8888888888888888,
              "#fdca26"
             ],
             [
              1,
              "#f0f921"
             ]
            ],
            "type": "contour"
           }
          ],
          "contourcarpet": [
           {
            "colorbar": {
             "outlinewidth": 0,
             "ticks": ""
            },
            "type": "contourcarpet"
           }
          ],
          "heatmap": [
           {
            "colorbar": {
             "outlinewidth": 0,
             "ticks": ""
            },
            "colorscale": [
             [
              0,
              "#0d0887"
             ],
             [
              0.1111111111111111,
              "#46039f"
             ],
             [
              0.2222222222222222,
              "#7201a8"
             ],
             [
              0.3333333333333333,
              "#9c179e"
             ],
             [
              0.4444444444444444,
              "#bd3786"
             ],
             [
              0.5555555555555556,
              "#d8576b"
             ],
             [
              0.6666666666666666,
              "#ed7953"
             ],
             [
              0.7777777777777778,
              "#fb9f3a"
             ],
             [
              0.8888888888888888,
              "#fdca26"
             ],
             [
              1,
              "#f0f921"
             ]
            ],
            "type": "heatmap"
           }
          ],
          "histogram": [
           {
            "marker": {
             "pattern": {
              "fillmode": "overlay",
              "size": 10,
              "solidity": 0.2
             }
            },
            "type": "histogram"
           }
          ],
          "histogram2d": [
           {
            "colorbar": {
             "outlinewidth": 0,
             "ticks": ""
            },
            "colorscale": [
             [
              0,
              "#0d0887"
             ],
             [
              0.1111111111111111,
              "#46039f"
             ],
             [
              0.2222222222222222,
              "#7201a8"
             ],
             [
              0.3333333333333333,
              "#9c179e"
             ],
             [
              0.4444444444444444,
              "#bd3786"
             ],
             [
              0.5555555555555556,
              "#d8576b"
             ],
             [
              0.6666666666666666,
              "#ed7953"
             ],
             [
              0.7777777777777778,
              "#fb9f3a"
             ],
             [
              0.8888888888888888,
              "#fdca26"
             ],
             [
              1,
              "#f0f921"
             ]
            ],
            "type": "histogram2d"
           }
          ],
          "histogram2dcontour": [
           {
            "colorbar": {
             "outlinewidth": 0,
             "ticks": ""
            },
            "colorscale": [
             [
              0,
              "#0d0887"
             ],
             [
              0.1111111111111111,
              "#46039f"
             ],
             [
              0.2222222222222222,
              "#7201a8"
             ],
             [
              0.3333333333333333,
              "#9c179e"
             ],
             [
              0.4444444444444444,
              "#bd3786"
             ],
             [
              0.5555555555555556,
              "#d8576b"
             ],
             [
              0.6666666666666666,
              "#ed7953"
             ],
             [
              0.7777777777777778,
              "#fb9f3a"
             ],
             [
              0.8888888888888888,
              "#fdca26"
             ],
             [
              1,
              "#f0f921"
             ]
            ],
            "type": "histogram2dcontour"
           }
          ],
          "mesh3d": [
           {
            "colorbar": {
             "outlinewidth": 0,
             "ticks": ""
            },
            "type": "mesh3d"
           }
          ],
          "parcoords": [
           {
            "line": {
             "colorbar": {
              "outlinewidth": 0,
              "ticks": ""
             }
            },
            "type": "parcoords"
           }
          ],
          "pie": [
           {
            "automargin": true,
            "type": "pie"
           }
          ],
          "scatter": [
           {
            "fillpattern": {
             "fillmode": "overlay",
             "size": 10,
             "solidity": 0.2
            },
            "type": "scatter"
           }
          ],
          "scatter3d": [
           {
            "line": {
             "colorbar": {
              "outlinewidth": 0,
              "ticks": ""
             }
            },
            "marker": {
             "colorbar": {
              "outlinewidth": 0,
              "ticks": ""
             }
            },
            "type": "scatter3d"
           }
          ],
          "scattercarpet": [
           {
            "marker": {
             "colorbar": {
              "outlinewidth": 0,
              "ticks": ""
             }
            },
            "type": "scattercarpet"
           }
          ],
          "scattergeo": [
           {
            "marker": {
             "colorbar": {
              "outlinewidth": 0,
              "ticks": ""
             }
            },
            "type": "scattergeo"
           }
          ],
          "scattergl": [
           {
            "marker": {
             "colorbar": {
              "outlinewidth": 0,
              "ticks": ""
             }
            },
            "type": "scattergl"
           }
          ],
          "scattermap": [
           {
            "marker": {
             "colorbar": {
              "outlinewidth": 0,
              "ticks": ""
             }
            },
            "type": "scattermap"
           }
          ],
          "scattermapbox": [
           {
            "marker": {
             "colorbar": {
              "outlinewidth": 0,
              "ticks": ""
             }
            },
            "type": "scattermapbox"
           }
          ],
          "scatterpolar": [
           {
            "marker": {
             "colorbar": {
              "outlinewidth": 0,
              "ticks": ""
             }
            },
            "type": "scatterpolar"
           }
          ],
          "scatterpolargl": [
           {
            "marker": {
             "colorbar": {
              "outlinewidth": 0,
              "ticks": ""
             }
            },
            "type": "scatterpolargl"
           }
          ],
          "scatterternary": [
           {
            "marker": {
             "colorbar": {
              "outlinewidth": 0,
              "ticks": ""
             }
            },
            "type": "scatterternary"
           }
          ],
          "surface": [
           {
            "colorbar": {
             "outlinewidth": 0,
             "ticks": ""
            },
            "colorscale": [
             [
              0,
              "#0d0887"
             ],
             [
              0.1111111111111111,
              "#46039f"
             ],
             [
              0.2222222222222222,
              "#7201a8"
             ],
             [
              0.3333333333333333,
              "#9c179e"
             ],
             [
              0.4444444444444444,
              "#bd3786"
             ],
             [
              0.5555555555555556,
              "#d8576b"
             ],
             [
              0.6666666666666666,
              "#ed7953"
             ],
             [
              0.7777777777777778,
              "#fb9f3a"
             ],
             [
              0.8888888888888888,
              "#fdca26"
             ],
             [
              1,
              "#f0f921"
             ]
            ],
            "type": "surface"
           }
          ],
          "table": [
           {
            "cells": {
             "fill": {
              "color": "#EBF0F8"
             },
             "line": {
              "color": "white"
             }
            },
            "header": {
             "fill": {
              "color": "#C8D4E3"
             },
             "line": {
              "color": "white"
             }
            },
            "type": "table"
           }
          ]
         },
         "layout": {
          "annotationdefaults": {
           "arrowcolor": "#2a3f5f",
           "arrowhead": 0,
           "arrowwidth": 1
          },
          "autotypenumbers": "strict",
          "coloraxis": {
           "colorbar": {
            "outlinewidth": 0,
            "ticks": ""
           }
          },
          "colorscale": {
           "diverging": [
            [
             0,
             "#8e0152"
            ],
            [
             0.1,
             "#c51b7d"
            ],
            [
             0.2,
             "#de77ae"
            ],
            [
             0.3,
             "#f1b6da"
            ],
            [
             0.4,
             "#fde0ef"
            ],
            [
             0.5,
             "#f7f7f7"
            ],
            [
             0.6,
             "#e6f5d0"
            ],
            [
             0.7,
             "#b8e186"
            ],
            [
             0.8,
             "#7fbc41"
            ],
            [
             0.9,
             "#4d9221"
            ],
            [
             1,
             "#276419"
            ]
           ],
           "sequential": [
            [
             0,
             "#0d0887"
            ],
            [
             0.1111111111111111,
             "#46039f"
            ],
            [
             0.2222222222222222,
             "#7201a8"
            ],
            [
             0.3333333333333333,
             "#9c179e"
            ],
            [
             0.4444444444444444,
             "#bd3786"
            ],
            [
             0.5555555555555556,
             "#d8576b"
            ],
            [
             0.6666666666666666,
             "#ed7953"
            ],
            [
             0.7777777777777778,
             "#fb9f3a"
            ],
            [
             0.8888888888888888,
             "#fdca26"
            ],
            [
             1,
             "#f0f921"
            ]
           ],
           "sequentialminus": [
            [
             0,
             "#0d0887"
            ],
            [
             0.1111111111111111,
             "#46039f"
            ],
            [
             0.2222222222222222,
             "#7201a8"
            ],
            [
             0.3333333333333333,
             "#9c179e"
            ],
            [
             0.4444444444444444,
             "#bd3786"
            ],
            [
             0.5555555555555556,
             "#d8576b"
            ],
            [
             0.6666666666666666,
             "#ed7953"
            ],
            [
             0.7777777777777778,
             "#fb9f3a"
            ],
            [
             0.8888888888888888,
             "#fdca26"
            ],
            [
             1,
             "#f0f921"
            ]
           ]
          },
          "colorway": [
           "#636efa",
           "#EF553B",
           "#00cc96",
           "#ab63fa",
           "#FFA15A",
           "#19d3f3",
           "#FF6692",
           "#B6E880",
           "#FF97FF",
           "#FECB52"
          ],
          "font": {
           "color": "#2a3f5f"
          },
          "geo": {
           "bgcolor": "white",
           "lakecolor": "white",
           "landcolor": "white",
           "showlakes": true,
           "showland": true,
           "subunitcolor": "#C8D4E3"
          },
          "hoverlabel": {
           "align": "left"
          },
          "hovermode": "closest",
          "mapbox": {
           "style": "light"
          },
          "paper_bgcolor": "white",
          "plot_bgcolor": "white",
          "polar": {
           "angularaxis": {
            "gridcolor": "#EBF0F8",
            "linecolor": "#EBF0F8",
            "ticks": ""
           },
           "bgcolor": "white",
           "radialaxis": {
            "gridcolor": "#EBF0F8",
            "linecolor": "#EBF0F8",
            "ticks": ""
           }
          },
          "scene": {
           "xaxis": {
            "backgroundcolor": "white",
            "gridcolor": "#DFE8F3",
            "gridwidth": 2,
            "linecolor": "#EBF0F8",
            "showbackground": true,
            "ticks": "",
            "zerolinecolor": "#EBF0F8"
           },
           "yaxis": {
            "backgroundcolor": "white",
            "gridcolor": "#DFE8F3",
            "gridwidth": 2,
            "linecolor": "#EBF0F8",
            "showbackground": true,
            "ticks": "",
            "zerolinecolor": "#EBF0F8"
           },
           "zaxis": {
            "backgroundcolor": "white",
            "gridcolor": "#DFE8F3",
            "gridwidth": 2,
            "linecolor": "#EBF0F8",
            "showbackground": true,
            "ticks": "",
            "zerolinecolor": "#EBF0F8"
           }
          },
          "shapedefaults": {
           "line": {
            "color": "#2a3f5f"
           }
          },
          "ternary": {
           "aaxis": {
            "gridcolor": "#DFE8F3",
            "linecolor": "#A2B1C6",
            "ticks": ""
           },
           "baxis": {
            "gridcolor": "#DFE8F3",
            "linecolor": "#A2B1C6",
            "ticks": ""
           },
           "bgcolor": "white",
           "caxis": {
            "gridcolor": "#DFE8F3",
            "linecolor": "#A2B1C6",
            "ticks": ""
           }
          },
          "title": {
           "x": 0.05
          },
          "xaxis": {
           "automargin": true,
           "gridcolor": "#EBF0F8",
           "linecolor": "#EBF0F8",
           "ticks": "",
           "title": {
            "standoff": 15
           },
           "zerolinecolor": "#EBF0F8",
           "zerolinewidth": 2
          },
          "yaxis": {
           "automargin": true,
           "gridcolor": "#EBF0F8",
           "linecolor": "#EBF0F8",
           "ticks": "",
           "title": {
            "standoff": 15
           },
           "zerolinecolor": "#EBF0F8",
           "zerolinewidth": 2
          }
         }
        },
        "title": {
         "text": "Entropy–Complexity Regions for Folders in 'chords' (Dim=6, Hop=1)"
        },
        "width": 800,
        "xaxis": {
         "range": [
          0,
          1
         ],
         "title": {
          "text": "Normalized Permutation Entropy"
         }
        },
        "yaxis": {
         "range": [
          0,
          1
         ],
         "title": {
          "text": "Normalized Complexity"
         }
        }
       }
      }
     },
     "metadata": {},
     "output_type": "display_data"
    }
   ],
   "source": [
    "folder_path = \"data/chords\"\n",
    "dim = 6\n",
    "hop = 1\n",
    "alpha_val = 7\n",
    "plot_graph_ordpy_centroids_with_region(folder_path, dim, hop, alpha_val)"
   ]
  },
  {
   "cell_type": "code",
   "execution_count": 128,
   "metadata": {},
   "outputs": [
    {
     "name": "stderr",
     "output_type": "stream",
     "text": [
      "Processing audio files in data/arpeggios/perf4 with dim 6 and hop 1: 100%|██████████| 170/170 [00:19<00:00,  8.54it/s]\n",
      "Processing audio files in data/arpeggios/perf5 with dim 6 and hop 1: 100%|██████████| 170/170 [00:19<00:00,  8.66it/s]\n",
      "Processing audio files in data/arpeggios/min6 with dim 6 and hop 1: 100%|██████████| 170/170 [00:19<00:00,  8.75it/s]\n",
      "Processing audio files in data/arpeggios/dim with dim 6 and hop 1: 100%|██████████| 255/255 [00:36<00:00,  6.93it/s]\n",
      "Processing audio files in data/arpeggios/min7 with dim 6 and hop 1: 100%|██████████| 340/340 [00:59<00:00,  5.69it/s]\n",
      "Processing audio files in data/arpeggios/maj7_2 with dim 6 and hop 1: 100%|██████████| 170/170 [00:19<00:00,  8.58it/s]\n",
      "Processing audio files in data/arpeggios/aug with dim 6 and hop 1: 100%|██████████| 255/255 [00:36<00:00,  6.90it/s]\n",
      "Processing audio files in data/arpeggios/sixth with dim 6 and hop 1: 100%|██████████| 340/340 [00:59<00:00,  5.71it/s]\n",
      "Processing audio files in data/arpeggios/maj3 with dim 6 and hop 1: 100%|██████████| 170/170 [00:19<00:00,  8.60it/s]\n",
      "Processing audio files in data/arpeggios/min7b5 with dim 6 and hop 1: 100%|██████████| 340/340 [01:00<00:00,  5.65it/s]\n",
      "Processing audio files in data/arpeggios/maj2 with dim 6 and hop 1: 100%|██████████| 170/170 [00:19<00:00,  8.65it/s]\n",
      "Processing audio files in data/arpeggios/aug6 with dim 6 and hop 1: 100%|██████████| 170/170 [00:19<00:00,  8.52it/s]\n",
      "Processing audio files in data/arpeggios/maj with dim 6 and hop 1: 100%|██████████| 255/255 [00:37<00:00,  6.83it/s]\n",
      "Processing audio files in data/arpeggios/dim7 with dim 6 and hop 1: 100%|██████████| 340/340 [00:59<00:00,  5.74it/s]\n",
      "Processing audio files in data/arpeggios/octave with dim 6 and hop 1: 100%|██████████| 85/85 [00:09<00:00,  8.80it/s]\n",
      "Processing audio files in data/arpeggios/min2 with dim 6 and hop 1: 100%|██████████| 170/170 [00:19<00:00,  8.60it/s]\n",
      "Processing audio files in data/arpeggios/min3 with dim 6 and hop 1: 100%|██████████| 170/170 [00:19<00:00,  8.63it/s]\n",
      "Processing audio files in data/arpeggios/tritone with dim 6 and hop 1: 100%|██████████| 170/170 [00:19<00:00,  8.58it/s]\n",
      "Processing audio files in data/arpeggios/maj7 with dim 6 and hop 1: 100%|██████████| 340/340 [01:00<00:00,  5.63it/s]\n",
      "Processing audio files in data/arpeggios/maj6 with dim 6 and hop 1: 100%|██████████| 170/170 [00:19<00:00,  8.51it/s]\n",
      "Processing audio files in data/arpeggios/min with dim 6 and hop 1: 100%|██████████| 255/255 [00:37<00:00,  6.82it/s]\n",
      "Processing audio files in data/arpeggios/sus2 with dim 6 and hop 1: 100%|██████████| 255/255 [00:37<00:00,  6.85it/s]\n",
      "Processing audio files in data/arpeggios/seventh with dim 6 and hop 1: 100%|██████████| 340/340 [00:59<00:00,  5.69it/s]\n",
      "Processing audio files in data/arpeggios/sus4 with dim 6 and hop 1: 100%|██████████| 255/255 [00:37<00:00,  6.87it/s]\n"
     ]
    },
    {
     "data": {
      "application/vnd.plotly.v1+json": {
       "config": {
        "plotlyServerURL": "https://plot.ly"
       },
       "data": [
        {
         "fill": "toself",
         "fillcolor": "rgba(182, 232, 128, 0.3)",
         "hoverinfo": "skip",
         "line": {
          "color": "rgba(182, 232, 128, 0.3)",
          "width": 2
         },
         "mode": "lines",
         "name": "perf4 region",
         "showlegend": true,
         "type": "scatter",
         "x": {
          "bdata": "zW0QaezJ5T/ab4uqp2TnPxIn0T4pQug/jA5c3wdu6D+jGlqc0nTpP43G8zbCn+k/9vzY3I7b6T8MyFoVHvvqP3FZyOuFVus/RBZl8Lnu6j9C898W5EDqP3s37TcfCug/NxrZcf9Z5j/NbRBp7MnlPw==",
          "dtype": "f8"
         },
         "y": {
          "bdata": "fgj7J0ua2D8fGYTPZvnXP4L1kWxXsNY/CVQzbHZ61j+HI/YSEu7UP8aTGg9nlNQ/+6EGBo0i1D+p4mOC8G3RP9+BAAcOIdA/wwS7amIV0D+ZanPQMzzQP6S4no8YR9M/0bNIeN+31T9+CPsnS5rYPw==",
          "dtype": "f8"
         }
        },
        {
         "hovertemplate": "<b>Folder:</b> perf4<br><b>Centroid Entropy:</b> %{x}<br><b>Centroid Complexity:</b> %{y}<extra></extra>",
         "marker": {
          "color": "#B6E880",
          "size": 12,
          "symbol": "circle"
         },
         "mode": "markers",
         "name": "perf4 centroid",
         "type": "scatter",
         "x": [
          0.7770313037322913
         ],
         "y": [
          0.3143937196193585
         ]
        },
        {
         "fill": "toself",
         "fillcolor": "rgba(255, 151, 255, 0.3)",
         "hoverinfo": "skip",
         "line": {
          "color": "rgba(255, 151, 255, 0.3)",
          "width": 2
         },
         "mode": "lines",
         "name": "perf5 region",
         "showlegend": true,
         "type": "scatter",
         "x": {
          "bdata": "NxrZcf9Z5j9fAIOoAsflP0SwATEAueY/2m+Lqqdk5z8SJ9E+KULoP4wOXN8Hbug/oxpanNJ06T+NxvM2wp/pP/b82NyO2+k/DMhaFR776j9xWcjrhVbrP0QWZfC57uo/QvPfFuRA6j97N+03HwroPzca2XH/WeY/",
          "dtype": "f8"
         },
         "y": {
          "bdata": "0bNIeN+31T+72lIdTCXaP3EEZNb1i9k/HxmEz2b51z+C9ZFsV7DWPwlUM2x2etY/hyP2EhLu1D/GkxoPZ5TUP/uhBgaNItQ/qeJjgvBt0T/fgQAHDiHQP8MEu2piFdA/mWpz0DM80D+kuJ6PGEfTP9GzSHjft9U/",
          "dtype": "f8"
         }
        },
        {
         "hovertemplate": "<b>Folder:</b> perf5<br><b>Centroid Entropy:</b> %{x}<br><b>Centroid Complexity:</b> %{y}<extra></extra>",
         "marker": {
          "color": "#FF97FF",
          "size": 12,
          "symbol": "circle"
         },
         "mode": "markers",
         "name": "perf5 centroid",
         "type": "scatter",
         "x": [
          0.775844116093837
         ],
         "y": [
          0.31528782472687744
         ]
        },
        {
         "fill": "toself",
         "fillcolor": "rgba(171, 99, 250, 0.3)",
         "hoverinfo": "skip",
         "line": {
          "color": "rgba(171, 99, 250, 0.3)",
          "width": 2
         },
         "mode": "lines",
         "name": "min6 region",
         "showlegend": true,
         "type": "scatter",
         "x": {
          "bdata": "2vdm9K535T/GThy1q8rlP8q1c+gL5OY/YeV2wZFI6D+sg/CXW0/pP2So7wVc8+k/+z1ut7ss6j87QC9r9YzqP9mSB5G4P+s/E5yuhcFs6z/Tj522EyHrP7yj1iFIwuo/JqsEn1te6T/LWZrFvS7oP61VCZfepeU/2vdm9K535T8=",
          "dtype": "f8"
         },
         "y": {
          "bdata": "deGvyfbp2T88oLkDYi/aP1I3N9y3G9k/hp7qhoIy1z+uyouksqXVP42rLAvhC9Q/z/KfzayW0z/tVNSSVzPSP2QrEMPYgNA/hlqDq/vqzz+F32nbz9/OP27IB0Vgws8/nL+w5QO/0T8cAKsSRubSP2dFGvFcANY/deGvyfbp2T8=",
          "dtype": "f8"
         }
        },
        {
         "hovertemplate": "<b>Folder:</b> min6<br><b>Centroid Entropy:</b> %{x}<br><b>Centroid Complexity:</b> %{y}<extra></extra>",
         "marker": {
          "color": "#AB63FA",
          "size": 12,
          "symbol": "circle"
         },
         "mode": "markers",
         "name": "min6 centroid",
         "type": "scatter",
         "x": [
          0.7787969963933586
         ],
         "y": [
          0.31499861482349567
         ]
        },
        {
         "fill": "toself",
         "fillcolor": "rgba(0, 204, 150, 0.3)",
         "hoverinfo": "skip",
         "line": {
          "color": "rgba(0, 204, 150, 0.3)",
          "width": 2
         },
         "mode": "lines",
         "name": "dim region",
         "showlegend": true,
         "type": "scatter",
         "x": {
          "bdata": "ZIaN1rpw5j/VFFjRwKXmP9nfaPNa/uY/bNbJomZ+6D9LdDG5O/roP39T0NbAY+k/A4w5NVhM6j+GWfWtIn7qP6x3MaAcD+s/9yVZ5WR26z8WcqyETdHrP9d3XutiQOw/WHX1PG0K6z8n43i7yD3qP8wISPr+1eg/NcOGQNOu6D9OnoXLIpfnP1y8+/CCHuc/SBwDtiLb5j9kho3WunDmPw==",
          "dtype": "f8"
         },
         "y": {
          "bdata": "Njae5drL1z/Yz99YqBzZP/+rX5JBZtk/I5ZSeKTL1j+6TiVNNEnWP+FawwHrS9U/3WxPuliv0z8p5+5COSPTP1an/DSho9E/JadJSTdV0D81atDSdrXOPzeo1GE6nMo/PwJq9GCGzD8Zj3kIRoXQP1MlFH89rtI/rXNnEZze0j/b5AJsL1DUP+mHLLgya9U/zJnrybAf1j82Np7l2svXPw==",
          "dtype": "f8"
         }
        },
        {
         "hovertemplate": "<b>Folder:</b> dim<br><b>Centroid Entropy:</b> %{x}<br><b>Centroid Complexity:</b> %{y}<extra></extra>",
         "marker": {
          "color": "#00CC96",
          "size": 12,
          "symbol": "circle"
         },
         "mode": "markers",
         "name": "dim centroid",
         "type": "scatter",
         "x": [
          0.7884729685411632
         ],
         "y": [
          0.3076741015002463
         ]
        },
        {
         "fill": "toself",
         "fillcolor": "rgba(255, 161, 90, 0.3)",
         "hoverinfo": "skip",
         "line": {
          "color": "rgba(255, 161, 90, 0.3)",
          "width": 2
         },
         "mode": "lines",
         "name": "min7 region",
         "showlegend": true,
         "type": "scatter",
         "x": {
          "bdata": "PK+l72qF6j+AdNR1bifpP4W7YP9cj+g/0Etl6M8g6D/I/X2qAPzmP/E9MIkAOOY/vCshWe3/5j+tMiSnBU3nP1G76lfOSOg/L7Uvo+GR6D+kVc8wQT3pP4LtI4Ve5Ok/RzqSSD9r6j+KtWp9tOrqPxcCj230m+s/qYIxXGxC7D/TieDaC4bsP26SxXHUvOs/4qj2Zjic6z+imRjt+RPrPzyvpe9qheo/",
          "dtype": "f8"
         },
         "y": {
          "bdata": "7k+hbtGo0D+aW4yreqTSP8302ZpeadM/+Fq+2u/o0z8PbXSgWizWP+RGQ4yqHNg/PJddtV482T9ywV26TszYPxOFOG7p7dY/x80vV7qI1j/0mnGPjV3VP6ZPIoXyVtQ/INf5sU050z9foiiT8STSP5AMjRflnNA/HRY4pvqrzD8iF1OQ1r7IP7kHkNLrc8o/nkP1MyKDyz8yf1RWbeTOP+5PoW7RqNA/",
          "dtype": "f8"
         }
        },
        {
         "hovertemplate": "<b>Folder:</b> min7<br><b>Centroid Entropy:</b> %{x}<br><b>Centroid Complexity:</b> %{y}<extra></extra>",
         "marker": {
          "color": "#FFA15A",
          "size": 12,
          "symbol": "circle"
         },
         "mode": "markers",
         "name": "min7 centroid",
         "type": "scatter",
         "x": [
          0.7925119724414276
         ],
         "y": [
          0.3045650092928373
         ]
        },
        {
         "fill": "toself",
         "fillcolor": "rgba(254, 203, 82, 0.3)",
         "hoverinfo": "skip",
         "line": {
          "color": "rgba(254, 203, 82, 0.3)",
          "width": 2
         },
         "mode": "lines",
         "name": "maj7_2 region",
         "showlegend": true,
         "type": "scatter",
         "x": {
          "bdata": "o8fnKxYS6z9FKYH59PXqP0ZxvD3K/Ok/l7We9zOc6D9IpufFWyjoPyKD62bws+Y/cWm171sd5T9YEumaVBTlPwjeKW7Z+OQ/m0ES9DFz5T9bUZMpWmPmPwLMrxMcFuc//3nMZhAw6D9HEu8l7MboP+j9bZN6P+o/Axs699uG6j+jx+crFhLrPw==",
          "dtype": "f8"
         },
         "y": {
          "bdata": "7gjmQeH00D8QlTo34pvPP3Bhpyf05NA/Zo8f+qqz0j8OhOx/pRDTP5ozsRXoudQ/rsPuyJt41j/WYk4aembZPyaniREwXto/pRY7Sd1Y2j+ZbOUkUe3ZPyDR/udT7Ng/r/tsRldt1z+E9u7njbfWP3Xi2AS/j9M/5nwLSX/F0j/uCOZB4fTQPw==",
          "dtype": "f8"
         }
        },
        {
         "hovertemplate": "<b>Folder:</b> maj7_2<br><b>Centroid Entropy:</b> %{x}<br><b>Centroid Complexity:</b> %{y}<extra></extra>",
         "marker": {
          "color": "#FECB52",
          "size": 12,
          "symbol": "circle"
         },
         "mode": "markers",
         "name": "maj7_2 centroid",
         "type": "scatter",
         "x": [
          0.7753490615626768
         ],
         "y": [
          0.3171057037339542
         ]
        },
        {
         "fill": "toself",
         "fillcolor": "rgba(99, 110, 250, 0.3)",
         "hoverinfo": "skip",
         "line": {
          "color": "rgba(99, 110, 250, 0.3)",
          "width": 2
         },
         "mode": "lines",
         "name": "aug region",
         "showlegend": true,
         "type": "scatter",
         "x": {
          "bdata": "yugN5M4s5j+cp9ORa3/mP0199Y0P0uc/7oAzrwG+6D8l/qQlBp/pP1TrJ6Ewkuo/FeIu/s/c6j/VqPeMwXXrP/PbCKrtues/86SxztWe6z8htTwyZRXrP+gpUoVe4Ok/nTDGb0L46D8WITHr3D7oP5deJ6mZ0+c/yugN5M4s5j8=",
          "dtype": "f8"
         },
         "y": {
          "bdata": "IaasSIu52D8KotOv5OLZPyx95xK4ntc/WjIroSls1j+7QeRQMW7UP3jjR6t48NI/V6eq4gNj0j+4Fck6gN/PP1kgCTf5B84/w36HIhJOzD+IwBXmjkbNP73h8qfSotE/QQ1qgEkh0z+R37H2afTTP0fdOb2kqdQ/IaasSIu52D8=",
          "dtype": "f8"
         }
        },
        {
         "hovertemplate": "<b>Folder:</b> aug<br><b>Centroid Entropy:</b> %{x}<br><b>Centroid Complexity:</b> %{y}<extra></extra>",
         "marker": {
          "color": "#636EFA",
          "size": 12,
          "symbol": "circle"
         },
         "mode": "markers",
         "name": "aug centroid",
         "type": "scatter",
         "x": [
          0.7897034040501211
         ],
         "y": [
          0.30730255122354483
         ]
        },
        {
         "fill": "toself",
         "fillcolor": "rgba(99, 110, 250, 0.3)",
         "hoverinfo": "skip",
         "line": {
          "color": "rgba(99, 110, 250, 0.3)",
          "width": 2
         },
         "mode": "lines",
         "name": "sixth region",
         "showlegend": true,
         "type": "scatter",
         "x": {
          "bdata": "8T0wiQA45j+0IG3kftjmP60yJKcFTec/FByAta7I5z8vtS+j4ZHoP6RVzzBBPek/gu0jhV7k6T9HOpJIP2vqP4q1an206uo/FwKPbfSb6z+pgjFcbELsP9OJ4NoLhuw/bpLFcdS86z/iqPZmOJzrP6KZGO35E+s/PK+l72qF6j+AdNR1bifpP4W7YP9cj+g/0Etl6M8g6D/I/X2qAPzmP/E9MIkAOOY/",
          "dtype": "f8"
         },
         "y": {
          "bdata": "5EZDjKoc2D/vIhi7r/PYP3LBXbpOzNg/mMQytWAa2D/HzS9XuojWP/SacY+NXdU/pk8ihfJW1D8g1/mxTTnTP1+iKJPxJNI/kAyNF+Wc0D8dFjim+qvMPyIXU5DWvsg/uQeQ0utzyj+eQ/UzIoPLPzJ/VFZt5M4/7k+hbtGo0D+aW4yreqTSP8302ZpeadM/+Fq+2u/o0z8PbXSgWizWP+RGQ4yqHNg/",
          "dtype": "f8"
         }
        },
        {
         "hovertemplate": "<b>Folder:</b> sixth<br><b>Centroid Entropy:</b> %{x}<br><b>Centroid Complexity:</b> %{y}<extra></extra>",
         "marker": {
          "color": "#636EFA",
          "size": 12,
          "symbol": "circle"
         },
         "mode": "markers",
         "name": "sixth centroid",
         "type": "scatter",
         "x": [
          0.7931520634866217
         ],
         "y": [
          0.30418455191252936
         ]
        },
        {
         "fill": "toself",
         "fillcolor": "rgba(255, 102, 146, 0.3)",
         "hoverinfo": "skip",
         "line": {
          "color": "rgba(255, 102, 146, 0.3)",
          "width": 2
         },
         "mode": "lines",
         "name": "maj3 region",
         "showlegend": true,
         "type": "scatter",
         "x": {
          "bdata": "0FJuLbjW5T+iXD0FLtXmP2HldsGRSOg/rIPwl1tP6T9kqO8FXPPpP/s9bre7LOo/O0Ava/WM6j/ZkgeRuD/rPxOcroXBbOs/04+dthMh6z+8o9YhSMLqPyarBJ9bXuk/y1maxb0u6D+tVQmX3qXlP9BSbi241uU/",
          "dtype": "f8"
         },
         "y": {
          "bdata": "CO8aEn581j8s5+6OGAfYP4ae6oaCMtc/rsqLpLKl1T+NqywL4QvUP8/yn82sltM/7VTUklcz0j9kKxDD2IDQP4Zag6v76s8/hd9p28/fzj9uyAdFYMLPP5y/sOUDv9E/HACrEkbm0j9nRRrxXADWPwjvGhJ+fNY/",
          "dtype": "f8"
         }
        },
        {
         "hovertemplate": "<b>Folder:</b> maj3<br><b>Centroid Entropy:</b> %{x}<br><b>Centroid Complexity:</b> %{y}<extra></extra>",
         "marker": {
          "color": "#FF6692",
          "size": 12,
          "symbol": "circle"
         },
         "mode": "markers",
         "name": "maj3 centroid",
         "type": "scatter",
         "x": [
          0.7799321460381202
         ],
         "y": [
          0.31373544761797895
         ]
        },
        {
         "fill": "toself",
         "fillcolor": "rgba(25, 211, 243, 0.3)",
         "hoverinfo": "skip",
         "line": {
          "color": "rgba(25, 211, 243, 0.3)",
          "width": 2
         },
         "mode": "lines",
         "name": "min7b5 region",
         "showlegend": true,
         "type": "scatter",
         "x": {
          "bdata": "EARJAkcO6z+AHSW/WYPpP1yRxrNvD+k/Cdzg/W+G6D9q3w/8K+3nP9ok6hJHW+c/P1tMRw4r5j/85TBRrdnmPx04GTFROec/wkQQiIVj6D9RUq7oyXDpP1KRCjHFzek/bIb0SD0t6j9/Ew5EiYLqPwiJzCdwuOo/ufFgmzwY6z+kWoh8RFvrPwkNND6tc+s/Gle1Xkk+7D96YsCwlXzsP89t2GFTauw/bRwd7dw37D8xU9UJzArsPxAESQJHDus/",
          "dtype": "f8"
         },
         "y": {
          "bdata": "tjMOa9oQzT949TOM+T/SP2b9Sff61dI/LYWPAGtl0z837dkSSOLTP9k6/GWnGdU/dPuwZUfO1z+t80YAVU7ZP4FX4y0w7tg/5pjkc4Xi1j+FgK0C89rUP3K+68SdUdQ/zSA31XGp0z8gAo847ADTP1vq54zzkNI/9cEQZNHh0T+1dJEKlhbRP4QjC0tCztA/ZaMJIozJzD8b5udWeVLJP07NmwGqK8k/PSLnZl55yT9bI+iqYQ/KP7YzDmvaEM0/",
          "dtype": "f8"
         }
        },
        {
         "hovertemplate": "<b>Folder:</b> min7b5<br><b>Centroid Entropy:</b> %{x}<br><b>Centroid Complexity:</b> %{y}<extra></extra>",
         "marker": {
          "color": "#19D3F3",
          "size": 12,
          "symbol": "circle"
         },
         "mode": "markers",
         "name": "min7b5 centroid",
         "type": "scatter",
         "x": [
          0.7931141145362718
         ],
         "y": [
          0.30434590772949743
         ]
        },
        {
         "fill": "toself",
         "fillcolor": "rgba(25, 211, 243, 0.3)",
         "hoverinfo": "skip",
         "line": {
          "color": "rgba(25, 211, 243, 0.3)",
          "width": 2
         },
         "mode": "lines",
         "name": "maj2 region",
         "showlegend": true,
         "type": "scatter",
         "x": {
          "bdata": "ioQEBr4t5j+1Wsr2unrkPzEzR2wlkeY/obdNB1Ml5z9ku4o1B6/nP8005/24Seg/XRnOVPrI6D8iMI7g3XHpPzYF5htEI+o/u5F3181G6j/8k0jHHK3qPzZSC9ls/uo/LVI7++Ul6j/pWZ7imeLpP6qDRmHAV+k/5vKsbAYN6D+KhAQGvi3mPw==",
          "dtype": "f8"
         },
         "y": {
          "bdata": "ctzFFqcu1T96/J4o0eXWPw96qeP1P9c/T9UfUoN81z/yG9Hcvy3XP5FlkWn9p9Y/b2pOcEAs1j8LmPjqvSfVP9IEyq0kc9M/yNXtA40j0z98ohgAbhTSP4U0BJkAAdE/Psn3vSpU0D/Q58bRP+bQPzv/8wHL8NE/gyZDf8690z9y3MUWpy7VPw==",
          "dtype": "f8"
         }
        },
        {
         "hovertemplate": "<b>Folder:</b> maj2<br><b>Centroid Entropy:</b> %{x}<br><b>Centroid Complexity:</b> %{y}<extra></extra>",
         "marker": {
          "color": "#19D3F3",
          "size": 12,
          "symbol": "circle"
         },
         "mode": "markers",
         "name": "maj2 centroid",
         "type": "scatter",
         "x": [
          0.7758268082366907
         ],
         "y": [
          0.314856791737408
         ]
        },
        {
         "fill": "toself",
         "fillcolor": "rgba(239, 85, 59, 0.3)",
         "hoverinfo": "skip",
         "line": {
          "color": "rgba(239, 85, 59, 0.3)",
          "width": 2
         },
         "mode": "lines",
         "name": "aug6 region",
         "showlegend": true,
         "type": "scatter",
         "x": {
          "bdata": "NlIL2Wz+6j8tUjv75SXqP+lZnuKZ4uk/qoNGYcBX6T/m8qxsBg3oP4qEBAa+LeY/tVrK9rp65D9QB5WqLXblP+gkoSWu8eU/7g7vR2Bt5j/80q7MN47nP10ZzlT6yOg/IjCO4N1x6T82BeYbRCPqP7uRd9fNRuo//JNIxxyt6j82UgvZbP7qPw==",
          "dtype": "f8"
         },
         "y": {
          "bdata": "hTQEmQAB0T8+yfe9KlTQP9DnxtE/5tA/O//zAcvw0T+DJkN/zr3TP3LcxRanLtU/evyeKNHl1j/SoFX5clHaPxsz2uoqCdo/7qJVwk9A2T+T5Og0fwXYP29qTnBALNY/C5j46r0n1T/SBMqtJHPTP8jV7QONI9M/fKIYAG4U0j+FNASZAAHRPw==",
          "dtype": "f8"
         }
        },
        {
         "hovertemplate": "<b>Folder:</b> aug6<br><b>Centroid Entropy:</b> %{x}<br><b>Centroid Complexity:</b> %{y}<extra></extra>",
         "marker": {
          "color": "#EF553B",
          "size": 12,
          "symbol": "circle"
         },
         "mode": "markers",
         "name": "aug6 centroid",
         "type": "scatter",
         "x": [
          0.7741968517799868
         ],
         "y": [
          0.31695692558900307
         ]
        },
        {
         "fill": "toself",
         "fillcolor": "rgba(255, 161, 90, 0.3)",
         "hoverinfo": "skip",
         "line": {
          "color": "rgba(255, 161, 90, 0.3)",
          "width": 2
         },
         "mode": "lines",
         "name": "maj region",
         "showlegend": true,
         "type": "scatter",
         "x": {
          "bdata": "F0ePRTv45j+ixxAVPXPoPzkwVFPLWuk/GN3dxxid6j/VN0EY6vXqP/RMC2/mJus/2qIP/Rx36z+65tCHts3rP2mupCs8Euw/qAQoRTpx6z/4hUQv3TfrPwuHIJKQDOs/I9MxJYrz6j/dYl+V157oP/6DW0zpmOg/axMkZ3J+5z95MxTcHvbmP+4Q1Krfk+Y/3W4gBx+g5j8XR49FO/jmPw==",
          "dtype": "f8"
         },
         "y": {
          "bdata": "u7qT3jmU2T8LGntWY/TWP2OTR/iqX9U/FmH76DP30j8s6rb1ESrSPzzKzqWxbtE/M5ZI9iI4zz8aUW3lXXjMP5viv2++3co/hVzvqrUqzD+u+eglIuTMPxtAgXQYiM0/s94QUkoCzj+mzv6e2dLSP/tWqeZn2tI/kn1E+toj1D9xhwWd033VPxkFpJ0E3Nc/TnMKnNTs2D+7upPeOZTZPw==",
          "dtype": "f8"
         }
        },
        {
         "hovertemplate": "<b>Folder:</b> maj<br><b>Centroid Entropy:</b> %{x}<br><b>Centroid Complexity:</b> %{y}<extra></extra>",
         "marker": {
          "color": "#FFA15A",
          "size": 12,
          "symbol": "circle"
         },
         "mode": "markers",
         "name": "maj centroid",
         "type": "scatter",
         "x": [
          0.788246771271275
         ],
         "y": [
          0.3078539742508922
         ]
        },
        {
         "fill": "toself",
         "fillcolor": "rgba(171, 99, 250, 0.3)",
         "hoverinfo": "skip",
         "line": {
          "color": "rgba(171, 99, 250, 0.3)",
          "width": 2
         },
         "mode": "lines",
         "name": "dim7 region",
         "showlegend": true,
         "type": "scatter",
         "x": {
          "bdata": "SmrToxOp5j8nc0xJnDrnP4774DoVZeg/q/2gcix16T/sFLGVh5HpPzaH+AN7neo/0upEoww+6z8Dg6++AsHrP59OvR4vzOs/37pZlXBm7D/cg3qOPjDsP/ZBz0nOU+s/a6Q3jogh6T8ODGZJiE7oPwnGYIhZfec/4C+1EPUB5z9KatOjE6nmPw==",
          "dtype": "f8"
         },
         "y": {
          "bdata": "6zC4xQGA2D+RsElOvsXYP0lE7IX9sNY/adVgbciw1D/GBD1zEnzUP7X5x1yPb9I/+XjMaaFy0T8Q9OWhUI7OP/Rk4xItP84/7IdZgNVFyj+QTGyaBjrJP/23Mt4hiMw/rNTKab200j813ajuUuTTP0HSP6+rxdU/wC0N74ph1z/rMLjFAYDYPw==",
          "dtype": "f8"
         }
        },
        {
         "hovertemplate": "<b>Folder:</b> dim7<br><b>Centroid Entropy:</b> %{x}<br><b>Centroid Complexity:</b> %{y}<extra></extra>",
         "marker": {
          "color": "#AB63FA",
          "size": 12,
          "symbol": "circle"
         },
         "mode": "markers",
         "name": "dim7 centroid",
         "type": "scatter",
         "x": [
          0.7935855793143871
         ],
         "y": [
          0.3035865419569103
         ]
        },
        {
         "fill": "toself",
         "fillcolor": "rgba(255, 102, 146, 0.3)",
         "hoverinfo": "skip",
         "line": {
          "color": "rgba(255, 102, 146, 0.3)",
          "width": 2
         },
         "mode": "lines",
         "name": "octave region",
         "showlegend": true,
         "type": "scatter",
         "x": {
          "bdata": "rTmtm0c56j9qrHeity/pP0bfNWoSw+c/t+TnAmyf5j8ysidBGEHmP3LkxzrL1+Y/wE/VhqPa6D/KY4tWxJfpP5GfiHUUGeo/7MTIWhlJ6z+P/3KepmrrP605rZtHOeo/",
          "dtype": "f8"
         },
         "y": {
          "bdata": "VbKvt8+x0D9i8xZdbIbSP7VD1bVFLtQ/nCPVee0r1j+SQgeIyvDWP+b4GvpjKdc/6/mk4Wiy1T9r4OSOVTDUP1iDPzt1uNI/DOpA+lV+0D9ASsr7/efPP1Wyr7fPsdA/",
          "dtype": "f8"
         }
        },
        {
         "hovertemplate": "<b>Folder:</b> octave<br><b>Centroid Entropy:</b> %{x}<br><b>Centroid Complexity:</b> %{y}<extra></extra>",
         "marker": {
          "color": "#FF6692",
          "size": 12,
          "symbol": "circle"
         },
         "mode": "markers",
         "name": "octave centroid",
         "type": "scatter",
         "x": [
          0.7781333861715775
         ],
         "y": [
          0.31236827383289156
         ]
        },
        {
         "fill": "toself",
         "fillcolor": "rgba(239, 85, 59, 0.3)",
         "hoverinfo": "skip",
         "line": {
          "color": "rgba(239, 85, 59, 0.3)",
          "width": 2
         },
         "mode": "lines",
         "name": "min2 region",
         "showlegend": true,
         "type": "scatter",
         "x": {
          "bdata": "IoPrZvCz5j9xabXvWx3lP9n5mo4s9eU/nxlqqRJ05j/5eXlpt/DmP/95zGYQMOg/RxLvJezG6D/o/W2Tej/qPwMbOvfbhuo/o8fnKxYS6z9FKYH59PXqP0ZxvD3K/Ok/l7We9zOc6D9IpufFWyjoPyKD62bws+Y/",
          "dtype": "f8"
         },
         "y": {
          "bdata": "mjOxFei51D+uw+7Im3jWP9HjZh7rGtc/szP7iIdW1z+GXCLtBDvXP6/7bEZXbdc/hPbu54231j914tgEv4/TP+Z8C0l/xdI/7gjmQeH00D8QlTo34pvPP3Bhpyf05NA/Zo8f+qqz0j8OhOx/pRDTP5ozsRXoudQ/",
          "dtype": "f8"
         }
        },
        {
         "hovertemplate": "<b>Folder:</b> min2<br><b>Centroid Entropy:</b> %{x}<br><b>Centroid Complexity:</b> %{y}<extra></extra>",
         "marker": {
          "color": "#EF553B",
          "size": 12,
          "symbol": "circle"
         },
         "mode": "markers",
         "name": "min2 centroid",
         "type": "scatter",
         "x": [
          0.7777782309377134
         ],
         "y": [
          0.3143915302232579
         ]
        },
        {
         "fill": "toself",
         "fillcolor": "rgba(0, 204, 150, 0.3)",
         "hoverinfo": "skip",
         "line": {
          "color": "rgba(0, 204, 150, 0.3)",
          "width": 2
         },
         "mode": "lines",
         "name": "min3 region",
         "showlegend": true,
         "type": "scatter",
         "x": {
          "bdata": "mIImVHQ66z+V/KiYZPTpP667XdV0ruc/aCODVw0u5j9SVhR3E7PmP+DDnq1BO+c/Fa25Tg2x5z8+jWe6IqzoP0x62bV8Zuk/OEVR//VF6j/eMpD0/BPrPwR9l088R+s/mIImVHQ66z8=",
          "dtype": "f8"
         },
         "y": {
          "bdata": "e5juca0Gzz+X/cqdYKbQP+fofJRt1tM/hztmiACm1T+uWeo2PG7XP8KmqBvyutc/B0ZnKXCb1z/27hetyaXWP9E3xHvNCtU/jGOw+G1S0z+ftmmlL1TRP/C5+WA4e9A/e5juca0Gzz8=",
          "dtype": "f8"
         }
        },
        {
         "hovertemplate": "<b>Folder:</b> min3<br><b>Centroid Entropy:</b> %{x}<br><b>Centroid Complexity:</b> %{y}<extra></extra>",
         "marker": {
          "color": "#00CC96",
          "size": 12,
          "symbol": "circle"
         },
         "mode": "markers",
         "name": "min3 centroid",
         "type": "scatter",
         "x": [
          0.7811011442307417
         ],
         "y": [
          0.31319705057735586
         ]
        },
        {
         "fill": "toself",
         "fillcolor": "rgba(171, 99, 250, 0.3)",
         "hoverinfo": "skip",
         "line": {
          "color": "rgba(171, 99, 250, 0.3)",
          "width": 2
         },
         "mode": "lines",
         "name": "tritone region",
         "showlegend": true,
         "type": "scatter",
         "x": {
          "bdata": "lGdlNgPj5z/ljpnBBoXpP+InVay+0Ok/s9myXpuY6j+1mhQIwQrrP+W4+7gwues/ObbOcY3J6j+SEf+glgHqP3itibLVtug/NSonbpLy5z+p2ImBJiXnP450PImwdeY/bffKoKsD5j9gN8iJ/XHmP9Swf8HXquY/lGdlNgPj5z8=",
          "dtype": "f8"
         },
         "y": {
          "bdata": "t3BceeeU1z+ml7josiTVP8vSdqPLd9Q/V7iQm4wu0j8pyjbOPRLRP/CJYp2R/M4/RLPHq4QD0D9xm+M4Cm7QP4fe/sPE+9I/UvuyDykR1D+vTD3csBXVPzGxFnVwqdU/imYYBcAE1j+/aZ+qT0zZP9K+E/keIdk/t3BceeeU1z8=",
          "dtype": "f8"
         }
        },
        {
         "hovertemplate": "<b>Folder:</b> tritone<br><b>Centroid Entropy:</b> %{x}<br><b>Centroid Complexity:</b> %{y}<extra></extra>",
         "marker": {
          "color": "#AB63FA",
          "size": 12,
          "symbol": "circle"
         },
         "mode": "markers",
         "name": "tritone centroid",
         "type": "scatter",
         "x": [
          0.7766641591013604
         ],
         "y": [
          0.3145760444488096
         ]
        },
        {
         "fill": "toself",
         "fillcolor": "rgba(255, 151, 255, 0.3)",
         "hoverinfo": "skip",
         "line": {
          "color": "rgba(255, 151, 255, 0.3)",
          "width": 2
         },
         "mode": "lines",
         "name": "maj7 region",
         "showlegend": true,
         "type": "scatter",
         "x": {
          "bdata": "Azwf9D5y7D+8nDG8bwPsPzloAWUD6Os/KhI14h6A6z+ImrDFBuHqP28nG1yDN+k/Px3cXZUf6T9ZqUjpI8noPxKgTr+eyuc/FaI1KKxx5z/xCNxESuzmP2XfsPPnJ+Y/bWRK9Oj05j94QqFp6xTnP7e1xGdoWug/D1pvSStM6T85NTmllSnqP/yZjHJ1DOs/1C+l+YgY7D+cMfuMMS/sPwM8H/Q+cuw/",
          "dtype": "f8"
         },
         "y": {
          "bdata": "e0yTdKRqyT/xpA0v/rnJP56/+zxwC8o/GFvyPjr7yz+rBRZUxwnQPyl8boB55tI/XIs4Ya7+0j8cav6lT1DTP8PK1WXx99M/62sEerY01D+rNkNv6MjVP6FWrL/Mwdc/DAzwqyIq2T/a5OgzpWvZPzT9oiOgJ9c/c3gFVHRh1T8eYLUHfv3TPwJikykrCNI/5sezOhJuzj/BN1UrML/MP3tMk3Skask/",
          "dtype": "f8"
         }
        },
        {
         "hovertemplate": "<b>Folder:</b> maj7<br><b>Centroid Entropy:</b> %{x}<br><b>Centroid Complexity:</b> %{y}<extra></extra>",
         "marker": {
          "color": "#FF97FF",
          "size": 12,
          "symbol": "circle"
         },
         "mode": "markers",
         "name": "maj7 centroid",
         "type": "scatter",
         "x": [
          0.7932064230941048
         ],
         "y": [
          0.30420864801114456
         ]
        },
        {
         "fill": "toself",
         "fillcolor": "rgba(182, 232, 128, 0.3)",
         "hoverinfo": "skip",
         "line": {
          "color": "rgba(182, 232, 128, 0.3)",
          "width": 2
         },
         "mode": "lines",
         "name": "maj6 region",
         "showlegend": true,
         "type": "scatter",
         "x": {
          "bdata": "aCODVw0u5j8sZGqa/pzlP6OJsV8ICuY/TCw9YnFd5z8+jWe6IqzoP0x62bV8Zuk/OEVR//VF6j/eMpD0/BPrPwR9l088R+s/mIImVHQ66z+V/KiYZPTpP667XdV0ruc/aCODVw0u5j8=",
          "dtype": "f8"
         },
         "y": {
          "bdata": "hztmiACm1T9ct5LXdBnaP+1oB8Bu2dk/4hghnqcr2D/27hetyaXWP9E3xHvNCtU/jGOw+G1S0z+ftmmlL1TRP/C5+WA4e9A/e5juca0Gzz+X/cqdYKbQP+fofJRt1tM/hztmiACm1T8=",
          "dtype": "f8"
         }
        },
        {
         "hovertemplate": "<b>Folder:</b> maj6<br><b>Centroid Entropy:</b> %{x}<br><b>Centroid Complexity:</b> %{y}<extra></extra>",
         "marker": {
          "color": "#B6E880",
          "size": 12,
          "symbol": "circle"
         },
         "mode": "markers",
         "name": "maj6 centroid",
         "type": "scatter",
         "x": [
          0.7808059229728973
         ],
         "y": [
          0.3143740122357718
         ]
        },
        {
         "fill": "toself",
         "fillcolor": "rgba(99, 110, 250, 0.3)",
         "hoverinfo": "skip",
         "line": {
          "color": "rgba(99, 110, 250, 0.3)",
          "width": 2
         },
         "mode": "lines",
         "name": "min region",
         "showlegend": true,
         "type": "scatter",
         "x": {
          "bdata": "gvpWqlTn5j/yppplSZXmPxNp1pthtOY/lMbaIoHP5j/kNvWrbFPoP4m+sKyroOk/HKJUillq6j9fX1RXcArrP7/RtqG7U+s/zdn9uKzw6z+u4EKqMRbsP2QPCSs+0us/J2OXf64E6z/rLwMAb1npP4TsKcbxjOg/qnYPJt1X5z+C+laqVOfmPw==",
          "dtype": "f8"
         },
         "y": {
          "bdata": "PUz87edm1T/6CRmPDdvYP21SGO15nNk/VpR1C1rk2T/RRE3sux3XP72oMwDRGNU//uf2NZRB0z8Ng+GghdPRP3w6EgSa0tA/35PlfPhqzT8lFv/5QJDKP3fBMKGtVss/qIxKESsxzT+Zaq1FxCDSP93B8e2LFdM/V+b+xVx01D89TPzt52bVPw==",
          "dtype": "f8"
         }
        },
        {
         "hovertemplate": "<b>Folder:</b> min<br><b>Centroid Entropy:</b> %{x}<br><b>Centroid Complexity:</b> %{y}<extra></extra>",
         "marker": {
          "color": "#636EFA",
          "size": 12,
          "symbol": "circle"
         },
         "mode": "markers",
         "name": "min centroid",
         "type": "scatter",
         "x": [
          0.7886740275581271
         ],
         "y": [
          0.307857016681553
         ]
        },
        {
         "fill": "toself",
         "fillcolor": "rgba(239, 85, 59, 0.3)",
         "hoverinfo": "skip",
         "line": {
          "color": "rgba(239, 85, 59, 0.3)",
          "width": 2
         },
         "mode": "lines",
         "name": "sus2 region",
         "showlegend": true,
         "type": "scatter",
         "x": {
          "bdata": "h9q/8V3U5j/FonfigX/mP4wwyZOAbeY/WazbvcpN5j+FhiYBUJbmP7Wp+ultp+g/T0G0mZWu6T8uOH9BZnXqP+COrbkYKOs/EogYnkuZ6z+xOMR91dXrP/3FDZ9F6us/B4+lew0N6z+iST+rbUXqPyDRGc+1duk/I8DlL/Aj6D+H2r/xXdTmPw==",
          "dtype": "f8"
         },
         "y": {
          "bdata": "gI67/XDM1D9oz6blySvWP3yKLsHDY9g/nSsRKlcu2j+ukAURKYnZP4x2DNnAutY/JaxTp6oO1T/7rsVMO1XTPxKukOoa9dE/xUgeoBsA0D/52z6Qdx7MP7jjuaIpxso/cLEpWcf9zD/5HlnC4DrQP/rA6UJn39E/aVsOG4dT0z+Ajrv9cMzUPw==",
          "dtype": "f8"
         }
        },
        {
         "hovertemplate": "<b>Folder:</b> sus2<br><b>Centroid Entropy:</b> %{x}<br><b>Centroid Complexity:</b> %{y}<extra></extra>",
         "marker": {
          "color": "#EF553B",
          "size": 12,
          "symbol": "circle"
         },
         "mode": "markers",
         "name": "sus2 centroid",
         "type": "scatter",
         "x": [
          0.7886950609095073
         ],
         "y": [
          0.30725818600475074
         ]
        },
        {
         "fill": "toself",
         "fillcolor": "rgba(254, 203, 82, 0.3)",
         "hoverinfo": "skip",
         "line": {
          "color": "rgba(254, 203, 82, 0.3)",
          "width": 2
         },
         "mode": "lines",
         "name": "seventh region",
         "showlegend": true,
         "type": "scatter",
         "x": {
          "bdata": "diGkBdCp7D8LYCG15lDsPy0OV0zPI+w/V8L+JCC16z+keSh091jrP/KLNVZO5+k/CTegLGM06T/sexpDXFfoP7+KsN3bZOc/2xg63sLU5j92tJfJGEHmP0TY0X7eGOc/2Jrdav9i5z8YupLBzxjoPx5yNrG6B+k/xr1702kW6j/rbycC1+DqPyM9a7FbAOs/iSq15FF/6z+WzU1k2bfrP6Yk84dwCOw/QqmSzbVQ7D92IaQF0KnsPw==",
          "dtype": "f8"
         },
         "y": {
          "bdata": "c07tsuBGyD9kWhcY7gXJP/3SsCAtYck/kYaxjNnkyj+pOjWqQkXNPyEVNQGEu9E/iQtnhYKv0j9kEzoCuaPTP7C/7nEN5tQ/AuqN8uuZ1j935uCl8gvYP9NWD32KCNk/gDNO4oy92D+QhmNEgmnXP363kF0LvtU/prj3trAy1D+bzTYgTj7SP91qRro469E/5aCIpM/Q0D8lLKTpke7PP75cLxV/68w//jFlQQyxyj9zTu2y4EbIPw==",
          "dtype": "f8"
         }
        },
        {
         "hovertemplate": "<b>Folder:</b> seventh<br><b>Centroid Entropy:</b> %{x}<br><b>Centroid Complexity:</b> %{y}<extra></extra>",
         "marker": {
          "color": "#FECB52",
          "size": 12,
          "symbol": "circle"
         },
         "mode": "markers",
         "name": "seventh centroid",
         "type": "scatter",
         "x": [
          0.7923478337274302
         ],
         "y": [
          0.3046991137013897
         ]
        },
        {
         "fill": "toself",
         "fillcolor": "rgba(0, 204, 150, 0.3)",
         "hoverinfo": "skip",
         "line": {
          "color": "rgba(0, 204, 150, 0.3)",
          "width": 2
         },
         "mode": "lines",
         "name": "sus4 region",
         "showlegend": true,
         "type": "scatter",
         "x": {
          "bdata": "xaJ34oF/5j/vl9+VnaXmP8T658xHs+Y/kKIiW/Ar5z/LCVHCxUznP4YvnwPtRug/tan66W2n6D9PQbSZla7pPy44f0Fmdeo/4I6tuRgo6z8SiBieS5nrP7E4xH3V1es//cUNn0Xq6z8Hj6V7DQ3rP6JJP6ttReo/INEZz7V26T8jwOUv8CPoP4fav/Fd1OY/xaJ34oF/5j8=",
          "dtype": "f8"
         },
         "y": {
          "bdata": "aM+m5ckr1j+ERe0wlsnXP5mH9F8jltg/LvUC9cer2D+CjTv9q6HYP7GShHjVk9c/jHYM2cC61j8lrFOnqg7VP/uuxUw7VdM/Eq6Q6hr10T/FSB6gGwDQP/nbPpB3Hsw/uOO5oinGyj9wsSlZx/3MP/keWcLgOtA/+sDpQmff0T9pWw4bh1PTP4COu/1wzNQ/aM+m5ckr1j8=",
          "dtype": "f8"
         }
        },
        {
         "hovertemplate": "<b>Folder:</b> sus4<br><b>Centroid Entropy:</b> %{x}<br><b>Centroid Complexity:</b> %{y}<extra></extra>",
         "marker": {
          "color": "#00CC96",
          "size": 12,
          "symbol": "circle"
         },
         "mode": "markers",
         "name": "sus4 centroid",
         "type": "scatter",
         "x": [
          0.7886981648974439
         ],
         "y": [
          0.30741880935970395
         ]
        },
        {
         "line": {
          "color": "red",
          "dash": "dash"
         },
         "mode": "lines",
         "name": "Maximum Complexity Boundary",
         "type": "scatter",
         "x": {
          "bdata": "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",
          "dtype": "f8"
         },
         "y": {
          "bdata": "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",
          "dtype": "f8"
         }
        },
        {
         "line": {
          "color": "green",
          "dash": "dash"
         },
         "mode": "lines",
         "name": "Minimum Complexity Boundary",
         "type": "scatter",
         "x": {
          "bdata": "AAAAAAAAAICaxf+16xqTP+jVhP1KAqI/vUTdi+gLqj/86nM1k+ewP8K3yY7ArrQ/p554aKFguD/uL+sCmwC8PzAUmEQWkb8/OC9Izu+JwT9fJ6LWLUXDP9zCdlXT+sQ/w/gEHFSrxj8NvFFLEFfIP6qV/uFY/sk/NbM6+3Khyz8sJAsvmkDNP7DF0VkC3M4/1TEXfOw50D9Eo50aIwTRP2yQ0d+2zNE/cXTxubeT0j+olffyM1nTP1t01Gg4HdQ/9H3Ou9Df1D86qBR1B6HVP9wYEyfmYNY/6J68iHUf1z8jY7eMvdzXP+DxJ3XFmNg/K+Ku5JNT2T+Dkg/tLg3aP45i3xucxdo/e8qKheB82z/HfO/OADPcP7hzvzUB6Nw/PsHXl+Wb3T86q655sU7eP6iv9gtoAN8/nDCPMAyx3z9Pw2s/UDDgP4fyuqOTh+A/ylnQS1He4D+2U/sdijThPz/0d+E+iuE/Qmx4P3Df4T8RywLEHjTiP6MEpt5KiOI/1I4I4/Tb4j9mYlIJHS/jP3Kyc27DgeM/hzlJFOjT4z/jjp7hiiXkP/qKDqKrduQ/+FfBBUrH5D/zXQehZRflP7HIz+v9ZuU/h+v4QBK25T8VRHjdoQTmP8xKV9+rUuY/IZyBRC+g5j94S2DpKu3mP6RZPYedOec/N09psoWF5z+X1RvY4dDnP/fNBjywG+g/48WR9e5l6D84trHsm6/oP9ubTta0+Og/1pYlMDdB6T+zsRI8IInpP7wOqfps0Ok//L/6JBoX6j81rmolJF3qP6I6Wg+Houo/yCN5lT7n6j+L1W/+RSvrP0CTiReYbus/5ELrJC+x6z99ysLOBPPrP0yqrgoSNOw/q/lgAE907D/z+SzosrPsPzkUuOEz8uw/IStdwMYv7T9YSNjJXmztPxjoW2Ltp+0/YoL0nmHi7T99rZWzpxvuP30tZSyoU+4/3roJ2EaK7j+hR1o3Yb/uPwiMLibM8u4/5bjgL1Ak7z8p/rF0o1PvP1Omz7BegO8/zKz4ROep7z8Ha0uLO8/vP00Cx0hS7u8/AAAAAAAA8D8=",
          "dtype": "f8"
         },
         "y": {
          "bdata": "AAAAAAAAAIDM4Y+YJlKSP3cLBINQtqA/J6zO+G52pz/N5dV3Gp6tP32fvDSTpLE/ZaqxOrdEtD8TBRfs0bW2Pz4In7ex/Lg/GLkl5iMduz9xvMwPQxq9Pxsj/6un9r4/5RS4+ENawD9oIqDe5irBPyRePBgT7sE/wQS/lIakwj+vc/D06k7DPw+0hN/Y7cM/pSqkndqBxD8oUsMvbgvFP5alVvwGi8U/hbZQMA8Bxj8sB9Pi6G3GP/hm9Qjv0cY/xNtVQ3Ytxz+YwtaMzYDHP9+iQtA+zMc/fgROaQ8QyD/crH+UgEzIP5sM0dDPgcg/ni5MNTewyD9iM3+87dfIP0a3R4cn+cg/fpI0GBYUyT+FPYaI6CjJP5yFqrfLN8k/4/HsdepAyT91afiqbUTJPygQr3h8Qsk/y77JWjw7yT/8YqBD0S7JPxf1brZdHck/SXpf3wIHyT/Z8pep4OvIP2cIg9MVzMg/PX2DAcCnyD9qhzzP+37IPyJNlN/kUcg/7m6R65UgyD8B7jDQKOvHP3iHTpu2scc/0wG3l1d0xz8XdnlYIzPHPym7isMw7sY/u1HMG5alxj+AsYYKaVnGP2W5Zai+CcY/itMEhqu2xT/kqBe0Q2DFP1J8O8uaBsU/k9Z888OpxD9Y05zr0UnEPyY2IRDX5sM/ToM6YuWAwz/Sh4uODhjDP9tB3vNjrMI/8cnSqfY9wj9N75WH18zBPxqprioXWcE/kEzz/cXiwD9sFbpA9GnAP14jtxxk3b8/msZDzB7ivj+pCIpnOOK9P53wNrHQ3bw/2BdgawfVuz8HP/Nt/Me6P/0JBcDPtrk/A3bGtKGhuD/EsyUNk4i3P1sKdB/Fa7Y/353hBlpLtT8Cb0vddCe0P1Lq0QI6ALM/PSYjeM/VsT+5+pxSXaiwP9pCy6kc8K4/hmBseCGKrD+oqte3Lh+qP+ZMTGK2r6c/w7ANazs8pT8z3wTgWMWiPzQr8GfNS6A/peLq2R2hmz/cun3T3amWP55cgtvItZE/L6gfV+WWiT8G9z+G6d9/P9Qznsa2+Wo/3KtzhX9C17w=",
          "dtype": "f8"
         }
        }
       ],
       "layout": {
        "height": 600,
        "template": {
         "data": {
          "bar": [
           {
            "error_x": {
             "color": "#2a3f5f"
            },
            "error_y": {
             "color": "#2a3f5f"
            },
            "marker": {
             "line": {
              "color": "white",
              "width": 0.5
             },
             "pattern": {
              "fillmode": "overlay",
              "size": 10,
              "solidity": 0.2
             }
            },
            "type": "bar"
           }
          ],
          "barpolar": [
           {
            "marker": {
             "line": {
              "color": "white",
              "width": 0.5
             },
             "pattern": {
              "fillmode": "overlay",
              "size": 10,
              "solidity": 0.2
             }
            },
            "type": "barpolar"
           }
          ],
          "carpet": [
           {
            "aaxis": {
             "endlinecolor": "#2a3f5f",
             "gridcolor": "#C8D4E3",
             "linecolor": "#C8D4E3",
             "minorgridcolor": "#C8D4E3",
             "startlinecolor": "#2a3f5f"
            },
            "baxis": {
             "endlinecolor": "#2a3f5f",
             "gridcolor": "#C8D4E3",
             "linecolor": "#C8D4E3",
             "minorgridcolor": "#C8D4E3",
             "startlinecolor": "#2a3f5f"
            },
            "type": "carpet"
           }
          ],
          "choropleth": [
           {
            "colorbar": {
             "outlinewidth": 0,
             "ticks": ""
            },
            "type": "choropleth"
           }
          ],
          "contour": [
           {
            "colorbar": {
             "outlinewidth": 0,
             "ticks": ""
            },
            "colorscale": [
             [
              0,
              "#0d0887"
             ],
             [
              0.1111111111111111,
              "#46039f"
             ],
             [
              0.2222222222222222,
              "#7201a8"
             ],
             [
              0.3333333333333333,
              "#9c179e"
             ],
             [
              0.4444444444444444,
              "#bd3786"
             ],
             [
              0.5555555555555556,
              "#d8576b"
             ],
             [
              0.6666666666666666,
              "#ed7953"
             ],
             [
              0.7777777777777778,
              "#fb9f3a"
             ],
             [
              0.8888888888888888,
              "#fdca26"
             ],
             [
              1,
              "#f0f921"
             ]
            ],
            "type": "contour"
           }
          ],
          "contourcarpet": [
           {
            "colorbar": {
             "outlinewidth": 0,
             "ticks": ""
            },
            "type": "contourcarpet"
           }
          ],
          "heatmap": [
           {
            "colorbar": {
             "outlinewidth": 0,
             "ticks": ""
            },
            "colorscale": [
             [
              0,
              "#0d0887"
             ],
             [
              0.1111111111111111,
              "#46039f"
             ],
             [
              0.2222222222222222,
              "#7201a8"
             ],
             [
              0.3333333333333333,
              "#9c179e"
             ],
             [
              0.4444444444444444,
              "#bd3786"
             ],
             [
              0.5555555555555556,
              "#d8576b"
             ],
             [
              0.6666666666666666,
              "#ed7953"
             ],
             [
              0.7777777777777778,
              "#fb9f3a"
             ],
             [
              0.8888888888888888,
              "#fdca26"
             ],
             [
              1,
              "#f0f921"
             ]
            ],
            "type": "heatmap"
           }
          ],
          "histogram": [
           {
            "marker": {
             "pattern": {
              "fillmode": "overlay",
              "size": 10,
              "solidity": 0.2
             }
            },
            "type": "histogram"
           }
          ],
          "histogram2d": [
           {
            "colorbar": {
             "outlinewidth": 0,
             "ticks": ""
            },
            "colorscale": [
             [
              0,
              "#0d0887"
             ],
             [
              0.1111111111111111,
              "#46039f"
             ],
             [
              0.2222222222222222,
              "#7201a8"
             ],
             [
              0.3333333333333333,
              "#9c179e"
             ],
             [
              0.4444444444444444,
              "#bd3786"
             ],
             [
              0.5555555555555556,
              "#d8576b"
             ],
             [
              0.6666666666666666,
              "#ed7953"
             ],
             [
              0.7777777777777778,
              "#fb9f3a"
             ],
             [
              0.8888888888888888,
              "#fdca26"
             ],
             [
              1,
              "#f0f921"
             ]
            ],
            "type": "histogram2d"
           }
          ],
          "histogram2dcontour": [
           {
            "colorbar": {
             "outlinewidth": 0,
             "ticks": ""
            },
            "colorscale": [
             [
              0,
              "#0d0887"
             ],
             [
              0.1111111111111111,
              "#46039f"
             ],
             [
              0.2222222222222222,
              "#7201a8"
             ],
             [
              0.3333333333333333,
              "#9c179e"
             ],
             [
              0.4444444444444444,
              "#bd3786"
             ],
             [
              0.5555555555555556,
              "#d8576b"
             ],
             [
              0.6666666666666666,
              "#ed7953"
             ],
             [
              0.7777777777777778,
              "#fb9f3a"
             ],
             [
              0.8888888888888888,
              "#fdca26"
             ],
             [
              1,
              "#f0f921"
             ]
            ],
            "type": "histogram2dcontour"
           }
          ],
          "mesh3d": [
           {
            "colorbar": {
             "outlinewidth": 0,
             "ticks": ""
            },
            "type": "mesh3d"
           }
          ],
          "parcoords": [
           {
            "line": {
             "colorbar": {
              "outlinewidth": 0,
              "ticks": ""
             }
            },
            "type": "parcoords"
           }
          ],
          "pie": [
           {
            "automargin": true,
            "type": "pie"
           }
          ],
          "scatter": [
           {
            "fillpattern": {
             "fillmode": "overlay",
             "size": 10,
             "solidity": 0.2
            },
            "type": "scatter"
           }
          ],
          "scatter3d": [
           {
            "line": {
             "colorbar": {
              "outlinewidth": 0,
              "ticks": ""
             }
            },
            "marker": {
             "colorbar": {
              "outlinewidth": 0,
              "ticks": ""
             }
            },
            "type": "scatter3d"
           }
          ],
          "scattercarpet": [
           {
            "marker": {
             "colorbar": {
              "outlinewidth": 0,
              "ticks": ""
             }
            },
            "type": "scattercarpet"
           }
          ],
          "scattergeo": [
           {
            "marker": {
             "colorbar": {
              "outlinewidth": 0,
              "ticks": ""
             }
            },
            "type": "scattergeo"
           }
          ],
          "scattergl": [
           {
            "marker": {
             "colorbar": {
              "outlinewidth": 0,
              "ticks": ""
             }
            },
            "type": "scattergl"
           }
          ],
          "scattermap": [
           {
            "marker": {
             "colorbar": {
              "outlinewidth": 0,
              "ticks": ""
             }
            },
            "type": "scattermap"
           }
          ],
          "scattermapbox": [
           {
            "marker": {
             "colorbar": {
              "outlinewidth": 0,
              "ticks": ""
             }
            },
            "type": "scattermapbox"
           }
          ],
          "scatterpolar": [
           {
            "marker": {
             "colorbar": {
              "outlinewidth": 0,
              "ticks": ""
             }
            },
            "type": "scatterpolar"
           }
          ],
          "scatterpolargl": [
           {
            "marker": {
             "colorbar": {
              "outlinewidth": 0,
              "ticks": ""
             }
            },
            "type": "scatterpolargl"
           }
          ],
          "scatterternary": [
           {
            "marker": {
             "colorbar": {
              "outlinewidth": 0,
              "ticks": ""
             }
            },
            "type": "scatterternary"
           }
          ],
          "surface": [
           {
            "colorbar": {
             "outlinewidth": 0,
             "ticks": ""
            },
            "colorscale": [
             [
              0,
              "#0d0887"
             ],
             [
              0.1111111111111111,
              "#46039f"
             ],
             [
              0.2222222222222222,
              "#7201a8"
             ],
             [
              0.3333333333333333,
              "#9c179e"
             ],
             [
              0.4444444444444444,
              "#bd3786"
             ],
             [
              0.5555555555555556,
              "#d8576b"
             ],
             [
              0.6666666666666666,
              "#ed7953"
             ],
             [
              0.7777777777777778,
              "#fb9f3a"
             ],
             [
              0.8888888888888888,
              "#fdca26"
             ],
             [
              1,
              "#f0f921"
             ]
            ],
            "type": "surface"
           }
          ],
          "table": [
           {
            "cells": {
             "fill": {
              "color": "#EBF0F8"
             },
             "line": {
              "color": "white"
             }
            },
            "header": {
             "fill": {
              "color": "#C8D4E3"
             },
             "line": {
              "color": "white"
             }
            },
            "type": "table"
           }
          ]
         },
         "layout": {
          "annotationdefaults": {
           "arrowcolor": "#2a3f5f",
           "arrowhead": 0,
           "arrowwidth": 1
          },
          "autotypenumbers": "strict",
          "coloraxis": {
           "colorbar": {
            "outlinewidth": 0,
            "ticks": ""
           }
          },
          "colorscale": {
           "diverging": [
            [
             0,
             "#8e0152"
            ],
            [
             0.1,
             "#c51b7d"
            ],
            [
             0.2,
             "#de77ae"
            ],
            [
             0.3,
             "#f1b6da"
            ],
            [
             0.4,
             "#fde0ef"
            ],
            [
             0.5,
             "#f7f7f7"
            ],
            [
             0.6,
             "#e6f5d0"
            ],
            [
             0.7,
             "#b8e186"
            ],
            [
             0.8,
             "#7fbc41"
            ],
            [
             0.9,
             "#4d9221"
            ],
            [
             1,
             "#276419"
            ]
           ],
           "sequential": [
            [
             0,
             "#0d0887"
            ],
            [
             0.1111111111111111,
             "#46039f"
            ],
            [
             0.2222222222222222,
             "#7201a8"
            ],
            [
             0.3333333333333333,
             "#9c179e"
            ],
            [
             0.4444444444444444,
             "#bd3786"
            ],
            [
             0.5555555555555556,
             "#d8576b"
            ],
            [
             0.6666666666666666,
             "#ed7953"
            ],
            [
             0.7777777777777778,
             "#fb9f3a"
            ],
            [
             0.8888888888888888,
             "#fdca26"
            ],
            [
             1,
             "#f0f921"
            ]
           ],
           "sequentialminus": [
            [
             0,
             "#0d0887"
            ],
            [
             0.1111111111111111,
             "#46039f"
            ],
            [
             0.2222222222222222,
             "#7201a8"
            ],
            [
             0.3333333333333333,
             "#9c179e"
            ],
            [
             0.4444444444444444,
             "#bd3786"
            ],
            [
             0.5555555555555556,
             "#d8576b"
            ],
            [
             0.6666666666666666,
             "#ed7953"
            ],
            [
             0.7777777777777778,
             "#fb9f3a"
            ],
            [
             0.8888888888888888,
             "#fdca26"
            ],
            [
             1,
             "#f0f921"
            ]
           ]
          },
          "colorway": [
           "#636efa",
           "#EF553B",
           "#00cc96",
           "#ab63fa",
           "#FFA15A",
           "#19d3f3",
           "#FF6692",
           "#B6E880",
           "#FF97FF",
           "#FECB52"
          ],
          "font": {
           "color": "#2a3f5f"
          },
          "geo": {
           "bgcolor": "white",
           "lakecolor": "white",
           "landcolor": "white",
           "showlakes": true,
           "showland": true,
           "subunitcolor": "#C8D4E3"
          },
          "hoverlabel": {
           "align": "left"
          },
          "hovermode": "closest",
          "mapbox": {
           "style": "light"
          },
          "paper_bgcolor": "white",
          "plot_bgcolor": "white",
          "polar": {
           "angularaxis": {
            "gridcolor": "#EBF0F8",
            "linecolor": "#EBF0F8",
            "ticks": ""
           },
           "bgcolor": "white",
           "radialaxis": {
            "gridcolor": "#EBF0F8",
            "linecolor": "#EBF0F8",
            "ticks": ""
           }
          },
          "scene": {
           "xaxis": {
            "backgroundcolor": "white",
            "gridcolor": "#DFE8F3",
            "gridwidth": 2,
            "linecolor": "#EBF0F8",
            "showbackground": true,
            "ticks": "",
            "zerolinecolor": "#EBF0F8"
           },
           "yaxis": {
            "backgroundcolor": "white",
            "gridcolor": "#DFE8F3",
            "gridwidth": 2,
            "linecolor": "#EBF0F8",
            "showbackground": true,
            "ticks": "",
            "zerolinecolor": "#EBF0F8"
           },
           "zaxis": {
            "backgroundcolor": "white",
            "gridcolor": "#DFE8F3",
            "gridwidth": 2,
            "linecolor": "#EBF0F8",
            "showbackground": true,
            "ticks": "",
            "zerolinecolor": "#EBF0F8"
           }
          },
          "shapedefaults": {
           "line": {
            "color": "#2a3f5f"
           }
          },
          "ternary": {
           "aaxis": {
            "gridcolor": "#DFE8F3",
            "linecolor": "#A2B1C6",
            "ticks": ""
           },
           "baxis": {
            "gridcolor": "#DFE8F3",
            "linecolor": "#A2B1C6",
            "ticks": ""
           },
           "bgcolor": "white",
           "caxis": {
            "gridcolor": "#DFE8F3",
            "linecolor": "#A2B1C6",
            "ticks": ""
           }
          },
          "title": {
           "x": 0.05
          },
          "xaxis": {
           "automargin": true,
           "gridcolor": "#EBF0F8",
           "linecolor": "#EBF0F8",
           "ticks": "",
           "title": {
            "standoff": 15
           },
           "zerolinecolor": "#EBF0F8",
           "zerolinewidth": 2
          },
          "yaxis": {
           "automargin": true,
           "gridcolor": "#EBF0F8",
           "linecolor": "#EBF0F8",
           "ticks": "",
           "title": {
            "standoff": 15
           },
           "zerolinecolor": "#EBF0F8",
           "zerolinewidth": 2
          }
         }
        },
        "title": {
         "text": "Entropy–Complexity Regions for Folders in 'arpeggios' (Dim=6, Hop=1)"
        },
        "width": 800,
        "xaxis": {
         "range": [
          0,
          1
         ],
         "title": {
          "text": "Normalized Permutation Entropy"
         }
        },
        "yaxis": {
         "range": [
          0,
          1
         ],
         "title": {
          "text": "Normalized Complexity"
         }
        }
       }
      }
     },
     "metadata": {},
     "output_type": "display_data"
    }
   ],
   "source": [
    "folder_path = \"data/arpeggios\"\n",
    "dim = 6\n",
    "hop = 1\n",
    "alpha_val = 7\n",
    "plot_graph_ordpy_centroids_with_region(folder_path, dim, hop, alpha_val)"
   ]
  },
  {
   "cell_type": "code",
   "execution_count": 137,
   "metadata": {},
   "outputs": [
    {
     "name": "stderr",
     "output_type": "stream",
     "text": [
      "Processing audio files in data/chords/maj7 with dim 6 and hop 1: 100%|██████████| 340/340 [00:28<00:00, 11.78it/s]\n"
     ]
    },
    {
     "data": {
      "application/vnd.plotly.v1+json": {
       "config": {
        "plotlyServerURL": "https://plot.ly"
       },
       "data": [
        {
         "hovertemplate": "<b>File:</b> %{hovertext}<br><b>Entropy:</b> %{x}<br><b>Complexity:</b> %{y}<extra></extra>",
         "hovertext": [
          "Bb-7-maj7-chord-3.wav",
          "Ab-7-maj7-chord-1.wav",
          "Eb-3-maj7-chord-2.wav",
          "F#-4-maj7-chord-1.wav",
          "A-4-maj7-chord-3.wav",
          "C-7-maj7-chord-3.wav",
          "E-2-maj7-chord-3.wav",
          "G-1-maj7-chord-3.wav",
          "D-5-maj7-chord-3.wav",
          "F-6-maj7-chord-3.wav",
          "D-5-maj7-chord-2.wav",
          "F-6-maj7-chord-2.wav",
          "E-2-maj7-chord-2.wav",
          "G-1-maj7-chord-2.wav",
          "A-4-maj7-chord-2.wav",
          "C-7-maj7-chord-2.wav",
          "F#-4-maj7-chord-0.wav",
          "Eb-3-maj7-chord-3.wav",
          "Ab-7-maj7-chord-0.wav",
          "Bb-7-maj7-chord-2.wav",
          "Bb-7-maj7-chord-0.wav",
          "Ab-7-maj7-chord-2.wav",
          "Eb-3-maj7-chord-1.wav",
          "F#-4-maj7-chord-2.wav",
          "G-1-maj7-chord-0.wav",
          "E-2-maj7-chord-0.wav",
          "C-7-maj7-chord-0.wav",
          "A-4-maj7-chord-0.wav",
          "F-6-maj7-chord-0.wav",
          "D-5-maj7-chord-0.wav",
          "F-6-maj7-chord-1.wav",
          "D-5-maj7-chord-1.wav",
          "C-7-maj7-chord-1.wav",
          "A-4-maj7-chord-1.wav",
          "G-1-maj7-chord-1.wav",
          "E-2-maj7-chord-1.wav",
          "F#-4-maj7-chord-3.wav",
          "Eb-3-maj7-chord-0.wav",
          "Ab-7-maj7-chord-3.wav",
          "Bb-7-maj7-chord-1.wav",
          "Eb-7-maj7-chord-0.wav",
          "C-3-maj7-chord-1.wav",
          "E-6-maj7-chord-1.wav",
          "G-5-maj7-chord-1.wav",
          "D-1-maj7-chord-1.wav",
          "F-2-maj7-chord-1.wav",
          "B-4-maj7-chord-1.wav",
          "C#-4-maj7-chord-1.wav",
          "Bb-3-maj7-chord-1.wav",
          "Ab-3-maj7-chord-3.wav",
          "C-8-maj7-chord-2.wav",
          "C-8-maj7-chord-3.wav",
          "Ab-3-maj7-chord-2.wav",
          "Bb-3-maj7-chord-0.wav",
          "C#-4-maj7-chord-0.wav",
          "B-4-maj7-chord-0.wav",
          "D-1-maj7-chord-0.wav",
          "F-2-maj7-chord-0.wav",
          "E-6-maj7-chord-0.wav",
          "G-5-maj7-chord-0.wav",
          "C-3-maj7-chord-0.wav",
          "Eb-7-maj7-chord-1.wav",
          "Eb-7-maj7-chord-3.wav",
          "G-5-maj7-chord-2.wav",
          "E-6-maj7-chord-2.wav",
          "C-3-maj7-chord-2.wav",
          "B-4-maj7-chord-2.wav",
          "F-2-maj7-chord-2.wav",
          "D-1-maj7-chord-2.wav",
          "C#-4-maj7-chord-2.wav",
          "Bb-3-maj7-chord-2.wav",
          "Ab-3-maj7-chord-0.wav",
          "C-8-maj7-chord-1.wav",
          "C-8-maj7-chord-0.wav",
          "Ab-3-maj7-chord-1.wav",
          "Bb-3-maj7-chord-3.wav",
          "C#-4-maj7-chord-3.wav",
          "F-2-maj7-chord-3.wav",
          "D-1-maj7-chord-3.wav",
          "B-4-maj7-chord-3.wav",
          "C-3-maj7-chord-3.wav",
          "G-5-maj7-chord-3.wav",
          "E-6-maj7-chord-3.wav",
          "Eb-7-maj7-chord-2.wav",
          "Bb-6-maj7-chord-2.wav",
          "Ab-6-maj7-chord-0.wav",
          "F#-5-maj7-chord-0.wav",
          "Eb-2-maj7-chord-3.wav",
          "C#-1-maj7-chord-2.wav",
          "D-4-maj7-chord-2.wav",
          "F-7-maj7-chord-2.wav",
          "B-1-maj7-chord-2.wav",
          "A-5-maj7-chord-2.wav",
          "C-6-maj7-chord-2.wav",
          "E-3-maj7-chord-2.wav",
          "E-3-maj7-chord-3.wav",
          "A-5-maj7-chord-3.wav",
          "C-6-maj7-chord-3.wav",
          "B-1-maj7-chord-3.wav",
          "D-4-maj7-chord-3.wav",
          "F-7-maj7-chord-3.wav",
          "C#-1-maj7-chord-3.wav",
          "Eb-2-maj7-chord-2.wav",
          "F#-5-maj7-chord-1.wav",
          "Ab-6-maj7-chord-1.wav",
          "Bb-6-maj7-chord-3.wav",
          "Bb-6-maj7-chord-1.wav",
          "Ab-6-maj7-chord-3.wav",
          "F#-5-maj7-chord-3.wav",
          "Eb-2-maj7-chord-0.wav",
          "C#-1-maj7-chord-1.wav",
          "B-1-maj7-chord-1.wav",
          "F-7-maj7-chord-1.wav",
          "D-4-maj7-chord-1.wav",
          "E-3-maj7-chord-1.wav",
          "C-6-maj7-chord-1.wav",
          "A-5-maj7-chord-1.wav",
          "C-6-maj7-chord-0.wav",
          "A-5-maj7-chord-0.wav",
          "E-3-maj7-chord-0.wav",
          "F-7-maj7-chord-0.wav",
          "D-4-maj7-chord-0.wav",
          "B-1-maj7-chord-0.wav",
          "C#-1-maj7-chord-0.wav",
          "Eb-2-maj7-chord-1.wav",
          "F#-5-maj7-chord-2.wav",
          "Ab-6-maj7-chord-2.wav",
          "Bb-6-maj7-chord-0.wav",
          "F#-1-maj7-chord-2.wav",
          "Eb-6-maj7-chord-1.wav",
          "F-3-maj7-chord-0.wav",
          "B-5-maj7-chord-0.wav",
          "C#-5-maj7-chord-0.wav",
          "A-1-maj7-chord-0.wav",
          "C-2-maj7-chord-0.wav",
          "E-7-maj7-chord-0.wav",
          "G-4-maj7-chord-0.wav",
          "Bb-2-maj7-chord-0.wav",
          "Ab-2-maj7-chord-2.wav",
          "Ab-2-maj7-chord-3.wav",
          "Bb-2-maj7-chord-1.wav",
          "E-7-maj7-chord-1.wav",
          "G-4-maj7-chord-1.wav",
          "A-1-maj7-chord-1.wav",
          "C-2-maj7-chord-1.wav",
          "C#-5-maj7-chord-1.wav",
          "B-5-maj7-chord-1.wav",
          "F-3-maj7-chord-1.wav",
          "Eb-6-maj7-chord-0.wav",
          "F#-1-maj7-chord-3.wav",
          "F#-1-maj7-chord-1.wav",
          "Eb-6-maj7-chord-2.wav",
          "B-5-maj7-chord-3.wav",
          "F-3-maj7-chord-3.wav",
          "C#-5-maj7-chord-3.wav",
          "G-4-maj7-chord-3.wav",
          "E-7-maj7-chord-3.wav",
          "C-2-maj7-chord-3.wav",
          "A-1-maj7-chord-3.wav",
          "Bb-2-maj7-chord-3.wav",
          "Ab-2-maj7-chord-1.wav",
          "Ab-2-maj7-chord-0.wav",
          "Bb-2-maj7-chord-2.wav",
          "C-2-maj7-chord-2.wav",
          "A-1-maj7-chord-2.wav",
          "G-4-maj7-chord-2.wav",
          "E-7-maj7-chord-2.wav",
          "C#-5-maj7-chord-2.wav",
          "F-3-maj7-chord-2.wav",
          "B-5-maj7-chord-2.wav",
          "Eb-6-maj7-chord-3.wav",
          "F#-1-maj7-chord-0.wav",
          "Ab-5-maj7-chord-3.wav",
          "Bb-5-maj7-chord-1.wav",
          "C-5-maj7-chord-1.wav",
          "A-6-maj7-chord-1.wav",
          "G-3-maj7-chord-1.wav",
          "C#-2-maj7-chord-1.wav",
          "F-4-maj7-chord-1.wav",
          "D-7-maj7-chord-1.wav",
          "B-2-maj7-chord-1.wav",
          "Eb-1-maj7-chord-0.wav",
          "F#-6-maj7-chord-3.wav",
          "F#-6-maj7-chord-2.wav",
          "Eb-1-maj7-chord-1.wav",
          "B-2-maj7-chord-0.wav",
          "F-4-maj7-chord-0.wav",
          "D-7-maj7-chord-0.wav",
          "C#-2-maj7-chord-0.wav",
          "G-3-maj7-chord-0.wav",
          "C-5-maj7-chord-0.wav",
          "A-6-maj7-chord-0.wav",
          "Bb-5-maj7-chord-0.wav",
          "Ab-5-maj7-chord-2.wav",
          "Ab-5-maj7-chord-0.wav",
          "Bb-5-maj7-chord-2.wav",
          "G-3-maj7-chord-2.wav",
          "A-6-maj7-chord-2.wav",
          "C-5-maj7-chord-2.wav",
          "C#-2-maj7-chord-2.wav",
          "B-2-maj7-chord-2.wav",
          "D-7-maj7-chord-2.wav",
          "F-4-maj7-chord-2.wav",
          "Eb-1-maj7-chord-3.wav",
          "F#-6-maj7-chord-0.wav",
          "F#-6-maj7-chord-1.wav",
          "Eb-1-maj7-chord-2.wav",
          "D-7-maj7-chord-3.wav",
          "F-4-maj7-chord-3.wav",
          "B-2-maj7-chord-3.wav",
          "C#-2-maj7-chord-3.wav",
          "A-6-maj7-chord-3.wav",
          "C-5-maj7-chord-3.wav",
          "G-3-maj7-chord-3.wav",
          "Bb-5-maj7-chord-3.wav",
          "Ab-5-maj7-chord-1.wav",
          "C-1-maj7-chord-3.wav",
          "A-2-maj7-chord-3.wav",
          "G-7-maj7-chord-3.wav",
          "E-4-maj7-chord-3.wav",
          "D-3-maj7-chord-3.wav",
          "B-6-maj7-chord-3.wav",
          "C#-6-maj7-chord-3.wav",
          "Eb-5-maj7-chord-2.wav",
          "F#-2-maj7-chord-1.wav",
          "Ab-1-maj7-chord-1.wav",
          "Bb-1-maj7-chord-3.wav",
          "Bb-1-maj7-chord-2.wav",
          "Ab-1-maj7-chord-0.wav",
          "F#-2-maj7-chord-0.wav",
          "Eb-5-maj7-chord-3.wav",
          "C#-6-maj7-chord-2.wav",
          "B-6-maj7-chord-2.wav",
          "D-3-maj7-chord-2.wav",
          "G-7-maj7-chord-2.wav",
          "E-4-maj7-chord-2.wav",
          "C-1-maj7-chord-2.wav",
          "A-2-maj7-chord-2.wav",
          "E-4-maj7-chord-0.wav",
          "G-7-maj7-chord-0.wav",
          "A-2-maj7-chord-0.wav",
          "C-1-maj7-chord-0.wav",
          "B-6-maj7-chord-0.wav",
          "D-3-maj7-chord-0.wav",
          "C#-6-maj7-chord-0.wav",
          "Eb-5-maj7-chord-1.wav",
          "F#-2-maj7-chord-2.wav",
          "Ab-1-maj7-chord-2.wav",
          "Bb-1-maj7-chord-0.wav",
          "Bb-1-maj7-chord-1.wav",
          "Ab-1-maj7-chord-3.wav",
          "F#-2-maj7-chord-3.wav",
          "Eb-5-maj7-chord-0.wav",
          "C#-6-maj7-chord-1.wav",
          "D-3-maj7-chord-1.wav",
          "B-6-maj7-chord-1.wav",
          "A-2-maj7-chord-1.wav",
          "C-1-maj7-chord-1.wav",
          "E-4-maj7-chord-1.wav",
          "G-7-maj7-chord-1.wav",
          "Ab-4-maj7-chord-2.wav",
          "Bb-4-maj7-chord-0.wav",
          "C#-3-maj7-chord-0.wav",
          "F-5-maj7-chord-0.wav",
          "D-6-maj7-chord-0.wav",
          "B-3-maj7-chord-0.wav",
          "C-4-maj7-chord-0.wav",
          "A-7-maj7-chord-0.wav",
          "G-2-maj7-chord-0.wav",
          "E-1-maj7-chord-0.wav",
          "F#-7-maj7-chord-2.wav",
          "F#-7-maj7-chord-3.wav",
          "G-2-maj7-chord-1.wav",
          "E-1-maj7-chord-1.wav",
          "C-4-maj7-chord-1.wav",
          "A-7-maj7-chord-1.wav",
          "B-3-maj7-chord-1.wav",
          "F-5-maj7-chord-1.wav",
          "D-6-maj7-chord-1.wav",
          "C#-3-maj7-chord-1.wav",
          "Bb-4-maj7-chord-1.wav",
          "Ab-4-maj7-chord-3.wav",
          "Ab-4-maj7-chord-1.wav",
          "Bb-4-maj7-chord-3.wav",
          "C#-3-maj7-chord-3.wav",
          "B-3-maj7-chord-3.wav",
          "D-6-maj7-chord-3.wav",
          "F-5-maj7-chord-3.wav",
          "E-1-maj7-chord-3.wav",
          "G-2-maj7-chord-3.wav",
          "A-7-maj7-chord-3.wav",
          "C-4-maj7-chord-3.wav",
          "F#-7-maj7-chord-1.wav",
          "F#-7-maj7-chord-0.wav",
          "A-7-maj7-chord-2.wav",
          "C-4-maj7-chord-2.wav",
          "E-1-maj7-chord-2.wav",
          "G-2-maj7-chord-2.wav",
          "D-6-maj7-chord-2.wav",
          "F-5-maj7-chord-2.wav",
          "B-3-maj7-chord-2.wav",
          "C#-3-maj7-chord-2.wav",
          "Bb-4-maj7-chord-2.wav",
          "Ab-4-maj7-chord-0.wav",
          "F-1-maj7-chord-2.wav",
          "D-2-maj7-chord-2.wav",
          "B-7-maj7-chord-2.wav",
          "C#-7-maj7-chord-2.wav",
          "A-3-maj7-chord-2.wav",
          "G-6-maj7-chord-2.wav",
          "E-5-maj7-chord-2.wav",
          "F#-3-maj7-chord-0.wav",
          "Eb-4-maj7-chord-3.wav",
          "Eb-4-maj7-chord-2.wav",
          "F#-3-maj7-chord-1.wav",
          "G-6-maj7-chord-3.wav",
          "E-5-maj7-chord-3.wav",
          "A-3-maj7-chord-3.wav",
          "C#-7-maj7-chord-3.wav",
          "B-7-maj7-chord-3.wav",
          "F-1-maj7-chord-3.wav",
          "D-2-maj7-chord-3.wav",
          "B-7-maj7-chord-1.wav",
          "D-2-maj7-chord-1.wav",
          "F-1-maj7-chord-1.wav",
          "C#-7-maj7-chord-1.wav",
          "E-5-maj7-chord-1.wav",
          "G-6-maj7-chord-1.wav",
          "A-3-maj7-chord-1.wav",
          "F#-3-maj7-chord-3.wav",
          "Eb-4-maj7-chord-0.wav",
          "Eb-4-maj7-chord-1.wav",
          "F#-3-maj7-chord-2.wav",
          "A-3-maj7-chord-0.wav",
          "E-5-maj7-chord-0.wav",
          "G-6-maj7-chord-0.wav",
          "C#-7-maj7-chord-0.wav",
          "D-2-maj7-chord-0.wav",
          "F-1-maj7-chord-0.wav",
          "B-7-maj7-chord-0.wav"
         ],
         "marker": {
          "color": "blue",
          "line": {
           "color": "black",
           "width": 1
          },
          "size": 10
         },
         "mode": "markers",
         "name": "Data Points",
         "type": "scatter",
         "x": {
          "bdata": "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",
          "dtype": "f8"
         },
         "y": {
          "bdata": "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",
          "dtype": "f8"
         }
        },
        {
         "line": {
          "color": "red",
          "dash": "dash"
         },
         "mode": "lines",
         "name": "Maximum Complexity Boundary",
         "type": "scatter",
         "x": {
          "bdata": "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",
          "dtype": "f8"
         },
         "y": {
          "bdata": "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",
          "dtype": "f8"
         }
        },
        {
         "line": {
          "color": "green",
          "dash": "dash"
         },
         "mode": "lines",
         "name": "Minimum Complexity Boundary",
         "type": "scatter",
         "x": {
          "bdata": "AAAAAAAAAICaxf+16xqTP+jVhP1KAqI/vUTdi+gLqj/86nM1k+ewP8K3yY7ArrQ/p554aKFguD/uL+sCmwC8PzAUmEQWkb8/OC9Izu+JwT9fJ6LWLUXDP9zCdlXT+sQ/w/gEHFSrxj8NvFFLEFfIP6qV/uFY/sk/NbM6+3Khyz8sJAsvmkDNP7DF0VkC3M4/1TEXfOw50D9Eo50aIwTRP2yQ0d+2zNE/cXTxubeT0j+olffyM1nTP1t01Gg4HdQ/9H3Ou9Df1D86qBR1B6HVP9wYEyfmYNY/6J68iHUf1z8jY7eMvdzXP+DxJ3XFmNg/K+Ku5JNT2T+Dkg/tLg3aP45i3xucxdo/e8qKheB82z/HfO/OADPcP7hzvzUB6Nw/PsHXl+Wb3T86q655sU7eP6iv9gtoAN8/nDCPMAyx3z9Pw2s/UDDgP4fyuqOTh+A/ylnQS1He4D+2U/sdijThPz/0d+E+iuE/Qmx4P3Df4T8RywLEHjTiP6MEpt5KiOI/1I4I4/Tb4j9mYlIJHS/jP3Kyc27DgeM/hzlJFOjT4z/jjp7hiiXkP/qKDqKrduQ/+FfBBUrH5D/zXQehZRflP7HIz+v9ZuU/h+v4QBK25T8VRHjdoQTmP8xKV9+rUuY/IZyBRC+g5j94S2DpKu3mP6RZPYedOec/N09psoWF5z+X1RvY4dDnP/fNBjywG+g/48WR9e5l6D84trHsm6/oP9ubTta0+Og/1pYlMDdB6T+zsRI8IInpP7wOqfps0Ok//L/6JBoX6j81rmolJF3qP6I6Wg+Houo/yCN5lT7n6j+L1W/+RSvrP0CTiReYbus/5ELrJC+x6z99ysLOBPPrP0yqrgoSNOw/q/lgAE907D/z+SzosrPsPzkUuOEz8uw/IStdwMYv7T9YSNjJXmztPxjoW2Ltp+0/YoL0nmHi7T99rZWzpxvuP30tZSyoU+4/3roJ2EaK7j+hR1o3Yb/uPwiMLibM8u4/5bjgL1Ak7z8p/rF0o1PvP1Omz7BegO8/zKz4ROep7z8Ha0uLO8/vP00Cx0hS7u8/AAAAAAAA8D8=",
          "dtype": "f8"
         },
         "y": {
          "bdata": "AAAAAAAAAIDM4Y+YJlKSP3cLBINQtqA/J6zO+G52pz/N5dV3Gp6tP32fvDSTpLE/ZaqxOrdEtD8TBRfs0bW2Pz4In7ex/Lg/GLkl5iMduz9xvMwPQxq9Pxsj/6un9r4/5RS4+ENawD9oIqDe5irBPyRePBgT7sE/wQS/lIakwj+vc/D06k7DPw+0hN/Y7cM/pSqkndqBxD8oUsMvbgvFP5alVvwGi8U/hbZQMA8Bxj8sB9Pi6G3GP/hm9Qjv0cY/xNtVQ3Ytxz+YwtaMzYDHP9+iQtA+zMc/fgROaQ8QyD/crH+UgEzIP5sM0dDPgcg/ni5MNTewyD9iM3+87dfIP0a3R4cn+cg/fpI0GBYUyT+FPYaI6CjJP5yFqrfLN8k/4/HsdepAyT91afiqbUTJPygQr3h8Qsk/y77JWjw7yT/8YqBD0S7JPxf1brZdHck/SXpf3wIHyT/Z8pep4OvIP2cIg9MVzMg/PX2DAcCnyD9qhzzP+37IPyJNlN/kUcg/7m6R65UgyD8B7jDQKOvHP3iHTpu2scc/0wG3l1d0xz8XdnlYIzPHPym7isMw7sY/u1HMG5alxj+AsYYKaVnGP2W5Zai+CcY/itMEhqu2xT/kqBe0Q2DFP1J8O8uaBsU/k9Z888OpxD9Y05zr0UnEPyY2IRDX5sM/ToM6YuWAwz/Sh4uODhjDP9tB3vNjrMI/8cnSqfY9wj9N75WH18zBPxqprioXWcE/kEzz/cXiwD9sFbpA9GnAP14jtxxk3b8/msZDzB7ivj+pCIpnOOK9P53wNrHQ3bw/2BdgawfVuz8HP/Nt/Me6P/0JBcDPtrk/A3bGtKGhuD/EsyUNk4i3P1sKdB/Fa7Y/353hBlpLtT8Cb0vddCe0P1Lq0QI6ALM/PSYjeM/VsT+5+pxSXaiwP9pCy6kc8K4/hmBseCGKrD+oqte3Lh+qP+ZMTGK2r6c/w7ANazs8pT8z3wTgWMWiPzQr8GfNS6A/peLq2R2hmz/cun3T3amWP55cgtvItZE/L6gfV+WWiT8G9z+G6d9/P9Qznsa2+Wo/3KtzhX9C17w=",
          "dtype": "f8"
         }
        }
       ],
       "layout": {
        "height": 600,
        "template": {
         "data": {
          "bar": [
           {
            "error_x": {
             "color": "#2a3f5f"
            },
            "error_y": {
             "color": "#2a3f5f"
            },
            "marker": {
             "line": {
              "color": "white",
              "width": 0.5
             },
             "pattern": {
              "fillmode": "overlay",
              "size": 10,
              "solidity": 0.2
             }
            },
            "type": "bar"
           }
          ],
          "barpolar": [
           {
            "marker": {
             "line": {
              "color": "white",
              "width": 0.5
             },
             "pattern": {
              "fillmode": "overlay",
              "size": 10,
              "solidity": 0.2
             }
            },
            "type": "barpolar"
           }
          ],
          "carpet": [
           {
            "aaxis": {
             "endlinecolor": "#2a3f5f",
             "gridcolor": "#C8D4E3",
             "linecolor": "#C8D4E3",
             "minorgridcolor": "#C8D4E3",
             "startlinecolor": "#2a3f5f"
            },
            "baxis": {
             "endlinecolor": "#2a3f5f",
             "gridcolor": "#C8D4E3",
             "linecolor": "#C8D4E3",
             "minorgridcolor": "#C8D4E3",
             "startlinecolor": "#2a3f5f"
            },
            "type": "carpet"
           }
          ],
          "choropleth": [
           {
            "colorbar": {
             "outlinewidth": 0,
             "ticks": ""
            },
            "type": "choropleth"
           }
          ],
          "contour": [
           {
            "colorbar": {
             "outlinewidth": 0,
             "ticks": ""
            },
            "colorscale": [
             [
              0,
              "#0d0887"
             ],
             [
              0.1111111111111111,
              "#46039f"
             ],
             [
              0.2222222222222222,
              "#7201a8"
             ],
             [
              0.3333333333333333,
              "#9c179e"
             ],
             [
              0.4444444444444444,
              "#bd3786"
             ],
             [
              0.5555555555555556,
              "#d8576b"
             ],
             [
              0.6666666666666666,
              "#ed7953"
             ],
             [
              0.7777777777777778,
              "#fb9f3a"
             ],
             [
              0.8888888888888888,
              "#fdca26"
             ],
             [
              1,
              "#f0f921"
             ]
            ],
            "type": "contour"
           }
          ],
          "contourcarpet": [
           {
            "colorbar": {
             "outlinewidth": 0,
             "ticks": ""
            },
            "type": "contourcarpet"
           }
          ],
          "heatmap": [
           {
            "colorbar": {
             "outlinewidth": 0,
             "ticks": ""
            },
            "colorscale": [
             [
              0,
              "#0d0887"
             ],
             [
              0.1111111111111111,
              "#46039f"
             ],
             [
              0.2222222222222222,
              "#7201a8"
             ],
             [
              0.3333333333333333,
              "#9c179e"
             ],
             [
              0.4444444444444444,
              "#bd3786"
             ],
             [
              0.5555555555555556,
              "#d8576b"
             ],
             [
              0.6666666666666666,
              "#ed7953"
             ],
             [
              0.7777777777777778,
              "#fb9f3a"
             ],
             [
              0.8888888888888888,
              "#fdca26"
             ],
             [
              1,
              "#f0f921"
             ]
            ],
            "type": "heatmap"
           }
          ],
          "histogram": [
           {
            "marker": {
             "pattern": {
              "fillmode": "overlay",
              "size": 10,
              "solidity": 0.2
             }
            },
            "type": "histogram"
           }
          ],
          "histogram2d": [
           {
            "colorbar": {
             "outlinewidth": 0,
             "ticks": ""
            },
            "colorscale": [
             [
              0,
              "#0d0887"
             ],
             [
              0.1111111111111111,
              "#46039f"
             ],
             [
              0.2222222222222222,
              "#7201a8"
             ],
             [
              0.3333333333333333,
              "#9c179e"
             ],
             [
              0.4444444444444444,
              "#bd3786"
             ],
             [
              0.5555555555555556,
              "#d8576b"
             ],
             [
              0.6666666666666666,
              "#ed7953"
             ],
             [
              0.7777777777777778,
              "#fb9f3a"
             ],
             [
              0.8888888888888888,
              "#fdca26"
             ],
             [
              1,
              "#f0f921"
             ]
            ],
            "type": "histogram2d"
           }
          ],
          "histogram2dcontour": [
           {
            "colorbar": {
             "outlinewidth": 0,
             "ticks": ""
            },
            "colorscale": [
             [
              0,
              "#0d0887"
             ],
             [
              0.1111111111111111,
              "#46039f"
             ],
             [
              0.2222222222222222,
              "#7201a8"
             ],
             [
              0.3333333333333333,
              "#9c179e"
             ],
             [
              0.4444444444444444,
              "#bd3786"
             ],
             [
              0.5555555555555556,
              "#d8576b"
             ],
             [
              0.6666666666666666,
              "#ed7953"
             ],
             [
              0.7777777777777778,
              "#fb9f3a"
             ],
             [
              0.8888888888888888,
              "#fdca26"
             ],
             [
              1,
              "#f0f921"
             ]
            ],
            "type": "histogram2dcontour"
           }
          ],
          "mesh3d": [
           {
            "colorbar": {
             "outlinewidth": 0,
             "ticks": ""
            },
            "type": "mesh3d"
           }
          ],
          "parcoords": [
           {
            "line": {
             "colorbar": {
              "outlinewidth": 0,
              "ticks": ""
             }
            },
            "type": "parcoords"
           }
          ],
          "pie": [
           {
            "automargin": true,
            "type": "pie"
           }
          ],
          "scatter": [
           {
            "fillpattern": {
             "fillmode": "overlay",
             "size": 10,
             "solidity": 0.2
            },
            "type": "scatter"
           }
          ],
          "scatter3d": [
           {
            "line": {
             "colorbar": {
              "outlinewidth": 0,
              "ticks": ""
             }
            },
            "marker": {
             "colorbar": {
              "outlinewidth": 0,
              "ticks": ""
             }
            },
            "type": "scatter3d"
           }
          ],
          "scattercarpet": [
           {
            "marker": {
             "colorbar": {
              "outlinewidth": 0,
              "ticks": ""
             }
            },
            "type": "scattercarpet"
           }
          ],
          "scattergeo": [
           {
            "marker": {
             "colorbar": {
              "outlinewidth": 0,
              "ticks": ""
             }
            },
            "type": "scattergeo"
           }
          ],
          "scattergl": [
           {
            "marker": {
             "colorbar": {
              "outlinewidth": 0,
              "ticks": ""
             }
            },
            "type": "scattergl"
           }
          ],
          "scattermap": [
           {
            "marker": {
             "colorbar": {
              "outlinewidth": 0,
              "ticks": ""
             }
            },
            "type": "scattermap"
           }
          ],
          "scattermapbox": [
           {
            "marker": {
             "colorbar": {
              "outlinewidth": 0,
              "ticks": ""
             }
            },
            "type": "scattermapbox"
           }
          ],
          "scatterpolar": [
           {
            "marker": {
             "colorbar": {
              "outlinewidth": 0,
              "ticks": ""
             }
            },
            "type": "scatterpolar"
           }
          ],
          "scatterpolargl": [
           {
            "marker": {
             "colorbar": {
              "outlinewidth": 0,
              "ticks": ""
             }
            },
            "type": "scatterpolargl"
           }
          ],
          "scatterternary": [
           {
            "marker": {
             "colorbar": {
              "outlinewidth": 0,
              "ticks": ""
             }
            },
            "type": "scatterternary"
           }
          ],
          "surface": [
           {
            "colorbar": {
             "outlinewidth": 0,
             "ticks": ""
            },
            "colorscale": [
             [
              0,
              "#0d0887"
             ],
             [
              0.1111111111111111,
              "#46039f"
             ],
             [
              0.2222222222222222,
              "#7201a8"
             ],
             [
              0.3333333333333333,
              "#9c179e"
             ],
             [
              0.4444444444444444,
              "#bd3786"
             ],
             [
              0.5555555555555556,
              "#d8576b"
             ],
             [
              0.6666666666666666,
              "#ed7953"
             ],
             [
              0.7777777777777778,
              "#fb9f3a"
             ],
             [
              0.8888888888888888,
              "#fdca26"
             ],
             [
              1,
              "#f0f921"
             ]
            ],
            "type": "surface"
           }
          ],
          "table": [
           {
            "cells": {
             "fill": {
              "color": "#EBF0F8"
             },
             "line": {
              "color": "white"
             }
            },
            "header": {
             "fill": {
              "color": "#C8D4E3"
             },
             "line": {
              "color": "white"
             }
            },
            "type": "table"
           }
          ]
         },
         "layout": {
          "annotationdefaults": {
           "arrowcolor": "#2a3f5f",
           "arrowhead": 0,
           "arrowwidth": 1
          },
          "autotypenumbers": "strict",
          "coloraxis": {
           "colorbar": {
            "outlinewidth": 0,
            "ticks": ""
           }
          },
          "colorscale": {
           "diverging": [
            [
             0,
             "#8e0152"
            ],
            [
             0.1,
             "#c51b7d"
            ],
            [
             0.2,
             "#de77ae"
            ],
            [
             0.3,
             "#f1b6da"
            ],
            [
             0.4,
             "#fde0ef"
            ],
            [
             0.5,
             "#f7f7f7"
            ],
            [
             0.6,
             "#e6f5d0"
            ],
            [
             0.7,
             "#b8e186"
            ],
            [
             0.8,
             "#7fbc41"
            ],
            [
             0.9,
             "#4d9221"
            ],
            [
             1,
             "#276419"
            ]
           ],
           "sequential": [
            [
             0,
             "#0d0887"
            ],
            [
             0.1111111111111111,
             "#46039f"
            ],
            [
             0.2222222222222222,
             "#7201a8"
            ],
            [
             0.3333333333333333,
             "#9c179e"
            ],
            [
             0.4444444444444444,
             "#bd3786"
            ],
            [
             0.5555555555555556,
             "#d8576b"
            ],
            [
             0.6666666666666666,
             "#ed7953"
            ],
            [
             0.7777777777777778,
             "#fb9f3a"
            ],
            [
             0.8888888888888888,
             "#fdca26"
            ],
            [
             1,
             "#f0f921"
            ]
           ],
           "sequentialminus": [
            [
             0,
             "#0d0887"
            ],
            [
             0.1111111111111111,
             "#46039f"
            ],
            [
             0.2222222222222222,
             "#7201a8"
            ],
            [
             0.3333333333333333,
             "#9c179e"
            ],
            [
             0.4444444444444444,
             "#bd3786"
            ],
            [
             0.5555555555555556,
             "#d8576b"
            ],
            [
             0.6666666666666666,
             "#ed7953"
            ],
            [
             0.7777777777777778,
             "#fb9f3a"
            ],
            [
             0.8888888888888888,
             "#fdca26"
            ],
            [
             1,
             "#f0f921"
            ]
           ]
          },
          "colorway": [
           "#636efa",
           "#EF553B",
           "#00cc96",
           "#ab63fa",
           "#FFA15A",
           "#19d3f3",
           "#FF6692",
           "#B6E880",
           "#FF97FF",
           "#FECB52"
          ],
          "font": {
           "color": "#2a3f5f"
          },
          "geo": {
           "bgcolor": "white",
           "lakecolor": "white",
           "landcolor": "white",
           "showlakes": true,
           "showland": true,
           "subunitcolor": "#C8D4E3"
          },
          "hoverlabel": {
           "align": "left"
          },
          "hovermode": "closest",
          "mapbox": {
           "style": "light"
          },
          "paper_bgcolor": "white",
          "plot_bgcolor": "white",
          "polar": {
           "angularaxis": {
            "gridcolor": "#EBF0F8",
            "linecolor": "#EBF0F8",
            "ticks": ""
           },
           "bgcolor": "white",
           "radialaxis": {
            "gridcolor": "#EBF0F8",
            "linecolor": "#EBF0F8",
            "ticks": ""
           }
          },
          "scene": {
           "xaxis": {
            "backgroundcolor": "white",
            "gridcolor": "#DFE8F3",
            "gridwidth": 2,
            "linecolor": "#EBF0F8",
            "showbackground": true,
            "ticks": "",
            "zerolinecolor": "#EBF0F8"
           },
           "yaxis": {
            "backgroundcolor": "white",
            "gridcolor": "#DFE8F3",
            "gridwidth": 2,
            "linecolor": "#EBF0F8",
            "showbackground": true,
            "ticks": "",
            "zerolinecolor": "#EBF0F8"
           },
           "zaxis": {
            "backgroundcolor": "white",
            "gridcolor": "#DFE8F3",
            "gridwidth": 2,
            "linecolor": "#EBF0F8",
            "showbackground": true,
            "ticks": "",
            "zerolinecolor": "#EBF0F8"
           }
          },
          "shapedefaults": {
           "line": {
            "color": "#2a3f5f"
           }
          },
          "ternary": {
           "aaxis": {
            "gridcolor": "#DFE8F3",
            "linecolor": "#A2B1C6",
            "ticks": ""
           },
           "baxis": {
            "gridcolor": "#DFE8F3",
            "linecolor": "#A2B1C6",
            "ticks": ""
           },
           "bgcolor": "white",
           "caxis": {
            "gridcolor": "#DFE8F3",
            "linecolor": "#A2B1C6",
            "ticks": ""
           }
          },
          "title": {
           "x": 0.05
          },
          "xaxis": {
           "automargin": true,
           "gridcolor": "#EBF0F8",
           "linecolor": "#EBF0F8",
           "ticks": "",
           "title": {
            "standoff": 15
           },
           "zerolinecolor": "#EBF0F8",
           "zerolinewidth": 2
          },
          "yaxis": {
           "automargin": true,
           "gridcolor": "#EBF0F8",
           "linecolor": "#EBF0F8",
           "ticks": "",
           "title": {
            "standoff": 15
           },
           "zerolinecolor": "#EBF0F8",
           "zerolinewidth": 2
          }
         }
        },
        "title": {
         "text": "Entropy–Complexity for data/chords/maj7 (Plotly)\nDim = '6', Hop = '1'"
        },
        "width": 800,
        "xaxis": {
         "range": [
          0,
          1
         ],
         "title": {
          "text": "Normalized Permutation Entropy"
         }
        },
        "yaxis": {
         "range": [
          0,
          1
         ],
         "title": {
          "text": "Normalized Complexity"
         }
        }
       }
      }
     },
     "metadata": {},
     "output_type": "display_data"
    }
   ],
   "source": [
    "folder_path = \"data/chords/maj7\"\n",
    "dim = 6\n",
    "hop = 1\n",
    "plot_graph_ordpy(folder_path, dim, hop)"
   ]
  },
  {
   "cell_type": "code",
   "execution_count": 138,
   "metadata": {},
   "outputs": [
    {
     "name": "stderr",
     "output_type": "stream",
     "text": [
      "Processing audio files in data/chords/tritone with dim 6 and hop 1: 100%|██████████| 170/170 [00:14<00:00, 11.65it/s]\n"
     ]
    },
    {
     "data": {
      "application/vnd.plotly.v1+json": {
       "config": {
        "plotlyServerURL": "https://plot.ly"
       },
       "data": [
        {
         "hovertemplate": "<b>File:</b> %{hovertext}<br><b>Entropy:</b> %{x}<br><b>Complexity:</b> %{y}<extra></extra>",
         "hovertext": [
          "Bb-7-tritone-chord-0.wav",
          "G-5-tritone-chord-0.wav",
          "Eb-4-tritone-chord-1.wav",
          "Ab-1-tritone-chord-1.wav",
          "G-4-tritone-chord-1.wav",
          "E-1-tritone-chord-0.wav",
          "Bb-6-tritone-chord-1.wav",
          "Eb-5-tritone-chord-0.wav",
          "Eb-5-tritone-chord-1.wav",
          "Bb-6-tritone-chord-0.wav",
          "E-1-tritone-chord-1.wav",
          "G-4-tritone-chord-0.wav",
          "Ab-1-tritone-chord-0.wav",
          "Eb-4-tritone-chord-0.wav",
          "G-5-tritone-chord-1.wav",
          "Bb-7-tritone-chord-1.wav",
          "Ab-2-tritone-chord-0.wav",
          "Eb-7-tritone-chord-0.wav",
          "Bb-4-tritone-chord-1.wav",
          "E-3-tritone-chord-0.wav",
          "G-6-tritone-chord-1.wav",
          "Ab-3-tritone-chord-1.wav",
          "Eb-6-tritone-chord-1.wav",
          "G-7-tritone-chord-0.wav",
          "Bb-5-tritone-chord-0.wav",
          "E-2-tritone-chord-1.wav",
          "E-2-tritone-chord-0.wav",
          "Bb-5-tritone-chord-1.wav",
          "G-7-tritone-chord-1.wav",
          "Eb-6-tritone-chord-0.wav",
          "Ab-3-tritone-chord-0.wav",
          "G-6-tritone-chord-0.wav",
          "E-3-tritone-chord-1.wav",
          "Bb-4-tritone-chord-0.wav",
          "Eb-7-tritone-chord-1.wav",
          "Ab-2-tritone-chord-1.wav",
          "C-8-tritone-chord-1.wav",
          "Ab-5-tritone-chord-0.wav",
          "Bb-3-tritone-chord-1.wav",
          "E-4-tritone-chord-0.wav",
          "G-1-tritone-chord-1.wav",
          "Ab-4-tritone-chord-1.wav",
          "Eb-1-tritone-chord-1.wav",
          "Bb-2-tritone-chord-0.wav",
          "E-5-tritone-chord-1.wav",
          "E-5-tritone-chord-0.wav",
          "Bb-2-tritone-chord-1.wav",
          "Eb-1-tritone-chord-0.wav",
          "Ab-4-tritone-chord-0.wav",
          "G-1-tritone-chord-0.wav",
          "E-4-tritone-chord-1.wav",
          "Bb-3-tritone-chord-0.wav",
          "Ab-5-tritone-chord-1.wav",
          "C-8-tritone-chord-0.wav",
          "E-7-tritone-chord-1.wav",
          "G-2-tritone-chord-0.wav",
          "Eb-3-tritone-chord-1.wav",
          "Ab-6-tritone-chord-1.wav",
          "G-3-tritone-chord-1.wav",
          "E-6-tritone-chord-0.wav",
          "Bb-1-tritone-chord-1.wav",
          "Eb-2-tritone-chord-0.wav",
          "Ab-7-tritone-chord-0.wav",
          "Ab-7-tritone-chord-1.wav",
          "Eb-2-tritone-chord-1.wav",
          "Bb-1-tritone-chord-0.wav",
          "E-6-tritone-chord-1.wav",
          "G-3-tritone-chord-0.wav",
          "Ab-6-tritone-chord-0.wav",
          "Eb-3-tritone-chord-0.wav",
          "G-2-tritone-chord-1.wav",
          "E-7-tritone-chord-0.wav",
          "A-3-tritone-chord-0.wav",
          "C-6-tritone-chord-1.wav",
          "C-7-tritone-chord-0.wav",
          "A-2-tritone-chord-1.wav",
          "A-2-tritone-chord-0.wav",
          "C-7-tritone-chord-1.wav",
          "C-6-tritone-chord-0.wav",
          "A-3-tritone-chord-1.wav",
          "C-5-tritone-chord-0.wav",
          "C-4-tritone-chord-1.wav",
          "A-1-tritone-chord-0.wav",
          "A-1-tritone-chord-1.wav",
          "C-4-tritone-chord-0.wav",
          "C-5-tritone-chord-1.wav",
          "A-7-tritone-chord-1.wav",
          "C-2-tritone-chord-0.wav",
          "C-3-tritone-chord-1.wav",
          "A-6-tritone-chord-0.wav",
          "A-6-tritone-chord-1.wav",
          "C-3-tritone-chord-0.wav",
          "C-2-tritone-chord-1.wav",
          "A-7-tritone-chord-0.wav",
          "A-4-tritone-chord-0.wav",
          "C-1-tritone-chord-1.wav",
          "A-5-tritone-chord-1.wav",
          "A-5-tritone-chord-0.wav",
          "C-1-tritone-chord-0.wav",
          "A-4-tritone-chord-1.wav",
          "D-2-tritone-chord-1.wav",
          "F-7-tritone-chord-0.wav",
          "C#-5-tritone-chord-0.wav",
          "C#-4-tritone-chord-1.wav",
          "F-6-tritone-chord-1.wav",
          "D-3-tritone-chord-0.wav",
          "D-3-tritone-chord-1.wav",
          "F-6-tritone-chord-0.wav",
          "C#-4-tritone-chord-0.wav",
          "C#-5-tritone-chord-1.wav",
          "F-7-tritone-chord-1.wav",
          "D-2-tritone-chord-0.wav",
          "D-1-tritone-chord-0.wav",
          "F-4-tritone-chord-1.wav",
          "C#-6-tritone-chord-1.wav",
          "C#-7-tritone-chord-0.wav",
          "F-5-tritone-chord-0.wav",
          "F-5-tritone-chord-1.wav",
          "C#-7-tritone-chord-1.wav",
          "C#-6-tritone-chord-0.wav",
          "F-4-tritone-chord-0.wav",
          "D-1-tritone-chord-1.wav",
          "D-6-tritone-chord-0.wav",
          "C#-1-tritone-chord-1.wav",
          "F-3-tritone-chord-1.wav",
          "F-2-tritone-chord-0.wav",
          "D-7-tritone-chord-1.wav",
          "D-7-tritone-chord-0.wav",
          "F-2-tritone-chord-1.wav",
          "F-3-tritone-chord-0.wav",
          "C#-1-tritone-chord-0.wav",
          "D-6-tritone-chord-1.wav",
          "D-5-tritone-chord-1.wav",
          "C#-2-tritone-chord-0.wav",
          "F-1-tritone-chord-1.wav",
          "C#-3-tritone-chord-1.wav",
          "D-4-tritone-chord-0.wav",
          "D-4-tritone-chord-1.wav",
          "C#-3-tritone-chord-0.wav",
          "F-1-tritone-chord-0.wav",
          "C#-2-tritone-chord-1.wav",
          "D-5-tritone-chord-0.wav",
          "F#-7-tritone-chord-1.wav",
          "B-4-tritone-chord-1.wav",
          "F#-6-tritone-chord-0.wav",
          "B-5-tritone-chord-0.wav",
          "B-5-tritone-chord-1.wav",
          "F#-6-tritone-chord-1.wav",
          "B-4-tritone-chord-0.wav",
          "F#-7-tritone-chord-0.wav",
          "B-7-tritone-chord-0.wav",
          "F#-4-tritone-chord-0.wav",
          "B-6-tritone-chord-1.wav",
          "F#-5-tritone-chord-1.wav",
          "F#-5-tritone-chord-0.wav",
          "B-6-tritone-chord-0.wav",
          "F#-4-tritone-chord-1.wav",
          "B-7-tritone-chord-1.wav",
          "F#-3-tritone-chord-0.wav",
          "B-1-tritone-chord-1.wav",
          "F#-2-tritone-chord-1.wav",
          "F#-2-tritone-chord-0.wav",
          "B-1-tritone-chord-0.wav",
          "F#-3-tritone-chord-1.wav",
          "B-3-tritone-chord-1.wav",
          "F#-1-tritone-chord-0.wav",
          "B-2-tritone-chord-0.wav",
          "B-2-tritone-chord-1.wav",
          "F#-1-tritone-chord-1.wav",
          "B-3-tritone-chord-0.wav"
         ],
         "marker": {
          "color": "blue",
          "line": {
           "color": "black",
           "width": 1
          },
          "size": 10
         },
         "mode": "markers",
         "name": "Data Points",
         "type": "scatter",
         "x": {
          "bdata": "zc3i1Ni66D+UT2vKGqPnP1QzJtqlyuQ/PcCGjMIV6T8n15Tb9trnPzw0eI17Nuc/BmO5ymKt6T/6pqf/os3oP14Tuh8QCuk/ILgdeYcX5z/DCp4VXY3oP85LPWaN9OU/Nt8oCiFj6D8rUoVB6RjlP8Yb5md1Uec/arPcvGfd5j/SYi4RkBPoP5XmT1x8e+k/PEMsRaZ76T+T5B8KBCjpP+WSdBsA4eg/6xpBWgET5z9ziIg6dnDnP3bnSUx7mOk/omurgFTG6D9Onn0or47mP+aXIbpDq+k/mJz+LWjZ5j81QSGsWbznP/8gS0HSQ+c/o/ZLc3fR6D+5zFNoxG3pP23EdtHA7ug/lRYc9UpG5z9hTf6Zj53oP1Zhwr1SHec/JDP5ft2x5T8Vj4xnhj/oP2eRchP25Oc/Z5FyE/bk5z+wbpaNEODnP4vgsyokm+g/dX3oJcUz6D9Onn0or47mP6Jrq4BUxug/PEMsRaZ76T+T5B8KBCjpP1ZSrg46Dec/ckzs7X8R6D+jUPyKGqLnP5UWHPVKRuc/bcR20cDu6D8IsIGu5sXmP0d1cHcq8+c/zc3i1Ni66D8801dbtnHoP98iAPL54Ok/Tlz7HJAM6T/nlbXwkuflP5ic/i1o2eY/5pchukOr6T/UDve5bVvpP5QgUmA6Cuo/AYUmYhC95z/sWelcU93mP8MKnhVdjeg/ILgdeYcX5z83A0Uu6iLnP4TJdiJ65ec/cYUvRjun5j8FGnQ3LkrnPwZjucpirek/3yIA8vng6T+msystq2boPzdMov9VA+g/cYUvRjun5j/sWelcU93mP4sgoGHS1ek/YihUeL6c5z8rUoVB6RjlPy2zj1+Kieg/aB84jBvy6T91feglxTPoP9QO97ltW+k/NSOe41ij6D9RlQ0BfefoP6TUEeWi0eU/H7MAIIry5z9f+K+RW8LmP3OIiDp2cOc/leZPXHx76T8X3dqXHnXnP3UuYVCZvOg/YU3+mY+d6D9UMybapcrkP9lwlWTDO+Y//yBLQdJD5z9eE7ofEArpPyO07TN5n+g/+qan/6LN6D/SYi4RkBPoP/E3usoW3uk/J9eU2/ba5z/OSz1mjfTlPxHKhzJ1BOg/VmHCvVId5z+j9ktzd9HoPx+yr0znbOc/55W18JLn5T+UT2vKGqPnP/qN40iseOg/PcCGjMIV6T8RAkbUKkXnPwqd7NdEDOk/ucxTaMRt6T/lknQbAOHoP7u9Sca1nek/UOtdgCt25z9250lMe5jpP8Yb5md1Uec/tReC+HIW6T823ygKIWPoPwiwga7mxeY/o1D8ihqi5z/PB5OVlSPqP/0GxKMAwOk/lCBSYDoK6j9OXPsckAzpP9ayYVyKSuc//Wzhw22D6D8DBFZljWfnP4TJdiJ65ec/FY+MZ4Y/6D+wbpaNEODnPy2090hIU+g/NwNFLuoi5z/rGkFaARPnP3JM7O1/Eeg/BRp0Ny5K5z8jSQzR22znPzzTV1u2ceg/i+CzKiSb6D9HdXB3KvPnP7u9Sca1nek/prMrLatm6D9Q612AK3bnPx+yr0znbOc/N0yi/1UD6D8KnezXRAzpP4sgoGHS1ek/+o3jSKx46D9oHziMG/LpP/E3usoW3uk/YihUeL6c5z9RlQ0BfefoPxHKhzJ1BOg/LbOPX4qJ6D8SAqb6tR3lP1/4r5FbwuY//QbEowDA6T8X3dqXHnXnP3UuYVCZvOg/LbT3SEhT6D81I57jWKPoP7UXgvhyFuk/2XCVZMM75j/WsmFcikrnP/1s4cNtg+g/H7MAIIry5z/PB5OVlSPqPw==",
          "dtype": "f8"
         },
         "y": {
          "bdata": "NrAKZn4Q1D+rI2VqPxvVPztHs4M8z9Y/u4xLEHwY1T9HeiHYxfbSP1DSbmcxOtY/2hC93eRL0j/7a+RRf7XTP/u5cVS3rNQ/0zF2lXjM1j9KE7TsLJHVP/T7h8MXvNY/uKQmaIS71T8SsT9UuMnWP6BDUGZle9Y/JMpzfHQB2T+KiCo9RPzUP5eoUzb2ptI/jpZZsMyC0z9adha4J0bUPyg0pFHnrtM/RDqaXuhk1T9ARNQETOPWP8FuMNi8WNE/qjCtLjY21T8tU9M2nTbVP3IBiS9YadQ/avE+5GkR1z+So0gNqQfWP3utggvip9Y/ZJBMvccK1D9/zI6RciHVPwSrmAddB9M/OsKl8l8z1T8MQPxFYR3UPyZ8CM6+XNQ/PuywuXk52j83gogovKLVPyBcCjH4U9Q/IFwKMfhT1D/zhkGY03XVP/JO10usbtM/atNZ0cUX1j8tU9M2nTbVP6owrS42NtU/jpZZsMyC0z9adha4J0bUPxoxKSD/W9Y/5DgBwHKL1T8jWajscrXVPzrCpfJfM9U/BKuYB10H0z8TmSH0N/LWP2HDL1GlydU/NrAKZn4Q1D8q8xV0wILVP0q/qI1cjtM/lqjqAOMD0z91x6Qgs0vWP2rxPuRpEdc/cgGJL1hp1D+/xl6qsArVP07PdNAXCdE/P3Cxz2MA1z8ZfRHHZl/WP0oTtOwskdU/0zF2lXjM1j+OcySCD8TVP9oRrK26+9Y/uEQSWo9f1j9EbESjb9HVP9oQvd3kS9I/Sr+ojVyO0z9NxgBR9rrWP3d5FIBBHNM/uEQSWo9f1j8ZfRHHZl/WPzYjfgg9NdE/aRI5ETi81T8SsT9UuMnWP+yhmObwhNI/gK58PLhi0j9q01nRxRfWP7/GXqqwCtU/Dk4N3oNe0z9mrf7G0h7TPzSbu6WxI9g/wHVZHlya1T/E21zGCQXWP0BE1ARM49Y/l6hTNvam0j/HMDPDOyHWP8GmOHfMFtU/DED8RWEd1D87R7ODPM/WP+ZiVnVIzNU/e62CC+Kn1j/7uXFUt6zUP4ukX/v8m9U/+2vkUX+10z+KiCo9RPzUP2Is4QLVT9E/R3oh2MX20j/0+4fDF7zWP83U7D9LP9Q/JnwIzr5c1D9kkEy9xwrUP53Vy6EzbdY/dcekILNL1j+rI2VqPxvVP6MWfWpLbtQ/u4xLEHwY1T9/kqMHgl3WPzXs6Lyd5tI/f8yOkXIh1T8oNKRR567TPwWhDDy0FNM/erRhMGna1T/BbjDYvFjRP6BDUGZle9Y/ssGKonWn0j+4pCZohLvVPxOZIfQ38tY/I1mo7HK11T8MwM22SJzSP4i+D6GjzNM/Ts900BcJ0T+WqOoA4wPTP8Rf56MDn9U/G9EfBMPN1D9id25Xi0vWP9oRrK26+9Y/N4KIKLyi1T/zhkGY03XVP+GxPtln/dU/jnMkgg/E1T9EOppe6GTVP+Q4AcByi9U/RGxEo2/R1T9GyeXjoS7WPyrzFXTAgtU/8k7XS6xu0z9hwy9RpcnVPwWhDDy0FNM/TcYAUfa61j96tGEwadrVP53Vy6EzbdY/d3kUgEEc0z817Oi8nebSPzYjfgg9NdE/oxZ9aktu1D+Arnw8uGLSP2Is4QLVT9E/aRI5ETi81T9mrf7G0h7TP83U7D9LP9Q/7KGY5vCE0j+/AWvKlMHZP8TbXMYJBdY/iL4PoaPM0z/HMDPDOyHWP8GmOHfMFtU/4bE+2Wf91T8OTg3eg17TP7LBiqJ1p9I/5mJWdUjM1T/EX+ejA5/VPxvRHwTDzdQ/wHVZHlya1T8MwM22SJzSPw==",
          "dtype": "f8"
         }
        },
        {
         "line": {
          "color": "red",
          "dash": "dash"
         },
         "mode": "lines",
         "name": "Maximum Complexity Boundary",
         "type": "scatter",
         "x": {
          "bdata": "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",
          "dtype": "f8"
         },
         "y": {
          "bdata": "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",
          "dtype": "f8"
         }
        },
        {
         "line": {
          "color": "green",
          "dash": "dash"
         },
         "mode": "lines",
         "name": "Minimum Complexity Boundary",
         "type": "scatter",
         "x": {
          "bdata": "AAAAAAAAAICaxf+16xqTP+jVhP1KAqI/vUTdi+gLqj/86nM1k+ewP8K3yY7ArrQ/p554aKFguD/uL+sCmwC8PzAUmEQWkb8/OC9Izu+JwT9fJ6LWLUXDP9zCdlXT+sQ/w/gEHFSrxj8NvFFLEFfIP6qV/uFY/sk/NbM6+3Khyz8sJAsvmkDNP7DF0VkC3M4/1TEXfOw50D9Eo50aIwTRP2yQ0d+2zNE/cXTxubeT0j+olffyM1nTP1t01Gg4HdQ/9H3Ou9Df1D86qBR1B6HVP9wYEyfmYNY/6J68iHUf1z8jY7eMvdzXP+DxJ3XFmNg/K+Ku5JNT2T+Dkg/tLg3aP45i3xucxdo/e8qKheB82z/HfO/OADPcP7hzvzUB6Nw/PsHXl+Wb3T86q655sU7eP6iv9gtoAN8/nDCPMAyx3z9Pw2s/UDDgP4fyuqOTh+A/ylnQS1He4D+2U/sdijThPz/0d+E+iuE/Qmx4P3Df4T8RywLEHjTiP6MEpt5KiOI/1I4I4/Tb4j9mYlIJHS/jP3Kyc27DgeM/hzlJFOjT4z/jjp7hiiXkP/qKDqKrduQ/+FfBBUrH5D/zXQehZRflP7HIz+v9ZuU/h+v4QBK25T8VRHjdoQTmP8xKV9+rUuY/IZyBRC+g5j94S2DpKu3mP6RZPYedOec/N09psoWF5z+X1RvY4dDnP/fNBjywG+g/48WR9e5l6D84trHsm6/oP9ubTta0+Og/1pYlMDdB6T+zsRI8IInpP7wOqfps0Ok//L/6JBoX6j81rmolJF3qP6I6Wg+Houo/yCN5lT7n6j+L1W/+RSvrP0CTiReYbus/5ELrJC+x6z99ysLOBPPrP0yqrgoSNOw/q/lgAE907D/z+SzosrPsPzkUuOEz8uw/IStdwMYv7T9YSNjJXmztPxjoW2Ltp+0/YoL0nmHi7T99rZWzpxvuP30tZSyoU+4/3roJ2EaK7j+hR1o3Yb/uPwiMLibM8u4/5bjgL1Ak7z8p/rF0o1PvP1Omz7BegO8/zKz4ROep7z8Ha0uLO8/vP00Cx0hS7u8/AAAAAAAA8D8=",
          "dtype": "f8"
         },
         "y": {
          "bdata": "AAAAAAAAAIDM4Y+YJlKSP3cLBINQtqA/J6zO+G52pz/N5dV3Gp6tP32fvDSTpLE/ZaqxOrdEtD8TBRfs0bW2Pz4In7ex/Lg/GLkl5iMduz9xvMwPQxq9Pxsj/6un9r4/5RS4+ENawD9oIqDe5irBPyRePBgT7sE/wQS/lIakwj+vc/D06k7DPw+0hN/Y7cM/pSqkndqBxD8oUsMvbgvFP5alVvwGi8U/hbZQMA8Bxj8sB9Pi6G3GP/hm9Qjv0cY/xNtVQ3Ytxz+YwtaMzYDHP9+iQtA+zMc/fgROaQ8QyD/crH+UgEzIP5sM0dDPgcg/ni5MNTewyD9iM3+87dfIP0a3R4cn+cg/fpI0GBYUyT+FPYaI6CjJP5yFqrfLN8k/4/HsdepAyT91afiqbUTJPygQr3h8Qsk/y77JWjw7yT/8YqBD0S7JPxf1brZdHck/SXpf3wIHyT/Z8pep4OvIP2cIg9MVzMg/PX2DAcCnyD9qhzzP+37IPyJNlN/kUcg/7m6R65UgyD8B7jDQKOvHP3iHTpu2scc/0wG3l1d0xz8XdnlYIzPHPym7isMw7sY/u1HMG5alxj+AsYYKaVnGP2W5Zai+CcY/itMEhqu2xT/kqBe0Q2DFP1J8O8uaBsU/k9Z888OpxD9Y05zr0UnEPyY2IRDX5sM/ToM6YuWAwz/Sh4uODhjDP9tB3vNjrMI/8cnSqfY9wj9N75WH18zBPxqprioXWcE/kEzz/cXiwD9sFbpA9GnAP14jtxxk3b8/msZDzB7ivj+pCIpnOOK9P53wNrHQ3bw/2BdgawfVuz8HP/Nt/Me6P/0JBcDPtrk/A3bGtKGhuD/EsyUNk4i3P1sKdB/Fa7Y/353hBlpLtT8Cb0vddCe0P1Lq0QI6ALM/PSYjeM/VsT+5+pxSXaiwP9pCy6kc8K4/hmBseCGKrD+oqte3Lh+qP+ZMTGK2r6c/w7ANazs8pT8z3wTgWMWiPzQr8GfNS6A/peLq2R2hmz/cun3T3amWP55cgtvItZE/L6gfV+WWiT8G9z+G6d9/P9Qznsa2+Wo/3KtzhX9C17w=",
          "dtype": "f8"
         }
        }
       ],
       "layout": {
        "height": 600,
        "template": {
         "data": {
          "bar": [
           {
            "error_x": {
             "color": "#2a3f5f"
            },
            "error_y": {
             "color": "#2a3f5f"
            },
            "marker": {
             "line": {
              "color": "white",
              "width": 0.5
             },
             "pattern": {
              "fillmode": "overlay",
              "size": 10,
              "solidity": 0.2
             }
            },
            "type": "bar"
           }
          ],
          "barpolar": [
           {
            "marker": {
             "line": {
              "color": "white",
              "width": 0.5
             },
             "pattern": {
              "fillmode": "overlay",
              "size": 10,
              "solidity": 0.2
             }
            },
            "type": "barpolar"
           }
          ],
          "carpet": [
           {
            "aaxis": {
             "endlinecolor": "#2a3f5f",
             "gridcolor": "#C8D4E3",
             "linecolor": "#C8D4E3",
             "minorgridcolor": "#C8D4E3",
             "startlinecolor": "#2a3f5f"
            },
            "baxis": {
             "endlinecolor": "#2a3f5f",
             "gridcolor": "#C8D4E3",
             "linecolor": "#C8D4E3",
             "minorgridcolor": "#C8D4E3",
             "startlinecolor": "#2a3f5f"
            },
            "type": "carpet"
           }
          ],
          "choropleth": [
           {
            "colorbar": {
             "outlinewidth": 0,
             "ticks": ""
            },
            "type": "choropleth"
           }
          ],
          "contour": [
           {
            "colorbar": {
             "outlinewidth": 0,
             "ticks": ""
            },
            "colorscale": [
             [
              0,
              "#0d0887"
             ],
             [
              0.1111111111111111,
              "#46039f"
             ],
             [
              0.2222222222222222,
              "#7201a8"
             ],
             [
              0.3333333333333333,
              "#9c179e"
             ],
             [
              0.4444444444444444,
              "#bd3786"
             ],
             [
              0.5555555555555556,
              "#d8576b"
             ],
             [
              0.6666666666666666,
              "#ed7953"
             ],
             [
              0.7777777777777778,
              "#fb9f3a"
             ],
             [
              0.8888888888888888,
              "#fdca26"
             ],
             [
              1,
              "#f0f921"
             ]
            ],
            "type": "contour"
           }
          ],
          "contourcarpet": [
           {
            "colorbar": {
             "outlinewidth": 0,
             "ticks": ""
            },
            "type": "contourcarpet"
           }
          ],
          "heatmap": [
           {
            "colorbar": {
             "outlinewidth": 0,
             "ticks": ""
            },
            "colorscale": [
             [
              0,
              "#0d0887"
             ],
             [
              0.1111111111111111,
              "#46039f"
             ],
             [
              0.2222222222222222,
              "#7201a8"
             ],
             [
              0.3333333333333333,
              "#9c179e"
             ],
             [
              0.4444444444444444,
              "#bd3786"
             ],
             [
              0.5555555555555556,
              "#d8576b"
             ],
             [
              0.6666666666666666,
              "#ed7953"
             ],
             [
              0.7777777777777778,
              "#fb9f3a"
             ],
             [
              0.8888888888888888,
              "#fdca26"
             ],
             [
              1,
              "#f0f921"
             ]
            ],
            "type": "heatmap"
           }
          ],
          "histogram": [
           {
            "marker": {
             "pattern": {
              "fillmode": "overlay",
              "size": 10,
              "solidity": 0.2
             }
            },
            "type": "histogram"
           }
          ],
          "histogram2d": [
           {
            "colorbar": {
             "outlinewidth": 0,
             "ticks": ""
            },
            "colorscale": [
             [
              0,
              "#0d0887"
             ],
             [
              0.1111111111111111,
              "#46039f"
             ],
             [
              0.2222222222222222,
              "#7201a8"
             ],
             [
              0.3333333333333333,
              "#9c179e"
             ],
             [
              0.4444444444444444,
              "#bd3786"
             ],
             [
              0.5555555555555556,
              "#d8576b"
             ],
             [
              0.6666666666666666,
              "#ed7953"
             ],
             [
              0.7777777777777778,
              "#fb9f3a"
             ],
             [
              0.8888888888888888,
              "#fdca26"
             ],
             [
              1,
              "#f0f921"
             ]
            ],
            "type": "histogram2d"
           }
          ],
          "histogram2dcontour": [
           {
            "colorbar": {
             "outlinewidth": 0,
             "ticks": ""
            },
            "colorscale": [
             [
              0,
              "#0d0887"
             ],
             [
              0.1111111111111111,
              "#46039f"
             ],
             [
              0.2222222222222222,
              "#7201a8"
             ],
             [
              0.3333333333333333,
              "#9c179e"
             ],
             [
              0.4444444444444444,
              "#bd3786"
             ],
             [
              0.5555555555555556,
              "#d8576b"
             ],
             [
              0.6666666666666666,
              "#ed7953"
             ],
             [
              0.7777777777777778,
              "#fb9f3a"
             ],
             [
              0.8888888888888888,
              "#fdca26"
             ],
             [
              1,
              "#f0f921"
             ]
            ],
            "type": "histogram2dcontour"
           }
          ],
          "mesh3d": [
           {
            "colorbar": {
             "outlinewidth": 0,
             "ticks": ""
            },
            "type": "mesh3d"
           }
          ],
          "parcoords": [
           {
            "line": {
             "colorbar": {
              "outlinewidth": 0,
              "ticks": ""
             }
            },
            "type": "parcoords"
           }
          ],
          "pie": [
           {
            "automargin": true,
            "type": "pie"
           }
          ],
          "scatter": [
           {
            "fillpattern": {
             "fillmode": "overlay",
             "size": 10,
             "solidity": 0.2
            },
            "type": "scatter"
           }
          ],
          "scatter3d": [
           {
            "line": {
             "colorbar": {
              "outlinewidth": 0,
              "ticks": ""
             }
            },
            "marker": {
             "colorbar": {
              "outlinewidth": 0,
              "ticks": ""
             }
            },
            "type": "scatter3d"
           }
          ],
          "scattercarpet": [
           {
            "marker": {
             "colorbar": {
              "outlinewidth": 0,
              "ticks": ""
             }
            },
            "type": "scattercarpet"
           }
          ],
          "scattergeo": [
           {
            "marker": {
             "colorbar": {
              "outlinewidth": 0,
              "ticks": ""
             }
            },
            "type": "scattergeo"
           }
          ],
          "scattergl": [
           {
            "marker": {
             "colorbar": {
              "outlinewidth": 0,
              "ticks": ""
             }
            },
            "type": "scattergl"
           }
          ],
          "scattermap": [
           {
            "marker": {
             "colorbar": {
              "outlinewidth": 0,
              "ticks": ""
             }
            },
            "type": "scattermap"
           }
          ],
          "scattermapbox": [
           {
            "marker": {
             "colorbar": {
              "outlinewidth": 0,
              "ticks": ""
             }
            },
            "type": "scattermapbox"
           }
          ],
          "scatterpolar": [
           {
            "marker": {
             "colorbar": {
              "outlinewidth": 0,
              "ticks": ""
             }
            },
            "type": "scatterpolar"
           }
          ],
          "scatterpolargl": [
           {
            "marker": {
             "colorbar": {
              "outlinewidth": 0,
              "ticks": ""
             }
            },
            "type": "scatterpolargl"
           }
          ],
          "scatterternary": [
           {
            "marker": {
             "colorbar": {
              "outlinewidth": 0,
              "ticks": ""
             }
            },
            "type": "scatterternary"
           }
          ],
          "surface": [
           {
            "colorbar": {
             "outlinewidth": 0,
             "ticks": ""
            },
            "colorscale": [
             [
              0,
              "#0d0887"
             ],
             [
              0.1111111111111111,
              "#46039f"
             ],
             [
              0.2222222222222222,
              "#7201a8"
             ],
             [
              0.3333333333333333,
              "#9c179e"
             ],
             [
              0.4444444444444444,
              "#bd3786"
             ],
             [
              0.5555555555555556,
              "#d8576b"
             ],
             [
              0.6666666666666666,
              "#ed7953"
             ],
             [
              0.7777777777777778,
              "#fb9f3a"
             ],
             [
              0.8888888888888888,
              "#fdca26"
             ],
             [
              1,
              "#f0f921"
             ]
            ],
            "type": "surface"
           }
          ],
          "table": [
           {
            "cells": {
             "fill": {
              "color": "#EBF0F8"
             },
             "line": {
              "color": "white"
             }
            },
            "header": {
             "fill": {
              "color": "#C8D4E3"
             },
             "line": {
              "color": "white"
             }
            },
            "type": "table"
           }
          ]
         },
         "layout": {
          "annotationdefaults": {
           "arrowcolor": "#2a3f5f",
           "arrowhead": 0,
           "arrowwidth": 1
          },
          "autotypenumbers": "strict",
          "coloraxis": {
           "colorbar": {
            "outlinewidth": 0,
            "ticks": ""
           }
          },
          "colorscale": {
           "diverging": [
            [
             0,
             "#8e0152"
            ],
            [
             0.1,
             "#c51b7d"
            ],
            [
             0.2,
             "#de77ae"
            ],
            [
             0.3,
             "#f1b6da"
            ],
            [
             0.4,
             "#fde0ef"
            ],
            [
             0.5,
             "#f7f7f7"
            ],
            [
             0.6,
             "#e6f5d0"
            ],
            [
             0.7,
             "#b8e186"
            ],
            [
             0.8,
             "#7fbc41"
            ],
            [
             0.9,
             "#4d9221"
            ],
            [
             1,
             "#276419"
            ]
           ],
           "sequential": [
            [
             0,
             "#0d0887"
            ],
            [
             0.1111111111111111,
             "#46039f"
            ],
            [
             0.2222222222222222,
             "#7201a8"
            ],
            [
             0.3333333333333333,
             "#9c179e"
            ],
            [
             0.4444444444444444,
             "#bd3786"
            ],
            [
             0.5555555555555556,
             "#d8576b"
            ],
            [
             0.6666666666666666,
             "#ed7953"
            ],
            [
             0.7777777777777778,
             "#fb9f3a"
            ],
            [
             0.8888888888888888,
             "#fdca26"
            ],
            [
             1,
             "#f0f921"
            ]
           ],
           "sequentialminus": [
            [
             0,
             "#0d0887"
            ],
            [
             0.1111111111111111,
             "#46039f"
            ],
            [
             0.2222222222222222,
             "#7201a8"
            ],
            [
             0.3333333333333333,
             "#9c179e"
            ],
            [
             0.4444444444444444,
             "#bd3786"
            ],
            [
             0.5555555555555556,
             "#d8576b"
            ],
            [
             0.6666666666666666,
             "#ed7953"
            ],
            [
             0.7777777777777778,
             "#fb9f3a"
            ],
            [
             0.8888888888888888,
             "#fdca26"
            ],
            [
             1,
             "#f0f921"
            ]
           ]
          },
          "colorway": [
           "#636efa",
           "#EF553B",
           "#00cc96",
           "#ab63fa",
           "#FFA15A",
           "#19d3f3",
           "#FF6692",
           "#B6E880",
           "#FF97FF",
           "#FECB52"
          ],
          "font": {
           "color": "#2a3f5f"
          },
          "geo": {
           "bgcolor": "white",
           "lakecolor": "white",
           "landcolor": "white",
           "showlakes": true,
           "showland": true,
           "subunitcolor": "#C8D4E3"
          },
          "hoverlabel": {
           "align": "left"
          },
          "hovermode": "closest",
          "mapbox": {
           "style": "light"
          },
          "paper_bgcolor": "white",
          "plot_bgcolor": "white",
          "polar": {
           "angularaxis": {
            "gridcolor": "#EBF0F8",
            "linecolor": "#EBF0F8",
            "ticks": ""
           },
           "bgcolor": "white",
           "radialaxis": {
            "gridcolor": "#EBF0F8",
            "linecolor": "#EBF0F8",
            "ticks": ""
           }
          },
          "scene": {
           "xaxis": {
            "backgroundcolor": "white",
            "gridcolor": "#DFE8F3",
            "gridwidth": 2,
            "linecolor": "#EBF0F8",
            "showbackground": true,
            "ticks": "",
            "zerolinecolor": "#EBF0F8"
           },
           "yaxis": {
            "backgroundcolor": "white",
            "gridcolor": "#DFE8F3",
            "gridwidth": 2,
            "linecolor": "#EBF0F8",
            "showbackground": true,
            "ticks": "",
            "zerolinecolor": "#EBF0F8"
           },
           "zaxis": {
            "backgroundcolor": "white",
            "gridcolor": "#DFE8F3",
            "gridwidth": 2,
            "linecolor": "#EBF0F8",
            "showbackground": true,
            "ticks": "",
            "zerolinecolor": "#EBF0F8"
           }
          },
          "shapedefaults": {
           "line": {
            "color": "#2a3f5f"
           }
          },
          "ternary": {
           "aaxis": {
            "gridcolor": "#DFE8F3",
            "linecolor": "#A2B1C6",
            "ticks": ""
           },
           "baxis": {
            "gridcolor": "#DFE8F3",
            "linecolor": "#A2B1C6",
            "ticks": ""
           },
           "bgcolor": "white",
           "caxis": {
            "gridcolor": "#DFE8F3",
            "linecolor": "#A2B1C6",
            "ticks": ""
           }
          },
          "title": {
           "x": 0.05
          },
          "xaxis": {
           "automargin": true,
           "gridcolor": "#EBF0F8",
           "linecolor": "#EBF0F8",
           "ticks": "",
           "title": {
            "standoff": 15
           },
           "zerolinecolor": "#EBF0F8",
           "zerolinewidth": 2
          },
          "yaxis": {
           "automargin": true,
           "gridcolor": "#EBF0F8",
           "linecolor": "#EBF0F8",
           "ticks": "",
           "title": {
            "standoff": 15
           },
           "zerolinecolor": "#EBF0F8",
           "zerolinewidth": 2
          }
         }
        },
        "title": {
         "text": "Entropy–Complexity for data/chords/tritone (Plotly)\nDim = '6', Hop = '1'"
        },
        "width": 800,
        "xaxis": {
         "range": [
          0,
          1
         ],
         "title": {
          "text": "Normalized Permutation Entropy"
         }
        },
        "yaxis": {
         "range": [
          0,
          1
         ],
         "title": {
          "text": "Normalized Complexity"
         }
        }
       }
      }
     },
     "metadata": {},
     "output_type": "display_data"
    }
   ],
   "source": [
    "folder_path = \"data/chords/tritone\"\n",
    "dim = 6\n",
    "hop = 1\n",
    "plot_graph_ordpy(folder_path, dim, hop)"
   ]
  },
  {
   "cell_type": "code",
   "execution_count": 139,
   "metadata": {},
   "outputs": [
    {
     "name": "stderr",
     "output_type": "stream",
     "text": [
      "Processing audio files in data/chords/maj with dim 6 and hop 1: 100%|██████████| 255/255 [00:21<00:00, 11.61it/s]\n"
     ]
    },
    {
     "data": {
      "application/vnd.plotly.v1+json": {
       "config": {
        "plotlyServerURL": "https://plot.ly"
       },
       "data": [
        {
         "hovertemplate": "<b>File:</b> %{hovertext}<br><b>Entropy:</b> %{x}<br><b>Complexity:</b> %{y}<extra></extra>",
         "hovertext": [
          "G-2-maj-chord-1.wav",
          "F#-1-maj-chord-2.wav",
          "B-2-maj-chord-2.wav",
          "C-5-maj-chord-0.wav",
          "D-3-maj-chord-1.wav",
          "A-3-maj-chord-2.wav",
          "C#-7-maj-chord-1.wav",
          "Ab-3-maj-chord-2.wav",
          "C#-7-maj-chord-0.wav",
          "E-4-maj-chord-2.wav",
          "D-3-maj-chord-0.wav",
          "C-5-maj-chord-1.wav",
          "Bb-4-maj-chord-2.wav",
          "G-2-maj-chord-0.wav",
          "F-5-maj-chord-2.wav",
          "F-5-maj-chord-0.wav",
          "G-2-maj-chord-2.wav",
          "F#-1-maj-chord-1.wav",
          "Bb-4-maj-chord-0.wav",
          "B-2-maj-chord-1.wav",
          "D-3-maj-chord-2.wav",
          "E-4-maj-chord-0.wav",
          "C#-7-maj-chord-2.wav",
          "A-3-maj-chord-1.wav",
          "Ab-3-maj-chord-0.wav",
          "Ab-3-maj-chord-1.wav",
          "A-3-maj-chord-0.wav",
          "E-4-maj-chord-1.wav",
          "C-5-maj-chord-2.wav",
          "B-2-maj-chord-0.wav",
          "F#-1-maj-chord-0.wav",
          "Bb-4-maj-chord-1.wav",
          "F-5-maj-chord-1.wav",
          "F-2-maj-chord-1.wav",
          "Bb-3-maj-chord-1.wav",
          "F#-6-maj-chord-0.wav",
          "Eb-7-maj-chord-0.wav",
          "B-5-maj-chord-0.wav",
          "C-2-maj-chord-2.wav",
          "E-3-maj-chord-1.wav",
          "A-4-maj-chord-0.wav",
          "Ab-4-maj-chord-1.wav",
          "Ab-4-maj-chord-0.wav",
          "A-4-maj-chord-1.wav",
          "E-3-maj-chord-0.wav",
          "D-4-maj-chord-2.wav",
          "B-5-maj-chord-1.wav",
          "Eb-7-maj-chord-1.wav",
          "Bb-3-maj-chord-0.wav",
          "F#-6-maj-chord-1.wav",
          "G-5-maj-chord-2.wav",
          "F-2-maj-chord-0.wav",
          "F-2-maj-chord-2.wav",
          "G-5-maj-chord-0.wav",
          "Bb-3-maj-chord-2.wav",
          "C-2-maj-chord-1.wav",
          "D-4-maj-chord-0.wav",
          "E-3-maj-chord-2.wav",
          "Ab-4-maj-chord-2.wav",
          "A-4-maj-chord-2.wav",
          "D-4-maj-chord-1.wav",
          "C-2-maj-chord-0.wav",
          "B-5-maj-chord-2.wav",
          "Eb-7-maj-chord-2.wav",
          "F#-6-maj-chord-2.wav",
          "G-5-maj-chord-1.wav",
          "E-2-maj-chord-1.wav",
          "A-5-maj-chord-0.wav",
          "Ab-5-maj-chord-1.wav",
          "F-3-maj-chord-1.wav",
          "Bb-2-maj-chord-1.wav",
          "F#-7-maj-chord-0.wav",
          "C-3-maj-chord-2.wav",
          "B-4-maj-chord-0.wav",
          "Eb-6-maj-chord-0.wav",
          "Eb-6-maj-chord-1.wav",
          "B-4-maj-chord-1.wav",
          "Bb-2-maj-chord-0.wav",
          "F#-7-maj-chord-1.wav",
          "F-3-maj-chord-0.wav",
          "G-4-maj-chord-2.wav",
          "Ab-5-maj-chord-0.wav",
          "A-5-maj-chord-1.wav",
          "C#-1-maj-chord-2.wav",
          "D-5-maj-chord-2.wav",
          "E-2-maj-chord-0.wav",
          "E-2-maj-chord-2.wav",
          "D-5-maj-chord-0.wav",
          "C#-1-maj-chord-0.wav",
          "Ab-5-maj-chord-2.wav",
          "G-4-maj-chord-0.wav",
          "F-3-maj-chord-2.wav",
          "Bb-2-maj-chord-2.wav",
          "C-3-maj-chord-1.wav",
          "Eb-6-maj-chord-2.wav",
          "B-4-maj-chord-2.wav",
          "C-3-maj-chord-0.wav",
          "F#-7-maj-chord-2.wav",
          "G-4-maj-chord-1.wav",
          "C#-1-maj-chord-1.wav",
          "A-5-maj-chord-2.wav",
          "D-5-maj-chord-1.wav",
          "D-2-maj-chord-1.wav",
          "A-2-maj-chord-2.wav",
          "C#-6-maj-chord-1.wav",
          "G-3-maj-chord-1.wav",
          "C-4-maj-chord-0.wav",
          "B-3-maj-chord-2.wav",
          "Eb-1-maj-chord-2.wav",
          "C-4-maj-chord-1.wav",
          "Bb-5-maj-chord-2.wav",
          "F-4-maj-chord-2.wav",
          "G-3-maj-chord-0.wav",
          "Ab-2-maj-chord-2.wav",
          "C#-6-maj-chord-0.wav",
          "D-2-maj-chord-0.wav",
          "E-5-maj-chord-2.wav",
          "E-5-maj-chord-0.wav",
          "D-2-maj-chord-2.wav",
          "C#-6-maj-chord-2.wav",
          "A-2-maj-chord-1.wav",
          "Ab-2-maj-chord-0.wav",
          "G-3-maj-chord-2.wav",
          "F-4-maj-chord-0.wav",
          "Bb-5-maj-chord-0.wav",
          "B-3-maj-chord-1.wav",
          "Eb-1-maj-chord-1.wav",
          "Eb-1-maj-chord-0.wav",
          "B-3-maj-chord-0.wav",
          "C-4-maj-chord-2.wav",
          "Bb-5-maj-chord-1.wav",
          "F-4-maj-chord-1.wav",
          "Ab-2-maj-chord-1.wav",
          "A-2-maj-chord-0.wav",
          "E-5-maj-chord-1.wav",
          "F#-5-maj-chord-1.wav",
          "Eb-4-maj-chord-1.wav",
          "B-6-maj-chord-1.wav",
          "F-1-maj-chord-0.wav",
          "G-6-maj-chord-2.wav",
          "A-7-maj-chord-1.wav",
          "C#-3-maj-chord-2.wav",
          "Ab-7-maj-chord-0.wav",
          "D-7-maj-chord-2.wav",
          "Ab-7-maj-chord-1.wav",
          "A-7-maj-chord-0.wav",
          "F-1-maj-chord-1.wav",
          "C-1-maj-chord-2.wav",
          "B-6-maj-chord-0.wav",
          "Eb-4-maj-chord-0.wav",
          "F#-5-maj-chord-0.wav",
          "F#-5-maj-chord-2.wav",
          "Eb-4-maj-chord-2.wav",
          "B-6-maj-chord-2.wav",
          "C-1-maj-chord-0.wav",
          "G-6-maj-chord-1.wav",
          "C#-3-maj-chord-1.wav",
          "A-7-maj-chord-2.wav",
          "D-7-maj-chord-1.wav",
          "D-7-maj-chord-0.wav",
          "Ab-7-maj-chord-2.wav",
          "C#-3-maj-chord-0.wav",
          "G-6-maj-chord-0.wav",
          "F-1-maj-chord-2.wav",
          "C-1-maj-chord-1.wav",
          "Bb-7-maj-chord-2.wav",
          "C-6-maj-chord-1.wav",
          "F-6-maj-chord-2.wav",
          "G-1-maj-chord-0.wav",
          "C#-4-maj-chord-0.wav",
          "E-7-maj-chord-2.wav",
          "C#-4-maj-chord-1.wav",
          "G-1-maj-chord-1.wav",
          "C-6-maj-chord-0.wav",
          "B-1-maj-chord-2.wav",
          "Eb-3-maj-chord-2.wav",
          "F#-2-maj-chord-2.wav",
          "Bb-7-maj-chord-1.wav",
          "F#-2-maj-chord-0.wav",
          "Eb-3-maj-chord-0.wav",
          "B-1-maj-chord-0.wav",
          "C-6-maj-chord-2.wav",
          "F-6-maj-chord-1.wav",
          "E-7-maj-chord-1.wav",
          "E-7-maj-chord-0.wav",
          "C#-4-maj-chord-2.wav",
          "G-1-maj-chord-2.wav",
          "F-6-maj-chord-0.wav",
          "B-1-maj-chord-1.wav",
          "Eb-3-maj-chord-1.wav",
          "Bb-7-maj-chord-0.wav",
          "F#-2-maj-chord-1.wav",
          "C#-5-maj-chord-0.wav",
          "Ab-1-maj-chord-2.wav",
          "E-6-maj-chord-2.wav",
          "D-1-maj-chord-0.wav",
          "Bb-6-maj-chord-2.wav",
          "C-7-maj-chord-1.wav",
          "F-7-maj-chord-2.wav",
          "Eb-2-maj-chord-2.wav",
          "C-7-maj-chord-0.wav",
          "F#-3-maj-chord-2.wav",
          "D-1-maj-chord-1.wav",
          "C-8-maj-chord-2.wav",
          "A-1-maj-chord-2.wav",
          "C#-5-maj-chord-1.wav",
          "A-1-maj-chord-0.wav",
          "Ab-1-maj-chord-1.wav",
          "C-8-maj-chord-0.wav",
          "E-6-maj-chord-1.wav",
          "Bb-6-maj-chord-1.wav",
          "F#-3-maj-chord-0.wav",
          "C-7-maj-chord-2.wav",
          "Eb-2-maj-chord-0.wav",
          "F-7-maj-chord-1.wav",
          "F-7-maj-chord-0.wav",
          "Eb-2-maj-chord-1.wav",
          "Bb-6-maj-chord-0.wav",
          "F#-3-maj-chord-1.wav",
          "D-1-maj-chord-2.wav",
          "E-6-maj-chord-0.wav",
          "C-8-maj-chord-1.wav",
          "Ab-1-maj-chord-0.wav",
          "C#-5-maj-chord-2.wav",
          "A-1-maj-chord-1.wav",
          "A-6-maj-chord-1.wav",
          "C#-2-maj-chord-2.wav",
          "Ab-6-maj-chord-0.wav",
          "E-1-maj-chord-0.wav",
          "D-6-maj-chord-2.wav",
          "F#-4-maj-chord-1.wav",
          "Bb-1-maj-chord-0.wav",
          "B-7-maj-chord-1.wav",
          "Eb-5-maj-chord-1.wav",
          "G-7-maj-chord-2.wav",
          "Eb-5-maj-chord-0.wav",
          "B-7-maj-chord-0.wav",
          "F#-4-maj-chord-0.wav",
          "Bb-1-maj-chord-1.wav",
          "E-1-maj-chord-1.wav",
          "Ab-6-maj-chord-1.wav",
          "A-6-maj-chord-0.wav",
          "C#-2-maj-chord-1.wav",
          "A-6-maj-chord-2.wav",
          "D-6-maj-chord-1.wav",
          "F#-4-maj-chord-2.wav",
          "B-7-maj-chord-2.wav",
          "Eb-5-maj-chord-2.wav",
          "G-7-maj-chord-1.wav",
          "G-7-maj-chord-0.wav",
          "Bb-1-maj-chord-2.wav",
          "D-6-maj-chord-0.wav",
          "E-1-maj-chord-2.wav",
          "Ab-6-maj-chord-2.wav",
          "C#-2-maj-chord-0.wav"
         ],
         "marker": {
          "color": "blue",
          "line": {
           "color": "black",
           "width": 1
          },
          "size": 10
         },
         "mode": "markers",
         "name": "Data Points",
         "type": "scatter",
         "x": {
          "bdata": "pZbec8ar5z8/uummA9/nP0UuOv3Lo+g/I45hGaiM6D/td7tUf7rnP/mpXyzWpeY/JCAJH4bm6T8LuIJ2ybblP5HjpJmLhOg/HWv5Qyfo6D+Mgjjngs3mP2Jzr14Dyuk/sDFovZ8q6D9dZHtPTRXoPyFgS9BtSuc/OCA2K4Bt6T9BNnBOHJjnP9pphF8IiOg/hs7kFNKu5z/BTj3RdBvoPymsifK6Juk/yvXZVqJF5j/8JTVax3npP51kpHsVEuc/pjDufVir6D8W+KPgfY7oP/RSDM0KreY/BdQ7XLiy5z+egbXIKkDpP8ZrvKHt/eY/9r8erREp5z8j+sIskqfoPwd5pre8ruc/XGGCPGBK5z+EdSKvGRzoP4o7Dc93dec/WTrmfROS6T9tOqo1gH7oP2VjtygVWOc/kpcH1DLR6T9Std3tQHLmPyhkLw3dPeo/DAN3HIeV5z9v1Gfbo6PnP23kKgn0iuc/fVfmh+pV5j/EIoeoMHzmP9h5lVUYIuk/S3k3a4+w6D98MKqybeXnP+Bo6k9ATug/2NqWOh7c5z+TzF99kTLnP2rpAcnF0+g/rg3jwA8M5z9YjDsFt6/mP1nACWTczOY/MVlVt1cH5z+wsg2lVHHoP8BHVlM08eg/AU8yZcm/5j/VS9aMjS3pP1D0jm7m2eY/CTzACpEf6D/B7VU4E8jpPz4q+4Iohug/UtipJX4h6D+VSOUCDaLoP0VfdXTuouc/oedrHlj56D+Dg2j24VrpP+J6Yixkn+k/IjTowLEM6D+J43Bfr9npP5n66zLMWec/IONGJRrx5z+wgosNasToP3lNr09T1Oc/ZWR46Yx05z9LoZNsNz7nP9GvRUcf1ug/mqIfMCyD6T9xmPyiqDHoPyJCRfL9iuc/EVfQjvS46D9YcP9SFmjpP2MYh/7Bbec/+2lpvgRg6j9Kyv3Erg7nP+Ad0v2mKeg/GHS6A38f5T8+JtJxNZnmP/FV5TWhhuc/6tsiRc346D/wmSH1WrToP91wUxJVP+o/B0yT5rIk5z/5uQACW0/nPzFz39TOqug/nR88nPA15z9M4gb2r07oPwciXOsnH+g/juJ0NyLe5z/iPOw5jyLnPxFNK7JKHug/i/58baVV5j/lsvzjMzDoP4B0aY9JvOo/HKAI74x65z+wY+yhL0XmP7gPFi8DYeg/4wT9UDpl6T8p8dRXp1PpPzwXoyiP7+Y/F0D9+ZID5z/M9HU/JYfpP3mzH268Wec/CFN2aOK96D/0v8cKWYroPwPEr3MXnec/isn/+SpQ5z/ymI/qOlvnP62mcqLfU+Y/y661q/6b5j++FD4K4RjnPyO2cY5hWOo/YLXEXfwT6T8tBALyL6noPwZU2STuYeg/jO4lurhP5z+c9c68WR/oPwBtoIKCUeg/yjglHkHF5T/taMZZugDpP7fGTxPyGOg/5bEa+uV15z+UFUMaAIHkPxO+gY6BA+k/Uo/pklsv6T8hB0H++/XoP5tyHi9Hnuc/h9Os1TPO5z+LVUdT95PoP1ostlxqGeg/DXV/9/4H6D+M6g7jsDToPzYKXp7Muec/Dl7VDHZ05z971VSCyAboP14iA/PNseU/+y219fOL6D8f6Dc21+/nP4kQeOoTi+c/q6jtHVGh6T+zN//BxaznP1XxLOTcNeg/zwdUWRnU6D9iVOgIyeTmP73gTVrxTuo/zL7r+zWf6T9fR+exaELmP1nP9HVMAeg/EMzGH63n5z9rSdNNhubmP4Xq5LPzMec/TnTxIkip5T9XdiZxzLfmPy2/p26jw+k/aUhxhGZQ5z/M6Tlsw8jmPyOPpcwONug/o/2aY2Yz5z8QHj7gSlvnP4NnoKGhPOc/sLKkYnvX5j+rxN6Q80HmPyoVInNa3+Y/6gFTL9Lw5z++Um7dCV/pP46p661mpOY/fR18aYI95z8jX7E/o7LpP9xRg6o8l+c/BVpfCN9H6T/28dQMe1DqP+PLn7/x0OY/H5D+lUh/6T8WAIhDZhLnP6s8yqpsJug/3sLZfRGY5z/cUvNhsg3oP00dBrnV3+Y/wiS8EiRF6T/P8Ex+BpfoP0+iHz8c4ek/ciWGM8/G5j8kTHsIrw/qP8q/DHjN7ek/iq0aI5Vc5z+yTf/FupzmP3sYuCSKdOg/duEJO6ri5j9ZDNrI/BDnP3VRBzxdOeY/acANXTWZ6D8YI7OtQarpP13VyqW0uuc/1lvcuG595z/spgQygSfoPwZFuy1rbOg/jHGqaWG36D/azZnQGtHmP2R/J9zoeOk/Hw5wz02F5z+LBvce/eDoP6CPdEwKA+o/ViUVtvr45z8yXms0QQPoP7gozUYCluk/IWPlBcOL5z94b4X3sdHmPyQ7+qQcruY/n9Z9N/Xh6D8VUBuoIpXnP0qM/jK+++c/T6yyU4eM6D/RlgNVYMnoP8LqeaC0nOY/1H006ocp5j8EedNDxxLoP+ll4UZg4+Y/xsdpcsuK6D9+x0wO1uzmPyt9ISWEhuk/v33rtTM15z/yNSHFzxboPzElG8dM/+g/sVaT0se+6D/i4xzie83mPyuJWrM+Kuc/Dm8ZEyJh6j8MM1lF+MToP4un+mwFPeg/7xC/iOJm6j/dTCxR1xTnPyBTXyeYyeg/bNgOelu05T/FFVDBL4roPxnZFAAF+Og/GMavlzG66D9Xbi/f5/jnPwVtXxDw2Oc/BOVZKBY65z+l4rEdbCvqP3XUDYI1u+g/",
          "dtype": "f8"
         },
         "y": {
          "bdata": "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",
          "dtype": "f8"
         }
        },
        {
         "line": {
          "color": "red",
          "dash": "dash"
         },
         "mode": "lines",
         "name": "Maximum Complexity Boundary",
         "type": "scatter",
         "x": {
          "bdata": "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",
          "dtype": "f8"
         },
         "y": {
          "bdata": "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",
          "dtype": "f8"
         }
        },
        {
         "line": {
          "color": "green",
          "dash": "dash"
         },
         "mode": "lines",
         "name": "Minimum Complexity Boundary",
         "type": "scatter",
         "x": {
          "bdata": "AAAAAAAAAICaxf+16xqTP+jVhP1KAqI/vUTdi+gLqj/86nM1k+ewP8K3yY7ArrQ/p554aKFguD/uL+sCmwC8PzAUmEQWkb8/OC9Izu+JwT9fJ6LWLUXDP9zCdlXT+sQ/w/gEHFSrxj8NvFFLEFfIP6qV/uFY/sk/NbM6+3Khyz8sJAsvmkDNP7DF0VkC3M4/1TEXfOw50D9Eo50aIwTRP2yQ0d+2zNE/cXTxubeT0j+olffyM1nTP1t01Gg4HdQ/9H3Ou9Df1D86qBR1B6HVP9wYEyfmYNY/6J68iHUf1z8jY7eMvdzXP+DxJ3XFmNg/K+Ku5JNT2T+Dkg/tLg3aP45i3xucxdo/e8qKheB82z/HfO/OADPcP7hzvzUB6Nw/PsHXl+Wb3T86q655sU7eP6iv9gtoAN8/nDCPMAyx3z9Pw2s/UDDgP4fyuqOTh+A/ylnQS1He4D+2U/sdijThPz/0d+E+iuE/Qmx4P3Df4T8RywLEHjTiP6MEpt5KiOI/1I4I4/Tb4j9mYlIJHS/jP3Kyc27DgeM/hzlJFOjT4z/jjp7hiiXkP/qKDqKrduQ/+FfBBUrH5D/zXQehZRflP7HIz+v9ZuU/h+v4QBK25T8VRHjdoQTmP8xKV9+rUuY/IZyBRC+g5j94S2DpKu3mP6RZPYedOec/N09psoWF5z+X1RvY4dDnP/fNBjywG+g/48WR9e5l6D84trHsm6/oP9ubTta0+Og/1pYlMDdB6T+zsRI8IInpP7wOqfps0Ok//L/6JBoX6j81rmolJF3qP6I6Wg+Houo/yCN5lT7n6j+L1W/+RSvrP0CTiReYbus/5ELrJC+x6z99ysLOBPPrP0yqrgoSNOw/q/lgAE907D/z+SzosrPsPzkUuOEz8uw/IStdwMYv7T9YSNjJXmztPxjoW2Ltp+0/YoL0nmHi7T99rZWzpxvuP30tZSyoU+4/3roJ2EaK7j+hR1o3Yb/uPwiMLibM8u4/5bjgL1Ak7z8p/rF0o1PvP1Omz7BegO8/zKz4ROep7z8Ha0uLO8/vP00Cx0hS7u8/AAAAAAAA8D8=",
          "dtype": "f8"
         },
         "y": {
          "bdata": "AAAAAAAAAIDM4Y+YJlKSP3cLBINQtqA/J6zO+G52pz/N5dV3Gp6tP32fvDSTpLE/ZaqxOrdEtD8TBRfs0bW2Pz4In7ex/Lg/GLkl5iMduz9xvMwPQxq9Pxsj/6un9r4/5RS4+ENawD9oIqDe5irBPyRePBgT7sE/wQS/lIakwj+vc/D06k7DPw+0hN/Y7cM/pSqkndqBxD8oUsMvbgvFP5alVvwGi8U/hbZQMA8Bxj8sB9Pi6G3GP/hm9Qjv0cY/xNtVQ3Ytxz+YwtaMzYDHP9+iQtA+zMc/fgROaQ8QyD/crH+UgEzIP5sM0dDPgcg/ni5MNTewyD9iM3+87dfIP0a3R4cn+cg/fpI0GBYUyT+FPYaI6CjJP5yFqrfLN8k/4/HsdepAyT91afiqbUTJPygQr3h8Qsk/y77JWjw7yT/8YqBD0S7JPxf1brZdHck/SXpf3wIHyT/Z8pep4OvIP2cIg9MVzMg/PX2DAcCnyD9qhzzP+37IPyJNlN/kUcg/7m6R65UgyD8B7jDQKOvHP3iHTpu2scc/0wG3l1d0xz8XdnlYIzPHPym7isMw7sY/u1HMG5alxj+AsYYKaVnGP2W5Zai+CcY/itMEhqu2xT/kqBe0Q2DFP1J8O8uaBsU/k9Z888OpxD9Y05zr0UnEPyY2IRDX5sM/ToM6YuWAwz/Sh4uODhjDP9tB3vNjrMI/8cnSqfY9wj9N75WH18zBPxqprioXWcE/kEzz/cXiwD9sFbpA9GnAP14jtxxk3b8/msZDzB7ivj+pCIpnOOK9P53wNrHQ3bw/2BdgawfVuz8HP/Nt/Me6P/0JBcDPtrk/A3bGtKGhuD/EsyUNk4i3P1sKdB/Fa7Y/353hBlpLtT8Cb0vddCe0P1Lq0QI6ALM/PSYjeM/VsT+5+pxSXaiwP9pCy6kc8K4/hmBseCGKrD+oqte3Lh+qP+ZMTGK2r6c/w7ANazs8pT8z3wTgWMWiPzQr8GfNS6A/peLq2R2hmz/cun3T3amWP55cgtvItZE/L6gfV+WWiT8G9z+G6d9/P9Qznsa2+Wo/3KtzhX9C17w=",
          "dtype": "f8"
         }
        }
       ],
       "layout": {
        "height": 600,
        "template": {
         "data": {
          "bar": [
           {
            "error_x": {
             "color": "#2a3f5f"
            },
            "error_y": {
             "color": "#2a3f5f"
            },
            "marker": {
             "line": {
              "color": "white",
              "width": 0.5
             },
             "pattern": {
              "fillmode": "overlay",
              "size": 10,
              "solidity": 0.2
             }
            },
            "type": "bar"
           }
          ],
          "barpolar": [
           {
            "marker": {
             "line": {
              "color": "white",
              "width": 0.5
             },
             "pattern": {
              "fillmode": "overlay",
              "size": 10,
              "solidity": 0.2
             }
            },
            "type": "barpolar"
           }
          ],
          "carpet": [
           {
            "aaxis": {
             "endlinecolor": "#2a3f5f",
             "gridcolor": "#C8D4E3",
             "linecolor": "#C8D4E3",
             "minorgridcolor": "#C8D4E3",
             "startlinecolor": "#2a3f5f"
            },
            "baxis": {
             "endlinecolor": "#2a3f5f",
             "gridcolor": "#C8D4E3",
             "linecolor": "#C8D4E3",
             "minorgridcolor": "#C8D4E3",
             "startlinecolor": "#2a3f5f"
            },
            "type": "carpet"
           }
          ],
          "choropleth": [
           {
            "colorbar": {
             "outlinewidth": 0,
             "ticks": ""
            },
            "type": "choropleth"
           }
          ],
          "contour": [
           {
            "colorbar": {
             "outlinewidth": 0,
             "ticks": ""
            },
            "colorscale": [
             [
              0,
              "#0d0887"
             ],
             [
              0.1111111111111111,
              "#46039f"
             ],
             [
              0.2222222222222222,
              "#7201a8"
             ],
             [
              0.3333333333333333,
              "#9c179e"
             ],
             [
              0.4444444444444444,
              "#bd3786"
             ],
             [
              0.5555555555555556,
              "#d8576b"
             ],
             [
              0.6666666666666666,
              "#ed7953"
             ],
             [
              0.7777777777777778,
              "#fb9f3a"
             ],
             [
              0.8888888888888888,
              "#fdca26"
             ],
             [
              1,
              "#f0f921"
             ]
            ],
            "type": "contour"
           }
          ],
          "contourcarpet": [
           {
            "colorbar": {
             "outlinewidth": 0,
             "ticks": ""
            },
            "type": "contourcarpet"
           }
          ],
          "heatmap": [
           {
            "colorbar": {
             "outlinewidth": 0,
             "ticks": ""
            },
            "colorscale": [
             [
              0,
              "#0d0887"
             ],
             [
              0.1111111111111111,
              "#46039f"
             ],
             [
              0.2222222222222222,
              "#7201a8"
             ],
             [
              0.3333333333333333,
              "#9c179e"
             ],
             [
              0.4444444444444444,
              "#bd3786"
             ],
             [
              0.5555555555555556,
              "#d8576b"
             ],
             [
              0.6666666666666666,
              "#ed7953"
             ],
             [
              0.7777777777777778,
              "#fb9f3a"
             ],
             [
              0.8888888888888888,
              "#fdca26"
             ],
             [
              1,
              "#f0f921"
             ]
            ],
            "type": "heatmap"
           }
          ],
          "histogram": [
           {
            "marker": {
             "pattern": {
              "fillmode": "overlay",
              "size": 10,
              "solidity": 0.2
             }
            },
            "type": "histogram"
           }
          ],
          "histogram2d": [
           {
            "colorbar": {
             "outlinewidth": 0,
             "ticks": ""
            },
            "colorscale": [
             [
              0,
              "#0d0887"
             ],
             [
              0.1111111111111111,
              "#46039f"
             ],
             [
              0.2222222222222222,
              "#7201a8"
             ],
             [
              0.3333333333333333,
              "#9c179e"
             ],
             [
              0.4444444444444444,
              "#bd3786"
             ],
             [
              0.5555555555555556,
              "#d8576b"
             ],
             [
              0.6666666666666666,
              "#ed7953"
             ],
             [
              0.7777777777777778,
              "#fb9f3a"
             ],
             [
              0.8888888888888888,
              "#fdca26"
             ],
             [
              1,
              "#f0f921"
             ]
            ],
            "type": "histogram2d"
           }
          ],
          "histogram2dcontour": [
           {
            "colorbar": {
             "outlinewidth": 0,
             "ticks": ""
            },
            "colorscale": [
             [
              0,
              "#0d0887"
             ],
             [
              0.1111111111111111,
              "#46039f"
             ],
             [
              0.2222222222222222,
              "#7201a8"
             ],
             [
              0.3333333333333333,
              "#9c179e"
             ],
             [
              0.4444444444444444,
              "#bd3786"
             ],
             [
              0.5555555555555556,
              "#d8576b"
             ],
             [
              0.6666666666666666,
              "#ed7953"
             ],
             [
              0.7777777777777778,
              "#fb9f3a"
             ],
             [
              0.8888888888888888,
              "#fdca26"
             ],
             [
              1,
              "#f0f921"
             ]
            ],
            "type": "histogram2dcontour"
           }
          ],
          "mesh3d": [
           {
            "colorbar": {
             "outlinewidth": 0,
             "ticks": ""
            },
            "type": "mesh3d"
           }
          ],
          "parcoords": [
           {
            "line": {
             "colorbar": {
              "outlinewidth": 0,
              "ticks": ""
             }
            },
            "type": "parcoords"
           }
          ],
          "pie": [
           {
            "automargin": true,
            "type": "pie"
           }
          ],
          "scatter": [
           {
            "fillpattern": {
             "fillmode": "overlay",
             "size": 10,
             "solidity": 0.2
            },
            "type": "scatter"
           }
          ],
          "scatter3d": [
           {
            "line": {
             "colorbar": {
              "outlinewidth": 0,
              "ticks": ""
             }
            },
            "marker": {
             "colorbar": {
              "outlinewidth": 0,
              "ticks": ""
             }
            },
            "type": "scatter3d"
           }
          ],
          "scattercarpet": [
           {
            "marker": {
             "colorbar": {
              "outlinewidth": 0,
              "ticks": ""
             }
            },
            "type": "scattercarpet"
           }
          ],
          "scattergeo": [
           {
            "marker": {
             "colorbar": {
              "outlinewidth": 0,
              "ticks": ""
             }
            },
            "type": "scattergeo"
           }
          ],
          "scattergl": [
           {
            "marker": {
             "colorbar": {
              "outlinewidth": 0,
              "ticks": ""
             }
            },
            "type": "scattergl"
           }
          ],
          "scattermap": [
           {
            "marker": {
             "colorbar": {
              "outlinewidth": 0,
              "ticks": ""
             }
            },
            "type": "scattermap"
           }
          ],
          "scattermapbox": [
           {
            "marker": {
             "colorbar": {
              "outlinewidth": 0,
              "ticks": ""
             }
            },
            "type": "scattermapbox"
           }
          ],
          "scatterpolar": [
           {
            "marker": {
             "colorbar": {
              "outlinewidth": 0,
              "ticks": ""
             }
            },
            "type": "scatterpolar"
           }
          ],
          "scatterpolargl": [
           {
            "marker": {
             "colorbar": {
              "outlinewidth": 0,
              "ticks": ""
             }
            },
            "type": "scatterpolargl"
           }
          ],
          "scatterternary": [
           {
            "marker": {
             "colorbar": {
              "outlinewidth": 0,
              "ticks": ""
             }
            },
            "type": "scatterternary"
           }
          ],
          "surface": [
           {
            "colorbar": {
             "outlinewidth": 0,
             "ticks": ""
            },
            "colorscale": [
             [
              0,
              "#0d0887"
             ],
             [
              0.1111111111111111,
              "#46039f"
             ],
             [
              0.2222222222222222,
              "#7201a8"
             ],
             [
              0.3333333333333333,
              "#9c179e"
             ],
             [
              0.4444444444444444,
              "#bd3786"
             ],
             [
              0.5555555555555556,
              "#d8576b"
             ],
             [
              0.6666666666666666,
              "#ed7953"
             ],
             [
              0.7777777777777778,
              "#fb9f3a"
             ],
             [
              0.8888888888888888,
              "#fdca26"
             ],
             [
              1,
              "#f0f921"
             ]
            ],
            "type": "surface"
           }
          ],
          "table": [
           {
            "cells": {
             "fill": {
              "color": "#EBF0F8"
             },
             "line": {
              "color": "white"
             }
            },
            "header": {
             "fill": {
              "color": "#C8D4E3"
             },
             "line": {
              "color": "white"
             }
            },
            "type": "table"
           }
          ]
         },
         "layout": {
          "annotationdefaults": {
           "arrowcolor": "#2a3f5f",
           "arrowhead": 0,
           "arrowwidth": 1
          },
          "autotypenumbers": "strict",
          "coloraxis": {
           "colorbar": {
            "outlinewidth": 0,
            "ticks": ""
           }
          },
          "colorscale": {
           "diverging": [
            [
             0,
             "#8e0152"
            ],
            [
             0.1,
             "#c51b7d"
            ],
            [
             0.2,
             "#de77ae"
            ],
            [
             0.3,
             "#f1b6da"
            ],
            [
             0.4,
             "#fde0ef"
            ],
            [
             0.5,
             "#f7f7f7"
            ],
            [
             0.6,
             "#e6f5d0"
            ],
            [
             0.7,
             "#b8e186"
            ],
            [
             0.8,
             "#7fbc41"
            ],
            [
             0.9,
             "#4d9221"
            ],
            [
             1,
             "#276419"
            ]
           ],
           "sequential": [
            [
             0,
             "#0d0887"
            ],
            [
             0.1111111111111111,
             "#46039f"
            ],
            [
             0.2222222222222222,
             "#7201a8"
            ],
            [
             0.3333333333333333,
             "#9c179e"
            ],
            [
             0.4444444444444444,
             "#bd3786"
            ],
            [
             0.5555555555555556,
             "#d8576b"
            ],
            [
             0.6666666666666666,
             "#ed7953"
            ],
            [
             0.7777777777777778,
             "#fb9f3a"
            ],
            [
             0.8888888888888888,
             "#fdca26"
            ],
            [
             1,
             "#f0f921"
            ]
           ],
           "sequentialminus": [
            [
             0,
             "#0d0887"
            ],
            [
             0.1111111111111111,
             "#46039f"
            ],
            [
             0.2222222222222222,
             "#7201a8"
            ],
            [
             0.3333333333333333,
             "#9c179e"
            ],
            [
             0.4444444444444444,
             "#bd3786"
            ],
            [
             0.5555555555555556,
             "#d8576b"
            ],
            [
             0.6666666666666666,
             "#ed7953"
            ],
            [
             0.7777777777777778,
             "#fb9f3a"
            ],
            [
             0.8888888888888888,
             "#fdca26"
            ],
            [
             1,
             "#f0f921"
            ]
           ]
          },
          "colorway": [
           "#636efa",
           "#EF553B",
           "#00cc96",
           "#ab63fa",
           "#FFA15A",
           "#19d3f3",
           "#FF6692",
           "#B6E880",
           "#FF97FF",
           "#FECB52"
          ],
          "font": {
           "color": "#2a3f5f"
          },
          "geo": {
           "bgcolor": "white",
           "lakecolor": "white",
           "landcolor": "white",
           "showlakes": true,
           "showland": true,
           "subunitcolor": "#C8D4E3"
          },
          "hoverlabel": {
           "align": "left"
          },
          "hovermode": "closest",
          "mapbox": {
           "style": "light"
          },
          "paper_bgcolor": "white",
          "plot_bgcolor": "white",
          "polar": {
           "angularaxis": {
            "gridcolor": "#EBF0F8",
            "linecolor": "#EBF0F8",
            "ticks": ""
           },
           "bgcolor": "white",
           "radialaxis": {
            "gridcolor": "#EBF0F8",
            "linecolor": "#EBF0F8",
            "ticks": ""
           }
          },
          "scene": {
           "xaxis": {
            "backgroundcolor": "white",
            "gridcolor": "#DFE8F3",
            "gridwidth": 2,
            "linecolor": "#EBF0F8",
            "showbackground": true,
            "ticks": "",
            "zerolinecolor": "#EBF0F8"
           },
           "yaxis": {
            "backgroundcolor": "white",
            "gridcolor": "#DFE8F3",
            "gridwidth": 2,
            "linecolor": "#EBF0F8",
            "showbackground": true,
            "ticks": "",
            "zerolinecolor": "#EBF0F8"
           },
           "zaxis": {
            "backgroundcolor": "white",
            "gridcolor": "#DFE8F3",
            "gridwidth": 2,
            "linecolor": "#EBF0F8",
            "showbackground": true,
            "ticks": "",
            "zerolinecolor": "#EBF0F8"
           }
          },
          "shapedefaults": {
           "line": {
            "color": "#2a3f5f"
           }
          },
          "ternary": {
           "aaxis": {
            "gridcolor": "#DFE8F3",
            "linecolor": "#A2B1C6",
            "ticks": ""
           },
           "baxis": {
            "gridcolor": "#DFE8F3",
            "linecolor": "#A2B1C6",
            "ticks": ""
           },
           "bgcolor": "white",
           "caxis": {
            "gridcolor": "#DFE8F3",
            "linecolor": "#A2B1C6",
            "ticks": ""
           }
          },
          "title": {
           "x": 0.05
          },
          "xaxis": {
           "automargin": true,
           "gridcolor": "#EBF0F8",
           "linecolor": "#EBF0F8",
           "ticks": "",
           "title": {
            "standoff": 15
           },
           "zerolinecolor": "#EBF0F8",
           "zerolinewidth": 2
          },
          "yaxis": {
           "automargin": true,
           "gridcolor": "#EBF0F8",
           "linecolor": "#EBF0F8",
           "ticks": "",
           "title": {
            "standoff": 15
           },
           "zerolinecolor": "#EBF0F8",
           "zerolinewidth": 2
          }
         }
        },
        "title": {
         "text": "Entropy–Complexity for data/chords/maj (Plotly)\nDim = '6', Hop = '1'"
        },
        "width": 800,
        "xaxis": {
         "range": [
          0,
          1
         ],
         "title": {
          "text": "Normalized Permutation Entropy"
         }
        },
        "yaxis": {
         "range": [
          0,
          1
         ],
         "title": {
          "text": "Normalized Complexity"
         }
        }
       }
      }
     },
     "metadata": {},
     "output_type": "display_data"
    }
   ],
   "source": [
    "folder_path = \"data/chords/maj\"\n",
    "dim = 6\n",
    "hop = 1\n",
    "plot_graph_ordpy(folder_path, dim, hop)"
   ]
  },
  {
   "cell_type": "code",
   "execution_count": 140,
   "metadata": {},
   "outputs": [
    {
     "name": "stderr",
     "output_type": "stream",
     "text": [
      "Processing audio files in data/chords/perf5 with dim 6 and hop 1: 100%|██████████| 170/170 [00:14<00:00, 11.77it/s]\n"
     ]
    },
    {
     "data": {
      "application/vnd.plotly.v1+json": {
       "config": {
        "plotlyServerURL": "https://plot.ly"
       },
       "data": [
        {
         "hovertemplate": "<b>File:</b> %{hovertext}<br><b>Entropy:</b> %{x}<br><b>Complexity:</b> %{y}<extra></extra>",
         "hovertext": [
          "Bb-2-perf5-chord-0.wav",
          "Bb-2-perf5-chord-1.wav",
          "Bb-7-perf5-chord-0.wav",
          "Bb-7-perf5-chord-1.wav",
          "Bb-3-perf5-chord-0.wav",
          "Bb-3-perf5-chord-1.wav",
          "Bb-6-perf5-chord-0.wav",
          "Bb-6-perf5-chord-1.wav",
          "C-8-perf5-chord-0.wav",
          "Bb-5-perf5-chord-0.wav",
          "Bb-5-perf5-chord-1.wav",
          "C-8-perf5-chord-1.wav",
          "Bb-1-perf5-chord-0.wav",
          "Bb-1-perf5-chord-1.wav",
          "Bb-4-perf5-chord-0.wav",
          "Bb-4-perf5-chord-1.wav",
          "G-1-perf5-chord-1.wav",
          "D-4-perf5-chord-0.wav",
          "Eb-3-perf5-chord-0.wav",
          "Ab-4-perf5-chord-1.wav",
          "F#-7-perf5-chord-1.wav",
          "A-5-perf5-chord-0.wav",
          "E-4-perf5-chord-1.wav",
          "F-1-perf5-chord-0.wav",
          "C#-7-perf5-chord-0.wav",
          "C#-7-perf5-chord-1.wav",
          "F-1-perf5-chord-1.wav",
          "E-4-perf5-chord-0.wav",
          "A-5-perf5-chord-1.wav",
          "F#-7-perf5-chord-0.wav",
          "Ab-4-perf5-chord-0.wav",
          "Eb-3-perf5-chord-1.wav",
          "D-4-perf5-chord-1.wav",
          "G-1-perf5-chord-0.wav",
          "D-1-perf5-chord-0.wav",
          "G-4-perf5-chord-1.wav",
          "F#-2-perf5-chord-1.wav",
          "Eb-6-perf5-chord-0.wav",
          "Ab-1-perf5-chord-1.wav",
          "C-5-perf5-chord-0.wav",
          "F-4-perf5-chord-0.wav",
          "E-1-perf5-chord-1.wav",
          "C#-2-perf5-chord-0.wav",
          "B-5-perf5-chord-1.wav",
          "B-5-perf5-chord-0.wav",
          "C#-2-perf5-chord-1.wav",
          "E-1-perf5-chord-0.wav",
          "F-4-perf5-chord-1.wav",
          "C-5-perf5-chord-1.wav",
          "Ab-1-perf5-chord-0.wav",
          "Eb-6-perf5-chord-1.wav",
          "F#-2-perf5-chord-0.wav",
          "G-4-perf5-chord-0.wav",
          "D-1-perf5-chord-1.wav",
          "C-1-perf5-chord-0.wav",
          "D-5-perf5-chord-0.wav",
          "F#-6-perf5-chord-1.wav",
          "Ab-5-perf5-chord-1.wav",
          "Eb-2-perf5-chord-0.wav",
          "A-4-perf5-chord-0.wav",
          "B-1-perf5-chord-1.wav",
          "E-5-perf5-chord-1.wav",
          "C#-6-perf5-chord-0.wav",
          "C#-6-perf5-chord-1.wav",
          "E-5-perf5-chord-0.wav",
          "B-1-perf5-chord-0.wav",
          "A-4-perf5-chord-1.wav",
          "Eb-2-perf5-chord-1.wav",
          "Ab-5-perf5-chord-0.wav",
          "F#-6-perf5-chord-0.wav",
          "D-5-perf5-chord-1.wav",
          "C-1-perf5-chord-1.wav",
          "G-5-perf5-chord-1.wav",
          "Eb-7-perf5-chord-0.wav",
          "F#-3-perf5-chord-1.wav",
          "C-4-perf5-chord-0.wav",
          "F-5-perf5-chord-0.wav",
          "C#-3-perf5-chord-0.wav",
          "B-4-perf5-chord-1.wav",
          "A-1-perf5-chord-0.wav",
          "A-1-perf5-chord-1.wav",
          "B-4-perf5-chord-0.wav",
          "C#-3-perf5-chord-1.wav",
          "F-5-perf5-chord-1.wav",
          "C-4-perf5-chord-1.wav",
          "F#-3-perf5-chord-0.wav",
          "Eb-7-perf5-chord-1.wav",
          "G-5-perf5-chord-0.wav",
          "C-2-perf5-chord-0.wav",
          "F#-5-perf5-chord-1.wav",
          "Eb-1-perf5-chord-0.wav",
          "Ab-6-perf5-chord-1.wav",
          "D-6-perf5-chord-0.wav",
          "G-3-perf5-chord-1.wav",
          "A-7-perf5-chord-0.wav",
          "B-2-perf5-chord-1.wav",
          "C#-5-perf5-chord-0.wav",
          "F-3-perf5-chord-0.wav",
          "E-6-perf5-chord-1.wav",
          "E-6-perf5-chord-0.wav",
          "F-3-perf5-chord-1.wav",
          "C#-5-perf5-chord-1.wav",
          "B-2-perf5-chord-0.wav",
          "A-7-perf5-chord-1.wav",
          "G-3-perf5-chord-0.wav",
          "D-6-perf5-chord-1.wav",
          "Ab-6-perf5-chord-0.wav",
          "Eb-1-perf5-chord-1.wav",
          "F#-5-perf5-chord-0.wav",
          "C-2-perf5-chord-1.wav",
          "Eb-4-perf5-chord-0.wav",
          "Ab-3-perf5-chord-1.wav",
          "G-6-perf5-chord-1.wav",
          "D-3-perf5-chord-0.wav",
          "C-7-perf5-chord-0.wav",
          "E-3-perf5-chord-1.wav",
          "F-6-perf5-chord-0.wav",
          "B-7-perf5-chord-1.wav",
          "A-2-perf5-chord-0.wav",
          "A-2-perf5-chord-1.wav",
          "B-7-perf5-chord-0.wav",
          "F-6-perf5-chord-1.wav",
          "E-3-perf5-chord-0.wav",
          "C-7-perf5-chord-1.wav",
          "D-3-perf5-chord-1.wav",
          "G-6-perf5-chord-0.wav",
          "Ab-3-perf5-chord-0.wav",
          "Eb-4-perf5-chord-1.wav",
          "C-3-perf5-chord-0.wav",
          "Ab-7-perf5-chord-1.wav",
          "F#-4-perf5-chord-1.wav",
          "G-2-perf5-chord-1.wav",
          "D-7-perf5-chord-0.wav",
          "B-3-perf5-chord-1.wav",
          "A-6-perf5-chord-0.wav",
          "C#-4-perf5-chord-0.wav",
          "E-7-perf5-chord-1.wav",
          "F-2-perf5-chord-0.wav",
          "F-2-perf5-chord-1.wav",
          "E-7-perf5-chord-0.wav",
          "C#-4-perf5-chord-1.wav",
          "A-6-perf5-chord-1.wav",
          "B-3-perf5-chord-0.wav",
          "D-7-perf5-chord-1.wav",
          "G-2-perf5-chord-0.wav",
          "F#-4-perf5-chord-0.wav",
          "Ab-7-perf5-chord-0.wav",
          "C-3-perf5-chord-1.wav",
          "F#-1-perf5-chord-1.wav",
          "Ab-2-perf5-chord-1.wav",
          "Eb-5-perf5-chord-0.wav",
          "D-2-perf5-chord-0.wav",
          "G-7-perf5-chord-1.wav",
          "C-6-perf5-chord-0.wav",
          "C#-1-perf5-chord-0.wav",
          "F-7-perf5-chord-0.wav",
          "E-2-perf5-chord-1.wav",
          "A-3-perf5-chord-0.wav",
          "B-6-perf5-chord-1.wav",
          "B-6-perf5-chord-0.wav",
          "A-3-perf5-chord-1.wav",
          "E-2-perf5-chord-0.wav",
          "F-7-perf5-chord-1.wav",
          "C#-1-perf5-chord-1.wav",
          "C-6-perf5-chord-1.wav",
          "G-7-perf5-chord-0.wav",
          "D-2-perf5-chord-1.wav",
          "Eb-5-perf5-chord-1.wav",
          "Ab-2-perf5-chord-0.wav",
          "F#-1-perf5-chord-0.wav"
         ],
         "marker": {
          "color": "blue",
          "line": {
           "color": "black",
           "width": 1
          },
          "size": 10
         },
         "mode": "markers",
         "name": "Data Points",
         "type": "scatter",
         "x": {
          "bdata": "Z5EuqbH95j8XKK8QPe/nP8j1swAad+g/U0EDwr7b5T+HOr2ZYqTpP2r+yxcabOk/VSFh/+/t5z+tjIEpxVfpP5A5AvtgFeg/lJuO4ksg5z+y3Vtg7WrnP3am7i/mC+U/sqVlTkfF5z/XaIE4ubDpP54DMNC69ug/CCOWwHXt6T/RUkEaSrnnP1D05w7le+Y/nFb5F7fR5j+QONY8Q23pP4j4iDFOYuc/TMdtlezJ5z9kCla+bs/pP0gQZFrNr+c/DH+PG2wL6T+gYlgCXw3qP/3If2IK7uc/+C7RhIs16T8UIPxw44/mP27nLshcrOk/1DpqijC75z9ufzsXvm/oP1UG4sFZG+Y/haQtDUih5z8KK9GgcCLoP2hnMqlLsOg/TPomoYar5j9jVkeOvuDoPy58Gp3EP+g/QC9Bl0SW5z9Fdhix8E3pPwx9I4Gqeuc/NM+H94i+6D/0DEuVQS7nPyyMA96Vmuc/4czLYN+c5j/KYwtqgxXnPyhdEkAMtek/u1eKw8ZY6D8G4AVP+QzpP14tI7lwb+g/0uN7BHdD6T/aMGnSl3PlPxn68U4Txug/EXWpMVQi5z+cbqQzXJzoP4JXH2FD9+c//KtsT2ka5z9B6NaOqrfnPz6kRphbCuY/g62JJeOn5z8uM6OlHMjnP7oZPKfPEeg/h6yptdQL5z/QmoYEltHoP06t1/6Lnec/t9vqGimO6D9kz9+R79ToP0mNkKGP/eY/GEB/IDHa5j/yZYtLwRnoP/wFODDXlOg/QzChmc/B5z/5dp/0nU3pP7IxFIdMsOk/8iSsdVX15T+aEAMufTvqP5CFfdOZhec/cVcBcCu86T+wkgGNibfnP7YERL7t9uc/tZTVMUwE6T+7UG0cXH3nP1yq1f1QZec/g1FO1mj65D/Q0WioODTnP8EFTMEqnOc/z8rNCLAJ6T+W+VBj5c7oP/5OS5Z7z+Y/1dUA3cQU6D+ct83xpaLoP5p9pvDu1uY/b11m/fX15z9nNmfNolznP6z3hVFSaug/yTRmZz+I6D/rp/nBkTPnP7FXJrg2eOk/yQUW9hOG5j+xQaVNjJnpP2YSnnJSv+c/V+o1DqnS5z/1jpv6RbvmP6wBwCnWxek/G5xQbpUN5z9nlH9fywrnP8H3LsOYd+c/zl4oDCT86T889swu85voP1ZDbtiHXec/Mdq8IreV5z+gvieJturnP+09iPJqyOc/I2JSlO956T8DzyB2tynqPxRx1BOKMug/jqMWROCS5T9YrEQwD9PnP/l6Ix5YOec/JTZ+uZPN6D+10x9X1rjnP2KeQvkiFug/Gcll+ey16D9XbSQYhEPnP30R4yhY9ug/cLY9AukW6D8tGB/Eji3pP3lW26BwX+c/4bpePoJg5j8P0MZzxHPpP2WxzjUQ1Oc/QMM6YBt26T+2CjreV8zpP2BtyFdgX+c/1M6Vw7JK5j8Po2O+snDoP6frvaT64Oc/07kNTqA65z9O0bLZKBbqP1E/IuGXYuY/9G5lEpnW6T+p3hRd4oLnP0CHYQljKek/5mP9hK5T6D+CQpexAAjpPw1oyX+BEOk/plsRZvje5z8x8cwOge3nP6/W1t1qt+Y/b64g01s+6j8r15ed6gboPyejGs9/7Oc/jdnsHxC65z+lPXaHmWroPxQmO3TAIek/wO2dLsiA5z/Gf08hj1zoPyQxpclO7+k/HQGJi8qS6T/dUdQ3ooXoPxpCKSt6vuc//4bk8hhA5z8huTcrDM/nP4/KU1fu3+c/x5TzXMn06T8dtQa4+g3oP5sJ+p7IZ+k/zPxcOlRu6D8TlsxL1hLpPw==",
          "dtype": "f8"
         },
         "y": {
          "bdata": "AJ75S1Gw1D8doYVagaDVP4sIjYJVGtQ/9UnNb2pl2T8u7muRjiDTPwkL5neooNM/QrSDmPQs1z8QKE8LBWTSP9wRuE4k1tU/42xaF3FL1j8UPfrvg3vWP3M8rGpdtNo/Ur9Zw+y01T9YYvFak2HUP584RruANtQ/FFk1mP7C0j+ms/hkoqfVP/hFLKU4ZdY/o2dWsgVR1j9CHTJ6wZ/TP+I4BGEwftU/pHpvXyuw1T8BUFqs6rrSP8PdK3ByfNU/1nGgOvXt0j9sX0B/UADRP5scyx6TX9U/OZGO4X1v0j9k0NVwDVzXPzWEhx/0wtA/Q7VZsF7Z1T9TWclxawXUP0diAGc5Fdc/KZPeYk3R1T/EWkSP1M3VP/LSNInTTdM/8Zh2qrwM1j/ymArJQvjVP6TcFqIYbdY/Ci/AgXNz0z9mSqe/iobSP8Z4coHSBdY/DL3u/5Bl1T/JO3c2tyLXP/sKFRnIM9Y/OJej5FhC1T+0rE813E3WP7GZaig22dI/ffJh//za0z/Ib3v7rHXVP1B8mQM649Y/5Wh/SMq41D9uV1XA3azWP1B4bYQYJtU/tkjmQol/1j88ybMXYXTTP8+ZPVeN0dM/4rE4rEaB1j/Wg1AWJKbVPwKrlgqcStc/clzjWXfP1T9hOTqhJ8DVP0Cm9ZHbdNY/KacBzJbP1j8iKIP9vpnTPxzYWiXB7NU/KgKddSIG1D8SH+eaLyDVP0RTc6c5ntQ/Kok5fiYY1z8o+F7b+tfVP9qBubgUtNU/h22E8xyn1j/64scR53LSP4OQozWEctM/EaV8JyKl1j/o/Pb18YTSP64y738irNU/zu7VKpy20j9nfts695rVPzuc32NCZ9U/BbkNCAzs0j/CwvD1M2vVP4TCGgdu5NU/U2gdujef1j/5dkm2eu3VP+rE5vbtadQ/EGzBJ4rP1D+67Lh9G1PVPxOZKK35f9Y/audpEPc11j95cFBe0y3TP+8VFHIY39Y/7fK9aoRT1T9XMBoFmePTP7H5hqARJ9U/yWYcodyZ0z+zrYMcs2jVP9ZJnjwIw9M/AQZM/Ov81j+Ojl4U1kzTP9oRzjoQP9U/QPqBcSLW1T9RqD8F9EHYP+fpvNfvZ9M/bdAnErj/1j/FLaM3o8jWPxQ7Wh17KNY/4MEmhxr00j+matpxUu3UP9i3gk/wFNU/pa1TAOM71j8zKa9zLr7TP7Qn2wqMKdU/WqlYBu3c0j9IFeurH7jSPyeWgn15jdY/8wvI5rfF2j98k52SdlrVP9dfGiQ+zNU/10s9GURC1D8bEKk71MXTP1eEWpniP9U/xVAlczw00j8OhvE85MzTP66actxqftU/Ga4cPVva1D8rQOmZ8yPUP+INykeSxtU/SXyTCy2i2D9ekzWPBo3SP5GXyZYAJ9U/ph7OiI7q0j/1tvnG/pvSPxpKJjaAoNY/+4FEY5lL1j+gaWDPTDnUPw3zz292+NQ/y3qclNCD1T+b1uMnXqbQP6wPEsVOLdY/cFAR/0oR0j/MdeUIC3PTP0t/xyDpNdM/CB/vUp911D+w7DlV0tvSP4V+MSQ+8dE/8jkxGoLp1D8U584MR37VP5ZaY2qlf9Y/Lvuq1n2v0j/ueRa9DzPVPzoewIWJ0tY/1Qe7MZlM1T+dga7xc+HVPxxYc4CchtE/8751aKZ21T9aKhTNjEXUPxufo61vd9E/xUZKK3MN0z+8Ms5x1XfVPzwxWUYlVdU/K7st5blQ1T+rM5ryEovVP0cOK4sMqNU/toSDTeTa0D/D7QGzLW/UP58B45M9KtQ/oWnCeAj81T/RMN0Mmx/VPw==",
          "dtype": "f8"
         }
        },
        {
         "line": {
          "color": "red",
          "dash": "dash"
         },
         "mode": "lines",
         "name": "Maximum Complexity Boundary",
         "type": "scatter",
         "x": {
          "bdata": "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",
          "dtype": "f8"
         },
         "y": {
          "bdata": "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",
          "dtype": "f8"
         }
        },
        {
         "line": {
          "color": "green",
          "dash": "dash"
         },
         "mode": "lines",
         "name": "Minimum Complexity Boundary",
         "type": "scatter",
         "x": {
          "bdata": "AAAAAAAAAICaxf+16xqTP+jVhP1KAqI/vUTdi+gLqj/86nM1k+ewP8K3yY7ArrQ/p554aKFguD/uL+sCmwC8PzAUmEQWkb8/OC9Izu+JwT9fJ6LWLUXDP9zCdlXT+sQ/w/gEHFSrxj8NvFFLEFfIP6qV/uFY/sk/NbM6+3Khyz8sJAsvmkDNP7DF0VkC3M4/1TEXfOw50D9Eo50aIwTRP2yQ0d+2zNE/cXTxubeT0j+olffyM1nTP1t01Gg4HdQ/9H3Ou9Df1D86qBR1B6HVP9wYEyfmYNY/6J68iHUf1z8jY7eMvdzXP+DxJ3XFmNg/K+Ku5JNT2T+Dkg/tLg3aP45i3xucxdo/e8qKheB82z/HfO/OADPcP7hzvzUB6Nw/PsHXl+Wb3T86q655sU7eP6iv9gtoAN8/nDCPMAyx3z9Pw2s/UDDgP4fyuqOTh+A/ylnQS1He4D+2U/sdijThPz/0d+E+iuE/Qmx4P3Df4T8RywLEHjTiP6MEpt5KiOI/1I4I4/Tb4j9mYlIJHS/jP3Kyc27DgeM/hzlJFOjT4z/jjp7hiiXkP/qKDqKrduQ/+FfBBUrH5D/zXQehZRflP7HIz+v9ZuU/h+v4QBK25T8VRHjdoQTmP8xKV9+rUuY/IZyBRC+g5j94S2DpKu3mP6RZPYedOec/N09psoWF5z+X1RvY4dDnP/fNBjywG+g/48WR9e5l6D84trHsm6/oP9ubTta0+Og/1pYlMDdB6T+zsRI8IInpP7wOqfps0Ok//L/6JBoX6j81rmolJF3qP6I6Wg+Houo/yCN5lT7n6j+L1W/+RSvrP0CTiReYbus/5ELrJC+x6z99ysLOBPPrP0yqrgoSNOw/q/lgAE907D/z+SzosrPsPzkUuOEz8uw/IStdwMYv7T9YSNjJXmztPxjoW2Ltp+0/YoL0nmHi7T99rZWzpxvuP30tZSyoU+4/3roJ2EaK7j+hR1o3Yb/uPwiMLibM8u4/5bjgL1Ak7z8p/rF0o1PvP1Omz7BegO8/zKz4ROep7z8Ha0uLO8/vP00Cx0hS7u8/AAAAAAAA8D8=",
          "dtype": "f8"
         },
         "y": {
          "bdata": "AAAAAAAAAIDM4Y+YJlKSP3cLBINQtqA/J6zO+G52pz/N5dV3Gp6tP32fvDSTpLE/ZaqxOrdEtD8TBRfs0bW2Pz4In7ex/Lg/GLkl5iMduz9xvMwPQxq9Pxsj/6un9r4/5RS4+ENawD9oIqDe5irBPyRePBgT7sE/wQS/lIakwj+vc/D06k7DPw+0hN/Y7cM/pSqkndqBxD8oUsMvbgvFP5alVvwGi8U/hbZQMA8Bxj8sB9Pi6G3GP/hm9Qjv0cY/xNtVQ3Ytxz+YwtaMzYDHP9+iQtA+zMc/fgROaQ8QyD/crH+UgEzIP5sM0dDPgcg/ni5MNTewyD9iM3+87dfIP0a3R4cn+cg/fpI0GBYUyT+FPYaI6CjJP5yFqrfLN8k/4/HsdepAyT91afiqbUTJPygQr3h8Qsk/y77JWjw7yT/8YqBD0S7JPxf1brZdHck/SXpf3wIHyT/Z8pep4OvIP2cIg9MVzMg/PX2DAcCnyD9qhzzP+37IPyJNlN/kUcg/7m6R65UgyD8B7jDQKOvHP3iHTpu2scc/0wG3l1d0xz8XdnlYIzPHPym7isMw7sY/u1HMG5alxj+AsYYKaVnGP2W5Zai+CcY/itMEhqu2xT/kqBe0Q2DFP1J8O8uaBsU/k9Z888OpxD9Y05zr0UnEPyY2IRDX5sM/ToM6YuWAwz/Sh4uODhjDP9tB3vNjrMI/8cnSqfY9wj9N75WH18zBPxqprioXWcE/kEzz/cXiwD9sFbpA9GnAP14jtxxk3b8/msZDzB7ivj+pCIpnOOK9P53wNrHQ3bw/2BdgawfVuz8HP/Nt/Me6P/0JBcDPtrk/A3bGtKGhuD/EsyUNk4i3P1sKdB/Fa7Y/353hBlpLtT8Cb0vddCe0P1Lq0QI6ALM/PSYjeM/VsT+5+pxSXaiwP9pCy6kc8K4/hmBseCGKrD+oqte3Lh+qP+ZMTGK2r6c/w7ANazs8pT8z3wTgWMWiPzQr8GfNS6A/peLq2R2hmz/cun3T3amWP55cgtvItZE/L6gfV+WWiT8G9z+G6d9/P9Qznsa2+Wo/3KtzhX9C17w=",
          "dtype": "f8"
         }
        }
       ],
       "layout": {
        "height": 600,
        "template": {
         "data": {
          "bar": [
           {
            "error_x": {
             "color": "#2a3f5f"
            },
            "error_y": {
             "color": "#2a3f5f"
            },
            "marker": {
             "line": {
              "color": "white",
              "width": 0.5
             },
             "pattern": {
              "fillmode": "overlay",
              "size": 10,
              "solidity": 0.2
             }
            },
            "type": "bar"
           }
          ],
          "barpolar": [
           {
            "marker": {
             "line": {
              "color": "white",
              "width": 0.5
             },
             "pattern": {
              "fillmode": "overlay",
              "size": 10,
              "solidity": 0.2
             }
            },
            "type": "barpolar"
           }
          ],
          "carpet": [
           {
            "aaxis": {
             "endlinecolor": "#2a3f5f",
             "gridcolor": "#C8D4E3",
             "linecolor": "#C8D4E3",
             "minorgridcolor": "#C8D4E3",
             "startlinecolor": "#2a3f5f"
            },
            "baxis": {
             "endlinecolor": "#2a3f5f",
             "gridcolor": "#C8D4E3",
             "linecolor": "#C8D4E3",
             "minorgridcolor": "#C8D4E3",
             "startlinecolor": "#2a3f5f"
            },
            "type": "carpet"
           }
          ],
          "choropleth": [
           {
            "colorbar": {
             "outlinewidth": 0,
             "ticks": ""
            },
            "type": "choropleth"
           }
          ],
          "contour": [
           {
            "colorbar": {
             "outlinewidth": 0,
             "ticks": ""
            },
            "colorscale": [
             [
              0,
              "#0d0887"
             ],
             [
              0.1111111111111111,
              "#46039f"
             ],
             [
              0.2222222222222222,
              "#7201a8"
             ],
             [
              0.3333333333333333,
              "#9c179e"
             ],
             [
              0.4444444444444444,
              "#bd3786"
             ],
             [
              0.5555555555555556,
              "#d8576b"
             ],
             [
              0.6666666666666666,
              "#ed7953"
             ],
             [
              0.7777777777777778,
              "#fb9f3a"
             ],
             [
              0.8888888888888888,
              "#fdca26"
             ],
             [
              1,
              "#f0f921"
             ]
            ],
            "type": "contour"
           }
          ],
          "contourcarpet": [
           {
            "colorbar": {
             "outlinewidth": 0,
             "ticks": ""
            },
            "type": "contourcarpet"
           }
          ],
          "heatmap": [
           {
            "colorbar": {
             "outlinewidth": 0,
             "ticks": ""
            },
            "colorscale": [
             [
              0,
              "#0d0887"
             ],
             [
              0.1111111111111111,
              "#46039f"
             ],
             [
              0.2222222222222222,
              "#7201a8"
             ],
             [
              0.3333333333333333,
              "#9c179e"
             ],
             [
              0.4444444444444444,
              "#bd3786"
             ],
             [
              0.5555555555555556,
              "#d8576b"
             ],
             [
              0.6666666666666666,
              "#ed7953"
             ],
             [
              0.7777777777777778,
              "#fb9f3a"
             ],
             [
              0.8888888888888888,
              "#fdca26"
             ],
             [
              1,
              "#f0f921"
             ]
            ],
            "type": "heatmap"
           }
          ],
          "histogram": [
           {
            "marker": {
             "pattern": {
              "fillmode": "overlay",
              "size": 10,
              "solidity": 0.2
             }
            },
            "type": "histogram"
           }
          ],
          "histogram2d": [
           {
            "colorbar": {
             "outlinewidth": 0,
             "ticks": ""
            },
            "colorscale": [
             [
              0,
              "#0d0887"
             ],
             [
              0.1111111111111111,
              "#46039f"
             ],
             [
              0.2222222222222222,
              "#7201a8"
             ],
             [
              0.3333333333333333,
              "#9c179e"
             ],
             [
              0.4444444444444444,
              "#bd3786"
             ],
             [
              0.5555555555555556,
              "#d8576b"
             ],
             [
              0.6666666666666666,
              "#ed7953"
             ],
             [
              0.7777777777777778,
              "#fb9f3a"
             ],
             [
              0.8888888888888888,
              "#fdca26"
             ],
             [
              1,
              "#f0f921"
             ]
            ],
            "type": "histogram2d"
           }
          ],
          "histogram2dcontour": [
           {
            "colorbar": {
             "outlinewidth": 0,
             "ticks": ""
            },
            "colorscale": [
             [
              0,
              "#0d0887"
             ],
             [
              0.1111111111111111,
              "#46039f"
             ],
             [
              0.2222222222222222,
              "#7201a8"
             ],
             [
              0.3333333333333333,
              "#9c179e"
             ],
             [
              0.4444444444444444,
              "#bd3786"
             ],
             [
              0.5555555555555556,
              "#d8576b"
             ],
             [
              0.6666666666666666,
              "#ed7953"
             ],
             [
              0.7777777777777778,
              "#fb9f3a"
             ],
             [
              0.8888888888888888,
              "#fdca26"
             ],
             [
              1,
              "#f0f921"
             ]
            ],
            "type": "histogram2dcontour"
           }
          ],
          "mesh3d": [
           {
            "colorbar": {
             "outlinewidth": 0,
             "ticks": ""
            },
            "type": "mesh3d"
           }
          ],
          "parcoords": [
           {
            "line": {
             "colorbar": {
              "outlinewidth": 0,
              "ticks": ""
             }
            },
            "type": "parcoords"
           }
          ],
          "pie": [
           {
            "automargin": true,
            "type": "pie"
           }
          ],
          "scatter": [
           {
            "fillpattern": {
             "fillmode": "overlay",
             "size": 10,
             "solidity": 0.2
            },
            "type": "scatter"
           }
          ],
          "scatter3d": [
           {
            "line": {
             "colorbar": {
              "outlinewidth": 0,
              "ticks": ""
             }
            },
            "marker": {
             "colorbar": {
              "outlinewidth": 0,
              "ticks": ""
             }
            },
            "type": "scatter3d"
           }
          ],
          "scattercarpet": [
           {
            "marker": {
             "colorbar": {
              "outlinewidth": 0,
              "ticks": ""
             }
            },
            "type": "scattercarpet"
           }
          ],
          "scattergeo": [
           {
            "marker": {
             "colorbar": {
              "outlinewidth": 0,
              "ticks": ""
             }
            },
            "type": "scattergeo"
           }
          ],
          "scattergl": [
           {
            "marker": {
             "colorbar": {
              "outlinewidth": 0,
              "ticks": ""
             }
            },
            "type": "scattergl"
           }
          ],
          "scattermap": [
           {
            "marker": {
             "colorbar": {
              "outlinewidth": 0,
              "ticks": ""
             }
            },
            "type": "scattermap"
           }
          ],
          "scattermapbox": [
           {
            "marker": {
             "colorbar": {
              "outlinewidth": 0,
              "ticks": ""
             }
            },
            "type": "scattermapbox"
           }
          ],
          "scatterpolar": [
           {
            "marker": {
             "colorbar": {
              "outlinewidth": 0,
              "ticks": ""
             }
            },
            "type": "scatterpolar"
           }
          ],
          "scatterpolargl": [
           {
            "marker": {
             "colorbar": {
              "outlinewidth": 0,
              "ticks": ""
             }
            },
            "type": "scatterpolargl"
           }
          ],
          "scatterternary": [
           {
            "marker": {
             "colorbar": {
              "outlinewidth": 0,
              "ticks": ""
             }
            },
            "type": "scatterternary"
           }
          ],
          "surface": [
           {
            "colorbar": {
             "outlinewidth": 0,
             "ticks": ""
            },
            "colorscale": [
             [
              0,
              "#0d0887"
             ],
             [
              0.1111111111111111,
              "#46039f"
             ],
             [
              0.2222222222222222,
              "#7201a8"
             ],
             [
              0.3333333333333333,
              "#9c179e"
             ],
             [
              0.4444444444444444,
              "#bd3786"
             ],
             [
              0.5555555555555556,
              "#d8576b"
             ],
             [
              0.6666666666666666,
              "#ed7953"
             ],
             [
              0.7777777777777778,
              "#fb9f3a"
             ],
             [
              0.8888888888888888,
              "#fdca26"
             ],
             [
              1,
              "#f0f921"
             ]
            ],
            "type": "surface"
           }
          ],
          "table": [
           {
            "cells": {
             "fill": {
              "color": "#EBF0F8"
             },
             "line": {
              "color": "white"
             }
            },
            "header": {
             "fill": {
              "color": "#C8D4E3"
             },
             "line": {
              "color": "white"
             }
            },
            "type": "table"
           }
          ]
         },
         "layout": {
          "annotationdefaults": {
           "arrowcolor": "#2a3f5f",
           "arrowhead": 0,
           "arrowwidth": 1
          },
          "autotypenumbers": "strict",
          "coloraxis": {
           "colorbar": {
            "outlinewidth": 0,
            "ticks": ""
           }
          },
          "colorscale": {
           "diverging": [
            [
             0,
             "#8e0152"
            ],
            [
             0.1,
             "#c51b7d"
            ],
            [
             0.2,
             "#de77ae"
            ],
            [
             0.3,
             "#f1b6da"
            ],
            [
             0.4,
             "#fde0ef"
            ],
            [
             0.5,
             "#f7f7f7"
            ],
            [
             0.6,
             "#e6f5d0"
            ],
            [
             0.7,
             "#b8e186"
            ],
            [
             0.8,
             "#7fbc41"
            ],
            [
             0.9,
             "#4d9221"
            ],
            [
             1,
             "#276419"
            ]
           ],
           "sequential": [
            [
             0,
             "#0d0887"
            ],
            [
             0.1111111111111111,
             "#46039f"
            ],
            [
             0.2222222222222222,
             "#7201a8"
            ],
            [
             0.3333333333333333,
             "#9c179e"
            ],
            [
             0.4444444444444444,
             "#bd3786"
            ],
            [
             0.5555555555555556,
             "#d8576b"
            ],
            [
             0.6666666666666666,
             "#ed7953"
            ],
            [
             0.7777777777777778,
             "#fb9f3a"
            ],
            [
             0.8888888888888888,
             "#fdca26"
            ],
            [
             1,
             "#f0f921"
            ]
           ],
           "sequentialminus": [
            [
             0,
             "#0d0887"
            ],
            [
             0.1111111111111111,
             "#46039f"
            ],
            [
             0.2222222222222222,
             "#7201a8"
            ],
            [
             0.3333333333333333,
             "#9c179e"
            ],
            [
             0.4444444444444444,
             "#bd3786"
            ],
            [
             0.5555555555555556,
             "#d8576b"
            ],
            [
             0.6666666666666666,
             "#ed7953"
            ],
            [
             0.7777777777777778,
             "#fb9f3a"
            ],
            [
             0.8888888888888888,
             "#fdca26"
            ],
            [
             1,
             "#f0f921"
            ]
           ]
          },
          "colorway": [
           "#636efa",
           "#EF553B",
           "#00cc96",
           "#ab63fa",
           "#FFA15A",
           "#19d3f3",
           "#FF6692",
           "#B6E880",
           "#FF97FF",
           "#FECB52"
          ],
          "font": {
           "color": "#2a3f5f"
          },
          "geo": {
           "bgcolor": "white",
           "lakecolor": "white",
           "landcolor": "white",
           "showlakes": true,
           "showland": true,
           "subunitcolor": "#C8D4E3"
          },
          "hoverlabel": {
           "align": "left"
          },
          "hovermode": "closest",
          "mapbox": {
           "style": "light"
          },
          "paper_bgcolor": "white",
          "plot_bgcolor": "white",
          "polar": {
           "angularaxis": {
            "gridcolor": "#EBF0F8",
            "linecolor": "#EBF0F8",
            "ticks": ""
           },
           "bgcolor": "white",
           "radialaxis": {
            "gridcolor": "#EBF0F8",
            "linecolor": "#EBF0F8",
            "ticks": ""
           }
          },
          "scene": {
           "xaxis": {
            "backgroundcolor": "white",
            "gridcolor": "#DFE8F3",
            "gridwidth": 2,
            "linecolor": "#EBF0F8",
            "showbackground": true,
            "ticks": "",
            "zerolinecolor": "#EBF0F8"
           },
           "yaxis": {
            "backgroundcolor": "white",
            "gridcolor": "#DFE8F3",
            "gridwidth": 2,
            "linecolor": "#EBF0F8",
            "showbackground": true,
            "ticks": "",
            "zerolinecolor": "#EBF0F8"
           },
           "zaxis": {
            "backgroundcolor": "white",
            "gridcolor": "#DFE8F3",
            "gridwidth": 2,
            "linecolor": "#EBF0F8",
            "showbackground": true,
            "ticks": "",
            "zerolinecolor": "#EBF0F8"
           }
          },
          "shapedefaults": {
           "line": {
            "color": "#2a3f5f"
           }
          },
          "ternary": {
           "aaxis": {
            "gridcolor": "#DFE8F3",
            "linecolor": "#A2B1C6",
            "ticks": ""
           },
           "baxis": {
            "gridcolor": "#DFE8F3",
            "linecolor": "#A2B1C6",
            "ticks": ""
           },
           "bgcolor": "white",
           "caxis": {
            "gridcolor": "#DFE8F3",
            "linecolor": "#A2B1C6",
            "ticks": ""
           }
          },
          "title": {
           "x": 0.05
          },
          "xaxis": {
           "automargin": true,
           "gridcolor": "#EBF0F8",
           "linecolor": "#EBF0F8",
           "ticks": "",
           "title": {
            "standoff": 15
           },
           "zerolinecolor": "#EBF0F8",
           "zerolinewidth": 2
          },
          "yaxis": {
           "automargin": true,
           "gridcolor": "#EBF0F8",
           "linecolor": "#EBF0F8",
           "ticks": "",
           "title": {
            "standoff": 15
           },
           "zerolinecolor": "#EBF0F8",
           "zerolinewidth": 2
          }
         }
        },
        "title": {
         "text": "Entropy–Complexity for data/chords/perf5 (Plotly)\nDim = '6', Hop = '1'"
        },
        "width": 800,
        "xaxis": {
         "range": [
          0,
          1
         ],
         "title": {
          "text": "Normalized Permutation Entropy"
         }
        },
        "yaxis": {
         "range": [
          0,
          1
         ],
         "title": {
          "text": "Normalized Complexity"
         }
        }
       }
      }
     },
     "metadata": {},
     "output_type": "display_data"
    }
   ],
   "source": [
    "folder_path = \"data/chords/perf5\"\n",
    "dim = 6\n",
    "hop = 1\n",
    "plot_graph_ordpy(folder_path, dim, hop)"
   ]
  },
  {
   "cell_type": "code",
   "execution_count": 141,
   "metadata": {},
   "outputs": [
    {
     "name": "stderr",
     "output_type": "stream",
     "text": [
      "Processing audio files in data/chords/sus4 with dim 6 and hop 1: 100%|██████████| 255/255 [00:21<00:00, 11.73it/s]\n"
     ]
    },
    {
     "data": {
      "application/vnd.plotly.v1+json": {
       "config": {
        "plotlyServerURL": "https://plot.ly"
       },
       "data": [
        {
         "hovertemplate": "<b>File:</b> %{hovertext}<br><b>Entropy:</b> %{x}<br><b>Complexity:</b> %{y}<extra></extra>",
         "hovertext": [
          "Eb-7-sus4-chord-2.wav",
          "C-8-sus4-chord-0.wav",
          "Ab-3-sus4-chord-1.wav",
          "Bb-3-sus4-chord-2.wav",
          "Ab-3-sus4-chord-0.wav",
          "C-8-sus4-chord-1.wav",
          "C-3-sus4-chord-2.wav",
          "E-6-sus4-chord-2.wav",
          "G-5-sus4-chord-2.wav",
          "C#-4-sus4-chord-2.wav",
          "D-1-sus4-chord-2.wav",
          "F-2-sus4-chord-2.wav",
          "B-4-sus4-chord-2.wav",
          "F-2-sus4-chord-0.wav",
          "D-1-sus4-chord-0.wav",
          "B-4-sus4-chord-0.wav",
          "C#-4-sus4-chord-0.wav",
          "C-3-sus4-chord-0.wav",
          "G-5-sus4-chord-0.wav",
          "E-6-sus4-chord-0.wav",
          "Eb-7-sus4-chord-1.wav",
          "Ab-3-sus4-chord-2.wav",
          "Bb-3-sus4-chord-0.wav",
          "Bb-3-sus4-chord-1.wav",
          "C-8-sus4-chord-2.wav",
          "Eb-7-sus4-chord-0.wav",
          "G-5-sus4-chord-1.wav",
          "E-6-sus4-chord-1.wav",
          "C-3-sus4-chord-1.wav",
          "C#-4-sus4-chord-1.wav",
          "B-4-sus4-chord-1.wav",
          "F-2-sus4-chord-1.wav",
          "D-1-sus4-chord-1.wav",
          "Bb-7-sus4-chord-1.wav",
          "D-5-sus4-chord-1.wav",
          "F-6-sus4-chord-1.wav",
          "E-2-sus4-chord-1.wav",
          "G-1-sus4-chord-1.wav",
          "A-4-sus4-chord-1.wav",
          "C-7-sus4-chord-1.wav",
          "Eb-3-sus4-chord-0.wav",
          "Eb-3-sus4-chord-1.wav",
          "F#-4-sus4-chord-2.wav",
          "A-4-sus4-chord-0.wav",
          "C-7-sus4-chord-0.wav",
          "E-2-sus4-chord-0.wav",
          "G-1-sus4-chord-0.wav",
          "D-5-sus4-chord-0.wav",
          "F-6-sus4-chord-0.wav",
          "Bb-7-sus4-chord-0.wav",
          "Ab-7-sus4-chord-2.wav",
          "Ab-7-sus4-chord-0.wav",
          "Bb-7-sus4-chord-2.wav",
          "F-6-sus4-chord-2.wav",
          "D-5-sus4-chord-2.wav",
          "C-7-sus4-chord-2.wav",
          "A-4-sus4-chord-2.wav",
          "G-1-sus4-chord-2.wav",
          "E-2-sus4-chord-2.wav",
          "F#-4-sus4-chord-0.wav",
          "Eb-3-sus4-chord-2.wav",
          "F#-4-sus4-chord-1.wav",
          "Ab-7-sus4-chord-1.wav",
          "E-7-sus4-chord-2.wav",
          "G-4-sus4-chord-2.wav",
          "A-1-sus4-chord-2.wav",
          "C-2-sus4-chord-2.wav",
          "B-5-sus4-chord-2.wav",
          "F-3-sus4-chord-2.wav",
          "C#-5-sus4-chord-2.wav",
          "F#-1-sus4-chord-0.wav",
          "Ab-2-sus4-chord-0.wav",
          "Bb-2-sus4-chord-2.wav",
          "Ab-2-sus4-chord-1.wav",
          "F#-1-sus4-chord-1.wav",
          "Eb-6-sus4-chord-2.wav",
          "C-2-sus4-chord-1.wav",
          "A-1-sus4-chord-1.wav",
          "G-4-sus4-chord-1.wav",
          "E-7-sus4-chord-1.wav",
          "F-3-sus4-chord-1.wav",
          "B-5-sus4-chord-1.wav",
          "C#-5-sus4-chord-1.wav",
          "Eb-6-sus4-chord-0.wav",
          "Bb-2-sus4-chord-1.wav",
          "Bb-2-sus4-chord-0.wav",
          "Ab-2-sus4-chord-2.wav",
          "F#-1-sus4-chord-2.wav",
          "Eb-6-sus4-chord-1.wav",
          "C#-5-sus4-chord-0.wav",
          "B-5-sus4-chord-0.wav",
          "F-3-sus4-chord-0.wav",
          "G-4-sus4-chord-0.wav",
          "E-7-sus4-chord-0.wav",
          "C-2-sus4-chord-0.wav",
          "A-1-sus4-chord-0.wav",
          "Ab-6-sus4-chord-2.wav",
          "Bb-6-sus4-chord-0.wav",
          "E-3-sus4-chord-0.wav",
          "A-5-sus4-chord-0.wav",
          "C-6-sus4-chord-0.wav",
          "C#-1-sus4-chord-0.wav",
          "B-1-sus4-chord-0.wav",
          "D-4-sus4-chord-0.wav",
          "F-7-sus4-chord-0.wav",
          "Eb-2-sus4-chord-1.wav",
          "F#-5-sus4-chord-2.wav",
          "Eb-2-sus4-chord-0.wav",
          "D-4-sus4-chord-1.wav",
          "F-7-sus4-chord-1.wav",
          "B-1-sus4-chord-1.wav",
          "C#-1-sus4-chord-1.wav",
          "A-5-sus4-chord-1.wav",
          "C-6-sus4-chord-1.wav",
          "E-3-sus4-chord-1.wav",
          "Bb-6-sus4-chord-1.wav",
          "Ab-6-sus4-chord-1.wav",
          "Eb-2-sus4-chord-2.wav",
          "F#-5-sus4-chord-1.wav",
          "F#-5-sus4-chord-0.wav",
          "B-1-sus4-chord-2.wav",
          "F-7-sus4-chord-2.wav",
          "D-4-sus4-chord-2.wav",
          "C#-1-sus4-chord-2.wav",
          "E-3-sus4-chord-2.wav",
          "C-6-sus4-chord-2.wav",
          "A-5-sus4-chord-2.wav",
          "Bb-6-sus4-chord-2.wav",
          "Ab-6-sus4-chord-0.wav",
          "Eb-5-sus4-chord-0.wav",
          "B-6-sus4-chord-1.wav",
          "D-3-sus4-chord-1.wav",
          "C#-6-sus4-chord-1.wav",
          "G-7-sus4-chord-1.wav",
          "E-4-sus4-chord-1.wav",
          "C-1-sus4-chord-1.wav",
          "A-2-sus4-chord-1.wav",
          "Bb-1-sus4-chord-1.wav",
          "Ab-1-sus4-chord-2.wav",
          "Bb-1-sus4-chord-0.wav",
          "C-1-sus4-chord-0.wav",
          "A-2-sus4-chord-0.wav",
          "G-7-sus4-chord-0.wav",
          "E-4-sus4-chord-0.wav",
          "C#-6-sus4-chord-0.wav",
          "D-3-sus4-chord-0.wav",
          "B-6-sus4-chord-0.wav",
          "Eb-5-sus4-chord-1.wav",
          "F#-2-sus4-chord-2.wav",
          "F#-2-sus4-chord-0.wav",
          "D-3-sus4-chord-2.wav",
          "B-6-sus4-chord-2.wav",
          "C#-6-sus4-chord-2.wav",
          "A-2-sus4-chord-2.wav",
          "C-1-sus4-chord-2.wav",
          "E-4-sus4-chord-2.wav",
          "G-7-sus4-chord-2.wav",
          "Bb-1-sus4-chord-2.wav",
          "Ab-1-sus4-chord-0.wav",
          "Ab-1-sus4-chord-1.wav",
          "Eb-5-sus4-chord-2.wav",
          "F#-2-sus4-chord-1.wav",
          "Ab-5-sus4-chord-1.wav",
          "F#-6-sus4-chord-1.wav",
          "Eb-1-sus4-chord-2.wav",
          "C-5-sus4-chord-2.wav",
          "A-6-sus4-chord-2.wav",
          "G-3-sus4-chord-2.wav",
          "F-4-sus4-chord-2.wav",
          "D-7-sus4-chord-2.wav",
          "B-2-sus4-chord-2.wav",
          "C#-2-sus4-chord-2.wav",
          "F#-6-sus4-chord-0.wav",
          "Ab-5-sus4-chord-0.wav",
          "Bb-5-sus4-chord-2.wav",
          "Bb-5-sus4-chord-0.wav",
          "Ab-5-sus4-chord-2.wav",
          "F#-6-sus4-chord-2.wav",
          "Eb-1-sus4-chord-1.wav",
          "C#-2-sus4-chord-0.wav",
          "D-7-sus4-chord-0.wav",
          "F-4-sus4-chord-0.wav",
          "B-2-sus4-chord-0.wav",
          "A-6-sus4-chord-0.wav",
          "C-5-sus4-chord-0.wav",
          "G-3-sus4-chord-0.wav",
          "G-3-sus4-chord-1.wav",
          "A-6-sus4-chord-1.wav",
          "C-5-sus4-chord-1.wav",
          "B-2-sus4-chord-1.wav",
          "D-7-sus4-chord-1.wav",
          "F-4-sus4-chord-1.wav",
          "C#-2-sus4-chord-1.wav",
          "Eb-1-sus4-chord-0.wav",
          "Bb-5-sus4-chord-1.wav",
          "Eb-4-sus4-chord-1.wav",
          "F#-3-sus4-chord-2.wav",
          "G-6-sus4-chord-0.wav",
          "E-5-sus4-chord-0.wav",
          "A-3-sus4-chord-0.wav",
          "B-7-sus4-chord-0.wav",
          "F-1-sus4-chord-0.wav",
          "D-2-sus4-chord-0.wav",
          "C#-7-sus4-chord-0.wav",
          "C#-7-sus4-chord-1.wav",
          "F-1-sus4-chord-1.wav",
          "D-2-sus4-chord-1.wav",
          "B-7-sus4-chord-1.wav",
          "A-3-sus4-chord-1.wav",
          "G-6-sus4-chord-1.wav",
          "E-5-sus4-chord-1.wav",
          "Eb-4-sus4-chord-0.wav",
          "Eb-4-sus4-chord-2.wav",
          "F#-3-sus4-chord-1.wav",
          "C#-7-sus4-chord-2.wav",
          "B-7-sus4-chord-2.wav",
          "D-2-sus4-chord-2.wav",
          "F-1-sus4-chord-2.wav",
          "E-5-sus4-chord-2.wav",
          "G-6-sus4-chord-2.wav",
          "A-3-sus4-chord-2.wav",
          "F#-3-sus4-chord-0.wav",
          "Bb-4-sus4-chord-2.wav",
          "Ab-4-sus4-chord-0.wav",
          "F#-7-sus4-chord-0.wav",
          "G-2-sus4-chord-2.wav",
          "E-1-sus4-chord-2.wav",
          "C-4-sus4-chord-2.wav",
          "A-7-sus4-chord-2.wav",
          "C#-3-sus4-chord-2.wav",
          "B-3-sus4-chord-2.wav",
          "F-5-sus4-chord-2.wav",
          "D-6-sus4-chord-2.wav",
          "F#-7-sus4-chord-1.wav",
          "Ab-4-sus4-chord-1.wav",
          "Bb-4-sus4-chord-1.wav",
          "A-7-sus4-chord-1.wav",
          "C-4-sus4-chord-1.wav",
          "E-1-sus4-chord-1.wav",
          "G-2-sus4-chord-1.wav",
          "C#-3-sus4-chord-1.wav",
          "D-6-sus4-chord-1.wav",
          "F-5-sus4-chord-1.wav",
          "B-3-sus4-chord-1.wav",
          "B-3-sus4-chord-0.wav",
          "D-6-sus4-chord-0.wav",
          "F-5-sus4-chord-0.wav",
          "C#-3-sus4-chord-0.wav",
          "E-1-sus4-chord-0.wav",
          "G-2-sus4-chord-0.wav",
          "A-7-sus4-chord-0.wav",
          "C-4-sus4-chord-0.wav",
          "F#-7-sus4-chord-2.wav",
          "Ab-4-sus4-chord-2.wav",
          "Bb-4-sus4-chord-0.wav"
         ],
         "marker": {
          "color": "blue",
          "line": {
           "color": "black",
           "width": 1
          },
          "size": 10
         },
         "mode": "markers",
         "name": "Data Points",
         "type": "scatter",
         "x": {
          "bdata": "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",
          "dtype": "f8"
         },
         "y": {
          "bdata": "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",
          "dtype": "f8"
         }
        },
        {
         "line": {
          "color": "red",
          "dash": "dash"
         },
         "mode": "lines",
         "name": "Maximum Complexity Boundary",
         "type": "scatter",
         "x": {
          "bdata": "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",
          "dtype": "f8"
         },
         "y": {
          "bdata": "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",
          "dtype": "f8"
         }
        },
        {
         "line": {
          "color": "green",
          "dash": "dash"
         },
         "mode": "lines",
         "name": "Minimum Complexity Boundary",
         "type": "scatter",
         "x": {
          "bdata": "AAAAAAAAAICaxf+16xqTP+jVhP1KAqI/vUTdi+gLqj/86nM1k+ewP8K3yY7ArrQ/p554aKFguD/uL+sCmwC8PzAUmEQWkb8/OC9Izu+JwT9fJ6LWLUXDP9zCdlXT+sQ/w/gEHFSrxj8NvFFLEFfIP6qV/uFY/sk/NbM6+3Khyz8sJAsvmkDNP7DF0VkC3M4/1TEXfOw50D9Eo50aIwTRP2yQ0d+2zNE/cXTxubeT0j+olffyM1nTP1t01Gg4HdQ/9H3Ou9Df1D86qBR1B6HVP9wYEyfmYNY/6J68iHUf1z8jY7eMvdzXP+DxJ3XFmNg/K+Ku5JNT2T+Dkg/tLg3aP45i3xucxdo/e8qKheB82z/HfO/OADPcP7hzvzUB6Nw/PsHXl+Wb3T86q655sU7eP6iv9gtoAN8/nDCPMAyx3z9Pw2s/UDDgP4fyuqOTh+A/ylnQS1He4D+2U/sdijThPz/0d+E+iuE/Qmx4P3Df4T8RywLEHjTiP6MEpt5KiOI/1I4I4/Tb4j9mYlIJHS/jP3Kyc27DgeM/hzlJFOjT4z/jjp7hiiXkP/qKDqKrduQ/+FfBBUrH5D/zXQehZRflP7HIz+v9ZuU/h+v4QBK25T8VRHjdoQTmP8xKV9+rUuY/IZyBRC+g5j94S2DpKu3mP6RZPYedOec/N09psoWF5z+X1RvY4dDnP/fNBjywG+g/48WR9e5l6D84trHsm6/oP9ubTta0+Og/1pYlMDdB6T+zsRI8IInpP7wOqfps0Ok//L/6JBoX6j81rmolJF3qP6I6Wg+Houo/yCN5lT7n6j+L1W/+RSvrP0CTiReYbus/5ELrJC+x6z99ysLOBPPrP0yqrgoSNOw/q/lgAE907D/z+SzosrPsPzkUuOEz8uw/IStdwMYv7T9YSNjJXmztPxjoW2Ltp+0/YoL0nmHi7T99rZWzpxvuP30tZSyoU+4/3roJ2EaK7j+hR1o3Yb/uPwiMLibM8u4/5bjgL1Ak7z8p/rF0o1PvP1Omz7BegO8/zKz4ROep7z8Ha0uLO8/vP00Cx0hS7u8/AAAAAAAA8D8=",
          "dtype": "f8"
         },
         "y": {
          "bdata": "AAAAAAAAAIDM4Y+YJlKSP3cLBINQtqA/J6zO+G52pz/N5dV3Gp6tP32fvDSTpLE/ZaqxOrdEtD8TBRfs0bW2Pz4In7ex/Lg/GLkl5iMduz9xvMwPQxq9Pxsj/6un9r4/5RS4+ENawD9oIqDe5irBPyRePBgT7sE/wQS/lIakwj+vc/D06k7DPw+0hN/Y7cM/pSqkndqBxD8oUsMvbgvFP5alVvwGi8U/hbZQMA8Bxj8sB9Pi6G3GP/hm9Qjv0cY/xNtVQ3Ytxz+YwtaMzYDHP9+iQtA+zMc/fgROaQ8QyD/crH+UgEzIP5sM0dDPgcg/ni5MNTewyD9iM3+87dfIP0a3R4cn+cg/fpI0GBYUyT+FPYaI6CjJP5yFqrfLN8k/4/HsdepAyT91afiqbUTJPygQr3h8Qsk/y77JWjw7yT/8YqBD0S7JPxf1brZdHck/SXpf3wIHyT/Z8pep4OvIP2cIg9MVzMg/PX2DAcCnyD9qhzzP+37IPyJNlN/kUcg/7m6R65UgyD8B7jDQKOvHP3iHTpu2scc/0wG3l1d0xz8XdnlYIzPHPym7isMw7sY/u1HMG5alxj+AsYYKaVnGP2W5Zai+CcY/itMEhqu2xT/kqBe0Q2DFP1J8O8uaBsU/k9Z888OpxD9Y05zr0UnEPyY2IRDX5sM/ToM6YuWAwz/Sh4uODhjDP9tB3vNjrMI/8cnSqfY9wj9N75WH18zBPxqprioXWcE/kEzz/cXiwD9sFbpA9GnAP14jtxxk3b8/msZDzB7ivj+pCIpnOOK9P53wNrHQ3bw/2BdgawfVuz8HP/Nt/Me6P/0JBcDPtrk/A3bGtKGhuD/EsyUNk4i3P1sKdB/Fa7Y/353hBlpLtT8Cb0vddCe0P1Lq0QI6ALM/PSYjeM/VsT+5+pxSXaiwP9pCy6kc8K4/hmBseCGKrD+oqte3Lh+qP+ZMTGK2r6c/w7ANazs8pT8z3wTgWMWiPzQr8GfNS6A/peLq2R2hmz/cun3T3amWP55cgtvItZE/L6gfV+WWiT8G9z+G6d9/P9Qznsa2+Wo/3KtzhX9C17w=",
          "dtype": "f8"
         }
        }
       ],
       "layout": {
        "height": 600,
        "template": {
         "data": {
          "bar": [
           {
            "error_x": {
             "color": "#2a3f5f"
            },
            "error_y": {
             "color": "#2a3f5f"
            },
            "marker": {
             "line": {
              "color": "white",
              "width": 0.5
             },
             "pattern": {
              "fillmode": "overlay",
              "size": 10,
              "solidity": 0.2
             }
            },
            "type": "bar"
           }
          ],
          "barpolar": [
           {
            "marker": {
             "line": {
              "color": "white",
              "width": 0.5
             },
             "pattern": {
              "fillmode": "overlay",
              "size": 10,
              "solidity": 0.2
             }
            },
            "type": "barpolar"
           }
          ],
          "carpet": [
           {
            "aaxis": {
             "endlinecolor": "#2a3f5f",
             "gridcolor": "#C8D4E3",
             "linecolor": "#C8D4E3",
             "minorgridcolor": "#C8D4E3",
             "startlinecolor": "#2a3f5f"
            },
            "baxis": {
             "endlinecolor": "#2a3f5f",
             "gridcolor": "#C8D4E3",
             "linecolor": "#C8D4E3",
             "minorgridcolor": "#C8D4E3",
             "startlinecolor": "#2a3f5f"
            },
            "type": "carpet"
           }
          ],
          "choropleth": [
           {
            "colorbar": {
             "outlinewidth": 0,
             "ticks": ""
            },
            "type": "choropleth"
           }
          ],
          "contour": [
           {
            "colorbar": {
             "outlinewidth": 0,
             "ticks": ""
            },
            "colorscale": [
             [
              0,
              "#0d0887"
             ],
             [
              0.1111111111111111,
              "#46039f"
             ],
             [
              0.2222222222222222,
              "#7201a8"
             ],
             [
              0.3333333333333333,
              "#9c179e"
             ],
             [
              0.4444444444444444,
              "#bd3786"
             ],
             [
              0.5555555555555556,
              "#d8576b"
             ],
             [
              0.6666666666666666,
              "#ed7953"
             ],
             [
              0.7777777777777778,
              "#fb9f3a"
             ],
             [
              0.8888888888888888,
              "#fdca26"
             ],
             [
              1,
              "#f0f921"
             ]
            ],
            "type": "contour"
           }
          ],
          "contourcarpet": [
           {
            "colorbar": {
             "outlinewidth": 0,
             "ticks": ""
            },
            "type": "contourcarpet"
           }
          ],
          "heatmap": [
           {
            "colorbar": {
             "outlinewidth": 0,
             "ticks": ""
            },
            "colorscale": [
             [
              0,
              "#0d0887"
             ],
             [
              0.1111111111111111,
              "#46039f"
             ],
             [
              0.2222222222222222,
              "#7201a8"
             ],
             [
              0.3333333333333333,
              "#9c179e"
             ],
             [
              0.4444444444444444,
              "#bd3786"
             ],
             [
              0.5555555555555556,
              "#d8576b"
             ],
             [
              0.6666666666666666,
              "#ed7953"
             ],
             [
              0.7777777777777778,
              "#fb9f3a"
             ],
             [
              0.8888888888888888,
              "#fdca26"
             ],
             [
              1,
              "#f0f921"
             ]
            ],
            "type": "heatmap"
           }
          ],
          "histogram": [
           {
            "marker": {
             "pattern": {
              "fillmode": "overlay",
              "size": 10,
              "solidity": 0.2
             }
            },
            "type": "histogram"
           }
          ],
          "histogram2d": [
           {
            "colorbar": {
             "outlinewidth": 0,
             "ticks": ""
            },
            "colorscale": [
             [
              0,
              "#0d0887"
             ],
             [
              0.1111111111111111,
              "#46039f"
             ],
             [
              0.2222222222222222,
              "#7201a8"
             ],
             [
              0.3333333333333333,
              "#9c179e"
             ],
             [
              0.4444444444444444,
              "#bd3786"
             ],
             [
              0.5555555555555556,
              "#d8576b"
             ],
             [
              0.6666666666666666,
              "#ed7953"
             ],
             [
              0.7777777777777778,
              "#fb9f3a"
             ],
             [
              0.8888888888888888,
              "#fdca26"
             ],
             [
              1,
              "#f0f921"
             ]
            ],
            "type": "histogram2d"
           }
          ],
          "histogram2dcontour": [
           {
            "colorbar": {
             "outlinewidth": 0,
             "ticks": ""
            },
            "colorscale": [
             [
              0,
              "#0d0887"
             ],
             [
              0.1111111111111111,
              "#46039f"
             ],
             [
              0.2222222222222222,
              "#7201a8"
             ],
             [
              0.3333333333333333,
              "#9c179e"
             ],
             [
              0.4444444444444444,
              "#bd3786"
             ],
             [
              0.5555555555555556,
              "#d8576b"
             ],
             [
              0.6666666666666666,
              "#ed7953"
             ],
             [
              0.7777777777777778,
              "#fb9f3a"
             ],
             [
              0.8888888888888888,
              "#fdca26"
             ],
             [
              1,
              "#f0f921"
             ]
            ],
            "type": "histogram2dcontour"
           }
          ],
          "mesh3d": [
           {
            "colorbar": {
             "outlinewidth": 0,
             "ticks": ""
            },
            "type": "mesh3d"
           }
          ],
          "parcoords": [
           {
            "line": {
             "colorbar": {
              "outlinewidth": 0,
              "ticks": ""
             }
            },
            "type": "parcoords"
           }
          ],
          "pie": [
           {
            "automargin": true,
            "type": "pie"
           }
          ],
          "scatter": [
           {
            "fillpattern": {
             "fillmode": "overlay",
             "size": 10,
             "solidity": 0.2
            },
            "type": "scatter"
           }
          ],
          "scatter3d": [
           {
            "line": {
             "colorbar": {
              "outlinewidth": 0,
              "ticks": ""
             }
            },
            "marker": {
             "colorbar": {
              "outlinewidth": 0,
              "ticks": ""
             }
            },
            "type": "scatter3d"
           }
          ],
          "scattercarpet": [
           {
            "marker": {
             "colorbar": {
              "outlinewidth": 0,
              "ticks": ""
             }
            },
            "type": "scattercarpet"
           }
          ],
          "scattergeo": [
           {
            "marker": {
             "colorbar": {
              "outlinewidth": 0,
              "ticks": ""
             }
            },
            "type": "scattergeo"
           }
          ],
          "scattergl": [
           {
            "marker": {
             "colorbar": {
              "outlinewidth": 0,
              "ticks": ""
             }
            },
            "type": "scattergl"
           }
          ],
          "scattermap": [
           {
            "marker": {
             "colorbar": {
              "outlinewidth": 0,
              "ticks": ""
             }
            },
            "type": "scattermap"
           }
          ],
          "scattermapbox": [
           {
            "marker": {
             "colorbar": {
              "outlinewidth": 0,
              "ticks": ""
             }
            },
            "type": "scattermapbox"
           }
          ],
          "scatterpolar": [
           {
            "marker": {
             "colorbar": {
              "outlinewidth": 0,
              "ticks": ""
             }
            },
            "type": "scatterpolar"
           }
          ],
          "scatterpolargl": [
           {
            "marker": {
             "colorbar": {
              "outlinewidth": 0,
              "ticks": ""
             }
            },
            "type": "scatterpolargl"
           }
          ],
          "scatterternary": [
           {
            "marker": {
             "colorbar": {
              "outlinewidth": 0,
              "ticks": ""
             }
            },
            "type": "scatterternary"
           }
          ],
          "surface": [
           {
            "colorbar": {
             "outlinewidth": 0,
             "ticks": ""
            },
            "colorscale": [
             [
              0,
              "#0d0887"
             ],
             [
              0.1111111111111111,
              "#46039f"
             ],
             [
              0.2222222222222222,
              "#7201a8"
             ],
             [
              0.3333333333333333,
              "#9c179e"
             ],
             [
              0.4444444444444444,
              "#bd3786"
             ],
             [
              0.5555555555555556,
              "#d8576b"
             ],
             [
              0.6666666666666666,
              "#ed7953"
             ],
             [
              0.7777777777777778,
              "#fb9f3a"
             ],
             [
              0.8888888888888888,
              "#fdca26"
             ],
             [
              1,
              "#f0f921"
             ]
            ],
            "type": "surface"
           }
          ],
          "table": [
           {
            "cells": {
             "fill": {
              "color": "#EBF0F8"
             },
             "line": {
              "color": "white"
             }
            },
            "header": {
             "fill": {
              "color": "#C8D4E3"
             },
             "line": {
              "color": "white"
             }
            },
            "type": "table"
           }
          ]
         },
         "layout": {
          "annotationdefaults": {
           "arrowcolor": "#2a3f5f",
           "arrowhead": 0,
           "arrowwidth": 1
          },
          "autotypenumbers": "strict",
          "coloraxis": {
           "colorbar": {
            "outlinewidth": 0,
            "ticks": ""
           }
          },
          "colorscale": {
           "diverging": [
            [
             0,
             "#8e0152"
            ],
            [
             0.1,
             "#c51b7d"
            ],
            [
             0.2,
             "#de77ae"
            ],
            [
             0.3,
             "#f1b6da"
            ],
            [
             0.4,
             "#fde0ef"
            ],
            [
             0.5,
             "#f7f7f7"
            ],
            [
             0.6,
             "#e6f5d0"
            ],
            [
             0.7,
             "#b8e186"
            ],
            [
             0.8,
             "#7fbc41"
            ],
            [
             0.9,
             "#4d9221"
            ],
            [
             1,
             "#276419"
            ]
           ],
           "sequential": [
            [
             0,
             "#0d0887"
            ],
            [
             0.1111111111111111,
             "#46039f"
            ],
            [
             0.2222222222222222,
             "#7201a8"
            ],
            [
             0.3333333333333333,
             "#9c179e"
            ],
            [
             0.4444444444444444,
             "#bd3786"
            ],
            [
             0.5555555555555556,
             "#d8576b"
            ],
            [
             0.6666666666666666,
             "#ed7953"
            ],
            [
             0.7777777777777778,
             "#fb9f3a"
            ],
            [
             0.8888888888888888,
             "#fdca26"
            ],
            [
             1,
             "#f0f921"
            ]
           ],
           "sequentialminus": [
            [
             0,
             "#0d0887"
            ],
            [
             0.1111111111111111,
             "#46039f"
            ],
            [
             0.2222222222222222,
             "#7201a8"
            ],
            [
             0.3333333333333333,
             "#9c179e"
            ],
            [
             0.4444444444444444,
             "#bd3786"
            ],
            [
             0.5555555555555556,
             "#d8576b"
            ],
            [
             0.6666666666666666,
             "#ed7953"
            ],
            [
             0.7777777777777778,
             "#fb9f3a"
            ],
            [
             0.8888888888888888,
             "#fdca26"
            ],
            [
             1,
             "#f0f921"
            ]
           ]
          },
          "colorway": [
           "#636efa",
           "#EF553B",
           "#00cc96",
           "#ab63fa",
           "#FFA15A",
           "#19d3f3",
           "#FF6692",
           "#B6E880",
           "#FF97FF",
           "#FECB52"
          ],
          "font": {
           "color": "#2a3f5f"
          },
          "geo": {
           "bgcolor": "white",
           "lakecolor": "white",
           "landcolor": "white",
           "showlakes": true,
           "showland": true,
           "subunitcolor": "#C8D4E3"
          },
          "hoverlabel": {
           "align": "left"
          },
          "hovermode": "closest",
          "mapbox": {
           "style": "light"
          },
          "paper_bgcolor": "white",
          "plot_bgcolor": "white",
          "polar": {
           "angularaxis": {
            "gridcolor": "#EBF0F8",
            "linecolor": "#EBF0F8",
            "ticks": ""
           },
           "bgcolor": "white",
           "radialaxis": {
            "gridcolor": "#EBF0F8",
            "linecolor": "#EBF0F8",
            "ticks": ""
           }
          },
          "scene": {
           "xaxis": {
            "backgroundcolor": "white",
            "gridcolor": "#DFE8F3",
            "gridwidth": 2,
            "linecolor": "#EBF0F8",
            "showbackground": true,
            "ticks": "",
            "zerolinecolor": "#EBF0F8"
           },
           "yaxis": {
            "backgroundcolor": "white",
            "gridcolor": "#DFE8F3",
            "gridwidth": 2,
            "linecolor": "#EBF0F8",
            "showbackground": true,
            "ticks": "",
            "zerolinecolor": "#EBF0F8"
           },
           "zaxis": {
            "backgroundcolor": "white",
            "gridcolor": "#DFE8F3",
            "gridwidth": 2,
            "linecolor": "#EBF0F8",
            "showbackground": true,
            "ticks": "",
            "zerolinecolor": "#EBF0F8"
           }
          },
          "shapedefaults": {
           "line": {
            "color": "#2a3f5f"
           }
          },
          "ternary": {
           "aaxis": {
            "gridcolor": "#DFE8F3",
            "linecolor": "#A2B1C6",
            "ticks": ""
           },
           "baxis": {
            "gridcolor": "#DFE8F3",
            "linecolor": "#A2B1C6",
            "ticks": ""
           },
           "bgcolor": "white",
           "caxis": {
            "gridcolor": "#DFE8F3",
            "linecolor": "#A2B1C6",
            "ticks": ""
           }
          },
          "title": {
           "x": 0.05
          },
          "xaxis": {
           "automargin": true,
           "gridcolor": "#EBF0F8",
           "linecolor": "#EBF0F8",
           "ticks": "",
           "title": {
            "standoff": 15
           },
           "zerolinecolor": "#EBF0F8",
           "zerolinewidth": 2
          },
          "yaxis": {
           "automargin": true,
           "gridcolor": "#EBF0F8",
           "linecolor": "#EBF0F8",
           "ticks": "",
           "title": {
            "standoff": 15
           },
           "zerolinecolor": "#EBF0F8",
           "zerolinewidth": 2
          }
         }
        },
        "title": {
         "text": "Entropy–Complexity for data/chords/sus4 (Plotly)\nDim = '6', Hop = '1'"
        },
        "width": 800,
        "xaxis": {
         "range": [
          0,
          1
         ],
         "title": {
          "text": "Normalized Permutation Entropy"
         }
        },
        "yaxis": {
         "range": [
          0,
          1
         ],
         "title": {
          "text": "Normalized Complexity"
         }
        }
       }
      }
     },
     "metadata": {},
     "output_type": "display_data"
    }
   ],
   "source": [
    "folder_path = \"data/chords/sus4\"\n",
    "dim = 6\n",
    "hop = 1\n",
    "plot_graph_ordpy(folder_path, dim, hop)"
   ]
  }
 ],
 "metadata": {
  "kernelspec": {
   "display_name": "venv",
   "language": "python",
   "name": "python3"
  },
  "language_info": {
   "codemirror_mode": {
    "name": "ipython",
    "version": 3
   },
   "file_extension": ".py",
   "mimetype": "text/x-python",
   "name": "python",
   "nbconvert_exporter": "python",
   "pygments_lexer": "ipython3",
   "version": "3.11.4"
  }
 },
 "nbformat": 4,
 "nbformat_minor": 2
}
