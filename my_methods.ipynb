{
 "cells": [
  {
   "cell_type": "markdown",
   "metadata": {},
   "source": [
    "# Imports"
   ]
  },
  {
   "cell_type": "code",
   "execution_count": 1,
   "metadata": {},
   "outputs": [],
   "source": [
    "import os\n",
    "import glob\n",
    "import math\n",
    "import numpy as np\n",
    "import pandas as pd\n",
    "import ordpy\n",
    "from scipy.io import wavfile\n",
    "from tqdm import tqdm\n",
    "import librosa\n",
    "import matplotlib.pyplot as plt\n",
    "import plotly.express as px\n",
    "import plotly.graph_objects as go\n",
    "from plotly.subplots import make_subplots\n",
    "import logging\n",
    "import warnings\n",
    "from scipy.io.wavfile import WavFileWarning\n"
   ]
  },
  {
   "cell_type": "markdown",
   "metadata": {},
   "source": [
    "# Logger setup"
   ]
  },
  {
   "cell_type": "code",
   "execution_count": 2,
   "metadata": {},
   "outputs": [],
   "source": [
    "logger = logging.getLogger(\"audio_process\")\n",
    "logger.setLevel(logging.DEBUG)\n",
    "\n",
    "# Clear existing handlers to avoid duplicates\n",
    "if logger.hasHandlers():\n",
    "    logger.handlers.clear()\n",
    "\n",
    "# File Handler: Write all messages (DEBUG and above) to a log file.\n",
    "fh = logging.FileHandler(\"process.log\", mode='w')\n",
    "fh.setLevel(logging.DEBUG)\n",
    "fh_formatter = logging.Formatter('%(asctime)s - %(levelname)s - %(message)s')\n",
    "fh.setFormatter(fh_formatter)\n",
    "logger.addHandler(fh)\n",
    "\n",
    "# Console Handler: Only show INFO and above on the console.\n",
    "ch = logging.StreamHandler()\n",
    "ch.setLevel(logging.WARNING)\n",
    "ch_formatter = logging.Formatter('%(message)s')\n",
    "ch.setFormatter(ch_formatter)\n",
    "logger.addHandler(ch)\n",
    "\n",
    "# Ignore metadata from scipy.wavfile\n",
    "warnings.filterwarnings(\"ignore\", category=WavFileWarning)"
   ]
  },
  {
   "cell_type": "markdown",
   "metadata": {},
   "source": [
    "# Creating and ranking z-vectors"
   ]
  },
  {
   "cell_type": "code",
   "execution_count": 3,
   "metadata": {},
   "outputs": [],
   "source": [
    "# 1. Create overlapping windows (z-vectors)\n",
    "def create_z_vectors(file_path, window_size, hop_size):\n",
    "    \"\"\"\n",
    "    Reads an audio file (WAV or MP3), converts it to mono if needed, and creates\n",
    "    overlapping windows (each of length window_size) using the given hop_size.\n",
    "    For MP3 files, librosa is used; for WAV files, scipy.io.wavfile is used.\n",
    "    \"\"\"\n",
    "    ext = os.path.splitext(file_path)[1].lower()\n",
    "    if ext == '.mp3':\n",
    "        # Load mp3 using librosa.\n",
    "        # sr=None preserves the native sampling rate.\n",
    "        data, sr = librosa.load(file_path, sr=None, mono=True)\n",
    "        logger.info(f\"Processing MP3 '{file_path}' with sample rate: {sr}\")\n",
    "    elif ext == '.wav':\n",
    "        sr, data = wavfile.read(file_path)\n",
    "        logger.info(f\"Processing WAV '{file_path}' with sample rate: {sr}\")\n",
    "        # If stereo, convert to mono by averaging channels.\n",
    "        if data.ndim == 2:\n",
    "            data = data.mean(axis=1)\n",
    "    else:\n",
    "        logger.error(f\"Unsupported file extension: {ext}\")\n",
    "        raise ValueError(f\"Unsupported file extension: {ext}\")\n",
    "\n",
    "    num_samples = len(data)\n",
    "    vectors = []\n",
    "    if hop_size > 0:\n",
    "        num_windows = (num_samples - window_size) // hop_size\n",
    "        for i in range(num_windows):\n",
    "            start = i * hop_size\n",
    "            end = start + window_size\n",
    "            vectors.append(data[start:end])\n",
    "    else:\n",
    "        num_windows = num_samples // window_size\n",
    "        for i in range(num_windows):\n",
    "            start = i * window_size\n",
    "            end = start + window_size\n",
    "            vectors.append(data[start:end])\n",
    "    if num_windows < 1:\n",
    "        logger.error(\"Audio too short for the given window/hop parameters.\")\n",
    "        raise ValueError(\"Audio too short for the given window/hop parameters.\")\n",
    "    return np.array(vectors)\n",
    "\n",
    "\n",
    "# 2. Compute ordinal patterns (ranking)\n",
    "def rank_vector(z):\n",
    "    \"\"\"\n",
    "    Returns the ordinal ranking of the values in vector z.\n",
    "    (Smallest value gets rank 1, next smallest 2, etc.)\n",
    "    \"\"\"\n",
    "    return np.argsort(z).argsort() + 1\n"
   ]
  },
  {
   "cell_type": "markdown",
   "metadata": {},
   "source": [
    "# Shannon entropy"
   ]
  },
  {
   "cell_type": "code",
   "execution_count": 4,
   "metadata": {},
   "outputs": [],
   "source": [
    "# 3. Shannon entropy (raw)\n",
    "def compute_shannon_entropy(probabilities):\n",
    "    \"\"\"\n",
    "    Computes Shannon entropy (in bits) given a probability vector.\n",
    "    Ignores zero probabilities.\n",
    "    \"\"\"\n",
    "    probs = probabilities[probabilities > 0]\n",
    "    return -np.sum(probs * np.log2(probs))\n",
    "\n",
    "\n",
    "# 4. Get the observed probability distribution over unique ordinal patterns\n",
    "def row_probabilities_unique(ranked_z_vectors):\n",
    "    \"\"\"\n",
    "    Given an array of ranked z-vectors (each row is one window's ordinal pattern),\n",
    "    returns:\n",
    "      - probabilities: 1D array of the probability (frequency) of each unique pattern.\n",
    "      - unique_patterns: 2D array where each row is a unique ordinal pattern.\n",
    "    \"\"\"\n",
    "    unique_patterns, counts = np.unique(ranked_z_vectors, axis=0, return_counts=True)\n",
    "    probabilities = counts / np.sum(counts)\n",
    "    return probabilities, unique_patterns\n",
    "\n",
    "\n",
    "# 5. Map an ordinal pattern to an index (using Lehmer code)\n",
    "def permutation_to_index(perm):\n",
    "    \"\"\"\n",
    "    Given a permutation (tuple) of length n (with values 1..n),\n",
    "    returns its index in lexicographic order (0-indexed).\n",
    "    (This is a simple Lehmer-code mapping.)\n",
    "    \"\"\"\n",
    "    n = len(perm)\n",
    "    # Convert from 1-indexed to 0-indexed:\n",
    "    perm = [p - 1 for p in perm]\n",
    "    index = 0\n",
    "    for i in range(n):\n",
    "        # Count how many of the remaining entries are smaller than perm[i]\n",
    "        smaller = sum(1 for j in range(i + 1, n) if perm[j] < perm[i])\n",
    "        index += smaller * math.factorial(n - i - 1)\n",
    "    return index\n",
    "\n",
    "\n",
    "# 6. Normalized permutation entropy\n",
    "def compute_normalized_permutation_entropy(probabilities, embedding_dim):\n",
    "    \"\"\"\n",
    "    Normalizes the permutation entropy by the theoretical maximum,\n",
    "    which is log2(embedding_dim!).\n",
    "    Returns a tuple: (H_norm, H_raw, H_max)\n",
    "    \"\"\"\n",
    "\n",
    "    M_possible = math.factorial(embedding_dim)\n",
    "    H_raw = compute_shannon_entropy(probabilities)\n",
    "    H_max = math.log2(M_possible)\n",
    "    return H_raw / H_max, H_raw, H_max\n",
    "\n",
    "\n",
    "# 7. Build the full probability vector (of length m!).\n",
    "#    For unobserved patterns, the probability is 0.\n",
    "def compute_extended_probability_vector(probabilities, unique_patterns, embedding_dim):\n",
    "    M_possible = math.factorial(embedding_dim)\n",
    "    p_extended = np.zeros(M_possible)\n",
    "    # Fill in the observed probabilities by mapping each observed pattern to an index.\n",
    "    for prob, pattern in zip(probabilities, unique_patterns):\n",
    "        idx = permutation_to_index(tuple(pattern))\n",
    "        p_extended[idx] = prob\n",
    "    return p_extended\n"
   ]
  },
  {
   "cell_type": "markdown",
   "metadata": {},
   "source": [
    "# JSD and complexity"
   ]
  },
  {
   "cell_type": "code",
   "execution_count": 5,
   "metadata": {},
   "outputs": [],
   "source": [
    "# 8. Jensen–Shannon divergence between two distributions\n",
    "def compute_js_divergence(p, p_u):\n",
    "    \"\"\"\n",
    "    Computes the Jensen–Shannon divergence between distributions p and p_u.\n",
    "    p and p_u must be vectors of the same length.\n",
    "    \"\"\"\n",
    "    m = 0.5 * (p + p_u)\n",
    "    return compute_shannon_entropy(m) - 0.5 * compute_shannon_entropy(p) - 0.5 * compute_shannon_entropy(p_u)\n",
    "\n",
    "\n",
    "# 9. Normalized JS divergence (disequilibrium)\n",
    "def compute_normalized_js_divergence(p_extended, embedding_dim):\n",
    "    \"\"\"\n",
    "    Computes the JS divergence between the observed (extended) distribution\n",
    "    and the uniform distribution over all m! states, then normalizes it by\n",
    "    a theoretical maximum.\n",
    "    \n",
    "    The theoretical maximum (Q_max) is given by:\n",
    "      Q_max = -0.5 * [ ((M+1)/M)*log2(M+1) - 2*log2(2*M) + log2(M) ]\n",
    "    where M = factorial(embedding_dim)\n",
    "    \"\"\"\n",
    "    M_possible = math.factorial(embedding_dim)\n",
    "    p_u = np.ones(M_possible) / M_possible\n",
    "    JS = compute_js_divergence(p_extended, p_u)\n",
    "    Q_max = -0.5 * (((M_possible + 1) / M_possible) * np.log2(M_possible + 1)\n",
    "                    - 2 * np.log2(2 * M_possible)\n",
    "                    + np.log2(M_possible))\n",
    "    return JS / Q_max if Q_max > 0 else 0.0, JS, Q_max\n",
    "\n",
    "\n",
    "# 10. Complexity measure: here we simply multiply the two normalized measures.\n",
    "def complexity_measure(H_norm, JS_norm):\n",
    "    return H_norm * JS_norm\n",
    "\n"
   ]
  },
  {
   "cell_type": "markdown",
   "metadata": {},
   "source": [
    "# Process "
   ]
  },
  {
   "cell_type": "code",
   "execution_count": 6,
   "metadata": {},
   "outputs": [],
   "source": [
    "# 11. Process a single audio file to compute H_norm and Complexity\n",
    "def process_audio(file_path, window_size=10, hop_size=5):\n",
    "    # 1. Get overlapping windows (z-vectors)\n",
    "    z_vectors = create_z_vectors(file_path, window_size, hop_size)\n",
    "    \n",
    "    # 2. Compute ordinal (ranking) pattern for each window\n",
    "    ranked_z_vectors = np.array([rank_vector(z) for z in z_vectors])\n",
    "    \n",
    "    # 3. Compute the probability distribution over the observed unique patterns\n",
    "    probabilities, unique_patterns = row_probabilities_unique(ranked_z_vectors)\n",
    "    # print(\"Number of unique ordinal patterns (observed):\", len(probabilities))\n",
    "    \n",
    "    # 4. Compute the normalized permutation entropy (using the theoretical maximum)\n",
    "    H_norm, H_raw, H_max = compute_normalized_permutation_entropy(probabilities, window_size)\n",
    "    \n",
    "    # 5. Extend the observed distribution to the full space of m! outcomes\n",
    "    p_extended = compute_extended_probability_vector(probabilities, unique_patterns, window_size)\n",
    "    \n",
    "    # 6. Compute the normalized JS divergence (disequilibrium)\n",
    "    JS_norm, JS, Q_max = compute_normalized_js_divergence(p_extended, window_size)\n",
    "    \n",
    "    # 7. Compute complexity as the product of the two normalized measures\n",
    "    comp = complexity_measure(H_norm, JS_norm)\n",
    "    \n",
    "    logger.debug(f\"File: {file_path}\")\n",
    "    logger.debug(f\"Embedding dimension (window size): {window_size}\")\n",
    "    logger.debug(f\"Total possible patterns (m!): {math.factorial(window_size)}\")\n",
    "    logger.debug(f\"H_raw: {H_raw}, H_max: {H_max}, Normalized Entropy: {H_norm}\")\n",
    "    logger.debug(f\"JS raw: {JS}, Q_max: {Q_max}, Normalized JS Divergence: {JS_norm}\")\n",
    "    logger.debug(f\"Complexity: {comp}\")\n",
    "    logger.debug(\"-\" * 50)\n",
    "    \n",
    "    return H_norm, comp\n",
    "\n",
    "\n",
    "# 12. Process multiple files and scatter plot all points\n",
    "def process_folder(folder_path, window_size=10, hop_size=5):\n",
    "    \"\"\"\n",
    "    Processes all WAV and MP3 files in the given folder and returns lists of\n",
    "    normalized entropy and complexity for each file.\n",
    "    \"\"\"\n",
    "    # Include both .wav and .mp3 files.\n",
    "    wav_files = glob.glob(os.path.join(folder_path, \"*.wav\"))\n",
    "    mp3_files = glob.glob(os.path.join(folder_path, \"*.mp3\"))\n",
    "    all_files = wav_files + mp3_files\n",
    "    \n",
    "    if not all_files:\n",
    "        logger.info(f\"No audio files found in {folder_path}\")\n",
    "        return [], [], []\n",
    "    \n",
    "    all_H = []\n",
    "    all_comp = []\n",
    "    file_labels = []\n",
    "    \n",
    "    # Use tqdm to add a progress bar over the file list.\n",
    "    for file_path in tqdm(all_files, desc=f\"Processing audio files in {folder_path} with dim {window_size} and hop {hop_size}\"):\n",
    "        try:\n",
    "            H_norm, comp = process_audio(file_path, window_size, hop_size)\n",
    "            all_H.append(H_norm)\n",
    "            all_comp.append(comp)\n",
    "            file_labels.append(os.path.basename(file_path))\n",
    "        except Exception as e:\n",
    "            logger.exception(f\"Error processing file {file_path}: {e}\")\n",
    "    \n",
    "    return all_H, all_comp, file_labels"
   ]
  },
  {
   "cell_type": "markdown",
   "metadata": {},
   "source": [
    "# Graphs"
   ]
  },
  {
   "cell_type": "code",
   "execution_count": 7,
   "metadata": {},
   "outputs": [],
   "source": [
    "def plot_graph(folder_path, start, end, grid, folder = \"plots\"):\n",
    "    logger.info(f\"Processing folder {folder_path}\")\n",
    "    # (window sizes 5 to 10)\n",
    "    iterations = list(range(start, end))\n",
    "    n_iter = len(iterations)\n",
    "\n",
    "    # For 2x3 grid\n",
    "    n_cols = grid\n",
    "    n_rows = math.ceil(n_iter / n_cols)\n",
    "\n",
    "    # Create a combined Plotly figure with subplots.\n",
    "    combined_fig = make_subplots(\n",
    "        rows=n_rows,\n",
    "        cols=n_cols,\n",
    "        subplot_titles=[f\"Dim = '{i}', Hop = '{i-1}'\" for i in iterations]\n",
    "    )\n",
    "\n",
    "    iteration_index = 0\n",
    "    for i in iterations:\n",
    "        window_size = i\n",
    "        hop_size = i - 1\n",
    "\n",
    "        # Process the folder to obtain entropy & complexity values.\n",
    "        all_H, all_comp, file_labels = process_folder(folder_path, window_size, hop_size)\n",
    "        df = pd.DataFrame({\n",
    "            \"Normalized Permutation Entropy\": all_H,\n",
    "            \"Normalized Complexity\": all_comp,\n",
    "            \"File\": file_labels\n",
    "        })\n",
    "\n",
    "        trace = go.Scatter(\n",
    "            x=df[\"Normalized Permutation Entropy\"],\n",
    "            y=df[\"Normalized Complexity\"],\n",
    "            mode=\"markers\",\n",
    "            marker=dict(color=df[\"Normalized Complexity\"],\n",
    "                        colorscale=\"Plotly3\",\n",
    "                        size=10),\n",
    "            text=df[\"File\"],\n",
    "            hovertemplate=(\n",
    "                \"Entropy: %{x}<br>\" +\n",
    "                \"Complexity: %{y}<br>\" +\n",
    "                \"File: %{text}<extra></extra>\"\n",
    "            ),\n",
    "            name=f\"Dim = {window_size}, Hop = {hop_size}\",\n",
    "            showlegend=True \n",
    "        )\n",
    "        # Determine subplot row and column indices.\n",
    "        row = iteration_index // n_cols + 1\n",
    "        col = iteration_index % n_cols + 1\n",
    "        combined_fig.add_trace(trace, row=row, col=col)\n",
    "        iteration_index += 1\n",
    "\n",
    "\n",
    "        # Matplotlib plot.\n",
    "        plt.figure(figsize=(8, 6))\n",
    "        plt.scatter(df[\"Normalized Permutation Entropy\"],\n",
    "                    df[\"Normalized Complexity\"],\n",
    "                    s=70,\n",
    "                    c='blue',\n",
    "                    edgecolors='black')\n",
    "        plt.xlabel(\"Normalized Permutation Entropy\")\n",
    "        plt.ylabel(\"Normalized Complexity\")\n",
    "        plt.title(f\"Entropy–Complexity for {folder_path}\\nDim = '{window_size}', Hop = '{hop_size}'\")\n",
    "        plt.xlim(0, 1)\n",
    "        plt.ylim(0, 1)\n",
    "        plt.grid(True, alpha=0.3)\n",
    "        plt.gca().set_aspect('equal', adjustable='box')\n",
    "        plt.tight_layout()\n",
    "\n",
    "        output_dir = f\"{folder}/{os.path.basename(folder_path)}\"\n",
    "        os.makedirs(output_dir, exist_ok=True)\n",
    "        output_file = os.path.join(output_dir, f\"entropy_complexity_{os.path.basename(folder_path)}_dim_{window_size}_hop_{hop_size}.png\")\n",
    "        plt.savefig(output_file)\n",
    "        plt.close()\n",
    "        logger.info(f\"Saved Matplotlib plot to {output_file}\")\n",
    "\n",
    "    # Finalize the combined Plotly figure.\n",
    "    combined_fig.update_layout(\n",
    "        width=1200,\n",
    "        height=1400,\n",
    "        title_text=f\"Combined Entropy–Complexity Plots for Folder {folder_path}\",\n",
    "        template=\"plotly_dark\"\n",
    "    )\n",
    "\n",
    "    for axis in combined_fig.layout:\n",
    "        if axis.startswith(\"xaxis\"):\n",
    "            combined_fig.layout[axis].update(range=[0, 1])\n",
    "        if axis.startswith(\"yaxis\"):\n",
    "            combined_fig.layout[axis].update(range=[0, 1])\n",
    "            \n",
    "    combined_fig.show()"
   ]
  },
  {
   "cell_type": "markdown",
   "metadata": {},
   "source": [
    "Noises and sin waves graph:"
   ]
  },
  {
   "cell_type": "code",
   "execution_count": 8,
   "metadata": {},
   "outputs": [
    {
     "name": "stderr",
     "output_type": "stream",
     "text": [
      "Processing audio files in data/SinAndNoise with dim 4 and hop 3: 100%|██████████| 18/18 [00:03<00:00,  5.55it/s]\n",
      "Processing audio files in data/SinAndNoise with dim 5 and hop 4: 100%|██████████| 18/18 [00:02<00:00,  6.73it/s]\n",
      "Processing audio files in data/SinAndNoise with dim 6 and hop 5: 100%|██████████| 18/18 [00:02<00:00,  8.41it/s]\n",
      "Processing audio files in data/SinAndNoise with dim 7 and hop 6: 100%|██████████| 18/18 [00:01<00:00,  9.33it/s]\n",
      "Processing audio files in data/SinAndNoise with dim 8 and hop 7: 100%|██████████| 18/18 [00:02<00:00,  8.21it/s]\n",
      "Processing audio files in data/SinAndNoise with dim 9 and hop 8:  22%|██▏       | 4/18 [00:00<00:02,  6.29it/s]\n"
     ]
    },
    {
     "ename": "KeyboardInterrupt",
     "evalue": "",
     "output_type": "error",
     "traceback": [
      "\u001b[0;31m---------------------------------------------------------------------------\u001b[0m",
      "\u001b[0;31mKeyboardInterrupt\u001b[0m                         Traceback (most recent call last)",
      "Cell \u001b[0;32mIn[8], line 6\u001b[0m\n\u001b[1;32m      4\u001b[0m grid \u001b[38;5;241m=\u001b[39m \u001b[38;5;241m2\u001b[39m\n\u001b[1;32m      5\u001b[0m folder \u001b[38;5;241m=\u001b[39m \u001b[38;5;124m\"\u001b[39m\u001b[38;5;124mplots\u001b[39m\u001b[38;5;124m\"\u001b[39m\n\u001b[0;32m----> 6\u001b[0m \u001b[43mplot_graph\u001b[49m\u001b[43m(\u001b[49m\u001b[43mfolder_path\u001b[49m\u001b[43m,\u001b[49m\u001b[43m \u001b[49m\u001b[43mstart\u001b[49m\u001b[43m,\u001b[49m\u001b[43m \u001b[49m\u001b[43mend\u001b[49m\u001b[43m,\u001b[49m\u001b[43m \u001b[49m\u001b[43mgrid\u001b[49m\u001b[43m,\u001b[49m\u001b[43m \u001b[49m\u001b[43mfolder\u001b[49m\u001b[43m)\u001b[49m\n",
      "Cell \u001b[0;32mIn[7], line 24\u001b[0m, in \u001b[0;36mplot_graph\u001b[0;34m(folder_path, start, end, grid, folder)\u001b[0m\n\u001b[1;32m     21\u001b[0m hop_size \u001b[38;5;241m=\u001b[39m i \u001b[38;5;241m-\u001b[39m \u001b[38;5;241m1\u001b[39m\n\u001b[1;32m     23\u001b[0m \u001b[38;5;66;03m# Process the folder to obtain entropy & complexity values.\u001b[39;00m\n\u001b[0;32m---> 24\u001b[0m all_H, all_comp, file_labels \u001b[38;5;241m=\u001b[39m \u001b[43mprocess_folder\u001b[49m\u001b[43m(\u001b[49m\u001b[43mfolder_path\u001b[49m\u001b[43m,\u001b[49m\u001b[43m \u001b[49m\u001b[43mwindow_size\u001b[49m\u001b[43m,\u001b[49m\u001b[43m \u001b[49m\u001b[43mhop_size\u001b[49m\u001b[43m)\u001b[49m\n\u001b[1;32m     25\u001b[0m df \u001b[38;5;241m=\u001b[39m pd\u001b[38;5;241m.\u001b[39mDataFrame({\n\u001b[1;32m     26\u001b[0m     \u001b[38;5;124m\"\u001b[39m\u001b[38;5;124mNormalized Permutation Entropy\u001b[39m\u001b[38;5;124m\"\u001b[39m: all_H,\n\u001b[1;32m     27\u001b[0m     \u001b[38;5;124m\"\u001b[39m\u001b[38;5;124mNormalized Complexity\u001b[39m\u001b[38;5;124m\"\u001b[39m: all_comp,\n\u001b[1;32m     28\u001b[0m     \u001b[38;5;124m\"\u001b[39m\u001b[38;5;124mFile\u001b[39m\u001b[38;5;124m\"\u001b[39m: file_labels\n\u001b[1;32m     29\u001b[0m })\n\u001b[1;32m     31\u001b[0m trace \u001b[38;5;241m=\u001b[39m go\u001b[38;5;241m.\u001b[39mScatter(\n\u001b[1;32m     32\u001b[0m     x\u001b[38;5;241m=\u001b[39mdf[\u001b[38;5;124m\"\u001b[39m\u001b[38;5;124mNormalized Permutation Entropy\u001b[39m\u001b[38;5;124m\"\u001b[39m],\n\u001b[1;32m     33\u001b[0m     y\u001b[38;5;241m=\u001b[39mdf[\u001b[38;5;124m\"\u001b[39m\u001b[38;5;124mNormalized Complexity\u001b[39m\u001b[38;5;124m\"\u001b[39m],\n\u001b[0;32m   (...)\u001b[0m\n\u001b[1;32m     45\u001b[0m     showlegend\u001b[38;5;241m=\u001b[39m\u001b[38;5;28;01mTrue\u001b[39;00m \n\u001b[1;32m     46\u001b[0m )\n",
      "Cell \u001b[0;32mIn[6], line 58\u001b[0m, in \u001b[0;36mprocess_folder\u001b[0;34m(folder_path, window_size, hop_size)\u001b[0m\n\u001b[1;32m     56\u001b[0m \u001b[38;5;28;01mfor\u001b[39;00m file_path \u001b[38;5;129;01min\u001b[39;00m tqdm(all_files, desc\u001b[38;5;241m=\u001b[39m\u001b[38;5;124mf\u001b[39m\u001b[38;5;124m\"\u001b[39m\u001b[38;5;124mProcessing audio files in \u001b[39m\u001b[38;5;132;01m{\u001b[39;00mfolder_path\u001b[38;5;132;01m}\u001b[39;00m\u001b[38;5;124m with dim \u001b[39m\u001b[38;5;132;01m{\u001b[39;00mwindow_size\u001b[38;5;132;01m}\u001b[39;00m\u001b[38;5;124m and hop \u001b[39m\u001b[38;5;132;01m{\u001b[39;00mhop_size\u001b[38;5;132;01m}\u001b[39;00m\u001b[38;5;124m\"\u001b[39m):\n\u001b[1;32m     57\u001b[0m     \u001b[38;5;28;01mtry\u001b[39;00m:\n\u001b[0;32m---> 58\u001b[0m         H_norm, comp \u001b[38;5;241m=\u001b[39m \u001b[43mprocess_audio\u001b[49m\u001b[43m(\u001b[49m\u001b[43mfile_path\u001b[49m\u001b[43m,\u001b[49m\u001b[43m \u001b[49m\u001b[43mwindow_size\u001b[49m\u001b[43m,\u001b[49m\u001b[43m \u001b[49m\u001b[43mhop_size\u001b[49m\u001b[43m)\u001b[49m\n\u001b[1;32m     59\u001b[0m         all_H\u001b[38;5;241m.\u001b[39mappend(H_norm)\n\u001b[1;32m     60\u001b[0m         all_comp\u001b[38;5;241m.\u001b[39mappend(comp)\n",
      "Cell \u001b[0;32mIn[6], line 7\u001b[0m, in \u001b[0;36mprocess_audio\u001b[0;34m(file_path, window_size, hop_size)\u001b[0m\n\u001b[1;32m      4\u001b[0m z_vectors \u001b[38;5;241m=\u001b[39m create_z_vectors(file_path, window_size, hop_size)\n\u001b[1;32m      6\u001b[0m \u001b[38;5;66;03m# 2. Compute ordinal (ranking) pattern for each window\u001b[39;00m\n\u001b[0;32m----> 7\u001b[0m ranked_z_vectors \u001b[38;5;241m=\u001b[39m np\u001b[38;5;241m.\u001b[39marray([rank_vector(z) \u001b[38;5;28;01mfor\u001b[39;00m z \u001b[38;5;129;01min\u001b[39;00m z_vectors])\n\u001b[1;32m      9\u001b[0m \u001b[38;5;66;03m# 3. Compute the probability distribution over the observed unique patterns\u001b[39;00m\n\u001b[1;32m     10\u001b[0m probabilities, unique_patterns \u001b[38;5;241m=\u001b[39m row_probabilities_unique(ranked_z_vectors)\n",
      "\u001b[0;31mKeyboardInterrupt\u001b[0m: "
     ]
    }
   ],
   "source": [
    "folder_path = \"data/SinAndNoise\"\n",
    "start = 4\n",
    "end = 10\n",
    "grid = 2\n",
    "folder = \"plots\"\n",
    "plot_graph(folder_path, start, end, grid, folder)"
   ]
  },
  {
   "cell_type": "markdown",
   "metadata": {},
   "source": [
    "Blues"
   ]
  },
  {
   "cell_type": "code",
   "execution_count": null,
   "metadata": {},
   "outputs": [
    {
     "name": "stderr",
     "output_type": "stream",
     "text": [
      "Processing audio files in data/genres_30sec/blues with dim 4 and hop 3: 100%|██████████| 100/100 [00:56<00:00,  1.76it/s]\n",
      "Processing audio files in data/genres_30sec/blues with dim 5 and hop 4: 100%|██████████| 100/100 [00:44<00:00,  2.24it/s]\n",
      "Processing audio files in data/genres_30sec/blues with dim 6 and hop 5: 100%|██████████| 100/100 [00:36<00:00,  2.76it/s]\n",
      "Processing audio files in data/genres_30sec/blues with dim 7 and hop 6: 100%|██████████| 100/100 [00:31<00:00,  3.13it/s]\n",
      "Processing audio files in data/genres_30sec/blues with dim 8 and hop 7: 100%|██████████| 100/100 [00:31<00:00,  3.21it/s]\n",
      "Processing audio files in data/genres_30sec/blues with dim 9 and hop 8: 100%|██████████| 100/100 [00:34<00:00,  2.92it/s]\n"
     ]
    },
    {
     "data": {
      "application/vnd.plotly.v1+json": {
       "config": {
        "plotlyServerURL": "https://plot.ly"
       },
       "data": [
        {
         "hovertemplate": "Entropy: %{x}<br>Complexity: %{y}<br>File: %{text}<extra></extra>",
         "marker": {
          "color": {
           "bdata": "05zcPlZm0T9ky62BjGTMP4YIjZvGgMg/EL2Jd4mKwj/FDRrgktnFPwYD6yfjuMM/HcWWhi3Swz/T/GiOjm3MPwoVvyrspc4/KI415KNk0D9SKzj9ROnJP2ET+sidOMo/FgSoVur7wj8IlcU5BbrLP0CWsbmk084/4C1ixrzbwD8oGPYJZqXQP1fVXToccc8/DAqWYw7Oyz+wDnrdDLPNP4ZXpmXU5MM/Idj6dwpqyT/c6ns3v5vLP1zjV6EwpMA/8mu4Bebozj9wc+QDtKzMP2dY5xIeDNA/rB5R2ileyD/oahD6ibLFP77y9y3QUcs/6359AdD3vj/49yqE9KbDP/aRaTwP+co/fzx6rNudxD9ICQcSx4bGPxwWNEHGWs8/R+mPIBb0xj9ZqOb3CLPQPwVOhBq+M88/e8IU4M0wyj9c14V/hJPQP9WoYYaBmMk/RnQ3l/YuyT9YCT8vwf3QP/5M5FgTEck/FxRbj+pT0D+7H3z1OTTKP/KkaWfvG9A/ZDAoDE6Oxz/bbMtYGfrFP3yyHrn0aMs/GrGEavzpxz+SN3aCqbHLP/hQmOFHL9A/5PvVkqNl0D8MYZhIl6TOP5AbjW9Pg9A/e9VdvQ8v0T9LYPjURw/QP+iN+g4588w/oIo5LyrWzT+EMzxwRD3NP7Aps8qDXc4/OsBOJl5/xj+3BcFWQv3QP8Del9ApnM8/zgOqXhfT0D81seBg95PKP3akwxtUwss/uxTdIVknzj9Rjh2FfAnHP5Wzvt5jdcU/bEraESRQ0T/pZgHd/yDPP0jJA/kQHc8/5KLr20eayz+KzBEzU5PGPxEComnU7MM/ofdWU7oeyj/tiKg3ZPrJPxiprIsqaMY/gZzEiaztyD/ELIm7DjbOP0mlYjuf+sQ/goqucbNuwT8SElnpoBTIP1SQsUPRZcg/4+e0M0XqxT8oxuyPpBXQP/M+NTvRpME/K1dOTIYBxz8wzUDu9QDDPycRhacsOcg/4wQgvlAQ0T+99EddaCTFPwA0XKGs7r0/dYNKy20dyz+KbNaJmb7HP/3KuQCQRsQ/o64csv5vyj8=",
           "dtype": "f8"
          },
          "colorscale": [
           [
            0,
            "#0508b8"
           ],
           [
            0.08333333333333333,
            "#1910d8"
           ],
           [
            0.16666666666666666,
            "#3c19f0"
           ],
           [
            0.25,
            "#6b1cfb"
           ],
           [
            0.3333333333333333,
            "#981cfd"
           ],
           [
            0.4166666666666667,
            "#bf1cfd"
           ],
           [
            0.5,
            "#dd2bfd"
           ],
           [
            0.5833333333333334,
            "#f246fe"
           ],
           [
            0.6666666666666666,
            "#fc67fd"
           ],
           [
            0.75,
            "#fe88fc"
           ],
           [
            0.8333333333333334,
            "#fea5fd"
           ],
           [
            0.9166666666666666,
            "#febefe"
           ],
           [
            1,
            "#fec3fe"
           ]
          ],
          "size": 10
         },
         "mode": "markers",
         "name": "Dim = 4, Hop = 3",
         "showlegend": true,
         "text": [
          "blues.00093.wav",
          "blues.00087.wav",
          "blues.00050.wav",
          "blues.00044.wav",
          "blues.00078.wav",
          "blues.00079.wav",
          "blues.00045.wav",
          "blues.00051.wav",
          "blues.00086.wav",
          "blues.00092.wav",
          "blues.00084.wav",
          "blues.00090.wav",
          "blues.00047.wav",
          "blues.00053.wav",
          "blues.00052.wav",
          "blues.00046.wav",
          "blues.00091.wav",
          "blues.00085.wav",
          "blues.00081.wav",
          "blues.00095.wav",
          "blues.00042.wav",
          "blues.00056.wav",
          "blues.00057.wav",
          "blues.00043.wav",
          "blues.00094.wav",
          "blues.00080.wav",
          "blues.00096.wav",
          "blues.00082.wav",
          "blues.00069.wav",
          "blues.00055.wav",
          "blues.00041.wav",
          "blues.00040.wav",
          "blues.00054.wav",
          "blues.00068.wav",
          "blues.00083.wav",
          "blues.00097.wav",
          "blues.00033.wav",
          "blues.00027.wav",
          "blues.00026.wav",
          "blues.00032.wav",
          "blues.00024.wav",
          "blues.00030.wav",
          "blues.00018.wav",
          "blues.00019.wav",
          "blues.00031.wav",
          "blues.00025.wav",
          "blues.00009.wav",
          "blues.00021.wav",
          "blues.00035.wav",
          "blues.00034.wav",
          "blues.00020.wav",
          "blues.00008.wav",
          "blues.00036.wav",
          "blues.00022.wav",
          "blues.00023.wav",
          "blues.00037.wav",
          "blues.00012.wav",
          "blues.00006.wav",
          "blues.00007.wav",
          "blues.00013.wav",
          "blues.00005.wav",
          "blues.00011.wav",
          "blues.00039.wav",
          "blues.00038.wav",
          "blues.00010.wav",
          "blues.00004.wav",
          "blues.00028.wav",
          "blues.00000.wav",
          "blues.00014.wav",
          "blues.00015.wav",
          "blues.00001.wav",
          "blues.00029.wav",
          "blues.00017.wav",
          "blues.00003.wav",
          "blues.00002.wav",
          "blues.00016.wav",
          "blues.00071.wav",
          "blues.00065.wav",
          "blues.00059.wav",
          "blues.00058.wav",
          "blues.00064.wav",
          "blues.00070.wav",
          "blues.00099.wav",
          "blues.00066.wav",
          "blues.00072.wav",
          "blues.00073.wav",
          "blues.00067.wav",
          "blues.00098.wav",
          "blues.00088.wav",
          "blues.00063.wav",
          "blues.00077.wav",
          "blues.00076.wav",
          "blues.00062.wav",
          "blues.00089.wav",
          "blues.00048.wav",
          "blues.00074.wav",
          "blues.00060.wav",
          "blues.00061.wav",
          "blues.00075.wav",
          "blues.00049.wav"
         ],
         "type": "scatter",
         "x": {
          "bdata": "LTEq27gB3z8/GyAKlYXnPxu3lYH28+k/cdz6t27t6z8AkLto68bqP+8tg0GRe+s/AMxgwVeN6z+JLIDmnrLoP2d/4N476OU/7dh1xyzi4z+rfYRZgBzpP1mnqYkknug/dUJRkW/a6z8s5wYN/h/pPwDZK+vUOec/hFbfYmVK7D/jOwZNIafjP7NG+93hxeU/l6tlCZLI6D9bGDS/GZjmP2kV3Jqyies/XglL3qKf6T9vX4/kvtDoP7/rYBWJSew/58t/bekl5j/m1vqLlA/oP+ZVgVCqkOQ/7UYihwzF6T/33u334ynrPzycc0gzOOk/Xj8zTJ2m7D/qyKm8v7rrP35G1Ve6Iuk/oMhspuB46z8evOZLpLfqPyeHzKsLAOY/yAxdWUJu6T9dDyCGffrlPy6TWwa3f+Y/vTYdN4795z+anwk46FTlP1QaCe4OL+g/uD62fmTQ6D+S4ukzAwTkPwyzejU+fug/dbpf94PD5T+NgaZvWvPoP12pjKX7AeU/uKR6XMNB6T/ivbQo7ATqP8kJtCchpuc/nCgLSf3C6T9hJ6xbNzPnP2bw54EhXeU/xHRzZ4KO5T8GplWnX47lP9K4iDNU5uU/U3CXaPFu5D8aOEr8f9XlPwyrwU3VDOc/boeuylss5z9d3fGc+OjmPy0IQk5AaOU/lO9F5was6T9i3chNWtTjP0uUevbyWOY/rm/qZei55D8tnNKhD7boP08rcNw1puc/G3oImjzC5j/brYK0MrXpP2Ih3bfuHOo/esC0oWDv4z/Y8meyaIXlP9S2JlE9OOY/qiFMOZnL5z+Ole8bgPzqPye/9NtlrOs/XeR4tiTk6T/Ybx1XT6DpP2arsstQI+s/9eK3hSWh6T/FRLH80RHnPwV8yHReOus/j61ovYN27D+knOCkxyzqP8IcUVrYIeo/K+2DVyEN6z/tiGUBd/7kP07iAkkRVuw/9UWJ3j9C6j9+PypanMbrP7B6Ah7EYOo/NwEvFNJt4j8Aj/8J/h/rPy9xG72zu+w/xQfrcmAc6T8hmoSkytrqP1SfVK+8P+s/4fu5yQif6D8=",
          "dtype": "f8"
         },
         "xaxis": "x",
         "y": {
          "bdata": "05zcPlZm0T9ky62BjGTMP4YIjZvGgMg/EL2Jd4mKwj/FDRrgktnFPwYD6yfjuMM/HcWWhi3Swz/T/GiOjm3MPwoVvyrspc4/KI415KNk0D9SKzj9ROnJP2ET+sidOMo/FgSoVur7wj8IlcU5BbrLP0CWsbmk084/4C1ixrzbwD8oGPYJZqXQP1fVXToccc8/DAqWYw7Oyz+wDnrdDLPNP4ZXpmXU5MM/Idj6dwpqyT/c6ns3v5vLP1zjV6EwpMA/8mu4Bebozj9wc+QDtKzMP2dY5xIeDNA/rB5R2ileyD/oahD6ibLFP77y9y3QUcs/6359AdD3vj/49yqE9KbDP/aRaTwP+co/fzx6rNudxD9ICQcSx4bGPxwWNEHGWs8/R+mPIBb0xj9ZqOb3CLPQPwVOhBq+M88/e8IU4M0wyj9c14V/hJPQP9WoYYaBmMk/RnQ3l/YuyT9YCT8vwf3QP/5M5FgTEck/FxRbj+pT0D+7H3z1OTTKP/KkaWfvG9A/ZDAoDE6Oxz/bbMtYGfrFP3yyHrn0aMs/GrGEavzpxz+SN3aCqbHLP/hQmOFHL9A/5PvVkqNl0D8MYZhIl6TOP5AbjW9Pg9A/e9VdvQ8v0T9LYPjURw/QP+iN+g4588w/oIo5LyrWzT+EMzxwRD3NP7Aps8qDXc4/OsBOJl5/xj+3BcFWQv3QP8Del9ApnM8/zgOqXhfT0D81seBg95PKP3akwxtUwss/uxTdIVknzj9Rjh2FfAnHP5Wzvt5jdcU/bEraESRQ0T/pZgHd/yDPP0jJA/kQHc8/5KLr20eayz+KzBEzU5PGPxEComnU7MM/ofdWU7oeyj/tiKg3ZPrJPxiprIsqaMY/gZzEiaztyD/ELIm7DjbOP0mlYjuf+sQ/goqucbNuwT8SElnpoBTIP1SQsUPRZcg/4+e0M0XqxT8oxuyPpBXQP/M+NTvRpME/K1dOTIYBxz8wzUDu9QDDPycRhacsOcg/4wQgvlAQ0T+99EddaCTFPwA0XKGs7r0/dYNKy20dyz+KbNaJmb7HP/3KuQCQRsQ/o64csv5vyj8=",
          "dtype": "f8"
         },
         "yaxis": "y"
        },
        {
         "hovertemplate": "Entropy: %{x}<br>Complexity: %{y}<br>File: %{text}<extra></extra>",
         "marker": {
          "color": {
           "bdata": "YdpSY0QY0j+YWq5p8hfSP6p5bDpxFNE/bhNHztPbyz//vzB4mqbPP7bXo1VQ18w/hqTUir2ozT/XW/hrrGbTP3giG6VFRNI/mJw1DXuq0j9JARWsz4rRP06xa76FEdE/E3+sitLszD+/cQvgKi/TP1f1QxO+/tM/vkb+ZQTByT9JOaec9xfTP4pAmHGVPNM/JIW8XuQB0z/Gbo+AsTHSP3UgQPvpUs0/8Q1kVWCC0T8e9ndeOaPSPw4WdXGYm8k/SG0YuicB0z/DxcbEKgrTP+mPk1+so9I/UGRRsvTf0D8zBYqe3RbQP135MQ4k5NI/kylBYFaPxz85aKnIbgjNP5V7VWRsYtI/4Bt1EeAgzj+Bt82PKSrQP7ZppguFL9M/cc2pVP/bzz+MG4foxm7VP0xFXLZB09M/5qDUnxyx0D9OIdCVz3XUP2esjGIwjtA/f17I8Vtx0D8vhc9HmDbUP/JCZSVwdtA/qQo6VoeC1D9mIcUn2J7RP1lRlvB6XdM/leOjb/Tlzz80ouDOP2vPP9glgEQWatE/vrYgL1ds0D+lHKSoO2PRP0FwCueo59M//Lb1l79v1D/4pz40XUHSPztsgClp/dQ/icpUrUbU1D96hyMNX+vTP9Q2A54gTNI/kxM1JhCw0j9y47trtBbSP5stXmk1pdE/v3GNaHblzj8m9m7NIO3TP9d/p8tX2NM/yPa0nS521D+BP29/jsXRPzMScsLRtdE/W42+9I0Z0z9VBBlUuMTPPzvsu2niUM4/JfK6ytbk1D+Ru8xszrTSP7dVpVa1etM/f/4c/LG+0T/A/rqCpF/QP6/xcB2vUc0/9dQnpvRt0j8wtgEyYu7RPyou7WnWNdA/+muzja5T0T9M4qJEn13TP0z9prsQys4/PRIq60Fayj/7RTBHMRLRPzy8V1BZRtE/LciOv6Onzz8RS6a0AzTTP9mAsPC4MMo/6loYFRkV0D/Am1oba/vLP8+YIjScZtE/78xLVHv50j9q5oC7GqvOPzSH8d3y5cc/9T9BKeO70j+qxGYRnx3RP3JG2mJnM80/IzVXLy+R0T8=",
           "dtype": "f8"
          },
          "colorscale": [
           [
            0,
            "#0508b8"
           ],
           [
            0.08333333333333333,
            "#1910d8"
           ],
           [
            0.16666666666666666,
            "#3c19f0"
           ],
           [
            0.25,
            "#6b1cfb"
           ],
           [
            0.3333333333333333,
            "#981cfd"
           ],
           [
            0.4166666666666667,
            "#bf1cfd"
           ],
           [
            0.5,
            "#dd2bfd"
           ],
           [
            0.5833333333333334,
            "#f246fe"
           ],
           [
            0.6666666666666666,
            "#fc67fd"
           ],
           [
            0.75,
            "#fe88fc"
           ],
           [
            0.8333333333333334,
            "#fea5fd"
           ],
           [
            0.9166666666666666,
            "#febefe"
           ],
           [
            1,
            "#fec3fe"
           ]
          ],
          "size": 10
         },
         "mode": "markers",
         "name": "Dim = 5, Hop = 4",
         "showlegend": true,
         "text": [
          "blues.00093.wav",
          "blues.00087.wav",
          "blues.00050.wav",
          "blues.00044.wav",
          "blues.00078.wav",
          "blues.00079.wav",
          "blues.00045.wav",
          "blues.00051.wav",
          "blues.00086.wav",
          "blues.00092.wav",
          "blues.00084.wav",
          "blues.00090.wav",
          "blues.00047.wav",
          "blues.00053.wav",
          "blues.00052.wav",
          "blues.00046.wav",
          "blues.00091.wav",
          "blues.00085.wav",
          "blues.00081.wav",
          "blues.00095.wav",
          "blues.00042.wav",
          "blues.00056.wav",
          "blues.00057.wav",
          "blues.00043.wav",
          "blues.00094.wav",
          "blues.00080.wav",
          "blues.00096.wav",
          "blues.00082.wav",
          "blues.00069.wav",
          "blues.00055.wav",
          "blues.00041.wav",
          "blues.00040.wav",
          "blues.00054.wav",
          "blues.00068.wav",
          "blues.00083.wav",
          "blues.00097.wav",
          "blues.00033.wav",
          "blues.00027.wav",
          "blues.00026.wav",
          "blues.00032.wav",
          "blues.00024.wav",
          "blues.00030.wav",
          "blues.00018.wav",
          "blues.00019.wav",
          "blues.00031.wav",
          "blues.00025.wav",
          "blues.00009.wav",
          "blues.00021.wav",
          "blues.00035.wav",
          "blues.00034.wav",
          "blues.00020.wav",
          "blues.00008.wav",
          "blues.00036.wav",
          "blues.00022.wav",
          "blues.00023.wav",
          "blues.00037.wav",
          "blues.00012.wav",
          "blues.00006.wav",
          "blues.00007.wav",
          "blues.00013.wav",
          "blues.00005.wav",
          "blues.00011.wav",
          "blues.00039.wav",
          "blues.00038.wav",
          "blues.00010.wav",
          "blues.00004.wav",
          "blues.00028.wav",
          "blues.00000.wav",
          "blues.00014.wav",
          "blues.00015.wav",
          "blues.00001.wav",
          "blues.00029.wav",
          "blues.00017.wav",
          "blues.00003.wav",
          "blues.00002.wav",
          "blues.00016.wav",
          "blues.00071.wav",
          "blues.00065.wav",
          "blues.00059.wav",
          "blues.00058.wav",
          "blues.00064.wav",
          "blues.00070.wav",
          "blues.00099.wav",
          "blues.00066.wav",
          "blues.00072.wav",
          "blues.00073.wav",
          "blues.00067.wav",
          "blues.00098.wav",
          "blues.00088.wav",
          "blues.00063.wav",
          "blues.00077.wav",
          "blues.00076.wav",
          "blues.00062.wav",
          "blues.00089.wav",
          "blues.00048.wav",
          "blues.00074.wav",
          "blues.00060.wav",
          "blues.00061.wav",
          "blues.00075.wav",
          "blues.00049.wav"
         ],
         "type": "scatter",
         "x": {
          "bdata": "G6tBMZf32j8Ey77eRAfmP6FoXpnN7Og/6obwpooZ6z8yFJgXjbvpP0jL1bHGneo/FDhv2wak6j9UKL7vcIDnP9DlcIGyRuQ/AdO/5sIK4j+Xx76ap/jnPwFeYq2aRuc/Tyw2Ycj06j8WLGsrIvLnPx+lGgdC6+U/fGWGUM5w6z/Bxwu5vPXhP+K+xg3JSOQ/UkKDsQih5z85MtY/iRvlP008yYfbsuo/1qEFw7+W6D9yKbSOy7HnP0eQ4xDNXes/FZMMlGGh5D9DfSoL89HmPwc9aFIgyuI/eruRfiyl6D/rWHR2WTLqPwIvz273F+g/7K/w0LHt6z+gHISSqPTqP07lBjjmGOg/0VavfTyr6j8sO1HyLcjpP+nAdtr7ieQ/zixAh4Yh5z+VOieBR4TkP6XuQQRQ+OQ/54d9Phjt5T+C39kGv8PjPwaO5afl/+U/sQNDqp5c5z8YdiHNOVfiP/ppXxfYX+Y/lKUrJ5k+5D9VHI2BRKznP8OU4eD1VuM/QagCUKNa5z+OCqRnlwPoP8zj+kyiAuY/dWFRlV6d6D9txdbZlQvlP85rq5t+y+M/tHhXrQQI5D9U4qHl55TjP9D3OVFIY+Q/nvF4g+Da4j+pSOuqPFbkP5J4ZVFhheU/S2RD307V5T/u6TPpCUflP7iHor09UeM/LKee4X+y5z+LoQ/wihriPyb4VX5vAOU/UpZztk4j4z8q2nYySHznP7CCqTZAH+Y/5ivp6ftO5T9ZiTU1Ji3oP1i12rEFJOg/8HFkLyhK4j8XwGRZBsfjPxhUnnpxwOQ/qfzkCqBZ5j87BAgwQhzqP1gSmiaU5eo/ZCuVxwTM6D9dKAw1+pfoP2b+ky5TU+o/f3TpV6xt6D8aaBBhRbblP3NkYCGAT+o/zHQBAe7V6z/CSJvfVC3pP5Hs9UxPHOk/q1F2vCAz6j8O3nDsuGXjPyEx0uKFv+s/goNeQds16T8z5TZtYQDrP7IJh3gHYOk/S4WIU/iX4D8k81laUDfqP4wE2yrOzOs/zg0baBHv5z94zFAiLPXpP4u7ULvtWuo/fl5bHxcK5z8=",
          "dtype": "f8"
         },
         "xaxis": "x2",
         "y": {
          "bdata": "YdpSY0QY0j+YWq5p8hfSP6p5bDpxFNE/bhNHztPbyz//vzB4mqbPP7bXo1VQ18w/hqTUir2ozT/XW/hrrGbTP3giG6VFRNI/mJw1DXuq0j9JARWsz4rRP06xa76FEdE/E3+sitLszD+/cQvgKi/TP1f1QxO+/tM/vkb+ZQTByT9JOaec9xfTP4pAmHGVPNM/JIW8XuQB0z/Gbo+AsTHSP3UgQPvpUs0/8Q1kVWCC0T8e9ndeOaPSPw4WdXGYm8k/SG0YuicB0z/DxcbEKgrTP+mPk1+so9I/UGRRsvTf0D8zBYqe3RbQP135MQ4k5NI/kylBYFaPxz85aKnIbgjNP5V7VWRsYtI/4Bt1EeAgzj+Bt82PKSrQP7ZppguFL9M/cc2pVP/bzz+MG4foxm7VP0xFXLZB09M/5qDUnxyx0D9OIdCVz3XUP2esjGIwjtA/f17I8Vtx0D8vhc9HmDbUP/JCZSVwdtA/qQo6VoeC1D9mIcUn2J7RP1lRlvB6XdM/leOjb/Tlzz80ouDOP2vPP9glgEQWatE/vrYgL1ds0D+lHKSoO2PRP0FwCueo59M//Lb1l79v1D/4pz40XUHSPztsgClp/dQ/icpUrUbU1D96hyMNX+vTP9Q2A54gTNI/kxM1JhCw0j9y47trtBbSP5stXmk1pdE/v3GNaHblzj8m9m7NIO3TP9d/p8tX2NM/yPa0nS521D+BP29/jsXRPzMScsLRtdE/W42+9I0Z0z9VBBlUuMTPPzvsu2niUM4/JfK6ytbk1D+Ru8xszrTSP7dVpVa1etM/f/4c/LG+0T/A/rqCpF/QP6/xcB2vUc0/9dQnpvRt0j8wtgEyYu7RPyou7WnWNdA/+muzja5T0T9M4qJEn13TP0z9prsQys4/PRIq60Fayj/7RTBHMRLRPzy8V1BZRtE/LciOv6Onzz8RS6a0AzTTP9mAsPC4MMo/6loYFRkV0D/Am1oba/vLP8+YIjScZtE/78xLVHv50j9q5oC7GqvOPzSH8d3y5cc/9T9BKeO70j+qxGYRnx3RP3JG2mJnM80/IzVXLy+R0T8=",
          "dtype": "f8"
         },
         "yaxis": "y2"
        },
        {
         "hovertemplate": "Entropy: %{x}<br>Complexity: %{y}<br>File: %{text}<extra></extra>",
         "marker": {
          "color": {
           "bdata": "mk7zGNTO0j9RoNPPRNDVP54ir7vU39U/8EPVW0f10j/6VWC24M/UP1wzumLyaNM/N44vavfk0z9aSQfMxRfYP/5WzFif99Q/+cH5Z5+x1D8aTx5lrTTWP3gXYJvS4dQ/msLSqv+W0z8JU6HKB/rXP8EA2j+W9dc/PLGMw4+L0T9NNCSk7F7VP31BLMVImdY/NdzRJGXu1z8qGm/AqnzVP9SqNDzCu9M/BRRpA9cW1j8LK/THSDLXP1mD21gDwtE/xBTG3cBB1j+NYkqkqpjXP3tfdctBC9U/izOoAISb1T83DHzAQlDVP/9sUYyCmdc/i7Rc4rVk0D/IMi7YdW7TP08eIRMQKdc/TUV5q0z70z+QQk5T9EbVPxYk9Q44ZdY/a81T2S9U0z9cPFJTL23ZP0/Dttpredc/2u0tGcy40z+N0RFEnsvXP0BtkK1JodM/ngDpZg0T1D/qDiWNp97WP4lo5S1/vNM/Dg4R09Qk2D8dUbBMk/PVPzjH4IIIKtY/fZATWtLR0z+u+idVfLLTP35t7tC04dQ/e7sX/PAE1T8ckTRx3ELUP8lcX0i4Ftc/SltkE1P31z/t8kxKIvDUP2Pkt/TOstg/ZdcgW7nK1z/EqJUqF2vXP1q3flQduNU/m5fBs4s/1j+WdSCpWz3VPz+n6s6Z1dM/VOgtJDgX0z8en0GMAY3WP7l0nBRastc/vezG55+X1z+OsxTNT0vWP3Nu+6pFQdU/Gz0wpwvI1j9k4IyzwwrUP2/iol2E8NI/J0tyP+jO1z+gFHq18KHVP+gFKMwDF9c/ITX87j921T94jnm504PVP/FR2lbJkdM/Ap4htJhE1z/395f28JXWPy+QizHdUtU/g40RmbwK1j8ke4x5IlfXP6/gHRtrX9Q/Y7DcX29H0j+SHEUD8iLWP+k8T4pkW9Y/X2AS+Uy51D8zjiuhtyzWPxR/NRKN4tE/+k/rYbHq1D98Il9W/PTSP6ZmLdjgxtY/GmJri3uw1D8Uj06EA0zUP8Ge6gZf4dA/Qj5W4DGb1z/lUIYh9FvWP+O+mInNZdM/4ZVfxzBx1T8=",
           "dtype": "f8"
          },
          "colorscale": [
           [
            0,
            "#0508b8"
           ],
           [
            0.08333333333333333,
            "#1910d8"
           ],
           [
            0.16666666666666666,
            "#3c19f0"
           ],
           [
            0.25,
            "#6b1cfb"
           ],
           [
            0.3333333333333333,
            "#981cfd"
           ],
           [
            0.4166666666666667,
            "#bf1cfd"
           ],
           [
            0.5,
            "#dd2bfd"
           ],
           [
            0.5833333333333334,
            "#f246fe"
           ],
           [
            0.6666666666666666,
            "#fc67fd"
           ],
           [
            0.75,
            "#fe88fc"
           ],
           [
            0.8333333333333334,
            "#fea5fd"
           ],
           [
            0.9166666666666666,
            "#febefe"
           ],
           [
            1,
            "#fec3fe"
           ]
          ],
          "size": 10
         },
         "mode": "markers",
         "name": "Dim = 6, Hop = 5",
         "showlegend": true,
         "text": [
          "blues.00093.wav",
          "blues.00087.wav",
          "blues.00050.wav",
          "blues.00044.wav",
          "blues.00078.wav",
          "blues.00079.wav",
          "blues.00045.wav",
          "blues.00051.wav",
          "blues.00086.wav",
          "blues.00092.wav",
          "blues.00084.wav",
          "blues.00090.wav",
          "blues.00047.wav",
          "blues.00053.wav",
          "blues.00052.wav",
          "blues.00046.wav",
          "blues.00091.wav",
          "blues.00085.wav",
          "blues.00081.wav",
          "blues.00095.wav",
          "blues.00042.wav",
          "blues.00056.wav",
          "blues.00057.wav",
          "blues.00043.wav",
          "blues.00094.wav",
          "blues.00080.wav",
          "blues.00096.wav",
          "blues.00082.wav",
          "blues.00069.wav",
          "blues.00055.wav",
          "blues.00041.wav",
          "blues.00040.wav",
          "blues.00054.wav",
          "blues.00068.wav",
          "blues.00083.wav",
          "blues.00097.wav",
          "blues.00033.wav",
          "blues.00027.wav",
          "blues.00026.wav",
          "blues.00032.wav",
          "blues.00024.wav",
          "blues.00030.wav",
          "blues.00018.wav",
          "blues.00019.wav",
          "blues.00031.wav",
          "blues.00025.wav",
          "blues.00009.wav",
          "blues.00021.wav",
          "blues.00035.wav",
          "blues.00034.wav",
          "blues.00020.wav",
          "blues.00008.wav",
          "blues.00036.wav",
          "blues.00022.wav",
          "blues.00023.wav",
          "blues.00037.wav",
          "blues.00012.wav",
          "blues.00006.wav",
          "blues.00007.wav",
          "blues.00013.wav",
          "blues.00005.wav",
          "blues.00011.wav",
          "blues.00039.wav",
          "blues.00038.wav",
          "blues.00010.wav",
          "blues.00004.wav",
          "blues.00028.wav",
          "blues.00000.wav",
          "blues.00014.wav",
          "blues.00015.wav",
          "blues.00001.wav",
          "blues.00029.wav",
          "blues.00017.wav",
          "blues.00003.wav",
          "blues.00002.wav",
          "blues.00016.wav",
          "blues.00071.wav",
          "blues.00065.wav",
          "blues.00059.wav",
          "blues.00058.wav",
          "blues.00064.wav",
          "blues.00070.wav",
          "blues.00099.wav",
          "blues.00066.wav",
          "blues.00072.wav",
          "blues.00073.wav",
          "blues.00067.wav",
          "blues.00098.wav",
          "blues.00088.wav",
          "blues.00063.wav",
          "blues.00077.wav",
          "blues.00076.wav",
          "blues.00062.wav",
          "blues.00089.wav",
          "blues.00048.wav",
          "blues.00074.wav",
          "blues.00060.wav",
          "blues.00061.wav",
          "blues.00075.wav",
          "blues.00049.wav"
         ],
         "type": "scatter",
         "x": {
          "bdata": "AYi/aIeV2D8PAGGLfQLlPwUD5dfKOug/5RoG85t46j+FOByRqwvpPzVnHaw5+Ok/84seTr/46T9lyedwqdDmP/AqsiBvO+M/ggfQLdze4D/hY221DiTnP70Df3k2V+Y/Dhk/LvtV6j8fg+lVC0DnP94KpU/ZF+U/dVJ8vaHB6j/aB7CN8dHgPx7hlQjWTuM/NU1bmbbk5j8rkm8FqBbkP0q6USN2Eeo/GoFdpGzj5z+epkbYM/bmP7jui2yToOo/0EMUhiiq4z8mfnnvowDmP9wGAuFPouE/dkUkL4jd5z8qqyIvm4jpP+QO1/kRZec/VHBpVHZS6z+oxBZ23m3qP4tZUFXXW+c/Uzy+TSQj6j/NP2bUSx7pPxUg0ajokuM/OWOFzNuM5T/Rrft3zpHjP5z9ip7pAuQ/WBqdOeGQ5D+h5r97db7iPxzd6cuzheQ/KlWDQsNO5j81TpZOyE3hP792jKDi6+Q/CHdcVY064z92eV2EDsbmP78HU+z/PeI/I2pSURn95T/OUW/DiJ7mPyVs2YtH5+Q/7Fz+1avB5z/A4z9tGqTjP9/iBo0CuuI/GWa4ccAD4z++BLktpU7iP4YQVUlhcOM/sS4NTjfi4T8OjXMyMWDjP945dYn5eOQ/JP+3LpHs5D/xzYY3VTPkP6b/ZxnM+OE/hqW1OBdR5j8Em37p1hjhP0zVMzhUE+Q/7uNGrzsc4j9/Rf/9iZrmP2GD7b9MCeU/5TC1Ka5U5D/kIshqthLnP2ZKz4EBweY/6liYTrlL4T/+vjjZia3iP88m0wMO1eM/hCm55k5N5T/4WmrLQ5DpP8bPylZhYOo/+TogKeUq6D84si4l0/nnP4mezyvC0uk/6i+2nYKa5z9aRw8f4czkPx7xOyWHr+k/Ka19Pf006z9TyBHp+XvoPy3AVs1xaOg/U9CtEoau6T9URHfC7FziP61krLruSOs/lKmXzrFr6D+mqgkYTGDqPyZ3Uau+rug/zbDHcSfn3j9n4GXo0I7pP7Cy1xihCOs/1vCfXfwz5z94DWNJfH3pP+qRe/ohqek/PH9/yZzU5T8=",
          "dtype": "f8"
         },
         "xaxis": "x3",
         "y": {
          "bdata": "mk7zGNTO0j9RoNPPRNDVP54ir7vU39U/8EPVW0f10j/6VWC24M/UP1wzumLyaNM/N44vavfk0z9aSQfMxRfYP/5WzFif99Q/+cH5Z5+x1D8aTx5lrTTWP3gXYJvS4dQ/msLSqv+W0z8JU6HKB/rXP8EA2j+W9dc/PLGMw4+L0T9NNCSk7F7VP31BLMVImdY/NdzRJGXu1z8qGm/AqnzVP9SqNDzCu9M/BRRpA9cW1j8LK/THSDLXP1mD21gDwtE/xBTG3cBB1j+NYkqkqpjXP3tfdctBC9U/izOoAISb1T83DHzAQlDVP/9sUYyCmdc/i7Rc4rVk0D/IMi7YdW7TP08eIRMQKdc/TUV5q0z70z+QQk5T9EbVPxYk9Q44ZdY/a81T2S9U0z9cPFJTL23ZP0/Dttpredc/2u0tGcy40z+N0RFEnsvXP0BtkK1JodM/ngDpZg0T1D/qDiWNp97WP4lo5S1/vNM/Dg4R09Qk2D8dUbBMk/PVPzjH4IIIKtY/fZATWtLR0z+u+idVfLLTP35t7tC04dQ/e7sX/PAE1T8ckTRx3ELUP8lcX0i4Ftc/SltkE1P31z/t8kxKIvDUP2Pkt/TOstg/ZdcgW7nK1z/EqJUqF2vXP1q3flQduNU/m5fBs4s/1j+WdSCpWz3VPz+n6s6Z1dM/VOgtJDgX0z8en0GMAY3WP7l0nBRastc/vezG55+X1z+OsxTNT0vWP3Nu+6pFQdU/Gz0wpwvI1j9k4IyzwwrUP2/iol2E8NI/J0tyP+jO1z+gFHq18KHVP+gFKMwDF9c/ITX87j921T94jnm504PVP/FR2lbJkdM/Ap4htJhE1z/395f28JXWPy+QizHdUtU/g40RmbwK1j8ke4x5IlfXP6/gHRtrX9Q/Y7DcX29H0j+SHEUD8iLWP+k8T4pkW9Y/X2AS+Uy51D8zjiuhtyzWPxR/NRKN4tE/+k/rYbHq1D98Il9W/PTSP6ZmLdjgxtY/GmJri3uw1D8Uj06EA0zUP8Ge6gZf4dA/Qj5W4DGb1z/lUIYh9FvWP+O+mInNZdM/4ZVfxzBx1T8=",
          "dtype": "f8"
         },
         "yaxis": "y3"
        },
        {
         "hovertemplate": "Entropy: %{x}<br>Complexity: %{y}<br>File: %{text}<extra></extra>",
         "marker": {
          "color": {
           "bdata": "J+yrrX1p0z9nm/m01SrZP7YrIOAAlNo/19rZczQd2D/YKInM28XZP+gV4CblWNg/ye0mZGzw2D+1E9HouVncP7o9mmPghNc/UBhnYJt61j+AIMI+SmHaPxy3pcLgktg/m5+5gmTB2D/N2ArUtkbcP/e43DUudts/Zl0ZIUh31j/6eArn9lvXP/xfh0u1n9k/lq1Jc7913D8LVYonIH3YP107P6JerNg/qaB2Wz9t2j9GhoPclVjbP+UpJNWH2NY/ACZKt+I/2T9sw4EqxKjbP0SClHuwPNc/u/N9J34j2j9BKO1RyG3aP387nzdy69s/m7dRERJH1T+dNGyp4YHYP/a8EvhBgts/gf2YsAMC2T956NBWWTbaP9wzO5WrQdk/nwFgCL9g1j8Flv3Sh7jcP28l+EtLoNo/9zymhkes1j/C72GLI5TaPyOd8afIl9Y/+lEsqP+d1z/TOXmfZi3ZP+gEqmdU4NY/AAlgdqAr2z9xJIlx2enZP/KWq2natNg/HkGgA2xp1z8iTb+G2HvXP7GtyJOxMtg/CX7zYpdK2T94gLSVNAHXP2W/1jA209k/j+mLIx/02j/q1lFxKHrXP7vYPQZr6Ns/W+rL7lck2j+3ujWZBmvaP7u+tRKy9Ng/71Cg3iSD2T9glsIAFSvYP+N4QOlF4dU/Ekl4gSKa1j9zafLZVbvYP86EOo0sCts/GUhxeeUv2j9/iPp0q2vaP3xIqnPXltg/FMe9cu4p2j8AtsoB7gfYP+qF6azDm9Y/hQs+xoYm2j/IeYZOdVDYPy/Pe+vtS9o/JmfB2IDx2D+gx2PgDZPaP6SpIMaiidg/uUJZWHnE2z9og+8AHObaP5QvqR/gZ9o/NzwD57WH2j83S3fpotfaP07sBM2IXNk/29rYtYhw1z8MqsG25PDaP1cTUZD3HNs/MYcEftKy2T/cWQ2nIsXYP4LhpA9D09Y/Pwfrm1OH2T+20pvFQtTXP/5ClrUzv9s/10kS+r431j+R3/Ky+C3ZP3CGDNrY59U/ZRY+30v42z+YjCqofpPbP36/8SgGJNg/kpt9sWvo2D8=",
           "dtype": "f8"
          },
          "colorscale": [
           [
            0,
            "#0508b8"
           ],
           [
            0.08333333333333333,
            "#1910d8"
           ],
           [
            0.16666666666666666,
            "#3c19f0"
           ],
           [
            0.25,
            "#6b1cfb"
           ],
           [
            0.3333333333333333,
            "#981cfd"
           ],
           [
            0.4166666666666667,
            "#bf1cfd"
           ],
           [
            0.5,
            "#dd2bfd"
           ],
           [
            0.5833333333333334,
            "#f246fe"
           ],
           [
            0.6666666666666666,
            "#fc67fd"
           ],
           [
            0.75,
            "#fe88fc"
           ],
           [
            0.8333333333333334,
            "#fea5fd"
           ],
           [
            0.9166666666666666,
            "#febefe"
           ],
           [
            1,
            "#fec3fe"
           ]
          ],
          "size": 10
         },
         "mode": "markers",
         "name": "Dim = 7, Hop = 6",
         "showlegend": true,
         "text": [
          "blues.00093.wav",
          "blues.00087.wav",
          "blues.00050.wav",
          "blues.00044.wav",
          "blues.00078.wav",
          "blues.00079.wav",
          "blues.00045.wav",
          "blues.00051.wav",
          "blues.00086.wav",
          "blues.00092.wav",
          "blues.00084.wav",
          "blues.00090.wav",
          "blues.00047.wav",
          "blues.00053.wav",
          "blues.00052.wav",
          "blues.00046.wav",
          "blues.00091.wav",
          "blues.00085.wav",
          "blues.00081.wav",
          "blues.00095.wav",
          "blues.00042.wav",
          "blues.00056.wav",
          "blues.00057.wav",
          "blues.00043.wav",
          "blues.00094.wav",
          "blues.00080.wav",
          "blues.00096.wav",
          "blues.00082.wav",
          "blues.00069.wav",
          "blues.00055.wav",
          "blues.00041.wav",
          "blues.00040.wav",
          "blues.00054.wav",
          "blues.00068.wav",
          "blues.00083.wav",
          "blues.00097.wav",
          "blues.00033.wav",
          "blues.00027.wav",
          "blues.00026.wav",
          "blues.00032.wav",
          "blues.00024.wav",
          "blues.00030.wav",
          "blues.00018.wav",
          "blues.00019.wav",
          "blues.00031.wav",
          "blues.00025.wav",
          "blues.00009.wav",
          "blues.00021.wav",
          "blues.00035.wav",
          "blues.00034.wav",
          "blues.00020.wav",
          "blues.00008.wav",
          "blues.00036.wav",
          "blues.00022.wav",
          "blues.00023.wav",
          "blues.00037.wav",
          "blues.00012.wav",
          "blues.00006.wav",
          "blues.00007.wav",
          "blues.00013.wav",
          "blues.00005.wav",
          "blues.00011.wav",
          "blues.00039.wav",
          "blues.00038.wav",
          "blues.00010.wav",
          "blues.00004.wav",
          "blues.00028.wav",
          "blues.00000.wav",
          "blues.00014.wav",
          "blues.00015.wav",
          "blues.00001.wav",
          "blues.00029.wav",
          "blues.00017.wav",
          "blues.00003.wav",
          "blues.00002.wav",
          "blues.00016.wav",
          "blues.00071.wav",
          "blues.00065.wav",
          "blues.00059.wav",
          "blues.00058.wav",
          "blues.00064.wav",
          "blues.00070.wav",
          "blues.00099.wav",
          "blues.00066.wav",
          "blues.00072.wav",
          "blues.00073.wav",
          "blues.00067.wav",
          "blues.00098.wav",
          "blues.00088.wav",
          "blues.00063.wav",
          "blues.00077.wav",
          "blues.00076.wav",
          "blues.00062.wav",
          "blues.00089.wav",
          "blues.00048.wav",
          "blues.00074.wav",
          "blues.00060.wav",
          "blues.00061.wav",
          "blues.00075.wav",
          "blues.00049.wav"
         ],
         "type": "scatter",
         "x": {
          "bdata": "7xhxI0n+1j91IyDauzbkP4tLN0kktec/OheEAWPy6T8+n13GfX7oP2ziqwuie+k/66VA2+xk6T8AkdhLQkjmP65imR11YOI/GYilAYz43z/M9FYytJPmP3CDZlo4muU/lhRDgAG76T/xNo74+MvmP/FOPwDtc+Q/ATuYZ8Qb6j+qxjyyTgzgP+kD3tQtkOI/wsGiaD9U5j9DXJW6MUfjPyjv3Uq1lek/PORgrClk5z9dUbKFB2bmP1owDvuk+uk/CuUeoBLh4j9RdkZYGl/lP37BikVjxuA/fiXlnPQ25z/+ot8Q+/foP4z6n0Tn++Y/KpeEmdHG6j/e9OXyjfjpP776vC0f3uY/mdqqIOao6T8OomcA9ZboP01ml2Fn2+I/Y/WQcrpj5D8Hk+yeguriPw2keUsQQuM/+sn3tIeK4z8F4orfSOzhP7jPOGiJaeM/jYhPsiNf5T/ACtMM/XbgP7m2kV+00OM/xttP/rd74j9vnh6NTA3mP9QluQnAXOE/ZUV87cry5D9EVsTEPoXlP9mFnHA+BeQ/f5LpqUMl5z+qXENkSY3iPzjqKhJy5uE/ZHhvj2JG4j/ArOVeWU3hP+C9wmhZsuI/HENk2Zgt4T/Nbl9taaniPyStQtxFkOM/hhYFKmQ75D+UExrnl2PjP02Ie4x58uA/FM10ysE95T+QH5Rq2VTgP/BVNj19Z+M/SOWhADVc4T8u/ZAY7fDlPzPmNGPAK+Q/7H848kWI4z/9PABRFDfmPz2jbwgAsOU/lwtA612V4D/YdbZuqd/hP9uTYnptIeM/cPbZW/575D+QckqhKSbpP08/Aq1u6uk/mtcail3a5z/zoyjfTYbnP0hpZaxWdek/koeKNxrn5j96OPi9PxfkPwAPhU8OK+k/yERQhZKC6j9dsMG2DPvnP/eG0BbE3ec/MjkYkeU26T/V6Y5v6ZThP0joOpRe3eo/JYDqWInI5z8FS+a+DfTpP4su1Uh5IOg/Lv+E2jQy3T/jRS7h6w7pP83CEK0yaOo/LEPSXtq75j+aZwWFzB7pP18ijPKcHOk/TIHvqVbO5D8=",
          "dtype": "f8"
         },
         "xaxis": "x4",
         "y": {
          "bdata": "J+yrrX1p0z9nm/m01SrZP7YrIOAAlNo/19rZczQd2D/YKInM28XZP+gV4CblWNg/ye0mZGzw2D+1E9HouVncP7o9mmPghNc/UBhnYJt61j+AIMI+SmHaPxy3pcLgktg/m5+5gmTB2D/N2ArUtkbcP/e43DUudts/Zl0ZIUh31j/6eArn9lvXP/xfh0u1n9k/lq1Jc7913D8LVYonIH3YP107P6JerNg/qaB2Wz9t2j9GhoPclVjbP+UpJNWH2NY/ACZKt+I/2T9sw4EqxKjbP0SClHuwPNc/u/N9J34j2j9BKO1RyG3aP387nzdy69s/m7dRERJH1T+dNGyp4YHYP/a8EvhBgts/gf2YsAMC2T956NBWWTbaP9wzO5WrQdk/nwFgCL9g1j8Flv3Sh7jcP28l+EtLoNo/9zymhkes1j/C72GLI5TaPyOd8afIl9Y/+lEsqP+d1z/TOXmfZi3ZP+gEqmdU4NY/AAlgdqAr2z9xJIlx2enZP/KWq2natNg/HkGgA2xp1z8iTb+G2HvXP7GtyJOxMtg/CX7zYpdK2T94gLSVNAHXP2W/1jA209k/j+mLIx/02j/q1lFxKHrXP7vYPQZr6Ns/W+rL7lck2j+3ujWZBmvaP7u+tRKy9Ng/71Cg3iSD2T9glsIAFSvYP+N4QOlF4dU/Ekl4gSKa1j9zafLZVbvYP86EOo0sCts/GUhxeeUv2j9/iPp0q2vaP3xIqnPXltg/FMe9cu4p2j8AtsoB7gfYP+qF6azDm9Y/hQs+xoYm2j/IeYZOdVDYPy/Pe+vtS9o/JmfB2IDx2D+gx2PgDZPaP6SpIMaiidg/uUJZWHnE2z9og+8AHObaP5QvqR/gZ9o/NzwD57WH2j83S3fpotfaP07sBM2IXNk/29rYtYhw1z8MqsG25PDaP1cTUZD3HNs/MYcEftKy2T/cWQ2nIsXYP4LhpA9D09Y/Pwfrm1OH2T+20pvFQtTXP/5ClrUzv9s/10kS+r431j+R3/Ky+C3ZP3CGDNrY59U/ZRY+30v42z+YjCqofpPbP36/8SgGJNg/kpt9sWvo2D8=",
          "dtype": "f8"
         },
         "yaxis": "y4"
        },
        {
         "hovertemplate": "Entropy: %{x}<br>Complexity: %{y}<br>File: %{text}<extra></extra>",
         "marker": {
          "color": {
           "bdata": "49COzALJ0z/SEAKT4APdP4lNrA1A7d8/DYRXK4Jx3j+Mo/sK+YPfP5Wnu9eNld4/xEtea5r/3j9Fn86QQHvgP2vDmPTnjdo/VWOtOOeH2D/HwOKNm1zfP2f33kZmCN0/2dmM5DDs3j9WPvbPe4LgPyYJTgD2894/FbMWlc303D/DYdlcE2nZP8VWboxxpNw/KWqZpmx64D8yi75OWf/bP4qwx0TA8N4/9bJ9wyOe3z/T4njDUOLfP6V0DWs6aN0/JNbU+f9d3D+DCTp5U+XfP4tpNjxFnNk/50XTya9e3z+i8QbvcRzgPwdIzcFNcuA/b/svuHlc3D/e4asFO+beP5tV235/JOA/xZadH/o13z/OQ9ohj/vfP88OgGkfUtw/1mQBSul/2j9BPHOlKkXfP6Syz/UcrN0/7mUn1pVm2j/KchGENNXcP2zt4rxCSNo//clWcXks3D93SCfvGB7bPx+aTUni1to/TcKSNa+w3T+ZKDfMumveP2tjgOySNds/u1avKlH62z/j/xsCyCDcP0ebbevJOdw/2ZB0WlqG3j+TA/53H07aP6STvQdDcdw/1JkUg6J13T/s1bYytyzaP/8doDBZgd4/GfqkEIU/3D/K54OHvFHdP+n5jissiNw/GWQ7VjYP3T8sNP9pdoHbP72JU2afiNg/4BjRzNpO2z+Ava7UVqLaP90tZB/yJd4/xz1g4JlZ3D9TGC/Z4AzfPzTubmhPj9w/1dG9t5Sg3T/xK5h5NQXdPxzRFyblZds/O4B09lbv2z9nf3+XQDfbP4yUC5Gyl90/1G6VZxcI3T+KqTP6fELgP3H8268n6d4/jQvnWseD4D9D70TfpQjgP5Qvtz3BN+A/IzO9ut9n3z/kLAFJklPePyBnKcoXct8/PV/4HygA3j90YyJTDS7gPw+uyAL9OeA/AjS9gU203z/7QlLnXG3bP6lfi8tzht0/xPoQNtT93j95n55rKF3eP2hLTuZ9ieA/I1srmwKz1z8qwr03czffP83QPHguoNw/itrlSn9e4D9pjxcKoK3gP9tScmUdLN4/FbFliwCv3D8=",
           "dtype": "f8"
          },
          "colorscale": [
           [
            0,
            "#0508b8"
           ],
           [
            0.08333333333333333,
            "#1910d8"
           ],
           [
            0.16666666666666666,
            "#3c19f0"
           ],
           [
            0.25,
            "#6b1cfb"
           ],
           [
            0.3333333333333333,
            "#981cfd"
           ],
           [
            0.4166666666666667,
            "#bf1cfd"
           ],
           [
            0.5,
            "#dd2bfd"
           ],
           [
            0.5833333333333334,
            "#f246fe"
           ],
           [
            0.6666666666666666,
            "#fc67fd"
           ],
           [
            0.75,
            "#fe88fc"
           ],
           [
            0.8333333333333334,
            "#fea5fd"
           ],
           [
            0.9166666666666666,
            "#febefe"
           ],
           [
            1,
            "#fec3fe"
           ]
          ],
          "size": 10
         },
         "mode": "markers",
         "name": "Dim = 8, Hop = 7",
         "showlegend": true,
         "text": [
          "blues.00093.wav",
          "blues.00087.wav",
          "blues.00050.wav",
          "blues.00044.wav",
          "blues.00078.wav",
          "blues.00079.wav",
          "blues.00045.wav",
          "blues.00051.wav",
          "blues.00086.wav",
          "blues.00092.wav",
          "blues.00084.wav",
          "blues.00090.wav",
          "blues.00047.wav",
          "blues.00053.wav",
          "blues.00052.wav",
          "blues.00046.wav",
          "blues.00091.wav",
          "blues.00085.wav",
          "blues.00081.wav",
          "blues.00095.wav",
          "blues.00042.wav",
          "blues.00056.wav",
          "blues.00057.wav",
          "blues.00043.wav",
          "blues.00094.wav",
          "blues.00080.wav",
          "blues.00096.wav",
          "blues.00082.wav",
          "blues.00069.wav",
          "blues.00055.wav",
          "blues.00041.wav",
          "blues.00040.wav",
          "blues.00054.wav",
          "blues.00068.wav",
          "blues.00083.wav",
          "blues.00097.wav",
          "blues.00033.wav",
          "blues.00027.wav",
          "blues.00026.wav",
          "blues.00032.wav",
          "blues.00024.wav",
          "blues.00030.wav",
          "blues.00018.wav",
          "blues.00019.wav",
          "blues.00031.wav",
          "blues.00025.wav",
          "blues.00009.wav",
          "blues.00021.wav",
          "blues.00035.wav",
          "blues.00034.wav",
          "blues.00020.wav",
          "blues.00008.wav",
          "blues.00036.wav",
          "blues.00022.wav",
          "blues.00023.wav",
          "blues.00037.wav",
          "blues.00012.wav",
          "blues.00006.wav",
          "blues.00007.wav",
          "blues.00013.wav",
          "blues.00005.wav",
          "blues.00011.wav",
          "blues.00039.wav",
          "blues.00038.wav",
          "blues.00010.wav",
          "blues.00004.wav",
          "blues.00028.wav",
          "blues.00000.wav",
          "blues.00014.wav",
          "blues.00015.wav",
          "blues.00001.wav",
          "blues.00029.wav",
          "blues.00017.wav",
          "blues.00003.wav",
          "blues.00002.wav",
          "blues.00016.wav",
          "blues.00071.wav",
          "blues.00065.wav",
          "blues.00059.wav",
          "blues.00058.wav",
          "blues.00064.wav",
          "blues.00070.wav",
          "blues.00099.wav",
          "blues.00066.wav",
          "blues.00072.wav",
          "blues.00073.wav",
          "blues.00067.wav",
          "blues.00098.wav",
          "blues.00088.wav",
          "blues.00063.wav",
          "blues.00077.wav",
          "blues.00076.wav",
          "blues.00062.wav",
          "blues.00089.wav",
          "blues.00048.wav",
          "blues.00074.wav",
          "blues.00060.wav",
          "blues.00061.wav",
          "blues.00075.wav",
          "blues.00049.wav"
         ],
         "type": "scatter",
         "x": {
          "bdata": "XGeOR8Ko1T8IwMI72mzjP6c7d5qxGec/vxk5MIZH6T8u+woMVdXnP8wKbiHOzOg/T4q+/xWn6D+SxXg4G8zlP6QzwcQvi+E/q51tOolP3j9DolDcQejlP2/xmGvKwuQ/B9Px+nX46D/6q0loHFXmP0/vCiPIzeM/EfHj3qJJ6T/lRKS+E6XeP10yNQne4eE/EZKJbOLJ5T8kZSmHr3viP5p5/KFe+Og/KtG8sBXG5j+CYjDmFNnlP8pa6hilM+k/JXpE2Qsq4j+gQGTdYMzkP3F0d8B52d8/J1P2jU2J5j+2qHlKbz/oP/3/gl5UfeY/ex39qXX/6T9pJxKVf1DpP+aKwCQJV+Y/MEByrKz56D9jFRPoLP/nPwDwAZ/3HOI/T6hoGnws4z/5R5fB2U/iPz6pg12Me+I/Y6DDd3Z34j+OAJ63bTPhPwlpeBAzTOI/kHhQE8BU5D+3uDYfNo/fP/U166wwu+I/B3zAZLfE4T/SJziyHjnlPwqcgKNSguA/8EcLjI/l4z+KE6p+wXHkP8rCt5XYIeM/dKVibcJi5j/zvhvOJ4bhPwuTDNeKGeE/y//peQmV4T+TCy14i3vgP4wqkFmD/uE/fSOjs2ua4D/MsXifkQXiP1H29qxwneI/qCk5vIGA4z94mHZbNoziP7MqyWW05t8/Cb/N2ZQh5D+eKIu25mDfP7VFsZfxzOI/nChP3b2l4D//wR7PJUjlPzrTgmQGOuM/WzMKF47B4j+coO1aP0flP/dhhkW9j+Q/hsd6rDTU3z9gHrQXiBPhPyJ9hUE8f+I/mAbRX5yg4z9EWbrtTI/oPz5d3+pWOOk/pertrdxt5z/q45a0P/TmP1Dj+eho6ug/QlpmAqgy5j9ShpIDDWDjP0uDCSUwfOg/DgA+a9Cp6T8fyA/O92DnP5XNf3ORLuc/L7v2Hj6g6D+SblZZPdfgPyo3uchpM+o/VdBHQfIf5z/NWxrP+1HpP938KfB1e+c/uCQbnEi62z9XOJDhfWToPyFfDUyHn+k/c/BtBEU05j9QjAD6yKzoP5UhN+ardug/R7bqNFbG4z8=",
          "dtype": "f8"
         },
         "xaxis": "x5",
         "y": {
          "bdata": "49COzALJ0z/SEAKT4APdP4lNrA1A7d8/DYRXK4Jx3j+Mo/sK+YPfP5Wnu9eNld4/xEtea5r/3j9Fn86QQHvgP2vDmPTnjdo/VWOtOOeH2D/HwOKNm1zfP2f33kZmCN0/2dmM5DDs3j9WPvbPe4LgPyYJTgD2894/FbMWlc303D/DYdlcE2nZP8VWboxxpNw/KWqZpmx64D8yi75OWf/bP4qwx0TA8N4/9bJ9wyOe3z/T4njDUOLfP6V0DWs6aN0/JNbU+f9d3D+DCTp5U+XfP4tpNjxFnNk/50XTya9e3z+i8QbvcRzgPwdIzcFNcuA/b/svuHlc3D/e4asFO+beP5tV235/JOA/xZadH/o13z/OQ9ohj/vfP88OgGkfUtw/1mQBSul/2j9BPHOlKkXfP6Syz/UcrN0/7mUn1pVm2j/KchGENNXcP2zt4rxCSNo//clWcXks3D93SCfvGB7bPx+aTUni1to/TcKSNa+w3T+ZKDfMumveP2tjgOySNds/u1avKlH62z/j/xsCyCDcP0ebbevJOdw/2ZB0WlqG3j+TA/53H07aP6STvQdDcdw/1JkUg6J13T/s1bYytyzaP/8doDBZgd4/GfqkEIU/3D/K54OHvFHdP+n5jissiNw/GWQ7VjYP3T8sNP9pdoHbP72JU2afiNg/4BjRzNpO2z+Ava7UVqLaP90tZB/yJd4/xz1g4JlZ3D9TGC/Z4AzfPzTubmhPj9w/1dG9t5Sg3T/xK5h5NQXdPxzRFyblZds/O4B09lbv2z9nf3+XQDfbP4yUC5Gyl90/1G6VZxcI3T+KqTP6fELgP3H8268n6d4/jQvnWseD4D9D70TfpQjgP5Qvtz3BN+A/IzO9ut9n3z/kLAFJklPePyBnKcoXct8/PV/4HygA3j90YyJTDS7gPw+uyAL9OeA/AjS9gU203z/7QlLnXG3bP6lfi8tzht0/xPoQNtT93j95n55rKF3eP2hLTuZ9ieA/I1srmwKz1z8qwr03czffP83QPHguoNw/itrlSn9e4D9pjxcKoK3gP9tScmUdLN4/FbFliwCv3D8=",
          "dtype": "f8"
         },
         "yaxis": "y5"
        },
        {
         "hovertemplate": "Entropy: %{x}<br>Complexity: %{y}<br>File: %{text}<extra></extra>",
         "marker": {
          "color": {
           "bdata": "fK5m2JXz0z9QF2TCsWPgP6DOXvbX7OI/MVXbDj1n4z9KfMDYfiTjP6rzXZRsSuM/E3MLb9k54z9wsYICWLfiP+Pda8eArd0/gQ71tZ1I2j+AV2TN11PiP1HW6s0fBOE/bENdYIdG4z/iNm6avffiP4xbh7Q+H+E/v3zheu744j/JDWnnYSLbP5LtExlLWt8/70fMZuuj4j8LRoYZgonfP26dVwTBduM/Y2i5hzC04j9bkjIlEmviP0UxR0gSKOM/U7A4L9ZE3z8NIm+XzOvhP9JRLjUbots/VWsy3reN4j/LmEvjwlXjPxBZPzg2/+I/0wCJSrFB4z9kOf48SX3jPz1D2yLTw+I/GhFG6HJ04z+e79EikVHjPzc/C4DFR98/cElyDtcL3z9OJW1PW5DgP5pRmpsBHeA/SZomINtx3j+NMzpFqnzeP+D/9u20Jt4/gM48Y8SW4D+HxZbudGLcP52bX2+n394/q9w05WSb3z/AqjXBfpXhPwb+GGCIHd0/xDWklkNW4D9TCF+OnpXgP2Lr++gkC+A/m/ifKHhC4j8+PGCh93LdP1HaMiSTV94/YpAGvsVX3z9apdUN22jcPyhyDLcfJ+A/npYx3Knm3T9HOvsWkcrfP20DsA8zs98/1+pl45tn4D/0KTxW2ArfPxJ5tN8wENs/lzWD0ZI+4D9geoJuLRXcP6COvMm3deA/KJhEYU3y3T+n4AedaOnhP0kqVHXsK+A/b9f1rf9M4D/C1oIg8k7hPy2HcsdBeOA/msbCBgIa3T/07zixiKndP1BF+wJRPuA/ydaSQ0+R4D872BH08p3jP+o6O19RcOM/M+yTpbNv4z8K/HGZAeTiP3Y/PIMMueM/zHOxnglS4j/8CUN+pcXgP1OSxlgHU+M/5Phuu7JJ4z8BXKuooSPjPx0eVhWiCOM/0oxen3Z14z/LqmIabZvdP+OcylwwcuM/hvhzX/K24j/NlzNzvIPjPwmA04tmSuM/iFclfOS+2D/1Pi/JnVDjP257BZeJIOM/ha5P0GPQ4j+/87C739/jPy1uVLEbFuM/R78SMGg+4D8=",
           "dtype": "f8"
          },
          "colorscale": [
           [
            0,
            "#0508b8"
           ],
           [
            0.08333333333333333,
            "#1910d8"
           ],
           [
            0.16666666666666666,
            "#3c19f0"
           ],
           [
            0.25,
            "#6b1cfb"
           ],
           [
            0.3333333333333333,
            "#981cfd"
           ],
           [
            0.4166666666666667,
            "#bf1cfd"
           ],
           [
            0.5,
            "#dd2bfd"
           ],
           [
            0.5833333333333334,
            "#f246fe"
           ],
           [
            0.6666666666666666,
            "#fc67fd"
           ],
           [
            0.75,
            "#fe88fc"
           ],
           [
            0.8333333333333334,
            "#fea5fd"
           ],
           [
            0.9166666666666666,
            "#febefe"
           ],
           [
            1,
            "#fec3fe"
           ]
          ],
          "size": 10
         },
         "mode": "markers",
         "name": "Dim = 9, Hop = 8",
         "showlegend": true,
         "text": [
          "blues.00093.wav",
          "blues.00087.wav",
          "blues.00050.wav",
          "blues.00044.wav",
          "blues.00078.wav",
          "blues.00079.wav",
          "blues.00045.wav",
          "blues.00051.wav",
          "blues.00086.wav",
          "blues.00092.wav",
          "blues.00084.wav",
          "blues.00090.wav",
          "blues.00047.wav",
          "blues.00053.wav",
          "blues.00052.wav",
          "blues.00046.wav",
          "blues.00091.wav",
          "blues.00085.wav",
          "blues.00081.wav",
          "blues.00095.wav",
          "blues.00042.wav",
          "blues.00056.wav",
          "blues.00057.wav",
          "blues.00043.wav",
          "blues.00094.wav",
          "blues.00080.wav",
          "blues.00096.wav",
          "blues.00082.wav",
          "blues.00069.wav",
          "blues.00055.wav",
          "blues.00041.wav",
          "blues.00040.wav",
          "blues.00054.wav",
          "blues.00068.wav",
          "blues.00083.wav",
          "blues.00097.wav",
          "blues.00033.wav",
          "blues.00027.wav",
          "blues.00026.wav",
          "blues.00032.wav",
          "blues.00024.wav",
          "blues.00030.wav",
          "blues.00018.wav",
          "blues.00019.wav",
          "blues.00031.wav",
          "blues.00025.wav",
          "blues.00009.wav",
          "blues.00021.wav",
          "blues.00035.wav",
          "blues.00034.wav",
          "blues.00020.wav",
          "blues.00008.wav",
          "blues.00036.wav",
          "blues.00022.wav",
          "blues.00023.wav",
          "blues.00037.wav",
          "blues.00012.wav",
          "blues.00006.wav",
          "blues.00007.wav",
          "blues.00013.wav",
          "blues.00005.wav",
          "blues.00011.wav",
          "blues.00039.wav",
          "blues.00038.wav",
          "blues.00010.wav",
          "blues.00004.wav",
          "blues.00028.wav",
          "blues.00000.wav",
          "blues.00014.wav",
          "blues.00015.wav",
          "blues.00001.wav",
          "blues.00029.wav",
          "blues.00017.wav",
          "blues.00003.wav",
          "blues.00002.wav",
          "blues.00016.wav",
          "blues.00071.wav",
          "blues.00065.wav",
          "blues.00059.wav",
          "blues.00058.wav",
          "blues.00064.wav",
          "blues.00070.wav",
          "blues.00099.wav",
          "blues.00066.wav",
          "blues.00072.wav",
          "blues.00073.wav",
          "blues.00067.wav",
          "blues.00098.wav",
          "blues.00088.wav",
          "blues.00063.wav",
          "blues.00077.wav",
          "blues.00076.wav",
          "blues.00062.wav",
          "blues.00089.wav",
          "blues.00048.wav",
          "blues.00074.wav",
          "blues.00060.wav",
          "blues.00061.wav",
          "blues.00075.wav",
          "blues.00049.wav"
         ],
         "type": "scatter",
         "x": {
          "bdata": "XVLa6tib1D9eX9gEKWPiP2DMh4+PH+Y/vw7uICP+5z9pl7jMw8bmP9i5rZm3mec/ADpc0GJc5z+icpAmOhDlP4o1d0UBfOA/WHotzBl13D/peRySZfrkP9nEC/k2jOM/XITgELWe5z/b8pvDx5LlP2Vsh1hm9+I/pjMHYMXA5z/w0ymrOSLdPw/PvLfEHeE/UfdsIpsL5T9fPgPp8HnhP67XeXEm0+c/0JjHHWW/5T8rOcDd+vfkPyJQJrhlxuc/x8y/OmpJ4T95A69JQgnkP1NuJZvR+t0/UeWlqF6F5T/EN2Ieph3nPyc85lrYsuU/ms+1RGt36D+pAmrG3RHoP8TGvgL5ieU/yrL6FKC25z+zfaMa+P/mP57R/CB/POE/zYMQPo284T/PqEFV4LPhP6GkGZwenOE/Unrm1I4s4T+Ydlsa3WTgP7JZK7g//uA/cNdZRTMF4z/+BTmRoyPeP3DYd9afaeE/zRaD4SkB4T9n3G76MCDkP/QRonckW98/j5BKBQ2Y4j/g+kuMHBDjP+8FHYxn++E/wRehiYBE5T8ag5YPk1rgPz+FGcv7TOA/bDU/ebrb4D/Df19Mxv/ePyAwcEOBTuE/zU2mE8ro3z/EXlRiNUThP6q2Juf0ieE/l5+a05mE4j+RA8INL3XhP9JHLb1pwt0/5iGYeCmy4j8JtAr89v3dP2HwLzHaCuI/uGLpH23+3z+81Hhfb1PkP6SHBym4EuI/HHiEL+Df4T+rJJ7QN//jP4IP2vrVG+M/L/6/M9Kw3j/dfv38gi3gP9kezvnbvuE/LtYeRd2Q4j8gE2Kt/n7nP99o5kNG/uc/+wE9I/Wh5j88ogDzuQHmP9Z1lW7a3ec/x0ZsPVkq5T/SN2qnDoHiPxogAgRQWOc/rmP5ybIx6D8Ylf2f7G7mPxxgGw4FMOY/v5EFO1yJ5z/YSgH3tQjgP5rXU3/tyug/6Ohh6EUH5j/MED1f/BXoP84hNunbheY/5TDEED9G2j/QrdNpejznPwKjLxI8IOg/8SOxDOJ15T87z6C6hdTnP51YyMIyMOc/kbHZINt+4j8=",
          "dtype": "f8"
         },
         "xaxis": "x6",
         "y": {
          "bdata": "fK5m2JXz0z9QF2TCsWPgP6DOXvbX7OI/MVXbDj1n4z9KfMDYfiTjP6rzXZRsSuM/E3MLb9k54z9wsYICWLfiP+Pda8eArd0/gQ71tZ1I2j+AV2TN11PiP1HW6s0fBOE/bENdYIdG4z/iNm6avffiP4xbh7Q+H+E/v3zheu744j/JDWnnYSLbP5LtExlLWt8/70fMZuuj4j8LRoYZgonfP26dVwTBduM/Y2i5hzC04j9bkjIlEmviP0UxR0gSKOM/U7A4L9ZE3z8NIm+XzOvhP9JRLjUbots/VWsy3reN4j/LmEvjwlXjPxBZPzg2/+I/0wCJSrFB4z9kOf48SX3jPz1D2yLTw+I/GhFG6HJ04z+e79EikVHjPzc/C4DFR98/cElyDtcL3z9OJW1PW5DgP5pRmpsBHeA/SZomINtx3j+NMzpFqnzeP+D/9u20Jt4/gM48Y8SW4D+HxZbudGLcP52bX2+n394/q9w05WSb3z/AqjXBfpXhPwb+GGCIHd0/xDWklkNW4D9TCF+OnpXgP2Lr++gkC+A/m/ifKHhC4j8+PGCh93LdP1HaMiSTV94/YpAGvsVX3z9apdUN22jcPyhyDLcfJ+A/npYx3Knm3T9HOvsWkcrfP20DsA8zs98/1+pl45tn4D/0KTxW2ArfPxJ5tN8wENs/lzWD0ZI+4D9geoJuLRXcP6COvMm3deA/KJhEYU3y3T+n4AedaOnhP0kqVHXsK+A/b9f1rf9M4D/C1oIg8k7hPy2HcsdBeOA/msbCBgIa3T/07zixiKndP1BF+wJRPuA/ydaSQ0+R4D872BH08p3jP+o6O19RcOM/M+yTpbNv4z8K/HGZAeTiP3Y/PIMMueM/zHOxnglS4j/8CUN+pcXgP1OSxlgHU+M/5Phuu7JJ4z8BXKuooSPjPx0eVhWiCOM/0oxen3Z14z/LqmIabZvdP+OcylwwcuM/hvhzX/K24j/NlzNzvIPjPwmA04tmSuM/iFclfOS+2D/1Pi/JnVDjP257BZeJIOM/ha5P0GPQ4j+/87C739/jPy1uVLEbFuM/R78SMGg+4D8=",
          "dtype": "f8"
         },
         "yaxis": "y6"
        }
       ],
       "layout": {
        "annotations": [
         {
          "font": {
           "size": 16
          },
          "showarrow": false,
          "text": "Dim = '4', Hop = '3'",
          "x": 0.225,
          "xanchor": "center",
          "xref": "paper",
          "y": 1,
          "yanchor": "bottom",
          "yref": "paper"
         },
         {
          "font": {
           "size": 16
          },
          "showarrow": false,
          "text": "Dim = '5', Hop = '4'",
          "x": 0.775,
          "xanchor": "center",
          "xref": "paper",
          "y": 1,
          "yanchor": "bottom",
          "yref": "paper"
         },
         {
          "font": {
           "size": 16
          },
          "showarrow": false,
          "text": "Dim = '6', Hop = '5'",
          "x": 0.225,
          "xanchor": "center",
          "xref": "paper",
          "y": 0.6111111111111112,
          "yanchor": "bottom",
          "yref": "paper"
         },
         {
          "font": {
           "size": 16
          },
          "showarrow": false,
          "text": "Dim = '7', Hop = '6'",
          "x": 0.775,
          "xanchor": "center",
          "xref": "paper",
          "y": 0.6111111111111112,
          "yanchor": "bottom",
          "yref": "paper"
         },
         {
          "font": {
           "size": 16
          },
          "showarrow": false,
          "text": "Dim = '8', Hop = '7'",
          "x": 0.225,
          "xanchor": "center",
          "xref": "paper",
          "y": 0.22222222222222224,
          "yanchor": "bottom",
          "yref": "paper"
         },
         {
          "font": {
           "size": 16
          },
          "showarrow": false,
          "text": "Dim = '9', Hop = '8'",
          "x": 0.775,
          "xanchor": "center",
          "xref": "paper",
          "y": 0.22222222222222224,
          "yanchor": "bottom",
          "yref": "paper"
         }
        ],
        "height": 1400,
        "template": {
         "data": {
          "bar": [
           {
            "error_x": {
             "color": "#f2f5fa"
            },
            "error_y": {
             "color": "#f2f5fa"
            },
            "marker": {
             "line": {
              "color": "rgb(17,17,17)",
              "width": 0.5
             },
             "pattern": {
              "fillmode": "overlay",
              "size": 10,
              "solidity": 0.2
             }
            },
            "type": "bar"
           }
          ],
          "barpolar": [
           {
            "marker": {
             "line": {
              "color": "rgb(17,17,17)",
              "width": 0.5
             },
             "pattern": {
              "fillmode": "overlay",
              "size": 10,
              "solidity": 0.2
             }
            },
            "type": "barpolar"
           }
          ],
          "carpet": [
           {
            "aaxis": {
             "endlinecolor": "#A2B1C6",
             "gridcolor": "#506784",
             "linecolor": "#506784",
             "minorgridcolor": "#506784",
             "startlinecolor": "#A2B1C6"
            },
            "baxis": {
             "endlinecolor": "#A2B1C6",
             "gridcolor": "#506784",
             "linecolor": "#506784",
             "minorgridcolor": "#506784",
             "startlinecolor": "#A2B1C6"
            },
            "type": "carpet"
           }
          ],
          "choropleth": [
           {
            "colorbar": {
             "outlinewidth": 0,
             "ticks": ""
            },
            "type": "choropleth"
           }
          ],
          "contour": [
           {
            "colorbar": {
             "outlinewidth": 0,
             "ticks": ""
            },
            "colorscale": [
             [
              0,
              "#0d0887"
             ],
             [
              0.1111111111111111,
              "#46039f"
             ],
             [
              0.2222222222222222,
              "#7201a8"
             ],
             [
              0.3333333333333333,
              "#9c179e"
             ],
             [
              0.4444444444444444,
              "#bd3786"
             ],
             [
              0.5555555555555556,
              "#d8576b"
             ],
             [
              0.6666666666666666,
              "#ed7953"
             ],
             [
              0.7777777777777778,
              "#fb9f3a"
             ],
             [
              0.8888888888888888,
              "#fdca26"
             ],
             [
              1,
              "#f0f921"
             ]
            ],
            "type": "contour"
           }
          ],
          "contourcarpet": [
           {
            "colorbar": {
             "outlinewidth": 0,
             "ticks": ""
            },
            "type": "contourcarpet"
           }
          ],
          "heatmap": [
           {
            "colorbar": {
             "outlinewidth": 0,
             "ticks": ""
            },
            "colorscale": [
             [
              0,
              "#0d0887"
             ],
             [
              0.1111111111111111,
              "#46039f"
             ],
             [
              0.2222222222222222,
              "#7201a8"
             ],
             [
              0.3333333333333333,
              "#9c179e"
             ],
             [
              0.4444444444444444,
              "#bd3786"
             ],
             [
              0.5555555555555556,
              "#d8576b"
             ],
             [
              0.6666666666666666,
              "#ed7953"
             ],
             [
              0.7777777777777778,
              "#fb9f3a"
             ],
             [
              0.8888888888888888,
              "#fdca26"
             ],
             [
              1,
              "#f0f921"
             ]
            ],
            "type": "heatmap"
           }
          ],
          "histogram": [
           {
            "marker": {
             "pattern": {
              "fillmode": "overlay",
              "size": 10,
              "solidity": 0.2
             }
            },
            "type": "histogram"
           }
          ],
          "histogram2d": [
           {
            "colorbar": {
             "outlinewidth": 0,
             "ticks": ""
            },
            "colorscale": [
             [
              0,
              "#0d0887"
             ],
             [
              0.1111111111111111,
              "#46039f"
             ],
             [
              0.2222222222222222,
              "#7201a8"
             ],
             [
              0.3333333333333333,
              "#9c179e"
             ],
             [
              0.4444444444444444,
              "#bd3786"
             ],
             [
              0.5555555555555556,
              "#d8576b"
             ],
             [
              0.6666666666666666,
              "#ed7953"
             ],
             [
              0.7777777777777778,
              "#fb9f3a"
             ],
             [
              0.8888888888888888,
              "#fdca26"
             ],
             [
              1,
              "#f0f921"
             ]
            ],
            "type": "histogram2d"
           }
          ],
          "histogram2dcontour": [
           {
            "colorbar": {
             "outlinewidth": 0,
             "ticks": ""
            },
            "colorscale": [
             [
              0,
              "#0d0887"
             ],
             [
              0.1111111111111111,
              "#46039f"
             ],
             [
              0.2222222222222222,
              "#7201a8"
             ],
             [
              0.3333333333333333,
              "#9c179e"
             ],
             [
              0.4444444444444444,
              "#bd3786"
             ],
             [
              0.5555555555555556,
              "#d8576b"
             ],
             [
              0.6666666666666666,
              "#ed7953"
             ],
             [
              0.7777777777777778,
              "#fb9f3a"
             ],
             [
              0.8888888888888888,
              "#fdca26"
             ],
             [
              1,
              "#f0f921"
             ]
            ],
            "type": "histogram2dcontour"
           }
          ],
          "mesh3d": [
           {
            "colorbar": {
             "outlinewidth": 0,
             "ticks": ""
            },
            "type": "mesh3d"
           }
          ],
          "parcoords": [
           {
            "line": {
             "colorbar": {
              "outlinewidth": 0,
              "ticks": ""
             }
            },
            "type": "parcoords"
           }
          ],
          "pie": [
           {
            "automargin": true,
            "type": "pie"
           }
          ],
          "scatter": [
           {
            "marker": {
             "line": {
              "color": "#283442"
             }
            },
            "type": "scatter"
           }
          ],
          "scatter3d": [
           {
            "line": {
             "colorbar": {
              "outlinewidth": 0,
              "ticks": ""
             }
            },
            "marker": {
             "colorbar": {
              "outlinewidth": 0,
              "ticks": ""
             }
            },
            "type": "scatter3d"
           }
          ],
          "scattercarpet": [
           {
            "marker": {
             "colorbar": {
              "outlinewidth": 0,
              "ticks": ""
             }
            },
            "type": "scattercarpet"
           }
          ],
          "scattergeo": [
           {
            "marker": {
             "colorbar": {
              "outlinewidth": 0,
              "ticks": ""
             }
            },
            "type": "scattergeo"
           }
          ],
          "scattergl": [
           {
            "marker": {
             "line": {
              "color": "#283442"
             }
            },
            "type": "scattergl"
           }
          ],
          "scattermap": [
           {
            "marker": {
             "colorbar": {
              "outlinewidth": 0,
              "ticks": ""
             }
            },
            "type": "scattermap"
           }
          ],
          "scattermapbox": [
           {
            "marker": {
             "colorbar": {
              "outlinewidth": 0,
              "ticks": ""
             }
            },
            "type": "scattermapbox"
           }
          ],
          "scatterpolar": [
           {
            "marker": {
             "colorbar": {
              "outlinewidth": 0,
              "ticks": ""
             }
            },
            "type": "scatterpolar"
           }
          ],
          "scatterpolargl": [
           {
            "marker": {
             "colorbar": {
              "outlinewidth": 0,
              "ticks": ""
             }
            },
            "type": "scatterpolargl"
           }
          ],
          "scatterternary": [
           {
            "marker": {
             "colorbar": {
              "outlinewidth": 0,
              "ticks": ""
             }
            },
            "type": "scatterternary"
           }
          ],
          "surface": [
           {
            "colorbar": {
             "outlinewidth": 0,
             "ticks": ""
            },
            "colorscale": [
             [
              0,
              "#0d0887"
             ],
             [
              0.1111111111111111,
              "#46039f"
             ],
             [
              0.2222222222222222,
              "#7201a8"
             ],
             [
              0.3333333333333333,
              "#9c179e"
             ],
             [
              0.4444444444444444,
              "#bd3786"
             ],
             [
              0.5555555555555556,
              "#d8576b"
             ],
             [
              0.6666666666666666,
              "#ed7953"
             ],
             [
              0.7777777777777778,
              "#fb9f3a"
             ],
             [
              0.8888888888888888,
              "#fdca26"
             ],
             [
              1,
              "#f0f921"
             ]
            ],
            "type": "surface"
           }
          ],
          "table": [
           {
            "cells": {
             "fill": {
              "color": "#506784"
             },
             "line": {
              "color": "rgb(17,17,17)"
             }
            },
            "header": {
             "fill": {
              "color": "#2a3f5f"
             },
             "line": {
              "color": "rgb(17,17,17)"
             }
            },
            "type": "table"
           }
          ]
         },
         "layout": {
          "annotationdefaults": {
           "arrowcolor": "#f2f5fa",
           "arrowhead": 0,
           "arrowwidth": 1
          },
          "autotypenumbers": "strict",
          "coloraxis": {
           "colorbar": {
            "outlinewidth": 0,
            "ticks": ""
           }
          },
          "colorscale": {
           "diverging": [
            [
             0,
             "#8e0152"
            ],
            [
             0.1,
             "#c51b7d"
            ],
            [
             0.2,
             "#de77ae"
            ],
            [
             0.3,
             "#f1b6da"
            ],
            [
             0.4,
             "#fde0ef"
            ],
            [
             0.5,
             "#f7f7f7"
            ],
            [
             0.6,
             "#e6f5d0"
            ],
            [
             0.7,
             "#b8e186"
            ],
            [
             0.8,
             "#7fbc41"
            ],
            [
             0.9,
             "#4d9221"
            ],
            [
             1,
             "#276419"
            ]
           ],
           "sequential": [
            [
             0,
             "#0d0887"
            ],
            [
             0.1111111111111111,
             "#46039f"
            ],
            [
             0.2222222222222222,
             "#7201a8"
            ],
            [
             0.3333333333333333,
             "#9c179e"
            ],
            [
             0.4444444444444444,
             "#bd3786"
            ],
            [
             0.5555555555555556,
             "#d8576b"
            ],
            [
             0.6666666666666666,
             "#ed7953"
            ],
            [
             0.7777777777777778,
             "#fb9f3a"
            ],
            [
             0.8888888888888888,
             "#fdca26"
            ],
            [
             1,
             "#f0f921"
            ]
           ],
           "sequentialminus": [
            [
             0,
             "#0d0887"
            ],
            [
             0.1111111111111111,
             "#46039f"
            ],
            [
             0.2222222222222222,
             "#7201a8"
            ],
            [
             0.3333333333333333,
             "#9c179e"
            ],
            [
             0.4444444444444444,
             "#bd3786"
            ],
            [
             0.5555555555555556,
             "#d8576b"
            ],
            [
             0.6666666666666666,
             "#ed7953"
            ],
            [
             0.7777777777777778,
             "#fb9f3a"
            ],
            [
             0.8888888888888888,
             "#fdca26"
            ],
            [
             1,
             "#f0f921"
            ]
           ]
          },
          "colorway": [
           "#636efa",
           "#EF553B",
           "#00cc96",
           "#ab63fa",
           "#FFA15A",
           "#19d3f3",
           "#FF6692",
           "#B6E880",
           "#FF97FF",
           "#FECB52"
          ],
          "font": {
           "color": "#f2f5fa"
          },
          "geo": {
           "bgcolor": "rgb(17,17,17)",
           "lakecolor": "rgb(17,17,17)",
           "landcolor": "rgb(17,17,17)",
           "showlakes": true,
           "showland": true,
           "subunitcolor": "#506784"
          },
          "hoverlabel": {
           "align": "left"
          },
          "hovermode": "closest",
          "mapbox": {
           "style": "dark"
          },
          "paper_bgcolor": "rgb(17,17,17)",
          "plot_bgcolor": "rgb(17,17,17)",
          "polar": {
           "angularaxis": {
            "gridcolor": "#506784",
            "linecolor": "#506784",
            "ticks": ""
           },
           "bgcolor": "rgb(17,17,17)",
           "radialaxis": {
            "gridcolor": "#506784",
            "linecolor": "#506784",
            "ticks": ""
           }
          },
          "scene": {
           "xaxis": {
            "backgroundcolor": "rgb(17,17,17)",
            "gridcolor": "#506784",
            "gridwidth": 2,
            "linecolor": "#506784",
            "showbackground": true,
            "ticks": "",
            "zerolinecolor": "#C8D4E3"
           },
           "yaxis": {
            "backgroundcolor": "rgb(17,17,17)",
            "gridcolor": "#506784",
            "gridwidth": 2,
            "linecolor": "#506784",
            "showbackground": true,
            "ticks": "",
            "zerolinecolor": "#C8D4E3"
           },
           "zaxis": {
            "backgroundcolor": "rgb(17,17,17)",
            "gridcolor": "#506784",
            "gridwidth": 2,
            "linecolor": "#506784",
            "showbackground": true,
            "ticks": "",
            "zerolinecolor": "#C8D4E3"
           }
          },
          "shapedefaults": {
           "line": {
            "color": "#f2f5fa"
           }
          },
          "sliderdefaults": {
           "bgcolor": "#C8D4E3",
           "bordercolor": "rgb(17,17,17)",
           "borderwidth": 1,
           "tickwidth": 0
          },
          "ternary": {
           "aaxis": {
            "gridcolor": "#506784",
            "linecolor": "#506784",
            "ticks": ""
           },
           "baxis": {
            "gridcolor": "#506784",
            "linecolor": "#506784",
            "ticks": ""
           },
           "bgcolor": "rgb(17,17,17)",
           "caxis": {
            "gridcolor": "#506784",
            "linecolor": "#506784",
            "ticks": ""
           }
          },
          "title": {
           "x": 0.05
          },
          "updatemenudefaults": {
           "bgcolor": "#506784",
           "borderwidth": 0
          },
          "xaxis": {
           "automargin": true,
           "gridcolor": "#283442",
           "linecolor": "#506784",
           "ticks": "",
           "title": {
            "standoff": 15
           },
           "zerolinecolor": "#283442",
           "zerolinewidth": 2
          },
          "yaxis": {
           "automargin": true,
           "gridcolor": "#283442",
           "linecolor": "#506784",
           "ticks": "",
           "title": {
            "standoff": 15
           },
           "zerolinecolor": "#283442",
           "zerolinewidth": 2
          }
         }
        },
        "title": {
         "text": "Combined Entropy–Complexity Plots for Folder data/genres_30sec/blues"
        },
        "width": 1200,
        "xaxis": {
         "anchor": "y",
         "domain": [
          0,
          0.45
         ],
         "range": [
          0,
          1
         ]
        },
        "xaxis2": {
         "anchor": "y2",
         "domain": [
          0.55,
          1
         ],
         "range": [
          0,
          1
         ]
        },
        "xaxis3": {
         "anchor": "y3",
         "domain": [
          0,
          0.45
         ],
         "range": [
          0,
          1
         ]
        },
        "xaxis4": {
         "anchor": "y4",
         "domain": [
          0.55,
          1
         ],
         "range": [
          0,
          1
         ]
        },
        "xaxis5": {
         "anchor": "y5",
         "domain": [
          0,
          0.45
         ],
         "range": [
          0,
          1
         ]
        },
        "xaxis6": {
         "anchor": "y6",
         "domain": [
          0.55,
          1
         ],
         "range": [
          0,
          1
         ]
        },
        "yaxis": {
         "anchor": "x",
         "domain": [
          0.7777777777777778,
          1
         ],
         "range": [
          0,
          1
         ]
        },
        "yaxis2": {
         "anchor": "x2",
         "domain": [
          0.7777777777777778,
          1
         ],
         "range": [
          0,
          1
         ]
        },
        "yaxis3": {
         "anchor": "x3",
         "domain": [
          0.3888888888888889,
          0.6111111111111112
         ],
         "range": [
          0,
          1
         ]
        },
        "yaxis4": {
         "anchor": "x4",
         "domain": [
          0.3888888888888889,
          0.6111111111111112
         ],
         "range": [
          0,
          1
         ]
        },
        "yaxis5": {
         "anchor": "x5",
         "domain": [
          0,
          0.22222222222222224
         ],
         "range": [
          0,
          1
         ]
        },
        "yaxis6": {
         "anchor": "x6",
         "domain": [
          0,
          0.22222222222222224
         ],
         "range": [
          0,
          1
         ]
        }
       }
      }
     },
     "metadata": {},
     "output_type": "display_data"
    }
   ],
   "source": [
    "folder_path = \"data/genres_30sec/blues\"\n",
    "start = 4\n",
    "end = 10\n",
    "grid = 2\n",
    "folder = \"plots\"\n",
    "plot_graph(folder_path, start, end, grid, folder)"
   ]
  },
  {
   "cell_type": "markdown",
   "metadata": {},
   "source": [
    "Classical"
   ]
  },
  {
   "cell_type": "code",
   "execution_count": null,
   "metadata": {},
   "outputs": [
    {
     "name": "stderr",
     "output_type": "stream",
     "text": [
      "Processing audio files in data/genres_30sec/classical with dim 4 and hop 3: 100%|██████████| 100/100 [00:56<00:00,  1.76it/s]\n",
      "Processing audio files in data/genres_30sec/classical with dim 5 and hop 4: 100%|██████████| 100/100 [00:44<00:00,  2.26it/s]\n",
      "Processing audio files in data/genres_30sec/classical with dim 6 and hop 5: 100%|██████████| 100/100 [00:36<00:00,  2.76it/s]\n",
      "Processing audio files in data/genres_30sec/classical with dim 7 and hop 6: 100%|██████████| 100/100 [00:31<00:00,  3.13it/s]\n",
      "Processing audio files in data/genres_30sec/classical with dim 8 and hop 7: 100%|██████████| 100/100 [00:29<00:00,  3.42it/s]\n",
      "Processing audio files in data/genres_30sec/classical with dim 9 and hop 8: 100%|██████████| 100/100 [00:29<00:00,  3.44it/s]\n"
     ]
    },
    {
     "data": {
      "application/vnd.plotly.v1+json": {
       "config": {
        "plotlyServerURL": "https://plot.ly"
       },
       "data": [
        {
         "hovertemplate": "Entropy: %{x}<br>Complexity: %{y}<br>File: %{text}<extra></extra>",
         "marker": {
          "color": {
           "bdata": "vVWB6GGS0T9KvuO0mpjRP9p150B/pMo/KRyYJaDt0D/vK3BfNnvRP4vMrZ6A+9A/eM+LjbXT0T89s6g6n9XQPz6B2oErpNE/CxvE/Z1R0T8SvdKkFR/DP1SU5a/Iass/LOhbSAnozT+ZBePmxOHQPx/HPBGHAdI//JyV0xDzzT+FCu/qmKnRP4oirCFcANE/oqo48bInzz8KnFDaACLRP0iWMnAlbM4/nCJrSzvqzz+A8tP3u3zRPwI/kMPrGdA/xYo29HQP0j+9AiGQaXvQPxYqihYz5NA/MDhQnvFI0T/RydEfkHnRP6Pd4Gws3tE/WsAVjPAh0D+Lz8grtILPP1FE/CTqYNE/LBmkhwyb0T/2OTSIrMTRP827uLTmgdE/UvWhJcDN0T88kGHNpnnRP3b8qRnPKdE/dVrc8JO70T8SL0e6hJHQP4Nfq+DlkNE/0kmA9Iap0T+ckeKbxmbRPwQsEZn0VtE/P2cUFWyx0T9YWFu+VtPQP43affd4adE/6YPbW5Q30D8ma+vr28/PP77IDL6vKNE/1M5IV4bk0T+j2C7yF+fQP8rgkkauAdE/RkGkIHju0D9RmLL0imzRP5yiL5mNdtA/X7hpyiRU0T8UY0BJCZjRP4olh4tdOtA/2/F0+LiV0T+oNZifK3/QPwaGQdOal9A/e8q1HjCS0D9W/rJLMQrSP1KVog65ZM8/3OS7+AoG0T90C81VDVrRPwXXcwhoytA/4RdbTQxp0T/dNAwxX/vQP+ZQmDDgitE/X8Qes6CV0D/1bKn5jirRP1+wgqYtUdE/pZ1cOUn/0D8udNdPKrLRP84RDUJhFNA/s0kyYK3K0D9VG6JP8kbRPzB1liQ8PtE/gR1Ab9zy0D/UQuZdaNLRP/cTX+X8m88/VWXdLKySzT8eH1L0fK7LP6mEY2DzKNE/KlQU8bLb0D9hgwHj3knRP3J2wGwe188/GGZj94TtzT9ih785oHbRPw1WMnCZ7NA/kf86u4GO0T9XNdeWC7/QP4IT0Qk5utE/fMECys2dyz/+lcA09F/QP94a2kn+ONE/Y2Q3ID8Gzz8=",
           "dtype": "f8"
          },
          "colorscale": [
           [
            0,
            "#0508b8"
           ],
           [
            0.08333333333333333,
            "#1910d8"
           ],
           [
            0.16666666666666666,
            "#3c19f0"
           ],
           [
            0.25,
            "#6b1cfb"
           ],
           [
            0.3333333333333333,
            "#981cfd"
           ],
           [
            0.4166666666666667,
            "#bf1cfd"
           ],
           [
            0.5,
            "#dd2bfd"
           ],
           [
            0.5833333333333334,
            "#f246fe"
           ],
           [
            0.6666666666666666,
            "#fc67fd"
           ],
           [
            0.75,
            "#fe88fc"
           ],
           [
            0.8333333333333334,
            "#fea5fd"
           ],
           [
            0.9166666666666666,
            "#febefe"
           ],
           [
            1,
            "#fec3fe"
           ]
          ],
          "size": 10
         },
         "mode": "markers",
         "name": "Dim = 4, Hop = 3",
         "showlegend": true,
         "text": [
          "classical.00079.wav",
          "classical.00045.wav",
          "classical.00051.wav",
          "classical.00086.wav",
          "classical.00092.wav",
          "classical.00093.wav",
          "classical.00087.wav",
          "classical.00050.wav",
          "classical.00044.wav",
          "classical.00078.wav",
          "classical.00052.wav",
          "classical.00046.wav",
          "classical.00091.wav",
          "classical.00085.wav",
          "classical.00084.wav",
          "classical.00090.wav",
          "classical.00047.wav",
          "classical.00053.wav",
          "classical.00057.wav",
          "classical.00043.wav",
          "classical.00094.wav",
          "classical.00080.wav",
          "classical.00081.wav",
          "classical.00095.wav",
          "classical.00042.wav",
          "classical.00056.wav",
          "classical.00040.wav",
          "classical.00054.wav",
          "classical.00068.wav",
          "classical.00083.wav",
          "classical.00097.wav",
          "classical.00096.wav",
          "classical.00082.wav",
          "classical.00069.wav",
          "classical.00055.wav",
          "classical.00041.wav",
          "classical.00026.wav",
          "classical.00032.wav",
          "classical.00033.wav",
          "classical.00027.wav",
          "classical.00019.wav",
          "classical.00031.wav",
          "classical.00025.wav",
          "classical.00024.wav",
          "classical.00030.wav",
          "classical.00018.wav",
          "classical.00034.wav",
          "classical.00020.wav",
          "classical.00008.wav",
          "classical.00009.wav",
          "classical.00021.wav",
          "classical.00035.wav",
          "classical.00023.wav",
          "classical.00037.wav",
          "classical.00036.wav",
          "classical.00022.wav",
          "classical.00007.wav",
          "classical.00013.wav",
          "classical.00012.wav",
          "classical.00006.wav",
          "classical.00038.wav",
          "classical.00010.wav",
          "classical.00004.wav",
          "classical.00005.wav",
          "classical.00011.wav",
          "classical.00039.wav",
          "classical.00015.wav",
          "classical.00001.wav",
          "classical.00029.wav",
          "classical.00028.wav",
          "classical.00000.wav",
          "classical.00014.wav",
          "classical.00002.wav",
          "classical.00016.wav",
          "classical.00017.wav",
          "classical.00003.wav",
          "classical.00058.wav",
          "classical.00064.wav",
          "classical.00070.wav",
          "classical.00071.wav",
          "classical.00065.wav",
          "classical.00059.wav",
          "classical.00073.wav",
          "classical.00067.wav",
          "classical.00098.wav",
          "classical.00099.wav",
          "classical.00066.wav",
          "classical.00072.wav",
          "classical.00076.wav",
          "classical.00062.wav",
          "classical.00089.wav",
          "classical.00088.wav",
          "classical.00063.wav",
          "classical.00077.wav",
          "classical.00061.wav",
          "classical.00075.wav",
          "classical.00049.wav",
          "classical.00048.wav",
          "classical.00074.wav",
          "classical.00060.wav"
         ],
         "type": "scatter",
         "x": {
          "bdata": "WCAeqtOs3D9ODj1P27rhP7VihhCCEOg/fE9EYeod5D8frbuO38HkP/LzJpcpj+Q/9d28OtZY4D/RQ1gp/EnkP54bBtU9x+I/hJG8O1sb3D8O1C6AgzvrPz86KTpbYeg/383MlegR6D8P6FoPI4rkPym8RdxhD+E/SCnSsBkX6D+VAMyY33TiPwBPwTVx5eQ/NY6b5DL95T88EJMAJLLgPx+CvEBqOec/3xYNwk3I5D9I0pSHf7ziP7Gvhk0A2uY/1gQtHXKR4j8KJ8JN0hnmP1GlmwubjOQ/klSxg1gv5T9pB6ctRtvjPwsau1ZrNt8/yIkSBb+N5T/t1GKqczDnPyRneHKBBuQ/W7cvfuQp4z9zF1zyCxfhP3mVMr+h9+M/KyvIQ2DG4j9iPnjjKCDgPw+J05ONuuM//jymBcqT4D9Ot+MQe6zkP9dGyV/7B+E/xVZd1I2s4j+qUzdlHnjjP4qYPrsI++M/ndUlAUe/4j/3PRjeTVPlPwjUEZY0qOM/1IGiQd/g5T+gwDv90g3mP/kOz2qwMOQ/l63UYEsM4j8JnuF/GuzjP2YOcrM+POU/sDTzyrLW4z+3WhicGkvjP37wPdZMZOU/1Ia7eksO5D9OgtWLu+riP1BT8DLv2eU/vQ7gvf/W4z9ZICoYNUjlPy+qx2/jkuU//xl7f2535T+i+Zd3pBnhPzOQRH3wfeY/d6uvqP2D5D8HDkVZA1HjPx4rLDytNOU/CHIme5Sr4z9C9aAXAmvkP+UsigMJV+M/Y5xNH5z/5D/xIm9XUbPiP358WYCki+M/Lrj5qEkc5T8Ezqb6zmDiP7KG4q3fU+M/DGcSMFmE5D917DzyFvfjP08BQfJwZd4/55P/KsIQ5T/4+bZqUQTiP6mLYuB7nOM/my6Xd4gU6D+j8EdlvYjoPwsjZSZk29w/nOgrud+25D/DLFAv3uzjP5c9M31VH+U/AXnPIMro5z+ShxmoWk7jPz+D5MSx49w/E+B/DmH43D9oOwbXo0bkP4S7Z2/ws+I/o/syEMse6D/3vvUirS7lP0vtM4h4+OM/vGx/8u+f5j8=",
          "dtype": "f8"
         },
         "xaxis": "x",
         "y": {
          "bdata": "vVWB6GGS0T9KvuO0mpjRP9p150B/pMo/KRyYJaDt0D/vK3BfNnvRP4vMrZ6A+9A/eM+LjbXT0T89s6g6n9XQPz6B2oErpNE/CxvE/Z1R0T8SvdKkFR/DP1SU5a/Iass/LOhbSAnozT+ZBePmxOHQPx/HPBGHAdI//JyV0xDzzT+FCu/qmKnRP4oirCFcANE/oqo48bInzz8KnFDaACLRP0iWMnAlbM4/nCJrSzvqzz+A8tP3u3zRPwI/kMPrGdA/xYo29HQP0j+9AiGQaXvQPxYqihYz5NA/MDhQnvFI0T/RydEfkHnRP6Pd4Gws3tE/WsAVjPAh0D+Lz8grtILPP1FE/CTqYNE/LBmkhwyb0T/2OTSIrMTRP827uLTmgdE/UvWhJcDN0T88kGHNpnnRP3b8qRnPKdE/dVrc8JO70T8SL0e6hJHQP4Nfq+DlkNE/0kmA9Iap0T+ckeKbxmbRPwQsEZn0VtE/P2cUFWyx0T9YWFu+VtPQP43affd4adE/6YPbW5Q30D8ma+vr28/PP77IDL6vKNE/1M5IV4bk0T+j2C7yF+fQP8rgkkauAdE/RkGkIHju0D9RmLL0imzRP5yiL5mNdtA/X7hpyiRU0T8UY0BJCZjRP4olh4tdOtA/2/F0+LiV0T+oNZifK3/QPwaGQdOal9A/e8q1HjCS0D9W/rJLMQrSP1KVog65ZM8/3OS7+AoG0T90C81VDVrRPwXXcwhoytA/4RdbTQxp0T/dNAwxX/vQP+ZQmDDgitE/X8Qes6CV0D/1bKn5jirRP1+wgqYtUdE/pZ1cOUn/0D8udNdPKrLRP84RDUJhFNA/s0kyYK3K0D9VG6JP8kbRPzB1liQ8PtE/gR1Ab9zy0D/UQuZdaNLRP/cTX+X8m88/VWXdLKySzT8eH1L0fK7LP6mEY2DzKNE/KlQU8bLb0D9hgwHj3knRP3J2wGwe188/GGZj94TtzT9ih785oHbRPw1WMnCZ7NA/kf86u4GO0T9XNdeWC7/QP4IT0Qk5utE/fMECys2dyz/+lcA09F/QP94a2kn+ONE/Y2Q3ID8Gzz8=",
          "dtype": "f8"
         },
         "yaxis": "y"
        },
        {
         "hovertemplate": "Entropy: %{x}<br>Complexity: %{y}<br>File: %{text}<extra></extra>",
         "marker": {
          "color": {
           "bdata": "bomyoCAi0j/H9o1GM+bTP4S/FkA8G9E/qQeI+/dI1D+yPMkZ4/PVPyJcI5iy6NQ/rOoN8mR+0z9408pAeErUP18yRshUuNQ/gdxhhFx40T/aq9BtDTvLP3Mvb60mYtI/+Ev6nvJd1D/tTxTS2KjUP8+CC5MiLtQ/eFSUKrxV1D+9zuF39pLUP9w+q40HFtU/DOND2Jxf0z/fVyhLSjbSPxXbA8cb3dM/QtDLtP/Y0j80IL30C3TUP/0oXuBoS9U/DIasJHBn1T+p0yjc51LVP1bPm3A9jtQ/8aJN++cR1j847LzyfzDVPybMlBVDLtM/eIPnZnoQ1D9e4zCHafTUP6gicuQTGdU/SvB0YQfj1D9Nz0RxodfTPxp317K8UdU/5gukkfT01D+ZvQg0oIfSP4zmEqxjV9Q/sKuDQZRi0z/L0NN9BAPUPyr8OSX+NNM/JbJobPmW1D+zJn9jAsHUP0c6UTWt7dQ/uODpuA6p1D/lQOwSFjXVPz1a4du+29Q/dcsQGGCJ1D9fR8lMBPbTP9SZU5vPwtQ/En0i9uWJ1D+gJd7e9AjUP6NDqMOkZNU/U1uA3LTS0z9fDNwA+pbUP3uabmPuhdQ/L5rP6ckM1T8CHhc6zJ/UP+Zz+YdPitQ/tL9fSUNI1T9hYJizW3fUP2fyjaeZ99Q/XXJrVsLT1D+umDKU5kHUPytPk9cfGtQ/pW3JMY3C1D/1fmvgioPUP5VcZ5sZCdU/SgwYa3nj1D+dDXw8o7HUPyFiYXjb19Q/Yidn6Pdv1D83a0W1l4fTP7uz1npmkNQ/u7ynwAMx1T9eCL2u1KbUP8QLw9fUs9E/CGW7scx71D9u/96vH/PUP4JGsajL19E/9+KviCs+1T84dRy56n7UP07dBTzyT9E/Kk9niOMA1D9eynaBIbnSP6qQ9pGSWtE/LIb2vZzT1D87VmKXiPHUP/H2DnbRP9M/4CAPi7kx1D8Kby36ncLUPxQzN29Gt9A/SckeQggZ0j+8wUfFKybUPxBFt2PDzNQ/V21V8L9H0j/oTA2uMQDUP41MVDEb0NQ/e8sWhi740z8=",
           "dtype": "f8"
          },
          "colorscale": [
           [
            0,
            "#0508b8"
           ],
           [
            0.08333333333333333,
            "#1910d8"
           ],
           [
            0.16666666666666666,
            "#3c19f0"
           ],
           [
            0.25,
            "#6b1cfb"
           ],
           [
            0.3333333333333333,
            "#981cfd"
           ],
           [
            0.4166666666666667,
            "#bf1cfd"
           ],
           [
            0.5,
            "#dd2bfd"
           ],
           [
            0.5833333333333334,
            "#f246fe"
           ],
           [
            0.6666666666666666,
            "#fc67fd"
           ],
           [
            0.75,
            "#fe88fc"
           ],
           [
            0.8333333333333334,
            "#fea5fd"
           ],
           [
            0.9166666666666666,
            "#febefe"
           ],
           [
            1,
            "#fec3fe"
           ]
          ],
          "size": 10
         },
         "mode": "markers",
         "name": "Dim = 5, Hop = 4",
         "showlegend": true,
         "text": [
          "classical.00079.wav",
          "classical.00045.wav",
          "classical.00051.wav",
          "classical.00086.wav",
          "classical.00092.wav",
          "classical.00093.wav",
          "classical.00087.wav",
          "classical.00050.wav",
          "classical.00044.wav",
          "classical.00078.wav",
          "classical.00052.wav",
          "classical.00046.wav",
          "classical.00091.wav",
          "classical.00085.wav",
          "classical.00084.wav",
          "classical.00090.wav",
          "classical.00047.wav",
          "classical.00053.wav",
          "classical.00057.wav",
          "classical.00043.wav",
          "classical.00094.wav",
          "classical.00080.wav",
          "classical.00081.wav",
          "classical.00095.wav",
          "classical.00042.wav",
          "classical.00056.wav",
          "classical.00040.wav",
          "classical.00054.wav",
          "classical.00068.wav",
          "classical.00083.wav",
          "classical.00097.wav",
          "classical.00096.wav",
          "classical.00082.wav",
          "classical.00069.wav",
          "classical.00055.wav",
          "classical.00041.wav",
          "classical.00026.wav",
          "classical.00032.wav",
          "classical.00033.wav",
          "classical.00027.wav",
          "classical.00019.wav",
          "classical.00031.wav",
          "classical.00025.wav",
          "classical.00024.wav",
          "classical.00030.wav",
          "classical.00018.wav",
          "classical.00034.wav",
          "classical.00020.wav",
          "classical.00008.wav",
          "classical.00009.wav",
          "classical.00021.wav",
          "classical.00035.wav",
          "classical.00023.wav",
          "classical.00037.wav",
          "classical.00036.wav",
          "classical.00022.wav",
          "classical.00007.wav",
          "classical.00013.wav",
          "classical.00012.wav",
          "classical.00006.wav",
          "classical.00038.wav",
          "classical.00010.wav",
          "classical.00004.wav",
          "classical.00005.wav",
          "classical.00011.wav",
          "classical.00039.wav",
          "classical.00015.wav",
          "classical.00001.wav",
          "classical.00029.wav",
          "classical.00028.wav",
          "classical.00000.wav",
          "classical.00014.wav",
          "classical.00002.wav",
          "classical.00016.wav",
          "classical.00017.wav",
          "classical.00003.wav",
          "classical.00058.wav",
          "classical.00064.wav",
          "classical.00070.wav",
          "classical.00071.wav",
          "classical.00065.wav",
          "classical.00059.wav",
          "classical.00073.wav",
          "classical.00067.wav",
          "classical.00098.wav",
          "classical.00099.wav",
          "classical.00066.wav",
          "classical.00072.wav",
          "classical.00076.wav",
          "classical.00062.wav",
          "classical.00089.wav",
          "classical.00088.wav",
          "classical.00063.wav",
          "classical.00077.wav",
          "classical.00061.wav",
          "classical.00075.wav",
          "classical.00049.wav",
          "classical.00048.wav",
          "classical.00074.wav",
          "classical.00060.wav"
         ],
         "type": "scatter",
         "x": {
          "bdata": "v+WhuUil2D9oZV6ION/fP5JVFTU9qOY/L5ivnoWD4j9i59B1oxXjP246Y3zi7uI/v6924wDr3D/VNUscuabiP8+csqGVBuE/8reUZc3+1z9KN62+eELqP/jik43oHOc/5sq+fZ3G5j/4ptIozu3iP+ejvNJZUN4/Spy/nX7V5j+Q2/2FM7TgP70kXYReTuM/5jYCtGmP5D9g30HrIXjdP/1AwAHP4+U/O6tGpawk4z/Xhe1mgP7gP2lV6T2cY+U/dsXoaq7G4D/J895Z2ZzkP5AIOEsD+eI/CPa8RL2E4z8i3KYk4zHiP0MdN62hQ9s/DuSAYiwD5D8vy69+fcPlP/Ej3Lcea+I/oo5WOnFv4T8H7fLbPW3ePxljWrUzTOI/u6mmIigM4T+1ZB1TJlHcP6oHIrUgFeI/gjqOJRFQ3T+dHVs4lBbjP64PFXU4Vt4/vI/Fqjnm4D96YoS3uMvhP/3zj9/jYuI/UemPr/QQ4T+Gl/h4BsnjP6O/t5Ds9+E/lbzn9HFr5D/qWd3dZJfkP675hqbsj+I/dUqvIpVF4D9P67BM0EviP16Wal3tuOM/hAzL9gwr4j+sjWAXRaThP+aVbMzC5OM/n+abz6p94j+K3NrdwTPhPzncK1uiXeQ/u8KMKEE04j97Gf5Onr7jP47aNvwgF+Q/t5Jg2dz44z/8vj0EAXXeP+x7UcgEFeU/qx2WsQ3p4j9EhjWWwqThP+YsnD3asOM/+3PJla784T8cWDrGItTiP5LOC/93reE/cgy13BV14z92XxTCeuvgP6Kubs/i4+E/uQuyQsOL4z8XLJFW+4bgP5yE+YRpLeE/JO+ewA/s4j/K6Y5GwlHiP9RCayaNP9o/H2VCzF6F4z86WafU/zzgP0yekbGZn+E/JDcGHxzU5j/EboR6DEjnP6de5gGXsNg/B3VJVlcl4z9I/glC50riP2F5P50Ah+M/h4LD99Cd5j/YMGvWvKjhP7dlvq2cetg/B9MbXrjy2D+cGYArP6/iP3gTlsxBAOE/g2e6ePLY5j9y6SfgDq/jP1sVPJESYOI/AO4BW9I25T8=",
          "dtype": "f8"
         },
         "xaxis": "x2",
         "y": {
          "bdata": "bomyoCAi0j/H9o1GM+bTP4S/FkA8G9E/qQeI+/dI1D+yPMkZ4/PVPyJcI5iy6NQ/rOoN8mR+0z9408pAeErUP18yRshUuNQ/gdxhhFx40T/aq9BtDTvLP3Mvb60mYtI/+Ev6nvJd1D/tTxTS2KjUP8+CC5MiLtQ/eFSUKrxV1D+9zuF39pLUP9w+q40HFtU/DOND2Jxf0z/fVyhLSjbSPxXbA8cb3dM/QtDLtP/Y0j80IL30C3TUP/0oXuBoS9U/DIasJHBn1T+p0yjc51LVP1bPm3A9jtQ/8aJN++cR1j847LzyfzDVPybMlBVDLtM/eIPnZnoQ1D9e4zCHafTUP6gicuQTGdU/SvB0YQfj1D9Nz0RxodfTPxp317K8UdU/5gukkfT01D+ZvQg0oIfSP4zmEqxjV9Q/sKuDQZRi0z/L0NN9BAPUPyr8OSX+NNM/JbJobPmW1D+zJn9jAsHUP0c6UTWt7dQ/uODpuA6p1D/lQOwSFjXVPz1a4du+29Q/dcsQGGCJ1D9fR8lMBPbTP9SZU5vPwtQ/En0i9uWJ1D+gJd7e9AjUP6NDqMOkZNU/U1uA3LTS0z9fDNwA+pbUP3uabmPuhdQ/L5rP6ckM1T8CHhc6zJ/UP+Zz+YdPitQ/tL9fSUNI1T9hYJizW3fUP2fyjaeZ99Q/XXJrVsLT1D+umDKU5kHUPytPk9cfGtQ/pW3JMY3C1D/1fmvgioPUP5VcZ5sZCdU/SgwYa3nj1D+dDXw8o7HUPyFiYXjb19Q/Yidn6Pdv1D83a0W1l4fTP7uz1npmkNQ/u7ynwAMx1T9eCL2u1KbUP8QLw9fUs9E/CGW7scx71D9u/96vH/PUP4JGsajL19E/9+KviCs+1T84dRy56n7UP07dBTzyT9E/Kk9niOMA1D9eynaBIbnSP6qQ9pGSWtE/LIb2vZzT1D87VmKXiPHUP/H2DnbRP9M/4CAPi7kx1D8Kby36ncLUPxQzN29Gt9A/SckeQggZ0j+8wUfFKybUPxBFt2PDzNQ/V21V8L9H0j/oTA2uMQDUP41MVDEb0NQ/e8sWhi740z8=",
          "dtype": "f8"
         },
         "yaxis": "y2"
        },
        {
         "hovertemplate": "Entropy: %{x}<br>Complexity: %{y}<br>File: %{text}<extra></extra>",
         "marker": {
          "color": {
           "bdata": "wA/As5uN0j+CXGzQbenVP7OYlcg+ptQ/QzlzFJg51z8y2FChP2vZP5GBggy4QNg/R5bCNVTZ1D8pp5DQq2nXP5ZBaSGANdc/1IodXGy00T86Cgpv57rRP30u0C1c2dY/2ZX4SlUi2T8qTilrYM3XP6wkNRn06tU/cxwYb20f2T+Blycrpf7WP72q5Dnpjdg/lqMOymbV1j/R3fkeCU7TP7dwN9usHdg/SnQLcWVr1T+uQf6G5e3WP02Yrr/1l9k/7Ti7isfy1z/HtPVwplHZPwqMamdW6tc/IdA3wk+b2T+n9AOQlEnYPwuubjcURtQ/0t1DQtrC1z+bmXAhFHHZP3TOtIibPtg/Ij+dz3yY1z/EasGjQYLVP+NXINFPddg/pNuzX6aG1z96xg67NZXTPx74M8DVKNc/0mlnT1LZ1D/J7oE97iPXP1kDisj1s9Q/hYYtFwQf1z9QJ9OD4pfXP09IoUO+B9g/Y0HoIJ0i1z+vaSesj/fYP4km+Zphwdc/5NOjgZVo2D9haC3BS7nXP/xX7+314dc/eyzYp+mc1j8uNiHVUN3WP8L0A2QJKNk/hEAofUds1j8/8q6nH0LXP0sczKQYKdg/gM41GLox2D+L39GZSTHXPzDQCYu1X9g/crwainJc2D9pcI5rwgDYPw2LOONx19g/IUKsbYuc2D/Ed16I0v/VP8Zk7a1JKdg/CV6jIgQI2D+3ZiDKQE/XP0kXzkxWstg/tG/synHK1z+rWKo7kfjXP0yD41U6qdc/puE9G+/s1z8Z0ZcZQbTVP5dY8iZyVNc/V2NGGSm/2D8hnr42s/LWP6ya4tDrMtM/RZu6hfai1z/OwC0vVgvYPyiRfdbSidI/wzTerOzc2D/PxWjqE7PWPyZyofBgotI/lNdFuJPV2D+IU8iFCYHXP57RusqPy9E//To0xgU42D90Ow6qIAnYP6RuIjzDJtY/WmIeZwEG2T9EKJiyEX7XP8WcDiQS1tA/JkbjcSaR0j8FWj+7bPfWP4g+S+iXStc/MvaqYXxw1j8RESfr7SHXPyKpWTTu49c/OlfvLBr61z8=",
           "dtype": "f8"
          },
          "colorscale": [
           [
            0,
            "#0508b8"
           ],
           [
            0.08333333333333333,
            "#1910d8"
           ],
           [
            0.16666666666666666,
            "#3c19f0"
           ],
           [
            0.25,
            "#6b1cfb"
           ],
           [
            0.3333333333333333,
            "#981cfd"
           ],
           [
            0.4166666666666667,
            "#bf1cfd"
           ],
           [
            0.5,
            "#dd2bfd"
           ],
           [
            0.5833333333333334,
            "#f246fe"
           ],
           [
            0.6666666666666666,
            "#fc67fd"
           ],
           [
            0.75,
            "#fe88fc"
           ],
           [
            0.8333333333333334,
            "#fea5fd"
           ],
           [
            0.9166666666666666,
            "#febefe"
           ],
           [
            1,
            "#fec3fe"
           ]
          ],
          "size": 10
         },
         "mode": "markers",
         "name": "Dim = 6, Hop = 5",
         "showlegend": true,
         "text": [
          "classical.00079.wav",
          "classical.00045.wav",
          "classical.00051.wav",
          "classical.00086.wav",
          "classical.00092.wav",
          "classical.00093.wav",
          "classical.00087.wav",
          "classical.00050.wav",
          "classical.00044.wav",
          "classical.00078.wav",
          "classical.00052.wav",
          "classical.00046.wav",
          "classical.00091.wav",
          "classical.00085.wav",
          "classical.00084.wav",
          "classical.00090.wav",
          "classical.00047.wav",
          "classical.00053.wav",
          "classical.00057.wav",
          "classical.00043.wav",
          "classical.00094.wav",
          "classical.00080.wav",
          "classical.00081.wav",
          "classical.00095.wav",
          "classical.00042.wav",
          "classical.00056.wav",
          "classical.00040.wav",
          "classical.00054.wav",
          "classical.00068.wav",
          "classical.00083.wav",
          "classical.00097.wav",
          "classical.00096.wav",
          "classical.00082.wav",
          "classical.00069.wav",
          "classical.00055.wav",
          "classical.00041.wav",
          "classical.00026.wav",
          "classical.00032.wav",
          "classical.00033.wav",
          "classical.00027.wav",
          "classical.00019.wav",
          "classical.00031.wav",
          "classical.00025.wav",
          "classical.00024.wav",
          "classical.00030.wav",
          "classical.00018.wav",
          "classical.00034.wav",
          "classical.00020.wav",
          "classical.00008.wav",
          "classical.00009.wav",
          "classical.00021.wav",
          "classical.00035.wav",
          "classical.00023.wav",
          "classical.00037.wav",
          "classical.00036.wav",
          "classical.00022.wav",
          "classical.00007.wav",
          "classical.00013.wav",
          "classical.00012.wav",
          "classical.00006.wav",
          "classical.00038.wav",
          "classical.00010.wav",
          "classical.00004.wav",
          "classical.00005.wav",
          "classical.00011.wav",
          "classical.00039.wav",
          "classical.00015.wav",
          "classical.00001.wav",
          "classical.00029.wav",
          "classical.00028.wav",
          "classical.00000.wav",
          "classical.00014.wav",
          "classical.00002.wav",
          "classical.00016.wav",
          "classical.00017.wav",
          "classical.00003.wav",
          "classical.00058.wav",
          "classical.00064.wav",
          "classical.00070.wav",
          "classical.00071.wav",
          "classical.00065.wav",
          "classical.00059.wav",
          "classical.00073.wav",
          "classical.00067.wav",
          "classical.00098.wav",
          "classical.00099.wav",
          "classical.00066.wav",
          "classical.00072.wav",
          "classical.00076.wav",
          "classical.00062.wav",
          "classical.00089.wav",
          "classical.00088.wav",
          "classical.00063.wav",
          "classical.00077.wav",
          "classical.00061.wav",
          "classical.00075.wav",
          "classical.00049.wav",
          "classical.00048.wav",
          "classical.00074.wav",
          "classical.00060.wav"
         ],
         "type": "scatter",
         "x": {
          "bdata": "A/hem/U61j9VEcFgkMHdPxrn/j7Ds+U/0yLpjxKK4T8ZUt8GpQviP+213SW/6OE/UDEcd02i2j+SCG+KP6bhP+df5zqPAeA/ACF3KXuw1T/sUf9+/prpP7vfDNITUeY/hvGg3J0I5j/pIje9zPvhP9vGvn4LG9w/EeZx4gAM5j+i98ZanlLfP3WXi6DvYuI/dRopllmn4z/2WEOvEBLbP+pZZcyJBuU/jHOqbckb4j/rVSJDreLfP7FXRkMQmeQ/EWwr8oFp3z8e/iqrnrPjPzW+5yBn/uE/XsxFuNh14j+NHZ2Gni3hPyEVr7XCDdk/1PRIvlUN4z/l3D3wSv7kPx3ENqIXcuE/LonpyjJh4D+T2NWfuTLcPz6iXKpWWOE/W1kmfuP73z//qa4t2hDaP7arnVnCEuE/vHY1p44U2z/pNpVwsAviP0ZjGRBFFNw/Y9LeEunO3z82rfDTfMngPy5uwcvhc+E/vW/uiJ0Q4D8MGfjZCN3iP6EZ8rSf9+A/vPs71oR94z9xdsr+A53jP7rL4IYenOE/90NBGatm3j9kDMlXbEPhP8TAlitCyuI//hjMPfAh4T96QhTRFJvgP0AFxiCW9eI/hRnGF76A4T/Zi73IDS/gP8dHfoNEfuM/JhZQUTxK4T8RuQshO8PiP1XzJpuqMeM/zZO5CX0F4z9u2cXE2kHcP5cNSIjtMuQ/nWQb1rbr4T/A8IiR9ZjgP9Hh2hKFy+I/yM4mCZn/4D+/61lxyt7hPxfEhD99ruA/bUMZmsR84j/6SJ5YDq7fP6cLsxZ90uA/mhYPI4uk4j90fWVwzeLePwk3gUUspN8/flSedqb44T8acP3RVVXhP7WUw7E309c/rmaCif2P4j8snr1Q5WLePwMFuPpyWuA/9WYz3EoO5j8M0Hj25XLmP9qeRinMXdY/xW+skqM54j+GFW+w6FXhP8SidUayjeI/5s5OQu7G5T8LCPh9HZ7gP4DiQrtC4dU/r69RrdGR1j90s3TSu6XhP/AAnMey8d8/RRppBuEN5j9KjOWrNsbiP6QE+Wf2bOE/HaYsiPNb5D8=",
          "dtype": "f8"
         },
         "xaxis": "x3",
         "y": {
          "bdata": "wA/As5uN0j+CXGzQbenVP7OYlcg+ptQ/QzlzFJg51z8y2FChP2vZP5GBggy4QNg/R5bCNVTZ1D8pp5DQq2nXP5ZBaSGANdc/1IodXGy00T86Cgpv57rRP30u0C1c2dY/2ZX4SlUi2T8qTilrYM3XP6wkNRn06tU/cxwYb20f2T+Blycrpf7WP72q5Dnpjdg/lqMOymbV1j/R3fkeCU7TP7dwN9usHdg/SnQLcWVr1T+uQf6G5e3WP02Yrr/1l9k/7Ti7isfy1z/HtPVwplHZPwqMamdW6tc/IdA3wk+b2T+n9AOQlEnYPwuubjcURtQ/0t1DQtrC1z+bmXAhFHHZP3TOtIibPtg/Ij+dz3yY1z/EasGjQYLVP+NXINFPddg/pNuzX6aG1z96xg67NZXTPx74M8DVKNc/0mlnT1LZ1D/J7oE97iPXP1kDisj1s9Q/hYYtFwQf1z9QJ9OD4pfXP09IoUO+B9g/Y0HoIJ0i1z+vaSesj/fYP4km+Zphwdc/5NOjgZVo2D9haC3BS7nXP/xX7+314dc/eyzYp+mc1j8uNiHVUN3WP8L0A2QJKNk/hEAofUds1j8/8q6nH0LXP0sczKQYKdg/gM41GLox2D+L39GZSTHXPzDQCYu1X9g/crwainJc2D9pcI5rwgDYPw2LOONx19g/IUKsbYuc2D/Ed16I0v/VP8Zk7a1JKdg/CV6jIgQI2D+3ZiDKQE/XP0kXzkxWstg/tG/synHK1z+rWKo7kfjXP0yD41U6qdc/puE9G+/s1z8Z0ZcZQbTVP5dY8iZyVNc/V2NGGSm/2D8hnr42s/LWP6ya4tDrMtM/RZu6hfai1z/OwC0vVgvYPyiRfdbSidI/wzTerOzc2D/PxWjqE7PWPyZyofBgotI/lNdFuJPV2D+IU8iFCYHXP57RusqPy9E//To0xgU42D90Ow6qIAnYP6RuIjzDJtY/WmIeZwEG2T9EKJiyEX7XP8WcDiQS1tA/JkbjcSaR0j8FWj+7bPfWP4g+S+iXStc/MvaqYXxw1j8RESfr7SHXPyKpWTTu49c/OlfvLBr61z8=",
          "dtype": "f8"
         },
         "yaxis": "y3"
        },
        {
         "hovertemplate": "Entropy: %{x}<br>Complexity: %{y}<br>File: %{text}<extra></extra>",
         "marker": {
          "color": {
           "bdata": "3g1oXYm10j/PDbNSimzXP4gWtjsbFdg/QCF4ZTig2T+KLGP0Wt/bP5J1I9Jjuto/vc0ApwTU1T+5/69HNf7ZP8ZTJN7OINk/nf+vjm/E0T86aM6AlAvWP0YOEXRCAds/FtfliKRW3T/Y6riXQXHaPxUxIpVkIdc/yoc7V+1d3T9bp93rbtbYP4HA1DTxSts/IhDzZATr2T+pRC7UE0LUP3ZDKJ7Ryts/YMnuxq3d1z8A8usFs+bYP0SqYnHNMN0/BNgSx/eS2T+rErspn6rcP16jmP1bkdo/xHs3bnsq3D/bwZYJLbLaP41mC77W4NQ/cPxlaB3Y2j9KlFRfG0jdP8LeL9ctuNo/0tiHaZ252T+IZJ68ILbWPz3DL+576do/ic/DfxVT2T8Nl+L61HDUP/0ymrkbV9k/Xo4m3Bjs1T/2LUmWCc3ZP/u7CQ4C2dU/JFr6bocD2T/+rjFLKNLZP8YACCOThdo/WNytvzn82D9wVEl9gwfcP7vLKjVNB9o/wECDA2q72z8UQQllmffaPzURxF7uZdo/tEHAW5Iy2D+GGhveWkLZPzMHk9qQItw/pdoo/k6Z2D8GMniyfWPZP2k6PlQ7Mts/Shnqt/Ss2j9HQJMjri/ZPxmEpsBEv9s/mNAVUwu+2j+6VB0QPQrbP86FFL2u9ds/aWJzPC+z2z+91tK6zijXP6CybLlEk9s/hk8xcVC92j/8etfZ/nLZP5xYRsPHuds/1T02tIUI2j/qE2063p7aPy5R1Nhl1Nk/mLLYhDzV2j9wyke/wY7XPx11yzxpltk/3wY6L2aq2z+iPhysTHvYP//j9jIftNQ/od0VUDFS2j8b/rahvIPaP5aVAVHp8dI/a4Ai7+DM2z9Tw9jXPjrYP3zCx7g1C9Q/cvbaFj8D3T+6RBJ2WeHbP3MHKrV5+9E/gMM5gMH02j/pRXstJXnaP2KFr6Gswdg/f16e5PIb3T/KBUKkYrLZP9sOL6uNFdE/Aql60lXK0j+KHQ+NYTbZP/f8cSCPONk/IaaaePJs2j+QFx9SYtvZPy+BTJeDXdo/WuGZTMd62z8=",
           "dtype": "f8"
          },
          "colorscale": [
           [
            0,
            "#0508b8"
           ],
           [
            0.08333333333333333,
            "#1910d8"
           ],
           [
            0.16666666666666666,
            "#3c19f0"
           ],
           [
            0.25,
            "#6b1cfb"
           ],
           [
            0.3333333333333333,
            "#981cfd"
           ],
           [
            0.4166666666666667,
            "#bf1cfd"
           ],
           [
            0.5,
            "#dd2bfd"
           ],
           [
            0.5833333333333334,
            "#f246fe"
           ],
           [
            0.6666666666666666,
            "#fc67fd"
           ],
           [
            0.75,
            "#fe88fc"
           ],
           [
            0.8333333333333334,
            "#fea5fd"
           ],
           [
            0.9166666666666666,
            "#febefe"
           ],
           [
            1,
            "#fec3fe"
           ]
          ],
          "size": 10
         },
         "mode": "markers",
         "name": "Dim = 7, Hop = 6",
         "showlegend": true,
         "text": [
          "classical.00079.wav",
          "classical.00045.wav",
          "classical.00051.wav",
          "classical.00086.wav",
          "classical.00092.wav",
          "classical.00093.wav",
          "classical.00087.wav",
          "classical.00050.wav",
          "classical.00044.wav",
          "classical.00078.wav",
          "classical.00052.wav",
          "classical.00046.wav",
          "classical.00091.wav",
          "classical.00085.wav",
          "classical.00084.wav",
          "classical.00090.wav",
          "classical.00047.wav",
          "classical.00053.wav",
          "classical.00057.wav",
          "classical.00043.wav",
          "classical.00094.wav",
          "classical.00080.wav",
          "classical.00081.wav",
          "classical.00095.wav",
          "classical.00042.wav",
          "classical.00056.wav",
          "classical.00040.wav",
          "classical.00054.wav",
          "classical.00068.wav",
          "classical.00083.wav",
          "classical.00097.wav",
          "classical.00096.wav",
          "classical.00082.wav",
          "classical.00069.wav",
          "classical.00055.wav",
          "classical.00041.wav",
          "classical.00026.wav",
          "classical.00032.wav",
          "classical.00033.wav",
          "classical.00027.wav",
          "classical.00019.wav",
          "classical.00031.wav",
          "classical.00025.wav",
          "classical.00024.wav",
          "classical.00030.wav",
          "classical.00018.wav",
          "classical.00034.wav",
          "classical.00020.wav",
          "classical.00008.wav",
          "classical.00009.wav",
          "classical.00021.wav",
          "classical.00035.wav",
          "classical.00023.wav",
          "classical.00037.wav",
          "classical.00036.wav",
          "classical.00022.wav",
          "classical.00007.wav",
          "classical.00013.wav",
          "classical.00012.wav",
          "classical.00006.wav",
          "classical.00038.wav",
          "classical.00010.wav",
          "classical.00004.wav",
          "classical.00005.wav",
          "classical.00011.wav",
          "classical.00039.wav",
          "classical.00015.wav",
          "classical.00001.wav",
          "classical.00029.wav",
          "classical.00028.wav",
          "classical.00000.wav",
          "classical.00014.wav",
          "classical.00002.wav",
          "classical.00016.wav",
          "classical.00017.wav",
          "classical.00003.wav",
          "classical.00058.wav",
          "classical.00064.wav",
          "classical.00070.wav",
          "classical.00071.wav",
          "classical.00065.wav",
          "classical.00059.wav",
          "classical.00073.wav",
          "classical.00067.wav",
          "classical.00098.wav",
          "classical.00099.wav",
          "classical.00066.wav",
          "classical.00072.wav",
          "classical.00076.wav",
          "classical.00062.wav",
          "classical.00089.wav",
          "classical.00088.wav",
          "classical.00063.wav",
          "classical.00077.wav",
          "classical.00061.wav",
          "classical.00075.wav",
          "classical.00049.wav",
          "classical.00048.wav",
          "classical.00074.wav",
          "classical.00060.wav"
         ],
         "type": "scatter",
         "x": {
          "bdata": "4GgvwVKz1D/0JzCCJ0PcP/hNalTx5+Q/P7IaDcvW4D/aWNX/7lXhPz6p5DyeMuE/OuXtq5BB2T+cbf4L+ezgP56yLvkmnt4/LD9xbhcM1D95tl8wngbpPzsh70HwueU//9L5GxaG5T/b7777w1fhP/IWpXf9sto/bG67vIGW5T/K6MzmCPHdP3Vp1jl3uOE/yqprSAzx4j9wIQx1aVPZP1WJp5a9a+Q/y9IGdXFP4T9O/ldoQ4zeP1vsG2rIFOQ/8LjbKTf83T9FEdnMSR7jP/fQl5WkT+E/x7NHKKbC4T8+irTueJLgP6DRWiNugNc/O+cpSTRl4j+q7MReWXXkPwkTZUUPxeA/W/ov6JVy3z8hd02149faP8o/x2R7suA/gLCP08md3j9kDHrL0XDYP0zKJawgV+A/PFlvlyOh2T9vCyjJXVjhP1MKJEHFk9o/etFFLjZj3j9ppq4AlxfgPw2xBG06xuA/qqiQd8Kz3j/zANXGLUDiP6DxxM03VeA/ThNFdcvb4j9YXoSR9eDiPzm9Q4Qb7eA/lsgNtNIJ3T+2u/KJd4HgP4b6K2uQNuI/BwvZBD9i4D87rHHxzNLfP6zn0Wp/SeI/kxd/LsvZ4D+Ybhrd2wjfP+13OsnB0uI/Fnhaslea4D+gifpLTR3iP9lBIa6DjOI/H3Tnptph4j8m9NEI1NraP4082LyTkuM//v14vvpK4T80s42HpNHfP/EJxugVJuI/I5g55uVQ4D/hfgjVMDHhP9jepu2F/d8/w1QnAD7O4T9B390jZyfeP4iDqLvjLOA/QpUXn9kC4j9Lo9II3VPdP/ZYCKWpiN0/2dOBcC5C4T+nzIgVm7DgP3wK683bBtY/E0EZ3ILy4T9wTmdtGurcP9bYTUCbut4/r24wtcKE5T889vtWUdTlP2zTlGVwm9Q/ec5g9y2R4T+tsxdE0qLgPzuKqdAP2OE/RtlawFxH5T9AbzqZCe/fPwHuA81SFdQ/wbIXePYH1T/c8/L6ZeHgP/XKgCJ2gN4/Nj2mSstt5T/r2D3TDiXiP9DQ0sHru+A/0YjrqBe64z8=",
          "dtype": "f8"
         },
         "xaxis": "x4",
         "y": {
          "bdata": "3g1oXYm10j/PDbNSimzXP4gWtjsbFdg/QCF4ZTig2T+KLGP0Wt/bP5J1I9Jjuto/vc0ApwTU1T+5/69HNf7ZP8ZTJN7OINk/nf+vjm/E0T86aM6AlAvWP0YOEXRCAds/FtfliKRW3T/Y6riXQXHaPxUxIpVkIdc/yoc7V+1d3T9bp93rbtbYP4HA1DTxSts/IhDzZATr2T+pRC7UE0LUP3ZDKJ7Ryts/YMnuxq3d1z8A8usFs+bYP0SqYnHNMN0/BNgSx/eS2T+rErspn6rcP16jmP1bkdo/xHs3bnsq3D/bwZYJLbLaP41mC77W4NQ/cPxlaB3Y2j9KlFRfG0jdP8LeL9ctuNo/0tiHaZ252T+IZJ68ILbWPz3DL+576do/ic/DfxVT2T8Nl+L61HDUP/0ymrkbV9k/Xo4m3Bjs1T/2LUmWCc3ZP/u7CQ4C2dU/JFr6bocD2T/+rjFLKNLZP8YACCOThdo/WNytvzn82D9wVEl9gwfcP7vLKjVNB9o/wECDA2q72z8UQQllmffaPzURxF7uZdo/tEHAW5Iy2D+GGhveWkLZPzMHk9qQItw/pdoo/k6Z2D8GMniyfWPZP2k6PlQ7Mts/Shnqt/Ss2j9HQJMjri/ZPxmEpsBEv9s/mNAVUwu+2j+6VB0QPQrbP86FFL2u9ds/aWJzPC+z2z+91tK6zijXP6CybLlEk9s/hk8xcVC92j/8etfZ/nLZP5xYRsPHuds/1T02tIUI2j/qE2063p7aPy5R1Nhl1Nk/mLLYhDzV2j9wyke/wY7XPx11yzxpltk/3wY6L2aq2z+iPhysTHvYP//j9jIftNQ/od0VUDFS2j8b/rahvIPaP5aVAVHp8dI/a4Ai7+DM2z9Tw9jXPjrYP3zCx7g1C9Q/cvbaFj8D3T+6RBJ2WeHbP3MHKrV5+9E/gMM5gMH02j/pRXstJXnaP2KFr6Gswdg/f16e5PIb3T/KBUKkYrLZP9sOL6uNFdE/Aql60lXK0j+KHQ+NYTbZP/f8cSCPONk/IaaaePJs2j+QFx9SYtvZPy+BTJeDXdo/WuGZTMd62z8=",
          "dtype": "f8"
         },
         "yaxis": "y4"
        },
        {
         "hovertemplate": "Entropy: %{x}<br>Complexity: %{y}<br>File: %{text}<extra></extra>",
         "marker": {
          "color": {
           "bdata": "8u7ISzqx0j/bcjQq9JPYP6wCOV6mptw/FI4UrNfS2z9gUXTwtr3dPzRwsUMT3dw/McMlUsxa1j+UYOXjcxncPz3RPChojNo/ozPM9Fe90T9avH6WouXcP6ixXTZVo98/5ftbhw6y4D/1kyh0LsbcP5IsNZYW0dc/Id/480Gx4D9jHa9cMSnaPwQ9Cp7nod0/W031EbRA3T8yH5DC8zLVP23AwVtsfd8/gQ/ywDxt2j8vxxQnAmvaP6b7J41DSOA/7IhUWcOv2j9XtoKQIKPfPwzgMAoF39w/dCmojclc3j8clAbVaXvcPxlD1sLKJdU/+CBFlme13T8RWo5PwmHgP4y6wWNLpNw/GO5+drs92z8GAATxAYbXP8RAVsrPztw/F6MBYJK52j8KveFTZRrVP2Xk65jySds/0zTCwdaO1j8yg7ZHBjTcPz4ArTXexNY/q/SFQT9z2j8D+T3oN5bbP/hST87siNw/+GFD0x9n2j+TobfKT3neP/OLvEDb1Ns/uZWIxoef3j9RSeVLQNjdP+Gajsa/btw/45m3Xx9T2T/Mx3mwrE3bPxglkflOmt4/oj0BlyWe2j+ymxFV0SHbP4IwYcSN3d0/aU7vwMSh3D8TIA87z7XaPzOhNfnemd4/GF0bEjCX3D/oKSm4UqvdP9TLUBNXsd4/hlfflTJc3j/5VJCh3d/XPyRQHEgM5t4/lRZY9nzt3D+ivVFxuRHbPwUof4sHQ94/37xHGojF2z9IB1OnKsncP5VufCned9s/T9YtX55f3T++iRP7Qy7ZP3QVVuEfUts/4JqdHjcG3j+O2HOMr5/ZPzRL2fybrdY//dBHLPOt3D88C7NrD3TcP8auyN7aQ9M/8DCQtaI43j9jT2Fd7WbZP6jsVbmab9Y/I/LEG9WO4D8KSY+AchrgP5yifWoBG9I/s04mYwNV3T9ipJhSH2bcPz46MJaovts/96ItSjyE4D9GVrET5WzbP2QJIu7gM9E/D2CoBAHX0j/l/Stx1ZzbP31kmeDHn9o/EYDs6HL33j/PGhezFJHcP1dborKvZNw/SrmXUDLz3j8=",
           "dtype": "f8"
          },
          "colorscale": [
           [
            0,
            "#0508b8"
           ],
           [
            0.08333333333333333,
            "#1910d8"
           ],
           [
            0.16666666666666666,
            "#3c19f0"
           ],
           [
            0.25,
            "#6b1cfb"
           ],
           [
            0.3333333333333333,
            "#981cfd"
           ],
           [
            0.4166666666666667,
            "#bf1cfd"
           ],
           [
            0.5,
            "#dd2bfd"
           ],
           [
            0.5833333333333334,
            "#f246fe"
           ],
           [
            0.6666666666666666,
            "#fc67fd"
           ],
           [
            0.75,
            "#fe88fc"
           ],
           [
            0.8333333333333334,
            "#fea5fd"
           ],
           [
            0.9166666666666666,
            "#febefe"
           ],
           [
            1,
            "#fec3fe"
           ]
          ],
          "size": 10
         },
         "mode": "markers",
         "name": "Dim = 8, Hop = 7",
         "showlegend": true,
         "text": [
          "classical.00079.wav",
          "classical.00045.wav",
          "classical.00051.wav",
          "classical.00086.wav",
          "classical.00092.wav",
          "classical.00093.wav",
          "classical.00087.wav",
          "classical.00050.wav",
          "classical.00044.wav",
          "classical.00078.wav",
          "classical.00052.wav",
          "classical.00046.wav",
          "classical.00091.wav",
          "classical.00085.wav",
          "classical.00084.wav",
          "classical.00090.wav",
          "classical.00047.wav",
          "classical.00053.wav",
          "classical.00057.wav",
          "classical.00043.wav",
          "classical.00094.wav",
          "classical.00080.wav",
          "classical.00081.wav",
          "classical.00095.wav",
          "classical.00042.wav",
          "classical.00056.wav",
          "classical.00040.wav",
          "classical.00054.wav",
          "classical.00068.wav",
          "classical.00083.wav",
          "classical.00097.wav",
          "classical.00096.wav",
          "classical.00082.wav",
          "classical.00069.wav",
          "classical.00055.wav",
          "classical.00041.wav",
          "classical.00026.wav",
          "classical.00032.wav",
          "classical.00033.wav",
          "classical.00027.wav",
          "classical.00019.wav",
          "classical.00031.wav",
          "classical.00025.wav",
          "classical.00024.wav",
          "classical.00030.wav",
          "classical.00018.wav",
          "classical.00034.wav",
          "classical.00020.wav",
          "classical.00008.wav",
          "classical.00009.wav",
          "classical.00021.wav",
          "classical.00035.wav",
          "classical.00023.wav",
          "classical.00037.wav",
          "classical.00036.wav",
          "classical.00022.wav",
          "classical.00007.wav",
          "classical.00013.wav",
          "classical.00012.wav",
          "classical.00006.wav",
          "classical.00038.wav",
          "classical.00010.wav",
          "classical.00004.wav",
          "classical.00005.wav",
          "classical.00011.wav",
          "classical.00039.wav",
          "classical.00015.wav",
          "classical.00001.wav",
          "classical.00029.wav",
          "classical.00028.wav",
          "classical.00000.wav",
          "classical.00014.wav",
          "classical.00002.wav",
          "classical.00016.wav",
          "classical.00017.wav",
          "classical.00003.wav",
          "classical.00058.wav",
          "classical.00064.wav",
          "classical.00070.wav",
          "classical.00071.wav",
          "classical.00065.wav",
          "classical.00059.wav",
          "classical.00073.wav",
          "classical.00067.wav",
          "classical.00098.wav",
          "classical.00099.wav",
          "classical.00066.wav",
          "classical.00072.wav",
          "classical.00076.wav",
          "classical.00062.wav",
          "classical.00089.wav",
          "classical.00088.wav",
          "classical.00063.wav",
          "classical.00077.wav",
          "classical.00061.wav",
          "classical.00075.wav",
          "classical.00049.wav",
          "classical.00048.wav",
          "classical.00074.wav",
          "classical.00060.wav"
         ],
         "type": "scatter",
         "x": {
          "bdata": "0oNZoqCi0z9VkgwLkyfbP9zyRk+sA+Q/Dw3KnztE4D94D4SuhcrgPxR/bf77nuA/+kdRYZcQ2D/IWpSujEDgP3TosET2kN0/5WA7V4Hi0j/5mjclxTvoP8bkUA45GuU/+yWQg80W5T9uB3Op48bgP3xTChYim9k/m9dZUcAd5T8xeRFsYN7cP3uvj+SQOeE/R2HJ8S5L4j8loRNH1urXP2FLGuqS2+M/f8atDk2P4D9Mfil6qn3dPyrN/pO3peM/TYL5YvgB3T/yTscqcaLiP0Qnwe61w+A/rVZylYdB4T8E6+/DkQvgPwt/26ZsbNY/LFtpiFjG4T8o/y9N6v7jP5QESF0RQuA/vCLGBEVd3j9Z3L1AabTZP0b65URiPuA/t6zaqaWh3T/9e/C/KjjXP6rOQ4dIfd8/Utn/VLZ82D/6LVBSI7jgPz/fEfVkVtk/QaCHOtJc3T+GmskugiPfPzzbRWTXQOA/2WXQd9qU3T+wWnLIpq7hPz3vPm7oj98/U+e78RxG4j/ORPwkuzDiP+uTXyC7XuA/SFEIuDj42z+0nfrqqKvfP+sKtG9Ft+E/8T7c3QuG3z/V96lQSbXeP0PQutq4tuE/IDCIoNBM4D+aJEDJDPDdP4q1vxjXPOI/LIv7R3kg4D8ONC0GO4nhP5AkE05QB+I/nDZK6VrV4T8Ym6xV4dLZP+8izWO+BuM/lgPGbBK54D+3z3dpl53eP9YFKmqYquE/WdTqyk2N3z+zDPiDT6TgP0y4SAbu4t4/L9wODR4+4T+4f+ms7u3cP2+ljNvSIt8/f0mnRll44T8kVxmv+SXcP/LDDERmjts/uXWx7BWt4D+h1YeucCPgP+yD888gx9Q/oQH/bxt34T+sjNRyh+XbP81pghq9rNw/snl4Jr8K5T++FmRb4jDlP9idB5+RX9M/iawBRz8A4T/FOhYmuR3gP4OrHc32HuE/UPmqN/vQ5D/iUTVZgeXePz78DjjzrNI/Mg4QWTjv0z9fWu/k6EfgPyU1OA1Tet0/Y1aNlWO+5D9hSWSKPYjhPxijWdthLeA/eh0RusMs4z8=",
          "dtype": "f8"
         },
         "xaxis": "x5",
         "y": {
          "bdata": "8u7ISzqx0j/bcjQq9JPYP6wCOV6mptw/FI4UrNfS2z9gUXTwtr3dPzRwsUMT3dw/McMlUsxa1j+UYOXjcxncPz3RPChojNo/ozPM9Fe90T9avH6WouXcP6ixXTZVo98/5ftbhw6y4D/1kyh0LsbcP5IsNZYW0dc/Id/480Gx4D9jHa9cMSnaPwQ9Cp7nod0/W031EbRA3T8yH5DC8zLVP23AwVtsfd8/gQ/ywDxt2j8vxxQnAmvaP6b7J41DSOA/7IhUWcOv2j9XtoKQIKPfPwzgMAoF39w/dCmojclc3j8clAbVaXvcPxlD1sLKJdU/+CBFlme13T8RWo5PwmHgP4y6wWNLpNw/GO5+drs92z8GAATxAYbXP8RAVsrPztw/F6MBYJK52j8KveFTZRrVP2Xk65jySds/0zTCwdaO1j8yg7ZHBjTcPz4ArTXexNY/q/SFQT9z2j8D+T3oN5bbP/hST87siNw/+GFD0x9n2j+TobfKT3neP/OLvEDb1Ns/uZWIxoef3j9RSeVLQNjdP+Gajsa/btw/45m3Xx9T2T/Mx3mwrE3bPxglkflOmt4/oj0BlyWe2j+ymxFV0SHbP4IwYcSN3d0/aU7vwMSh3D8TIA87z7XaPzOhNfnemd4/GF0bEjCX3D/oKSm4UqvdP9TLUBNXsd4/hlfflTJc3j/5VJCh3d/XPyRQHEgM5t4/lRZY9nzt3D+ivVFxuRHbPwUof4sHQ94/37xHGojF2z9IB1OnKsncP5VufCned9s/T9YtX55f3T++iRP7Qy7ZP3QVVuEfUts/4JqdHjcG3j+O2HOMr5/ZPzRL2fybrdY//dBHLPOt3D88C7NrD3TcP8auyN7aQ9M/8DCQtaI43j9jT2Fd7WbZP6jsVbmab9Y/I/LEG9WO4D8KSY+AchrgP5yifWoBG9I/s04mYwNV3T9ipJhSH2bcPz46MJaovts/96ItSjyE4D9GVrET5WzbP2QJIu7gM9E/D2CoBAHX0j/l/Stx1ZzbP31kmeDHn9o/EYDs6HL33j/PGhezFJHcP1dborKvZNw/SrmXUDLz3j8=",
          "dtype": "f8"
         },
         "yaxis": "y5"
        },
        {
         "hovertemplate": "Entropy: %{x}<br>Complexity: %{y}<br>File: %{text}<extra></extra>",
         "marker": {
          "color": {
           "bdata": "fWbNgSV20j9oRjCMvjjZP+e0yRzrq+A/YqxRN/Fs3T8hPA0Fq/3eP4lElvQfZd4/V5wS7GeO1j9xpvpIxaDdP8xHJJCeb9s/n9R4KZqR0T8sFpdLSdXiPyj1bPIVBeI/OPetZZCG4j/ZUIcvnn/ePxWEhYLLKNg/Q7y5QoWA4j8PJkA6TOnaPzUOv/1MYt8/XotyYpMP4D83l89NnLXVP+ns6kPnY+E//PVUKZay3D+ysR3cuk/bP50epYW2rOE/Td8IvFZY2z9xgchYLvLgP1SHpFamf94/yTkfEgfb3z9oeHI1OLbdPxQa3EwkIdU/vPSIEz8A4D8LfK6FLeHhP/mvAOhd9t0/49jX6E473D+iBjISLO/XP4n0IUBcBd4/Ot+TwimB2z9hH9k3SGHVP3Zjbcrfmtw/3O6AgEDZ1j/juM2DMQLeP7xjx0dAQdc/Bos8dJ9G2z8eB+/0ibPcP3FaKsJEz90/5cUP/mZf2z8WNvfeTiLgP/4ya3WTAN0/PFKawhVw4D+jhv3nchXgP/P7CEiW490/cbxf2On82T9NIzLkxrXcPwjGOjzdL+A/yuOMMP8Q3D+EpnDzqEzcP9GMbe3i6d8/ifGHPlsC3j9YqVEYy53bP4zJ3ldiZ+A/SDfeVp3L3T9+/eWFb6rfP40xb3JOV+A/rQ4KOHQt4D+GKffzHT3YPxwJa5UY4uA/TOD0dZiB3j/S9f0OvjLcP73wHFSwEOA/4RwshxUO3T8XTkdKa2HePyDKBnDkhNw/76GRLJAx3z+BUTnlsTTaPwCe4YG2mdw/lhDiHBe23z/6QlWgoULaP19/AJIkHNg/3ApLIdNL3j/js6xowrrdPy2tUsLFOdM/epyA26MB4D/tAmnY8A7aP8xO0bl9ftg/vVvbeoxo4j/cKi7EZx7iP5uptN48/tE/h2cd3XAO3z9qVwfHF7DdPwCLWmoZP94/83tnVXVQ4j8HdVdRzX7cP1TdinelGtE//nv0FBC50j/SrOnxWF/dP0NtUij8W9s/PG/CI0a+4T9drR9dD//eP3yZ2dPTsd0/Ff8snIn+4D8=",
           "dtype": "f8"
          },
          "colorscale": [
           [
            0,
            "#0508b8"
           ],
           [
            0.08333333333333333,
            "#1910d8"
           ],
           [
            0.16666666666666666,
            "#3c19f0"
           ],
           [
            0.25,
            "#6b1cfb"
           ],
           [
            0.3333333333333333,
            "#981cfd"
           ],
           [
            0.4166666666666667,
            "#bf1cfd"
           ],
           [
            0.5,
            "#dd2bfd"
           ],
           [
            0.5833333333333334,
            "#f246fe"
           ],
           [
            0.6666666666666666,
            "#fc67fd"
           ],
           [
            0.75,
            "#fe88fc"
           ],
           [
            0.8333333333333334,
            "#fea5fd"
           ],
           [
            0.9166666666666666,
            "#febefe"
           ],
           [
            1,
            "#fec3fe"
           ]
          ],
          "size": 10
         },
         "mode": "markers",
         "name": "Dim = 9, Hop = 8",
         "showlegend": true,
         "text": [
          "classical.00079.wav",
          "classical.00045.wav",
          "classical.00051.wav",
          "classical.00086.wav",
          "classical.00092.wav",
          "classical.00093.wav",
          "classical.00087.wav",
          "classical.00050.wav",
          "classical.00044.wav",
          "classical.00078.wav",
          "classical.00052.wav",
          "classical.00046.wav",
          "classical.00091.wav",
          "classical.00085.wav",
          "classical.00084.wav",
          "classical.00090.wav",
          "classical.00047.wav",
          "classical.00053.wav",
          "classical.00057.wav",
          "classical.00043.wav",
          "classical.00094.wav",
          "classical.00080.wav",
          "classical.00081.wav",
          "classical.00095.wav",
          "classical.00042.wav",
          "classical.00056.wav",
          "classical.00040.wav",
          "classical.00054.wav",
          "classical.00068.wav",
          "classical.00083.wav",
          "classical.00097.wav",
          "classical.00096.wav",
          "classical.00082.wav",
          "classical.00069.wav",
          "classical.00055.wav",
          "classical.00041.wav",
          "classical.00026.wav",
          "classical.00032.wav",
          "classical.00033.wav",
          "classical.00027.wav",
          "classical.00019.wav",
          "classical.00031.wav",
          "classical.00025.wav",
          "classical.00024.wav",
          "classical.00030.wav",
          "classical.00018.wav",
          "classical.00034.wav",
          "classical.00020.wav",
          "classical.00008.wav",
          "classical.00009.wav",
          "classical.00021.wav",
          "classical.00035.wav",
          "classical.00023.wav",
          "classical.00037.wav",
          "classical.00036.wav",
          "classical.00022.wav",
          "classical.00007.wav",
          "classical.00013.wav",
          "classical.00012.wav",
          "classical.00006.wav",
          "classical.00038.wav",
          "classical.00010.wav",
          "classical.00004.wav",
          "classical.00005.wav",
          "classical.00011.wav",
          "classical.00039.wav",
          "classical.00015.wav",
          "classical.00001.wav",
          "classical.00029.wav",
          "classical.00028.wav",
          "classical.00000.wav",
          "classical.00014.wav",
          "classical.00002.wav",
          "classical.00016.wav",
          "classical.00017.wav",
          "classical.00003.wav",
          "classical.00058.wav",
          "classical.00064.wav",
          "classical.00070.wav",
          "classical.00071.wav",
          "classical.00065.wav",
          "classical.00059.wav",
          "classical.00073.wav",
          "classical.00067.wav",
          "classical.00098.wav",
          "classical.00099.wav",
          "classical.00066.wav",
          "classical.00072.wav",
          "classical.00076.wav",
          "classical.00062.wav",
          "classical.00089.wav",
          "classical.00088.wav",
          "classical.00063.wav",
          "classical.00077.wav",
          "classical.00061.wav",
          "classical.00075.wav",
          "classical.00049.wav",
          "classical.00048.wav",
          "classical.00074.wav",
          "classical.00060.wav"
         ],
         "type": "scatter",
         "x": {
          "bdata": "5IRKA57J0j/j3WuH2i/aP1ySrJ0Z5OI/n8TUe+hQ3z+YjOj9xETgP2JY6L3eDuA/Ai2HVSEw1z/7lQcgZGTfP3jMD3CMmtw/kOTLLQT50T/uoshiEdLmP0MWYUhLP+Q/GHlrKTyC5D/MAdsLWDTgP5S8OhUL1dg/jUzgsLx/5D98vXxukvbbP2Wh00QgsuA/Yu17y9yL4T8QkyoRDqLWP94CK0X+GuM/EiQqRcZm3z9aj5q5g3/cP5Uw9+qPIOM/AJgrwZY93D+l1H0rbR7iP2P3w441MOA/cvAjuy6+4D+egQtmSyXfP209/TZslNU/GumImJQz4T87RHKnKnrjP2flp26Ri98/Iwds55J13T/teacc4MLYP30WkkxZg98/XnV1uzih3D/kFpvQrCfWP2lPnzNRR94/UZ1UeEWO1z+HdEufVQ3gP12Ke0+hOdg/LKOJfvFq3D/aHcThuB3eP/XwJImNbN8/HU/uOfKm3D/gabrN7CrhPz0zTeHlgN4/Q7qjno+r4T8JnDre8GvhPxVWOTiLpd8/PqLEhxMP2z9AWX4br2veP6DgoplCNeE/lqOWs28M3j83FHJCb7DdPyp18+jJHeE/cBFxcMSm3z/O/qRP3eHcP/iLFnP9oeE/yB5bG3FG3z8j7eFiIPDgP6LIDTGveeE/BwF3RfJJ4T9XYyPHxvnYP3JwpEKVY+I/w2TufiUv4D/KenX0N5bdP4GhwoW6H+E/LB1JHvCN3j8TZxYhzhfgP5XL0m7a4t0/hLKZo5uh4D/JnlGNp6nbPxdAeR4ZHd4/xopRU6Lg4D9UMpUICS/bP/126gp+x9k/yvpgqXYU4D+isnY3NknfP02jVG9+u9M/95NHz70A4T8ERiCEEwjbP1JC7sinjdo/5QfhLMdp5D/8rk8YzlrkP41tmmc7bNI/7IFudn154D9ft7vTATffP7fdVPkAWeA/fIWqppI15D+tgFM3i97dP1W0UzYeldE/zz6hp9Qb0z9EUomk9TffP8743VlXftw/uv01ayHq4z+rV2QrC9TgP4I0tv46Ud8/kqos8X2H4j8=",
          "dtype": "f8"
         },
         "xaxis": "x6",
         "y": {
          "bdata": "fWbNgSV20j9oRjCMvjjZP+e0yRzrq+A/YqxRN/Fs3T8hPA0Fq/3eP4lElvQfZd4/V5wS7GeO1j9xpvpIxaDdP8xHJJCeb9s/n9R4KZqR0T8sFpdLSdXiPyj1bPIVBeI/OPetZZCG4j/ZUIcvnn/ePxWEhYLLKNg/Q7y5QoWA4j8PJkA6TOnaPzUOv/1MYt8/XotyYpMP4D83l89NnLXVP+ns6kPnY+E//PVUKZay3D+ysR3cuk/bP50epYW2rOE/Td8IvFZY2z9xgchYLvLgP1SHpFamf94/yTkfEgfb3z9oeHI1OLbdPxQa3EwkIdU/vPSIEz8A4D8LfK6FLeHhP/mvAOhd9t0/49jX6E473D+iBjISLO/XP4n0IUBcBd4/Ot+TwimB2z9hH9k3SGHVP3Zjbcrfmtw/3O6AgEDZ1j/juM2DMQLeP7xjx0dAQdc/Bos8dJ9G2z8eB+/0ibPcP3FaKsJEz90/5cUP/mZf2z8WNvfeTiLgP/4ya3WTAN0/PFKawhVw4D+jhv3nchXgP/P7CEiW490/cbxf2On82T9NIzLkxrXcPwjGOjzdL+A/yuOMMP8Q3D+EpnDzqEzcP9GMbe3i6d8/ifGHPlsC3j9YqVEYy53bP4zJ3ldiZ+A/SDfeVp3L3T9+/eWFb6rfP40xb3JOV+A/rQ4KOHQt4D+GKffzHT3YPxwJa5UY4uA/TOD0dZiB3j/S9f0OvjLcP73wHFSwEOA/4RwshxUO3T8XTkdKa2HePyDKBnDkhNw/76GRLJAx3z+BUTnlsTTaPwCe4YG2mdw/lhDiHBe23z/6QlWgoULaP19/AJIkHNg/3ApLIdNL3j/js6xowrrdPy2tUsLFOdM/epyA26MB4D/tAmnY8A7aP8xO0bl9ftg/vVvbeoxo4j/cKi7EZx7iP5uptN48/tE/h2cd3XAO3z9qVwfHF7DdPwCLWmoZP94/83tnVXVQ4j8HdVdRzX7cP1TdinelGtE//nv0FBC50j/SrOnxWF/dP0NtUij8W9s/PG/CI0a+4T9drR9dD//eP3yZ2dPTsd0/Ff8snIn+4D8=",
          "dtype": "f8"
         },
         "yaxis": "y6"
        }
       ],
       "layout": {
        "annotations": [
         {
          "font": {
           "size": 16
          },
          "showarrow": false,
          "text": "Dim = '4', Hop = '3'",
          "x": 0.225,
          "xanchor": "center",
          "xref": "paper",
          "y": 1,
          "yanchor": "bottom",
          "yref": "paper"
         },
         {
          "font": {
           "size": 16
          },
          "showarrow": false,
          "text": "Dim = '5', Hop = '4'",
          "x": 0.775,
          "xanchor": "center",
          "xref": "paper",
          "y": 1,
          "yanchor": "bottom",
          "yref": "paper"
         },
         {
          "font": {
           "size": 16
          },
          "showarrow": false,
          "text": "Dim = '6', Hop = '5'",
          "x": 0.225,
          "xanchor": "center",
          "xref": "paper",
          "y": 0.6111111111111112,
          "yanchor": "bottom",
          "yref": "paper"
         },
         {
          "font": {
           "size": 16
          },
          "showarrow": false,
          "text": "Dim = '7', Hop = '6'",
          "x": 0.775,
          "xanchor": "center",
          "xref": "paper",
          "y": 0.6111111111111112,
          "yanchor": "bottom",
          "yref": "paper"
         },
         {
          "font": {
           "size": 16
          },
          "showarrow": false,
          "text": "Dim = '8', Hop = '7'",
          "x": 0.225,
          "xanchor": "center",
          "xref": "paper",
          "y": 0.22222222222222224,
          "yanchor": "bottom",
          "yref": "paper"
         },
         {
          "font": {
           "size": 16
          },
          "showarrow": false,
          "text": "Dim = '9', Hop = '8'",
          "x": 0.775,
          "xanchor": "center",
          "xref": "paper",
          "y": 0.22222222222222224,
          "yanchor": "bottom",
          "yref": "paper"
         }
        ],
        "height": 1400,
        "template": {
         "data": {
          "bar": [
           {
            "error_x": {
             "color": "#f2f5fa"
            },
            "error_y": {
             "color": "#f2f5fa"
            },
            "marker": {
             "line": {
              "color": "rgb(17,17,17)",
              "width": 0.5
             },
             "pattern": {
              "fillmode": "overlay",
              "size": 10,
              "solidity": 0.2
             }
            },
            "type": "bar"
           }
          ],
          "barpolar": [
           {
            "marker": {
             "line": {
              "color": "rgb(17,17,17)",
              "width": 0.5
             },
             "pattern": {
              "fillmode": "overlay",
              "size": 10,
              "solidity": 0.2
             }
            },
            "type": "barpolar"
           }
          ],
          "carpet": [
           {
            "aaxis": {
             "endlinecolor": "#A2B1C6",
             "gridcolor": "#506784",
             "linecolor": "#506784",
             "minorgridcolor": "#506784",
             "startlinecolor": "#A2B1C6"
            },
            "baxis": {
             "endlinecolor": "#A2B1C6",
             "gridcolor": "#506784",
             "linecolor": "#506784",
             "minorgridcolor": "#506784",
             "startlinecolor": "#A2B1C6"
            },
            "type": "carpet"
           }
          ],
          "choropleth": [
           {
            "colorbar": {
             "outlinewidth": 0,
             "ticks": ""
            },
            "type": "choropleth"
           }
          ],
          "contour": [
           {
            "colorbar": {
             "outlinewidth": 0,
             "ticks": ""
            },
            "colorscale": [
             [
              0,
              "#0d0887"
             ],
             [
              0.1111111111111111,
              "#46039f"
             ],
             [
              0.2222222222222222,
              "#7201a8"
             ],
             [
              0.3333333333333333,
              "#9c179e"
             ],
             [
              0.4444444444444444,
              "#bd3786"
             ],
             [
              0.5555555555555556,
              "#d8576b"
             ],
             [
              0.6666666666666666,
              "#ed7953"
             ],
             [
              0.7777777777777778,
              "#fb9f3a"
             ],
             [
              0.8888888888888888,
              "#fdca26"
             ],
             [
              1,
              "#f0f921"
             ]
            ],
            "type": "contour"
           }
          ],
          "contourcarpet": [
           {
            "colorbar": {
             "outlinewidth": 0,
             "ticks": ""
            },
            "type": "contourcarpet"
           }
          ],
          "heatmap": [
           {
            "colorbar": {
             "outlinewidth": 0,
             "ticks": ""
            },
            "colorscale": [
             [
              0,
              "#0d0887"
             ],
             [
              0.1111111111111111,
              "#46039f"
             ],
             [
              0.2222222222222222,
              "#7201a8"
             ],
             [
              0.3333333333333333,
              "#9c179e"
             ],
             [
              0.4444444444444444,
              "#bd3786"
             ],
             [
              0.5555555555555556,
              "#d8576b"
             ],
             [
              0.6666666666666666,
              "#ed7953"
             ],
             [
              0.7777777777777778,
              "#fb9f3a"
             ],
             [
              0.8888888888888888,
              "#fdca26"
             ],
             [
              1,
              "#f0f921"
             ]
            ],
            "type": "heatmap"
           }
          ],
          "histogram": [
           {
            "marker": {
             "pattern": {
              "fillmode": "overlay",
              "size": 10,
              "solidity": 0.2
             }
            },
            "type": "histogram"
           }
          ],
          "histogram2d": [
           {
            "colorbar": {
             "outlinewidth": 0,
             "ticks": ""
            },
            "colorscale": [
             [
              0,
              "#0d0887"
             ],
             [
              0.1111111111111111,
              "#46039f"
             ],
             [
              0.2222222222222222,
              "#7201a8"
             ],
             [
              0.3333333333333333,
              "#9c179e"
             ],
             [
              0.4444444444444444,
              "#bd3786"
             ],
             [
              0.5555555555555556,
              "#d8576b"
             ],
             [
              0.6666666666666666,
              "#ed7953"
             ],
             [
              0.7777777777777778,
              "#fb9f3a"
             ],
             [
              0.8888888888888888,
              "#fdca26"
             ],
             [
              1,
              "#f0f921"
             ]
            ],
            "type": "histogram2d"
           }
          ],
          "histogram2dcontour": [
           {
            "colorbar": {
             "outlinewidth": 0,
             "ticks": ""
            },
            "colorscale": [
             [
              0,
              "#0d0887"
             ],
             [
              0.1111111111111111,
              "#46039f"
             ],
             [
              0.2222222222222222,
              "#7201a8"
             ],
             [
              0.3333333333333333,
              "#9c179e"
             ],
             [
              0.4444444444444444,
              "#bd3786"
             ],
             [
              0.5555555555555556,
              "#d8576b"
             ],
             [
              0.6666666666666666,
              "#ed7953"
             ],
             [
              0.7777777777777778,
              "#fb9f3a"
             ],
             [
              0.8888888888888888,
              "#fdca26"
             ],
             [
              1,
              "#f0f921"
             ]
            ],
            "type": "histogram2dcontour"
           }
          ],
          "mesh3d": [
           {
            "colorbar": {
             "outlinewidth": 0,
             "ticks": ""
            },
            "type": "mesh3d"
           }
          ],
          "parcoords": [
           {
            "line": {
             "colorbar": {
              "outlinewidth": 0,
              "ticks": ""
             }
            },
            "type": "parcoords"
           }
          ],
          "pie": [
           {
            "automargin": true,
            "type": "pie"
           }
          ],
          "scatter": [
           {
            "marker": {
             "line": {
              "color": "#283442"
             }
            },
            "type": "scatter"
           }
          ],
          "scatter3d": [
           {
            "line": {
             "colorbar": {
              "outlinewidth": 0,
              "ticks": ""
             }
            },
            "marker": {
             "colorbar": {
              "outlinewidth": 0,
              "ticks": ""
             }
            },
            "type": "scatter3d"
           }
          ],
          "scattercarpet": [
           {
            "marker": {
             "colorbar": {
              "outlinewidth": 0,
              "ticks": ""
             }
            },
            "type": "scattercarpet"
           }
          ],
          "scattergeo": [
           {
            "marker": {
             "colorbar": {
              "outlinewidth": 0,
              "ticks": ""
             }
            },
            "type": "scattergeo"
           }
          ],
          "scattergl": [
           {
            "marker": {
             "line": {
              "color": "#283442"
             }
            },
            "type": "scattergl"
           }
          ],
          "scattermap": [
           {
            "marker": {
             "colorbar": {
              "outlinewidth": 0,
              "ticks": ""
             }
            },
            "type": "scattermap"
           }
          ],
          "scattermapbox": [
           {
            "marker": {
             "colorbar": {
              "outlinewidth": 0,
              "ticks": ""
             }
            },
            "type": "scattermapbox"
           }
          ],
          "scatterpolar": [
           {
            "marker": {
             "colorbar": {
              "outlinewidth": 0,
              "ticks": ""
             }
            },
            "type": "scatterpolar"
           }
          ],
          "scatterpolargl": [
           {
            "marker": {
             "colorbar": {
              "outlinewidth": 0,
              "ticks": ""
             }
            },
            "type": "scatterpolargl"
           }
          ],
          "scatterternary": [
           {
            "marker": {
             "colorbar": {
              "outlinewidth": 0,
              "ticks": ""
             }
            },
            "type": "scatterternary"
           }
          ],
          "surface": [
           {
            "colorbar": {
             "outlinewidth": 0,
             "ticks": ""
            },
            "colorscale": [
             [
              0,
              "#0d0887"
             ],
             [
              0.1111111111111111,
              "#46039f"
             ],
             [
              0.2222222222222222,
              "#7201a8"
             ],
             [
              0.3333333333333333,
              "#9c179e"
             ],
             [
              0.4444444444444444,
              "#bd3786"
             ],
             [
              0.5555555555555556,
              "#d8576b"
             ],
             [
              0.6666666666666666,
              "#ed7953"
             ],
             [
              0.7777777777777778,
              "#fb9f3a"
             ],
             [
              0.8888888888888888,
              "#fdca26"
             ],
             [
              1,
              "#f0f921"
             ]
            ],
            "type": "surface"
           }
          ],
          "table": [
           {
            "cells": {
             "fill": {
              "color": "#506784"
             },
             "line": {
              "color": "rgb(17,17,17)"
             }
            },
            "header": {
             "fill": {
              "color": "#2a3f5f"
             },
             "line": {
              "color": "rgb(17,17,17)"
             }
            },
            "type": "table"
           }
          ]
         },
         "layout": {
          "annotationdefaults": {
           "arrowcolor": "#f2f5fa",
           "arrowhead": 0,
           "arrowwidth": 1
          },
          "autotypenumbers": "strict",
          "coloraxis": {
           "colorbar": {
            "outlinewidth": 0,
            "ticks": ""
           }
          },
          "colorscale": {
           "diverging": [
            [
             0,
             "#8e0152"
            ],
            [
             0.1,
             "#c51b7d"
            ],
            [
             0.2,
             "#de77ae"
            ],
            [
             0.3,
             "#f1b6da"
            ],
            [
             0.4,
             "#fde0ef"
            ],
            [
             0.5,
             "#f7f7f7"
            ],
            [
             0.6,
             "#e6f5d0"
            ],
            [
             0.7,
             "#b8e186"
            ],
            [
             0.8,
             "#7fbc41"
            ],
            [
             0.9,
             "#4d9221"
            ],
            [
             1,
             "#276419"
            ]
           ],
           "sequential": [
            [
             0,
             "#0d0887"
            ],
            [
             0.1111111111111111,
             "#46039f"
            ],
            [
             0.2222222222222222,
             "#7201a8"
            ],
            [
             0.3333333333333333,
             "#9c179e"
            ],
            [
             0.4444444444444444,
             "#bd3786"
            ],
            [
             0.5555555555555556,
             "#d8576b"
            ],
            [
             0.6666666666666666,
             "#ed7953"
            ],
            [
             0.7777777777777778,
             "#fb9f3a"
            ],
            [
             0.8888888888888888,
             "#fdca26"
            ],
            [
             1,
             "#f0f921"
            ]
           ],
           "sequentialminus": [
            [
             0,
             "#0d0887"
            ],
            [
             0.1111111111111111,
             "#46039f"
            ],
            [
             0.2222222222222222,
             "#7201a8"
            ],
            [
             0.3333333333333333,
             "#9c179e"
            ],
            [
             0.4444444444444444,
             "#bd3786"
            ],
            [
             0.5555555555555556,
             "#d8576b"
            ],
            [
             0.6666666666666666,
             "#ed7953"
            ],
            [
             0.7777777777777778,
             "#fb9f3a"
            ],
            [
             0.8888888888888888,
             "#fdca26"
            ],
            [
             1,
             "#f0f921"
            ]
           ]
          },
          "colorway": [
           "#636efa",
           "#EF553B",
           "#00cc96",
           "#ab63fa",
           "#FFA15A",
           "#19d3f3",
           "#FF6692",
           "#B6E880",
           "#FF97FF",
           "#FECB52"
          ],
          "font": {
           "color": "#f2f5fa"
          },
          "geo": {
           "bgcolor": "rgb(17,17,17)",
           "lakecolor": "rgb(17,17,17)",
           "landcolor": "rgb(17,17,17)",
           "showlakes": true,
           "showland": true,
           "subunitcolor": "#506784"
          },
          "hoverlabel": {
           "align": "left"
          },
          "hovermode": "closest",
          "mapbox": {
           "style": "dark"
          },
          "paper_bgcolor": "rgb(17,17,17)",
          "plot_bgcolor": "rgb(17,17,17)",
          "polar": {
           "angularaxis": {
            "gridcolor": "#506784",
            "linecolor": "#506784",
            "ticks": ""
           },
           "bgcolor": "rgb(17,17,17)",
           "radialaxis": {
            "gridcolor": "#506784",
            "linecolor": "#506784",
            "ticks": ""
           }
          },
          "scene": {
           "xaxis": {
            "backgroundcolor": "rgb(17,17,17)",
            "gridcolor": "#506784",
            "gridwidth": 2,
            "linecolor": "#506784",
            "showbackground": true,
            "ticks": "",
            "zerolinecolor": "#C8D4E3"
           },
           "yaxis": {
            "backgroundcolor": "rgb(17,17,17)",
            "gridcolor": "#506784",
            "gridwidth": 2,
            "linecolor": "#506784",
            "showbackground": true,
            "ticks": "",
            "zerolinecolor": "#C8D4E3"
           },
           "zaxis": {
            "backgroundcolor": "rgb(17,17,17)",
            "gridcolor": "#506784",
            "gridwidth": 2,
            "linecolor": "#506784",
            "showbackground": true,
            "ticks": "",
            "zerolinecolor": "#C8D4E3"
           }
          },
          "shapedefaults": {
           "line": {
            "color": "#f2f5fa"
           }
          },
          "sliderdefaults": {
           "bgcolor": "#C8D4E3",
           "bordercolor": "rgb(17,17,17)",
           "borderwidth": 1,
           "tickwidth": 0
          },
          "ternary": {
           "aaxis": {
            "gridcolor": "#506784",
            "linecolor": "#506784",
            "ticks": ""
           },
           "baxis": {
            "gridcolor": "#506784",
            "linecolor": "#506784",
            "ticks": ""
           },
           "bgcolor": "rgb(17,17,17)",
           "caxis": {
            "gridcolor": "#506784",
            "linecolor": "#506784",
            "ticks": ""
           }
          },
          "title": {
           "x": 0.05
          },
          "updatemenudefaults": {
           "bgcolor": "#506784",
           "borderwidth": 0
          },
          "xaxis": {
           "automargin": true,
           "gridcolor": "#283442",
           "linecolor": "#506784",
           "ticks": "",
           "title": {
            "standoff": 15
           },
           "zerolinecolor": "#283442",
           "zerolinewidth": 2
          },
          "yaxis": {
           "automargin": true,
           "gridcolor": "#283442",
           "linecolor": "#506784",
           "ticks": "",
           "title": {
            "standoff": 15
           },
           "zerolinecolor": "#283442",
           "zerolinewidth": 2
          }
         }
        },
        "title": {
         "text": "Combined Entropy–Complexity Plots for Folder data/genres_30sec/classical"
        },
        "width": 1200,
        "xaxis": {
         "anchor": "y",
         "domain": [
          0,
          0.45
         ],
         "range": [
          0,
          1
         ]
        },
        "xaxis2": {
         "anchor": "y2",
         "domain": [
          0.55,
          1
         ],
         "range": [
          0,
          1
         ]
        },
        "xaxis3": {
         "anchor": "y3",
         "domain": [
          0,
          0.45
         ],
         "range": [
          0,
          1
         ]
        },
        "xaxis4": {
         "anchor": "y4",
         "domain": [
          0.55,
          1
         ],
         "range": [
          0,
          1
         ]
        },
        "xaxis5": {
         "anchor": "y5",
         "domain": [
          0,
          0.45
         ],
         "range": [
          0,
          1
         ]
        },
        "xaxis6": {
         "anchor": "y6",
         "domain": [
          0.55,
          1
         ],
         "range": [
          0,
          1
         ]
        },
        "yaxis": {
         "anchor": "x",
         "domain": [
          0.7777777777777778,
          1
         ],
         "range": [
          0,
          1
         ]
        },
        "yaxis2": {
         "anchor": "x2",
         "domain": [
          0.7777777777777778,
          1
         ],
         "range": [
          0,
          1
         ]
        },
        "yaxis3": {
         "anchor": "x3",
         "domain": [
          0.3888888888888889,
          0.6111111111111112
         ],
         "range": [
          0,
          1
         ]
        },
        "yaxis4": {
         "anchor": "x4",
         "domain": [
          0.3888888888888889,
          0.6111111111111112
         ],
         "range": [
          0,
          1
         ]
        },
        "yaxis5": {
         "anchor": "x5",
         "domain": [
          0,
          0.22222222222222224
         ],
         "range": [
          0,
          1
         ]
        },
        "yaxis6": {
         "anchor": "x6",
         "domain": [
          0,
          0.22222222222222224
         ],
         "range": [
          0,
          1
         ]
        }
       }
      }
     },
     "metadata": {},
     "output_type": "display_data"
    }
   ],
   "source": [
    "folder_path = \"data/genres_30sec/classical\"\n",
    "start = 4\n",
    "end = 10\n",
    "grid = 2\n",
    "folder = \"plots\"\n",
    "plot_graph(folder_path, start, end, grid, folder)"
   ]
  },
  {
   "cell_type": "markdown",
   "metadata": {},
   "source": [
    "Country"
   ]
  },
  {
   "cell_type": "code",
   "execution_count": null,
   "metadata": {},
   "outputs": [
    {
     "name": "stderr",
     "output_type": "stream",
     "text": [
      "Processing audio files in data/genres_30sec/country with dim 4 and hop 3: 100%|██████████| 100/100 [00:56<00:00,  1.78it/s]\n",
      "Processing audio files in data/genres_30sec/country with dim 5 and hop 4: 100%|██████████| 100/100 [00:44<00:00,  2.27it/s]\n",
      "Processing audio files in data/genres_30sec/country with dim 6 and hop 5: 100%|██████████| 100/100 [00:36<00:00,  2.71it/s]\n",
      "Processing audio files in data/genres_30sec/country with dim 7 and hop 6: 100%|██████████| 100/100 [00:32<00:00,  3.05it/s]\n",
      "Processing audio files in data/genres_30sec/country with dim 8 and hop 7: 100%|██████████| 100/100 [00:32<00:00,  3.11it/s]\n",
      "Processing audio files in data/genres_30sec/country with dim 9 and hop 8: 100%|██████████| 100/100 [00:34<00:00,  2.87it/s]\n"
     ]
    },
    {
     "data": {
      "application/vnd.plotly.v1+json": {
       "config": {
        "plotlyServerURL": "https://plot.ly"
       },
       "data": [
        {
         "hovertemplate": "Entropy: %{x}<br>Complexity: %{y}<br>File: %{text}<extra></extra>",
         "marker": {
          "color": {
           "bdata": "uxpbAvBkyj+39K7UemnJP8nSa52D1dA/bXuwJk0i0T9JzrL/1+rEP3NZJZ1H084/mL+LAKxIxj+ezcFflv/OP+rI6Nfgscg/7jlkCseSyj9qOm/2KBXGPxwpwyZpI9A/CsnaUDAA0T+PWHVouJfRP2xkJYGur8k/HGl3iauVxj8E95yRxfXNP7J5V3R7TMw/V5rsXkt/xj9LgOJNxifQPyDBA5xlfM0/tarp4HDkyz+Cjr6AHBzRP7d8WvB3Cc8/ACm4jHzezj8UvlwvK4G6P8zjxFNzBLc/HKFhpGxOyT+d+1Bw8am8Px81Rn6IvtA/i52pEaxazz8v1J0KJFLHP6O58GPnksM/Uu8fiV6s0D92iAz7WvPLPwaFGc1s+bg/9KcWuWX6tT8SuvJ8a7y+P9X0UwHuMMA/IL2FJp+7wT+72uzyi8+wP253wvgtCbo/X5SBBm9FzD8+GURCOsq4P2vg3jFOvLI/bXANKeeF0T/J3wPqV4jEP9dKG1yABsM/9t5ZeX36wj+RfDV6jxHCPx7CylpjHsw/mA77mxxZyz8y2duJpBDJP8xT8MArSMY/udIsFBqlxz9aJMSSMk3LPwrINUWLedA/dwybFD/Xxz/KJqUsDAnQP80KpGBkus4/PsgCcwG/yD+gzktnQj7RP3FxbnlGgso/u0zkBrFYzT/h0dK2+s/GP1vLy3Nzr80/8eH2Q0TgwD8jrxaSHdbIP6V4COklO8o/H9bADtRVxz+j84aFLjzOP8wiVWPwwMQ/dyALyqSVzT/C8qYhQ8TEP+QZErEzItA/oRmQldhNyD9biaf1qy26P+3niUFzY8Q/7BCWY9A1xz9O9BQ4fK3QP7PPjTB6YM4/GOYJXpPTzD+S9pyQ2OLPP7CHfH+Xvc0/TWC6Sl00yT/TxYX0HmTKPyVj88Rtb9A/tEMd8nZX0T/Lmsdx2WDDP/a0IB/sasw/YLmxU/XiyT9bORPJrdnIPynCMg+sS8s/8eQEUuu6yz/6qMC6dFzPPxnngvyCAsQ/ltG8m0IEzj+foE1CyJPOP6g+rNWFas0/fPs1u5LkzD8=",
           "dtype": "f8"
          },
          "colorscale": [
           [
            0,
            "#0508b8"
           ],
           [
            0.08333333333333333,
            "#1910d8"
           ],
           [
            0.16666666666666666,
            "#3c19f0"
           ],
           [
            0.25,
            "#6b1cfb"
           ],
           [
            0.3333333333333333,
            "#981cfd"
           ],
           [
            0.4166666666666667,
            "#bf1cfd"
           ],
           [
            0.5,
            "#dd2bfd"
           ],
           [
            0.5833333333333334,
            "#f246fe"
           ],
           [
            0.6666666666666666,
            "#fc67fd"
           ],
           [
            0.75,
            "#fe88fc"
           ],
           [
            0.8333333333333334,
            "#fea5fd"
           ],
           [
            0.9166666666666666,
            "#febefe"
           ],
           [
            1,
            "#fec3fe"
           ]
          ],
          "size": 10
         },
         "mode": "markers",
         "name": "Dim = 4, Hop = 3",
         "showlegend": true,
         "text": [
          "country.00088.wav",
          "country.00063.wav",
          "country.00077.wav",
          "country.00076.wav",
          "country.00062.wav",
          "country.00089.wav",
          "country.00048.wav",
          "country.00074.wav",
          "country.00060.wav",
          "country.00061.wav",
          "country.00075.wav",
          "country.00049.wav",
          "country.00071.wav",
          "country.00065.wav",
          "country.00059.wav",
          "country.00058.wav",
          "country.00064.wav",
          "country.00070.wav",
          "country.00099.wav",
          "country.00066.wav",
          "country.00072.wav",
          "country.00073.wav",
          "country.00067.wav",
          "country.00098.wav",
          "country.00028.wav",
          "country.00000.wav",
          "country.00014.wav",
          "country.00015.wav",
          "country.00001.wav",
          "country.00029.wav",
          "country.00017.wav",
          "country.00003.wav",
          "country.00002.wav",
          "country.00016.wav",
          "country.00012.wav",
          "country.00006.wav",
          "country.00007.wav",
          "country.00013.wav",
          "country.00005.wav",
          "country.00011.wav",
          "country.00039.wav",
          "country.00038.wav",
          "country.00010.wav",
          "country.00004.wav",
          "country.00009.wav",
          "country.00021.wav",
          "country.00035.wav",
          "country.00034.wav",
          "country.00020.wav",
          "country.00008.wav",
          "country.00036.wav",
          "country.00022.wav",
          "country.00023.wav",
          "country.00037.wav",
          "country.00033.wav",
          "country.00027.wav",
          "country.00026.wav",
          "country.00032.wav",
          "country.00024.wav",
          "country.00030.wav",
          "country.00018.wav",
          "country.00019.wav",
          "country.00031.wav",
          "country.00025.wav",
          "country.00081.wav",
          "country.00095.wav",
          "country.00042.wav",
          "country.00056.wav",
          "country.00057.wav",
          "country.00043.wav",
          "country.00094.wav",
          "country.00080.wav",
          "country.00096.wav",
          "country.00082.wav",
          "country.00069.wav",
          "country.00055.wav",
          "country.00041.wav",
          "country.00040.wav",
          "country.00054.wav",
          "country.00068.wav",
          "country.00083.wav",
          "country.00097.wav",
          "country.00093.wav",
          "country.00087.wav",
          "country.00050.wav",
          "country.00044.wav",
          "country.00078.wav",
          "country.00079.wav",
          "country.00045.wav",
          "country.00051.wav",
          "country.00086.wav",
          "country.00092.wav",
          "country.00084.wav",
          "country.00090.wav",
          "country.00047.wav",
          "country.00053.wav",
          "country.00052.wav",
          "country.00046.wav",
          "country.00091.wav",
          "country.00085.wav"
         ],
         "type": "scatter",
         "x": {
          "bdata": "sDCZYlfC6D/M8mQZ3uboPzIUmRK85uQ/4YquP2AM5D9NL2qpxe/qP9ZthuBf8+U/6DwGBKbJ6T/wESoqk4PmP+WAc8+7DOk/nsPtXIJA6D9GupAw+6TqP9uaueOTOOU/71f5LKTs4z/FWXpmIUzhP+hxtYV7t+g/aD5HzcxL6j/zyzp34czmPwLFF9XoRug/Ck1YfCCC6j8IvIrn7tXlP6XUZQwrUuc/DajPKhMe6D8rJeWyVazhPxXcLyGiiOY/2MTRHcZT5j9yzRe8f/PsPx4RT4ijQO0/IZuaMSZG6T+6neokB9PsPyRS8so09uM/o1tfXNL25T/mKjKkyP/pP/p7T506AOs/jzefy4Pi5D/dXf4D4ILnP5gMHVKfMO0/UCSW9hee7T9n4FVaJzfsP+d+u5I1P+w/RzE2admC6z/pimg/6TfuPwcR7kF97ew/wROLlGnA5z/RfsPNX03tP6vWhdIsAO4/Dw9vHGaA4j9nDMh7/q7qP4dWiZDUC+s/chKC0cx86z9I+LN6RtrrPyab72hgYOg/8M5tDahA6D9u/3Udjj3oPzNHq3Kj0+k/9913xc8j6j9YXw04TXzoP/Vih9MrneQ/BvvHNgDX6T+xhx1JzezlP30S3D4B3+Q/M0pSEvAb6T9PVxUN61/jPwHzVdk+zeg/TXYy4iHn5j+l7yXpzz7qP+MqAn7yTOc/hg9indzu6z9p7K9BCULpP8uK3Kxl1+g/nFhuRjTX6T9gOf6TxRLnP67e6H0Hxuo/nZC2BXt85z9dUGVMrgPrPzAjVPcscOY/JriUALmc6T9rZ/2d/dvsPyxgGqOO6eo/GcFvb50l6j9SeV6NJF3kP7uy0IlssuY/IGtop6+t5z9hl+DJkxbmP7A7ZtmqTec/bnBJEMFP6T/244yiCQzoP+lF82X90eQ/Np7zISRw4T8KxSMJyRvrP/TQqU2r0Oc/AOSRS1cr6T918tHC8C/qPx4e4alIwug/wmU52pGb6D9r8wwy9RjnP2a70uG6X+s/Kkz6U3ut5j/DF1sR1PvnPzLfACQkkec/W/D+g+/D5z8=",
          "dtype": "f8"
         },
         "xaxis": "x",
         "y": {
          "bdata": "uxpbAvBkyj+39K7UemnJP8nSa52D1dA/bXuwJk0i0T9JzrL/1+rEP3NZJZ1H084/mL+LAKxIxj+ezcFflv/OP+rI6Nfgscg/7jlkCseSyj9qOm/2KBXGPxwpwyZpI9A/CsnaUDAA0T+PWHVouJfRP2xkJYGur8k/HGl3iauVxj8E95yRxfXNP7J5V3R7TMw/V5rsXkt/xj9LgOJNxifQPyDBA5xlfM0/tarp4HDkyz+Cjr6AHBzRP7d8WvB3Cc8/ACm4jHzezj8UvlwvK4G6P8zjxFNzBLc/HKFhpGxOyT+d+1Bw8am8Px81Rn6IvtA/i52pEaxazz8v1J0KJFLHP6O58GPnksM/Uu8fiV6s0D92iAz7WvPLPwaFGc1s+bg/9KcWuWX6tT8SuvJ8a7y+P9X0UwHuMMA/IL2FJp+7wT+72uzyi8+wP253wvgtCbo/X5SBBm9FzD8+GURCOsq4P2vg3jFOvLI/bXANKeeF0T/J3wPqV4jEP9dKG1yABsM/9t5ZeX36wj+RfDV6jxHCPx7CylpjHsw/mA77mxxZyz8y2duJpBDJP8xT8MArSMY/udIsFBqlxz9aJMSSMk3LPwrINUWLedA/dwybFD/Xxz/KJqUsDAnQP80KpGBkus4/PsgCcwG/yD+gzktnQj7RP3FxbnlGgso/u0zkBrFYzT/h0dK2+s/GP1vLy3Nzr80/8eH2Q0TgwD8jrxaSHdbIP6V4COklO8o/H9bADtRVxz+j84aFLjzOP8wiVWPwwMQ/dyALyqSVzT/C8qYhQ8TEP+QZErEzItA/oRmQldhNyD9biaf1qy26P+3niUFzY8Q/7BCWY9A1xz9O9BQ4fK3QP7PPjTB6YM4/GOYJXpPTzD+S9pyQ2OLPP7CHfH+Xvc0/TWC6Sl00yT/TxYX0HmTKPyVj88Rtb9A/tEMd8nZX0T/Lmsdx2WDDP/a0IB/sasw/YLmxU/XiyT9bORPJrdnIPynCMg+sS8s/8eQEUuu6yz/6qMC6dFzPPxnngvyCAsQ/ltG8m0IEzj+foE1CyJPOP6g+rNWFas0/fPs1u5LkzD8=",
          "dtype": "f8"
         },
         "yaxis": "y"
        },
        {
         "hovertemplate": "Entropy: %{x}<br>Complexity: %{y}<br>File: %{text}<extra></extra>",
         "marker": {
          "color": {
           "bdata": "FrhzYTeW0T9q0JWUM6XQP7ImTVSbwdQ/WF2EMYlc1D8NshFzdOnNPwQLG4jbydI/Jqn1+qAMzj9pymKfkJfTP1Th4p96Q9A/dNz5/7Q00T88ExZzONTPP4E2c3FgvNM/yx5KzP4q1D8oWG50i1/TP75WMWHV4dA/Ukkg3YXGzz/Kwi2p2//SP42wHo+JwNI/0NSe/ia1zz+HYKRpJ1XUP8kiXm/gB9M/+/ohQ2FO0j+36V/LeoDSP87fn17Zl9M/IeOGM/qV0z/GBAER5QbEP46c3b0ViME/RJC5ulEq0T/9mknZD8/FP64hFnta3dM/ZbPzeq2I0z9sMpfACR7QPxXLX0EqScs/QjEGmU801D/KFFtwB5LRP8TJTq/bCMM/azNUven8wD+xQds0eLDGP8aHpfTdD8g/UFp+zF73yD/uKKUYNke6P5vAguolYcM/uP/8pfkh0j+/MFPWygzDP24knFa5db4/leztmJ0l1D9d1/bwozjNP9TiHs5Cgco/xTUhz0VFyz85jwdJcF7KP6lOKCBXqNI/RQTaAasw0j8hfuaawkfPP0B0Jh2g180/mgh9WkB10D/dKy15IXfSP11wAPmUvtM/e9sPs/1K0D9NC7f3EAHUP17A24OXdtE/xjrY1QCn0D+/OODhF2fUPzSbMhC53tE/lTUHvxZn0j/Fr0yO1LvPP6vXi4aLINM/E/Ke13aqyD/69IRWf8nQPyxBGJS9gtE/a08zU4EJ0D/O1Mn6PlfTP0FcULygL80/Wzygb71M0z9rSUmcQqfNP5HoW2vR6tQ/sdlSSje/0D8f12cKg9vDP5KvsnsA6sw/fpEWMxZC0D9ED6gA58/TPxJ3CLCRPNM/R/hZgiOi0j8BAKDAUg3UP1bq59uPQ9M//ptI7pb70D8tfpB0eCPRP+X5hkwEt9M/u0YqAqn10j82johLKIDLPx4XiSEiiNI/4XbOt9t80T8unQi/abrRP9YywpzRfdI/GMbopcW30j/jffDa9YbUPxrIpzbXLs0/3Wyxwfra0j+uVxxt0qzUP+z34TTTLtM/s4rG+qrj0j8=",
           "dtype": "f8"
          },
          "colorscale": [
           [
            0,
            "#0508b8"
           ],
           [
            0.08333333333333333,
            "#1910d8"
           ],
           [
            0.16666666666666666,
            "#3c19f0"
           ],
           [
            0.25,
            "#6b1cfb"
           ],
           [
            0.3333333333333333,
            "#981cfd"
           ],
           [
            0.4166666666666667,
            "#bf1cfd"
           ],
           [
            0.5,
            "#dd2bfd"
           ],
           [
            0.5833333333333334,
            "#f246fe"
           ],
           [
            0.6666666666666666,
            "#fc67fd"
           ],
           [
            0.75,
            "#fe88fc"
           ],
           [
            0.8333333333333334,
            "#fea5fd"
           ],
           [
            0.9166666666666666,
            "#febefe"
           ],
           [
            1,
            "#fec3fe"
           ]
          ],
          "size": 10
         },
         "mode": "markers",
         "name": "Dim = 5, Hop = 4",
         "showlegend": true,
         "text": [
          "country.00088.wav",
          "country.00063.wav",
          "country.00077.wav",
          "country.00076.wav",
          "country.00062.wav",
          "country.00089.wav",
          "country.00048.wav",
          "country.00074.wav",
          "country.00060.wav",
          "country.00061.wav",
          "country.00075.wav",
          "country.00049.wav",
          "country.00071.wav",
          "country.00065.wav",
          "country.00059.wav",
          "country.00058.wav",
          "country.00064.wav",
          "country.00070.wav",
          "country.00099.wav",
          "country.00066.wav",
          "country.00072.wav",
          "country.00073.wav",
          "country.00067.wav",
          "country.00098.wav",
          "country.00028.wav",
          "country.00000.wav",
          "country.00014.wav",
          "country.00015.wav",
          "country.00001.wav",
          "country.00029.wav",
          "country.00017.wav",
          "country.00003.wav",
          "country.00002.wav",
          "country.00016.wav",
          "country.00012.wav",
          "country.00006.wav",
          "country.00007.wav",
          "country.00013.wav",
          "country.00005.wav",
          "country.00011.wav",
          "country.00039.wav",
          "country.00038.wav",
          "country.00010.wav",
          "country.00004.wav",
          "country.00009.wav",
          "country.00021.wav",
          "country.00035.wav",
          "country.00034.wav",
          "country.00020.wav",
          "country.00008.wav",
          "country.00036.wav",
          "country.00022.wav",
          "country.00023.wav",
          "country.00037.wav",
          "country.00033.wav",
          "country.00027.wav",
          "country.00026.wav",
          "country.00032.wav",
          "country.00024.wav",
          "country.00030.wav",
          "country.00018.wav",
          "country.00019.wav",
          "country.00031.wav",
          "country.00025.wav",
          "country.00081.wav",
          "country.00095.wav",
          "country.00042.wav",
          "country.00056.wav",
          "country.00057.wav",
          "country.00043.wav",
          "country.00094.wav",
          "country.00080.wav",
          "country.00096.wav",
          "country.00082.wav",
          "country.00069.wav",
          "country.00055.wav",
          "country.00041.wav",
          "country.00040.wav",
          "country.00054.wav",
          "country.00068.wav",
          "country.00083.wav",
          "country.00097.wav",
          "country.00093.wav",
          "country.00087.wav",
          "country.00050.wav",
          "country.00044.wav",
          "country.00078.wav",
          "country.00079.wav",
          "country.00045.wav",
          "country.00051.wav",
          "country.00086.wav",
          "country.00092.wav",
          "country.00084.wav",
          "country.00090.wav",
          "country.00047.wav",
          "country.00053.wav",
          "country.00052.wav",
          "country.00046.wav",
          "country.00091.wav",
          "country.00085.wav"
         ],
         "type": "scatter",
         "x": {
          "bdata": "mYblZAeM5z+/G5UUFJDnP4i/6yzMXuM/+qi8udV14j8Sc0kAYuvpPztBfLVJeeQ/kJ4pR1d/6D9FIx+H5hLlP6vPGNbxp+c/oXxnb4zE5j9eDU7FW5LpP4iV8TFaseM/ts7jXMJR4j/braBSAtneP+TH4c6kNOc/oGyH//4j6T+gZfr3ElrlP8SIBhusDuc/r3M6R7aC6T9eeUqcX1LkPyrW9LIC8+U/ibNQjaHR5j/lOeqs7ZLfPzpXi1bbH+U/3RgDuDzj5D975qv+1T3sP9sFcoq7duw/SGh9bWEM6D/uXihePCjsP+MfZlk9ReI/RczQL72D5D9/oa6ra/HoP3t3/uzI++k/0SX54wFW4z/OW8yAfSPmPzBQXqjGfew/FDb5LJQQ7T+3Ev4gkU7rPy4dzbPlcus/Ifrt1IyX6j8uwH32r83tP+qcmpPEKew/ZRWwQSh95j8/stzFJrTsP3uLVynFb+0/v+9JnUnK4D/bm45OO6DpPyPe7sJDB+o/As1cgNOH6j+oLiZc3Q7rPxRR5MAvNuc//zbVAFnq5j9WEWOJxnHmP+t39K8frug/MrXlRv0a6T8oMQUhEj3nP8hkaal2DuM/9gdE0qHK6D8RQlthunzkP0Mpe4r88OI/+H8UoQLh5z+tQ0OOEarhP9XVDy7knuc/o51c3Gh75T/f5+6mAzvpPyeACDHl9uU/fiiFq3cR6z8fv8QGbPTnP0Om2WYcoec/A5GwlzbE6D+aAhX5MbflP/58XnuIquk/cg10/N0t5j87ZPUnWRPqP0GlSwi3COU/N9fgWpRk6D8Wqpa9dgzsP3vgcZFc9uk/tEk+fb0H6T8Ps9bQQb/iPx2mANnDTeU/CXe6doBg5j//cXostKzkP34Ho3HDBOY/l+UxNhcs6D8Sdaj8GJ7mP5AnFUqNNOM/iTaatcQ03z/Qy3jmbyHqPyo/VIpdeeY/QXc4FnYP6D/qbKAxSyvpP9le15DQkec/PBlG5jlw5z8UvMvQTsjlP0UbS+Xegeo/QnCg1rot5T+RH/MAkKXmP6lHocJrR+Y/04PaMOx85j8=",
          "dtype": "f8"
         },
         "xaxis": "x2",
         "y": {
          "bdata": "FrhzYTeW0T9q0JWUM6XQP7ImTVSbwdQ/WF2EMYlc1D8NshFzdOnNPwQLG4jbydI/Jqn1+qAMzj9pymKfkJfTP1Th4p96Q9A/dNz5/7Q00T88ExZzONTPP4E2c3FgvNM/yx5KzP4q1D8oWG50i1/TP75WMWHV4dA/Ukkg3YXGzz/Kwi2p2//SP42wHo+JwNI/0NSe/ia1zz+HYKRpJ1XUP8kiXm/gB9M/+/ohQ2FO0j+36V/LeoDSP87fn17Zl9M/IeOGM/qV0z/GBAER5QbEP46c3b0ViME/RJC5ulEq0T/9mknZD8/FP64hFnta3dM/ZbPzeq2I0z9sMpfACR7QPxXLX0EqScs/QjEGmU801D/KFFtwB5LRP8TJTq/bCMM/azNUven8wD+xQds0eLDGP8aHpfTdD8g/UFp+zF73yD/uKKUYNke6P5vAguolYcM/uP/8pfkh0j+/MFPWygzDP24knFa5db4/leztmJ0l1D9d1/bwozjNP9TiHs5Cgco/xTUhz0VFyz85jwdJcF7KP6lOKCBXqNI/RQTaAasw0j8hfuaawkfPP0B0Jh2g180/mgh9WkB10D/dKy15IXfSP11wAPmUvtM/e9sPs/1K0D9NC7f3EAHUP17A24OXdtE/xjrY1QCn0D+/OODhF2fUPzSbMhC53tE/lTUHvxZn0j/Fr0yO1LvPP6vXi4aLINM/E/Ke13aqyD/69IRWf8nQPyxBGJS9gtE/a08zU4EJ0D/O1Mn6PlfTP0FcULygL80/Wzygb71M0z9rSUmcQqfNP5HoW2vR6tQ/sdlSSje/0D8f12cKg9vDP5KvsnsA6sw/fpEWMxZC0D9ED6gA58/TPxJ3CLCRPNM/R/hZgiOi0j8BAKDAUg3UP1bq59uPQ9M//ptI7pb70D8tfpB0eCPRP+X5hkwEt9M/u0YqAqn10j82johLKIDLPx4XiSEiiNI/4XbOt9t80T8unQi/abrRP9YywpzRfdI/GMbopcW30j/jffDa9YbUPxrIpzbXLs0/3Wyxwfra0j+uVxxt0qzUP+z34TTTLtM/s4rG+qrj0j8=",
          "dtype": "f8"
         },
         "yaxis": "y2"
        },
        {
         "hovertemplate": "Entropy: %{x}<br>Complexity: %{y}<br>File: %{text}<extra></extra>",
         "marker": {
          "color": {
           "bdata": "wDa2f4LW1T9O+4mHO3XUP2YYNzs+N9g/IPslZXcT1z+TtaGUM6LTP2ls0wLr/9U/SV076Jnl0j+4Kfyp6zjXPyzA2jo5GtQ/nxukIc7h1D/NgAWZJQfVP+y1m6Ga5dY/1gP300/c1j86cL9gQ93UP0JIL61Qh9Q/0Q4AGaVq1D83aGPajdPWP/+At7VvLtc/nPbonimm1D9+e3s83ynYP7oYDIB4Fdc/dIcpUAdp1j/v9YfmH8zTP06Q8ENZXNc/EOduGgli1z+wGFhfIODLPx8+aXAeJ8g/fJspo0aS1T+Ppxs4YwrOP6wFbRTPj9Y/9pi4cFUL1z+hiPAXpzXUP2DZX01/qNE/aLHjbuJU1z969niLfuPUP5sDiS0arso/eg3Ldt4+yD++Hdf5hWLOP17FdiPuYdA/UNtT1odJ0D9ml+vjU0rCP7PBPNjYeco/p10LgInb1T9bYT0LNXrKP3NpUumdOcY/89vvZdpq1j+WaY/RCNvSP4pKVTcJCdE/I1QfuJ3O0T+AN/3uC5HRP7wWbR+o0NY/TqW/4R1Q1j+xrg2RgofSPwv9gq6/z9I/fSk/D9yw1D+bM7zEI8DWP56hOdMrmdY/2OrcXA5y1D9Mx9ARXIfXP2Es4SgTStM/Uh94aisM1T9mRSyfMRHXP4ayZiLdEtY/JOt2c3/m1T/Ev9bJUoDUPzrodz3DK9c/u831e1Ft0D8NheS2ogrVP26wvduiqdU/vTJAmfNW1D+qIAuAJknXP7D6pt5yHNM/+EpXH5h31z+NJ3VMwXrTPz+JzNy0Ctk/Ed83oVJl1T8GYrG51g/LP5lD3hNgqtI/3UrLR2QC1T98k76VSaXWPzsSO3c27tY/vQRRRaue1j81u8v0g6fXP37P+lKBRNc/ZVhReThY1T/i/8SsfdLUP0l6ZnqQj9Y/YxcHzPpl1D9G2sqAPdzRPyFNTFBYmNY/7Uqi0ADy1T8rvSBK2eLWP8goVwrYC9c/zwumK5RG1z/j1VZkIdzYP2dMfOaAl9M/LwVTXjl61j8OsefgKi7ZPynM4u7/QNc/EPqhhZQX1z8=",
           "dtype": "f8"
          },
          "colorscale": [
           [
            0,
            "#0508b8"
           ],
           [
            0.08333333333333333,
            "#1910d8"
           ],
           [
            0.16666666666666666,
            "#3c19f0"
           ],
           [
            0.25,
            "#6b1cfb"
           ],
           [
            0.3333333333333333,
            "#981cfd"
           ],
           [
            0.4166666666666667,
            "#bf1cfd"
           ],
           [
            0.5,
            "#dd2bfd"
           ],
           [
            0.5833333333333334,
            "#f246fe"
           ],
           [
            0.6666666666666666,
            "#fc67fd"
           ],
           [
            0.75,
            "#fe88fc"
           ],
           [
            0.8333333333333334,
            "#fea5fd"
           ],
           [
            0.9166666666666666,
            "#febefe"
           ],
           [
            1,
            "#fec3fe"
           ]
          ],
          "size": 10
         },
         "mode": "markers",
         "name": "Dim = 6, Hop = 5",
         "showlegend": true,
         "text": [
          "country.00088.wav",
          "country.00063.wav",
          "country.00077.wav",
          "country.00076.wav",
          "country.00062.wav",
          "country.00089.wav",
          "country.00048.wav",
          "country.00074.wav",
          "country.00060.wav",
          "country.00061.wav",
          "country.00075.wav",
          "country.00049.wav",
          "country.00071.wav",
          "country.00065.wav",
          "country.00059.wav",
          "country.00058.wav",
          "country.00064.wav",
          "country.00070.wav",
          "country.00099.wav",
          "country.00066.wav",
          "country.00072.wav",
          "country.00073.wav",
          "country.00067.wav",
          "country.00098.wav",
          "country.00028.wav",
          "country.00000.wav",
          "country.00014.wav",
          "country.00015.wav",
          "country.00001.wav",
          "country.00029.wav",
          "country.00017.wav",
          "country.00003.wav",
          "country.00002.wav",
          "country.00016.wav",
          "country.00012.wav",
          "country.00006.wav",
          "country.00007.wav",
          "country.00013.wav",
          "country.00005.wav",
          "country.00011.wav",
          "country.00039.wav",
          "country.00038.wav",
          "country.00010.wav",
          "country.00004.wav",
          "country.00009.wav",
          "country.00021.wav",
          "country.00035.wav",
          "country.00034.wav",
          "country.00020.wav",
          "country.00008.wav",
          "country.00036.wav",
          "country.00022.wav",
          "country.00023.wav",
          "country.00037.wav",
          "country.00033.wav",
          "country.00027.wav",
          "country.00026.wav",
          "country.00032.wav",
          "country.00024.wav",
          "country.00030.wav",
          "country.00018.wav",
          "country.00019.wav",
          "country.00031.wav",
          "country.00025.wav",
          "country.00081.wav",
          "country.00095.wav",
          "country.00042.wav",
          "country.00056.wav",
          "country.00057.wav",
          "country.00043.wav",
          "country.00094.wav",
          "country.00080.wav",
          "country.00096.wav",
          "country.00082.wav",
          "country.00069.wav",
          "country.00055.wav",
          "country.00041.wav",
          "country.00040.wav",
          "country.00054.wav",
          "country.00068.wav",
          "country.00083.wav",
          "country.00097.wav",
          "country.00093.wav",
          "country.00087.wav",
          "country.00050.wav",
          "country.00044.wav",
          "country.00078.wav",
          "country.00079.wav",
          "country.00045.wav",
          "country.00051.wav",
          "country.00086.wav",
          "country.00092.wav",
          "country.00084.wav",
          "country.00090.wav",
          "country.00047.wav",
          "country.00053.wav",
          "country.00052.wav",
          "country.00046.wav",
          "country.00091.wav",
          "country.00085.wav"
         ],
         "type": "scatter",
         "x": {
          "bdata": "NZuueoy35j80JEZz9pvmPye6IIH8a+I/Bs5H2fl14T/sKmtduSjpP30dXZ6UiOM/+eB0kJyQ5z/guNufBjbkP9p5uxysq+Y/02irwry75T9GsjXVHL3oPydcBXbbxuI/680LMelM4T8XBkrqVpzcP4Xx/ktyMOY/5iRT++9L6D/b67BHR13kP6zPLF6UQOY/Kbh/B3TK6D/xvI9xlGbjP+nHa+HFDeU/Fn1iLLX/5T8Jf5vrmSPdP9i+6/OgNeQ/1X6xW9744z8dDoDfpafrP2zapVeM1es/HwLf89w05z8/erqeMbDrP6Hek0Y+QOE/+xrejI6k4z8eAUpRHkfoP+Gpb2/QP+k/UkZ2DOpR4j9PQTfz6y/lP0xJyP7U5es/UHC23i+R7D91ZJKGrazqP1pJx2Gr1+o/ywT6KcDm6T/l7te1LoHtP7gxMVrPjOs/YsrORcak5T/xE3h7lD7sP81/ylk1AO0/id28VPeU3z8IGHypBufoP1Lh9RAVTek/YgVZPYHN6T/4GLkMj4PqPyevtO0afuY/ZxEmMdwc5j8iSm2HLTflP/rxC79H3+c/uE14P2yG6D/InNN+8XnmP+UAKvlTDuI/z6BEVdYd6D/hpEJij5rjP2GFJxPgpuE/Mb8qsesF5z/VV5aLq6bgP71hgXau2uY/1zdG00yP5D9dLgzN9HboP5uOfaazEOU/N1ImDYlu6j/PD8c+SBPnP7eQ3TcKzeY/+Dijx6EJ6D+8m5Zf4tjkP+C++5Jxy+g/4t5kUU5O5T8EPaAkbGXpP5HIZBjlMuQ/6KTgSZuR5z8X2AElW3XrP+AxsWyKVek/3U+JAgQz6D+m6eSkdLrhP6tn5m3rauQ/3JGg4meN5T8P/Y8gG9HjP1zsYqGfMuU/NAffdX5W5z+CehJ5Yb3lPxj0FjmWMuI/5TfXj1z33D//YBnCFn7pP2/0mODAn+U/nDGissNV5z9mkOlgLpXoPyDc54PV4OY/TNwrp2a45j8/62EZ3ujkP6jH7v7t1Ok/gQTPgt4k5D+biOXK4ublP84MBRd0eOU/1F/QRvWm5T8=",
          "dtype": "f8"
         },
         "xaxis": "x3",
         "y": {
          "bdata": "wDa2f4LW1T9O+4mHO3XUP2YYNzs+N9g/IPslZXcT1z+TtaGUM6LTP2ls0wLr/9U/SV076Jnl0j+4Kfyp6zjXPyzA2jo5GtQ/nxukIc7h1D/NgAWZJQfVP+y1m6Ga5dY/1gP300/c1j86cL9gQ93UP0JIL61Qh9Q/0Q4AGaVq1D83aGPajdPWP/+At7VvLtc/nPbonimm1D9+e3s83ynYP7oYDIB4Fdc/dIcpUAdp1j/v9YfmH8zTP06Q8ENZXNc/EOduGgli1z+wGFhfIODLPx8+aXAeJ8g/fJspo0aS1T+Ppxs4YwrOP6wFbRTPj9Y/9pi4cFUL1z+hiPAXpzXUP2DZX01/qNE/aLHjbuJU1z969niLfuPUP5sDiS0arso/eg3Ldt4+yD++Hdf5hWLOP17FdiPuYdA/UNtT1odJ0D9ml+vjU0rCP7PBPNjYeco/p10LgInb1T9bYT0LNXrKP3NpUumdOcY/89vvZdpq1j+WaY/RCNvSP4pKVTcJCdE/I1QfuJ3O0T+AN/3uC5HRP7wWbR+o0NY/TqW/4R1Q1j+xrg2RgofSPwv9gq6/z9I/fSk/D9yw1D+bM7zEI8DWP56hOdMrmdY/2OrcXA5y1D9Mx9ARXIfXP2Es4SgTStM/Uh94aisM1T9mRSyfMRHXP4ayZiLdEtY/JOt2c3/m1T/Ev9bJUoDUPzrodz3DK9c/u831e1Ft0D8NheS2ogrVP26wvduiqdU/vTJAmfNW1D+qIAuAJknXP7D6pt5yHNM/+EpXH5h31z+NJ3VMwXrTPz+JzNy0Ctk/Ed83oVJl1T8GYrG51g/LP5lD3hNgqtI/3UrLR2QC1T98k76VSaXWPzsSO3c27tY/vQRRRaue1j81u8v0g6fXP37P+lKBRNc/ZVhReThY1T/i/8SsfdLUP0l6ZnqQj9Y/YxcHzPpl1D9G2sqAPdzRPyFNTFBYmNY/7Uqi0ADy1T8rvSBK2eLWP8goVwrYC9c/zwumK5RG1z/j1VZkIdzYP2dMfOaAl9M/LwVTXjl61j8OsefgKi7ZPynM4u7/QNc/EPqhhZQX1z8=",
          "dtype": "f8"
         },
         "yaxis": "y3"
        },
        {
         "hovertemplate": "Entropy: %{x}<br>Complexity: %{y}<br>File: %{text}<extra></extra>",
         "marker": {
          "color": {
           "bdata": "gycTZKfr2T87XUDcqSHYP9nMUywaB9s/5/9e5g5F2T9ml9wDr0HYP0WKWmmT29g/pBtDnw/U1j+zzIDtn4jaP9XPGnxm99c/NaFoLdNx2D/mBKNox+zZPz/9EfLCuNk/byDJ1fEk2T9NpRgcfiPWP9UQckP4Cdg/CNuxcp3T2D/AYzGJjC3aPxtMatg/Lts/ukaVjEZK2T8Ty3TUjmDbPyHZJt+Vvdo/qlvVkV1P2j83yaCKqAnVP9+u9AQupNo/Vsj9GGjO2j8pQVPiZyTSP7DVBwXqlc8/RxYZs7PI2T/ACZX4bKzTPytqp19q3dg/HSqwqrBB2j/TsWYxRCzYP44r6nLT09U/6o/pV97v2T+4n9081x3YPxN+pxUvldE/aX+5TYYi0D8uSDJu8z3TPyvPTY+1xtQ/GiLHJcI11D9gFSc9WzXIP1RW9fJfPNE/W1xf7HBa2T9uCowSe33RPziZ/rzvcs4/DY7RnGQv2D+Q1rtHjSfXPw0S3Jm42tQ/ikNyv1Yk1j/kc3AGg0vWP2Ovo7Iysdo/laLZi/w42j8atzJ2JE3VPwzAH7VggdY/jorpcMb/2D/dEjUZ/M3aP8dSY7FDEdk/So8t79qP2D9JXOiHB6jaP1TRGWknHtU/TQAQ2Boi2T/Rf8K9zj7ZP7Ffeg7nHdo/UkA0V0Yl2T+cjndHdffYP62mMlQwrdo/RD8BHPzK1D8c2s+2ki7ZP9FLB8kOxNk/UtbTXT5/2D8pW7rYj73aP0xIhqHAlNc/y8CtZqYX2z/QHNZNjQrYP9cm5ILghtw/ufSydRzb2T+NDo5lKFDRP6m1TS2I99Y/f5DDy22P2T/QH8lirwTZP1gKU6hWONo/jkQ36l8t2j/6U3wNgNraPznLyiMl5No/vCfJuw6D2T/WkaXGVmfYP8JHIZ8nBdk/yydwQdyS1T8ZO+K9LhnWP9aYALrSXdo/BmuYMFY92j8NKOa38tfbP/w7gTIpRNs/QG0x5o5z2z9ezAh7SMPcPy/TWwmtgdg/J1g+d8612T8f43o1hS3dP7LzupTO59o/Ki0owh7S2j8=",
           "dtype": "f8"
          },
          "colorscale": [
           [
            0,
            "#0508b8"
           ],
           [
            0.08333333333333333,
            "#1910d8"
           ],
           [
            0.16666666666666666,
            "#3c19f0"
           ],
           [
            0.25,
            "#6b1cfb"
           ],
           [
            0.3333333333333333,
            "#981cfd"
           ],
           [
            0.4166666666666667,
            "#bf1cfd"
           ],
           [
            0.5,
            "#dd2bfd"
           ],
           [
            0.5833333333333334,
            "#f246fe"
           ],
           [
            0.6666666666666666,
            "#fc67fd"
           ],
           [
            0.75,
            "#fe88fc"
           ],
           [
            0.8333333333333334,
            "#fea5fd"
           ],
           [
            0.9166666666666666,
            "#febefe"
           ],
           [
            1,
            "#fec3fe"
           ]
          ],
          "size": 10
         },
         "mode": "markers",
         "name": "Dim = 7, Hop = 6",
         "showlegend": true,
         "text": [
          "country.00088.wav",
          "country.00063.wav",
          "country.00077.wav",
          "country.00076.wav",
          "country.00062.wav",
          "country.00089.wav",
          "country.00048.wav",
          "country.00074.wav",
          "country.00060.wav",
          "country.00061.wav",
          "country.00075.wav",
          "country.00049.wav",
          "country.00071.wav",
          "country.00065.wav",
          "country.00059.wav",
          "country.00058.wav",
          "country.00064.wav",
          "country.00070.wav",
          "country.00099.wav",
          "country.00066.wav",
          "country.00072.wav",
          "country.00073.wav",
          "country.00067.wav",
          "country.00098.wav",
          "country.00028.wav",
          "country.00000.wav",
          "country.00014.wav",
          "country.00015.wav",
          "country.00001.wav",
          "country.00029.wav",
          "country.00017.wav",
          "country.00003.wav",
          "country.00002.wav",
          "country.00016.wav",
          "country.00012.wav",
          "country.00006.wav",
          "country.00007.wav",
          "country.00013.wav",
          "country.00005.wav",
          "country.00011.wav",
          "country.00039.wav",
          "country.00038.wav",
          "country.00010.wav",
          "country.00004.wav",
          "country.00009.wav",
          "country.00021.wav",
          "country.00035.wav",
          "country.00034.wav",
          "country.00020.wav",
          "country.00008.wav",
          "country.00036.wav",
          "country.00022.wav",
          "country.00023.wav",
          "country.00037.wav",
          "country.00033.wav",
          "country.00027.wav",
          "country.00026.wav",
          "country.00032.wav",
          "country.00024.wav",
          "country.00030.wav",
          "country.00018.wav",
          "country.00019.wav",
          "country.00031.wav",
          "country.00025.wav",
          "country.00081.wav",
          "country.00095.wav",
          "country.00042.wav",
          "country.00056.wav",
          "country.00057.wav",
          "country.00043.wav",
          "country.00094.wav",
          "country.00080.wav",
          "country.00096.wav",
          "country.00082.wav",
          "country.00069.wav",
          "country.00055.wav",
          "country.00041.wav",
          "country.00040.wav",
          "country.00054.wav",
          "country.00068.wav",
          "country.00083.wav",
          "country.00097.wav",
          "country.00093.wav",
          "country.00087.wav",
          "country.00050.wav",
          "country.00044.wav",
          "country.00078.wav",
          "country.00079.wav",
          "country.00045.wav",
          "country.00051.wav",
          "country.00086.wav",
          "country.00092.wav",
          "country.00084.wav",
          "country.00090.wav",
          "country.00047.wav",
          "country.00053.wav",
          "country.00052.wav",
          "country.00046.wav",
          "country.00091.wav",
          "country.00085.wav"
         ],
         "type": "scatter",
         "x": {
          "bdata": "qWQ3McEM5j+/97DH4M/lP4qZVRVtv+E/QhOZtZO/4D9LS+dE4Y7oP85gJzm+xuI/xxPP8cDE5j/awSFYl4fjP0D3Ph0d3eU/TWUmduLq5D9RqlSLVRfoP0cKekQBD+I/QDjIOs+O4D9VrFkMrRbbP6wmmDUPU+U/UuflL7+V5z+qrglhbqjjP37d/iW0muU/z6Ov8yhA6D+C6lHqGsHiP88Iwk3uXOQ/MhuqQJRO5T8SboFY8XTbPwqyLGDAheM/1nrZp+RD4z8oW3lcNC3rP9M+OvJrROs/8Lo8x7SN5j81xTorUz/rP8u56d+hgOA/nbrjeW734j+oX02RjMTnPx2DQNUKl+g/QQZuxx+X4T9epp9Wf3TkP9ttiF5VX+s/eX/kZ4kk7D+zJ0QkExnqP96EfeDXYOo/5swwRYxY6T/MmlR+5kHtP6mhkdjP9+o/CjTkGV/65D9g8tDoi9frP8IdjS7Fluw/fWfNrywK3j+t8/VBe1XoPynO999zq+g/myXGCXMj6T9ZEEdatAbqPw9I8xyz9eU/BfCFjC1v5T8oT3/5ujjkP2JQRbO+Mec/R3YbxYYA6D9VSK+GV+jlPzA1h7FyUuE/DhJaCLeJ5z9krO3Js+/iPy+C13WrsOA/JHh3Fqlh5j/YFEsk1ObfPzQ5Hl1GRuY/Z+xQwwXe4z+DzZBYg+XnPz140rerc+Q/N+wbKyLe6T9YiF11tlHmP5mkYR7IHeY/w6hq3Vl45z8GS1ECwDbkPweES80KE+g/UTqlvBuv5D9T5DaYBOPoP0WqO7TEpuM/ddVEfUXo5j8Q4PApSPHqP2GVWTGzzeg/ncn0YHuQ5z9zeTXQcv7gPzN2pf35vOM/EhISPhHm5D960LUrDyrjP/P0tesTlOQ/YcK1p0Kr5j8FhKFlA/7kP0+qcfifaOE/ASUVtCBM2z99DCEFuu/oPwirCkis8eQ/ZEOBznq95j9tUZ5KESHoPztAMiBTVeY/SGeN/O0s5j9n99HbkE7kPyvXVgkoUOk/9on3yAli4z9JM9BPuWHlP11YndOt1uQ/YpqbnQcD5T8=",
          "dtype": "f8"
         },
         "xaxis": "x4",
         "y": {
          "bdata": "gycTZKfr2T87XUDcqSHYP9nMUywaB9s/5/9e5g5F2T9ml9wDr0HYP0WKWmmT29g/pBtDnw/U1j+zzIDtn4jaP9XPGnxm99c/NaFoLdNx2D/mBKNox+zZPz/9EfLCuNk/byDJ1fEk2T9NpRgcfiPWP9UQckP4Cdg/CNuxcp3T2D/AYzGJjC3aPxtMatg/Lts/ukaVjEZK2T8Ty3TUjmDbPyHZJt+Vvdo/qlvVkV1P2j83yaCKqAnVP9+u9AQupNo/Vsj9GGjO2j8pQVPiZyTSP7DVBwXqlc8/RxYZs7PI2T/ACZX4bKzTPytqp19q3dg/HSqwqrBB2j/TsWYxRCzYP44r6nLT09U/6o/pV97v2T+4n9081x3YPxN+pxUvldE/aX+5TYYi0D8uSDJu8z3TPyvPTY+1xtQ/GiLHJcI11D9gFSc9WzXIP1RW9fJfPNE/W1xf7HBa2T9uCowSe33RPziZ/rzvcs4/DY7RnGQv2D+Q1rtHjSfXPw0S3Jm42tQ/ikNyv1Yk1j/kc3AGg0vWP2Ovo7Iysdo/laLZi/w42j8atzJ2JE3VPwzAH7VggdY/jorpcMb/2D/dEjUZ/M3aP8dSY7FDEdk/So8t79qP2D9JXOiHB6jaP1TRGWknHtU/TQAQ2Boi2T/Rf8K9zj7ZP7Ffeg7nHdo/UkA0V0Yl2T+cjndHdffYP62mMlQwrdo/RD8BHPzK1D8c2s+2ki7ZP9FLB8kOxNk/UtbTXT5/2D8pW7rYj73aP0xIhqHAlNc/y8CtZqYX2z/QHNZNjQrYP9cm5ILghtw/ufSydRzb2T+NDo5lKFDRP6m1TS2I99Y/f5DDy22P2T/QH8lirwTZP1gKU6hWONo/jkQ36l8t2j/6U3wNgNraPznLyiMl5No/vCfJuw6D2T/WkaXGVmfYP8JHIZ8nBdk/yydwQdyS1T8ZO+K9LhnWP9aYALrSXdo/BmuYMFY92j8NKOa38tfbP/w7gTIpRNs/QG0x5o5z2z9ezAh7SMPcPy/TWwmtgdg/J1g+d8612T8f43o1hS3dP7LzupTO59o/Ki0owh7S2j8=",
          "dtype": "f8"
         },
         "yaxis": "y4"
        },
        {
         "hovertemplate": "Entropy: %{x}<br>Complexity: %{y}<br>File: %{text}<extra></extra>",
         "marker": {
          "color": {
           "bdata": "xasfvT2n3j9322f65trcP87wYbndct0/aTUlSYpE2z/14NBs7z3eP6VYZ0SiQNw/8zvlbxCg3D/yEnhbLu7dP1/N6B5c1tw/fQmCPjnC3D+cY9FLGonfP091b1Z3ldw/sKXj7yYx2z/ulLuIthDXPzPsjcnXftw/2BVgUiZP3j+6vbt5rb/dP7QdwOWKZN8/6ihKhFAQ3z9m/7juq0PeP/OkJAjRhN4/0HgQ0N+L3j9ZTLS/NU/WP2fHhkRKAN4/ewFhUeYv3j8kilPSrxHaPwE2tDgf89c/jCeeyQ+Z3j+nYjZREy/bP0GrD76vEds/8P86A9t03T/ATIprcTfeP3kZ8ODZetw/W7XxmJlD3D/l6aXsR0ncPxWmf+2MRtk/O1wH8ywd2D8tqwTnxPbaP5OjBci5Ddw/MmIhs42m2z+7tnM94gzUP5kMc1MfQNk/zgQuizaO3T8iBhF4BVrZPxk1licNWtc/xB+vLlqb2T/B7FQ8h/zdP4YUVmgurNs/9QbyQwdq3D+vRY0KzyzdP8CEXr8jNt8/oohjL3Tg3j96MD3AtBPaP8B2Nny+ldw/khZ2EJbg3j/e9eyy/JrfP2JgWPapjts/IlSATNAz3j9BLbHYrrLdPw/h9OU94Nc/BQD7q6CZ3j9GxKvWkA7bP3PQks8VVN8/4ywXkD0D3T+nkIxDirDeP60Ns48Zg94/R7S8gHsr3D/dZIBdFiPeP7Nw9PWpfd4/uwnNda5U3j9l3+EJt2reP4ed8WrpVt0/s3szEUga3z/u7WJSYjbePy5XTIFyvN8/6OCwmUUN3z9XOs3Iq0DZP5jQMnohht0/OD0AQgDy3j/na1bMxkbbP6sKYCKgzN0/e/dBh6Ze3j9feK7W3wjeP6Sj9eYB094/HIyEgcaI3j+0bOuXaT/dP9gz5Rx4e9s/8dOD35i91j8c/8ywBwbdPwCZyUp7eN4/xGBshREl3z/Ks2WAQqXgP1Bs9mmk798/3r50B+oI4D/FDzgQ2yPgPxin4zsbyN4/DZOzzKgV3T+OoVsXF5PgP9FMT5Je694/QCln43bi3j8=",
           "dtype": "f8"
          },
          "colorscale": [
           [
            0,
            "#0508b8"
           ],
           [
            0.08333333333333333,
            "#1910d8"
           ],
           [
            0.16666666666666666,
            "#3c19f0"
           ],
           [
            0.25,
            "#6b1cfb"
           ],
           [
            0.3333333333333333,
            "#981cfd"
           ],
           [
            0.4166666666666667,
            "#bf1cfd"
           ],
           [
            0.5,
            "#dd2bfd"
           ],
           [
            0.5833333333333334,
            "#f246fe"
           ],
           [
            0.6666666666666666,
            "#fc67fd"
           ],
           [
            0.75,
            "#fe88fc"
           ],
           [
            0.8333333333333334,
            "#fea5fd"
           ],
           [
            0.9166666666666666,
            "#febefe"
           ],
           [
            1,
            "#fec3fe"
           ]
          ],
          "size": 10
         },
         "mode": "markers",
         "name": "Dim = 8, Hop = 7",
         "showlegend": true,
         "text": [
          "country.00088.wav",
          "country.00063.wav",
          "country.00077.wav",
          "country.00076.wav",
          "country.00062.wav",
          "country.00089.wav",
          "country.00048.wav",
          "country.00074.wav",
          "country.00060.wav",
          "country.00061.wav",
          "country.00075.wav",
          "country.00049.wav",
          "country.00071.wav",
          "country.00065.wav",
          "country.00059.wav",
          "country.00058.wav",
          "country.00064.wav",
          "country.00070.wav",
          "country.00099.wav",
          "country.00066.wav",
          "country.00072.wav",
          "country.00073.wav",
          "country.00067.wav",
          "country.00098.wav",
          "country.00028.wav",
          "country.00000.wav",
          "country.00014.wav",
          "country.00015.wav",
          "country.00001.wav",
          "country.00029.wav",
          "country.00017.wav",
          "country.00003.wav",
          "country.00002.wav",
          "country.00016.wav",
          "country.00012.wav",
          "country.00006.wav",
          "country.00007.wav",
          "country.00013.wav",
          "country.00005.wav",
          "country.00011.wav",
          "country.00039.wav",
          "country.00038.wav",
          "country.00010.wav",
          "country.00004.wav",
          "country.00009.wav",
          "country.00021.wav",
          "country.00035.wav",
          "country.00034.wav",
          "country.00020.wav",
          "country.00008.wav",
          "country.00036.wav",
          "country.00022.wav",
          "country.00023.wav",
          "country.00037.wav",
          "country.00033.wav",
          "country.00027.wav",
          "country.00026.wav",
          "country.00032.wav",
          "country.00024.wav",
          "country.00030.wav",
          "country.00018.wav",
          "country.00019.wav",
          "country.00031.wav",
          "country.00025.wav",
          "country.00081.wav",
          "country.00095.wav",
          "country.00042.wav",
          "country.00056.wav",
          "country.00057.wav",
          "country.00043.wav",
          "country.00094.wav",
          "country.00080.wav",
          "country.00096.wav",
          "country.00082.wav",
          "country.00069.wav",
          "country.00055.wav",
          "country.00041.wav",
          "country.00040.wav",
          "country.00054.wav",
          "country.00068.wav",
          "country.00083.wav",
          "country.00097.wav",
          "country.00093.wav",
          "country.00087.wav",
          "country.00050.wav",
          "country.00044.wav",
          "country.00078.wav",
          "country.00079.wav",
          "country.00045.wav",
          "country.00051.wav",
          "country.00086.wav",
          "country.00092.wav",
          "country.00084.wav",
          "country.00090.wav",
          "country.00047.wav",
          "country.00053.wav",
          "country.00052.wav",
          "country.00046.wav",
          "country.00091.wav",
          "country.00085.wav"
         ],
         "type": "scatter",
         "x": {
          "bdata": "xvNVyABU5T/lft/A0PvkP2C9DF1jKuE/L4D6JJ8a4D95EX1vbc/nP0EV6W9qCuI/fmd5/pi+5T+bknYawuPiP22dXpUx8OQ/zUvhw0kJ5D/YQh17v1/nP5X1lJ6kaOE/vqEHx2fa3z/o93u//M/ZPzVAFb0Bc+Q/aJrKZFa95j/4IuuPYO7iP98rch5o/OQ/YUAn8b+Q5z+X6ArSPC7iPxpEik3ErOM/jE8v8aKg5D8K85C3OvvZP9zcjFaO1eI/8f5KL9Og4j+e9y1pNlXqP8dXbIaiQeo/znYQb8fO5T/EHPHgFZHqP9hCYFiJoN8/A1rRP9xM4j+lyadyxQTnP9iCUWezquc/8enhDaL24D+LEvZCLJjjP1BrkmZpieo/2uxWj3dS6z/NRuM24zLpP+Qzw5ilpOk/EOnS+Tde6D+gHLrs94LsP7DyxLDNAuo/IYCmXUwy5D82DfltdBfrP1KoT2/o1es/XGPdkZbk3D+FG0iL6nTnP4fu3KhYyec/T4KdB71B6D+ajOYLMVDpP+Gvxj5vVeU/A/N1X2ek5D/uK7E4EhbjP0tWuCOIT+Y/wRIJPWRL5z/xcI5xXzvlPx61lEFupeA/Si+P0sTI5j9UcXKuOkfiP9FJTNf1UN8/WmI14Leg5T8XblUcOb/eP3WK6ze2juU/das+u7wQ4z+UHNVkVS/nP4U/cYZkxeM/ga8u3ev76D8ZWYC4/nDlPzsKnwhRVeU/vErrvWjG5j99PIkedYrjP/rDrm4BQuc/TEPnOBQK5D9UMmozuyXoP7w8q+QQKOM/LnqZRrwx5j80y74CvQLqPzbuuFxxCOg/dGMT2QbI5j+Rwdnzf1bgP2IdSNVmDOM/EMHudlcu5D/X0Wjan4HiP9x4fJ7b9eM/6VPP86bo5T9BOYEiACTkP+tUYIbbueA/XN12iWLy2T9Pulf5tiLoP+3ZsoZRPOQ/fVLrVnwR5j+ujabwmJ3nP0otJfNHueU//Wincm2c5T/7bGSCH7zjP6xy9D5eoeg/f9yhS2yW4j/RTbIgIt7kPwesQRc1LuQ/ImJdb31Y5D8=",
          "dtype": "f8"
         },
         "xaxis": "x5",
         "y": {
          "bdata": "xasfvT2n3j9322f65trcP87wYbndct0/aTUlSYpE2z/14NBs7z3eP6VYZ0SiQNw/8zvlbxCg3D/yEnhbLu7dP1/N6B5c1tw/fQmCPjnC3D+cY9FLGonfP091b1Z3ldw/sKXj7yYx2z/ulLuIthDXPzPsjcnXftw/2BVgUiZP3j+6vbt5rb/dP7QdwOWKZN8/6ihKhFAQ3z9m/7juq0PeP/OkJAjRhN4/0HgQ0N+L3j9ZTLS/NU/WP2fHhkRKAN4/ewFhUeYv3j8kilPSrxHaPwE2tDgf89c/jCeeyQ+Z3j+nYjZREy/bP0GrD76vEds/8P86A9t03T/ATIprcTfeP3kZ8ODZetw/W7XxmJlD3D/l6aXsR0ncPxWmf+2MRtk/O1wH8ywd2D8tqwTnxPbaP5OjBci5Ddw/MmIhs42m2z+7tnM94gzUP5kMc1MfQNk/zgQuizaO3T8iBhF4BVrZPxk1licNWtc/xB+vLlqb2T/B7FQ8h/zdP4YUVmgurNs/9QbyQwdq3D+vRY0KzyzdP8CEXr8jNt8/oohjL3Tg3j96MD3AtBPaP8B2Nny+ldw/khZ2EJbg3j/e9eyy/JrfP2JgWPapjts/IlSATNAz3j9BLbHYrrLdPw/h9OU94Nc/BQD7q6CZ3j9GxKvWkA7bP3PQks8VVN8/4ywXkD0D3T+nkIxDirDeP60Ns48Zg94/R7S8gHsr3D/dZIBdFiPeP7Nw9PWpfd4/uwnNda5U3j9l3+EJt2reP4ed8WrpVt0/s3szEUga3z/u7WJSYjbePy5XTIFyvN8/6OCwmUUN3z9XOs3Iq0DZP5jQMnohht0/OD0AQgDy3j/na1bMxkbbP6sKYCKgzN0/e/dBh6Ze3j9feK7W3wjeP6Sj9eYB094/HIyEgcaI3j+0bOuXaT/dP9gz5Rx4e9s/8dOD35i91j8c/8ywBwbdPwCZyUp7eN4/xGBshREl3z/Ks2WAQqXgP1Bs9mmk798/3r50B+oI4D/FDzgQ2yPgPxin4zsbyN4/DZOzzKgV3T+OoVsXF5PgP9FMT5Je694/QCln43bi3j8=",
          "dtype": "f8"
         },
         "yaxis": "y5"
        },
        {
         "hovertemplate": "Entropy: %{x}<br>Complexity: %{y}<br>File: %{text}<extra></extra>",
         "marker": {
          "color": {
           "bdata": "HDvmi1XM4T9GI+bQdhbhP4eda76yNt8/KSYQdNHf3D8zqm1mRMbiP9U15FYiUd8/3MdESPFz4T8wBF1zmnrgP/M4g1a2GOE/JqAtAK2j4D8CNU0J3fLiP6Q9d2Ny7d4/7mVSbJnB3D8lKTv/bpbXP5beP/BhsuA/xzYbwQdE4j8uhHyvDHbgP+RKgtYA0uE/McKUQQ3t4j/tMuCWW07gP/2QCqL3AeE/ta9QaCZs4T+eMu4IBi3XP/xXll4ogeA/YS06XR114D9vNKTE9RrjP5IhnpLZrOI/5ltVTa/24T8uIrdVMkzjP5lUQOSvltw/PbjmuNcM4D8hTP6G7qLiP+je+uNVc+I/kkSKFg8V3j+6ktp1rWfgP1Xtixob++I/olVyJk//4j8yNcOA0ObiP54Bu/kxP+M/dUmvnGGw4j/W7Gp9x6jiP51vcVDtzuI/9QCpqWX74D8kpzcU+irjPyekOW4R+uI/fFXX9AeM2j9EZtnzicziP9Df/RJ8YeI/ts+PIUBv4j/ODid4DkHjP8bB2A1M5+E/ggov69uL4T+PI1TQegbfPxSD7Kh65uE/ZFsRW+bS4j96B3tekRjiP3B2s6znot0/R98OQTZW4j87a8vLfBzgPyUHy+7+bto/17dkQygN4j/q57qrbjrcP/UNjiH/K+I/GsjrKIpY4D/wgrn7DbPiP0bst4QkF+E/4MwxnJLu4j9NoikjRLDhPwReWxsrweE/OrzRapmC4j/nJwrKme7gP8zbL4fdVeI/ym6mmfRs4T9GVPDGYPfiP6pJd1onL+E//owRpqtN4j9E/nDRZebiP0JRljbl1+I/oXFOP6l24j+9yt4HCindPys4Z2zFjuA/Wy0/DqxK4T+aWgo9j0zgP3kwpulYQ+E/31KfNPIH4j8rakeLeQPhP4WezFrRhd0/vfuxs3N01z9DaaVllNziP0cjoQh9Q+E/nW15WNpL4j+SoBKgzn7jP0JAMbiwW+I/mVS6lClh4j/7X069GoThPw56Mqe2Q+M/ypXAiMcL4D8m9o8gk13iP9/mRVDNXOE/Ry56YuVv4T8=",
           "dtype": "f8"
          },
          "colorscale": [
           [
            0,
            "#0508b8"
           ],
           [
            0.08333333333333333,
            "#1910d8"
           ],
           [
            0.16666666666666666,
            "#3c19f0"
           ],
           [
            0.25,
            "#6b1cfb"
           ],
           [
            0.3333333333333333,
            "#981cfd"
           ],
           [
            0.4166666666666667,
            "#bf1cfd"
           ],
           [
            0.5,
            "#dd2bfd"
           ],
           [
            0.5833333333333334,
            "#f246fe"
           ],
           [
            0.6666666666666666,
            "#fc67fd"
           ],
           [
            0.75,
            "#fe88fc"
           ],
           [
            0.8333333333333334,
            "#fea5fd"
           ],
           [
            0.9166666666666666,
            "#febefe"
           ],
           [
            1,
            "#fec3fe"
           ]
          ],
          "size": 10
         },
         "mode": "markers",
         "name": "Dim = 9, Hop = 8",
         "showlegend": true,
         "text": [
          "country.00088.wav",
          "country.00063.wav",
          "country.00077.wav",
          "country.00076.wav",
          "country.00062.wav",
          "country.00089.wav",
          "country.00048.wav",
          "country.00074.wav",
          "country.00060.wav",
          "country.00061.wav",
          "country.00075.wav",
          "country.00049.wav",
          "country.00071.wav",
          "country.00065.wav",
          "country.00059.wav",
          "country.00058.wav",
          "country.00064.wav",
          "country.00070.wav",
          "country.00099.wav",
          "country.00066.wav",
          "country.00072.wav",
          "country.00073.wav",
          "country.00067.wav",
          "country.00098.wav",
          "country.00028.wav",
          "country.00000.wav",
          "country.00014.wav",
          "country.00015.wav",
          "country.00001.wav",
          "country.00029.wav",
          "country.00017.wav",
          "country.00003.wav",
          "country.00002.wav",
          "country.00016.wav",
          "country.00012.wav",
          "country.00006.wav",
          "country.00007.wav",
          "country.00013.wav",
          "country.00005.wav",
          "country.00011.wav",
          "country.00039.wav",
          "country.00038.wav",
          "country.00010.wav",
          "country.00004.wav",
          "country.00009.wav",
          "country.00021.wav",
          "country.00035.wav",
          "country.00034.wav",
          "country.00020.wav",
          "country.00008.wav",
          "country.00036.wav",
          "country.00022.wav",
          "country.00023.wav",
          "country.00037.wav",
          "country.00033.wav",
          "country.00027.wav",
          "country.00026.wav",
          "country.00032.wav",
          "country.00024.wav",
          "country.00030.wav",
          "country.00018.wav",
          "country.00019.wav",
          "country.00031.wav",
          "country.00025.wav",
          "country.00081.wav",
          "country.00095.wav",
          "country.00042.wav",
          "country.00056.wav",
          "country.00057.wav",
          "country.00043.wav",
          "country.00094.wav",
          "country.00080.wav",
          "country.00096.wav",
          "country.00082.wav",
          "country.00069.wav",
          "country.00055.wav",
          "country.00041.wav",
          "country.00040.wav",
          "country.00054.wav",
          "country.00068.wav",
          "country.00083.wav",
          "country.00097.wav",
          "country.00093.wav",
          "country.00087.wav",
          "country.00050.wav",
          "country.00044.wav",
          "country.00078.wav",
          "country.00079.wav",
          "country.00045.wav",
          "country.00051.wav",
          "country.00086.wav",
          "country.00092.wav",
          "country.00084.wav",
          "country.00090.wav",
          "country.00047.wav",
          "country.00053.wav",
          "country.00052.wav",
          "country.00046.wav",
          "country.00091.wav",
          "country.00085.wav"
         ],
         "type": "scatter",
         "x": {
          "bdata": "snGh1JFM5D/731+fxrzjP2KlL5yDl+A/AFDcA9Tf3j+wABJZWY3mPwUsq5zoKeE/tEFlgyRm5D966VGD0RniP7+XTTKnruM/iUxnReLi4j+zbOUROUTmPzjpSqhzruA/cv7q/kSf3j8hWy8kcqPYP16Soz8FNOM/+jmKaKiB5T8eLvDoUR3iP5nHv1HZIOQ/aAM/A6hw5j8IajqUjZHhP6gkMnIo1+I/9Sv/enuk4z8s+gPdLoLYPzTfOL1QDOI/2zmeDYvk4T+bb395AanoP+b7zQx3Q+g/tXkym56/5D/vkZhq0wXpP+7RQMT0U94/e1Zwp5KR4T/7nVhHodLlPx1GfbiBO+Y/wV8MJMY+4D89OCj5voniP3JTSgHhvOg/IjLMnlZy6T/rQKf1io7nP7XghieFN+g/CYnsC+vL5j99NCkYZVLqP7yOx+UkL+g/Lzc0kDws4z+iJ6Cp+FjpP/twmfBc6uk/zoYSlFHQ2z/L+gX+IDbmP+ad/ezqQuY/MB53gsy+5j/fpQT4N+jnP65QZ4YubOQ/ipDtQAGq4z8Zahshd6nhP+Ug9CSHBuU/ugSgAG0q5j/wkFmetl3kP4gmIvyR4N8/pdezVDuS5T8oi4WZAIHhPz/djjysHN0/UA0OT0ic5D+zxpAQLardP2cCFYVvk+Q/t36M8CEs4j/+sqCw+A3mP8vXIul17eI/xHwvYgt55z///y/i2U3kP4dcr8VAROQ/50rmsK6n5T8DFPj2QbLiP5n1ZGeE6eU/WFCLnls+4z8ZFnW5gOnmPzN+tPZQm+I/AHW+Ut0l5T+x9tELaCzoPwV96PUtteY/kRnLHqGl5T/N09Exw0bfP7EEk0ipNOI/q7sCoaBI4z/eDEIS0brhPzTpu4pNI+M/Ym7GGjzY5D8LuuM3gx3jP0SBExQA4N8/n/q7saul2D/1Wro908nmP6lN4h9KU+M/MJq7NksW5T/WliTds8/mP3Ew5+Vi2uQ/TWBlJ1vO5D9bRpVOgQ/jPx0taKM6bOc/OH1ErPSu4T/fnGo81T/kPyRGl25oUOM/ufOl7WN74z8=",
          "dtype": "f8"
         },
         "xaxis": "x6",
         "y": {
          "bdata": "HDvmi1XM4T9GI+bQdhbhP4eda76yNt8/KSYQdNHf3D8zqm1mRMbiP9U15FYiUd8/3MdESPFz4T8wBF1zmnrgP/M4g1a2GOE/JqAtAK2j4D8CNU0J3fLiP6Q9d2Ny7d4/7mVSbJnB3D8lKTv/bpbXP5beP/BhsuA/xzYbwQdE4j8uhHyvDHbgP+RKgtYA0uE/McKUQQ3t4j/tMuCWW07gP/2QCqL3AeE/ta9QaCZs4T+eMu4IBi3XP/xXll4ogeA/YS06XR114D9vNKTE9RrjP5IhnpLZrOI/5ltVTa/24T8uIrdVMkzjP5lUQOSvltw/PbjmuNcM4D8hTP6G7qLiP+je+uNVc+I/kkSKFg8V3j+6ktp1rWfgP1Xtixob++I/olVyJk//4j8yNcOA0ObiP54Bu/kxP+M/dUmvnGGw4j/W7Gp9x6jiP51vcVDtzuI/9QCpqWX74D8kpzcU+irjPyekOW4R+uI/fFXX9AeM2j9EZtnzicziP9Df/RJ8YeI/ts+PIUBv4j/ODid4DkHjP8bB2A1M5+E/ggov69uL4T+PI1TQegbfPxSD7Kh65uE/ZFsRW+bS4j96B3tekRjiP3B2s6znot0/R98OQTZW4j87a8vLfBzgPyUHy+7+bto/17dkQygN4j/q57qrbjrcP/UNjiH/K+I/GsjrKIpY4D/wgrn7DbPiP0bst4QkF+E/4MwxnJLu4j9NoikjRLDhPwReWxsrweE/OrzRapmC4j/nJwrKme7gP8zbL4fdVeI/ym6mmfRs4T9GVPDGYPfiP6pJd1onL+E//owRpqtN4j9E/nDRZebiP0JRljbl1+I/oXFOP6l24j+9yt4HCindPys4Z2zFjuA/Wy0/DqxK4T+aWgo9j0zgP3kwpulYQ+E/31KfNPIH4j8rakeLeQPhP4WezFrRhd0/vfuxs3N01z9DaaVllNziP0cjoQh9Q+E/nW15WNpL4j+SoBKgzn7jP0JAMbiwW+I/mVS6lClh4j/7X069GoThPw56Mqe2Q+M/ypXAiMcL4D8m9o8gk13iP9/mRVDNXOE/Ry56YuVv4T8=",
          "dtype": "f8"
         },
         "yaxis": "y6"
        }
       ],
       "layout": {
        "annotations": [
         {
          "font": {
           "size": 16
          },
          "showarrow": false,
          "text": "Dim = '4', Hop = '3'",
          "x": 0.225,
          "xanchor": "center",
          "xref": "paper",
          "y": 1,
          "yanchor": "bottom",
          "yref": "paper"
         },
         {
          "font": {
           "size": 16
          },
          "showarrow": false,
          "text": "Dim = '5', Hop = '4'",
          "x": 0.775,
          "xanchor": "center",
          "xref": "paper",
          "y": 1,
          "yanchor": "bottom",
          "yref": "paper"
         },
         {
          "font": {
           "size": 16
          },
          "showarrow": false,
          "text": "Dim = '6', Hop = '5'",
          "x": 0.225,
          "xanchor": "center",
          "xref": "paper",
          "y": 0.6111111111111112,
          "yanchor": "bottom",
          "yref": "paper"
         },
         {
          "font": {
           "size": 16
          },
          "showarrow": false,
          "text": "Dim = '7', Hop = '6'",
          "x": 0.775,
          "xanchor": "center",
          "xref": "paper",
          "y": 0.6111111111111112,
          "yanchor": "bottom",
          "yref": "paper"
         },
         {
          "font": {
           "size": 16
          },
          "showarrow": false,
          "text": "Dim = '8', Hop = '7'",
          "x": 0.225,
          "xanchor": "center",
          "xref": "paper",
          "y": 0.22222222222222224,
          "yanchor": "bottom",
          "yref": "paper"
         },
         {
          "font": {
           "size": 16
          },
          "showarrow": false,
          "text": "Dim = '9', Hop = '8'",
          "x": 0.775,
          "xanchor": "center",
          "xref": "paper",
          "y": 0.22222222222222224,
          "yanchor": "bottom",
          "yref": "paper"
         }
        ],
        "height": 1400,
        "template": {
         "data": {
          "bar": [
           {
            "error_x": {
             "color": "#f2f5fa"
            },
            "error_y": {
             "color": "#f2f5fa"
            },
            "marker": {
             "line": {
              "color": "rgb(17,17,17)",
              "width": 0.5
             },
             "pattern": {
              "fillmode": "overlay",
              "size": 10,
              "solidity": 0.2
             }
            },
            "type": "bar"
           }
          ],
          "barpolar": [
           {
            "marker": {
             "line": {
              "color": "rgb(17,17,17)",
              "width": 0.5
             },
             "pattern": {
              "fillmode": "overlay",
              "size": 10,
              "solidity": 0.2
             }
            },
            "type": "barpolar"
           }
          ],
          "carpet": [
           {
            "aaxis": {
             "endlinecolor": "#A2B1C6",
             "gridcolor": "#506784",
             "linecolor": "#506784",
             "minorgridcolor": "#506784",
             "startlinecolor": "#A2B1C6"
            },
            "baxis": {
             "endlinecolor": "#A2B1C6",
             "gridcolor": "#506784",
             "linecolor": "#506784",
             "minorgridcolor": "#506784",
             "startlinecolor": "#A2B1C6"
            },
            "type": "carpet"
           }
          ],
          "choropleth": [
           {
            "colorbar": {
             "outlinewidth": 0,
             "ticks": ""
            },
            "type": "choropleth"
           }
          ],
          "contour": [
           {
            "colorbar": {
             "outlinewidth": 0,
             "ticks": ""
            },
            "colorscale": [
             [
              0,
              "#0d0887"
             ],
             [
              0.1111111111111111,
              "#46039f"
             ],
             [
              0.2222222222222222,
              "#7201a8"
             ],
             [
              0.3333333333333333,
              "#9c179e"
             ],
             [
              0.4444444444444444,
              "#bd3786"
             ],
             [
              0.5555555555555556,
              "#d8576b"
             ],
             [
              0.6666666666666666,
              "#ed7953"
             ],
             [
              0.7777777777777778,
              "#fb9f3a"
             ],
             [
              0.8888888888888888,
              "#fdca26"
             ],
             [
              1,
              "#f0f921"
             ]
            ],
            "type": "contour"
           }
          ],
          "contourcarpet": [
           {
            "colorbar": {
             "outlinewidth": 0,
             "ticks": ""
            },
            "type": "contourcarpet"
           }
          ],
          "heatmap": [
           {
            "colorbar": {
             "outlinewidth": 0,
             "ticks": ""
            },
            "colorscale": [
             [
              0,
              "#0d0887"
             ],
             [
              0.1111111111111111,
              "#46039f"
             ],
             [
              0.2222222222222222,
              "#7201a8"
             ],
             [
              0.3333333333333333,
              "#9c179e"
             ],
             [
              0.4444444444444444,
              "#bd3786"
             ],
             [
              0.5555555555555556,
              "#d8576b"
             ],
             [
              0.6666666666666666,
              "#ed7953"
             ],
             [
              0.7777777777777778,
              "#fb9f3a"
             ],
             [
              0.8888888888888888,
              "#fdca26"
             ],
             [
              1,
              "#f0f921"
             ]
            ],
            "type": "heatmap"
           }
          ],
          "histogram": [
           {
            "marker": {
             "pattern": {
              "fillmode": "overlay",
              "size": 10,
              "solidity": 0.2
             }
            },
            "type": "histogram"
           }
          ],
          "histogram2d": [
           {
            "colorbar": {
             "outlinewidth": 0,
             "ticks": ""
            },
            "colorscale": [
             [
              0,
              "#0d0887"
             ],
             [
              0.1111111111111111,
              "#46039f"
             ],
             [
              0.2222222222222222,
              "#7201a8"
             ],
             [
              0.3333333333333333,
              "#9c179e"
             ],
             [
              0.4444444444444444,
              "#bd3786"
             ],
             [
              0.5555555555555556,
              "#d8576b"
             ],
             [
              0.6666666666666666,
              "#ed7953"
             ],
             [
              0.7777777777777778,
              "#fb9f3a"
             ],
             [
              0.8888888888888888,
              "#fdca26"
             ],
             [
              1,
              "#f0f921"
             ]
            ],
            "type": "histogram2d"
           }
          ],
          "histogram2dcontour": [
           {
            "colorbar": {
             "outlinewidth": 0,
             "ticks": ""
            },
            "colorscale": [
             [
              0,
              "#0d0887"
             ],
             [
              0.1111111111111111,
              "#46039f"
             ],
             [
              0.2222222222222222,
              "#7201a8"
             ],
             [
              0.3333333333333333,
              "#9c179e"
             ],
             [
              0.4444444444444444,
              "#bd3786"
             ],
             [
              0.5555555555555556,
              "#d8576b"
             ],
             [
              0.6666666666666666,
              "#ed7953"
             ],
             [
              0.7777777777777778,
              "#fb9f3a"
             ],
             [
              0.8888888888888888,
              "#fdca26"
             ],
             [
              1,
              "#f0f921"
             ]
            ],
            "type": "histogram2dcontour"
           }
          ],
          "mesh3d": [
           {
            "colorbar": {
             "outlinewidth": 0,
             "ticks": ""
            },
            "type": "mesh3d"
           }
          ],
          "parcoords": [
           {
            "line": {
             "colorbar": {
              "outlinewidth": 0,
              "ticks": ""
             }
            },
            "type": "parcoords"
           }
          ],
          "pie": [
           {
            "automargin": true,
            "type": "pie"
           }
          ],
          "scatter": [
           {
            "marker": {
             "line": {
              "color": "#283442"
             }
            },
            "type": "scatter"
           }
          ],
          "scatter3d": [
           {
            "line": {
             "colorbar": {
              "outlinewidth": 0,
              "ticks": ""
             }
            },
            "marker": {
             "colorbar": {
              "outlinewidth": 0,
              "ticks": ""
             }
            },
            "type": "scatter3d"
           }
          ],
          "scattercarpet": [
           {
            "marker": {
             "colorbar": {
              "outlinewidth": 0,
              "ticks": ""
             }
            },
            "type": "scattercarpet"
           }
          ],
          "scattergeo": [
           {
            "marker": {
             "colorbar": {
              "outlinewidth": 0,
              "ticks": ""
             }
            },
            "type": "scattergeo"
           }
          ],
          "scattergl": [
           {
            "marker": {
             "line": {
              "color": "#283442"
             }
            },
            "type": "scattergl"
           }
          ],
          "scattermap": [
           {
            "marker": {
             "colorbar": {
              "outlinewidth": 0,
              "ticks": ""
             }
            },
            "type": "scattermap"
           }
          ],
          "scattermapbox": [
           {
            "marker": {
             "colorbar": {
              "outlinewidth": 0,
              "ticks": ""
             }
            },
            "type": "scattermapbox"
           }
          ],
          "scatterpolar": [
           {
            "marker": {
             "colorbar": {
              "outlinewidth": 0,
              "ticks": ""
             }
            },
            "type": "scatterpolar"
           }
          ],
          "scatterpolargl": [
           {
            "marker": {
             "colorbar": {
              "outlinewidth": 0,
              "ticks": ""
             }
            },
            "type": "scatterpolargl"
           }
          ],
          "scatterternary": [
           {
            "marker": {
             "colorbar": {
              "outlinewidth": 0,
              "ticks": ""
             }
            },
            "type": "scatterternary"
           }
          ],
          "surface": [
           {
            "colorbar": {
             "outlinewidth": 0,
             "ticks": ""
            },
            "colorscale": [
             [
              0,
              "#0d0887"
             ],
             [
              0.1111111111111111,
              "#46039f"
             ],
             [
              0.2222222222222222,
              "#7201a8"
             ],
             [
              0.3333333333333333,
              "#9c179e"
             ],
             [
              0.4444444444444444,
              "#bd3786"
             ],
             [
              0.5555555555555556,
              "#d8576b"
             ],
             [
              0.6666666666666666,
              "#ed7953"
             ],
             [
              0.7777777777777778,
              "#fb9f3a"
             ],
             [
              0.8888888888888888,
              "#fdca26"
             ],
             [
              1,
              "#f0f921"
             ]
            ],
            "type": "surface"
           }
          ],
          "table": [
           {
            "cells": {
             "fill": {
              "color": "#506784"
             },
             "line": {
              "color": "rgb(17,17,17)"
             }
            },
            "header": {
             "fill": {
              "color": "#2a3f5f"
             },
             "line": {
              "color": "rgb(17,17,17)"
             }
            },
            "type": "table"
           }
          ]
         },
         "layout": {
          "annotationdefaults": {
           "arrowcolor": "#f2f5fa",
           "arrowhead": 0,
           "arrowwidth": 1
          },
          "autotypenumbers": "strict",
          "coloraxis": {
           "colorbar": {
            "outlinewidth": 0,
            "ticks": ""
           }
          },
          "colorscale": {
           "diverging": [
            [
             0,
             "#8e0152"
            ],
            [
             0.1,
             "#c51b7d"
            ],
            [
             0.2,
             "#de77ae"
            ],
            [
             0.3,
             "#f1b6da"
            ],
            [
             0.4,
             "#fde0ef"
            ],
            [
             0.5,
             "#f7f7f7"
            ],
            [
             0.6,
             "#e6f5d0"
            ],
            [
             0.7,
             "#b8e186"
            ],
            [
             0.8,
             "#7fbc41"
            ],
            [
             0.9,
             "#4d9221"
            ],
            [
             1,
             "#276419"
            ]
           ],
           "sequential": [
            [
             0,
             "#0d0887"
            ],
            [
             0.1111111111111111,
             "#46039f"
            ],
            [
             0.2222222222222222,
             "#7201a8"
            ],
            [
             0.3333333333333333,
             "#9c179e"
            ],
            [
             0.4444444444444444,
             "#bd3786"
            ],
            [
             0.5555555555555556,
             "#d8576b"
            ],
            [
             0.6666666666666666,
             "#ed7953"
            ],
            [
             0.7777777777777778,
             "#fb9f3a"
            ],
            [
             0.8888888888888888,
             "#fdca26"
            ],
            [
             1,
             "#f0f921"
            ]
           ],
           "sequentialminus": [
            [
             0,
             "#0d0887"
            ],
            [
             0.1111111111111111,
             "#46039f"
            ],
            [
             0.2222222222222222,
             "#7201a8"
            ],
            [
             0.3333333333333333,
             "#9c179e"
            ],
            [
             0.4444444444444444,
             "#bd3786"
            ],
            [
             0.5555555555555556,
             "#d8576b"
            ],
            [
             0.6666666666666666,
             "#ed7953"
            ],
            [
             0.7777777777777778,
             "#fb9f3a"
            ],
            [
             0.8888888888888888,
             "#fdca26"
            ],
            [
             1,
             "#f0f921"
            ]
           ]
          },
          "colorway": [
           "#636efa",
           "#EF553B",
           "#00cc96",
           "#ab63fa",
           "#FFA15A",
           "#19d3f3",
           "#FF6692",
           "#B6E880",
           "#FF97FF",
           "#FECB52"
          ],
          "font": {
           "color": "#f2f5fa"
          },
          "geo": {
           "bgcolor": "rgb(17,17,17)",
           "lakecolor": "rgb(17,17,17)",
           "landcolor": "rgb(17,17,17)",
           "showlakes": true,
           "showland": true,
           "subunitcolor": "#506784"
          },
          "hoverlabel": {
           "align": "left"
          },
          "hovermode": "closest",
          "mapbox": {
           "style": "dark"
          },
          "paper_bgcolor": "rgb(17,17,17)",
          "plot_bgcolor": "rgb(17,17,17)",
          "polar": {
           "angularaxis": {
            "gridcolor": "#506784",
            "linecolor": "#506784",
            "ticks": ""
           },
           "bgcolor": "rgb(17,17,17)",
           "radialaxis": {
            "gridcolor": "#506784",
            "linecolor": "#506784",
            "ticks": ""
           }
          },
          "scene": {
           "xaxis": {
            "backgroundcolor": "rgb(17,17,17)",
            "gridcolor": "#506784",
            "gridwidth": 2,
            "linecolor": "#506784",
            "showbackground": true,
            "ticks": "",
            "zerolinecolor": "#C8D4E3"
           },
           "yaxis": {
            "backgroundcolor": "rgb(17,17,17)",
            "gridcolor": "#506784",
            "gridwidth": 2,
            "linecolor": "#506784",
            "showbackground": true,
            "ticks": "",
            "zerolinecolor": "#C8D4E3"
           },
           "zaxis": {
            "backgroundcolor": "rgb(17,17,17)",
            "gridcolor": "#506784",
            "gridwidth": 2,
            "linecolor": "#506784",
            "showbackground": true,
            "ticks": "",
            "zerolinecolor": "#C8D4E3"
           }
          },
          "shapedefaults": {
           "line": {
            "color": "#f2f5fa"
           }
          },
          "sliderdefaults": {
           "bgcolor": "#C8D4E3",
           "bordercolor": "rgb(17,17,17)",
           "borderwidth": 1,
           "tickwidth": 0
          },
          "ternary": {
           "aaxis": {
            "gridcolor": "#506784",
            "linecolor": "#506784",
            "ticks": ""
           },
           "baxis": {
            "gridcolor": "#506784",
            "linecolor": "#506784",
            "ticks": ""
           },
           "bgcolor": "rgb(17,17,17)",
           "caxis": {
            "gridcolor": "#506784",
            "linecolor": "#506784",
            "ticks": ""
           }
          },
          "title": {
           "x": 0.05
          },
          "updatemenudefaults": {
           "bgcolor": "#506784",
           "borderwidth": 0
          },
          "xaxis": {
           "automargin": true,
           "gridcolor": "#283442",
           "linecolor": "#506784",
           "ticks": "",
           "title": {
            "standoff": 15
           },
           "zerolinecolor": "#283442",
           "zerolinewidth": 2
          },
          "yaxis": {
           "automargin": true,
           "gridcolor": "#283442",
           "linecolor": "#506784",
           "ticks": "",
           "title": {
            "standoff": 15
           },
           "zerolinecolor": "#283442",
           "zerolinewidth": 2
          }
         }
        },
        "title": {
         "text": "Combined Entropy–Complexity Plots for Folder data/genres_30sec/country"
        },
        "width": 1200,
        "xaxis": {
         "anchor": "y",
         "domain": [
          0,
          0.45
         ],
         "range": [
          0,
          1
         ]
        },
        "xaxis2": {
         "anchor": "y2",
         "domain": [
          0.55,
          1
         ],
         "range": [
          0,
          1
         ]
        },
        "xaxis3": {
         "anchor": "y3",
         "domain": [
          0,
          0.45
         ],
         "range": [
          0,
          1
         ]
        },
        "xaxis4": {
         "anchor": "y4",
         "domain": [
          0.55,
          1
         ],
         "range": [
          0,
          1
         ]
        },
        "xaxis5": {
         "anchor": "y5",
         "domain": [
          0,
          0.45
         ],
         "range": [
          0,
          1
         ]
        },
        "xaxis6": {
         "anchor": "y6",
         "domain": [
          0.55,
          1
         ],
         "range": [
          0,
          1
         ]
        },
        "yaxis": {
         "anchor": "x",
         "domain": [
          0.7777777777777778,
          1
         ],
         "range": [
          0,
          1
         ]
        },
        "yaxis2": {
         "anchor": "x2",
         "domain": [
          0.7777777777777778,
          1
         ],
         "range": [
          0,
          1
         ]
        },
        "yaxis3": {
         "anchor": "x3",
         "domain": [
          0.3888888888888889,
          0.6111111111111112
         ],
         "range": [
          0,
          1
         ]
        },
        "yaxis4": {
         "anchor": "x4",
         "domain": [
          0.3888888888888889,
          0.6111111111111112
         ],
         "range": [
          0,
          1
         ]
        },
        "yaxis5": {
         "anchor": "x5",
         "domain": [
          0,
          0.22222222222222224
         ],
         "range": [
          0,
          1
         ]
        },
        "yaxis6": {
         "anchor": "x6",
         "domain": [
          0,
          0.22222222222222224
         ],
         "range": [
          0,
          1
         ]
        }
       }
      }
     },
     "metadata": {},
     "output_type": "display_data"
    }
   ],
   "source": [
    "folder_path = \"data/genres_30sec/country\"\n",
    "start = 4\n",
    "end = 10\n",
    "grid = 2\n",
    "folder = \"plots\"\n",
    "plot_graph(folder_path, start, end, grid, folder)"
   ]
  },
  {
   "cell_type": "markdown",
   "metadata": {},
   "source": [
    "Disco"
   ]
  },
  {
   "cell_type": "code",
   "execution_count": null,
   "metadata": {},
   "outputs": [
    {
     "name": "stderr",
     "output_type": "stream",
     "text": [
      "Processing audio files in data/genres_30sec/disco with dim 4 and hop 3: 100%|██████████| 100/100 [00:56<00:00,  1.78it/s]\n",
      "Processing audio files in data/genres_30sec/disco with dim 5 and hop 4: 100%|██████████| 100/100 [00:44<00:00,  2.25it/s]\n",
      "Processing audio files in data/genres_30sec/disco with dim 6 and hop 5: 100%|██████████| 100/100 [00:36<00:00,  2.76it/s]\n",
      "Processing audio files in data/genres_30sec/disco with dim 7 and hop 6: 100%|██████████| 100/100 [00:32<00:00,  3.08it/s]\n",
      "Processing audio files in data/genres_30sec/disco with dim 8 and hop 7: 100%|██████████| 100/100 [00:33<00:00,  2.94it/s]\n",
      "Processing audio files in data/genres_30sec/disco with dim 9 and hop 8: 100%|██████████| 100/100 [00:40<00:00,  2.47it/s]\n"
     ]
    },
    {
     "data": {
      "application/vnd.plotly.v1+json": {
       "config": {
        "plotlyServerURL": "https://plot.ly"
       },
       "data": [
        {
         "hovertemplate": "Entropy: %{x}<br>Complexity: %{y}<br>File: %{text}<extra></extra>",
         "marker": {
          "color": {
           "bdata": "/qriNAJlxj+tiRGJx5nEP/rGQFJ/x8g/jgViPZIJqD+5N64LKg3GPzSEs9/k8cA/YWQRLuxA0D/bkVP2ngyuPzf5JvH7SMY/Md/yfKwzxD+Of2W8SLPBP11rGuR08Ms/io4AnD+CwT846V5BRzTGPwLYltm/ksY/Vcgsv85vxD+abxzozjPFPxoQvvDnX8c/m3+WbLp1uD83ptPJ2XTDP8lBYlvaobs/uXoGAWOyxD/VCcTA49O4PyIl6+yhxcY/xcwq3CzKwT+A1yUdI8PIPw7HlYzF5MY/NimXy+QPxT+rF5VPTpTIP/u+bpVHEro/WE/ngcA7wT/V6sGYcB6+PzeCr/dWpcU/KFtyk4xwxD9uAFLl5uPGP5pJK0GRhcg/I3HJH13yuT/QUbiOEGzFP/Tp6vq7Mso/w+6h111wtT/uzJuSDbbCPwAC8OxszK8/alinwPjxtT9M5jhz1/nGP9RgtLu06cU/oQZu+yLWsz+tPEKqC1CyP5s7Z1sw56Y/cqmrJNVQrj8UWJHrqT6hP8xHYuJ7YMU/fLn75t/8oT9tYABTwC3LP0Tg18C2aqQ/NvqYGzr5qT/A+Sz2MS/CPwolBVJ9YME/YJf3F52xsD/RBZDEDku5Py+qHVGoesc/GXZuBlqXwz/VJWn4PWewP35LA9lH874/6BluXBbiqj96PiIwVzjCP6o8+/XMksM/BNA+clcJlD9OcxrjOyPCPzCgzjyN+cA/5/4XlWkEuT8wohyXEMy3P2Coodc2yMA/k/ELZW2huz/wLQT0bUnDP1AxroSto7k/VzZKi74PpT/5vGIELJa8P8DbdRnohcQ/507SkfOxwD/nTtKR87HAP8SaF2BkysM/vI2x12eSwz+jILus2KrBPwRDxlMN9cM/b5+JpO5mxD9Xc6Hdb53EP0R8ut2xiLo/naCGA7tGxT9fQw1omyvFP0V2IgTJF8E/c2aOMjeTvj/Mgt1dvSLBPx6o3ZmT/8c/wg16UJ9kxz+Jx7tDLS7HP0mWcrjaMsU//jCHlRcPyD9OB3rl/dXKPzmlDRXFHLo/CZqQLIgKxj8=",
           "dtype": "f8"
          },
          "colorscale": [
           [
            0,
            "#0508b8"
           ],
           [
            0.08333333333333333,
            "#1910d8"
           ],
           [
            0.16666666666666666,
            "#3c19f0"
           ],
           [
            0.25,
            "#6b1cfb"
           ],
           [
            0.3333333333333333,
            "#981cfd"
           ],
           [
            0.4166666666666667,
            "#bf1cfd"
           ],
           [
            0.5,
            "#dd2bfd"
           ],
           [
            0.5833333333333334,
            "#f246fe"
           ],
           [
            0.6666666666666666,
            "#fc67fd"
           ],
           [
            0.75,
            "#fe88fc"
           ],
           [
            0.8333333333333334,
            "#fea5fd"
           ],
           [
            0.9166666666666666,
            "#febefe"
           ],
           [
            1,
            "#fec3fe"
           ]
          ],
          "size": 10
         },
         "mode": "markers",
         "name": "Dim = 4, Hop = 3",
         "showlegend": true,
         "text": [
          "disco.00052.wav",
          "disco.00046.wav",
          "disco.00091.wav",
          "disco.00085.wav",
          "disco.00084.wav",
          "disco.00090.wav",
          "disco.00047.wav",
          "disco.00053.wav",
          "disco.00045.wav",
          "disco.00051.wav",
          "disco.00079.wav",
          "disco.00086.wav",
          "disco.00092.wav",
          "disco.00093.wav",
          "disco.00087.wav",
          "disco.00078.wav",
          "disco.00050.wav",
          "disco.00044.wav",
          "disco.00068.wav",
          "disco.00040.wav",
          "disco.00054.wav",
          "disco.00083.wav",
          "disco.00097.wav",
          "disco.00096.wav",
          "disco.00082.wav",
          "disco.00055.wav",
          "disco.00041.wav",
          "disco.00069.wav",
          "disco.00057.wav",
          "disco.00043.wav",
          "disco.00094.wav",
          "disco.00080.wav",
          "disco.00081.wav",
          "disco.00095.wav",
          "disco.00042.wav",
          "disco.00056.wav",
          "disco.00031.wav",
          "disco.00025.wav",
          "disco.00019.wav",
          "disco.00018.wav",
          "disco.00024.wav",
          "disco.00030.wav",
          "disco.00026.wav",
          "disco.00032.wav",
          "disco.00033.wav",
          "disco.00027.wav",
          "disco.00023.wav",
          "disco.00037.wav",
          "disco.00036.wav",
          "disco.00022.wav",
          "disco.00008.wav",
          "disco.00034.wav",
          "disco.00020.wav",
          "disco.00021.wav",
          "disco.00035.wav",
          "disco.00009.wav",
          "disco.00010.wav",
          "disco.00004.wav",
          "disco.00038.wav",
          "disco.00039.wav",
          "disco.00005.wav",
          "disco.00011.wav",
          "disco.00007.wav",
          "disco.00013.wav",
          "disco.00012.wav",
          "disco.00006.wav",
          "disco.00002.wav",
          "disco.00016.wav",
          "disco.00017.wav",
          "disco.00003.wav",
          "disco.00029.wav",
          "disco.00015.wav",
          "disco.00001.wav",
          "disco.00000.wav",
          "disco.00014.wav",
          "disco.00028.wav",
          "disco.00073.wav",
          "disco.00067.wav",
          "disco.00098.wav",
          "disco.00099.wav",
          "disco.00066.wav",
          "disco.00072.wav",
          "disco.00064.wav",
          "disco.00070.wav",
          "disco.00058.wav",
          "disco.00059.wav",
          "disco.00071.wav",
          "disco.00065.wav",
          "disco.00049.wav",
          "disco.00061.wav",
          "disco.00075.wav",
          "disco.00074.wav",
          "disco.00060.wav",
          "disco.00048.wav",
          "disco.00076.wav",
          "disco.00062.wav",
          "disco.00089.wav",
          "disco.00088.wav",
          "disco.00063.wav",
          "disco.00077.wav"
         ],
         "type": "scatter",
         "x": {
          "bdata": "6g736ayO6j9kAcJjOuHqP9D9mo/qmOk/1cuaxqvZ7j8zfd/t29vqP/DUhtj3P+w/JHc+G2B65T8JELon7o3uP4vY0qZ77+k/O1Rq5Xts6z820aI/GvbrP5JRLqgWcOg/1H7jBEIW7D+rE7/8S5PqP64gfy0gOOo/hy3CP7XH6j81PSaM7evqPxzszv/1Zek/cukguDpj7T/HXMCPN2TrP6D5PkOm9Ow/3+hK3lTH6j+6573A6FjtP5/A3ht84uo/MRziZkjj6z+MXSV+ZgHqP8jwpn6dPuk/VSCmReEA6z8c3WTRElfpP6IU8+Ca1ew/jv0NAuBV7D8aQNSi+6PsPxZxYyC2reo/CQBgbvg56z+r5ztlth/qP5scMfzRcOk/+4R1BrwI7T9nb/xD3zDqPwgwNjdORug/g+Q7cAiE7T9PruN/LCnrP0aRM/y/Qe4/GhOYAXp67T+URbWMm7npP/XUdgyaseo/kUop20Op7T8a6TnFx//tP2qF78sWxe4/t9F6iWFf7j92vzlXtRfvP/CGKm2+4+o/dCVIfIYP7z/RxS5gm9boP9o6CmJL1+4/M6z8EFuL7j/R3cXIG67rP+FyS4qU+Os/MIwj7j8b7j+d/22wkgPtP13v+9un0Ok/NelUr9dH6z975HGjRjLuP8OGp3ZEiOw/p1QzMQKc7j+yF21bN5LrPypcl6r4m+s/MRLjz2h67z9KCdBlB5PrP/RjhFOtqus/J8GyrnNW7T8Sr1xuTSntP4KCfcQHkus/mdROtyva7D+ev5xlQvrqP4f+1IisM+0/fJXLMTbY7j/DH+1mmd3sP28btZULNus/iffSRWsp7D+J99JFaynsP114/3KzUOs/jbnCaDut6z9jR00sL9XrP+UpyvRuXes/HaqASykn6z8isrh7qLHqP0gKcvSZL+0/B5y5wjzo6j9OTgSp1f/qP76OsTr/3us/SzG9EVq/7D9OZthIdijsP0kRge8y5uk/Q92R2plo6j+4lRD7MRPqPxBHZeqZDes/n1bGKU7o6T/zV4EiYj3pP/jFNazjS+0/fb6a5hui6j8=",
          "dtype": "f8"
         },
         "xaxis": "x",
         "y": {
          "bdata": "/qriNAJlxj+tiRGJx5nEP/rGQFJ/x8g/jgViPZIJqD+5N64LKg3GPzSEs9/k8cA/YWQRLuxA0D/bkVP2ngyuPzf5JvH7SMY/Md/yfKwzxD+Of2W8SLPBP11rGuR08Ms/io4AnD+CwT846V5BRzTGPwLYltm/ksY/Vcgsv85vxD+abxzozjPFPxoQvvDnX8c/m3+WbLp1uD83ptPJ2XTDP8lBYlvaobs/uXoGAWOyxD/VCcTA49O4PyIl6+yhxcY/xcwq3CzKwT+A1yUdI8PIPw7HlYzF5MY/NimXy+QPxT+rF5VPTpTIP/u+bpVHEro/WE/ngcA7wT/V6sGYcB6+PzeCr/dWpcU/KFtyk4xwxD9uAFLl5uPGP5pJK0GRhcg/I3HJH13yuT/QUbiOEGzFP/Tp6vq7Mso/w+6h111wtT/uzJuSDbbCPwAC8OxszK8/alinwPjxtT9M5jhz1/nGP9RgtLu06cU/oQZu+yLWsz+tPEKqC1CyP5s7Z1sw56Y/cqmrJNVQrj8UWJHrqT6hP8xHYuJ7YMU/fLn75t/8oT9tYABTwC3LP0Tg18C2aqQ/NvqYGzr5qT/A+Sz2MS/CPwolBVJ9YME/YJf3F52xsD/RBZDEDku5Py+qHVGoesc/GXZuBlqXwz/VJWn4PWewP35LA9lH874/6BluXBbiqj96PiIwVzjCP6o8+/XMksM/BNA+clcJlD9OcxrjOyPCPzCgzjyN+cA/5/4XlWkEuT8wohyXEMy3P2Coodc2yMA/k/ELZW2huz/wLQT0bUnDP1AxroSto7k/VzZKi74PpT/5vGIELJa8P8DbdRnohcQ/507SkfOxwD/nTtKR87HAP8SaF2BkysM/vI2x12eSwz+jILus2KrBPwRDxlMN9cM/b5+JpO5mxD9Xc6Hdb53EP0R8ut2xiLo/naCGA7tGxT9fQw1omyvFP0V2IgTJF8E/c2aOMjeTvj/Mgt1dvSLBPx6o3ZmT/8c/wg16UJ9kxz+Jx7tDLS7HP0mWcrjaMsU//jCHlRcPyD9OB3rl/dXKPzmlDRXFHLo/CZqQLIgKxj8=",
          "dtype": "f8"
         },
         "yaxis": "y"
        },
        {
         "hovertemplate": "Entropy: %{x}<br>Complexity: %{y}<br>File: %{text}<extra></extra>",
         "marker": {
          "color": {
           "bdata": "nXF2r0eHzz96NebxJRvNP4y7OS5CqNA/AjF/uE2Jtz/sMY1J0XzPP38hfuoM8Mg/d6CGhPb80z/keTiQqUO/P2JxtmRCos0/gdCedHs6zT9ah5S4OGHKPyt/EsMciNI/BhOynlahyT9RewhWpCXPP9d0h2jRcM8/1ih+M0/IzD//zZ0glmfOPzMJdKV5aM8/u0e0EZ8kwz/u16pzyLbLP062wKWp2cQ/ybsmgwn5zD+6mwT4NR3DPzdH7H2hRNA/sL2pjxA8yj9fwPEf3SjRP559MEVbns0/x3d3guHJzj+q8v1ZxazQPzk837gHh8M/y9JfVjhryj8je67EsrfHP00uwxqvUs4/5ytEB4u2zD+5rmpNQXvPP3KMUMHkldA/YW0snRutwz9ljMAya0zNP4XlPmOmAtE/1kEDhDMqwT+tDF1+qb3KP9Tb3Pk70bk/FyHlqQLRwD8YLOwC0QTPP1O+tz6ov84/SxUzsgUVvj80ED1nV6G8PwWGMi+MB7Q/34GNRqrCuD+29pDEDo6uP3jq0y4ZW84/ob4qrjc3sD9ZSa3OmybSP3KDlabpbbI/1B7zCAPQtT/kdmvKqObJP31egVq7Xck/5ApUSjJ/uj/xQrTZH0TDP6tynozDGNA/kD4dw7wfzD+Jx/euwcm6Pzy8oWrMScY/05CEGVJDtT/ccAitaOTJPyylK0s+xMw/u82rJ4x0pz8CIoATKsHJP0lpOH/G/8c/bv8doQCRwj8P84KMYxPDP+OYBqxEv8c/5qvdezQmxD+Fkvf21fXJPzeCTrqTasM/yTHvSX5Osj8PEGVt+w/GP+doiUEMlM0/KU2GJZgZyT8pTYYlmBnJP1AY5/8hEcw/j5zfhasfzD8M2DQk797JP7JvjU2K6Mw/yvx6EFAnzT/UkiyAd4fMP5c88pJuD8U/dEzEGSO9zj87ksP41tLNP8Nz9A5CDMk/LQuk+RSVxz+6REVMzNvJP6aOGUx6c9A/xAQAQel70D/ruioSGBTQP+oUjq8Dfs4/zEO0tWB50D9TGR6Z9aHSP5g/1G9TS8Q/PpQouiASzz8=",
           "dtype": "f8"
          },
          "colorscale": [
           [
            0,
            "#0508b8"
           ],
           [
            0.08333333333333333,
            "#1910d8"
           ],
           [
            0.16666666666666666,
            "#3c19f0"
           ],
           [
            0.25,
            "#6b1cfb"
           ],
           [
            0.3333333333333333,
            "#981cfd"
           ],
           [
            0.4166666666666667,
            "#bf1cfd"
           ],
           [
            0.5,
            "#dd2bfd"
           ],
           [
            0.5833333333333334,
            "#f246fe"
           ],
           [
            0.6666666666666666,
            "#fc67fd"
           ],
           [
            0.75,
            "#fe88fc"
           ],
           [
            0.8333333333333334,
            "#fea5fd"
           ],
           [
            0.9166666666666666,
            "#febefe"
           ],
           [
            1,
            "#fec3fe"
           ]
          ],
          "size": 10
         },
         "mode": "markers",
         "name": "Dim = 5, Hop = 4",
         "showlegend": true,
         "text": [
          "disco.00052.wav",
          "disco.00046.wav",
          "disco.00091.wav",
          "disco.00085.wav",
          "disco.00084.wav",
          "disco.00090.wav",
          "disco.00047.wav",
          "disco.00053.wav",
          "disco.00045.wav",
          "disco.00051.wav",
          "disco.00079.wav",
          "disco.00086.wav",
          "disco.00092.wav",
          "disco.00093.wav",
          "disco.00087.wav",
          "disco.00078.wav",
          "disco.00050.wav",
          "disco.00044.wav",
          "disco.00068.wav",
          "disco.00040.wav",
          "disco.00054.wav",
          "disco.00083.wav",
          "disco.00097.wav",
          "disco.00096.wav",
          "disco.00082.wav",
          "disco.00055.wav",
          "disco.00041.wav",
          "disco.00069.wav",
          "disco.00057.wav",
          "disco.00043.wav",
          "disco.00094.wav",
          "disco.00080.wav",
          "disco.00081.wav",
          "disco.00095.wav",
          "disco.00042.wav",
          "disco.00056.wav",
          "disco.00031.wav",
          "disco.00025.wav",
          "disco.00019.wav",
          "disco.00018.wav",
          "disco.00024.wav",
          "disco.00030.wav",
          "disco.00026.wav",
          "disco.00032.wav",
          "disco.00033.wav",
          "disco.00027.wav",
          "disco.00023.wav",
          "disco.00037.wav",
          "disco.00036.wav",
          "disco.00022.wav",
          "disco.00008.wav",
          "disco.00034.wav",
          "disco.00020.wav",
          "disco.00021.wav",
          "disco.00035.wav",
          "disco.00009.wav",
          "disco.00010.wav",
          "disco.00004.wav",
          "disco.00038.wav",
          "disco.00039.wav",
          "disco.00005.wav",
          "disco.00011.wav",
          "disco.00007.wav",
          "disco.00013.wav",
          "disco.00012.wav",
          "disco.00006.wav",
          "disco.00002.wav",
          "disco.00016.wav",
          "disco.00017.wav",
          "disco.00003.wav",
          "disco.00029.wav",
          "disco.00015.wav",
          "disco.00001.wav",
          "disco.00000.wav",
          "disco.00014.wav",
          "disco.00028.wav",
          "disco.00073.wav",
          "disco.00067.wav",
          "disco.00098.wav",
          "disco.00099.wav",
          "disco.00066.wav",
          "disco.00072.wav",
          "disco.00064.wav",
          "disco.00070.wav",
          "disco.00058.wav",
          "disco.00059.wav",
          "disco.00071.wav",
          "disco.00065.wav",
          "disco.00049.wav",
          "disco.00061.wav",
          "disco.00075.wav",
          "disco.00074.wav",
          "disco.00060.wav",
          "disco.00048.wav",
          "disco.00076.wav",
          "disco.00062.wav",
          "disco.00089.wav",
          "disco.00088.wav",
          "disco.00063.wav",
          "disco.00077.wav"
         ],
         "type": "scatter",
         "x": {
          "bdata": "LBcNzi+c6T/9vOyaENfpP7UxW0H7lOg/qwn/sflN7j8ZIVh24vLpP/GViQk2ius/7X7GU2/54z80Uii1t63tP4B1LGZ42Og/DgZmBHKf6j8RlH+lcwnrP1oqS3I9P+c/qx2RcjFY6z8sJ6460Z7pPzxgvx7rEuk/6lnLieif6T//V/v8OfjpP2xOYzB3H+g/3Az0u7q+7D8o43ZvpI/qP+DiACIZRuw/6OXrLAum6T92FkrL0LfsPyWYFlp2A+o/t5ep7HXt6j9VgoKl2hDpPyTll5Gnwec/wOfyeD/v6T/geXPphg7oP2mxFafWAOw/RUXTkmCQ6z8ofgif2K7rP1iHaqlHvek/+QlmrT9y6j/cVTwvvyHpP2gMi+AOPug/k6DHTOBc7D/sKAe+TQTpPwkV+COX7+Y/VNA4Qtue7D89bKCCHwzqP9SYldfwuO0/6HHxE0XF7D+BC9shl4/oP953rfvNy+k/nygVVH387D9ama4q6XXtP2FRM96QR+4/Q8YMUwzg7T/eGvjNxr3uP31wIO0e/uk/XqKVC5il7j+y5hHV6rXnP4TsAYKvLe4/kjdPmCf57T+pIJjeF+XqPyD8sBd/M+s/uJL9dOiA7T9cc7NVKDvsPzru+FXat+g/ebU95Jtt6j+blOiIYortP12n3Z5h7us/DC1E+QZI7j9dvJJYKbTqP/8ko54qx+o/tD8fAcgF7z9umETQfbfqP3e3Dg2csOo/huNZ9WfX7D8X2rhj3UHsP2Q7+9G5Yuo/+DLlqIw27D+wdop6yerpP6qEd3suoew/V/5ccsRY7j8yt+igNx3sP4pOqj4RVOo/d/PVp8s56z9389WnyznrPwSdV8afd+o/LIJjTtz56j+8ay3Z9NnqPxYsRFy+e+o/jHGlRvoz6j8tRLbwDY3pPygwLlw5euw/G2OLPjTT6T8GcIlmnifqPy8zvefDvuo/SsibZ0MI7D/pxTAl9U7rP90wBgEt0eg/jIcHA0px6T/rigPoaf3oP3Ju+F3SJuo/Lc1kw8jr6D+i7HrSFR/oP9eBoShXuuw/IVFeUeaq6T8=",
          "dtype": "f8"
         },
         "xaxis": "x2",
         "y": {
          "bdata": "nXF2r0eHzz96NebxJRvNP4y7OS5CqNA/AjF/uE2Jtz/sMY1J0XzPP38hfuoM8Mg/d6CGhPb80z/keTiQqUO/P2JxtmRCos0/gdCedHs6zT9ah5S4OGHKPyt/EsMciNI/BhOynlahyT9RewhWpCXPP9d0h2jRcM8/1ih+M0/IzD//zZ0glmfOPzMJdKV5aM8/u0e0EZ8kwz/u16pzyLbLP062wKWp2cQ/ybsmgwn5zD+6mwT4NR3DPzdH7H2hRNA/sL2pjxA8yj9fwPEf3SjRP559MEVbns0/x3d3guHJzj+q8v1ZxazQPzk837gHh8M/y9JfVjhryj8je67EsrfHP00uwxqvUs4/5ytEB4u2zD+5rmpNQXvPP3KMUMHkldA/YW0snRutwz9ljMAya0zNP4XlPmOmAtE/1kEDhDMqwT+tDF1+qb3KP9Tb3Pk70bk/FyHlqQLRwD8YLOwC0QTPP1O+tz6ov84/SxUzsgUVvj80ED1nV6G8PwWGMi+MB7Q/34GNRqrCuD+29pDEDo6uP3jq0y4ZW84/ob4qrjc3sD9ZSa3OmybSP3KDlabpbbI/1B7zCAPQtT/kdmvKqObJP31egVq7Xck/5ApUSjJ/uj/xQrTZH0TDP6tynozDGNA/kD4dw7wfzD+Jx/euwcm6Pzy8oWrMScY/05CEGVJDtT/ccAitaOTJPyylK0s+xMw/u82rJ4x0pz8CIoATKsHJP0lpOH/G/8c/bv8doQCRwj8P84KMYxPDP+OYBqxEv8c/5qvdezQmxD+Fkvf21fXJPzeCTrqTasM/yTHvSX5Osj8PEGVt+w/GP+doiUEMlM0/KU2GJZgZyT8pTYYlmBnJP1AY5/8hEcw/j5zfhasfzD8M2DQk797JP7JvjU2K6Mw/yvx6EFAnzT/UkiyAd4fMP5c88pJuD8U/dEzEGSO9zj87ksP41tLNP8Nz9A5CDMk/LQuk+RSVxz+6REVMzNvJP6aOGUx6c9A/xAQAQel70D/ruioSGBTQP+oUjq8Dfs4/zEO0tWB50D9TGR6Z9aHSP5g/1G9TS8Q/PpQouiASzz8=",
          "dtype": "f8"
         },
         "yaxis": "y2"
        },
        {
         "hovertemplate": "Entropy: %{x}<br>Complexity: %{y}<br>File: %{text}<extra></extra>",
         "marker": {
          "color": {
           "bdata": "Sn8yKCPV1D+Ka920UQ/TP1CM3aMX4NQ/KneEfntkwz9bTvf3AGXUP6zolt45QtE/LmBufxU61z9f33/oqAHKP+YFkrFwcNI/SLBbzA+G0z9mzJW4Ed7RP6/9h1oJzNY/AH7tQIk40T/V7hwgJ0TUP9QahCDgQ9Q/5P11N/fR0j/hRiRe7h/UP1tgoEFajtM/sTlEyqphyz+08FdXIhbSP5hIwU7oh80/o15R2vjI0j8uvXWczgHLP3bM5DuFMtU/2b84U1Cf0T9FHaACxOfVP59bvqTO/9E/BCWDDWte1D8bD3oygRTVP/G7QbEHAco/iK0WyBg30j8rCZy4hp3QP6+tvbixuNM/Zm1KLE/A0j+Vgar7LwrUP2mxU9CIANU/ewxhwum1yj9T6yXw0ZTSP/NmfOfwqtQ/WcdcDKpcyD+QsvuQy4jRPz8GtUsp6sI/LOHV8VA9xz8RzhKEoXbTP3Ck3fMovdM/v72SjPC8xD90C2afeWHEP0qhhb5fxL4/VqhIeVsFwj8Po7OPih63P73yBUg2s9M/Bml0bKlvuT/ZWX0lPHvWP4qAugWXHrw/N1ex470JwD8oDoWdn83QP9eoKt7v8dA/X98Zd1Xhwj+TSAAsEVzKP7zohSCHHdQ/9xIlxYlp0j9mJFvrQHzDP4+M4YIcW80/FL29VEOyvj+Ev4r1kxTRP1PeQh81y9I/weioXQjStD+sJKwavu/QP1OPuZYTJs8/TwgndejKyT+c31Ki4LDKPwjyUgwk0c4/xPai9JL8yj9c6pzm2y7QP84CmnSA0so/K9DwVj5kvD/5wixfj5rPP5aq4tPRotM/904iHZ0N0T/3TiIdnQ3RP7e72NKrmtI/5LUOY2ij0j9J7tp4R43RP1hW+ff9T9M/0gTxMEZA0z/xSK5AEIXSPx+hvkPjr84/iIUvb1Ab1D+O/cDGeHvTP0r16Tg2xNA/v94G5ix30D/CSFenqNLRP2lrjYj57tQ/DAwJz1VB1T/M/XD/QsjUP91pEPowN9Q/JNKLTdkE1T9rwByxJprXPxPEnU5bYc0//lnB57Ja1D8=",
           "dtype": "f8"
          },
          "colorscale": [
           [
            0,
            "#0508b8"
           ],
           [
            0.08333333333333333,
            "#1910d8"
           ],
           [
            0.16666666666666666,
            "#3c19f0"
           ],
           [
            0.25,
            "#6b1cfb"
           ],
           [
            0.3333333333333333,
            "#981cfd"
           ],
           [
            0.4166666666666667,
            "#bf1cfd"
           ],
           [
            0.5,
            "#dd2bfd"
           ],
           [
            0.5833333333333334,
            "#f246fe"
           ],
           [
            0.6666666666666666,
            "#fc67fd"
           ],
           [
            0.75,
            "#fe88fc"
           ],
           [
            0.8333333333333334,
            "#fea5fd"
           ],
           [
            0.9166666666666666,
            "#febefe"
           ],
           [
            1,
            "#fec3fe"
           ]
          ],
          "size": 10
         },
         "mode": "markers",
         "name": "Dim = 6, Hop = 5",
         "showlegend": true,
         "text": [
          "disco.00052.wav",
          "disco.00046.wav",
          "disco.00091.wav",
          "disco.00085.wav",
          "disco.00084.wav",
          "disco.00090.wav",
          "disco.00047.wav",
          "disco.00053.wav",
          "disco.00045.wav",
          "disco.00051.wav",
          "disco.00079.wav",
          "disco.00086.wav",
          "disco.00092.wav",
          "disco.00093.wav",
          "disco.00087.wav",
          "disco.00078.wav",
          "disco.00050.wav",
          "disco.00044.wav",
          "disco.00068.wav",
          "disco.00040.wav",
          "disco.00054.wav",
          "disco.00083.wav",
          "disco.00097.wav",
          "disco.00096.wav",
          "disco.00082.wav",
          "disco.00055.wav",
          "disco.00041.wav",
          "disco.00069.wav",
          "disco.00057.wav",
          "disco.00043.wav",
          "disco.00094.wav",
          "disco.00080.wav",
          "disco.00081.wav",
          "disco.00095.wav",
          "disco.00042.wav",
          "disco.00056.wav",
          "disco.00031.wav",
          "disco.00025.wav",
          "disco.00019.wav",
          "disco.00018.wav",
          "disco.00024.wav",
          "disco.00030.wav",
          "disco.00026.wav",
          "disco.00032.wav",
          "disco.00033.wav",
          "disco.00027.wav",
          "disco.00023.wav",
          "disco.00037.wav",
          "disco.00036.wav",
          "disco.00022.wav",
          "disco.00008.wav",
          "disco.00034.wav",
          "disco.00020.wav",
          "disco.00021.wav",
          "disco.00035.wav",
          "disco.00009.wav",
          "disco.00010.wav",
          "disco.00004.wav",
          "disco.00038.wav",
          "disco.00039.wav",
          "disco.00005.wav",
          "disco.00011.wav",
          "disco.00007.wav",
          "disco.00013.wav",
          "disco.00012.wav",
          "disco.00006.wav",
          "disco.00002.wav",
          "disco.00016.wav",
          "disco.00017.wav",
          "disco.00003.wav",
          "disco.00029.wav",
          "disco.00015.wav",
          "disco.00001.wav",
          "disco.00000.wav",
          "disco.00014.wav",
          "disco.00028.wav",
          "disco.00073.wav",
          "disco.00067.wav",
          "disco.00098.wav",
          "disco.00099.wav",
          "disco.00066.wav",
          "disco.00072.wav",
          "disco.00064.wav",
          "disco.00070.wav",
          "disco.00058.wav",
          "disco.00059.wav",
          "disco.00071.wav",
          "disco.00065.wav",
          "disco.00049.wav",
          "disco.00061.wav",
          "disco.00075.wav",
          "disco.00074.wav",
          "disco.00060.wav",
          "disco.00048.wav",
          "disco.00076.wav",
          "disco.00062.wav",
          "disco.00089.wav",
          "disco.00088.wav",
          "disco.00063.wav",
          "disco.00077.wav"
         ],
         "type": "scatter",
         "x": {
          "bdata": "tNTlKVnT6D+R1YeZug3pPxFZkU1z1Oc/CiU4n0bD7T9GeETJWF/pPzS5F3Dh4Oo/cWEH0vMF4z//V0NMrsfsP9uBF8TzEug/JcvZC2AJ6j9KHoQCF2HqP1zcPNPLfOY/AFZPy0HI6j+YKl0Agu7oP9RtEtjAReg/PK7twCS26D+qqcSfajnpP4jfQnfpTuc/N4bhVxA27D8kMC01d/npPyskM7oqqes/zW4g87fJ6D8SIWLD0DPsP2k6WlfOf+k/xQ85qeQr6j9jvtBRHmvoPy3FJZDFteY/C6sAgBcU6T8v5CF5fSLnP6NYjxAzYus/HxZC6NXz6j+lBbUhlefqPxMTlO/2Cek/n9nFqUXX6T9CvTMxsXHoP2szc8zyU+c/aPX5NF3i6z9YmUB50jPoP0F4Bjtd++U/eEixivfn6z8S4Bbrak7pP5wtFTMlQu0/lQXmXX457D9IQXM6jcLnP47O5gJVK+k/Zo1y67Jp7D82iG3otQLtP+0KjS+U2e0/gv2bnOV77T/MOTaoaHfuP6F5o+I1ZOk/ffgZlCNG7j/SAXEhdfzmPxve1gjul+0/lBHzLOmC7T/kskV7J1DqP/d5s4ELquo/2HAF+br+7D/4bmVaDa3rP5lD3oHlCug/PeEow0bN6T8hl+iof/bsP/UtyUl+gus/NHS5iuX97T+LTbIFPxDqP7A6iw0+VOo/9Xl8aJqX7j8lDjW1NgvqPzWlGCZ6/+k/mAWiF2hq7D9qlevvjJzrP21z15aJhek/G4ax3A276z/YQf4o0SjpP7goV4joMuw/vBy9pTXo7T9eIVrqFm3rP6DF3z5Kp+k/l3iY0ViC6j+XeJjRWILqP9SBtXpzz+k/hJ8P8e586j812vMdkgTqP23pVU3N0uk/7C5ddFWE6T/024H5GqnoP/0OwyCs0es//Y5C4XQD6T85cr7d84PpPxuoxOTV3uk/1BHpMjN36z8LGG5IOp/qPwYFCnjNEOg/AnM4dTDH6D9qcRHVBjboPx8qGwF+duk/dycH/B0s6D9jABJvXm3nPw1ZXzfwMew/X0YwU8n26D8=",
          "dtype": "f8"
         },
         "xaxis": "x3",
         "y": {
          "bdata": "Sn8yKCPV1D+Ka920UQ/TP1CM3aMX4NQ/KneEfntkwz9bTvf3AGXUP6zolt45QtE/LmBufxU61z9f33/oqAHKP+YFkrFwcNI/SLBbzA+G0z9mzJW4Ed7RP6/9h1oJzNY/AH7tQIk40T/V7hwgJ0TUP9QahCDgQ9Q/5P11N/fR0j/hRiRe7h/UP1tgoEFajtM/sTlEyqphyz+08FdXIhbSP5hIwU7oh80/o15R2vjI0j8uvXWczgHLP3bM5DuFMtU/2b84U1Cf0T9FHaACxOfVP59bvqTO/9E/BCWDDWte1D8bD3oygRTVP/G7QbEHAco/iK0WyBg30j8rCZy4hp3QP6+tvbixuNM/Zm1KLE/A0j+Vgar7LwrUP2mxU9CIANU/ewxhwum1yj9T6yXw0ZTSP/NmfOfwqtQ/WcdcDKpcyD+QsvuQy4jRPz8GtUsp6sI/LOHV8VA9xz8RzhKEoXbTP3Ck3fMovdM/v72SjPC8xD90C2afeWHEP0qhhb5fxL4/VqhIeVsFwj8Po7OPih63P73yBUg2s9M/Bml0bKlvuT/ZWX0lPHvWP4qAugWXHrw/N1ex470JwD8oDoWdn83QP9eoKt7v8dA/X98Zd1Xhwj+TSAAsEVzKP7zohSCHHdQ/9xIlxYlp0j9mJFvrQHzDP4+M4YIcW80/FL29VEOyvj+Ev4r1kxTRP1PeQh81y9I/weioXQjStD+sJKwavu/QP1OPuZYTJs8/TwgndejKyT+c31Ki4LDKPwjyUgwk0c4/xPai9JL8yj9c6pzm2y7QP84CmnSA0so/K9DwVj5kvD/5wixfj5rPP5aq4tPRotM/904iHZ0N0T/3TiIdnQ3RP7e72NKrmtI/5LUOY2ij0j9J7tp4R43RP1hW+ff9T9M/0gTxMEZA0z/xSK5AEIXSPx+hvkPjr84/iIUvb1Ab1D+O/cDGeHvTP0r16Tg2xNA/v94G5ix30D/CSFenqNLRP2lrjYj57tQ/DAwJz1VB1T/M/XD/QsjUP91pEPowN9Q/JNKLTdkE1T9rwByxJprXPxPEnU5bYc0//lnB57Ja1D8=",
          "dtype": "f8"
         },
         "yaxis": "y3"
        },
        {
         "hovertemplate": "Entropy: %{x}<br>Complexity: %{y}<br>File: %{text}<extra></extra>",
         "marker": {
          "color": {
           "bdata": "FeoQ0a+L2T9pb+QTlI7XPwrsTj/+8dg/UT668krMzD9OMxZ0lwvZPzitxq4HJtY/BWqibh4L2j9XPwMgMofSP3zGPb9uBNY/Fk7r561k2D/u2FspXpbWP5yOB9kFu9o//MNS/Brr1T9a3cVcpKXYP0f52BWwrNg/Zg2gpD1C1z9YDwG+lOLYP2aA+8luX9c/hN8+tsNX0j+LfMFfb2vWP8FZ4MFDm9M/r9FYkHIZ1z9JlOBv2O/RP0oHNos/FNo/3CemLKFG1j/6sgsP7WXaP+7wyhRHTtU/fmlHr68t2T/e3MTHklnZPxJTB3EbY9A/ghR7hLVa1z9DNoWr95PVPzQKNwabLNg/JXGv3O051z+9qgmhTmTYP7gCKQhIINk/RqJ/XLxW0T942exwQ43WP5u3p1Uw/dc/qSv/7A9S0D/PpP7jmdjVP2FB/mNlA8o/NipYrIGdzj8gX0wYGmDXPxUGhrFNCdg/ImSJgdSpyz+rQAzC0H/LP8jE6AWb98U/AhnhsfLgyD+jSmH0QbjAP+kkYPXiF9g/SFp5Pnzowj9qVLNcs43aPzNTnAg9JcQ/revKJCl2xj+4uzLTDLbUPzybZ/i1PNU/DGDCQn7YyT+NUVG4qwnRP4MXSI1/MNg/jf+1BKWY1j+HvsHCE6XKPwr0IixMedI/DIWwUFR0xT+zmUkKuSLVPw8iESrya9c/2XX3Q4Z4wD/Qtt4WNAPVPyOcd/cNatM/cRbxjGHB0D/jqDorvZjRP70DXSNqOdM/zCnMGOQM0T+5H7P0SqvTP48UxGZGiNE/pdA83fZ7xD+aH5hpUrjUPzLkyIYbatg/f7hJYAjM1T9/uElgCMzVP32zSqoLR9c/w4Pr7ak/1z9cjSPWDxbWP24HHHZjL9g/NzXauDbq1z8VkSIg4LTWP/aM0UgSSNQ/EFiUrMDg2D/u3RpjLAjYPzy9MTDjS9U/gmLxln1v1T93n4mjyMvWPxrkUl6hIdk/ryCTBS3H2T/ZQ+ySXmPZPxnHPucRBNk/Zw93Efxa2T9vVEhPjijcP7iZaM9OfdM/Ku5i8swD2T8=",
           "dtype": "f8"
          },
          "colorscale": [
           [
            0,
            "#0508b8"
           ],
           [
            0.08333333333333333,
            "#1910d8"
           ],
           [
            0.16666666666666666,
            "#3c19f0"
           ],
           [
            0.25,
            "#6b1cfb"
           ],
           [
            0.3333333333333333,
            "#981cfd"
           ],
           [
            0.4166666666666667,
            "#bf1cfd"
           ],
           [
            0.5,
            "#dd2bfd"
           ],
           [
            0.5833333333333334,
            "#f246fe"
           ],
           [
            0.6666666666666666,
            "#fc67fd"
           ],
           [
            0.75,
            "#fe88fc"
           ],
           [
            0.8333333333333334,
            "#fea5fd"
           ],
           [
            0.9166666666666666,
            "#febefe"
           ],
           [
            1,
            "#fec3fe"
           ]
          ],
          "size": 10
         },
         "mode": "markers",
         "name": "Dim = 7, Hop = 6",
         "showlegend": true,
         "text": [
          "disco.00052.wav",
          "disco.00046.wav",
          "disco.00091.wav",
          "disco.00085.wav",
          "disco.00084.wav",
          "disco.00090.wav",
          "disco.00047.wav",
          "disco.00053.wav",
          "disco.00045.wav",
          "disco.00051.wav",
          "disco.00079.wav",
          "disco.00086.wav",
          "disco.00092.wav",
          "disco.00093.wav",
          "disco.00087.wav",
          "disco.00078.wav",
          "disco.00050.wav",
          "disco.00044.wav",
          "disco.00068.wav",
          "disco.00040.wav",
          "disco.00054.wav",
          "disco.00083.wav",
          "disco.00097.wav",
          "disco.00096.wav",
          "disco.00082.wav",
          "disco.00055.wav",
          "disco.00041.wav",
          "disco.00069.wav",
          "disco.00057.wav",
          "disco.00043.wav",
          "disco.00094.wav",
          "disco.00080.wav",
          "disco.00081.wav",
          "disco.00095.wav",
          "disco.00042.wav",
          "disco.00056.wav",
          "disco.00031.wav",
          "disco.00025.wav",
          "disco.00019.wav",
          "disco.00018.wav",
          "disco.00024.wav",
          "disco.00030.wav",
          "disco.00026.wav",
          "disco.00032.wav",
          "disco.00033.wav",
          "disco.00027.wav",
          "disco.00023.wav",
          "disco.00037.wav",
          "disco.00036.wav",
          "disco.00022.wav",
          "disco.00008.wav",
          "disco.00034.wav",
          "disco.00020.wav",
          "disco.00021.wav",
          "disco.00035.wav",
          "disco.00009.wav",
          "disco.00010.wav",
          "disco.00004.wav",
          "disco.00038.wav",
          "disco.00039.wav",
          "disco.00005.wav",
          "disco.00011.wav",
          "disco.00007.wav",
          "disco.00013.wav",
          "disco.00012.wav",
          "disco.00006.wav",
          "disco.00002.wav",
          "disco.00016.wav",
          "disco.00017.wav",
          "disco.00003.wav",
          "disco.00029.wav",
          "disco.00015.wav",
          "disco.00001.wav",
          "disco.00000.wav",
          "disco.00014.wav",
          "disco.00028.wav",
          "disco.00073.wav",
          "disco.00067.wav",
          "disco.00098.wav",
          "disco.00099.wav",
          "disco.00066.wav",
          "disco.00072.wav",
          "disco.00064.wav",
          "disco.00070.wav",
          "disco.00058.wav",
          "disco.00059.wav",
          "disco.00071.wav",
          "disco.00065.wav",
          "disco.00049.wav",
          "disco.00061.wav",
          "disco.00075.wav",
          "disco.00074.wav",
          "disco.00060.wav",
          "disco.00048.wav",
          "disco.00076.wav",
          "disco.00062.wav",
          "disco.00089.wav",
          "disco.00088.wav",
          "disco.00063.wav",
          "disco.00077.wav"
         ],
         "type": "scatter",
         "x": {
          "bdata": "6/vQJVdE6D9Loa62lmroP3lRclLcOOc/HRULG7E67T//RUjfIuToP5aYfH1dWeo/tqzTU7FM4j+UQYv/cQnsPx0VPyzAa+c/KXrPoeeR6T/EPm6Rv8rpP8k9R+QE6OU/KWjl8VU/6j+NSA+77XXoPzs2j5JzpOc/hRZa98cG6D9EuQ3796voP8WAjjAcqOY/itdyPFKz6z+MWAS4yHjpP9ZYuwTTFOs/3PEptNwV6D+9yxtW3rbrP6+oohAmDOk/xa9Sc6qH6T9yBhDbS+3nP6J8knXc1uU/7axYRK1j6D8gOZqXyWPmP52K8uwW2uo/WL3i5zV06j8ckrwwJDjqP7BZYSc6fug/TNmlgbdJ6T983VVKzdnnP473L1DxquY/RVxjg2d56z+LvWe/0ovnPyG8U+WAQeU/wLPIcTw96z+bfvODnKToP6STYABa1uw/U7e6b8ey6z/dNBOVtiPnPxnzigUJteg/ikEx1sLS6z/dIGSp45fsP3R4kWgvde0/WIm5RjIX7T/p0FwpmSzuPw/kuI5d9ug/Mww3HUTb7T/mXP7BdnbmP6pl5/ryCO0/kwBNjbYK7T+2OlrTQdDpP8nVur5BPuo/rR36Zu537D+GCh/IfS/rPz/JS9udb+c/VSIpzPxh6T+4JiWpum7sP3HcJ/rwIes/9IOqjDaq7T+jnUp6n43pP3Rg0IAW/ek/ETR7SkEq7j9nw6Tge4XpP3aPztNAYek/Cq0EWFQJ7D/u9/asLArrP03xDFzzzOg/L4DoEllU6z9y7BuPx3noP1KArU871Os/HwC1vZd67T+xFLGbBePqP+SfWheeLOk/g7WGdcbg6T+DtYZ1xuDpP2ty9aRbPek/9L7sORsf6j/LG+TOCWTpP2/GHiYrSOk/CPiDJznu6D/1KPUBrvXnP7uPaZrGVOs/zPwfmptP6D8eLuKiQQHpP8r+HP87Hek/Rf9qgwf36j/0sydX+hbqPzWbc2kYhuc/U97LAtJM6D8LxoKX7Y/nPwniZqno5+g/kw5eBaad5z8OdsG2OffmP+zJKukyyOs/Y+RUbgJc6D8=",
          "dtype": "f8"
         },
         "xaxis": "x4",
         "y": {
          "bdata": "FeoQ0a+L2T9pb+QTlI7XPwrsTj/+8dg/UT668krMzD9OMxZ0lwvZPzitxq4HJtY/BWqibh4L2j9XPwMgMofSP3zGPb9uBNY/Fk7r561k2D/u2FspXpbWP5yOB9kFu9o//MNS/Brr1T9a3cVcpKXYP0f52BWwrNg/Zg2gpD1C1z9YDwG+lOLYP2aA+8luX9c/hN8+tsNX0j+LfMFfb2vWP8FZ4MFDm9M/r9FYkHIZ1z9JlOBv2O/RP0oHNos/FNo/3CemLKFG1j/6sgsP7WXaP+7wyhRHTtU/fmlHr68t2T/e3MTHklnZPxJTB3EbY9A/ghR7hLVa1z9DNoWr95PVPzQKNwabLNg/JXGv3O051z+9qgmhTmTYP7gCKQhIINk/RqJ/XLxW0T942exwQ43WP5u3p1Uw/dc/qSv/7A9S0D/PpP7jmdjVP2FB/mNlA8o/NipYrIGdzj8gX0wYGmDXPxUGhrFNCdg/ImSJgdSpyz+rQAzC0H/LP8jE6AWb98U/AhnhsfLgyD+jSmH0QbjAP+kkYPXiF9g/SFp5Pnzowj9qVLNcs43aPzNTnAg9JcQ/revKJCl2xj+4uzLTDLbUPzybZ/i1PNU/DGDCQn7YyT+NUVG4qwnRP4MXSI1/MNg/jf+1BKWY1j+HvsHCE6XKPwr0IixMedI/DIWwUFR0xT+zmUkKuSLVPw8iESrya9c/2XX3Q4Z4wD/Qtt4WNAPVPyOcd/cNatM/cRbxjGHB0D/jqDorvZjRP70DXSNqOdM/zCnMGOQM0T+5H7P0SqvTP48UxGZGiNE/pdA83fZ7xD+aH5hpUrjUPzLkyIYbatg/f7hJYAjM1T9/uElgCMzVP32zSqoLR9c/w4Pr7ak/1z9cjSPWDxbWP24HHHZjL9g/NzXauDbq1z8VkSIg4LTWP/aM0UgSSNQ/EFiUrMDg2D/u3RpjLAjYPzy9MTDjS9U/gmLxln1v1T93n4mjyMvWPxrkUl6hIdk/ryCTBS3H2T/ZQ+ySXmPZPxnHPucRBNk/Zw93Efxa2T9vVEhPjijcP7iZaM9OfdM/Ku5i8swD2T8=",
          "dtype": "f8"
         },
         "yaxis": "y4"
        },
        {
         "hovertemplate": "Entropy: %{x}<br>Complexity: %{y}<br>File: %{text}<extra></extra>",
         "marker": {
          "color": {
           "bdata": "FkJubKph3z+dqddQxJLdP3sbN1QWHN4/mJ3o30pN1j+wMYohZB7fPy30monMtdw/dHX+h8vs3D/W85De0DzaPzxKy/FlPtw/GhSYR1qs3j+NtgfwH9ncP8LjoZUqNd8/Nu6emBpz3D/DubA4SqreP+pqZHunSt4/RupEuCpK3T+BNMcJENXePzXBoaqPKd0/0SHOhivO2T/UfAT+dEXdP1ZEvFGzBds/v/ay+/ns3D86XfBuaXTZP4W2aYnjxd8/rfKewm2D3D8bNxIafLzfPxBqm5QN9to/ZFufxw7K3j8+6RGLRWjeP3w+LEzIM9g/IYOBSqDv3T+L5UhoQWjcP/kqdLLjPt4/3PJQIKeJ3T+C2SkHeC3ePz7Se5PfP94/YIRmF+Ng2T9GdYT4iebcP0+0+BA8/dw/XAGHU3aJ2D8cqoowaM3cPxH7EYegZtU//ZPAPLJt1z/3HCtzWlzdP3j+ET1gJd4/VGXI/5fU1T+N3tXtc9DVP21xS7vuU9M/LWO5GwG91D/EZj4ymnnQP3fyl93JYt4/8curqrXq0T+n3ysU4h3fP7M5HaI0Y9I/Ihglmvxw0z8+vyfijbvbP+UmIAaGU9w/ukEQy+4Z1T+AdScNEf7YP9pVEbHjC94/kqdm8lhZ3T877QSIMZbVP73CqBfBCto/Z9Nrf73S0j/51ZOgZxrcP3RSdDKINd4/HoDXwWS50D+Ck//EwPvbPy9OcdBF1to/Ot9JPXAy2D9iyTis6bbZP7xRrL0vZdo/z9696jqh2D9xx9tEognaP0Q/H6JJMdk/fEwkv8ib0j8GtCTdOd3bP+4/Gqwlmt4/OEXNpUdj3D84Rc2lR2PcPxzg2ZJzj90/7cV6+O/p3T+STEm62JPcP+SvpzQbeN4/vDYx7RPk3T+QOUucrMLcP6YT/Ccldds/Hd8D9n5j3j8MLjzwhwTeP59ZcBmtq9s/t8IkUVJF3D92lMgS7GLdP6PmuGnQhN4/FaogwzNw3z8QuY4s3CbfPz8x3Sko3N4/my+YVPO43j+uainD+oHgP3jh0XJms9o/yMBkK53K3j8=",
           "dtype": "f8"
          },
          "colorscale": [
           [
            0,
            "#0508b8"
           ],
           [
            0.08333333333333333,
            "#1910d8"
           ],
           [
            0.16666666666666666,
            "#3c19f0"
           ],
           [
            0.25,
            "#6b1cfb"
           ],
           [
            0.3333333333333333,
            "#981cfd"
           ],
           [
            0.4166666666666667,
            "#bf1cfd"
           ],
           [
            0.5,
            "#dd2bfd"
           ],
           [
            0.5833333333333334,
            "#f246fe"
           ],
           [
            0.6666666666666666,
            "#fc67fd"
           ],
           [
            0.75,
            "#fe88fc"
           ],
           [
            0.8333333333333334,
            "#fea5fd"
           ],
           [
            0.9166666666666666,
            "#febefe"
           ],
           [
            1,
            "#fec3fe"
           ]
          ],
          "size": 10
         },
         "mode": "markers",
         "name": "Dim = 8, Hop = 7",
         "showlegend": true,
         "text": [
          "disco.00052.wav",
          "disco.00046.wav",
          "disco.00091.wav",
          "disco.00085.wav",
          "disco.00084.wav",
          "disco.00090.wav",
          "disco.00047.wav",
          "disco.00053.wav",
          "disco.00045.wav",
          "disco.00051.wav",
          "disco.00079.wav",
          "disco.00086.wav",
          "disco.00092.wav",
          "disco.00093.wav",
          "disco.00087.wav",
          "disco.00078.wav",
          "disco.00050.wav",
          "disco.00044.wav",
          "disco.00068.wav",
          "disco.00040.wav",
          "disco.00054.wav",
          "disco.00083.wav",
          "disco.00097.wav",
          "disco.00096.wav",
          "disco.00082.wav",
          "disco.00055.wav",
          "disco.00041.wav",
          "disco.00069.wav",
          "disco.00057.wav",
          "disco.00043.wav",
          "disco.00094.wav",
          "disco.00080.wav",
          "disco.00081.wav",
          "disco.00095.wav",
          "disco.00042.wav",
          "disco.00056.wav",
          "disco.00031.wav",
          "disco.00025.wav",
          "disco.00019.wav",
          "disco.00018.wav",
          "disco.00024.wav",
          "disco.00030.wav",
          "disco.00026.wav",
          "disco.00032.wav",
          "disco.00033.wav",
          "disco.00027.wav",
          "disco.00023.wav",
          "disco.00037.wav",
          "disco.00036.wav",
          "disco.00022.wav",
          "disco.00008.wav",
          "disco.00034.wav",
          "disco.00020.wav",
          "disco.00021.wav",
          "disco.00035.wav",
          "disco.00009.wav",
          "disco.00010.wav",
          "disco.00004.wav",
          "disco.00038.wav",
          "disco.00039.wav",
          "disco.00005.wav",
          "disco.00011.wav",
          "disco.00007.wav",
          "disco.00013.wav",
          "disco.00012.wav",
          "disco.00006.wav",
          "disco.00002.wav",
          "disco.00016.wav",
          "disco.00017.wav",
          "disco.00003.wav",
          "disco.00029.wav",
          "disco.00015.wav",
          "disco.00001.wav",
          "disco.00000.wav",
          "disco.00014.wav",
          "disco.00028.wav",
          "disco.00073.wav",
          "disco.00067.wav",
          "disco.00098.wav",
          "disco.00099.wav",
          "disco.00066.wav",
          "disco.00072.wav",
          "disco.00064.wav",
          "disco.00070.wav",
          "disco.00058.wav",
          "disco.00059.wav",
          "disco.00071.wav",
          "disco.00065.wav",
          "disco.00049.wav",
          "disco.00061.wav",
          "disco.00075.wav",
          "disco.00074.wav",
          "disco.00060.wav",
          "disco.00048.wav",
          "disco.00076.wav",
          "disco.00062.wav",
          "disco.00089.wav",
          "disco.00088.wav",
          "disco.00063.wav",
          "disco.00077.wav"
         ],
         "type": "scatter",
         "x": {
          "bdata": "T7Xukc+X5z9OyNpyLpznP9h0ULcLfuY/L7aOeWph7D9cUh5RPkjoP8m6NaRkpek/T7JzeUiU4T/YWINNThfrP8pVSCAGfeY/3GTpJ4vx6D8g38nzIQ7pP/bbwMJOO+U/9KqvOwmF6T9R+vhjjNXnPyK8NTEJ4+Y/n2qmf2Yl5z+5XW5qofznP02zeZD5zuU/YWkiUP/o6j9a5b8CmrfoP7wVvi9PQeo/wJNQ6l415z8Z/tsnT+LqP/tp/pNmd+g/hWcs1NLA6D9s0gG4zFznP9Wv1Zdjx+Q/3mjLGnij5z/0lx4mX5flP1xBUVM34Ok/h9h2g4TB6T/zQmOJcU/pP4XCN1dIzec/ccy9g0uY6D8874mQyinnP0kKQgfl2OU/GNjPGZik6j9qA2+4GKXmP8/+YEhrbuQ/KIuws3046j+nt1JG8MjnP45ufcEc9Os/dSnmX7XA6j9/AiLlT0fmP32fVGTDAug/Bwtr+LXP6j9taX8AbbnrP224z43Qnew/8XpguZw/7D/YD19wQFTtP9aymnkWU+g/Vbxt1Tzu7D+sAG8uBc7lP1hbOv6b8Os/hDT+1M4f7D/5iDFgvw/pP/FDiR/dg+k/QcflRV+J6z8y90vbXFbqPywWeCiUpOY/XWd/S/G36D/1nA37GHbrP3D9FNluU+o/j/IRy1XU7D/CM6LCMMToP3gAkn1jZ+k/egjb/bw57T8c3HGUZrzoP6HCLh4rZ+g/mqCPIPRL6z8GMc00UhvqPwO6xKvHu+c/Y5ak3NJ/6j+Z5WGmInfnP5+55VszHes/ucQrSKKO7D+yN6aK2iHqP3ur86A9e+g/cXuRkBgT6T9xe5GQGBPpPx5qFxHJh+g/I1eQDyGC6T8EznHFpYjoPwAX/+0ulug/2NLTBUs56D8Y9HOmhRjnP2aIfZsWneo/VqJPPbGR5z95lVQdLVXoPxyCBmXvI+g/6/6XMqBC6j+4WublI2PpP94VvoxHzuY/OUi1gUa45z9u4gB7dNLmPxhV3yo+Reg/RwuiOOzr5j/akv+y1HnmP+DF95ceGes/5YZuN9+v5z8=",
          "dtype": "f8"
         },
         "xaxis": "x5",
         "y": {
          "bdata": "FkJubKph3z+dqddQxJLdP3sbN1QWHN4/mJ3o30pN1j+wMYohZB7fPy30monMtdw/dHX+h8vs3D/W85De0DzaPzxKy/FlPtw/GhSYR1qs3j+NtgfwH9ncP8LjoZUqNd8/Nu6emBpz3D/DubA4SqreP+pqZHunSt4/RupEuCpK3T+BNMcJENXePzXBoaqPKd0/0SHOhivO2T/UfAT+dEXdP1ZEvFGzBds/v/ay+/ns3D86XfBuaXTZP4W2aYnjxd8/rfKewm2D3D8bNxIafLzfPxBqm5QN9to/ZFufxw7K3j8+6RGLRWjeP3w+LEzIM9g/IYOBSqDv3T+L5UhoQWjcP/kqdLLjPt4/3PJQIKeJ3T+C2SkHeC3ePz7Se5PfP94/YIRmF+Ng2T9GdYT4iebcP0+0+BA8/dw/XAGHU3aJ2D8cqoowaM3cPxH7EYegZtU//ZPAPLJt1z/3HCtzWlzdP3j+ET1gJd4/VGXI/5fU1T+N3tXtc9DVP21xS7vuU9M/LWO5GwG91D/EZj4ymnnQP3fyl93JYt4/8curqrXq0T+n3ysU4h3fP7M5HaI0Y9I/Ihglmvxw0z8+vyfijbvbP+UmIAaGU9w/ukEQy+4Z1T+AdScNEf7YP9pVEbHjC94/kqdm8lhZ3T877QSIMZbVP73CqBfBCto/Z9Nrf73S0j/51ZOgZxrcP3RSdDKINd4/HoDXwWS50D+Ck//EwPvbPy9OcdBF1to/Ot9JPXAy2D9iyTis6bbZP7xRrL0vZdo/z9696jqh2D9xx9tEognaP0Q/H6JJMdk/fEwkv8ib0j8GtCTdOd3bP+4/Gqwlmt4/OEXNpUdj3D84Rc2lR2PcPxzg2ZJzj90/7cV6+O/p3T+STEm62JPcP+SvpzQbeN4/vDYx7RPk3T+QOUucrMLcP6YT/Ccldds/Hd8D9n5j3j8MLjzwhwTeP59ZcBmtq9s/t8IkUVJF3D92lMgS7GLdP6PmuGnQhN4/FaogwzNw3z8QuY4s3CbfPz8x3Sko3N4/my+YVPO43j+uainD+oHgP3jh0XJms9o/yMBkK53K3j8=",
          "dtype": "f8"
         },
         "yaxis": "y5"
        },
        {
         "hovertemplate": "Entropy: %{x}<br>Complexity: %{y}<br>File: %{text}<extra></extra>",
         "marker": {
          "color": {
           "bdata": "Qr+11/8S4z9KOCyOdaLiP/RI187bQuI/+mudjEql4j+EuSdtaUrjP8QclVooJeM/j8zXSm9C3z9w4bkZPQvjP/uFEBqU4eE/zPR5p6lc4z/ZXXeYSObiP2oje1+O4uE//0rwjiD94j/mMYi8GgnjP5HE2yvWauI/LhSEqBBQ4j/m4BBi0AzjP6CEPlsT0eE/QSHzhZkT4z8h/Z8nkgjjPwha6vi5FOM/vuoppQYu4j8MnQ/+i/fiP0Ce4l0VZ+M//C2KHNC84j8MvreCogfjP0BLndqcn+A/9Yl13cLD4j9b0ILFVdnhP0mnyzH8peI/YqpVO1Fe4z90BmLVIOniP8b0inYK5OI/Eo2cV0MQ4z/6N/QeXJviP17AvFJb+OE/k2u25N0R4z8YBvVxCRTiP2Kx0KBhHeE/mgQeE4zD4j/bhMB0CqfiP9Etqw/3yOI/lNAiGRrB4j+Y+fvZAxbiP9l4YIl5BOM/A0z7QCGM4j+tugnZGrviP1yKrKl1ouI/rBMQK3i44j+M6bKJdkbiP3DPqwoxMOM/qKjsNh544j9+myFgbRriP4D4mJIURuI/qwvmdZeY4j+4FaRJafXiP64+nsXuNOM/193xvnil4j/HTh05TPLiP0toq9XnW+I/6JskrAcq4z+SLAxQCaTiP8oFiMZS/uI/9U05OjV54j/LmzXYK+viP6YpWXWaiOM/wjnzVmJV4j9rc+8atOHiPxLiJcGKfeI/WCBO5FXs4j+hvZh6dfbiPxH5/yiQC+I/uF31rBrT4j/bCKw+Z7bhP/3VKYGxFOM/j0ZQkJ6F4j8YOlcQVDLjP3tVcWDmKOM/VY2Dq8Xb4j9VjYOrxdviP966HlEYAuM/ZsICdcl04z8x1pQzCqjiPxP8Xf2FLOM/GWcvFH7k4j90Zab9sCjiP9kb0JTHOuM/IQL/kZSm4j9LNTAUleriP5OjEE0XSOI/QsxTcyND4z8a9B0SfkPjP2LamocFeeI/m+nNZQoo4z/hIZ4KbqjiP/n2UZ2CJeM/wvjL04Cb4j+wiJ2Uz/fiP9lYCv3SKOM/ukgujwDy4j8=",
           "dtype": "f8"
          },
          "colorscale": [
           [
            0,
            "#0508b8"
           ],
           [
            0.08333333333333333,
            "#1910d8"
           ],
           [
            0.16666666666666666,
            "#3c19f0"
           ],
           [
            0.25,
            "#6b1cfb"
           ],
           [
            0.3333333333333333,
            "#981cfd"
           ],
           [
            0.4166666666666667,
            "#bf1cfd"
           ],
           [
            0.5,
            "#dd2bfd"
           ],
           [
            0.5833333333333334,
            "#f246fe"
           ],
           [
            0.6666666666666666,
            "#fc67fd"
           ],
           [
            0.75,
            "#fe88fc"
           ],
           [
            0.8333333333333334,
            "#fea5fd"
           ],
           [
            0.9166666666666666,
            "#febefe"
           ],
           [
            1,
            "#fec3fe"
           ]
          ],
          "size": 10
         },
         "mode": "markers",
         "name": "Dim = 9, Hop = 8",
         "showlegend": true,
         "text": [
          "disco.00052.wav",
          "disco.00046.wav",
          "disco.00091.wav",
          "disco.00085.wav",
          "disco.00084.wav",
          "disco.00090.wav",
          "disco.00047.wav",
          "disco.00053.wav",
          "disco.00045.wav",
          "disco.00051.wav",
          "disco.00079.wav",
          "disco.00086.wav",
          "disco.00092.wav",
          "disco.00093.wav",
          "disco.00087.wav",
          "disco.00078.wav",
          "disco.00050.wav",
          "disco.00044.wav",
          "disco.00068.wav",
          "disco.00040.wav",
          "disco.00054.wav",
          "disco.00083.wav",
          "disco.00097.wav",
          "disco.00096.wav",
          "disco.00082.wav",
          "disco.00055.wav",
          "disco.00041.wav",
          "disco.00069.wav",
          "disco.00057.wav",
          "disco.00043.wav",
          "disco.00094.wav",
          "disco.00080.wav",
          "disco.00081.wav",
          "disco.00095.wav",
          "disco.00042.wav",
          "disco.00056.wav",
          "disco.00031.wav",
          "disco.00025.wav",
          "disco.00019.wav",
          "disco.00018.wav",
          "disco.00024.wav",
          "disco.00030.wav",
          "disco.00026.wav",
          "disco.00032.wav",
          "disco.00033.wav",
          "disco.00027.wav",
          "disco.00023.wav",
          "disco.00037.wav",
          "disco.00036.wav",
          "disco.00022.wav",
          "disco.00008.wav",
          "disco.00034.wav",
          "disco.00020.wav",
          "disco.00021.wav",
          "disco.00035.wav",
          "disco.00009.wav",
          "disco.00010.wav",
          "disco.00004.wav",
          "disco.00038.wav",
          "disco.00039.wav",
          "disco.00005.wav",
          "disco.00011.wav",
          "disco.00007.wav",
          "disco.00013.wav",
          "disco.00012.wav",
          "disco.00006.wav",
          "disco.00002.wav",
          "disco.00016.wav",
          "disco.00017.wav",
          "disco.00003.wav",
          "disco.00029.wav",
          "disco.00015.wav",
          "disco.00001.wav",
          "disco.00000.wav",
          "disco.00014.wav",
          "disco.00028.wav",
          "disco.00073.wav",
          "disco.00067.wav",
          "disco.00098.wav",
          "disco.00099.wav",
          "disco.00066.wav",
          "disco.00072.wav",
          "disco.00064.wav",
          "disco.00070.wav",
          "disco.00058.wav",
          "disco.00059.wav",
          "disco.00071.wav",
          "disco.00065.wav",
          "disco.00049.wav",
          "disco.00061.wav",
          "disco.00075.wav",
          "disco.00074.wav",
          "disco.00060.wav",
          "disco.00048.wav",
          "disco.00076.wav",
          "disco.00062.wav",
          "disco.00089.wav",
          "disco.00088.wav",
          "disco.00063.wav",
          "disco.00077.wav"
         ],
         "type": "scatter",
         "x": {
          "bdata": "ryoCjqiJ5j8gnaSc4kfmP0qqDQ9dWeU/W0/NjgxD6j8sxSdrECTnP6PHq4b2Oeg/H3AOdbTS4D/Q5i6EMD3pP6gXTLapH+U/eDid6Xy95z9FvlJTc5XnP+kW6MODRuQ/Zh81I7v85z/m/ux0lbfmP5bHwhJzteU/XtBV7orN5T/ufqyMKNPmP8EmhYsCo+Q//QlNImUs6T+5SCO7oVLnP1gD9HQCi+g/kHzy8LbP5T8cgQGB9xjpP4SH2br5X+c/6+vp2gpA5z9tDNlCclXmP4au9rUeTuM/BD7YPUhn5j9xxAkSmILkP6MGXaom5uc/cndy7ztr6D9z6RTUqrbnP0k6QICHmOY/D3v9t+k/5z+QkwOFXf/lPw3Qqop7u+Q/jLvNyZHn6D/X2X6LAVvlPxWh/cH7VOM/pn6ieY1F6D/hSS1Hh2vmP15KzHECz+k/ofQfoj+36D9MVrdBDxPlPzPvO1OW1+Y/dxNul0ea6D8CjYN0M5vpPxCJMS4xS+o/F7cdORQK6j8syBSRx8LqPwLCBGtHL+c/yKb6ag5x6j+z3YO+EdTkP9DNkiZnWOk/YvJLjXK86T8UM32tpJLnPyzZgbDfHOg/onLwR0xF6T+1mtZ0MYfoP9hCkaNTa+U/XnpyNIlv5z/GOFQjoj3pP9N10t3umeg/zUQghFxz6j+FdRB0+07nPzbfI4BrLug/TOPckTym6j82ltiSdkHnP+DIhLzhwOY/uHd8FVxo6T95swKmTVroP1OfMvsdCeY/sNqFoMOj6D+9hHLPC8XlP7La2DkDXek/Xvo3xQ0m6j+Gj3tVSJroP+xvqbHJROc/8VGCV7CI5z/xUYJXsIjnPzX9xRaWM+c/zk51XOY16D/cXO7UlwDnP4fDZ/A6Wuc/87JdGYHs5j/hT08n1bnlPwaTnBuBBOk/TTfQW0xW5j/TmkZmWwjnPzpeAPTNgOY/beHE+W+66D+SMmQ/nf/nPxF9yLgzqeU/S5GNcC635j+XTS1EacPlP8EFxQelGec/tx7YN8DT5T888TyWWrblP6F+1RJdduk/IaSU/72S5j8=",
          "dtype": "f8"
         },
         "xaxis": "x6",
         "y": {
          "bdata": "Qr+11/8S4z9KOCyOdaLiP/RI187bQuI/+mudjEql4j+EuSdtaUrjP8QclVooJeM/j8zXSm9C3z9w4bkZPQvjP/uFEBqU4eE/zPR5p6lc4z/ZXXeYSObiP2oje1+O4uE//0rwjiD94j/mMYi8GgnjP5HE2yvWauI/LhSEqBBQ4j/m4BBi0AzjP6CEPlsT0eE/QSHzhZkT4z8h/Z8nkgjjPwha6vi5FOM/vuoppQYu4j8MnQ/+i/fiP0Ce4l0VZ+M//C2KHNC84j8MvreCogfjP0BLndqcn+A/9Yl13cLD4j9b0ILFVdnhP0mnyzH8peI/YqpVO1Fe4z90BmLVIOniP8b0inYK5OI/Eo2cV0MQ4z/6N/QeXJviP17AvFJb+OE/k2u25N0R4z8YBvVxCRTiP2Kx0KBhHeE/mgQeE4zD4j/bhMB0CqfiP9Etqw/3yOI/lNAiGRrB4j+Y+fvZAxbiP9l4YIl5BOM/A0z7QCGM4j+tugnZGrviP1yKrKl1ouI/rBMQK3i44j+M6bKJdkbiP3DPqwoxMOM/qKjsNh544j9+myFgbRriP4D4mJIURuI/qwvmdZeY4j+4FaRJafXiP64+nsXuNOM/193xvnil4j/HTh05TPLiP0toq9XnW+I/6JskrAcq4z+SLAxQCaTiP8oFiMZS/uI/9U05OjV54j/LmzXYK+viP6YpWXWaiOM/wjnzVmJV4j9rc+8atOHiPxLiJcGKfeI/WCBO5FXs4j+hvZh6dfbiPxH5/yiQC+I/uF31rBrT4j/bCKw+Z7bhP/3VKYGxFOM/j0ZQkJ6F4j8YOlcQVDLjP3tVcWDmKOM/VY2Dq8Xb4j9VjYOrxdviP966HlEYAuM/ZsICdcl04z8x1pQzCqjiPxP8Xf2FLOM/GWcvFH7k4j90Zab9sCjiP9kb0JTHOuM/IQL/kZSm4j9LNTAUleriP5OjEE0XSOI/QsxTcyND4z8a9B0SfkPjP2LamocFeeI/m+nNZQoo4z/hIZ4KbqjiP/n2UZ2CJeM/wvjL04Cb4j+wiJ2Uz/fiP9lYCv3SKOM/ukgujwDy4j8=",
          "dtype": "f8"
         },
         "yaxis": "y6"
        }
       ],
       "layout": {
        "annotations": [
         {
          "font": {
           "size": 16
          },
          "showarrow": false,
          "text": "Dim = '4', Hop = '3'",
          "x": 0.225,
          "xanchor": "center",
          "xref": "paper",
          "y": 1,
          "yanchor": "bottom",
          "yref": "paper"
         },
         {
          "font": {
           "size": 16
          },
          "showarrow": false,
          "text": "Dim = '5', Hop = '4'",
          "x": 0.775,
          "xanchor": "center",
          "xref": "paper",
          "y": 1,
          "yanchor": "bottom",
          "yref": "paper"
         },
         {
          "font": {
           "size": 16
          },
          "showarrow": false,
          "text": "Dim = '6', Hop = '5'",
          "x": 0.225,
          "xanchor": "center",
          "xref": "paper",
          "y": 0.6111111111111112,
          "yanchor": "bottom",
          "yref": "paper"
         },
         {
          "font": {
           "size": 16
          },
          "showarrow": false,
          "text": "Dim = '7', Hop = '6'",
          "x": 0.775,
          "xanchor": "center",
          "xref": "paper",
          "y": 0.6111111111111112,
          "yanchor": "bottom",
          "yref": "paper"
         },
         {
          "font": {
           "size": 16
          },
          "showarrow": false,
          "text": "Dim = '8', Hop = '7'",
          "x": 0.225,
          "xanchor": "center",
          "xref": "paper",
          "y": 0.22222222222222224,
          "yanchor": "bottom",
          "yref": "paper"
         },
         {
          "font": {
           "size": 16
          },
          "showarrow": false,
          "text": "Dim = '9', Hop = '8'",
          "x": 0.775,
          "xanchor": "center",
          "xref": "paper",
          "y": 0.22222222222222224,
          "yanchor": "bottom",
          "yref": "paper"
         }
        ],
        "height": 1400,
        "template": {
         "data": {
          "bar": [
           {
            "error_x": {
             "color": "#f2f5fa"
            },
            "error_y": {
             "color": "#f2f5fa"
            },
            "marker": {
             "line": {
              "color": "rgb(17,17,17)",
              "width": 0.5
             },
             "pattern": {
              "fillmode": "overlay",
              "size": 10,
              "solidity": 0.2
             }
            },
            "type": "bar"
           }
          ],
          "barpolar": [
           {
            "marker": {
             "line": {
              "color": "rgb(17,17,17)",
              "width": 0.5
             },
             "pattern": {
              "fillmode": "overlay",
              "size": 10,
              "solidity": 0.2
             }
            },
            "type": "barpolar"
           }
          ],
          "carpet": [
           {
            "aaxis": {
             "endlinecolor": "#A2B1C6",
             "gridcolor": "#506784",
             "linecolor": "#506784",
             "minorgridcolor": "#506784",
             "startlinecolor": "#A2B1C6"
            },
            "baxis": {
             "endlinecolor": "#A2B1C6",
             "gridcolor": "#506784",
             "linecolor": "#506784",
             "minorgridcolor": "#506784",
             "startlinecolor": "#A2B1C6"
            },
            "type": "carpet"
           }
          ],
          "choropleth": [
           {
            "colorbar": {
             "outlinewidth": 0,
             "ticks": ""
            },
            "type": "choropleth"
           }
          ],
          "contour": [
           {
            "colorbar": {
             "outlinewidth": 0,
             "ticks": ""
            },
            "colorscale": [
             [
              0,
              "#0d0887"
             ],
             [
              0.1111111111111111,
              "#46039f"
             ],
             [
              0.2222222222222222,
              "#7201a8"
             ],
             [
              0.3333333333333333,
              "#9c179e"
             ],
             [
              0.4444444444444444,
              "#bd3786"
             ],
             [
              0.5555555555555556,
              "#d8576b"
             ],
             [
              0.6666666666666666,
              "#ed7953"
             ],
             [
              0.7777777777777778,
              "#fb9f3a"
             ],
             [
              0.8888888888888888,
              "#fdca26"
             ],
             [
              1,
              "#f0f921"
             ]
            ],
            "type": "contour"
           }
          ],
          "contourcarpet": [
           {
            "colorbar": {
             "outlinewidth": 0,
             "ticks": ""
            },
            "type": "contourcarpet"
           }
          ],
          "heatmap": [
           {
            "colorbar": {
             "outlinewidth": 0,
             "ticks": ""
            },
            "colorscale": [
             [
              0,
              "#0d0887"
             ],
             [
              0.1111111111111111,
              "#46039f"
             ],
             [
              0.2222222222222222,
              "#7201a8"
             ],
             [
              0.3333333333333333,
              "#9c179e"
             ],
             [
              0.4444444444444444,
              "#bd3786"
             ],
             [
              0.5555555555555556,
              "#d8576b"
             ],
             [
              0.6666666666666666,
              "#ed7953"
             ],
             [
              0.7777777777777778,
              "#fb9f3a"
             ],
             [
              0.8888888888888888,
              "#fdca26"
             ],
             [
              1,
              "#f0f921"
             ]
            ],
            "type": "heatmap"
           }
          ],
          "histogram": [
           {
            "marker": {
             "pattern": {
              "fillmode": "overlay",
              "size": 10,
              "solidity": 0.2
             }
            },
            "type": "histogram"
           }
          ],
          "histogram2d": [
           {
            "colorbar": {
             "outlinewidth": 0,
             "ticks": ""
            },
            "colorscale": [
             [
              0,
              "#0d0887"
             ],
             [
              0.1111111111111111,
              "#46039f"
             ],
             [
              0.2222222222222222,
              "#7201a8"
             ],
             [
              0.3333333333333333,
              "#9c179e"
             ],
             [
              0.4444444444444444,
              "#bd3786"
             ],
             [
              0.5555555555555556,
              "#d8576b"
             ],
             [
              0.6666666666666666,
              "#ed7953"
             ],
             [
              0.7777777777777778,
              "#fb9f3a"
             ],
             [
              0.8888888888888888,
              "#fdca26"
             ],
             [
              1,
              "#f0f921"
             ]
            ],
            "type": "histogram2d"
           }
          ],
          "histogram2dcontour": [
           {
            "colorbar": {
             "outlinewidth": 0,
             "ticks": ""
            },
            "colorscale": [
             [
              0,
              "#0d0887"
             ],
             [
              0.1111111111111111,
              "#46039f"
             ],
             [
              0.2222222222222222,
              "#7201a8"
             ],
             [
              0.3333333333333333,
              "#9c179e"
             ],
             [
              0.4444444444444444,
              "#bd3786"
             ],
             [
              0.5555555555555556,
              "#d8576b"
             ],
             [
              0.6666666666666666,
              "#ed7953"
             ],
             [
              0.7777777777777778,
              "#fb9f3a"
             ],
             [
              0.8888888888888888,
              "#fdca26"
             ],
             [
              1,
              "#f0f921"
             ]
            ],
            "type": "histogram2dcontour"
           }
          ],
          "mesh3d": [
           {
            "colorbar": {
             "outlinewidth": 0,
             "ticks": ""
            },
            "type": "mesh3d"
           }
          ],
          "parcoords": [
           {
            "line": {
             "colorbar": {
              "outlinewidth": 0,
              "ticks": ""
             }
            },
            "type": "parcoords"
           }
          ],
          "pie": [
           {
            "automargin": true,
            "type": "pie"
           }
          ],
          "scatter": [
           {
            "marker": {
             "line": {
              "color": "#283442"
             }
            },
            "type": "scatter"
           }
          ],
          "scatter3d": [
           {
            "line": {
             "colorbar": {
              "outlinewidth": 0,
              "ticks": ""
             }
            },
            "marker": {
             "colorbar": {
              "outlinewidth": 0,
              "ticks": ""
             }
            },
            "type": "scatter3d"
           }
          ],
          "scattercarpet": [
           {
            "marker": {
             "colorbar": {
              "outlinewidth": 0,
              "ticks": ""
             }
            },
            "type": "scattercarpet"
           }
          ],
          "scattergeo": [
           {
            "marker": {
             "colorbar": {
              "outlinewidth": 0,
              "ticks": ""
             }
            },
            "type": "scattergeo"
           }
          ],
          "scattergl": [
           {
            "marker": {
             "line": {
              "color": "#283442"
             }
            },
            "type": "scattergl"
           }
          ],
          "scattermap": [
           {
            "marker": {
             "colorbar": {
              "outlinewidth": 0,
              "ticks": ""
             }
            },
            "type": "scattermap"
           }
          ],
          "scattermapbox": [
           {
            "marker": {
             "colorbar": {
              "outlinewidth": 0,
              "ticks": ""
             }
            },
            "type": "scattermapbox"
           }
          ],
          "scatterpolar": [
           {
            "marker": {
             "colorbar": {
              "outlinewidth": 0,
              "ticks": ""
             }
            },
            "type": "scatterpolar"
           }
          ],
          "scatterpolargl": [
           {
            "marker": {
             "colorbar": {
              "outlinewidth": 0,
              "ticks": ""
             }
            },
            "type": "scatterpolargl"
           }
          ],
          "scatterternary": [
           {
            "marker": {
             "colorbar": {
              "outlinewidth": 0,
              "ticks": ""
             }
            },
            "type": "scatterternary"
           }
          ],
          "surface": [
           {
            "colorbar": {
             "outlinewidth": 0,
             "ticks": ""
            },
            "colorscale": [
             [
              0,
              "#0d0887"
             ],
             [
              0.1111111111111111,
              "#46039f"
             ],
             [
              0.2222222222222222,
              "#7201a8"
             ],
             [
              0.3333333333333333,
              "#9c179e"
             ],
             [
              0.4444444444444444,
              "#bd3786"
             ],
             [
              0.5555555555555556,
              "#d8576b"
             ],
             [
              0.6666666666666666,
              "#ed7953"
             ],
             [
              0.7777777777777778,
              "#fb9f3a"
             ],
             [
              0.8888888888888888,
              "#fdca26"
             ],
             [
              1,
              "#f0f921"
             ]
            ],
            "type": "surface"
           }
          ],
          "table": [
           {
            "cells": {
             "fill": {
              "color": "#506784"
             },
             "line": {
              "color": "rgb(17,17,17)"
             }
            },
            "header": {
             "fill": {
              "color": "#2a3f5f"
             },
             "line": {
              "color": "rgb(17,17,17)"
             }
            },
            "type": "table"
           }
          ]
         },
         "layout": {
          "annotationdefaults": {
           "arrowcolor": "#f2f5fa",
           "arrowhead": 0,
           "arrowwidth": 1
          },
          "autotypenumbers": "strict",
          "coloraxis": {
           "colorbar": {
            "outlinewidth": 0,
            "ticks": ""
           }
          },
          "colorscale": {
           "diverging": [
            [
             0,
             "#8e0152"
            ],
            [
             0.1,
             "#c51b7d"
            ],
            [
             0.2,
             "#de77ae"
            ],
            [
             0.3,
             "#f1b6da"
            ],
            [
             0.4,
             "#fde0ef"
            ],
            [
             0.5,
             "#f7f7f7"
            ],
            [
             0.6,
             "#e6f5d0"
            ],
            [
             0.7,
             "#b8e186"
            ],
            [
             0.8,
             "#7fbc41"
            ],
            [
             0.9,
             "#4d9221"
            ],
            [
             1,
             "#276419"
            ]
           ],
           "sequential": [
            [
             0,
             "#0d0887"
            ],
            [
             0.1111111111111111,
             "#46039f"
            ],
            [
             0.2222222222222222,
             "#7201a8"
            ],
            [
             0.3333333333333333,
             "#9c179e"
            ],
            [
             0.4444444444444444,
             "#bd3786"
            ],
            [
             0.5555555555555556,
             "#d8576b"
            ],
            [
             0.6666666666666666,
             "#ed7953"
            ],
            [
             0.7777777777777778,
             "#fb9f3a"
            ],
            [
             0.8888888888888888,
             "#fdca26"
            ],
            [
             1,
             "#f0f921"
            ]
           ],
           "sequentialminus": [
            [
             0,
             "#0d0887"
            ],
            [
             0.1111111111111111,
             "#46039f"
            ],
            [
             0.2222222222222222,
             "#7201a8"
            ],
            [
             0.3333333333333333,
             "#9c179e"
            ],
            [
             0.4444444444444444,
             "#bd3786"
            ],
            [
             0.5555555555555556,
             "#d8576b"
            ],
            [
             0.6666666666666666,
             "#ed7953"
            ],
            [
             0.7777777777777778,
             "#fb9f3a"
            ],
            [
             0.8888888888888888,
             "#fdca26"
            ],
            [
             1,
             "#f0f921"
            ]
           ]
          },
          "colorway": [
           "#636efa",
           "#EF553B",
           "#00cc96",
           "#ab63fa",
           "#FFA15A",
           "#19d3f3",
           "#FF6692",
           "#B6E880",
           "#FF97FF",
           "#FECB52"
          ],
          "font": {
           "color": "#f2f5fa"
          },
          "geo": {
           "bgcolor": "rgb(17,17,17)",
           "lakecolor": "rgb(17,17,17)",
           "landcolor": "rgb(17,17,17)",
           "showlakes": true,
           "showland": true,
           "subunitcolor": "#506784"
          },
          "hoverlabel": {
           "align": "left"
          },
          "hovermode": "closest",
          "mapbox": {
           "style": "dark"
          },
          "paper_bgcolor": "rgb(17,17,17)",
          "plot_bgcolor": "rgb(17,17,17)",
          "polar": {
           "angularaxis": {
            "gridcolor": "#506784",
            "linecolor": "#506784",
            "ticks": ""
           },
           "bgcolor": "rgb(17,17,17)",
           "radialaxis": {
            "gridcolor": "#506784",
            "linecolor": "#506784",
            "ticks": ""
           }
          },
          "scene": {
           "xaxis": {
            "backgroundcolor": "rgb(17,17,17)",
            "gridcolor": "#506784",
            "gridwidth": 2,
            "linecolor": "#506784",
            "showbackground": true,
            "ticks": "",
            "zerolinecolor": "#C8D4E3"
           },
           "yaxis": {
            "backgroundcolor": "rgb(17,17,17)",
            "gridcolor": "#506784",
            "gridwidth": 2,
            "linecolor": "#506784",
            "showbackground": true,
            "ticks": "",
            "zerolinecolor": "#C8D4E3"
           },
           "zaxis": {
            "backgroundcolor": "rgb(17,17,17)",
            "gridcolor": "#506784",
            "gridwidth": 2,
            "linecolor": "#506784",
            "showbackground": true,
            "ticks": "",
            "zerolinecolor": "#C8D4E3"
           }
          },
          "shapedefaults": {
           "line": {
            "color": "#f2f5fa"
           }
          },
          "sliderdefaults": {
           "bgcolor": "#C8D4E3",
           "bordercolor": "rgb(17,17,17)",
           "borderwidth": 1,
           "tickwidth": 0
          },
          "ternary": {
           "aaxis": {
            "gridcolor": "#506784",
            "linecolor": "#506784",
            "ticks": ""
           },
           "baxis": {
            "gridcolor": "#506784",
            "linecolor": "#506784",
            "ticks": ""
           },
           "bgcolor": "rgb(17,17,17)",
           "caxis": {
            "gridcolor": "#506784",
            "linecolor": "#506784",
            "ticks": ""
           }
          },
          "title": {
           "x": 0.05
          },
          "updatemenudefaults": {
           "bgcolor": "#506784",
           "borderwidth": 0
          },
          "xaxis": {
           "automargin": true,
           "gridcolor": "#283442",
           "linecolor": "#506784",
           "ticks": "",
           "title": {
            "standoff": 15
           },
           "zerolinecolor": "#283442",
           "zerolinewidth": 2
          },
          "yaxis": {
           "automargin": true,
           "gridcolor": "#283442",
           "linecolor": "#506784",
           "ticks": "",
           "title": {
            "standoff": 15
           },
           "zerolinecolor": "#283442",
           "zerolinewidth": 2
          }
         }
        },
        "title": {
         "text": "Combined Entropy–Complexity Plots for Folder data/genres_30sec/disco"
        },
        "width": 1200,
        "xaxis": {
         "anchor": "y",
         "domain": [
          0,
          0.45
         ],
         "range": [
          0,
          1
         ]
        },
        "xaxis2": {
         "anchor": "y2",
         "domain": [
          0.55,
          1
         ],
         "range": [
          0,
          1
         ]
        },
        "xaxis3": {
         "anchor": "y3",
         "domain": [
          0,
          0.45
         ],
         "range": [
          0,
          1
         ]
        },
        "xaxis4": {
         "anchor": "y4",
         "domain": [
          0.55,
          1
         ],
         "range": [
          0,
          1
         ]
        },
        "xaxis5": {
         "anchor": "y5",
         "domain": [
          0,
          0.45
         ],
         "range": [
          0,
          1
         ]
        },
        "xaxis6": {
         "anchor": "y6",
         "domain": [
          0.55,
          1
         ],
         "range": [
          0,
          1
         ]
        },
        "yaxis": {
         "anchor": "x",
         "domain": [
          0.7777777777777778,
          1
         ],
         "range": [
          0,
          1
         ]
        },
        "yaxis2": {
         "anchor": "x2",
         "domain": [
          0.7777777777777778,
          1
         ],
         "range": [
          0,
          1
         ]
        },
        "yaxis3": {
         "anchor": "x3",
         "domain": [
          0.3888888888888889,
          0.6111111111111112
         ],
         "range": [
          0,
          1
         ]
        },
        "yaxis4": {
         "anchor": "x4",
         "domain": [
          0.3888888888888889,
          0.6111111111111112
         ],
         "range": [
          0,
          1
         ]
        },
        "yaxis5": {
         "anchor": "x5",
         "domain": [
          0,
          0.22222222222222224
         ],
         "range": [
          0,
          1
         ]
        },
        "yaxis6": {
         "anchor": "x6",
         "domain": [
          0,
          0.22222222222222224
         ],
         "range": [
          0,
          1
         ]
        }
       }
      }
     },
     "metadata": {},
     "output_type": "display_data"
    }
   ],
   "source": [
    "folder_path = \"data/genres_30sec/disco\"\n",
    "start = 4\n",
    "end = 10\n",
    "grid = 2\n",
    "folder = \"plots\"\n",
    "plot_graph(folder_path, start, end, grid, folder)"
   ]
  },
  {
   "cell_type": "markdown",
   "metadata": {},
   "source": [
    "Hiphop"
   ]
  },
  {
   "cell_type": "code",
   "execution_count": null,
   "metadata": {},
   "outputs": [
    {
     "name": "stderr",
     "output_type": "stream",
     "text": [
      "Processing audio files in data/genres_30sec/hiphop with dim 4 and hop 3: 100%|██████████| 100/100 [00:56<00:00,  1.78it/s]\n",
      "Processing audio files in data/genres_30sec/hiphop with dim 5 and hop 4: 100%|██████████| 100/100 [00:43<00:00,  2.28it/s]\n",
      "Processing audio files in data/genres_30sec/hiphop with dim 6 and hop 5: 100%|██████████| 100/100 [00:36<00:00,  2.76it/s]\n",
      "Processing audio files in data/genres_30sec/hiphop with dim 7 and hop 6: 100%|██████████| 100/100 [00:32<00:00,  3.08it/s]\n",
      "Processing audio files in data/genres_30sec/hiphop with dim 8 and hop 7: 100%|██████████| 100/100 [00:35<00:00,  2.85it/s]\n",
      "Processing audio files in data/genres_30sec/hiphop with dim 9 and hop 8: 100%|██████████| 100/100 [00:41<00:00,  2.43it/s]\n"
     ]
    },
    {
     "data": {
      "application/vnd.plotly.v1+json": {
       "config": {
        "plotlyServerURL": "https://plot.ly"
       },
       "data": [
        {
         "hovertemplate": "Entropy: %{x}<br>Complexity: %{y}<br>File: %{text}<extra></extra>",
         "marker": {
          "color": {
           "bdata": "tTnDwIOOwz+ajEY433/BPxzm4P8mqrE/55RsYRuWxz89cOuEz27CPw9AuPxcirM/fCc1KU5TxD/dUWIlNrHFP0tMuEcxJ7w/wTp4PnsTwT80Enb2yW2WP4/jLGplR8g/TJ6JbZcgwT9oLkfVGQrGP9un6LNiqcQ/RKxRHuEJtT/y7jCWsae+P9e1UZypurc/1t9qK5S0wz/TqcauXUCwP65vYQ+oPKY/azY18wbAwD8ie4F5o0XMPxO9ISxi4sU/Ev0Q6G6AzT+yyF0aWq+6PyTI1Et+icQ/fx/o+DKOoD9zNaAbGkDAP/1tqBbR+rk/U5cdjIOUwT/IJ4QbFCi5P0B+l/fIvsM/h/FP7Lgtxz9VgufxOuGyPzBF3W9oC8Q/LF5UyVoPyT8Xv/IDHH3HP6zwoN0I16U/GzwGEpK3mj8bweGGWvvCP/t0LOCoMMk/1FYyF0KswD8g2DbcK83CP1S+jQaQNcE/3UhvdA9itT9DBpJfoJHHP4intEEqCsY/u1JAX5aywD8iYBWq5NnAP/yHyCw0g70/7Yidd58isz9DAUZnuRXGPzXpTQaz/LY/TVUT0C/nwD+C2NABh3y3P4Ld3/0LAbs/lPCUrCBkyz/fu1bVnqK3Pwn0C1WqdrM/BvkRs9X/xz8qL4eLAMitP/qz4yhPA7Q/RCopv40fwz8G4c6e6kLCPwzzO6n4d8M/zfQFaglWwj+7UkBflrLAP6Vn7oBLWsQ/ZR6G7OmVxD/XlUBpN7HJP8/WrQEwGsM/Bh/XXkRHrj9spB8Pt1u0P4dp9FtT1rs/8kFz6oR4kT+LLO+OLdLEPy+MrfFdWcM/AqrJHR5brz+hD632C3vBP23P5oeDIcY/XZZvuExFwj8UBB87NUXGPxGp/nphJso/G4klMck2wD/5/Aci82XIP1LAmV6/lsE/dAogoFj7wT/pwT5kGtzBP7VSWC80QrU/efmKDZ2Fwz8OEdI51Yy+P4LY0AGHfLc/D+gDBJvcxj+rETZfi/3CP9takNO9Isg/VMQsNmmwtT+zAMwvZVHIP8m/hU2Pu80/WIBME1oUxz8=",
           "dtype": "f8"
          },
          "colorscale": [
           [
            0,
            "#0508b8"
           ],
           [
            0.08333333333333333,
            "#1910d8"
           ],
           [
            0.16666666666666666,
            "#3c19f0"
           ],
           [
            0.25,
            "#6b1cfb"
           ],
           [
            0.3333333333333333,
            "#981cfd"
           ],
           [
            0.4166666666666667,
            "#bf1cfd"
           ],
           [
            0.5,
            "#dd2bfd"
           ],
           [
            0.5833333333333334,
            "#f246fe"
           ],
           [
            0.6666666666666666,
            "#fc67fd"
           ],
           [
            0.75,
            "#fe88fc"
           ],
           [
            0.8333333333333334,
            "#fea5fd"
           ],
           [
            0.9166666666666666,
            "#febefe"
           ],
           [
            1,
            "#fec3fe"
           ]
          ],
          "size": 10
         },
         "mode": "markers",
         "name": "Dim = 4, Hop = 3",
         "showlegend": true,
         "text": [
          "hiphop.00022.wav",
          "hiphop.00036.wav",
          "hiphop.00037.wav",
          "hiphop.00023.wav",
          "hiphop.00009.wav",
          "hiphop.00035.wav",
          "hiphop.00021.wav",
          "hiphop.00020.wav",
          "hiphop.00034.wav",
          "hiphop.00008.wav",
          "hiphop.00030.wav",
          "hiphop.00024.wav",
          "hiphop.00018.wav",
          "hiphop.00019.wav",
          "hiphop.00025.wav",
          "hiphop.00031.wav",
          "hiphop.00027.wav",
          "hiphop.00033.wav",
          "hiphop.00032.wav",
          "hiphop.00026.wav",
          "hiphop.00069.wav",
          "hiphop.00041.wav",
          "hiphop.00055.wav",
          "hiphop.00082.wav",
          "hiphop.00096.wav",
          "hiphop.00097.wav",
          "hiphop.00083.wav",
          "hiphop.00054.wav",
          "hiphop.00040.wav",
          "hiphop.00068.wav",
          "hiphop.00056.wav",
          "hiphop.00042.wav",
          "hiphop.00095.wav",
          "hiphop.00081.wav",
          "hiphop.00080.wav",
          "hiphop.00094.wav",
          "hiphop.00043.wav",
          "hiphop.00057.wav",
          "hiphop.00053.wav",
          "hiphop.00047.wav",
          "hiphop.00090.wav",
          "hiphop.00084.wav",
          "hiphop.00085.wav",
          "hiphop.00091.wav",
          "hiphop.00046.wav",
          "hiphop.00052.wav",
          "hiphop.00044.wav",
          "hiphop.00050.wav",
          "hiphop.00078.wav",
          "hiphop.00087.wav",
          "hiphop.00093.wav",
          "hiphop.00092.wav",
          "hiphop.00086.wav",
          "hiphop.00079.wav",
          "hiphop.00051.wav",
          "hiphop.00045.wav",
          "hiphop.00048.wav",
          "hiphop.00060.wav",
          "hiphop.00074.wav",
          "hiphop.00075.wav",
          "hiphop.00061.wav",
          "hiphop.00049.wav",
          "hiphop.00077.wav",
          "hiphop.00063.wav",
          "hiphop.00088.wav",
          "hiphop.00089.wav",
          "hiphop.00062.wav",
          "hiphop.00076.wav",
          "hiphop.00072.wav",
          "hiphop.00066.wav",
          "hiphop.00099.wav",
          "hiphop.00098.wav",
          "hiphop.00067.wav",
          "hiphop.00073.wav",
          "hiphop.00065.wav",
          "hiphop.00071.wav",
          "hiphop.00059.wav",
          "hiphop.00058.wav",
          "hiphop.00070.wav",
          "hiphop.00064.wav",
          "hiphop.00003.wav",
          "hiphop.00017.wav",
          "hiphop.00016.wav",
          "hiphop.00002.wav",
          "hiphop.00028.wav",
          "hiphop.00014.wav",
          "hiphop.00000.wav",
          "hiphop.00001.wav",
          "hiphop.00015.wav",
          "hiphop.00029.wav",
          "hiphop.00011.wav",
          "hiphop.00005.wav",
          "hiphop.00039.wav",
          "hiphop.00038.wav",
          "hiphop.00004.wav",
          "hiphop.00010.wav",
          "hiphop.00006.wav",
          "hiphop.00012.wav",
          "hiphop.00013.wav",
          "hiphop.00007.wav"
         ],
         "type": "scatter",
         "x": {
          "bdata": "wZa7lvce6z/N0V2pKczrP0i2TZOm/e0/vQW64WdE6j8Ng2J669vrPwrnX5ux0+0/IK2sh1I06z9dM1kL5CvrP/39EPf0AO0/t8UxSG9p7D+3U1vRf3jvP4ri3SfUD+o/eNzfx8g17D/t+om7KJzqP5zwydGzPus/CTsWv9Wb7T+s92zEsk/sP+R1498KYu0/nCYKsgzR6j/OYjk3L1TuP4qRR6XB4+4/aJPmKBYU7D8EFbRy+wfoP7TR/qv/9+o/NNJw9zCl5z8TUHSDeDvtPztgaEprFus/fkH9XEUX7z9NPeDE5YzrP1CXxiMbFe0/GjStMTcm7D8X6sArYDbtP9NhuDxRvOs/3L2CT//K6T9X86KTL+TtPxq++bPQAOs/K3SioC2v6D8brES0xfzpP1O9QKVTxu4/MJnyQbZJ7z8olIwzDoDrP/Yr6LvYv+k/utEwd0do7D/j820Y9+7rP6lc6TCgqes/CaGFhLR+7T9dpU62OKfpP+wnJpZ4juk/AwjoEvSR6z+qdBIc8nHsP3d11aZkGu0/hQkenJP57T820eyDEpXqP3Vxnm+HOu0/ZBDIFUIG7D9+G+BkIRHtP7nn/rMn6Ow/D8rMf9fa6D9pVgzB25PtP4gM70Uo3O0/7RbeLcia6T/B/4udvHruP7xLMH2Rtu0/2tImUqNQ6z8Z4j51LufrP4A+lqX+q+s/aeAlarM36z8DCOgS9JHrP78OzxD9Weo/AjgCSm7D6j8kTL/79SbpP5UdhEe30us/Hk4rurRM7j9ZvFDa3JrtP2gMQzkEdew/ZgpRvhCM7z9Z9GvrCNHqP8BfJywHoes/1kmoznMr7j+Fz3ag6O3rP0+O/gIarOo/AhBe5qng6z8ylDaTps3qP7Hbx6Q8Teg/21ZfTYkc7D/w6d2YS2vqP6cdcczuAew/a4CYqp/46z+gb2r80+TrP5w9LomAou0/7a0IXGVR6z/S7xUN+ODsP34b4GQhEe0/uAvPcEze6T9tz1g50VDrP+ZH24SFCeo/JjceJVXD7T9WwIh8hrzpP+xPbd49Eec/ovfb24kX6j8=",
          "dtype": "f8"
         },
         "xaxis": "x",
         "y": {
          "bdata": "tTnDwIOOwz+ajEY433/BPxzm4P8mqrE/55RsYRuWxz89cOuEz27CPw9AuPxcirM/fCc1KU5TxD/dUWIlNrHFP0tMuEcxJ7w/wTp4PnsTwT80Enb2yW2WP4/jLGplR8g/TJ6JbZcgwT9oLkfVGQrGP9un6LNiqcQ/RKxRHuEJtT/y7jCWsae+P9e1UZypurc/1t9qK5S0wz/TqcauXUCwP65vYQ+oPKY/azY18wbAwD8ie4F5o0XMPxO9ISxi4sU/Ev0Q6G6AzT+yyF0aWq+6PyTI1Et+icQ/fx/o+DKOoD9zNaAbGkDAP/1tqBbR+rk/U5cdjIOUwT/IJ4QbFCi5P0B+l/fIvsM/h/FP7Lgtxz9VgufxOuGyPzBF3W9oC8Q/LF5UyVoPyT8Xv/IDHH3HP6zwoN0I16U/GzwGEpK3mj8bweGGWvvCP/t0LOCoMMk/1FYyF0KswD8g2DbcK83CP1S+jQaQNcE/3UhvdA9itT9DBpJfoJHHP4intEEqCsY/u1JAX5aywD8iYBWq5NnAP/yHyCw0g70/7Yidd58isz9DAUZnuRXGPzXpTQaz/LY/TVUT0C/nwD+C2NABh3y3P4Ld3/0LAbs/lPCUrCBkyz/fu1bVnqK3Pwn0C1WqdrM/BvkRs9X/xz8qL4eLAMitP/qz4yhPA7Q/RCopv40fwz8G4c6e6kLCPwzzO6n4d8M/zfQFaglWwj+7UkBflrLAP6Vn7oBLWsQ/ZR6G7OmVxD/XlUBpN7HJP8/WrQEwGsM/Bh/XXkRHrj9spB8Pt1u0P4dp9FtT1rs/8kFz6oR4kT+LLO+OLdLEPy+MrfFdWcM/AqrJHR5brz+hD632C3vBP23P5oeDIcY/XZZvuExFwj8UBB87NUXGPxGp/nphJso/G4klMck2wD/5/Aci82XIP1LAmV6/lsE/dAogoFj7wT/pwT5kGtzBP7VSWC80QrU/efmKDZ2Fwz8OEdI51Yy+P4LY0AGHfLc/D+gDBJvcxj+rETZfi/3CP9takNO9Isg/VMQsNmmwtT+zAMwvZVHIP8m/hU2Pu80/WIBME1oUxz8=",
          "dtype": "f8"
         },
         "yaxis": "y"
        },
        {
         "hovertemplate": "Entropy: %{x}<br>Complexity: %{y}<br>File: %{text}<extra></extra>",
         "marker": {
          "color": {
           "bdata": "Z4aavAOiyz9T9DgyY5DIP8x6L72Ub7o/gAM5wHmI0D/0R0rtk7vKP5lZbnbJOr4/lT3E5xgMzT9Ry691ZTTPP1C/Zg/R88Q/blxgBu8EyT8Q1snJGUOhPwslAX+txNA/v8h6vgHHyD8C9Eu8X8LOPwxNA6Z7sc0/6liHj1vEwD96Y7EWeurFPwPjLjx7jsE/tSEEOXL7yj/e/1kbT8m4P/FSpwmYYrE/EsYgIlFyyD8tEpoPqZvSP9BvM3CArc8/sIcA46ZO0z96KE4f/QnFPzktGzK+Xs0//gyAu+A7rz8g5tBuhCLGP1ToOUdxHsM/PZy9SHfLyT/NDTdrPHjCP7imXoKm1cw/zEuWrFWlzz9SzDIULvm8PzMxadRbkcw/6m1DzPkH0D8EqYJUclDQP0jho8gVFbI/dcnt+oUXqT9JxIoP36nLPwoCRS0qWNE/HKatW0wSyT8GCdY55KvLP0Xq4QBwDMg/sILkTHajvz9Yi0vcAtfPP6yWxWRlcc0/T4l0R3ljxz+S1Qk2m/fIP8UI0fucWMY/xr0K4QVvwT/bGKF3h9POP8FmG6K2l8E/1Pugd9etxz/NQblmWVbBP8g3TQMft8M/hJ40eFyZ0j/jL7WOehPCP0anNYeyHL0/fUfyX0hi0D93KRP5PXm3P/C+tweomb4/GBqPxgaAyj9UXuF7cgXLP27iB9vyJMw/yKPqM/6RyD9PiXRHeWPHP9sfLU9/Q8w//zeQFwUqzD90F5bu9TPRP5pt1r7XKsw/y/nnEBdPuD8vYodmvs++P+WWlnvd08M/H6HW9nMZpD+m/t7IVM3MP5z2hMf3Q8s/nOTcRWTnuT+a1Db9D/jIPztoX/6y6s4/U/ako579yj+7FRutSJPPP6WA06UhoNA/KF23Ahkrxz83LNq9nU3RP/B4mmOi8ck/rr1YjXmtyT9GBast4e/KP7oHmnx1r78/sENf1+vhyz/8nvltC7rHP81BuWZZVsE/x473yfyDzj/7JjO/x7fKP0Ryn0/92NA/iWio/O5ewT+5L9OOF7rQP/v142W9oNI/8nBIifv0zz8=",
           "dtype": "f8"
          },
          "colorscale": [
           [
            0,
            "#0508b8"
           ],
           [
            0.08333333333333333,
            "#1910d8"
           ],
           [
            0.16666666666666666,
            "#3c19f0"
           ],
           [
            0.25,
            "#6b1cfb"
           ],
           [
            0.3333333333333333,
            "#981cfd"
           ],
           [
            0.4166666666666667,
            "#bf1cfd"
           ],
           [
            0.5,
            "#dd2bfd"
           ],
           [
            0.5833333333333334,
            "#f246fe"
           ],
           [
            0.6666666666666666,
            "#fc67fd"
           ],
           [
            0.75,
            "#fe88fc"
           ],
           [
            0.8333333333333334,
            "#fea5fd"
           ],
           [
            0.9166666666666666,
            "#febefe"
           ],
           [
            1,
            "#fec3fe"
           ]
          ],
          "size": 10
         },
         "mode": "markers",
         "name": "Dim = 5, Hop = 4",
         "showlegend": true,
         "text": [
          "hiphop.00022.wav",
          "hiphop.00036.wav",
          "hiphop.00037.wav",
          "hiphop.00023.wav",
          "hiphop.00009.wav",
          "hiphop.00035.wav",
          "hiphop.00021.wav",
          "hiphop.00020.wav",
          "hiphop.00034.wav",
          "hiphop.00008.wav",
          "hiphop.00030.wav",
          "hiphop.00024.wav",
          "hiphop.00018.wav",
          "hiphop.00019.wav",
          "hiphop.00025.wav",
          "hiphop.00031.wav",
          "hiphop.00027.wav",
          "hiphop.00033.wav",
          "hiphop.00032.wav",
          "hiphop.00026.wav",
          "hiphop.00069.wav",
          "hiphop.00041.wav",
          "hiphop.00055.wav",
          "hiphop.00082.wav",
          "hiphop.00096.wav",
          "hiphop.00097.wav",
          "hiphop.00083.wav",
          "hiphop.00054.wav",
          "hiphop.00040.wav",
          "hiphop.00068.wav",
          "hiphop.00056.wav",
          "hiphop.00042.wav",
          "hiphop.00095.wav",
          "hiphop.00081.wav",
          "hiphop.00080.wav",
          "hiphop.00094.wav",
          "hiphop.00043.wav",
          "hiphop.00057.wav",
          "hiphop.00053.wav",
          "hiphop.00047.wav",
          "hiphop.00090.wav",
          "hiphop.00084.wav",
          "hiphop.00085.wav",
          "hiphop.00091.wav",
          "hiphop.00046.wav",
          "hiphop.00052.wav",
          "hiphop.00044.wav",
          "hiphop.00050.wav",
          "hiphop.00078.wav",
          "hiphop.00087.wav",
          "hiphop.00093.wav",
          "hiphop.00092.wav",
          "hiphop.00086.wav",
          "hiphop.00079.wav",
          "hiphop.00051.wav",
          "hiphop.00045.wav",
          "hiphop.00048.wav",
          "hiphop.00060.wav",
          "hiphop.00074.wav",
          "hiphop.00075.wav",
          "hiphop.00061.wav",
          "hiphop.00049.wav",
          "hiphop.00077.wav",
          "hiphop.00063.wav",
          "hiphop.00088.wav",
          "hiphop.00089.wav",
          "hiphop.00062.wav",
          "hiphop.00076.wav",
          "hiphop.00072.wav",
          "hiphop.00066.wav",
          "hiphop.00099.wav",
          "hiphop.00098.wav",
          "hiphop.00067.wav",
          "hiphop.00073.wav",
          "hiphop.00065.wav",
          "hiphop.00071.wav",
          "hiphop.00059.wav",
          "hiphop.00058.wav",
          "hiphop.00070.wav",
          "hiphop.00064.wav",
          "hiphop.00003.wav",
          "hiphop.00017.wav",
          "hiphop.00016.wav",
          "hiphop.00002.wav",
          "hiphop.00028.wav",
          "hiphop.00014.wav",
          "hiphop.00000.wav",
          "hiphop.00001.wav",
          "hiphop.00015.wav",
          "hiphop.00029.wav",
          "hiphop.00011.wav",
          "hiphop.00005.wav",
          "hiphop.00039.wav",
          "hiphop.00038.wav",
          "hiphop.00004.wav",
          "hiphop.00010.wav",
          "hiphop.00006.wav",
          "hiphop.00012.wav",
          "hiphop.00013.wav",
          "hiphop.00007.wav"
         ],
         "type": "scatter",
         "x": {
          "bdata": "bcHl1nD/6T/peCqh3QvrP3ClF10Ofe0/vm2C+65J6T9wvEbLqQ3rP+nLDrZsMe0/4sy9bBRP6j9aVKSQj13qPwGpQha2euw/qUDPldjT6z+2ch804mfvP0zuxNKWGuk/Y1V/b2+J6z8OYkfgEavpP08lcyYmZeo/4aZqKQjr7D9lm1R3bnLrPzQMPkCO1ew/JJyqHgq46T9HKSBCSvrtP2I1v70pqu4/3IIGvlpT6z/rb5Umb83mPw/HUXt/Eeo/ll2fYkxX5j/s498psJjsP7uHtoI8Muo/mrO174mL7j/bSp4d8DXqP+82dFtwbOw/iZRSIdt16z9/dbHK56/sP3AZC1lbB+s/RW3pIOp76D8cCCwzKV3tP76AInFo4Ok/wifH0pxv5z+SO3TnYOroPwoF22fTQu4/R/ZrEFHm7j/natD7743qP47yoH+vs+g/xyG3IoS06z9+vYuiFTrrP3fu3O43s+o/uC9A9VnG7D+N7j++TZzoP7JLVsBMF+g/X8I0/8l56j+kktzs5dvrP1I0Xz5+p+w/Gjx5i3AE7T9hLWHu5pXpP709hB5/auw/D+opvgVC6z/Co37FlQ3sP4EmTzgrKuw/iax8mF+t5z9M97Y3whrtP387iH6XXO0/wjSeQg1/6D/uI3Cn0SPuPxqHkGiAF+0/w7qmmXJ56j+ehXtXPhnrPzVqQQiN6+o/uU70YRRD6j9fwjT/yXnqPz17kikmF+k/kdjk+qDG6T/g3U2JFAToP0BE2h85Ees/R8ElLx+97T/FwseVW87sP5s01asVSes/02FzDfkk7z/0PZYNVe3pP/HVEhE89uo//Cb8sGVG7T++EecaFSbrPyQ5RAOIyOk/0cRK6b8M6z9KAFBIOfXpP7BfxO3MueY/ExlVSYtW6z+vUO7EWn/pP2U1MqrMKOs/mzUFBbxL6z+4L5rZ5ubqP4bb9WNsDu0/3Spu0sNh6j9tpGNEMkDsP8KjfsWVDew/iGTwgwXW6D9iviLim0LqP7SIrbUJCOk/8fJN53Al7T86oQeSqJfoP2IO5BJGruU/TEe1EY336D8=",
          "dtype": "f8"
         },
         "xaxis": "x2",
         "y": {
          "bdata": "Z4aavAOiyz9T9DgyY5DIP8x6L72Ub7o/gAM5wHmI0D/0R0rtk7vKP5lZbnbJOr4/lT3E5xgMzT9Ry691ZTTPP1C/Zg/R88Q/blxgBu8EyT8Q1snJGUOhPwslAX+txNA/v8h6vgHHyD8C9Eu8X8LOPwxNA6Z7sc0/6liHj1vEwD96Y7EWeurFPwPjLjx7jsE/tSEEOXL7yj/e/1kbT8m4P/FSpwmYYrE/EsYgIlFyyD8tEpoPqZvSP9BvM3CArc8/sIcA46ZO0z96KE4f/QnFPzktGzK+Xs0//gyAu+A7rz8g5tBuhCLGP1ToOUdxHsM/PZy9SHfLyT/NDTdrPHjCP7imXoKm1cw/zEuWrFWlzz9SzDIULvm8PzMxadRbkcw/6m1DzPkH0D8EqYJUclDQP0jho8gVFbI/dcnt+oUXqT9JxIoP36nLPwoCRS0qWNE/HKatW0wSyT8GCdY55KvLP0Xq4QBwDMg/sILkTHajvz9Yi0vcAtfPP6yWxWRlcc0/T4l0R3ljxz+S1Qk2m/fIP8UI0fucWMY/xr0K4QVvwT/bGKF3h9POP8FmG6K2l8E/1Pugd9etxz/NQblmWVbBP8g3TQMft8M/hJ40eFyZ0j/jL7WOehPCP0anNYeyHL0/fUfyX0hi0D93KRP5PXm3P/C+tweomb4/GBqPxgaAyj9UXuF7cgXLP27iB9vyJMw/yKPqM/6RyD9PiXRHeWPHP9sfLU9/Q8w//zeQFwUqzD90F5bu9TPRP5pt1r7XKsw/y/nnEBdPuD8vYodmvs++P+WWlnvd08M/H6HW9nMZpD+m/t7IVM3MP5z2hMf3Q8s/nOTcRWTnuT+a1Db9D/jIPztoX/6y6s4/U/ako579yj+7FRutSJPPP6WA06UhoNA/KF23Ahkrxz83LNq9nU3RP/B4mmOi8ck/rr1YjXmtyT9GBast4e/KP7oHmnx1r78/sENf1+vhyz/8nvltC7rHP81BuWZZVsE/x473yfyDzj/7JjO/x7fKP0Ryn0/92NA/iWio/O5ewT+5L9OOF7rQP/v142W9oNI/8nBIifv0zz8=",
          "dtype": "f8"
         },
         "yaxis": "y2"
        },
        {
         "hovertemplate": "Entropy: %{x}<br>Complexity: %{y}<br>File: %{text}<extra></extra>",
         "marker": {
          "color": {
           "bdata": "46tsyvXu0T/7VlWDlqPPP9SKyLUSosE/vHy8VeBo1T8HCd1fZbzRP4Rt+qGdecU/fWhLZJQn0z9H3krxO4LUP6NU7K4Desw/8yl0T/kJ0T8xsQm0J6aqPySef2vIV9U/E40tIqqn0D+HG0bOUuHTP6vrhi2uiNM/FJeW6Ylfxz9tMx9LTYfMP2hD8Dwz9Mc/OnSzG+dB0T/aoKNzDJHBP0bA86o3qbg/UYxT2OYW0D8zJ6lnvLnWP+Rc/L6E1dQ/UaQSMBiX1z+LNBFfYhLOP/7muKmThNM/wfgBQntZuD8mE8z8aMLLP8mlJhbGvck/M0KBozND0T/hxKNtwvXIPwK5oTVub9M/tXzda7Ys1D+UsOUVKvLDP7w/yuOp3NI/M3NECkVK0z+bmYQodLDUP3lEt/Ypq7o/01DUSatHtD/2Ov50m7fSP1BIV9xcB9Y/znzBKf5Y0T/kzikaQcHSP/zByqKWHc8/Xeixi6wuxT9Hn18vn73TPzPsdeLNL9I/itDPwtwJzj8DPm6uhTHRP+P+e3f1H88/wIPhi29Ryj8L8tbQKQvUPyO99bih+8c/XRmpbUV6zj/5sAevcvPGP/tBcRLi2Mk/ipyDS+8N1z9s0u8UxiTJP3vUejHu5cM/pUfriuez1D9CwGq/OU/AP8iGPUuOC8U/1LnFdFXw0D8yE3vgImvSP1/QDcTDx9I/NTqH/ObPzj+K0M/C3AnOP141ajVF1tE/eyjX+DDj0T+5h+SagIvVP3A0uhpEAtM/8erVe+NawT8fiwtNWivFP/+bzJOQUck/bWecOZsBsT+8xng0skHSP/DsCU+xptE/YTt2/2Rgwj/PfdIeMlXQP8tYK5obCdQ/wzk4JAQk0j/VxGjXopnUPyuQy87G7NM/xxpjNk0Zzj/rttI03TTWP6ovQZz4k9E/kWrtZwlF0T8Vi0QOEjPSP3B+Srvn7MU/BHuoOTpU0j98Hwd8uZzQP/mwB69y88Y/Lxw8kQHy0j9QHX9dhWjRPy5Q5qUC0tU/2+gQofRByT88bpXQWyrVPxW4SNXSDdY/2EHDYVV01D8=",
           "dtype": "f8"
          },
          "colorscale": [
           [
            0,
            "#0508b8"
           ],
           [
            0.08333333333333333,
            "#1910d8"
           ],
           [
            0.16666666666666666,
            "#3c19f0"
           ],
           [
            0.25,
            "#6b1cfb"
           ],
           [
            0.3333333333333333,
            "#981cfd"
           ],
           [
            0.4166666666666667,
            "#bf1cfd"
           ],
           [
            0.5,
            "#dd2bfd"
           ],
           [
            0.5833333333333334,
            "#f246fe"
           ],
           [
            0.6666666666666666,
            "#fc67fd"
           ],
           [
            0.75,
            "#fe88fc"
           ],
           [
            0.8333333333333334,
            "#fea5fd"
           ],
           [
            0.9166666666666666,
            "#febefe"
           ],
           [
            1,
            "#fec3fe"
           ]
          ],
          "size": 10
         },
         "mode": "markers",
         "name": "Dim = 6, Hop = 5",
         "showlegend": true,
         "text": [
          "hiphop.00022.wav",
          "hiphop.00036.wav",
          "hiphop.00037.wav",
          "hiphop.00023.wav",
          "hiphop.00009.wav",
          "hiphop.00035.wav",
          "hiphop.00021.wav",
          "hiphop.00020.wav",
          "hiphop.00034.wav",
          "hiphop.00008.wav",
          "hiphop.00030.wav",
          "hiphop.00024.wav",
          "hiphop.00018.wav",
          "hiphop.00019.wav",
          "hiphop.00025.wav",
          "hiphop.00031.wav",
          "hiphop.00027.wav",
          "hiphop.00033.wav",
          "hiphop.00032.wav",
          "hiphop.00026.wav",
          "hiphop.00069.wav",
          "hiphop.00041.wav",
          "hiphop.00055.wav",
          "hiphop.00082.wav",
          "hiphop.00096.wav",
          "hiphop.00097.wav",
          "hiphop.00083.wav",
          "hiphop.00054.wav",
          "hiphop.00040.wav",
          "hiphop.00068.wav",
          "hiphop.00056.wav",
          "hiphop.00042.wav",
          "hiphop.00095.wav",
          "hiphop.00081.wav",
          "hiphop.00080.wav",
          "hiphop.00094.wav",
          "hiphop.00043.wav",
          "hiphop.00057.wav",
          "hiphop.00053.wav",
          "hiphop.00047.wav",
          "hiphop.00090.wav",
          "hiphop.00084.wav",
          "hiphop.00085.wav",
          "hiphop.00091.wav",
          "hiphop.00046.wav",
          "hiphop.00052.wav",
          "hiphop.00044.wav",
          "hiphop.00050.wav",
          "hiphop.00078.wav",
          "hiphop.00087.wav",
          "hiphop.00093.wav",
          "hiphop.00092.wav",
          "hiphop.00086.wav",
          "hiphop.00079.wav",
          "hiphop.00051.wav",
          "hiphop.00045.wav",
          "hiphop.00048.wav",
          "hiphop.00060.wav",
          "hiphop.00074.wav",
          "hiphop.00075.wav",
          "hiphop.00061.wav",
          "hiphop.00049.wav",
          "hiphop.00077.wav",
          "hiphop.00063.wav",
          "hiphop.00088.wav",
          "hiphop.00089.wav",
          "hiphop.00062.wav",
          "hiphop.00076.wav",
          "hiphop.00072.wav",
          "hiphop.00066.wav",
          "hiphop.00099.wav",
          "hiphop.00098.wav",
          "hiphop.00067.wav",
          "hiphop.00073.wav",
          "hiphop.00065.wav",
          "hiphop.00071.wav",
          "hiphop.00059.wav",
          "hiphop.00058.wav",
          "hiphop.00070.wav",
          "hiphop.00064.wav",
          "hiphop.00003.wav",
          "hiphop.00017.wav",
          "hiphop.00016.wav",
          "hiphop.00002.wav",
          "hiphop.00028.wav",
          "hiphop.00014.wav",
          "hiphop.00000.wav",
          "hiphop.00001.wav",
          "hiphop.00015.wav",
          "hiphop.00029.wav",
          "hiphop.00011.wav",
          "hiphop.00005.wav",
          "hiphop.00039.wav",
          "hiphop.00038.wav",
          "hiphop.00004.wav",
          "hiphop.00010.wav",
          "hiphop.00006.wav",
          "hiphop.00012.wav",
          "hiphop.00013.wav",
          "hiphop.00007.wav"
         ],
         "type": "scatter",
         "x": {
          "bdata": "zSZQlBEd6T8IJxsbR33qP7LBXvdJHu0/4AiSFtmX6D8O7hwMfnLqP3fuBLRkn+w/TzkSp4mn6T86GZ9y2MrpP2infEZBHOw/n8MFb8NZ6z9XwZ2eykvvP8AxhNLbc+g/hmmKPJEG6z9cu2XAWvLoP93Z1YMZzuk/rHmQHUh17D8nG22O+MzqP8EuJnHVZew/3EWEOhDt6D9FenhSdaztP8cF+/KFgu4/UJQQu+HU6j/yUPN5xQ7mP91x6RyEcuk/aJNlAfaS5T9Q6TP8mRDsP3t2vfjDeek/Ah0x1ckH7j+14BMY2jHpPxC9mqzu4us/rMIw8xb36j/N5mXEKkXsP7Bqa5iqiOo/Y6Qoy7tw5z90M8aTsPPsPx0kyVXLA+k/h1+xRLeS5j9avTQ0Fz3oP0FDjLpAv+0/bWrW46R77j+wxAg+8czpP1FQiT7AAug/Y9WzOt8g6z/JV9Xop7HqP9nf4D75+Ok/2ua/rGUn7D/7bscyC9/nP5rWVLHbFOc/QzZtVaWp6T+vhQh+ymHrPw/sEE8QYew/J9Pgd/o87D8NOml2m93oPwepyY71yus/hbXfrAWj6j/2cBAQ3TbrP5mheFFKles/UW7WF6X05j8XfBo5sLHsPyH5Avsc8Ow/UkHYXyqs5z8kiz1NDPLtPzAszvz+mew/k1RdiGnd6T/EX+iPwHXqP3Fit1ZzYuo/PScw1T+A6T9DNm1VpanpP0QT+3ILOug/9vZhazQK6T//RoM6/DTnP+J1iC39heo/tC0oW+9N7T9RDZqfQgvsP5lqEwQDUuo/ZXD4qGrG7j/rErxnwk3pPzcOFiDJg+o/QoYKLodv7D8t/dKLPJHqP9CM/lUlKOk/Z3RDfCdu6j9H6N/0z1HpP4p2TYYPnuU/LYeLTEPN6j+LY7enKPDoP7QT7Y8sgeo/sYrYE96w6j87NVhU/S7qP096lbWvj+w/abXrPjyz6T92yXS+NMzrP/ZwEBDdNus/8LzClfUZ6D/pgPBeqG3pPwMd06YcTeg/B+FmTCiY7D/VRRh6jNjnP1/qh4HEvuQ/7WKQTcws6D8=",
          "dtype": "f8"
         },
         "xaxis": "x3",
         "y": {
          "bdata": "46tsyvXu0T/7VlWDlqPPP9SKyLUSosE/vHy8VeBo1T8HCd1fZbzRP4Rt+qGdecU/fWhLZJQn0z9H3krxO4LUP6NU7K4Desw/8yl0T/kJ0T8xsQm0J6aqPySef2vIV9U/E40tIqqn0D+HG0bOUuHTP6vrhi2uiNM/FJeW6Ylfxz9tMx9LTYfMP2hD8Dwz9Mc/OnSzG+dB0T/aoKNzDJHBP0bA86o3qbg/UYxT2OYW0D8zJ6lnvLnWP+Rc/L6E1dQ/UaQSMBiX1z+LNBFfYhLOP/7muKmThNM/wfgBQntZuD8mE8z8aMLLP8mlJhbGvck/M0KBozND0T/hxKNtwvXIPwK5oTVub9M/tXzda7Ys1D+UsOUVKvLDP7w/yuOp3NI/M3NECkVK0z+bmYQodLDUP3lEt/Ypq7o/01DUSatHtD/2Ov50m7fSP1BIV9xcB9Y/znzBKf5Y0T/kzikaQcHSP/zByqKWHc8/Xeixi6wuxT9Hn18vn73TPzPsdeLNL9I/itDPwtwJzj8DPm6uhTHRP+P+e3f1H88/wIPhi29Ryj8L8tbQKQvUPyO99bih+8c/XRmpbUV6zj/5sAevcvPGP/tBcRLi2Mk/ipyDS+8N1z9s0u8UxiTJP3vUejHu5cM/pUfriuez1D9CwGq/OU/AP8iGPUuOC8U/1LnFdFXw0D8yE3vgImvSP1/QDcTDx9I/NTqH/ObPzj+K0M/C3AnOP141ajVF1tE/eyjX+DDj0T+5h+SagIvVP3A0uhpEAtM/8erVe+NawT8fiwtNWivFP/+bzJOQUck/bWecOZsBsT+8xng0skHSP/DsCU+xptE/YTt2/2Rgwj/PfdIeMlXQP8tYK5obCdQ/wzk4JAQk0j/VxGjXopnUPyuQy87G7NM/xxpjNk0Zzj/rttI03TTWP6ovQZz4k9E/kWrtZwlF0T8Vi0QOEjPSP3B+Srvn7MU/BHuoOTpU0j98Hwd8uZzQP/mwB69y88Y/Lxw8kQHy0j9QHX9dhWjRPy5Q5qUC0tU/2+gQofRByT88bpXQWyrVPxW4SNXSDdY/2EHDYVV01D8=",
          "dtype": "f8"
         },
         "yaxis": "y3"
        },
        {
         "hovertemplate": "Entropy: %{x}<br>Complexity: %{y}<br>File: %{text}<extra></extra>",
         "marker": {
          "color": {
           "bdata": "nJtJ8XA/1j8IZoaRzIfTP6kF6roqBsc/fg514HX72T/iPzKIzUzWP/HWlSzflcw/LeN5h/ai1z9dKh+sXTPZP96UPo+pXNI/2/kELhrC1T+sxruVzli1P4xTgcOc09k/qslhoxM11T9G5a/tYWDYPymEBp2sQ9g/Nxz4T5UEzz84LjAzDgrSPx2bRCXru84/BKayJq4q1T/fewfwPMzHPxiz8a6DpME/3s2WCzE41D8SAEzkSajaP+yujGXVyNk/ErkGDFpe2z/eNG4DVL3TP27e5boDQtg/ooJru2PGwT/26LLDnfbQP9TEaJtsmtA/EkCi67zs1T/74SW38B/QP+rI2KcmYtg/EaQoMH9K2D+l1gnpYznKPxJe7VexYdc/5nDlHi931j8CiAPv8BnZP4SJgFUBmcI/uhbaprHnvj+/8+1WUpDXP9DKMD7eZto/puvRqh441j871MVj667XP/PmABGORNM/iF5zkdZJyz+7+iS4sXHXP9F54/AWjtU/1Q2jZOeB0j94W9DwaAvWP4pQ5PMNbdQ/cxDsCSkl0j+JBO+SeKbYP5c3koFxpc4/dOK8lyrv0j+KHpFB9HzNPzPx7aXrUNA/6WEAXXky2z/wQeRGwpbQP38wnE3oCco/t1ZN+hTl2D/aGrO92ELGP8UHjGcyrMs/MeqAZqWj1D8GUjktpk7XPxPLWeaycdc/LqozKEu80j/VDaNk54HSP1A7GcMimdU/aI4mLs7E1T/NBy5lP3vZP1GhlCiF+dc/wTddSku7xz+lBvNI84nLPzVZbd7BKM8/81/90GKBuj+oPEjAzjTWP1J5F2ki9NU/qQId5xCwyD8LVdBwaoPUP6le4rQtjdg/klif7OgJ1z+oB2D4/UvZP49zn8a9HNc/TbVmqX+t0j//shN9rubaPyuSmQZPTNY/yBGnylbM1T/pXv1I9QfXP5r0MKEjn8w/y1tmepMK1z8oo5Lli5rVP4oekUH0fM0/f5Zt9D6O1j8cWVfpTZPVP6QsJNBnodo/DMtVPSLw0D+rhj1XzpbZP1c6h9KdBtk/l12O6T7O2D8=",
           "dtype": "f8"
          },
          "colorscale": [
           [
            0,
            "#0508b8"
           ],
           [
            0.08333333333333333,
            "#1910d8"
           ],
           [
            0.16666666666666666,
            "#3c19f0"
           ],
           [
            0.25,
            "#6b1cfb"
           ],
           [
            0.3333333333333333,
            "#981cfd"
           ],
           [
            0.4166666666666667,
            "#bf1cfd"
           ],
           [
            0.5,
            "#dd2bfd"
           ],
           [
            0.5833333333333334,
            "#f246fe"
           ],
           [
            0.6666666666666666,
            "#fc67fd"
           ],
           [
            0.75,
            "#fe88fc"
           ],
           [
            0.8333333333333334,
            "#fea5fd"
           ],
           [
            0.9166666666666666,
            "#febefe"
           ],
           [
            1,
            "#fec3fe"
           ]
          ],
          "size": 10
         },
         "mode": "markers",
         "name": "Dim = 7, Hop = 6",
         "showlegend": true,
         "text": [
          "hiphop.00022.wav",
          "hiphop.00036.wav",
          "hiphop.00037.wav",
          "hiphop.00023.wav",
          "hiphop.00009.wav",
          "hiphop.00035.wav",
          "hiphop.00021.wav",
          "hiphop.00020.wav",
          "hiphop.00034.wav",
          "hiphop.00008.wav",
          "hiphop.00030.wav",
          "hiphop.00024.wav",
          "hiphop.00018.wav",
          "hiphop.00019.wav",
          "hiphop.00025.wav",
          "hiphop.00031.wav",
          "hiphop.00027.wav",
          "hiphop.00033.wav",
          "hiphop.00032.wav",
          "hiphop.00026.wav",
          "hiphop.00069.wav",
          "hiphop.00041.wav",
          "hiphop.00055.wav",
          "hiphop.00082.wav",
          "hiphop.00096.wav",
          "hiphop.00097.wav",
          "hiphop.00083.wav",
          "hiphop.00054.wav",
          "hiphop.00040.wav",
          "hiphop.00068.wav",
          "hiphop.00056.wav",
          "hiphop.00042.wav",
          "hiphop.00095.wav",
          "hiphop.00081.wav",
          "hiphop.00080.wav",
          "hiphop.00094.wav",
          "hiphop.00043.wav",
          "hiphop.00057.wav",
          "hiphop.00053.wav",
          "hiphop.00047.wav",
          "hiphop.00090.wav",
          "hiphop.00084.wav",
          "hiphop.00085.wav",
          "hiphop.00091.wav",
          "hiphop.00046.wav",
          "hiphop.00052.wav",
          "hiphop.00044.wav",
          "hiphop.00050.wav",
          "hiphop.00078.wav",
          "hiphop.00087.wav",
          "hiphop.00093.wav",
          "hiphop.00092.wav",
          "hiphop.00086.wav",
          "hiphop.00079.wav",
          "hiphop.00051.wav",
          "hiphop.00045.wav",
          "hiphop.00048.wav",
          "hiphop.00060.wav",
          "hiphop.00074.wav",
          "hiphop.00075.wav",
          "hiphop.00061.wav",
          "hiphop.00049.wav",
          "hiphop.00077.wav",
          "hiphop.00063.wav",
          "hiphop.00088.wav",
          "hiphop.00089.wav",
          "hiphop.00062.wav",
          "hiphop.00076.wav",
          "hiphop.00072.wav",
          "hiphop.00066.wav",
          "hiphop.00099.wav",
          "hiphop.00098.wav",
          "hiphop.00067.wav",
          "hiphop.00073.wav",
          "hiphop.00065.wav",
          "hiphop.00071.wav",
          "hiphop.00059.wav",
          "hiphop.00058.wav",
          "hiphop.00070.wav",
          "hiphop.00064.wav",
          "hiphop.00003.wav",
          "hiphop.00017.wav",
          "hiphop.00016.wav",
          "hiphop.00002.wav",
          "hiphop.00028.wav",
          "hiphop.00014.wav",
          "hiphop.00000.wav",
          "hiphop.00001.wav",
          "hiphop.00015.wav",
          "hiphop.00029.wav",
          "hiphop.00011.wav",
          "hiphop.00005.wav",
          "hiphop.00039.wav",
          "hiphop.00038.wav",
          "hiphop.00004.wav",
          "hiphop.00010.wav",
          "hiphop.00006.wav",
          "hiphop.00012.wav",
          "hiphop.00013.wav",
          "hiphop.00007.wav"
         ],
         "type": "scatter",
         "x": {
          "bdata": "Kmf/AI9b6D+0lAlvjQLqP/rrYfV3s+w/PAH6hygW6D819PjKEujpP6Ed7JD4IOw/adogjBEi6T/EQlWPhmzpPzCSn/Iez+s/gCRSzWb36j9tGJBfRBbvP757OndY7Oc/pCK58pOT6j/hKUiLl1voP3385J43Ruk/Y219YLMH7D/bdTw0EDHqP0C8+8azAew/tBJGmQhD6D9d78pQnlrtP88qZ3TAPu4/HDo3f/1q6j+U/qcY0G3lPycw/3R97eg/YGANfCD35D/e6QjsNaDrP7XjGyO86eg/Zf0g2JqA7T8bnNndv0voP4ETulgyWOs/sBgt/y6D6j+i6wNUdN3rP9mDZ8iCKeo/iYTeoqao5j/5uxK67pDsP1a064foVeg/rUdi5T7g5T/W9k+1yKnnP7SWvnPdO+0/SZCaSv4D7j9FTHKx6jnpP8+NjXJygec/DXjAv8Gv6j8mzTHfGlLqPxcFbCJ6V+k/xeyIh9KP6z+hPmoEwEPnP8GHpT5cSOY/JrvnBzvz6D/7fXLSUQTrPzLzcP0+Guw/Dg0y3eqH6z9uTFswD0HoP0hhweVTSes/XOjUTpsM6j+ZgCXK9WzqP47ybLLiA+s/FxX5/HZb5j+nX8T2o0nsPzCv/f0miOw/2UYtlOAU5z9OeoU5tbLtP0nTpkCzG+w/TxTEhjBh6T9ABlwfz/rpP2+IZrKi9+k/Zdm71F7Z6D8mu+cHO/PoP7SyiQzBfec/XHuC8Y5r6D/vBjstXYPmPx/Uz1mxHuo/16H4/1TX7D9mMadSek3rPycE5gTxcOk/boCvp8xZ7j9hW4SOPLfoP7EABOEEGOo/w5MgFE+b6z+LIEs+w/TpPxWwwuafn+g/3NfNxBrj6T/WE/MLvuDoP6j73z6csuQ//EFFfAlV6j8u4JjmTZHoP9HrKxt2+Ok/ALiH32wt6j/3cQIxOY/pP/TgM6JzG+w/uUM9SfAN6T8/85/6hGfrP5mAJcr1bOo/LEiGkWKD5z/vx59NaLjoP/M3izMVwec/G3n+wjcd7D8yXGQIfyznP+BIR3WHCeQ/NBZaqnGN5z8=",
          "dtype": "f8"
         },
         "xaxis": "x4",
         "y": {
          "bdata": "nJtJ8XA/1j8IZoaRzIfTP6kF6roqBsc/fg514HX72T/iPzKIzUzWP/HWlSzflcw/LeN5h/ai1z9dKh+sXTPZP96UPo+pXNI/2/kELhrC1T+sxruVzli1P4xTgcOc09k/qslhoxM11T9G5a/tYWDYPymEBp2sQ9g/Nxz4T5UEzz84LjAzDgrSPx2bRCXru84/BKayJq4q1T/fewfwPMzHPxiz8a6DpME/3s2WCzE41D8SAEzkSajaP+yujGXVyNk/ErkGDFpe2z/eNG4DVL3TP27e5boDQtg/ooJru2PGwT/26LLDnfbQP9TEaJtsmtA/EkCi67zs1T/74SW38B/QP+rI2KcmYtg/EaQoMH9K2D+l1gnpYznKPxJe7VexYdc/5nDlHi931j8CiAPv8BnZP4SJgFUBmcI/uhbaprHnvj+/8+1WUpDXP9DKMD7eZto/puvRqh441j871MVj667XP/PmABGORNM/iF5zkdZJyz+7+iS4sXHXP9F54/AWjtU/1Q2jZOeB0j94W9DwaAvWP4pQ5PMNbdQ/cxDsCSkl0j+JBO+SeKbYP5c3koFxpc4/dOK8lyrv0j+KHpFB9HzNPzPx7aXrUNA/6WEAXXky2z/wQeRGwpbQP38wnE3oCco/t1ZN+hTl2D/aGrO92ELGP8UHjGcyrMs/MeqAZqWj1D8GUjktpk7XPxPLWeaycdc/LqozKEu80j/VDaNk54HSP1A7GcMimdU/aI4mLs7E1T/NBy5lP3vZP1GhlCiF+dc/wTddSku7xz+lBvNI84nLPzVZbd7BKM8/81/90GKBuj+oPEjAzjTWP1J5F2ki9NU/qQId5xCwyD8LVdBwaoPUP6le4rQtjdg/klif7OgJ1z+oB2D4/UvZP49zn8a9HNc/TbVmqX+t0j//shN9rubaPyuSmQZPTNY/yBGnylbM1T/pXv1I9QfXP5r0MKEjn8w/y1tmepMK1z8oo5Lli5rVP4oekUH0fM0/f5Zt9D6O1j8cWVfpTZPVP6QsJNBnodo/DMtVPSLw0D+rhj1XzpbZP1c6h9KdBtk/l12O6T7O2D8=",
          "dtype": "f8"
         },
         "yaxis": "y4"
        },
        {
         "hovertemplate": "Entropy: %{x}<br>Complexity: %{y}<br>File: %{text}<extra></extra>",
         "marker": {
          "color": {
           "bdata": "pXYZkK1M3D9Xb975SbDaPyXdJ4DQNNM/dN/pUcqD3z+kVOh8sJPcPwtA8RcsL9Y/5lVtXwfp3T8GwSvdCjzfPxiSa+IP49k/EJDDsAB/3D+snbmyCTzJP1WCHXfGSN8/0QLJsuYu3D939+2ZYlTePyDqzC0UZt4/bxRhWTSy1z/10Rb8EVLZPx0Xxk+nHtc/ezhk+H3F2z9Z8EPC1Z3TP+yBPs5E0NA/8JyXmZJw2z+8foGrKSDfPxnqKXjtst8/9dCT9ANY3z/RhhvBoOXaPxHCeuHwbt4/3QaS/LQU0T8nFSiLVsLXP5oRwoZDHNg/K7znBE213D8iSYQd/vfXP0xCTJj1pt4/QErr+L1V3T/8gIJkhCHVP/gKx5X4WN0/gAqSSbfV2z/kHBgKJLreP6Z7ytllR9E/KU45fn24zz9Sj9FmpebdP20iGzeBfd8/42fc4NHx3D/CgnBqmjXeP5xDHW++aNo/3U6DuFhb1T8lmPT2K4rdPzNC14j9SNs/ImsBBMi62T/sXcyKWMzcP/qftrG+g9s/tzYMHrjM2T80fD45LD3ePxjoiWeWNNc/KEg+1Vbr2T+dV4etYGHWP/LuGfXqoNc/UOppEgjj3z+Oo0/RP0zYP5Tcj960ANU/GHjik5uT3j+W7NNIRzXTP2sQkqNT6dU/xqmDFOGO2z8zziAFHMbdPzB4PDgt0t0/kZ8tZNV12T8iawEEyLrZP0t9pke13ts/KaoMRI3e2z9t1CT6R2zeP36ODPqSSN4/QjjV264o1D/uFLmZoI7VPy9EQV+SktY/y1/vuC+1zD9MEscu/e3cP9aPIBY9wdw/BhfoCVVH1D/J6UqHyJDbP9685dTBeN4/IV5Yo3+J3T/HM4myQk3fP3cO5Xn8Rts/waeRSt4Y2j8EX3kn0T/gP93GBBvQzNw/R7EYPp5n3D+56WBzWI/dP3MAmvXkGtY/qi7gRRRa3T+01uO51XXcP51Xh61gYdY/sx7aTEFQ3D/79p83k6rbP8C9p1uwAeA/pk5N5YlR2D+mqg2OGu/eP6wHhWPsm9w/CX1nUHlO3j8=",
           "dtype": "f8"
          },
          "colorscale": [
           [
            0,
            "#0508b8"
           ],
           [
            0.08333333333333333,
            "#1910d8"
           ],
           [
            0.16666666666666666,
            "#3c19f0"
           ],
           [
            0.25,
            "#6b1cfb"
           ],
           [
            0.3333333333333333,
            "#981cfd"
           ],
           [
            0.4166666666666667,
            "#bf1cfd"
           ],
           [
            0.5,
            "#dd2bfd"
           ],
           [
            0.5833333333333334,
            "#f246fe"
           ],
           [
            0.6666666666666666,
            "#fc67fd"
           ],
           [
            0.75,
            "#fe88fc"
           ],
           [
            0.8333333333333334,
            "#fea5fd"
           ],
           [
            0.9166666666666666,
            "#febefe"
           ],
           [
            1,
            "#fec3fe"
           ]
          ],
          "size": 10
         },
         "mode": "markers",
         "name": "Dim = 8, Hop = 7",
         "showlegend": true,
         "text": [
          "hiphop.00022.wav",
          "hiphop.00036.wav",
          "hiphop.00037.wav",
          "hiphop.00023.wav",
          "hiphop.00009.wav",
          "hiphop.00035.wav",
          "hiphop.00021.wav",
          "hiphop.00020.wav",
          "hiphop.00034.wav",
          "hiphop.00008.wav",
          "hiphop.00030.wav",
          "hiphop.00024.wav",
          "hiphop.00018.wav",
          "hiphop.00019.wav",
          "hiphop.00025.wav",
          "hiphop.00031.wav",
          "hiphop.00027.wav",
          "hiphop.00033.wav",
          "hiphop.00032.wav",
          "hiphop.00026.wav",
          "hiphop.00069.wav",
          "hiphop.00041.wav",
          "hiphop.00055.wav",
          "hiphop.00082.wav",
          "hiphop.00096.wav",
          "hiphop.00097.wav",
          "hiphop.00083.wav",
          "hiphop.00054.wav",
          "hiphop.00040.wav",
          "hiphop.00068.wav",
          "hiphop.00056.wav",
          "hiphop.00042.wav",
          "hiphop.00095.wav",
          "hiphop.00081.wav",
          "hiphop.00080.wav",
          "hiphop.00094.wav",
          "hiphop.00043.wav",
          "hiphop.00057.wav",
          "hiphop.00053.wav",
          "hiphop.00047.wav",
          "hiphop.00090.wav",
          "hiphop.00084.wav",
          "hiphop.00085.wav",
          "hiphop.00091.wav",
          "hiphop.00046.wav",
          "hiphop.00052.wav",
          "hiphop.00044.wav",
          "hiphop.00050.wav",
          "hiphop.00078.wav",
          "hiphop.00087.wav",
          "hiphop.00093.wav",
          "hiphop.00092.wav",
          "hiphop.00086.wav",
          "hiphop.00079.wav",
          "hiphop.00051.wav",
          "hiphop.00045.wav",
          "hiphop.00048.wav",
          "hiphop.00060.wav",
          "hiphop.00074.wav",
          "hiphop.00075.wav",
          "hiphop.00061.wav",
          "hiphop.00049.wav",
          "hiphop.00077.wav",
          "hiphop.00063.wav",
          "hiphop.00088.wav",
          "hiphop.00089.wav",
          "hiphop.00062.wav",
          "hiphop.00076.wav",
          "hiphop.00072.wav",
          "hiphop.00066.wav",
          "hiphop.00099.wav",
          "hiphop.00098.wav",
          "hiphop.00067.wav",
          "hiphop.00073.wav",
          "hiphop.00065.wav",
          "hiphop.00071.wav",
          "hiphop.00059.wav",
          "hiphop.00058.wav",
          "hiphop.00070.wav",
          "hiphop.00064.wav",
          "hiphop.00003.wav",
          "hiphop.00017.wav",
          "hiphop.00016.wav",
          "hiphop.00002.wav",
          "hiphop.00028.wav",
          "hiphop.00014.wav",
          "hiphop.00000.wav",
          "hiphop.00001.wav",
          "hiphop.00015.wav",
          "hiphop.00029.wav",
          "hiphop.00011.wav",
          "hiphop.00005.wav",
          "hiphop.00039.wav",
          "hiphop.00038.wav",
          "hiphop.00004.wav",
          "hiphop.00010.wav",
          "hiphop.00006.wav",
          "hiphop.00012.wav",
          "hiphop.00013.wav",
          "hiphop.00007.wav"
         ],
         "type": "scatter",
         "x": {
          "bdata": "mCcIEoJp5z/sf4gHJS/pP1bflstXxes/7sqtjE1u5z8K1ebP8STpP6Kc59QjMus/9A568Htp6D/veBGkIeHoP3inz6gYJes/OSH/2ztL6j8X44q7MVfuPxb8IuMYTuc/yCN1KZPU6T+mkpPYj5DnPyproaWPnOg/fuseySEt6z8N6hJ2YDbpP403buI+Nes/o8r6OypW5z8ArjWzOo7sPwmMrPheae0/zb3jHQSl6T8yL/mwvsTkP7Y8+GzETeg/6vRfgGpj5D/OA95L7+HqP5olyp8KPOg/zmz+NUx07D9+lTYH2xfnP+G+Qzr6auo/5zVMt17Q6T9RjZebWgLrP7ORMFHGpuk/+CIqflXJ5T+HckeYQqzrP3OMPAyXgOc/BT2Wfdzt5D8dViBrcurmP8ffhsV4Kuw/pn+Q/f/97D8GBuL/AoLoPza+5r/h4eY/qUKqQWUI6j9rLfIIEMbpPwMhWWcWY+g/HnTFEXeB6j9d7jAL0HXmP9lSbN+mN+U/yB8ZhGjZ5z+WWYDCR2/qPx20KTdVhus/rAlNtueR6j82rHu944rnP0IAv5yoUuo/MIxS/f4S6T+q37nboj3pP4BWveJ0++k/VQJPlNan5T/jPAENeXTrP2k9+PGrlOs/ffCto2lK5j94oKyznursP7CuJBdMIus/c1kmwiGF6D8+5XjiVVDpPzslfGzBWOk/F7cs+PHV5z/IHxmEaNnnP/QBEYx2eOY/VgsrPu+J5z97LDA5Xc7lP3+RoHs2kuk/z4o1Trjg6z+LWf1shRnqP0QhdTGmKug/ptFMdrBi7T8SyWC9PdrnP0eHbKfmbOk/fpirrf5R6j8/mgMaGAvpP8rn6Z8W7ec/gn1P8Qwg6T//I1mqx0XoP/kbNFGstuM/oLaiMyBu6T+ZAFqz2xroPyv6fvBkQ+k/GP07lSJv6T/IN04GvMXoPwROUFnIK+s/IZVMwcNA6D9dQZAIdMrqP6rfuduiPek/fF4o51235j/4rJNGCdbnP3S729WEIec/3s1IsjpI6z+mYsm5GW/mP9A9DizfSeM/p0mCtN3E5j8=",
          "dtype": "f8"
         },
         "xaxis": "x5",
         "y": {
          "bdata": "pXYZkK1M3D9Xb975SbDaPyXdJ4DQNNM/dN/pUcqD3z+kVOh8sJPcPwtA8RcsL9Y/5lVtXwfp3T8GwSvdCjzfPxiSa+IP49k/EJDDsAB/3D+snbmyCTzJP1WCHXfGSN8/0QLJsuYu3D939+2ZYlTePyDqzC0UZt4/bxRhWTSy1z/10Rb8EVLZPx0Xxk+nHtc/ezhk+H3F2z9Z8EPC1Z3TP+yBPs5E0NA/8JyXmZJw2z+8foGrKSDfPxnqKXjtst8/9dCT9ANY3z/RhhvBoOXaPxHCeuHwbt4/3QaS/LQU0T8nFSiLVsLXP5oRwoZDHNg/K7znBE213D8iSYQd/vfXP0xCTJj1pt4/QErr+L1V3T/8gIJkhCHVP/gKx5X4WN0/gAqSSbfV2z/kHBgKJLreP6Z7ytllR9E/KU45fn24zz9Sj9FmpebdP20iGzeBfd8/42fc4NHx3D/CgnBqmjXeP5xDHW++aNo/3U6DuFhb1T8lmPT2K4rdPzNC14j9SNs/ImsBBMi62T/sXcyKWMzcP/qftrG+g9s/tzYMHrjM2T80fD45LD3ePxjoiWeWNNc/KEg+1Vbr2T+dV4etYGHWP/LuGfXqoNc/UOppEgjj3z+Oo0/RP0zYP5Tcj960ANU/GHjik5uT3j+W7NNIRzXTP2sQkqNT6dU/xqmDFOGO2z8zziAFHMbdPzB4PDgt0t0/kZ8tZNV12T8iawEEyLrZP0t9pke13ts/KaoMRI3e2z9t1CT6R2zeP36ODPqSSN4/QjjV264o1D/uFLmZoI7VPy9EQV+SktY/y1/vuC+1zD9MEscu/e3cP9aPIBY9wdw/BhfoCVVH1D/J6UqHyJDbP9685dTBeN4/IV5Yo3+J3T/HM4myQk3fP3cO5Xn8Rts/waeRSt4Y2j8EX3kn0T/gP93GBBvQzNw/R7EYPp5n3D+56WBzWI/dP3MAmvXkGtY/qi7gRRRa3T+01uO51XXcP51Xh61gYdY/sx7aTEFQ3D/79p83k6rbP8C9p1uwAeA/pk5N5YlR2D+mqg2OGu/eP6wHhWPsm9w/CX1nUHlO3j8=",
          "dtype": "f8"
         },
         "yaxis": "y5"
        },
        {
         "hovertemplate": "Entropy: %{x}<br>Complexity: %{y}<br>File: %{text}<extra></extra>",
         "marker": {
          "color": {
           "bdata": "4bV0Uuoc4j9cqNy3IrriP5ClUPrRS+I/Z0kO2+z54j8HK8m/1r/iP33HLf33l+I/Inm4c3UM4z/SVUSijn3jP99mZQ87JuM//xEAFBNH4z92Riva8aDhPwmb/Tz85eI/61BynDYq4z8/WEnkYb3iP9cfGD3tL+M/m+zgqqvq4j/wdIIKInTiP1xpwaeo1uI/H9ihG5km4j+M5Ho5EmHiP9+S2J6lNeI/S/DO8fr84j86ZK9biLbhP6JuLnwuVeM/JvcpZCqN4T991tFMLBDjPx+tvEa+FuM/6tEuSolB4j+wm0PFQRDhP9NDelmfjeI/OuDGfv8+4z/2j80HHt7iP1qD4npSi+M/l/Yl/Omd4T+bjQvu6r3iP8GH5hhPd+I/d4/aXi3+4D8Ysm4pN4fiP6VT6CM9HOI/esvLs2su4j9GlHJMAg7jP+rIL6ZJqOI/a6osKYJL4z+kO2npP4rjP2pWIAiDV+I/cEe6UKIp4j9oCr30ujDiP86qDUf86uA/WJ4o2Tbx4T++NaGnDWbjP5Bzd9o7RuM/ZcsYG8fs4j94XG5i6qLiP79go1xiouI/acy2gCtM4j9W4uMmZN3hP9oALgDHL+I/lXltV4pB4j+d1TJ9itfiP/Kz4Lx7geI/7txljGxV4j+sxjUD0YDiP74IJbiKi+I/hE1cMBqu4j/rD6ENIUzjP7jJYwD9UeM/Pvh1yZDa4T9YnijZNvHhP6xjR5yPsOE/Yzhc1h0T4j+ICsBRmADiPzjQM/JGdeM/AKZXJ5ia4j+PsUf90gjiP2QsnIUnSeE/f8ifBT8B4j9aUgZDYKbiPwkkP/w2MeM/qVPdf+Pf4T89aaUAibLiP83Npijz8+I/6HLSFnIZ4z9oA2qwQELjP1BZW2hRDeA/FeRzSh/K4j8q1acxuobjP+OpQkfpB+M/V37uk24V4z+RRBFjkArjPwefn5SJeuI/QJv0la/R4j+ZJDXsyVnjP1bi4yZk3eE/d4gWQoDV4T8+cltaqS/iPy1AGeAa7+I/0kuS1l674j95F6PbW1XiP2RHuYVQSOA/d3aBrMFa4j8=",
           "dtype": "f8"
          },
          "colorscale": [
           [
            0,
            "#0508b8"
           ],
           [
            0.08333333333333333,
            "#1910d8"
           ],
           [
            0.16666666666666666,
            "#3c19f0"
           ],
           [
            0.25,
            "#6b1cfb"
           ],
           [
            0.3333333333333333,
            "#981cfd"
           ],
           [
            0.4166666666666667,
            "#bf1cfd"
           ],
           [
            0.5,
            "#dd2bfd"
           ],
           [
            0.5833333333333334,
            "#f246fe"
           ],
           [
            0.6666666666666666,
            "#fc67fd"
           ],
           [
            0.75,
            "#fe88fc"
           ],
           [
            0.8333333333333334,
            "#fea5fd"
           ],
           [
            0.9166666666666666,
            "#febefe"
           ],
           [
            1,
            "#fec3fe"
           ]
          ],
          "size": 10
         },
         "mode": "markers",
         "name": "Dim = 9, Hop = 8",
         "showlegend": true,
         "text": [
          "hiphop.00022.wav",
          "hiphop.00036.wav",
          "hiphop.00037.wav",
          "hiphop.00023.wav",
          "hiphop.00009.wav",
          "hiphop.00035.wav",
          "hiphop.00021.wav",
          "hiphop.00020.wav",
          "hiphop.00034.wav",
          "hiphop.00008.wav",
          "hiphop.00030.wav",
          "hiphop.00024.wav",
          "hiphop.00018.wav",
          "hiphop.00019.wav",
          "hiphop.00025.wav",
          "hiphop.00031.wav",
          "hiphop.00027.wav",
          "hiphop.00033.wav",
          "hiphop.00032.wav",
          "hiphop.00026.wav",
          "hiphop.00069.wav",
          "hiphop.00041.wav",
          "hiphop.00055.wav",
          "hiphop.00082.wav",
          "hiphop.00096.wav",
          "hiphop.00097.wav",
          "hiphop.00083.wav",
          "hiphop.00054.wav",
          "hiphop.00040.wav",
          "hiphop.00068.wav",
          "hiphop.00056.wav",
          "hiphop.00042.wav",
          "hiphop.00095.wav",
          "hiphop.00081.wav",
          "hiphop.00080.wav",
          "hiphop.00094.wav",
          "hiphop.00043.wav",
          "hiphop.00057.wav",
          "hiphop.00053.wav",
          "hiphop.00047.wav",
          "hiphop.00090.wav",
          "hiphop.00084.wav",
          "hiphop.00085.wav",
          "hiphop.00091.wav",
          "hiphop.00046.wav",
          "hiphop.00052.wav",
          "hiphop.00044.wav",
          "hiphop.00050.wav",
          "hiphop.00078.wav",
          "hiphop.00087.wav",
          "hiphop.00093.wav",
          "hiphop.00092.wav",
          "hiphop.00086.wav",
          "hiphop.00079.wav",
          "hiphop.00051.wav",
          "hiphop.00045.wav",
          "hiphop.00048.wav",
          "hiphop.00060.wav",
          "hiphop.00074.wav",
          "hiphop.00075.wav",
          "hiphop.00061.wav",
          "hiphop.00049.wav",
          "hiphop.00077.wav",
          "hiphop.00063.wav",
          "hiphop.00088.wav",
          "hiphop.00089.wav",
          "hiphop.00062.wav",
          "hiphop.00076.wav",
          "hiphop.00072.wav",
          "hiphop.00066.wav",
          "hiphop.00099.wav",
          "hiphop.00098.wav",
          "hiphop.00067.wav",
          "hiphop.00073.wav",
          "hiphop.00065.wav",
          "hiphop.00071.wav",
          "hiphop.00059.wav",
          "hiphop.00058.wav",
          "hiphop.00070.wav",
          "hiphop.00064.wav",
          "hiphop.00003.wav",
          "hiphop.00017.wav",
          "hiphop.00016.wav",
          "hiphop.00002.wav",
          "hiphop.00028.wav",
          "hiphop.00014.wav",
          "hiphop.00000.wav",
          "hiphop.00001.wav",
          "hiphop.00015.wav",
          "hiphop.00029.wav",
          "hiphop.00011.wav",
          "hiphop.00005.wav",
          "hiphop.00039.wav",
          "hiphop.00038.wav",
          "hiphop.00004.wav",
          "hiphop.00010.wav",
          "hiphop.00006.wav",
          "hiphop.00012.wav",
          "hiphop.00013.wav",
          "hiphop.00007.wav"
         ],
         "type": "scatter",
         "x": {
          "bdata": "XfiYHO3q5T/zUGFGr5LnP6qS87faV+k/TOAFR1Vp5j+85wzn/KHnP8k5VhF4C+k/Y7QtL94e5z8IaaFmOsTnP26uqxicfOk/uwksQ5XO6D+PhxsqsXvrP5rsF2uLQuY/ZY+vPM1X6D83Q6nL2FbmP/ZTf3egWOc/96aPt5s96T9sOsQLT1nnPw/+mv1eOuk/jMfXfdPb5T/+EC10XD7qP4KK2J6z1+o/95fQ284Z6D85meioweTjP/4RRI35Muc/De2CBlab4z+Utig7jTzpP3xKK8KZAec/s67gV2zJ6T/m6KqNOhTlP7kYM9bVbeg/JQxudOta6D8fmXvJhhrpP/qn5lFAfug/X1OwwTKL5D+hfZXgs3TpPyLUuJ5pLuY/rJJ130Ol4z+xZ501eMvlP1lUddHoeuk/OB2Rt1U66j9/5Ot8oDTnPzRd8DKX3uU/gpZgE4ad6D9/6y6dxYvoP3sxxiMzruY/awhXk6Eu6D9nGwP8pzzlP+qhTCunw+M/ImE1w7cI5j9hupx0MAjpP0q951yNA+o/O++rxQe36D8ay/sUpVHmP1uTvpA8Qeg/U9JO9PRD5z8pArNdWgjnP0EbWv2Y6Oc/q4vEtKm05D+w8tQ1JIbpPxAm6cY2Uuk/N/L9FWk95T+PPnrnPJHqP/8qpi1x9Og/x/UpQUD05j/8tTKK+APoP3TzNxIeEOg/10TXQFIK5j8iYTXDtwjmP7U4tKm2/uQ/hXZZyfQF5j8a/e2Km7vkP51crCkeWug/vwG/GbSK6T+eA/vA77bnPz+tHkXP7OU/cw96Uwp56j/lWZGObmrmP6te2lpzAOg/0pL+wQXK5z/RQ8zKZWrnP4KnAubCuOY/Q+/KU9a75z/2wbJSISvnP3sOpvU4aeI/14h2fNyz5z+clXGvVDTnP8/5++rc1uc/G/8rZCXx5z9BteSjhGfnP6RiOOQTC+k/mrVtqmLb5j9Odomtt1fpPykCs11aCOc/2SMJ48xf5T/ro7th6D7mP6sp0P7THOY/4qIumNdQ6T+0GyvyCFHlP3X/Px9LSeI/8rqlEDOU5T8=",
          "dtype": "f8"
         },
         "xaxis": "x6",
         "y": {
          "bdata": "4bV0Uuoc4j9cqNy3IrriP5ClUPrRS+I/Z0kO2+z54j8HK8m/1r/iP33HLf33l+I/Inm4c3UM4z/SVUSijn3jP99mZQ87JuM//xEAFBNH4z92Riva8aDhPwmb/Tz85eI/61BynDYq4z8/WEnkYb3iP9cfGD3tL+M/m+zgqqvq4j/wdIIKInTiP1xpwaeo1uI/H9ihG5km4j+M5Ho5EmHiP9+S2J6lNeI/S/DO8fr84j86ZK9biLbhP6JuLnwuVeM/JvcpZCqN4T991tFMLBDjPx+tvEa+FuM/6tEuSolB4j+wm0PFQRDhP9NDelmfjeI/OuDGfv8+4z/2j80HHt7iP1qD4npSi+M/l/Yl/Omd4T+bjQvu6r3iP8GH5hhPd+I/d4/aXi3+4D8Ysm4pN4fiP6VT6CM9HOI/esvLs2su4j9GlHJMAg7jP+rIL6ZJqOI/a6osKYJL4z+kO2npP4rjP2pWIAiDV+I/cEe6UKIp4j9oCr30ujDiP86qDUf86uA/WJ4o2Tbx4T++NaGnDWbjP5Bzd9o7RuM/ZcsYG8fs4j94XG5i6qLiP79go1xiouI/acy2gCtM4j9W4uMmZN3hP9oALgDHL+I/lXltV4pB4j+d1TJ9itfiP/Kz4Lx7geI/7txljGxV4j+sxjUD0YDiP74IJbiKi+I/hE1cMBqu4j/rD6ENIUzjP7jJYwD9UeM/Pvh1yZDa4T9YnijZNvHhP6xjR5yPsOE/Yzhc1h0T4j+ICsBRmADiPzjQM/JGdeM/AKZXJ5ia4j+PsUf90gjiP2QsnIUnSeE/f8ifBT8B4j9aUgZDYKbiPwkkP/w2MeM/qVPdf+Pf4T89aaUAibLiP83Npijz8+I/6HLSFnIZ4z9oA2qwQELjP1BZW2hRDeA/FeRzSh/K4j8q1acxuobjP+OpQkfpB+M/V37uk24V4z+RRBFjkArjPwefn5SJeuI/QJv0la/R4j+ZJDXsyVnjP1bi4yZk3eE/d4gWQoDV4T8+cltaqS/iPy1AGeAa7+I/0kuS1l674j95F6PbW1XiP2RHuYVQSOA/d3aBrMFa4j8=",
          "dtype": "f8"
         },
         "yaxis": "y6"
        }
       ],
       "layout": {
        "annotations": [
         {
          "font": {
           "size": 16
          },
          "showarrow": false,
          "text": "Dim = '4', Hop = '3'",
          "x": 0.225,
          "xanchor": "center",
          "xref": "paper",
          "y": 1,
          "yanchor": "bottom",
          "yref": "paper"
         },
         {
          "font": {
           "size": 16
          },
          "showarrow": false,
          "text": "Dim = '5', Hop = '4'",
          "x": 0.775,
          "xanchor": "center",
          "xref": "paper",
          "y": 1,
          "yanchor": "bottom",
          "yref": "paper"
         },
         {
          "font": {
           "size": 16
          },
          "showarrow": false,
          "text": "Dim = '6', Hop = '5'",
          "x": 0.225,
          "xanchor": "center",
          "xref": "paper",
          "y": 0.6111111111111112,
          "yanchor": "bottom",
          "yref": "paper"
         },
         {
          "font": {
           "size": 16
          },
          "showarrow": false,
          "text": "Dim = '7', Hop = '6'",
          "x": 0.775,
          "xanchor": "center",
          "xref": "paper",
          "y": 0.6111111111111112,
          "yanchor": "bottom",
          "yref": "paper"
         },
         {
          "font": {
           "size": 16
          },
          "showarrow": false,
          "text": "Dim = '8', Hop = '7'",
          "x": 0.225,
          "xanchor": "center",
          "xref": "paper",
          "y": 0.22222222222222224,
          "yanchor": "bottom",
          "yref": "paper"
         },
         {
          "font": {
           "size": 16
          },
          "showarrow": false,
          "text": "Dim = '9', Hop = '8'",
          "x": 0.775,
          "xanchor": "center",
          "xref": "paper",
          "y": 0.22222222222222224,
          "yanchor": "bottom",
          "yref": "paper"
         }
        ],
        "height": 1400,
        "template": {
         "data": {
          "bar": [
           {
            "error_x": {
             "color": "#f2f5fa"
            },
            "error_y": {
             "color": "#f2f5fa"
            },
            "marker": {
             "line": {
              "color": "rgb(17,17,17)",
              "width": 0.5
             },
             "pattern": {
              "fillmode": "overlay",
              "size": 10,
              "solidity": 0.2
             }
            },
            "type": "bar"
           }
          ],
          "barpolar": [
           {
            "marker": {
             "line": {
              "color": "rgb(17,17,17)",
              "width": 0.5
             },
             "pattern": {
              "fillmode": "overlay",
              "size": 10,
              "solidity": 0.2
             }
            },
            "type": "barpolar"
           }
          ],
          "carpet": [
           {
            "aaxis": {
             "endlinecolor": "#A2B1C6",
             "gridcolor": "#506784",
             "linecolor": "#506784",
             "minorgridcolor": "#506784",
             "startlinecolor": "#A2B1C6"
            },
            "baxis": {
             "endlinecolor": "#A2B1C6",
             "gridcolor": "#506784",
             "linecolor": "#506784",
             "minorgridcolor": "#506784",
             "startlinecolor": "#A2B1C6"
            },
            "type": "carpet"
           }
          ],
          "choropleth": [
           {
            "colorbar": {
             "outlinewidth": 0,
             "ticks": ""
            },
            "type": "choropleth"
           }
          ],
          "contour": [
           {
            "colorbar": {
             "outlinewidth": 0,
             "ticks": ""
            },
            "colorscale": [
             [
              0,
              "#0d0887"
             ],
             [
              0.1111111111111111,
              "#46039f"
             ],
             [
              0.2222222222222222,
              "#7201a8"
             ],
             [
              0.3333333333333333,
              "#9c179e"
             ],
             [
              0.4444444444444444,
              "#bd3786"
             ],
             [
              0.5555555555555556,
              "#d8576b"
             ],
             [
              0.6666666666666666,
              "#ed7953"
             ],
             [
              0.7777777777777778,
              "#fb9f3a"
             ],
             [
              0.8888888888888888,
              "#fdca26"
             ],
             [
              1,
              "#f0f921"
             ]
            ],
            "type": "contour"
           }
          ],
          "contourcarpet": [
           {
            "colorbar": {
             "outlinewidth": 0,
             "ticks": ""
            },
            "type": "contourcarpet"
           }
          ],
          "heatmap": [
           {
            "colorbar": {
             "outlinewidth": 0,
             "ticks": ""
            },
            "colorscale": [
             [
              0,
              "#0d0887"
             ],
             [
              0.1111111111111111,
              "#46039f"
             ],
             [
              0.2222222222222222,
              "#7201a8"
             ],
             [
              0.3333333333333333,
              "#9c179e"
             ],
             [
              0.4444444444444444,
              "#bd3786"
             ],
             [
              0.5555555555555556,
              "#d8576b"
             ],
             [
              0.6666666666666666,
              "#ed7953"
             ],
             [
              0.7777777777777778,
              "#fb9f3a"
             ],
             [
              0.8888888888888888,
              "#fdca26"
             ],
             [
              1,
              "#f0f921"
             ]
            ],
            "type": "heatmap"
           }
          ],
          "histogram": [
           {
            "marker": {
             "pattern": {
              "fillmode": "overlay",
              "size": 10,
              "solidity": 0.2
             }
            },
            "type": "histogram"
           }
          ],
          "histogram2d": [
           {
            "colorbar": {
             "outlinewidth": 0,
             "ticks": ""
            },
            "colorscale": [
             [
              0,
              "#0d0887"
             ],
             [
              0.1111111111111111,
              "#46039f"
             ],
             [
              0.2222222222222222,
              "#7201a8"
             ],
             [
              0.3333333333333333,
              "#9c179e"
             ],
             [
              0.4444444444444444,
              "#bd3786"
             ],
             [
              0.5555555555555556,
              "#d8576b"
             ],
             [
              0.6666666666666666,
              "#ed7953"
             ],
             [
              0.7777777777777778,
              "#fb9f3a"
             ],
             [
              0.8888888888888888,
              "#fdca26"
             ],
             [
              1,
              "#f0f921"
             ]
            ],
            "type": "histogram2d"
           }
          ],
          "histogram2dcontour": [
           {
            "colorbar": {
             "outlinewidth": 0,
             "ticks": ""
            },
            "colorscale": [
             [
              0,
              "#0d0887"
             ],
             [
              0.1111111111111111,
              "#46039f"
             ],
             [
              0.2222222222222222,
              "#7201a8"
             ],
             [
              0.3333333333333333,
              "#9c179e"
             ],
             [
              0.4444444444444444,
              "#bd3786"
             ],
             [
              0.5555555555555556,
              "#d8576b"
             ],
             [
              0.6666666666666666,
              "#ed7953"
             ],
             [
              0.7777777777777778,
              "#fb9f3a"
             ],
             [
              0.8888888888888888,
              "#fdca26"
             ],
             [
              1,
              "#f0f921"
             ]
            ],
            "type": "histogram2dcontour"
           }
          ],
          "mesh3d": [
           {
            "colorbar": {
             "outlinewidth": 0,
             "ticks": ""
            },
            "type": "mesh3d"
           }
          ],
          "parcoords": [
           {
            "line": {
             "colorbar": {
              "outlinewidth": 0,
              "ticks": ""
             }
            },
            "type": "parcoords"
           }
          ],
          "pie": [
           {
            "automargin": true,
            "type": "pie"
           }
          ],
          "scatter": [
           {
            "marker": {
             "line": {
              "color": "#283442"
             }
            },
            "type": "scatter"
           }
          ],
          "scatter3d": [
           {
            "line": {
             "colorbar": {
              "outlinewidth": 0,
              "ticks": ""
             }
            },
            "marker": {
             "colorbar": {
              "outlinewidth": 0,
              "ticks": ""
             }
            },
            "type": "scatter3d"
           }
          ],
          "scattercarpet": [
           {
            "marker": {
             "colorbar": {
              "outlinewidth": 0,
              "ticks": ""
             }
            },
            "type": "scattercarpet"
           }
          ],
          "scattergeo": [
           {
            "marker": {
             "colorbar": {
              "outlinewidth": 0,
              "ticks": ""
             }
            },
            "type": "scattergeo"
           }
          ],
          "scattergl": [
           {
            "marker": {
             "line": {
              "color": "#283442"
             }
            },
            "type": "scattergl"
           }
          ],
          "scattermap": [
           {
            "marker": {
             "colorbar": {
              "outlinewidth": 0,
              "ticks": ""
             }
            },
            "type": "scattermap"
           }
          ],
          "scattermapbox": [
           {
            "marker": {
             "colorbar": {
              "outlinewidth": 0,
              "ticks": ""
             }
            },
            "type": "scattermapbox"
           }
          ],
          "scatterpolar": [
           {
            "marker": {
             "colorbar": {
              "outlinewidth": 0,
              "ticks": ""
             }
            },
            "type": "scatterpolar"
           }
          ],
          "scatterpolargl": [
           {
            "marker": {
             "colorbar": {
              "outlinewidth": 0,
              "ticks": ""
             }
            },
            "type": "scatterpolargl"
           }
          ],
          "scatterternary": [
           {
            "marker": {
             "colorbar": {
              "outlinewidth": 0,
              "ticks": ""
             }
            },
            "type": "scatterternary"
           }
          ],
          "surface": [
           {
            "colorbar": {
             "outlinewidth": 0,
             "ticks": ""
            },
            "colorscale": [
             [
              0,
              "#0d0887"
             ],
             [
              0.1111111111111111,
              "#46039f"
             ],
             [
              0.2222222222222222,
              "#7201a8"
             ],
             [
              0.3333333333333333,
              "#9c179e"
             ],
             [
              0.4444444444444444,
              "#bd3786"
             ],
             [
              0.5555555555555556,
              "#d8576b"
             ],
             [
              0.6666666666666666,
              "#ed7953"
             ],
             [
              0.7777777777777778,
              "#fb9f3a"
             ],
             [
              0.8888888888888888,
              "#fdca26"
             ],
             [
              1,
              "#f0f921"
             ]
            ],
            "type": "surface"
           }
          ],
          "table": [
           {
            "cells": {
             "fill": {
              "color": "#506784"
             },
             "line": {
              "color": "rgb(17,17,17)"
             }
            },
            "header": {
             "fill": {
              "color": "#2a3f5f"
             },
             "line": {
              "color": "rgb(17,17,17)"
             }
            },
            "type": "table"
           }
          ]
         },
         "layout": {
          "annotationdefaults": {
           "arrowcolor": "#f2f5fa",
           "arrowhead": 0,
           "arrowwidth": 1
          },
          "autotypenumbers": "strict",
          "coloraxis": {
           "colorbar": {
            "outlinewidth": 0,
            "ticks": ""
           }
          },
          "colorscale": {
           "diverging": [
            [
             0,
             "#8e0152"
            ],
            [
             0.1,
             "#c51b7d"
            ],
            [
             0.2,
             "#de77ae"
            ],
            [
             0.3,
             "#f1b6da"
            ],
            [
             0.4,
             "#fde0ef"
            ],
            [
             0.5,
             "#f7f7f7"
            ],
            [
             0.6,
             "#e6f5d0"
            ],
            [
             0.7,
             "#b8e186"
            ],
            [
             0.8,
             "#7fbc41"
            ],
            [
             0.9,
             "#4d9221"
            ],
            [
             1,
             "#276419"
            ]
           ],
           "sequential": [
            [
             0,
             "#0d0887"
            ],
            [
             0.1111111111111111,
             "#46039f"
            ],
            [
             0.2222222222222222,
             "#7201a8"
            ],
            [
             0.3333333333333333,
             "#9c179e"
            ],
            [
             0.4444444444444444,
             "#bd3786"
            ],
            [
             0.5555555555555556,
             "#d8576b"
            ],
            [
             0.6666666666666666,
             "#ed7953"
            ],
            [
             0.7777777777777778,
             "#fb9f3a"
            ],
            [
             0.8888888888888888,
             "#fdca26"
            ],
            [
             1,
             "#f0f921"
            ]
           ],
           "sequentialminus": [
            [
             0,
             "#0d0887"
            ],
            [
             0.1111111111111111,
             "#46039f"
            ],
            [
             0.2222222222222222,
             "#7201a8"
            ],
            [
             0.3333333333333333,
             "#9c179e"
            ],
            [
             0.4444444444444444,
             "#bd3786"
            ],
            [
             0.5555555555555556,
             "#d8576b"
            ],
            [
             0.6666666666666666,
             "#ed7953"
            ],
            [
             0.7777777777777778,
             "#fb9f3a"
            ],
            [
             0.8888888888888888,
             "#fdca26"
            ],
            [
             1,
             "#f0f921"
            ]
           ]
          },
          "colorway": [
           "#636efa",
           "#EF553B",
           "#00cc96",
           "#ab63fa",
           "#FFA15A",
           "#19d3f3",
           "#FF6692",
           "#B6E880",
           "#FF97FF",
           "#FECB52"
          ],
          "font": {
           "color": "#f2f5fa"
          },
          "geo": {
           "bgcolor": "rgb(17,17,17)",
           "lakecolor": "rgb(17,17,17)",
           "landcolor": "rgb(17,17,17)",
           "showlakes": true,
           "showland": true,
           "subunitcolor": "#506784"
          },
          "hoverlabel": {
           "align": "left"
          },
          "hovermode": "closest",
          "mapbox": {
           "style": "dark"
          },
          "paper_bgcolor": "rgb(17,17,17)",
          "plot_bgcolor": "rgb(17,17,17)",
          "polar": {
           "angularaxis": {
            "gridcolor": "#506784",
            "linecolor": "#506784",
            "ticks": ""
           },
           "bgcolor": "rgb(17,17,17)",
           "radialaxis": {
            "gridcolor": "#506784",
            "linecolor": "#506784",
            "ticks": ""
           }
          },
          "scene": {
           "xaxis": {
            "backgroundcolor": "rgb(17,17,17)",
            "gridcolor": "#506784",
            "gridwidth": 2,
            "linecolor": "#506784",
            "showbackground": true,
            "ticks": "",
            "zerolinecolor": "#C8D4E3"
           },
           "yaxis": {
            "backgroundcolor": "rgb(17,17,17)",
            "gridcolor": "#506784",
            "gridwidth": 2,
            "linecolor": "#506784",
            "showbackground": true,
            "ticks": "",
            "zerolinecolor": "#C8D4E3"
           },
           "zaxis": {
            "backgroundcolor": "rgb(17,17,17)",
            "gridcolor": "#506784",
            "gridwidth": 2,
            "linecolor": "#506784",
            "showbackground": true,
            "ticks": "",
            "zerolinecolor": "#C8D4E3"
           }
          },
          "shapedefaults": {
           "line": {
            "color": "#f2f5fa"
           }
          },
          "sliderdefaults": {
           "bgcolor": "#C8D4E3",
           "bordercolor": "rgb(17,17,17)",
           "borderwidth": 1,
           "tickwidth": 0
          },
          "ternary": {
           "aaxis": {
            "gridcolor": "#506784",
            "linecolor": "#506784",
            "ticks": ""
           },
           "baxis": {
            "gridcolor": "#506784",
            "linecolor": "#506784",
            "ticks": ""
           },
           "bgcolor": "rgb(17,17,17)",
           "caxis": {
            "gridcolor": "#506784",
            "linecolor": "#506784",
            "ticks": ""
           }
          },
          "title": {
           "x": 0.05
          },
          "updatemenudefaults": {
           "bgcolor": "#506784",
           "borderwidth": 0
          },
          "xaxis": {
           "automargin": true,
           "gridcolor": "#283442",
           "linecolor": "#506784",
           "ticks": "",
           "title": {
            "standoff": 15
           },
           "zerolinecolor": "#283442",
           "zerolinewidth": 2
          },
          "yaxis": {
           "automargin": true,
           "gridcolor": "#283442",
           "linecolor": "#506784",
           "ticks": "",
           "title": {
            "standoff": 15
           },
           "zerolinecolor": "#283442",
           "zerolinewidth": 2
          }
         }
        },
        "title": {
         "text": "Combined Entropy–Complexity Plots for Folder data/genres_30sec/hiphop"
        },
        "width": 1200,
        "xaxis": {
         "anchor": "y",
         "domain": [
          0,
          0.45
         ],
         "range": [
          0,
          1
         ]
        },
        "xaxis2": {
         "anchor": "y2",
         "domain": [
          0.55,
          1
         ],
         "range": [
          0,
          1
         ]
        },
        "xaxis3": {
         "anchor": "y3",
         "domain": [
          0,
          0.45
         ],
         "range": [
          0,
          1
         ]
        },
        "xaxis4": {
         "anchor": "y4",
         "domain": [
          0.55,
          1
         ],
         "range": [
          0,
          1
         ]
        },
        "xaxis5": {
         "anchor": "y5",
         "domain": [
          0,
          0.45
         ],
         "range": [
          0,
          1
         ]
        },
        "xaxis6": {
         "anchor": "y6",
         "domain": [
          0.55,
          1
         ],
         "range": [
          0,
          1
         ]
        },
        "yaxis": {
         "anchor": "x",
         "domain": [
          0.7777777777777778,
          1
         ],
         "range": [
          0,
          1
         ]
        },
        "yaxis2": {
         "anchor": "x2",
         "domain": [
          0.7777777777777778,
          1
         ],
         "range": [
          0,
          1
         ]
        },
        "yaxis3": {
         "anchor": "x3",
         "domain": [
          0.3888888888888889,
          0.6111111111111112
         ],
         "range": [
          0,
          1
         ]
        },
        "yaxis4": {
         "anchor": "x4",
         "domain": [
          0.3888888888888889,
          0.6111111111111112
         ],
         "range": [
          0,
          1
         ]
        },
        "yaxis5": {
         "anchor": "x5",
         "domain": [
          0,
          0.22222222222222224
         ],
         "range": [
          0,
          1
         ]
        },
        "yaxis6": {
         "anchor": "x6",
         "domain": [
          0,
          0.22222222222222224
         ],
         "range": [
          0,
          1
         ]
        }
       }
      }
     },
     "metadata": {},
     "output_type": "display_data"
    }
   ],
   "source": [
    "folder_path = \"data/genres_30sec/hiphop\"\n",
    "start = 4\n",
    "end = 10\n",
    "grid = 2\n",
    "folder = \"plots\"\n",
    "plot_graph(folder_path, start, end, grid, folder)"
   ]
  },
  {
   "cell_type": "markdown",
   "metadata": {},
   "source": [
    "Jazz"
   ]
  },
  {
   "cell_type": "code",
   "execution_count": null,
   "metadata": {},
   "outputs": [
    {
     "name": "stderr",
     "output_type": "stream",
     "text": [
      "Processing audio files in data/genres_30sec/jazz with dim 4 and hop 3:  44%|████▍     | 44/100 [00:25<00:32,  1.74it/s]Error processing file data/genres_30sec/jazz/jazz.00054.wav: File format b'\\xcb\\x15\\x1e\\x16' not understood. Only 'RIFF', 'RIFX', and 'RF64' supported.\n",
      "Traceback (most recent call last):\n",
      "  File \"/var/folders/ww/ltx99cqx36v87nl20lt5x_zc0000gn/T/ipykernel_9172/2814569364.py\", line 58, in process_folder\n",
      "    H_norm, comp = process_audio(file_path, window_size, hop_size)\n",
      "                   ^^^^^^^^^^^^^^^^^^^^^^^^^^^^^^^^^^^^^^^^^^^^^^^\n",
      "  File \"/var/folders/ww/ltx99cqx36v87nl20lt5x_zc0000gn/T/ipykernel_9172/2814569364.py\", line 4, in process_audio\n",
      "    z_vectors = create_z_vectors(file_path, window_size, hop_size)\n",
      "                ^^^^^^^^^^^^^^^^^^^^^^^^^^^^^^^^^^^^^^^^^^^^^^^^^^\n",
      "  File \"/var/folders/ww/ltx99cqx36v87nl20lt5x_zc0000gn/T/ipykernel_9172/3619294251.py\", line 15, in create_z_vectors\n",
      "    sr, data = wavfile.read(file_path)\n",
      "               ^^^^^^^^^^^^^^^^^^^^^^^\n",
      "  File \"/Users/mverzhbitskiy/Documents/GitHub/musicAnalysis/venv/lib/python3.11/site-packages/scipy/io/wavfile.py\", line 677, in read\n",
      "    file_size, is_big_endian, is_rf64 = _read_riff_chunk(fid)\n",
      "                                        ^^^^^^^^^^^^^^^^^^^^^\n",
      "  File \"/Users/mverzhbitskiy/Documents/GitHub/musicAnalysis/venv/lib/python3.11/site-packages/scipy/io/wavfile.py\", line 536, in _read_riff_chunk\n",
      "    raise ValueError(f\"File format {repr(str1)} not understood. Only \"\n",
      "ValueError: File format b'\\xcb\\x15\\x1e\\x16' not understood. Only 'RIFF', 'RIFX', and 'RF64' supported.\n",
      "Processing audio files in data/genres_30sec/jazz with dim 4 and hop 3: 100%|██████████| 100/100 [00:56<00:00,  1.78it/s]\n",
      "Processing audio files in data/genres_30sec/jazz with dim 5 and hop 4:  44%|████▍     | 44/100 [00:19<00:25,  2.23it/s]Error processing file data/genres_30sec/jazz/jazz.00054.wav: File format b'\\xcb\\x15\\x1e\\x16' not understood. Only 'RIFF', 'RIFX', and 'RF64' supported.\n",
      "Traceback (most recent call last):\n",
      "  File \"/var/folders/ww/ltx99cqx36v87nl20lt5x_zc0000gn/T/ipykernel_9172/2814569364.py\", line 58, in process_folder\n",
      "    H_norm, comp = process_audio(file_path, window_size, hop_size)\n",
      "                   ^^^^^^^^^^^^^^^^^^^^^^^^^^^^^^^^^^^^^^^^^^^^^^^\n",
      "  File \"/var/folders/ww/ltx99cqx36v87nl20lt5x_zc0000gn/T/ipykernel_9172/2814569364.py\", line 4, in process_audio\n",
      "    z_vectors = create_z_vectors(file_path, window_size, hop_size)\n",
      "                ^^^^^^^^^^^^^^^^^^^^^^^^^^^^^^^^^^^^^^^^^^^^^^^^^^\n",
      "  File \"/var/folders/ww/ltx99cqx36v87nl20lt5x_zc0000gn/T/ipykernel_9172/3619294251.py\", line 15, in create_z_vectors\n",
      "    sr, data = wavfile.read(file_path)\n",
      "               ^^^^^^^^^^^^^^^^^^^^^^^\n",
      "  File \"/Users/mverzhbitskiy/Documents/GitHub/musicAnalysis/venv/lib/python3.11/site-packages/scipy/io/wavfile.py\", line 677, in read\n",
      "    file_size, is_big_endian, is_rf64 = _read_riff_chunk(fid)\n",
      "                                        ^^^^^^^^^^^^^^^^^^^^^\n",
      "  File \"/Users/mverzhbitskiy/Documents/GitHub/musicAnalysis/venv/lib/python3.11/site-packages/scipy/io/wavfile.py\", line 536, in _read_riff_chunk\n",
      "    raise ValueError(f\"File format {repr(str1)} not understood. Only \"\n",
      "ValueError: File format b'\\xcb\\x15\\x1e\\x16' not understood. Only 'RIFF', 'RIFX', and 'RF64' supported.\n",
      "Processing audio files in data/genres_30sec/jazz with dim 5 and hop 4: 100%|██████████| 100/100 [00:43<00:00,  2.27it/s]\n",
      "Processing audio files in data/genres_30sec/jazz with dim 6 and hop 5:  44%|████▍     | 44/100 [00:16<00:20,  2.71it/s]Error processing file data/genres_30sec/jazz/jazz.00054.wav: File format b'\\xcb\\x15\\x1e\\x16' not understood. Only 'RIFF', 'RIFX', and 'RF64' supported.\n",
      "Traceback (most recent call last):\n",
      "  File \"/var/folders/ww/ltx99cqx36v87nl20lt5x_zc0000gn/T/ipykernel_9172/2814569364.py\", line 58, in process_folder\n",
      "    H_norm, comp = process_audio(file_path, window_size, hop_size)\n",
      "                   ^^^^^^^^^^^^^^^^^^^^^^^^^^^^^^^^^^^^^^^^^^^^^^^\n",
      "  File \"/var/folders/ww/ltx99cqx36v87nl20lt5x_zc0000gn/T/ipykernel_9172/2814569364.py\", line 4, in process_audio\n",
      "    z_vectors = create_z_vectors(file_path, window_size, hop_size)\n",
      "                ^^^^^^^^^^^^^^^^^^^^^^^^^^^^^^^^^^^^^^^^^^^^^^^^^^\n",
      "  File \"/var/folders/ww/ltx99cqx36v87nl20lt5x_zc0000gn/T/ipykernel_9172/3619294251.py\", line 15, in create_z_vectors\n",
      "    sr, data = wavfile.read(file_path)\n",
      "               ^^^^^^^^^^^^^^^^^^^^^^^\n",
      "  File \"/Users/mverzhbitskiy/Documents/GitHub/musicAnalysis/venv/lib/python3.11/site-packages/scipy/io/wavfile.py\", line 677, in read\n",
      "    file_size, is_big_endian, is_rf64 = _read_riff_chunk(fid)\n",
      "                                        ^^^^^^^^^^^^^^^^^^^^^\n",
      "  File \"/Users/mverzhbitskiy/Documents/GitHub/musicAnalysis/venv/lib/python3.11/site-packages/scipy/io/wavfile.py\", line 536, in _read_riff_chunk\n",
      "    raise ValueError(f\"File format {repr(str1)} not understood. Only \"\n",
      "ValueError: File format b'\\xcb\\x15\\x1e\\x16' not understood. Only 'RIFF', 'RIFX', and 'RF64' supported.\n",
      "Processing audio files in data/genres_30sec/jazz with dim 6 and hop 5: 100%|██████████| 100/100 [00:36<00:00,  2.76it/s]\n",
      "Processing audio files in data/genres_30sec/jazz with dim 7 and hop 6:  44%|████▍     | 44/100 [00:14<00:18,  3.08it/s]Error processing file data/genres_30sec/jazz/jazz.00054.wav: File format b'\\xcb\\x15\\x1e\\x16' not understood. Only 'RIFF', 'RIFX', and 'RF64' supported.\n",
      "Traceback (most recent call last):\n",
      "  File \"/var/folders/ww/ltx99cqx36v87nl20lt5x_zc0000gn/T/ipykernel_9172/2814569364.py\", line 58, in process_folder\n",
      "    H_norm, comp = process_audio(file_path, window_size, hop_size)\n",
      "                   ^^^^^^^^^^^^^^^^^^^^^^^^^^^^^^^^^^^^^^^^^^^^^^^\n",
      "  File \"/var/folders/ww/ltx99cqx36v87nl20lt5x_zc0000gn/T/ipykernel_9172/2814569364.py\", line 4, in process_audio\n",
      "    z_vectors = create_z_vectors(file_path, window_size, hop_size)\n",
      "                ^^^^^^^^^^^^^^^^^^^^^^^^^^^^^^^^^^^^^^^^^^^^^^^^^^\n",
      "  File \"/var/folders/ww/ltx99cqx36v87nl20lt5x_zc0000gn/T/ipykernel_9172/3619294251.py\", line 15, in create_z_vectors\n",
      "    sr, data = wavfile.read(file_path)\n",
      "               ^^^^^^^^^^^^^^^^^^^^^^^\n",
      "  File \"/Users/mverzhbitskiy/Documents/GitHub/musicAnalysis/venv/lib/python3.11/site-packages/scipy/io/wavfile.py\", line 677, in read\n",
      "    file_size, is_big_endian, is_rf64 = _read_riff_chunk(fid)\n",
      "                                        ^^^^^^^^^^^^^^^^^^^^^\n",
      "  File \"/Users/mverzhbitskiy/Documents/GitHub/musicAnalysis/venv/lib/python3.11/site-packages/scipy/io/wavfile.py\", line 536, in _read_riff_chunk\n",
      "    raise ValueError(f\"File format {repr(str1)} not understood. Only \"\n",
      "ValueError: File format b'\\xcb\\x15\\x1e\\x16' not understood. Only 'RIFF', 'RIFX', and 'RF64' supported.\n",
      "Processing audio files in data/genres_30sec/jazz with dim 7 and hop 6: 100%|██████████| 100/100 [00:32<00:00,  3.10it/s]\n",
      "Processing audio files in data/genres_30sec/jazz with dim 8 and hop 7:  44%|████▍     | 44/100 [00:13<00:17,  3.19it/s]Error processing file data/genres_30sec/jazz/jazz.00054.wav: File format b'\\xcb\\x15\\x1e\\x16' not understood. Only 'RIFF', 'RIFX', and 'RF64' supported.\n",
      "Traceback (most recent call last):\n",
      "  File \"/var/folders/ww/ltx99cqx36v87nl20lt5x_zc0000gn/T/ipykernel_9172/2814569364.py\", line 58, in process_folder\n",
      "    H_norm, comp = process_audio(file_path, window_size, hop_size)\n",
      "                   ^^^^^^^^^^^^^^^^^^^^^^^^^^^^^^^^^^^^^^^^^^^^^^^\n",
      "  File \"/var/folders/ww/ltx99cqx36v87nl20lt5x_zc0000gn/T/ipykernel_9172/2814569364.py\", line 4, in process_audio\n",
      "    z_vectors = create_z_vectors(file_path, window_size, hop_size)\n",
      "                ^^^^^^^^^^^^^^^^^^^^^^^^^^^^^^^^^^^^^^^^^^^^^^^^^^\n",
      "  File \"/var/folders/ww/ltx99cqx36v87nl20lt5x_zc0000gn/T/ipykernel_9172/3619294251.py\", line 15, in create_z_vectors\n",
      "    sr, data = wavfile.read(file_path)\n",
      "               ^^^^^^^^^^^^^^^^^^^^^^^\n",
      "  File \"/Users/mverzhbitskiy/Documents/GitHub/musicAnalysis/venv/lib/python3.11/site-packages/scipy/io/wavfile.py\", line 677, in read\n",
      "    file_size, is_big_endian, is_rf64 = _read_riff_chunk(fid)\n",
      "                                        ^^^^^^^^^^^^^^^^^^^^^\n",
      "  File \"/Users/mverzhbitskiy/Documents/GitHub/musicAnalysis/venv/lib/python3.11/site-packages/scipy/io/wavfile.py\", line 536, in _read_riff_chunk\n",
      "    raise ValueError(f\"File format {repr(str1)} not understood. Only \"\n",
      "ValueError: File format b'\\xcb\\x15\\x1e\\x16' not understood. Only 'RIFF', 'RIFX', and 'RF64' supported.\n",
      "Processing audio files in data/genres_30sec/jazz with dim 8 and hop 7: 100%|██████████| 100/100 [00:31<00:00,  3.17it/s]\n",
      "Processing audio files in data/genres_30sec/jazz with dim 9 and hop 8:  44%|████▍     | 44/100 [00:14<00:17,  3.18it/s]Error processing file data/genres_30sec/jazz/jazz.00054.wav: File format b'\\xcb\\x15\\x1e\\x16' not understood. Only 'RIFF', 'RIFX', and 'RF64' supported.\n",
      "Traceback (most recent call last):\n",
      "  File \"/var/folders/ww/ltx99cqx36v87nl20lt5x_zc0000gn/T/ipykernel_9172/2814569364.py\", line 58, in process_folder\n",
      "    H_norm, comp = process_audio(file_path, window_size, hop_size)\n",
      "                   ^^^^^^^^^^^^^^^^^^^^^^^^^^^^^^^^^^^^^^^^^^^^^^^\n",
      "  File \"/var/folders/ww/ltx99cqx36v87nl20lt5x_zc0000gn/T/ipykernel_9172/2814569364.py\", line 4, in process_audio\n",
      "    z_vectors = create_z_vectors(file_path, window_size, hop_size)\n",
      "                ^^^^^^^^^^^^^^^^^^^^^^^^^^^^^^^^^^^^^^^^^^^^^^^^^^\n",
      "  File \"/var/folders/ww/ltx99cqx36v87nl20lt5x_zc0000gn/T/ipykernel_9172/3619294251.py\", line 15, in create_z_vectors\n",
      "    sr, data = wavfile.read(file_path)\n",
      "               ^^^^^^^^^^^^^^^^^^^^^^^\n",
      "  File \"/Users/mverzhbitskiy/Documents/GitHub/musicAnalysis/venv/lib/python3.11/site-packages/scipy/io/wavfile.py\", line 677, in read\n",
      "    file_size, is_big_endian, is_rf64 = _read_riff_chunk(fid)\n",
      "                                        ^^^^^^^^^^^^^^^^^^^^^\n",
      "  File \"/Users/mverzhbitskiy/Documents/GitHub/musicAnalysis/venv/lib/python3.11/site-packages/scipy/io/wavfile.py\", line 536, in _read_riff_chunk\n",
      "    raise ValueError(f\"File format {repr(str1)} not understood. Only \"\n",
      "ValueError: File format b'\\xcb\\x15\\x1e\\x16' not understood. Only 'RIFF', 'RIFX', and 'RF64' supported.\n",
      "Processing audio files in data/genres_30sec/jazz with dim 9 and hop 8: 100%|██████████| 100/100 [00:34<00:00,  2.93it/s]\n"
     ]
    },
    {
     "data": {
      "application/vnd.plotly.v1+json": {
       "config": {
        "plotlyServerURL": "https://plot.ly"
       },
       "data": [
        {
         "hovertemplate": "Entropy: %{x}<br>Complexity: %{y}<br>File: %{text}<extra></extra>",
         "marker": {
          "color": {
           "bdata": "i5OEKtAV0D8qI8dNFwrSP+ckBo7oVNE/v0qRWveTxD9El0nzuRbQPz2xIK3PKsg/OZKl2cxewz+N/l9tA5jGPwsj83WO09E/UEbx8+Gmzz8CxKdmR0zOP7IwimbAStE/GWFFwr/P0T/UD94sU2PIP71NKN5kU9A/6Ir4jaEx0T/L81wwkWTDP/1XiyWtpNE/A2i5VaAH0T+OkdJxKMLHP0M482+Zqr4/vZWiDTciwT9rmVve5GnJP/Ux8c07Bcw/wA9xmPWpzz/5gTWTraXCPw+0NxiU98s/VzdpgaewzD/F3oQLotzHP835oKWK970/q5T/B5liwj9Iu0DG/DO/PyRtrmyrHNE/lo+ASHWbuD8sHeBfxqLDP/3/0Xl16sk/1p2tjynd0D/rTNFJ8pnQPyGj4d8wMdE/8epAzNYX0T9ci4PsIKrJP7wGjsagIdE//l94WI680T9DsLN3JoDKPwhY8PNgLtE/IBzf/JOI0D/SvdPmiJ/PP2iFieF1rqg/nAgBKg7MkD/nwKTSJn/IP1y7yYa6+Mw/RN5tHpPu0D/nf7aZf7nRPxSxWYWlac8/31GgDJeO0D8v0YcIuH2+P/k5DNkg3NA/nVvTIVJhxD+AR+IAUcqgP32Z9e8ZPa8/S22lApWi0D9o5kV1ugXRP9bEB0qQDMA/Ogug8TwCxD9aw1UgWBi9P4rnjy7fIcc/MRym5M5dvD/Sw3R6ZirNPzuDbL1lfcc/kUAYtt98wT+ah31j5rLQP9vAdgT90NE/1Za/r/52wT+fiz8li4WjP1w54e/hSL8/n4Acwlakwz9/vLpCdKDRPxif1l57PLo/GBJXG8cvxD93ZVMKF6PQPwTqMEi2ics/m7hjjBc5zT82i97B1IbRP+aj3+FdoM4/hxP+VNBgzT+QdoecI+3PP2aDJUW8S9E/4nyVRBzJ0T+XPPcjpmG9PwPnHYlhjc8/KCm23awgyT/eUxYrXfbJP5FYcvPL/M4/03Zl/MFLxz8QTGNvHFjHP5rtGJ4TQcw/R4buKjLwzz+HiDI7+1HFPyxFcU/BwNA/",
           "dtype": "f8"
          },
          "colorscale": [
           [
            0,
            "#0508b8"
           ],
           [
            0.08333333333333333,
            "#1910d8"
           ],
           [
            0.16666666666666666,
            "#3c19f0"
           ],
           [
            0.25,
            "#6b1cfb"
           ],
           [
            0.3333333333333333,
            "#981cfd"
           ],
           [
            0.4166666666666667,
            "#bf1cfd"
           ],
           [
            0.5,
            "#dd2bfd"
           ],
           [
            0.5833333333333334,
            "#f246fe"
           ],
           [
            0.6666666666666666,
            "#fc67fd"
           ],
           [
            0.75,
            "#fe88fc"
           ],
           [
            0.8333333333333334,
            "#fea5fd"
           ],
           [
            0.9166666666666666,
            "#febefe"
           ],
           [
            1,
            "#fec3fe"
           ]
          ],
          "size": 10
         },
         "mode": "markers",
         "name": "Dim = 4, Hop = 3",
         "showlegend": true,
         "text": [
          "jazz.00016.wav",
          "jazz.00002.wav",
          "jazz.00003.wav",
          "jazz.00017.wav",
          "jazz.00001.wav",
          "jazz.00015.wav",
          "jazz.00029.wav",
          "jazz.00028.wav",
          "jazz.00014.wav",
          "jazz.00000.wav",
          "jazz.00038.wav",
          "jazz.00004.wav",
          "jazz.00010.wav",
          "jazz.00011.wav",
          "jazz.00005.wav",
          "jazz.00039.wav",
          "jazz.00013.wav",
          "jazz.00007.wav",
          "jazz.00006.wav",
          "jazz.00012.wav",
          "jazz.00075.wav",
          "jazz.00061.wav",
          "jazz.00049.wav",
          "jazz.00048.wav",
          "jazz.00060.wav",
          "jazz.00074.wav",
          "jazz.00062.wav",
          "jazz.00076.wav",
          "jazz.00089.wav",
          "jazz.00088.wav",
          "jazz.00077.wav",
          "jazz.00063.wav",
          "jazz.00067.wav",
          "jazz.00073.wav",
          "jazz.00098.wav",
          "jazz.00099.wav",
          "jazz.00072.wav",
          "jazz.00066.wav",
          "jazz.00058.wav",
          "jazz.00070.wav",
          "jazz.00064.wav",
          "jazz.00065.wav",
          "jazz.00071.wav",
          "jazz.00059.wav",
          "jazz.00040.wav",
          "jazz.00068.wav",
          "jazz.00097.wav",
          "jazz.00083.wav",
          "jazz.00082.wav",
          "jazz.00096.wav",
          "jazz.00069.wav",
          "jazz.00041.wav",
          "jazz.00055.wav",
          "jazz.00043.wav",
          "jazz.00057.wav",
          "jazz.00080.wav",
          "jazz.00094.wav",
          "jazz.00095.wav",
          "jazz.00081.wav",
          "jazz.00056.wav",
          "jazz.00042.wav",
          "jazz.00046.wav",
          "jazz.00052.wav",
          "jazz.00085.wav",
          "jazz.00091.wav",
          "jazz.00090.wav",
          "jazz.00084.wav",
          "jazz.00053.wav",
          "jazz.00047.wav",
          "jazz.00079.wav",
          "jazz.00051.wav",
          "jazz.00045.wav",
          "jazz.00092.wav",
          "jazz.00086.wav",
          "jazz.00087.wav",
          "jazz.00093.wav",
          "jazz.00044.wav",
          "jazz.00050.wav",
          "jazz.00078.wav",
          "jazz.00037.wav",
          "jazz.00023.wav",
          "jazz.00022.wav",
          "jazz.00036.wav",
          "jazz.00020.wav",
          "jazz.00034.wav",
          "jazz.00008.wav",
          "jazz.00009.wav",
          "jazz.00035.wav",
          "jazz.00021.wav",
          "jazz.00019.wav",
          "jazz.00025.wav",
          "jazz.00031.wav",
          "jazz.00030.wav",
          "jazz.00024.wav",
          "jazz.00018.wav",
          "jazz.00032.wav",
          "jazz.00026.wav",
          "jazz.00027.wav",
          "jazz.00033.wav"
         ],
         "type": "scatter",
         "x": {
          "bdata": "qiT7iykO5T+XdnaIjmXhPzVtM4SBPuE/5JAcq5/b6j+C+NySZ9fkP4I5FhOsZ+k/033Tc2F36z/uqkL6yQDqP/8yJuR+JeE/Omk6Xx9P5T+H9bKkf/TmP2bXY7vcuuE/MjExuKm24D89Y425m0/pP/dvz19ub+Q/FKLgg4wc5T/IQjzWlCbrP4SgxAGMm+E/cVfrV6AY5D/j4ll6O5XpP771hOp0K+w/0GtFucDs6z9q7x4b6VToP1N1fINuHug/GB4Oms4n5T+YAXCSnjfrP8b0aMNNw+c/LDa/ZZ3r5j+YlzBCQinpPz1Sc1dMFew/ijLehPlm6z8eu43XalvsPyylKBby2eM/XTJIsW4O7T+fWLo3f0XrP2uhSt82fOg/fqtzI0Kp5D9QZpLDtR3lP/qp7yIipOQ/kJVg8JW24j/HCoKYE8ToP+/EZvLfKuU/wzbXXcZo4T8oj4dmAbjnPzyUU4cgyeM/mhyAiTcd5T9ibx8cfo/kPwF8dinrt+4/ASU2TzeQ7z+pcI4IslrpP1kcUbOpF+c/KEik7TnI5T8aZQJ66hrhPxiewYt9OOY/9CTPUDJy5D9IWCg1mYjsP2CQh5C6xOI/WCNIbdzT6j8R3BCWphTvPzeVQQN5VO4/IAccc2YE5T8g0vvvRYXkP7kfNUuIZuw/dhjo89gw6z9BZVpEGnXsP19D34GNQ+k/bKsvSMLJ7D9gbXTafvvnPw0ak1ii+uk/sJ0n5UnQ6z+1IQ5HLpXkP++or8cqSuE/qNUcXcdU6z8l9/Sl+wLvPyJ9zUmc2+s/5LGpJrKk6j/yCpxOEPjhP9CkB06dBe0/s/HyF+mY6j92jygN0GDkP/t/tkQ9Nug/EkLDTLpx5j/XrMEalVjkPxKT8ayAW+Y/fVOrSuTq5z+Ncwx6SrPlP+kFJW/kA+A/0FYLxfP94D/2mMIwi/zsP7ZhXI1YhuU/YIqziVH/6D+RO3WmmMPoP30FMN5u8OY/3RQ6444r6j8k0jI4jR/qP3wK0EBzbuc/5CPoSBED5T+roGX2wcfqPypNv8+oheQ/",
          "dtype": "f8"
         },
         "xaxis": "x",
         "y": {
          "bdata": "i5OEKtAV0D8qI8dNFwrSP+ckBo7oVNE/v0qRWveTxD9El0nzuRbQPz2xIK3PKsg/OZKl2cxewz+N/l9tA5jGPwsj83WO09E/UEbx8+Gmzz8CxKdmR0zOP7IwimbAStE/GWFFwr/P0T/UD94sU2PIP71NKN5kU9A/6Ir4jaEx0T/L81wwkWTDP/1XiyWtpNE/A2i5VaAH0T+OkdJxKMLHP0M482+Zqr4/vZWiDTciwT9rmVve5GnJP/Ux8c07Bcw/wA9xmPWpzz/5gTWTraXCPw+0NxiU98s/VzdpgaewzD/F3oQLotzHP835oKWK970/q5T/B5liwj9Iu0DG/DO/PyRtrmyrHNE/lo+ASHWbuD8sHeBfxqLDP/3/0Xl16sk/1p2tjynd0D/rTNFJ8pnQPyGj4d8wMdE/8epAzNYX0T9ci4PsIKrJP7wGjsagIdE//l94WI680T9DsLN3JoDKPwhY8PNgLtE/IBzf/JOI0D/SvdPmiJ/PP2iFieF1rqg/nAgBKg7MkD/nwKTSJn/IP1y7yYa6+Mw/RN5tHpPu0D/nf7aZf7nRPxSxWYWlac8/31GgDJeO0D8v0YcIuH2+P/k5DNkg3NA/nVvTIVJhxD+AR+IAUcqgP32Z9e8ZPa8/S22lApWi0D9o5kV1ugXRP9bEB0qQDMA/Ogug8TwCxD9aw1UgWBi9P4rnjy7fIcc/MRym5M5dvD/Sw3R6ZirNPzuDbL1lfcc/kUAYtt98wT+ah31j5rLQP9vAdgT90NE/1Za/r/52wT+fiz8li4WjP1w54e/hSL8/n4Acwlakwz9/vLpCdKDRPxif1l57PLo/GBJXG8cvxD93ZVMKF6PQPwTqMEi2ics/m7hjjBc5zT82i97B1IbRP+aj3+FdoM4/hxP+VNBgzT+QdoecI+3PP2aDJUW8S9E/4nyVRBzJ0T+XPPcjpmG9PwPnHYlhjc8/KCm23awgyT/eUxYrXfbJP5FYcvPL/M4/03Zl/MFLxz8QTGNvHFjHP5rtGJ4TQcw/R4buKjLwzz+HiDI7+1HFPyxFcU/BwNA/",
          "dtype": "f8"
         },
         "yaxis": "y"
        },
        {
         "hovertemplate": "Entropy: %{x}<br>Complexity: %{y}<br>File: %{text}<extra></extra>",
         "marker": {
          "color": {
           "bdata": "uJ35h+Rq0z/ubL6xCXDUPzO/2Xw339I/x1XQujIvzT8A0vd0/EPTPxsxoEgfRNA/Zz9SBQJQzD+135azESbPP5/VFhs66NM/rR5CP3gQ0z+ZGlW002/TP+0SrG4YENM/TRNtsKGW0z/OrwqZklnQP3/wmwXTH9M/C5mj/rB71T9OmBdIGF3MP9pnxV63y9M/GFRuEzFJ1D+m5LMWZizQP2tw9lcYTMY/MU7tmqDoyD+hBYYOpyLQPzSD+hhmf9I/oHGcPvkY0z8RNzyRD9PJP9mBZP2MJtI/iZEzVdMW0j+yVKCYFcjPP8NGAANhqsU/Ewy52jIQyj8Uh9pmIyvHP+2+G+QgKNQ/RjFMiKJawj8p5tpRarbMP9yBV6QCy9A/txZ4kfmN1D+22ZT50ZnUP/sApvSCX9U/Y2fng26X0z/+8Gd9HRjRPzPSy9JzbtU/L5TKFpDf0z/pCVPKBnHQPxYOZj5DPdQ/+YZzRuQ/1D8z3sCetBvSPzlOiRsCFbM/i4Nry/5qoT9m0QGJhGrQP7+biaX5ZtI/+XtLrwff1T+QN5DV5p/TPxDv2Qa/stM/OYN2rX3q0z8j9Ni+yD7HP+p1cngQw9I/omCg+CAezT8zdm68jMmvP5XGFmE7KLo/cxftCatg1D+epXt4FbbUP9ow6er2dMc/CZX1YVCpzD9X9vbt4zjFP38MZgHCkc4/w5q8wQ0+xT+6PpW7w4TTPxevXY2tLNA//5q/9JTtyT/EcXtPjBnUP5BSjQpv69M/JgaI/BTHyD+kqrGSViiwP+tATcRxMcY/N83ZX6+lyz/TeZNbKf7TPz4iL6eoBcQ/ALV7UZLwyz+IJ5sk3dvTPxRW2ZZTG9I/E99gQyLQ0T9eJTwOuqzVPw0atayj/9I/BgFWTdCm0z9DrgLV6eDTP/vWVuLXGNI/4FZR5xar0z9aydQ7R4zGPxLL+9uuJ9M/8AKlT8GP0D8ZOK6Mj0LRP0AW/gqJFNQ/ZDjTa6Ua0D+q0tDes0TQPytxSsEqudE/47B4oFSs0j84j1k0eI7OP5UpXHwpJdQ/",
           "dtype": "f8"
          },
          "colorscale": [
           [
            0,
            "#0508b8"
           ],
           [
            0.08333333333333333,
            "#1910d8"
           ],
           [
            0.16666666666666666,
            "#3c19f0"
           ],
           [
            0.25,
            "#6b1cfb"
           ],
           [
            0.3333333333333333,
            "#981cfd"
           ],
           [
            0.4166666666666667,
            "#bf1cfd"
           ],
           [
            0.5,
            "#dd2bfd"
           ],
           [
            0.5833333333333334,
            "#f246fe"
           ],
           [
            0.6666666666666666,
            "#fc67fd"
           ],
           [
            0.75,
            "#fe88fc"
           ],
           [
            0.8333333333333334,
            "#fea5fd"
           ],
           [
            0.9166666666666666,
            "#febefe"
           ],
           [
            1,
            "#fec3fe"
           ]
          ],
          "size": 10
         },
         "mode": "markers",
         "name": "Dim = 5, Hop = 4",
         "showlegend": true,
         "text": [
          "jazz.00016.wav",
          "jazz.00002.wav",
          "jazz.00003.wav",
          "jazz.00017.wav",
          "jazz.00001.wav",
          "jazz.00015.wav",
          "jazz.00029.wav",
          "jazz.00028.wav",
          "jazz.00014.wav",
          "jazz.00000.wav",
          "jazz.00038.wav",
          "jazz.00004.wav",
          "jazz.00010.wav",
          "jazz.00011.wav",
          "jazz.00005.wav",
          "jazz.00039.wav",
          "jazz.00013.wav",
          "jazz.00007.wav",
          "jazz.00006.wav",
          "jazz.00012.wav",
          "jazz.00075.wav",
          "jazz.00061.wav",
          "jazz.00049.wav",
          "jazz.00048.wav",
          "jazz.00060.wav",
          "jazz.00074.wav",
          "jazz.00062.wav",
          "jazz.00076.wav",
          "jazz.00089.wav",
          "jazz.00088.wav",
          "jazz.00077.wav",
          "jazz.00063.wav",
          "jazz.00067.wav",
          "jazz.00073.wav",
          "jazz.00098.wav",
          "jazz.00099.wav",
          "jazz.00072.wav",
          "jazz.00066.wav",
          "jazz.00058.wav",
          "jazz.00070.wav",
          "jazz.00064.wav",
          "jazz.00065.wav",
          "jazz.00071.wav",
          "jazz.00059.wav",
          "jazz.00040.wav",
          "jazz.00068.wav",
          "jazz.00097.wav",
          "jazz.00083.wav",
          "jazz.00082.wav",
          "jazz.00096.wav",
          "jazz.00069.wav",
          "jazz.00041.wav",
          "jazz.00055.wav",
          "jazz.00043.wav",
          "jazz.00057.wav",
          "jazz.00080.wav",
          "jazz.00094.wav",
          "jazz.00095.wav",
          "jazz.00081.wav",
          "jazz.00056.wav",
          "jazz.00042.wav",
          "jazz.00046.wav",
          "jazz.00052.wav",
          "jazz.00085.wav",
          "jazz.00091.wav",
          "jazz.00090.wav",
          "jazz.00084.wav",
          "jazz.00053.wav",
          "jazz.00047.wav",
          "jazz.00079.wav",
          "jazz.00051.wav",
          "jazz.00045.wav",
          "jazz.00092.wav",
          "jazz.00086.wav",
          "jazz.00087.wav",
          "jazz.00093.wav",
          "jazz.00044.wav",
          "jazz.00050.wav",
          "jazz.00078.wav",
          "jazz.00037.wav",
          "jazz.00023.wav",
          "jazz.00022.wav",
          "jazz.00036.wav",
          "jazz.00020.wav",
          "jazz.00034.wav",
          "jazz.00008.wav",
          "jazz.00009.wav",
          "jazz.00035.wav",
          "jazz.00021.wav",
          "jazz.00019.wav",
          "jazz.00025.wav",
          "jazz.00031.wav",
          "jazz.00030.wav",
          "jazz.00024.wav",
          "jazz.00018.wav",
          "jazz.00032.wav",
          "jazz.00026.wav",
          "jazz.00027.wav",
          "jazz.00033.wav"
         ],
         "type": "scatter",
         "x": {
          "bdata": "oQxuxNB84z8wdOSjWRrfP7fdcycAn94/ebQ/so236T/eAz7kdULjP7PuMjfqH+g/pRNxs3uO6j/08cLuwbLoP+JNcil0q94/bWG93bHU4z8n86uL7pnlP26T1yVAuN8/yZW0Xdy53T+uyU8vIP7nP2xbjjIjyuI/oI2xtqiJ4z9iUX2tyNnpP3DVj+/piN8/L6MYV+2B4j98ohMtnEjoP2XQZmnoPus/7vooGeEW6z8HaF6pRZ7mP5VbeiVm1+Y/LpQf49OX4z/aPh2WbTfqP1aJ0vSReOY/ULupoShn5T8tP9u2MM7nP7nrIyBl3eo/VW3UOyyA6j8L7ogU4ozrP78LL8EaNeI/G7nlmSlN7D8vWspNxh7qP/7G/DIc9+Y/EEElr0oY4z/C5HS6/5zjPxLTItIQCeM/LuE74Pn34D+lv+kqEHXnPwC5SIc/mOM/E14hqg0f3z+NeKhXj/3lP3vr935xHeI/Hgi8SVR64z9eSkF1s5XiP6aS+0Hvbe4/s0EINi9I7z+TQ1skwBboP7gu7sp8r+U/jrvb+tk45D+mArTgm4DeP/1gr+j5w+Q/BDljQnTU4j8QuSF9SsjrP1/Yimnf5uA/r8NRo+qJ6T+FeqqwaYfuP8GguA35wO0/X1hQSbRX4z+BNSYBbO7iP4PVAw7ktOs/ah+/DR1V6j+x6MlTwIXrP1hG5tLRyOc/ffi/whka7D8HffohTrPmPzpkslBC6+g/EaoVKHrs6j/MzAuaNvXiP0o9kN/A294/XWUzvWz26T+8XUjxIMTuPwC8jG2fa+o/PkJpSxFG6T8FzDmxBjHgP0wjrbz1SOw/exrHJhN16T9biIt/J8niP+gT0Ytb3uY/YxDwdAef5D/gcFWu6bTiP+xyBsOwvOQ/kbnoJeee5j/YA/U8vTjkP8e2hD41B9w/WOCAcwhF3j+N+iPIS2XsP3VJIUZn6OM/8IEyErqo5z8+76mqgnLnP4pNhoozlOU/fUib7pYU6T/sW5WUAA/pP6B3utXW8uU/VD3WRAdt4z81A3iM1LbpPyJFw/ta5eI/",
          "dtype": "f8"
         },
         "xaxis": "x2",
         "y": {
          "bdata": "uJ35h+Rq0z/ubL6xCXDUPzO/2Xw339I/x1XQujIvzT8A0vd0/EPTPxsxoEgfRNA/Zz9SBQJQzD+135azESbPP5/VFhs66NM/rR5CP3gQ0z+ZGlW002/TP+0SrG4YENM/TRNtsKGW0z/OrwqZklnQP3/wmwXTH9M/C5mj/rB71T9OmBdIGF3MP9pnxV63y9M/GFRuEzFJ1D+m5LMWZizQP2tw9lcYTMY/MU7tmqDoyD+hBYYOpyLQPzSD+hhmf9I/oHGcPvkY0z8RNzyRD9PJP9mBZP2MJtI/iZEzVdMW0j+yVKCYFcjPP8NGAANhqsU/Ewy52jIQyj8Uh9pmIyvHP+2+G+QgKNQ/RjFMiKJawj8p5tpRarbMP9yBV6QCy9A/txZ4kfmN1D+22ZT50ZnUP/sApvSCX9U/Y2fng26X0z/+8Gd9HRjRPzPSy9JzbtU/L5TKFpDf0z/pCVPKBnHQPxYOZj5DPdQ/+YZzRuQ/1D8z3sCetBvSPzlOiRsCFbM/i4Nry/5qoT9m0QGJhGrQP7+biaX5ZtI/+XtLrwff1T+QN5DV5p/TPxDv2Qa/stM/OYN2rX3q0z8j9Ni+yD7HP+p1cngQw9I/omCg+CAezT8zdm68jMmvP5XGFmE7KLo/cxftCatg1D+epXt4FbbUP9ow6er2dMc/CZX1YVCpzD9X9vbt4zjFP38MZgHCkc4/w5q8wQ0+xT+6PpW7w4TTPxevXY2tLNA//5q/9JTtyT/EcXtPjBnUP5BSjQpv69M/JgaI/BTHyD+kqrGSViiwP+tATcRxMcY/N83ZX6+lyz/TeZNbKf7TPz4iL6eoBcQ/ALV7UZLwyz+IJ5sk3dvTPxRW2ZZTG9I/E99gQyLQ0T9eJTwOuqzVPw0atayj/9I/BgFWTdCm0z9DrgLV6eDTP/vWVuLXGNI/4FZR5xar0z9aydQ7R4zGPxLL+9uuJ9M/8AKlT8GP0D8ZOK6Mj0LRP0AW/gqJFNQ/ZDjTa6Ua0D+q0tDes0TQPytxSsEqudE/47B4oFSs0j84j1k0eI7OP5UpXHwpJdQ/",
          "dtype": "f8"
         },
         "yaxis": "y2"
        },
        {
         "hovertemplate": "Entropy: %{x}<br>Complexity: %{y}<br>File: %{text}<extra></extra>",
         "marker": {
          "color": {
           "bdata": "3c6ngWaI1j9YMuLbTEvWP5DQYYkwUdQ/ldFRESIL0z+o9IwYITjWP39KsbBIl9Q/oiT5q97f0j+R6sX2R+vTP5lM3xJWqdU/Jx/zhjD+1T8EyPy6QmjXP1KF70K4tNQ/+NBFrO//1D9jO/Rr9pnUP7IE9BALv9U/2LQgw6Yn2T8PZT4+F87SP6qFIW8Ft9U/XDWRAqsu1z8gZbo1K3XUP8b/JAJSVM0/iZ5yddOq0D9RrFqK6T3TPw/Mwvp139Y/N7RaaDkJ1j94reMJy2fQP4A6D+k4ENY/uMM5fWya1T+9GeYoXqDTP7P9VXjAU8w/VSwzTQrz0D9fOVRLWyrPP0q1iqxovdY/V/N5EF/AyD/xZluHmuXSPz4hV52IjdQ/8WOvfNXb1z+tGIUCtSDYP7qSCRImtNg/fYraoYLU1T/EAhvfyF3VP84XtxKRH9k/RnzLVky91T/a/shFCDPTPwggGUUU09Y/F0Twj+qW1z9iE3v2uTnUP47KKWwTwLs/Aj6sUVVXrT/9NhSsjMbUP30w1eXA8NU/GfnMfEXS2T8VN9PRez7VP2vzuGzEUNc/BoTR363m1j9RvEhxl4zPP7u5I/vYfNQ/huTjcJsE0z/FeF6aD1C5P9uJBUwJYcM/2esOV3Sx1z8puPHa2QbYP4aHuWs6fM8/iugT3i+h0j9EiWdp8CnMPz8hEMg02tI/Dt0Yj3GazD/dwQdRnSnYP95WQ0ccwtQ/V26ZLI4r0T9Rhlvu1h/XP7P1A/BewtU/sJbFQ2vFzz+VfJukf2S4P5U5PmipG8w/6A0QSP3t0T+7LAmH8QPWPwAYWCnh18s/+hvTpmuq0T+hrYtnXbPWPzcenNjUS9Y/v5pvUr+81D91Rhl/8OfYP6nTNSl7XdY/uaEI6TRR2D8e+KvrNmzXP6kDP62eFdM/5KA+14JA1T8yZHrlzDbQPx4VqaBwTtY/uN6M3rWB1D9R04wM8H/VP5jHFenqN9g/RLDIXI+a1D9RGQdLuhfVP019YKw9LNU/PbqwFEIs1T+N8nXJz+jTP4i+tvhcLNc/",
           "dtype": "f8"
          },
          "colorscale": [
           [
            0,
            "#0508b8"
           ],
           [
            0.08333333333333333,
            "#1910d8"
           ],
           [
            0.16666666666666666,
            "#3c19f0"
           ],
           [
            0.25,
            "#6b1cfb"
           ],
           [
            0.3333333333333333,
            "#981cfd"
           ],
           [
            0.4166666666666667,
            "#bf1cfd"
           ],
           [
            0.5,
            "#dd2bfd"
           ],
           [
            0.5833333333333334,
            "#f246fe"
           ],
           [
            0.6666666666666666,
            "#fc67fd"
           ],
           [
            0.75,
            "#fe88fc"
           ],
           [
            0.8333333333333334,
            "#fea5fd"
           ],
           [
            0.9166666666666666,
            "#febefe"
           ],
           [
            1,
            "#fec3fe"
           ]
          ],
          "size": 10
         },
         "mode": "markers",
         "name": "Dim = 6, Hop = 5",
         "showlegend": true,
         "text": [
          "jazz.00016.wav",
          "jazz.00002.wav",
          "jazz.00003.wav",
          "jazz.00017.wav",
          "jazz.00001.wav",
          "jazz.00015.wav",
          "jazz.00029.wav",
          "jazz.00028.wav",
          "jazz.00014.wav",
          "jazz.00000.wav",
          "jazz.00038.wav",
          "jazz.00004.wav",
          "jazz.00010.wav",
          "jazz.00011.wav",
          "jazz.00005.wav",
          "jazz.00039.wav",
          "jazz.00013.wav",
          "jazz.00007.wav",
          "jazz.00006.wav",
          "jazz.00012.wav",
          "jazz.00075.wav",
          "jazz.00061.wav",
          "jazz.00049.wav",
          "jazz.00048.wav",
          "jazz.00060.wav",
          "jazz.00074.wav",
          "jazz.00062.wav",
          "jazz.00076.wav",
          "jazz.00089.wav",
          "jazz.00088.wav",
          "jazz.00077.wav",
          "jazz.00063.wav",
          "jazz.00067.wav",
          "jazz.00073.wav",
          "jazz.00098.wav",
          "jazz.00099.wav",
          "jazz.00072.wav",
          "jazz.00066.wav",
          "jazz.00058.wav",
          "jazz.00070.wav",
          "jazz.00064.wav",
          "jazz.00065.wav",
          "jazz.00071.wav",
          "jazz.00059.wav",
          "jazz.00040.wav",
          "jazz.00068.wav",
          "jazz.00097.wav",
          "jazz.00083.wav",
          "jazz.00082.wav",
          "jazz.00096.wav",
          "jazz.00069.wav",
          "jazz.00041.wav",
          "jazz.00055.wav",
          "jazz.00043.wav",
          "jazz.00057.wav",
          "jazz.00080.wav",
          "jazz.00094.wav",
          "jazz.00095.wav",
          "jazz.00081.wav",
          "jazz.00056.wav",
          "jazz.00042.wav",
          "jazz.00046.wav",
          "jazz.00052.wav",
          "jazz.00085.wav",
          "jazz.00091.wav",
          "jazz.00090.wav",
          "jazz.00084.wav",
          "jazz.00053.wav",
          "jazz.00047.wav",
          "jazz.00079.wav",
          "jazz.00051.wav",
          "jazz.00045.wav",
          "jazz.00092.wav",
          "jazz.00086.wav",
          "jazz.00087.wav",
          "jazz.00093.wav",
          "jazz.00044.wav",
          "jazz.00050.wav",
          "jazz.00078.wav",
          "jazz.00037.wav",
          "jazz.00023.wav",
          "jazz.00022.wav",
          "jazz.00036.wav",
          "jazz.00020.wav",
          "jazz.00034.wav",
          "jazz.00008.wav",
          "jazz.00009.wav",
          "jazz.00035.wav",
          "jazz.00021.wav",
          "jazz.00019.wav",
          "jazz.00025.wav",
          "jazz.00031.wav",
          "jazz.00030.wav",
          "jazz.00024.wav",
          "jazz.00018.wav",
          "jazz.00032.wav",
          "jazz.00026.wav",
          "jazz.00027.wav",
          "jazz.00033.wav"
         ],
         "type": "scatter",
         "x": {
          "bdata": "F0pMFvRm4j+dORKGygndP/02QCO7Ntw/eQVlEyPn6D+rCUvTSz3iP0fhMUV8Kuc/+drQtLzg6T8cHoOFcb/nPxh5soTojtw/tmOXlZHW4j9jkXbgB7fkP3EtQOxubd0/4EN+TRR42z+JmmP6/AfnPxAFOkZes+E/h3kGSjqU4j8K8CMXfOHoP1dnjZToYt0/xp2kRFR64T+VFRGXzFnnP3xHKQs9m+o/jDqxfIx16j+XimBlaXPlP5lj6WVDAOY/9ZqNR3eY4j/dZMjPHn3pP89a82Xun+U/5IfDEQ9t5D8sJAbfaN3mP0njNhII8+k/uZ6rTy3U6T9BkkQJbvjqP1G7rehQHeE/Gk6smwG46z83a3DsCUjpP9vnNxQh4OU/BSZXF6Ya4j93uxUmFLLiP3Xwy++oGOI/4Vao+tbG3z9Zdnn1OZbmP57+EAFupuI/uPrjpUsL3T8NE4Z+7tzkP3JHvIeKA+E/ybH5w+FY4j90mkKb/UjhP+6dxd/WH+4/HIf1L4QD7z+RPkRLXR/nP/STJXy6z+Q/j91fRqJT4z9iE3aU/UDcPy3VLVyG3+M/HaM51H7T4T90yJxoSlHrP1G0kJR3W98/8dDXC9aQ6D+QKvWp9QDuPzmdYiAXRe0/2cOY/FE34j8ViWguWezhP8bNgVu8KOs/e1SG89PF6T9qSGMWPsnqP8/pgkjqueY/4tsmRP6m6z/fZAbJKeflPwWc16HxLeg/+YWa5ABh6j8wMtfA/e3hP485PtGou9w/MPmwRk7t6D/6Ebbt9o7uP4na5d/rPek/8HcbTYJL6D/MYKJacjzePwgIDngdues/LYpdOdGw6D/wFsWf6MfhP3WNl8C69OU/6oEqTydv4z+JtQWb8cXhP+Q0qJwKq+M/VmrQFqvQ5T8CsyoDaTvjP5SD943rm9k/GWV774gC3D+k89ArGuHrPws1864k2eI/hlRBSBe55j/zazrW3oLmP5GR795cq+Q/0QaRsodY6D/ZZZLFfEjoPx+VX1aU8OQ/jL1qzV5Z4j8q4uWT8vPoP27y55bN2OE/",
          "dtype": "f8"
         },
         "xaxis": "x3",
         "y": {
          "bdata": "3c6ngWaI1j9YMuLbTEvWP5DQYYkwUdQ/ldFRESIL0z+o9IwYITjWP39KsbBIl9Q/oiT5q97f0j+R6sX2R+vTP5lM3xJWqdU/Jx/zhjD+1T8EyPy6QmjXP1KF70K4tNQ/+NBFrO//1D9jO/Rr9pnUP7IE9BALv9U/2LQgw6Yn2T8PZT4+F87SP6qFIW8Ft9U/XDWRAqsu1z8gZbo1K3XUP8b/JAJSVM0/iZ5yddOq0D9RrFqK6T3TPw/Mwvp139Y/N7RaaDkJ1j94reMJy2fQP4A6D+k4ENY/uMM5fWya1T+9GeYoXqDTP7P9VXjAU8w/VSwzTQrz0D9fOVRLWyrPP0q1iqxovdY/V/N5EF/AyD/xZluHmuXSPz4hV52IjdQ/8WOvfNXb1z+tGIUCtSDYP7qSCRImtNg/fYraoYLU1T/EAhvfyF3VP84XtxKRH9k/RnzLVky91T/a/shFCDPTPwggGUUU09Y/F0Twj+qW1z9iE3v2uTnUP47KKWwTwLs/Aj6sUVVXrT/9NhSsjMbUP30w1eXA8NU/GfnMfEXS2T8VN9PRez7VP2vzuGzEUNc/BoTR363m1j9RvEhxl4zPP7u5I/vYfNQ/huTjcJsE0z/FeF6aD1C5P9uJBUwJYcM/2esOV3Sx1z8puPHa2QbYP4aHuWs6fM8/iugT3i+h0j9EiWdp8CnMPz8hEMg02tI/Dt0Yj3GazD/dwQdRnSnYP95WQ0ccwtQ/V26ZLI4r0T9Rhlvu1h/XP7P1A/BewtU/sJbFQ2vFzz+VfJukf2S4P5U5PmipG8w/6A0QSP3t0T+7LAmH8QPWPwAYWCnh18s/+hvTpmuq0T+hrYtnXbPWPzcenNjUS9Y/v5pvUr+81D91Rhl/8OfYP6nTNSl7XdY/uaEI6TRR2D8e+KvrNmzXP6kDP62eFdM/5KA+14JA1T8yZHrlzDbQPx4VqaBwTtY/uN6M3rWB1D9R04wM8H/VP5jHFenqN9g/RLDIXI+a1D9RGQdLuhfVP019YKw9LNU/PbqwFEIs1T+N8nXJz+jTP4i+tvhcLNc/",
          "dtype": "f8"
         },
         "yaxis": "y3"
        },
        {
         "hovertemplate": "Entropy: %{x}<br>Complexity: %{y}<br>File: %{text}<extra></extra>",
         "marker": {
          "color": {
           "bdata": "8pHVUCxU2T8gnwXZ55vXP1rv7BV4Y9U/6tNe3SmE1z/vt6fixcrYP3rxjxKdt9g/TKmCwTra1z/oBfyHnT/YPxgHeWhf0tY/Nf4xRs6j2D/j/W3urQDbPz8C0V5MGNY/fHBKg5MQ1j84IyM9GqrYP/oZBNszCdg/MB/Kcu3+2z+VE0mNJG/XPxZflX74H9c/KhmZ2vyI2T94yix797jYPx+jP3UZZ9I/XOIaMYs11T9C0tzavlLWP92Ap9zt4No/XE6KOWLR2D/O1KI+sBHUPwLhWPNj29k/Tc/sD+7i2D9FzUI88W/XP7dmkmK7tdE/pGRUe7bj1D/AA0zuwO7TP5TsCaBT8Ng/I+sF8273zz/6RHEEpWTXP6becTMXIdg/m6kS/beE2j/ySBvAKBXbP70783UyX9s/1XcaCcaf1z/T/UbPrmvZP8JvYgCl+ts/yESP2H8Z1z/o9GcxpRPWP/hEGiQH/Ng/BdYYLQdT2j+7Z+/XeiXWP3ARMxXXWsM/ADd/iLZqtz8yn+/APsnYP4eQloI5R9k/Zp07RiP63D/ELz4L1IHWPwgTBfOxfdo/Lr2arVpp2T8Byd3ZwzjUP3tTKFjZAdY/zEDdD+dm1z8ywZvrqqrCPxrxyk4x9so/kOOEOlRl2j8zy+wPdp7aP4wudPRiMNQ/IwOn7y8K1z+27A4GbhjSPw0A1VddbNY/wqYelUBj0j9RYgHiCTvcPzcqFTyOM9k/Lbwkrlib1T9qiUA6OqfZP4ce0mVGENc/DU1Mz1+W0z/r5pD5W+LBP9Dkpo6MEtE/fmd2Hm0X1j/eN8Lf7nzXP8gtrKooJNI/PXw9OTdJ1T/bVFqb/TvZP89n/m5xJ9o/IMhe+qJ+1z++hkCiy3TbP9iTJiejbdk/ism1VVRk3D89v7g4zHraP7usBCpXzdM/JKJX8Mx11j8QGW6uGRXVP678wtVcMdk/mYFI1ltI2D9TEwboIYvZP7IXdYqT3Ns/ldA4y4f32D9Wb3WPVcLZP60msnCeX9g/6Jch8u9o1z+U3/Ngub7YPxKBjiK5stk/",
           "dtype": "f8"
          },
          "colorscale": [
           [
            0,
            "#0508b8"
           ],
           [
            0.08333333333333333,
            "#1910d8"
           ],
           [
            0.16666666666666666,
            "#3c19f0"
           ],
           [
            0.25,
            "#6b1cfb"
           ],
           [
            0.3333333333333333,
            "#981cfd"
           ],
           [
            0.4166666666666667,
            "#bf1cfd"
           ],
           [
            0.5,
            "#dd2bfd"
           ],
           [
            0.5833333333333334,
            "#f246fe"
           ],
           [
            0.6666666666666666,
            "#fc67fd"
           ],
           [
            0.75,
            "#fe88fc"
           ],
           [
            0.8333333333333334,
            "#fea5fd"
           ],
           [
            0.9166666666666666,
            "#febefe"
           ],
           [
            1,
            "#fec3fe"
           ]
          ],
          "size": 10
         },
         "mode": "markers",
         "name": "Dim = 7, Hop = 6",
         "showlegend": true,
         "text": [
          "jazz.00016.wav",
          "jazz.00002.wav",
          "jazz.00003.wav",
          "jazz.00017.wav",
          "jazz.00001.wav",
          "jazz.00015.wav",
          "jazz.00029.wav",
          "jazz.00028.wav",
          "jazz.00014.wav",
          "jazz.00000.wav",
          "jazz.00038.wav",
          "jazz.00004.wav",
          "jazz.00010.wav",
          "jazz.00011.wav",
          "jazz.00005.wav",
          "jazz.00039.wav",
          "jazz.00013.wav",
          "jazz.00007.wav",
          "jazz.00006.wav",
          "jazz.00012.wav",
          "jazz.00075.wav",
          "jazz.00061.wav",
          "jazz.00049.wav",
          "jazz.00048.wav",
          "jazz.00060.wav",
          "jazz.00074.wav",
          "jazz.00062.wav",
          "jazz.00076.wav",
          "jazz.00089.wav",
          "jazz.00088.wav",
          "jazz.00077.wav",
          "jazz.00063.wav",
          "jazz.00067.wav",
          "jazz.00073.wav",
          "jazz.00098.wav",
          "jazz.00099.wav",
          "jazz.00072.wav",
          "jazz.00066.wav",
          "jazz.00058.wav",
          "jazz.00070.wav",
          "jazz.00064.wav",
          "jazz.00065.wav",
          "jazz.00071.wav",
          "jazz.00059.wav",
          "jazz.00040.wav",
          "jazz.00068.wav",
          "jazz.00097.wav",
          "jazz.00083.wav",
          "jazz.00082.wav",
          "jazz.00096.wav",
          "jazz.00069.wav",
          "jazz.00041.wav",
          "jazz.00055.wav",
          "jazz.00043.wav",
          "jazz.00057.wav",
          "jazz.00080.wav",
          "jazz.00094.wav",
          "jazz.00095.wav",
          "jazz.00081.wav",
          "jazz.00056.wav",
          "jazz.00042.wav",
          "jazz.00046.wav",
          "jazz.00052.wav",
          "jazz.00085.wav",
          "jazz.00091.wav",
          "jazz.00090.wav",
          "jazz.00084.wav",
          "jazz.00053.wav",
          "jazz.00047.wav",
          "jazz.00079.wav",
          "jazz.00051.wav",
          "jazz.00045.wav",
          "jazz.00092.wav",
          "jazz.00086.wav",
          "jazz.00087.wav",
          "jazz.00093.wav",
          "jazz.00044.wav",
          "jazz.00050.wav",
          "jazz.00078.wav",
          "jazz.00037.wav",
          "jazz.00023.wav",
          "jazz.00022.wav",
          "jazz.00036.wav",
          "jazz.00020.wav",
          "jazz.00034.wav",
          "jazz.00008.wav",
          "jazz.00009.wav",
          "jazz.00035.wav",
          "jazz.00021.wav",
          "jazz.00019.wav",
          "jazz.00025.wav",
          "jazz.00031.wav",
          "jazz.00030.wav",
          "jazz.00024.wav",
          "jazz.00018.wav",
          "jazz.00032.wav",
          "jazz.00026.wav",
          "jazz.00027.wav",
          "jazz.00033.wav"
         ],
         "type": "scatter",
         "x": {
          "bdata": "L5l76m+q4T+wZn7XbJrbP/BIF0ypjNo/Md1DxrI56D9TeRc8+XnhP69KSzF+dOY/bifDQ0E76T9JFKDKN/TmP3R8pfVN+No/R8EieQ4i4j+hK/+M2gbkP7zrqgxeyNs/OvX58uD82T9Ohf2A80HmP7Yt6aQA7eA/14KsX4/w4T/gvVXu6BDoP8I7D3Xl29s/I0+fVaPB4D8ax6NLIJTmP83jGZL6Buo/GEonhazz6T9KTnDpG4XkP+T4mZDrY+U/8dC0+CPX4T+tGgPciNroP+Oqz8hq6+Q/IrFr3Cei4z9mFW0gExHmP4f7jydPKuk/01GfpEpI6T/Cz2PMoW/qP5XN2iDVRuA/YwaxgIYq6z81EWF6L5noP8UzjlW/DuU/v2FhAv5V4T89deVvnA3iPy3z6pGJeOE/owgnOCBC3j8e4NT4HOjlPy2Yg0vYAeI/DYEILXWC2z/npdx1qPDjPynpZazbL+A/M7fRaHWL4T8k4muq2lPgP/INhamvye0/wXvl5myy7j9ogmzWVHDmP9q3HTaZHeQ/m+mKhRO54j/IJ37LXrDaP+mHOtx3LuM/s4HwWyYd4T/OpHJ93vHqPz6DrMXDp90/d9sZmynJ5z9NDtUcVXvtPwoxlonf0Ow/oyx0dgtp4T8h+tnoOijhPwJEqIuHkuo/3ExiznVY6T8pldEFixnqP/pufdoO4OU/iqxJ1DJD6z89lHLVWkvlPzMCI3+Kluc/CNaZS73u6T/gYA/IWCjhP6l02CTUPNs/RmyIOGoD6D/bFrSqa0zuP4kCaWtsO+g/EEmY46x/5z+YpEjyecDcPwiABeDnQOs/oKqCcjYL6D8CoNcvCQrhPwhpX2ByN+U/Szd2IFuI4j8E2hOSFSXhP1y4LxiA1eI/r2k/HA015T+ryM8dLYjiP9XIEnAe2Nc/jM14WQ112j/Tmms9PofrPzs3mPLvG+I//iinfRju5T+6TXsPpsXlPxp0KLH18eM/xODKGxi95z80xgrq56jnPzSJWifpJ+Q/cV3SsDqV4T/v+I4wXTvoP5siiv2mFOE/",
          "dtype": "f8"
         },
         "xaxis": "x4",
         "y": {
          "bdata": "8pHVUCxU2T8gnwXZ55vXP1rv7BV4Y9U/6tNe3SmE1z/vt6fixcrYP3rxjxKdt9g/TKmCwTra1z/oBfyHnT/YPxgHeWhf0tY/Nf4xRs6j2D/j/W3urQDbPz8C0V5MGNY/fHBKg5MQ1j84IyM9GqrYP/oZBNszCdg/MB/Kcu3+2z+VE0mNJG/XPxZflX74H9c/KhmZ2vyI2T94yix797jYPx+jP3UZZ9I/XOIaMYs11T9C0tzavlLWP92Ap9zt4No/XE6KOWLR2D/O1KI+sBHUPwLhWPNj29k/Tc/sD+7i2D9FzUI88W/XP7dmkmK7tdE/pGRUe7bj1D/AA0zuwO7TP5TsCaBT8Ng/I+sF8273zz/6RHEEpWTXP6becTMXIdg/m6kS/beE2j/ySBvAKBXbP70783UyX9s/1XcaCcaf1z/T/UbPrmvZP8JvYgCl+ts/yESP2H8Z1z/o9GcxpRPWP/hEGiQH/Ng/BdYYLQdT2j+7Z+/XeiXWP3ARMxXXWsM/ADd/iLZqtz8yn+/APsnYP4eQloI5R9k/Zp07RiP63D/ELz4L1IHWPwgTBfOxfdo/Lr2arVpp2T8Byd3ZwzjUP3tTKFjZAdY/zEDdD+dm1z8ywZvrqqrCPxrxyk4x9so/kOOEOlRl2j8zy+wPdp7aP4wudPRiMNQ/IwOn7y8K1z+27A4GbhjSPw0A1VddbNY/wqYelUBj0j9RYgHiCTvcPzcqFTyOM9k/Lbwkrlib1T9qiUA6OqfZP4ce0mVGENc/DU1Mz1+W0z/r5pD5W+LBP9Dkpo6MEtE/fmd2Hm0X1j/eN8Lf7nzXP8gtrKooJNI/PXw9OTdJ1T/bVFqb/TvZP89n/m5xJ9o/IMhe+qJ+1z++hkCiy3TbP9iTJiejbdk/ism1VVRk3D89v7g4zHraP7usBCpXzdM/JKJX8Mx11j8QGW6uGRXVP678wtVcMdk/mYFI1ltI2D9TEwboIYvZP7IXdYqT3Ns/ldA4y4f32D9Wb3WPVcLZP60msnCeX9g/6Jch8u9o1z+U3/Ngub7YPxKBjiK5stk/",
          "dtype": "f8"
         },
         "yaxis": "y4"
        },
        {
         "hovertemplate": "Entropy: %{x}<br>Complexity: %{y}<br>File: %{text}<extra></extra>",
         "marker": {
          "color": {
           "bdata": "D+/Tnlj92z9OJVaaQ2/YPxvAy1NwctY/QcjnrGZU3T8GDRTN5IDbPw7lEB88190/xaTh0r0x3j/Mdfipoo/dP6Has+ukw9c/aSze9A6q2z9Sc04J/4veP4jQu0GjUdc/gcgcuK3K1j9Oqg8MPaXdP6iwMlhdbNo/KNDkTnA63j/XaMJn5m/dP3ocyx52FNg/NolLVvCM2z9jX5dONNndP+ycExP94dk/Wpij5WtI3D+1X0BXaOzaP8TJFlZlPd8/yV3YdLat2z9UFkrYkNbaP0UifGulJN4/gHjH0sDX3D/E79lFtbzcP93r617nFdk/wm3Zq4jW2z9OMyQq21rbP6IGmzTzq9o/JwgXIEzM1z8gIfhy4DvdP6cPSbLoctw/j8mHCbCl3D+1OyOSELTdP+c1FsqKrd0/1DJ5qjNM2T9wyuHK8mHeP6xdUoFKP94/Kwumqdkb2D9/LKgLlWHaP3Sq19G0pNo/ueA5MN953D/fyb8LUXjYP2egy/5bpNE/er+OiCQzyz8emRskZrrdP+jySvOuVt0/Go8r922L3z+8Q2SydEnXPzClJ8ACr90/mqwCARfU2z/JdKP3ZM3bP1x9rxXJitc/I1e+BE0j3T/6E/0EhazRP/PIXlXGrtU/l4R/ugtv3D9fWxzpEaDcP+g6ViW6Zds/fP+OyajS3T9RK2KVO7bZPx9Oy2By59s/K4ggFPsO2j9zbPFOwhfgPxGvqY4+o94/uR1s8OHs3D9Vt0JyycXbP2MaJ4R1+Nc/6qvTocVi2j8pOBnbaB3RP8e6sYxFwtc/QuD7WEuk3D9ykUcrMb3YP+y8QA+F3Nk/c39wMZjg2z9LUuw1EojbP7/wCxakUN4/xUPqTfTN2j+9QUjDaordP3IfmA/mbNw/y1E10cof4D970gHKq4DdPyn2J6JLbNQ/16hZz4km1z/wt28t6NXbPwdT7g08+ts/PfETCWUY3T+egSHzFzTeP8gdmfNJL98/bTc575M63j+auirP9TrfP9KrQItfMNw/06YdeZkT2j+B4/RqE5TeP9T+CbNSvts/",
           "dtype": "f8"
          },
          "colorscale": [
           [
            0,
            "#0508b8"
           ],
           [
            0.08333333333333333,
            "#1910d8"
           ],
           [
            0.16666666666666666,
            "#3c19f0"
           ],
           [
            0.25,
            "#6b1cfb"
           ],
           [
            0.3333333333333333,
            "#981cfd"
           ],
           [
            0.4166666666666667,
            "#bf1cfd"
           ],
           [
            0.5,
            "#dd2bfd"
           ],
           [
            0.5833333333333334,
            "#f246fe"
           ],
           [
            0.6666666666666666,
            "#fc67fd"
           ],
           [
            0.75,
            "#fe88fc"
           ],
           [
            0.8333333333333334,
            "#fea5fd"
           ],
           [
            0.9166666666666666,
            "#febefe"
           ],
           [
            1,
            "#fec3fe"
           ]
          ],
          "size": 10
         },
         "mode": "markers",
         "name": "Dim = 8, Hop = 7",
         "showlegend": true,
         "text": [
          "jazz.00016.wav",
          "jazz.00002.wav",
          "jazz.00003.wav",
          "jazz.00017.wav",
          "jazz.00001.wav",
          "jazz.00015.wav",
          "jazz.00029.wav",
          "jazz.00028.wav",
          "jazz.00014.wav",
          "jazz.00000.wav",
          "jazz.00038.wav",
          "jazz.00004.wav",
          "jazz.00010.wav",
          "jazz.00011.wav",
          "jazz.00005.wav",
          "jazz.00039.wav",
          "jazz.00013.wav",
          "jazz.00007.wav",
          "jazz.00006.wav",
          "jazz.00012.wav",
          "jazz.00075.wav",
          "jazz.00061.wav",
          "jazz.00049.wav",
          "jazz.00048.wav",
          "jazz.00060.wav",
          "jazz.00074.wav",
          "jazz.00062.wav",
          "jazz.00076.wav",
          "jazz.00089.wav",
          "jazz.00088.wav",
          "jazz.00077.wav",
          "jazz.00063.wav",
          "jazz.00067.wav",
          "jazz.00073.wav",
          "jazz.00098.wav",
          "jazz.00099.wav",
          "jazz.00072.wav",
          "jazz.00066.wav",
          "jazz.00058.wav",
          "jazz.00070.wav",
          "jazz.00064.wav",
          "jazz.00065.wav",
          "jazz.00071.wav",
          "jazz.00059.wav",
          "jazz.00040.wav",
          "jazz.00068.wav",
          "jazz.00097.wav",
          "jazz.00083.wav",
          "jazz.00082.wav",
          "jazz.00096.wav",
          "jazz.00069.wav",
          "jazz.00041.wav",
          "jazz.00055.wav",
          "jazz.00043.wav",
          "jazz.00057.wav",
          "jazz.00080.wav",
          "jazz.00094.wav",
          "jazz.00095.wav",
          "jazz.00081.wav",
          "jazz.00056.wav",
          "jazz.00042.wav",
          "jazz.00046.wav",
          "jazz.00052.wav",
          "jazz.00085.wav",
          "jazz.00091.wav",
          "jazz.00090.wav",
          "jazz.00084.wav",
          "jazz.00053.wav",
          "jazz.00047.wav",
          "jazz.00079.wav",
          "jazz.00051.wav",
          "jazz.00045.wav",
          "jazz.00092.wav",
          "jazz.00086.wav",
          "jazz.00087.wav",
          "jazz.00093.wav",
          "jazz.00044.wav",
          "jazz.00050.wav",
          "jazz.00078.wav",
          "jazz.00037.wav",
          "jazz.00023.wav",
          "jazz.00022.wav",
          "jazz.00036.wav",
          "jazz.00020.wav",
          "jazz.00034.wav",
          "jazz.00008.wav",
          "jazz.00009.wav",
          "jazz.00035.wav",
          "jazz.00021.wav",
          "jazz.00019.wav",
          "jazz.00025.wav",
          "jazz.00031.wav",
          "jazz.00030.wav",
          "jazz.00024.wav",
          "jazz.00018.wav",
          "jazz.00032.wav",
          "jazz.00026.wav",
          "jazz.00027.wav",
          "jazz.00033.wav"
         ],
         "type": "scatter",
         "x": {
          "bdata": "N/sKr+Hz4D8csOuq9obaP/tL/B3cQNk/FU32Q8dn5z+m8zfEkM/gP7NtkFXCouU/zi3RElRu6D/8r07JsxnmPxfcywzT+dk/TFjoXGtq4T+xWj1qTV/jP0nlnFZAdNo/LBdBjsbR2D+L/EPtXHflP95jotpbKuA/qIR6Yy1i4T/wK5x27iLnP131ewe0nNo/6uPEdawb4D+ZvREWzsDlP86H1fVZCOk/IwnQ0hEq6T/p09v6l2/jP04tDbYrueQ/LKAstXQg4T+8ojVxPdznP9C3ab4CL+Q/U21ce1rY4j8JR4+krBflP/TDSR7LDug/a2uu0hJz6D8KmfwpzpTpP6Pd5XHNBN8/MghVTYI16j+jXbCoF8DnP2s6kQ5bIuQ/pCv2lPy24D8fZXczrHvhP27rmj3fDeE/5oAjGJcA3T9ToWxkwyflPxeSiaXRc+E/aGGMd+pq2j9v5no44u/iPz6gfTLw3N4/n6zHqaHN4D/CyMqKGs/eP/tKkDvc6Ow/XAlQBrfQ7T/w9csBr53lP6ZX5nRZXeM/fOkd5e004j9pj3F7p3rZP1Duyoi+jOI/UI/O2JWA4D94ns1RzTzqP+1dtD9wBNw//pmnBx7f5j9VBBnGlnDsPzomKdn07es/i4X2Ivqt4D/8xoGKEo3gP09nuOPGsOk/LsPj3CKo6D/oAdgpqQDpP76iM6Sl0eQ/tTqHQol+6j+pKf1pE6nkP1LNBNPn5OY/IQPHTG8t6T8fGm3NdXvgP6stbXiEIto/aaD6hSTV5j+ddnHbNH7tP+M9ovir4+Y/FjUXleyF5j//hwmGb5zbPwkscUahbuo/fwjsEF0S5z8xTnc5cGjgP5u08MHpgOQ/++vJHh6k4T++gUnNQMHgP+5tyHyAF+I/ARu8Qe6T5D+jecNhkN/hP7Hx0jjZhtY/CArVBiE52T/WZ/2YdPLqP1bR50wsVuE/6OHlPX8V5T8dHASI7fnkP21oytbAQ+M/jAzCYgkK5z/G7j8pmvzmP8UooPO8VOM/u6cKEEXG4D9McVMS1lrnP0f7riYNaOA/",
          "dtype": "f8"
         },
         "xaxis": "x5",
         "y": {
          "bdata": "D+/Tnlj92z9OJVaaQ2/YPxvAy1NwctY/QcjnrGZU3T8GDRTN5IDbPw7lEB88190/xaTh0r0x3j/Mdfipoo/dP6Has+ukw9c/aSze9A6q2z9Sc04J/4veP4jQu0GjUdc/gcgcuK3K1j9Oqg8MPaXdP6iwMlhdbNo/KNDkTnA63j/XaMJn5m/dP3ocyx52FNg/NolLVvCM2z9jX5dONNndP+ycExP94dk/Wpij5WtI3D+1X0BXaOzaP8TJFlZlPd8/yV3YdLat2z9UFkrYkNbaP0UifGulJN4/gHjH0sDX3D/E79lFtbzcP93r617nFdk/wm3Zq4jW2z9OMyQq21rbP6IGmzTzq9o/JwgXIEzM1z8gIfhy4DvdP6cPSbLoctw/j8mHCbCl3D+1OyOSELTdP+c1FsqKrd0/1DJ5qjNM2T9wyuHK8mHeP6xdUoFKP94/Kwumqdkb2D9/LKgLlWHaP3Sq19G0pNo/ueA5MN953D/fyb8LUXjYP2egy/5bpNE/er+OiCQzyz8emRskZrrdP+jySvOuVt0/Go8r922L3z+8Q2SydEnXPzClJ8ACr90/mqwCARfU2z/JdKP3ZM3bP1x9rxXJitc/I1e+BE0j3T/6E/0EhazRP/PIXlXGrtU/l4R/ugtv3D9fWxzpEaDcP+g6ViW6Zds/fP+OyajS3T9RK2KVO7bZPx9Oy2By59s/K4ggFPsO2j9zbPFOwhfgPxGvqY4+o94/uR1s8OHs3D9Vt0JyycXbP2MaJ4R1+Nc/6qvTocVi2j8pOBnbaB3RP8e6sYxFwtc/QuD7WEuk3D9ykUcrMb3YP+y8QA+F3Nk/c39wMZjg2z9LUuw1EojbP7/wCxakUN4/xUPqTfTN2j+9QUjDaordP3IfmA/mbNw/y1E10cof4D970gHKq4DdPyn2J6JLbNQ/16hZz4km1z/wt28t6NXbPwdT7g08+ts/PfETCWUY3T+egSHzFzTeP8gdmfNJL98/bTc575M63j+auirP9TrfP9KrQItfMNw/06YdeZkT2j+B4/RqE5TeP9T+CbNSvts/",
          "dtype": "f8"
         },
         "yaxis": "y5"
        },
        {
         "hovertemplate": "Entropy: %{x}<br>Complexity: %{y}<br>File: %{text}<extra></extra>",
         "marker": {
          "color": {
           "bdata": "R4h5gWEv3j/QC0+OGebYP/T6VdIeCtc/wm7Ge3RT4j+KUnw/5MPdP6tEP7QfvOE/kSaG4BMK4z9c4nQbctPhP3CEODLESNg/iPqoqed03j9kWRk2wtXgP7gxLbB8BNg/yAK8ircS1z9vXTtxAJPhP7rBhpLogNw/56q+T9W23z9FmWRBZ0XiP+b0Z2Mmotg/ioiXKS0T3T+cBazY3MHhP1mrfHpcjeI/rGobxnID4z8mAdOTDLjfP/8UXsQ2r+E/FBHhihoj3j9e24AWpyriP1v26nQUJOE/aOYMQbBB4D++vZQ2hy/hPy01H4JV4eE/kHEw2c+34j++sT2XAvPiP+I4bXcD8Ns/6KLZu+Sb4j9S3TfteHLiP1FtxPNJmOA/vLwPvnAo3j+g7l5UPaLfPxti4T70L98/wFNLobJ92j/66h/Fbq3hP6m1BGioyd8/lwdLtCSC2D9/l0Y5DN/ePwPsMict19s/LB1qoSz13T9Fb67CCXvaP8I4mijRUuI/4ytuaj3+4T+r/F3r2LPhP9KA+7jYneA/PkeuIiuu4D8jlLmLKpzXP39UGr5QR+A/6uLjX92j3T+g0Vi6W1fjP1wrhbaG2tg/u/gXIpYY4j/gUum9El7iP5SW0vPMv+I/VdaVJfHQ3T+8aVpmt/zdP+EmQoe35uI/23nEzJYc4z/oCK94+TXiPwoCK9OH1+A/snwmwcUQ4z+1K43UL93hPxWvFmG8feI/aSa+9iMx4z+AjDDsBHndP9FcRN4aUtg/VoAbjhZm4T/8PNFDqyziP3mIflOH3OA/nBkX7Ef84T9sQ84XXoPZP/93nPVo++I/ly0a5OcK4j/9A5VogFvdPyJ2l4JoR+E/4Dnt5Vbu3T9EviDMktDeP97943aUFd8/M9yhbx7X4T8CNK0eGuXfP0lqwj//n9Q/5Leb6DFt1z/9hQjMnC/jPziEzd5hgN4/vpxKCa8t4T/KiyivfXzhP4cw4SHt7uA/mwhQ3aZZ4j9lJ1csoaXiP6cMjdD0G+A/4/AVBGW73D8WVVHJLqLiP5IQ18fGYt0/",
           "dtype": "f8"
          },
          "colorscale": [
           [
            0,
            "#0508b8"
           ],
           [
            0.08333333333333333,
            "#1910d8"
           ],
           [
            0.16666666666666666,
            "#3c19f0"
           ],
           [
            0.25,
            "#6b1cfb"
           ],
           [
            0.3333333333333333,
            "#981cfd"
           ],
           [
            0.4166666666666667,
            "#bf1cfd"
           ],
           [
            0.5,
            "#dd2bfd"
           ],
           [
            0.5833333333333334,
            "#f246fe"
           ],
           [
            0.6666666666666666,
            "#fc67fd"
           ],
           [
            0.75,
            "#fe88fc"
           ],
           [
            0.8333333333333334,
            "#fea5fd"
           ],
           [
            0.9166666666666666,
            "#febefe"
           ],
           [
            1,
            "#fec3fe"
           ]
          ],
          "size": 10
         },
         "mode": "markers",
         "name": "Dim = 9, Hop = 8",
         "showlegend": true,
         "text": [
          "jazz.00016.wav",
          "jazz.00002.wav",
          "jazz.00003.wav",
          "jazz.00017.wav",
          "jazz.00001.wav",
          "jazz.00015.wav",
          "jazz.00029.wav",
          "jazz.00028.wav",
          "jazz.00014.wav",
          "jazz.00000.wav",
          "jazz.00038.wav",
          "jazz.00004.wav",
          "jazz.00010.wav",
          "jazz.00011.wav",
          "jazz.00005.wav",
          "jazz.00039.wav",
          "jazz.00013.wav",
          "jazz.00007.wav",
          "jazz.00006.wav",
          "jazz.00012.wav",
          "jazz.00075.wav",
          "jazz.00061.wav",
          "jazz.00049.wav",
          "jazz.00048.wav",
          "jazz.00060.wav",
          "jazz.00074.wav",
          "jazz.00062.wav",
          "jazz.00076.wav",
          "jazz.00089.wav",
          "jazz.00088.wav",
          "jazz.00077.wav",
          "jazz.00063.wav",
          "jazz.00067.wav",
          "jazz.00073.wav",
          "jazz.00098.wav",
          "jazz.00099.wav",
          "jazz.00072.wav",
          "jazz.00066.wav",
          "jazz.00058.wav",
          "jazz.00070.wav",
          "jazz.00064.wav",
          "jazz.00065.wav",
          "jazz.00071.wav",
          "jazz.00059.wav",
          "jazz.00040.wav",
          "jazz.00068.wav",
          "jazz.00097.wav",
          "jazz.00083.wav",
          "jazz.00082.wav",
          "jazz.00096.wav",
          "jazz.00069.wav",
          "jazz.00041.wav",
          "jazz.00055.wav",
          "jazz.00043.wav",
          "jazz.00057.wav",
          "jazz.00080.wav",
          "jazz.00094.wav",
          "jazz.00095.wav",
          "jazz.00081.wav",
          "jazz.00056.wav",
          "jazz.00042.wav",
          "jazz.00046.wav",
          "jazz.00052.wav",
          "jazz.00085.wav",
          "jazz.00091.wav",
          "jazz.00090.wav",
          "jazz.00084.wav",
          "jazz.00053.wav",
          "jazz.00047.wav",
          "jazz.00079.wav",
          "jazz.00051.wav",
          "jazz.00045.wav",
          "jazz.00092.wav",
          "jazz.00086.wav",
          "jazz.00087.wav",
          "jazz.00093.wav",
          "jazz.00044.wav",
          "jazz.00050.wav",
          "jazz.00078.wav",
          "jazz.00037.wav",
          "jazz.00023.wav",
          "jazz.00022.wav",
          "jazz.00036.wav",
          "jazz.00020.wav",
          "jazz.00034.wav",
          "jazz.00008.wav",
          "jazz.00009.wav",
          "jazz.00035.wav",
          "jazz.00021.wav",
          "jazz.00019.wav",
          "jazz.00025.wav",
          "jazz.00031.wav",
          "jazz.00030.wav",
          "jazz.00024.wav",
          "jazz.00018.wav",
          "jazz.00032.wav",
          "jazz.00026.wav",
          "jazz.00027.wav",
          "jazz.00033.wav"
         ],
         "type": "scatter",
         "x": {
          "bdata": "EBeeff0+4D9CE4B5/LrZP1qVoJFOB9g/mXlfshoK5j9a8jEXaxbgP7mzrVeaeuQ/8JxkwZ8K5z9/9Prx587kP6XB0wUIHNk/pu0zQbGg4D/LF11u8YziPyUu8hCcLNk/vWnqlEHe1z/dqf/VjTvkPzX/T/y3wN4/8xKUfwLX4D/7zTYjOb7lP5M7qdRgk9k/g4LZ2RPz3j+hqFvYoZDkP9ocVh47R+c/dAMaeRez5z9BAlUflBfiP9Bmcwmz2eM/ZuCP71RW4D++IgIEoTLmP7TKHyGbOOM/rGxK2qnu4T8+9a9NY8bjP4TLHd9HH+Y/KOlFrr3z5j8VrXmNTfznPxvIS5D6r90/zkmIyhQx6D+Sd7QZiFnmP+EDGvKl8eI/bJMBWUMT4D/ttCD9eOPgP60RX7btgeA//Z9Ul7na2z/23uiGMhnkP3MeNGk/5OA/8J47l7Fl2T8fh0/EfI/hP/RLaJdzit0/WpOoyh8P4D9Acax3VcjcPx4NmR9tZOo/w3o32qP26j+Xyl9ERHzkP4cbS3YTdeI/jHnNa2e24T9sWVTgUnHYPz3VZO1nx+E/aLU+0Re33z/PNUwhwsXoP9ys8OsogNo/M/sCioV85T/p3c6rMtbpP/IE+zItw+k/3BowjTzk3z8/e0wHLt/fP6GwgiWWBOg/k8Vf9mVp5z86kjBm2RPnP4Lx4U74eeM/v8TXFA/W6D/L6CtufuDjP0TMN6VayOU/YAe0M5nF5z+m5kgjEajfPwNZODFwKNk/stdHdRAK5T/cKh4d9Q7rP87UsOycxOQ/Gnrzfoci5T8dvbMmq5faP7wc/sXIr+g/rziQMmCI5T8JP6AWB3DfP7qeht14iOM/8zyzUOGQ4D8qP0wFHTvgP8ZSen66H+E/av92HIjP4z9JT5I3zDHhPx3VLY8jVtU/7fgKSRs32D/A0aTxNXHpP5wGQQfEkuA/EnyU7Srb4z/WivqlxerjP9Nkiqa0duI/adEfttHi5T+/e0SyY+TlP6BU7+JIO+I/vYVymsig3z9lX7Ky+gXmP1z0UNdSg98/",
          "dtype": "f8"
         },
         "xaxis": "x6",
         "y": {
          "bdata": "R4h5gWEv3j/QC0+OGebYP/T6VdIeCtc/wm7Ge3RT4j+KUnw/5MPdP6tEP7QfvOE/kSaG4BMK4z9c4nQbctPhP3CEODLESNg/iPqoqed03j9kWRk2wtXgP7gxLbB8BNg/yAK8ircS1z9vXTtxAJPhP7rBhpLogNw/56q+T9W23z9FmWRBZ0XiP+b0Z2Mmotg/ioiXKS0T3T+cBazY3MHhP1mrfHpcjeI/rGobxnID4z8mAdOTDLjfP/8UXsQ2r+E/FBHhihoj3j9e24AWpyriP1v26nQUJOE/aOYMQbBB4D++vZQ2hy/hPy01H4JV4eE/kHEw2c+34j++sT2XAvPiP+I4bXcD8Ns/6KLZu+Sb4j9S3TfteHLiP1FtxPNJmOA/vLwPvnAo3j+g7l5UPaLfPxti4T70L98/wFNLobJ92j/66h/Fbq3hP6m1BGioyd8/lwdLtCSC2D9/l0Y5DN/ePwPsMict19s/LB1qoSz13T9Fb67CCXvaP8I4mijRUuI/4ytuaj3+4T+r/F3r2LPhP9KA+7jYneA/PkeuIiuu4D8jlLmLKpzXP39UGr5QR+A/6uLjX92j3T+g0Vi6W1fjP1wrhbaG2tg/u/gXIpYY4j/gUum9El7iP5SW0vPMv+I/VdaVJfHQ3T+8aVpmt/zdP+EmQoe35uI/23nEzJYc4z/oCK94+TXiPwoCK9OH1+A/snwmwcUQ4z+1K43UL93hPxWvFmG8feI/aSa+9iMx4z+AjDDsBHndP9FcRN4aUtg/VoAbjhZm4T/8PNFDqyziP3mIflOH3OA/nBkX7Ef84T9sQ84XXoPZP/93nPVo++I/ly0a5OcK4j/9A5VogFvdPyJ2l4JoR+E/4Dnt5Vbu3T9EviDMktDeP97943aUFd8/M9yhbx7X4T8CNK0eGuXfP0lqwj//n9Q/5Leb6DFt1z/9hQjMnC/jPziEzd5hgN4/vpxKCa8t4T/KiyivfXzhP4cw4SHt7uA/mwhQ3aZZ4j9lJ1csoaXiP6cMjdD0G+A/4/AVBGW73D8WVVHJLqLiP5IQ18fGYt0/",
          "dtype": "f8"
         },
         "yaxis": "y6"
        }
       ],
       "layout": {
        "annotations": [
         {
          "font": {
           "size": 16
          },
          "showarrow": false,
          "text": "Dim = '4', Hop = '3'",
          "x": 0.225,
          "xanchor": "center",
          "xref": "paper",
          "y": 1,
          "yanchor": "bottom",
          "yref": "paper"
         },
         {
          "font": {
           "size": 16
          },
          "showarrow": false,
          "text": "Dim = '5', Hop = '4'",
          "x": 0.775,
          "xanchor": "center",
          "xref": "paper",
          "y": 1,
          "yanchor": "bottom",
          "yref": "paper"
         },
         {
          "font": {
           "size": 16
          },
          "showarrow": false,
          "text": "Dim = '6', Hop = '5'",
          "x": 0.225,
          "xanchor": "center",
          "xref": "paper",
          "y": 0.6111111111111112,
          "yanchor": "bottom",
          "yref": "paper"
         },
         {
          "font": {
           "size": 16
          },
          "showarrow": false,
          "text": "Dim = '7', Hop = '6'",
          "x": 0.775,
          "xanchor": "center",
          "xref": "paper",
          "y": 0.6111111111111112,
          "yanchor": "bottom",
          "yref": "paper"
         },
         {
          "font": {
           "size": 16
          },
          "showarrow": false,
          "text": "Dim = '8', Hop = '7'",
          "x": 0.225,
          "xanchor": "center",
          "xref": "paper",
          "y": 0.22222222222222224,
          "yanchor": "bottom",
          "yref": "paper"
         },
         {
          "font": {
           "size": 16
          },
          "showarrow": false,
          "text": "Dim = '9', Hop = '8'",
          "x": 0.775,
          "xanchor": "center",
          "xref": "paper",
          "y": 0.22222222222222224,
          "yanchor": "bottom",
          "yref": "paper"
         }
        ],
        "height": 1400,
        "template": {
         "data": {
          "bar": [
           {
            "error_x": {
             "color": "#f2f5fa"
            },
            "error_y": {
             "color": "#f2f5fa"
            },
            "marker": {
             "line": {
              "color": "rgb(17,17,17)",
              "width": 0.5
             },
             "pattern": {
              "fillmode": "overlay",
              "size": 10,
              "solidity": 0.2
             }
            },
            "type": "bar"
           }
          ],
          "barpolar": [
           {
            "marker": {
             "line": {
              "color": "rgb(17,17,17)",
              "width": 0.5
             },
             "pattern": {
              "fillmode": "overlay",
              "size": 10,
              "solidity": 0.2
             }
            },
            "type": "barpolar"
           }
          ],
          "carpet": [
           {
            "aaxis": {
             "endlinecolor": "#A2B1C6",
             "gridcolor": "#506784",
             "linecolor": "#506784",
             "minorgridcolor": "#506784",
             "startlinecolor": "#A2B1C6"
            },
            "baxis": {
             "endlinecolor": "#A2B1C6",
             "gridcolor": "#506784",
             "linecolor": "#506784",
             "minorgridcolor": "#506784",
             "startlinecolor": "#A2B1C6"
            },
            "type": "carpet"
           }
          ],
          "choropleth": [
           {
            "colorbar": {
             "outlinewidth": 0,
             "ticks": ""
            },
            "type": "choropleth"
           }
          ],
          "contour": [
           {
            "colorbar": {
             "outlinewidth": 0,
             "ticks": ""
            },
            "colorscale": [
             [
              0,
              "#0d0887"
             ],
             [
              0.1111111111111111,
              "#46039f"
             ],
             [
              0.2222222222222222,
              "#7201a8"
             ],
             [
              0.3333333333333333,
              "#9c179e"
             ],
             [
              0.4444444444444444,
              "#bd3786"
             ],
             [
              0.5555555555555556,
              "#d8576b"
             ],
             [
              0.6666666666666666,
              "#ed7953"
             ],
             [
              0.7777777777777778,
              "#fb9f3a"
             ],
             [
              0.8888888888888888,
              "#fdca26"
             ],
             [
              1,
              "#f0f921"
             ]
            ],
            "type": "contour"
           }
          ],
          "contourcarpet": [
           {
            "colorbar": {
             "outlinewidth": 0,
             "ticks": ""
            },
            "type": "contourcarpet"
           }
          ],
          "heatmap": [
           {
            "colorbar": {
             "outlinewidth": 0,
             "ticks": ""
            },
            "colorscale": [
             [
              0,
              "#0d0887"
             ],
             [
              0.1111111111111111,
              "#46039f"
             ],
             [
              0.2222222222222222,
              "#7201a8"
             ],
             [
              0.3333333333333333,
              "#9c179e"
             ],
             [
              0.4444444444444444,
              "#bd3786"
             ],
             [
              0.5555555555555556,
              "#d8576b"
             ],
             [
              0.6666666666666666,
              "#ed7953"
             ],
             [
              0.7777777777777778,
              "#fb9f3a"
             ],
             [
              0.8888888888888888,
              "#fdca26"
             ],
             [
              1,
              "#f0f921"
             ]
            ],
            "type": "heatmap"
           }
          ],
          "histogram": [
           {
            "marker": {
             "pattern": {
              "fillmode": "overlay",
              "size": 10,
              "solidity": 0.2
             }
            },
            "type": "histogram"
           }
          ],
          "histogram2d": [
           {
            "colorbar": {
             "outlinewidth": 0,
             "ticks": ""
            },
            "colorscale": [
             [
              0,
              "#0d0887"
             ],
             [
              0.1111111111111111,
              "#46039f"
             ],
             [
              0.2222222222222222,
              "#7201a8"
             ],
             [
              0.3333333333333333,
              "#9c179e"
             ],
             [
              0.4444444444444444,
              "#bd3786"
             ],
             [
              0.5555555555555556,
              "#d8576b"
             ],
             [
              0.6666666666666666,
              "#ed7953"
             ],
             [
              0.7777777777777778,
              "#fb9f3a"
             ],
             [
              0.8888888888888888,
              "#fdca26"
             ],
             [
              1,
              "#f0f921"
             ]
            ],
            "type": "histogram2d"
           }
          ],
          "histogram2dcontour": [
           {
            "colorbar": {
             "outlinewidth": 0,
             "ticks": ""
            },
            "colorscale": [
             [
              0,
              "#0d0887"
             ],
             [
              0.1111111111111111,
              "#46039f"
             ],
             [
              0.2222222222222222,
              "#7201a8"
             ],
             [
              0.3333333333333333,
              "#9c179e"
             ],
             [
              0.4444444444444444,
              "#bd3786"
             ],
             [
              0.5555555555555556,
              "#d8576b"
             ],
             [
              0.6666666666666666,
              "#ed7953"
             ],
             [
              0.7777777777777778,
              "#fb9f3a"
             ],
             [
              0.8888888888888888,
              "#fdca26"
             ],
             [
              1,
              "#f0f921"
             ]
            ],
            "type": "histogram2dcontour"
           }
          ],
          "mesh3d": [
           {
            "colorbar": {
             "outlinewidth": 0,
             "ticks": ""
            },
            "type": "mesh3d"
           }
          ],
          "parcoords": [
           {
            "line": {
             "colorbar": {
              "outlinewidth": 0,
              "ticks": ""
             }
            },
            "type": "parcoords"
           }
          ],
          "pie": [
           {
            "automargin": true,
            "type": "pie"
           }
          ],
          "scatter": [
           {
            "marker": {
             "line": {
              "color": "#283442"
             }
            },
            "type": "scatter"
           }
          ],
          "scatter3d": [
           {
            "line": {
             "colorbar": {
              "outlinewidth": 0,
              "ticks": ""
             }
            },
            "marker": {
             "colorbar": {
              "outlinewidth": 0,
              "ticks": ""
             }
            },
            "type": "scatter3d"
           }
          ],
          "scattercarpet": [
           {
            "marker": {
             "colorbar": {
              "outlinewidth": 0,
              "ticks": ""
             }
            },
            "type": "scattercarpet"
           }
          ],
          "scattergeo": [
           {
            "marker": {
             "colorbar": {
              "outlinewidth": 0,
              "ticks": ""
             }
            },
            "type": "scattergeo"
           }
          ],
          "scattergl": [
           {
            "marker": {
             "line": {
              "color": "#283442"
             }
            },
            "type": "scattergl"
           }
          ],
          "scattermap": [
           {
            "marker": {
             "colorbar": {
              "outlinewidth": 0,
              "ticks": ""
             }
            },
            "type": "scattermap"
           }
          ],
          "scattermapbox": [
           {
            "marker": {
             "colorbar": {
              "outlinewidth": 0,
              "ticks": ""
             }
            },
            "type": "scattermapbox"
           }
          ],
          "scatterpolar": [
           {
            "marker": {
             "colorbar": {
              "outlinewidth": 0,
              "ticks": ""
             }
            },
            "type": "scatterpolar"
           }
          ],
          "scatterpolargl": [
           {
            "marker": {
             "colorbar": {
              "outlinewidth": 0,
              "ticks": ""
             }
            },
            "type": "scatterpolargl"
           }
          ],
          "scatterternary": [
           {
            "marker": {
             "colorbar": {
              "outlinewidth": 0,
              "ticks": ""
             }
            },
            "type": "scatterternary"
           }
          ],
          "surface": [
           {
            "colorbar": {
             "outlinewidth": 0,
             "ticks": ""
            },
            "colorscale": [
             [
              0,
              "#0d0887"
             ],
             [
              0.1111111111111111,
              "#46039f"
             ],
             [
              0.2222222222222222,
              "#7201a8"
             ],
             [
              0.3333333333333333,
              "#9c179e"
             ],
             [
              0.4444444444444444,
              "#bd3786"
             ],
             [
              0.5555555555555556,
              "#d8576b"
             ],
             [
              0.6666666666666666,
              "#ed7953"
             ],
             [
              0.7777777777777778,
              "#fb9f3a"
             ],
             [
              0.8888888888888888,
              "#fdca26"
             ],
             [
              1,
              "#f0f921"
             ]
            ],
            "type": "surface"
           }
          ],
          "table": [
           {
            "cells": {
             "fill": {
              "color": "#506784"
             },
             "line": {
              "color": "rgb(17,17,17)"
             }
            },
            "header": {
             "fill": {
              "color": "#2a3f5f"
             },
             "line": {
              "color": "rgb(17,17,17)"
             }
            },
            "type": "table"
           }
          ]
         },
         "layout": {
          "annotationdefaults": {
           "arrowcolor": "#f2f5fa",
           "arrowhead": 0,
           "arrowwidth": 1
          },
          "autotypenumbers": "strict",
          "coloraxis": {
           "colorbar": {
            "outlinewidth": 0,
            "ticks": ""
           }
          },
          "colorscale": {
           "diverging": [
            [
             0,
             "#8e0152"
            ],
            [
             0.1,
             "#c51b7d"
            ],
            [
             0.2,
             "#de77ae"
            ],
            [
             0.3,
             "#f1b6da"
            ],
            [
             0.4,
             "#fde0ef"
            ],
            [
             0.5,
             "#f7f7f7"
            ],
            [
             0.6,
             "#e6f5d0"
            ],
            [
             0.7,
             "#b8e186"
            ],
            [
             0.8,
             "#7fbc41"
            ],
            [
             0.9,
             "#4d9221"
            ],
            [
             1,
             "#276419"
            ]
           ],
           "sequential": [
            [
             0,
             "#0d0887"
            ],
            [
             0.1111111111111111,
             "#46039f"
            ],
            [
             0.2222222222222222,
             "#7201a8"
            ],
            [
             0.3333333333333333,
             "#9c179e"
            ],
            [
             0.4444444444444444,
             "#bd3786"
            ],
            [
             0.5555555555555556,
             "#d8576b"
            ],
            [
             0.6666666666666666,
             "#ed7953"
            ],
            [
             0.7777777777777778,
             "#fb9f3a"
            ],
            [
             0.8888888888888888,
             "#fdca26"
            ],
            [
             1,
             "#f0f921"
            ]
           ],
           "sequentialminus": [
            [
             0,
             "#0d0887"
            ],
            [
             0.1111111111111111,
             "#46039f"
            ],
            [
             0.2222222222222222,
             "#7201a8"
            ],
            [
             0.3333333333333333,
             "#9c179e"
            ],
            [
             0.4444444444444444,
             "#bd3786"
            ],
            [
             0.5555555555555556,
             "#d8576b"
            ],
            [
             0.6666666666666666,
             "#ed7953"
            ],
            [
             0.7777777777777778,
             "#fb9f3a"
            ],
            [
             0.8888888888888888,
             "#fdca26"
            ],
            [
             1,
             "#f0f921"
            ]
           ]
          },
          "colorway": [
           "#636efa",
           "#EF553B",
           "#00cc96",
           "#ab63fa",
           "#FFA15A",
           "#19d3f3",
           "#FF6692",
           "#B6E880",
           "#FF97FF",
           "#FECB52"
          ],
          "font": {
           "color": "#f2f5fa"
          },
          "geo": {
           "bgcolor": "rgb(17,17,17)",
           "lakecolor": "rgb(17,17,17)",
           "landcolor": "rgb(17,17,17)",
           "showlakes": true,
           "showland": true,
           "subunitcolor": "#506784"
          },
          "hoverlabel": {
           "align": "left"
          },
          "hovermode": "closest",
          "mapbox": {
           "style": "dark"
          },
          "paper_bgcolor": "rgb(17,17,17)",
          "plot_bgcolor": "rgb(17,17,17)",
          "polar": {
           "angularaxis": {
            "gridcolor": "#506784",
            "linecolor": "#506784",
            "ticks": ""
           },
           "bgcolor": "rgb(17,17,17)",
           "radialaxis": {
            "gridcolor": "#506784",
            "linecolor": "#506784",
            "ticks": ""
           }
          },
          "scene": {
           "xaxis": {
            "backgroundcolor": "rgb(17,17,17)",
            "gridcolor": "#506784",
            "gridwidth": 2,
            "linecolor": "#506784",
            "showbackground": true,
            "ticks": "",
            "zerolinecolor": "#C8D4E3"
           },
           "yaxis": {
            "backgroundcolor": "rgb(17,17,17)",
            "gridcolor": "#506784",
            "gridwidth": 2,
            "linecolor": "#506784",
            "showbackground": true,
            "ticks": "",
            "zerolinecolor": "#C8D4E3"
           },
           "zaxis": {
            "backgroundcolor": "rgb(17,17,17)",
            "gridcolor": "#506784",
            "gridwidth": 2,
            "linecolor": "#506784",
            "showbackground": true,
            "ticks": "",
            "zerolinecolor": "#C8D4E3"
           }
          },
          "shapedefaults": {
           "line": {
            "color": "#f2f5fa"
           }
          },
          "sliderdefaults": {
           "bgcolor": "#C8D4E3",
           "bordercolor": "rgb(17,17,17)",
           "borderwidth": 1,
           "tickwidth": 0
          },
          "ternary": {
           "aaxis": {
            "gridcolor": "#506784",
            "linecolor": "#506784",
            "ticks": ""
           },
           "baxis": {
            "gridcolor": "#506784",
            "linecolor": "#506784",
            "ticks": ""
           },
           "bgcolor": "rgb(17,17,17)",
           "caxis": {
            "gridcolor": "#506784",
            "linecolor": "#506784",
            "ticks": ""
           }
          },
          "title": {
           "x": 0.05
          },
          "updatemenudefaults": {
           "bgcolor": "#506784",
           "borderwidth": 0
          },
          "xaxis": {
           "automargin": true,
           "gridcolor": "#283442",
           "linecolor": "#506784",
           "ticks": "",
           "title": {
            "standoff": 15
           },
           "zerolinecolor": "#283442",
           "zerolinewidth": 2
          },
          "yaxis": {
           "automargin": true,
           "gridcolor": "#283442",
           "linecolor": "#506784",
           "ticks": "",
           "title": {
            "standoff": 15
           },
           "zerolinecolor": "#283442",
           "zerolinewidth": 2
          }
         }
        },
        "title": {
         "text": "Combined Entropy–Complexity Plots for Folder data/genres_30sec/jazz"
        },
        "width": 1200,
        "xaxis": {
         "anchor": "y",
         "domain": [
          0,
          0.45
         ],
         "range": [
          0,
          1
         ]
        },
        "xaxis2": {
         "anchor": "y2",
         "domain": [
          0.55,
          1
         ],
         "range": [
          0,
          1
         ]
        },
        "xaxis3": {
         "anchor": "y3",
         "domain": [
          0,
          0.45
         ],
         "range": [
          0,
          1
         ]
        },
        "xaxis4": {
         "anchor": "y4",
         "domain": [
          0.55,
          1
         ],
         "range": [
          0,
          1
         ]
        },
        "xaxis5": {
         "anchor": "y5",
         "domain": [
          0,
          0.45
         ],
         "range": [
          0,
          1
         ]
        },
        "xaxis6": {
         "anchor": "y6",
         "domain": [
          0.55,
          1
         ],
         "range": [
          0,
          1
         ]
        },
        "yaxis": {
         "anchor": "x",
         "domain": [
          0.7777777777777778,
          1
         ],
         "range": [
          0,
          1
         ]
        },
        "yaxis2": {
         "anchor": "x2",
         "domain": [
          0.7777777777777778,
          1
         ],
         "range": [
          0,
          1
         ]
        },
        "yaxis3": {
         "anchor": "x3",
         "domain": [
          0.3888888888888889,
          0.6111111111111112
         ],
         "range": [
          0,
          1
         ]
        },
        "yaxis4": {
         "anchor": "x4",
         "domain": [
          0.3888888888888889,
          0.6111111111111112
         ],
         "range": [
          0,
          1
         ]
        },
        "yaxis5": {
         "anchor": "x5",
         "domain": [
          0,
          0.22222222222222224
         ],
         "range": [
          0,
          1
         ]
        },
        "yaxis6": {
         "anchor": "x6",
         "domain": [
          0,
          0.22222222222222224
         ],
         "range": [
          0,
          1
         ]
        }
       }
      }
     },
     "metadata": {},
     "output_type": "display_data"
    }
   ],
   "source": [
    "folder_path = \"data/genres_30sec/jazz\"\n",
    "start = 4\n",
    "end = 10\n",
    "grid = 2\n",
    "folder = \"plots\"\n",
    "plot_graph(folder_path, start, end, grid, folder)"
   ]
  },
  {
   "cell_type": "markdown",
   "metadata": {},
   "source": [
    "Metal"
   ]
  },
  {
   "cell_type": "code",
   "execution_count": null,
   "metadata": {},
   "outputs": [
    {
     "name": "stderr",
     "output_type": "stream",
     "text": [
      "Processing audio files in data/genres_30sec/metal with dim 4 and hop 3: 100%|██████████| 100/100 [00:56<00:00,  1.77it/s]\n",
      "Processing audio files in data/genres_30sec/metal with dim 5 and hop 4: 100%|██████████| 100/100 [00:44<00:00,  2.25it/s]\n",
      "Processing audio files in data/genres_30sec/metal with dim 6 and hop 5: 100%|██████████| 100/100 [00:36<00:00,  2.76it/s]\n",
      "Processing audio files in data/genres_30sec/metal with dim 7 and hop 6: 100%|██████████| 100/100 [00:31<00:00,  3.14it/s]\n",
      "Processing audio files in data/genres_30sec/metal with dim 8 and hop 7: 100%|██████████| 100/100 [00:32<00:00,  3.12it/s]\n",
      "Processing audio files in data/genres_30sec/metal with dim 9 and hop 8: 100%|██████████| 100/100 [00:38<00:00,  2.59it/s]\n"
     ]
    },
    {
     "data": {
      "application/vnd.plotly.v1+json": {
       "config": {
        "plotlyServerURL": "https://plot.ly"
       },
       "data": [
        {
         "hovertemplate": "Entropy: %{x}<br>Complexity: %{y}<br>File: %{text}<extra></extra>",
         "marker": {
          "color": {
           "bdata": "t09afVJYxD8578DqGPfCP22BjM7K+sY/fEJZHnE3xz8OHjQnimvCP4fJaBk2ocE/JDp3fIzDwj8DuFpEz+LCP5wawuRjTcU/EPAXuogMtj+BqFXpCabMP/jNYV0pacU/FWoe8Dox0D8ocSd5Z+rCP5ZU1v7ee8g/Ddq+56UqwT89lhUn+YrFP297wGI2Xcs/GG8mInrixz+HgCRw3QvIP1/GPB5258c/fg7c6pIkwz8Lvu6Jx6rGP0tO57QSx8s/xH1kHv9Uwz8W2ue0z8/BP58g3OiQvsU/SPPXbJNJyD/s2K4IGo7GPw7ryFPNdcc/VHOzl8+ewj+t5FSICBLKP1jRr46Rd8M/b6pztp7ByT8RpwTJZQvGPzyCyuvDccU/r7qRoRGxuz+cGsLkY03FPzzrePTO/cQ/zsqZqyBJxj901y3KdZ3DP1FbYTKdEMU/dcwcwpcfwz+mrrIQAtrHP+9L6aGL/cM/KyKxZn28xD/e/UudFgm0Pzj4KwVh9MU/4+1IyvGUxD/rPiRbpD7DPxYxfvv2Mb0/DlgMyCofxD9q9dQ6ZAzBPzp1dVCGLck/ojBTLiriyD9j6XyYwAvFP87MmrsrJcM/SCD/a6B7yD/MWQ14f9HBP+FETbQYGsY/nyDc6JC+xT/C0VLdmYjEP1MPassJ+ck/JAqIF/iiwz9vqnO2nsHJP0tO57QSx8s/peUOTAREwz9w8tqYldjOP5lnJlUF4sQ/6MzxjVUXxz86dXVQhi3JP9zHAGO14Mk/NNsRdBAqwT/NiAeP7SHGP+PtSMrxlMQ/9ZMAbxhgwD9SbGzwQO7HP8qjWG6rwMQ/laDWj5Lrvj8RpwTJZQvGP5URDUBlu8U/H3Pkq0T9wj9ibxjIaXXHP7p75xcIn8k/+yWyABz/wz/Pd1MjdcfIPxz4fWdg57g/UFhDF2e2vD/T9S+W25bBP0M/3oSg574/y4Dt99vdxj/bciYLamDGPxsWrUk+78g/RPYEELAjxz8qciI0sjOzP32NQZ8dv8M/G4VzCJOYvD/T3sl6JLbHP5mjp3RgI8Q/0qwiL7T5vz8=",
           "dtype": "f8"
          },
          "colorscale": [
           [
            0,
            "#0508b8"
           ],
           [
            0.08333333333333333,
            "#1910d8"
           ],
           [
            0.16666666666666666,
            "#3c19f0"
           ],
           [
            0.25,
            "#6b1cfb"
           ],
           [
            0.3333333333333333,
            "#981cfd"
           ],
           [
            0.4166666666666667,
            "#bf1cfd"
           ],
           [
            0.5,
            "#dd2bfd"
           ],
           [
            0.5833333333333334,
            "#f246fe"
           ],
           [
            0.6666666666666666,
            "#fc67fd"
           ],
           [
            0.75,
            "#fe88fc"
           ],
           [
            0.8333333333333334,
            "#fea5fd"
           ],
           [
            0.9166666666666666,
            "#febefe"
           ],
           [
            1,
            "#fec3fe"
           ]
          ],
          "size": 10
         },
         "mode": "markers",
         "name": "Dim = 4, Hop = 3",
         "showlegend": true,
         "text": [
          "metal.00022.wav",
          "metal.00036.wav",
          "metal.00037.wav",
          "metal.00023.wav",
          "metal.00009.wav",
          "metal.00035.wav",
          "metal.00021.wav",
          "metal.00020.wav",
          "metal.00034.wav",
          "metal.00008.wav",
          "metal.00030.wav",
          "metal.00024.wav",
          "metal.00018.wav",
          "metal.00019.wav",
          "metal.00025.wav",
          "metal.00031.wav",
          "metal.00027.wav",
          "metal.00033.wav",
          "metal.00032.wav",
          "metal.00026.wav",
          "metal.00082.wav",
          "metal.00096.wav",
          "metal.00069.wav",
          "metal.00041.wav",
          "metal.00055.wav",
          "metal.00054.wav",
          "metal.00040.wav",
          "metal.00068.wav",
          "metal.00097.wav",
          "metal.00083.wav",
          "metal.00095.wav",
          "metal.00081.wav",
          "metal.00056.wav",
          "metal.00042.wav",
          "metal.00043.wav",
          "metal.00057.wav",
          "metal.00080.wav",
          "metal.00094.wav",
          "metal.00090.wav",
          "metal.00084.wav",
          "metal.00053.wav",
          "metal.00047.wav",
          "metal.00046.wav",
          "metal.00052.wav",
          "metal.00085.wav",
          "metal.00091.wav",
          "metal.00087.wav",
          "metal.00093.wav",
          "metal.00044.wav",
          "metal.00050.wav",
          "metal.00078.wav",
          "metal.00079.wav",
          "metal.00051.wav",
          "metal.00045.wav",
          "metal.00092.wav",
          "metal.00086.wav",
          "metal.00048.wav",
          "metal.00060.wav",
          "metal.00074.wav",
          "metal.00075.wav",
          "metal.00061.wav",
          "metal.00049.wav",
          "metal.00088.wav",
          "metal.00077.wav",
          "metal.00063.wav",
          "metal.00062.wav",
          "metal.00076.wav",
          "metal.00089.wav",
          "metal.00099.wav",
          "metal.00072.wav",
          "metal.00066.wav",
          "metal.00067.wav",
          "metal.00073.wav",
          "metal.00098.wav",
          "metal.00065.wav",
          "metal.00071.wav",
          "metal.00059.wav",
          "metal.00058.wav",
          "metal.00070.wav",
          "metal.00064.wav",
          "metal.00003.wav",
          "metal.00017.wav",
          "metal.00016.wav",
          "metal.00002.wav",
          "metal.00028.wav",
          "metal.00014.wav",
          "metal.00000.wav",
          "metal.00001.wav",
          "metal.00015.wav",
          "metal.00029.wav",
          "metal.00011.wav",
          "metal.00005.wav",
          "metal.00039.wav",
          "metal.00038.wav",
          "metal.00004.wav",
          "metal.00010.wav",
          "metal.00006.wav",
          "metal.00012.wav",
          "metal.00013.wav",
          "metal.00007.wav"
         ],
         "type": "scatter",
         "x": {
          "bdata": "FNGi/Kt36z9vW2w7HeDrP8ambskOceo/REeXUMj86j+lKX7dLinsP/6F3kwjSOw/OQkkQf8P7D+i0gqRdvvrP6BxZmobL+s/viLb72SD7T+5LDQ3ykjoP8v4/R2pGus/bCOpTOW45z/hv7ogQvTrP525VbM4Seo/8AG28I9D7D+IiUROrgrrPyoNUgSLqek/JcaI+OCD6j9E6Y1lXuPqP0vnSJjLiuo/5cRAj1PV6z/eAjY2kqXqP+kMZWczBuk/XPNjhcAC7D8TF3peyF/sP4BahlUjBOs/aiDp8UUu6j8YiFxsJLrqP2txSUzZn+o/+34zDuvd6z9X/5So9WvpP+M+3MjK9Os/tCadDuGb6T8Z5ev9ztHqPwmRlss6Qus/APWS4qor7T+gcWZqGy/rPwx3BxvFHus/0WPybyrY6j9dgI9gk+brP4nH1QRHhus/Iy+rdBL26z9XA3co0rTqP/S8Mizll+s/w1rcpmlC6z9Skuk9EA7uPwN4E1ojWus/5aMkKShf6z92o6OkBQnsPzC+Gik2/Ow/eR+D9COQ6z8J2syZkJXsP9JiNODf4ek/we23RVjg6T8hhUNlrU7rP53G15jP8Os/p9+wkXBa6j9xe+GEPlPsP1AbDFStqeo/gFqGVSME6z/pom5gbLfrP0U10btem+k//Ur/dEva6z+0Jp0O4ZvpP+kMZWczBuk/suyP+frf6z9BgUrA2GTnPzzi6a6QSes/8f1vhxyn6j/SYjTg3+HpP0rXDNTFu+k/9w/etPY/7D+1RaSl7snqP+WjJCkoX+s/r94sxt2Q7D9cVwfbx2LqP2QOdJ7KNus/s/b0MTej7D8Z5ev9ztHqP2w58uWzHOs/WC1Mh7n26z/rhurSdIHqP1Xa3iLgqOk/VVBujWeB6z9XrtVYk2PqPzwNJUdtVu0/e1ZCV7Dg7D+qmkVBIGnsP6zQBAoe3ew/qDnsHprR6j88J1zo+/XqP8EV7BHeQeo/R+SCr7+46j81DMt8AvjtPw3xqIg79es/QrApL+fy7D/XRrZl0ZXqP6zHGJnlmus/zx5N/ixy7D8=",
          "dtype": "f8"
         },
         "xaxis": "x",
         "y": {
          "bdata": "t09afVJYxD8578DqGPfCP22BjM7K+sY/fEJZHnE3xz8OHjQnimvCP4fJaBk2ocE/JDp3fIzDwj8DuFpEz+LCP5wawuRjTcU/EPAXuogMtj+BqFXpCabMP/jNYV0pacU/FWoe8Dox0D8ocSd5Z+rCP5ZU1v7ee8g/Ddq+56UqwT89lhUn+YrFP297wGI2Xcs/GG8mInrixz+HgCRw3QvIP1/GPB5258c/fg7c6pIkwz8Lvu6Jx6rGP0tO57QSx8s/xH1kHv9Uwz8W2ue0z8/BP58g3OiQvsU/SPPXbJNJyD/s2K4IGo7GPw7ryFPNdcc/VHOzl8+ewj+t5FSICBLKP1jRr46Rd8M/b6pztp7ByT8RpwTJZQvGPzyCyuvDccU/r7qRoRGxuz+cGsLkY03FPzzrePTO/cQ/zsqZqyBJxj901y3KdZ3DP1FbYTKdEMU/dcwcwpcfwz+mrrIQAtrHP+9L6aGL/cM/KyKxZn28xD/e/UudFgm0Pzj4KwVh9MU/4+1IyvGUxD/rPiRbpD7DPxYxfvv2Mb0/DlgMyCofxD9q9dQ6ZAzBPzp1dVCGLck/ojBTLiriyD9j6XyYwAvFP87MmrsrJcM/SCD/a6B7yD/MWQ14f9HBP+FETbQYGsY/nyDc6JC+xT/C0VLdmYjEP1MPassJ+ck/JAqIF/iiwz9vqnO2nsHJP0tO57QSx8s/peUOTAREwz9w8tqYldjOP5lnJlUF4sQ/6MzxjVUXxz86dXVQhi3JP9zHAGO14Mk/NNsRdBAqwT/NiAeP7SHGP+PtSMrxlMQ/9ZMAbxhgwD9SbGzwQO7HP8qjWG6rwMQ/laDWj5Lrvj8RpwTJZQvGP5URDUBlu8U/H3Pkq0T9wj9ibxjIaXXHP7p75xcIn8k/+yWyABz/wz/Pd1MjdcfIPxz4fWdg57g/UFhDF2e2vD/T9S+W25bBP0M/3oSg574/y4Dt99vdxj/bciYLamDGPxsWrUk+78g/RPYEELAjxz8qciI0sjOzP32NQZ8dv8M/G4VzCJOYvD/T3sl6JLbHP5mjp3RgI8Q/0qwiL7T5vz8=",
          "dtype": "f8"
         },
         "yaxis": "y"
        },
        {
         "hovertemplate": "Entropy: %{x}<br>Complexity: %{y}<br>File: %{text}<extra></extra>",
         "marker": {
          "color": {
           "bdata": "z6HrOmRSzj/jJ/TnUPDLP7HvGzhwedA/kGM1j5XN0D8SO0MIb5vLP1eqDmu8Jso/e9hK9hfXyz+dfD38tL7LP6iIlFhLgM4/9MO+RubpwD8+whbMyC7TP4jiv63o/c4/9FxFdWn71T/Sh8CJBM/LPxsoYQc1RtE/03cgYEauyT8CnBsfG1HPP5/Z/F5JQNM/2/cxhhf30D+hLeE1wXnRP2o3NL5RT9E//LErJMyTyz/69BF6YTnQPxaGQxLIPNM/K9sZUZ9rzD/9WDDFIlXKP2ijzChyTc8/l+coO1Uf0T9xV2yJtDnQP49M5AosrtA/Ya/UzjTByz+0Lrc7LCTSP1qxqJ6Vfsw/kOxQQv7o0T+Gt54x5AXPP5WkWrQwEM8/kNEeCbHAxT+oiJRYS4DOP+DBkj0Bfs4/bCf8KHzIzz+YIIWPebbMP6lzPxsHlM4/15FdlnpkzD+OZAPccRTRPyYECoO8Zs0/5yTkKt2Lzj+YSu+NkFvAP+4p7Ahw9c8/EgZXz+zCzT8V89AkY3nMPwKx6L9tSsY/Iv9iMqtWzT9Ept3WKOPIP5JoxCeDdtE/7EA1krNf0T+TAWAc7HHOP6bappbhSsw/FNmSO1aL0T+AJ2fAJgjKP3y7avcaLs8/aKPMKHJNzz9XNtXHatvNP0XXWmVp5tE/mrdiumLtzD+Q7FBC/ujRPxaGQxLIPNM/9xIU2fLuyz8sVbfxwWnUP2+9sCS2N84/o4yLKhif0D+SaMQng3bRP01B1vRbM9I/u8mPDUaXyT+Q86gV9FrPPxIGV8/sws0/e7m+qnCdyD8U6oQmEf3QP6+5FQzlPM4/BlDXc5Xcxj+Gt54x5AXPP6Zjd0Hkic8/mXNFbmQKzD8ebWgzM8nQP15Z5z0639E/tsESvz8szT+EqFuh9cDRPzFRWNSessM/xQHBH1D2xT9BfhbKgQbKP1g9MiT2asc/BjHmDQOT0D+byeAt1fjPPwkthjOglNE/cPg+T5Ra0D8n5Ise7ni+PxZVwMQXxcw/HNaX9r9exT+NiUfxEQzRP96iN7IugM0/XXmidtITyD8=",
           "dtype": "f8"
          },
          "colorscale": [
           [
            0,
            "#0508b8"
           ],
           [
            0.08333333333333333,
            "#1910d8"
           ],
           [
            0.16666666666666666,
            "#3c19f0"
           ],
           [
            0.25,
            "#6b1cfb"
           ],
           [
            0.3333333333333333,
            "#981cfd"
           ],
           [
            0.4166666666666667,
            "#bf1cfd"
           ],
           [
            0.5,
            "#dd2bfd"
           ],
           [
            0.5833333333333334,
            "#f246fe"
           ],
           [
            0.6666666666666666,
            "#fc67fd"
           ],
           [
            0.75,
            "#fe88fc"
           ],
           [
            0.8333333333333334,
            "#fea5fd"
           ],
           [
            0.9166666666666666,
            "#febefe"
           ],
           [
            1,
            "#fec3fe"
           ]
          ],
          "size": 10
         },
         "mode": "markers",
         "name": "Dim = 5, Hop = 4",
         "showlegend": true,
         "text": [
          "metal.00022.wav",
          "metal.00036.wav",
          "metal.00037.wav",
          "metal.00023.wav",
          "metal.00009.wav",
          "metal.00035.wav",
          "metal.00021.wav",
          "metal.00020.wav",
          "metal.00034.wav",
          "metal.00008.wav",
          "metal.00030.wav",
          "metal.00024.wav",
          "metal.00018.wav",
          "metal.00019.wav",
          "metal.00025.wav",
          "metal.00031.wav",
          "metal.00027.wav",
          "metal.00033.wav",
          "metal.00032.wav",
          "metal.00026.wav",
          "metal.00082.wav",
          "metal.00096.wav",
          "metal.00069.wav",
          "metal.00041.wav",
          "metal.00055.wav",
          "metal.00054.wav",
          "metal.00040.wav",
          "metal.00068.wav",
          "metal.00097.wav",
          "metal.00083.wav",
          "metal.00095.wav",
          "metal.00081.wav",
          "metal.00056.wav",
          "metal.00042.wav",
          "metal.00043.wav",
          "metal.00057.wav",
          "metal.00080.wav",
          "metal.00094.wav",
          "metal.00090.wav",
          "metal.00084.wav",
          "metal.00053.wav",
          "metal.00047.wav",
          "metal.00046.wav",
          "metal.00052.wav",
          "metal.00085.wav",
          "metal.00091.wav",
          "metal.00087.wav",
          "metal.00093.wav",
          "metal.00044.wav",
          "metal.00050.wav",
          "metal.00078.wav",
          "metal.00079.wav",
          "metal.00051.wav",
          "metal.00045.wav",
          "metal.00092.wav",
          "metal.00086.wav",
          "metal.00048.wav",
          "metal.00060.wav",
          "metal.00074.wav",
          "metal.00075.wav",
          "metal.00061.wav",
          "metal.00049.wav",
          "metal.00088.wav",
          "metal.00077.wav",
          "metal.00063.wav",
          "metal.00062.wav",
          "metal.00076.wav",
          "metal.00089.wav",
          "metal.00099.wav",
          "metal.00072.wav",
          "metal.00066.wav",
          "metal.00067.wav",
          "metal.00073.wav",
          "metal.00098.wav",
          "metal.00065.wav",
          "metal.00071.wav",
          "metal.00059.wav",
          "metal.00058.wav",
          "metal.00070.wav",
          "metal.00064.wav",
          "metal.00003.wav",
          "metal.00017.wav",
          "metal.00016.wav",
          "metal.00002.wav",
          "metal.00028.wav",
          "metal.00014.wav",
          "metal.00000.wav",
          "metal.00001.wav",
          "metal.00015.wav",
          "metal.00029.wav",
          "metal.00011.wav",
          "metal.00005.wav",
          "metal.00039.wav",
          "metal.00038.wav",
          "metal.00004.wav",
          "metal.00010.wav",
          "metal.00006.wav",
          "metal.00012.wav",
          "metal.00013.wav",
          "metal.00007.wav"
         ],
         "type": "scatter",
         "x": {
          "bdata": "O8eLRmaU6j97Ehje8ybrP7fT5SDsXek/KhxNvPUN6j985f+D6XfrP6MG48snqus/H00y2Tdf6z8YIl/9FVHrP26deFsJX+o/6dzJcFHp7D986UtghQznPy/uMVAkPuo/dbnrbt465j8FZJU0UELrPyxNL/u+Tuk/Rxi7gh6V6z9DX3BDxCXqPz4qzGYCjOg/EY7dpsGV6T8fBwX77+npPywaUVxAjek/C12PHJEw6z9P8RmaKq3pPxPf0+Klzec/UkSjGd9V6z8+Ac90IsbrP2xksV8fKeo/HU7ULWcw6T9R3R64vcnpP0xVOuhAv+k/gbRQRZQO6z8S3vAf9VLoP4rwLhBLTOs/Rz+UzXGU6D/seTLpivHpP9P9igXubOo/OXw4ENGR7D9unXhbCV/qP26mxIhYMeo/LjaEFLT76T/dqbVRJTnrP5aierjhxeo/PTqNXRFA6z9feqQcGszpP9Wi3o8zy+o/BORjWRZP6j/9j0gXW6TtP6bUuGtuiOo/dCbICDuR6j8dTJ/folDrP56/63Guaew/bkBPlkXK6j8mCU7kjRbsP1iHKk7b5ug/1jHRaYbV6D/ntv8554LqPy2J7a9PPes/O9bP6BVe6T//2iPIYMPrP25DZ3TKuek/bGSxXx8p6j9feQbZeQPrPy2f2oPxk+g/QIi7K6Ii6z9HP5TNcZToPxPf0+Klzec/5dRGb5826z93nMVNsxfmPxQqj9MUe+o/LbUEcPa36T9YhypO2+boP8w1iRDAneg/XmXQtxSH6z8ocOjBaOnpP3QmyAg7keo/XaNEh6nv6z+Op+J2JHLpP82Ipb30U+o/+1ie6OEI7D/seTLpivHpP8a33n4bQeo/KnWbnr1G6z+gTLuygYbpPyd1lpwVk+g/mP0CB6a76j9yQK7VcmPpP0yOgKYsrOw/A61hRGU77D/DhrwWLtDrP/fynXiSU+w/C3gAcYPm6T8Qs9vJCyLqP9n6PdrEUek/fxlwssLf6T9Bah23TX7tP8/b8IfnQ+s/dc396aJm7D8XQ5mDmaHpP5lPvKrd1Oo/GKkXCKO86z8=",
          "dtype": "f8"
         },
         "xaxis": "x2",
         "y": {
          "bdata": "z6HrOmRSzj/jJ/TnUPDLP7HvGzhwedA/kGM1j5XN0D8SO0MIb5vLP1eqDmu8Jso/e9hK9hfXyz+dfD38tL7LP6iIlFhLgM4/9MO+RubpwD8+whbMyC7TP4jiv63o/c4/9FxFdWn71T/Sh8CJBM/LPxsoYQc1RtE/03cgYEauyT8CnBsfG1HPP5/Z/F5JQNM/2/cxhhf30D+hLeE1wXnRP2o3NL5RT9E//LErJMyTyz/69BF6YTnQPxaGQxLIPNM/K9sZUZ9rzD/9WDDFIlXKP2ijzChyTc8/l+coO1Uf0T9xV2yJtDnQP49M5AosrtA/Ya/UzjTByz+0Lrc7LCTSP1qxqJ6Vfsw/kOxQQv7o0T+Gt54x5AXPP5WkWrQwEM8/kNEeCbHAxT+oiJRYS4DOP+DBkj0Bfs4/bCf8KHzIzz+YIIWPebbMP6lzPxsHlM4/15FdlnpkzD+OZAPccRTRPyYECoO8Zs0/5yTkKt2Lzj+YSu+NkFvAP+4p7Ahw9c8/EgZXz+zCzT8V89AkY3nMPwKx6L9tSsY/Iv9iMqtWzT9Ept3WKOPIP5JoxCeDdtE/7EA1krNf0T+TAWAc7HHOP6bappbhSsw/FNmSO1aL0T+AJ2fAJgjKP3y7avcaLs8/aKPMKHJNzz9XNtXHatvNP0XXWmVp5tE/mrdiumLtzD+Q7FBC/ujRPxaGQxLIPNM/9xIU2fLuyz8sVbfxwWnUP2+9sCS2N84/o4yLKhif0D+SaMQng3bRP01B1vRbM9I/u8mPDUaXyT+Q86gV9FrPPxIGV8/sws0/e7m+qnCdyD8U6oQmEf3QP6+5FQzlPM4/BlDXc5Xcxj+Gt54x5AXPP6Zjd0Hkic8/mXNFbmQKzD8ebWgzM8nQP15Z5z0639E/tsESvz8szT+EqFuh9cDRPzFRWNSessM/xQHBH1D2xT9BfhbKgQbKP1g9MiT2asc/BjHmDQOT0D+byeAt1fjPPwkthjOglNE/cPg+T5Ra0D8n5Ise7ni+PxZVwMQXxcw/HNaX9r9exT+NiUfxEQzRP96iN7IugM0/XXmidtITyD8=",
          "dtype": "f8"
         },
         "yaxis": "y2"
        },
        {
         "hovertemplate": "Entropy: %{x}<br>Complexity: %{y}<br>File: %{text}<extra></extra>",
         "marker": {
          "color": {
           "bdata": "OnPaXoKP1D8HryJD4dvSPwcOdA5Se9U/k5okGG6+1T94fHGq+a7SP42VJA+jCNI/B2m0KY3a0j8JWZxFku7SPxLc4lq6FtQ/Bgb2gZw7xz+NQP6+hMHXP88jrVZxZ9Q/7gZEagmk2j8usSqgf8rSPyn6q7qsG9Y/i24//o2/0T9D28chINjUPzq9Li6QUtg/bGzGo+PO1T/6sfGqtdnWPxycgYWQjdY/+XjfwlWI0j/V5GdYpjLVPzUuMvl79tc/GyFuTTLt0j8upPQ+F7fRP26CqDGbhNQ/hhfopE771T+i4XAle07VP5RaVC38ptU/O2T1jUbC0j/yG1S0G0DXP5/Mj5+W8NI/Bnm5u0zq1j9ABIKRoArUP+VjHQkeVtQ//8UEeO00zz8S3OJauhbUPxMcrQvWN9Q/QrrVwhbC1D+yqFWOFgvTP07yH8ZJKNQ/yXnKzyci0z/DESy+pA3WP7wfp7G9rdM/jqFJvxZT1D+iYnAG/yLJP/B2XDb7F9U/qTBgYP7Q0z90n5/PNObSPwYaR/7IAtA/U076/tuY0z9ur/AOiNjQP8zUFe1gLtY/L/GuSUo+1j/X+5Uc1BnUPwHPMFD44dI/rT7ucxfD1j8XjLjSUoTRP87j+g9gTNQ/boKoMZuE1D+iI1mR28PTP8fTrDsRo9Y/NPRdaYZ40z8Gebm7TOrWPzUuMvl79tc/XhoL4C6n0j/+sN/icOHYP/VSHT/7AdQ/swlaBYPZ1T/M1BXtYC7WPzO6m2PbC9c/eAuRHK2L0T8dSe6FcG3UP6kwYGD+0NM/LG/5SQsR0T/01bBVMTvWP22g8hMIT9Q/R/NiycuSzz9ABIKRoArUPxOYgnJrA9U/PAgkk+Px0j8bVgyy/+PVPzminoNtttY/0VZoVevB0z9Ex9osUvXWP9d5kEFjtMo/TaUMcX9Pzj+ZAMvNEpzRPx0C6V+ZTNA/ce5+FDvR1T9QeFFbxN3UP7HmW0wonNY/uZbv4VU51T/dNjoAIb/FP+AlSjO1IdM/iINo2K0mzT8zR+g+cDLWP5Wh5Unx+NM/gqNU1F1K0D8=",
           "dtype": "f8"
          },
          "colorscale": [
           [
            0,
            "#0508b8"
           ],
           [
            0.08333333333333333,
            "#1910d8"
           ],
           [
            0.16666666666666666,
            "#3c19f0"
           ],
           [
            0.25,
            "#6b1cfb"
           ],
           [
            0.3333333333333333,
            "#981cfd"
           ],
           [
            0.4166666666666667,
            "#bf1cfd"
           ],
           [
            0.5,
            "#dd2bfd"
           ],
           [
            0.5833333333333334,
            "#f246fe"
           ],
           [
            0.6666666666666666,
            "#fc67fd"
           ],
           [
            0.75,
            "#fe88fc"
           ],
           [
            0.8333333333333334,
            "#fea5fd"
           ],
           [
            0.9166666666666666,
            "#febefe"
           ],
           [
            1,
            "#fec3fe"
           ]
          ],
          "size": 10
         },
         "mode": "markers",
         "name": "Dim = 6, Hop = 5",
         "showlegend": true,
         "text": [
          "metal.00022.wav",
          "metal.00036.wav",
          "metal.00037.wav",
          "metal.00023.wav",
          "metal.00009.wav",
          "metal.00035.wav",
          "metal.00021.wav",
          "metal.00020.wav",
          "metal.00034.wav",
          "metal.00008.wav",
          "metal.00030.wav",
          "metal.00024.wav",
          "metal.00018.wav",
          "metal.00019.wav",
          "metal.00025.wav",
          "metal.00031.wav",
          "metal.00027.wav",
          "metal.00033.wav",
          "metal.00032.wav",
          "metal.00026.wav",
          "metal.00082.wav",
          "metal.00096.wav",
          "metal.00069.wav",
          "metal.00041.wav",
          "metal.00055.wav",
          "metal.00054.wav",
          "metal.00040.wav",
          "metal.00068.wav",
          "metal.00097.wav",
          "metal.00083.wav",
          "metal.00095.wav",
          "metal.00081.wav",
          "metal.00056.wav",
          "metal.00042.wav",
          "metal.00043.wav",
          "metal.00057.wav",
          "metal.00080.wav",
          "metal.00094.wav",
          "metal.00090.wav",
          "metal.00084.wav",
          "metal.00053.wav",
          "metal.00047.wav",
          "metal.00046.wav",
          "metal.00052.wav",
          "metal.00085.wav",
          "metal.00091.wav",
          "metal.00087.wav",
          "metal.00093.wav",
          "metal.00044.wav",
          "metal.00050.wav",
          "metal.00078.wav",
          "metal.00079.wav",
          "metal.00051.wav",
          "metal.00045.wav",
          "metal.00092.wav",
          "metal.00086.wav",
          "metal.00048.wav",
          "metal.00060.wav",
          "metal.00074.wav",
          "metal.00075.wav",
          "metal.00061.wav",
          "metal.00049.wav",
          "metal.00088.wav",
          "metal.00077.wav",
          "metal.00063.wav",
          "metal.00062.wav",
          "metal.00076.wav",
          "metal.00089.wav",
          "metal.00099.wav",
          "metal.00072.wav",
          "metal.00066.wav",
          "metal.00067.wav",
          "metal.00073.wav",
          "metal.00098.wav",
          "metal.00065.wav",
          "metal.00071.wav",
          "metal.00059.wav",
          "metal.00058.wav",
          "metal.00070.wav",
          "metal.00064.wav",
          "metal.00003.wav",
          "metal.00017.wav",
          "metal.00016.wav",
          "metal.00002.wav",
          "metal.00028.wav",
          "metal.00014.wav",
          "metal.00000.wav",
          "metal.00001.wav",
          "metal.00015.wav",
          "metal.00029.wav",
          "metal.00011.wav",
          "metal.00005.wav",
          "metal.00039.wav",
          "metal.00038.wav",
          "metal.00004.wav",
          "metal.00010.wav",
          "metal.00006.wav",
          "metal.00012.wav",
          "metal.00013.wav",
          "metal.00007.wav"
         ],
         "type": "scatter",
         "x": {
          "bdata": "GiA4p3Xn6T8ZRsfDXKTqP7jqb6bInug/IKlFstiV6T/4QLRmoAnrP448MF1/Jus/PGHXI07u6j9hjba/MdPqP/cr/OgGyuk/k771Lbd07D8pt8V45UPmP2YX9bYHp+k/POeulbxy5T9mgoCStMPqP1s3PC/soeg/cViBRK4A6z8tmI/0PX/pP2xTtY+N+uc/dijORGP96D8N8Haw+HDpP2qFWvVc9+g/LXevpESy6j94xTo/LATpP/TTJqBQFuc/2gTppiT/6j8I1U3XyHrrP4bsqA9Sk+k/B0AMd6WS6D8JHowHxiPpP3SqoLMxK+k/hDt25RF76j8kg8nZsZrnPzMOm/2F+eo/BQ2y3xTZ5z/Mvc6ph0zpP3X3Nu5o6+k/arN7tQIP7D/3K/zoBsrpPxcIlikJiOk/6igBi+1m6T8FjOL2TODqP7eIFOrdWuo/e1dsesfQ6j9OET3+x0npP/ymCs3wPOo/c54Ee/qp6T8JbV0usTXtPzjLWXIsG+o/SP9+8Kv56T+l0/vh0vzqP+ihekIZ3Os/urKKo+dA6j/R2evq2NTrP1YWSU5YN+g/2jwaxdkl6D+HjZCBQ/7pP4Ul+Nvc2Oo/BJ2kuiTD6D90//C/bmjrP0Ipre0IDuk/huyoD1KT6T/NIJI9pqTqP6sqmKXi7Oc/JgoDGwOr6j8FDbLfFNnnP/TTJqBQFuc/4VbgHGq26j/AWmmKPEzlP/K4zQQu7uk/+V5EXq0V6T9WFklOWDfoP5vnT3uL7+c/9RMFPNXx6j+uKmLM7kHpP0j/fvCr+ek/2sgy2Vdy6z/K5F0oacXoP5xgu5lKpuk/18zJgeGB6z/Mvc6ph0zpP+P80iK/quk/r3sAoffQ6j/wGk/i8uToP1NVXJ/A3+c/woX0HswT6j9LWGK0ecDoP9BKUb0CUuw/8LEHgEfC6z9HzFkEQXXrP/VfKugt7es/EGgWkBA66T+L8F4o4pHpP9xXZOLNwOg/Lwowo8o/6T9qhDnEPSPtPyx6Tqrb7Oo/OsNIHmkB7D+VyLbr/P/oPwC6KdOEOeo/sUtdav836z8=",
          "dtype": "f8"
         },
         "xaxis": "x3",
         "y": {
          "bdata": "OnPaXoKP1D8HryJD4dvSPwcOdA5Se9U/k5okGG6+1T94fHGq+a7SP42VJA+jCNI/B2m0KY3a0j8JWZxFku7SPxLc4lq6FtQ/Bgb2gZw7xz+NQP6+hMHXP88jrVZxZ9Q/7gZEagmk2j8usSqgf8rSPyn6q7qsG9Y/i24//o2/0T9D28chINjUPzq9Li6QUtg/bGzGo+PO1T/6sfGqtdnWPxycgYWQjdY/+XjfwlWI0j/V5GdYpjLVPzUuMvl79tc/GyFuTTLt0j8upPQ+F7fRP26CqDGbhNQ/hhfopE771T+i4XAle07VP5RaVC38ptU/O2T1jUbC0j/yG1S0G0DXP5/Mj5+W8NI/Bnm5u0zq1j9ABIKRoArUP+VjHQkeVtQ//8UEeO00zz8S3OJauhbUPxMcrQvWN9Q/QrrVwhbC1D+yqFWOFgvTP07yH8ZJKNQ/yXnKzyci0z/DESy+pA3WP7wfp7G9rdM/jqFJvxZT1D+iYnAG/yLJP/B2XDb7F9U/qTBgYP7Q0z90n5/PNObSPwYaR/7IAtA/U076/tuY0z9ur/AOiNjQP8zUFe1gLtY/L/GuSUo+1j/X+5Uc1BnUPwHPMFD44dI/rT7ucxfD1j8XjLjSUoTRP87j+g9gTNQ/boKoMZuE1D+iI1mR28PTP8fTrDsRo9Y/NPRdaYZ40z8Gebm7TOrWPzUuMvl79tc/XhoL4C6n0j/+sN/icOHYP/VSHT/7AdQ/swlaBYPZ1T/M1BXtYC7WPzO6m2PbC9c/eAuRHK2L0T8dSe6FcG3UP6kwYGD+0NM/LG/5SQsR0T/01bBVMTvWP22g8hMIT9Q/R/NiycuSzz9ABIKRoArUPxOYgnJrA9U/PAgkk+Px0j8bVgyy/+PVPzminoNtttY/0VZoVevB0z9Ex9osUvXWP9d5kEFjtMo/TaUMcX9Pzj+ZAMvNEpzRPx0C6V+ZTNA/ce5+FDvR1T9QeFFbxN3UP7HmW0wonNY/uZbv4VU51T/dNjoAIb/FP+AlSjO1IdM/iINo2K0mzT8zR+g+cDLWP5Wh5Unx+NM/gqNU1F1K0D8=",
          "dtype": "f8"
         },
         "yaxis": "y3"
        },
        {
         "hovertemplate": "Entropy: %{x}<br>Complexity: %{y}<br>File: %{text}<extra></extra>",
         "marker": {
          "color": {
           "bdata": "7hJGTCru2T8aKJzhW8/XPwOPSJKCVdo/TaA2ADK02j9o1aix3u/XP35S1ovIDNc/W7f5N7X41z9YGW/BwNPXP25+hE3B09g/y0ArS5gwzj90sNGxuNvbP/os5wYvSdk/yxr8MkWF3j/yrobhe4/XPwHmMljYkNo/U9hct/rg1j+Um3hh5eHZPzaW9RNIHt0/sdK0wXNx2j+jnDiDgS3cP/UHboM1qds/CNGA1js71z+s9HPo6v7ZP6Ycxu2pNtw/8kx3CVjR1z8T1yMrRpzWP4DXe+osOtk/REuHuym12j8WdZRwUSbaP7rrYgYjaNo/75wasxK81z/zKSlKdPnbP9Hoc/fX/9c/wKyUcZp42z8Yn+RNrl/YPwxqBPGMENk/UOLQoTt71D9ufoRNwdPYPxxkLZkAI9k/AoastsaJ2T9/HuABcBrYP0/odcv6Ftk/nSyeLEs22D+J08zbWO/aP+iHwY6hltg/KQ4y9GFe2T+GLw8lSQbRP00TbXDZRto/qbT7JJ6E2D9onc1swtTXP5o7ywDr7NQ/C4gMiPWH2D90Vebz4YzVP9trMIDkfdo/SrGreUba2j9LVdefpPvYP47N4/iy/dc/LLfpP3Ks2z84MKEqIFPWP9oKoCAkx9g/gNd76iw62T+yGl9afsvYP6u/mfhc+do/19Ko10B02D/ArJRxmnjbP6Ycxu2pNtw/St8vF2dh1z8XkZNXu9ncP9jOcUZ+19g/MBAAk/bE2j/bazCA5H3aPyztTN7dbts/uYQzVqtK1j96n1u48f/YP6m0+ySehNg/paYFp4wL1j/ybSfmqyTbP+pCQAAaRNk/Fgue6k5t1D8Yn+RNrl/YP/NYhJ0n7tk/iLsLbYfu1z+FBsbI5cHaP/ScONxAPNs/72kyQe+h2D/Rwcd1iajbPybg1nBKN9E/eV9s1Fuk0z+CmIuBZF7WP8tmCZiQMtU/4zFwqjui2j+WzCXEV6TZP0z4k4Iwi9s/+36pE22+2T9JauTJkJ/MP92GABqc9dc/1Rb2+mKc0j+Nsu5mOvvaPxeYdawF0Ng/VnXFriyJ1D8=",
           "dtype": "f8"
          },
          "colorscale": [
           [
            0,
            "#0508b8"
           ],
           [
            0.08333333333333333,
            "#1910d8"
           ],
           [
            0.16666666666666666,
            "#3c19f0"
           ],
           [
            0.25,
            "#6b1cfb"
           ],
           [
            0.3333333333333333,
            "#981cfd"
           ],
           [
            0.4166666666666667,
            "#bf1cfd"
           ],
           [
            0.5,
            "#dd2bfd"
           ],
           [
            0.5833333333333334,
            "#f246fe"
           ],
           [
            0.6666666666666666,
            "#fc67fd"
           ],
           [
            0.75,
            "#fe88fc"
           ],
           [
            0.8333333333333334,
            "#fea5fd"
           ],
           [
            0.9166666666666666,
            "#febefe"
           ],
           [
            1,
            "#fec3fe"
           ]
          ],
          "size": 10
         },
         "mode": "markers",
         "name": "Dim = 7, Hop = 6",
         "showlegend": true,
         "text": [
          "metal.00022.wav",
          "metal.00036.wav",
          "metal.00037.wav",
          "metal.00023.wav",
          "metal.00009.wav",
          "metal.00035.wav",
          "metal.00021.wav",
          "metal.00020.wav",
          "metal.00034.wav",
          "metal.00008.wav",
          "metal.00030.wav",
          "metal.00024.wav",
          "metal.00018.wav",
          "metal.00019.wav",
          "metal.00025.wav",
          "metal.00031.wav",
          "metal.00027.wav",
          "metal.00033.wav",
          "metal.00032.wav",
          "metal.00026.wav",
          "metal.00082.wav",
          "metal.00096.wav",
          "metal.00069.wav",
          "metal.00041.wav",
          "metal.00055.wav",
          "metal.00054.wav",
          "metal.00040.wav",
          "metal.00068.wav",
          "metal.00097.wav",
          "metal.00083.wav",
          "metal.00095.wav",
          "metal.00081.wav",
          "metal.00056.wav",
          "metal.00042.wav",
          "metal.00043.wav",
          "metal.00057.wav",
          "metal.00080.wav",
          "metal.00094.wav",
          "metal.00090.wav",
          "metal.00084.wav",
          "metal.00053.wav",
          "metal.00047.wav",
          "metal.00046.wav",
          "metal.00052.wav",
          "metal.00085.wav",
          "metal.00091.wav",
          "metal.00087.wav",
          "metal.00093.wav",
          "metal.00044.wav",
          "metal.00050.wav",
          "metal.00078.wav",
          "metal.00079.wav",
          "metal.00051.wav",
          "metal.00045.wav",
          "metal.00092.wav",
          "metal.00086.wav",
          "metal.00048.wav",
          "metal.00060.wav",
          "metal.00074.wav",
          "metal.00075.wav",
          "metal.00061.wav",
          "metal.00049.wav",
          "metal.00088.wav",
          "metal.00077.wav",
          "metal.00063.wav",
          "metal.00062.wav",
          "metal.00076.wav",
          "metal.00089.wav",
          "metal.00099.wav",
          "metal.00072.wav",
          "metal.00066.wav",
          "metal.00067.wav",
          "metal.00073.wav",
          "metal.00098.wav",
          "metal.00065.wav",
          "metal.00071.wav",
          "metal.00059.wav",
          "metal.00058.wav",
          "metal.00070.wav",
          "metal.00064.wav",
          "metal.00003.wav",
          "metal.00017.wav",
          "metal.00016.wav",
          "metal.00002.wav",
          "metal.00028.wav",
          "metal.00014.wav",
          "metal.00000.wav",
          "metal.00001.wav",
          "metal.00015.wav",
          "metal.00029.wav",
          "metal.00011.wav",
          "metal.00005.wav",
          "metal.00039.wav",
          "metal.00038.wav",
          "metal.00004.wav",
          "metal.00010.wav",
          "metal.00006.wav",
          "metal.00012.wav",
          "metal.00013.wav",
          "metal.00007.wav"
         ],
         "type": "scatter",
         "x": {
          "bdata": "kE/4NJBX6T9gng9Z3E7qP2+lrQ56Ceg/fJwZvZlQ6T9odL6GyYPqP9lddw16v+o/bT71zzSb6j/iUsDdb4nqP+6B/zC1WOk/IW9Z0+YT7D9f4AQzZa/lP6dmD2a1Mek/+GtRK+z85D9235w7VnTqP5Rh1bF5OOg/9z7suhiI6j93nHLC7hLpP8x/sW/Fiec/2OM531OZ6D8SlH+fPhzpP6asq090geg/TpJwheNV6j/4WTs9VIPoPz/I6R66meY/D92ha2bI6j+PpdHGpz3rP4jXNZ64Kek/KsalPNYY6D+gt4fAWK3oP+lektqZyOg/OmrY5/kC6j/kNGuv0AfnP4BEOE7qsuo/yuWGSNJZ5z/9cM3dG9HoP4o9hoctluk/jOV3t+qs6z/ugf8wtVjpPwmgLYpcCek/nRg9dQTz6D/eeU9kyJjqP6FBOp+cFuo/HcJ8hTx76j9+PF3kk/PoPwTE+MIz0Ok/ThqUdTsb6T+rdW13WersP/ris/EA0ek/DqcHe72W6T/pkYs40MPqP9jQ/8jFcus/REFZhJXZ6T9AezkN2aPrP/uHvMa7xuc/5z3Vmkec5z9R9EpIEZDpP09RXcwohOo/1svME+JV6D91q4wlFxzrP8LUcst6h+g/iNc1nrgp6T9GPvnilmXqP5p5FFATd+c/rjWf/FRU6j/K5YZI0lnnPz/I6R66meY/n+J1++Rf6j9dXevyAr7kP51PXgyRf+k/wZA9kjWr6D/7h7zGu8bnP49n93L0hOc/bOiuCXyK6j/P1IW3z8zoPw6nB3u9luk/eIzKLDsO6z+EklGkxlHoPym5gUsQKOk/lxsxyAsS6z/9cM3dG9HoP/8JCH0kSuk/o2NsPOJ+6j+dCcAt8WroP1njhKEEWuc/WYBrJg+y6T8LM0OLCGnoPy/OZH+XEew/zssarHxl6z9omBaoQj/rP0e8sVqZmOs/mAPVR6rZ6D++3YnWYC/pP1QCd0SlSOg/hxnXjEjT6D9fw2QyaeTsP66UcRWqvuo/OUJTAwG76z9QLnbKZp7oP/6ncYzd5ek/YmG5BzTk6j8=",
          "dtype": "f8"
         },
         "xaxis": "x4",
         "y": {
          "bdata": "7hJGTCru2T8aKJzhW8/XPwOPSJKCVdo/TaA2ADK02j9o1aix3u/XP35S1ovIDNc/W7f5N7X41z9YGW/BwNPXP25+hE3B09g/y0ArS5gwzj90sNGxuNvbP/os5wYvSdk/yxr8MkWF3j/yrobhe4/XPwHmMljYkNo/U9hct/rg1j+Um3hh5eHZPzaW9RNIHt0/sdK0wXNx2j+jnDiDgS3cP/UHboM1qds/CNGA1js71z+s9HPo6v7ZP6Ycxu2pNtw/8kx3CVjR1z8T1yMrRpzWP4DXe+osOtk/REuHuym12j8WdZRwUSbaP7rrYgYjaNo/75wasxK81z/zKSlKdPnbP9Hoc/fX/9c/wKyUcZp42z8Yn+RNrl/YPwxqBPGMENk/UOLQoTt71D9ufoRNwdPYPxxkLZkAI9k/AoastsaJ2T9/HuABcBrYP0/odcv6Ftk/nSyeLEs22D+J08zbWO/aP+iHwY6hltg/KQ4y9GFe2T+GLw8lSQbRP00TbXDZRto/qbT7JJ6E2D9onc1swtTXP5o7ywDr7NQ/C4gMiPWH2D90Vebz4YzVP9trMIDkfdo/SrGreUba2j9LVdefpPvYP47N4/iy/dc/LLfpP3Ks2z84MKEqIFPWP9oKoCAkx9g/gNd76iw62T+yGl9afsvYP6u/mfhc+do/19Ko10B02D/ArJRxmnjbP6Ycxu2pNtw/St8vF2dh1z8XkZNXu9ncP9jOcUZ+19g/MBAAk/bE2j/bazCA5H3aPyztTN7dbts/uYQzVqtK1j96n1u48f/YP6m0+ySehNg/paYFp4wL1j/ybSfmqyTbP+pCQAAaRNk/Fgue6k5t1D8Yn+RNrl/YP/NYhJ0n7tk/iLsLbYfu1z+FBsbI5cHaP/ScONxAPNs/72kyQe+h2D/Rwcd1iajbPybg1nBKN9E/eV9s1Fuk0z+CmIuBZF7WP8tmCZiQMtU/4zFwqjui2j+WzCXEV6TZP0z4k4Iwi9s/+36pE22+2T9JauTJkJ/MP92GABqc9dc/1Rb2+mKc0j+Nsu5mOvvaPxeYdawF0Ng/VnXFriyJ1D8=",
          "dtype": "f8"
         },
         "yaxis": "y4"
        },
        {
         "hovertemplate": "Entropy: %{x}<br>Complexity: %{y}<br>File: %{text}<extra></extra>",
         "marker": {
          "color": {
           "bdata": "y7hvOTv03z8tgZWq0kPeP7k7KQFm6t8/wBV0MAhN4D/Dunjo3obeP6PTTog4od0/FrGNWGt73j8CI6C9C2DePztpjBvW+N4/BUERSmY71z+e0E6KTxLgPwaRYo5QVt8/xBMY2GMB4T/an212JQjePyX6z/Co/t8/pI7ZONqf3T8fiyCIu+TfPxQFFlZm/+A/5Y0sKAcU4D/CmY6o4QDhP8ntQG1CoOA/nqc3EcqQ3T9TPXjZl77fP+TFlA1AceA/5eTqFUhz3j+fiIZqa1PdP7oTu0EXVd8/9+py848Z4D+VgCuZ9effP53qNmm2BOA/WcPX0j883j/6zQKlKXfgPxve3d2Ikd4/HowFhv5C4D9igFVd1TveP4Jia5OGRN8/WIdNBm+S2z87aYwb1vjeP0ogBbWKPN8/Nbd0uguP3z8AcjNYUrDeP+DZZUu3bd8//jTABQjI3j/usqZnIVzgP23eRNp3EN8/a7GaFJhn3z8or4Vlz0XYPwdgH4RmMuA/myMXoQTE3j8BxMvbYYrePyc9jD9Yu9s/PrpP75TC3j8ZxOi3kWrcP70WEsvB6d8/d4vJmlMM4D9tBmSOqTnfPyQ/16kdn94/mFyJ6T2N4D9XqaddHBTdPzDZ+c/Bnt4/uhO7QRdV3z8k1wZ6gTnfPyzSi35xA+A/plk6Qqnp3j8ejAWG/kLgP+TFlA1AceA/1YZ26o7W3T/nQ8eHXkDgP6tOAyfD5t4/fWRjl7JF4D+9FhLLwenfPyqpf4klYOA/Jt1Yu2MA3T+f4OnS5NDeP5sjF6EExN4/c0S/WXXv3D+gRu5BflrgP+yeW2Tpb98/RfAu+NaW2z9igFVd1TveP8SRGdEi998/AsCNWxVo3j/1ZdWl0CrgPzRr9yGNNeA/1YrKn5fw3j+7y1glxJPgP78LIhPQS9k/SuPe0PQ72z9uWwuKyCbdP79LBaViI9w/p0P/OC464D8kdsJVIrnfP6UA/Ug6cOA/p3KAcdZN3z/I6Fe5VyzWP0lYaYCPc94/0N6e+xId2j9WV9BO6k3gP6xjnkk4CN8/ILBfo5Lm2z8=",
           "dtype": "f8"
          },
          "colorscale": [
           [
            0,
            "#0508b8"
           ],
           [
            0.08333333333333333,
            "#1910d8"
           ],
           [
            0.16666666666666666,
            "#3c19f0"
           ],
           [
            0.25,
            "#6b1cfb"
           ],
           [
            0.3333333333333333,
            "#981cfd"
           ],
           [
            0.4166666666666667,
            "#bf1cfd"
           ],
           [
            0.5,
            "#dd2bfd"
           ],
           [
            0.5833333333333334,
            "#f246fe"
           ],
           [
            0.6666666666666666,
            "#fc67fd"
           ],
           [
            0.75,
            "#fe88fc"
           ],
           [
            0.8333333333333334,
            "#fea5fd"
           ],
           [
            0.9166666666666666,
            "#febefe"
           ],
           [
            1,
            "#fec3fe"
           ]
          ],
          "size": 10
         },
         "mode": "markers",
         "name": "Dim = 8, Hop = 7",
         "showlegend": true,
         "text": [
          "metal.00022.wav",
          "metal.00036.wav",
          "metal.00037.wav",
          "metal.00023.wav",
          "metal.00009.wav",
          "metal.00035.wav",
          "metal.00021.wav",
          "metal.00020.wav",
          "metal.00034.wav",
          "metal.00008.wav",
          "metal.00030.wav",
          "metal.00024.wav",
          "metal.00018.wav",
          "metal.00019.wav",
          "metal.00025.wav",
          "metal.00031.wav",
          "metal.00027.wav",
          "metal.00033.wav",
          "metal.00032.wav",
          "metal.00026.wav",
          "metal.00082.wav",
          "metal.00096.wav",
          "metal.00069.wav",
          "metal.00041.wav",
          "metal.00055.wav",
          "metal.00054.wav",
          "metal.00040.wav",
          "metal.00068.wav",
          "metal.00097.wav",
          "metal.00083.wav",
          "metal.00095.wav",
          "metal.00081.wav",
          "metal.00056.wav",
          "metal.00042.wav",
          "metal.00043.wav",
          "metal.00057.wav",
          "metal.00080.wav",
          "metal.00094.wav",
          "metal.00090.wav",
          "metal.00084.wav",
          "metal.00053.wav",
          "metal.00047.wav",
          "metal.00046.wav",
          "metal.00052.wav",
          "metal.00085.wav",
          "metal.00091.wav",
          "metal.00087.wav",
          "metal.00093.wav",
          "metal.00044.wav",
          "metal.00050.wav",
          "metal.00078.wav",
          "metal.00079.wav",
          "metal.00051.wav",
          "metal.00045.wav",
          "metal.00092.wav",
          "metal.00086.wav",
          "metal.00048.wav",
          "metal.00060.wav",
          "metal.00074.wav",
          "metal.00075.wav",
          "metal.00061.wav",
          "metal.00049.wav",
          "metal.00088.wav",
          "metal.00077.wav",
          "metal.00063.wav",
          "metal.00062.wav",
          "metal.00076.wav",
          "metal.00089.wav",
          "metal.00099.wav",
          "metal.00072.wav",
          "metal.00066.wav",
          "metal.00067.wav",
          "metal.00073.wav",
          "metal.00098.wav",
          "metal.00065.wav",
          "metal.00071.wav",
          "metal.00059.wav",
          "metal.00058.wav",
          "metal.00070.wav",
          "metal.00064.wav",
          "metal.00003.wav",
          "metal.00017.wav",
          "metal.00016.wav",
          "metal.00002.wav",
          "metal.00028.wav",
          "metal.00014.wav",
          "metal.00000.wav",
          "metal.00001.wav",
          "metal.00015.wav",
          "metal.00029.wav",
          "metal.00011.wav",
          "metal.00005.wav",
          "metal.00039.wav",
          "metal.00038.wav",
          "metal.00004.wav",
          "metal.00010.wav",
          "metal.00006.wav",
          "metal.00012.wav",
          "metal.00013.wav",
          "metal.00007.wav"
         ],
         "type": "scatter",
         "x": {
          "bdata": "hyR9whG06D8W49dD1snpP8HZnBIkWuc/tiKBzXLl6D/M+wGvxsrpP83Ui8xYMeo/A3gdN6cm6j8em8ERMQzqPyqlpo/fu+g/5a6mCP436z+pC+sW6hzlP+PgzLWFn+g/r3Ti6/ek5D/Nl3aq+fnpP4Malu4Mv+c/HtqHruLm6T+K/9tjRYHoPzS0ZC30GOc/D7pv03cQ6D/EeTCvkaboP4h/QPg0A+g/hJb7bgjH6T+58XE4+NLnP3DvhWHnG+Y/kJ1sSnlZ6j/YuZ8v18bqP1V+xYW0oeg/S5bt+FGG5z/24Nub4x7oP8xf6exHT+g/uKP9bq9f6T9ThJstV3zmP/oZclKwOOo/bGT2AxzX5j+PXs0HwzXoP7AcH9leFek/x9oOpi0L6z8qpaaP37voP+QR6FpQY+g/SuKdcX5d6D/hvQgzyxjqP+ly+Q9cnek/Zg4SO4766T/domRNzH/oP7jDAj0VLek/PaPf0T9p6D9KuaWIl1XsP/cqZclDaek/eYXL/IsH6T8/CU/nhkfqP57J+ke82uo/lXbyLRlL6T885AzTJirrP9bBgx6YPec/TZpj+IX35j89zVUmVwXpP4dl8EBEAuo/FkPhd93d5z94TsIm7ZTqP2INDd5F3Oc/VX7FhbSh6D8aVC2LIffpP2T4Dj7i2+Y/JG99pEPL6T9sZPYDHNfmP3DvhWHnG+Y/bMpXgBnc6T+fjh3uJ0TkPw9Fhb6T7eg/P2TLwtcp6D/WwYMemD3nP3Rb9Wh0Buc//c+5YV7x6T/JMSTX/DboP3mFy/yLB+k/09lYh+Ju6j85VLq7qdXnP9a/49GShug/Jav9vCdZ6j+PXs0HwzXoPyC8cogmyug/ZvXoYykH6j/fVBPmv/LnPyfoCZZyweY/QboKFSYi6T//2C7enQ3oP2acGwReY+s/uDSVeHG96j+aGjM/OsvqP9CTfQUAAus/AUKV+4N76D8iWGFIaqXoPyiyCOP1tec/ZNZfMlhZ6D9+1FQKeTfsP1CsRl91V+o/1oR2jiMX6z/lb9NNDzLoPzs0MbC3d+k/61NxkEFH6j8=",
          "dtype": "f8"
         },
         "xaxis": "x5",
         "y": {
          "bdata": "y7hvOTv03z8tgZWq0kPeP7k7KQFm6t8/wBV0MAhN4D/Dunjo3obeP6PTTog4od0/FrGNWGt73j8CI6C9C2DePztpjBvW+N4/BUERSmY71z+e0E6KTxLgPwaRYo5QVt8/xBMY2GMB4T/an212JQjePyX6z/Co/t8/pI7ZONqf3T8fiyCIu+TfPxQFFlZm/+A/5Y0sKAcU4D/CmY6o4QDhP8ntQG1CoOA/nqc3EcqQ3T9TPXjZl77fP+TFlA1AceA/5eTqFUhz3j+fiIZqa1PdP7oTu0EXVd8/9+py848Z4D+VgCuZ9effP53qNmm2BOA/WcPX0j883j/6zQKlKXfgPxve3d2Ikd4/HowFhv5C4D9igFVd1TveP4Jia5OGRN8/WIdNBm+S2z87aYwb1vjeP0ogBbWKPN8/Nbd0uguP3z8AcjNYUrDeP+DZZUu3bd8//jTABQjI3j/usqZnIVzgP23eRNp3EN8/a7GaFJhn3z8or4Vlz0XYPwdgH4RmMuA/myMXoQTE3j8BxMvbYYrePyc9jD9Yu9s/PrpP75TC3j8ZxOi3kWrcP70WEsvB6d8/d4vJmlMM4D9tBmSOqTnfPyQ/16kdn94/mFyJ6T2N4D9XqaddHBTdPzDZ+c/Bnt4/uhO7QRdV3z8k1wZ6gTnfPyzSi35xA+A/plk6Qqnp3j8ejAWG/kLgP+TFlA1AceA/1YZ26o7W3T/nQ8eHXkDgP6tOAyfD5t4/fWRjl7JF4D+9FhLLwenfPyqpf4klYOA/Jt1Yu2MA3T+f4OnS5NDeP5sjF6EExN4/c0S/WXXv3D+gRu5BflrgP+yeW2Tpb98/RfAu+NaW2z9igFVd1TveP8SRGdEi998/AsCNWxVo3j/1ZdWl0CrgPzRr9yGNNeA/1YrKn5fw3j+7y1glxJPgP78LIhPQS9k/SuPe0PQ72z9uWwuKyCbdP79LBaViI9w/p0P/OC464D8kdsJVIrnfP6UA/Ug6cOA/p3KAcdZN3z/I6Fe5VyzWP0lYaYCPc94/0N6e+xId2j9WV9BO6k3gP6xjnkk4CN8/ILBfo5Lm2z8=",
          "dtype": "f8"
         },
         "yaxis": "y5"
        },
        {
         "hovertemplate": "Entropy: %{x}<br>Complexity: %{y}<br>File: %{text}<extra></extra>",
         "marker": {
          "color": {
           "bdata": "Pc/Xq+J74z/5teVkhJTjP7VQoCE+BeM/B1owNdvV4z+giNcx5YDjPzJqOqmfcuM/vce3aBWq4z+ZLJWs7ZjjP4qFT3cNY+M/sQav90Hp4j+0SY7WGRfiP7vYBm1XeeM/vVNHmiGG4j8xmcl6MpDjP5nZXVoSWuM//BXzJqN24z9onBfQU4zjP0KA4/LFbOM/B5uaLUJ14z9Hv53WwgbkP8y0GnbGoeM/c+tEVJdW4z/8O7F9gR7jP0/GF1973eI/KRYohOa04z98w7vNBY3jP7lsO0YCfOM/F7kBXKk14z8yS8m5N1vjP7vp1PkweOM/5EvrokZm4z/y6mgJLfDiP7qUaZn8teM/wJu1NOwO4z9DRuV2jB3jP4KR6jB0l+M/EoUFOk1M4z+KhU93DWPjP668w2C8TOM/ebF/T4Vj4z+XyT8VvrXjP4wqUUZnwOM/Xy0scUKz4z/aV0g9ybbjPzvjEfkfh+M/AxH+De1F4z9I9dWVv8/iP17l5ceb5uM/W2+N5wx34z/JiTaEibbjP8CzeTLYQuM/b9olvtGD4z+1gk4rS3DjPxYGW9KfFeM/Qwts9hLq4j+AjqigP4jjPyUPLSKks+M/xEvmUgmJ4z/sAfVR+HnjPykDD9uX9uI/uWw7RgJ84z8+HlZmucvjPyJoii4k2OI/LB/IShes4z/Am7U07A7jP0/GF1973eI/8cdYgiaF4z82uKuYxNbhPx/ftIRbZeM/mIKsNluO4z8WBlvSnxXjP3Qu/veWP+M/qGojzl5g4z88x4yRHh7jP1tvjecMd+M/aboZTOhx4z9YmmYTpnnjP/v3k5M2bOM/VHveTgg/4z9DRuV2jB3jPzfrKhSKmeM/EnKilnaf4z8Wbf7vDHPjP11GKoeE8eI/iddS/TaL4z/5dcdQnbDjP2rOpgRgOOM/XGOfKOVc4z9I6zlUvonjP8Go4bNGWeM/HqjPBZ254z/sbObfWZPjP+q8yqXGVOM/H5rWsc1J4z+E3q7C9NHiP0V5hNFxteM/69+eM8M44z8c9bhNeZ7jP8AXJecTo+M/eRkcbcZm4z8=",
           "dtype": "f8"
          },
          "colorscale": [
           [
            0,
            "#0508b8"
           ],
           [
            0.08333333333333333,
            "#1910d8"
           ],
           [
            0.16666666666666666,
            "#3c19f0"
           ],
           [
            0.25,
            "#6b1cfb"
           ],
           [
            0.3333333333333333,
            "#981cfd"
           ],
           [
            0.4166666666666667,
            "#bf1cfd"
           ],
           [
            0.5,
            "#dd2bfd"
           ],
           [
            0.5833333333333334,
            "#f246fe"
           ],
           [
            0.6666666666666666,
            "#fc67fd"
           ],
           [
            0.75,
            "#fe88fc"
           ],
           [
            0.8333333333333334,
            "#fea5fd"
           ],
           [
            0.9166666666666666,
            "#febefe"
           ],
           [
            1,
            "#fec3fe"
           ]
          ],
          "size": 10
         },
         "mode": "markers",
         "name": "Dim = 9, Hop = 8",
         "showlegend": true,
         "text": [
          "metal.00022.wav",
          "metal.00036.wav",
          "metal.00037.wav",
          "metal.00023.wav",
          "metal.00009.wav",
          "metal.00035.wav",
          "metal.00021.wav",
          "metal.00020.wav",
          "metal.00034.wav",
          "metal.00008.wav",
          "metal.00030.wav",
          "metal.00024.wav",
          "metal.00018.wav",
          "metal.00019.wav",
          "metal.00025.wav",
          "metal.00031.wav",
          "metal.00027.wav",
          "metal.00033.wav",
          "metal.00032.wav",
          "metal.00026.wav",
          "metal.00082.wav",
          "metal.00096.wav",
          "metal.00069.wav",
          "metal.00041.wav",
          "metal.00055.wav",
          "metal.00054.wav",
          "metal.00040.wav",
          "metal.00068.wav",
          "metal.00097.wav",
          "metal.00083.wav",
          "metal.00095.wav",
          "metal.00081.wav",
          "metal.00056.wav",
          "metal.00042.wav",
          "metal.00043.wav",
          "metal.00057.wav",
          "metal.00080.wav",
          "metal.00094.wav",
          "metal.00090.wav",
          "metal.00084.wav",
          "metal.00053.wav",
          "metal.00047.wav",
          "metal.00046.wav",
          "metal.00052.wav",
          "metal.00085.wav",
          "metal.00091.wav",
          "metal.00087.wav",
          "metal.00093.wav",
          "metal.00044.wav",
          "metal.00050.wav",
          "metal.00078.wav",
          "metal.00079.wav",
          "metal.00051.wav",
          "metal.00045.wav",
          "metal.00092.wav",
          "metal.00086.wav",
          "metal.00048.wav",
          "metal.00060.wav",
          "metal.00074.wav",
          "metal.00075.wav",
          "metal.00061.wav",
          "metal.00049.wav",
          "metal.00088.wav",
          "metal.00077.wav",
          "metal.00063.wav",
          "metal.00062.wav",
          "metal.00076.wav",
          "metal.00089.wav",
          "metal.00099.wav",
          "metal.00072.wav",
          "metal.00066.wav",
          "metal.00067.wav",
          "metal.00073.wav",
          "metal.00098.wav",
          "metal.00065.wav",
          "metal.00071.wav",
          "metal.00059.wav",
          "metal.00058.wav",
          "metal.00070.wav",
          "metal.00064.wav",
          "metal.00003.wav",
          "metal.00017.wav",
          "metal.00016.wav",
          "metal.00002.wav",
          "metal.00028.wav",
          "metal.00014.wav",
          "metal.00000.wav",
          "metal.00001.wav",
          "metal.00015.wav",
          "metal.00029.wav",
          "metal.00011.wav",
          "metal.00005.wav",
          "metal.00039.wav",
          "metal.00038.wav",
          "metal.00004.wav",
          "metal.00010.wav",
          "metal.00006.wav",
          "metal.00012.wav",
          "metal.00013.wav",
          "metal.00007.wav"
         ],
         "type": "scatter",
         "x": {
          "bdata": "X6WOUBCP5z8nXfVZ5Z3oP2gsJF2gS+Y/rF7HP9D/5z9G/nDsN3boP1cUJpDE4+g/kmIjqgwG6T/8iUnIzeToP9W32+s3kec/iPXoWBc46T8pILWYgUnkP3ZRscuEjec/EYYOaj895D/8lsy3+8XoP0yU2SCa2+Y/rWbdqfmQ6D/u9WGPSobnP/+Vlip1VOY/whjvhBcU5z/oW/fjeuLnPzPVlQDWJec/2TITO4Z/6D/AogaSMb7mP7u1PwenYOU/ybp4gvMv6T/pmhS2An7pP66vcjnYlOc/j/od+c2R5j+jHJUuxxnnP++BwF3HUOc/Eckgd9wc6D+ung1LYKXlP7VIX7fPC+k/LeuR6EQE5j9xmRIYvADnP9WUVOBvAug/eGUW4B6I6T/Vt9vrN5HnP0ZL7CbiPuc/Sl6ZXfdM5z97iPy3T+voP5nEgQUvjeg/jGkX2+7Q6D+ZobyFHZ3nP94a7g41Bug/17J7aOtD5z9ed4hH2IvqP9z1YvKMd+g/6LPRvePl5z8DE1BHhhrpP0mZZ7cgYOk/oBawaGwi6D+uwZgPVMvpP0WuTHDITuY/md2xXLz/5T/jG70LTuPnP+mHObvi1eg/S8VrWP4E5z8uq0KNuzvpP3dbFsiZsuY/rq9yOdiU5z+ghEivg+boP6yR0DXw8uU/aozwKTah6D8t65HoRATmP7u1PwenYOU/nw9qq2yc6D/GAjAggZnjP78t29ldyuc/CKOnKP9B5z9FrkxwyE7mPyYEkUKwP+Y/Pv/tm2yP6D9QaYI6NBPnP+iz0b3j5ec/YAQe6EsM6T9kwEATdvfmPwBkD7yRa+c/J84OIqPJ6D9xmRIYvADnP8cefiaUyec/nIu0QGfk6D+5C1RM0gjnP7HJbbsB2eU/5MZcwsAE6D/3j1qK81nnP9vGhndVuuk/fXvpQ5BF6T8UhCHvdYfpPyjPK8MKj+k/4geQQQGk5z/7I/PlY5jnPwuhASr4yOY/07zEZt9Z5z+0GZVbHEfqP4BM8k8gNOk/dvTbNNeB6T9DpI+rmGfnP4rh0iHRdOg/iXcradzp6D8=",
          "dtype": "f8"
         },
         "xaxis": "x6",
         "y": {
          "bdata": "Pc/Xq+J74z/5teVkhJTjP7VQoCE+BeM/B1owNdvV4z+giNcx5YDjPzJqOqmfcuM/vce3aBWq4z+ZLJWs7ZjjP4qFT3cNY+M/sQav90Hp4j+0SY7WGRfiP7vYBm1XeeM/vVNHmiGG4j8xmcl6MpDjP5nZXVoSWuM//BXzJqN24z9onBfQU4zjP0KA4/LFbOM/B5uaLUJ14z9Hv53WwgbkP8y0GnbGoeM/c+tEVJdW4z/8O7F9gR7jP0/GF1973eI/KRYohOa04z98w7vNBY3jP7lsO0YCfOM/F7kBXKk14z8yS8m5N1vjP7vp1PkweOM/5EvrokZm4z/y6mgJLfDiP7qUaZn8teM/wJu1NOwO4z9DRuV2jB3jP4KR6jB0l+M/EoUFOk1M4z+KhU93DWPjP668w2C8TOM/ebF/T4Vj4z+XyT8VvrXjP4wqUUZnwOM/Xy0scUKz4z/aV0g9ybbjPzvjEfkfh+M/AxH+De1F4z9I9dWVv8/iP17l5ceb5uM/W2+N5wx34z/JiTaEibbjP8CzeTLYQuM/b9olvtGD4z+1gk4rS3DjPxYGW9KfFeM/Qwts9hLq4j+AjqigP4jjPyUPLSKks+M/xEvmUgmJ4z/sAfVR+HnjPykDD9uX9uI/uWw7RgJ84z8+HlZmucvjPyJoii4k2OI/LB/IShes4z/Am7U07A7jP0/GF1973eI/8cdYgiaF4z82uKuYxNbhPx/ftIRbZeM/mIKsNluO4z8WBlvSnxXjP3Qu/veWP+M/qGojzl5g4z88x4yRHh7jP1tvjecMd+M/aboZTOhx4z9YmmYTpnnjP/v3k5M2bOM/VHveTgg/4z9DRuV2jB3jPzfrKhSKmeM/EnKilnaf4z8Wbf7vDHPjP11GKoeE8eI/iddS/TaL4z/5dcdQnbDjP2rOpgRgOOM/XGOfKOVc4z9I6zlUvonjP8Go4bNGWeM/HqjPBZ254z/sbObfWZPjP+q8yqXGVOM/H5rWsc1J4z+E3q7C9NHiP0V5hNFxteM/69+eM8M44z8c9bhNeZ7jP8AXJecTo+M/eRkcbcZm4z8=",
          "dtype": "f8"
         },
         "yaxis": "y6"
        }
       ],
       "layout": {
        "annotations": [
         {
          "font": {
           "size": 16
          },
          "showarrow": false,
          "text": "Dim = '4', Hop = '3'",
          "x": 0.225,
          "xanchor": "center",
          "xref": "paper",
          "y": 1,
          "yanchor": "bottom",
          "yref": "paper"
         },
         {
          "font": {
           "size": 16
          },
          "showarrow": false,
          "text": "Dim = '5', Hop = '4'",
          "x": 0.775,
          "xanchor": "center",
          "xref": "paper",
          "y": 1,
          "yanchor": "bottom",
          "yref": "paper"
         },
         {
          "font": {
           "size": 16
          },
          "showarrow": false,
          "text": "Dim = '6', Hop = '5'",
          "x": 0.225,
          "xanchor": "center",
          "xref": "paper",
          "y": 0.6111111111111112,
          "yanchor": "bottom",
          "yref": "paper"
         },
         {
          "font": {
           "size": 16
          },
          "showarrow": false,
          "text": "Dim = '7', Hop = '6'",
          "x": 0.775,
          "xanchor": "center",
          "xref": "paper",
          "y": 0.6111111111111112,
          "yanchor": "bottom",
          "yref": "paper"
         },
         {
          "font": {
           "size": 16
          },
          "showarrow": false,
          "text": "Dim = '8', Hop = '7'",
          "x": 0.225,
          "xanchor": "center",
          "xref": "paper",
          "y": 0.22222222222222224,
          "yanchor": "bottom",
          "yref": "paper"
         },
         {
          "font": {
           "size": 16
          },
          "showarrow": false,
          "text": "Dim = '9', Hop = '8'",
          "x": 0.775,
          "xanchor": "center",
          "xref": "paper",
          "y": 0.22222222222222224,
          "yanchor": "bottom",
          "yref": "paper"
         }
        ],
        "height": 1400,
        "template": {
         "data": {
          "bar": [
           {
            "error_x": {
             "color": "#f2f5fa"
            },
            "error_y": {
             "color": "#f2f5fa"
            },
            "marker": {
             "line": {
              "color": "rgb(17,17,17)",
              "width": 0.5
             },
             "pattern": {
              "fillmode": "overlay",
              "size": 10,
              "solidity": 0.2
             }
            },
            "type": "bar"
           }
          ],
          "barpolar": [
           {
            "marker": {
             "line": {
              "color": "rgb(17,17,17)",
              "width": 0.5
             },
             "pattern": {
              "fillmode": "overlay",
              "size": 10,
              "solidity": 0.2
             }
            },
            "type": "barpolar"
           }
          ],
          "carpet": [
           {
            "aaxis": {
             "endlinecolor": "#A2B1C6",
             "gridcolor": "#506784",
             "linecolor": "#506784",
             "minorgridcolor": "#506784",
             "startlinecolor": "#A2B1C6"
            },
            "baxis": {
             "endlinecolor": "#A2B1C6",
             "gridcolor": "#506784",
             "linecolor": "#506784",
             "minorgridcolor": "#506784",
             "startlinecolor": "#A2B1C6"
            },
            "type": "carpet"
           }
          ],
          "choropleth": [
           {
            "colorbar": {
             "outlinewidth": 0,
             "ticks": ""
            },
            "type": "choropleth"
           }
          ],
          "contour": [
           {
            "colorbar": {
             "outlinewidth": 0,
             "ticks": ""
            },
            "colorscale": [
             [
              0,
              "#0d0887"
             ],
             [
              0.1111111111111111,
              "#46039f"
             ],
             [
              0.2222222222222222,
              "#7201a8"
             ],
             [
              0.3333333333333333,
              "#9c179e"
             ],
             [
              0.4444444444444444,
              "#bd3786"
             ],
             [
              0.5555555555555556,
              "#d8576b"
             ],
             [
              0.6666666666666666,
              "#ed7953"
             ],
             [
              0.7777777777777778,
              "#fb9f3a"
             ],
             [
              0.8888888888888888,
              "#fdca26"
             ],
             [
              1,
              "#f0f921"
             ]
            ],
            "type": "contour"
           }
          ],
          "contourcarpet": [
           {
            "colorbar": {
             "outlinewidth": 0,
             "ticks": ""
            },
            "type": "contourcarpet"
           }
          ],
          "heatmap": [
           {
            "colorbar": {
             "outlinewidth": 0,
             "ticks": ""
            },
            "colorscale": [
             [
              0,
              "#0d0887"
             ],
             [
              0.1111111111111111,
              "#46039f"
             ],
             [
              0.2222222222222222,
              "#7201a8"
             ],
             [
              0.3333333333333333,
              "#9c179e"
             ],
             [
              0.4444444444444444,
              "#bd3786"
             ],
             [
              0.5555555555555556,
              "#d8576b"
             ],
             [
              0.6666666666666666,
              "#ed7953"
             ],
             [
              0.7777777777777778,
              "#fb9f3a"
             ],
             [
              0.8888888888888888,
              "#fdca26"
             ],
             [
              1,
              "#f0f921"
             ]
            ],
            "type": "heatmap"
           }
          ],
          "histogram": [
           {
            "marker": {
             "pattern": {
              "fillmode": "overlay",
              "size": 10,
              "solidity": 0.2
             }
            },
            "type": "histogram"
           }
          ],
          "histogram2d": [
           {
            "colorbar": {
             "outlinewidth": 0,
             "ticks": ""
            },
            "colorscale": [
             [
              0,
              "#0d0887"
             ],
             [
              0.1111111111111111,
              "#46039f"
             ],
             [
              0.2222222222222222,
              "#7201a8"
             ],
             [
              0.3333333333333333,
              "#9c179e"
             ],
             [
              0.4444444444444444,
              "#bd3786"
             ],
             [
              0.5555555555555556,
              "#d8576b"
             ],
             [
              0.6666666666666666,
              "#ed7953"
             ],
             [
              0.7777777777777778,
              "#fb9f3a"
             ],
             [
              0.8888888888888888,
              "#fdca26"
             ],
             [
              1,
              "#f0f921"
             ]
            ],
            "type": "histogram2d"
           }
          ],
          "histogram2dcontour": [
           {
            "colorbar": {
             "outlinewidth": 0,
             "ticks": ""
            },
            "colorscale": [
             [
              0,
              "#0d0887"
             ],
             [
              0.1111111111111111,
              "#46039f"
             ],
             [
              0.2222222222222222,
              "#7201a8"
             ],
             [
              0.3333333333333333,
              "#9c179e"
             ],
             [
              0.4444444444444444,
              "#bd3786"
             ],
             [
              0.5555555555555556,
              "#d8576b"
             ],
             [
              0.6666666666666666,
              "#ed7953"
             ],
             [
              0.7777777777777778,
              "#fb9f3a"
             ],
             [
              0.8888888888888888,
              "#fdca26"
             ],
             [
              1,
              "#f0f921"
             ]
            ],
            "type": "histogram2dcontour"
           }
          ],
          "mesh3d": [
           {
            "colorbar": {
             "outlinewidth": 0,
             "ticks": ""
            },
            "type": "mesh3d"
           }
          ],
          "parcoords": [
           {
            "line": {
             "colorbar": {
              "outlinewidth": 0,
              "ticks": ""
             }
            },
            "type": "parcoords"
           }
          ],
          "pie": [
           {
            "automargin": true,
            "type": "pie"
           }
          ],
          "scatter": [
           {
            "marker": {
             "line": {
              "color": "#283442"
             }
            },
            "type": "scatter"
           }
          ],
          "scatter3d": [
           {
            "line": {
             "colorbar": {
              "outlinewidth": 0,
              "ticks": ""
             }
            },
            "marker": {
             "colorbar": {
              "outlinewidth": 0,
              "ticks": ""
             }
            },
            "type": "scatter3d"
           }
          ],
          "scattercarpet": [
           {
            "marker": {
             "colorbar": {
              "outlinewidth": 0,
              "ticks": ""
             }
            },
            "type": "scattercarpet"
           }
          ],
          "scattergeo": [
           {
            "marker": {
             "colorbar": {
              "outlinewidth": 0,
              "ticks": ""
             }
            },
            "type": "scattergeo"
           }
          ],
          "scattergl": [
           {
            "marker": {
             "line": {
              "color": "#283442"
             }
            },
            "type": "scattergl"
           }
          ],
          "scattermap": [
           {
            "marker": {
             "colorbar": {
              "outlinewidth": 0,
              "ticks": ""
             }
            },
            "type": "scattermap"
           }
          ],
          "scattermapbox": [
           {
            "marker": {
             "colorbar": {
              "outlinewidth": 0,
              "ticks": ""
             }
            },
            "type": "scattermapbox"
           }
          ],
          "scatterpolar": [
           {
            "marker": {
             "colorbar": {
              "outlinewidth": 0,
              "ticks": ""
             }
            },
            "type": "scatterpolar"
           }
          ],
          "scatterpolargl": [
           {
            "marker": {
             "colorbar": {
              "outlinewidth": 0,
              "ticks": ""
             }
            },
            "type": "scatterpolargl"
           }
          ],
          "scatterternary": [
           {
            "marker": {
             "colorbar": {
              "outlinewidth": 0,
              "ticks": ""
             }
            },
            "type": "scatterternary"
           }
          ],
          "surface": [
           {
            "colorbar": {
             "outlinewidth": 0,
             "ticks": ""
            },
            "colorscale": [
             [
              0,
              "#0d0887"
             ],
             [
              0.1111111111111111,
              "#46039f"
             ],
             [
              0.2222222222222222,
              "#7201a8"
             ],
             [
              0.3333333333333333,
              "#9c179e"
             ],
             [
              0.4444444444444444,
              "#bd3786"
             ],
             [
              0.5555555555555556,
              "#d8576b"
             ],
             [
              0.6666666666666666,
              "#ed7953"
             ],
             [
              0.7777777777777778,
              "#fb9f3a"
             ],
             [
              0.8888888888888888,
              "#fdca26"
             ],
             [
              1,
              "#f0f921"
             ]
            ],
            "type": "surface"
           }
          ],
          "table": [
           {
            "cells": {
             "fill": {
              "color": "#506784"
             },
             "line": {
              "color": "rgb(17,17,17)"
             }
            },
            "header": {
             "fill": {
              "color": "#2a3f5f"
             },
             "line": {
              "color": "rgb(17,17,17)"
             }
            },
            "type": "table"
           }
          ]
         },
         "layout": {
          "annotationdefaults": {
           "arrowcolor": "#f2f5fa",
           "arrowhead": 0,
           "arrowwidth": 1
          },
          "autotypenumbers": "strict",
          "coloraxis": {
           "colorbar": {
            "outlinewidth": 0,
            "ticks": ""
           }
          },
          "colorscale": {
           "diverging": [
            [
             0,
             "#8e0152"
            ],
            [
             0.1,
             "#c51b7d"
            ],
            [
             0.2,
             "#de77ae"
            ],
            [
             0.3,
             "#f1b6da"
            ],
            [
             0.4,
             "#fde0ef"
            ],
            [
             0.5,
             "#f7f7f7"
            ],
            [
             0.6,
             "#e6f5d0"
            ],
            [
             0.7,
             "#b8e186"
            ],
            [
             0.8,
             "#7fbc41"
            ],
            [
             0.9,
             "#4d9221"
            ],
            [
             1,
             "#276419"
            ]
           ],
           "sequential": [
            [
             0,
             "#0d0887"
            ],
            [
             0.1111111111111111,
             "#46039f"
            ],
            [
             0.2222222222222222,
             "#7201a8"
            ],
            [
             0.3333333333333333,
             "#9c179e"
            ],
            [
             0.4444444444444444,
             "#bd3786"
            ],
            [
             0.5555555555555556,
             "#d8576b"
            ],
            [
             0.6666666666666666,
             "#ed7953"
            ],
            [
             0.7777777777777778,
             "#fb9f3a"
            ],
            [
             0.8888888888888888,
             "#fdca26"
            ],
            [
             1,
             "#f0f921"
            ]
           ],
           "sequentialminus": [
            [
             0,
             "#0d0887"
            ],
            [
             0.1111111111111111,
             "#46039f"
            ],
            [
             0.2222222222222222,
             "#7201a8"
            ],
            [
             0.3333333333333333,
             "#9c179e"
            ],
            [
             0.4444444444444444,
             "#bd3786"
            ],
            [
             0.5555555555555556,
             "#d8576b"
            ],
            [
             0.6666666666666666,
             "#ed7953"
            ],
            [
             0.7777777777777778,
             "#fb9f3a"
            ],
            [
             0.8888888888888888,
             "#fdca26"
            ],
            [
             1,
             "#f0f921"
            ]
           ]
          },
          "colorway": [
           "#636efa",
           "#EF553B",
           "#00cc96",
           "#ab63fa",
           "#FFA15A",
           "#19d3f3",
           "#FF6692",
           "#B6E880",
           "#FF97FF",
           "#FECB52"
          ],
          "font": {
           "color": "#f2f5fa"
          },
          "geo": {
           "bgcolor": "rgb(17,17,17)",
           "lakecolor": "rgb(17,17,17)",
           "landcolor": "rgb(17,17,17)",
           "showlakes": true,
           "showland": true,
           "subunitcolor": "#506784"
          },
          "hoverlabel": {
           "align": "left"
          },
          "hovermode": "closest",
          "mapbox": {
           "style": "dark"
          },
          "paper_bgcolor": "rgb(17,17,17)",
          "plot_bgcolor": "rgb(17,17,17)",
          "polar": {
           "angularaxis": {
            "gridcolor": "#506784",
            "linecolor": "#506784",
            "ticks": ""
           },
           "bgcolor": "rgb(17,17,17)",
           "radialaxis": {
            "gridcolor": "#506784",
            "linecolor": "#506784",
            "ticks": ""
           }
          },
          "scene": {
           "xaxis": {
            "backgroundcolor": "rgb(17,17,17)",
            "gridcolor": "#506784",
            "gridwidth": 2,
            "linecolor": "#506784",
            "showbackground": true,
            "ticks": "",
            "zerolinecolor": "#C8D4E3"
           },
           "yaxis": {
            "backgroundcolor": "rgb(17,17,17)",
            "gridcolor": "#506784",
            "gridwidth": 2,
            "linecolor": "#506784",
            "showbackground": true,
            "ticks": "",
            "zerolinecolor": "#C8D4E3"
           },
           "zaxis": {
            "backgroundcolor": "rgb(17,17,17)",
            "gridcolor": "#506784",
            "gridwidth": 2,
            "linecolor": "#506784",
            "showbackground": true,
            "ticks": "",
            "zerolinecolor": "#C8D4E3"
           }
          },
          "shapedefaults": {
           "line": {
            "color": "#f2f5fa"
           }
          },
          "sliderdefaults": {
           "bgcolor": "#C8D4E3",
           "bordercolor": "rgb(17,17,17)",
           "borderwidth": 1,
           "tickwidth": 0
          },
          "ternary": {
           "aaxis": {
            "gridcolor": "#506784",
            "linecolor": "#506784",
            "ticks": ""
           },
           "baxis": {
            "gridcolor": "#506784",
            "linecolor": "#506784",
            "ticks": ""
           },
           "bgcolor": "rgb(17,17,17)",
           "caxis": {
            "gridcolor": "#506784",
            "linecolor": "#506784",
            "ticks": ""
           }
          },
          "title": {
           "x": 0.05
          },
          "updatemenudefaults": {
           "bgcolor": "#506784",
           "borderwidth": 0
          },
          "xaxis": {
           "automargin": true,
           "gridcolor": "#283442",
           "linecolor": "#506784",
           "ticks": "",
           "title": {
            "standoff": 15
           },
           "zerolinecolor": "#283442",
           "zerolinewidth": 2
          },
          "yaxis": {
           "automargin": true,
           "gridcolor": "#283442",
           "linecolor": "#506784",
           "ticks": "",
           "title": {
            "standoff": 15
           },
           "zerolinecolor": "#283442",
           "zerolinewidth": 2
          }
         }
        },
        "title": {
         "text": "Combined Entropy–Complexity Plots for Folder data/genres_30sec/metal"
        },
        "width": 1200,
        "xaxis": {
         "anchor": "y",
         "domain": [
          0,
          0.45
         ],
         "range": [
          0,
          1
         ]
        },
        "xaxis2": {
         "anchor": "y2",
         "domain": [
          0.55,
          1
         ],
         "range": [
          0,
          1
         ]
        },
        "xaxis3": {
         "anchor": "y3",
         "domain": [
          0,
          0.45
         ],
         "range": [
          0,
          1
         ]
        },
        "xaxis4": {
         "anchor": "y4",
         "domain": [
          0.55,
          1
         ],
         "range": [
          0,
          1
         ]
        },
        "xaxis5": {
         "anchor": "y5",
         "domain": [
          0,
          0.45
         ],
         "range": [
          0,
          1
         ]
        },
        "xaxis6": {
         "anchor": "y6",
         "domain": [
          0.55,
          1
         ],
         "range": [
          0,
          1
         ]
        },
        "yaxis": {
         "anchor": "x",
         "domain": [
          0.7777777777777778,
          1
         ],
         "range": [
          0,
          1
         ]
        },
        "yaxis2": {
         "anchor": "x2",
         "domain": [
          0.7777777777777778,
          1
         ],
         "range": [
          0,
          1
         ]
        },
        "yaxis3": {
         "anchor": "x3",
         "domain": [
          0.3888888888888889,
          0.6111111111111112
         ],
         "range": [
          0,
          1
         ]
        },
        "yaxis4": {
         "anchor": "x4",
         "domain": [
          0.3888888888888889,
          0.6111111111111112
         ],
         "range": [
          0,
          1
         ]
        },
        "yaxis5": {
         "anchor": "x5",
         "domain": [
          0,
          0.22222222222222224
         ],
         "range": [
          0,
          1
         ]
        },
        "yaxis6": {
         "anchor": "x6",
         "domain": [
          0,
          0.22222222222222224
         ],
         "range": [
          0,
          1
         ]
        }
       }
      }
     },
     "metadata": {},
     "output_type": "display_data"
    }
   ],
   "source": [
    "folder_path = \"data/genres_30sec/metal\"\n",
    "start = 4\n",
    "end = 10\n",
    "grid = 2\n",
    "folder = \"plots\"\n",
    "plot_graph(folder_path, start, end, grid, folder)"
   ]
  },
  {
   "cell_type": "markdown",
   "metadata": {},
   "source": [
    "Pop"
   ]
  },
  {
   "cell_type": "code",
   "execution_count": null,
   "metadata": {},
   "outputs": [
    {
     "name": "stderr",
     "output_type": "stream",
     "text": [
      "Processing audio files in data/genres_30sec/pop with dim 4 and hop 3: 100%|██████████| 100/100 [00:56<00:00,  1.78it/s]\n",
      "Processing audio files in data/genres_30sec/pop with dim 5 and hop 4: 100%|██████████| 100/100 [00:43<00:00,  2.27it/s]\n",
      "Processing audio files in data/genres_30sec/pop with dim 6 and hop 5: 100%|██████████| 100/100 [00:36<00:00,  2.77it/s]\n",
      "Processing audio files in data/genres_30sec/pop with dim 7 and hop 6: 100%|██████████| 100/100 [00:32<00:00,  3.04it/s]\n",
      "Processing audio files in data/genres_30sec/pop with dim 8 and hop 7: 100%|██████████| 100/100 [00:36<00:00,  2.74it/s]\n",
      "Processing audio files in data/genres_30sec/pop with dim 9 and hop 8: 100%|██████████| 100/100 [00:44<00:00,  2.25it/s]\n"
     ]
    },
    {
     "data": {
      "application/vnd.plotly.v1+json": {
       "config": {
        "plotlyServerURL": "https://plot.ly"
       },
       "data": [
        {
         "hovertemplate": "Entropy: %{x}<br>Complexity: %{y}<br>File: %{text}<extra></extra>",
         "marker": {
          "color": {
           "bdata": "X3ms8Uf2uj/6UnBWDOK+P6osKdrfnZM/mOiMF42NwT/fzOU6wLi4P3TA2j2vuq8/nh/9EKfdnz9NPZ+aUVe2P63cbl9yN7E/h9ABSc+Wtz/ECNFluP6xP7dLC5PUcLY/usMixecqrj8j9CX4MQCxPx7+CURC4bA/RTf1lFg2tT//zi06tQOxP+rSh5FJ1LI/Pc1ZNCnpsz9kjH0xFWCjP8AmjGbOubQ/Q6bAn+RbsT8LK397yECzP2WaD12qFaM/O4QqNC0NqT8KdC0iZeCwP5dDU3mHIKg/nMLgWhX/xD/Qk+tIDV+VP+kYYOHcYbY/JAj4kG17wj+ZHVtgCkqwPxDNGsRInqM/gCwVvV5StT/RBUQPaqfEP+Yx7S/1NqU/dd5qHQeYtj+ezsmILDigP0rE56+5PaQ/reZgMgRLuD/8/2rKA6GqP8mp5dhyFrs/1P33YWM/sD/zA/aNu/m/P9XK9L109Ls/CpreA5WmoD8vcmzgqbDCP3dpHaWRF8Y/9PQpVS4QmD+6birv3zufP9oVXa0sBbI/Fuwf2pE4lz8e3uVdx3K8PxkFlW/1BaI/iqO8I4E5yz8AZcKQI4azP8pHYv2U+MA/Bf03N4dDmz+LRZyi0+OkPy2lxbp7DcE/GO9ZQ1kgsT/uN9M03/qzP+XRnem0ncI/C/EPywsirz/aZqN/0oetPzv8+bJNEas/Bf03N4dDmz9YiBcl1Y6gPw2Kq46YxJ0/9LzbTZtdyj+T1Njw8xStPznhP8dax68/PpM36OBZvz/5VcdqxYWbPwOImI5WAZg/GQWVb/UFoj+O+E7NBISlP4cLJdHxTKg/k2C1Hv6Jtz9urHhCTd3EPwhlnvnHKr4/gXJXIUYlwT/6nQdNPH20P0PYVBO1MMs/Ge97o4zsyD8Mp4kiwZbGP609mm1OxJA/1iL5+lirtD/4t6zte6i6P0/lgz9CdMU//s0HCiSJtj+FhDGGDaTIP87ph33pWp0/9uTJdNxhkT84a7mYKAaxP/M01gNjdrA/K0YiE/wdyz9iwGmxiKS2P6UPvvKDLqQ/BmLIPM5InT8=",
           "dtype": "f8"
          },
          "colorscale": [
           [
            0,
            "#0508b8"
           ],
           [
            0.08333333333333333,
            "#1910d8"
           ],
           [
            0.16666666666666666,
            "#3c19f0"
           ],
           [
            0.25,
            "#6b1cfb"
           ],
           [
            0.3333333333333333,
            "#981cfd"
           ],
           [
            0.4166666666666667,
            "#bf1cfd"
           ],
           [
            0.5,
            "#dd2bfd"
           ],
           [
            0.5833333333333334,
            "#f246fe"
           ],
           [
            0.6666666666666666,
            "#fc67fd"
           ],
           [
            0.75,
            "#fe88fc"
           ],
           [
            0.8333333333333334,
            "#fea5fd"
           ],
           [
            0.9166666666666666,
            "#febefe"
           ],
           [
            1,
            "#fec3fe"
           ]
          ],
          "size": 10
         },
         "mode": "markers",
         "name": "Dim = 4, Hop = 3",
         "showlegend": true,
         "text": [
          "pop.00027.wav",
          "pop.00033.wav",
          "pop.00032.wav",
          "pop.00026.wav",
          "pop.00030.wav",
          "pop.00024.wav",
          "pop.00018.wav",
          "pop.00019.wav",
          "pop.00025.wav",
          "pop.00031.wav",
          "pop.00009.wav",
          "pop.00035.wav",
          "pop.00021.wav",
          "pop.00020.wav",
          "pop.00034.wav",
          "pop.00008.wav",
          "pop.00022.wav",
          "pop.00036.wav",
          "pop.00037.wav",
          "pop.00023.wav",
          "pop.00044.wav",
          "pop.00050.wav",
          "pop.00078.wav",
          "pop.00087.wav",
          "pop.00093.wav",
          "pop.00092.wav",
          "pop.00086.wav",
          "pop.00079.wav",
          "pop.00051.wav",
          "pop.00045.wav",
          "pop.00053.wav",
          "pop.00047.wav",
          "pop.00090.wav",
          "pop.00084.wav",
          "pop.00085.wav",
          "pop.00091.wav",
          "pop.00046.wav",
          "pop.00052.wav",
          "pop.00056.wav",
          "pop.00042.wav",
          "pop.00095.wav",
          "pop.00081.wav",
          "pop.00080.wav",
          "pop.00094.wav",
          "pop.00043.wav",
          "pop.00057.wav",
          "pop.00069.wav",
          "pop.00041.wav",
          "pop.00055.wav",
          "pop.00082.wav",
          "pop.00096.wav",
          "pop.00097.wav",
          "pop.00083.wav",
          "pop.00054.wav",
          "pop.00040.wav",
          "pop.00068.wav",
          "pop.00065.wav",
          "pop.00071.wav",
          "pop.00059.wav",
          "pop.00058.wav",
          "pop.00070.wav",
          "pop.00064.wav",
          "pop.00072.wav",
          "pop.00066.wav",
          "pop.00099.wav",
          "pop.00098.wav",
          "pop.00067.wav",
          "pop.00073.wav",
          "pop.00077.wav",
          "pop.00063.wav",
          "pop.00088.wav",
          "pop.00089.wav",
          "pop.00062.wav",
          "pop.00076.wav",
          "pop.00048.wav",
          "pop.00060.wav",
          "pop.00074.wav",
          "pop.00075.wav",
          "pop.00061.wav",
          "pop.00049.wav",
          "pop.00006.wav",
          "pop.00012.wav",
          "pop.00013.wav",
          "pop.00007.wav",
          "pop.00011.wav",
          "pop.00005.wav",
          "pop.00039.wav",
          "pop.00038.wav",
          "pop.00004.wav",
          "pop.00010.wav",
          "pop.00028.wav",
          "pop.00014.wav",
          "pop.00000.wav",
          "pop.00001.wav",
          "pop.00015.wav",
          "pop.00029.wav",
          "pop.00003.wav",
          "pop.00017.wav",
          "pop.00016.wav",
          "pop.00002.wav"
         ],
         "type": "scatter",
         "x": {
          "bdata": "4oPRdXal7D8oslpcpFXsP/qktqkjfO8/zFoc1/I76z89+iZYowXtPzFVo98uLu4/apxxx08j7z/VKQcR/1XtP2Ba4aEh7+0/uASVCPst7T8ZV/OsHw3uP4Qw7QDJVO0/ez6PgTFh7j/Ag1NIMBDuPyeLbtGVCO4/MR/H9H5+7T80VGAHBQruP/7oxjHCwO0/U4V+AYO77T+hsGHdFenuP3D2o6SGpO0/BxkbFYn57T/R4w9cD8ztPz5LH8rH9u4/wZjBhK2s7j/DyZE7iSbuPwPAcTKgue4/kDV+TWJP6j8vchR9uHPvPxaWLwqoQ+0/t52qDUH16j+eT3DgBCTuP3L28PN27+4/owEfDOVb7T/msyjvaYLqP26IyO+h2u4/xwQ8T5M57T/57JSbQiPvP4rCpGIf3+4/IMrhVXIZ7T9rwdLuboDuPwftsH7Kquw/pA6iwYUl7j+OrRtpaPzrP/bEdMnmxOw/Qn23TUkc7z+5Gy0bl5brP3MOhPJJtuk/Dfk8z8la7z8MIMlLZCvvP096ZkYH4+0/H0/uCXtg7z+DPxRC93fsP/nuoQffAe8/V1DJByns5z86TU1h6bztP8LL9BPe0us/sdMvcrpH7z+Ug6wRY9XuP2Xi8eNJqus/SAP7f5oO7j/2sYqAD7jtPw0vRReQT+s/ogUyHGYx7j/9p/MyCFLuPzUYRA1yhO4/sdMvcrpH7z8aeYtmLB3vP3IMxyPGM+8/djv1cST65z+n8cpTpV7uP3UAoNqXO+4/NSo5pfRA7D9lfrfUs0bvP5zvE5ajXO8/+e6hB98B7z/9J0H1wMruP2Eygirctu4/UbIpem8w7T+Wh70xWAjqPwuKGAzpVuw/z5I3XInE6z924kEo4I7tP0BAvl6Ab+c/1FXzlCV+6D8IadXgFPbpPx8urAO1kO8/MT0Uo6Sb7T/DR8eQVsPsP8z5J73iL+o/XZMApltR7T++VvQL7S7pP40GjfsDN+8/g4TNUMWK7z+G89d4pwnuP8S1O5h/Gu4/KldZtjUj6D9fWHESBnbtP0JLXmIO6+4/PfL7Qe467z8=",
          "dtype": "f8"
         },
         "xaxis": "x",
         "y": {
          "bdata": "X3ms8Uf2uj/6UnBWDOK+P6osKdrfnZM/mOiMF42NwT/fzOU6wLi4P3TA2j2vuq8/nh/9EKfdnz9NPZ+aUVe2P63cbl9yN7E/h9ABSc+Wtz/ECNFluP6xP7dLC5PUcLY/usMixecqrj8j9CX4MQCxPx7+CURC4bA/RTf1lFg2tT//zi06tQOxP+rSh5FJ1LI/Pc1ZNCnpsz9kjH0xFWCjP8AmjGbOubQ/Q6bAn+RbsT8LK397yECzP2WaD12qFaM/O4QqNC0NqT8KdC0iZeCwP5dDU3mHIKg/nMLgWhX/xD/Qk+tIDV+VP+kYYOHcYbY/JAj4kG17wj+ZHVtgCkqwPxDNGsRInqM/gCwVvV5StT/RBUQPaqfEP+Yx7S/1NqU/dd5qHQeYtj+ezsmILDigP0rE56+5PaQ/reZgMgRLuD/8/2rKA6GqP8mp5dhyFrs/1P33YWM/sD/zA/aNu/m/P9XK9L109Ls/CpreA5WmoD8vcmzgqbDCP3dpHaWRF8Y/9PQpVS4QmD+6birv3zufP9oVXa0sBbI/Fuwf2pE4lz8e3uVdx3K8PxkFlW/1BaI/iqO8I4E5yz8AZcKQI4azP8pHYv2U+MA/Bf03N4dDmz+LRZyi0+OkPy2lxbp7DcE/GO9ZQ1kgsT/uN9M03/qzP+XRnem0ncI/C/EPywsirz/aZqN/0oetPzv8+bJNEas/Bf03N4dDmz9YiBcl1Y6gPw2Kq46YxJ0/9LzbTZtdyj+T1Njw8xStPznhP8dax68/PpM36OBZvz/5VcdqxYWbPwOImI5WAZg/GQWVb/UFoj+O+E7NBISlP4cLJdHxTKg/k2C1Hv6Jtz9urHhCTd3EPwhlnvnHKr4/gXJXIUYlwT/6nQdNPH20P0PYVBO1MMs/Ge97o4zsyD8Mp4kiwZbGP609mm1OxJA/1iL5+lirtD/4t6zte6i6P0/lgz9CdMU//s0HCiSJtj+FhDGGDaTIP87ph33pWp0/9uTJdNxhkT84a7mYKAaxP/M01gNjdrA/K0YiE/wdyz9iwGmxiKS2P6UPvvKDLqQ/BmLIPM5InT8=",
          "dtype": "f8"
         },
         "yaxis": "y"
        },
        {
         "hovertemplate": "Entropy: %{x}<br>Complexity: %{y}<br>File: %{text}<extra></extra>",
         "marker": {
          "color": {
           "bdata": "xRMQGQX9wz9XMvGqD3bGP6TlweL+daU/dXmBGZVcyD9Zq2xO2xDDP7zHWYdM/rk/rApXaaWOsD9WyTpuRxnBP8R4gKHpjrw/sem7Iqs0wj9vg4HXf3q8Pza4KZludcE/BKwj4awduD9ajqBzGnu7P85iEk6P6bs/pJeFmk21wD/12COzPbK7P/NAsnu0L78/7g8IC2KAvj+RaehxrlixP5lTwDLO1sA/4hfKZiz6uz/xqYlPRVK+P4zyUCCajbE/xBKPYMLztD/6z2CRsvC5P0hviJj8WLQ/EUKvF6FazD92dqku0OCnP6UcPSEhlME/Koshf1rNyT/U8YhQoeC7P5Tdo43/C7I/AcGhh7WywD/OFCvH7d/MP9Ntwp0fjbI/gh3Ll7TlwT8JqlnTLRqtP8XfIP2tErI/ADRD4jMTwj8DUNCoUtS3P0CyuqvDEsQ/VcjVXOHVuz8Tk0gpMLnHP96q79J5GMQ/+jjIiMp2rT9bJAsjiDfLPxcqwzTyMs0/AahPZLxdqT8Kga7wjp6sP7PatcoMbbw/JPR3mdGcqj/XgnGO3B7FP1ZL2UZHjLA/2h8QeNk20j8YjSC4T3O+P4YBaBktm8g/eglZaJloqD9mMIKqB2+yP15fItjj58c/5sRLbYy1uj/RRQ0t46e+P0d/KDiHjco/mXXGaAryuT9/VLKNxvm6PwggVwbsfLU/eglZaJloqD8JAtu59P6tP9WfAa4A4qs/t6niSnrX0D+styWZ1Na3PzVqRqBOubg/EvYpT92jxj/uwlezYA+qPwUnRUNrKqo/VkvZRkeMsD9Qt85ZYEy0PzjX/2y/57M/51UKVjacwj/PvYFQHqPLPzaIUrr/7sU/QxzZiaOxyD8RT7RCxSzBP0snL7rePdE/Vp8H02dN0D/60o1/l+jOP9wwNEBF7qQ/SmFkzO4KwD8NADfdJ/vDP7IRyEALAs0/sRg045gXwT/OXHMN2nrQP23g9l7Teq0/pVtD/EZKpT8+Zc1ViLa7P14fjZ7sUrs/JdCZqqQn0j/RdUvNZ03BP7VuxG5dtbE/tQW98LR6rD8=",
           "dtype": "f8"
          },
          "colorscale": [
           [
            0,
            "#0508b8"
           ],
           [
            0.08333333333333333,
            "#1910d8"
           ],
           [
            0.16666666666666666,
            "#3c19f0"
           ],
           [
            0.25,
            "#6b1cfb"
           ],
           [
            0.3333333333333333,
            "#981cfd"
           ],
           [
            0.4166666666666667,
            "#bf1cfd"
           ],
           [
            0.5,
            "#dd2bfd"
           ],
           [
            0.5833333333333334,
            "#f246fe"
           ],
           [
            0.6666666666666666,
            "#fc67fd"
           ],
           [
            0.75,
            "#fe88fc"
           ],
           [
            0.8333333333333334,
            "#fea5fd"
           ],
           [
            0.9166666666666666,
            "#febefe"
           ],
           [
            1,
            "#fec3fe"
           ]
          ],
          "size": 10
         },
         "mode": "markers",
         "name": "Dim = 5, Hop = 4",
         "showlegend": true,
         "text": [
          "pop.00027.wav",
          "pop.00033.wav",
          "pop.00032.wav",
          "pop.00026.wav",
          "pop.00030.wav",
          "pop.00024.wav",
          "pop.00018.wav",
          "pop.00019.wav",
          "pop.00025.wav",
          "pop.00031.wav",
          "pop.00009.wav",
          "pop.00035.wav",
          "pop.00021.wav",
          "pop.00020.wav",
          "pop.00034.wav",
          "pop.00008.wav",
          "pop.00022.wav",
          "pop.00036.wav",
          "pop.00037.wav",
          "pop.00023.wav",
          "pop.00044.wav",
          "pop.00050.wav",
          "pop.00078.wav",
          "pop.00087.wav",
          "pop.00093.wav",
          "pop.00092.wav",
          "pop.00086.wav",
          "pop.00079.wav",
          "pop.00051.wav",
          "pop.00045.wav",
          "pop.00053.wav",
          "pop.00047.wav",
          "pop.00090.wav",
          "pop.00084.wav",
          "pop.00085.wav",
          "pop.00091.wav",
          "pop.00046.wav",
          "pop.00052.wav",
          "pop.00056.wav",
          "pop.00042.wav",
          "pop.00095.wav",
          "pop.00081.wav",
          "pop.00080.wav",
          "pop.00094.wav",
          "pop.00043.wav",
          "pop.00057.wav",
          "pop.00069.wav",
          "pop.00041.wav",
          "pop.00055.wav",
          "pop.00082.wav",
          "pop.00096.wav",
          "pop.00097.wav",
          "pop.00083.wav",
          "pop.00054.wav",
          "pop.00040.wav",
          "pop.00068.wav",
          "pop.00065.wav",
          "pop.00071.wav",
          "pop.00059.wav",
          "pop.00058.wav",
          "pop.00070.wav",
          "pop.00064.wav",
          "pop.00072.wav",
          "pop.00066.wav",
          "pop.00099.wav",
          "pop.00098.wav",
          "pop.00067.wav",
          "pop.00073.wav",
          "pop.00077.wav",
          "pop.00063.wav",
          "pop.00088.wav",
          "pop.00089.wav",
          "pop.00062.wav",
          "pop.00076.wav",
          "pop.00048.wav",
          "pop.00060.wav",
          "pop.00074.wav",
          "pop.00075.wav",
          "pop.00061.wav",
          "pop.00049.wav",
          "pop.00006.wav",
          "pop.00012.wav",
          "pop.00013.wav",
          "pop.00007.wav",
          "pop.00011.wav",
          "pop.00005.wav",
          "pop.00039.wav",
          "pop.00038.wav",
          "pop.00004.wav",
          "pop.00010.wav",
          "pop.00028.wav",
          "pop.00014.wav",
          "pop.00000.wav",
          "pop.00001.wav",
          "pop.00015.wav",
          "pop.00029.wav",
          "pop.00003.wav",
          "pop.00017.wav",
          "pop.00016.wav",
          "pop.00002.wav"
         ],
         "type": "scatter",
         "x": {
          "bdata": "V9kqAi6r6z/fvTiu+InrP6dQwnZFGe8/42yHN+Di6T95nv7OlBnsP8TwlfqNg+0/qLCEtFl+7j9Uz/ZOBIvsPzwIPfbj2uw/U0Ge5stQ7D88hTpC5ovtP0DZju1mgOw/dM0hbUjx7T9aygqgYW3tP0rTKYQnJO0/xLiK6q6w7D9/6YIku1jtP0rj45hIx+w/bG5BTDMm7T+804aXtVXuP4kIz3Vc9ew/ArFI48hF7T8p9JY3jjHtP8l9trl4a+4/ySmF1lQ37j/hFhQ1EavtPwOt/DG1Te4//pBMbl0u6T/yOIHsbQ7vP90wiQdcQuw/onjc0P6Y6T8BsANdNVrtP7QaJY0fYu4/9seVm7Nl7D/8NyRVp2DpP6rJIrpOZe4/7N7TlKss7D8zXqi0gsjuPxKHzCN0YO4/ZUlSywpm7D/bDY7GorjtP13XPma3ses/SpvjwdZb7T+7AemzKvzqP8cptDWfH+w/5kWri0/D7j/P/X5vWL/qP/r/ZuSWMOg/cdgbImvb7j/tKFCrPcbuP/4JXDefKe0/1C6Jw/bV7j/HVoZ1nXnrP9bkRiLOdO4/SvB+93F85j9DHtejGxftP7E0vk602Oo/6CfdGwr37j96LyBeflbuP90IbDTCyOo/WUFxKRl97T/9uplPAhjtP+ql177UTuo/p0u31r9h7T+XqhTxPF/tP4E/KZRUC+4/6CfdGwr37j8P3cdlIrLuPy3ajfQt0e4/3FiSpLeJ5j/p+niPuNjtP3gRYNcrv+0/4LvkW+1s6z+LDnJtsOjuPyTxputy5+4/1uRGIs507j/OBxrIJxDuP9eFnLuqWe4/xvCDnJ5i7D/IDgiLYZXoP12BAlHlYes/DAYX6W/h6j/1Urc8wUnsPyIcEx+w3OU//t4Vav0E5z8IOsacQ9foP3QmZ7+TIu8/5XoHEw/s7D9PwYjP4uHrP5GsWmFtEOk/OaaOs2x/7D9C/wS8dgLoP0arX/sSu+4/WVWwfW4U7z+oTpjMOVjtP0AN7MHsQe0/1YgS/EW75j9JsNF6gMvsP3/ZeELCfe4//3+tgHHE7j8=",
          "dtype": "f8"
         },
         "xaxis": "x2",
         "y": {
          "bdata": "xRMQGQX9wz9XMvGqD3bGP6TlweL+daU/dXmBGZVcyD9Zq2xO2xDDP7zHWYdM/rk/rApXaaWOsD9WyTpuRxnBP8R4gKHpjrw/sem7Iqs0wj9vg4HXf3q8Pza4KZludcE/BKwj4awduD9ajqBzGnu7P85iEk6P6bs/pJeFmk21wD/12COzPbK7P/NAsnu0L78/7g8IC2KAvj+RaehxrlixP5lTwDLO1sA/4hfKZiz6uz/xqYlPRVK+P4zyUCCajbE/xBKPYMLztD/6z2CRsvC5P0hviJj8WLQ/EUKvF6FazD92dqku0OCnP6UcPSEhlME/Koshf1rNyT/U8YhQoeC7P5Tdo43/C7I/AcGhh7WywD/OFCvH7d/MP9Ntwp0fjbI/gh3Ll7TlwT8JqlnTLRqtP8XfIP2tErI/ADRD4jMTwj8DUNCoUtS3P0CyuqvDEsQ/VcjVXOHVuz8Tk0gpMLnHP96q79J5GMQ/+jjIiMp2rT9bJAsjiDfLPxcqwzTyMs0/AahPZLxdqT8Kga7wjp6sP7PatcoMbbw/JPR3mdGcqj/XgnGO3B7FP1ZL2UZHjLA/2h8QeNk20j8YjSC4T3O+P4YBaBktm8g/eglZaJloqD9mMIKqB2+yP15fItjj58c/5sRLbYy1uj/RRQ0t46e+P0d/KDiHjco/mXXGaAryuT9/VLKNxvm6PwggVwbsfLU/eglZaJloqD8JAtu59P6tP9WfAa4A4qs/t6niSnrX0D+styWZ1Na3PzVqRqBOubg/EvYpT92jxj/uwlezYA+qPwUnRUNrKqo/VkvZRkeMsD9Qt85ZYEy0PzjX/2y/57M/51UKVjacwj/PvYFQHqPLPzaIUrr/7sU/QxzZiaOxyD8RT7RCxSzBP0snL7rePdE/Vp8H02dN0D/60o1/l+jOP9wwNEBF7qQ/SmFkzO4KwD8NADfdJ/vDP7IRyEALAs0/sRg045gXwT/OXHMN2nrQP23g9l7Teq0/pVtD/EZKpT8+Zc1ViLa7P14fjZ7sUrs/JdCZqqQn0j/RdUvNZ03BP7VuxG5dtbE/tQW98LR6rD8=",
          "dtype": "f8"
         },
         "yaxis": "y2"
        },
        {
         "hovertemplate": "Entropy: %{x}<br>Complexity: %{y}<br>File: %{text}<extra></extra>",
         "marker": {
          "color": {
           "bdata": "V1Z8NtjYyj+T9+B4IvXNP/mlDFpob7I/6qYv/ddFzz8M6D72shzKPwobyPPd+MI/511nniyduj/MJvyC65fHP60D+ZS/F8Q/lgi1ACg4yT9DU3Ha0gbEP7bb6Il1jsg/i3TZgjzvwD/Gc8LK0QXEP0FYAEMEE8Q/OzDleaKrxz+cbae6M6zDP/oIzLM0VcY/5hwqkLg1xT/hmlJDVUO6P1EFarSDlsc/qC47FmbMwz+OLSw65gTFPyNI9/EHQLs/X76qE48dvz/lhTUrTTjCP5HFsblT8L0/jwO0/YfW0T85rn7K9Ea0P+1ulCVfT8g/9G7XgAB90D96XFjXDVDEP1d143cjtLs/p5FZ+qnqxj9fRnTvCUXSP5UCRKt7TLw/qEi4xMjgyD/UfyOSrjW2P8TBlbuBSrs/TQnxMnWayD/m7ZQwjsbBP15r2z/yKMs/Znh4NuV8xD8slW3BYXjPP2G1VZ7Aaco/qzOmEt/Etj/KGYS9iOTRPx4q9dZP+dE/Fc73MgMNtT+Wck6lFJy2P0P/izRX4cM/z+PdIevrtj/l7cg6N4fMPwY89vt9NLk/7HbXvYlU1j9cZVyh4GrFP3ilhH2yVtA/2Io2q5x2sz/14Lj6dny7P4+lT7AFsM4/6mSrVgfcwj8Qb6FvDv3FPxySR55xd9E/xLAPY4Hbwj8ziTqdLmjEPzfYlc9N074/2Io2q5x2sz9vLAOJKv63Pw+M4hW3cbY/DlXXsG5t1D8e7f0lRyPBP7IaBz61QsE/vtO0p+Mhzj9GUU7wIfa0P1KBr9CmibY/Bjz2+300uT9Xhl/iMIS/Pwd4T4m9Ar0/Vw9p43/iyT+N4vwOlf3QP1gzoM21As0/cgdAnZVW0D9yt/5U//nHP+kzhvCqpdQ/tY/To9ju0z/akn7ihYrTP8EM2nZ+4LI/D1KPH5tQxj9ENyfXUU7LP9Oltv0XNtI/cH6R/e95xz+k45+f6KrUPx30EFJP2bc/qgfQxfMTsz+tG6SRqMvDP5ohScfXjsM/F58ILu4d1j9vYyPi2FzIP+J5YVQUcLo/VIMevxjVtj8=",
           "dtype": "f8"
          },
          "colorscale": [
           [
            0,
            "#0508b8"
           ],
           [
            0.08333333333333333,
            "#1910d8"
           ],
           [
            0.16666666666666666,
            "#3c19f0"
           ],
           [
            0.25,
            "#6b1cfb"
           ],
           [
            0.3333333333333333,
            "#981cfd"
           ],
           [
            0.4166666666666667,
            "#bf1cfd"
           ],
           [
            0.5,
            "#dd2bfd"
           ],
           [
            0.5833333333333334,
            "#f246fe"
           ],
           [
            0.6666666666666666,
            "#fc67fd"
           ],
           [
            0.75,
            "#fe88fc"
           ],
           [
            0.8333333333333334,
            "#fea5fd"
           ],
           [
            0.9166666666666666,
            "#febefe"
           ],
           [
            1,
            "#fec3fe"
           ]
          ],
          "size": 10
         },
         "mode": "markers",
         "name": "Dim = 6, Hop = 5",
         "showlegend": true,
         "text": [
          "pop.00027.wav",
          "pop.00033.wav",
          "pop.00032.wav",
          "pop.00026.wav",
          "pop.00030.wav",
          "pop.00024.wav",
          "pop.00018.wav",
          "pop.00019.wav",
          "pop.00025.wav",
          "pop.00031.wav",
          "pop.00009.wav",
          "pop.00035.wav",
          "pop.00021.wav",
          "pop.00020.wav",
          "pop.00034.wav",
          "pop.00008.wav",
          "pop.00022.wav",
          "pop.00036.wav",
          "pop.00037.wav",
          "pop.00023.wav",
          "pop.00044.wav",
          "pop.00050.wav",
          "pop.00078.wav",
          "pop.00087.wav",
          "pop.00093.wav",
          "pop.00092.wav",
          "pop.00086.wav",
          "pop.00079.wav",
          "pop.00051.wav",
          "pop.00045.wav",
          "pop.00053.wav",
          "pop.00047.wav",
          "pop.00090.wav",
          "pop.00084.wav",
          "pop.00085.wav",
          "pop.00091.wav",
          "pop.00046.wav",
          "pop.00052.wav",
          "pop.00056.wav",
          "pop.00042.wav",
          "pop.00095.wav",
          "pop.00081.wav",
          "pop.00080.wav",
          "pop.00094.wav",
          "pop.00043.wav",
          "pop.00057.wav",
          "pop.00069.wav",
          "pop.00041.wav",
          "pop.00055.wav",
          "pop.00082.wav",
          "pop.00096.wav",
          "pop.00097.wav",
          "pop.00083.wav",
          "pop.00054.wav",
          "pop.00040.wav",
          "pop.00068.wav",
          "pop.00065.wav",
          "pop.00071.wav",
          "pop.00059.wav",
          "pop.00058.wav",
          "pop.00070.wav",
          "pop.00064.wav",
          "pop.00072.wav",
          "pop.00066.wav",
          "pop.00099.wav",
          "pop.00098.wav",
          "pop.00067.wav",
          "pop.00073.wav",
          "pop.00077.wav",
          "pop.00063.wav",
          "pop.00088.wav",
          "pop.00089.wav",
          "pop.00062.wav",
          "pop.00076.wav",
          "pop.00048.wav",
          "pop.00060.wav",
          "pop.00074.wav",
          "pop.00075.wav",
          "pop.00061.wav",
          "pop.00049.wav",
          "pop.00006.wav",
          "pop.00012.wav",
          "pop.00013.wav",
          "pop.00007.wav",
          "pop.00011.wav",
          "pop.00005.wav",
          "pop.00039.wav",
          "pop.00038.wav",
          "pop.00004.wav",
          "pop.00010.wav",
          "pop.00028.wav",
          "pop.00014.wav",
          "pop.00000.wav",
          "pop.00001.wav",
          "pop.00015.wav",
          "pop.00029.wav",
          "pop.00003.wav",
          "pop.00017.wav",
          "pop.00016.wav",
          "pop.00002.wav"
         ],
         "type": "scatter",
         "x": {
          "bdata": "p4rH5xXs6j/gWJ0u0O/qP61V3n5Jue4/iBDxgx/z6D+AUhrOcHLrP3I4jKZm6ew/1dAMU7bz7T87RZgrQujrP+yHgyra7es/DXz6Gt+s6z+bxtXHDi7tP+uEJ8rN0+s//+jfKjSk7T+GsxhSWOLsPxdhQzWTW+w/bpQ/tLkQ7D91jJ+Xbc/sP45QbKmJCOw/va67aNqm7D8gauBXjtLtP63/gtwofOw/TvEBUnu27D/SCTlORb/sPywk7CKI8+0/h+28XDXM7T/ljzhlEEPtPzdzmTZy+e0/sQCMyaNd6D/i8k1sxbXuP1j7t1Hed+s/iysSYzye6D+MlWZ6FrzsP9jao0II7O0/UqqKHV6l6z9DaaFOs6HoP8NlGJA4AO4/8XnSY95e6z/imEigB3/uP9fY2t+7+O0/NDTxTvHQ6z/2MQ3VQA3tP1GPb7bv2Oo/YXRxfi+z7D9NnwBxd0vqP+B7SftLqOs/LFKLu8Nw7j+k19pBUjTqP0auKhoeIec/IfIYQOtj7j+IWBfwq2buP8i2gT5Sj+w/m1yytfxZ7j9LdaxOVa3qP31gftT7/e0/JahfuICb5T/ZCiNVdZDsPwzw7f+jIuo/hLCtxBGn7j8MaJLOc/HtPwPnAde7Iuo/VTtlMVP57D/A1ZHtTYnsP51kUHz/k+k/Gh66g9ek7D9N58g5o5bsP+ZRjYwWou0/hLCtxBGn7j/LKjUVk0fuP3qKydzmdu4/Dh5bfBaJ5T+Wpbirn2jtP6TpDfWSW+0/Kh+YzjDJ6j8ZYAOOhpHuP68NczhcfO4/fWB+1Pv97T9dEg3qEWrtP7fYTjYeEO4/iXMMfoe/6z83ikLk+YLnP8MOu7dFn+o/G5qeI5E06j/qG6g5H0LrP7Ivd4v90uQ/B/mSzXIC5j/CxlmT/BToPxGVr9T8uu4/7PolcEpn7D9Q+jpCoTfrP4sQG1F8R+g/q3/II07W6z+8RtxxezHnP/+tQnLlUe4/NYc+iXWh7j8KNsqqHsrsP1+weYswkuw/ZFlD/mLa5T/bvmWfwDbsPwsfF8D1Je4/rE8lDhJS7j8=",
          "dtype": "f8"
         },
         "xaxis": "x3",
         "y": {
          "bdata": "V1Z8NtjYyj+T9+B4IvXNP/mlDFpob7I/6qYv/ddFzz8M6D72shzKPwobyPPd+MI/511nniyduj/MJvyC65fHP60D+ZS/F8Q/lgi1ACg4yT9DU3Ha0gbEP7bb6Il1jsg/i3TZgjzvwD/Gc8LK0QXEP0FYAEMEE8Q/OzDleaKrxz+cbae6M6zDP/oIzLM0VcY/5hwqkLg1xT/hmlJDVUO6P1EFarSDlsc/qC47FmbMwz+OLSw65gTFPyNI9/EHQLs/X76qE48dvz/lhTUrTTjCP5HFsblT8L0/jwO0/YfW0T85rn7K9Ea0P+1ulCVfT8g/9G7XgAB90D96XFjXDVDEP1d143cjtLs/p5FZ+qnqxj9fRnTvCUXSP5UCRKt7TLw/qEi4xMjgyD/UfyOSrjW2P8TBlbuBSrs/TQnxMnWayD/m7ZQwjsbBP15r2z/yKMs/Znh4NuV8xD8slW3BYXjPP2G1VZ7Aaco/qzOmEt/Etj/KGYS9iOTRPx4q9dZP+dE/Fc73MgMNtT+Wck6lFJy2P0P/izRX4cM/z+PdIevrtj/l7cg6N4fMPwY89vt9NLk/7HbXvYlU1j9cZVyh4GrFP3ilhH2yVtA/2Io2q5x2sz/14Lj6dny7P4+lT7AFsM4/6mSrVgfcwj8Qb6FvDv3FPxySR55xd9E/xLAPY4Hbwj8ziTqdLmjEPzfYlc9N074/2Io2q5x2sz9vLAOJKv63Pw+M4hW3cbY/DlXXsG5t1D8e7f0lRyPBP7IaBz61QsE/vtO0p+Mhzj9GUU7wIfa0P1KBr9CmibY/Bjz2+300uT9Xhl/iMIS/Pwd4T4m9Ar0/Vw9p43/iyT+N4vwOlf3QP1gzoM21As0/cgdAnZVW0D9yt/5U//nHP+kzhvCqpdQ/tY/To9ju0z/akn7ihYrTP8EM2nZ+4LI/D1KPH5tQxj9ENyfXUU7LP9Oltv0XNtI/cH6R/e95xz+k45+f6KrUPx30EFJP2bc/qgfQxfMTsz+tG6SRqMvDP5ohScfXjsM/F58ILu4d1j9vYyPi2FzIP+J5YVQUcLo/VIMevxjVtj8=",
          "dtype": "f8"
         },
         "yaxis": "y3"
        },
        {
         "hovertemplate": "Entropy: %{x}<br>Complexity: %{y}<br>File: %{text}<extra></extra>",
         "marker": {
          "color": {
           "bdata": "lfsLIDAq0T8aClQG0e3SP6jsuNCq5bw/PEbXqYFf0z/+VMzE0gvRP26kk5Cgo8k/IsyEPIv3wz97BuspSvnOPyIpyU6Mrso/sGVxyzSa0D9Rd9QfjgfLP8R3VStdLdA/u8HTw7rixj9OSTJpdxbLP5VwKabmLMs/S/gFUJNIzz82gVTeUcLKP1lr4XDK5M0/PJd0dvtBzD8Mijsn+MTCP06GPwok984/qHnMfgmEyj9ifF3WlOTLP9DyqWdDzcM/Cvd0wiA3xj+aoMHtfpDIPwqNk/UpQcU/kO8b1ZWY1T8XHMHcE6+/P/MK6/VP9c8/UMq6RCRG1D8nm7VisQDMP6jVIhNvIMQ/UER5mEyazT8cr9C6Mh7WPxC/LHRFXMQ/7ulinhFH0D+4bGCWzizAP/qByjYnicM/fRVDSBmdzz/YUNEwfIfIP6aD3DPuV9E/Knf3YFP5yz+W5Fnr8bzTP7nC8JWQs9A/q9yG+kGOwD/NoNmXB23WP8aXRhpNo9U/N7xluQXtvz8zrsROUNrAP3uUuOBerMo/xywoyV31wT8vTmeoIzvSPw5wBRlFp8I/zg5GQtn22T98Bfc9k3nMPzTKa0J5pNQ/aoQ53fCVvD8BIwVDmHTDP6krCDA409I/qeoVjJJXyT9Zx1xYdGzNP0njL1oqrNU/zFecAoqqyT8mMt8fpVTMP73/FnlZO8U/aoQ53fCVvD/UwJjg88XBPyyIZzGwdcA/JhZwp38G2D9A7eb0zULHPwUFlfk0Hsc/ij0TaSRY0z83ElNN2aC/P3I4Yk+laME/DnAFGUWnwj/gplQNXHTGPxFgnlLwBcQ/PT5ktua10D8twZtFEUzUPzyUTqhbVNI/PkJ4Gvlu1D+6rB2BF0nPP/jNGNrZwdc/X2MTh7+R1z/Z0tfD9LXXPzSxK0siqr4/C0RsK/RszT895z2/XI7RP1wm9Y+s79U/CHhhsmaIzj/M7ab3O8LYP11pKmPI38E/CMLeGE1Gvj+m+0vmLMbKP0qv/jj1v8o/AGjIKX/G2T//fsCqyRvQPzsQaLVs7MI/fV8EH4UrwT8=",
           "dtype": "f8"
          },
          "colorscale": [
           [
            0,
            "#0508b8"
           ],
           [
            0.08333333333333333,
            "#1910d8"
           ],
           [
            0.16666666666666666,
            "#3c19f0"
           ],
           [
            0.25,
            "#6b1cfb"
           ],
           [
            0.3333333333333333,
            "#981cfd"
           ],
           [
            0.4166666666666667,
            "#bf1cfd"
           ],
           [
            0.5,
            "#dd2bfd"
           ],
           [
            0.5833333333333334,
            "#f246fe"
           ],
           [
            0.6666666666666666,
            "#fc67fd"
           ],
           [
            0.75,
            "#fe88fc"
           ],
           [
            0.8333333333333334,
            "#fea5fd"
           ],
           [
            0.9166666666666666,
            "#febefe"
           ],
           [
            1,
            "#fec3fe"
           ]
          ],
          "size": 10
         },
         "mode": "markers",
         "name": "Dim = 7, Hop = 6",
         "showlegend": true,
         "text": [
          "pop.00027.wav",
          "pop.00033.wav",
          "pop.00032.wav",
          "pop.00026.wav",
          "pop.00030.wav",
          "pop.00024.wav",
          "pop.00018.wav",
          "pop.00019.wav",
          "pop.00025.wav",
          "pop.00031.wav",
          "pop.00009.wav",
          "pop.00035.wav",
          "pop.00021.wav",
          "pop.00020.wav",
          "pop.00034.wav",
          "pop.00008.wav",
          "pop.00022.wav",
          "pop.00036.wav",
          "pop.00037.wav",
          "pop.00023.wav",
          "pop.00044.wav",
          "pop.00050.wav",
          "pop.00078.wav",
          "pop.00087.wav",
          "pop.00093.wav",
          "pop.00092.wav",
          "pop.00086.wav",
          "pop.00079.wav",
          "pop.00051.wav",
          "pop.00045.wav",
          "pop.00053.wav",
          "pop.00047.wav",
          "pop.00090.wav",
          "pop.00084.wav",
          "pop.00085.wav",
          "pop.00091.wav",
          "pop.00046.wav",
          "pop.00052.wav",
          "pop.00056.wav",
          "pop.00042.wav",
          "pop.00095.wav",
          "pop.00081.wav",
          "pop.00080.wav",
          "pop.00094.wav",
          "pop.00043.wav",
          "pop.00057.wav",
          "pop.00069.wav",
          "pop.00041.wav",
          "pop.00055.wav",
          "pop.00082.wav",
          "pop.00096.wav",
          "pop.00097.wav",
          "pop.00083.wav",
          "pop.00054.wav",
          "pop.00040.wav",
          "pop.00068.wav",
          "pop.00065.wav",
          "pop.00071.wav",
          "pop.00059.wav",
          "pop.00058.wav",
          "pop.00070.wav",
          "pop.00064.wav",
          "pop.00072.wav",
          "pop.00066.wav",
          "pop.00099.wav",
          "pop.00098.wav",
          "pop.00067.wav",
          "pop.00073.wav",
          "pop.00077.wav",
          "pop.00063.wav",
          "pop.00088.wav",
          "pop.00089.wav",
          "pop.00062.wav",
          "pop.00076.wav",
          "pop.00048.wav",
          "pop.00060.wav",
          "pop.00074.wav",
          "pop.00075.wav",
          "pop.00061.wav",
          "pop.00049.wav",
          "pop.00006.wav",
          "pop.00012.wav",
          "pop.00013.wav",
          "pop.00007.wav",
          "pop.00011.wav",
          "pop.00005.wav",
          "pop.00039.wav",
          "pop.00038.wav",
          "pop.00004.wav",
          "pop.00010.wav",
          "pop.00028.wav",
          "pop.00014.wav",
          "pop.00000.wav",
          "pop.00001.wav",
          "pop.00015.wav",
          "pop.00029.wav",
          "pop.00003.wav",
          "pop.00017.wav",
          "pop.00016.wav",
          "pop.00002.wav"
         ],
         "type": "scatter",
         "x": {
          "bdata": "wGLVofxI6j/Cr2jvtnDqP1eUlcrRVO4/iHzMjzIf6D8FgsB1CdnqPzA8AfOTaew/vD/6oHJj7T+PAtlNI1jrP8n6YesdFus/aBTWeEkU6z/W/H1Ass7sP/fIuLlQRes/zuLWT19T7T8mM7jP52vsP/6E29ttpOs/sVfNsFmI6z9I2ToM7kLsP6BksAkMXes/yuveeSwv7D/Sj6PIRk7tPwViBU9CFuw/UDZtaZks7D/nkeszDFDsP92z+sjdeO0/hvomlldW7T8OqlkpQtnsP/yZObt0mO0/WGZvsAyj5z/itTapYFXuP8ugBiwQweo/EpXwogzL5z+OFoJ4YR7sP+qXjDdwcO0/BpU3MTIF6z8B0ImfowXoP1QI8Fvvlu0/3WdtbySo6j/Mmq4E8i7uP/Be7xO+iu0/9z9EeYFY6z+ruuB9Y2vsP74uvy2cHuo/lZ1S7Y4g7D8U0+/EObzpP0CpmoroNOs/ydC136sb7j9NP2quhL/pPwEC/S3tQuY/9HEelG/q7T8QLdQ0GQHuP2tJYg1s9es/YaG3FhrR7T+KitZOrffpP2oQ9PZ6bu0/lE9rAUH15D+QY2husxXsP2PP7K1fhek/a7QZQM1a7j+EYxo/7IXtPweyV1HTjek/51iSXjiC7D9tC/3AJAzsP3bu1lALBek/+VI/B0j26z9rJYbPvdbrPwrIk121NO0/a7QZQM1a7j8BbYvwtNrtP3L78Du+H+4/VhaSYAPK5D+OuSYCE/rsP/12qA2L8+w/sqnUF64l6j+CpussuDTuPxHQL7tpD+4/ahD09npu7T+UUU2Ayc7sP9iwYeJoye0/YxsliFFH6z/hcQhkgJ3mP0uOAb5m8ek/0qeKGa6u6T8a3/jU+FjqP/kAi4HJFOQ/wGoSLdwv5T808v5gfWnnP8HReTAjRu4/rhrN6Yfq6z/Df45h5qnqP8WYOMzaoec/KSDJW4I96z8VVxk2WobmPyhbcucC4+0/FKK1460o7j+R/abLTELsP7iPvAWi6es/uA4RB7895T8Bc6BXsrbrPwSl4KmMwe0/1cyR9l7Q7T8=",
          "dtype": "f8"
         },
         "xaxis": "x4",
         "y": {
          "bdata": "lfsLIDAq0T8aClQG0e3SP6jsuNCq5bw/PEbXqYFf0z/+VMzE0gvRP26kk5Cgo8k/IsyEPIv3wz97BuspSvnOPyIpyU6Mrso/sGVxyzSa0D9Rd9QfjgfLP8R3VStdLdA/u8HTw7rixj9OSTJpdxbLP5VwKabmLMs/S/gFUJNIzz82gVTeUcLKP1lr4XDK5M0/PJd0dvtBzD8Mijsn+MTCP06GPwok984/qHnMfgmEyj9ifF3WlOTLP9DyqWdDzcM/Cvd0wiA3xj+aoMHtfpDIPwqNk/UpQcU/kO8b1ZWY1T8XHMHcE6+/P/MK6/VP9c8/UMq6RCRG1D8nm7VisQDMP6jVIhNvIMQ/UER5mEyazT8cr9C6Mh7WPxC/LHRFXMQ/7ulinhFH0D+4bGCWzizAP/qByjYnicM/fRVDSBmdzz/YUNEwfIfIP6aD3DPuV9E/Knf3YFP5yz+W5Fnr8bzTP7nC8JWQs9A/q9yG+kGOwD/NoNmXB23WP8aXRhpNo9U/N7xluQXtvz8zrsROUNrAP3uUuOBerMo/xywoyV31wT8vTmeoIzvSPw5wBRlFp8I/zg5GQtn22T98Bfc9k3nMPzTKa0J5pNQ/aoQ53fCVvD8BIwVDmHTDP6krCDA409I/qeoVjJJXyT9Zx1xYdGzNP0njL1oqrNU/zFecAoqqyT8mMt8fpVTMP73/FnlZO8U/aoQ53fCVvD/UwJjg88XBPyyIZzGwdcA/JhZwp38G2D9A7eb0zULHPwUFlfk0Hsc/ij0TaSRY0z83ElNN2aC/P3I4Yk+laME/DnAFGUWnwj/gplQNXHTGPxFgnlLwBcQ/PT5ktua10D8twZtFEUzUPzyUTqhbVNI/PkJ4Gvlu1D+6rB2BF0nPP/jNGNrZwdc/X2MTh7+R1z/Z0tfD9LXXPzSxK0siqr4/C0RsK/RszT895z2/XI7RP1wm9Y+s79U/CHhhsmaIzj/M7ab3O8LYP11pKmPI38E/CMLeGE1Gvj+m+0vmLMbKP0qv/jj1v8o/AGjIKX/G2T//fsCqyRvQPzsQaLVs7MI/fV8EH4UrwT8=",
          "dtype": "f8"
         },
         "yaxis": "y4"
        },
        {
         "hovertemplate": "Entropy: %{x}<br>Complexity: %{y}<br>File: %{text}<extra></extra>",
         "marker": {
          "color": {
           "bdata": "67BgBMnu2D8Sz4TtClvaP03gt+25fM4/j74L0tZm2j95pm7r7xrZP+MBjuulEtU/G5g90vdB0j96LjEfa57XP0A7L2S9NNU//czj8+u/2D9eY8FDtOHVP96AZhPFc9g/Z5g9yoGC0z9QanEfttfVP6bLgV9H1dU/5C+yhen01z8iCi4H9a7VP6GAKKa0M9c/3xldMoFN1j88WOhyFmnRP5aFh7DOqtc/sFzPV1GN1T88onCjui/WPz1Ii8KxW9I/xcCKiXVJ0z+67ZVL+X/UP4mFJA909dI/LhRH3/MD3D+TRcqbFi/QP30GUrGg5tc/DkTALuMA2z+q1OmZGnXWP2U5fWxOdNI/4Bb7hv6P1j9pTb8ItpLcPzYpqF+WbtI/CwQAruQf2D9H+JHpMDzQP8sErMan6tE/7s53rIDb1z9qiTXJWIvUPwieTT4WQdk/qKe2vMdY1j/Y21/hfVfbP3XGYM8pOdg/JUjXMWFV0D9Xsxxy4lfdP0n89X2Xdds/yd4tGh4r0D+ZcuStN63QP+yzGK9Sf9U/YA06eoeS0T9LnaVN0PPZP83+zxwgvNE/Z0jbUTGb3j/+AoIEYH/WP/qNo0656ts/xWDJONrvzT8/aBPFttPRP4Tc7afyINo/YHn8u0K81D/m5Fj3hgPXP02yk4wFidw/6JunaLQO1T+b1D+rQ7XWP0asY5K6jNI/xWDJONrvzT8Mo3s7EifRP5CGvRn6YtA/q0PZHKjT3D+xzSixD+rTP7iWgS1BidM/XrrtccGz2j8shWs90g3QP7/7HBf7ENE/zf7PHCC80T9lm3nBWbzTP3XM/WdFJdI/kjqhVvft2D80foeJ2mvaPwtp/DHwqdk/1MIvB0bZ2z+WhIoatmHXP8XPvmN9O9w/B6e+OL6e3D9nbZOCTbzdP4XBfLdB8c8/Ow8H/vPp1j+13Yvfk5rZP6Ih83b9Ndw/Vj5dbydh1z8BqSdcJEXeP9/rlZBaZdE/FDSmVPu0zz+0C3JZ3KnVP0EuZ0oUitU/dXkDf5ei3j/OLrJ4twXYP2W4JQDbpdE/EFBUcZzI0D8=",
           "dtype": "f8"
          },
          "colorscale": [
           [
            0,
            "#0508b8"
           ],
           [
            0.08333333333333333,
            "#1910d8"
           ],
           [
            0.16666666666666666,
            "#3c19f0"
           ],
           [
            0.25,
            "#6b1cfb"
           ],
           [
            0.3333333333333333,
            "#981cfd"
           ],
           [
            0.4166666666666667,
            "#bf1cfd"
           ],
           [
            0.5,
            "#dd2bfd"
           ],
           [
            0.5833333333333334,
            "#f246fe"
           ],
           [
            0.6666666666666666,
            "#fc67fd"
           ],
           [
            0.75,
            "#fe88fc"
           ],
           [
            0.8333333333333334,
            "#fea5fd"
           ],
           [
            0.9166666666666666,
            "#febefe"
           ],
           [
            1,
            "#fec3fe"
           ]
          ],
          "size": 10
         },
         "mode": "markers",
         "name": "Dim = 8, Hop = 7",
         "showlegend": true,
         "text": [
          "pop.00027.wav",
          "pop.00033.wav",
          "pop.00032.wav",
          "pop.00026.wav",
          "pop.00030.wav",
          "pop.00024.wav",
          "pop.00018.wav",
          "pop.00019.wav",
          "pop.00025.wav",
          "pop.00031.wav",
          "pop.00009.wav",
          "pop.00035.wav",
          "pop.00021.wav",
          "pop.00020.wav",
          "pop.00034.wav",
          "pop.00008.wav",
          "pop.00022.wav",
          "pop.00036.wav",
          "pop.00037.wav",
          "pop.00023.wav",
          "pop.00044.wav",
          "pop.00050.wav",
          "pop.00078.wav",
          "pop.00087.wav",
          "pop.00093.wav",
          "pop.00092.wav",
          "pop.00086.wav",
          "pop.00079.wav",
          "pop.00051.wav",
          "pop.00045.wav",
          "pop.00053.wav",
          "pop.00047.wav",
          "pop.00090.wav",
          "pop.00084.wav",
          "pop.00085.wav",
          "pop.00091.wav",
          "pop.00046.wav",
          "pop.00052.wav",
          "pop.00056.wav",
          "pop.00042.wav",
          "pop.00095.wav",
          "pop.00081.wav",
          "pop.00080.wav",
          "pop.00094.wav",
          "pop.00043.wav",
          "pop.00057.wav",
          "pop.00069.wav",
          "pop.00041.wav",
          "pop.00055.wav",
          "pop.00082.wav",
          "pop.00096.wav",
          "pop.00097.wav",
          "pop.00083.wav",
          "pop.00054.wav",
          "pop.00040.wav",
          "pop.00068.wav",
          "pop.00065.wav",
          "pop.00071.wav",
          "pop.00059.wav",
          "pop.00058.wav",
          "pop.00070.wav",
          "pop.00064.wav",
          "pop.00072.wav",
          "pop.00066.wav",
          "pop.00099.wav",
          "pop.00098.wav",
          "pop.00067.wav",
          "pop.00073.wav",
          "pop.00077.wav",
          "pop.00063.wav",
          "pop.00088.wav",
          "pop.00089.wav",
          "pop.00062.wav",
          "pop.00076.wav",
          "pop.00048.wav",
          "pop.00060.wav",
          "pop.00074.wav",
          "pop.00075.wav",
          "pop.00061.wav",
          "pop.00049.wav",
          "pop.00006.wav",
          "pop.00012.wav",
          "pop.00013.wav",
          "pop.00007.wav",
          "pop.00011.wav",
          "pop.00005.wav",
          "pop.00039.wav",
          "pop.00038.wav",
          "pop.00004.wav",
          "pop.00010.wav",
          "pop.00028.wav",
          "pop.00014.wav",
          "pop.00000.wav",
          "pop.00001.wav",
          "pop.00015.wav",
          "pop.00029.wav",
          "pop.00003.wav",
          "pop.00017.wav",
          "pop.00016.wav",
          "pop.00002.wav"
         ],
         "type": "scatter",
         "x": {
          "bdata": "4TwgwqRE6T+UDFEEN53pP1+mATgtae0/fhj/YQn/5j98hyfgp+XpP8HLlbmBb+s/kKIMzRBi7D+VxRYgGFXqPyg1mMmM1Ok/7RGw/Qkb6j+3jg1sVfXrP2o2gAj1R+o/X3JYS1597D+VgjNovILrPwpDHofyfeo/exL1fkyP6j/fUUMLOEHrP0MmdnT7Seo/pEj5hTdA6z+G5ZiuKEbsPzOhGeLXOes/de0I4owm6z+GOB03DGTrPy3inTqfeOw/etOsnQBw7D+nmRAG5OnrPzldkkHftOw/8q7N2iGk5j9RFlR+uHDtP7OYiPZZqek/xqTj0imp5j/Dyi3XXRXrPxNN4IGQeOw/dMkdVFn26T/SB+xmTiPnP08h+jK4sew/ZZt0HW6U6T8FpH9y6E7tP3FeH4pbnuw/Skhm36te6j8AatuaLErrP01cFS+g+ug/MxxNFsUc6z9cF7/ams3oP5BIzt61Ueo/gchmFj877T8bgFH1MQrpP0oEkRhwKeU/TggaP7Tn7D8c/RwuAw7tP8YZm0M16uo/A19SeY277D/unnR2xeDoP6ldP7AcWuw/sVfwkT885D+TRD18cSnrPxLrMPskn+g/XuYK6MN97T8NDOE2WZrsP7LFouO9mug/tVs+kTGN6z9cS0QgUhvrP0G/tPJ8Neg/e/Eao5bR6j+yC6+tnqzqPygTi1i+Suw/XuYK6MN97T+aegELPebsP9i5DX9kOu0/hD/pAQvs4z9jabiP0QbsPxKSbTKOCew/nmDvbnA46T+2nCyFg0ztP1qYyGzdJ+0/qV0/sBxa7D9nJmkzUa7rPy726QHm+uw/fKP6KWdP6j+r7Qh92nLlP+Wl7rfE3eg/gemJC4/M6D/Z7mfZ5xDpPy0KMfiBJ+M/JdubPc9C5D/vZljIh5TmP202DjdITe0/XHJfvFMB6z8CDgi0tLLpP+123FcVvOY/5xFK8nUx6j8PERna07zlP4F5aogJ6ew/6JHZUoop7T/AaYSiaEjrP1tHeC2L3Oo/zB9WMAp65D8rgPTmidfqP3wLaGYK1uw/N9n1VtfI7D8=",
          "dtype": "f8"
         },
         "xaxis": "x5",
         "y": {
          "bdata": "67BgBMnu2D8Sz4TtClvaP03gt+25fM4/j74L0tZm2j95pm7r7xrZP+MBjuulEtU/G5g90vdB0j96LjEfa57XP0A7L2S9NNU//czj8+u/2D9eY8FDtOHVP96AZhPFc9g/Z5g9yoGC0z9QanEfttfVP6bLgV9H1dU/5C+yhen01z8iCi4H9a7VP6GAKKa0M9c/3xldMoFN1j88WOhyFmnRP5aFh7DOqtc/sFzPV1GN1T88onCjui/WPz1Ii8KxW9I/xcCKiXVJ0z+67ZVL+X/UP4mFJA909dI/LhRH3/MD3D+TRcqbFi/QP30GUrGg5tc/DkTALuMA2z+q1OmZGnXWP2U5fWxOdNI/4Bb7hv6P1j9pTb8ItpLcPzYpqF+WbtI/CwQAruQf2D9H+JHpMDzQP8sErMan6tE/7s53rIDb1z9qiTXJWIvUPwieTT4WQdk/qKe2vMdY1j/Y21/hfVfbP3XGYM8pOdg/JUjXMWFV0D9Xsxxy4lfdP0n89X2Xdds/yd4tGh4r0D+ZcuStN63QP+yzGK9Sf9U/YA06eoeS0T9LnaVN0PPZP83+zxwgvNE/Z0jbUTGb3j/+AoIEYH/WP/qNo0656ts/xWDJONrvzT8/aBPFttPRP4Tc7afyINo/YHn8u0K81D/m5Fj3hgPXP02yk4wFidw/6JunaLQO1T+b1D+rQ7XWP0asY5K6jNI/xWDJONrvzT8Mo3s7EifRP5CGvRn6YtA/q0PZHKjT3D+xzSixD+rTP7iWgS1BidM/XrrtccGz2j8shWs90g3QP7/7HBf7ENE/zf7PHCC80T9lm3nBWbzTP3XM/WdFJdI/kjqhVvft2D80foeJ2mvaPwtp/DHwqdk/1MIvB0bZ2z+WhIoatmHXP8XPvmN9O9w/B6e+OL6e3D9nbZOCTbzdP4XBfLdB8c8/Ow8H/vPp1j+13Yvfk5rZP6Ih83b9Ndw/Vj5dbydh1z8BqSdcJEXeP9/rlZBaZdE/FDSmVPu0zz+0C3JZ3KnVP0EuZ0oUitU/dXkDf5ei3j/OLrJ4twXYP2W4JQDbpdE/EFBUcZzI0D8=",
          "dtype": "f8"
         },
         "yaxis": "y5"
        },
        {
         "hovertemplate": "Entropy: %{x}<br>Complexity: %{y}<br>File: %{text}<extra></extra>",
         "marker": {
          "color": {
           "bdata": "iniy1nBx4j+QK4jyPcniP9WvLcz0J+I/GCyl1jLC4T+DUE/o3cTiP2Trn1OBoeI/rkfX1EF04j8mwBXH4qPiP7XUs5GA4uE/HczUGfHJ4j+hp61bS9jiP9aOLmfWy+I/he+pX02I4j9ZTQZvpsniPxdrIm17ZOI/mjzOZy3e4j+puoppQKHiP1px/eLujuI/A/GK9ATC4j8tqIVLKjniP1essgIY/+I/0h7+0gKT4j/LzdacfMPiP/x1FFCgeuI/DDlgbDOH4j9uUHoBdpniP050vG2pkOI/EgtPJ4bP4T9JEFdTajziP+uIXsnnUuI/1FtTm22m4T+Z9qvstbbiP9Dizur2feI/A/ePRac+4j/p+gqyjkfiP7TjmfbjguI/8x85dhxW4j+12PN70ETiP7N11J/ZYeI/BV2dv/zC4j/f2JOz6WTiP0wzmAmVUeI/RRPgdT634j8P16jhWMfiP8u5wVZ4s+I/eK1BRd9K4j8XpSS4lDHjP14QIZR2BuE/QcljHeM54j8y75W4OE/iP6WgJ4yPeuI/uYhyaGdX4j8x2IAWE3TiP96k0UNXSeI/Cb6XeVds4T9HIVJZ1LriP7tftsxzt+I/BKbBKv8h4j+4f3uCZV/iP3xMYe8Rc+I/hIq8z9hv4j+eF1pwsBjjP1KjStuJt+I/aFPt9Jhg4j83mRCHTZPiP1XxeyGWYOI/BKbBKv8h4j+jooqZ9lniPxWriiS5ReI/RYLlNlC44D/I7RSE1ZriPwx6Gu1leOI/oLaoZRC34j8fxlTTWzbiP25NM0lHWOI/3qTRQ1dJ4j919oPS7mriP5JpFDAtfeI/6vLRXJr64j9bUi4feM3gP/Mxm6FwVOI/Duy4oNbx4j8Wg7x5jPXhP+yY+e+AQOA/Bp+hT0/T4D9oUBIx8TziP7HFtHMhPuI/PxmSUbLI4j8hYNPJYtLiP5jaT2oX8eE/PMuvqVmC4j/d9qCBKgDiPx4kDH8eXuI/AOWOjE0n4j9vBkYVdaHiP2m0nzlJeOI/W7vz8YCT4T+UwLK0593iPzLCrtqbV+I/2Jy5KnhG4j8=",
           "dtype": "f8"
          },
          "colorscale": [
           [
            0,
            "#0508b8"
           ],
           [
            0.08333333333333333,
            "#1910d8"
           ],
           [
            0.16666666666666666,
            "#3c19f0"
           ],
           [
            0.25,
            "#6b1cfb"
           ],
           [
            0.3333333333333333,
            "#981cfd"
           ],
           [
            0.4166666666666667,
            "#bf1cfd"
           ],
           [
            0.5,
            "#dd2bfd"
           ],
           [
            0.5833333333333334,
            "#f246fe"
           ],
           [
            0.6666666666666666,
            "#fc67fd"
           ],
           [
            0.75,
            "#fe88fc"
           ],
           [
            0.8333333333333334,
            "#fea5fd"
           ],
           [
            0.9166666666666666,
            "#febefe"
           ],
           [
            1,
            "#fec3fe"
           ]
          ],
          "size": 10
         },
         "mode": "markers",
         "name": "Dim = 9, Hop = 8",
         "showlegend": true,
         "text": [
          "pop.00027.wav",
          "pop.00033.wav",
          "pop.00032.wav",
          "pop.00026.wav",
          "pop.00030.wav",
          "pop.00024.wav",
          "pop.00018.wav",
          "pop.00019.wav",
          "pop.00025.wav",
          "pop.00031.wav",
          "pop.00009.wav",
          "pop.00035.wav",
          "pop.00021.wav",
          "pop.00020.wav",
          "pop.00034.wav",
          "pop.00008.wav",
          "pop.00022.wav",
          "pop.00036.wav",
          "pop.00037.wav",
          "pop.00023.wav",
          "pop.00044.wav",
          "pop.00050.wav",
          "pop.00078.wav",
          "pop.00087.wav",
          "pop.00093.wav",
          "pop.00092.wav",
          "pop.00086.wav",
          "pop.00079.wav",
          "pop.00051.wav",
          "pop.00045.wav",
          "pop.00053.wav",
          "pop.00047.wav",
          "pop.00090.wav",
          "pop.00084.wav",
          "pop.00085.wav",
          "pop.00091.wav",
          "pop.00046.wav",
          "pop.00052.wav",
          "pop.00056.wav",
          "pop.00042.wav",
          "pop.00095.wav",
          "pop.00081.wav",
          "pop.00080.wav",
          "pop.00094.wav",
          "pop.00043.wav",
          "pop.00057.wav",
          "pop.00069.wav",
          "pop.00041.wav",
          "pop.00055.wav",
          "pop.00082.wav",
          "pop.00096.wav",
          "pop.00097.wav",
          "pop.00083.wav",
          "pop.00054.wav",
          "pop.00040.wav",
          "pop.00068.wav",
          "pop.00065.wav",
          "pop.00071.wav",
          "pop.00059.wav",
          "pop.00058.wav",
          "pop.00070.wav",
          "pop.00064.wav",
          "pop.00072.wav",
          "pop.00066.wav",
          "pop.00099.wav",
          "pop.00098.wav",
          "pop.00067.wav",
          "pop.00073.wav",
          "pop.00077.wav",
          "pop.00063.wav",
          "pop.00088.wav",
          "pop.00089.wav",
          "pop.00062.wav",
          "pop.00076.wav",
          "pop.00048.wav",
          "pop.00060.wav",
          "pop.00074.wav",
          "pop.00075.wav",
          "pop.00061.wav",
          "pop.00049.wav",
          "pop.00006.wav",
          "pop.00012.wav",
          "pop.00013.wav",
          "pop.00007.wav",
          "pop.00011.wav",
          "pop.00005.wav",
          "pop.00039.wav",
          "pop.00038.wav",
          "pop.00004.wav",
          "pop.00010.wav",
          "pop.00028.wav",
          "pop.00014.wav",
          "pop.00000.wav",
          "pop.00001.wav",
          "pop.00015.wav",
          "pop.00029.wav",
          "pop.00003.wav",
          "pop.00017.wav",
          "pop.00016.wav",
          "pop.00002.wav"
         ],
         "type": "scatter",
         "x": {
          "bdata": "znydXTFn5z/9R00u4+nnPwgtGWSYsOo/eqMjiPNV5T/RyahwMRDoP7hUimUuLuk/N/iNWD7U6T/BJYU8mlToP94R337bbOc/6SPviXNA6D8eUFZtJ9/pP+VEZ4wiZug/7tg8wWss6j9QbkKUzGPpP61BtXQxN+g/Ykx2cq6X6D+CnwcpzhDpP1fRjJ3aLeg/YW0VXzop6T+05T2Yn6TpP9GajdreQ+k/fE4NqDPq6D93Z5g73UDpP43yNTAN/ek/0n31YF4I6j/hof3vvqLpP6AMHLUtU+o/zZ2Dwcol5T/kfnLN1s7qPwcjJKMyquc/iphpSJUP5T+DnqN3k+7oP+CtGqu89+k/2OM/ccjG5z9xm3fVGs3lPwLYbxVGPuo/yo4HNG+Y5z+yPcS27K7qPzIjOC+AGuo/2g9vHS1j6D+F2aRIrOHoP7QbfREiDuc/JxJyU2vw6D+3+XEsRT3nP3f11qpQZ+g/AKEmPjGb6j9i1DNcY7nnPw9Q+tGQxuM/b8/ZZPgv6j8nJfm3knHqP93YKRbWm+g/LLtaKGAX6j/6X3u4GgznP/4Z3w/1vek/vtAUQ5hh4z+B5+VI0A7pPyXtKBznD+c/hBW1uCvK6j+kJwucNxDqP+vh0cAx3eY/kR9zQXNK6T8KrCMMXNToP3fv7Unky+Y/VX8hOu1y6D+ZT5i8jXfoP30Bo7jCzek/hBW1uCvK6j9dFZuF01jqP4s5g1HopOo/yukyRTHb4j/5hj07eKvpP68zTNBZoek/ngk5nj2C5z+6esf0TqnqP88S1EOQmeo//hnfD/W96T/iwHGJdTTpPwUFIQfJjOo/+CH4aqtu6D8GMo4uXdLjP9E8cgG2A+c/2b8ss+tJ5z/IMB1BN+XmP3NjZHg3GuI/jS6Alywf4z+iSGvTg1/lP4cciLsWlOo/J57YKqX36D91QYLPd+DnP7jiY8DwVOU/1MgLmOMe6D+HfsylQ7DkP+3dNbViV+o/qZR6zz1p6j/lbYgZWRDpP8Jf6lc1kug/7OTyDgyZ4z+MpRent93oPzCvH6HhTeo/AtLe1B0U6j8=",
          "dtype": "f8"
         },
         "xaxis": "x6",
         "y": {
          "bdata": "iniy1nBx4j+QK4jyPcniP9WvLcz0J+I/GCyl1jLC4T+DUE/o3cTiP2Trn1OBoeI/rkfX1EF04j8mwBXH4qPiP7XUs5GA4uE/HczUGfHJ4j+hp61bS9jiP9aOLmfWy+I/he+pX02I4j9ZTQZvpsniPxdrIm17ZOI/mjzOZy3e4j+puoppQKHiP1px/eLujuI/A/GK9ATC4j8tqIVLKjniP1essgIY/+I/0h7+0gKT4j/LzdacfMPiP/x1FFCgeuI/DDlgbDOH4j9uUHoBdpniP050vG2pkOI/EgtPJ4bP4T9JEFdTajziP+uIXsnnUuI/1FtTm22m4T+Z9qvstbbiP9Dizur2feI/A/ePRac+4j/p+gqyjkfiP7TjmfbjguI/8x85dhxW4j+12PN70ETiP7N11J/ZYeI/BV2dv/zC4j/f2JOz6WTiP0wzmAmVUeI/RRPgdT634j8P16jhWMfiP8u5wVZ4s+I/eK1BRd9K4j8XpSS4lDHjP14QIZR2BuE/QcljHeM54j8y75W4OE/iP6WgJ4yPeuI/uYhyaGdX4j8x2IAWE3TiP96k0UNXSeI/Cb6XeVds4T9HIVJZ1LriP7tftsxzt+I/BKbBKv8h4j+4f3uCZV/iP3xMYe8Rc+I/hIq8z9hv4j+eF1pwsBjjP1KjStuJt+I/aFPt9Jhg4j83mRCHTZPiP1XxeyGWYOI/BKbBKv8h4j+jooqZ9lniPxWriiS5ReI/RYLlNlC44D/I7RSE1ZriPwx6Gu1leOI/oLaoZRC34j8fxlTTWzbiP25NM0lHWOI/3qTRQ1dJ4j919oPS7mriP5JpFDAtfeI/6vLRXJr64j9bUi4feM3gP/Mxm6FwVOI/Duy4oNbx4j8Wg7x5jPXhP+yY+e+AQOA/Bp+hT0/T4D9oUBIx8TziP7HFtHMhPuI/PxmSUbLI4j8hYNPJYtLiP5jaT2oX8eE/PMuvqVmC4j/d9qCBKgDiPx4kDH8eXuI/AOWOjE0n4j9vBkYVdaHiP2m0nzlJeOI/W7vz8YCT4T+UwLK0593iPzLCrtqbV+I/2Jy5KnhG4j8=",
          "dtype": "f8"
         },
         "yaxis": "y6"
        }
       ],
       "layout": {
        "annotations": [
         {
          "font": {
           "size": 16
          },
          "showarrow": false,
          "text": "Dim = '4', Hop = '3'",
          "x": 0.225,
          "xanchor": "center",
          "xref": "paper",
          "y": 1,
          "yanchor": "bottom",
          "yref": "paper"
         },
         {
          "font": {
           "size": 16
          },
          "showarrow": false,
          "text": "Dim = '5', Hop = '4'",
          "x": 0.775,
          "xanchor": "center",
          "xref": "paper",
          "y": 1,
          "yanchor": "bottom",
          "yref": "paper"
         },
         {
          "font": {
           "size": 16
          },
          "showarrow": false,
          "text": "Dim = '6', Hop = '5'",
          "x": 0.225,
          "xanchor": "center",
          "xref": "paper",
          "y": 0.6111111111111112,
          "yanchor": "bottom",
          "yref": "paper"
         },
         {
          "font": {
           "size": 16
          },
          "showarrow": false,
          "text": "Dim = '7', Hop = '6'",
          "x": 0.775,
          "xanchor": "center",
          "xref": "paper",
          "y": 0.6111111111111112,
          "yanchor": "bottom",
          "yref": "paper"
         },
         {
          "font": {
           "size": 16
          },
          "showarrow": false,
          "text": "Dim = '8', Hop = '7'",
          "x": 0.225,
          "xanchor": "center",
          "xref": "paper",
          "y": 0.22222222222222224,
          "yanchor": "bottom",
          "yref": "paper"
         },
         {
          "font": {
           "size": 16
          },
          "showarrow": false,
          "text": "Dim = '9', Hop = '8'",
          "x": 0.775,
          "xanchor": "center",
          "xref": "paper",
          "y": 0.22222222222222224,
          "yanchor": "bottom",
          "yref": "paper"
         }
        ],
        "height": 1400,
        "template": {
         "data": {
          "bar": [
           {
            "error_x": {
             "color": "#f2f5fa"
            },
            "error_y": {
             "color": "#f2f5fa"
            },
            "marker": {
             "line": {
              "color": "rgb(17,17,17)",
              "width": 0.5
             },
             "pattern": {
              "fillmode": "overlay",
              "size": 10,
              "solidity": 0.2
             }
            },
            "type": "bar"
           }
          ],
          "barpolar": [
           {
            "marker": {
             "line": {
              "color": "rgb(17,17,17)",
              "width": 0.5
             },
             "pattern": {
              "fillmode": "overlay",
              "size": 10,
              "solidity": 0.2
             }
            },
            "type": "barpolar"
           }
          ],
          "carpet": [
           {
            "aaxis": {
             "endlinecolor": "#A2B1C6",
             "gridcolor": "#506784",
             "linecolor": "#506784",
             "minorgridcolor": "#506784",
             "startlinecolor": "#A2B1C6"
            },
            "baxis": {
             "endlinecolor": "#A2B1C6",
             "gridcolor": "#506784",
             "linecolor": "#506784",
             "minorgridcolor": "#506784",
             "startlinecolor": "#A2B1C6"
            },
            "type": "carpet"
           }
          ],
          "choropleth": [
           {
            "colorbar": {
             "outlinewidth": 0,
             "ticks": ""
            },
            "type": "choropleth"
           }
          ],
          "contour": [
           {
            "colorbar": {
             "outlinewidth": 0,
             "ticks": ""
            },
            "colorscale": [
             [
              0,
              "#0d0887"
             ],
             [
              0.1111111111111111,
              "#46039f"
             ],
             [
              0.2222222222222222,
              "#7201a8"
             ],
             [
              0.3333333333333333,
              "#9c179e"
             ],
             [
              0.4444444444444444,
              "#bd3786"
             ],
             [
              0.5555555555555556,
              "#d8576b"
             ],
             [
              0.6666666666666666,
              "#ed7953"
             ],
             [
              0.7777777777777778,
              "#fb9f3a"
             ],
             [
              0.8888888888888888,
              "#fdca26"
             ],
             [
              1,
              "#f0f921"
             ]
            ],
            "type": "contour"
           }
          ],
          "contourcarpet": [
           {
            "colorbar": {
             "outlinewidth": 0,
             "ticks": ""
            },
            "type": "contourcarpet"
           }
          ],
          "heatmap": [
           {
            "colorbar": {
             "outlinewidth": 0,
             "ticks": ""
            },
            "colorscale": [
             [
              0,
              "#0d0887"
             ],
             [
              0.1111111111111111,
              "#46039f"
             ],
             [
              0.2222222222222222,
              "#7201a8"
             ],
             [
              0.3333333333333333,
              "#9c179e"
             ],
             [
              0.4444444444444444,
              "#bd3786"
             ],
             [
              0.5555555555555556,
              "#d8576b"
             ],
             [
              0.6666666666666666,
              "#ed7953"
             ],
             [
              0.7777777777777778,
              "#fb9f3a"
             ],
             [
              0.8888888888888888,
              "#fdca26"
             ],
             [
              1,
              "#f0f921"
             ]
            ],
            "type": "heatmap"
           }
          ],
          "histogram": [
           {
            "marker": {
             "pattern": {
              "fillmode": "overlay",
              "size": 10,
              "solidity": 0.2
             }
            },
            "type": "histogram"
           }
          ],
          "histogram2d": [
           {
            "colorbar": {
             "outlinewidth": 0,
             "ticks": ""
            },
            "colorscale": [
             [
              0,
              "#0d0887"
             ],
             [
              0.1111111111111111,
              "#46039f"
             ],
             [
              0.2222222222222222,
              "#7201a8"
             ],
             [
              0.3333333333333333,
              "#9c179e"
             ],
             [
              0.4444444444444444,
              "#bd3786"
             ],
             [
              0.5555555555555556,
              "#d8576b"
             ],
             [
              0.6666666666666666,
              "#ed7953"
             ],
             [
              0.7777777777777778,
              "#fb9f3a"
             ],
             [
              0.8888888888888888,
              "#fdca26"
             ],
             [
              1,
              "#f0f921"
             ]
            ],
            "type": "histogram2d"
           }
          ],
          "histogram2dcontour": [
           {
            "colorbar": {
             "outlinewidth": 0,
             "ticks": ""
            },
            "colorscale": [
             [
              0,
              "#0d0887"
             ],
             [
              0.1111111111111111,
              "#46039f"
             ],
             [
              0.2222222222222222,
              "#7201a8"
             ],
             [
              0.3333333333333333,
              "#9c179e"
             ],
             [
              0.4444444444444444,
              "#bd3786"
             ],
             [
              0.5555555555555556,
              "#d8576b"
             ],
             [
              0.6666666666666666,
              "#ed7953"
             ],
             [
              0.7777777777777778,
              "#fb9f3a"
             ],
             [
              0.8888888888888888,
              "#fdca26"
             ],
             [
              1,
              "#f0f921"
             ]
            ],
            "type": "histogram2dcontour"
           }
          ],
          "mesh3d": [
           {
            "colorbar": {
             "outlinewidth": 0,
             "ticks": ""
            },
            "type": "mesh3d"
           }
          ],
          "parcoords": [
           {
            "line": {
             "colorbar": {
              "outlinewidth": 0,
              "ticks": ""
             }
            },
            "type": "parcoords"
           }
          ],
          "pie": [
           {
            "automargin": true,
            "type": "pie"
           }
          ],
          "scatter": [
           {
            "marker": {
             "line": {
              "color": "#283442"
             }
            },
            "type": "scatter"
           }
          ],
          "scatter3d": [
           {
            "line": {
             "colorbar": {
              "outlinewidth": 0,
              "ticks": ""
             }
            },
            "marker": {
             "colorbar": {
              "outlinewidth": 0,
              "ticks": ""
             }
            },
            "type": "scatter3d"
           }
          ],
          "scattercarpet": [
           {
            "marker": {
             "colorbar": {
              "outlinewidth": 0,
              "ticks": ""
             }
            },
            "type": "scattercarpet"
           }
          ],
          "scattergeo": [
           {
            "marker": {
             "colorbar": {
              "outlinewidth": 0,
              "ticks": ""
             }
            },
            "type": "scattergeo"
           }
          ],
          "scattergl": [
           {
            "marker": {
             "line": {
              "color": "#283442"
             }
            },
            "type": "scattergl"
           }
          ],
          "scattermap": [
           {
            "marker": {
             "colorbar": {
              "outlinewidth": 0,
              "ticks": ""
             }
            },
            "type": "scattermap"
           }
          ],
          "scattermapbox": [
           {
            "marker": {
             "colorbar": {
              "outlinewidth": 0,
              "ticks": ""
             }
            },
            "type": "scattermapbox"
           }
          ],
          "scatterpolar": [
           {
            "marker": {
             "colorbar": {
              "outlinewidth": 0,
              "ticks": ""
             }
            },
            "type": "scatterpolar"
           }
          ],
          "scatterpolargl": [
           {
            "marker": {
             "colorbar": {
              "outlinewidth": 0,
              "ticks": ""
             }
            },
            "type": "scatterpolargl"
           }
          ],
          "scatterternary": [
           {
            "marker": {
             "colorbar": {
              "outlinewidth": 0,
              "ticks": ""
             }
            },
            "type": "scatterternary"
           }
          ],
          "surface": [
           {
            "colorbar": {
             "outlinewidth": 0,
             "ticks": ""
            },
            "colorscale": [
             [
              0,
              "#0d0887"
             ],
             [
              0.1111111111111111,
              "#46039f"
             ],
             [
              0.2222222222222222,
              "#7201a8"
             ],
             [
              0.3333333333333333,
              "#9c179e"
             ],
             [
              0.4444444444444444,
              "#bd3786"
             ],
             [
              0.5555555555555556,
              "#d8576b"
             ],
             [
              0.6666666666666666,
              "#ed7953"
             ],
             [
              0.7777777777777778,
              "#fb9f3a"
             ],
             [
              0.8888888888888888,
              "#fdca26"
             ],
             [
              1,
              "#f0f921"
             ]
            ],
            "type": "surface"
           }
          ],
          "table": [
           {
            "cells": {
             "fill": {
              "color": "#506784"
             },
             "line": {
              "color": "rgb(17,17,17)"
             }
            },
            "header": {
             "fill": {
              "color": "#2a3f5f"
             },
             "line": {
              "color": "rgb(17,17,17)"
             }
            },
            "type": "table"
           }
          ]
         },
         "layout": {
          "annotationdefaults": {
           "arrowcolor": "#f2f5fa",
           "arrowhead": 0,
           "arrowwidth": 1
          },
          "autotypenumbers": "strict",
          "coloraxis": {
           "colorbar": {
            "outlinewidth": 0,
            "ticks": ""
           }
          },
          "colorscale": {
           "diverging": [
            [
             0,
             "#8e0152"
            ],
            [
             0.1,
             "#c51b7d"
            ],
            [
             0.2,
             "#de77ae"
            ],
            [
             0.3,
             "#f1b6da"
            ],
            [
             0.4,
             "#fde0ef"
            ],
            [
             0.5,
             "#f7f7f7"
            ],
            [
             0.6,
             "#e6f5d0"
            ],
            [
             0.7,
             "#b8e186"
            ],
            [
             0.8,
             "#7fbc41"
            ],
            [
             0.9,
             "#4d9221"
            ],
            [
             1,
             "#276419"
            ]
           ],
           "sequential": [
            [
             0,
             "#0d0887"
            ],
            [
             0.1111111111111111,
             "#46039f"
            ],
            [
             0.2222222222222222,
             "#7201a8"
            ],
            [
             0.3333333333333333,
             "#9c179e"
            ],
            [
             0.4444444444444444,
             "#bd3786"
            ],
            [
             0.5555555555555556,
             "#d8576b"
            ],
            [
             0.6666666666666666,
             "#ed7953"
            ],
            [
             0.7777777777777778,
             "#fb9f3a"
            ],
            [
             0.8888888888888888,
             "#fdca26"
            ],
            [
             1,
             "#f0f921"
            ]
           ],
           "sequentialminus": [
            [
             0,
             "#0d0887"
            ],
            [
             0.1111111111111111,
             "#46039f"
            ],
            [
             0.2222222222222222,
             "#7201a8"
            ],
            [
             0.3333333333333333,
             "#9c179e"
            ],
            [
             0.4444444444444444,
             "#bd3786"
            ],
            [
             0.5555555555555556,
             "#d8576b"
            ],
            [
             0.6666666666666666,
             "#ed7953"
            ],
            [
             0.7777777777777778,
             "#fb9f3a"
            ],
            [
             0.8888888888888888,
             "#fdca26"
            ],
            [
             1,
             "#f0f921"
            ]
           ]
          },
          "colorway": [
           "#636efa",
           "#EF553B",
           "#00cc96",
           "#ab63fa",
           "#FFA15A",
           "#19d3f3",
           "#FF6692",
           "#B6E880",
           "#FF97FF",
           "#FECB52"
          ],
          "font": {
           "color": "#f2f5fa"
          },
          "geo": {
           "bgcolor": "rgb(17,17,17)",
           "lakecolor": "rgb(17,17,17)",
           "landcolor": "rgb(17,17,17)",
           "showlakes": true,
           "showland": true,
           "subunitcolor": "#506784"
          },
          "hoverlabel": {
           "align": "left"
          },
          "hovermode": "closest",
          "mapbox": {
           "style": "dark"
          },
          "paper_bgcolor": "rgb(17,17,17)",
          "plot_bgcolor": "rgb(17,17,17)",
          "polar": {
           "angularaxis": {
            "gridcolor": "#506784",
            "linecolor": "#506784",
            "ticks": ""
           },
           "bgcolor": "rgb(17,17,17)",
           "radialaxis": {
            "gridcolor": "#506784",
            "linecolor": "#506784",
            "ticks": ""
           }
          },
          "scene": {
           "xaxis": {
            "backgroundcolor": "rgb(17,17,17)",
            "gridcolor": "#506784",
            "gridwidth": 2,
            "linecolor": "#506784",
            "showbackground": true,
            "ticks": "",
            "zerolinecolor": "#C8D4E3"
           },
           "yaxis": {
            "backgroundcolor": "rgb(17,17,17)",
            "gridcolor": "#506784",
            "gridwidth": 2,
            "linecolor": "#506784",
            "showbackground": true,
            "ticks": "",
            "zerolinecolor": "#C8D4E3"
           },
           "zaxis": {
            "backgroundcolor": "rgb(17,17,17)",
            "gridcolor": "#506784",
            "gridwidth": 2,
            "linecolor": "#506784",
            "showbackground": true,
            "ticks": "",
            "zerolinecolor": "#C8D4E3"
           }
          },
          "shapedefaults": {
           "line": {
            "color": "#f2f5fa"
           }
          },
          "sliderdefaults": {
           "bgcolor": "#C8D4E3",
           "bordercolor": "rgb(17,17,17)",
           "borderwidth": 1,
           "tickwidth": 0
          },
          "ternary": {
           "aaxis": {
            "gridcolor": "#506784",
            "linecolor": "#506784",
            "ticks": ""
           },
           "baxis": {
            "gridcolor": "#506784",
            "linecolor": "#506784",
            "ticks": ""
           },
           "bgcolor": "rgb(17,17,17)",
           "caxis": {
            "gridcolor": "#506784",
            "linecolor": "#506784",
            "ticks": ""
           }
          },
          "title": {
           "x": 0.05
          },
          "updatemenudefaults": {
           "bgcolor": "#506784",
           "borderwidth": 0
          },
          "xaxis": {
           "automargin": true,
           "gridcolor": "#283442",
           "linecolor": "#506784",
           "ticks": "",
           "title": {
            "standoff": 15
           },
           "zerolinecolor": "#283442",
           "zerolinewidth": 2
          },
          "yaxis": {
           "automargin": true,
           "gridcolor": "#283442",
           "linecolor": "#506784",
           "ticks": "",
           "title": {
            "standoff": 15
           },
           "zerolinecolor": "#283442",
           "zerolinewidth": 2
          }
         }
        },
        "title": {
         "text": "Combined Entropy–Complexity Plots for Folder data/genres_30sec/pop"
        },
        "width": 1200,
        "xaxis": {
         "anchor": "y",
         "domain": [
          0,
          0.45
         ],
         "range": [
          0,
          1
         ]
        },
        "xaxis2": {
         "anchor": "y2",
         "domain": [
          0.55,
          1
         ],
         "range": [
          0,
          1
         ]
        },
        "xaxis3": {
         "anchor": "y3",
         "domain": [
          0,
          0.45
         ],
         "range": [
          0,
          1
         ]
        },
        "xaxis4": {
         "anchor": "y4",
         "domain": [
          0.55,
          1
         ],
         "range": [
          0,
          1
         ]
        },
        "xaxis5": {
         "anchor": "y5",
         "domain": [
          0,
          0.45
         ],
         "range": [
          0,
          1
         ]
        },
        "xaxis6": {
         "anchor": "y6",
         "domain": [
          0.55,
          1
         ],
         "range": [
          0,
          1
         ]
        },
        "yaxis": {
         "anchor": "x",
         "domain": [
          0.7777777777777778,
          1
         ],
         "range": [
          0,
          1
         ]
        },
        "yaxis2": {
         "anchor": "x2",
         "domain": [
          0.7777777777777778,
          1
         ],
         "range": [
          0,
          1
         ]
        },
        "yaxis3": {
         "anchor": "x3",
         "domain": [
          0.3888888888888889,
          0.6111111111111112
         ],
         "range": [
          0,
          1
         ]
        },
        "yaxis4": {
         "anchor": "x4",
         "domain": [
          0.3888888888888889,
          0.6111111111111112
         ],
         "range": [
          0,
          1
         ]
        },
        "yaxis5": {
         "anchor": "x5",
         "domain": [
          0,
          0.22222222222222224
         ],
         "range": [
          0,
          1
         ]
        },
        "yaxis6": {
         "anchor": "x6",
         "domain": [
          0,
          0.22222222222222224
         ],
         "range": [
          0,
          1
         ]
        }
       }
      }
     },
     "metadata": {},
     "output_type": "display_data"
    }
   ],
   "source": [
    "folder_path = \"data/genres_30sec/pop\"\n",
    "start = 4\n",
    "end = 10\n",
    "grid = 2\n",
    "folder = \"plots\"\n",
    "plot_graph(folder_path, start, end, grid, folder)"
   ]
  },
  {
   "cell_type": "markdown",
   "metadata": {},
   "source": [
    "Reggae"
   ]
  },
  {
   "cell_type": "code",
   "execution_count": null,
   "metadata": {},
   "outputs": [
    {
     "name": "stderr",
     "output_type": "stream",
     "text": [
      "Processing audio files in data/genres_30sec/reggae with dim 4 and hop 3: 100%|██████████| 100/100 [00:56<00:00,  1.77it/s]\n",
      "Processing audio files in data/genres_30sec/reggae with dim 5 and hop 4: 100%|██████████| 100/100 [00:43<00:00,  2.28it/s]\n",
      "Processing audio files in data/genres_30sec/reggae with dim 6 and hop 5: 100%|██████████| 100/100 [00:36<00:00,  2.77it/s]\n",
      "Processing audio files in data/genres_30sec/reggae with dim 7 and hop 6: 100%|██████████| 100/100 [00:32<00:00,  3.08it/s]\n",
      "Processing audio files in data/genres_30sec/reggae with dim 8 and hop 7: 100%|██████████| 100/100 [00:33<00:00,  2.99it/s]\n",
      "Processing audio files in data/genres_30sec/reggae with dim 9 and hop 8: 100%|██████████| 100/100 [00:37<00:00,  2.65it/s]\n"
     ]
    },
    {
     "data": {
      "application/vnd.plotly.v1+json": {
       "config": {
        "plotlyServerURL": "https://plot.ly"
       },
       "data": [
        {
         "hovertemplate": "Entropy: %{x}<br>Complexity: %{y}<br>File: %{text}<extra></extra>",
         "marker": {
          "color": {
           "bdata": "ypRzeAiFwT+2fCBxOwjMP2ynIdySB9E/Mz2rPD9Mwz/TsMKmFUPFP98wo7n528M/t3IVfy15tj/yE+Gu5tu/P3N/K+mKbss/JlKShlkv0D9nZkRWnWq+Px2NgXI4Xc0/7kU2ZmAkyT9V8UjV8xjBP441zuE/Ssk/+zzO+Asyuz/yE+Gu5tu/P8O7aU8kd9A/Vy5uHx6ryj/rdrWIlIXBPyHo+U3AL8g/Wi1OQAg9oz8xNesZ442fP2j1UIgKubo/xbxtO7Tfvz8AixVltinIP1Wl6DCChLM/lFkDz6dVxz9klFWiK4PQP/BoYpkpeMk/ZK/7/kmrwj8C0Wskei2fPwoCzb28VcI/AyKkPoyEyD/c5zE3MfG8P9EGv6cbtco/Hr+tJe//yT9A+deBOUHNPzfZTrCx+so/s3CxCi4zyj95IZLQuGTJP8+pKf5Hjcc/DssHBUrexz+jUiPZZTbBP/1RXR88BMU/OjTES0WbxT9lHLpPqmzLPyVy6eNGd8k/GGs8nZWqwT/pyAUn1C7FP1+EIoNl2Mc/bfMZKawJzD9DRuhN2OXIP6dR5MhVhMU/iXVUrm2fyj8ZzTb7GNzHP+Wg7ba7ssk/MCoMM8Gbwj8/JOSpQRPFP7Ozxh8mGss/LZ7nk4mQxz+Df9gIPmHFP6KEW5QWQMQ/+Dg6jJstyD8suVkcSDfGPwHZJC0jYcs/HLyTsx4jyj8KV0mXKDDJP7T5oADnhM4/3DhTl/YNwz9snIrrX77IP4fANW60lsc/u5XbBXVRyT/d5xVLTNDEP94XbZjYbss/oHPBWlOVxD885eo3aN3QPw3/9GvXrsE/sZ4OeyAJwj8rAB9pjIvIP2C1Q4SHKss/Ep5W1pEDoD/8ZC1lutrGPx4k524fWrg/ZcvxKlGcuj9QnE3rURXBP6Y7zdRYZ8c/P0onFpydvj/SRGWyWD2+P4+u5jDapMM/KVTbAEtirT/dnzy4FGPJP4YEyEP7vro/TtLpATvXwD/3srw5Pd3FPwc6vsgUpcg/boMALkGMvj/rd7k5egG2P/LPZMdKWM4/t1iRebVKyz8=",
           "dtype": "f8"
          },
          "colorscale": [
           [
            0,
            "#0508b8"
           ],
           [
            0.08333333333333333,
            "#1910d8"
           ],
           [
            0.16666666666666666,
            "#3c19f0"
           ],
           [
            0.25,
            "#6b1cfb"
           ],
           [
            0.3333333333333333,
            "#981cfd"
           ],
           [
            0.4166666666666667,
            "#bf1cfd"
           ],
           [
            0.5,
            "#dd2bfd"
           ],
           [
            0.5833333333333334,
            "#f246fe"
           ],
           [
            0.6666666666666666,
            "#fc67fd"
           ],
           [
            0.75,
            "#fe88fc"
           ],
           [
            0.8333333333333334,
            "#fea5fd"
           ],
           [
            0.9166666666666666,
            "#febefe"
           ],
           [
            1,
            "#fec3fe"
           ]
          ],
          "size": 10
         },
         "mode": "markers",
         "name": "Dim = 4, Hop = 3",
         "showlegend": true,
         "text": [
          "reggae.00080.wav",
          "reggae.00094.wav",
          "reggae.00043.wav",
          "reggae.00057.wav",
          "reggae.00056.wav",
          "reggae.00042.wav",
          "reggae.00095.wav",
          "reggae.00081.wav",
          "reggae.00097.wav",
          "reggae.00083.wav",
          "reggae.00054.wav",
          "reggae.00040.wav",
          "reggae.00068.wav",
          "reggae.00069.wav",
          "reggae.00041.wav",
          "reggae.00055.wav",
          "reggae.00082.wav",
          "reggae.00096.wav",
          "reggae.00092.wav",
          "reggae.00086.wav",
          "reggae.00079.wav",
          "reggae.00051.wav",
          "reggae.00045.wav",
          "reggae.00044.wav",
          "reggae.00050.wav",
          "reggae.00078.wav",
          "reggae.00087.wav",
          "reggae.00093.wav",
          "reggae.00085.wav",
          "reggae.00091.wav",
          "reggae.00046.wav",
          "reggae.00052.wav",
          "reggae.00053.wav",
          "reggae.00047.wav",
          "reggae.00090.wav",
          "reggae.00084.wav",
          "reggae.00020.wav",
          "reggae.00034.wav",
          "reggae.00008.wav",
          "reggae.00009.wav",
          "reggae.00035.wav",
          "reggae.00021.wav",
          "reggae.00037.wav",
          "reggae.00023.wav",
          "reggae.00022.wav",
          "reggae.00036.wav",
          "reggae.00032.wav",
          "reggae.00026.wav",
          "reggae.00027.wav",
          "reggae.00033.wav",
          "reggae.00019.wav",
          "reggae.00025.wav",
          "reggae.00031.wav",
          "reggae.00030.wav",
          "reggae.00024.wav",
          "reggae.00018.wav",
          "reggae.00001.wav",
          "reggae.00015.wav",
          "reggae.00029.wav",
          "reggae.00028.wav",
          "reggae.00014.wav",
          "reggae.00000.wav",
          "reggae.00016.wav",
          "reggae.00002.wav",
          "reggae.00003.wav",
          "reggae.00017.wav",
          "reggae.00013.wav",
          "reggae.00007.wav",
          "reggae.00006.wav",
          "reggae.00012.wav",
          "reggae.00038.wav",
          "reggae.00004.wav",
          "reggae.00010.wav",
          "reggae.00011.wav",
          "reggae.00005.wav",
          "reggae.00039.wav",
          "reggae.00089.wav",
          "reggae.00062.wav",
          "reggae.00076.wav",
          "reggae.00077.wav",
          "reggae.00063.wav",
          "reggae.00088.wav",
          "reggae.00075.wav",
          "reggae.00061.wav",
          "reggae.00049.wav",
          "reggae.00048.wav",
          "reggae.00060.wav",
          "reggae.00074.wav",
          "reggae.00058.wav",
          "reggae.00070.wav",
          "reggae.00064.wav",
          "reggae.00065.wav",
          "reggae.00071.wav",
          "reggae.00059.wav",
          "reggae.00098.wav",
          "reggae.00067.wav",
          "reggae.00073.wav",
          "reggae.00072.wav",
          "reggae.00066.wav",
          "reggae.00099.wav"
         ],
         "type": "scatter",
         "x": {
          "bdata": "uqSF4rrb6z8hofCk87fnP68kmSkRReU/eYGjivna6j/0Ouu53ivqPzyYtS7Iyeo/dqHqNzqE7T+xtOs7eUfsPxmo1Lo50Og/6B0H1nXi5D+QOUKhPQ3sPyC/DLBzsec/3b1q2/sQ6T+4oNR+xN7rPwDGOxBHhuk/IEqbHVa27D+xtOs7eUfsP7YQCb6J0eY/MDxI6FJF6T8vz5KgXEPrPygR28Hxuuo/5kdoZ/oR7z+FP09ktzbvP8CftVh1zOw/fnNb31AT7D9l8lvOr9npPxPmTeybse0/74dbp04p6T+liZiMYyrnP2fcA7O4nOk/FNazS1Ru6z/Fknj+XSXvP0Lnr7POG+s/0TQFloX66T/Pui2Kh7zsP9NiB2Chv+g/Du9AIPSB6D9k1hgXhALnP3qhrKnAieg/TGXEMbPl5z9QF4Q7WwrpP01I+DYgC+o/nPex+gDW6T9DRCqv3grsP0h2ILxf9eo/78KFLQyf6j9GBFfRdVLoP+Tk9w+ENuk/cQsk/4ik6z9d2CFjE4HqP1denr+9S+k/P8v2Wvm05z/DJF8wYzLpPyy5BIg+euo/8u6eqAmO6D9HtE/a/J/pP3B2cHGWv+g/0lTDcdA06z9KQQXgs6PqP4fbkXD7Y+g/IvDtqAR/6T+ZX5VBI6PqP9/BP++NO+s/U4YD3tyb6T/kF8hD4R7qPzegz7PpOug/Op2aaZEm6D/66fGceNToP0jaP4wkJOY/XUVKSk886z9rUsreYy3pP2MSEsDsw+k/XFIaWvOb6T8ac5aofaDqP09ZszUoM+g/ab5EPkIz6j/P3prfcybkP8qwfjWIZOs/yUf/2NmX6z/zrT/jFZrpP6S8dUcGdOg/D89IiaQl7z9k2pz/ZS7qP9qqW36jHO0/AlAra9e+7D8joVqFUCjsP2Pd1+hyGOo/ZttZtD1F7D+pcIAfixXsP3W+IXEnFOs/jreOxRJT7j87hR8DW8noP+nNsQlu3Ow/mu0VHWHD6z9RUxGiU2rqP4WCFscfweg/4C7cU+VH7D+7d9ioi0/tP2xAH/e+2OY/7PNFt0p96T8=",
          "dtype": "f8"
         },
         "xaxis": "x",
         "y": {
          "bdata": "ypRzeAiFwT+2fCBxOwjMP2ynIdySB9E/Mz2rPD9Mwz/TsMKmFUPFP98wo7n528M/t3IVfy15tj/yE+Gu5tu/P3N/K+mKbss/JlKShlkv0D9nZkRWnWq+Px2NgXI4Xc0/7kU2ZmAkyT9V8UjV8xjBP441zuE/Ssk/+zzO+Asyuz/yE+Gu5tu/P8O7aU8kd9A/Vy5uHx6ryj/rdrWIlIXBPyHo+U3AL8g/Wi1OQAg9oz8xNesZ442fP2j1UIgKubo/xbxtO7Tfvz8AixVltinIP1Wl6DCChLM/lFkDz6dVxz9klFWiK4PQP/BoYpkpeMk/ZK/7/kmrwj8C0Wskei2fPwoCzb28VcI/AyKkPoyEyD/c5zE3MfG8P9EGv6cbtco/Hr+tJe//yT9A+deBOUHNPzfZTrCx+so/s3CxCi4zyj95IZLQuGTJP8+pKf5Hjcc/DssHBUrexz+jUiPZZTbBP/1RXR88BMU/OjTES0WbxT9lHLpPqmzLPyVy6eNGd8k/GGs8nZWqwT/pyAUn1C7FP1+EIoNl2Mc/bfMZKawJzD9DRuhN2OXIP6dR5MhVhMU/iXVUrm2fyj8ZzTb7GNzHP+Wg7ba7ssk/MCoMM8Gbwj8/JOSpQRPFP7Ozxh8mGss/LZ7nk4mQxz+Df9gIPmHFP6KEW5QWQMQ/+Dg6jJstyD8suVkcSDfGPwHZJC0jYcs/HLyTsx4jyj8KV0mXKDDJP7T5oADnhM4/3DhTl/YNwz9snIrrX77IP4fANW60lsc/u5XbBXVRyT/d5xVLTNDEP94XbZjYbss/oHPBWlOVxD885eo3aN3QPw3/9GvXrsE/sZ4OeyAJwj8rAB9pjIvIP2C1Q4SHKss/Ep5W1pEDoD/8ZC1lutrGPx4k524fWrg/ZcvxKlGcuj9QnE3rURXBP6Y7zdRYZ8c/P0onFpydvj/SRGWyWD2+P4+u5jDapMM/KVTbAEtirT/dnzy4FGPJP4YEyEP7vro/TtLpATvXwD/3srw5Pd3FPwc6vsgUpcg/boMALkGMvj/rd7k5egG2P/LPZMdKWM4/t1iRebVKyz8=",
          "dtype": "f8"
         },
         "yaxis": "y"
        },
        {
         "hovertemplate": "Entropy: %{x}<br>Complexity: %{y}<br>File: %{text}<extra></extra>",
         "marker": {
          "color": {
           "bdata": "ViYoyBS6yD/oZv8fWSvSP57S2VFQttU/rxfqz7SXyj+S+DNrbJ3MP50bl15p2cs/SpentH8dwT97IKYNsb7GP3BCjx6Gi9I/mJjmePtU0z8chb9z55DFP+pVFRiyvtI/MSUt/alV0D9dRvfInVPIP/wmGIbFJdE/DAM4VctEwz97IKYNsb7GPxqKUg+LjtU/cwITu5sx0j9b0rAkIkjMPwNSERGI49A/7B998RUXrD9FfpOdu7aoP5sfI8hV+cM/5UnIg8M1xj8ZZlt9n1nQPx3bPMDl87w/MobSq1ZGzz9tAanaoh3WP5vxTHDgVNE/H4fDrl8Tyj+xGFTbQ6ytP+f3pTCEI8k/TaEdtygA0T9mJjIefo7EP+g4qQtAxtE/rJfVXYTK0D9h0MR8skHSPwt+sMJL0NE/liYazVlU0D8JT6S5LtXQP0Q7f+FMUtA/h7YRYyhh0D+lEtEaajXJP0kI+t+dA84/8AGDYw6Kzj+E0iaPuunRP11iEQ2pAdE/+4wD8VYqyT83Q+DFrEfOP+13Ut9uN88/0AMxGA3H0T9UkHC+k4zQPxdoTKmmqM0/78/rVtFn0T9+HEr3DNzPP3Mw9rn939A/RRZVt11uyj9LueYcJ/jNP+p5A1i5qtE//l4EdAQnzz+lHW43EzHOP2S99/c7d80/q2BM2il00D8GWzNJLB3OP6bmqJo0u9E/bKyIfs9R0D8CSc+yR5fQP5CNZ1ggjNI/Q0KbJ9XKyj+ge+DNYXzQP5X4wRJpDNA/Or9CLtRR0T83FGkDlCPNPxulKnc+0dE/B68QPUwizT/5I74HEu/TP+1VSJtYsMg/hAWGuq6+yD859aB0oeHQP42bCK9XO9I/04QwD5YWrz/l/eu8CjnPP5DcjAO6W8I/Eavj5pAAxD8ynFfomdvIP9FgHsJAA9A/gsoaWZ+vxT8itfXLbiHFP11/+LQ/Pcs/mk93HB07uD/wHaajN6vQP/NIK0bmIcM/iQvgWv/bxz+9MhlAFVjOPwKFb3vupNA/53PBSkKkxT9KtJdRrbjAP0uU+SEXTdM/na1HWIT80j8=",
           "dtype": "f8"
          },
          "colorscale": [
           [
            0,
            "#0508b8"
           ],
           [
            0.08333333333333333,
            "#1910d8"
           ],
           [
            0.16666666666666666,
            "#3c19f0"
           ],
           [
            0.25,
            "#6b1cfb"
           ],
           [
            0.3333333333333333,
            "#981cfd"
           ],
           [
            0.4166666666666667,
            "#bf1cfd"
           ],
           [
            0.5,
            "#dd2bfd"
           ],
           [
            0.5833333333333334,
            "#f246fe"
           ],
           [
            0.6666666666666666,
            "#fc67fd"
           ],
           [
            0.75,
            "#fe88fc"
           ],
           [
            0.8333333333333334,
            "#fea5fd"
           ],
           [
            0.9166666666666666,
            "#febefe"
           ],
           [
            1,
            "#fec3fe"
           ]
          ],
          "size": 10
         },
         "mode": "markers",
         "name": "Dim = 5, Hop = 4",
         "showlegend": true,
         "text": [
          "reggae.00080.wav",
          "reggae.00094.wav",
          "reggae.00043.wav",
          "reggae.00057.wav",
          "reggae.00056.wav",
          "reggae.00042.wav",
          "reggae.00095.wav",
          "reggae.00081.wav",
          "reggae.00097.wav",
          "reggae.00083.wav",
          "reggae.00054.wav",
          "reggae.00040.wav",
          "reggae.00068.wav",
          "reggae.00069.wav",
          "reggae.00041.wav",
          "reggae.00055.wav",
          "reggae.00082.wav",
          "reggae.00096.wav",
          "reggae.00092.wav",
          "reggae.00086.wav",
          "reggae.00079.wav",
          "reggae.00051.wav",
          "reggae.00045.wav",
          "reggae.00044.wav",
          "reggae.00050.wav",
          "reggae.00078.wav",
          "reggae.00087.wav",
          "reggae.00093.wav",
          "reggae.00085.wav",
          "reggae.00091.wav",
          "reggae.00046.wav",
          "reggae.00052.wav",
          "reggae.00053.wav",
          "reggae.00047.wav",
          "reggae.00090.wav",
          "reggae.00084.wav",
          "reggae.00020.wav",
          "reggae.00034.wav",
          "reggae.00008.wav",
          "reggae.00009.wav",
          "reggae.00035.wav",
          "reggae.00021.wav",
          "reggae.00037.wav",
          "reggae.00023.wav",
          "reggae.00022.wav",
          "reggae.00036.wav",
          "reggae.00032.wav",
          "reggae.00026.wav",
          "reggae.00027.wav",
          "reggae.00033.wav",
          "reggae.00019.wav",
          "reggae.00025.wav",
          "reggae.00031.wav",
          "reggae.00030.wav",
          "reggae.00024.wav",
          "reggae.00018.wav",
          "reggae.00001.wav",
          "reggae.00015.wav",
          "reggae.00029.wav",
          "reggae.00028.wav",
          "reggae.00014.wav",
          "reggae.00000.wav",
          "reggae.00016.wav",
          "reggae.00002.wav",
          "reggae.00003.wav",
          "reggae.00017.wav",
          "reggae.00013.wav",
          "reggae.00007.wav",
          "reggae.00006.wav",
          "reggae.00012.wav",
          "reggae.00038.wav",
          "reggae.00004.wav",
          "reggae.00010.wav",
          "reggae.00011.wav",
          "reggae.00005.wav",
          "reggae.00039.wav",
          "reggae.00089.wav",
          "reggae.00062.wav",
          "reggae.00076.wav",
          "reggae.00077.wav",
          "reggae.00063.wav",
          "reggae.00088.wav",
          "reggae.00075.wav",
          "reggae.00061.wav",
          "reggae.00049.wav",
          "reggae.00048.wav",
          "reggae.00060.wav",
          "reggae.00074.wav",
          "reggae.00058.wav",
          "reggae.00070.wav",
          "reggae.00064.wav",
          "reggae.00065.wav",
          "reggae.00071.wav",
          "reggae.00059.wav",
          "reggae.00098.wav",
          "reggae.00067.wav",
          "reggae.00073.wav",
          "reggae.00072.wav",
          "reggae.00066.wav",
          "reggae.00099.wav"
         ],
         "type": "scatter",
         "x": {
          "bdata": "bD7842sh6z9sGlI1MHHmP5XgkQ4nrOM/RpLDv/y46T+YqWTfSProP8vX2sx0sek/gMdbZefw7D+ne5sVt5TrPy8zRrp6p+c/O059ktBK4z9cj45pegjrP3iAiDEffeY/WY6aM93y5z9vRhb+EfnqP5CHTGDwdOg/saUXCP7k6z+ne5sVt5TrP7RCsMXwbuU/9rP2nCEu6D9ilLEPY5HpPyZcDgJI6uk/hS7aDw337j/Z3zupHwzvP+x7u8w79us/nUQa8gxK6z/X63CnJN3oP98s3RyQAO0/7ISJc1W65z9HNJcNEKXlPwa8axQSp+g/h+hT88CE6j80fpCKSqPuP1d+O9JS/uk/98IQxWH/6D+nnMIREh7sPzG5OsXjluc/fBI0xtoR5z+8KSsuJ5flP6k1x5+vTOc/BbgwAhM75j/l+hI9scjnP5FynvzlBOk/Vc0Ai/On6D+vC7cFKEDrP/aGcG/6A+o/C9QeqsR/6T+q4aOxPhfnP/XdCamSFOg//vCWAt6U6j+xYnISZwfpPw8FYRoQ7uc/L4xaN2hZ5j/eVO43MvHnPyMYWXuwQuk/5W3OnmlO5z8PdhQx6GfoPy/iPo+AX+c/khVg7Cnh6T/bwUgQ9FnpP0AoiLTXJec/TPDP1gUu6D+7QfFHe37pPwwYvYWnROo/RSEndoxe6D/u98DOGv7oPyMh8KY9Bec/FCViOn2y5j8HXT4r3m3nP3xh+XcXl+Q/tVtheKAq6j+WHYg5Ht/nP7pDrCjUk+g/DvQLcyiL6D/UqUsrTmnpPwGNIigI7OY/4Vb9Z/7z5z/P1GjwtIbiP2XZDYCTZ+o/vDI4s8++6j9ZzEmCMHzoP+k8pPG+Kec/JcbH7PWk7j8Xk4do8DXpP2LxqXQFWuw/40PFo3XS6z9mym8oSHDrP2cpeA5cH+k/ALdMwS1n6z9rfdPyUQvrP12MDEDwKeo/zf2BZnCt7T8SgQQXd4vnP/bkNf3EIOw/TzOTgHXS6j9Yu/E+S2DpP0AtzAe5WOc/WMlx1D1q6z8KG3jR9W7sP9HOsN1/eOU/vZFIk01o6D8=",
          "dtype": "f8"
         },
         "xaxis": "x2",
         "y": {
          "bdata": "ViYoyBS6yD/oZv8fWSvSP57S2VFQttU/rxfqz7SXyj+S+DNrbJ3MP50bl15p2cs/SpentH8dwT97IKYNsb7GP3BCjx6Gi9I/mJjmePtU0z8chb9z55DFP+pVFRiyvtI/MSUt/alV0D9dRvfInVPIP/wmGIbFJdE/DAM4VctEwz97IKYNsb7GPxqKUg+LjtU/cwITu5sx0j9b0rAkIkjMPwNSERGI49A/7B998RUXrD9FfpOdu7aoP5sfI8hV+cM/5UnIg8M1xj8ZZlt9n1nQPx3bPMDl87w/MobSq1ZGzz9tAanaoh3WP5vxTHDgVNE/H4fDrl8Tyj+xGFTbQ6ytP+f3pTCEI8k/TaEdtygA0T9mJjIefo7EP+g4qQtAxtE/rJfVXYTK0D9h0MR8skHSPwt+sMJL0NE/liYazVlU0D8JT6S5LtXQP0Q7f+FMUtA/h7YRYyhh0D+lEtEaajXJP0kI+t+dA84/8AGDYw6Kzj+E0iaPuunRP11iEQ2pAdE/+4wD8VYqyT83Q+DFrEfOP+13Ut9uN88/0AMxGA3H0T9UkHC+k4zQPxdoTKmmqM0/78/rVtFn0T9+HEr3DNzPP3Mw9rn939A/RRZVt11uyj9LueYcJ/jNP+p5A1i5qtE//l4EdAQnzz+lHW43EzHOP2S99/c7d80/q2BM2il00D8GWzNJLB3OP6bmqJo0u9E/bKyIfs9R0D8CSc+yR5fQP5CNZ1ggjNI/Q0KbJ9XKyj+ge+DNYXzQP5X4wRJpDNA/Or9CLtRR0T83FGkDlCPNPxulKnc+0dE/B68QPUwizT/5I74HEu/TP+1VSJtYsMg/hAWGuq6+yD859aB0oeHQP42bCK9XO9I/04QwD5YWrz/l/eu8CjnPP5DcjAO6W8I/Eavj5pAAxD8ynFfomdvIP9FgHsJAA9A/gsoaWZ+vxT8itfXLbiHFP11/+LQ/Pcs/mk93HB07uD/wHaajN6vQP/NIK0bmIcM/iQvgWv/bxz+9MhlAFVjOPwKFb3vupNA/53PBSkKkxT9KtJdRrbjAP0uU+SEXTdM/na1HWIT80j8=",
          "dtype": "f8"
         },
         "yaxis": "y2"
        },
        {
         "hovertemplate": "Entropy: %{x}<br>Complexity: %{y}<br>File: %{text}<extra></extra>",
         "marker": {
          "color": {
           "bdata": "ASqt6V78zz9JCHwJpwvWP4tdZlZibtk/265kHAXc0D/YZyytWM3RPxndtfhX6dE/NEOlbW/Nxz/laZvOs9nNP+bDEwNPC9c/fMw94+UP1j/3Rt9GNGrMP8dEB/3AkdY/+uICqyjn0z/O/IjrhgrQP4ivOv9VbdU/jr8lDlE4yT/laZvOs9nNP2CJ2M0z5tk/u+xvIajC1j91vvRkrJHRPymeaAnictU/o1ZooJfysz+n/47ZKPKxP+B9oNSf6Mo/CkNvZrV5zD+J+ijSkknUPwSFrNbbR8M/eh+eXnmY0z+cpJygD7HaPzKnwQ+y2dU/btmYwbrj0D8x1zK/fTi3P6oTcDg2D9A/N6S8wotk1T+X6nDu0ZPLPwbxKlDw8dU/TmHCE+2D1D+vfY8TX6zVP3Du06sl59U/pp/Gnena0z/uJFlWIOLUP+fuPb/d/9Q/MebvU2+S1D8Lzu6FOlnRP88sf7ZJvdM/sevBXxGx0z/b4HSk4/fVP9zyTJA6ItU/i1gLpLFw0D94gHA2xl/TP8fF+kQ7OtM/9fnCZZpU1T+ym9eI3XjUPxY5cUWlt9I/e7msheZm1T/vdBZjItjTP+Qz+VjZw9Q/CW14FD5d0T+IXEIkalPTP8ZHxQGqdNU/X7s4hL2C0z9tX9xKl7TTPxCK5zgge9M/4y5ubiTK1D/ZQ6AHdmLTP9kAvb79uNU/F0DPuzaV0z90U9PHRqnUP+m63qlFl9U/j5L0m1OW0T+iGhT8zITUP4RHiyWjVdQ/btgN3LzT1T/LZPmJ/gHTP3pQIaK5w9U/HumxmTcL0j97mrlO0aPWP1SjFYs5ws8/ckDz3XY7zz+x5GDxQCvVP03elLjQMdY/vPnEXt3vuD+bhuLmGLrTPyW6fePcmMg/4Eim5VX4yj+pQN3+2qzQP9fkdrq7N9Q/DvkzOpk5zD8ACOoep13LP1trydLHgdE/KrywyLvGwT/eeGjPFEjUPyb87FAWN8k/u66fqMtFzz+ndrY2mnvTP5naL2rYw9Q/nqnKk6grzD+F1mWKJSXHPzhE7V0jD9c/DGjLVfMm2D8=",
           "dtype": "f8"
          },
          "colorscale": [
           [
            0,
            "#0508b8"
           ],
           [
            0.08333333333333333,
            "#1910d8"
           ],
           [
            0.16666666666666666,
            "#3c19f0"
           ],
           [
            0.25,
            "#6b1cfb"
           ],
           [
            0.3333333333333333,
            "#981cfd"
           ],
           [
            0.4166666666666667,
            "#bf1cfd"
           ],
           [
            0.5,
            "#dd2bfd"
           ],
           [
            0.5833333333333334,
            "#f246fe"
           ],
           [
            0.6666666666666666,
            "#fc67fd"
           ],
           [
            0.75,
            "#fe88fc"
           ],
           [
            0.8333333333333334,
            "#fea5fd"
           ],
           [
            0.9166666666666666,
            "#febefe"
           ],
           [
            1,
            "#fec3fe"
           ]
          ],
          "size": 10
         },
         "mode": "markers",
         "name": "Dim = 6, Hop = 5",
         "showlegend": true,
         "text": [
          "reggae.00080.wav",
          "reggae.00094.wav",
          "reggae.00043.wav",
          "reggae.00057.wav",
          "reggae.00056.wav",
          "reggae.00042.wav",
          "reggae.00095.wav",
          "reggae.00081.wav",
          "reggae.00097.wav",
          "reggae.00083.wav",
          "reggae.00054.wav",
          "reggae.00040.wav",
          "reggae.00068.wav",
          "reggae.00069.wav",
          "reggae.00041.wav",
          "reggae.00055.wav",
          "reggae.00082.wav",
          "reggae.00096.wav",
          "reggae.00092.wav",
          "reggae.00086.wav",
          "reggae.00079.wav",
          "reggae.00051.wav",
          "reggae.00045.wav",
          "reggae.00044.wav",
          "reggae.00050.wav",
          "reggae.00078.wav",
          "reggae.00087.wav",
          "reggae.00093.wav",
          "reggae.00085.wav",
          "reggae.00091.wav",
          "reggae.00046.wav",
          "reggae.00052.wav",
          "reggae.00053.wav",
          "reggae.00047.wav",
          "reggae.00090.wav",
          "reggae.00084.wav",
          "reggae.00020.wav",
          "reggae.00034.wav",
          "reggae.00008.wav",
          "reggae.00009.wav",
          "reggae.00035.wav",
          "reggae.00021.wav",
          "reggae.00037.wav",
          "reggae.00023.wav",
          "reggae.00022.wav",
          "reggae.00036.wav",
          "reggae.00032.wav",
          "reggae.00026.wav",
          "reggae.00027.wav",
          "reggae.00033.wav",
          "reggae.00019.wav",
          "reggae.00025.wav",
          "reggae.00031.wav",
          "reggae.00030.wav",
          "reggae.00024.wav",
          "reggae.00018.wav",
          "reggae.00001.wav",
          "reggae.00015.wav",
          "reggae.00029.wav",
          "reggae.00028.wav",
          "reggae.00014.wav",
          "reggae.00000.wav",
          "reggae.00016.wav",
          "reggae.00002.wav",
          "reggae.00003.wav",
          "reggae.00017.wav",
          "reggae.00013.wav",
          "reggae.00007.wav",
          "reggae.00006.wav",
          "reggae.00012.wav",
          "reggae.00038.wav",
          "reggae.00004.wav",
          "reggae.00010.wav",
          "reggae.00011.wav",
          "reggae.00005.wav",
          "reggae.00039.wav",
          "reggae.00089.wav",
          "reggae.00062.wav",
          "reggae.00076.wav",
          "reggae.00077.wav",
          "reggae.00063.wav",
          "reggae.00088.wav",
          "reggae.00075.wav",
          "reggae.00061.wav",
          "reggae.00049.wav",
          "reggae.00048.wav",
          "reggae.00060.wav",
          "reggae.00074.wav",
          "reggae.00058.wav",
          "reggae.00070.wav",
          "reggae.00064.wav",
          "reggae.00065.wav",
          "reggae.00071.wav",
          "reggae.00059.wav",
          "reggae.00098.wav",
          "reggae.00067.wav",
          "reggae.00073.wav",
          "reggae.00072.wav",
          "reggae.00066.wav",
          "reggae.00099.wav"
         ],
         "type": "scatter",
         "x": {
          "bdata": "D81/I5qe6j+oUuluPYjlP6g2TZ8uteI/ma9rEsDj6D9yfbGo4yjoPzQaiHt+7+g/5GanekN27D8bx4atsg3rPzU+eD4x7uY/R78yZjpL4j/3oY2+SjTqPykwrDZasOU/prziGpAt5z+79EIRtzXqPwUYgB5jw+c/tKp91A8v6z8bx4atsg3rP+3DlvEqnuQ/VRhBqUmF5z9oK2DxZo3oP9eoEsWtkOk/kfuKOR/W7j/dzv5c8ufuP8EJG00jUus/oHm7tsO36j/u5rIFIy/oP5vRxr7nbOw/R0TuU4+75j9WlnlnH9HkPzB0c0Rv+uc/tBQLVSfC6T9tDWMf3SvuP3UqZ+fPJOk/hPWsAnp46D/d5iNxL4frP+wzsIadw+Y/PTECnZ0L5j+mr/U1xp7kP+Pe228dceY/AqGfBlH65D//dRlyz+bmP5H/BsjxROg/eVdjdJHg5z8VdGCVOo3qP9WoTRWrUek/v41F8his6D8F+SqsCTTmP/yA1cqDRec/3B85cC696T/iRicfQ+znP0N3VyK2+uY/r/FIjJ9z5T/WzrKEhh3nP1gDo6YUXeg/A2HqYbVv5j9YRox/lIvnP6/gQ6DJb+Y/ISzLmfDi6D+ZsyvwzWfoPxGFIsGJTOY/Azuoqzoo5z8EbJfEpZ/oP3uMp9tLmuk/tj7rf5Ry5z9puL4+SwDoP63riLx/KeY/zNQZJlee5T9iD8IFWljmPw4t7XSymeM/SMp5eg9K6T8PdiNSmuLmP+vtE7yZsOc/ATeeNTjL5z+0doU/innoP7cp5gdxAeY/94zV59FZ5j9LV598+HvhP7NBVVr/pOk/JZRpdGsf6j8nd+YDXMfnP2TpJvKJWOY/nnzabJkq7j9NpqrWf4HoP3AvF6Kd0+s/2AP3AG8c6z/UShpACd3qP1DFmGQwa+g/fP6omN2t6j/SZmydvD7qPwkjLzYleuk/JcE5qg0e7T+eCpMPeMLmP59ttyNAiOs/t3L0z2UW6j/Akz+4GZ/oPxwgSF1EbuY/zuup6eGy6j/TxmHxPL3rP+QqTcCDnOQ/AAnXswLC5z8=",
          "dtype": "f8"
         },
         "xaxis": "x3",
         "y": {
          "bdata": "ASqt6V78zz9JCHwJpwvWP4tdZlZibtk/265kHAXc0D/YZyytWM3RPxndtfhX6dE/NEOlbW/Nxz/laZvOs9nNP+bDEwNPC9c/fMw94+UP1j/3Rt9GNGrMP8dEB/3AkdY/+uICqyjn0z/O/IjrhgrQP4ivOv9VbdU/jr8lDlE4yT/laZvOs9nNP2CJ2M0z5tk/u+xvIajC1j91vvRkrJHRPymeaAnictU/o1ZooJfysz+n/47ZKPKxP+B9oNSf6Mo/CkNvZrV5zD+J+ijSkknUPwSFrNbbR8M/eh+eXnmY0z+cpJygD7HaPzKnwQ+y2dU/btmYwbrj0D8x1zK/fTi3P6oTcDg2D9A/N6S8wotk1T+X6nDu0ZPLPwbxKlDw8dU/TmHCE+2D1D+vfY8TX6zVP3Du06sl59U/pp/Gnena0z/uJFlWIOLUP+fuPb/d/9Q/MebvU2+S1D8Lzu6FOlnRP88sf7ZJvdM/sevBXxGx0z/b4HSk4/fVP9zyTJA6ItU/i1gLpLFw0D94gHA2xl/TP8fF+kQ7OtM/9fnCZZpU1T+ym9eI3XjUPxY5cUWlt9I/e7msheZm1T/vdBZjItjTP+Qz+VjZw9Q/CW14FD5d0T+IXEIkalPTP8ZHxQGqdNU/X7s4hL2C0z9tX9xKl7TTPxCK5zgge9M/4y5ubiTK1D/ZQ6AHdmLTP9kAvb79uNU/F0DPuzaV0z90U9PHRqnUP+m63qlFl9U/j5L0m1OW0T+iGhT8zITUP4RHiyWjVdQ/btgN3LzT1T/LZPmJ/gHTP3pQIaK5w9U/HumxmTcL0j97mrlO0aPWP1SjFYs5ws8/ckDz3XY7zz+x5GDxQCvVP03elLjQMdY/vPnEXt3vuD+bhuLmGLrTPyW6fePcmMg/4Eim5VX4yj+pQN3+2qzQP9fkdrq7N9Q/DvkzOpk5zD8ACOoep13LP1trydLHgdE/KrywyLvGwT/eeGjPFEjUPyb87FAWN8k/u66fqMtFzz+ndrY2mnvTP5naL2rYw9Q/nqnKk6grzD+F1mWKJSXHPzhE7V0jD9c/DGjLVfMm2D8=",
          "dtype": "f8"
         },
         "yaxis": "y3"
        },
        {
         "hovertemplate": "Entropy: %{x}<br>Complexity: %{y}<br>File: %{text}<extra></extra>",
         "marker": {
          "color": {
           "bdata": "2d1yLqby0z8jyPdNuIvZP3AqILI4Sdw/yWU9CkaM1D/iLwt7E4LVP/A+W6YI59U/+akjdrPJzz/q/7bqmsDSP4vD3BVlUds/9XWisv2f2D+Z9lF7gM3RP1GxUNrWGdo/qz3dsNRv1z8JgsMjikjUP6UJgoiWsdk/fdkMlsDJzz/q/7bqmsDSPydyUBcQfN0/MBIbMfAf2z+8fhMkR8HdP1gR+irFI9o/Eq6uhEezvT+pOyE7SG26P6+LFLzjRdE/tVz8m1J50T+qNkJc/xbYP5sbRM1FKsk/ACQH4Bls1z+cJmLajoneP//Wl4xlIto/KPfTGGLM1D+ZxDPfjzrBP7mpm/8xqtM/UwyLYXnC2T9jVB/VvLnRP6PXKbvU9dk/Us6c9N0S2D8QeMKvEe7YP6F0Jkofwdk/c49NrIsv1z8mFUKqP7XYPxcjQeSplNk/W+sL02zF2D/2jV3ZKvzVP8mb1ZWHTNg/zYTkc0MK2D8P6COhObDZP4YFolJ6O9k/DaO1MjyY1D+T9zt173HXP06YpTap5NY/exsLQCay2D/n42JLjFHYPweH5qnlmdY/+J6vK2Eu2T/RmKgF0rjXP0U9xKJ3edg/vqThmDXI1T+QvvlG8rTXP1L32gT1H9k/odQhh4dX1z+w4PwSikLYP3QVkCBDTNg/7jTBaEPf2D93XSh6gYfXP8A53X+qY9k/8iYRUl7Z1j9Oi3oXA5TYP5jS/gY7Wdg/VD/BskwD1j+HibO6i2vYP38FjL5Wd9g/YARhVWIu2j/qDY+FK2zXPzpP42eJfdk/L/AGojd+1T98sBVAPvTYP9UDup3fkNM/oBhaeIca0z93h9N45W7ZP8i9JuxO8Nk/AfBhE8Wwwj9ZoMXQBcHXP3lENRKXdM8/QW3x3SNA0T9+iol2nTPVP3yxWQAzZdg/SvudCt650T/iKviq3CbRP2/eUDbThtU/2XZWZFySyD9f2c+tdafXP5ANmc3p4s8/eepGgoOi0z9Jr+cmA7DXP/mXHebAodg/UTcopxmy0T+NQWw++lLOP3DwuXSbbNo/Gtll5Qrn3D8=",
           "dtype": "f8"
          },
          "colorscale": [
           [
            0,
            "#0508b8"
           ],
           [
            0.08333333333333333,
            "#1910d8"
           ],
           [
            0.16666666666666666,
            "#3c19f0"
           ],
           [
            0.25,
            "#6b1cfb"
           ],
           [
            0.3333333333333333,
            "#981cfd"
           ],
           [
            0.4166666666666667,
            "#bf1cfd"
           ],
           [
            0.5,
            "#dd2bfd"
           ],
           [
            0.5833333333333334,
            "#f246fe"
           ],
           [
            0.6666666666666666,
            "#fc67fd"
           ],
           [
            0.75,
            "#fe88fc"
           ],
           [
            0.8333333333333334,
            "#fea5fd"
           ],
           [
            0.9166666666666666,
            "#febefe"
           ],
           [
            1,
            "#fec3fe"
           ]
          ],
          "size": 10
         },
         "mode": "markers",
         "name": "Dim = 7, Hop = 6",
         "showlegend": true,
         "text": [
          "reggae.00080.wav",
          "reggae.00094.wav",
          "reggae.00043.wav",
          "reggae.00057.wav",
          "reggae.00056.wav",
          "reggae.00042.wav",
          "reggae.00095.wav",
          "reggae.00081.wav",
          "reggae.00097.wav",
          "reggae.00083.wav",
          "reggae.00054.wav",
          "reggae.00040.wav",
          "reggae.00068.wav",
          "reggae.00069.wav",
          "reggae.00041.wav",
          "reggae.00055.wav",
          "reggae.00082.wav",
          "reggae.00096.wav",
          "reggae.00092.wav",
          "reggae.00086.wav",
          "reggae.00079.wav",
          "reggae.00051.wav",
          "reggae.00045.wav",
          "reggae.00044.wav",
          "reggae.00050.wav",
          "reggae.00078.wav",
          "reggae.00087.wav",
          "reggae.00093.wav",
          "reggae.00085.wav",
          "reggae.00091.wav",
          "reggae.00046.wav",
          "reggae.00052.wav",
          "reggae.00053.wav",
          "reggae.00047.wav",
          "reggae.00090.wav",
          "reggae.00084.wav",
          "reggae.00020.wav",
          "reggae.00034.wav",
          "reggae.00008.wav",
          "reggae.00009.wav",
          "reggae.00035.wav",
          "reggae.00021.wav",
          "reggae.00037.wav",
          "reggae.00023.wav",
          "reggae.00022.wav",
          "reggae.00036.wav",
          "reggae.00032.wav",
          "reggae.00026.wav",
          "reggae.00027.wav",
          "reggae.00033.wav",
          "reggae.00019.wav",
          "reggae.00025.wav",
          "reggae.00031.wav",
          "reggae.00030.wav",
          "reggae.00024.wav",
          "reggae.00018.wav",
          "reggae.00001.wav",
          "reggae.00015.wav",
          "reggae.00029.wav",
          "reggae.00028.wav",
          "reggae.00014.wav",
          "reggae.00000.wav",
          "reggae.00016.wav",
          "reggae.00002.wav",
          "reggae.00003.wav",
          "reggae.00017.wav",
          "reggae.00013.wav",
          "reggae.00007.wav",
          "reggae.00006.wav",
          "reggae.00012.wav",
          "reggae.00038.wav",
          "reggae.00004.wav",
          "reggae.00010.wav",
          "reggae.00011.wav",
          "reggae.00005.wav",
          "reggae.00039.wav",
          "reggae.00089.wav",
          "reggae.00062.wav",
          "reggae.00076.wav",
          "reggae.00077.wav",
          "reggae.00063.wav",
          "reggae.00088.wav",
          "reggae.00075.wav",
          "reggae.00061.wav",
          "reggae.00049.wav",
          "reggae.00048.wav",
          "reggae.00060.wav",
          "reggae.00074.wav",
          "reggae.00058.wav",
          "reggae.00070.wav",
          "reggae.00064.wav",
          "reggae.00065.wav",
          "reggae.00071.wav",
          "reggae.00059.wav",
          "reggae.00098.wav",
          "reggae.00067.wav",
          "reggae.00073.wav",
          "reggae.00072.wav",
          "reggae.00066.wav",
          "reggae.00099.wav"
         ],
         "type": "scatter",
         "x": {
          "bdata": "YCT7kU0g6j84A0SS3N/kPxgBfpwBEuI/cugBiqEy6D+n8mzhl3PnP7MBuL+STeg/HeegMd/z6z97k4Qc5JPqP2pAX+z/Q+Y/v//bNQ6F4T+clt52mn/pPyci0IBsCuU/Svm4MYF/5j+NQX7yHYHpP/fgRk6xFuc/LRiASNyB6j97k4Qc5JPqP9Vg/bJMC+Q/iRIuRzX55j+vC2COa0vlPxdd2CP1P+k/OXrLFFaL7j82qrFIz7HuP3esg/cYwOo/tiwsPH0w6j9QjyRwVqbnPypaOCL60+s/E16shnfx5T/PGZdc81TkP/E44q4hc+c/9OByq24R6T8pxJ+wPavtP4Z2Lo9dZeg/ltEkuaYG6D/1f7h4X/TqPya1mI0eF+Y/CzNgof465T+HdwEP2c/jP/BFB8lyvuU/EfGitVsI5D82sbok/zDmPyPS3SYuquc//PF7K3Yx5z8xwZ0/kQfqP2WEUGbxyug/0tpjWJz45z/ekWo0gonlP6St0RhIoOY/erxB1R356D9Q7yTKGgrnP5s7QQ0JGeY/T+8qd5Cv5D+RJa9jxmPmP4F80z+6oOc/gQ3kzk7F5T9D7X/H8cvmP8Zxm8ZurOU/qA35GyMI6D9kWhHAbJDnPwXLBxz7k+U/QWAFlalY5j+P2rXIWPDnP0VoWJ28BOk/uLtJwFS65j9DVT4WQEXnP7317skih+U/MJ652trB5D+8buCsb4zlP41CGDvqzuI/EJDXGYSQ6D+SwfWVxhXmP+XJrsyDBec/C/8Ot2os5z/1I2Ef5bPnP3JIgl3kUuU/HXGb+c0L5T9kXe6CXMLgP1XgZgtLAOk/0wevEMqK6T9dVVXMWznnPxWu2AzvweU/LERBJdGv7T9MZBwgwPPnP+JodFd7Ves/mlRyx1B66j9ZvzbuC1vqP9hVKon/1ec/sH5gSf0J6j9CBZrMbY3pP31JsQyV3+g/GsIaQHaY7D8/QmLgxxLmP95tNeyhBes/OAa5/JVy6T8CRO0P1fjnP+D1AwuGuuU/GKgy4pQN6j/qFrVKwB7rP62BZJUs+uM/IJ9o64I75z8=",
          "dtype": "f8"
         },
         "xaxis": "x4",
         "y": {
          "bdata": "2d1yLqby0z8jyPdNuIvZP3AqILI4Sdw/yWU9CkaM1D/iLwt7E4LVP/A+W6YI59U/+akjdrPJzz/q/7bqmsDSP4vD3BVlUds/9XWisv2f2D+Z9lF7gM3RP1GxUNrWGdo/qz3dsNRv1z8JgsMjikjUP6UJgoiWsdk/fdkMlsDJzz/q/7bqmsDSPydyUBcQfN0/MBIbMfAf2z+8fhMkR8HdP1gR+irFI9o/Eq6uhEezvT+pOyE7SG26P6+LFLzjRdE/tVz8m1J50T+qNkJc/xbYP5sbRM1FKsk/ACQH4Bls1z+cJmLajoneP//Wl4xlIto/KPfTGGLM1D+ZxDPfjzrBP7mpm/8xqtM/UwyLYXnC2T9jVB/VvLnRP6PXKbvU9dk/Us6c9N0S2D8QeMKvEe7YP6F0Jkofwdk/c49NrIsv1z8mFUKqP7XYPxcjQeSplNk/W+sL02zF2D/2jV3ZKvzVP8mb1ZWHTNg/zYTkc0MK2D8P6COhObDZP4YFolJ6O9k/DaO1MjyY1D+T9zt173HXP06YpTap5NY/exsLQCay2D/n42JLjFHYPweH5qnlmdY/+J6vK2Eu2T/RmKgF0rjXP0U9xKJ3edg/vqThmDXI1T+QvvlG8rTXP1L32gT1H9k/odQhh4dX1z+w4PwSikLYP3QVkCBDTNg/7jTBaEPf2D93XSh6gYfXP8A53X+qY9k/8iYRUl7Z1j9Oi3oXA5TYP5jS/gY7Wdg/VD/BskwD1j+HibO6i2vYP38FjL5Wd9g/YARhVWIu2j/qDY+FK2zXPzpP42eJfdk/L/AGojd+1T98sBVAPvTYP9UDup3fkNM/oBhaeIca0z93h9N45W7ZP8i9JuxO8Nk/AfBhE8Wwwj9ZoMXQBcHXP3lENRKXdM8/QW3x3SNA0T9+iol2nTPVP3yxWQAzZdg/SvudCt650T/iKviq3CbRP2/eUDbThtU/2XZWZFySyD9f2c+tdafXP5ANmc3p4s8/eepGgoOi0z9Jr+cmA7DXP/mXHebAodg/UTcopxmy0T+NQWw++lLOP3DwuXSbbNo/Gtll5Qrn3D8=",
          "dtype": "f8"
         },
         "yaxis": "y4"
        },
        {
         "hovertemplate": "Entropy: %{x}<br>Complexity: %{y}<br>File: %{text}<extra></extra>",
         "marker": {
          "color": {
           "bdata": "s200+g0k2z+Bzs3CGineP4iVwaNbsd4/D75DaP5P2z8KzIRAq+fbP9fcd0ORptw/M2tzQVIs2D+aMIpyvTXaPzjZgQaoB+A/hl9vzzhf2z/GhDZ9UTjZP9M6o94zHd4/3AliQqqP3D9aAbCSNm3bP9xapnKV0d4/eYGr7B1I1z+aMIpyvTXaP7tLKTbfReA/+ICRrIYA4D+7alFETMPgP2Z/avO3AuA/ple3BKDEzj/vJ2l8pmjMP6hXWMFnKtk/IC+H2su62D/0D+9OTgzePxJtPxw8btQ/fRw9v+Lv3D+bGS6Zv9LgP0ik3iWEdN8/5pDUJzFx2z++j3Uir+PQP1ubJPcFkNo/Ix8KcNhl3z+iAbNMBDzZP3xivOJqq94/jG41npeU3D9o2hb1DbvcPzBpVzRoTN4/pL/6Ewl42z/KxW/m65rdPy7oWDSfFt8/S8eAt7gr3j9NXx0NWp/cPzY6ZCRQX94/P2rGeLG03T87PpjY7UjeP0KRNyjeOt4/xe+s67QF2z/jE6FpaafcP0zGvsCY/9s/uEKMS8743D8tZSIyVnHdP6Q2zsesBNw/u/eUrLnS3T/GR8q+bs/cPyEE7ljXF90/7X/Dv7Xd2z9ccqWrAUbdP9XmixN5qt0/4+X4bKeV3D9+xnDtwQHeP6U0tkard94/A4WnX+bT3T/3SCd2zDDdP5T/GulR6d0/8f5yh6NV2z/4LbFe0lXdP20aO0Kuh9s/9dVfw+Zf3D9dI7v1aV/dP65C6HyL6N0/1cgbI+RJ3z81AwdTA0bdP73wczle7N0/AN8/npc72j9bcorQ4BDbP2AlRs73mto/95go4UHz2T+6/rBfzvreP/zBZ3qC4N4/UC+KGd2w0T/ZIqJ5OsvdP9Sz/DuRlNc/c9kmwvcK2T/m31K8c+rbP05RUqJ7UN4/AxwgwScU2T+Lwgw997XYPydhiiU+Gtw/3bY89h3A1D+8aOZ9/fzcP14DbWyphdc/wiccFK762j9BCa8jS7fdP4mQYVQ3090/98nGzr8H2T+CRWtg+jXXP5VwwNCvJN4/lsjvC7zL4D8=",
           "dtype": "f8"
          },
          "colorscale": [
           [
            0,
            "#0508b8"
           ],
           [
            0.08333333333333333,
            "#1910d8"
           ],
           [
            0.16666666666666666,
            "#3c19f0"
           ],
           [
            0.25,
            "#6b1cfb"
           ],
           [
            0.3333333333333333,
            "#981cfd"
           ],
           [
            0.4166666666666667,
            "#bf1cfd"
           ],
           [
            0.5,
            "#dd2bfd"
           ],
           [
            0.5833333333333334,
            "#f246fe"
           ],
           [
            0.6666666666666666,
            "#fc67fd"
           ],
           [
            0.75,
            "#fe88fc"
           ],
           [
            0.8333333333333334,
            "#fea5fd"
           ],
           [
            0.9166666666666666,
            "#febefe"
           ],
           [
            1,
            "#fec3fe"
           ]
          ],
          "size": 10
         },
         "mode": "markers",
         "name": "Dim = 8, Hop = 7",
         "showlegend": true,
         "text": [
          "reggae.00080.wav",
          "reggae.00094.wav",
          "reggae.00043.wav",
          "reggae.00057.wav",
          "reggae.00056.wav",
          "reggae.00042.wav",
          "reggae.00095.wav",
          "reggae.00081.wav",
          "reggae.00097.wav",
          "reggae.00083.wav",
          "reggae.00054.wav",
          "reggae.00040.wav",
          "reggae.00068.wav",
          "reggae.00069.wav",
          "reggae.00041.wav",
          "reggae.00055.wav",
          "reggae.00082.wav",
          "reggae.00096.wav",
          "reggae.00092.wav",
          "reggae.00086.wav",
          "reggae.00079.wav",
          "reggae.00051.wav",
          "reggae.00045.wav",
          "reggae.00044.wav",
          "reggae.00050.wav",
          "reggae.00078.wav",
          "reggae.00087.wav",
          "reggae.00093.wav",
          "reggae.00085.wav",
          "reggae.00091.wav",
          "reggae.00046.wav",
          "reggae.00052.wav",
          "reggae.00053.wav",
          "reggae.00047.wav",
          "reggae.00090.wav",
          "reggae.00084.wav",
          "reggae.00020.wav",
          "reggae.00034.wav",
          "reggae.00008.wav",
          "reggae.00009.wav",
          "reggae.00035.wav",
          "reggae.00021.wav",
          "reggae.00037.wav",
          "reggae.00023.wav",
          "reggae.00022.wav",
          "reggae.00036.wav",
          "reggae.00032.wav",
          "reggae.00026.wav",
          "reggae.00027.wav",
          "reggae.00033.wav",
          "reggae.00019.wav",
          "reggae.00025.wav",
          "reggae.00031.wav",
          "reggae.00030.wav",
          "reggae.00024.wav",
          "reggae.00018.wav",
          "reggae.00001.wav",
          "reggae.00015.wav",
          "reggae.00029.wav",
          "reggae.00028.wav",
          "reggae.00014.wav",
          "reggae.00000.wav",
          "reggae.00016.wav",
          "reggae.00002.wav",
          "reggae.00003.wav",
          "reggae.00017.wav",
          "reggae.00013.wav",
          "reggae.00007.wav",
          "reggae.00006.wav",
          "reggae.00012.wav",
          "reggae.00038.wav",
          "reggae.00004.wav",
          "reggae.00010.wav",
          "reggae.00011.wav",
          "reggae.00005.wav",
          "reggae.00039.wav",
          "reggae.00089.wav",
          "reggae.00062.wav",
          "reggae.00076.wav",
          "reggae.00077.wav",
          "reggae.00063.wav",
          "reggae.00088.wav",
          "reggae.00075.wav",
          "reggae.00061.wav",
          "reggae.00049.wav",
          "reggae.00048.wav",
          "reggae.00060.wav",
          "reggae.00074.wav",
          "reggae.00058.wav",
          "reggae.00070.wav",
          "reggae.00064.wav",
          "reggae.00065.wav",
          "reggae.00071.wav",
          "reggae.00059.wav",
          "reggae.00098.wav",
          "reggae.00067.wav",
          "reggae.00073.wav",
          "reggae.00072.wav",
          "reggae.00066.wav",
          "reggae.00099.wav"
         ],
         "type": "scatter",
         "x": {
          "bdata": "qkp5JGxI6T9/6C5eeCXkP0rO0IcqkOE/swJdtlEp5z/IY7O4aXzmP04nuabXb+c/qJikXgID6z+b49/ITLLpP+u0HoEAkeU/6PAs3qfG4D9MzFbsJG3oPz66iM5eWOQ/cYnvdeGs5T9cpTlfi3zoP1Wi0pXeTeY/YaK/tAJr6T+b49/ITLLpP7X+boXJhOM/jfh/9JlZ5j8VoW4u1p3jPz5T0r0Frug/t5SjC6Sn7T+yYkxvr+ztPxIC1SYgwek/gVXmUhhB6T8RiiQv9ODmP5JOZE2WvOo/yVZokmkM5T/DvsYjmODjP5ZJQTvJ0OY/z575oacP6D+pruAoMKHsPwCZOwrLU+c/VD/GEX5s5z+oCDE9jwDqP/5GzWgbV+U/gGCI6Opf5D8MgyC5nfjiPz0OytPe+uQ/BvmtxSYG4z+xxnedk1TlP7qSh46v9+Y/aqXWmYRm5j8DMG1DZlTpP1CzzQZxFeg/Umdwh+4i5z+1CwG/DsrkP1h81lAJ2uU/o2i5rj4E6D9xnCtOAQLmPxXxlo9+JuU/E+MXuoPk4z/5yirV7YblP5L3rE+vseY/5uupcYn85D/SsDJDd/HlP2jm8vOJ0uQ/xmfbrq0K5z8G4qYLw5bmP+l0TDGxxOQ/gMfoSW9x5T+eiCFi4yPnPyItqqiQS+g/KV2TenDf5T+kzo8cimrmP3uQ5klezuQ/127BJODJ4z9gPq+dO7LkP681Cvao/+E/JBmd2mOn5z+Nq7106jDlP3fFwRBiNeY/XgSW4ap/5j+qjHg0s9nmP981TdmZkOQ//ctGDJi84z95ArBPOB/gP1YzQIbTCOg/crGILSmQ6D8xnWJs+2zmP5DLFsaoBeU/70751uu07D+bCgqWgSznPwec9OQ2Z+o/vf3NcShi6T+nE9b5ypfpP/1BfgpyEOc/WdPQCdkE6T9S6c4XXGfoP9PzadErBOg/Dbhx/NuW6z+Fu+lAbDLlP3BvvhfbCOo/YnUQcMZ/6D+6JOf19hnnP7TrenJw4OQ/flsP+msH6T8rT/QkxxbqPyWF7V9xVOM/nYz/smS55j8=",
          "dtype": "f8"
         },
         "xaxis": "x5",
         "y": {
          "bdata": "s200+g0k2z+Bzs3CGineP4iVwaNbsd4/D75DaP5P2z8KzIRAq+fbP9fcd0ORptw/M2tzQVIs2D+aMIpyvTXaPzjZgQaoB+A/hl9vzzhf2z/GhDZ9UTjZP9M6o94zHd4/3AliQqqP3D9aAbCSNm3bP9xapnKV0d4/eYGr7B1I1z+aMIpyvTXaP7tLKTbfReA/+ICRrIYA4D+7alFETMPgP2Z/avO3AuA/ple3BKDEzj/vJ2l8pmjMP6hXWMFnKtk/IC+H2su62D/0D+9OTgzePxJtPxw8btQ/fRw9v+Lv3D+bGS6Zv9LgP0ik3iWEdN8/5pDUJzFx2z++j3Uir+PQP1ubJPcFkNo/Ix8KcNhl3z+iAbNMBDzZP3xivOJqq94/jG41npeU3D9o2hb1DbvcPzBpVzRoTN4/pL/6Ewl42z/KxW/m65rdPy7oWDSfFt8/S8eAt7gr3j9NXx0NWp/cPzY6ZCRQX94/P2rGeLG03T87PpjY7UjeP0KRNyjeOt4/xe+s67QF2z/jE6FpaafcP0zGvsCY/9s/uEKMS8743D8tZSIyVnHdP6Q2zsesBNw/u/eUrLnS3T/GR8q+bs/cPyEE7ljXF90/7X/Dv7Xd2z9ccqWrAUbdP9XmixN5qt0/4+X4bKeV3D9+xnDtwQHeP6U0tkard94/A4WnX+bT3T/3SCd2zDDdP5T/GulR6d0/8f5yh6NV2z/4LbFe0lXdP20aO0Kuh9s/9dVfw+Zf3D9dI7v1aV/dP65C6HyL6N0/1cgbI+RJ3z81AwdTA0bdP73wczle7N0/AN8/npc72j9bcorQ4BDbP2AlRs73mto/95go4UHz2T+6/rBfzvreP/zBZ3qC4N4/UC+KGd2w0T/ZIqJ5OsvdP9Sz/DuRlNc/c9kmwvcK2T/m31K8c+rbP05RUqJ7UN4/AxwgwScU2T+Lwgw997XYPydhiiU+Gtw/3bY89h3A1D+8aOZ9/fzcP14DbWyphdc/wiccFK762j9BCa8jS7fdP4mQYVQ3090/98nGzr8H2T+CRWtg+jXXP5VwwNCvJN4/lsjvC7zL4D8=",
          "dtype": "f8"
         },
         "yaxis": "y5"
        },
        {
         "hovertemplate": "Entropy: %{x}<br>Complexity: %{y}<br>File: %{text}<extra></extra>",
         "marker": {
          "color": {
           "bdata": "iJ5jYKza4j/GvYTs2kbhP0kI0vc3LuA/prTdK5v64T/VnIq5G77hP1KpzJqlg+I/azaJcV/14j9pLVbv69ziPyDW+SEPSuI/NN/PLp+K3T9NtD14sjziPxBA/DFaJOE/Vsoyitht4T/98Y645nviP+9Iyq7sK+I/pDAHqpkF4j9pLVbv69ziPwLTSAV/duE/4Ar/lu+a4j9Xl59M99zcPwJcMUjWj+M/H0bBjkf64T8xuHhYg/HhPzeTxzb+q+I/+vPEWvNt4j/vKwwiB4PiP3NpNhVpKeI/OIHhocJX4T8aHxDUaADiP0qvydy+tuI/xvy1iXI74j+ya4tcST3iPy9X8CNT3eE/vN1Aesr24j+QSGgPZrTiP7MPJgRbxOE/sdnl1TrL4D8ynMLfRSrgP/qu9rz6iuE/U5UR/PzQ3z+MhOyuE3/hPxrc7f9AruI/y+bedlUg4j+58DYaoBPjP7Ldo8vB9+I/LpDVyrxN4j8NU2KTG3rhP40NCGVX4OE/U/p0b74g4j9vkpNthn3hP/46xkpZAuE/l0Ysoku34D9AggUv6ZXhP/VGFHyfoOE/XMB1Ejtw4T98E/8WN4nhP1lj58ogJeE/1NTlKhrk4T8NgWH8ZvPhP1JXH4OcPOE/LgpsBpJX4T8R9bYPrnHiPx1AJMbNCuM/N25ZlUy/4T+jzzGYPQPiP5oRx12EaOE/dQviV5E64D/g3+17wS3hP6kqS9bVxN4/XGVGpKRb4j9ZCSp7nmPhP5/sTNVuEeI/15AU/MR34j9nYK+ATS/iPztfbe5ZQeE/sc/NKwRi3z8aFvHEzbPcP/IuDZlSP+I/AqgV/UsZ4j8AJ31UoWfiPyFNP/Ff3+E/q+dwFmRm4j9NLXKB34/iPynKP9w8v+I/yZq0w4pv4j/9Qh3X//jiPw6MW+BEmOI/ectUUVg+4j88fOUNPg7iP4eYfPNTfOI/xAiNRhmp4j9XrwCDlnPhP89R/OHcW+I/QdZnJ0aP4j/UpfmbtFriPx480wsOe+E/k1YJtzY+4j/ZGMPIOIviP/fqTpGux+A/yA0ZQzwa4z8=",
           "dtype": "f8"
          },
          "colorscale": [
           [
            0,
            "#0508b8"
           ],
           [
            0.08333333333333333,
            "#1910d8"
           ],
           [
            0.16666666666666666,
            "#3c19f0"
           ],
           [
            0.25,
            "#6b1cfb"
           ],
           [
            0.3333333333333333,
            "#981cfd"
           ],
           [
            0.4166666666666667,
            "#bf1cfd"
           ],
           [
            0.5,
            "#dd2bfd"
           ],
           [
            0.5833333333333334,
            "#f246fe"
           ],
           [
            0.6666666666666666,
            "#fc67fd"
           ],
           [
            0.75,
            "#fe88fc"
           ],
           [
            0.8333333333333334,
            "#fea5fd"
           ],
           [
            0.9166666666666666,
            "#febefe"
           ],
           [
            1,
            "#fec3fe"
           ]
          ],
          "size": 10
         },
         "mode": "markers",
         "name": "Dim = 9, Hop = 8",
         "showlegend": true,
         "text": [
          "reggae.00080.wav",
          "reggae.00094.wav",
          "reggae.00043.wav",
          "reggae.00057.wav",
          "reggae.00056.wav",
          "reggae.00042.wav",
          "reggae.00095.wav",
          "reggae.00081.wav",
          "reggae.00097.wav",
          "reggae.00083.wav",
          "reggae.00054.wav",
          "reggae.00040.wav",
          "reggae.00068.wav",
          "reggae.00069.wav",
          "reggae.00041.wav",
          "reggae.00055.wav",
          "reggae.00082.wav",
          "reggae.00096.wav",
          "reggae.00092.wav",
          "reggae.00086.wav",
          "reggae.00079.wav",
          "reggae.00051.wav",
          "reggae.00045.wav",
          "reggae.00044.wav",
          "reggae.00050.wav",
          "reggae.00078.wav",
          "reggae.00087.wav",
          "reggae.00093.wav",
          "reggae.00085.wav",
          "reggae.00091.wav",
          "reggae.00046.wav",
          "reggae.00052.wav",
          "reggae.00053.wav",
          "reggae.00047.wav",
          "reggae.00090.wav",
          "reggae.00084.wav",
          "reggae.00020.wav",
          "reggae.00034.wav",
          "reggae.00008.wav",
          "reggae.00009.wav",
          "reggae.00035.wav",
          "reggae.00021.wav",
          "reggae.00037.wav",
          "reggae.00023.wav",
          "reggae.00022.wav",
          "reggae.00036.wav",
          "reggae.00032.wav",
          "reggae.00026.wav",
          "reggae.00027.wav",
          "reggae.00033.wav",
          "reggae.00019.wav",
          "reggae.00025.wav",
          "reggae.00031.wav",
          "reggae.00030.wav",
          "reggae.00024.wav",
          "reggae.00018.wav",
          "reggae.00001.wav",
          "reggae.00015.wav",
          "reggae.00029.wav",
          "reggae.00028.wav",
          "reggae.00014.wav",
          "reggae.00000.wav",
          "reggae.00016.wav",
          "reggae.00002.wav",
          "reggae.00003.wav",
          "reggae.00017.wav",
          "reggae.00013.wav",
          "reggae.00007.wav",
          "reggae.00006.wav",
          "reggae.00012.wav",
          "reggae.00038.wav",
          "reggae.00004.wav",
          "reggae.00010.wav",
          "reggae.00011.wav",
          "reggae.00005.wav",
          "reggae.00039.wav",
          "reggae.00089.wav",
          "reggae.00062.wav",
          "reggae.00076.wav",
          "reggae.00077.wav",
          "reggae.00063.wav",
          "reggae.00088.wav",
          "reggae.00075.wav",
          "reggae.00061.wav",
          "reggae.00049.wav",
          "reggae.00048.wav",
          "reggae.00060.wav",
          "reggae.00074.wav",
          "reggae.00058.wav",
          "reggae.00070.wav",
          "reggae.00064.wav",
          "reggae.00065.wav",
          "reggae.00071.wav",
          "reggae.00059.wav",
          "reggae.00098.wav",
          "reggae.00067.wav",
          "reggae.00073.wav",
          "reggae.00072.wav",
          "reggae.00066.wav",
          "reggae.00099.wav"
         ],
         "type": "scatter",
         "x": {
          "bdata": "RaMSxXam5z8lxLbvoTnjP+8O6GzVF+E/Qi2SqMCf5T/7edyacgjlPwkLjMIQE+Y/8BAJJdQC6T9vGAFjWvXnP/nyqI2XqOQ/EyAkmCUC4D8Js3hWXJvmP7dZ2DdAYOM/xTmoqQNp5D+JinajNczmP4XcBxkeJ+U/36y9/9lW5z9vGAFjWvXnPxuhUIHc6uI/MXg+Grxs5T/LlGdQIcrdP5BzUxpZmec/luMGQTzw6j9mEEr7gDfrP0IKO2B94ec/31C/j+Bf5z+b1SrW2qTlP/a/B9XpU+g/0ANnT8rY4z8MadfCGV/jP6NEv9XBzuU/eNvYf2xv5j/tsCkBwfbpP/DW9HGRm+U/Nj6JmFVi5j9UdOPgSSToP02/9GUvRuQ/VjHWAWgz4z+O6YFSo/LhP26KcpDL++M/UBMCTE7e4T87TwBGXyfkP0Nl0ieX4OU/8Nt4/Zww5T/2HXO+beDnPxaouj003OY/3ARHjInE5T/tOPADNcjjP8nqhv+puuQ/ZIL5LVdT5j9tp0Dt9ZLkP3yzVpvtzOM/YQBMO1bS4j/Su6eCx17kP9GlkwzeN+U/rtRRhvLu4z8fB+yOkaHkP2nEKuRMqOM/hieNAqaA5T/GVNZXAi/lP9enBfhpquM/MGc3XYkh5D9NtbFxUOTlPwfIEEdMCOc/hxu1uKms5D+/fIINOiHlP4D0Q7D9zOM/aN1XBJiC4j/PDNIuG5HjP6yYka+1COE/AUrxDtwy5j8ffbzQGv/jPxt526ADEeU/vUq9AFZr5T9ZfOqdgojlPwR3QeMLjeM/Fcd/K7AX4j/GHzc05NHeP2Iu2E0fXuY/BW61gATK5j/O9/HXvFflP3CCgIUeEeQ/KJiaeGQo6j/HS1Eiu/XlP28SNF1baeg/srkZ6LR15z86i1r2TwzoPy6IH0z44OU/R77s9AAf5z+evYGpVH/mP3nV3hL5e+Y/lifX4A1O6T8Pf71u3AnkPxWGqm/K/uc/IvO6ihng5j/Gi0wsl8/lP4Jh00L13eM/1/GTw4oh5z8UqEMbHwDoPw9hIoDGg+I/399HjP/t5T8=",
          "dtype": "f8"
         },
         "xaxis": "x6",
         "y": {
          "bdata": "iJ5jYKza4j/GvYTs2kbhP0kI0vc3LuA/prTdK5v64T/VnIq5G77hP1KpzJqlg+I/azaJcV/14j9pLVbv69ziPyDW+SEPSuI/NN/PLp+K3T9NtD14sjziPxBA/DFaJOE/Vsoyitht4T/98Y645nviP+9Iyq7sK+I/pDAHqpkF4j9pLVbv69ziPwLTSAV/duE/4Ar/lu+a4j9Xl59M99zcPwJcMUjWj+M/H0bBjkf64T8xuHhYg/HhPzeTxzb+q+I/+vPEWvNt4j/vKwwiB4PiP3NpNhVpKeI/OIHhocJX4T8aHxDUaADiP0qvydy+tuI/xvy1iXI74j+ya4tcST3iPy9X8CNT3eE/vN1Aesr24j+QSGgPZrTiP7MPJgRbxOE/sdnl1TrL4D8ynMLfRSrgP/qu9rz6iuE/U5UR/PzQ3z+MhOyuE3/hPxrc7f9AruI/y+bedlUg4j+58DYaoBPjP7Ldo8vB9+I/LpDVyrxN4j8NU2KTG3rhP40NCGVX4OE/U/p0b74g4j9vkpNthn3hP/46xkpZAuE/l0Ysoku34D9AggUv6ZXhP/VGFHyfoOE/XMB1Ejtw4T98E/8WN4nhP1lj58ogJeE/1NTlKhrk4T8NgWH8ZvPhP1JXH4OcPOE/LgpsBpJX4T8R9bYPrnHiPx1AJMbNCuM/N25ZlUy/4T+jzzGYPQPiP5oRx12EaOE/dQviV5E64D/g3+17wS3hP6kqS9bVxN4/XGVGpKRb4j9ZCSp7nmPhP5/sTNVuEeI/15AU/MR34j9nYK+ATS/iPztfbe5ZQeE/sc/NKwRi3z8aFvHEzbPcP/IuDZlSP+I/AqgV/UsZ4j8AJ31UoWfiPyFNP/Ff3+E/q+dwFmRm4j9NLXKB34/iPynKP9w8v+I/yZq0w4pv4j/9Qh3X//jiPw6MW+BEmOI/ectUUVg+4j88fOUNPg7iP4eYfPNTfOI/xAiNRhmp4j9XrwCDlnPhP89R/OHcW+I/QdZnJ0aP4j/UpfmbtFriPx480wsOe+E/k1YJtzY+4j/ZGMPIOIviP/fqTpGux+A/yA0ZQzwa4z8=",
          "dtype": "f8"
         },
         "yaxis": "y6"
        }
       ],
       "layout": {
        "annotations": [
         {
          "font": {
           "size": 16
          },
          "showarrow": false,
          "text": "Dim = '4', Hop = '3'",
          "x": 0.225,
          "xanchor": "center",
          "xref": "paper",
          "y": 1,
          "yanchor": "bottom",
          "yref": "paper"
         },
         {
          "font": {
           "size": 16
          },
          "showarrow": false,
          "text": "Dim = '5', Hop = '4'",
          "x": 0.775,
          "xanchor": "center",
          "xref": "paper",
          "y": 1,
          "yanchor": "bottom",
          "yref": "paper"
         },
         {
          "font": {
           "size": 16
          },
          "showarrow": false,
          "text": "Dim = '6', Hop = '5'",
          "x": 0.225,
          "xanchor": "center",
          "xref": "paper",
          "y": 0.6111111111111112,
          "yanchor": "bottom",
          "yref": "paper"
         },
         {
          "font": {
           "size": 16
          },
          "showarrow": false,
          "text": "Dim = '7', Hop = '6'",
          "x": 0.775,
          "xanchor": "center",
          "xref": "paper",
          "y": 0.6111111111111112,
          "yanchor": "bottom",
          "yref": "paper"
         },
         {
          "font": {
           "size": 16
          },
          "showarrow": false,
          "text": "Dim = '8', Hop = '7'",
          "x": 0.225,
          "xanchor": "center",
          "xref": "paper",
          "y": 0.22222222222222224,
          "yanchor": "bottom",
          "yref": "paper"
         },
         {
          "font": {
           "size": 16
          },
          "showarrow": false,
          "text": "Dim = '9', Hop = '8'",
          "x": 0.775,
          "xanchor": "center",
          "xref": "paper",
          "y": 0.22222222222222224,
          "yanchor": "bottom",
          "yref": "paper"
         }
        ],
        "height": 1400,
        "template": {
         "data": {
          "bar": [
           {
            "error_x": {
             "color": "#f2f5fa"
            },
            "error_y": {
             "color": "#f2f5fa"
            },
            "marker": {
             "line": {
              "color": "rgb(17,17,17)",
              "width": 0.5
             },
             "pattern": {
              "fillmode": "overlay",
              "size": 10,
              "solidity": 0.2
             }
            },
            "type": "bar"
           }
          ],
          "barpolar": [
           {
            "marker": {
             "line": {
              "color": "rgb(17,17,17)",
              "width": 0.5
             },
             "pattern": {
              "fillmode": "overlay",
              "size": 10,
              "solidity": 0.2
             }
            },
            "type": "barpolar"
           }
          ],
          "carpet": [
           {
            "aaxis": {
             "endlinecolor": "#A2B1C6",
             "gridcolor": "#506784",
             "linecolor": "#506784",
             "minorgridcolor": "#506784",
             "startlinecolor": "#A2B1C6"
            },
            "baxis": {
             "endlinecolor": "#A2B1C6",
             "gridcolor": "#506784",
             "linecolor": "#506784",
             "minorgridcolor": "#506784",
             "startlinecolor": "#A2B1C6"
            },
            "type": "carpet"
           }
          ],
          "choropleth": [
           {
            "colorbar": {
             "outlinewidth": 0,
             "ticks": ""
            },
            "type": "choropleth"
           }
          ],
          "contour": [
           {
            "colorbar": {
             "outlinewidth": 0,
             "ticks": ""
            },
            "colorscale": [
             [
              0,
              "#0d0887"
             ],
             [
              0.1111111111111111,
              "#46039f"
             ],
             [
              0.2222222222222222,
              "#7201a8"
             ],
             [
              0.3333333333333333,
              "#9c179e"
             ],
             [
              0.4444444444444444,
              "#bd3786"
             ],
             [
              0.5555555555555556,
              "#d8576b"
             ],
             [
              0.6666666666666666,
              "#ed7953"
             ],
             [
              0.7777777777777778,
              "#fb9f3a"
             ],
             [
              0.8888888888888888,
              "#fdca26"
             ],
             [
              1,
              "#f0f921"
             ]
            ],
            "type": "contour"
           }
          ],
          "contourcarpet": [
           {
            "colorbar": {
             "outlinewidth": 0,
             "ticks": ""
            },
            "type": "contourcarpet"
           }
          ],
          "heatmap": [
           {
            "colorbar": {
             "outlinewidth": 0,
             "ticks": ""
            },
            "colorscale": [
             [
              0,
              "#0d0887"
             ],
             [
              0.1111111111111111,
              "#46039f"
             ],
             [
              0.2222222222222222,
              "#7201a8"
             ],
             [
              0.3333333333333333,
              "#9c179e"
             ],
             [
              0.4444444444444444,
              "#bd3786"
             ],
             [
              0.5555555555555556,
              "#d8576b"
             ],
             [
              0.6666666666666666,
              "#ed7953"
             ],
             [
              0.7777777777777778,
              "#fb9f3a"
             ],
             [
              0.8888888888888888,
              "#fdca26"
             ],
             [
              1,
              "#f0f921"
             ]
            ],
            "type": "heatmap"
           }
          ],
          "histogram": [
           {
            "marker": {
             "pattern": {
              "fillmode": "overlay",
              "size": 10,
              "solidity": 0.2
             }
            },
            "type": "histogram"
           }
          ],
          "histogram2d": [
           {
            "colorbar": {
             "outlinewidth": 0,
             "ticks": ""
            },
            "colorscale": [
             [
              0,
              "#0d0887"
             ],
             [
              0.1111111111111111,
              "#46039f"
             ],
             [
              0.2222222222222222,
              "#7201a8"
             ],
             [
              0.3333333333333333,
              "#9c179e"
             ],
             [
              0.4444444444444444,
              "#bd3786"
             ],
             [
              0.5555555555555556,
              "#d8576b"
             ],
             [
              0.6666666666666666,
              "#ed7953"
             ],
             [
              0.7777777777777778,
              "#fb9f3a"
             ],
             [
              0.8888888888888888,
              "#fdca26"
             ],
             [
              1,
              "#f0f921"
             ]
            ],
            "type": "histogram2d"
           }
          ],
          "histogram2dcontour": [
           {
            "colorbar": {
             "outlinewidth": 0,
             "ticks": ""
            },
            "colorscale": [
             [
              0,
              "#0d0887"
             ],
             [
              0.1111111111111111,
              "#46039f"
             ],
             [
              0.2222222222222222,
              "#7201a8"
             ],
             [
              0.3333333333333333,
              "#9c179e"
             ],
             [
              0.4444444444444444,
              "#bd3786"
             ],
             [
              0.5555555555555556,
              "#d8576b"
             ],
             [
              0.6666666666666666,
              "#ed7953"
             ],
             [
              0.7777777777777778,
              "#fb9f3a"
             ],
             [
              0.8888888888888888,
              "#fdca26"
             ],
             [
              1,
              "#f0f921"
             ]
            ],
            "type": "histogram2dcontour"
           }
          ],
          "mesh3d": [
           {
            "colorbar": {
             "outlinewidth": 0,
             "ticks": ""
            },
            "type": "mesh3d"
           }
          ],
          "parcoords": [
           {
            "line": {
             "colorbar": {
              "outlinewidth": 0,
              "ticks": ""
             }
            },
            "type": "parcoords"
           }
          ],
          "pie": [
           {
            "automargin": true,
            "type": "pie"
           }
          ],
          "scatter": [
           {
            "marker": {
             "line": {
              "color": "#283442"
             }
            },
            "type": "scatter"
           }
          ],
          "scatter3d": [
           {
            "line": {
             "colorbar": {
              "outlinewidth": 0,
              "ticks": ""
             }
            },
            "marker": {
             "colorbar": {
              "outlinewidth": 0,
              "ticks": ""
             }
            },
            "type": "scatter3d"
           }
          ],
          "scattercarpet": [
           {
            "marker": {
             "colorbar": {
              "outlinewidth": 0,
              "ticks": ""
             }
            },
            "type": "scattercarpet"
           }
          ],
          "scattergeo": [
           {
            "marker": {
             "colorbar": {
              "outlinewidth": 0,
              "ticks": ""
             }
            },
            "type": "scattergeo"
           }
          ],
          "scattergl": [
           {
            "marker": {
             "line": {
              "color": "#283442"
             }
            },
            "type": "scattergl"
           }
          ],
          "scattermap": [
           {
            "marker": {
             "colorbar": {
              "outlinewidth": 0,
              "ticks": ""
             }
            },
            "type": "scattermap"
           }
          ],
          "scattermapbox": [
           {
            "marker": {
             "colorbar": {
              "outlinewidth": 0,
              "ticks": ""
             }
            },
            "type": "scattermapbox"
           }
          ],
          "scatterpolar": [
           {
            "marker": {
             "colorbar": {
              "outlinewidth": 0,
              "ticks": ""
             }
            },
            "type": "scatterpolar"
           }
          ],
          "scatterpolargl": [
           {
            "marker": {
             "colorbar": {
              "outlinewidth": 0,
              "ticks": ""
             }
            },
            "type": "scatterpolargl"
           }
          ],
          "scatterternary": [
           {
            "marker": {
             "colorbar": {
              "outlinewidth": 0,
              "ticks": ""
             }
            },
            "type": "scatterternary"
           }
          ],
          "surface": [
           {
            "colorbar": {
             "outlinewidth": 0,
             "ticks": ""
            },
            "colorscale": [
             [
              0,
              "#0d0887"
             ],
             [
              0.1111111111111111,
              "#46039f"
             ],
             [
              0.2222222222222222,
              "#7201a8"
             ],
             [
              0.3333333333333333,
              "#9c179e"
             ],
             [
              0.4444444444444444,
              "#bd3786"
             ],
             [
              0.5555555555555556,
              "#d8576b"
             ],
             [
              0.6666666666666666,
              "#ed7953"
             ],
             [
              0.7777777777777778,
              "#fb9f3a"
             ],
             [
              0.8888888888888888,
              "#fdca26"
             ],
             [
              1,
              "#f0f921"
             ]
            ],
            "type": "surface"
           }
          ],
          "table": [
           {
            "cells": {
             "fill": {
              "color": "#506784"
             },
             "line": {
              "color": "rgb(17,17,17)"
             }
            },
            "header": {
             "fill": {
              "color": "#2a3f5f"
             },
             "line": {
              "color": "rgb(17,17,17)"
             }
            },
            "type": "table"
           }
          ]
         },
         "layout": {
          "annotationdefaults": {
           "arrowcolor": "#f2f5fa",
           "arrowhead": 0,
           "arrowwidth": 1
          },
          "autotypenumbers": "strict",
          "coloraxis": {
           "colorbar": {
            "outlinewidth": 0,
            "ticks": ""
           }
          },
          "colorscale": {
           "diverging": [
            [
             0,
             "#8e0152"
            ],
            [
             0.1,
             "#c51b7d"
            ],
            [
             0.2,
             "#de77ae"
            ],
            [
             0.3,
             "#f1b6da"
            ],
            [
             0.4,
             "#fde0ef"
            ],
            [
             0.5,
             "#f7f7f7"
            ],
            [
             0.6,
             "#e6f5d0"
            ],
            [
             0.7,
             "#b8e186"
            ],
            [
             0.8,
             "#7fbc41"
            ],
            [
             0.9,
             "#4d9221"
            ],
            [
             1,
             "#276419"
            ]
           ],
           "sequential": [
            [
             0,
             "#0d0887"
            ],
            [
             0.1111111111111111,
             "#46039f"
            ],
            [
             0.2222222222222222,
             "#7201a8"
            ],
            [
             0.3333333333333333,
             "#9c179e"
            ],
            [
             0.4444444444444444,
             "#bd3786"
            ],
            [
             0.5555555555555556,
             "#d8576b"
            ],
            [
             0.6666666666666666,
             "#ed7953"
            ],
            [
             0.7777777777777778,
             "#fb9f3a"
            ],
            [
             0.8888888888888888,
             "#fdca26"
            ],
            [
             1,
             "#f0f921"
            ]
           ],
           "sequentialminus": [
            [
             0,
             "#0d0887"
            ],
            [
             0.1111111111111111,
             "#46039f"
            ],
            [
             0.2222222222222222,
             "#7201a8"
            ],
            [
             0.3333333333333333,
             "#9c179e"
            ],
            [
             0.4444444444444444,
             "#bd3786"
            ],
            [
             0.5555555555555556,
             "#d8576b"
            ],
            [
             0.6666666666666666,
             "#ed7953"
            ],
            [
             0.7777777777777778,
             "#fb9f3a"
            ],
            [
             0.8888888888888888,
             "#fdca26"
            ],
            [
             1,
             "#f0f921"
            ]
           ]
          },
          "colorway": [
           "#636efa",
           "#EF553B",
           "#00cc96",
           "#ab63fa",
           "#FFA15A",
           "#19d3f3",
           "#FF6692",
           "#B6E880",
           "#FF97FF",
           "#FECB52"
          ],
          "font": {
           "color": "#f2f5fa"
          },
          "geo": {
           "bgcolor": "rgb(17,17,17)",
           "lakecolor": "rgb(17,17,17)",
           "landcolor": "rgb(17,17,17)",
           "showlakes": true,
           "showland": true,
           "subunitcolor": "#506784"
          },
          "hoverlabel": {
           "align": "left"
          },
          "hovermode": "closest",
          "mapbox": {
           "style": "dark"
          },
          "paper_bgcolor": "rgb(17,17,17)",
          "plot_bgcolor": "rgb(17,17,17)",
          "polar": {
           "angularaxis": {
            "gridcolor": "#506784",
            "linecolor": "#506784",
            "ticks": ""
           },
           "bgcolor": "rgb(17,17,17)",
           "radialaxis": {
            "gridcolor": "#506784",
            "linecolor": "#506784",
            "ticks": ""
           }
          },
          "scene": {
           "xaxis": {
            "backgroundcolor": "rgb(17,17,17)",
            "gridcolor": "#506784",
            "gridwidth": 2,
            "linecolor": "#506784",
            "showbackground": true,
            "ticks": "",
            "zerolinecolor": "#C8D4E3"
           },
           "yaxis": {
            "backgroundcolor": "rgb(17,17,17)",
            "gridcolor": "#506784",
            "gridwidth": 2,
            "linecolor": "#506784",
            "showbackground": true,
            "ticks": "",
            "zerolinecolor": "#C8D4E3"
           },
           "zaxis": {
            "backgroundcolor": "rgb(17,17,17)",
            "gridcolor": "#506784",
            "gridwidth": 2,
            "linecolor": "#506784",
            "showbackground": true,
            "ticks": "",
            "zerolinecolor": "#C8D4E3"
           }
          },
          "shapedefaults": {
           "line": {
            "color": "#f2f5fa"
           }
          },
          "sliderdefaults": {
           "bgcolor": "#C8D4E3",
           "bordercolor": "rgb(17,17,17)",
           "borderwidth": 1,
           "tickwidth": 0
          },
          "ternary": {
           "aaxis": {
            "gridcolor": "#506784",
            "linecolor": "#506784",
            "ticks": ""
           },
           "baxis": {
            "gridcolor": "#506784",
            "linecolor": "#506784",
            "ticks": ""
           },
           "bgcolor": "rgb(17,17,17)",
           "caxis": {
            "gridcolor": "#506784",
            "linecolor": "#506784",
            "ticks": ""
           }
          },
          "title": {
           "x": 0.05
          },
          "updatemenudefaults": {
           "bgcolor": "#506784",
           "borderwidth": 0
          },
          "xaxis": {
           "automargin": true,
           "gridcolor": "#283442",
           "linecolor": "#506784",
           "ticks": "",
           "title": {
            "standoff": 15
           },
           "zerolinecolor": "#283442",
           "zerolinewidth": 2
          },
          "yaxis": {
           "automargin": true,
           "gridcolor": "#283442",
           "linecolor": "#506784",
           "ticks": "",
           "title": {
            "standoff": 15
           },
           "zerolinecolor": "#283442",
           "zerolinewidth": 2
          }
         }
        },
        "title": {
         "text": "Combined Entropy–Complexity Plots for Folder data/genres_30sec/reggae"
        },
        "width": 1200,
        "xaxis": {
         "anchor": "y",
         "domain": [
          0,
          0.45
         ],
         "range": [
          0,
          1
         ]
        },
        "xaxis2": {
         "anchor": "y2",
         "domain": [
          0.55,
          1
         ],
         "range": [
          0,
          1
         ]
        },
        "xaxis3": {
         "anchor": "y3",
         "domain": [
          0,
          0.45
         ],
         "range": [
          0,
          1
         ]
        },
        "xaxis4": {
         "anchor": "y4",
         "domain": [
          0.55,
          1
         ],
         "range": [
          0,
          1
         ]
        },
        "xaxis5": {
         "anchor": "y5",
         "domain": [
          0,
          0.45
         ],
         "range": [
          0,
          1
         ]
        },
        "xaxis6": {
         "anchor": "y6",
         "domain": [
          0.55,
          1
         ],
         "range": [
          0,
          1
         ]
        },
        "yaxis": {
         "anchor": "x",
         "domain": [
          0.7777777777777778,
          1
         ],
         "range": [
          0,
          1
         ]
        },
        "yaxis2": {
         "anchor": "x2",
         "domain": [
          0.7777777777777778,
          1
         ],
         "range": [
          0,
          1
         ]
        },
        "yaxis3": {
         "anchor": "x3",
         "domain": [
          0.3888888888888889,
          0.6111111111111112
         ],
         "range": [
          0,
          1
         ]
        },
        "yaxis4": {
         "anchor": "x4",
         "domain": [
          0.3888888888888889,
          0.6111111111111112
         ],
         "range": [
          0,
          1
         ]
        },
        "yaxis5": {
         "anchor": "x5",
         "domain": [
          0,
          0.22222222222222224
         ],
         "range": [
          0,
          1
         ]
        },
        "yaxis6": {
         "anchor": "x6",
         "domain": [
          0,
          0.22222222222222224
         ],
         "range": [
          0,
          1
         ]
        }
       }
      }
     },
     "metadata": {},
     "output_type": "display_data"
    }
   ],
   "source": [
    "folder_path = \"data/genres_30sec/reggae\"\n",
    "start = 4\n",
    "end = 10\n",
    "grid = 2\n",
    "folder = \"plots\"\n",
    "plot_graph(folder_path, start, end, grid, folder)"
   ]
  },
  {
   "cell_type": "markdown",
   "metadata": {},
   "source": [
    "Rock"
   ]
  },
  {
   "cell_type": "code",
   "execution_count": null,
   "metadata": {},
   "outputs": [
    {
     "name": "stderr",
     "output_type": "stream",
     "text": [
      "Processing audio files in data/genres_30sec/rock with dim 4 and hop 3: 100%|██████████| 100/100 [00:56<00:00,  1.76it/s]\n",
      "Processing audio files in data/genres_30sec/rock with dim 5 and hop 4: 100%|██████████| 100/100 [00:44<00:00,  2.26it/s]\n",
      "Processing audio files in data/genres_30sec/rock with dim 6 and hop 5: 100%|██████████| 100/100 [00:36<00:00,  2.74it/s]\n",
      "Processing audio files in data/genres_30sec/rock with dim 7 and hop 6: 100%|██████████| 100/100 [00:32<00:00,  3.07it/s]\n",
      "Processing audio files in data/genres_30sec/rock with dim 8 and hop 7: 100%|██████████| 100/100 [00:32<00:00,  3.05it/s]\n",
      "Processing audio files in data/genres_30sec/rock with dim 9 and hop 8: 100%|██████████| 100/100 [00:36<00:00,  2.72it/s]\n"
     ]
    },
    {
     "data": {
      "application/vnd.plotly.v1+json": {
       "config": {
        "plotlyServerURL": "https://plot.ly"
       },
       "data": [
        {
         "hovertemplate": "Entropy: %{x}<br>Complexity: %{y}<br>File: %{text}<extra></extra>",
         "marker": {
          "color": {
           "bdata": "cK/Yq1GJyD9dFMrD1C7QPwGo67h+S8M/2vTjtnkIwT80C9bAudjKPy1QRWwRA8U/RiDLrXQM0D+eIUSy//nHP6IBsyaIEsE/ksTf61o3zT+rnm/pB7PKP7HUIMrtbsk/yqNYbqvAxD+3SR0/e0zIP/xSXETENMw/1kvLbbJQyT9qlA/HxSfHP7G7LHjNzsw/iTKKuopjxj/qaS7wY1/EP2qRZ/vDIc4/aQsuqp9cxT9Ju9TR0fLGP8RBECgJxsI/qLp0qmaPwz+txgvkjU7NP+j4zP8jOMg/IwH/R9uBxT97w0WNH028P8YyUKuQfcE/DTunHOwlxT+W9geZZV/GPzaFK6r8DdA/G/z4Y8Ilvj8hZgM/NibFP3xQJQZgi8I/3svvNoxcwj8q3stRdxHEP9CowpffZMg/KiLobX+mwT9QUSWJWmDJPy6hthWFhKo/M6AIdAxfyj88IIrZw67NP0wWStzlkcY/norUySMLwj/dLAu7haC2Pwqtxwi58r8/Dt9IT5xbxj/KuKyKGfvFP+lgVTuqUMg/+3OVJAPJxz9t+KFiO5TGP+f+hZTT8Mw/oMvQHLaKzD8UHunE7HzGP88bcwkP4sU/EMkJSFQ7yD+INpbi/7GvPxaKAK1Q8tA/0vhY9Z++yD9JxJhlOHHGP/DSBm4r3r8/TkdNdghjyT9HjpSwk6rCP8VdChEoBsM/sI1nU61zyD/1Aho6wv7DP/LcDlcXjL4/fWoASocWwj8w98RfSfzLP+tiUFpBcMU/t45HTT0ryT+ceTfIqRPGP31XUr5bZLQ/XRZWoaahvT9rYF03wALEP0IdiH8ZcaU/qgowavabwz9s13mhPd/HP2GwyAb0SLc/z23MBI/0yT8hbEcEYrTFP6c1xqiqFMc/9ytQ+ONUxz9dLz+8rlbFP7258Vmg9MI/NhR2OqsKzj9ww9O/38XHPzN6Ez+AMsc/iS+OqEvRxz8ifeGU9/C/PyBfupg9jcU/yV+c+J2BxT9xlgfuBQjQPza5bc9imsQ/Rb47Q7wuyT+KfeNG2EHHP9q3hx3zSME/7VesI7idzT8=",
           "dtype": "f8"
          },
          "colorscale": [
           [
            0,
            "#0508b8"
           ],
           [
            0.08333333333333333,
            "#1910d8"
           ],
           [
            0.16666666666666666,
            "#3c19f0"
           ],
           [
            0.25,
            "#6b1cfb"
           ],
           [
            0.3333333333333333,
            "#981cfd"
           ],
           [
            0.4166666666666667,
            "#bf1cfd"
           ],
           [
            0.5,
            "#dd2bfd"
           ],
           [
            0.5833333333333334,
            "#f246fe"
           ],
           [
            0.6666666666666666,
            "#fc67fd"
           ],
           [
            0.75,
            "#fe88fc"
           ],
           [
            0.8333333333333334,
            "#fea5fd"
           ],
           [
            0.9166666666666666,
            "#febefe"
           ],
           [
            1,
            "#fec3fe"
           ]
          ],
          "size": 10
         },
         "mode": "markers",
         "name": "Dim = 4, Hop = 3",
         "showlegend": true,
         "text": [
          "rock.00011.wav",
          "rock.00005.wav",
          "rock.00039.wav",
          "rock.00038.wav",
          "rock.00004.wav",
          "rock.00010.wav",
          "rock.00006.wav",
          "rock.00012.wav",
          "rock.00013.wav",
          "rock.00007.wav",
          "rock.00003.wav",
          "rock.00017.wav",
          "rock.00016.wav",
          "rock.00002.wav",
          "rock.00028.wav",
          "rock.00014.wav",
          "rock.00000.wav",
          "rock.00001.wav",
          "rock.00015.wav",
          "rock.00029.wav",
          "rock.00099.wav",
          "rock.00072.wav",
          "rock.00066.wav",
          "rock.00067.wav",
          "rock.00073.wav",
          "rock.00098.wav",
          "rock.00065.wav",
          "rock.00071.wav",
          "rock.00059.wav",
          "rock.00058.wav",
          "rock.00070.wav",
          "rock.00064.wav",
          "rock.00048.wav",
          "rock.00060.wav",
          "rock.00074.wav",
          "rock.00075.wav",
          "rock.00061.wav",
          "rock.00049.wav",
          "rock.00088.wav",
          "rock.00077.wav",
          "rock.00063.wav",
          "rock.00062.wav",
          "rock.00076.wav",
          "rock.00089.wav",
          "rock.00090.wav",
          "rock.00084.wav",
          "rock.00053.wav",
          "rock.00047.wav",
          "rock.00046.wav",
          "rock.00052.wav",
          "rock.00085.wav",
          "rock.00091.wav",
          "rock.00087.wav",
          "rock.00093.wav",
          "rock.00044.wav",
          "rock.00050.wav",
          "rock.00078.wav",
          "rock.00079.wav",
          "rock.00051.wav",
          "rock.00045.wav",
          "rock.00092.wav",
          "rock.00086.wav",
          "rock.00082.wav",
          "rock.00096.wav",
          "rock.00069.wav",
          "rock.00041.wav",
          "rock.00055.wav",
          "rock.00054.wav",
          "rock.00040.wav",
          "rock.00068.wav",
          "rock.00097.wav",
          "rock.00083.wav",
          "rock.00095.wav",
          "rock.00081.wav",
          "rock.00056.wav",
          "rock.00042.wav",
          "rock.00043.wav",
          "rock.00057.wav",
          "rock.00080.wav",
          "rock.00094.wav",
          "rock.00030.wav",
          "rock.00024.wav",
          "rock.00018.wav",
          "rock.00019.wav",
          "rock.00025.wav",
          "rock.00031.wav",
          "rock.00027.wav",
          "rock.00033.wav",
          "rock.00032.wav",
          "rock.00026.wav",
          "rock.00022.wav",
          "rock.00036.wav",
          "rock.00037.wav",
          "rock.00023.wav",
          "rock.00009.wav",
          "rock.00035.wav",
          "rock.00021.wav",
          "rock.00020.wav",
          "rock.00034.wav",
          "rock.00008.wav"
         ],
         "type": "scatter",
         "x": {
          "bdata": "ByKrTGgs6T+7H6+qmKDlP9THKWST8uo/Q46dUez16z/Z30vzyVroP166dwV+0+o/zzbgXU1s5j/FqvoNeLDpP3U0VAOb9+s/GG7INO/S5j9ZqThvzTPoP+lDNTVcxOk/ZA50nso26z/yX1WHz8PpP3qVeoEZgeg/rQztID986T/9vEL5jS/qP0LUcOHDk+c/GmO2/nBW6j+MAj0UtFDrP1VAZxSKHec/zlTN1ALD6j8L+/EJ3FDqP/OG1vOptes/ZEaXLTGJ6z+2eJaWIGfnP4Vd5jYMLOo/5rR70HbY6j+NerF7J1fsP+PtJxI6Ves/O0AzdvJM6z/H6NsLmXvqP/DMThr6ZuY/qK0HPMA17D/cotcF0zzrP8j4tSGK1es/KwPcW4f96j8YrKRWuXzqPxfZyPF3Duo/CvSMo8756z89v8hb59fnP0jPYGhfeO4/LYq7wI3S6D8Y3wyahUnnPxLyHnSiv+o/qYwZWQPj6z8o/P5x4X/tP4yU2bpOTew/w02JpbL36T9YJmJUR5jpP5VrVWaa++k/eMficlo96j+H3T1XqnTqP+pzgOkBCOg/PeS267v75j9KpSHDz6TpPwysHg3KaOo/iUa51lr96T/oXk4s4UvuP1O5StxEk+Y/L1RE8CDw6T9gWmSdjYHqPwINDZ1qnuw/x6yZQEBz6T8awB24ddjrP0YiCKuzNOs/MORlraLR6D/n0NWY+uHqP14aRc5ufuw/APcugTT/6z9F5zRjBc3oPwtlnDNb/Oo/RjRBHhiS6T/rEdWPqc7qP8u+VZQ93e0/c8NQQQN87D/GtcPA6wDrP2sUkOIE1e4/T86sbquf6z+41PO7k0vqP87Mpp6plO0/GhPnla/E6T+kU1JylMrqP1nFS754h+o/6kdr58Wb6j+X5Q+jHJHqP3D0ZjuDqus/xcZGKIP95j8Qnb1gsfHpPyIkR7dhaeo/YQY8vY8d6j8NfbKNR0vsP3YHKcOKuuo/SYOiK5DR6j/bTAt3hdXkP8jOsigAkeo/MF7tYkqp6T+ggwp3XjnqP2l2gQSH/us/j/uApbMX5z8=",
          "dtype": "f8"
         },
         "xaxis": "x",
         "y": {
          "bdata": "cK/Yq1GJyD9dFMrD1C7QPwGo67h+S8M/2vTjtnkIwT80C9bAudjKPy1QRWwRA8U/RiDLrXQM0D+eIUSy//nHP6IBsyaIEsE/ksTf61o3zT+rnm/pB7PKP7HUIMrtbsk/yqNYbqvAxD+3SR0/e0zIP/xSXETENMw/1kvLbbJQyT9qlA/HxSfHP7G7LHjNzsw/iTKKuopjxj/qaS7wY1/EP2qRZ/vDIc4/aQsuqp9cxT9Ju9TR0fLGP8RBECgJxsI/qLp0qmaPwz+txgvkjU7NP+j4zP8jOMg/IwH/R9uBxT97w0WNH028P8YyUKuQfcE/DTunHOwlxT+W9geZZV/GPzaFK6r8DdA/G/z4Y8Ilvj8hZgM/NibFP3xQJQZgi8I/3svvNoxcwj8q3stRdxHEP9CowpffZMg/KiLobX+mwT9QUSWJWmDJPy6hthWFhKo/M6AIdAxfyj88IIrZw67NP0wWStzlkcY/norUySMLwj/dLAu7haC2Pwqtxwi58r8/Dt9IT5xbxj/KuKyKGfvFP+lgVTuqUMg/+3OVJAPJxz9t+KFiO5TGP+f+hZTT8Mw/oMvQHLaKzD8UHunE7HzGP88bcwkP4sU/EMkJSFQ7yD+INpbi/7GvPxaKAK1Q8tA/0vhY9Z++yD9JxJhlOHHGP/DSBm4r3r8/TkdNdghjyT9HjpSwk6rCP8VdChEoBsM/sI1nU61zyD/1Aho6wv7DP/LcDlcXjL4/fWoASocWwj8w98RfSfzLP+tiUFpBcMU/t45HTT0ryT+ceTfIqRPGP31XUr5bZLQ/XRZWoaahvT9rYF03wALEP0IdiH8ZcaU/qgowavabwz9s13mhPd/HP2GwyAb0SLc/z23MBI/0yT8hbEcEYrTFP6c1xqiqFMc/9ytQ+ONUxz9dLz+8rlbFP7258Vmg9MI/NhR2OqsKzj9ww9O/38XHPzN6Ez+AMsc/iS+OqEvRxz8ifeGU9/C/PyBfupg9jcU/yV+c+J2BxT9xlgfuBQjQPza5bc9imsQ/Rb47Q7wuyT+KfeNG2EHHP9q3hx3zSME/7VesI7idzT8=",
          "dtype": "f8"
         },
         "yaxis": "y"
        },
        {
         "hovertemplate": "Entropy: %{x}<br>Complexity: %{y}<br>File: %{text}<extra></extra>",
         "marker": {
          "color": {
           "bdata": "lcYaXD5I0D8LUOz8ETzUPxk50ZWCPMw/ElSjQfMLyT+NGPkXL2zRPxwdZGkdBM4/AB0mBrqV1D8tiuGc0ALQP2wdVDsnbsk/Kiv7GCIw0j+ujVoWLzfRP7AONsTyqtE/r7kVDOU8zj/PNve05p/QPyjhWzpoFNM/5bIXgJHw0D+WPYS9txbQP9yoDaiUptI/bsNwV+hWzj+RBX36olPNPzGsoL1AY9M/ss4VsXlZzj+xVWKrpu/PP5u6Ldk5W8s/j70xVUTLzD/TWP/i++nSP3T+DYVJLtE/kityF4bBzj+r0KcfhX/EPwsMpMdzJsg/IBjXLnCCzj81idq30ZrPP1WILwmVuNQ/mxVZE5CDxj+QbbTYRPHOP28DTTsdVcs//BgUF/kcyT+8mxMhYvnKP4sorDyi79A/zx0ihWw4yj/LxXEdnY/OP3GqWVfkI7c/rEfEsX+l0T+3WdBCGAbTPyXAE7c2VtA/i0u8YzC0yj8xYJ6OLcvBP88lgIJ938c/9inNN3KLzj/ut71Y0I3MP4ZMRhyY7tA/yN8pRh6l0D/2uw0dogzQP4Wuu7ZNUdM/26o/0BXf0T/vFCOG1lLNP2qmWHdxdM4/xFX5F8nb0D9lN/9U8j+5P/6idpqgYtY/xSxcJe1l0T9PZdYZkGPPPyllSI5rHcg/0QOVs7l70T96bfueqU3LP/G2GL/RiMs/wjisfF4C0D92fb/W5fbLPyvj1tIEusY//5azK0rayj9PNkai8xPTP5+dDwEq0M4/XjEgv29M0T8Jid6PKHnPP1cQql+mD78/e07AzJjjxT9VrOVsnarMP1s/EUNuU7M/4I7eFNm/zD9cFVx2RfjQP2M25f7oV8I/oQmv87050j8BaY0UIc3OP1zUqtVFhtA/AC6POzus0D8c2ks3m0nNP03Hy81efss/NaaYoGE+0z8j0/mx2IjQP80+IGYuWNA/PdUjlcK60D8gMNypum3HPyk751bAls4/q4HOrNO8zj9hgDhSg+vSPxUpkBgggsw/kbVud5FZ0T/Jp3tfOUbQP1p3XM3RL8k/OBBu3QAL0z8=",
           "dtype": "f8"
          },
          "colorscale": [
           [
            0,
            "#0508b8"
           ],
           [
            0.08333333333333333,
            "#1910d8"
           ],
           [
            0.16666666666666666,
            "#3c19f0"
           ],
           [
            0.25,
            "#6b1cfb"
           ],
           [
            0.3333333333333333,
            "#981cfd"
           ],
           [
            0.4166666666666667,
            "#bf1cfd"
           ],
           [
            0.5,
            "#dd2bfd"
           ],
           [
            0.5833333333333334,
            "#f246fe"
           ],
           [
            0.6666666666666666,
            "#fc67fd"
           ],
           [
            0.75,
            "#fe88fc"
           ],
           [
            0.8333333333333334,
            "#fea5fd"
           ],
           [
            0.9166666666666666,
            "#febefe"
           ],
           [
            1,
            "#fec3fe"
           ]
          ],
          "size": 10
         },
         "mode": "markers",
         "name": "Dim = 5, Hop = 4",
         "showlegend": true,
         "text": [
          "rock.00011.wav",
          "rock.00005.wav",
          "rock.00039.wav",
          "rock.00038.wav",
          "rock.00004.wav",
          "rock.00010.wav",
          "rock.00006.wav",
          "rock.00012.wav",
          "rock.00013.wav",
          "rock.00007.wav",
          "rock.00003.wav",
          "rock.00017.wav",
          "rock.00016.wav",
          "rock.00002.wav",
          "rock.00028.wav",
          "rock.00014.wav",
          "rock.00000.wav",
          "rock.00001.wav",
          "rock.00015.wav",
          "rock.00029.wav",
          "rock.00099.wav",
          "rock.00072.wav",
          "rock.00066.wav",
          "rock.00067.wav",
          "rock.00073.wav",
          "rock.00098.wav",
          "rock.00065.wav",
          "rock.00071.wav",
          "rock.00059.wav",
          "rock.00058.wav",
          "rock.00070.wav",
          "rock.00064.wav",
          "rock.00048.wav",
          "rock.00060.wav",
          "rock.00074.wav",
          "rock.00075.wav",
          "rock.00061.wav",
          "rock.00049.wav",
          "rock.00088.wav",
          "rock.00077.wav",
          "rock.00063.wav",
          "rock.00062.wav",
          "rock.00076.wav",
          "rock.00089.wav",
          "rock.00090.wav",
          "rock.00084.wav",
          "rock.00053.wav",
          "rock.00047.wav",
          "rock.00046.wav",
          "rock.00052.wav",
          "rock.00085.wav",
          "rock.00091.wav",
          "rock.00087.wav",
          "rock.00093.wav",
          "rock.00044.wav",
          "rock.00050.wav",
          "rock.00078.wav",
          "rock.00079.wav",
          "rock.00051.wav",
          "rock.00045.wav",
          "rock.00092.wav",
          "rock.00086.wav",
          "rock.00082.wav",
          "rock.00096.wav",
          "rock.00069.wav",
          "rock.00041.wav",
          "rock.00055.wav",
          "rock.00054.wav",
          "rock.00040.wav",
          "rock.00068.wav",
          "rock.00097.wav",
          "rock.00083.wav",
          "rock.00095.wav",
          "rock.00081.wav",
          "rock.00056.wav",
          "rock.00042.wav",
          "rock.00043.wav",
          "rock.00057.wav",
          "rock.00080.wav",
          "rock.00094.wav",
          "rock.00030.wav",
          "rock.00024.wav",
          "rock.00018.wav",
          "rock.00019.wav",
          "rock.00025.wav",
          "rock.00031.wav",
          "rock.00027.wav",
          "rock.00033.wav",
          "rock.00032.wav",
          "rock.00026.wav",
          "rock.00022.wav",
          "rock.00036.wav",
          "rock.00037.wav",
          "rock.00023.wav",
          "rock.00009.wav",
          "rock.00035.wav",
          "rock.00021.wav",
          "rock.00020.wav",
          "rock.00034.wav",
          "rock.00008.wav"
         ],
         "type": "scatter",
         "x": {
          "bdata": "Su8QSaTH5z+Jq2YFQhvkPx69/VW9xOk/ptMjkNAi6z/aw3AjK/bmP0L8ndF0tuk/WJHQ3sgA5T9EgtWmLpToP487Bcpv0Oo/ufkYimRH5T+2/H50e73mPxDsx2FJxeg/zYilvfRT6j8jPJ9si7ToP22VBGyGSuc/luA1mQlu6D9EkksWIirpP+jNxNS5NeY/do6ni7Fg6T80Vo7IXH3qP4efRU37x+U/UboUT2Ct6T9yzAEDV1bpPwa3MoQJ5Oo/j0UJCHWq6j+W5QbwkhDmP/UlK5EJIek/ZWd2Va3d6T/QOLWfOw3rP10sm9B6Heo/nDa13iWE6j97iuEkeGvpP12z9jCH6eQ/BY6lHact6z/EUEclG1vqP33Ca/q//uo//q0HUsFu6T9BTzhzK1PpPycjQLkoGOk/nwrxBPEg6z8xuwXDviTmP2c/lmbIoO0/KG7JUfWI5z+z//wbReblP0WZGtvhvek/A1bX/lUD6z84sIYIoePsP3wqzZGChes/whB8VYDO6D+zOu+Q/kfoPwIiz3b27+g/4iPKtjRO6T8O7QF8Q3PpPw7BLBVvyeY/1UOxqtaG5T8qgCmcGmboP1/TG6gqMuk/oczNQRz06D91kUTr8c7tP4MWx/PQBeU/WXZicUXo6D92IoUmQI7pP4hp/bFm9es/yM9JkEJd6D8RsRz1OBPrP+C/d77jN+o/yHsKJqJj5z94QEiOL+fpP3kVaIBTxOs/M931TUc66z/hoJkoN63nPzHZZC3UFeo//SIU2jWH6D+kWJ4pVuTpP7fc988EdO0/Kwcd4Q206z8BUH33EQnqP9mnyoBRPu4/DqKknJjS6j/72YEKYU7pP8uwi0Rl+ew/DrCzAwS56D9HQdo+jdbpP8zKqIhdi+k/GRPoKOms6T9hn77HQZ/pP8fwNX4F3uo/0xswvdOn5T963ZlaTunoP8GkbjagfOk/DX4JLI4P6T8ab9z2/IXrP+yG85g2x+k/NlsqnSrL6T9xcWYyvSTjPwTVY/Edgek/kHMWqIWk6D8ROfU3RjHpP+4Ot2xxOus/XW1m9jCk5T8=",
          "dtype": "f8"
         },
         "xaxis": "x2",
         "y": {
          "bdata": "lcYaXD5I0D8LUOz8ETzUPxk50ZWCPMw/ElSjQfMLyT+NGPkXL2zRPxwdZGkdBM4/AB0mBrqV1D8tiuGc0ALQP2wdVDsnbsk/Kiv7GCIw0j+ujVoWLzfRP7AONsTyqtE/r7kVDOU8zj/PNve05p/QPyjhWzpoFNM/5bIXgJHw0D+WPYS9txbQP9yoDaiUptI/bsNwV+hWzj+RBX36olPNPzGsoL1AY9M/ss4VsXlZzj+xVWKrpu/PP5u6Ldk5W8s/j70xVUTLzD/TWP/i++nSP3T+DYVJLtE/kityF4bBzj+r0KcfhX/EPwsMpMdzJsg/IBjXLnCCzj81idq30ZrPP1WILwmVuNQ/mxVZE5CDxj+QbbTYRPHOP28DTTsdVcs//BgUF/kcyT+8mxMhYvnKP4sorDyi79A/zx0ihWw4yj/LxXEdnY/OP3GqWVfkI7c/rEfEsX+l0T+3WdBCGAbTPyXAE7c2VtA/i0u8YzC0yj8xYJ6OLcvBP88lgIJ938c/9inNN3KLzj/ut71Y0I3MP4ZMRhyY7tA/yN8pRh6l0D/2uw0dogzQP4Wuu7ZNUdM/26o/0BXf0T/vFCOG1lLNP2qmWHdxdM4/xFX5F8nb0D9lN/9U8j+5P/6idpqgYtY/xSxcJe1l0T9PZdYZkGPPPyllSI5rHcg/0QOVs7l70T96bfueqU3LP/G2GL/RiMs/wjisfF4C0D92fb/W5fbLPyvj1tIEusY//5azK0rayj9PNkai8xPTP5+dDwEq0M4/XjEgv29M0T8Jid6PKHnPP1cQql+mD78/e07AzJjjxT9VrOVsnarMP1s/EUNuU7M/4I7eFNm/zD9cFVx2RfjQP2M25f7oV8I/oQmv87050j8BaY0UIc3OP1zUqtVFhtA/AC6POzus0D8c2ks3m0nNP03Hy81efss/NaaYoGE+0z8j0/mx2IjQP80+IGYuWNA/PdUjlcK60D8gMNypum3HPyk751bAls4/q4HOrNO8zj9hgDhSg+vSPxUpkBgggsw/kbVud5FZ0T/Jp3tfOUbQP1p3XM3RL8k/OBBu3QAL0z8=",
          "dtype": "f8"
         },
         "yaxis": "y2"
        },
        {
         "hovertemplate": "Entropy: %{x}<br>Complexity: %{y}<br>File: %{text}<extra></extra>",
         "marker": {
          "color": {
           "bdata": "V71CZP4y1D95n9AYuNzXP3kNTU5jstI/6LADe6vX0D85BOKyNC7VP6+CMYGjptM/8F7bfoKG2D/xvC4qIRnUP36a4c5+zNA/oRCGW8+d1T/F1cJ9xQbVP3uvoN+RgdY/baDyEwhP1D9jx2C78xTVPzuQAC2jb9c/MP6oGks+1T+Gg24gLdTUPwGf8Sb+tdY/o14F+A870z8np1mtnjrTP1eUajwfYtc/b64pD3e30z9CMwVy9KLUP+j/jfIHatI/BRRBvDtt0z+6apUs6/fWP+PhOgHOKNY/NwyMh5Q01D8ZMQlrM6LKP5TAMThn984/Yjt02uJN1D8I+6ejcqrUP1ynwLUCzdg/NInZBaoTzj9JiKxB4XzUP48BDMa3WtI/xJCznx4nzz+vJjlmDb3QPxyPecRIn9U/MwwiW1f10T9PtsTfyqXRP+tHA77+IsE/d2E0Cprd1T8i98cHqP7WP5HfC3SigdU/dVPkTqL90T/MGgSP5ebIP6z2yOxrwc8/pgcRV5dH0z+LtTz3PlvRP7egnZu6k9U/THA5PvCT1T/pYc49k0jVP+eWTOcY0Nc/c7SuOglG1T+a809Gqe3RPx4T+GwDZ9M/QXc+C+Gh1T8iitXy2gLCP50RfE3859o/E1099rZv1j8a5OGWsk/UPyh/nlCqwtA/NGGPnqlP1j9YMouU/n3SPysXI72ZEtI//1GWm4O80z+giGwqLPrRP/WyaTNQHs4/E+vqNRlh0j9qdgUBuNLXP0qttWvJVNQ/TrgeJKzo1T/ZXVzDmJ7UP44ToLkNbsU/CGR4C9c3zT/JURUkTH7SPwt9pjkK170/R3Jx2glN0z/Cki6fZQbWP4YMf4xv1Mk/jkn3SQpF1z8eUybzKiTUP0G+irGBhNU/7E1UMpm31T/Av83GUYXSP7V/W45sVNI/6VG/9n4I1z9qvyL9igvVP1U5Bm1iRdU/18+CXdVs1T/UeS6A3eTPP05u9FeOj9M/J4NrNmcj1D9Jf1dExZrVPw5wLLTRIdI/a955Bp0w1j+bTGdec/vUP7tQwTqVytA/mg8TRPE41z8=",
           "dtype": "f8"
          },
          "colorscale": [
           [
            0,
            "#0508b8"
           ],
           [
            0.08333333333333333,
            "#1910d8"
           ],
           [
            0.16666666666666666,
            "#3c19f0"
           ],
           [
            0.25,
            "#6b1cfb"
           ],
           [
            0.3333333333333333,
            "#981cfd"
           ],
           [
            0.4166666666666667,
            "#bf1cfd"
           ],
           [
            0.5,
            "#dd2bfd"
           ],
           [
            0.5833333333333334,
            "#f246fe"
           ],
           [
            0.6666666666666666,
            "#fc67fd"
           ],
           [
            0.75,
            "#fe88fc"
           ],
           [
            0.8333333333333334,
            "#fea5fd"
           ],
           [
            0.9166666666666666,
            "#febefe"
           ],
           [
            1,
            "#fec3fe"
           ]
          ],
          "size": 10
         },
         "mode": "markers",
         "name": "Dim = 6, Hop = 5",
         "showlegend": true,
         "text": [
          "rock.00011.wav",
          "rock.00005.wav",
          "rock.00039.wav",
          "rock.00038.wav",
          "rock.00004.wav",
          "rock.00010.wav",
          "rock.00006.wav",
          "rock.00012.wav",
          "rock.00013.wav",
          "rock.00007.wav",
          "rock.00003.wav",
          "rock.00017.wav",
          "rock.00016.wav",
          "rock.00002.wav",
          "rock.00028.wav",
          "rock.00014.wav",
          "rock.00000.wav",
          "rock.00001.wav",
          "rock.00015.wav",
          "rock.00029.wav",
          "rock.00099.wav",
          "rock.00072.wav",
          "rock.00066.wav",
          "rock.00067.wav",
          "rock.00073.wav",
          "rock.00098.wav",
          "rock.00065.wav",
          "rock.00071.wav",
          "rock.00059.wav",
          "rock.00058.wav",
          "rock.00070.wav",
          "rock.00064.wav",
          "rock.00048.wav",
          "rock.00060.wav",
          "rock.00074.wav",
          "rock.00075.wav",
          "rock.00061.wav",
          "rock.00049.wav",
          "rock.00088.wav",
          "rock.00077.wav",
          "rock.00063.wav",
          "rock.00062.wav",
          "rock.00076.wav",
          "rock.00089.wav",
          "rock.00090.wav",
          "rock.00084.wav",
          "rock.00053.wav",
          "rock.00047.wav",
          "rock.00046.wav",
          "rock.00052.wav",
          "rock.00085.wav",
          "rock.00091.wav",
          "rock.00087.wav",
          "rock.00093.wav",
          "rock.00044.wav",
          "rock.00050.wav",
          "rock.00078.wav",
          "rock.00079.wav",
          "rock.00051.wav",
          "rock.00045.wav",
          "rock.00092.wav",
          "rock.00086.wav",
          "rock.00082.wav",
          "rock.00096.wav",
          "rock.00069.wav",
          "rock.00041.wav",
          "rock.00055.wav",
          "rock.00054.wav",
          "rock.00040.wav",
          "rock.00068.wav",
          "rock.00097.wav",
          "rock.00083.wav",
          "rock.00095.wav",
          "rock.00081.wav",
          "rock.00056.wav",
          "rock.00042.wav",
          "rock.00043.wav",
          "rock.00057.wav",
          "rock.00080.wav",
          "rock.00094.wav",
          "rock.00030.wav",
          "rock.00024.wav",
          "rock.00018.wav",
          "rock.00019.wav",
          "rock.00025.wav",
          "rock.00031.wav",
          "rock.00027.wav",
          "rock.00033.wav",
          "rock.00032.wav",
          "rock.00026.wav",
          "rock.00022.wav",
          "rock.00036.wav",
          "rock.00037.wav",
          "rock.00023.wav",
          "rock.00009.wav",
          "rock.00035.wav",
          "rock.00021.wav",
          "rock.00020.wav",
          "rock.00034.wav",
          "rock.00008.wav"
         ],
         "type": "scatter",
         "x": {
          "bdata": "vMp0dI7V5j/BmOyOnyHjP7shxHSa/ug/1MdhxqyG6j+wor9QyPHlP2gboVbS4+g/9I5akWEi5D9ONEoA+b/nP1G3sPKR6Ok/2CA5JN1G5D+Cz0Wq5anlP4K42wlDEOg/nGC7mUqm6T/wEzeuIu7nP87LULX/ieY/hQYd7wOw5z+bkvuvrWDoPzBckM9GS+U/Ye1aNb+r6D87OI7LouvpP2EcoBfH8eQ/EwHEuFDh6D9IXeYmn5joP9NUwPW/Ouo/xON28Lz46T9HHJrcCTPlP/v1hrceeeg/XrZM3egt6T8LRulgmxTqP17V/jP+J+k/MCCvc0f06T+jKXWKuJzoP+D2Whl3FuQ/FI/+54V26j/yuNeYM8bpP0kyVspuXeo/ncf1bsNE6D9vNNFyuojoP1jYXsqaceg/XGi7+b5n6j/veAwqfPbkP5LItkNu3ew/dAJnXWWr5j8b0CKyNQvlP7TQsmvI/ug/lQNaUgld6j+1aum2y3TsPxUeqt3YB+s/sRWUaTgK6D9YbPICFFjnP3j+VFs8Q+g/q5fRyuyc6D9qDXxXj6DoP+GFLunF9OU/d/9UIyWL5D8Vmay4q4DnP5RzLFXhZug/bReaiDk+6D/1zHuCvF/tP+TEyiLRGuQ/b6oWj3o56D/YdxtvVtnoP/srCnaia+s/QiTGxTqY5z/NwxtoxW7qP0QUkLYEj+k/CWw3y75g5j+qSRPmAT3pP21Xkm3QTes/wZe7+WOf6j/wYR+4xvLmP875th5Kauk/4+Aw2tfR5z/H2Pe1/DjpP/XZcHKfKu0/1ucMaHAp6z98DuQB3mjpP13Kk8sHr+0/Umg2uVk66j/NbJGn26PoP0h13yCDaew/M//lMSoX6D+scp5tOCnpP9cHKuyF3+g/jhCw1UYP6T9PJbGAufnoP8atuAzvQuo/RoOYoba45D8kRoebiD3oP/ruPcLs0ug/uG4ZIBZm6D80k48vfuTqP0Xsrxz9KOk/xh+0Dj0W6T+OrSURBwDiP3h6jpV6wOg/xxEghyTg5z8ksgv3xnPoP7HJLbuQr+o/48jxqCqv5D8=",
          "dtype": "f8"
         },
         "xaxis": "x3",
         "y": {
          "bdata": "V71CZP4y1D95n9AYuNzXP3kNTU5jstI/6LADe6vX0D85BOKyNC7VP6+CMYGjptM/8F7bfoKG2D/xvC4qIRnUP36a4c5+zNA/oRCGW8+d1T/F1cJ9xQbVP3uvoN+RgdY/baDyEwhP1D9jx2C78xTVPzuQAC2jb9c/MP6oGks+1T+Gg24gLdTUPwGf8Sb+tdY/o14F+A870z8np1mtnjrTP1eUajwfYtc/b64pD3e30z9CMwVy9KLUP+j/jfIHatI/BRRBvDtt0z+6apUs6/fWP+PhOgHOKNY/NwyMh5Q01D8ZMQlrM6LKP5TAMThn984/Yjt02uJN1D8I+6ejcqrUP1ynwLUCzdg/NInZBaoTzj9JiKxB4XzUP48BDMa3WtI/xJCznx4nzz+vJjlmDb3QPxyPecRIn9U/MwwiW1f10T9PtsTfyqXRP+tHA77+IsE/d2E0Cprd1T8i98cHqP7WP5HfC3SigdU/dVPkTqL90T/MGgSP5ebIP6z2yOxrwc8/pgcRV5dH0z+LtTz3PlvRP7egnZu6k9U/THA5PvCT1T/pYc49k0jVP+eWTOcY0Nc/c7SuOglG1T+a809Gqe3RPx4T+GwDZ9M/QXc+C+Gh1T8iitXy2gLCP50RfE3859o/E1099rZv1j8a5OGWsk/UPyh/nlCqwtA/NGGPnqlP1j9YMouU/n3SPysXI72ZEtI//1GWm4O80z+giGwqLPrRP/WyaTNQHs4/E+vqNRlh0j9qdgUBuNLXP0qttWvJVNQ/TrgeJKzo1T/ZXVzDmJ7UP44ToLkNbsU/CGR4C9c3zT/JURUkTH7SPwt9pjkK170/R3Jx2glN0z/Cki6fZQbWP4YMf4xv1Mk/jkn3SQpF1z8eUybzKiTUP0G+irGBhNU/7E1UMpm31T/Av83GUYXSP7V/W45sVNI/6VG/9n4I1z9qvyL9igvVP1U5Bm1iRdU/18+CXdVs1T/UeS6A3eTPP05u9FeOj9M/J4NrNmcj1D9Jf1dExZrVPw5wLLTRIdI/a955Bp0w1j+bTGdec/vUP7tQwTqVytA/mg8TRPE41z8=",
          "dtype": "f8"
         },
         "yaxis": "y3"
        },
        {
         "hovertemplate": "Entropy: %{x}<br>Complexity: %{y}<br>File: %{text}<extra></extra>",
         "marker": {
          "color": {
           "bdata": "iyqLY3sB2D9ojaJMyfbaP0HgI5pjSdc/hsMOn3tm1T811Pe4oLrYP8d5lSeiX9g/x2fAQ47V2z+xfflYjSfYPyr+yIRGLtU/nG2MQofa2D8H25fGeJjYP6VppTyeL9s/6kJAABpE2T+JJErRrFnZP6eL2CPLits/Fbi5V/ZW2T9AIZfUUVXZP2sZaijodto/Tor0CZ5Q1z9WLjW83dnXP2ybyeqR/to/hbsJzJMh2D/g7i1GRA7ZPxkgIwNkLtc/CyujFOpE2D94tSyX5JHaP/OatGqo+to/PBY0d28K2T9crBT2OpvQP3f/K1d1FNM/k0jxb8Ut2T8Xr6wVJErZP2v8h7nMNtw/Mc+tu4wO0z9Zskky23TZP96oViAxJdc/M58VvcPC0j9OwFMBHhPUPw2Kg9ynJdo/bFT5xqbs1j8iviNxhB7UP1o5iBEj4sc//b3tydXJ2T9+aDQ564HaPwJTZvxnVdo/jTVFNw3B1j+F30P3wmvQP6b3ZFCB8tM/Rs5VaBBA1z+4UFToMorUP1YY8QLGG9o/N5cvBgUm2j/5pQSw2SbaP4fjYdMsxds/MC7elS582D+I/+91fVDVPw0fLQdxotc/J+2pfNI42j+OwVf2morIPzuJat/qht4/GaNNyYc92z9YsyIDN7LYP5hmMTpFxNU/pWIeOc/B2j/bNJLc4GnXP9N1wjc1ddY/5ry+4tZz1z8o8ORp2yTWPxggCNHd79I/zoPDNOVu1z8+CNw6Xx/cP74cvk8NNNk//mItPGNL2j/6q8PWFGTZP9EU0LGro8w/LthszuR90j8EvVK+c77WP8vpdDSsRcU/YKTbfr8l2D+cp2b1ObzaP/V3XsibO9E/uri/5tPx2z/YFYGbQMfYPzaDfViRX9o/LxkekteP2j/bFPLliG7WP9lMoxFHCdc/XapQwAJ02j9DTPerIHjZPxEpl2q4DNo/uw66nfIO2j/sCAh/I1/UP7S/g2MLstc/RdVk8KbP2D/WyNrlaQXYP+3YOlrRGNY/ke3+Bdm32j/1eJdBoI3ZP87dQylkL9U/ooOSR4f62j8=",
           "dtype": "f8"
          },
          "colorscale": [
           [
            0,
            "#0508b8"
           ],
           [
            0.08333333333333333,
            "#1910d8"
           ],
           [
            0.16666666666666666,
            "#3c19f0"
           ],
           [
            0.25,
            "#6b1cfb"
           ],
           [
            0.3333333333333333,
            "#981cfd"
           ],
           [
            0.4166666666666667,
            "#bf1cfd"
           ],
           [
            0.5,
            "#dd2bfd"
           ],
           [
            0.5833333333333334,
            "#f246fe"
           ],
           [
            0.6666666666666666,
            "#fc67fd"
           ],
           [
            0.75,
            "#fe88fc"
           ],
           [
            0.8333333333333334,
            "#fea5fd"
           ],
           [
            0.9166666666666666,
            "#febefe"
           ],
           [
            1,
            "#fec3fe"
           ]
          ],
          "size": 10
         },
         "mode": "markers",
         "name": "Dim = 7, Hop = 6",
         "showlegend": true,
         "text": [
          "rock.00011.wav",
          "rock.00005.wav",
          "rock.00039.wav",
          "rock.00038.wav",
          "rock.00004.wav",
          "rock.00010.wav",
          "rock.00006.wav",
          "rock.00012.wav",
          "rock.00013.wav",
          "rock.00007.wav",
          "rock.00003.wav",
          "rock.00017.wav",
          "rock.00016.wav",
          "rock.00002.wav",
          "rock.00028.wav",
          "rock.00014.wav",
          "rock.00000.wav",
          "rock.00001.wav",
          "rock.00015.wav",
          "rock.00029.wav",
          "rock.00099.wav",
          "rock.00072.wav",
          "rock.00066.wav",
          "rock.00067.wav",
          "rock.00073.wav",
          "rock.00098.wav",
          "rock.00065.wav",
          "rock.00071.wav",
          "rock.00059.wav",
          "rock.00058.wav",
          "rock.00070.wav",
          "rock.00064.wav",
          "rock.00048.wav",
          "rock.00060.wav",
          "rock.00074.wav",
          "rock.00075.wav",
          "rock.00061.wav",
          "rock.00049.wav",
          "rock.00088.wav",
          "rock.00077.wav",
          "rock.00063.wav",
          "rock.00062.wav",
          "rock.00076.wav",
          "rock.00089.wav",
          "rock.00090.wav",
          "rock.00084.wav",
          "rock.00053.wav",
          "rock.00047.wav",
          "rock.00046.wav",
          "rock.00052.wav",
          "rock.00085.wav",
          "rock.00091.wav",
          "rock.00087.wav",
          "rock.00093.wav",
          "rock.00044.wav",
          "rock.00050.wav",
          "rock.00078.wav",
          "rock.00079.wav",
          "rock.00051.wav",
          "rock.00045.wav",
          "rock.00092.wav",
          "rock.00086.wav",
          "rock.00082.wav",
          "rock.00096.wav",
          "rock.00069.wav",
          "rock.00041.wav",
          "rock.00055.wav",
          "rock.00054.wav",
          "rock.00040.wav",
          "rock.00068.wav",
          "rock.00097.wav",
          "rock.00083.wav",
          "rock.00095.wav",
          "rock.00081.wav",
          "rock.00056.wav",
          "rock.00042.wav",
          "rock.00043.wav",
          "rock.00057.wav",
          "rock.00080.wav",
          "rock.00094.wav",
          "rock.00030.wav",
          "rock.00024.wav",
          "rock.00018.wav",
          "rock.00019.wav",
          "rock.00025.wav",
          "rock.00031.wav",
          "rock.00027.wav",
          "rock.00033.wav",
          "rock.00032.wav",
          "rock.00026.wav",
          "rock.00022.wav",
          "rock.00036.wav",
          "rock.00037.wav",
          "rock.00023.wav",
          "rock.00009.wav",
          "rock.00035.wav",
          "rock.00021.wav",
          "rock.00020.wav",
          "rock.00034.wav",
          "rock.00008.wav"
         ],
         "type": "scatter",
         "x": {
          "bdata": "tYVM+EkI5j/lGuzZJXXiP0ebxEn/Tug/U7bQcksF6j+rqwIh6h7lP5jeXG+ZLOg//wNw+6yI4z9qMQ/dqQ3nP2ZMQerrAOk/fGG/6/Z64z8VYP766+DkP8y/W1hWkOc/KbmBSxAo6T9z+ZozPljnP8ZYyg6IAuY/YE7ioZ8K5z99opCXRsrnP0FL8CtboeQ/DMjt/NUP6D+qGSlAUXPpP6v0pxLNUOQ/P7EmWr0+6D8Cw9B1xAfoP/vAWfxks+k/1ZR+X2h26T94PCWxlYLkP2Rkui3i7+c/Iky9YIGS6D+w3vXhPjjpPx5yIFCuYOg/ujJD91uR6T9ajTkNZPrnP9q03j/8fOM/LFCjXVLh6T8vZv3h7UHpP7ZIJMwTzuk/4dwM11FN5z8MrVzwUNnnP9fQGtBM9uc/qF1h9rXR6T/AS/NbrQjkP4nCRb/3Gew//BKSUHwC5j8prZ9wW2DkP/yHzmjhZOg/Jf4S7KXS6T+PmU/DKRzsP5FG9mThpeo/Byr1Hihm5z+F340SdpjmP/Niarp+tOc/fIHsuEIb6D91zJoANAfoP4vxho0NZeU/EQEuKWXG4z8B/lkrQr7mP2bvbfBrp+c/pNIwaLao5z8XeEjlOOrsP6RckX4tkOM/lVDqiW7B5z8Qp8f8gFvoP/zLpgyY++o/ejn8WQAJ5z+BrmHG+urpPwHVvGlGBOk/Dv9cej+X5T8dFRebAanoP/P35S1v8eo/Uy2q7XMi6j847OdQ43PmP/cYbzcb6Og/bmE52uVB5z+taoVmMrDoP7hFu22s2Ow/enSmmb206j8cipfg4ejoP0qavadTLu0/AtHbGtTH6T9AYZXwUzHoP3qYO3IZy+s/IroSsmCr5z8riuqb5KLoPwr9g1zDYug/Br8EiSuo6D9MT5ZkcWzoP2hPgAUMv+k/IkJoOOwb5D9mEZCE+bznP73Cn62SR+g/X+e6FRTc5z+o2EelU17qP3IJ0/GwuOg/kfJdsXZ56D/us4eQiy/hP7cIE6LSG+g/H64q/DpU5z9WHBtBWt7nP5v7s8rXPOo/ZNcJaGn/4z8=",
          "dtype": "f8"
         },
         "xaxis": "x4",
         "y": {
          "bdata": "iyqLY3sB2D9ojaJMyfbaP0HgI5pjSdc/hsMOn3tm1T811Pe4oLrYP8d5lSeiX9g/x2fAQ47V2z+xfflYjSfYPyr+yIRGLtU/nG2MQofa2D8H25fGeJjYP6VppTyeL9s/6kJAABpE2T+JJErRrFnZP6eL2CPLits/Fbi5V/ZW2T9AIZfUUVXZP2sZaijodto/Tor0CZ5Q1z9WLjW83dnXP2ybyeqR/to/hbsJzJMh2D/g7i1GRA7ZPxkgIwNkLtc/CyujFOpE2D94tSyX5JHaP/OatGqo+to/PBY0d28K2T9crBT2OpvQP3f/K1d1FNM/k0jxb8Ut2T8Xr6wVJErZP2v8h7nMNtw/Mc+tu4wO0z9Zskky23TZP96oViAxJdc/M58VvcPC0j9OwFMBHhPUPw2Kg9ynJdo/bFT5xqbs1j8iviNxhB7UP1o5iBEj4sc//b3tydXJ2T9+aDQ564HaPwJTZvxnVdo/jTVFNw3B1j+F30P3wmvQP6b3ZFCB8tM/Rs5VaBBA1z+4UFToMorUP1YY8QLGG9o/N5cvBgUm2j/5pQSw2SbaP4fjYdMsxds/MC7elS582D+I/+91fVDVPw0fLQdxotc/J+2pfNI42j+OwVf2morIPzuJat/qht4/GaNNyYc92z9YsyIDN7LYP5hmMTpFxNU/pWIeOc/B2j/bNJLc4GnXP9N1wjc1ddY/5ry+4tZz1z8o8ORp2yTWPxggCNHd79I/zoPDNOVu1z8+CNw6Xx/cP74cvk8NNNk//mItPGNL2j/6q8PWFGTZP9EU0LGro8w/LthszuR90j8EvVK+c77WP8vpdDSsRcU/YKTbfr8l2D+cp2b1ObzaP/V3XsibO9E/uri/5tPx2z/YFYGbQMfYPzaDfViRX9o/LxkekteP2j/bFPLliG7WP9lMoxFHCdc/XapQwAJ02j9DTPerIHjZPxEpl2q4DNo/uw66nfIO2j/sCAh/I1/UP7S/g2MLstc/RdVk8KbP2D/WyNrlaQXYP+3YOlrRGNY/ke3+Bdm32j/1eJdBoI3ZP87dQylkL9U/ooOSR4f62j8=",
          "dtype": "f8"
         },
         "yaxis": "y4"
        },
        {
         "hovertemplate": "Entropy: %{x}<br>Complexity: %{y}<br>File: %{text}<extra></extra>",
         "marker": {
          "color": {
           "bdata": "sauOiVnh3D82S21gF9PdP7HTTEAp5N0/tnWfjE2j3D8xgD4cz/TcP/ckyQidGt4/MUPHDV0F3z+/kwfsa1zdP18Qv6dyLts/Vhm6tPqg3D+SwB+r1+bcP/G/swkNM+A/7J5bZOlv3z9jJWMCJLDeP6ruje/HHuA/f4wLq3dP3j8up3YcuNfePwVcNicxbt4/o+GgV5Ag3T/d+os9nBLeP9ojd0lXqd4/Ve1hgYnc3T+14t/8BY7ePzYxTZKBiN0/l70oXU+E3j+YTmAeQG/ePzIqHEf0K+A/UrOEDzbg3j+G/STjqA3YP/uPYRaRHNo/FYYyfM0z3z+Z+erZMNLeP2xpbeMEUN8/pUwmGZTE2j/eDS+GzGrfP2k+GYzqdd0/PHBZTBw22T9FPhEI2oHaPxTfkMpHkd8/craGeVV53T91BAk/E9/YPyn9VXGaNtQ/HQXh/8lb3j954PDC8EneP1Nj0Hlm3N8/7iLOICFa3T9fuoxoUXTYP8ppKgw5eNs/5nu9MpEo3T9dl7HS033aP2wD5fXVh98/K9eGt4i53z8mKPdwKtXfP0JFYcIHA+A/zgDY16KG3D84KGEauRzbP/QADiTEJd0/gMJsRdKJ3z/BOOrZq4jUP099kArnouA/fs47bX5F4D9V/2KtRoveP7ToEpExodw/arLGXSvy3z8xGp7ky7/dP2/dgXeEXd0/4m7u60nI3D+kraaLWe/cP1075nT+n9o/06ApNTPY3T/18KMr6V3gP3ofO7LBKN8/G8o6tAad3z+tf1HOHkHfP4sIxnVYPNY/lY72yrEk2j/lGk2RhoLdPxbglupuNNM/fk3emMeG3j/TPF9adSngPwdG9z0x5dg/nFhfgzmS4D9ZSbfilKveP3+q46WjAuA/8u6s174m4D9N7GjXtcbcP3RCThivft0/F0jCY9VH3j+dCK8vojHfP0lctN6Bpd8/Yl8zoZaA3z9TbhoFCpXbPzQ0UO18MN4/z+xHO6ON3j8Iqr1jJILaP2MDSyknn9w/0wJZLJry3z/2Q91rBRjfP3L6IiypLtw/EXI7KrWb3j8=",
           "dtype": "f8"
          },
          "colorscale": [
           [
            0,
            "#0508b8"
           ],
           [
            0.08333333333333333,
            "#1910d8"
           ],
           [
            0.16666666666666666,
            "#3c19f0"
           ],
           [
            0.25,
            "#6b1cfb"
           ],
           [
            0.3333333333333333,
            "#981cfd"
           ],
           [
            0.4166666666666667,
            "#bf1cfd"
           ],
           [
            0.5,
            "#dd2bfd"
           ],
           [
            0.5833333333333334,
            "#f246fe"
           ],
           [
            0.6666666666666666,
            "#fc67fd"
           ],
           [
            0.75,
            "#fe88fc"
           ],
           [
            0.8333333333333334,
            "#fea5fd"
           ],
           [
            0.9166666666666666,
            "#febefe"
           ],
           [
            1,
            "#fec3fe"
           ]
          ],
          "size": 10
         },
         "mode": "markers",
         "name": "Dim = 8, Hop = 7",
         "showlegend": true,
         "text": [
          "rock.00011.wav",
          "rock.00005.wav",
          "rock.00039.wav",
          "rock.00038.wav",
          "rock.00004.wav",
          "rock.00010.wav",
          "rock.00006.wav",
          "rock.00012.wav",
          "rock.00013.wav",
          "rock.00007.wav",
          "rock.00003.wav",
          "rock.00017.wav",
          "rock.00016.wav",
          "rock.00002.wav",
          "rock.00028.wav",
          "rock.00014.wav",
          "rock.00000.wav",
          "rock.00001.wav",
          "rock.00015.wav",
          "rock.00029.wav",
          "rock.00099.wav",
          "rock.00072.wav",
          "rock.00066.wav",
          "rock.00067.wav",
          "rock.00073.wav",
          "rock.00098.wav",
          "rock.00065.wav",
          "rock.00071.wav",
          "rock.00059.wav",
          "rock.00058.wav",
          "rock.00070.wav",
          "rock.00064.wav",
          "rock.00048.wav",
          "rock.00060.wav",
          "rock.00074.wav",
          "rock.00075.wav",
          "rock.00061.wav",
          "rock.00049.wav",
          "rock.00088.wav",
          "rock.00077.wav",
          "rock.00063.wav",
          "rock.00062.wav",
          "rock.00076.wav",
          "rock.00089.wav",
          "rock.00090.wav",
          "rock.00084.wav",
          "rock.00053.wav",
          "rock.00047.wav",
          "rock.00046.wav",
          "rock.00052.wav",
          "rock.00085.wav",
          "rock.00091.wav",
          "rock.00087.wav",
          "rock.00093.wav",
          "rock.00044.wav",
          "rock.00050.wav",
          "rock.00078.wav",
          "rock.00079.wav",
          "rock.00051.wav",
          "rock.00045.wav",
          "rock.00092.wav",
          "rock.00086.wav",
          "rock.00082.wav",
          "rock.00096.wav",
          "rock.00069.wav",
          "rock.00041.wav",
          "rock.00055.wav",
          "rock.00054.wav",
          "rock.00040.wav",
          "rock.00068.wav",
          "rock.00097.wav",
          "rock.00083.wav",
          "rock.00095.wav",
          "rock.00081.wav",
          "rock.00056.wav",
          "rock.00042.wav",
          "rock.00043.wav",
          "rock.00057.wav",
          "rock.00080.wav",
          "rock.00094.wav",
          "rock.00030.wav",
          "rock.00024.wav",
          "rock.00018.wav",
          "rock.00019.wav",
          "rock.00025.wav",
          "rock.00031.wav",
          "rock.00027.wav",
          "rock.00033.wav",
          "rock.00032.wav",
          "rock.00026.wav",
          "rock.00022.wav",
          "rock.00036.wav",
          "rock.00037.wav",
          "rock.00023.wav",
          "rock.00009.wav",
          "rock.00035.wav",
          "rock.00021.wav",
          "rock.00020.wav",
          "rock.00034.wav",
          "rock.00008.wav"
         ],
         "type": "scatter",
         "x": {
          "bdata": "RLao510g5T+UBzusuN7hP2JCHIMfgOc/JxlqQKU/6T92SEwdUD/kP6ifbqYoYec/RA1PAD/84j/erUg/lzfmP93pjGH26ec/KaHePz+k4j//Z5Rp0AbkP3KJFx31COc/1r/j0ZKG6D/D97T15pjmP90G+DvlcOU/EKQCktxM5j8hpJtNBRnnP2FzUjXM6+M/QgCtBtNE5z8vh2diyM3oP7aLsASRt+M//jZ2tw1w5z9k1zNab2DnPwWhgsGv+Og/ewLfTEHH6D+T7nYn59XjP4gZSUg/WOc/+hCox8fh5z/sZORtTPrnP8hm1MdsR+c/sM1loE7/6D+Ba0eGKUPnPydFERua7+I/AAbU4LPl6D98n1wapp7oP6sXCBQ4Euk/WnaKpb8M5j+FivSFYtrmP29JLtskYec/Il1jhqcZ6T8ue/61quLiP5x035HM6Oo/+WfLrxE45T809EaYyLHjP0rwgg2crec/mmoKcwQJ6T+4gv1GzFzrP+Tb/Kub9ek/oEIytymS5j9O+Gxt5YXlP7/vcOv3EOc/WUPGRauM5z/OJsmHTmHnP3R0ebeO0eQ/StjvqZr24j9Z92xXYLnlPxF1QpbTzuY/zw0vSj8C5z93fUsZbuzrP2hSP8TeHeM/MSswBCA95z8AURi0DqvnP0qLSg8hUeo///oeBTp05j/Bu8uoeT3pP2yWhuR4POg/3TurqGml5D/F2R1iLNPnP0iGytCzLOo/AtngSqd/6T9M5+W6hezlP8EdtSMFPOg/fjigMruf5j+Em69UDwLoP+Ynz2ScG+w/IuBX/XbX6T9fI+WPPSPoP1+jUBOdJew/I2Teqgsa6T+PTaVEGannP/StDcam1eo/D/8SGxUw5z9ZveY05PTnP0nnXeRmyec/0hrxi6wj6D/Steh+OJnnP9PNjYmgEek/ZC9xgEFy4z8O/Dx2EB3nP0nVOCDLpOc/ndI/JJcy5z9lgH1mu5fpP7UjXaXRCeg/HtRsJkDF5z+XzwCRO2TgPwMovlZBNec/+RdE6OSj5j8cTs25Fy3nP/bBuIr+hOk/FOr7IgdV4z8=",
          "dtype": "f8"
         },
         "xaxis": "x5",
         "y": {
          "bdata": "sauOiVnh3D82S21gF9PdP7HTTEAp5N0/tnWfjE2j3D8xgD4cz/TcP/ckyQidGt4/MUPHDV0F3z+/kwfsa1zdP18Qv6dyLts/Vhm6tPqg3D+SwB+r1+bcP/G/swkNM+A/7J5bZOlv3z9jJWMCJLDeP6ruje/HHuA/f4wLq3dP3j8up3YcuNfePwVcNicxbt4/o+GgV5Ag3T/d+os9nBLeP9ojd0lXqd4/Ve1hgYnc3T+14t/8BY7ePzYxTZKBiN0/l70oXU+E3j+YTmAeQG/ePzIqHEf0K+A/UrOEDzbg3j+G/STjqA3YP/uPYRaRHNo/FYYyfM0z3z+Z+erZMNLeP2xpbeMEUN8/pUwmGZTE2j/eDS+GzGrfP2k+GYzqdd0/PHBZTBw22T9FPhEI2oHaPxTfkMpHkd8/craGeVV53T91BAk/E9/YPyn9VXGaNtQ/HQXh/8lb3j954PDC8EneP1Nj0Hlm3N8/7iLOICFa3T9fuoxoUXTYP8ppKgw5eNs/5nu9MpEo3T9dl7HS033aP2wD5fXVh98/K9eGt4i53z8mKPdwKtXfP0JFYcIHA+A/zgDY16KG3D84KGEauRzbP/QADiTEJd0/gMJsRdKJ3z/BOOrZq4jUP099kArnouA/fs47bX5F4D9V/2KtRoveP7ToEpExodw/arLGXSvy3z8xGp7ky7/dP2/dgXeEXd0/4m7u60nI3D+kraaLWe/cP1075nT+n9o/06ApNTPY3T/18KMr6V3gP3ofO7LBKN8/G8o6tAad3z+tf1HOHkHfP4sIxnVYPNY/lY72yrEk2j/lGk2RhoLdPxbglupuNNM/fk3emMeG3j/TPF9adSngPwdG9z0x5dg/nFhfgzmS4D9ZSbfilKveP3+q46WjAuA/8u6s174m4D9N7GjXtcbcP3RCThivft0/F0jCY9VH3j+dCK8vojHfP0lctN6Bpd8/Yl8zoZaA3z9TbhoFCpXbPzQ0UO18MN4/z+xHO6ON3j8Iqr1jJILaP2MDSyknn9w/0wJZLJry3z/2Q91rBRjfP3L6IiypLtw/EXI7KrWb3j8=",
          "dtype": "f8"
         },
         "yaxis": "y5"
        },
        {
         "hovertemplate": "Entropy: %{x}<br>Complexity: %{y}<br>File: %{text}<extra></extra>",
         "marker": {
          "color": {
           "bdata": "4SgqNdIu4T8ppJ96UgrgP23gOoRCzOI/8Wb1sKcn4z9nDoyj0LvgP+UhJM6qiuI/PFR3rhzd4D8WiUhCl9LhP8NePad45+E/qt1Kdb3+3z/yQAiaOK3gP9TRHnI5F+M/+/eTkzZs4z92GfK24VviP+8fniDAZeI/nXnlW6gN4j83jkeVt6DiP9wnl/i3G+E/Ma0at39K4j/kMoLKwyvjP4IuuwIUEeE/qVMpefJ/4j9cs517DbbiP2v/3q4zHOM/GzXZYGQ34z+c4pMFLQ3hP037DLPtJOM/1Gs7fqD64j9NYwFRyqfhPxwGIhU4y+E/vmyZytds4z9sWINtwrriP1dFv5a78+A/276c1ru64j9RGqPyQVvjPxCKTkfnBeM/oE0CGfbP4D+/Zq1nJJrhP7etuPebBOM/2hd4wKIq4z82DqjLGGXeP9bU1wIFPOI/IAMS1cGj4T8KEJdxmvTgP+5Zh/KnAOM/DuAmJQAU4z+HKw+PTBvjPzEFtVs6QeM/Qe9Zzy4i4j9bdPe/8/DgP0Rs9p4i2OI/XrKXHMAl4z82v3QuPRrjP8BlHm8cC+I/PwiEo4Ix4D9quVtAvxfhP8ecr/T2CuI/4v804bjB4j+rzVq8nYriP6CuRj8JlOE/HzrIayY14z+/TJvFA+ziPz4JpIeQYuM/ybZeQ5Gx4j/4FS+npzbjPzibD4vm/eI/0K+OYPca4T+vsBpWna3iP+fPcKmzMeM/Hhbt8vVd4z8XFbpVfrfiP3OTxOM4JuM/nYScAQKx4j8jQXuufhrjP6uxy2q11eI/Z+CCQfXq4j/ZQOmWv/TiP3qEn40HhuI//2tZMOph4z9JSX7Bb1jjPxdKdlxXzuI/OqbRuohS4z/HVTAaWwTjP6xeIRtBQ+M/lCTq4R9/4z/i1YT+GH3iPz8Lz3UgLeM/3hFjJarg4D9JOwAoH9riPwxhgppeHOM/6oCNKYbk4j8uQg/XJRPjPxaiO6RNHOM/1l4gMbTN4j8BY4dFj8HcP/CY4IwtSOI/BLrpu9vE4j/ewosps8DiP0x0e6UaKeM/Saz5iEDz4D8=",
           "dtype": "f8"
          },
          "colorscale": [
           [
            0,
            "#0508b8"
           ],
           [
            0.08333333333333333,
            "#1910d8"
           ],
           [
            0.16666666666666666,
            "#3c19f0"
           ],
           [
            0.25,
            "#6b1cfb"
           ],
           [
            0.3333333333333333,
            "#981cfd"
           ],
           [
            0.4166666666666667,
            "#bf1cfd"
           ],
           [
            0.5,
            "#dd2bfd"
           ],
           [
            0.5833333333333334,
            "#f246fe"
           ],
           [
            0.6666666666666666,
            "#fc67fd"
           ],
           [
            0.75,
            "#fe88fc"
           ],
           [
            0.8333333333333334,
            "#fea5fd"
           ],
           [
            0.9166666666666666,
            "#febefe"
           ],
           [
            1,
            "#fec3fe"
           ]
          ],
          "size": 10
         },
         "mode": "markers",
         "name": "Dim = 9, Hop = 8",
         "showlegend": true,
         "text": [
          "rock.00011.wav",
          "rock.00005.wav",
          "rock.00039.wav",
          "rock.00038.wav",
          "rock.00004.wav",
          "rock.00010.wav",
          "rock.00006.wav",
          "rock.00012.wav",
          "rock.00013.wav",
          "rock.00007.wav",
          "rock.00003.wav",
          "rock.00017.wav",
          "rock.00016.wav",
          "rock.00002.wav",
          "rock.00028.wav",
          "rock.00014.wav",
          "rock.00000.wav",
          "rock.00001.wav",
          "rock.00015.wav",
          "rock.00029.wav",
          "rock.00099.wav",
          "rock.00072.wav",
          "rock.00066.wav",
          "rock.00067.wav",
          "rock.00073.wav",
          "rock.00098.wav",
          "rock.00065.wav",
          "rock.00071.wav",
          "rock.00059.wav",
          "rock.00058.wav",
          "rock.00070.wav",
          "rock.00064.wav",
          "rock.00048.wav",
          "rock.00060.wav",
          "rock.00074.wav",
          "rock.00075.wav",
          "rock.00061.wav",
          "rock.00049.wav",
          "rock.00088.wav",
          "rock.00077.wav",
          "rock.00063.wav",
          "rock.00062.wav",
          "rock.00076.wav",
          "rock.00089.wav",
          "rock.00090.wav",
          "rock.00084.wav",
          "rock.00053.wav",
          "rock.00047.wav",
          "rock.00046.wav",
          "rock.00052.wav",
          "rock.00085.wav",
          "rock.00091.wav",
          "rock.00087.wav",
          "rock.00093.wav",
          "rock.00044.wav",
          "rock.00050.wav",
          "rock.00078.wav",
          "rock.00079.wav",
          "rock.00051.wav",
          "rock.00045.wav",
          "rock.00092.wav",
          "rock.00086.wav",
          "rock.00082.wav",
          "rock.00096.wav",
          "rock.00069.wav",
          "rock.00041.wav",
          "rock.00055.wav",
          "rock.00054.wav",
          "rock.00040.wav",
          "rock.00068.wav",
          "rock.00097.wav",
          "rock.00083.wav",
          "rock.00095.wav",
          "rock.00081.wav",
          "rock.00056.wav",
          "rock.00042.wav",
          "rock.00043.wav",
          "rock.00057.wav",
          "rock.00080.wav",
          "rock.00094.wav",
          "rock.00030.wav",
          "rock.00024.wav",
          "rock.00018.wav",
          "rock.00019.wav",
          "rock.00025.wav",
          "rock.00031.wav",
          "rock.00027.wav",
          "rock.00033.wav",
          "rock.00032.wav",
          "rock.00026.wav",
          "rock.00022.wav",
          "rock.00036.wav",
          "rock.00037.wav",
          "rock.00023.wav",
          "rock.00009.wav",
          "rock.00035.wav",
          "rock.00021.wav",
          "rock.00020.wav",
          "rock.00034.wav",
          "rock.00008.wav"
         ],
         "type": "scatter",
         "x": {
          "bdata": "IoGvd33X4z/ksDi00jfhP2X23bJwSOY/Bkd4C2vc5z+kGtoJ0BfjP2q+KzRxF+Y/A6EVuRdR4j/PJqgFK/vkP535Uui/HOY/8IZgTdys4T9x27ofR+riP7Sc6AxnIuY/AGQPvJFr5z/l+h62VX/lPyB6LcSrreQ/54JjH8kl5T+rYkNlpP7lPy2U5BN9DeM/QGTix8zw5T+l+qbGJornP4rXMW7Y7uI/IFbCqQUk5j88BUfKFDTmPw4P0D/NnOc/+GfegwuM5z++k0/hUfDiPxSXeTfhYeY/rnJ2QB675j8CecZuYO7lP3FTCXYQlOU/iYQ/1dPe5z/g/v3I3RzmP2AEi8QWXOI/+jKQRjNH5z8UgpQDJHHnP+oBG5wNqOc/F7Kp2YU85D/hpEJ4JTjlPy01zkBwZ+Y/Xa7CBpyy5z8T9V1oXWfhP0KoIOc7b+g/GCt7H6Ms5D9dXvjM89TiPzzXBoVZmuY/bqvQHuOp5z/yDZ1up5LpP1SwnJ84eeg/wXnEQ+hO5T92x7qgPvTjP1W7tpDg/OU/pWiTzPaH5j/hac0XTWTmP1CXFPBmGuQ/bYS0a5kC4j/cWN2hUjrkP/ZUXmcpc+U/AmjmDMfu5T9r5rKxe5PpP1B2zi8rseI/hpbbTydb5j//cMDEAoPmP5a9rEXK2ug/MWYvAuSE5T8N891x3N/nP1bYx5a49+Y/p1qnXk+A4z+WArxOon7mPyg2RrEbkeg/XFkuc90s6D/ETYYlyivlP9WcRnpuDOc/6rQ/f8qf5T9GsKyWXtvmPyyI3eW5FOo/9FFnMREn6D+rpHWvKdbmP1knmCBsuOk/15absGrW5z+eaQhf6b7mP0EBQTh63Og/pT8PJ8Zi5j+SAvBriMXmP3H+lSgE0uY/cHi7N7Ej5z+aBrFBmzbmP0K0gNRsvOc/9Rp8e2Cj4j+EWzfKzhbmPxnhlQMrmuY/fSYRrUse5j9L3P6zDhPoPya+QWAp3+Y/EYHLOBmO5j/vtcLwYiXfPy1EwWykz+U/3hMhE+Kl5T/qiFahUwTmPxP8VMhoHOg/GoMuTceb4j8=",
          "dtype": "f8"
         },
         "xaxis": "x6",
         "y": {
          "bdata": "4SgqNdIu4T8ppJ96UgrgP23gOoRCzOI/8Wb1sKcn4z9nDoyj0LvgP+UhJM6qiuI/PFR3rhzd4D8WiUhCl9LhP8NePad45+E/qt1Kdb3+3z/yQAiaOK3gP9TRHnI5F+M/+/eTkzZs4z92GfK24VviP+8fniDAZeI/nXnlW6gN4j83jkeVt6DiP9wnl/i3G+E/Ma0at39K4j/kMoLKwyvjP4IuuwIUEeE/qVMpefJ/4j9cs517DbbiP2v/3q4zHOM/GzXZYGQ34z+c4pMFLQ3hP037DLPtJOM/1Gs7fqD64j9NYwFRyqfhPxwGIhU4y+E/vmyZytds4z9sWINtwrriP1dFv5a78+A/276c1ru64j9RGqPyQVvjPxCKTkfnBeM/oE0CGfbP4D+/Zq1nJJrhP7etuPebBOM/2hd4wKIq4z82DqjLGGXeP9bU1wIFPOI/IAMS1cGj4T8KEJdxmvTgP+5Zh/KnAOM/DuAmJQAU4z+HKw+PTBvjPzEFtVs6QeM/Qe9Zzy4i4j9bdPe/8/DgP0Rs9p4i2OI/XrKXHMAl4z82v3QuPRrjP8BlHm8cC+I/PwiEo4Ix4D9quVtAvxfhP8ecr/T2CuI/4v804bjB4j+rzVq8nYriP6CuRj8JlOE/HzrIayY14z+/TJvFA+ziPz4JpIeQYuM/ybZeQ5Gx4j/4FS+npzbjPzibD4vm/eI/0K+OYPca4T+vsBpWna3iP+fPcKmzMeM/Hhbt8vVd4z8XFbpVfrfiP3OTxOM4JuM/nYScAQKx4j8jQXuufhrjP6uxy2q11eI/Z+CCQfXq4j/ZQOmWv/TiP3qEn40HhuI//2tZMOph4z9JSX7Bb1jjPxdKdlxXzuI/OqbRuohS4z/HVTAaWwTjP6xeIRtBQ+M/lCTq4R9/4z/i1YT+GH3iPz8Lz3UgLeM/3hFjJarg4D9JOwAoH9riPwxhgppeHOM/6oCNKYbk4j8uQg/XJRPjPxaiO6RNHOM/1l4gMbTN4j8BY4dFj8HcP/CY4IwtSOI/BLrpu9vE4j/ewosps8DiP0x0e6UaKeM/Saz5iEDz4D8=",
          "dtype": "f8"
         },
         "yaxis": "y6"
        }
       ],
       "layout": {
        "annotations": [
         {
          "font": {
           "size": 16
          },
          "showarrow": false,
          "text": "Dim = '4', Hop = '3'",
          "x": 0.225,
          "xanchor": "center",
          "xref": "paper",
          "y": 1,
          "yanchor": "bottom",
          "yref": "paper"
         },
         {
          "font": {
           "size": 16
          },
          "showarrow": false,
          "text": "Dim = '5', Hop = '4'",
          "x": 0.775,
          "xanchor": "center",
          "xref": "paper",
          "y": 1,
          "yanchor": "bottom",
          "yref": "paper"
         },
         {
          "font": {
           "size": 16
          },
          "showarrow": false,
          "text": "Dim = '6', Hop = '5'",
          "x": 0.225,
          "xanchor": "center",
          "xref": "paper",
          "y": 0.6111111111111112,
          "yanchor": "bottom",
          "yref": "paper"
         },
         {
          "font": {
           "size": 16
          },
          "showarrow": false,
          "text": "Dim = '7', Hop = '6'",
          "x": 0.775,
          "xanchor": "center",
          "xref": "paper",
          "y": 0.6111111111111112,
          "yanchor": "bottom",
          "yref": "paper"
         },
         {
          "font": {
           "size": 16
          },
          "showarrow": false,
          "text": "Dim = '8', Hop = '7'",
          "x": 0.225,
          "xanchor": "center",
          "xref": "paper",
          "y": 0.22222222222222224,
          "yanchor": "bottom",
          "yref": "paper"
         },
         {
          "font": {
           "size": 16
          },
          "showarrow": false,
          "text": "Dim = '9', Hop = '8'",
          "x": 0.775,
          "xanchor": "center",
          "xref": "paper",
          "y": 0.22222222222222224,
          "yanchor": "bottom",
          "yref": "paper"
         }
        ],
        "height": 1400,
        "template": {
         "data": {
          "bar": [
           {
            "error_x": {
             "color": "#f2f5fa"
            },
            "error_y": {
             "color": "#f2f5fa"
            },
            "marker": {
             "line": {
              "color": "rgb(17,17,17)",
              "width": 0.5
             },
             "pattern": {
              "fillmode": "overlay",
              "size": 10,
              "solidity": 0.2
             }
            },
            "type": "bar"
           }
          ],
          "barpolar": [
           {
            "marker": {
             "line": {
              "color": "rgb(17,17,17)",
              "width": 0.5
             },
             "pattern": {
              "fillmode": "overlay",
              "size": 10,
              "solidity": 0.2
             }
            },
            "type": "barpolar"
           }
          ],
          "carpet": [
           {
            "aaxis": {
             "endlinecolor": "#A2B1C6",
             "gridcolor": "#506784",
             "linecolor": "#506784",
             "minorgridcolor": "#506784",
             "startlinecolor": "#A2B1C6"
            },
            "baxis": {
             "endlinecolor": "#A2B1C6",
             "gridcolor": "#506784",
             "linecolor": "#506784",
             "minorgridcolor": "#506784",
             "startlinecolor": "#A2B1C6"
            },
            "type": "carpet"
           }
          ],
          "choropleth": [
           {
            "colorbar": {
             "outlinewidth": 0,
             "ticks": ""
            },
            "type": "choropleth"
           }
          ],
          "contour": [
           {
            "colorbar": {
             "outlinewidth": 0,
             "ticks": ""
            },
            "colorscale": [
             [
              0,
              "#0d0887"
             ],
             [
              0.1111111111111111,
              "#46039f"
             ],
             [
              0.2222222222222222,
              "#7201a8"
             ],
             [
              0.3333333333333333,
              "#9c179e"
             ],
             [
              0.4444444444444444,
              "#bd3786"
             ],
             [
              0.5555555555555556,
              "#d8576b"
             ],
             [
              0.6666666666666666,
              "#ed7953"
             ],
             [
              0.7777777777777778,
              "#fb9f3a"
             ],
             [
              0.8888888888888888,
              "#fdca26"
             ],
             [
              1,
              "#f0f921"
             ]
            ],
            "type": "contour"
           }
          ],
          "contourcarpet": [
           {
            "colorbar": {
             "outlinewidth": 0,
             "ticks": ""
            },
            "type": "contourcarpet"
           }
          ],
          "heatmap": [
           {
            "colorbar": {
             "outlinewidth": 0,
             "ticks": ""
            },
            "colorscale": [
             [
              0,
              "#0d0887"
             ],
             [
              0.1111111111111111,
              "#46039f"
             ],
             [
              0.2222222222222222,
              "#7201a8"
             ],
             [
              0.3333333333333333,
              "#9c179e"
             ],
             [
              0.4444444444444444,
              "#bd3786"
             ],
             [
              0.5555555555555556,
              "#d8576b"
             ],
             [
              0.6666666666666666,
              "#ed7953"
             ],
             [
              0.7777777777777778,
              "#fb9f3a"
             ],
             [
              0.8888888888888888,
              "#fdca26"
             ],
             [
              1,
              "#f0f921"
             ]
            ],
            "type": "heatmap"
           }
          ],
          "histogram": [
           {
            "marker": {
             "pattern": {
              "fillmode": "overlay",
              "size": 10,
              "solidity": 0.2
             }
            },
            "type": "histogram"
           }
          ],
          "histogram2d": [
           {
            "colorbar": {
             "outlinewidth": 0,
             "ticks": ""
            },
            "colorscale": [
             [
              0,
              "#0d0887"
             ],
             [
              0.1111111111111111,
              "#46039f"
             ],
             [
              0.2222222222222222,
              "#7201a8"
             ],
             [
              0.3333333333333333,
              "#9c179e"
             ],
             [
              0.4444444444444444,
              "#bd3786"
             ],
             [
              0.5555555555555556,
              "#d8576b"
             ],
             [
              0.6666666666666666,
              "#ed7953"
             ],
             [
              0.7777777777777778,
              "#fb9f3a"
             ],
             [
              0.8888888888888888,
              "#fdca26"
             ],
             [
              1,
              "#f0f921"
             ]
            ],
            "type": "histogram2d"
           }
          ],
          "histogram2dcontour": [
           {
            "colorbar": {
             "outlinewidth": 0,
             "ticks": ""
            },
            "colorscale": [
             [
              0,
              "#0d0887"
             ],
             [
              0.1111111111111111,
              "#46039f"
             ],
             [
              0.2222222222222222,
              "#7201a8"
             ],
             [
              0.3333333333333333,
              "#9c179e"
             ],
             [
              0.4444444444444444,
              "#bd3786"
             ],
             [
              0.5555555555555556,
              "#d8576b"
             ],
             [
              0.6666666666666666,
              "#ed7953"
             ],
             [
              0.7777777777777778,
              "#fb9f3a"
             ],
             [
              0.8888888888888888,
              "#fdca26"
             ],
             [
              1,
              "#f0f921"
             ]
            ],
            "type": "histogram2dcontour"
           }
          ],
          "mesh3d": [
           {
            "colorbar": {
             "outlinewidth": 0,
             "ticks": ""
            },
            "type": "mesh3d"
           }
          ],
          "parcoords": [
           {
            "line": {
             "colorbar": {
              "outlinewidth": 0,
              "ticks": ""
             }
            },
            "type": "parcoords"
           }
          ],
          "pie": [
           {
            "automargin": true,
            "type": "pie"
           }
          ],
          "scatter": [
           {
            "marker": {
             "line": {
              "color": "#283442"
             }
            },
            "type": "scatter"
           }
          ],
          "scatter3d": [
           {
            "line": {
             "colorbar": {
              "outlinewidth": 0,
              "ticks": ""
             }
            },
            "marker": {
             "colorbar": {
              "outlinewidth": 0,
              "ticks": ""
             }
            },
            "type": "scatter3d"
           }
          ],
          "scattercarpet": [
           {
            "marker": {
             "colorbar": {
              "outlinewidth": 0,
              "ticks": ""
             }
            },
            "type": "scattercarpet"
           }
          ],
          "scattergeo": [
           {
            "marker": {
             "colorbar": {
              "outlinewidth": 0,
              "ticks": ""
             }
            },
            "type": "scattergeo"
           }
          ],
          "scattergl": [
           {
            "marker": {
             "line": {
              "color": "#283442"
             }
            },
            "type": "scattergl"
           }
          ],
          "scattermap": [
           {
            "marker": {
             "colorbar": {
              "outlinewidth": 0,
              "ticks": ""
             }
            },
            "type": "scattermap"
           }
          ],
          "scattermapbox": [
           {
            "marker": {
             "colorbar": {
              "outlinewidth": 0,
              "ticks": ""
             }
            },
            "type": "scattermapbox"
           }
          ],
          "scatterpolar": [
           {
            "marker": {
             "colorbar": {
              "outlinewidth": 0,
              "ticks": ""
             }
            },
            "type": "scatterpolar"
           }
          ],
          "scatterpolargl": [
           {
            "marker": {
             "colorbar": {
              "outlinewidth": 0,
              "ticks": ""
             }
            },
            "type": "scatterpolargl"
           }
          ],
          "scatterternary": [
           {
            "marker": {
             "colorbar": {
              "outlinewidth": 0,
              "ticks": ""
             }
            },
            "type": "scatterternary"
           }
          ],
          "surface": [
           {
            "colorbar": {
             "outlinewidth": 0,
             "ticks": ""
            },
            "colorscale": [
             [
              0,
              "#0d0887"
             ],
             [
              0.1111111111111111,
              "#46039f"
             ],
             [
              0.2222222222222222,
              "#7201a8"
             ],
             [
              0.3333333333333333,
              "#9c179e"
             ],
             [
              0.4444444444444444,
              "#bd3786"
             ],
             [
              0.5555555555555556,
              "#d8576b"
             ],
             [
              0.6666666666666666,
              "#ed7953"
             ],
             [
              0.7777777777777778,
              "#fb9f3a"
             ],
             [
              0.8888888888888888,
              "#fdca26"
             ],
             [
              1,
              "#f0f921"
             ]
            ],
            "type": "surface"
           }
          ],
          "table": [
           {
            "cells": {
             "fill": {
              "color": "#506784"
             },
             "line": {
              "color": "rgb(17,17,17)"
             }
            },
            "header": {
             "fill": {
              "color": "#2a3f5f"
             },
             "line": {
              "color": "rgb(17,17,17)"
             }
            },
            "type": "table"
           }
          ]
         },
         "layout": {
          "annotationdefaults": {
           "arrowcolor": "#f2f5fa",
           "arrowhead": 0,
           "arrowwidth": 1
          },
          "autotypenumbers": "strict",
          "coloraxis": {
           "colorbar": {
            "outlinewidth": 0,
            "ticks": ""
           }
          },
          "colorscale": {
           "diverging": [
            [
             0,
             "#8e0152"
            ],
            [
             0.1,
             "#c51b7d"
            ],
            [
             0.2,
             "#de77ae"
            ],
            [
             0.3,
             "#f1b6da"
            ],
            [
             0.4,
             "#fde0ef"
            ],
            [
             0.5,
             "#f7f7f7"
            ],
            [
             0.6,
             "#e6f5d0"
            ],
            [
             0.7,
             "#b8e186"
            ],
            [
             0.8,
             "#7fbc41"
            ],
            [
             0.9,
             "#4d9221"
            ],
            [
             1,
             "#276419"
            ]
           ],
           "sequential": [
            [
             0,
             "#0d0887"
            ],
            [
             0.1111111111111111,
             "#46039f"
            ],
            [
             0.2222222222222222,
             "#7201a8"
            ],
            [
             0.3333333333333333,
             "#9c179e"
            ],
            [
             0.4444444444444444,
             "#bd3786"
            ],
            [
             0.5555555555555556,
             "#d8576b"
            ],
            [
             0.6666666666666666,
             "#ed7953"
            ],
            [
             0.7777777777777778,
             "#fb9f3a"
            ],
            [
             0.8888888888888888,
             "#fdca26"
            ],
            [
             1,
             "#f0f921"
            ]
           ],
           "sequentialminus": [
            [
             0,
             "#0d0887"
            ],
            [
             0.1111111111111111,
             "#46039f"
            ],
            [
             0.2222222222222222,
             "#7201a8"
            ],
            [
             0.3333333333333333,
             "#9c179e"
            ],
            [
             0.4444444444444444,
             "#bd3786"
            ],
            [
             0.5555555555555556,
             "#d8576b"
            ],
            [
             0.6666666666666666,
             "#ed7953"
            ],
            [
             0.7777777777777778,
             "#fb9f3a"
            ],
            [
             0.8888888888888888,
             "#fdca26"
            ],
            [
             1,
             "#f0f921"
            ]
           ]
          },
          "colorway": [
           "#636efa",
           "#EF553B",
           "#00cc96",
           "#ab63fa",
           "#FFA15A",
           "#19d3f3",
           "#FF6692",
           "#B6E880",
           "#FF97FF",
           "#FECB52"
          ],
          "font": {
           "color": "#f2f5fa"
          },
          "geo": {
           "bgcolor": "rgb(17,17,17)",
           "lakecolor": "rgb(17,17,17)",
           "landcolor": "rgb(17,17,17)",
           "showlakes": true,
           "showland": true,
           "subunitcolor": "#506784"
          },
          "hoverlabel": {
           "align": "left"
          },
          "hovermode": "closest",
          "mapbox": {
           "style": "dark"
          },
          "paper_bgcolor": "rgb(17,17,17)",
          "plot_bgcolor": "rgb(17,17,17)",
          "polar": {
           "angularaxis": {
            "gridcolor": "#506784",
            "linecolor": "#506784",
            "ticks": ""
           },
           "bgcolor": "rgb(17,17,17)",
           "radialaxis": {
            "gridcolor": "#506784",
            "linecolor": "#506784",
            "ticks": ""
           }
          },
          "scene": {
           "xaxis": {
            "backgroundcolor": "rgb(17,17,17)",
            "gridcolor": "#506784",
            "gridwidth": 2,
            "linecolor": "#506784",
            "showbackground": true,
            "ticks": "",
            "zerolinecolor": "#C8D4E3"
           },
           "yaxis": {
            "backgroundcolor": "rgb(17,17,17)",
            "gridcolor": "#506784",
            "gridwidth": 2,
            "linecolor": "#506784",
            "showbackground": true,
            "ticks": "",
            "zerolinecolor": "#C8D4E3"
           },
           "zaxis": {
            "backgroundcolor": "rgb(17,17,17)",
            "gridcolor": "#506784",
            "gridwidth": 2,
            "linecolor": "#506784",
            "showbackground": true,
            "ticks": "",
            "zerolinecolor": "#C8D4E3"
           }
          },
          "shapedefaults": {
           "line": {
            "color": "#f2f5fa"
           }
          },
          "sliderdefaults": {
           "bgcolor": "#C8D4E3",
           "bordercolor": "rgb(17,17,17)",
           "borderwidth": 1,
           "tickwidth": 0
          },
          "ternary": {
           "aaxis": {
            "gridcolor": "#506784",
            "linecolor": "#506784",
            "ticks": ""
           },
           "baxis": {
            "gridcolor": "#506784",
            "linecolor": "#506784",
            "ticks": ""
           },
           "bgcolor": "rgb(17,17,17)",
           "caxis": {
            "gridcolor": "#506784",
            "linecolor": "#506784",
            "ticks": ""
           }
          },
          "title": {
           "x": 0.05
          },
          "updatemenudefaults": {
           "bgcolor": "#506784",
           "borderwidth": 0
          },
          "xaxis": {
           "automargin": true,
           "gridcolor": "#283442",
           "linecolor": "#506784",
           "ticks": "",
           "title": {
            "standoff": 15
           },
           "zerolinecolor": "#283442",
           "zerolinewidth": 2
          },
          "yaxis": {
           "automargin": true,
           "gridcolor": "#283442",
           "linecolor": "#506784",
           "ticks": "",
           "title": {
            "standoff": 15
           },
           "zerolinecolor": "#283442",
           "zerolinewidth": 2
          }
         }
        },
        "title": {
         "text": "Combined Entropy–Complexity Plots for Folder data/genres_30sec/rock"
        },
        "width": 1200,
        "xaxis": {
         "anchor": "y",
         "domain": [
          0,
          0.45
         ],
         "range": [
          0,
          1
         ]
        },
        "xaxis2": {
         "anchor": "y2",
         "domain": [
          0.55,
          1
         ],
         "range": [
          0,
          1
         ]
        },
        "xaxis3": {
         "anchor": "y3",
         "domain": [
          0,
          0.45
         ],
         "range": [
          0,
          1
         ]
        },
        "xaxis4": {
         "anchor": "y4",
         "domain": [
          0.55,
          1
         ],
         "range": [
          0,
          1
         ]
        },
        "xaxis5": {
         "anchor": "y5",
         "domain": [
          0,
          0.45
         ],
         "range": [
          0,
          1
         ]
        },
        "xaxis6": {
         "anchor": "y6",
         "domain": [
          0.55,
          1
         ],
         "range": [
          0,
          1
         ]
        },
        "yaxis": {
         "anchor": "x",
         "domain": [
          0.7777777777777778,
          1
         ],
         "range": [
          0,
          1
         ]
        },
        "yaxis2": {
         "anchor": "x2",
         "domain": [
          0.7777777777777778,
          1
         ],
         "range": [
          0,
          1
         ]
        },
        "yaxis3": {
         "anchor": "x3",
         "domain": [
          0.3888888888888889,
          0.6111111111111112
         ],
         "range": [
          0,
          1
         ]
        },
        "yaxis4": {
         "anchor": "x4",
         "domain": [
          0.3888888888888889,
          0.6111111111111112
         ],
         "range": [
          0,
          1
         ]
        },
        "yaxis5": {
         "anchor": "x5",
         "domain": [
          0,
          0.22222222222222224
         ],
         "range": [
          0,
          1
         ]
        },
        "yaxis6": {
         "anchor": "x6",
         "domain": [
          0,
          0.22222222222222224
         ],
         "range": [
          0,
          1
         ]
        }
       }
      }
     },
     "metadata": {},
     "output_type": "display_data"
    }
   ],
   "source": [
    "folder_path = \"data/genres_30sec/rock\"\n",
    "start = 4\n",
    "end = 10\n",
    "grid = 2\n",
    "folder = \"plots\"\n",
    "plot_graph(folder_path, start, end, grid, folder)"
   ]
  },
  {
   "cell_type": "markdown",
   "metadata": {},
   "source": [
    "# Create entropy complexity with ordpy\n"
   ]
  },
  {
   "cell_type": "code",
   "execution_count": null,
   "metadata": {},
   "outputs": [],
   "source": [
    "def ordpy_process_file(file_path, dim_size, hop_size):\n",
    "    ext = os.path.splitext(file_path)[1].lower()\n",
    "    if ext == '.mp3':\n",
    "        # Load mp3 using librosa.\n",
    "        # sr=None preserves the native sampling rate.\n",
    "        data, sr = librosa.load(file_path, sr=None, mono=True)\n",
    "        logger.info(f\"Processing MP3 '{file_path}' with sample rate: {sr}\")\n",
    "    elif ext == '.wav':\n",
    "        sr, data = wavfile.read(file_path)\n",
    "        logger.info(f\"Processing WAV '{file_path}' with sample rate: {sr}\")\n",
    "        # If stereo, convert to mono by averaging channels.\n",
    "        if data.ndim == 2:\n",
    "            data = data.mean(axis=1)\n",
    "    else:\n",
    "        logger.error(f\"Unsupported file extension: {ext}\")\n",
    "        raise ValueError(f\"Unsupported file extension: {ext}\")\n",
    "    \n",
    "    \n",
    "    HC = ordpy.complexity_entropy(data, dim_size, hop_size)\n",
    "    return HC\n",
    "\n",
    "\n",
    "def ordpy_process_folder(folder_path, dim_size=6, hop_size=1):\n",
    "    wav_files = glob.glob(os.path.join(folder_path, \"*.wav\"))\n",
    "    mp3_files = glob.glob(os.path.join(folder_path, \"*.mp3\"))\n",
    "    all_files = wav_files + mp3_files\n",
    "    \n",
    "    if not all_files:\n",
    "        logger.info(f\"No audio files found in {folder_path}\")\n",
    "        return [], [], []\n",
    "    \n",
    "    all_H = []\n",
    "    all_comp = []\n",
    "    file_labels = []\n",
    "    \n",
    "    # Use tqdm to add a progress bar over the file list.\n",
    "    for file_path in tqdm(all_files, desc=f\"Processing audio files in {folder_path} with dim {dim_size} and hop {hop_size}\"):\n",
    "        try:\n",
    "            H_norm, comp = ordpy_process_file(file_path, dim_size, hop_size)\n",
    "            all_H.append(H_norm)\n",
    "            all_comp.append(comp)\n",
    "            file_labels.append(os.path.basename(file_path))\n",
    "        except Exception as e:\n",
    "            logger.exception(f\"Error processing file {file_path}: {e}\")\n",
    "    \n",
    "    return all_H, all_comp, file_labels"
   ]
  },
  {
   "cell_type": "code",
   "execution_count": null,
   "metadata": {},
   "outputs": [],
   "source": [
    "\n",
    "def plot_graph_ordpy(folder_path, dim, hop, folder=\"plots\"):\n",
    "    logger.info(f\"Processing folder {folder_path}\")\n",
    "    \n",
    "    # Process the folder to get entropy, complexity, and file labels.\n",
    "    all_H, all_comp, file_labels = ordpy_process_folder(folder_path, dim, hop)\n",
    "    df = pd.DataFrame({\n",
    "        \"Normalized Permutation Entropy\": all_H,\n",
    "        \"Normalized Complexity\": all_comp,\n",
    "        \"File\": file_labels\n",
    "    })\n",
    "\n",
    "    # Get the maximum and minimum complexity-entropy boundaries as numpy arrays\n",
    "    max_HC = ordpy.maximum_complexity_entropy(dim, hop)\n",
    "    min_HC = ordpy.minimum_complexity_entropy(dim, hop)\n",
    "\n",
    "    # -------------------------\n",
    "    # Matplotlib Plot Section\n",
    "    # -------------------------\n",
    "    plt.figure(figsize=(8, 6))\n",
    "    # Plot the data points without text labels.\n",
    "    plt.scatter(df[\"Normalized Permutation Entropy\"],\n",
    "                df[\"Normalized Complexity\"],\n",
    "                s=70,\n",
    "                c='blue',\n",
    "                edgecolors='black')\n",
    "\n",
    "    # Plot the maximum and minimum complexity boundaries if available.\n",
    "    if isinstance(max_HC, np.ndarray) and max_HC.ndim == 2 and max_HC.shape[1] == 2:\n",
    "        plt.plot(max_HC[:, 0], max_HC[:, 1], 'r--', label='Maximum Complexity Boundary')\n",
    "    else:\n",
    "        logger.warning(\"max_HC is not in the expected numpy array format.\")\n",
    "\n",
    "    if isinstance(min_HC, np.ndarray) and min_HC.ndim == 2 and min_HC.shape[1] == 2:\n",
    "        plt.plot(min_HC[:, 0], min_HC[:, 1], 'g--', label='Minimum Complexity Boundary')\n",
    "    else:\n",
    "        logger.warning(\"min_HC is not in the expected numpy array format.\")\n",
    "\n",
    "    plt.xlabel(\"Normalized Permutation Entropy\")\n",
    "    plt.ylabel(\"Normalized Complexity\")\n",
    "    plt.title(f\"Entropy–Complexity for {folder_path}\\nDim = '{dim}', Hop = '{hop}'\")\n",
    "    plt.xlim(0, 1)\n",
    "    plt.ylim(0, 1)\n",
    "    plt.grid(True, alpha=0.3)\n",
    "    plt.gca().set_aspect('equal', adjustable='box')\n",
    "    plt.legend()\n",
    "    plt.tight_layout()\n",
    "\n",
    "    output_dir = os.path.join(folder, os.path.basename(folder_path))\n",
    "    os.makedirs(output_dir, exist_ok=True)\n",
    "    output_file = os.path.join(output_dir, f\"entropy_complexity_{os.path.basename(folder_path)}_dim_{dim}_hop_{hop}.png\")\n",
    "    plt.savefig(output_file)\n",
    "    plt.close()\n",
    "    logger.info(f\"Saved Matplotlib plot to {output_file}\")\n",
    "\n",
    "    # -------------------------\n",
    "    # Plotly Plot Section\n",
    "    # -------------------------\n",
    "    fig = go.Figure()\n",
    "\n",
    "    # Add the data points as markers only. The file labels will appear when hovering.\n",
    "    fig.add_trace(go.Scatter(\n",
    "        x=df[\"Normalized Permutation Entropy\"],\n",
    "        y=df[\"Normalized Complexity\"],\n",
    "        mode='markers',  # Only markers, no text labels on the plot.\n",
    "        marker=dict(size=10, color='blue', line=dict(width=1, color='black')),\n",
    "        name='Data Points',\n",
    "        hovertext=df[\"File\"],\n",
    "        hovertemplate=(\n",
    "            \"<b>File:</b> %{hovertext}<br>\" +\n",
    "            \"<b>Entropy:</b> %{x}<br>\" +\n",
    "            \"<b>Complexity:</b> %{y}<extra></extra>\"\n",
    "        )\n",
    "    ))\n",
    "\n",
    "    # Add the maximum complexity boundary line if available.\n",
    "    if isinstance(max_HC, np.ndarray) and max_HC.ndim == 2 and max_HC.shape[1] == 2:\n",
    "        fig.add_trace(go.Scatter(\n",
    "            x=max_HC[:, 0],\n",
    "            y=max_HC[:, 1],\n",
    "            mode='lines',\n",
    "            line=dict(color='red', dash='dash'),\n",
    "            name='Maximum Complexity Boundary'\n",
    "        ))\n",
    "    else:\n",
    "        logger.warning(\"max_HC is not in the expected numpy array format.\")\n",
    "\n",
    "    # Add the minimum complexity boundary line if available.\n",
    "    if isinstance(min_HC, np.ndarray) and min_HC.ndim == 2 and min_HC.shape[1] == 2:\n",
    "        fig.add_trace(go.Scatter(\n",
    "            x=min_HC[:, 0],\n",
    "            y=min_HC[:, 1],\n",
    "            mode='lines',\n",
    "            line=dict(color='green', dash='dash'),\n",
    "            name='Minimum Complexity Boundary'\n",
    "        ))\n",
    "    else:\n",
    "        logger.warning(\"min_HC is not in the expected numpy array format.\")\n",
    "\n",
    "    # Update layout settings for the Plotly figure.\n",
    "    fig.update_layout(\n",
    "        title=f\"Entropy–Complexity for {folder_path} (Plotly)\\nDim = '{dim}', Hop = '{hop}'\",\n",
    "        xaxis_title=\"Normalized Permutation Entropy\",\n",
    "        yaxis_title=\"Normalized Complexity\",\n",
    "        xaxis=dict(range=[0, 1]),\n",
    "        yaxis=dict(range=[0, 1]),\n",
    "        width=800,\n",
    "        height=600,\n",
    "        template=\"plotly_white\"\n",
    "    )\n",
    "\n",
    "\n",
    "    fig.show()"
   ]
  },
  {
   "cell_type": "code",
   "execution_count": null,
   "metadata": {},
   "outputs": [],
   "source": [
    "def plot_graph_ordpy_centroids(main_folder_path, dim, hop):\n",
    "    centroids = []\n",
    "\n",
    "    # Iterate over all items in the main folder\n",
    "    for item in os.listdir(main_folder_path):\n",
    "        subfolder_path = os.path.join(main_folder_path, item)\n",
    "        if os.path.isdir(subfolder_path):\n",
    "            logger.info(f\"Processing folder: {subfolder_path}\")\n",
    "            try:\n",
    "                # Process the folder and obtain entropy, complexity, and file labels.\n",
    "                all_H, all_comp, file_labels = ordpy_process_folder(subfolder_path, dim, hop)\n",
    "                \n",
    "                # Skip folders with no valid data\n",
    "                if len(all_H) == 0 or len(all_comp) == 0:\n",
    "                    logger.warning(f\"No data found in {subfolder_path}. Skipping.\")\n",
    "                    continue\n",
    "\n",
    "                # Compute centroid (mean entropy and complexity)\n",
    "                centroid_H = np.mean(all_H)\n",
    "                centroid_comp = np.mean(all_comp)\n",
    "\n",
    "                centroids.append({\n",
    "                    \"Folder\": item,  # use subfolder name as identifier\n",
    "                    \"Normalized Permutation Entropy\": centroid_H,\n",
    "                    \"Normalized Complexity\": centroid_comp\n",
    "                })\n",
    "            except Exception as e:\n",
    "                logger.error(f\"Error processing {subfolder_path}: {e}\")\n",
    "                continue\n",
    "\n",
    "    # If no centroids were computed, log an error and exit.\n",
    "    if not centroids:\n",
    "        logger.error(\"No centroids were computed. Please check your data and folder structure.\")\n",
    "        return\n",
    "\n",
    "    # Create a DataFrame from the centroids list\n",
    "    df_centroids = pd.DataFrame(centroids)\n",
    "    logger.info(f\"Centroids DataFrame:\\n{df_centroids}\")\n",
    "\n",
    "    # Retrieve the maximum and minimum complexity–entropy boundaries.\n",
    "    # They are expected to be NumPy arrays with shape (n_points, 2)\n",
    "    max_HC = ordpy.maximum_complexity_entropy(dim, hop)\n",
    "    min_HC = ordpy.minimum_complexity_entropy(dim, hop)\n",
    "\n",
    "    # Create a Plotly figure\n",
    "    fig = go.Figure()\n",
    "\n",
    "    # Add the centroid points.\n",
    "    # If you expect only one centroid per folder, grouping by \"Folder\" is acceptable.\n",
    "    # Each folder will be assigned a unique color.\n",
    "    for folder, df_group in df_centroids.groupby(\"Folder\"):\n",
    "        fig.add_trace(go.Scatter(\n",
    "            x=df_group[\"Normalized Permutation Entropy\"],\n",
    "            y=df_group[\"Normalized Complexity\"],\n",
    "            mode='markers',\n",
    "            marker=dict(size=12, line=dict(width=1, color='black')),\n",
    "            name=folder,\n",
    "            hovertemplate=(\n",
    "                \"<b>Folder:</b> \" + folder + \"<br>\" +\n",
    "                \"<b>Entropy:</b> %{x}<br>\" +\n",
    "                \"<b>Complexity:</b> %{y}<extra></extra>\"\n",
    "            )\n",
    "        ))\n",
    "\n",
    "    # Add the maximum complexity boundary as a red dashed line if available.\n",
    "    if isinstance(max_HC, np.ndarray) and max_HC.ndim == 2 and max_HC.shape[1] == 2:\n",
    "        fig.add_trace(go.Scatter(\n",
    "            x=max_HC[:, 0],\n",
    "            y=max_HC[:, 1],\n",
    "            mode='lines',\n",
    "            line=dict(color='red', dash='dash'),\n",
    "            name='Maximum Complexity Boundary'\n",
    "        ))\n",
    "    else:\n",
    "        logger.warning(\"max_HC is not in the expected numpy array format.\")\n",
    "\n",
    "    # Add the minimum complexity boundary as a green dashed line if available.\n",
    "    if isinstance(min_HC, np.ndarray) and min_HC.ndim == 2 and min_HC.shape[1] == 2:\n",
    "        fig.add_trace(go.Scatter(\n",
    "            x=min_HC[:, 0],\n",
    "            y=min_HC[:, 1],\n",
    "            mode='lines',\n",
    "            line=dict(color='green', dash='dash'),\n",
    "            name='Minimum Complexity Boundary'\n",
    "        ))\n",
    "    else:\n",
    "        logger.warning(\"min_HC is not in the expected numpy array format.\")\n",
    "\n",
    "    # Update layout settings for the figure\n",
    "    fig.update_layout(\n",
    "        title=f\"Centroids of Entropy–Complexity for Folders in '{os.path.basename(main_folder_path)}' (Dim={dim}, Hop={hop})\",\n",
    "        xaxis_title=\"Normalized Permutation Entropy\",\n",
    "        yaxis_title=\"Normalized Complexity\",\n",
    "        xaxis=dict(range=[0, 1]),\n",
    "        yaxis=dict(range=[0, 1]),\n",
    "        template=\"plotly_white\",\n",
    "        width=800,\n",
    "        height=600\n",
    "    )\n",
    "\n",
    "    # Show the Plotly figure\n",
    "    fig.show()\n",
    "\n",
    "\n",
    "    "
   ]
  },
  {
   "cell_type": "code",
   "execution_count": null,
   "metadata": {},
   "outputs": [
    {
     "name": "stderr",
     "output_type": "stream",
     "text": [
      "Processing audio files in data/SinAndNoise with dim 6 and hop 1: 100%|██████████| 18/18 [00:07<00:00,  2.36it/s]\n"
     ]
    },
    {
     "data": {
      "application/vnd.plotly.v1+json": {
       "config": {
        "plotlyServerURL": "https://plot.ly"
       },
       "data": [
        {
         "hovertemplate": "<b>File:</b> %{hovertext}<br><b>Entropy:</b> %{x}<br><b>Complexity:</b> %{y}<extra></extra>",
         "hovertext": [
          "sin_20Hz_-3dBFS_3s.wav",
          "violetnoise.wav",
          "sin_20000Hz_-3dBFS_3s.wav",
          "sin_880Hz_-3dBFS_3s.wav",
          "brownnoise.wav",
          "sin_16000Hz_-3dBFS_3s.wav",
          "bluenoise.wav",
          "sin_2000Hz_-3dBFS_3s.wav",
          "sin_440Hz_-3dBFS_3s.wav",
          "sin_1000Hz_-3dBFS_3s.wav",
          "sin_100Hz_-3dBFS_3s.wav",
          "sin_220Hz_-3dBFS_3s.wav",
          "sin_8000Hz_-3dBFS_3s.wav",
          "sin_1Hz_-3dBFS_3s.wav",
          "sin_10Hz_-3dBFS_3s.wav",
          "whitenoisegaussian.wav",
          "sin_22000Hz_-3dBFS_3s.wav",
          "pinknoise.wav"
         ],
         "marker": {
          "color": "blue",
          "line": {
           "color": "black",
           "width": 1
          },
          "size": 10
         },
         "mode": "markers",
         "name": "Data Points",
         "type": "scatter",
         "x": {
          "bdata": "F3eaPDqqvD8kIoLVV9XuP05Gjkpztts/5in4pWZ8zD8qhpPpvHTrP5tn/6HAkts/erRj48e47z+/sBrjb3TUP+75CQgjIcY/5XJ/LK4Kzj8sylNBjny/P4EY2QXFW8I/IGYab7Sh2z/NDqnOsTTGPxbLrtnM0r0/noncNB//7z+2VTQZaLrMP1/hfGst3+4/",
          "dtype": "f8"
         },
         "y": {
          "bdata": "XNMw+Zk6vD/pwIz7r961P+XXC8qgkdk/GFh/gHPryj9dSob6lrjNPzuWhRErbtk/OuVMjBi6lT/8WpIevxTTPx4ck5NxIsU/ViL6fkhUzD/dKj9WoNe+P9ARhGeQtME/B/SJLVl92T9Wo8rY6RHFP1tgywFWN70/P1615dbLMD/UGTIg69/LP8sqHcdyZbM/",
          "dtype": "f8"
         }
        },
        {
         "line": {
          "color": "red",
          "dash": "dash"
         },
         "mode": "lines",
         "name": "Maximum Complexity Boundary",
         "type": "scatter",
         "x": {
          "bdata": "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",
          "dtype": "f8"
         },
         "y": {
          "bdata": "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",
          "dtype": "f8"
         }
        },
        {
         "line": {
          "color": "green",
          "dash": "dash"
         },
         "mode": "lines",
         "name": "Minimum Complexity Boundary",
         "type": "scatter",
         "x": {
          "bdata": "AAAAAAAAAICaxf+16xqTP+jVhP1KAqI/vUTdi+gLqj/86nM1k+ewP8K3yY7ArrQ/p554aKFguD/uL+sCmwC8PzAUmEQWkb8/OC9Izu+JwT9fJ6LWLUXDP9zCdlXT+sQ/w/gEHFSrxj8NvFFLEFfIP6qV/uFY/sk/NbM6+3Khyz8sJAsvmkDNP7DF0VkC3M4/1TEXfOw50D9Eo50aIwTRP2yQ0d+2zNE/cXTxubeT0j+olffyM1nTP1t01Gg4HdQ/9H3Ou9Df1D86qBR1B6HVP9wYEyfmYNY/6J68iHUf1z8jY7eMvdzXP+DxJ3XFmNg/K+Ku5JNT2T+Dkg/tLg3aP45i3xucxdo/e8qKheB82z/HfO/OADPcP7hzvzUB6Nw/PsHXl+Wb3T86q655sU7eP6iv9gtoAN8/nDCPMAyx3z9Pw2s/UDDgP4fyuqOTh+A/ylnQS1He4D+2U/sdijThPz/0d+E+iuE/Qmx4P3Df4T8RywLEHjTiP6MEpt5KiOI/1I4I4/Tb4j9mYlIJHS/jP3Kyc27DgeM/hzlJFOjT4z/jjp7hiiXkP/qKDqKrduQ/+FfBBUrH5D/zXQehZRflP7HIz+v9ZuU/h+v4QBK25T8VRHjdoQTmP8xKV9+rUuY/IZyBRC+g5j94S2DpKu3mP6RZPYedOec/N09psoWF5z+X1RvY4dDnP/fNBjywG+g/48WR9e5l6D84trHsm6/oP9ubTta0+Og/1pYlMDdB6T+zsRI8IInpP7wOqfps0Ok//L/6JBoX6j81rmolJF3qP6I6Wg+Houo/yCN5lT7n6j+L1W/+RSvrP0CTiReYbus/5ELrJC+x6z99ysLOBPPrP0yqrgoSNOw/q/lgAE907D/z+SzosrPsPzkUuOEz8uw/IStdwMYv7T9YSNjJXmztPxjoW2Ltp+0/YoL0nmHi7T99rZWzpxvuP30tZSyoU+4/3roJ2EaK7j+hR1o3Yb/uPwiMLibM8u4/5bjgL1Ak7z8p/rF0o1PvP1Omz7BegO8/zKz4ROep7z8Ha0uLO8/vP00Cx0hS7u8/AAAAAAAA8D8=",
          "dtype": "f8"
         },
         "y": {
          "bdata": "AAAAAAAAAIDM4Y+YJlKSP3cLBINQtqA/J6zO+G52pz/N5dV3Gp6tP32fvDSTpLE/ZaqxOrdEtD8TBRfs0bW2Pz4In7ex/Lg/GLkl5iMduz9xvMwPQxq9Pxsj/6un9r4/5RS4+ENawD9oIqDe5irBPyRePBgT7sE/wQS/lIakwj+vc/D06k7DPw+0hN/Y7cM/pSqkndqBxD8oUsMvbgvFP5alVvwGi8U/hbZQMA8Bxj8sB9Pi6G3GP/hm9Qjv0cY/xNtVQ3Ytxz+YwtaMzYDHP9+iQtA+zMc/fgROaQ8QyD/crH+UgEzIP5sM0dDPgcg/ni5MNTewyD9iM3+87dfIP0a3R4cn+cg/fpI0GBYUyT+FPYaI6CjJP5yFqrfLN8k/4/HsdepAyT91afiqbUTJPygQr3h8Qsk/y77JWjw7yT/8YqBD0S7JPxf1brZdHck/SXpf3wIHyT/Z8pep4OvIP2cIg9MVzMg/PX2DAcCnyD9qhzzP+37IPyJNlN/kUcg/7m6R65UgyD8B7jDQKOvHP3iHTpu2scc/0wG3l1d0xz8XdnlYIzPHPym7isMw7sY/u1HMG5alxj+AsYYKaVnGP2W5Zai+CcY/itMEhqu2xT/kqBe0Q2DFP1J8O8uaBsU/k9Z888OpxD9Y05zr0UnEPyY2IRDX5sM/ToM6YuWAwz/Sh4uODhjDP9tB3vNjrMI/8cnSqfY9wj9N75WH18zBPxqprioXWcE/kEzz/cXiwD9sFbpA9GnAP14jtxxk3b8/msZDzB7ivj+pCIpnOOK9P53wNrHQ3bw/2BdgawfVuz8HP/Nt/Me6P/0JBcDPtrk/A3bGtKGhuD/EsyUNk4i3P1sKdB/Fa7Y/353hBlpLtT8Cb0vddCe0P1Lq0QI6ALM/PSYjeM/VsT+5+pxSXaiwP9pCy6kc8K4/hmBseCGKrD+oqte3Lh+qP+ZMTGK2r6c/w7ANazs8pT8z3wTgWMWiPzQr8GfNS6A/peLq2R2hmz/cun3T3amWP55cgtvItZE/L6gfV+WWiT8G9z+G6d9/P9Qznsa2+Wo/3KtzhX9C17w=",
          "dtype": "f8"
         }
        }
       ],
       "layout": {
        "height": 600,
        "template": {
         "data": {
          "bar": [
           {
            "error_x": {
             "color": "#2a3f5f"
            },
            "error_y": {
             "color": "#2a3f5f"
            },
            "marker": {
             "line": {
              "color": "white",
              "width": 0.5
             },
             "pattern": {
              "fillmode": "overlay",
              "size": 10,
              "solidity": 0.2
             }
            },
            "type": "bar"
           }
          ],
          "barpolar": [
           {
            "marker": {
             "line": {
              "color": "white",
              "width": 0.5
             },
             "pattern": {
              "fillmode": "overlay",
              "size": 10,
              "solidity": 0.2
             }
            },
            "type": "barpolar"
           }
          ],
          "carpet": [
           {
            "aaxis": {
             "endlinecolor": "#2a3f5f",
             "gridcolor": "#C8D4E3",
             "linecolor": "#C8D4E3",
             "minorgridcolor": "#C8D4E3",
             "startlinecolor": "#2a3f5f"
            },
            "baxis": {
             "endlinecolor": "#2a3f5f",
             "gridcolor": "#C8D4E3",
             "linecolor": "#C8D4E3",
             "minorgridcolor": "#C8D4E3",
             "startlinecolor": "#2a3f5f"
            },
            "type": "carpet"
           }
          ],
          "choropleth": [
           {
            "colorbar": {
             "outlinewidth": 0,
             "ticks": ""
            },
            "type": "choropleth"
           }
          ],
          "contour": [
           {
            "colorbar": {
             "outlinewidth": 0,
             "ticks": ""
            },
            "colorscale": [
             [
              0,
              "#0d0887"
             ],
             [
              0.1111111111111111,
              "#46039f"
             ],
             [
              0.2222222222222222,
              "#7201a8"
             ],
             [
              0.3333333333333333,
              "#9c179e"
             ],
             [
              0.4444444444444444,
              "#bd3786"
             ],
             [
              0.5555555555555556,
              "#d8576b"
             ],
             [
              0.6666666666666666,
              "#ed7953"
             ],
             [
              0.7777777777777778,
              "#fb9f3a"
             ],
             [
              0.8888888888888888,
              "#fdca26"
             ],
             [
              1,
              "#f0f921"
             ]
            ],
            "type": "contour"
           }
          ],
          "contourcarpet": [
           {
            "colorbar": {
             "outlinewidth": 0,
             "ticks": ""
            },
            "type": "contourcarpet"
           }
          ],
          "heatmap": [
           {
            "colorbar": {
             "outlinewidth": 0,
             "ticks": ""
            },
            "colorscale": [
             [
              0,
              "#0d0887"
             ],
             [
              0.1111111111111111,
              "#46039f"
             ],
             [
              0.2222222222222222,
              "#7201a8"
             ],
             [
              0.3333333333333333,
              "#9c179e"
             ],
             [
              0.4444444444444444,
              "#bd3786"
             ],
             [
              0.5555555555555556,
              "#d8576b"
             ],
             [
              0.6666666666666666,
              "#ed7953"
             ],
             [
              0.7777777777777778,
              "#fb9f3a"
             ],
             [
              0.8888888888888888,
              "#fdca26"
             ],
             [
              1,
              "#f0f921"
             ]
            ],
            "type": "heatmap"
           }
          ],
          "histogram": [
           {
            "marker": {
             "pattern": {
              "fillmode": "overlay",
              "size": 10,
              "solidity": 0.2
             }
            },
            "type": "histogram"
           }
          ],
          "histogram2d": [
           {
            "colorbar": {
             "outlinewidth": 0,
             "ticks": ""
            },
            "colorscale": [
             [
              0,
              "#0d0887"
             ],
             [
              0.1111111111111111,
              "#46039f"
             ],
             [
              0.2222222222222222,
              "#7201a8"
             ],
             [
              0.3333333333333333,
              "#9c179e"
             ],
             [
              0.4444444444444444,
              "#bd3786"
             ],
             [
              0.5555555555555556,
              "#d8576b"
             ],
             [
              0.6666666666666666,
              "#ed7953"
             ],
             [
              0.7777777777777778,
              "#fb9f3a"
             ],
             [
              0.8888888888888888,
              "#fdca26"
             ],
             [
              1,
              "#f0f921"
             ]
            ],
            "type": "histogram2d"
           }
          ],
          "histogram2dcontour": [
           {
            "colorbar": {
             "outlinewidth": 0,
             "ticks": ""
            },
            "colorscale": [
             [
              0,
              "#0d0887"
             ],
             [
              0.1111111111111111,
              "#46039f"
             ],
             [
              0.2222222222222222,
              "#7201a8"
             ],
             [
              0.3333333333333333,
              "#9c179e"
             ],
             [
              0.4444444444444444,
              "#bd3786"
             ],
             [
              0.5555555555555556,
              "#d8576b"
             ],
             [
              0.6666666666666666,
              "#ed7953"
             ],
             [
              0.7777777777777778,
              "#fb9f3a"
             ],
             [
              0.8888888888888888,
              "#fdca26"
             ],
             [
              1,
              "#f0f921"
             ]
            ],
            "type": "histogram2dcontour"
           }
          ],
          "mesh3d": [
           {
            "colorbar": {
             "outlinewidth": 0,
             "ticks": ""
            },
            "type": "mesh3d"
           }
          ],
          "parcoords": [
           {
            "line": {
             "colorbar": {
              "outlinewidth": 0,
              "ticks": ""
             }
            },
            "type": "parcoords"
           }
          ],
          "pie": [
           {
            "automargin": true,
            "type": "pie"
           }
          ],
          "scatter": [
           {
            "fillpattern": {
             "fillmode": "overlay",
             "size": 10,
             "solidity": 0.2
            },
            "type": "scatter"
           }
          ],
          "scatter3d": [
           {
            "line": {
             "colorbar": {
              "outlinewidth": 0,
              "ticks": ""
             }
            },
            "marker": {
             "colorbar": {
              "outlinewidth": 0,
              "ticks": ""
             }
            },
            "type": "scatter3d"
           }
          ],
          "scattercarpet": [
           {
            "marker": {
             "colorbar": {
              "outlinewidth": 0,
              "ticks": ""
             }
            },
            "type": "scattercarpet"
           }
          ],
          "scattergeo": [
           {
            "marker": {
             "colorbar": {
              "outlinewidth": 0,
              "ticks": ""
             }
            },
            "type": "scattergeo"
           }
          ],
          "scattergl": [
           {
            "marker": {
             "colorbar": {
              "outlinewidth": 0,
              "ticks": ""
             }
            },
            "type": "scattergl"
           }
          ],
          "scattermap": [
           {
            "marker": {
             "colorbar": {
              "outlinewidth": 0,
              "ticks": ""
             }
            },
            "type": "scattermap"
           }
          ],
          "scattermapbox": [
           {
            "marker": {
             "colorbar": {
              "outlinewidth": 0,
              "ticks": ""
             }
            },
            "type": "scattermapbox"
           }
          ],
          "scatterpolar": [
           {
            "marker": {
             "colorbar": {
              "outlinewidth": 0,
              "ticks": ""
             }
            },
            "type": "scatterpolar"
           }
          ],
          "scatterpolargl": [
           {
            "marker": {
             "colorbar": {
              "outlinewidth": 0,
              "ticks": ""
             }
            },
            "type": "scatterpolargl"
           }
          ],
          "scatterternary": [
           {
            "marker": {
             "colorbar": {
              "outlinewidth": 0,
              "ticks": ""
             }
            },
            "type": "scatterternary"
           }
          ],
          "surface": [
           {
            "colorbar": {
             "outlinewidth": 0,
             "ticks": ""
            },
            "colorscale": [
             [
              0,
              "#0d0887"
             ],
             [
              0.1111111111111111,
              "#46039f"
             ],
             [
              0.2222222222222222,
              "#7201a8"
             ],
             [
              0.3333333333333333,
              "#9c179e"
             ],
             [
              0.4444444444444444,
              "#bd3786"
             ],
             [
              0.5555555555555556,
              "#d8576b"
             ],
             [
              0.6666666666666666,
              "#ed7953"
             ],
             [
              0.7777777777777778,
              "#fb9f3a"
             ],
             [
              0.8888888888888888,
              "#fdca26"
             ],
             [
              1,
              "#f0f921"
             ]
            ],
            "type": "surface"
           }
          ],
          "table": [
           {
            "cells": {
             "fill": {
              "color": "#EBF0F8"
             },
             "line": {
              "color": "white"
             }
            },
            "header": {
             "fill": {
              "color": "#C8D4E3"
             },
             "line": {
              "color": "white"
             }
            },
            "type": "table"
           }
          ]
         },
         "layout": {
          "annotationdefaults": {
           "arrowcolor": "#2a3f5f",
           "arrowhead": 0,
           "arrowwidth": 1
          },
          "autotypenumbers": "strict",
          "coloraxis": {
           "colorbar": {
            "outlinewidth": 0,
            "ticks": ""
           }
          },
          "colorscale": {
           "diverging": [
            [
             0,
             "#8e0152"
            ],
            [
             0.1,
             "#c51b7d"
            ],
            [
             0.2,
             "#de77ae"
            ],
            [
             0.3,
             "#f1b6da"
            ],
            [
             0.4,
             "#fde0ef"
            ],
            [
             0.5,
             "#f7f7f7"
            ],
            [
             0.6,
             "#e6f5d0"
            ],
            [
             0.7,
             "#b8e186"
            ],
            [
             0.8,
             "#7fbc41"
            ],
            [
             0.9,
             "#4d9221"
            ],
            [
             1,
             "#276419"
            ]
           ],
           "sequential": [
            [
             0,
             "#0d0887"
            ],
            [
             0.1111111111111111,
             "#46039f"
            ],
            [
             0.2222222222222222,
             "#7201a8"
            ],
            [
             0.3333333333333333,
             "#9c179e"
            ],
            [
             0.4444444444444444,
             "#bd3786"
            ],
            [
             0.5555555555555556,
             "#d8576b"
            ],
            [
             0.6666666666666666,
             "#ed7953"
            ],
            [
             0.7777777777777778,
             "#fb9f3a"
            ],
            [
             0.8888888888888888,
             "#fdca26"
            ],
            [
             1,
             "#f0f921"
            ]
           ],
           "sequentialminus": [
            [
             0,
             "#0d0887"
            ],
            [
             0.1111111111111111,
             "#46039f"
            ],
            [
             0.2222222222222222,
             "#7201a8"
            ],
            [
             0.3333333333333333,
             "#9c179e"
            ],
            [
             0.4444444444444444,
             "#bd3786"
            ],
            [
             0.5555555555555556,
             "#d8576b"
            ],
            [
             0.6666666666666666,
             "#ed7953"
            ],
            [
             0.7777777777777778,
             "#fb9f3a"
            ],
            [
             0.8888888888888888,
             "#fdca26"
            ],
            [
             1,
             "#f0f921"
            ]
           ]
          },
          "colorway": [
           "#636efa",
           "#EF553B",
           "#00cc96",
           "#ab63fa",
           "#FFA15A",
           "#19d3f3",
           "#FF6692",
           "#B6E880",
           "#FF97FF",
           "#FECB52"
          ],
          "font": {
           "color": "#2a3f5f"
          },
          "geo": {
           "bgcolor": "white",
           "lakecolor": "white",
           "landcolor": "white",
           "showlakes": true,
           "showland": true,
           "subunitcolor": "#C8D4E3"
          },
          "hoverlabel": {
           "align": "left"
          },
          "hovermode": "closest",
          "mapbox": {
           "style": "light"
          },
          "paper_bgcolor": "white",
          "plot_bgcolor": "white",
          "polar": {
           "angularaxis": {
            "gridcolor": "#EBF0F8",
            "linecolor": "#EBF0F8",
            "ticks": ""
           },
           "bgcolor": "white",
           "radialaxis": {
            "gridcolor": "#EBF0F8",
            "linecolor": "#EBF0F8",
            "ticks": ""
           }
          },
          "scene": {
           "xaxis": {
            "backgroundcolor": "white",
            "gridcolor": "#DFE8F3",
            "gridwidth": 2,
            "linecolor": "#EBF0F8",
            "showbackground": true,
            "ticks": "",
            "zerolinecolor": "#EBF0F8"
           },
           "yaxis": {
            "backgroundcolor": "white",
            "gridcolor": "#DFE8F3",
            "gridwidth": 2,
            "linecolor": "#EBF0F8",
            "showbackground": true,
            "ticks": "",
            "zerolinecolor": "#EBF0F8"
           },
           "zaxis": {
            "backgroundcolor": "white",
            "gridcolor": "#DFE8F3",
            "gridwidth": 2,
            "linecolor": "#EBF0F8",
            "showbackground": true,
            "ticks": "",
            "zerolinecolor": "#EBF0F8"
           }
          },
          "shapedefaults": {
           "line": {
            "color": "#2a3f5f"
           }
          },
          "ternary": {
           "aaxis": {
            "gridcolor": "#DFE8F3",
            "linecolor": "#A2B1C6",
            "ticks": ""
           },
           "baxis": {
            "gridcolor": "#DFE8F3",
            "linecolor": "#A2B1C6",
            "ticks": ""
           },
           "bgcolor": "white",
           "caxis": {
            "gridcolor": "#DFE8F3",
            "linecolor": "#A2B1C6",
            "ticks": ""
           }
          },
          "title": {
           "x": 0.05
          },
          "xaxis": {
           "automargin": true,
           "gridcolor": "#EBF0F8",
           "linecolor": "#EBF0F8",
           "ticks": "",
           "title": {
            "standoff": 15
           },
           "zerolinecolor": "#EBF0F8",
           "zerolinewidth": 2
          },
          "yaxis": {
           "automargin": true,
           "gridcolor": "#EBF0F8",
           "linecolor": "#EBF0F8",
           "ticks": "",
           "title": {
            "standoff": 15
           },
           "zerolinecolor": "#EBF0F8",
           "zerolinewidth": 2
          }
         }
        },
        "title": {
         "text": "Entropy–Complexity for data/SinAndNoise (Plotly)\nDim = '6', Hop = '5'"
        },
        "width": 800,
        "xaxis": {
         "range": [
          0,
          1
         ],
         "title": {
          "text": "Normalized Permutation Entropy"
         }
        },
        "yaxis": {
         "range": [
          0,
          1
         ],
         "title": {
          "text": "Normalized Complexity"
         }
        }
       }
      }
     },
     "metadata": {},
     "output_type": "display_data"
    }
   ],
   "source": [
    "folder_path = \"data/SinAndNoise\"\n",
    "dim = 6\n",
    "hop = 1\n",
    "plot_graph_ordpy(folder_path, dim, hop)"
   ]
  },
  {
   "cell_type": "code",
   "execution_count": null,
   "metadata": {},
   "outputs": [
    {
     "name": "stderr",
     "output_type": "stream",
     "text": [
      "Processing audio files in data/testforfolders/blues with dim 6 and hop 1: 100%|██████████| 100/100 [02:14<00:00,  1.35s/it]\n",
      "Processing audio files in data/testforfolders/classical with dim 6 and hop 1: 100%|██████████| 100/100 [02:16<00:00,  1.36s/it]\n"
     ]
    },
    {
     "data": {
      "application/vnd.plotly.v1+json": {
       "config": {
        "plotlyServerURL": "https://plot.ly"
       },
       "data": [
        {
         "hovertemplate": "<b>Folder:</b> blues<br><b>Entropy:</b> %{x}<br><b>Complexity:</b> %{y}<extra></extra>",
         "marker": {
          "line": {
           "color": "black",
           "width": 1
          },
          "size": 12
         },
         "mode": "markers",
         "name": "blues",
         "type": "scatter",
         "x": {
          "bdata": "dLAz5JAh5j8=",
          "dtype": "f8"
         },
         "y": {
          "bdata": "TEibu3hf1T8=",
          "dtype": "f8"
         }
        },
        {
         "hovertemplate": "<b>Folder:</b> classical<br><b>Entropy:</b> %{x}<br><b>Complexity:</b> %{y}<extra></extra>",
         "marker": {
          "line": {
           "color": "black",
           "width": 1
          },
          "size": 12
         },
         "mode": "markers",
         "name": "classical",
         "type": "scatter",
         "x": {
          "bdata": "WtQM79Nb4T8=",
          "dtype": "f8"
         },
         "y": {
          "bdata": "AKtLVC731j8=",
          "dtype": "f8"
         }
        },
        {
         "line": {
          "color": "red",
          "dash": "dash"
         },
         "mode": "lines",
         "name": "Maximum Complexity Boundary",
         "type": "scatter",
         "x": {
          "bdata": "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",
          "dtype": "f8"
         },
         "y": {
          "bdata": "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",
          "dtype": "f8"
         }
        },
        {
         "line": {
          "color": "green",
          "dash": "dash"
         },
         "mode": "lines",
         "name": "Minimum Complexity Boundary",
         "type": "scatter",
         "x": {
          "bdata": "AAAAAAAAAICaxf+16xqTP+jVhP1KAqI/vUTdi+gLqj/86nM1k+ewP8K3yY7ArrQ/p554aKFguD/uL+sCmwC8PzAUmEQWkb8/OC9Izu+JwT9fJ6LWLUXDP9zCdlXT+sQ/w/gEHFSrxj8NvFFLEFfIP6qV/uFY/sk/NbM6+3Khyz8sJAsvmkDNP7DF0VkC3M4/1TEXfOw50D9Eo50aIwTRP2yQ0d+2zNE/cXTxubeT0j+olffyM1nTP1t01Gg4HdQ/9H3Ou9Df1D86qBR1B6HVP9wYEyfmYNY/6J68iHUf1z8jY7eMvdzXP+DxJ3XFmNg/K+Ku5JNT2T+Dkg/tLg3aP45i3xucxdo/e8qKheB82z/HfO/OADPcP7hzvzUB6Nw/PsHXl+Wb3T86q655sU7eP6iv9gtoAN8/nDCPMAyx3z9Pw2s/UDDgP4fyuqOTh+A/ylnQS1He4D+2U/sdijThPz/0d+E+iuE/Qmx4P3Df4T8RywLEHjTiP6MEpt5KiOI/1I4I4/Tb4j9mYlIJHS/jP3Kyc27DgeM/hzlJFOjT4z/jjp7hiiXkP/qKDqKrduQ/+FfBBUrH5D/zXQehZRflP7HIz+v9ZuU/h+v4QBK25T8VRHjdoQTmP8xKV9+rUuY/IZyBRC+g5j94S2DpKu3mP6RZPYedOec/N09psoWF5z+X1RvY4dDnP/fNBjywG+g/48WR9e5l6D84trHsm6/oP9ubTta0+Og/1pYlMDdB6T+zsRI8IInpP7wOqfps0Ok//L/6JBoX6j81rmolJF3qP6I6Wg+Houo/yCN5lT7n6j+L1W/+RSvrP0CTiReYbus/5ELrJC+x6z99ysLOBPPrP0yqrgoSNOw/q/lgAE907D/z+SzosrPsPzkUuOEz8uw/IStdwMYv7T9YSNjJXmztPxjoW2Ltp+0/YoL0nmHi7T99rZWzpxvuP30tZSyoU+4/3roJ2EaK7j+hR1o3Yb/uPwiMLibM8u4/5bjgL1Ak7z8p/rF0o1PvP1Omz7BegO8/zKz4ROep7z8Ha0uLO8/vP00Cx0hS7u8/AAAAAAAA8D8=",
          "dtype": "f8"
         },
         "y": {
          "bdata": "AAAAAAAAAIDM4Y+YJlKSP3cLBINQtqA/J6zO+G52pz/N5dV3Gp6tP32fvDSTpLE/ZaqxOrdEtD8TBRfs0bW2Pz4In7ex/Lg/GLkl5iMduz9xvMwPQxq9Pxsj/6un9r4/5RS4+ENawD9oIqDe5irBPyRePBgT7sE/wQS/lIakwj+vc/D06k7DPw+0hN/Y7cM/pSqkndqBxD8oUsMvbgvFP5alVvwGi8U/hbZQMA8Bxj8sB9Pi6G3GP/hm9Qjv0cY/xNtVQ3Ytxz+YwtaMzYDHP9+iQtA+zMc/fgROaQ8QyD/crH+UgEzIP5sM0dDPgcg/ni5MNTewyD9iM3+87dfIP0a3R4cn+cg/fpI0GBYUyT+FPYaI6CjJP5yFqrfLN8k/4/HsdepAyT91afiqbUTJPygQr3h8Qsk/y77JWjw7yT/8YqBD0S7JPxf1brZdHck/SXpf3wIHyT/Z8pep4OvIP2cIg9MVzMg/PX2DAcCnyD9qhzzP+37IPyJNlN/kUcg/7m6R65UgyD8B7jDQKOvHP3iHTpu2scc/0wG3l1d0xz8XdnlYIzPHPym7isMw7sY/u1HMG5alxj+AsYYKaVnGP2W5Zai+CcY/itMEhqu2xT/kqBe0Q2DFP1J8O8uaBsU/k9Z888OpxD9Y05zr0UnEPyY2IRDX5sM/ToM6YuWAwz/Sh4uODhjDP9tB3vNjrMI/8cnSqfY9wj9N75WH18zBPxqprioXWcE/kEzz/cXiwD9sFbpA9GnAP14jtxxk3b8/msZDzB7ivj+pCIpnOOK9P53wNrHQ3bw/2BdgawfVuz8HP/Nt/Me6P/0JBcDPtrk/A3bGtKGhuD/EsyUNk4i3P1sKdB/Fa7Y/353hBlpLtT8Cb0vddCe0P1Lq0QI6ALM/PSYjeM/VsT+5+pxSXaiwP9pCy6kc8K4/hmBseCGKrD+oqte3Lh+qP+ZMTGK2r6c/w7ANazs8pT8z3wTgWMWiPzQr8GfNS6A/peLq2R2hmz/cun3T3amWP55cgtvItZE/L6gfV+WWiT8G9z+G6d9/P9Qznsa2+Wo/3KtzhX9C17w=",
          "dtype": "f8"
         }
        }
       ],
       "layout": {
        "height": 600,
        "template": {
         "data": {
          "bar": [
           {
            "error_x": {
             "color": "#2a3f5f"
            },
            "error_y": {
             "color": "#2a3f5f"
            },
            "marker": {
             "line": {
              "color": "white",
              "width": 0.5
             },
             "pattern": {
              "fillmode": "overlay",
              "size": 10,
              "solidity": 0.2
             }
            },
            "type": "bar"
           }
          ],
          "barpolar": [
           {
            "marker": {
             "line": {
              "color": "white",
              "width": 0.5
             },
             "pattern": {
              "fillmode": "overlay",
              "size": 10,
              "solidity": 0.2
             }
            },
            "type": "barpolar"
           }
          ],
          "carpet": [
           {
            "aaxis": {
             "endlinecolor": "#2a3f5f",
             "gridcolor": "#C8D4E3",
             "linecolor": "#C8D4E3",
             "minorgridcolor": "#C8D4E3",
             "startlinecolor": "#2a3f5f"
            },
            "baxis": {
             "endlinecolor": "#2a3f5f",
             "gridcolor": "#C8D4E3",
             "linecolor": "#C8D4E3",
             "minorgridcolor": "#C8D4E3",
             "startlinecolor": "#2a3f5f"
            },
            "type": "carpet"
           }
          ],
          "choropleth": [
           {
            "colorbar": {
             "outlinewidth": 0,
             "ticks": ""
            },
            "type": "choropleth"
           }
          ],
          "contour": [
           {
            "colorbar": {
             "outlinewidth": 0,
             "ticks": ""
            },
            "colorscale": [
             [
              0,
              "#0d0887"
             ],
             [
              0.1111111111111111,
              "#46039f"
             ],
             [
              0.2222222222222222,
              "#7201a8"
             ],
             [
              0.3333333333333333,
              "#9c179e"
             ],
             [
              0.4444444444444444,
              "#bd3786"
             ],
             [
              0.5555555555555556,
              "#d8576b"
             ],
             [
              0.6666666666666666,
              "#ed7953"
             ],
             [
              0.7777777777777778,
              "#fb9f3a"
             ],
             [
              0.8888888888888888,
              "#fdca26"
             ],
             [
              1,
              "#f0f921"
             ]
            ],
            "type": "contour"
           }
          ],
          "contourcarpet": [
           {
            "colorbar": {
             "outlinewidth": 0,
             "ticks": ""
            },
            "type": "contourcarpet"
           }
          ],
          "heatmap": [
           {
            "colorbar": {
             "outlinewidth": 0,
             "ticks": ""
            },
            "colorscale": [
             [
              0,
              "#0d0887"
             ],
             [
              0.1111111111111111,
              "#46039f"
             ],
             [
              0.2222222222222222,
              "#7201a8"
             ],
             [
              0.3333333333333333,
              "#9c179e"
             ],
             [
              0.4444444444444444,
              "#bd3786"
             ],
             [
              0.5555555555555556,
              "#d8576b"
             ],
             [
              0.6666666666666666,
              "#ed7953"
             ],
             [
              0.7777777777777778,
              "#fb9f3a"
             ],
             [
              0.8888888888888888,
              "#fdca26"
             ],
             [
              1,
              "#f0f921"
             ]
            ],
            "type": "heatmap"
           }
          ],
          "histogram": [
           {
            "marker": {
             "pattern": {
              "fillmode": "overlay",
              "size": 10,
              "solidity": 0.2
             }
            },
            "type": "histogram"
           }
          ],
          "histogram2d": [
           {
            "colorbar": {
             "outlinewidth": 0,
             "ticks": ""
            },
            "colorscale": [
             [
              0,
              "#0d0887"
             ],
             [
              0.1111111111111111,
              "#46039f"
             ],
             [
              0.2222222222222222,
              "#7201a8"
             ],
             [
              0.3333333333333333,
              "#9c179e"
             ],
             [
              0.4444444444444444,
              "#bd3786"
             ],
             [
              0.5555555555555556,
              "#d8576b"
             ],
             [
              0.6666666666666666,
              "#ed7953"
             ],
             [
              0.7777777777777778,
              "#fb9f3a"
             ],
             [
              0.8888888888888888,
              "#fdca26"
             ],
             [
              1,
              "#f0f921"
             ]
            ],
            "type": "histogram2d"
           }
          ],
          "histogram2dcontour": [
           {
            "colorbar": {
             "outlinewidth": 0,
             "ticks": ""
            },
            "colorscale": [
             [
              0,
              "#0d0887"
             ],
             [
              0.1111111111111111,
              "#46039f"
             ],
             [
              0.2222222222222222,
              "#7201a8"
             ],
             [
              0.3333333333333333,
              "#9c179e"
             ],
             [
              0.4444444444444444,
              "#bd3786"
             ],
             [
              0.5555555555555556,
              "#d8576b"
             ],
             [
              0.6666666666666666,
              "#ed7953"
             ],
             [
              0.7777777777777778,
              "#fb9f3a"
             ],
             [
              0.8888888888888888,
              "#fdca26"
             ],
             [
              1,
              "#f0f921"
             ]
            ],
            "type": "histogram2dcontour"
           }
          ],
          "mesh3d": [
           {
            "colorbar": {
             "outlinewidth": 0,
             "ticks": ""
            },
            "type": "mesh3d"
           }
          ],
          "parcoords": [
           {
            "line": {
             "colorbar": {
              "outlinewidth": 0,
              "ticks": ""
             }
            },
            "type": "parcoords"
           }
          ],
          "pie": [
           {
            "automargin": true,
            "type": "pie"
           }
          ],
          "scatter": [
           {
            "fillpattern": {
             "fillmode": "overlay",
             "size": 10,
             "solidity": 0.2
            },
            "type": "scatter"
           }
          ],
          "scatter3d": [
           {
            "line": {
             "colorbar": {
              "outlinewidth": 0,
              "ticks": ""
             }
            },
            "marker": {
             "colorbar": {
              "outlinewidth": 0,
              "ticks": ""
             }
            },
            "type": "scatter3d"
           }
          ],
          "scattercarpet": [
           {
            "marker": {
             "colorbar": {
              "outlinewidth": 0,
              "ticks": ""
             }
            },
            "type": "scattercarpet"
           }
          ],
          "scattergeo": [
           {
            "marker": {
             "colorbar": {
              "outlinewidth": 0,
              "ticks": ""
             }
            },
            "type": "scattergeo"
           }
          ],
          "scattergl": [
           {
            "marker": {
             "colorbar": {
              "outlinewidth": 0,
              "ticks": ""
             }
            },
            "type": "scattergl"
           }
          ],
          "scattermap": [
           {
            "marker": {
             "colorbar": {
              "outlinewidth": 0,
              "ticks": ""
             }
            },
            "type": "scattermap"
           }
          ],
          "scattermapbox": [
           {
            "marker": {
             "colorbar": {
              "outlinewidth": 0,
              "ticks": ""
             }
            },
            "type": "scattermapbox"
           }
          ],
          "scatterpolar": [
           {
            "marker": {
             "colorbar": {
              "outlinewidth": 0,
              "ticks": ""
             }
            },
            "type": "scatterpolar"
           }
          ],
          "scatterpolargl": [
           {
            "marker": {
             "colorbar": {
              "outlinewidth": 0,
              "ticks": ""
             }
            },
            "type": "scatterpolargl"
           }
          ],
          "scatterternary": [
           {
            "marker": {
             "colorbar": {
              "outlinewidth": 0,
              "ticks": ""
             }
            },
            "type": "scatterternary"
           }
          ],
          "surface": [
           {
            "colorbar": {
             "outlinewidth": 0,
             "ticks": ""
            },
            "colorscale": [
             [
              0,
              "#0d0887"
             ],
             [
              0.1111111111111111,
              "#46039f"
             ],
             [
              0.2222222222222222,
              "#7201a8"
             ],
             [
              0.3333333333333333,
              "#9c179e"
             ],
             [
              0.4444444444444444,
              "#bd3786"
             ],
             [
              0.5555555555555556,
              "#d8576b"
             ],
             [
              0.6666666666666666,
              "#ed7953"
             ],
             [
              0.7777777777777778,
              "#fb9f3a"
             ],
             [
              0.8888888888888888,
              "#fdca26"
             ],
             [
              1,
              "#f0f921"
             ]
            ],
            "type": "surface"
           }
          ],
          "table": [
           {
            "cells": {
             "fill": {
              "color": "#EBF0F8"
             },
             "line": {
              "color": "white"
             }
            },
            "header": {
             "fill": {
              "color": "#C8D4E3"
             },
             "line": {
              "color": "white"
             }
            },
            "type": "table"
           }
          ]
         },
         "layout": {
          "annotationdefaults": {
           "arrowcolor": "#2a3f5f",
           "arrowhead": 0,
           "arrowwidth": 1
          },
          "autotypenumbers": "strict",
          "coloraxis": {
           "colorbar": {
            "outlinewidth": 0,
            "ticks": ""
           }
          },
          "colorscale": {
           "diverging": [
            [
             0,
             "#8e0152"
            ],
            [
             0.1,
             "#c51b7d"
            ],
            [
             0.2,
             "#de77ae"
            ],
            [
             0.3,
             "#f1b6da"
            ],
            [
             0.4,
             "#fde0ef"
            ],
            [
             0.5,
             "#f7f7f7"
            ],
            [
             0.6,
             "#e6f5d0"
            ],
            [
             0.7,
             "#b8e186"
            ],
            [
             0.8,
             "#7fbc41"
            ],
            [
             0.9,
             "#4d9221"
            ],
            [
             1,
             "#276419"
            ]
           ],
           "sequential": [
            [
             0,
             "#0d0887"
            ],
            [
             0.1111111111111111,
             "#46039f"
            ],
            [
             0.2222222222222222,
             "#7201a8"
            ],
            [
             0.3333333333333333,
             "#9c179e"
            ],
            [
             0.4444444444444444,
             "#bd3786"
            ],
            [
             0.5555555555555556,
             "#d8576b"
            ],
            [
             0.6666666666666666,
             "#ed7953"
            ],
            [
             0.7777777777777778,
             "#fb9f3a"
            ],
            [
             0.8888888888888888,
             "#fdca26"
            ],
            [
             1,
             "#f0f921"
            ]
           ],
           "sequentialminus": [
            [
             0,
             "#0d0887"
            ],
            [
             0.1111111111111111,
             "#46039f"
            ],
            [
             0.2222222222222222,
             "#7201a8"
            ],
            [
             0.3333333333333333,
             "#9c179e"
            ],
            [
             0.4444444444444444,
             "#bd3786"
            ],
            [
             0.5555555555555556,
             "#d8576b"
            ],
            [
             0.6666666666666666,
             "#ed7953"
            ],
            [
             0.7777777777777778,
             "#fb9f3a"
            ],
            [
             0.8888888888888888,
             "#fdca26"
            ],
            [
             1,
             "#f0f921"
            ]
           ]
          },
          "colorway": [
           "#636efa",
           "#EF553B",
           "#00cc96",
           "#ab63fa",
           "#FFA15A",
           "#19d3f3",
           "#FF6692",
           "#B6E880",
           "#FF97FF",
           "#FECB52"
          ],
          "font": {
           "color": "#2a3f5f"
          },
          "geo": {
           "bgcolor": "white",
           "lakecolor": "white",
           "landcolor": "white",
           "showlakes": true,
           "showland": true,
           "subunitcolor": "#C8D4E3"
          },
          "hoverlabel": {
           "align": "left"
          },
          "hovermode": "closest",
          "mapbox": {
           "style": "light"
          },
          "paper_bgcolor": "white",
          "plot_bgcolor": "white",
          "polar": {
           "angularaxis": {
            "gridcolor": "#EBF0F8",
            "linecolor": "#EBF0F8",
            "ticks": ""
           },
           "bgcolor": "white",
           "radialaxis": {
            "gridcolor": "#EBF0F8",
            "linecolor": "#EBF0F8",
            "ticks": ""
           }
          },
          "scene": {
           "xaxis": {
            "backgroundcolor": "white",
            "gridcolor": "#DFE8F3",
            "gridwidth": 2,
            "linecolor": "#EBF0F8",
            "showbackground": true,
            "ticks": "",
            "zerolinecolor": "#EBF0F8"
           },
           "yaxis": {
            "backgroundcolor": "white",
            "gridcolor": "#DFE8F3",
            "gridwidth": 2,
            "linecolor": "#EBF0F8",
            "showbackground": true,
            "ticks": "",
            "zerolinecolor": "#EBF0F8"
           },
           "zaxis": {
            "backgroundcolor": "white",
            "gridcolor": "#DFE8F3",
            "gridwidth": 2,
            "linecolor": "#EBF0F8",
            "showbackground": true,
            "ticks": "",
            "zerolinecolor": "#EBF0F8"
           }
          },
          "shapedefaults": {
           "line": {
            "color": "#2a3f5f"
           }
          },
          "ternary": {
           "aaxis": {
            "gridcolor": "#DFE8F3",
            "linecolor": "#A2B1C6",
            "ticks": ""
           },
           "baxis": {
            "gridcolor": "#DFE8F3",
            "linecolor": "#A2B1C6",
            "ticks": ""
           },
           "bgcolor": "white",
           "caxis": {
            "gridcolor": "#DFE8F3",
            "linecolor": "#A2B1C6",
            "ticks": ""
           }
          },
          "title": {
           "x": 0.05
          },
          "xaxis": {
           "automargin": true,
           "gridcolor": "#EBF0F8",
           "linecolor": "#EBF0F8",
           "ticks": "",
           "title": {
            "standoff": 15
           },
           "zerolinecolor": "#EBF0F8",
           "zerolinewidth": 2
          },
          "yaxis": {
           "automargin": true,
           "gridcolor": "#EBF0F8",
           "linecolor": "#EBF0F8",
           "ticks": "",
           "title": {
            "standoff": 15
           },
           "zerolinecolor": "#EBF0F8",
           "zerolinewidth": 2
          }
         }
        },
        "title": {
         "text": "Centroids of Entropy–Complexity for Folders in 'testforfolders' (Dim=6, Hop=1)"
        },
        "width": 800,
        "xaxis": {
         "range": [
          0,
          1
         ],
         "title": {
          "text": "Normalized Permutation Entropy"
         }
        },
        "yaxis": {
         "range": [
          0,
          1
         ],
         "title": {
          "text": "Normalized Complexity"
         }
        }
       }
      }
     },
     "metadata": {},
     "output_type": "display_data"
    }
   ],
   "source": [
    "folder_path = \"data/testforfolders\"\n",
    "dim = 6\n",
    "hop = 1\n",
    "plot_graph_ordpy_centroids(folder_path, dim, hop)"
   ]
  }
 ],
 "metadata": {
  "kernelspec": {
   "display_name": "venv",
   "language": "python",
   "name": "python3"
  },
  "language_info": {
   "codemirror_mode": {
    "name": "ipython",
    "version": 3
   },
   "file_extension": ".py",
   "mimetype": "text/x-python",
   "name": "python",
   "nbconvert_exporter": "python",
   "pygments_lexer": "ipython3",
   "version": "3.11.4"
  }
 },
 "nbformat": 4,
 "nbformat_minor": 2
}
